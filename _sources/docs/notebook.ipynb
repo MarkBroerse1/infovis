{
 "cells": [
  {
   "cell_type": "markdown",
   "id": "bd380a2c",
   "metadata": {},
   "source": [
    "## Introduction:\n",
    "\n",
    "In the ever-evolving landscape of world demographics it is paramount to be aware of trends and factors that influence the way humans experience and live their lives. Factors such as life expectancy, education and the source of happiness for different people in different countries determines the way people pursue happines and impact their environment around them.\n",
    "\n",
    "HDI gives us a fairly objective look into the quality of life within a country, thus we can use this measure to compare key indicators of quality of life and plot them with the happiness felt within a country, we can also fraw conclusions as to what aspects of life would create happiness for citizens of a country.\n",
    "\n",
    "One of our perspectives is that the richer a country and population is, the higher their education, the longer their lifespan and the happier a population will be. We will look for relations between a country's GNI and and their general quality of life indices.\n",
    "\n",
    "A different and somewhat opposing perspective on our data is that a population wealth does not strictly correlate to their happiness, especially above a certain treshold of wealth. To this end we will try to look between correlations between countries with similiar geographic and cultural settings but different economic outlooks.\n",
    "\n",
    "This is the story of that data and the conclusions we can draw from the graphics."
   ]
  },
  {
   "cell_type": "markdown",
   "id": "24d84afb",
   "metadata": {},
   "source": [
    "---\n",
    "## DATASET AND PREPROCESSING"
   ]
  },
  {
   "cell_type": "code",
   "execution_count": 134,
   "id": "7e955a81",
   "metadata": {},
   "outputs": [
    {
     "name": "stdout",
     "output_type": "stream",
     "text": [
      "Defaulting to user installation because normal site-packages is not writeable\n",
      "Requirement already satisfied: numpy in /usr/lib/python3/dist-packages (1.21.5)\n",
      "Defaulting to user installation because normal site-packages is not writeable\n",
      "Requirement already satisfied: plotly in /home/joep/.local/lib/python3.10/site-packages (5.15.0)\n",
      "Requirement already satisfied: packaging in /usr/lib/python3/dist-packages (from plotly) (21.3)\n",
      "Requirement already satisfied: tenacity>=6.2.0 in /home/joep/.local/lib/python3.10/site-packages (from plotly) (8.2.2)\n",
      "Defaulting to user installation because normal site-packages is not writeable\n",
      "Requirement already satisfied: pandas in /home/joep/.local/lib/python3.10/site-packages (2.0.2)\n",
      "Requirement already satisfied: pytz>=2020.1 in /usr/lib/python3/dist-packages (from pandas) (2022.1)\n",
      "Requirement already satisfied: python-dateutil>=2.8.2 in /home/joep/.local/lib/python3.10/site-packages (from pandas) (2.8.2)\n",
      "Requirement already satisfied: numpy>=1.21.0 in /usr/lib/python3/dist-packages (from pandas) (1.21.5)\n",
      "Requirement already satisfied: tzdata>=2022.1 in /home/joep/.local/lib/python3.10/site-packages (from pandas) (2023.3)\n",
      "Requirement already satisfied: six>=1.5 in /usr/lib/python3/dist-packages (from python-dateutil>=2.8.2->pandas) (1.16.0)\n",
      "Defaulting to user installation because normal site-packages is not writeable\n",
      "Requirement already satisfied: matplotlib in /usr/lib/python3/dist-packages (3.5.1)\n",
      "Defaulting to user installation because normal site-packages is not writeable\n",
      "Requirement already satisfied: seaborn in /home/joep/.local/lib/python3.10/site-packages (0.12.2)\n",
      "Requirement already satisfied: numpy!=1.24.0,>=1.17 in /usr/lib/python3/dist-packages (from seaborn) (1.21.5)\n",
      "Requirement already satisfied: pandas>=0.25 in /home/joep/.local/lib/python3.10/site-packages (from seaborn) (2.0.2)\n",
      "Requirement already satisfied: matplotlib!=3.6.1,>=3.1 in /usr/lib/python3/dist-packages (from seaborn) (3.5.1)\n",
      "Requirement already satisfied: pytz>=2020.1 in /usr/lib/python3/dist-packages (from pandas>=0.25->seaborn) (2022.1)\n",
      "Requirement already satisfied: python-dateutil>=2.8.2 in /home/joep/.local/lib/python3.10/site-packages (from pandas>=0.25->seaborn) (2.8.2)\n",
      "Requirement already satisfied: tzdata>=2022.1 in /home/joep/.local/lib/python3.10/site-packages (from pandas>=0.25->seaborn) (2023.3)\n",
      "Requirement already satisfied: six>=1.5 in /usr/lib/python3/dist-packages (from python-dateutil>=2.8.2->pandas>=0.25->seaborn) (1.16.0)\n",
      "Defaulting to user installation because normal site-packages is not writeable\n",
      "Requirement already satisfied: seaborn in /home/joep/.local/lib/python3.10/site-packages (0.12.2)\n",
      "Requirement already satisfied: numpy!=1.24.0,>=1.17 in /usr/lib/python3/dist-packages (from seaborn) (1.21.5)\n",
      "Requirement already satisfied: pandas>=0.25 in /home/joep/.local/lib/python3.10/site-packages (from seaborn) (2.0.2)\n",
      "Requirement already satisfied: matplotlib!=3.6.1,>=3.1 in /usr/lib/python3/dist-packages (from seaborn) (3.5.1)\n",
      "Requirement already satisfied: python-dateutil>=2.8.2 in /home/joep/.local/lib/python3.10/site-packages (from pandas>=0.25->seaborn) (2.8.2)\n",
      "Requirement already satisfied: tzdata>=2022.1 in /home/joep/.local/lib/python3.10/site-packages (from pandas>=0.25->seaborn) (2023.3)\n",
      "Requirement already satisfied: pytz>=2020.1 in /usr/lib/python3/dist-packages (from pandas>=0.25->seaborn) (2022.1)\n",
      "Requirement already satisfied: six>=1.5 in /usr/lib/python3/dist-packages (from python-dateutil>=2.8.2->pandas>=0.25->seaborn) (1.16.0)\n",
      "Defaulting to user installation because normal site-packages is not writeable\n",
      "\u001b[31mERROR: Could not find a version that satisfies the requirement csv (from versions: none)\u001b[0m\u001b[31m\n",
      "\u001b[0m\u001b[31mERROR: No matching distribution found for csv\u001b[0m\u001b[31m\n",
      "\u001b[0mDefaulting to user installation because normal site-packages is not writeable\n",
      "Collecting statsmodels\n",
      "  Using cached statsmodels-0.14.0-cp310-cp310-manylinux_2_17_x86_64.manylinux2014_x86_64.whl (10.1 MB)\n",
      "Requirement already satisfied: numpy>=1.18 in /usr/lib/python3/dist-packages (from statsmodels) (1.21.5)\n",
      "Collecting patsy>=0.5.2\n",
      "  Using cached patsy-0.5.3-py2.py3-none-any.whl (233 kB)\n",
      "Requirement already satisfied: packaging>=21.3 in /usr/lib/python3/dist-packages (from statsmodels) (21.3)\n",
      "Requirement already satisfied: pandas>=1.0 in /home/joep/.local/lib/python3.10/site-packages (from statsmodels) (2.0.2)\n",
      "Requirement already satisfied: scipy!=1.9.2,>=1.4 in /usr/lib/python3/dist-packages (from statsmodels) (1.8.0)\n",
      "Requirement already satisfied: python-dateutil>=2.8.2 in /home/joep/.local/lib/python3.10/site-packages (from pandas>=1.0->statsmodels) (2.8.2)\n",
      "Requirement already satisfied: pytz>=2020.1 in /usr/lib/python3/dist-packages (from pandas>=1.0->statsmodels) (2022.1)\n",
      "Requirement already satisfied: tzdata>=2022.1 in /home/joep/.local/lib/python3.10/site-packages (from pandas>=1.0->statsmodels) (2023.3)\n",
      "Requirement already satisfied: six in /usr/lib/python3/dist-packages (from patsy>=0.5.2->statsmodels) (1.16.0)\n",
      "Installing collected packages: patsy, statsmodels\n",
      "Successfully installed patsy-0.5.3 statsmodels-0.14.0\n"
     ]
    }
   ],
   "source": [
    "\n",
    "import pandas as pd\n",
    "import csv\n",
    "import matplotlib.patches as mpatches\n",
    "import matplotlib.pyplot as plt\n",
    "import plotly.express as px\n",
    "import seaborn as sns\n",
    "from plotly.subplots import make_subplots\n",
    "from collections import defaultdict\n",
    "import plotly.graph_objects as go\n",
    "\n",
    "\n",
    "\n",
    "\n",
    "!pip install numpy\n",
    "!pip install plotly\n",
    "!pip install pandas\n",
    "!pip install matplotlib\n",
    "!pip install -U seaborn\n",
    "!pip install seaborn\n",
    "!pip install csv\n",
    "!pip install statsmodels"
   ]
  },
  {
   "cell_type": "markdown",
   "id": "23eeff1c",
   "metadata": {},
   "source": [
    "###"
   ]
  },
  {
   "cell_type": "code",
   "execution_count": 135,
   "id": "c8aafdef",
   "metadata": {},
   "outputs": [
    {
     "name": "stdout",
     "output_type": "stream",
     "text": [
      "    Country  Year  Life_expectancy_at_birth  Expected_years_of_schooling  \\\n",
      "0  Zimbabwe  2018                    61.200                        10.45   \n",
      "1  Zimbabwe  2017                    60.812                        10.30   \n",
      "2  Zimbabwe  2016                    60.294                        10.30   \n",
      "3  Zimbabwe  2015                    59.534                        10.30   \n",
      "4    Zambia  2018                    63.510                        12.06   \n",
      "\n",
      "   Average_of_years_of_schooling  GNI_per_capita_PPP  life_expectancy_index  \\\n",
      "0                           8.34             2661.07                   0.63   \n",
      "1                           8.20             2860.00                   0.63   \n",
      "2                           8.20             2570.00                   0.62   \n",
      "3                           8.20             2410.00                   0.61   \n",
      "4                           7.10             3581.89                   0.67   \n",
      "\n",
      "   Education_Index  GNI_Index  HDI_1  ...  gdp_per_capita    family    health  \\\n",
      "0             0.58       0.50   0.56  ...        0.357000  0.000000  0.248000   \n",
      "1             0.57       0.51   0.55  ...        0.366000  0.000000  0.433000   \n",
      "2             0.57       0.49   0.55  ...        0.271000  1.032760  0.334750   \n",
      "3             0.57       0.48   0.54  ...        0.375847  1.083096  0.196764   \n",
      "4             0.60       0.54   0.59  ...        0.562000  0.000000  0.295000   \n",
      "\n",
      "    freedom  generosity  government_trust  dystopia_residual  continent  \\\n",
      "0  0.406000    0.132000          0.099000            0.00000     Africa   \n",
      "1  0.361000    0.151000          0.089000            0.00000     Africa   \n",
      "2  0.258610    0.189870          0.080790            2.44191     Africa   \n",
      "3  0.336384    0.189143          0.095375            1.59797     Africa   \n",
      "4  0.503000    0.221000          0.082000            0.00000     Africa   \n",
      "\n",
      "   social_support  cpi_score  \n",
      "0           1.094         22  \n",
      "1           1.114         22  \n",
      "2           0.000         22  \n",
      "3           0.000         21  \n",
      "4           1.047         35  \n",
      "\n",
      "[5 rows x 23 columns]\n"
     ]
    }
   ],
   "source": [
    "df = pd.read_csv('full_data.csv')\n",
    "data = df\n",
    "\n",
    "print(df.head(n=5)) # Print the first 5 rows of the dataframe\n",
    "\n",
    "\n",
    "df_1 = pd.read_csv('full_data.csv')\n",
    "\n",
    "# selects the columns to get the mean\n",
    "columns_to_mean = ['Education_Index', 'government_trust', 'cpi_score', 'gdp_per_capita', 'freedom', 'happiness_score', 'health']\n",
    "\n",
    "df_mean = df_1.groupby('Country')[columns_to_mean].mean()\n",
    "\n",
    "# Reset the index to convert 'country' from the index to a regular column\n",
    "df_mean.reset_index(inplace=True)\n",
    "df_mean = df_mean.round(4)\n",
    "\n",
    "df_mean = pd.merge(df_mean, df_1[['Country', 'continent']], on='Country')\n",
    "\n",
    "# Display the mean DataFrame\n",
    "# print(df_mean)\n",
    "\n",
    "df_mean.to_csv('mean_data.csv', index=False)\n"
   ]
  },
  {
   "cell_type": "markdown",
   "id": "90dc1288",
   "metadata": {},
   "source": [
    "For this project two datasets are used to form one dataset that contains the variables of both using the datapoints they share. The first dataset used can be found on https://www.kaggle.com/datasets/unsdsn/world-happiness, this dataset contains information on some scales aimed to measure the happiness of countries in the world. This dataset contains information of countries from 2015 to 2019. The variables in this dataset are Country, which just marks down the countries in the dataset, Year, which just notes the year where the data was measured. The relevant variables are:\n",
    "\n",
    "- happiness_score, which measures the happiness scores of each country obtained from the Gallup World Poll.\n",
    "- gdp_per_capita, which describes to what extent GDP per capita contributes to a country's happiness.\n",
    "- family, which describes to what extent family factors contribute to a country's happiness.\n",
    "- health, which describes to what extent health factors contribute to a country's happiness. \n",
    "- freedom, which describes to what extent freedom factors contribute to a country's happiness.\n",
    "- generosity, which describes to what extent generosity contributes to a country's happiness.\n",
    "- government_trust, which describes to what extent trust in the government contributes to a country's happiness.\n",
    "- dystopia_residual, which describes the unknown factors of a hypothetical 'worst' country (we will not use this  data, because it is not relevant for our purposes).\n",
    "- social_support, which describes to what extent social support contributes to a country's happiness.\n",
    "- cpi_scores, which measures the perceived corruption of a country."
   ]
  },
  {
   "cell_type": "markdown",
   "id": "25701c01",
   "metadata": {},
   "source": [
    "The second dataset can be found on #link moet hier nog#. This dataset was originally published in Portuguese, so it had to be translated before it could be used. This dataset contains data on most countries of the world from 1990 to 2018. Apart from Country and year this dataset contains the following variables:\n",
    "\n",
    "- Life expectancy at birth, which measures how old people from a certain country are expected to become when born.\n",
    "- Expected years of schooling, which measures the expected duration of schooling people from a certain counrty will get.\n",
    "- Average years of schooling, which measures the average years of schooling of people from that country at that time.\n",
    "- GNI per capita (PPP), which measures the Gross National income adjusted for purchasing power of a country.\n",
    "- Life expectancy index, this is a normalized verison of life expectancy to make it easier to compare the life expectancies of countries.\n",
    "- Education index, this is used to measure the quality of education compared to other countries.\n",
    "- GNI index, this measures the GNI per capita compared to other countries.\n",
    "- HDI, this is the Human development index, which is a measure to assess the develpmont of a country."
   ]
  },
  {
   "cell_type": "markdown",
   "id": "ebc6d232",
   "metadata": {},
   "source": [
    "These two datasets were then combined to create the final dataset. This dataset contains all variables of both datasets for the years 2015 to 2018, as these were the 4 years that both datasets had in common. This dataset could then be used to make data visualizations to help visualizing both perspectives of the story."
   ]
  },
  {
   "cell_type": "markdown",
   "id": "46c74267",
   "metadata": {},
   "source": [
    "---\n",
    "ANALYSIS OF THE DATA"
   ]
  },
  {
   "cell_type": "code",
   "execution_count": 136,
   "id": "860e429d",
   "metadata": {},
   "outputs": [
    {
     "data": {
      "application/vnd.plotly.v1+json": {
       "config": {
        "plotlyServerURL": "https://plot.ly"
       },
       "data": [
        {
         "customdata": [
          [
           "Afghanistan"
          ],
          [
           "Afghanistan"
          ],
          [
           "Afghanistan"
          ],
          [
           "Afghanistan"
          ],
          [
           "Armenia"
          ],
          [
           "Armenia"
          ],
          [
           "Armenia"
          ],
          [
           "Armenia"
          ],
          [
           "Azerbaijan"
          ],
          [
           "Azerbaijan"
          ],
          [
           "Azerbaijan"
          ],
          [
           "Azerbaijan"
          ],
          [
           "Bahrain"
          ],
          [
           "Bahrain"
          ],
          [
           "Bahrain"
          ],
          [
           "Bahrain"
          ],
          [
           "Bangladesh"
          ],
          [
           "Bangladesh"
          ],
          [
           "Bangladesh"
          ],
          [
           "Bangladesh"
          ],
          [
           "Cambodia"
          ],
          [
           "Cambodia"
          ],
          [
           "Cambodia"
          ],
          [
           "Cambodia"
          ],
          [
           "China"
          ],
          [
           "China"
          ],
          [
           "China"
          ],
          [
           "China"
          ],
          [
           "China"
          ],
          [
           "China"
          ],
          [
           "China"
          ],
          [
           "China"
          ],
          [
           "Cyprus"
          ],
          [
           "Cyprus"
          ],
          [
           "Cyprus"
          ],
          [
           "Cyprus"
          ],
          [
           "Georgia"
          ],
          [
           "Georgia"
          ],
          [
           "Georgia"
          ],
          [
           "Georgia"
          ],
          [
           "India"
          ],
          [
           "India"
          ],
          [
           "India"
          ],
          [
           "India"
          ],
          [
           "Indonesia"
          ],
          [
           "Indonesia"
          ],
          [
           "Indonesia"
          ],
          [
           "Indonesia"
          ],
          [
           "Iran"
          ],
          [
           "Iran"
          ],
          [
           "Iran"
          ],
          [
           "Iran"
          ],
          [
           "Iraq"
          ],
          [
           "Iraq"
          ],
          [
           "Iraq"
          ],
          [
           "Iraq"
          ],
          [
           "Israel"
          ],
          [
           "Israel"
          ],
          [
           "Israel"
          ],
          [
           "Israel"
          ],
          [
           "Japan"
          ],
          [
           "Japan"
          ],
          [
           "Japan"
          ],
          [
           "Japan"
          ],
          [
           "Jordan"
          ],
          [
           "Jordan"
          ],
          [
           "Jordan"
          ],
          [
           "Jordan"
          ],
          [
           "Kazakhstan"
          ],
          [
           "Kazakhstan"
          ],
          [
           "Kazakhstan"
          ],
          [
           "Kazakhstan"
          ],
          [
           "Kuwait"
          ],
          [
           "Kuwait"
          ],
          [
           "Kuwait"
          ],
          [
           "Kuwait"
          ],
          [
           "Kyrgyzstan"
          ],
          [
           "Kyrgyzstan"
          ],
          [
           "Kyrgyzstan"
          ],
          [
           "Kyrgyzstan"
          ],
          [
           "Lebanon"
          ],
          [
           "Lebanon"
          ],
          [
           "Lebanon"
          ],
          [
           "Lebanon"
          ],
          [
           "Malaysia"
          ],
          [
           "Malaysia"
          ],
          [
           "Malaysia"
          ],
          [
           "Malaysia"
          ],
          [
           "Mongolia"
          ],
          [
           "Mongolia"
          ],
          [
           "Mongolia"
          ],
          [
           "Mongolia"
          ],
          [
           "Myanmar"
          ],
          [
           "Myanmar"
          ],
          [
           "Myanmar"
          ],
          [
           "Myanmar"
          ],
          [
           "Nepal"
          ],
          [
           "Nepal"
          ],
          [
           "Nepal"
          ],
          [
           "Nepal"
          ],
          [
           "Pakistan"
          ],
          [
           "Pakistan"
          ],
          [
           "Pakistan"
          ],
          [
           "Pakistan"
          ],
          [
           "Philippines"
          ],
          [
           "Philippines"
          ],
          [
           "Philippines"
          ],
          [
           "Philippines"
          ],
          [
           "Saudi Arabia"
          ],
          [
           "Saudi Arabia"
          ],
          [
           "Saudi Arabia"
          ],
          [
           "Saudi Arabia"
          ],
          [
           "Singapore"
          ],
          [
           "Singapore"
          ],
          [
           "Singapore"
          ],
          [
           "Singapore"
          ],
          [
           "Sri Lanka"
          ],
          [
           "Sri Lanka"
          ],
          [
           "Sri Lanka"
          ],
          [
           "Sri Lanka"
          ],
          [
           "Tajikistan"
          ],
          [
           "Tajikistan"
          ],
          [
           "Tajikistan"
          ],
          [
           "Tajikistan"
          ],
          [
           "Thailand"
          ],
          [
           "Thailand"
          ],
          [
           "Thailand"
          ],
          [
           "Thailand"
          ],
          [
           "Turkey"
          ],
          [
           "Turkey"
          ],
          [
           "Turkey"
          ],
          [
           "Turkey"
          ],
          [
           "Turkmenistan"
          ],
          [
           "Turkmenistan"
          ],
          [
           "Turkmenistan"
          ],
          [
           "Turkmenistan"
          ],
          [
           "United Arab Emirates"
          ],
          [
           "United Arab Emirates"
          ],
          [
           "United Arab Emirates"
          ],
          [
           "United Arab Emirates"
          ],
          [
           "Uzbekistan"
          ],
          [
           "Uzbekistan"
          ],
          [
           "Uzbekistan"
          ],
          [
           "Uzbekistan"
          ],
          [
           "Vietnam"
          ],
          [
           "Vietnam"
          ],
          [
           "Vietnam"
          ],
          [
           "Vietnam"
          ],
          [
           "Yemen"
          ],
          [
           "Yemen"
          ],
          [
           "Yemen"
          ],
          [
           "Yemen"
          ]
         ],
         "hovertemplate": "continent=Asia<br>Education_Index=%{x}<br>government_trust=%{y}<br>cpi_score=%{z}<br>gdp_per_capita=%{marker.size}<br>Country=%{customdata[0]}<extra></extra>",
         "legendgroup": "Asia",
         "marker": {
          "color": "#636efa",
          "opacity": 0.5,
          "size": [
           0.3508,
           0.3508,
           0.3508,
           0.3508,
           0.8337,
           0.8337,
           0.8337,
           0.8337,
           1.0611,
           1.0611,
           1.0611,
           1.0611,
           1.378,
           1.378,
           1.378,
           1.378,
           0.5196,
           0.5196,
           0.5196,
           0.5196,
           0.5463,
           0.5463,
           0.5463,
           0.5463,
           0.9973,
           0.9973,
           0.9973,
           0.9973,
           0.9973,
           0.9973,
           0.9973,
           0.9973,
           1.264,
           1.264,
           1.264,
           1.264,
           0.8579,
           0.8579,
           0.8579,
           0.8579,
           0.7283,
           0.7283,
           0.7283,
           0.7283,
           0.9135,
           0.9135,
           0.9135,
           0.9135,
           1.0812,
           1.0812,
           1.0812,
           1.0812,
           1.0353,
           1.0353,
           1.0353,
           1.0353,
           1.2952,
           1.2952,
           1.2952,
           1.2952,
           1.3272,
           1.3272,
           1.3272,
           1.3272,
           0.888,
           0.888,
           0.888,
           0.888,
           1.1808,
           1.1808,
           1.1808,
           1.1808,
           1.5403,
           1.5403,
           1.5403,
           1.5403,
           0.5379,
           0.5379,
           0.5379,
           0.5379,
           1.0132,
           1.0132,
           1.0132,
           1.0132,
           1.1995,
           1.1995,
           1.1995,
           1.1995,
           0.9294,
           0.9294,
           0.9294,
           0.9294,
           0.5075,
           0.5075,
           0.5075,
           0.5075,
           0.4277,
           0.4277,
           0.4277,
           0.4277,
           0.6628,
           0.6628,
           0.6628,
           0.6628,
           0.7863,
           0.7863,
           0.7863,
           0.7863,
           1.427,
           1.427,
           1.427,
           1.427,
           1.5788,
           1.5788,
           1.5788,
           1.5788,
           0.928,
           0.928,
           0.928,
           0.928,
           0.4705,
           0.4705,
           0.4705,
           0.4705,
           1.0402,
           1.0402,
           1.0402,
           1.0402,
           1.1476,
           1.1476,
           1.1476,
           1.1476,
           1.0393,
           1.0393,
           1.0393,
           1.0393,
           1.6632,
           1.6632,
           1.6632,
           1.6632,
           0.7207,
           0.7207,
           0.7207,
           0.7207,
           0.7192,
           0.7192,
           0.7192,
           0.7192,
           0.4668,
           0.4668,
           0.4668,
           0.4668
          ],
          "sizemode": "area",
          "sizeref": 0.0008213333333333333,
          "symbol": "circle"
         },
         "mode": "markers",
         "name": "Asia",
         "scene": "scene",
         "showlegend": true,
         "type": "scatter3d",
         "x": [
          0.45,
          0.45,
          0.45,
          0.45,
          0.7625,
          0.7625,
          0.7625,
          0.7625,
          0.715,
          0.715,
          0.715,
          0.715,
          0.775,
          0.775,
          0.775,
          0.775,
          0.53,
          0.53,
          0.53,
          0.53,
          0.5175,
          0.5175,
          0.5175,
          0.5175,
          0.7025,
          0.7025,
          0.7025,
          0.7025,
          0.7025,
          0.7025,
          0.7025,
          0.7025,
          0.82,
          0.82,
          0.82,
          0.82,
          0.8575,
          0.8575,
          0.8575,
          0.8575,
          0.5875,
          0.5875,
          0.5875,
          0.5875,
          0.6475,
          0.6475,
          0.6475,
          0.6475,
          0.77,
          0.77,
          0.77,
          0.77,
          0.5425,
          0.5425,
          0.5425,
          0.5425,
          0.89,
          0.89,
          0.89,
          0.89,
          0.8575,
          0.8575,
          0.8575,
          0.8575,
          0.7175,
          0.7175,
          0.7175,
          0.7175,
          0.8325,
          0.8325,
          0.8325,
          0.8325,
          0.655,
          0.655,
          0.655,
          0.655,
          0.7475,
          0.7475,
          0.7475,
          0.7475,
          0.6475,
          0.6475,
          0.6475,
          0.6475,
          0.735,
          0.735,
          0.735,
          0.735,
          0.785,
          0.785,
          0.785,
          0.785,
          0.4725,
          0.4725,
          0.4725,
          0.4725,
          0.54,
          0.54,
          0.54,
          0.54,
          0.4275,
          0.4275,
          0.4275,
          0.4275,
          0.6825,
          0.6825,
          0.6825,
          0.6825,
          0.83,
          0.83,
          0.83,
          0.83,
          0.86,
          0.86,
          0.86,
          0.86,
          0.77,
          0.77,
          0.77,
          0.77,
          0.67,
          0.67,
          0.67,
          0.67,
          0.69,
          0.69,
          0.69,
          0.69,
          0.735,
          0.735,
          0.735,
          0.735,
          0.6325,
          0.6325,
          0.6325,
          0.6325,
          0.7525,
          0.7525,
          0.7525,
          0.7525,
          0.715,
          0.715,
          0.715,
          0.715,
          0.65,
          0.65,
          0.65,
          0.65,
          0.38,
          0.38,
          0.38,
          0.38
         ],
         "y": [
          0.0548,
          0.0548,
          0.0548,
          0.0548,
          0.0394,
          0.0394,
          0.0394,
          0.0394,
          0.1749,
          0.1749,
          0.1749,
          0.1749,
          0.199,
          0.199,
          0.199,
          0.199,
          0.1341,
          0.1341,
          0.1341,
          0.1341,
          0.0669,
          0.0669,
          0.0669,
          0.0669,
          0.0634,
          0.0634,
          0.0634,
          0.0634,
          0.0634,
          0.0634,
          0.0634,
          0.0634,
          0.0447,
          0.0447,
          0.0447,
          0.0447,
          0.2535,
          0.2535,
          0.2535,
          0.2535,
          0.0888,
          0.0888,
          0.0888,
          0.0888,
          0.0153,
          0.0153,
          0.0153,
          0.0153,
          0.0903,
          0.0903,
          0.0903,
          0.0903,
          0.1073,
          0.1073,
          0.1073,
          0.1073,
          0.1293,
          0.1293,
          0.1293,
          0.1293,
          0.1586,
          0.1586,
          0.1586,
          0.1586,
          0.1317,
          0.1317,
          0.1317,
          0.1317,
          0.1052,
          0.1052,
          0.1052,
          0.1052,
          0.1686,
          0.1686,
          0.1686,
          0.1686,
          0.0349,
          0.0349,
          0.0349,
          0.0349,
          0.0616,
          0.0616,
          0.0616,
          0.0616,
          0.0634,
          0.0634,
          0.0634,
          0.0634,
          0.0324,
          0.0324,
          0.0324,
          0.0324,
          0.1823,
          0.1823,
          0.1823,
          0.1823,
          0.0748,
          0.0748,
          0.0748,
          0.0748,
          0.11,
          0.11,
          0.11,
          0.11,
          0.1085,
          0.1085,
          0.1085,
          0.1085,
          0.2144,
          0.2144,
          0.2144,
          0.2144,
          0.4666,
          0.4666,
          0.4666,
          0.4666,
          0.0656,
          0.0656,
          0.0656,
          0.0656,
          0.1188,
          0.1188,
          0.1188,
          0.1188,
          0.0301,
          0.0301,
          0.0301,
          0.0301,
          0.118,
          0.118,
          0.118,
          0.118,
          0.1582,
          0.1582,
          0.1582,
          0.1582,
          0.3011,
          0.3011,
          0.3011,
          0.3011,
          0.2634,
          0.2634,
          0.2634,
          0.2634,
          0.086,
          0.086,
          0.086,
          0.086,
          0.0691,
          0.0691,
          0.0691,
          0.0691
         ],
         "z": [
          14.25,
          14.25,
          14.25,
          14.25,
          34.5,
          34.5,
          34.5,
          34.5,
          28.75,
          28.75,
          28.75,
          28.75,
          41.5,
          41.5,
          41.5,
          41.5,
          26.25,
          26.25,
          26.25,
          26.25,
          20.75,
          20.75,
          20.75,
          20.75,
          39.25,
          39.25,
          39.25,
          39.25,
          39.25,
          39.25,
          39.25,
          39.25,
          58,
          58,
          58,
          58,
          55.75,
          55.75,
          55.75,
          55.75,
          39.75,
          39.75,
          39.75,
          39.75,
          37,
          37,
          37,
          37,
          28.5,
          28.5,
          28.5,
          28.5,
          17.25,
          17.25,
          17.25,
          17.25,
          62,
          62,
          62,
          62,
          73.25,
          73.25,
          73.25,
          73.25,
          49.5,
          49.5,
          49.5,
          49.5,
          29.75,
          29.75,
          29.75,
          29.75,
          42.5,
          42.5,
          42.5,
          42.5,
          28.5,
          28.5,
          28.5,
          28.5,
          28,
          28,
          28,
          28,
          48.25,
          48.25,
          48.25,
          48.25,
          37.5,
          37.5,
          37.5,
          37.5,
          27.25,
          27.25,
          27.25,
          27.25,
          29.5,
          29.5,
          29.5,
          29.5,
          31.75,
          31.75,
          31.75,
          31.75,
          35,
          35,
          35,
          35,
          49,
          49,
          49,
          49,
          84.5,
          84.5,
          84.5,
          84.5,
          37.25,
          37.25,
          37.25,
          37.25,
          24.25,
          24.25,
          24.25,
          24.25,
          36.5,
          36.5,
          36.5,
          36.5,
          41,
          41,
          41,
          41,
          19.75,
          19.75,
          19.75,
          19.75,
          69.25,
          69.25,
          69.25,
          69.25,
          21.25,
          21.25,
          21.25,
          21.25,
          33,
          33,
          33,
          33,
          15.5,
          15.5,
          15.5,
          15.5
         ]
        },
        {
         "customdata": [
          [
           "Albania"
          ],
          [
           "Albania"
          ],
          [
           "Albania"
          ],
          [
           "Albania"
          ],
          [
           "Austria"
          ],
          [
           "Austria"
          ],
          [
           "Austria"
          ],
          [
           "Austria"
          ],
          [
           "Belarus"
          ],
          [
           "Belarus"
          ],
          [
           "Belarus"
          ],
          [
           "Belarus"
          ],
          [
           "Belgium"
          ],
          [
           "Belgium"
          ],
          [
           "Belgium"
          ],
          [
           "Belgium"
          ],
          [
           "Bosnia and Herzegovina"
          ],
          [
           "Bosnia and Herzegovina"
          ],
          [
           "Bosnia and Herzegovina"
          ],
          [
           "Bosnia and Herzegovina"
          ],
          [
           "Bulgaria"
          ],
          [
           "Bulgaria"
          ],
          [
           "Bulgaria"
          ],
          [
           "Bulgaria"
          ],
          [
           "Croatia"
          ],
          [
           "Croatia"
          ],
          [
           "Croatia"
          ],
          [
           "Croatia"
          ],
          [
           "Denmark"
          ],
          [
           "Denmark"
          ],
          [
           "Denmark"
          ],
          [
           "Denmark"
          ],
          [
           "Estonia"
          ],
          [
           "Estonia"
          ],
          [
           "Estonia"
          ],
          [
           "Estonia"
          ],
          [
           "Finland"
          ],
          [
           "Finland"
          ],
          [
           "Finland"
          ],
          [
           "Finland"
          ],
          [
           "France"
          ],
          [
           "France"
          ],
          [
           "France"
          ],
          [
           "France"
          ],
          [
           "Germany"
          ],
          [
           "Germany"
          ],
          [
           "Germany"
          ],
          [
           "Germany"
          ],
          [
           "Greece"
          ],
          [
           "Greece"
          ],
          [
           "Greece"
          ],
          [
           "Greece"
          ],
          [
           "Hungary"
          ],
          [
           "Hungary"
          ],
          [
           "Hungary"
          ],
          [
           "Hungary"
          ],
          [
           "Iceland"
          ],
          [
           "Iceland"
          ],
          [
           "Iceland"
          ],
          [
           "Iceland"
          ],
          [
           "Ireland"
          ],
          [
           "Ireland"
          ],
          [
           "Ireland"
          ],
          [
           "Ireland"
          ],
          [
           "Italy"
          ],
          [
           "Italy"
          ],
          [
           "Italy"
          ],
          [
           "Italy"
          ],
          [
           "Latvia"
          ],
          [
           "Latvia"
          ],
          [
           "Latvia"
          ],
          [
           "Latvia"
          ],
          [
           "Lithuania"
          ],
          [
           "Lithuania"
          ],
          [
           "Lithuania"
          ],
          [
           "Lithuania"
          ],
          [
           "Luxembourg"
          ],
          [
           "Luxembourg"
          ],
          [
           "Luxembourg"
          ],
          [
           "Luxembourg"
          ],
          [
           "Malta"
          ],
          [
           "Malta"
          ],
          [
           "Malta"
          ],
          [
           "Malta"
          ],
          [
           "Moldova"
          ],
          [
           "Moldova"
          ],
          [
           "Moldova"
          ],
          [
           "Moldova"
          ],
          [
           "Montenegro"
          ],
          [
           "Montenegro"
          ],
          [
           "Montenegro"
          ],
          [
           "Montenegro"
          ],
          [
           "Netherlands"
          ],
          [
           "Netherlands"
          ],
          [
           "Netherlands"
          ],
          [
           "Netherlands"
          ],
          [
           "Norway"
          ],
          [
           "Norway"
          ],
          [
           "Norway"
          ],
          [
           "Norway"
          ],
          [
           "Poland"
          ],
          [
           "Poland"
          ],
          [
           "Poland"
          ],
          [
           "Poland"
          ],
          [
           "Portugal"
          ],
          [
           "Portugal"
          ],
          [
           "Portugal"
          ],
          [
           "Portugal"
          ],
          [
           "Romania"
          ],
          [
           "Romania"
          ],
          [
           "Romania"
          ],
          [
           "Romania"
          ],
          [
           "Russia"
          ],
          [
           "Russia"
          ],
          [
           "Russia"
          ],
          [
           "Russia"
          ],
          [
           "Serbia"
          ],
          [
           "Serbia"
          ],
          [
           "Serbia"
          ],
          [
           "Serbia"
          ],
          [
           "Slovakia"
          ],
          [
           "Slovakia"
          ],
          [
           "Slovakia"
          ],
          [
           "Slovakia"
          ],
          [
           "Slovenia"
          ],
          [
           "Slovenia"
          ],
          [
           "Slovenia"
          ],
          [
           "Slovenia"
          ],
          [
           "Spain"
          ],
          [
           "Spain"
          ],
          [
           "Spain"
          ],
          [
           "Spain"
          ],
          [
           "Sweden"
          ],
          [
           "Sweden"
          ],
          [
           "Sweden"
          ],
          [
           "Sweden"
          ],
          [
           "Switzerland"
          ],
          [
           "Switzerland"
          ],
          [
           "Switzerland"
          ],
          [
           "Switzerland"
          ],
          [
           "Ukraine"
          ],
          [
           "Ukraine"
          ],
          [
           "Ukraine"
          ],
          [
           "Ukraine"
          ],
          [
           "United Kingdom"
          ],
          [
           "United Kingdom"
          ],
          [
           "United Kingdom"
          ],
          [
           "United Kingdom"
          ]
         ],
         "hovertemplate": "continent=Europe<br>Education_Index=%{x}<br>government_trust=%{y}<br>cpi_score=%{z}<br>gdp_per_capita=%{marker.size}<br>Country=%{customdata[0]}<extra></extra>",
         "legendgroup": "Europe",
         "marker": {
          "color": "#EF553B",
          "opacity": 0.5,
          "size": [
           0.9345,
           0.9345,
           0.9345,
           0.9345,
           1.3853,
           1.3853,
           1.3853,
           1.3853,
           1.0736,
           1.0736,
           1.0736,
           1.0736,
           1.3629,
           1.3629,
           1.3629,
           1.3629,
           0.9187,
           0.9187,
           0.9187,
           0.9187,
           1.0799,
           1.0799,
           1.0799,
           1.0799,
           1.1438,
           1.1438,
           1.1438,
           1.1438,
           1.3855,
           1.3855,
           1.3855,
           1.3855,
           1.2274,
           1.2274,
           1.2274,
           1.2274,
           1.3447,
           1.3447,
           1.3447,
           1.3447,
           1.3314,
           1.3314,
           1.3314,
           1.3314,
           1.3822,
           1.3822,
           1.3822,
           1.3822,
           1.1946,
           1.1946,
           1.1946,
           1.1946,
           1.1947,
           1.1947,
           1.1947,
           1.1947,
           1.3765,
           1.3765,
           1.3765,
           1.3765,
           1.4547,
           1.4547,
           1.4547,
           1.4547,
           1.3011,
           1.3011,
           1.3011,
           1.3011,
           1.1772,
           1.1772,
           1.1772,
           1.1772,
           1.2242,
           1.2242,
           1.2242,
           1.2242,
           1.6227,
           1.6227,
           1.6227,
           1.6227,
           1.2802,
           1.2802,
           1.2802,
           1.2802,
           0.6663,
           0.6663,
           0.6663,
           0.6663,
           1.0409,
           1.0409,
           1.0409,
           1.0409,
           1.3976,
           1.3976,
           1.3976,
           1.3976,
           1.5049,
           1.5049,
           1.5049,
           1.5049,
           1.1998,
           1.1998,
           1.1998,
           1.1998,
           1.221,
           1.221,
           1.221,
           1.221,
           1.1348,
           1.1348,
           1.1348,
           1.1348,
           1.1884,
           1.1884,
           1.1884,
           1.1884,
           0.9922,
           0.9922,
           0.9922,
           0.9922,
           1.2376,
           1.2376,
           1.2376,
           1.2376,
           1.2508,
           1.2508,
           1.2508,
           1.2508,
           1.2879,
           1.2879,
           1.2879,
           1.2879,
           1.392,
           1.392,
           1.392,
           1.392,
           1.4584,
           1.4584,
           1.4584,
           1.4584,
           0.8267,
           0.8267,
           0.8267,
           0.8267,
           1.3213,
           1.3213,
           1.3213,
           1.3213
          ],
          "sizemode": "area",
          "sizeref": 0.0008213333333333333,
          "symbol": "circle"
         },
         "mode": "markers",
         "name": "Europe",
         "scene": "scene",
         "showlegend": true,
         "type": "scatter3d",
         "x": [
          0.7725,
          0.7725,
          0.7725,
          0.7725,
          0.875,
          0.875,
          0.875,
          0.875,
          0.8575,
          0.8575,
          0.8575,
          0.8575,
          0.9875,
          0.9875,
          0.9875,
          0.9875,
          0.7325,
          0.7325,
          0.7325,
          0.7325,
          0.8225,
          0.8225,
          0.8225,
          0.8225,
          0.8125,
          0.8125,
          0.8125,
          0.8125,
          0.99,
          0.99,
          0.99,
          0.99,
          0.8925,
          0.8925,
          0.8925,
          0.8925,
          0.945,
          0.945,
          0.945,
          0.945,
          0.86,
          0.86,
          0.86,
          0.86,
          0.96,
          0.96,
          0.96,
          0.96,
          0.875,
          0.875,
          0.875,
          0.875,
          0.83,
          0.83,
          0.83,
          0.83,
          0.9875,
          0.9875,
          0.9875,
          0.9875,
          0.9925,
          0.9925,
          0.9925,
          0.9925,
          0.83,
          0.83,
          0.83,
          0.83,
          0.8825,
          0.8825,
          0.8825,
          0.8825,
          0.9025,
          0.9025,
          0.9025,
          0.9025,
          0.8025,
          0.8025,
          0.8025,
          0.8025,
          0.8375,
          0.8375,
          0.8375,
          0.8375,
          0.71,
          0.71,
          0.71,
          0.71,
          0.8125,
          0.8125,
          0.8125,
          0.8125,
          0.94,
          0.94,
          0.94,
          0.94,
          0.9475,
          0.9475,
          0.9475,
          0.9475,
          0.885,
          0.885,
          0.885,
          0.885,
          0.8,
          0.8,
          0.8,
          0.8,
          0.7825,
          0.7825,
          0.7825,
          0.7825,
          0.85,
          0.85,
          0.85,
          0.85,
          0.7975,
          0.7975,
          0.7975,
          0.7975,
          0.845,
          0.845,
          0.845,
          0.845,
          0.915,
          0.915,
          0.915,
          0.915,
          0.8675,
          0.8675,
          0.8675,
          0.8675,
          0.94,
          0.94,
          0.94,
          0.94,
          0.91,
          0.91,
          0.91,
          0.91,
          0.8125,
          0.8125,
          0.8125,
          0.8125,
          0.94,
          0.94,
          0.94,
          0.94
         ],
         "y": [
          0.0407,
          0.0407,
          0.0407,
          0.0407,
          0.2145,
          0.2145,
          0.2145,
          0.2145,
          0.1608,
          0.1608,
          0.1608,
          0.1608,
          0.2317,
          0.2317,
          0.2317,
          0.2317,
          0.0021,
          0.0021,
          0.0021,
          0.0021,
          0.0082,
          0.0082,
          0.0082,
          0.0082,
          0.0321,
          0.0321,
          0.0321,
          0.0321,
          0.4256,
          0.4256,
          0.4256,
          0.4256,
          0.1675,
          0.1675,
          0.1675,
          0.1675,
          0.3956,
          0.3956,
          0.3956,
          0.3956,
          0.1845,
          0.1845,
          0.1845,
          0.1845,
          0.26,
          0.26,
          0.26,
          0.26,
          0.0338,
          0.0338,
          0.0338,
          0.0338,
          0.0266,
          0.0266,
          0.0266,
          0.0266,
          0.1377,
          0.1377,
          0.1377,
          0.1377,
          0.3004,
          0.3004,
          0.3004,
          0.3004,
          0.0288,
          0.0288,
          0.0288,
          0.0288,
          0.0668,
          0.0668,
          0.0668,
          0.0668,
          0.0175,
          0.0175,
          0.0175,
          0.0175,
          0.3335,
          0.3335,
          0.3335,
          0.3335,
          0.1455,
          0.1455,
          0.1455,
          0.1455,
          0.0066,
          0.0066,
          0.0066,
          0.0066,
          0.098,
          0.098,
          0.098,
          0.098,
          0.2985,
          0.2985,
          0.2985,
          0.2985,
          0.3405,
          0.3405,
          0.3405,
          0.3405,
          0.0539,
          0.0539,
          0.0539,
          0.0539,
          0.0172,
          0.0172,
          0.0172,
          0.0172,
          0.0042,
          0.0042,
          0.0042,
          0.0042,
          0.0298,
          0.0298,
          0.0298,
          0.0298,
          0.0373,
          0.0373,
          0.0373,
          0.0373,
          0.0216,
          0.0216,
          0.0216,
          0.0216,
          0.0477,
          0.0477,
          0.0477,
          0.0477,
          0.072,
          0.072,
          0.072,
          0.072,
          0.3947,
          0.3947,
          0.3947,
          0.3947,
          0.3717,
          0.3717,
          0.3717,
          0.3717,
          0.0184,
          0.0184,
          0.0184,
          0.0184,
          0.2365,
          0.2365,
          0.2365,
          0.2365
         ],
         "z": [
          37.25,
          37.25,
          37.25,
          37.25,
          75.5,
          75.5,
          75.5,
          75.5,
          40,
          40,
          40,
          40,
          76,
          76,
          76,
          76,
          38.25,
          38.25,
          38.25,
          38.25,
          41.75,
          41.75,
          41.75,
          41.75,
          49.25,
          49.25,
          49.25,
          49.25,
          89.25,
          89.25,
          89.25,
          89.25,
          71,
          71,
          71,
          71,
          87.25,
          87.25,
          87.25,
          87.25,
          70.25,
          70.25,
          70.25,
          70.25,
          80.75,
          80.75,
          80.75,
          80.75,
          45.75,
          45.75,
          45.75,
          45.75,
          47.5,
          47.5,
          47.5,
          47.5,
          77.5,
          77.5,
          77.5,
          77.5,
          73.75,
          73.75,
          73.75,
          73.75,
          48.25,
          48.25,
          48.25,
          48.25,
          57.25,
          57.25,
          57.25,
          57.25,
          59,
          59,
          59,
          59,
          82.25,
          82.25,
          82.25,
          82.25,
          56.25,
          56.25,
          56.25,
          56.25,
          31.75,
          31.75,
          31.75,
          31.75,
          45,
          45,
          45,
          45,
          82.75,
          82.75,
          82.75,
          82.75,
          85.5,
          85.5,
          85.5,
          85.5,
          61.25,
          61.25,
          61.25,
          61.25,
          63.25,
          63.25,
          63.25,
          63.25,
          47.25,
          47.25,
          47.25,
          47.25,
          28.75,
          28.75,
          28.75,
          28.75,
          40.5,
          40.5,
          40.5,
          40.5,
          50.5,
          50.5,
          50.5,
          50.5,
          60.5,
          60.5,
          60.5,
          60.5,
          57.75,
          57.75,
          57.75,
          57.75,
          86.5,
          86.5,
          86.5,
          86.5,
          85.5,
          85.5,
          85.5,
          85.5,
          29.5,
          29.5,
          29.5,
          29.5,
          81,
          81,
          81,
          81
         ]
        },
        {
         "customdata": [
          [
           "Algeria"
          ],
          [
           "Algeria"
          ],
          [
           "Algeria"
          ],
          [
           "Algeria"
          ],
          [
           "Benin"
          ],
          [
           "Benin"
          ],
          [
           "Benin"
          ],
          [
           "Benin"
          ],
          [
           "Botswana"
          ],
          [
           "Botswana"
          ],
          [
           "Botswana"
          ],
          [
           "Botswana"
          ],
          [
           "Burkina Faso"
          ],
          [
           "Burkina Faso"
          ],
          [
           "Burkina Faso"
          ],
          [
           "Burkina Faso"
          ],
          [
           "Burundi"
          ],
          [
           "Burundi"
          ],
          [
           "Burundi"
          ],
          [
           "Burundi"
          ],
          [
           "Cameroon"
          ],
          [
           "Cameroon"
          ],
          [
           "Cameroon"
          ],
          [
           "Cameroon"
          ],
          [
           "Chad"
          ],
          [
           "Chad"
          ],
          [
           "Chad"
          ],
          [
           "Chad"
          ],
          [
           "Egypt"
          ],
          [
           "Egypt"
          ],
          [
           "Egypt"
          ],
          [
           "Egypt"
          ],
          [
           "Ethiopia"
          ],
          [
           "Ethiopia"
          ],
          [
           "Ethiopia"
          ],
          [
           "Ethiopia"
          ],
          [
           "Gabon"
          ],
          [
           "Gabon"
          ],
          [
           "Gabon"
          ],
          [
           "Gabon"
          ],
          [
           "Ghana"
          ],
          [
           "Ghana"
          ],
          [
           "Ghana"
          ],
          [
           "Ghana"
          ],
          [
           "Kenya"
          ],
          [
           "Kenya"
          ],
          [
           "Kenya"
          ],
          [
           "Kenya"
          ],
          [
           "Liberia"
          ],
          [
           "Liberia"
          ],
          [
           "Liberia"
          ],
          [
           "Liberia"
          ],
          [
           "Libya"
          ],
          [
           "Libya"
          ],
          [
           "Libya"
          ],
          [
           "Libya"
          ],
          [
           "Madagascar"
          ],
          [
           "Madagascar"
          ],
          [
           "Madagascar"
          ],
          [
           "Madagascar"
          ],
          [
           "Malawi"
          ],
          [
           "Malawi"
          ],
          [
           "Malawi"
          ],
          [
           "Malawi"
          ],
          [
           "Mali"
          ],
          [
           "Mali"
          ],
          [
           "Mali"
          ],
          [
           "Mali"
          ],
          [
           "Mauritania"
          ],
          [
           "Mauritania"
          ],
          [
           "Mauritania"
          ],
          [
           "Mauritania"
          ],
          [
           "Mauritius"
          ],
          [
           "Mauritius"
          ],
          [
           "Mauritius"
          ],
          [
           "Mauritius"
          ],
          [
           "Morocco"
          ],
          [
           "Morocco"
          ],
          [
           "Morocco"
          ],
          [
           "Morocco"
          ],
          [
           "Niger"
          ],
          [
           "Niger"
          ],
          [
           "Niger"
          ],
          [
           "Niger"
          ],
          [
           "Nigeria"
          ],
          [
           "Nigeria"
          ],
          [
           "Nigeria"
          ],
          [
           "Nigeria"
          ],
          [
           "Rwanda"
          ],
          [
           "Rwanda"
          ],
          [
           "Rwanda"
          ],
          [
           "Rwanda"
          ],
          [
           "Senegal"
          ],
          [
           "Senegal"
          ],
          [
           "Senegal"
          ],
          [
           "Senegal"
          ],
          [
           "Sierra Leone"
          ],
          [
           "Sierra Leone"
          ],
          [
           "Sierra Leone"
          ],
          [
           "Sierra Leone"
          ],
          [
           "South Africa"
          ],
          [
           "South Africa"
          ],
          [
           "South Africa"
          ],
          [
           "South Africa"
          ],
          [
           "Tanzania"
          ],
          [
           "Tanzania"
          ],
          [
           "Tanzania"
          ],
          [
           "Tanzania"
          ],
          [
           "Togo"
          ],
          [
           "Togo"
          ],
          [
           "Togo"
          ],
          [
           "Togo"
          ],
          [
           "Tunisia"
          ],
          [
           "Tunisia"
          ],
          [
           "Tunisia"
          ],
          [
           "Tunisia"
          ],
          [
           "Uganda"
          ],
          [
           "Uganda"
          ],
          [
           "Uganda"
          ],
          [
           "Uganda"
          ],
          [
           "Zambia"
          ],
          [
           "Zambia"
          ],
          [
           "Zambia"
          ],
          [
           "Zambia"
          ],
          [
           "Zimbabwe"
          ],
          [
           "Zimbabwe"
          ],
          [
           "Zimbabwe"
          ],
          [
           "Zimbabwe"
          ]
         ],
         "hovertemplate": "continent=Africa<br>Education_Index=%{x}<br>government_trust=%{y}<br>cpi_score=%{z}<br>gdp_per_capita=%{marker.size}<br>Country=%{customdata[0]}<extra></extra>",
         "legendgroup": "Africa",
         "marker": {
          "color": "#00cc96",
          "opacity": 0.5,
          "size": [
           1.003,
           1.003,
           1.003,
           1.003,
           0.3722,
           0.3722,
           0.3722,
           0.3722,
           1.0434,
           1.0434,
           1.0434,
           1.0434,
           0.3133,
           0.3133,
           0.3133,
           0.3133,
           0.061,
           0.061,
           0.061,
           0.061,
           0.5177,
           0.5177,
           0.5177,
           0.5177,
           0.372,
           0.372,
           0.372,
           0.372,
           0.9174,
           0.9174,
           0.9174,
           0.9174,
           0.2935,
           0.2935,
           0.2935,
           0.2935,
           1.0879,
           1.0879,
           1.0879,
           1.0879,
           0.604,
           0.604,
           0.604,
           0.604,
           0.4825,
           0.4825,
           0.4825,
           0.4825,
           0.0848,
           0.0848,
           0.0848,
           0.0848,
           1.0656,
           1.0656,
           1.0656,
           1.0656,
           0.2625,
           0.2625,
           0.2625,
           0.2625,
           0.1566,
           0.1566,
           0.1566,
           0.1566,
           0.373,
           0.373,
           0.373,
           0.373,
           0.5574,
           0.5574,
           0.5574,
           0.5574,
           1.1018,
           1.1018,
           1.1018,
           1.1018,
           0.7982,
           0.7982,
           0.7982,
           0.7982,
           0.1251,
           0.1251,
           0.1251,
           0.1251,
           0.7058,
           0.7058,
           0.7058,
           0.7058,
           0.3205,
           0.3205,
           0.3205,
           0.3205,
           0.4308,
           0.4308,
           0.4308,
           0.4308,
           0.3057,
           0.3057,
           0.3057,
           0.3057,
           0.9688,
           0.9688,
           0.9688,
           0.9688,
           0.4318,
           0.4318,
           0.4318,
           0.4318,
           0.262,
           0.262,
           0.262,
           0.262,
           0.9273,
           0.9273,
           0.9273,
           0.9273,
           0.3116,
           0.3116,
           0.3116,
           0.3116,
           0.5617,
           0.5617,
           0.5617,
           0.5617,
           0.3425,
           0.3425,
           0.3425,
           0.3425
          ],
          "sizemode": "area",
          "sizeref": 0.0008213333333333333,
          "symbol": "circle"
         },
         "mode": "markers",
         "name": "Africa",
         "scene": "scene",
         "showlegend": true,
         "type": "scatter3d",
         "x": [
          0.7025,
          0.7025,
          0.7025,
          0.7025,
          0.5225,
          0.5225,
          0.5225,
          0.5225,
          0.68,
          0.68,
          0.68,
          0.68,
          0.33,
          0.33,
          0.33,
          0.33,
          0.4675,
          0.4675,
          0.4675,
          0.4675,
          0.585,
          0.585,
          0.585,
          0.585,
          0.3275,
          0.3275,
          0.3275,
          0.3275,
          0.6375,
          0.6375,
          0.6375,
          0.6375,
          0.3625,
          0.3625,
          0.3625,
          0.3625,
          0.6525,
          0.6525,
          0.6525,
          0.6525,
          0.58,
          0.58,
          0.58,
          0.58,
          0.5675,
          0.5675,
          0.5675,
          0.5675,
          0.4575,
          0.4575,
          0.4575,
          0.4575,
          0.6475,
          0.6475,
          0.6475,
          0.6475,
          0.52,
          0.52,
          0.52,
          0.52,
          0.4875,
          0.4875,
          0.4875,
          0.4875,
          0.315,
          0.315,
          0.315,
          0.315,
          0.41,
          0.41,
          0.41,
          0.41,
          0.76,
          0.76,
          0.76,
          0.76,
          0.5675,
          0.5675,
          0.5675,
          0.5675,
          0.2425,
          0.2425,
          0.2425,
          0.2425,
          0.505,
          0.505,
          0.505,
          0.505,
          0.485,
          0.485,
          0.485,
          0.485,
          0.395,
          0.395,
          0.395,
          0.395,
          0.4225,
          0.4225,
          0.4225,
          0.4225,
          0.725,
          0.725,
          0.725,
          0.725,
          0.4525,
          0.4525,
          0.4525,
          0.4525,
          0.55,
          0.55,
          0.55,
          0.55,
          0.6975,
          0.6975,
          0.6975,
          0.6975,
          0.5425,
          0.5425,
          0.5425,
          0.5425,
          0.6075,
          0.6075,
          0.6075,
          0.6075,
          0.5725,
          0.5725,
          0.5725,
          0.5725
         ],
         "y": [
          0.1422,
          0.1422,
          0.1422,
          0.1422,
          0.0725,
          0.0725,
          0.0725,
          0.0725,
          0.1038,
          0.1038,
          0.1038,
          0.1038,
          0.1224,
          0.1224,
          0.1224,
          0.1224,
          0.1102,
          0.1102,
          0.1102,
          0.1102,
          0.0473,
          0.0473,
          0.0473,
          0.0473,
          0.0611,
          0.0611,
          0.0611,
          0.0611,
          0.0879,
          0.0879,
          0.0879,
          0.0879,
          0.1405,
          0.1405,
          0.1405,
          0.1405,
          0.0735,
          0.0735,
          0.0735,
          0.0735,
          0.0345,
          0.0345,
          0.0345,
          0.0345,
          0.0578,
          0.0578,
          0.0578,
          0.0578,
          0.0411,
          0.0411,
          0.0411,
          0.0411,
          0.1257,
          0.1257,
          0.1257,
          0.1257,
          0.0596,
          0.0596,
          0.0596,
          0.0596,
          0.0779,
          0.0779,
          0.0779,
          0.0779,
          0.0841,
          0.0841,
          0.0841,
          0.0841,
          0.1231,
          0.1231,
          0.1231,
          0.1231,
          0.0568,
          0.0568,
          0.0568,
          0.0568,
          0.0808,
          0.0808,
          0.0808,
          0.0808,
          0.124,
          0.124,
          0.124,
          0.124,
          0.0349,
          0.0349,
          0.0349,
          0.0349,
          0.4655,
          0.4655,
          0.4655,
          0.4655,
          0.0941,
          0.0941,
          0.0941,
          0.0941,
          0.0642,
          0.0642,
          0.0642,
          0.0642,
          0.0681,
          0.0681,
          0.0681,
          0.0681,
          0.0919,
          0.0919,
          0.0919,
          0.0919,
          0.0972,
          0.0972,
          0.0972,
          0.0972,
          0.0671,
          0.0671,
          0.0671,
          0.0671,
          0.0627,
          0.0627,
          0.0627,
          0.0627,
          0.093,
          0.093,
          0.093,
          0.093,
          0.091,
          0.091,
          0.091,
          0.091
         ],
         "z": [
          34.5,
          34.5,
          34.5,
          34.5,
          38,
          38,
          38,
          38,
          61.25,
          61.25,
          61.25,
          61.25,
          40.75,
          40.75,
          40.75,
          40.75,
          20,
          20,
          20,
          20,
          25.75,
          25.75,
          25.75,
          25.75,
          20.25,
          20.25,
          20.25,
          20.25,
          34.25,
          34.25,
          34.25,
          34.25,
          34,
          34,
          34,
          34,
          33,
          33,
          33,
          33,
          42.75,
          42.75,
          42.75,
          42.75,
          26.5,
          26.5,
          26.5,
          26.5,
          34.25,
          34.25,
          34.25,
          34.25,
          16,
          16,
          16,
          16,
          25.75,
          25.75,
          25.75,
          25.75,
          31.25,
          31.25,
          31.25,
          31.25,
          32.5,
          32.5,
          32.5,
          32.5,
          28.25,
          28.25,
          28.25,
          28.25,
          52,
          52,
          52,
          52,
          39,
          39,
          39,
          39,
          34,
          34,
          34,
          34,
          27,
          27,
          27,
          27,
          54.75,
          54.75,
          54.75,
          54.75,
          44.75,
          44.75,
          44.75,
          44.75,
          29.75,
          29.75,
          29.75,
          29.75,
          43.75,
          43.75,
          43.75,
          43.75,
          33.5,
          33.5,
          33.5,
          33.5,
          31.5,
          31.5,
          31.5,
          31.5,
          41,
          41,
          41,
          41,
          25.5,
          25.5,
          25.5,
          25.5,
          37,
          37,
          37,
          37,
          21.75,
          21.75,
          21.75,
          21.75
         ]
        },
        {
         "customdata": [
          [
           "Argentina"
          ],
          [
           "Argentina"
          ],
          [
           "Argentina"
          ],
          [
           "Argentina"
          ],
          [
           "Bolivia"
          ],
          [
           "Bolivia"
          ],
          [
           "Bolivia"
          ],
          [
           "Bolivia"
          ],
          [
           "Brazil"
          ],
          [
           "Brazil"
          ],
          [
           "Brazil"
          ],
          [
           "Brazil"
          ],
          [
           "Chile"
          ],
          [
           "Chile"
          ],
          [
           "Chile"
          ],
          [
           "Chile"
          ],
          [
           "Colombia"
          ],
          [
           "Colombia"
          ],
          [
           "Colombia"
          ],
          [
           "Colombia"
          ],
          [
           "Costa Rica"
          ],
          [
           "Costa Rica"
          ],
          [
           "Costa Rica"
          ],
          [
           "Costa Rica"
          ],
          [
           "Dominican Republic"
          ],
          [
           "Dominican Republic"
          ],
          [
           "Dominican Republic"
          ],
          [
           "Dominican Republic"
          ],
          [
           "Ecuador"
          ],
          [
           "Ecuador"
          ],
          [
           "Ecuador"
          ],
          [
           "Ecuador"
          ],
          [
           "El Salvador"
          ],
          [
           "El Salvador"
          ],
          [
           "El Salvador"
          ],
          [
           "El Salvador"
          ],
          [
           "Guatemala"
          ],
          [
           "Guatemala"
          ],
          [
           "Guatemala"
          ],
          [
           "Guatemala"
          ],
          [
           "Guinea"
          ],
          [
           "Guinea"
          ],
          [
           "Guinea"
          ],
          [
           "Guinea"
          ],
          [
           "Haiti"
          ],
          [
           "Haiti"
          ],
          [
           "Haiti"
          ],
          [
           "Haiti"
          ],
          [
           "Honduras"
          ],
          [
           "Honduras"
          ],
          [
           "Honduras"
          ],
          [
           "Honduras"
          ],
          [
           "Jamaica"
          ],
          [
           "Jamaica"
          ],
          [
           "Jamaica"
          ],
          [
           "Jamaica"
          ],
          [
           "Nicaragua"
          ],
          [
           "Nicaragua"
          ],
          [
           "Nicaragua"
          ],
          [
           "Nicaragua"
          ],
          [
           "Panama"
          ],
          [
           "Panama"
          ],
          [
           "Panama"
          ],
          [
           "Panama"
          ],
          [
           "Paraguay"
          ],
          [
           "Paraguay"
          ],
          [
           "Paraguay"
          ],
          [
           "Paraguay"
          ],
          [
           "Peru"
          ],
          [
           "Peru"
          ],
          [
           "Peru"
          ],
          [
           "Peru"
          ],
          [
           "Uruguay"
          ],
          [
           "Uruguay"
          ],
          [
           "Uruguay"
          ],
          [
           "Uruguay"
          ],
          [
           "Venezuela"
          ],
          [
           "Venezuela"
          ],
          [
           "Venezuela"
          ],
          [
           "Venezuela"
          ]
         ],
         "hovertemplate": "continent=South America<br>Education_Index=%{x}<br>government_trust=%{y}<br>cpi_score=%{z}<br>gdp_per_capita=%{marker.size}<br>Country=%{customdata[0]}<extra></extra>",
         "legendgroup": "South America",
         "marker": {
          "color": "#ab63fa",
          "opacity": 0.5,
          "size": [
           1.101,
           1.101,
           1.101,
           1.101,
           0.7605,
           0.7605,
           0.7605,
           0.7605,
           1.0196,
           1.0196,
           1.0196,
           1.0196,
           1.1625,
           1.1625,
           1.1625,
           1.1625,
           0.9836,
           0.9836,
           0.9836,
           0.9836,
           1.0274,
           1.0274,
           1.0274,
           1.0274,
           0.9929,
           0.9929,
           0.9929,
           0.9929,
           0.9165,
           0.9165,
           0.9165,
           0.9165,
           0.8186,
           0.8186,
           0.8186,
           0.8186,
           0.7996,
           0.7996,
           0.7996,
           0.7996,
           0.2857,
           0.2857,
           0.2857,
           0.2857,
           0.3183,
           0.3183,
           0.3183,
           0.3183,
           0.647,
           0.647,
           0.647,
           0.647,
           0.8465,
           0.8465,
           0.8465,
           0.8465,
           0.6731,
           0.6731,
           0.6731,
           0.6731,
           1.1396,
           1.1396,
           1.1396,
           1.1396,
           0.8456,
           0.8456,
           0.8456,
           0.8456,
           0.9574,
           0.9574,
           0.9574,
           0.9574,
           1.1241,
           1.1241,
           1.1241,
           1.1241,
           1.0322,
           1.0322,
           1.0322,
           1.0322
          ],
          "sizemode": "area",
          "sizeref": 0.0008213333333333333,
          "symbol": "circle"
         },
         "mode": "markers",
         "name": "South America",
         "scene": "scene",
         "showlegend": true,
         "type": "scatter3d",
         "x": [
          0.8625,
          0.8625,
          0.8625,
          0.8625,
          0.71,
          0.71,
          0.71,
          0.71,
          0.7275,
          0.7275,
          0.7275,
          0.7275,
          0.8325,
          0.8325,
          0.8325,
          0.8325,
          0.7125,
          0.7125,
          0.7125,
          0.7125,
          0.7525,
          0.7525,
          0.7525,
          0.7525,
          0.6775,
          0.6775,
          0.6775,
          0.6775,
          0.73,
          0.73,
          0.73,
          0.73,
          0.6025,
          0.6025,
          0.6025,
          0.6025,
          0.5375,
          0.5375,
          0.5375,
          0.5375,
          0.38,
          0.38,
          0.38,
          0.38,
          0.4575,
          0.4575,
          0.4575,
          0.4575,
          0.52,
          0.52,
          0.52,
          0.52,
          0.7075,
          0.7075,
          0.7075,
          0.7075,
          0.59,
          0.59,
          0.59,
          0.59,
          0.705,
          0.705,
          0.705,
          0.705,
          0.66,
          0.66,
          0.66,
          0.66,
          0.7175,
          0.7175,
          0.7175,
          0.7175,
          0.775,
          0.775,
          0.775,
          0.775,
          0.7475,
          0.7475,
          0.7475,
          0.7475
         ],
         "y": [
          0.0621,
          0.0621,
          0.0621,
          0.0621,
          0.0666,
          0.0666,
          0.0666,
          0.0666,
          0.1151,
          0.1151,
          0.1151,
          0.1151,
          0.082,
          0.082,
          0.082,
          0.082,
          0.0427,
          0.0427,
          0.0427,
          0.0427,
          0.1,
          0.1,
          0.1,
          0.1,
          0.1158,
          0.1158,
          0.1158,
          0.1158,
          0.132,
          0.132,
          0.132,
          0.132,
          0.0909,
          0.0909,
          0.0909,
          0.0909,
          0.0802,
          0.0802,
          0.0802,
          0.0802,
          0.1031,
          0.1031,
          0.1031,
          0.1031,
          0.1214,
          0.1214,
          0.1214,
          0.1214,
          0.0734,
          0.0734,
          0.0734,
          0.0734,
          0.0343,
          0.0343,
          0.0343,
          0.0343,
          0.1447,
          0.1447,
          0.1447,
          0.1447,
          0.0702,
          0.0702,
          0.0702,
          0.0702,
          0.0819,
          0.0819,
          0.0819,
          0.0819,
          0.042,
          0.042,
          0.042,
          0.042,
          0.1822,
          0.1822,
          0.1822,
          0.1822,
          0.0685,
          0.0685,
          0.0685,
          0.0685
         ],
         "z": [
          36.75,
          36.75,
          36.75,
          36.75,
          32.25,
          32.25,
          32.25,
          32.25,
          37.5,
          37.5,
          37.5,
          37.5,
          67.5,
          67.5,
          67.5,
          67.5,
          36.75,
          36.75,
          36.75,
          36.75,
          57,
          57,
          57,
          57,
          30.75,
          30.75,
          30.75,
          30.75,
          32.25,
          32.25,
          32.25,
          32.25,
          35.75,
          35.75,
          35.75,
          35.75,
          27.75,
          27.75,
          27.75,
          27.75,
          26.75,
          26.75,
          26.75,
          26.75,
          19.75,
          19.75,
          19.75,
          19.75,
          29.75,
          29.75,
          29.75,
          29.75,
          42,
          42,
          42,
          42,
          26,
          26,
          26,
          26,
          37.75,
          37.75,
          37.75,
          37.75,
          28.75,
          28.75,
          28.75,
          28.75,
          35.75,
          35.75,
          35.75,
          35.75,
          71.25,
          71.25,
          71.25,
          71.25,
          17.5,
          17.5,
          17.5,
          17.5
         ]
        },
        {
         "customdata": [
          [
           "Australia"
          ],
          [
           "Australia"
          ],
          [
           "Australia"
          ],
          [
           "Australia"
          ],
          [
           "New Zealand"
          ],
          [
           "New Zealand"
          ],
          [
           "New Zealand"
          ],
          [
           "New Zealand"
          ]
         ],
         "hovertemplate": "continent=Australia<br>Education_Index=%{x}<br>government_trust=%{y}<br>cpi_score=%{z}<br>gdp_per_capita=%{marker.size}<br>Country=%{customdata[0]}<extra></extra>",
         "legendgroup": "Australia",
         "marker": {
          "color": "#FFA15A",
          "opacity": 0.5,
          "size": [
           1.3825,
           1.3825,
           1.3825,
           1.3825,
           1.3067,
           1.3067,
           1.3067,
           1.3067
          ],
          "sizemode": "area",
          "sizeref": 0.0008213333333333333,
          "symbol": "circle"
         },
         "mode": "markers",
         "name": "Australia",
         "scene": "scene",
         "showlegend": true,
         "type": "scatter3d",
         "x": [
          1.0225,
          1.0225,
          1.0225,
          1.0225,
          0.9775,
          0.9775,
          0.9775,
          0.9775
         ],
         "y": [
          0.3124,
          0.3124,
          0.3124,
          0.3124,
          0.3953,
          0.3953,
          0.3953,
          0.3953
         ],
         "z": [
          78,
          78,
          78,
          78,
          89.25,
          89.25,
          89.25,
          89.25
         ]
        },
        {
         "customdata": [
          [
           "Canada"
          ],
          [
           "Canada"
          ],
          [
           "Canada"
          ],
          [
           "Canada"
          ],
          [
           "Mexico"
          ],
          [
           "Mexico"
          ],
          [
           "Mexico"
          ],
          [
           "Mexico"
          ],
          [
           "United States"
          ],
          [
           "United States"
          ],
          [
           "United States"
          ],
          [
           "United States"
          ]
         ],
         "hovertemplate": "continent=North America<br>Education_Index=%{x}<br>government_trust=%{y}<br>cpi_score=%{z}<br>gdp_per_capita=%{marker.size}<br>Country=%{customdata[0]}<extra></extra>",
         "legendgroup": "North America",
         "marker": {
          "color": "#19d3f3",
          "opacity": 0.5,
          "size": [
           1.3751,
           1.3751,
           1.3751,
           1.3751,
           1.0704,
           1.0704,
           1.0704,
           1.0704,
           1.4429,
           1.4429,
           1.4429,
           1.4429
          ],
          "sizemode": "area",
          "sizeref": 0.0008213333333333333,
          "symbol": "circle"
         },
         "mode": "markers",
         "name": "North America",
         "scene": "scene",
         "showlegend": true,
         "type": "scatter3d",
         "x": [
          0.9125,
          0.9125,
          0.9125,
          0.9125,
          0.71,
          0.71,
          0.71,
          0.71,
          0.92,
          0.92,
          0.92,
          0.92
         ],
         "y": [
          0.304,
          0.304,
          0.304,
          0.304,
          0.1285,
          0.1285,
          0.1285,
          0.1285,
          0.1389,
          0.1389,
          0.1389,
          0.1389
         ],
         "z": [
          82,
          82,
          82,
          82,
          29.5,
          29.5,
          29.5,
          29.5,
          74,
          74,
          74,
          74
         ]
        }
       ],
       "layout": {
        "height": 700,
        "legend": {
         "itemsizing": "constant",
         "title": {
          "text": "continent"
         },
         "tracegroupgap": 0
        },
        "margin": {
         "t": 60
        },
        "scene": {
         "domain": {
          "x": [
           0,
           1
          ],
          "y": [
           0,
           1
          ]
         },
         "xaxis": {
          "title": {
           "text": "Education Index"
          }
         },
         "yaxis": {
          "title": {
           "text": "Government Trust"
          }
         },
         "zaxis": {
          "title": {
           "text": "CPI Score"
          }
         }
        },
        "template": {
         "data": {
          "bar": [
           {
            "error_x": {
             "color": "#2a3f5f"
            },
            "error_y": {
             "color": "#2a3f5f"
            },
            "marker": {
             "line": {
              "color": "#E5ECF6",
              "width": 0.5
             },
             "pattern": {
              "fillmode": "overlay",
              "size": 10,
              "solidity": 0.2
             }
            },
            "type": "bar"
           }
          ],
          "barpolar": [
           {
            "marker": {
             "line": {
              "color": "#E5ECF6",
              "width": 0.5
             },
             "pattern": {
              "fillmode": "overlay",
              "size": 10,
              "solidity": 0.2
             }
            },
            "type": "barpolar"
           }
          ],
          "carpet": [
           {
            "aaxis": {
             "endlinecolor": "#2a3f5f",
             "gridcolor": "white",
             "linecolor": "white",
             "minorgridcolor": "white",
             "startlinecolor": "#2a3f5f"
            },
            "baxis": {
             "endlinecolor": "#2a3f5f",
             "gridcolor": "white",
             "linecolor": "white",
             "minorgridcolor": "white",
             "startlinecolor": "#2a3f5f"
            },
            "type": "carpet"
           }
          ],
          "choropleth": [
           {
            "colorbar": {
             "outlinewidth": 0,
             "ticks": ""
            },
            "type": "choropleth"
           }
          ],
          "contour": [
           {
            "colorbar": {
             "outlinewidth": 0,
             "ticks": ""
            },
            "colorscale": [
             [
              0,
              "#0d0887"
             ],
             [
              0.1111111111111111,
              "#46039f"
             ],
             [
              0.2222222222222222,
              "#7201a8"
             ],
             [
              0.3333333333333333,
              "#9c179e"
             ],
             [
              0.4444444444444444,
              "#bd3786"
             ],
             [
              0.5555555555555556,
              "#d8576b"
             ],
             [
              0.6666666666666666,
              "#ed7953"
             ],
             [
              0.7777777777777778,
              "#fb9f3a"
             ],
             [
              0.8888888888888888,
              "#fdca26"
             ],
             [
              1,
              "#f0f921"
             ]
            ],
            "type": "contour"
           }
          ],
          "contourcarpet": [
           {
            "colorbar": {
             "outlinewidth": 0,
             "ticks": ""
            },
            "type": "contourcarpet"
           }
          ],
          "heatmap": [
           {
            "colorbar": {
             "outlinewidth": 0,
             "ticks": ""
            },
            "colorscale": [
             [
              0,
              "#0d0887"
             ],
             [
              0.1111111111111111,
              "#46039f"
             ],
             [
              0.2222222222222222,
              "#7201a8"
             ],
             [
              0.3333333333333333,
              "#9c179e"
             ],
             [
              0.4444444444444444,
              "#bd3786"
             ],
             [
              0.5555555555555556,
              "#d8576b"
             ],
             [
              0.6666666666666666,
              "#ed7953"
             ],
             [
              0.7777777777777778,
              "#fb9f3a"
             ],
             [
              0.8888888888888888,
              "#fdca26"
             ],
             [
              1,
              "#f0f921"
             ]
            ],
            "type": "heatmap"
           }
          ],
          "heatmapgl": [
           {
            "colorbar": {
             "outlinewidth": 0,
             "ticks": ""
            },
            "colorscale": [
             [
              0,
              "#0d0887"
             ],
             [
              0.1111111111111111,
              "#46039f"
             ],
             [
              0.2222222222222222,
              "#7201a8"
             ],
             [
              0.3333333333333333,
              "#9c179e"
             ],
             [
              0.4444444444444444,
              "#bd3786"
             ],
             [
              0.5555555555555556,
              "#d8576b"
             ],
             [
              0.6666666666666666,
              "#ed7953"
             ],
             [
              0.7777777777777778,
              "#fb9f3a"
             ],
             [
              0.8888888888888888,
              "#fdca26"
             ],
             [
              1,
              "#f0f921"
             ]
            ],
            "type": "heatmapgl"
           }
          ],
          "histogram": [
           {
            "marker": {
             "pattern": {
              "fillmode": "overlay",
              "size": 10,
              "solidity": 0.2
             }
            },
            "type": "histogram"
           }
          ],
          "histogram2d": [
           {
            "colorbar": {
             "outlinewidth": 0,
             "ticks": ""
            },
            "colorscale": [
             [
              0,
              "#0d0887"
             ],
             [
              0.1111111111111111,
              "#46039f"
             ],
             [
              0.2222222222222222,
              "#7201a8"
             ],
             [
              0.3333333333333333,
              "#9c179e"
             ],
             [
              0.4444444444444444,
              "#bd3786"
             ],
             [
              0.5555555555555556,
              "#d8576b"
             ],
             [
              0.6666666666666666,
              "#ed7953"
             ],
             [
              0.7777777777777778,
              "#fb9f3a"
             ],
             [
              0.8888888888888888,
              "#fdca26"
             ],
             [
              1,
              "#f0f921"
             ]
            ],
            "type": "histogram2d"
           }
          ],
          "histogram2dcontour": [
           {
            "colorbar": {
             "outlinewidth": 0,
             "ticks": ""
            },
            "colorscale": [
             [
              0,
              "#0d0887"
             ],
             [
              0.1111111111111111,
              "#46039f"
             ],
             [
              0.2222222222222222,
              "#7201a8"
             ],
             [
              0.3333333333333333,
              "#9c179e"
             ],
             [
              0.4444444444444444,
              "#bd3786"
             ],
             [
              0.5555555555555556,
              "#d8576b"
             ],
             [
              0.6666666666666666,
              "#ed7953"
             ],
             [
              0.7777777777777778,
              "#fb9f3a"
             ],
             [
              0.8888888888888888,
              "#fdca26"
             ],
             [
              1,
              "#f0f921"
             ]
            ],
            "type": "histogram2dcontour"
           }
          ],
          "mesh3d": [
           {
            "colorbar": {
             "outlinewidth": 0,
             "ticks": ""
            },
            "type": "mesh3d"
           }
          ],
          "parcoords": [
           {
            "line": {
             "colorbar": {
              "outlinewidth": 0,
              "ticks": ""
             }
            },
            "type": "parcoords"
           }
          ],
          "pie": [
           {
            "automargin": true,
            "type": "pie"
           }
          ],
          "scatter": [
           {
            "fillpattern": {
             "fillmode": "overlay",
             "size": 10,
             "solidity": 0.2
            },
            "type": "scatter"
           }
          ],
          "scatter3d": [
           {
            "line": {
             "colorbar": {
              "outlinewidth": 0,
              "ticks": ""
             }
            },
            "marker": {
             "colorbar": {
              "outlinewidth": 0,
              "ticks": ""
             }
            },
            "type": "scatter3d"
           }
          ],
          "scattercarpet": [
           {
            "marker": {
             "colorbar": {
              "outlinewidth": 0,
              "ticks": ""
             }
            },
            "type": "scattercarpet"
           }
          ],
          "scattergeo": [
           {
            "marker": {
             "colorbar": {
              "outlinewidth": 0,
              "ticks": ""
             }
            },
            "type": "scattergeo"
           }
          ],
          "scattergl": [
           {
            "marker": {
             "colorbar": {
              "outlinewidth": 0,
              "ticks": ""
             }
            },
            "type": "scattergl"
           }
          ],
          "scattermapbox": [
           {
            "marker": {
             "colorbar": {
              "outlinewidth": 0,
              "ticks": ""
             }
            },
            "type": "scattermapbox"
           }
          ],
          "scatterpolar": [
           {
            "marker": {
             "colorbar": {
              "outlinewidth": 0,
              "ticks": ""
             }
            },
            "type": "scatterpolar"
           }
          ],
          "scatterpolargl": [
           {
            "marker": {
             "colorbar": {
              "outlinewidth": 0,
              "ticks": ""
             }
            },
            "type": "scatterpolargl"
           }
          ],
          "scatterternary": [
           {
            "marker": {
             "colorbar": {
              "outlinewidth": 0,
              "ticks": ""
             }
            },
            "type": "scatterternary"
           }
          ],
          "surface": [
           {
            "colorbar": {
             "outlinewidth": 0,
             "ticks": ""
            },
            "colorscale": [
             [
              0,
              "#0d0887"
             ],
             [
              0.1111111111111111,
              "#46039f"
             ],
             [
              0.2222222222222222,
              "#7201a8"
             ],
             [
              0.3333333333333333,
              "#9c179e"
             ],
             [
              0.4444444444444444,
              "#bd3786"
             ],
             [
              0.5555555555555556,
              "#d8576b"
             ],
             [
              0.6666666666666666,
              "#ed7953"
             ],
             [
              0.7777777777777778,
              "#fb9f3a"
             ],
             [
              0.8888888888888888,
              "#fdca26"
             ],
             [
              1,
              "#f0f921"
             ]
            ],
            "type": "surface"
           }
          ],
          "table": [
           {
            "cells": {
             "fill": {
              "color": "#EBF0F8"
             },
             "line": {
              "color": "white"
             }
            },
            "header": {
             "fill": {
              "color": "#C8D4E3"
             },
             "line": {
              "color": "white"
             }
            },
            "type": "table"
           }
          ]
         },
         "layout": {
          "annotationdefaults": {
           "arrowcolor": "#2a3f5f",
           "arrowhead": 0,
           "arrowwidth": 1
          },
          "autotypenumbers": "strict",
          "coloraxis": {
           "colorbar": {
            "outlinewidth": 0,
            "ticks": ""
           }
          },
          "colorscale": {
           "diverging": [
            [
             0,
             "#8e0152"
            ],
            [
             0.1,
             "#c51b7d"
            ],
            [
             0.2,
             "#de77ae"
            ],
            [
             0.3,
             "#f1b6da"
            ],
            [
             0.4,
             "#fde0ef"
            ],
            [
             0.5,
             "#f7f7f7"
            ],
            [
             0.6,
             "#e6f5d0"
            ],
            [
             0.7,
             "#b8e186"
            ],
            [
             0.8,
             "#7fbc41"
            ],
            [
             0.9,
             "#4d9221"
            ],
            [
             1,
             "#276419"
            ]
           ],
           "sequential": [
            [
             0,
             "#0d0887"
            ],
            [
             0.1111111111111111,
             "#46039f"
            ],
            [
             0.2222222222222222,
             "#7201a8"
            ],
            [
             0.3333333333333333,
             "#9c179e"
            ],
            [
             0.4444444444444444,
             "#bd3786"
            ],
            [
             0.5555555555555556,
             "#d8576b"
            ],
            [
             0.6666666666666666,
             "#ed7953"
            ],
            [
             0.7777777777777778,
             "#fb9f3a"
            ],
            [
             0.8888888888888888,
             "#fdca26"
            ],
            [
             1,
             "#f0f921"
            ]
           ],
           "sequentialminus": [
            [
             0,
             "#0d0887"
            ],
            [
             0.1111111111111111,
             "#46039f"
            ],
            [
             0.2222222222222222,
             "#7201a8"
            ],
            [
             0.3333333333333333,
             "#9c179e"
            ],
            [
             0.4444444444444444,
             "#bd3786"
            ],
            [
             0.5555555555555556,
             "#d8576b"
            ],
            [
             0.6666666666666666,
             "#ed7953"
            ],
            [
             0.7777777777777778,
             "#fb9f3a"
            ],
            [
             0.8888888888888888,
             "#fdca26"
            ],
            [
             1,
             "#f0f921"
            ]
           ]
          },
          "colorway": [
           "#636efa",
           "#EF553B",
           "#00cc96",
           "#ab63fa",
           "#FFA15A",
           "#19d3f3",
           "#FF6692",
           "#B6E880",
           "#FF97FF",
           "#FECB52"
          ],
          "font": {
           "color": "#2a3f5f"
          },
          "geo": {
           "bgcolor": "white",
           "lakecolor": "white",
           "landcolor": "#E5ECF6",
           "showlakes": true,
           "showland": true,
           "subunitcolor": "white"
          },
          "hoverlabel": {
           "align": "left"
          },
          "hovermode": "closest",
          "mapbox": {
           "style": "light"
          },
          "paper_bgcolor": "white",
          "plot_bgcolor": "#E5ECF6",
          "polar": {
           "angularaxis": {
            "gridcolor": "white",
            "linecolor": "white",
            "ticks": ""
           },
           "bgcolor": "#E5ECF6",
           "radialaxis": {
            "gridcolor": "white",
            "linecolor": "white",
            "ticks": ""
           }
          },
          "scene": {
           "xaxis": {
            "backgroundcolor": "#E5ECF6",
            "gridcolor": "white",
            "gridwidth": 2,
            "linecolor": "white",
            "showbackground": true,
            "ticks": "",
            "zerolinecolor": "white"
           },
           "yaxis": {
            "backgroundcolor": "#E5ECF6",
            "gridcolor": "white",
            "gridwidth": 2,
            "linecolor": "white",
            "showbackground": true,
            "ticks": "",
            "zerolinecolor": "white"
           },
           "zaxis": {
            "backgroundcolor": "#E5ECF6",
            "gridcolor": "white",
            "gridwidth": 2,
            "linecolor": "white",
            "showbackground": true,
            "ticks": "",
            "zerolinecolor": "white"
           }
          },
          "shapedefaults": {
           "line": {
            "color": "#2a3f5f"
           }
          },
          "ternary": {
           "aaxis": {
            "gridcolor": "white",
            "linecolor": "white",
            "ticks": ""
           },
           "baxis": {
            "gridcolor": "white",
            "linecolor": "white",
            "ticks": ""
           },
           "bgcolor": "#E5ECF6",
           "caxis": {
            "gridcolor": "white",
            "linecolor": "white",
            "ticks": ""
           }
          },
          "title": {
           "x": 0.05
          },
          "xaxis": {
           "automargin": true,
           "gridcolor": "white",
           "linecolor": "white",
           "ticks": "",
           "title": {
            "standoff": 15
           },
           "zerolinecolor": "white",
           "zerolinewidth": 2
          },
          "yaxis": {
           "automargin": true,
           "gridcolor": "white",
           "linecolor": "white",
           "ticks": "",
           "title": {
            "standoff": 15
           },
           "zerolinecolor": "white",
           "zerolinewidth": 2
          }
         }
        },
        "title": {
         "font": {
          "size": 20
         },
         "text": "Education, Government trust, and CPI",
         "x": 0.45,
         "xanchor": "center",
         "y": 0.95,
         "yanchor": "top"
        }
       }
      },
      "text/html": [
       "<div>                            <div id=\"58325307-c23b-41b9-86d3-3464beca8086\" class=\"plotly-graph-div\" style=\"height:700px; width:100%;\"></div>            <script type=\"text/javascript\">                require([\"plotly\"], function(Plotly) {                    window.PLOTLYENV=window.PLOTLYENV || {};                                    if (document.getElementById(\"58325307-c23b-41b9-86d3-3464beca8086\")) {                    Plotly.newPlot(                        \"58325307-c23b-41b9-86d3-3464beca8086\",                        [{\"customdata\":[[\"Afghanistan\"],[\"Afghanistan\"],[\"Afghanistan\"],[\"Afghanistan\"],[\"Armenia\"],[\"Armenia\"],[\"Armenia\"],[\"Armenia\"],[\"Azerbaijan\"],[\"Azerbaijan\"],[\"Azerbaijan\"],[\"Azerbaijan\"],[\"Bahrain\"],[\"Bahrain\"],[\"Bahrain\"],[\"Bahrain\"],[\"Bangladesh\"],[\"Bangladesh\"],[\"Bangladesh\"],[\"Bangladesh\"],[\"Cambodia\"],[\"Cambodia\"],[\"Cambodia\"],[\"Cambodia\"],[\"China\"],[\"China\"],[\"China\"],[\"China\"],[\"China\"],[\"China\"],[\"China\"],[\"China\"],[\"Cyprus\"],[\"Cyprus\"],[\"Cyprus\"],[\"Cyprus\"],[\"Georgia\"],[\"Georgia\"],[\"Georgia\"],[\"Georgia\"],[\"India\"],[\"India\"],[\"India\"],[\"India\"],[\"Indonesia\"],[\"Indonesia\"],[\"Indonesia\"],[\"Indonesia\"],[\"Iran\"],[\"Iran\"],[\"Iran\"],[\"Iran\"],[\"Iraq\"],[\"Iraq\"],[\"Iraq\"],[\"Iraq\"],[\"Israel\"],[\"Israel\"],[\"Israel\"],[\"Israel\"],[\"Japan\"],[\"Japan\"],[\"Japan\"],[\"Japan\"],[\"Jordan\"],[\"Jordan\"],[\"Jordan\"],[\"Jordan\"],[\"Kazakhstan\"],[\"Kazakhstan\"],[\"Kazakhstan\"],[\"Kazakhstan\"],[\"Kuwait\"],[\"Kuwait\"],[\"Kuwait\"],[\"Kuwait\"],[\"Kyrgyzstan\"],[\"Kyrgyzstan\"],[\"Kyrgyzstan\"],[\"Kyrgyzstan\"],[\"Lebanon\"],[\"Lebanon\"],[\"Lebanon\"],[\"Lebanon\"],[\"Malaysia\"],[\"Malaysia\"],[\"Malaysia\"],[\"Malaysia\"],[\"Mongolia\"],[\"Mongolia\"],[\"Mongolia\"],[\"Mongolia\"],[\"Myanmar\"],[\"Myanmar\"],[\"Myanmar\"],[\"Myanmar\"],[\"Nepal\"],[\"Nepal\"],[\"Nepal\"],[\"Nepal\"],[\"Pakistan\"],[\"Pakistan\"],[\"Pakistan\"],[\"Pakistan\"],[\"Philippines\"],[\"Philippines\"],[\"Philippines\"],[\"Philippines\"],[\"Saudi Arabia\"],[\"Saudi Arabia\"],[\"Saudi Arabia\"],[\"Saudi Arabia\"],[\"Singapore\"],[\"Singapore\"],[\"Singapore\"],[\"Singapore\"],[\"Sri Lanka\"],[\"Sri Lanka\"],[\"Sri Lanka\"],[\"Sri Lanka\"],[\"Tajikistan\"],[\"Tajikistan\"],[\"Tajikistan\"],[\"Tajikistan\"],[\"Thailand\"],[\"Thailand\"],[\"Thailand\"],[\"Thailand\"],[\"Turkey\"],[\"Turkey\"],[\"Turkey\"],[\"Turkey\"],[\"Turkmenistan\"],[\"Turkmenistan\"],[\"Turkmenistan\"],[\"Turkmenistan\"],[\"United Arab Emirates\"],[\"United Arab Emirates\"],[\"United Arab Emirates\"],[\"United Arab Emirates\"],[\"Uzbekistan\"],[\"Uzbekistan\"],[\"Uzbekistan\"],[\"Uzbekistan\"],[\"Vietnam\"],[\"Vietnam\"],[\"Vietnam\"],[\"Vietnam\"],[\"Yemen\"],[\"Yemen\"],[\"Yemen\"],[\"Yemen\"]],\"hovertemplate\":\"continent=Asia\\u003cbr\\u003eEducation_Index=%{x}\\u003cbr\\u003egovernment_trust=%{y}\\u003cbr\\u003ecpi_score=%{z}\\u003cbr\\u003egdp_per_capita=%{marker.size}\\u003cbr\\u003eCountry=%{customdata[0]}\\u003cextra\\u003e\\u003c\\u002fextra\\u003e\",\"legendgroup\":\"Asia\",\"marker\":{\"color\":\"#636efa\",\"opacity\":0.5,\"size\":[0.3508,0.3508,0.3508,0.3508,0.8337,0.8337,0.8337,0.8337,1.0611,1.0611,1.0611,1.0611,1.378,1.378,1.378,1.378,0.5196,0.5196,0.5196,0.5196,0.5463,0.5463,0.5463,0.5463,0.9973,0.9973,0.9973,0.9973,0.9973,0.9973,0.9973,0.9973,1.264,1.264,1.264,1.264,0.8579,0.8579,0.8579,0.8579,0.7283,0.7283,0.7283,0.7283,0.9135,0.9135,0.9135,0.9135,1.0812,1.0812,1.0812,1.0812,1.0353,1.0353,1.0353,1.0353,1.2952,1.2952,1.2952,1.2952,1.3272,1.3272,1.3272,1.3272,0.888,0.888,0.888,0.888,1.1808,1.1808,1.1808,1.1808,1.5403,1.5403,1.5403,1.5403,0.5379,0.5379,0.5379,0.5379,1.0132,1.0132,1.0132,1.0132,1.1995,1.1995,1.1995,1.1995,0.9294,0.9294,0.9294,0.9294,0.5075,0.5075,0.5075,0.5075,0.4277,0.4277,0.4277,0.4277,0.6628,0.6628,0.6628,0.6628,0.7863,0.7863,0.7863,0.7863,1.427,1.427,1.427,1.427,1.5788,1.5788,1.5788,1.5788,0.928,0.928,0.928,0.928,0.4705,0.4705,0.4705,0.4705,1.0402,1.0402,1.0402,1.0402,1.1476,1.1476,1.1476,1.1476,1.0393,1.0393,1.0393,1.0393,1.6632,1.6632,1.6632,1.6632,0.7207,0.7207,0.7207,0.7207,0.7192,0.7192,0.7192,0.7192,0.4668,0.4668,0.4668,0.4668],\"sizemode\":\"area\",\"sizeref\":0.0008213333333333333,\"symbol\":\"circle\"},\"mode\":\"markers\",\"name\":\"Asia\",\"scene\":\"scene\",\"showlegend\":true,\"x\":[0.45,0.45,0.45,0.45,0.7625,0.7625,0.7625,0.7625,0.715,0.715,0.715,0.715,0.775,0.775,0.775,0.775,0.53,0.53,0.53,0.53,0.5175,0.5175,0.5175,0.5175,0.7025,0.7025,0.7025,0.7025,0.7025,0.7025,0.7025,0.7025,0.82,0.82,0.82,0.82,0.8575,0.8575,0.8575,0.8575,0.5875,0.5875,0.5875,0.5875,0.6475,0.6475,0.6475,0.6475,0.77,0.77,0.77,0.77,0.5425,0.5425,0.5425,0.5425,0.89,0.89,0.89,0.89,0.8575,0.8575,0.8575,0.8575,0.7175,0.7175,0.7175,0.7175,0.8325,0.8325,0.8325,0.8325,0.655,0.655,0.655,0.655,0.7475,0.7475,0.7475,0.7475,0.6475,0.6475,0.6475,0.6475,0.735,0.735,0.735,0.735,0.785,0.785,0.785,0.785,0.4725,0.4725,0.4725,0.4725,0.54,0.54,0.54,0.54,0.4275,0.4275,0.4275,0.4275,0.6825,0.6825,0.6825,0.6825,0.83,0.83,0.83,0.83,0.86,0.86,0.86,0.86,0.77,0.77,0.77,0.77,0.67,0.67,0.67,0.67,0.69,0.69,0.69,0.69,0.735,0.735,0.735,0.735,0.6325,0.6325,0.6325,0.6325,0.7525,0.7525,0.7525,0.7525,0.715,0.715,0.715,0.715,0.65,0.65,0.65,0.65,0.38,0.38,0.38,0.38],\"y\":[0.0548,0.0548,0.0548,0.0548,0.0394,0.0394,0.0394,0.0394,0.1749,0.1749,0.1749,0.1749,0.199,0.199,0.199,0.199,0.1341,0.1341,0.1341,0.1341,0.0669,0.0669,0.0669,0.0669,0.0634,0.0634,0.0634,0.0634,0.0634,0.0634,0.0634,0.0634,0.0447,0.0447,0.0447,0.0447,0.2535,0.2535,0.2535,0.2535,0.0888,0.0888,0.0888,0.0888,0.0153,0.0153,0.0153,0.0153,0.0903,0.0903,0.0903,0.0903,0.1073,0.1073,0.1073,0.1073,0.1293,0.1293,0.1293,0.1293,0.1586,0.1586,0.1586,0.1586,0.1317,0.1317,0.1317,0.1317,0.1052,0.1052,0.1052,0.1052,0.1686,0.1686,0.1686,0.1686,0.0349,0.0349,0.0349,0.0349,0.0616,0.0616,0.0616,0.0616,0.0634,0.0634,0.0634,0.0634,0.0324,0.0324,0.0324,0.0324,0.1823,0.1823,0.1823,0.1823,0.0748,0.0748,0.0748,0.0748,0.11,0.11,0.11,0.11,0.1085,0.1085,0.1085,0.1085,0.2144,0.2144,0.2144,0.2144,0.4666,0.4666,0.4666,0.4666,0.0656,0.0656,0.0656,0.0656,0.1188,0.1188,0.1188,0.1188,0.0301,0.0301,0.0301,0.0301,0.118,0.118,0.118,0.118,0.1582,0.1582,0.1582,0.1582,0.3011,0.3011,0.3011,0.3011,0.2634,0.2634,0.2634,0.2634,0.086,0.086,0.086,0.086,0.0691,0.0691,0.0691,0.0691],\"z\":[14.25,14.25,14.25,14.25,34.5,34.5,34.5,34.5,28.75,28.75,28.75,28.75,41.5,41.5,41.5,41.5,26.25,26.25,26.25,26.25,20.75,20.75,20.75,20.75,39.25,39.25,39.25,39.25,39.25,39.25,39.25,39.25,58.0,58.0,58.0,58.0,55.75,55.75,55.75,55.75,39.75,39.75,39.75,39.75,37.0,37.0,37.0,37.0,28.5,28.5,28.5,28.5,17.25,17.25,17.25,17.25,62.0,62.0,62.0,62.0,73.25,73.25,73.25,73.25,49.5,49.5,49.5,49.5,29.75,29.75,29.75,29.75,42.5,42.5,42.5,42.5,28.5,28.5,28.5,28.5,28.0,28.0,28.0,28.0,48.25,48.25,48.25,48.25,37.5,37.5,37.5,37.5,27.25,27.25,27.25,27.25,29.5,29.5,29.5,29.5,31.75,31.75,31.75,31.75,35.0,35.0,35.0,35.0,49.0,49.0,49.0,49.0,84.5,84.5,84.5,84.5,37.25,37.25,37.25,37.25,24.25,24.25,24.25,24.25,36.5,36.5,36.5,36.5,41.0,41.0,41.0,41.0,19.75,19.75,19.75,19.75,69.25,69.25,69.25,69.25,21.25,21.25,21.25,21.25,33.0,33.0,33.0,33.0,15.5,15.5,15.5,15.5],\"type\":\"scatter3d\"},{\"customdata\":[[\"Albania\"],[\"Albania\"],[\"Albania\"],[\"Albania\"],[\"Austria\"],[\"Austria\"],[\"Austria\"],[\"Austria\"],[\"Belarus\"],[\"Belarus\"],[\"Belarus\"],[\"Belarus\"],[\"Belgium\"],[\"Belgium\"],[\"Belgium\"],[\"Belgium\"],[\"Bosnia and Herzegovina\"],[\"Bosnia and Herzegovina\"],[\"Bosnia and Herzegovina\"],[\"Bosnia and Herzegovina\"],[\"Bulgaria\"],[\"Bulgaria\"],[\"Bulgaria\"],[\"Bulgaria\"],[\"Croatia\"],[\"Croatia\"],[\"Croatia\"],[\"Croatia\"],[\"Denmark\"],[\"Denmark\"],[\"Denmark\"],[\"Denmark\"],[\"Estonia\"],[\"Estonia\"],[\"Estonia\"],[\"Estonia\"],[\"Finland\"],[\"Finland\"],[\"Finland\"],[\"Finland\"],[\"France\"],[\"France\"],[\"France\"],[\"France\"],[\"Germany\"],[\"Germany\"],[\"Germany\"],[\"Germany\"],[\"Greece\"],[\"Greece\"],[\"Greece\"],[\"Greece\"],[\"Hungary\"],[\"Hungary\"],[\"Hungary\"],[\"Hungary\"],[\"Iceland\"],[\"Iceland\"],[\"Iceland\"],[\"Iceland\"],[\"Ireland\"],[\"Ireland\"],[\"Ireland\"],[\"Ireland\"],[\"Italy\"],[\"Italy\"],[\"Italy\"],[\"Italy\"],[\"Latvia\"],[\"Latvia\"],[\"Latvia\"],[\"Latvia\"],[\"Lithuania\"],[\"Lithuania\"],[\"Lithuania\"],[\"Lithuania\"],[\"Luxembourg\"],[\"Luxembourg\"],[\"Luxembourg\"],[\"Luxembourg\"],[\"Malta\"],[\"Malta\"],[\"Malta\"],[\"Malta\"],[\"Moldova\"],[\"Moldova\"],[\"Moldova\"],[\"Moldova\"],[\"Montenegro\"],[\"Montenegro\"],[\"Montenegro\"],[\"Montenegro\"],[\"Netherlands\"],[\"Netherlands\"],[\"Netherlands\"],[\"Netherlands\"],[\"Norway\"],[\"Norway\"],[\"Norway\"],[\"Norway\"],[\"Poland\"],[\"Poland\"],[\"Poland\"],[\"Poland\"],[\"Portugal\"],[\"Portugal\"],[\"Portugal\"],[\"Portugal\"],[\"Romania\"],[\"Romania\"],[\"Romania\"],[\"Romania\"],[\"Russia\"],[\"Russia\"],[\"Russia\"],[\"Russia\"],[\"Serbia\"],[\"Serbia\"],[\"Serbia\"],[\"Serbia\"],[\"Slovakia\"],[\"Slovakia\"],[\"Slovakia\"],[\"Slovakia\"],[\"Slovenia\"],[\"Slovenia\"],[\"Slovenia\"],[\"Slovenia\"],[\"Spain\"],[\"Spain\"],[\"Spain\"],[\"Spain\"],[\"Sweden\"],[\"Sweden\"],[\"Sweden\"],[\"Sweden\"],[\"Switzerland\"],[\"Switzerland\"],[\"Switzerland\"],[\"Switzerland\"],[\"Ukraine\"],[\"Ukraine\"],[\"Ukraine\"],[\"Ukraine\"],[\"United Kingdom\"],[\"United Kingdom\"],[\"United Kingdom\"],[\"United Kingdom\"]],\"hovertemplate\":\"continent=Europe\\u003cbr\\u003eEducation_Index=%{x}\\u003cbr\\u003egovernment_trust=%{y}\\u003cbr\\u003ecpi_score=%{z}\\u003cbr\\u003egdp_per_capita=%{marker.size}\\u003cbr\\u003eCountry=%{customdata[0]}\\u003cextra\\u003e\\u003c\\u002fextra\\u003e\",\"legendgroup\":\"Europe\",\"marker\":{\"color\":\"#EF553B\",\"opacity\":0.5,\"size\":[0.9345,0.9345,0.9345,0.9345,1.3853,1.3853,1.3853,1.3853,1.0736,1.0736,1.0736,1.0736,1.3629,1.3629,1.3629,1.3629,0.9187,0.9187,0.9187,0.9187,1.0799,1.0799,1.0799,1.0799,1.1438,1.1438,1.1438,1.1438,1.3855,1.3855,1.3855,1.3855,1.2274,1.2274,1.2274,1.2274,1.3447,1.3447,1.3447,1.3447,1.3314,1.3314,1.3314,1.3314,1.3822,1.3822,1.3822,1.3822,1.1946,1.1946,1.1946,1.1946,1.1947,1.1947,1.1947,1.1947,1.3765,1.3765,1.3765,1.3765,1.4547,1.4547,1.4547,1.4547,1.3011,1.3011,1.3011,1.3011,1.1772,1.1772,1.1772,1.1772,1.2242,1.2242,1.2242,1.2242,1.6227,1.6227,1.6227,1.6227,1.2802,1.2802,1.2802,1.2802,0.6663,0.6663,0.6663,0.6663,1.0409,1.0409,1.0409,1.0409,1.3976,1.3976,1.3976,1.3976,1.5049,1.5049,1.5049,1.5049,1.1998,1.1998,1.1998,1.1998,1.221,1.221,1.221,1.221,1.1348,1.1348,1.1348,1.1348,1.1884,1.1884,1.1884,1.1884,0.9922,0.9922,0.9922,0.9922,1.2376,1.2376,1.2376,1.2376,1.2508,1.2508,1.2508,1.2508,1.2879,1.2879,1.2879,1.2879,1.392,1.392,1.392,1.392,1.4584,1.4584,1.4584,1.4584,0.8267,0.8267,0.8267,0.8267,1.3213,1.3213,1.3213,1.3213],\"sizemode\":\"area\",\"sizeref\":0.0008213333333333333,\"symbol\":\"circle\"},\"mode\":\"markers\",\"name\":\"Europe\",\"scene\":\"scene\",\"showlegend\":true,\"x\":[0.7725,0.7725,0.7725,0.7725,0.875,0.875,0.875,0.875,0.8575,0.8575,0.8575,0.8575,0.9875,0.9875,0.9875,0.9875,0.7325,0.7325,0.7325,0.7325,0.8225,0.8225,0.8225,0.8225,0.8125,0.8125,0.8125,0.8125,0.99,0.99,0.99,0.99,0.8925,0.8925,0.8925,0.8925,0.945,0.945,0.945,0.945,0.86,0.86,0.86,0.86,0.96,0.96,0.96,0.96,0.875,0.875,0.875,0.875,0.83,0.83,0.83,0.83,0.9875,0.9875,0.9875,0.9875,0.9925,0.9925,0.9925,0.9925,0.83,0.83,0.83,0.83,0.8825,0.8825,0.8825,0.8825,0.9025,0.9025,0.9025,0.9025,0.8025,0.8025,0.8025,0.8025,0.8375,0.8375,0.8375,0.8375,0.71,0.71,0.71,0.71,0.8125,0.8125,0.8125,0.8125,0.94,0.94,0.94,0.94,0.9475,0.9475,0.9475,0.9475,0.885,0.885,0.885,0.885,0.8,0.8,0.8,0.8,0.7825,0.7825,0.7825,0.7825,0.85,0.85,0.85,0.85,0.7975,0.7975,0.7975,0.7975,0.845,0.845,0.845,0.845,0.915,0.915,0.915,0.915,0.8675,0.8675,0.8675,0.8675,0.94,0.94,0.94,0.94,0.91,0.91,0.91,0.91,0.8125,0.8125,0.8125,0.8125,0.94,0.94,0.94,0.94],\"y\":[0.0407,0.0407,0.0407,0.0407,0.2145,0.2145,0.2145,0.2145,0.1608,0.1608,0.1608,0.1608,0.2317,0.2317,0.2317,0.2317,0.0021,0.0021,0.0021,0.0021,0.0082,0.0082,0.0082,0.0082,0.0321,0.0321,0.0321,0.0321,0.4256,0.4256,0.4256,0.4256,0.1675,0.1675,0.1675,0.1675,0.3956,0.3956,0.3956,0.3956,0.1845,0.1845,0.1845,0.1845,0.26,0.26,0.26,0.26,0.0338,0.0338,0.0338,0.0338,0.0266,0.0266,0.0266,0.0266,0.1377,0.1377,0.1377,0.1377,0.3004,0.3004,0.3004,0.3004,0.0288,0.0288,0.0288,0.0288,0.0668,0.0668,0.0668,0.0668,0.0175,0.0175,0.0175,0.0175,0.3335,0.3335,0.3335,0.3335,0.1455,0.1455,0.1455,0.1455,0.0066,0.0066,0.0066,0.0066,0.098,0.098,0.098,0.098,0.2985,0.2985,0.2985,0.2985,0.3405,0.3405,0.3405,0.3405,0.0539,0.0539,0.0539,0.0539,0.0172,0.0172,0.0172,0.0172,0.0042,0.0042,0.0042,0.0042,0.0298,0.0298,0.0298,0.0298,0.0373,0.0373,0.0373,0.0373,0.0216,0.0216,0.0216,0.0216,0.0477,0.0477,0.0477,0.0477,0.072,0.072,0.072,0.072,0.3947,0.3947,0.3947,0.3947,0.3717,0.3717,0.3717,0.3717,0.0184,0.0184,0.0184,0.0184,0.2365,0.2365,0.2365,0.2365],\"z\":[37.25,37.25,37.25,37.25,75.5,75.5,75.5,75.5,40.0,40.0,40.0,40.0,76.0,76.0,76.0,76.0,38.25,38.25,38.25,38.25,41.75,41.75,41.75,41.75,49.25,49.25,49.25,49.25,89.25,89.25,89.25,89.25,71.0,71.0,71.0,71.0,87.25,87.25,87.25,87.25,70.25,70.25,70.25,70.25,80.75,80.75,80.75,80.75,45.75,45.75,45.75,45.75,47.5,47.5,47.5,47.5,77.5,77.5,77.5,77.5,73.75,73.75,73.75,73.75,48.25,48.25,48.25,48.25,57.25,57.25,57.25,57.25,59.0,59.0,59.0,59.0,82.25,82.25,82.25,82.25,56.25,56.25,56.25,56.25,31.75,31.75,31.75,31.75,45.0,45.0,45.0,45.0,82.75,82.75,82.75,82.75,85.5,85.5,85.5,85.5,61.25,61.25,61.25,61.25,63.25,63.25,63.25,63.25,47.25,47.25,47.25,47.25,28.75,28.75,28.75,28.75,40.5,40.5,40.5,40.5,50.5,50.5,50.5,50.5,60.5,60.5,60.5,60.5,57.75,57.75,57.75,57.75,86.5,86.5,86.5,86.5,85.5,85.5,85.5,85.5,29.5,29.5,29.5,29.5,81.0,81.0,81.0,81.0],\"type\":\"scatter3d\"},{\"customdata\":[[\"Algeria\"],[\"Algeria\"],[\"Algeria\"],[\"Algeria\"],[\"Benin\"],[\"Benin\"],[\"Benin\"],[\"Benin\"],[\"Botswana\"],[\"Botswana\"],[\"Botswana\"],[\"Botswana\"],[\"Burkina Faso\"],[\"Burkina Faso\"],[\"Burkina Faso\"],[\"Burkina Faso\"],[\"Burundi\"],[\"Burundi\"],[\"Burundi\"],[\"Burundi\"],[\"Cameroon\"],[\"Cameroon\"],[\"Cameroon\"],[\"Cameroon\"],[\"Chad\"],[\"Chad\"],[\"Chad\"],[\"Chad\"],[\"Egypt\"],[\"Egypt\"],[\"Egypt\"],[\"Egypt\"],[\"Ethiopia\"],[\"Ethiopia\"],[\"Ethiopia\"],[\"Ethiopia\"],[\"Gabon\"],[\"Gabon\"],[\"Gabon\"],[\"Gabon\"],[\"Ghana\"],[\"Ghana\"],[\"Ghana\"],[\"Ghana\"],[\"Kenya\"],[\"Kenya\"],[\"Kenya\"],[\"Kenya\"],[\"Liberia\"],[\"Liberia\"],[\"Liberia\"],[\"Liberia\"],[\"Libya\"],[\"Libya\"],[\"Libya\"],[\"Libya\"],[\"Madagascar\"],[\"Madagascar\"],[\"Madagascar\"],[\"Madagascar\"],[\"Malawi\"],[\"Malawi\"],[\"Malawi\"],[\"Malawi\"],[\"Mali\"],[\"Mali\"],[\"Mali\"],[\"Mali\"],[\"Mauritania\"],[\"Mauritania\"],[\"Mauritania\"],[\"Mauritania\"],[\"Mauritius\"],[\"Mauritius\"],[\"Mauritius\"],[\"Mauritius\"],[\"Morocco\"],[\"Morocco\"],[\"Morocco\"],[\"Morocco\"],[\"Niger\"],[\"Niger\"],[\"Niger\"],[\"Niger\"],[\"Nigeria\"],[\"Nigeria\"],[\"Nigeria\"],[\"Nigeria\"],[\"Rwanda\"],[\"Rwanda\"],[\"Rwanda\"],[\"Rwanda\"],[\"Senegal\"],[\"Senegal\"],[\"Senegal\"],[\"Senegal\"],[\"Sierra Leone\"],[\"Sierra Leone\"],[\"Sierra Leone\"],[\"Sierra Leone\"],[\"South Africa\"],[\"South Africa\"],[\"South Africa\"],[\"South Africa\"],[\"Tanzania\"],[\"Tanzania\"],[\"Tanzania\"],[\"Tanzania\"],[\"Togo\"],[\"Togo\"],[\"Togo\"],[\"Togo\"],[\"Tunisia\"],[\"Tunisia\"],[\"Tunisia\"],[\"Tunisia\"],[\"Uganda\"],[\"Uganda\"],[\"Uganda\"],[\"Uganda\"],[\"Zambia\"],[\"Zambia\"],[\"Zambia\"],[\"Zambia\"],[\"Zimbabwe\"],[\"Zimbabwe\"],[\"Zimbabwe\"],[\"Zimbabwe\"]],\"hovertemplate\":\"continent=Africa\\u003cbr\\u003eEducation_Index=%{x}\\u003cbr\\u003egovernment_trust=%{y}\\u003cbr\\u003ecpi_score=%{z}\\u003cbr\\u003egdp_per_capita=%{marker.size}\\u003cbr\\u003eCountry=%{customdata[0]}\\u003cextra\\u003e\\u003c\\u002fextra\\u003e\",\"legendgroup\":\"Africa\",\"marker\":{\"color\":\"#00cc96\",\"opacity\":0.5,\"size\":[1.003,1.003,1.003,1.003,0.3722,0.3722,0.3722,0.3722,1.0434,1.0434,1.0434,1.0434,0.3133,0.3133,0.3133,0.3133,0.061,0.061,0.061,0.061,0.5177,0.5177,0.5177,0.5177,0.372,0.372,0.372,0.372,0.9174,0.9174,0.9174,0.9174,0.2935,0.2935,0.2935,0.2935,1.0879,1.0879,1.0879,1.0879,0.604,0.604,0.604,0.604,0.4825,0.4825,0.4825,0.4825,0.0848,0.0848,0.0848,0.0848,1.0656,1.0656,1.0656,1.0656,0.2625,0.2625,0.2625,0.2625,0.1566,0.1566,0.1566,0.1566,0.373,0.373,0.373,0.373,0.5574,0.5574,0.5574,0.5574,1.1018,1.1018,1.1018,1.1018,0.7982,0.7982,0.7982,0.7982,0.1251,0.1251,0.1251,0.1251,0.7058,0.7058,0.7058,0.7058,0.3205,0.3205,0.3205,0.3205,0.4308,0.4308,0.4308,0.4308,0.3057,0.3057,0.3057,0.3057,0.9688,0.9688,0.9688,0.9688,0.4318,0.4318,0.4318,0.4318,0.262,0.262,0.262,0.262,0.9273,0.9273,0.9273,0.9273,0.3116,0.3116,0.3116,0.3116,0.5617,0.5617,0.5617,0.5617,0.3425,0.3425,0.3425,0.3425],\"sizemode\":\"area\",\"sizeref\":0.0008213333333333333,\"symbol\":\"circle\"},\"mode\":\"markers\",\"name\":\"Africa\",\"scene\":\"scene\",\"showlegend\":true,\"x\":[0.7025,0.7025,0.7025,0.7025,0.5225,0.5225,0.5225,0.5225,0.68,0.68,0.68,0.68,0.33,0.33,0.33,0.33,0.4675,0.4675,0.4675,0.4675,0.585,0.585,0.585,0.585,0.3275,0.3275,0.3275,0.3275,0.6375,0.6375,0.6375,0.6375,0.3625,0.3625,0.3625,0.3625,0.6525,0.6525,0.6525,0.6525,0.58,0.58,0.58,0.58,0.5675,0.5675,0.5675,0.5675,0.4575,0.4575,0.4575,0.4575,0.6475,0.6475,0.6475,0.6475,0.52,0.52,0.52,0.52,0.4875,0.4875,0.4875,0.4875,0.315,0.315,0.315,0.315,0.41,0.41,0.41,0.41,0.76,0.76,0.76,0.76,0.5675,0.5675,0.5675,0.5675,0.2425,0.2425,0.2425,0.2425,0.505,0.505,0.505,0.505,0.485,0.485,0.485,0.485,0.395,0.395,0.395,0.395,0.4225,0.4225,0.4225,0.4225,0.725,0.725,0.725,0.725,0.4525,0.4525,0.4525,0.4525,0.55,0.55,0.55,0.55,0.6975,0.6975,0.6975,0.6975,0.5425,0.5425,0.5425,0.5425,0.6075,0.6075,0.6075,0.6075,0.5725,0.5725,0.5725,0.5725],\"y\":[0.1422,0.1422,0.1422,0.1422,0.0725,0.0725,0.0725,0.0725,0.1038,0.1038,0.1038,0.1038,0.1224,0.1224,0.1224,0.1224,0.1102,0.1102,0.1102,0.1102,0.0473,0.0473,0.0473,0.0473,0.0611,0.0611,0.0611,0.0611,0.0879,0.0879,0.0879,0.0879,0.1405,0.1405,0.1405,0.1405,0.0735,0.0735,0.0735,0.0735,0.0345,0.0345,0.0345,0.0345,0.0578,0.0578,0.0578,0.0578,0.0411,0.0411,0.0411,0.0411,0.1257,0.1257,0.1257,0.1257,0.0596,0.0596,0.0596,0.0596,0.0779,0.0779,0.0779,0.0779,0.0841,0.0841,0.0841,0.0841,0.1231,0.1231,0.1231,0.1231,0.0568,0.0568,0.0568,0.0568,0.0808,0.0808,0.0808,0.0808,0.124,0.124,0.124,0.124,0.0349,0.0349,0.0349,0.0349,0.4655,0.4655,0.4655,0.4655,0.0941,0.0941,0.0941,0.0941,0.0642,0.0642,0.0642,0.0642,0.0681,0.0681,0.0681,0.0681,0.0919,0.0919,0.0919,0.0919,0.0972,0.0972,0.0972,0.0972,0.0671,0.0671,0.0671,0.0671,0.0627,0.0627,0.0627,0.0627,0.093,0.093,0.093,0.093,0.091,0.091,0.091,0.091],\"z\":[34.5,34.5,34.5,34.5,38.0,38.0,38.0,38.0,61.25,61.25,61.25,61.25,40.75,40.75,40.75,40.75,20.0,20.0,20.0,20.0,25.75,25.75,25.75,25.75,20.25,20.25,20.25,20.25,34.25,34.25,34.25,34.25,34.0,34.0,34.0,34.0,33.0,33.0,33.0,33.0,42.75,42.75,42.75,42.75,26.5,26.5,26.5,26.5,34.25,34.25,34.25,34.25,16.0,16.0,16.0,16.0,25.75,25.75,25.75,25.75,31.25,31.25,31.25,31.25,32.5,32.5,32.5,32.5,28.25,28.25,28.25,28.25,52.0,52.0,52.0,52.0,39.0,39.0,39.0,39.0,34.0,34.0,34.0,34.0,27.0,27.0,27.0,27.0,54.75,54.75,54.75,54.75,44.75,44.75,44.75,44.75,29.75,29.75,29.75,29.75,43.75,43.75,43.75,43.75,33.5,33.5,33.5,33.5,31.5,31.5,31.5,31.5,41.0,41.0,41.0,41.0,25.5,25.5,25.5,25.5,37.0,37.0,37.0,37.0,21.75,21.75,21.75,21.75],\"type\":\"scatter3d\"},{\"customdata\":[[\"Argentina\"],[\"Argentina\"],[\"Argentina\"],[\"Argentina\"],[\"Bolivia\"],[\"Bolivia\"],[\"Bolivia\"],[\"Bolivia\"],[\"Brazil\"],[\"Brazil\"],[\"Brazil\"],[\"Brazil\"],[\"Chile\"],[\"Chile\"],[\"Chile\"],[\"Chile\"],[\"Colombia\"],[\"Colombia\"],[\"Colombia\"],[\"Colombia\"],[\"Costa Rica\"],[\"Costa Rica\"],[\"Costa Rica\"],[\"Costa Rica\"],[\"Dominican Republic\"],[\"Dominican Republic\"],[\"Dominican Republic\"],[\"Dominican Republic\"],[\"Ecuador\"],[\"Ecuador\"],[\"Ecuador\"],[\"Ecuador\"],[\"El Salvador\"],[\"El Salvador\"],[\"El Salvador\"],[\"El Salvador\"],[\"Guatemala\"],[\"Guatemala\"],[\"Guatemala\"],[\"Guatemala\"],[\"Guinea\"],[\"Guinea\"],[\"Guinea\"],[\"Guinea\"],[\"Haiti\"],[\"Haiti\"],[\"Haiti\"],[\"Haiti\"],[\"Honduras\"],[\"Honduras\"],[\"Honduras\"],[\"Honduras\"],[\"Jamaica\"],[\"Jamaica\"],[\"Jamaica\"],[\"Jamaica\"],[\"Nicaragua\"],[\"Nicaragua\"],[\"Nicaragua\"],[\"Nicaragua\"],[\"Panama\"],[\"Panama\"],[\"Panama\"],[\"Panama\"],[\"Paraguay\"],[\"Paraguay\"],[\"Paraguay\"],[\"Paraguay\"],[\"Peru\"],[\"Peru\"],[\"Peru\"],[\"Peru\"],[\"Uruguay\"],[\"Uruguay\"],[\"Uruguay\"],[\"Uruguay\"],[\"Venezuela\"],[\"Venezuela\"],[\"Venezuela\"],[\"Venezuela\"]],\"hovertemplate\":\"continent=South America\\u003cbr\\u003eEducation_Index=%{x}\\u003cbr\\u003egovernment_trust=%{y}\\u003cbr\\u003ecpi_score=%{z}\\u003cbr\\u003egdp_per_capita=%{marker.size}\\u003cbr\\u003eCountry=%{customdata[0]}\\u003cextra\\u003e\\u003c\\u002fextra\\u003e\",\"legendgroup\":\"South America\",\"marker\":{\"color\":\"#ab63fa\",\"opacity\":0.5,\"size\":[1.101,1.101,1.101,1.101,0.7605,0.7605,0.7605,0.7605,1.0196,1.0196,1.0196,1.0196,1.1625,1.1625,1.1625,1.1625,0.9836,0.9836,0.9836,0.9836,1.0274,1.0274,1.0274,1.0274,0.9929,0.9929,0.9929,0.9929,0.9165,0.9165,0.9165,0.9165,0.8186,0.8186,0.8186,0.8186,0.7996,0.7996,0.7996,0.7996,0.2857,0.2857,0.2857,0.2857,0.3183,0.3183,0.3183,0.3183,0.647,0.647,0.647,0.647,0.8465,0.8465,0.8465,0.8465,0.6731,0.6731,0.6731,0.6731,1.1396,1.1396,1.1396,1.1396,0.8456,0.8456,0.8456,0.8456,0.9574,0.9574,0.9574,0.9574,1.1241,1.1241,1.1241,1.1241,1.0322,1.0322,1.0322,1.0322],\"sizemode\":\"area\",\"sizeref\":0.0008213333333333333,\"symbol\":\"circle\"},\"mode\":\"markers\",\"name\":\"South America\",\"scene\":\"scene\",\"showlegend\":true,\"x\":[0.8625,0.8625,0.8625,0.8625,0.71,0.71,0.71,0.71,0.7275,0.7275,0.7275,0.7275,0.8325,0.8325,0.8325,0.8325,0.7125,0.7125,0.7125,0.7125,0.7525,0.7525,0.7525,0.7525,0.6775,0.6775,0.6775,0.6775,0.73,0.73,0.73,0.73,0.6025,0.6025,0.6025,0.6025,0.5375,0.5375,0.5375,0.5375,0.38,0.38,0.38,0.38,0.4575,0.4575,0.4575,0.4575,0.52,0.52,0.52,0.52,0.7075,0.7075,0.7075,0.7075,0.59,0.59,0.59,0.59,0.705,0.705,0.705,0.705,0.66,0.66,0.66,0.66,0.7175,0.7175,0.7175,0.7175,0.775,0.775,0.775,0.775,0.7475,0.7475,0.7475,0.7475],\"y\":[0.0621,0.0621,0.0621,0.0621,0.0666,0.0666,0.0666,0.0666,0.1151,0.1151,0.1151,0.1151,0.082,0.082,0.082,0.082,0.0427,0.0427,0.0427,0.0427,0.1,0.1,0.1,0.1,0.1158,0.1158,0.1158,0.1158,0.132,0.132,0.132,0.132,0.0909,0.0909,0.0909,0.0909,0.0802,0.0802,0.0802,0.0802,0.1031,0.1031,0.1031,0.1031,0.1214,0.1214,0.1214,0.1214,0.0734,0.0734,0.0734,0.0734,0.0343,0.0343,0.0343,0.0343,0.1447,0.1447,0.1447,0.1447,0.0702,0.0702,0.0702,0.0702,0.0819,0.0819,0.0819,0.0819,0.042,0.042,0.042,0.042,0.1822,0.1822,0.1822,0.1822,0.0685,0.0685,0.0685,0.0685],\"z\":[36.75,36.75,36.75,36.75,32.25,32.25,32.25,32.25,37.5,37.5,37.5,37.5,67.5,67.5,67.5,67.5,36.75,36.75,36.75,36.75,57.0,57.0,57.0,57.0,30.75,30.75,30.75,30.75,32.25,32.25,32.25,32.25,35.75,35.75,35.75,35.75,27.75,27.75,27.75,27.75,26.75,26.75,26.75,26.75,19.75,19.75,19.75,19.75,29.75,29.75,29.75,29.75,42.0,42.0,42.0,42.0,26.0,26.0,26.0,26.0,37.75,37.75,37.75,37.75,28.75,28.75,28.75,28.75,35.75,35.75,35.75,35.75,71.25,71.25,71.25,71.25,17.5,17.5,17.5,17.5],\"type\":\"scatter3d\"},{\"customdata\":[[\"Australia\"],[\"Australia\"],[\"Australia\"],[\"Australia\"],[\"New Zealand\"],[\"New Zealand\"],[\"New Zealand\"],[\"New Zealand\"]],\"hovertemplate\":\"continent=Australia\\u003cbr\\u003eEducation_Index=%{x}\\u003cbr\\u003egovernment_trust=%{y}\\u003cbr\\u003ecpi_score=%{z}\\u003cbr\\u003egdp_per_capita=%{marker.size}\\u003cbr\\u003eCountry=%{customdata[0]}\\u003cextra\\u003e\\u003c\\u002fextra\\u003e\",\"legendgroup\":\"Australia\",\"marker\":{\"color\":\"#FFA15A\",\"opacity\":0.5,\"size\":[1.3825,1.3825,1.3825,1.3825,1.3067,1.3067,1.3067,1.3067],\"sizemode\":\"area\",\"sizeref\":0.0008213333333333333,\"symbol\":\"circle\"},\"mode\":\"markers\",\"name\":\"Australia\",\"scene\":\"scene\",\"showlegend\":true,\"x\":[1.0225,1.0225,1.0225,1.0225,0.9775,0.9775,0.9775,0.9775],\"y\":[0.3124,0.3124,0.3124,0.3124,0.3953,0.3953,0.3953,0.3953],\"z\":[78.0,78.0,78.0,78.0,89.25,89.25,89.25,89.25],\"type\":\"scatter3d\"},{\"customdata\":[[\"Canada\"],[\"Canada\"],[\"Canada\"],[\"Canada\"],[\"Mexico\"],[\"Mexico\"],[\"Mexico\"],[\"Mexico\"],[\"United States\"],[\"United States\"],[\"United States\"],[\"United States\"]],\"hovertemplate\":\"continent=North America\\u003cbr\\u003eEducation_Index=%{x}\\u003cbr\\u003egovernment_trust=%{y}\\u003cbr\\u003ecpi_score=%{z}\\u003cbr\\u003egdp_per_capita=%{marker.size}\\u003cbr\\u003eCountry=%{customdata[0]}\\u003cextra\\u003e\\u003c\\u002fextra\\u003e\",\"legendgroup\":\"North America\",\"marker\":{\"color\":\"#19d3f3\",\"opacity\":0.5,\"size\":[1.3751,1.3751,1.3751,1.3751,1.0704,1.0704,1.0704,1.0704,1.4429,1.4429,1.4429,1.4429],\"sizemode\":\"area\",\"sizeref\":0.0008213333333333333,\"symbol\":\"circle\"},\"mode\":\"markers\",\"name\":\"North America\",\"scene\":\"scene\",\"showlegend\":true,\"x\":[0.9125,0.9125,0.9125,0.9125,0.71,0.71,0.71,0.71,0.92,0.92,0.92,0.92],\"y\":[0.304,0.304,0.304,0.304,0.1285,0.1285,0.1285,0.1285,0.1389,0.1389,0.1389,0.1389],\"z\":[82.0,82.0,82.0,82.0,29.5,29.5,29.5,29.5,74.0,74.0,74.0,74.0],\"type\":\"scatter3d\"}],                        {\"template\":{\"data\":{\"histogram2dcontour\":[{\"type\":\"histogram2dcontour\",\"colorbar\":{\"outlinewidth\":0,\"ticks\":\"\"},\"colorscale\":[[0.0,\"#0d0887\"],[0.1111111111111111,\"#46039f\"],[0.2222222222222222,\"#7201a8\"],[0.3333333333333333,\"#9c179e\"],[0.4444444444444444,\"#bd3786\"],[0.5555555555555556,\"#d8576b\"],[0.6666666666666666,\"#ed7953\"],[0.7777777777777778,\"#fb9f3a\"],[0.8888888888888888,\"#fdca26\"],[1.0,\"#f0f921\"]]}],\"choropleth\":[{\"type\":\"choropleth\",\"colorbar\":{\"outlinewidth\":0,\"ticks\":\"\"}}],\"histogram2d\":[{\"type\":\"histogram2d\",\"colorbar\":{\"outlinewidth\":0,\"ticks\":\"\"},\"colorscale\":[[0.0,\"#0d0887\"],[0.1111111111111111,\"#46039f\"],[0.2222222222222222,\"#7201a8\"],[0.3333333333333333,\"#9c179e\"],[0.4444444444444444,\"#bd3786\"],[0.5555555555555556,\"#d8576b\"],[0.6666666666666666,\"#ed7953\"],[0.7777777777777778,\"#fb9f3a\"],[0.8888888888888888,\"#fdca26\"],[1.0,\"#f0f921\"]]}],\"heatmap\":[{\"type\":\"heatmap\",\"colorbar\":{\"outlinewidth\":0,\"ticks\":\"\"},\"colorscale\":[[0.0,\"#0d0887\"],[0.1111111111111111,\"#46039f\"],[0.2222222222222222,\"#7201a8\"],[0.3333333333333333,\"#9c179e\"],[0.4444444444444444,\"#bd3786\"],[0.5555555555555556,\"#d8576b\"],[0.6666666666666666,\"#ed7953\"],[0.7777777777777778,\"#fb9f3a\"],[0.8888888888888888,\"#fdca26\"],[1.0,\"#f0f921\"]]}],\"heatmapgl\":[{\"type\":\"heatmapgl\",\"colorbar\":{\"outlinewidth\":0,\"ticks\":\"\"},\"colorscale\":[[0.0,\"#0d0887\"],[0.1111111111111111,\"#46039f\"],[0.2222222222222222,\"#7201a8\"],[0.3333333333333333,\"#9c179e\"],[0.4444444444444444,\"#bd3786\"],[0.5555555555555556,\"#d8576b\"],[0.6666666666666666,\"#ed7953\"],[0.7777777777777778,\"#fb9f3a\"],[0.8888888888888888,\"#fdca26\"],[1.0,\"#f0f921\"]]}],\"contourcarpet\":[{\"type\":\"contourcarpet\",\"colorbar\":{\"outlinewidth\":0,\"ticks\":\"\"}}],\"contour\":[{\"type\":\"contour\",\"colorbar\":{\"outlinewidth\":0,\"ticks\":\"\"},\"colorscale\":[[0.0,\"#0d0887\"],[0.1111111111111111,\"#46039f\"],[0.2222222222222222,\"#7201a8\"],[0.3333333333333333,\"#9c179e\"],[0.4444444444444444,\"#bd3786\"],[0.5555555555555556,\"#d8576b\"],[0.6666666666666666,\"#ed7953\"],[0.7777777777777778,\"#fb9f3a\"],[0.8888888888888888,\"#fdca26\"],[1.0,\"#f0f921\"]]}],\"surface\":[{\"type\":\"surface\",\"colorbar\":{\"outlinewidth\":0,\"ticks\":\"\"},\"colorscale\":[[0.0,\"#0d0887\"],[0.1111111111111111,\"#46039f\"],[0.2222222222222222,\"#7201a8\"],[0.3333333333333333,\"#9c179e\"],[0.4444444444444444,\"#bd3786\"],[0.5555555555555556,\"#d8576b\"],[0.6666666666666666,\"#ed7953\"],[0.7777777777777778,\"#fb9f3a\"],[0.8888888888888888,\"#fdca26\"],[1.0,\"#f0f921\"]]}],\"mesh3d\":[{\"type\":\"mesh3d\",\"colorbar\":{\"outlinewidth\":0,\"ticks\":\"\"}}],\"scatter\":[{\"fillpattern\":{\"fillmode\":\"overlay\",\"size\":10,\"solidity\":0.2},\"type\":\"scatter\"}],\"parcoords\":[{\"type\":\"parcoords\",\"line\":{\"colorbar\":{\"outlinewidth\":0,\"ticks\":\"\"}}}],\"scatterpolargl\":[{\"type\":\"scatterpolargl\",\"marker\":{\"colorbar\":{\"outlinewidth\":0,\"ticks\":\"\"}}}],\"bar\":[{\"error_x\":{\"color\":\"#2a3f5f\"},\"error_y\":{\"color\":\"#2a3f5f\"},\"marker\":{\"line\":{\"color\":\"#E5ECF6\",\"width\":0.5},\"pattern\":{\"fillmode\":\"overlay\",\"size\":10,\"solidity\":0.2}},\"type\":\"bar\"}],\"scattergeo\":[{\"type\":\"scattergeo\",\"marker\":{\"colorbar\":{\"outlinewidth\":0,\"ticks\":\"\"}}}],\"scatterpolar\":[{\"type\":\"scatterpolar\",\"marker\":{\"colorbar\":{\"outlinewidth\":0,\"ticks\":\"\"}}}],\"histogram\":[{\"marker\":{\"pattern\":{\"fillmode\":\"overlay\",\"size\":10,\"solidity\":0.2}},\"type\":\"histogram\"}],\"scattergl\":[{\"type\":\"scattergl\",\"marker\":{\"colorbar\":{\"outlinewidth\":0,\"ticks\":\"\"}}}],\"scatter3d\":[{\"type\":\"scatter3d\",\"line\":{\"colorbar\":{\"outlinewidth\":0,\"ticks\":\"\"}},\"marker\":{\"colorbar\":{\"outlinewidth\":0,\"ticks\":\"\"}}}],\"scattermapbox\":[{\"type\":\"scattermapbox\",\"marker\":{\"colorbar\":{\"outlinewidth\":0,\"ticks\":\"\"}}}],\"scatterternary\":[{\"type\":\"scatterternary\",\"marker\":{\"colorbar\":{\"outlinewidth\":0,\"ticks\":\"\"}}}],\"scattercarpet\":[{\"type\":\"scattercarpet\",\"marker\":{\"colorbar\":{\"outlinewidth\":0,\"ticks\":\"\"}}}],\"carpet\":[{\"aaxis\":{\"endlinecolor\":\"#2a3f5f\",\"gridcolor\":\"white\",\"linecolor\":\"white\",\"minorgridcolor\":\"white\",\"startlinecolor\":\"#2a3f5f\"},\"baxis\":{\"endlinecolor\":\"#2a3f5f\",\"gridcolor\":\"white\",\"linecolor\":\"white\",\"minorgridcolor\":\"white\",\"startlinecolor\":\"#2a3f5f\"},\"type\":\"carpet\"}],\"table\":[{\"cells\":{\"fill\":{\"color\":\"#EBF0F8\"},\"line\":{\"color\":\"white\"}},\"header\":{\"fill\":{\"color\":\"#C8D4E3\"},\"line\":{\"color\":\"white\"}},\"type\":\"table\"}],\"barpolar\":[{\"marker\":{\"line\":{\"color\":\"#E5ECF6\",\"width\":0.5},\"pattern\":{\"fillmode\":\"overlay\",\"size\":10,\"solidity\":0.2}},\"type\":\"barpolar\"}],\"pie\":[{\"automargin\":true,\"type\":\"pie\"}]},\"layout\":{\"autotypenumbers\":\"strict\",\"colorway\":[\"#636efa\",\"#EF553B\",\"#00cc96\",\"#ab63fa\",\"#FFA15A\",\"#19d3f3\",\"#FF6692\",\"#B6E880\",\"#FF97FF\",\"#FECB52\"],\"font\":{\"color\":\"#2a3f5f\"},\"hovermode\":\"closest\",\"hoverlabel\":{\"align\":\"left\"},\"paper_bgcolor\":\"white\",\"plot_bgcolor\":\"#E5ECF6\",\"polar\":{\"bgcolor\":\"#E5ECF6\",\"angularaxis\":{\"gridcolor\":\"white\",\"linecolor\":\"white\",\"ticks\":\"\"},\"radialaxis\":{\"gridcolor\":\"white\",\"linecolor\":\"white\",\"ticks\":\"\"}},\"ternary\":{\"bgcolor\":\"#E5ECF6\",\"aaxis\":{\"gridcolor\":\"white\",\"linecolor\":\"white\",\"ticks\":\"\"},\"baxis\":{\"gridcolor\":\"white\",\"linecolor\":\"white\",\"ticks\":\"\"},\"caxis\":{\"gridcolor\":\"white\",\"linecolor\":\"white\",\"ticks\":\"\"}},\"coloraxis\":{\"colorbar\":{\"outlinewidth\":0,\"ticks\":\"\"}},\"colorscale\":{\"sequential\":[[0.0,\"#0d0887\"],[0.1111111111111111,\"#46039f\"],[0.2222222222222222,\"#7201a8\"],[0.3333333333333333,\"#9c179e\"],[0.4444444444444444,\"#bd3786\"],[0.5555555555555556,\"#d8576b\"],[0.6666666666666666,\"#ed7953\"],[0.7777777777777778,\"#fb9f3a\"],[0.8888888888888888,\"#fdca26\"],[1.0,\"#f0f921\"]],\"sequentialminus\":[[0.0,\"#0d0887\"],[0.1111111111111111,\"#46039f\"],[0.2222222222222222,\"#7201a8\"],[0.3333333333333333,\"#9c179e\"],[0.4444444444444444,\"#bd3786\"],[0.5555555555555556,\"#d8576b\"],[0.6666666666666666,\"#ed7953\"],[0.7777777777777778,\"#fb9f3a\"],[0.8888888888888888,\"#fdca26\"],[1.0,\"#f0f921\"]],\"diverging\":[[0,\"#8e0152\"],[0.1,\"#c51b7d\"],[0.2,\"#de77ae\"],[0.3,\"#f1b6da\"],[0.4,\"#fde0ef\"],[0.5,\"#f7f7f7\"],[0.6,\"#e6f5d0\"],[0.7,\"#b8e186\"],[0.8,\"#7fbc41\"],[0.9,\"#4d9221\"],[1,\"#276419\"]]},\"xaxis\":{\"gridcolor\":\"white\",\"linecolor\":\"white\",\"ticks\":\"\",\"title\":{\"standoff\":15},\"zerolinecolor\":\"white\",\"automargin\":true,\"zerolinewidth\":2},\"yaxis\":{\"gridcolor\":\"white\",\"linecolor\":\"white\",\"ticks\":\"\",\"title\":{\"standoff\":15},\"zerolinecolor\":\"white\",\"automargin\":true,\"zerolinewidth\":2},\"scene\":{\"xaxis\":{\"backgroundcolor\":\"#E5ECF6\",\"gridcolor\":\"white\",\"linecolor\":\"white\",\"showbackground\":true,\"ticks\":\"\",\"zerolinecolor\":\"white\",\"gridwidth\":2},\"yaxis\":{\"backgroundcolor\":\"#E5ECF6\",\"gridcolor\":\"white\",\"linecolor\":\"white\",\"showbackground\":true,\"ticks\":\"\",\"zerolinecolor\":\"white\",\"gridwidth\":2},\"zaxis\":{\"backgroundcolor\":\"#E5ECF6\",\"gridcolor\":\"white\",\"linecolor\":\"white\",\"showbackground\":true,\"ticks\":\"\",\"zerolinecolor\":\"white\",\"gridwidth\":2}},\"shapedefaults\":{\"line\":{\"color\":\"#2a3f5f\"}},\"annotationdefaults\":{\"arrowcolor\":\"#2a3f5f\",\"arrowhead\":0,\"arrowwidth\":1},\"geo\":{\"bgcolor\":\"white\",\"landcolor\":\"#E5ECF6\",\"subunitcolor\":\"white\",\"showland\":true,\"showlakes\":true,\"lakecolor\":\"white\"},\"title\":{\"x\":0.05},\"mapbox\":{\"style\":\"light\"}}},\"scene\":{\"domain\":{\"x\":[0.0,1.0],\"y\":[0.0,1.0]},\"xaxis\":{\"title\":{\"text\":\"Education Index\"}},\"yaxis\":{\"title\":{\"text\":\"Government Trust\"}},\"zaxis\":{\"title\":{\"text\":\"CPI Score\"}}},\"legend\":{\"title\":{\"text\":\"continent\"},\"tracegroupgap\":0,\"itemsizing\":\"constant\"},\"margin\":{\"t\":60},\"height\":700,\"title\":{\"font\":{\"size\":20},\"text\":\"Education, Government trust, and CPI\",\"x\":0.45,\"y\":0.95,\"xanchor\":\"center\",\"yanchor\":\"top\"}},                        {\"responsive\": true}                    ).then(function(){\n",
       "                            \n",
       "var gd = document.getElementById('58325307-c23b-41b9-86d3-3464beca8086');\n",
       "var x = new MutationObserver(function (mutations, observer) {{\n",
       "        var display = window.getComputedStyle(gd).display;\n",
       "        if (!display || display === 'none') {{\n",
       "            console.log([gd, 'removed!']);\n",
       "            Plotly.purge(gd);\n",
       "            observer.disconnect();\n",
       "        }}\n",
       "}});\n",
       "\n",
       "// Listen for the removal of the full notebook cells\n",
       "var notebookContainer = gd.closest('#notebook-container');\n",
       "if (notebookContainer) {{\n",
       "    x.observe(notebookContainer, {childList: true});\n",
       "}}\n",
       "\n",
       "// Listen for the clearing of the current output cell\n",
       "var outputEl = gd.closest('.output');\n",
       "if (outputEl) {{\n",
       "    x.observe(outputEl, {childList: true});\n",
       "}}\n",
       "\n",
       "                        })                };                });            </script>        </div>"
      ]
     },
     "metadata": {},
     "output_type": "display_data"
    }
   ],
   "source": [
    "# Scatterplot using plotly Express\n",
    "fig = px.scatter_3d(df_mean,\n",
    "                    x='Education_Index',\n",
    "                    y='government_trust',\n",
    "                    z='cpi_score',\n",
    "                    color='continent',\n",
    "                    size='gdp_per_capita',\n",
    "                    opacity=0.5,\n",
    "                    size_max=45,\n",
    "                    height=700,\n",
    "                    hover_data=['Country'])\n",
    "\n",
    "# Customize the layoutt\n",
    "fig.update_layout(scene=dict(\n",
    "    xaxis_title='Education Index',\n",
    "    yaxis_title='Government Trust',\n",
    "    zaxis_title='CPI Score'\n",
    "))\n",
    "\n",
    "# Makes Title \n",
    "fig.update_layout(\n",
    "    title={\n",
    "        'text': 'Education, Government trust, and CPI',\n",
    "        'x': 0.45,\n",
    "        'y': 0.95,\n",
    "        'xanchor': 'center',\n",
    "        'yanchor': 'top'\n",
    "    },\n",
    "    title_font_size=20\n",
    ")\n",
    "# Show the plot\n",
    "fig.show()"
   ]
  },
  {
   "cell_type": "markdown",
   "id": "61a92432",
   "metadata": {},
   "source": [
    "### Does a good education give government trust?\n",
    "\n",
    "This 3d Scatter Plot is multivariate and shows on the x-axis the 'Education Index', on the y-axis the 'Government Trust' and on the z-axis the 'CPI Score'. CPI stands for 'Corruption Perception Index', the lower the CPI index, the more the people believe there is corruption in their country. The size of the plot-points shows the GDP per capita. \n",
    "\n",
    "The 3D scatter plot reveals interesting insights about the correlation between the Corruption Perception Index (CPI) score and other variables across countries. A positive correlation between the CPI score and variables such as Education Index and Government trust suggests that countries with higher levels of corruption tend to exhibit lower values in education, government trust, and economic prosperity. Conversely, a negative correlation indicates that countries with lower corruption levels tend to have higher education indices and greater levels of government trust. This visualization highlights the importance of addressing corruption to foster positive development in education and trust within countries. \n",
    "\n",
    "The Education Index plays a significant role in shaping the relationships between various variables across countries and continents. A positive correlation between the Education Index and variables such as Government trust, GDP per capita, and possibly the Corruption Perception Index suggests that countries with higher education indices tend to exhibit greater levels of government trust and economic prosperity while combating corruption. Furthermore, the Education Index may influence the disparities observed between countries and continents. Nations with higher education indices are more likely to invest in quality education, leading to better governance, higher economic output, and potentially lower corruption levels. Thus, enhancing education systems becomes vital for promoting positive development and reducing inequality among countries and continents.\n",
    "\n",
    "Overall it gives the visualisation that countries with a higher inducation index tend to have more goverment trust and a higher CPI score. This is probaply because people that live in a country that is able to give a good education tend to trust the goverment more than people that don't recieved good education. "
   ]
  },
  {
   "cell_type": "code",
   "execution_count": 127,
   "id": "abb7c102",
   "metadata": {
    "scrolled": false
   },
   "outputs": [
    {
     "data": {
      "application/vnd.plotly.v1+json": {
       "config": {
        "plotlyServerURL": "https://plot.ly"
       },
       "data": [
        {
         "alignmentgroup": "True",
         "bingroup": "x",
         "histfunc": "sum",
         "hovertemplate": "continent=Africa<br>Year=%{x}<br>sum of happiness_score=%{y}<extra></extra>",
         "legendgroup": "Africa",
         "marker": {
          "color": "#AEFD8E",
          "line": {
           "width": 0.5
          },
          "pattern": {
           "shape": ""
          }
         },
         "name": "Africa",
         "offsetgroup": "Africa",
         "orientation": "v",
         "showlegend": true,
         "type": "histogram",
         "x": [
          2015,
          2016,
          2017,
          2018
         ],
         "xaxis": "x",
         "y": [
          4.3118437603125,
          4.28815625,
          4.42665625,
          4.3554375
         ],
         "yaxis": "y"
        },
        {
         "alignmentgroup": "True",
         "bingroup": "x",
         "histfunc": "sum",
         "hovertemplate": "continent=Asia<br>Year=%{x}<br>sum of happiness_score=%{y}<extra></extra>",
         "legendgroup": "Asia",
         "marker": {
          "color": "#FAA598",
          "line": {
           "width": 0.5
          },
          "pattern": {
           "shape": ""
          }
         },
         "name": "Asia",
         "offsetgroup": "Asia",
         "orientation": "v",
         "showlegend": true,
         "type": "histogram",
         "x": [
          2015,
          2016,
          2017,
          2018
         ],
         "xaxis": "x",
         "y": [
          5.283736799842106,
          5.252868421052632,
          5.250421052631578,
          5.263631578947368
         ],
         "yaxis": "y"
        },
        {
         "alignmentgroup": "True",
         "bingroup": "x",
         "histfunc": "sum",
         "hovertemplate": "continent=Australia<br>Year=%{x}<br>sum of happiness_score=%{y}<extra></extra>",
         "legendgroup": "Australia",
         "marker": {
          "color": "#B2E4FA",
          "line": {
           "width": 0.5
          },
          "pattern": {
           "shape": ""
          }
         },
         "name": "Australia",
         "offsetgroup": "Australia",
         "orientation": "v",
         "showlegend": true,
         "type": "histogram",
         "x": [
          2015,
          2016,
          2017,
          2018
         ],
         "xaxis": "x",
         "y": [
          7.299000025,
          7.285,
          7.2675,
          7.298
         ],
         "yaxis": "y"
        },
        {
         "alignmentgroup": "True",
         "bingroup": "x",
         "histfunc": "sum",
         "hovertemplate": "continent=Europe<br>Year=%{x}<br>sum of happiness_score=%{y}<extra></extra>",
         "legendgroup": "Europe",
         "marker": {
          "color": "#E3C97F",
          "line": {
           "width": 0.5
          },
          "pattern": {
           "shape": ""
          }
         },
         "name": "Europe",
         "offsetgroup": "Europe",
         "orientation": "v",
         "showlegend": true,
         "type": "histogram",
         "x": [
          2015,
          2016,
          2017,
          2018
         ],
         "xaxis": "x",
         "y": [
          6.151864876675676,
          6.089594594594595,
          6.2901621621621615,
          6.216297297297297
         ],
         "yaxis": "y"
        },
        {
         "alignmentgroup": "True",
         "bingroup": "x",
         "histfunc": "sum",
         "hovertemplate": "continent=North America<br>Year=%{x}<br>sum of happiness_score=%{y}<extra></extra>",
         "legendgroup": "North America",
         "marker": {
          "color": "#B47FE3",
          "line": {
           "width": 0.5
          },
          "pattern": {
           "shape": ""
          }
         },
         "name": "North America",
         "offsetgroup": "North America",
         "orientation": "v",
         "showlegend": true,
         "type": "histogram",
         "x": [
          2015,
          2016,
          2017,
          2018
         ],
         "xaxis": "x",
         "y": [
          6.9623333616666665,
          7.2443333333333335,
          6.921666666666667,
          6.900666666666667
         ],
         "yaxis": "y"
        },
        {
         "alignmentgroup": "True",
         "bingroup": "x",
         "histfunc": "sum",
         "hovertemplate": "continent=South America<br>Year=%{x}<br>sum of happiness_score=%{y}<extra></extra>",
         "legendgroup": "South America",
         "marker": {
          "color": "#E8EAC8",
          "line": {
           "width": 0.5
          },
          "pattern": {
           "shape": ""
          }
         },
         "name": "South America",
         "offsetgroup": "South America",
         "orientation": "v",
         "showlegend": true,
         "type": "histogram",
         "x": [
          2015,
          2016,
          2017,
          2018
         ],
         "xaxis": "x",
         "y": [
          5.79385000465,
          5.96075,
          5.839499999999999,
          5.8115499999999995
         ],
         "yaxis": "y"
        }
       ],
       "layout": {
        "bargap": 0.2,
        "barmode": "group",
        "font": {
         "family": "Arial",
         "size": 14
        },
        "legend": {
         "font": {
          "family": "Arial",
          "size": 12
         },
         "title": {
          "text": "continent"
         },
         "tracegroupgap": 0
        },
        "margin": {
         "t": 60
        },
        "plot_bgcolor": "rgb(240, 240, 240)",
        "template": {
         "data": {
          "bar": [
           {
            "error_x": {
             "color": "#2a3f5f"
            },
            "error_y": {
             "color": "#2a3f5f"
            },
            "marker": {
             "line": {
              "color": "#E5ECF6",
              "width": 0.5
             },
             "pattern": {
              "fillmode": "overlay",
              "size": 10,
              "solidity": 0.2
             }
            },
            "type": "bar"
           }
          ],
          "barpolar": [
           {
            "marker": {
             "line": {
              "color": "#E5ECF6",
              "width": 0.5
             },
             "pattern": {
              "fillmode": "overlay",
              "size": 10,
              "solidity": 0.2
             }
            },
            "type": "barpolar"
           }
          ],
          "carpet": [
           {
            "aaxis": {
             "endlinecolor": "#2a3f5f",
             "gridcolor": "white",
             "linecolor": "white",
             "minorgridcolor": "white",
             "startlinecolor": "#2a3f5f"
            },
            "baxis": {
             "endlinecolor": "#2a3f5f",
             "gridcolor": "white",
             "linecolor": "white",
             "minorgridcolor": "white",
             "startlinecolor": "#2a3f5f"
            },
            "type": "carpet"
           }
          ],
          "choropleth": [
           {
            "colorbar": {
             "outlinewidth": 0,
             "ticks": ""
            },
            "type": "choropleth"
           }
          ],
          "contour": [
           {
            "colorbar": {
             "outlinewidth": 0,
             "ticks": ""
            },
            "colorscale": [
             [
              0,
              "#0d0887"
             ],
             [
              0.1111111111111111,
              "#46039f"
             ],
             [
              0.2222222222222222,
              "#7201a8"
             ],
             [
              0.3333333333333333,
              "#9c179e"
             ],
             [
              0.4444444444444444,
              "#bd3786"
             ],
             [
              0.5555555555555556,
              "#d8576b"
             ],
             [
              0.6666666666666666,
              "#ed7953"
             ],
             [
              0.7777777777777778,
              "#fb9f3a"
             ],
             [
              0.8888888888888888,
              "#fdca26"
             ],
             [
              1,
              "#f0f921"
             ]
            ],
            "type": "contour"
           }
          ],
          "contourcarpet": [
           {
            "colorbar": {
             "outlinewidth": 0,
             "ticks": ""
            },
            "type": "contourcarpet"
           }
          ],
          "heatmap": [
           {
            "colorbar": {
             "outlinewidth": 0,
             "ticks": ""
            },
            "colorscale": [
             [
              0,
              "#0d0887"
             ],
             [
              0.1111111111111111,
              "#46039f"
             ],
             [
              0.2222222222222222,
              "#7201a8"
             ],
             [
              0.3333333333333333,
              "#9c179e"
             ],
             [
              0.4444444444444444,
              "#bd3786"
             ],
             [
              0.5555555555555556,
              "#d8576b"
             ],
             [
              0.6666666666666666,
              "#ed7953"
             ],
             [
              0.7777777777777778,
              "#fb9f3a"
             ],
             [
              0.8888888888888888,
              "#fdca26"
             ],
             [
              1,
              "#f0f921"
             ]
            ],
            "type": "heatmap"
           }
          ],
          "heatmapgl": [
           {
            "colorbar": {
             "outlinewidth": 0,
             "ticks": ""
            },
            "colorscale": [
             [
              0,
              "#0d0887"
             ],
             [
              0.1111111111111111,
              "#46039f"
             ],
             [
              0.2222222222222222,
              "#7201a8"
             ],
             [
              0.3333333333333333,
              "#9c179e"
             ],
             [
              0.4444444444444444,
              "#bd3786"
             ],
             [
              0.5555555555555556,
              "#d8576b"
             ],
             [
              0.6666666666666666,
              "#ed7953"
             ],
             [
              0.7777777777777778,
              "#fb9f3a"
             ],
             [
              0.8888888888888888,
              "#fdca26"
             ],
             [
              1,
              "#f0f921"
             ]
            ],
            "type": "heatmapgl"
           }
          ],
          "histogram": [
           {
            "marker": {
             "pattern": {
              "fillmode": "overlay",
              "size": 10,
              "solidity": 0.2
             }
            },
            "type": "histogram"
           }
          ],
          "histogram2d": [
           {
            "colorbar": {
             "outlinewidth": 0,
             "ticks": ""
            },
            "colorscale": [
             [
              0,
              "#0d0887"
             ],
             [
              0.1111111111111111,
              "#46039f"
             ],
             [
              0.2222222222222222,
              "#7201a8"
             ],
             [
              0.3333333333333333,
              "#9c179e"
             ],
             [
              0.4444444444444444,
              "#bd3786"
             ],
             [
              0.5555555555555556,
              "#d8576b"
             ],
             [
              0.6666666666666666,
              "#ed7953"
             ],
             [
              0.7777777777777778,
              "#fb9f3a"
             ],
             [
              0.8888888888888888,
              "#fdca26"
             ],
             [
              1,
              "#f0f921"
             ]
            ],
            "type": "histogram2d"
           }
          ],
          "histogram2dcontour": [
           {
            "colorbar": {
             "outlinewidth": 0,
             "ticks": ""
            },
            "colorscale": [
             [
              0,
              "#0d0887"
             ],
             [
              0.1111111111111111,
              "#46039f"
             ],
             [
              0.2222222222222222,
              "#7201a8"
             ],
             [
              0.3333333333333333,
              "#9c179e"
             ],
             [
              0.4444444444444444,
              "#bd3786"
             ],
             [
              0.5555555555555556,
              "#d8576b"
             ],
             [
              0.6666666666666666,
              "#ed7953"
             ],
             [
              0.7777777777777778,
              "#fb9f3a"
             ],
             [
              0.8888888888888888,
              "#fdca26"
             ],
             [
              1,
              "#f0f921"
             ]
            ],
            "type": "histogram2dcontour"
           }
          ],
          "mesh3d": [
           {
            "colorbar": {
             "outlinewidth": 0,
             "ticks": ""
            },
            "type": "mesh3d"
           }
          ],
          "parcoords": [
           {
            "line": {
             "colorbar": {
              "outlinewidth": 0,
              "ticks": ""
             }
            },
            "type": "parcoords"
           }
          ],
          "pie": [
           {
            "automargin": true,
            "type": "pie"
           }
          ],
          "scatter": [
           {
            "fillpattern": {
             "fillmode": "overlay",
             "size": 10,
             "solidity": 0.2
            },
            "type": "scatter"
           }
          ],
          "scatter3d": [
           {
            "line": {
             "colorbar": {
              "outlinewidth": 0,
              "ticks": ""
             }
            },
            "marker": {
             "colorbar": {
              "outlinewidth": 0,
              "ticks": ""
             }
            },
            "type": "scatter3d"
           }
          ],
          "scattercarpet": [
           {
            "marker": {
             "colorbar": {
              "outlinewidth": 0,
              "ticks": ""
             }
            },
            "type": "scattercarpet"
           }
          ],
          "scattergeo": [
           {
            "marker": {
             "colorbar": {
              "outlinewidth": 0,
              "ticks": ""
             }
            },
            "type": "scattergeo"
           }
          ],
          "scattergl": [
           {
            "marker": {
             "colorbar": {
              "outlinewidth": 0,
              "ticks": ""
             }
            },
            "type": "scattergl"
           }
          ],
          "scattermapbox": [
           {
            "marker": {
             "colorbar": {
              "outlinewidth": 0,
              "ticks": ""
             }
            },
            "type": "scattermapbox"
           }
          ],
          "scatterpolar": [
           {
            "marker": {
             "colorbar": {
              "outlinewidth": 0,
              "ticks": ""
             }
            },
            "type": "scatterpolar"
           }
          ],
          "scatterpolargl": [
           {
            "marker": {
             "colorbar": {
              "outlinewidth": 0,
              "ticks": ""
             }
            },
            "type": "scatterpolargl"
           }
          ],
          "scatterternary": [
           {
            "marker": {
             "colorbar": {
              "outlinewidth": 0,
              "ticks": ""
             }
            },
            "type": "scatterternary"
           }
          ],
          "surface": [
           {
            "colorbar": {
             "outlinewidth": 0,
             "ticks": ""
            },
            "colorscale": [
             [
              0,
              "#0d0887"
             ],
             [
              0.1111111111111111,
              "#46039f"
             ],
             [
              0.2222222222222222,
              "#7201a8"
             ],
             [
              0.3333333333333333,
              "#9c179e"
             ],
             [
              0.4444444444444444,
              "#bd3786"
             ],
             [
              0.5555555555555556,
              "#d8576b"
             ],
             [
              0.6666666666666666,
              "#ed7953"
             ],
             [
              0.7777777777777778,
              "#fb9f3a"
             ],
             [
              0.8888888888888888,
              "#fdca26"
             ],
             [
              1,
              "#f0f921"
             ]
            ],
            "type": "surface"
           }
          ],
          "table": [
           {
            "cells": {
             "fill": {
              "color": "#EBF0F8"
             },
             "line": {
              "color": "white"
             }
            },
            "header": {
             "fill": {
              "color": "#C8D4E3"
             },
             "line": {
              "color": "white"
             }
            },
            "type": "table"
           }
          ]
         },
         "layout": {
          "annotationdefaults": {
           "arrowcolor": "#2a3f5f",
           "arrowhead": 0,
           "arrowwidth": 1
          },
          "autotypenumbers": "strict",
          "coloraxis": {
           "colorbar": {
            "outlinewidth": 0,
            "ticks": ""
           }
          },
          "colorscale": {
           "diverging": [
            [
             0,
             "#8e0152"
            ],
            [
             0.1,
             "#c51b7d"
            ],
            [
             0.2,
             "#de77ae"
            ],
            [
             0.3,
             "#f1b6da"
            ],
            [
             0.4,
             "#fde0ef"
            ],
            [
             0.5,
             "#f7f7f7"
            ],
            [
             0.6,
             "#e6f5d0"
            ],
            [
             0.7,
             "#b8e186"
            ],
            [
             0.8,
             "#7fbc41"
            ],
            [
             0.9,
             "#4d9221"
            ],
            [
             1,
             "#276419"
            ]
           ],
           "sequential": [
            [
             0,
             "#0d0887"
            ],
            [
             0.1111111111111111,
             "#46039f"
            ],
            [
             0.2222222222222222,
             "#7201a8"
            ],
            [
             0.3333333333333333,
             "#9c179e"
            ],
            [
             0.4444444444444444,
             "#bd3786"
            ],
            [
             0.5555555555555556,
             "#d8576b"
            ],
            [
             0.6666666666666666,
             "#ed7953"
            ],
            [
             0.7777777777777778,
             "#fb9f3a"
            ],
            [
             0.8888888888888888,
             "#fdca26"
            ],
            [
             1,
             "#f0f921"
            ]
           ],
           "sequentialminus": [
            [
             0,
             "#0d0887"
            ],
            [
             0.1111111111111111,
             "#46039f"
            ],
            [
             0.2222222222222222,
             "#7201a8"
            ],
            [
             0.3333333333333333,
             "#9c179e"
            ],
            [
             0.4444444444444444,
             "#bd3786"
            ],
            [
             0.5555555555555556,
             "#d8576b"
            ],
            [
             0.6666666666666666,
             "#ed7953"
            ],
            [
             0.7777777777777778,
             "#fb9f3a"
            ],
            [
             0.8888888888888888,
             "#fdca26"
            ],
            [
             1,
             "#f0f921"
            ]
           ]
          },
          "colorway": [
           "#636efa",
           "#EF553B",
           "#00cc96",
           "#ab63fa",
           "#FFA15A",
           "#19d3f3",
           "#FF6692",
           "#B6E880",
           "#FF97FF",
           "#FECB52"
          ],
          "font": {
           "color": "#2a3f5f"
          },
          "geo": {
           "bgcolor": "white",
           "lakecolor": "white",
           "landcolor": "#E5ECF6",
           "showlakes": true,
           "showland": true,
           "subunitcolor": "white"
          },
          "hoverlabel": {
           "align": "left"
          },
          "hovermode": "closest",
          "mapbox": {
           "style": "light"
          },
          "paper_bgcolor": "white",
          "plot_bgcolor": "#E5ECF6",
          "polar": {
           "angularaxis": {
            "gridcolor": "white",
            "linecolor": "white",
            "ticks": ""
           },
           "bgcolor": "#E5ECF6",
           "radialaxis": {
            "gridcolor": "white",
            "linecolor": "white",
            "ticks": ""
           }
          },
          "scene": {
           "xaxis": {
            "backgroundcolor": "#E5ECF6",
            "gridcolor": "white",
            "gridwidth": 2,
            "linecolor": "white",
            "showbackground": true,
            "ticks": "",
            "zerolinecolor": "white"
           },
           "yaxis": {
            "backgroundcolor": "#E5ECF6",
            "gridcolor": "white",
            "gridwidth": 2,
            "linecolor": "white",
            "showbackground": true,
            "ticks": "",
            "zerolinecolor": "white"
           },
           "zaxis": {
            "backgroundcolor": "#E5ECF6",
            "gridcolor": "white",
            "gridwidth": 2,
            "linecolor": "white",
            "showbackground": true,
            "ticks": "",
            "zerolinecolor": "white"
           }
          },
          "shapedefaults": {
           "line": {
            "color": "#2a3f5f"
           }
          },
          "ternary": {
           "aaxis": {
            "gridcolor": "white",
            "linecolor": "white",
            "ticks": ""
           },
           "baxis": {
            "gridcolor": "white",
            "linecolor": "white",
            "ticks": ""
           },
           "bgcolor": "#E5ECF6",
           "caxis": {
            "gridcolor": "white",
            "linecolor": "white",
            "ticks": ""
           }
          },
          "title": {
           "x": 0.05
          },
          "xaxis": {
           "automargin": true,
           "gridcolor": "white",
           "linecolor": "white",
           "ticks": "",
           "title": {
            "standoff": 15
           },
           "zerolinecolor": "white",
           "zerolinewidth": 2
          },
          "yaxis": {
           "automargin": true,
           "gridcolor": "white",
           "linecolor": "white",
           "ticks": "",
           "title": {
            "standoff": 15
           },
           "zerolinecolor": "white",
           "zerolinewidth": 2
          }
         }
        },
        "title": {
         "text": "Development of Average Happiness Score by Continent"
        },
        "xaxis": {
         "anchor": "y",
         "domain": [
          0,
          1
         ],
         "gridcolor": "lightgray",
         "gridwidth": 0.5,
         "showgrid": true,
         "title": {
          "text": "Year"
         }
        },
        "yaxis": {
         "anchor": "x",
         "domain": [
          0,
          1
         ],
         "gridcolor": "lightgray",
         "gridwidth": 0.5,
         "showgrid": true,
         "title": {
          "text": "Average Happiness"
         }
        }
       }
      },
      "text/html": [
       "<div>                            <div id=\"9bceaa18-bb66-4ee2-a99f-8cf637223933\" class=\"plotly-graph-div\" style=\"height:525px; width:100%;\"></div>            <script type=\"text/javascript\">                require([\"plotly\"], function(Plotly) {                    window.PLOTLYENV=window.PLOTLYENV || {};                                    if (document.getElementById(\"9bceaa18-bb66-4ee2-a99f-8cf637223933\")) {                    Plotly.newPlot(                        \"9bceaa18-bb66-4ee2-a99f-8cf637223933\",                        [{\"alignmentgroup\":\"True\",\"bingroup\":\"x\",\"histfunc\":\"sum\",\"hovertemplate\":\"continent=Africa\\u003cbr\\u003eYear=%{x}\\u003cbr\\u003esum of happiness_score=%{y}\\u003cextra\\u003e\\u003c\\u002fextra\\u003e\",\"legendgroup\":\"Africa\",\"marker\":{\"color\":\"#AEFD8E\",\"pattern\":{\"shape\":\"\"},\"line\":{\"width\":0.5}},\"name\":\"Africa\",\"offsetgroup\":\"Africa\",\"orientation\":\"v\",\"showlegend\":true,\"x\":[2015,2016,2017,2018],\"xaxis\":\"x\",\"y\":[4.3118437603125,4.28815625,4.42665625,4.3554375],\"yaxis\":\"y\",\"type\":\"histogram\"},{\"alignmentgroup\":\"True\",\"bingroup\":\"x\",\"histfunc\":\"sum\",\"hovertemplate\":\"continent=Asia\\u003cbr\\u003eYear=%{x}\\u003cbr\\u003esum of happiness_score=%{y}\\u003cextra\\u003e\\u003c\\u002fextra\\u003e\",\"legendgroup\":\"Asia\",\"marker\":{\"color\":\"#FAA598\",\"pattern\":{\"shape\":\"\"},\"line\":{\"width\":0.5}},\"name\":\"Asia\",\"offsetgroup\":\"Asia\",\"orientation\":\"v\",\"showlegend\":true,\"x\":[2015,2016,2017,2018],\"xaxis\":\"x\",\"y\":[5.283736799842106,5.252868421052632,5.250421052631578,5.263631578947368],\"yaxis\":\"y\",\"type\":\"histogram\"},{\"alignmentgroup\":\"True\",\"bingroup\":\"x\",\"histfunc\":\"sum\",\"hovertemplate\":\"continent=Australia\\u003cbr\\u003eYear=%{x}\\u003cbr\\u003esum of happiness_score=%{y}\\u003cextra\\u003e\\u003c\\u002fextra\\u003e\",\"legendgroup\":\"Australia\",\"marker\":{\"color\":\"#B2E4FA\",\"pattern\":{\"shape\":\"\"},\"line\":{\"width\":0.5}},\"name\":\"Australia\",\"offsetgroup\":\"Australia\",\"orientation\":\"v\",\"showlegend\":true,\"x\":[2015,2016,2017,2018],\"xaxis\":\"x\",\"y\":[7.299000025,7.285,7.2675,7.298],\"yaxis\":\"y\",\"type\":\"histogram\"},{\"alignmentgroup\":\"True\",\"bingroup\":\"x\",\"histfunc\":\"sum\",\"hovertemplate\":\"continent=Europe\\u003cbr\\u003eYear=%{x}\\u003cbr\\u003esum of happiness_score=%{y}\\u003cextra\\u003e\\u003c\\u002fextra\\u003e\",\"legendgroup\":\"Europe\",\"marker\":{\"color\":\"#E3C97F\",\"pattern\":{\"shape\":\"\"},\"line\":{\"width\":0.5}},\"name\":\"Europe\",\"offsetgroup\":\"Europe\",\"orientation\":\"v\",\"showlegend\":true,\"x\":[2015,2016,2017,2018],\"xaxis\":\"x\",\"y\":[6.151864876675676,6.089594594594595,6.2901621621621615,6.216297297297297],\"yaxis\":\"y\",\"type\":\"histogram\"},{\"alignmentgroup\":\"True\",\"bingroup\":\"x\",\"histfunc\":\"sum\",\"hovertemplate\":\"continent=North America\\u003cbr\\u003eYear=%{x}\\u003cbr\\u003esum of happiness_score=%{y}\\u003cextra\\u003e\\u003c\\u002fextra\\u003e\",\"legendgroup\":\"North America\",\"marker\":{\"color\":\"#B47FE3\",\"pattern\":{\"shape\":\"\"},\"line\":{\"width\":0.5}},\"name\":\"North America\",\"offsetgroup\":\"North America\",\"orientation\":\"v\",\"showlegend\":true,\"x\":[2015,2016,2017,2018],\"xaxis\":\"x\",\"y\":[6.9623333616666665,7.2443333333333335,6.921666666666667,6.900666666666667],\"yaxis\":\"y\",\"type\":\"histogram\"},{\"alignmentgroup\":\"True\",\"bingroup\":\"x\",\"histfunc\":\"sum\",\"hovertemplate\":\"continent=South America\\u003cbr\\u003eYear=%{x}\\u003cbr\\u003esum of happiness_score=%{y}\\u003cextra\\u003e\\u003c\\u002fextra\\u003e\",\"legendgroup\":\"South America\",\"marker\":{\"color\":\"#E8EAC8\",\"pattern\":{\"shape\":\"\"},\"line\":{\"width\":0.5}},\"name\":\"South America\",\"offsetgroup\":\"South America\",\"orientation\":\"v\",\"showlegend\":true,\"x\":[2015,2016,2017,2018],\"xaxis\":\"x\",\"y\":[5.79385000465,5.96075,5.839499999999999,5.8115499999999995],\"yaxis\":\"y\",\"type\":\"histogram\"}],                        {\"template\":{\"data\":{\"histogram2dcontour\":[{\"type\":\"histogram2dcontour\",\"colorbar\":{\"outlinewidth\":0,\"ticks\":\"\"},\"colorscale\":[[0.0,\"#0d0887\"],[0.1111111111111111,\"#46039f\"],[0.2222222222222222,\"#7201a8\"],[0.3333333333333333,\"#9c179e\"],[0.4444444444444444,\"#bd3786\"],[0.5555555555555556,\"#d8576b\"],[0.6666666666666666,\"#ed7953\"],[0.7777777777777778,\"#fb9f3a\"],[0.8888888888888888,\"#fdca26\"],[1.0,\"#f0f921\"]]}],\"choropleth\":[{\"type\":\"choropleth\",\"colorbar\":{\"outlinewidth\":0,\"ticks\":\"\"}}],\"histogram2d\":[{\"type\":\"histogram2d\",\"colorbar\":{\"outlinewidth\":0,\"ticks\":\"\"},\"colorscale\":[[0.0,\"#0d0887\"],[0.1111111111111111,\"#46039f\"],[0.2222222222222222,\"#7201a8\"],[0.3333333333333333,\"#9c179e\"],[0.4444444444444444,\"#bd3786\"],[0.5555555555555556,\"#d8576b\"],[0.6666666666666666,\"#ed7953\"],[0.7777777777777778,\"#fb9f3a\"],[0.8888888888888888,\"#fdca26\"],[1.0,\"#f0f921\"]]}],\"heatmap\":[{\"type\":\"heatmap\",\"colorbar\":{\"outlinewidth\":0,\"ticks\":\"\"},\"colorscale\":[[0.0,\"#0d0887\"],[0.1111111111111111,\"#46039f\"],[0.2222222222222222,\"#7201a8\"],[0.3333333333333333,\"#9c179e\"],[0.4444444444444444,\"#bd3786\"],[0.5555555555555556,\"#d8576b\"],[0.6666666666666666,\"#ed7953\"],[0.7777777777777778,\"#fb9f3a\"],[0.8888888888888888,\"#fdca26\"],[1.0,\"#f0f921\"]]}],\"heatmapgl\":[{\"type\":\"heatmapgl\",\"colorbar\":{\"outlinewidth\":0,\"ticks\":\"\"},\"colorscale\":[[0.0,\"#0d0887\"],[0.1111111111111111,\"#46039f\"],[0.2222222222222222,\"#7201a8\"],[0.3333333333333333,\"#9c179e\"],[0.4444444444444444,\"#bd3786\"],[0.5555555555555556,\"#d8576b\"],[0.6666666666666666,\"#ed7953\"],[0.7777777777777778,\"#fb9f3a\"],[0.8888888888888888,\"#fdca26\"],[1.0,\"#f0f921\"]]}],\"contourcarpet\":[{\"type\":\"contourcarpet\",\"colorbar\":{\"outlinewidth\":0,\"ticks\":\"\"}}],\"contour\":[{\"type\":\"contour\",\"colorbar\":{\"outlinewidth\":0,\"ticks\":\"\"},\"colorscale\":[[0.0,\"#0d0887\"],[0.1111111111111111,\"#46039f\"],[0.2222222222222222,\"#7201a8\"],[0.3333333333333333,\"#9c179e\"],[0.4444444444444444,\"#bd3786\"],[0.5555555555555556,\"#d8576b\"],[0.6666666666666666,\"#ed7953\"],[0.7777777777777778,\"#fb9f3a\"],[0.8888888888888888,\"#fdca26\"],[1.0,\"#f0f921\"]]}],\"surface\":[{\"type\":\"surface\",\"colorbar\":{\"outlinewidth\":0,\"ticks\":\"\"},\"colorscale\":[[0.0,\"#0d0887\"],[0.1111111111111111,\"#46039f\"],[0.2222222222222222,\"#7201a8\"],[0.3333333333333333,\"#9c179e\"],[0.4444444444444444,\"#bd3786\"],[0.5555555555555556,\"#d8576b\"],[0.6666666666666666,\"#ed7953\"],[0.7777777777777778,\"#fb9f3a\"],[0.8888888888888888,\"#fdca26\"],[1.0,\"#f0f921\"]]}],\"mesh3d\":[{\"type\":\"mesh3d\",\"colorbar\":{\"outlinewidth\":0,\"ticks\":\"\"}}],\"scatter\":[{\"fillpattern\":{\"fillmode\":\"overlay\",\"size\":10,\"solidity\":0.2},\"type\":\"scatter\"}],\"parcoords\":[{\"type\":\"parcoords\",\"line\":{\"colorbar\":{\"outlinewidth\":0,\"ticks\":\"\"}}}],\"scatterpolargl\":[{\"type\":\"scatterpolargl\",\"marker\":{\"colorbar\":{\"outlinewidth\":0,\"ticks\":\"\"}}}],\"bar\":[{\"error_x\":{\"color\":\"#2a3f5f\"},\"error_y\":{\"color\":\"#2a3f5f\"},\"marker\":{\"line\":{\"color\":\"#E5ECF6\",\"width\":0.5},\"pattern\":{\"fillmode\":\"overlay\",\"size\":10,\"solidity\":0.2}},\"type\":\"bar\"}],\"scattergeo\":[{\"type\":\"scattergeo\",\"marker\":{\"colorbar\":{\"outlinewidth\":0,\"ticks\":\"\"}}}],\"scatterpolar\":[{\"type\":\"scatterpolar\",\"marker\":{\"colorbar\":{\"outlinewidth\":0,\"ticks\":\"\"}}}],\"histogram\":[{\"marker\":{\"pattern\":{\"fillmode\":\"overlay\",\"size\":10,\"solidity\":0.2}},\"type\":\"histogram\"}],\"scattergl\":[{\"type\":\"scattergl\",\"marker\":{\"colorbar\":{\"outlinewidth\":0,\"ticks\":\"\"}}}],\"scatter3d\":[{\"type\":\"scatter3d\",\"line\":{\"colorbar\":{\"outlinewidth\":0,\"ticks\":\"\"}},\"marker\":{\"colorbar\":{\"outlinewidth\":0,\"ticks\":\"\"}}}],\"scattermapbox\":[{\"type\":\"scattermapbox\",\"marker\":{\"colorbar\":{\"outlinewidth\":0,\"ticks\":\"\"}}}],\"scatterternary\":[{\"type\":\"scatterternary\",\"marker\":{\"colorbar\":{\"outlinewidth\":0,\"ticks\":\"\"}}}],\"scattercarpet\":[{\"type\":\"scattercarpet\",\"marker\":{\"colorbar\":{\"outlinewidth\":0,\"ticks\":\"\"}}}],\"carpet\":[{\"aaxis\":{\"endlinecolor\":\"#2a3f5f\",\"gridcolor\":\"white\",\"linecolor\":\"white\",\"minorgridcolor\":\"white\",\"startlinecolor\":\"#2a3f5f\"},\"baxis\":{\"endlinecolor\":\"#2a3f5f\",\"gridcolor\":\"white\",\"linecolor\":\"white\",\"minorgridcolor\":\"white\",\"startlinecolor\":\"#2a3f5f\"},\"type\":\"carpet\"}],\"table\":[{\"cells\":{\"fill\":{\"color\":\"#EBF0F8\"},\"line\":{\"color\":\"white\"}},\"header\":{\"fill\":{\"color\":\"#C8D4E3\"},\"line\":{\"color\":\"white\"}},\"type\":\"table\"}],\"barpolar\":[{\"marker\":{\"line\":{\"color\":\"#E5ECF6\",\"width\":0.5},\"pattern\":{\"fillmode\":\"overlay\",\"size\":10,\"solidity\":0.2}},\"type\":\"barpolar\"}],\"pie\":[{\"automargin\":true,\"type\":\"pie\"}]},\"layout\":{\"autotypenumbers\":\"strict\",\"colorway\":[\"#636efa\",\"#EF553B\",\"#00cc96\",\"#ab63fa\",\"#FFA15A\",\"#19d3f3\",\"#FF6692\",\"#B6E880\",\"#FF97FF\",\"#FECB52\"],\"font\":{\"color\":\"#2a3f5f\"},\"hovermode\":\"closest\",\"hoverlabel\":{\"align\":\"left\"},\"paper_bgcolor\":\"white\",\"plot_bgcolor\":\"#E5ECF6\",\"polar\":{\"bgcolor\":\"#E5ECF6\",\"angularaxis\":{\"gridcolor\":\"white\",\"linecolor\":\"white\",\"ticks\":\"\"},\"radialaxis\":{\"gridcolor\":\"white\",\"linecolor\":\"white\",\"ticks\":\"\"}},\"ternary\":{\"bgcolor\":\"#E5ECF6\",\"aaxis\":{\"gridcolor\":\"white\",\"linecolor\":\"white\",\"ticks\":\"\"},\"baxis\":{\"gridcolor\":\"white\",\"linecolor\":\"white\",\"ticks\":\"\"},\"caxis\":{\"gridcolor\":\"white\",\"linecolor\":\"white\",\"ticks\":\"\"}},\"coloraxis\":{\"colorbar\":{\"outlinewidth\":0,\"ticks\":\"\"}},\"colorscale\":{\"sequential\":[[0.0,\"#0d0887\"],[0.1111111111111111,\"#46039f\"],[0.2222222222222222,\"#7201a8\"],[0.3333333333333333,\"#9c179e\"],[0.4444444444444444,\"#bd3786\"],[0.5555555555555556,\"#d8576b\"],[0.6666666666666666,\"#ed7953\"],[0.7777777777777778,\"#fb9f3a\"],[0.8888888888888888,\"#fdca26\"],[1.0,\"#f0f921\"]],\"sequentialminus\":[[0.0,\"#0d0887\"],[0.1111111111111111,\"#46039f\"],[0.2222222222222222,\"#7201a8\"],[0.3333333333333333,\"#9c179e\"],[0.4444444444444444,\"#bd3786\"],[0.5555555555555556,\"#d8576b\"],[0.6666666666666666,\"#ed7953\"],[0.7777777777777778,\"#fb9f3a\"],[0.8888888888888888,\"#fdca26\"],[1.0,\"#f0f921\"]],\"diverging\":[[0,\"#8e0152\"],[0.1,\"#c51b7d\"],[0.2,\"#de77ae\"],[0.3,\"#f1b6da\"],[0.4,\"#fde0ef\"],[0.5,\"#f7f7f7\"],[0.6,\"#e6f5d0\"],[0.7,\"#b8e186\"],[0.8,\"#7fbc41\"],[0.9,\"#4d9221\"],[1,\"#276419\"]]},\"xaxis\":{\"gridcolor\":\"white\",\"linecolor\":\"white\",\"ticks\":\"\",\"title\":{\"standoff\":15},\"zerolinecolor\":\"white\",\"automargin\":true,\"zerolinewidth\":2},\"yaxis\":{\"gridcolor\":\"white\",\"linecolor\":\"white\",\"ticks\":\"\",\"title\":{\"standoff\":15},\"zerolinecolor\":\"white\",\"automargin\":true,\"zerolinewidth\":2},\"scene\":{\"xaxis\":{\"backgroundcolor\":\"#E5ECF6\",\"gridcolor\":\"white\",\"linecolor\":\"white\",\"showbackground\":true,\"ticks\":\"\",\"zerolinecolor\":\"white\",\"gridwidth\":2},\"yaxis\":{\"backgroundcolor\":\"#E5ECF6\",\"gridcolor\":\"white\",\"linecolor\":\"white\",\"showbackground\":true,\"ticks\":\"\",\"zerolinecolor\":\"white\",\"gridwidth\":2},\"zaxis\":{\"backgroundcolor\":\"#E5ECF6\",\"gridcolor\":\"white\",\"linecolor\":\"white\",\"showbackground\":true,\"ticks\":\"\",\"zerolinecolor\":\"white\",\"gridwidth\":2}},\"shapedefaults\":{\"line\":{\"color\":\"#2a3f5f\"}},\"annotationdefaults\":{\"arrowcolor\":\"#2a3f5f\",\"arrowhead\":0,\"arrowwidth\":1},\"geo\":{\"bgcolor\":\"white\",\"landcolor\":\"#E5ECF6\",\"subunitcolor\":\"white\",\"showland\":true,\"showlakes\":true,\"lakecolor\":\"white\"},\"title\":{\"x\":0.05},\"mapbox\":{\"style\":\"light\"}}},\"xaxis\":{\"anchor\":\"y\",\"domain\":[0.0,1.0],\"title\":{\"text\":\"Year\"},\"showgrid\":true,\"gridwidth\":0.5,\"gridcolor\":\"lightgray\"},\"yaxis\":{\"anchor\":\"x\",\"domain\":[0.0,1.0],\"title\":{\"text\":\"Average Happiness\"},\"showgrid\":true,\"gridwidth\":0.5,\"gridcolor\":\"lightgray\"},\"legend\":{\"title\":{\"text\":\"continent\"},\"tracegroupgap\":0,\"font\":{\"family\":\"Arial\",\"size\":12}},\"margin\":{\"t\":60},\"barmode\":\"group\",\"font\":{\"family\":\"Arial\",\"size\":14},\"title\":{\"text\":\"Development of Average Happiness Score by Continent\"},\"plot_bgcolor\":\"rgb(240, 240, 240)\",\"bargap\":0.2},                        {\"responsive\": true}                    ).then(function(){\n",
       "                            \n",
       "var gd = document.getElementById('9bceaa18-bb66-4ee2-a99f-8cf637223933');\n",
       "var x = new MutationObserver(function (mutations, observer) {{\n",
       "        var display = window.getComputedStyle(gd).display;\n",
       "        if (!display || display === 'none') {{\n",
       "            console.log([gd, 'removed!']);\n",
       "            Plotly.purge(gd);\n",
       "            observer.disconnect();\n",
       "        }}\n",
       "}});\n",
       "\n",
       "// Listen for the removal of the full notebook cells\n",
       "var notebookContainer = gd.closest('#notebook-container');\n",
       "if (notebookContainer) {{\n",
       "    x.observe(notebookContainer, {childList: true});\n",
       "}}\n",
       "\n",
       "// Listen for the clearing of the current output cell\n",
       "var outputEl = gd.closest('.output');\n",
       "if (outputEl) {{\n",
       "    x.observe(outputEl, {childList: true});\n",
       "}}\n",
       "\n",
       "                        })                };                });            </script>        </div>"
      ]
     },
     "metadata": {},
     "output_type": "display_data"
    },
    {
     "data": {
      "application/vnd.plotly.v1+json": {
       "config": {
        "plotlyServerURL": "https://plot.ly"
       },
       "data": [
        {
         "alignmentgroup": "True",
         "bingroup": "x",
         "histfunc": "sum",
         "hovertemplate": "continent=Africa<br>Year=%{x}<br>sum of GNI_per_capita_PPP=%{y}<extra></extra>",
         "legendgroup": "Africa",
         "marker": {
          "color": "#AEFD8E",
          "line": {
           "width": 0.5
          },
          "pattern": {
           "shape": ""
          }
         },
         "name": "Africa",
         "offsetgroup": "Africa",
         "orientation": "v",
         "showlegend": true,
         "type": "histogram",
         "x": [
          2015,
          2016,
          2017,
          2018
         ],
         "xaxis": "x",
         "y": [
          5251.5625,
          5312.1875,
          5530.9375,
          5412.1934375
         ],
         "yaxis": "y"
        },
        {
         "alignmentgroup": "True",
         "bingroup": "x",
         "histfunc": "sum",
         "hovertemplate": "continent=Asia<br>Year=%{x}<br>sum of GNI_per_capita_PPP=%{y}<extra></extra>",
         "legendgroup": "Asia",
         "marker": {
          "color": "#FAA598",
          "line": {
           "width": 0.5
          },
          "pattern": {
           "shape": ""
          }
         },
         "name": "Asia",
         "offsetgroup": "Asia",
         "orientation": "v",
         "showlegend": true,
         "type": "histogram",
         "x": [
          2015,
          2016,
          2017,
          2018
         ],
         "xaxis": "x",
         "y": [
          20082.972972972973,
          20315.135135135137,
          21290.81081081081,
          20615.69605263158
         ],
         "yaxis": "y"
        },
        {
         "alignmentgroup": "True",
         "bingroup": "x",
         "histfunc": "sum",
         "hovertemplate": "continent=Australia<br>Year=%{x}<br>sum of GNI_per_capita_PPP=%{y}<extra></extra>",
         "legendgroup": "Australia",
         "marker": {
          "color": "#B2E4FA",
          "line": {
           "width": 0.5
          },
          "pattern": {
           "shape": ""
          }
         },
         "name": "Australia",
         "offsetgroup": "Australia",
         "orientation": "v",
         "showlegend": true,
         "type": "histogram",
         "x": [
          2015,
          2016,
          2017,
          2018
         ],
         "xaxis": "x",
         "y": [
          40770,
          42430,
          43455,
          39602.259999999995
         ],
         "yaxis": "y"
        },
        {
         "alignmentgroup": "True",
         "bingroup": "x",
         "histfunc": "sum",
         "hovertemplate": "continent=Europe<br>Year=%{x}<br>sum of GNI_per_capita_PPP=%{y}<extra></extra>",
         "legendgroup": "Europe",
         "marker": {
          "color": "#E3C97F",
          "line": {
           "width": 0.5
          },
          "pattern": {
           "shape": ""
          }
         },
         "name": "Europe",
         "offsetgroup": "Europe",
         "orientation": "v",
         "showlegend": true,
         "type": "histogram",
         "x": [
          2015,
          2016,
          2017,
          2018
         ],
         "xaxis": "x",
         "y": [
          33763.78378378379,
          35528.64864864865,
          37462.97297297297,
          33672.8645945946
         ],
         "yaxis": "y"
        },
        {
         "alignmentgroup": "True",
         "bingroup": "x",
         "histfunc": "sum",
         "hovertemplate": "continent=North America<br>Year=%{x}<br>sum of GNI_per_capita_PPP=%{y}<extra></extra>",
         "legendgroup": "North America",
         "marker": {
          "color": "#B47FE3",
          "line": {
           "width": 0.5
          },
          "pattern": {
           "shape": ""
          }
         },
         "name": "North America",
         "offsetgroup": "North America",
         "orientation": "v",
         "showlegend": true,
         "type": "histogram",
         "x": [
          2015,
          2016,
          2017,
          2018
         ],
         "xaxis": "x",
         "y": [
          40053.333333333336,
          41230,
          42796.666666666664,
          39123.53333333333
         ],
         "yaxis": "y"
        },
        {
         "alignmentgroup": "True",
         "bingroup": "x",
         "histfunc": "sum",
         "hovertemplate": "continent=South America<br>Year=%{x}<br>sum of GNI_per_capita_PPP=%{y}<extra></extra>",
         "legendgroup": "South America",
         "marker": {
          "color": "#E8EAC8",
          "line": {
           "width": 0.5
          },
          "pattern": {
           "shape": ""
          }
         },
         "name": "South America",
         "offsetgroup": "South America",
         "orientation": "v",
         "showlegend": true,
         "type": "histogram",
         "x": [
          2015,
          2016,
          2017,
          2018
         ],
         "xaxis": "x",
         "y": [
          11531.578947368422,
          11928.421052631578,
          12637.368421052632,
          11080.535
         ],
         "yaxis": "y"
        }
       ],
       "layout": {
        "bargap": 0.2,
        "barmode": "group",
        "font": {
         "family": "Arial",
         "size": 14
        },
        "legend": {
         "font": {
          "family": "Arial",
          "size": 12
         },
         "title": {
          "text": "continent"
         },
         "tracegroupgap": 0
        },
        "margin": {
         "t": 60
        },
        "plot_bgcolor": "rgb(240, 240, 240)",
        "template": {
         "data": {
          "bar": [
           {
            "error_x": {
             "color": "#2a3f5f"
            },
            "error_y": {
             "color": "#2a3f5f"
            },
            "marker": {
             "line": {
              "color": "#E5ECF6",
              "width": 0.5
             },
             "pattern": {
              "fillmode": "overlay",
              "size": 10,
              "solidity": 0.2
             }
            },
            "type": "bar"
           }
          ],
          "barpolar": [
           {
            "marker": {
             "line": {
              "color": "#E5ECF6",
              "width": 0.5
             },
             "pattern": {
              "fillmode": "overlay",
              "size": 10,
              "solidity": 0.2
             }
            },
            "type": "barpolar"
           }
          ],
          "carpet": [
           {
            "aaxis": {
             "endlinecolor": "#2a3f5f",
             "gridcolor": "white",
             "linecolor": "white",
             "minorgridcolor": "white",
             "startlinecolor": "#2a3f5f"
            },
            "baxis": {
             "endlinecolor": "#2a3f5f",
             "gridcolor": "white",
             "linecolor": "white",
             "minorgridcolor": "white",
             "startlinecolor": "#2a3f5f"
            },
            "type": "carpet"
           }
          ],
          "choropleth": [
           {
            "colorbar": {
             "outlinewidth": 0,
             "ticks": ""
            },
            "type": "choropleth"
           }
          ],
          "contour": [
           {
            "colorbar": {
             "outlinewidth": 0,
             "ticks": ""
            },
            "colorscale": [
             [
              0,
              "#0d0887"
             ],
             [
              0.1111111111111111,
              "#46039f"
             ],
             [
              0.2222222222222222,
              "#7201a8"
             ],
             [
              0.3333333333333333,
              "#9c179e"
             ],
             [
              0.4444444444444444,
              "#bd3786"
             ],
             [
              0.5555555555555556,
              "#d8576b"
             ],
             [
              0.6666666666666666,
              "#ed7953"
             ],
             [
              0.7777777777777778,
              "#fb9f3a"
             ],
             [
              0.8888888888888888,
              "#fdca26"
             ],
             [
              1,
              "#f0f921"
             ]
            ],
            "type": "contour"
           }
          ],
          "contourcarpet": [
           {
            "colorbar": {
             "outlinewidth": 0,
             "ticks": ""
            },
            "type": "contourcarpet"
           }
          ],
          "heatmap": [
           {
            "colorbar": {
             "outlinewidth": 0,
             "ticks": ""
            },
            "colorscale": [
             [
              0,
              "#0d0887"
             ],
             [
              0.1111111111111111,
              "#46039f"
             ],
             [
              0.2222222222222222,
              "#7201a8"
             ],
             [
              0.3333333333333333,
              "#9c179e"
             ],
             [
              0.4444444444444444,
              "#bd3786"
             ],
             [
              0.5555555555555556,
              "#d8576b"
             ],
             [
              0.6666666666666666,
              "#ed7953"
             ],
             [
              0.7777777777777778,
              "#fb9f3a"
             ],
             [
              0.8888888888888888,
              "#fdca26"
             ],
             [
              1,
              "#f0f921"
             ]
            ],
            "type": "heatmap"
           }
          ],
          "heatmapgl": [
           {
            "colorbar": {
             "outlinewidth": 0,
             "ticks": ""
            },
            "colorscale": [
             [
              0,
              "#0d0887"
             ],
             [
              0.1111111111111111,
              "#46039f"
             ],
             [
              0.2222222222222222,
              "#7201a8"
             ],
             [
              0.3333333333333333,
              "#9c179e"
             ],
             [
              0.4444444444444444,
              "#bd3786"
             ],
             [
              0.5555555555555556,
              "#d8576b"
             ],
             [
              0.6666666666666666,
              "#ed7953"
             ],
             [
              0.7777777777777778,
              "#fb9f3a"
             ],
             [
              0.8888888888888888,
              "#fdca26"
             ],
             [
              1,
              "#f0f921"
             ]
            ],
            "type": "heatmapgl"
           }
          ],
          "histogram": [
           {
            "marker": {
             "pattern": {
              "fillmode": "overlay",
              "size": 10,
              "solidity": 0.2
             }
            },
            "type": "histogram"
           }
          ],
          "histogram2d": [
           {
            "colorbar": {
             "outlinewidth": 0,
             "ticks": ""
            },
            "colorscale": [
             [
              0,
              "#0d0887"
             ],
             [
              0.1111111111111111,
              "#46039f"
             ],
             [
              0.2222222222222222,
              "#7201a8"
             ],
             [
              0.3333333333333333,
              "#9c179e"
             ],
             [
              0.4444444444444444,
              "#bd3786"
             ],
             [
              0.5555555555555556,
              "#d8576b"
             ],
             [
              0.6666666666666666,
              "#ed7953"
             ],
             [
              0.7777777777777778,
              "#fb9f3a"
             ],
             [
              0.8888888888888888,
              "#fdca26"
             ],
             [
              1,
              "#f0f921"
             ]
            ],
            "type": "histogram2d"
           }
          ],
          "histogram2dcontour": [
           {
            "colorbar": {
             "outlinewidth": 0,
             "ticks": ""
            },
            "colorscale": [
             [
              0,
              "#0d0887"
             ],
             [
              0.1111111111111111,
              "#46039f"
             ],
             [
              0.2222222222222222,
              "#7201a8"
             ],
             [
              0.3333333333333333,
              "#9c179e"
             ],
             [
              0.4444444444444444,
              "#bd3786"
             ],
             [
              0.5555555555555556,
              "#d8576b"
             ],
             [
              0.6666666666666666,
              "#ed7953"
             ],
             [
              0.7777777777777778,
              "#fb9f3a"
             ],
             [
              0.8888888888888888,
              "#fdca26"
             ],
             [
              1,
              "#f0f921"
             ]
            ],
            "type": "histogram2dcontour"
           }
          ],
          "mesh3d": [
           {
            "colorbar": {
             "outlinewidth": 0,
             "ticks": ""
            },
            "type": "mesh3d"
           }
          ],
          "parcoords": [
           {
            "line": {
             "colorbar": {
              "outlinewidth": 0,
              "ticks": ""
             }
            },
            "type": "parcoords"
           }
          ],
          "pie": [
           {
            "automargin": true,
            "type": "pie"
           }
          ],
          "scatter": [
           {
            "fillpattern": {
             "fillmode": "overlay",
             "size": 10,
             "solidity": 0.2
            },
            "type": "scatter"
           }
          ],
          "scatter3d": [
           {
            "line": {
             "colorbar": {
              "outlinewidth": 0,
              "ticks": ""
             }
            },
            "marker": {
             "colorbar": {
              "outlinewidth": 0,
              "ticks": ""
             }
            },
            "type": "scatter3d"
           }
          ],
          "scattercarpet": [
           {
            "marker": {
             "colorbar": {
              "outlinewidth": 0,
              "ticks": ""
             }
            },
            "type": "scattercarpet"
           }
          ],
          "scattergeo": [
           {
            "marker": {
             "colorbar": {
              "outlinewidth": 0,
              "ticks": ""
             }
            },
            "type": "scattergeo"
           }
          ],
          "scattergl": [
           {
            "marker": {
             "colorbar": {
              "outlinewidth": 0,
              "ticks": ""
             }
            },
            "type": "scattergl"
           }
          ],
          "scattermapbox": [
           {
            "marker": {
             "colorbar": {
              "outlinewidth": 0,
              "ticks": ""
             }
            },
            "type": "scattermapbox"
           }
          ],
          "scatterpolar": [
           {
            "marker": {
             "colorbar": {
              "outlinewidth": 0,
              "ticks": ""
             }
            },
            "type": "scatterpolar"
           }
          ],
          "scatterpolargl": [
           {
            "marker": {
             "colorbar": {
              "outlinewidth": 0,
              "ticks": ""
             }
            },
            "type": "scatterpolargl"
           }
          ],
          "scatterternary": [
           {
            "marker": {
             "colorbar": {
              "outlinewidth": 0,
              "ticks": ""
             }
            },
            "type": "scatterternary"
           }
          ],
          "surface": [
           {
            "colorbar": {
             "outlinewidth": 0,
             "ticks": ""
            },
            "colorscale": [
             [
              0,
              "#0d0887"
             ],
             [
              0.1111111111111111,
              "#46039f"
             ],
             [
              0.2222222222222222,
              "#7201a8"
             ],
             [
              0.3333333333333333,
              "#9c179e"
             ],
             [
              0.4444444444444444,
              "#bd3786"
             ],
             [
              0.5555555555555556,
              "#d8576b"
             ],
             [
              0.6666666666666666,
              "#ed7953"
             ],
             [
              0.7777777777777778,
              "#fb9f3a"
             ],
             [
              0.8888888888888888,
              "#fdca26"
             ],
             [
              1,
              "#f0f921"
             ]
            ],
            "type": "surface"
           }
          ],
          "table": [
           {
            "cells": {
             "fill": {
              "color": "#EBF0F8"
             },
             "line": {
              "color": "white"
             }
            },
            "header": {
             "fill": {
              "color": "#C8D4E3"
             },
             "line": {
              "color": "white"
             }
            },
            "type": "table"
           }
          ]
         },
         "layout": {
          "annotationdefaults": {
           "arrowcolor": "#2a3f5f",
           "arrowhead": 0,
           "arrowwidth": 1
          },
          "autotypenumbers": "strict",
          "coloraxis": {
           "colorbar": {
            "outlinewidth": 0,
            "ticks": ""
           }
          },
          "colorscale": {
           "diverging": [
            [
             0,
             "#8e0152"
            ],
            [
             0.1,
             "#c51b7d"
            ],
            [
             0.2,
             "#de77ae"
            ],
            [
             0.3,
             "#f1b6da"
            ],
            [
             0.4,
             "#fde0ef"
            ],
            [
             0.5,
             "#f7f7f7"
            ],
            [
             0.6,
             "#e6f5d0"
            ],
            [
             0.7,
             "#b8e186"
            ],
            [
             0.8,
             "#7fbc41"
            ],
            [
             0.9,
             "#4d9221"
            ],
            [
             1,
             "#276419"
            ]
           ],
           "sequential": [
            [
             0,
             "#0d0887"
            ],
            [
             0.1111111111111111,
             "#46039f"
            ],
            [
             0.2222222222222222,
             "#7201a8"
            ],
            [
             0.3333333333333333,
             "#9c179e"
            ],
            [
             0.4444444444444444,
             "#bd3786"
            ],
            [
             0.5555555555555556,
             "#d8576b"
            ],
            [
             0.6666666666666666,
             "#ed7953"
            ],
            [
             0.7777777777777778,
             "#fb9f3a"
            ],
            [
             0.8888888888888888,
             "#fdca26"
            ],
            [
             1,
             "#f0f921"
            ]
           ],
           "sequentialminus": [
            [
             0,
             "#0d0887"
            ],
            [
             0.1111111111111111,
             "#46039f"
            ],
            [
             0.2222222222222222,
             "#7201a8"
            ],
            [
             0.3333333333333333,
             "#9c179e"
            ],
            [
             0.4444444444444444,
             "#bd3786"
            ],
            [
             0.5555555555555556,
             "#d8576b"
            ],
            [
             0.6666666666666666,
             "#ed7953"
            ],
            [
             0.7777777777777778,
             "#fb9f3a"
            ],
            [
             0.8888888888888888,
             "#fdca26"
            ],
            [
             1,
             "#f0f921"
            ]
           ]
          },
          "colorway": [
           "#636efa",
           "#EF553B",
           "#00cc96",
           "#ab63fa",
           "#FFA15A",
           "#19d3f3",
           "#FF6692",
           "#B6E880",
           "#FF97FF",
           "#FECB52"
          ],
          "font": {
           "color": "#2a3f5f"
          },
          "geo": {
           "bgcolor": "white",
           "lakecolor": "white",
           "landcolor": "#E5ECF6",
           "showlakes": true,
           "showland": true,
           "subunitcolor": "white"
          },
          "hoverlabel": {
           "align": "left"
          },
          "hovermode": "closest",
          "mapbox": {
           "style": "light"
          },
          "paper_bgcolor": "white",
          "plot_bgcolor": "#E5ECF6",
          "polar": {
           "angularaxis": {
            "gridcolor": "white",
            "linecolor": "white",
            "ticks": ""
           },
           "bgcolor": "#E5ECF6",
           "radialaxis": {
            "gridcolor": "white",
            "linecolor": "white",
            "ticks": ""
           }
          },
          "scene": {
           "xaxis": {
            "backgroundcolor": "#E5ECF6",
            "gridcolor": "white",
            "gridwidth": 2,
            "linecolor": "white",
            "showbackground": true,
            "ticks": "",
            "zerolinecolor": "white"
           },
           "yaxis": {
            "backgroundcolor": "#E5ECF6",
            "gridcolor": "white",
            "gridwidth": 2,
            "linecolor": "white",
            "showbackground": true,
            "ticks": "",
            "zerolinecolor": "white"
           },
           "zaxis": {
            "backgroundcolor": "#E5ECF6",
            "gridcolor": "white",
            "gridwidth": 2,
            "linecolor": "white",
            "showbackground": true,
            "ticks": "",
            "zerolinecolor": "white"
           }
          },
          "shapedefaults": {
           "line": {
            "color": "#2a3f5f"
           }
          },
          "ternary": {
           "aaxis": {
            "gridcolor": "white",
            "linecolor": "white",
            "ticks": ""
           },
           "baxis": {
            "gridcolor": "white",
            "linecolor": "white",
            "ticks": ""
           },
           "bgcolor": "#E5ECF6",
           "caxis": {
            "gridcolor": "white",
            "linecolor": "white",
            "ticks": ""
           }
          },
          "title": {
           "x": 0.05
          },
          "xaxis": {
           "automargin": true,
           "gridcolor": "white",
           "linecolor": "white",
           "ticks": "",
           "title": {
            "standoff": 15
           },
           "zerolinecolor": "white",
           "zerolinewidth": 2
          },
          "yaxis": {
           "automargin": true,
           "gridcolor": "white",
           "linecolor": "white",
           "ticks": "",
           "title": {
            "standoff": 15
           },
           "zerolinecolor": "white",
           "zerolinewidth": 2
          }
         }
        },
        "title": {
         "text": "Development of GNI per capita (PPP) by Continent"
        },
        "xaxis": {
         "anchor": "y",
         "domain": [
          0,
          1
         ],
         "gridcolor": "lightgray",
         "gridwidth": 0.5,
         "showgrid": true,
         "title": {
          "text": "Year"
         }
        },
        "yaxis": {
         "anchor": "x",
         "domain": [
          0,
          1
         ],
         "gridcolor": "lightgray",
         "gridwidth": 0.5,
         "showgrid": true,
         "title": {
          "text": "Average contribution"
         }
        }
       }
      },
      "text/html": [
       "<div>                            <div id=\"c6966f48-f62c-4a49-b317-a2ee379be21f\" class=\"plotly-graph-div\" style=\"height:525px; width:100%;\"></div>            <script type=\"text/javascript\">                require([\"plotly\"], function(Plotly) {                    window.PLOTLYENV=window.PLOTLYENV || {};                                    if (document.getElementById(\"c6966f48-f62c-4a49-b317-a2ee379be21f\")) {                    Plotly.newPlot(                        \"c6966f48-f62c-4a49-b317-a2ee379be21f\",                        [{\"alignmentgroup\":\"True\",\"bingroup\":\"x\",\"histfunc\":\"sum\",\"hovertemplate\":\"continent=Africa\\u003cbr\\u003eYear=%{x}\\u003cbr\\u003esum of GNI_per_capita_PPP=%{y}\\u003cextra\\u003e\\u003c\\u002fextra\\u003e\",\"legendgroup\":\"Africa\",\"marker\":{\"color\":\"#AEFD8E\",\"pattern\":{\"shape\":\"\"},\"line\":{\"width\":0.5}},\"name\":\"Africa\",\"offsetgroup\":\"Africa\",\"orientation\":\"v\",\"showlegend\":true,\"x\":[2015,2016,2017,2018],\"xaxis\":\"x\",\"y\":[5251.5625,5312.1875,5530.9375,5412.1934375],\"yaxis\":\"y\",\"type\":\"histogram\"},{\"alignmentgroup\":\"True\",\"bingroup\":\"x\",\"histfunc\":\"sum\",\"hovertemplate\":\"continent=Asia\\u003cbr\\u003eYear=%{x}\\u003cbr\\u003esum of GNI_per_capita_PPP=%{y}\\u003cextra\\u003e\\u003c\\u002fextra\\u003e\",\"legendgroup\":\"Asia\",\"marker\":{\"color\":\"#FAA598\",\"pattern\":{\"shape\":\"\"},\"line\":{\"width\":0.5}},\"name\":\"Asia\",\"offsetgroup\":\"Asia\",\"orientation\":\"v\",\"showlegend\":true,\"x\":[2015,2016,2017,2018],\"xaxis\":\"x\",\"y\":[20082.972972972973,20315.135135135137,21290.81081081081,20615.69605263158],\"yaxis\":\"y\",\"type\":\"histogram\"},{\"alignmentgroup\":\"True\",\"bingroup\":\"x\",\"histfunc\":\"sum\",\"hovertemplate\":\"continent=Australia\\u003cbr\\u003eYear=%{x}\\u003cbr\\u003esum of GNI_per_capita_PPP=%{y}\\u003cextra\\u003e\\u003c\\u002fextra\\u003e\",\"legendgroup\":\"Australia\",\"marker\":{\"color\":\"#B2E4FA\",\"pattern\":{\"shape\":\"\"},\"line\":{\"width\":0.5}},\"name\":\"Australia\",\"offsetgroup\":\"Australia\",\"orientation\":\"v\",\"showlegend\":true,\"x\":[2015,2016,2017,2018],\"xaxis\":\"x\",\"y\":[40770.0,42430.0,43455.0,39602.259999999995],\"yaxis\":\"y\",\"type\":\"histogram\"},{\"alignmentgroup\":\"True\",\"bingroup\":\"x\",\"histfunc\":\"sum\",\"hovertemplate\":\"continent=Europe\\u003cbr\\u003eYear=%{x}\\u003cbr\\u003esum of GNI_per_capita_PPP=%{y}\\u003cextra\\u003e\\u003c\\u002fextra\\u003e\",\"legendgroup\":\"Europe\",\"marker\":{\"color\":\"#E3C97F\",\"pattern\":{\"shape\":\"\"},\"line\":{\"width\":0.5}},\"name\":\"Europe\",\"offsetgroup\":\"Europe\",\"orientation\":\"v\",\"showlegend\":true,\"x\":[2015,2016,2017,2018],\"xaxis\":\"x\",\"y\":[33763.78378378379,35528.64864864865,37462.97297297297,33672.8645945946],\"yaxis\":\"y\",\"type\":\"histogram\"},{\"alignmentgroup\":\"True\",\"bingroup\":\"x\",\"histfunc\":\"sum\",\"hovertemplate\":\"continent=North America\\u003cbr\\u003eYear=%{x}\\u003cbr\\u003esum of GNI_per_capita_PPP=%{y}\\u003cextra\\u003e\\u003c\\u002fextra\\u003e\",\"legendgroup\":\"North America\",\"marker\":{\"color\":\"#B47FE3\",\"pattern\":{\"shape\":\"\"},\"line\":{\"width\":0.5}},\"name\":\"North America\",\"offsetgroup\":\"North America\",\"orientation\":\"v\",\"showlegend\":true,\"x\":[2015,2016,2017,2018],\"xaxis\":\"x\",\"y\":[40053.333333333336,41230.0,42796.666666666664,39123.53333333333],\"yaxis\":\"y\",\"type\":\"histogram\"},{\"alignmentgroup\":\"True\",\"bingroup\":\"x\",\"histfunc\":\"sum\",\"hovertemplate\":\"continent=South America\\u003cbr\\u003eYear=%{x}\\u003cbr\\u003esum of GNI_per_capita_PPP=%{y}\\u003cextra\\u003e\\u003c\\u002fextra\\u003e\",\"legendgroup\":\"South America\",\"marker\":{\"color\":\"#E8EAC8\",\"pattern\":{\"shape\":\"\"},\"line\":{\"width\":0.5}},\"name\":\"South America\",\"offsetgroup\":\"South America\",\"orientation\":\"v\",\"showlegend\":true,\"x\":[2015,2016,2017,2018],\"xaxis\":\"x\",\"y\":[11531.578947368422,11928.421052631578,12637.368421052632,11080.535],\"yaxis\":\"y\",\"type\":\"histogram\"}],                        {\"template\":{\"data\":{\"histogram2dcontour\":[{\"type\":\"histogram2dcontour\",\"colorbar\":{\"outlinewidth\":0,\"ticks\":\"\"},\"colorscale\":[[0.0,\"#0d0887\"],[0.1111111111111111,\"#46039f\"],[0.2222222222222222,\"#7201a8\"],[0.3333333333333333,\"#9c179e\"],[0.4444444444444444,\"#bd3786\"],[0.5555555555555556,\"#d8576b\"],[0.6666666666666666,\"#ed7953\"],[0.7777777777777778,\"#fb9f3a\"],[0.8888888888888888,\"#fdca26\"],[1.0,\"#f0f921\"]]}],\"choropleth\":[{\"type\":\"choropleth\",\"colorbar\":{\"outlinewidth\":0,\"ticks\":\"\"}}],\"histogram2d\":[{\"type\":\"histogram2d\",\"colorbar\":{\"outlinewidth\":0,\"ticks\":\"\"},\"colorscale\":[[0.0,\"#0d0887\"],[0.1111111111111111,\"#46039f\"],[0.2222222222222222,\"#7201a8\"],[0.3333333333333333,\"#9c179e\"],[0.4444444444444444,\"#bd3786\"],[0.5555555555555556,\"#d8576b\"],[0.6666666666666666,\"#ed7953\"],[0.7777777777777778,\"#fb9f3a\"],[0.8888888888888888,\"#fdca26\"],[1.0,\"#f0f921\"]]}],\"heatmap\":[{\"type\":\"heatmap\",\"colorbar\":{\"outlinewidth\":0,\"ticks\":\"\"},\"colorscale\":[[0.0,\"#0d0887\"],[0.1111111111111111,\"#46039f\"],[0.2222222222222222,\"#7201a8\"],[0.3333333333333333,\"#9c179e\"],[0.4444444444444444,\"#bd3786\"],[0.5555555555555556,\"#d8576b\"],[0.6666666666666666,\"#ed7953\"],[0.7777777777777778,\"#fb9f3a\"],[0.8888888888888888,\"#fdca26\"],[1.0,\"#f0f921\"]]}],\"heatmapgl\":[{\"type\":\"heatmapgl\",\"colorbar\":{\"outlinewidth\":0,\"ticks\":\"\"},\"colorscale\":[[0.0,\"#0d0887\"],[0.1111111111111111,\"#46039f\"],[0.2222222222222222,\"#7201a8\"],[0.3333333333333333,\"#9c179e\"],[0.4444444444444444,\"#bd3786\"],[0.5555555555555556,\"#d8576b\"],[0.6666666666666666,\"#ed7953\"],[0.7777777777777778,\"#fb9f3a\"],[0.8888888888888888,\"#fdca26\"],[1.0,\"#f0f921\"]]}],\"contourcarpet\":[{\"type\":\"contourcarpet\",\"colorbar\":{\"outlinewidth\":0,\"ticks\":\"\"}}],\"contour\":[{\"type\":\"contour\",\"colorbar\":{\"outlinewidth\":0,\"ticks\":\"\"},\"colorscale\":[[0.0,\"#0d0887\"],[0.1111111111111111,\"#46039f\"],[0.2222222222222222,\"#7201a8\"],[0.3333333333333333,\"#9c179e\"],[0.4444444444444444,\"#bd3786\"],[0.5555555555555556,\"#d8576b\"],[0.6666666666666666,\"#ed7953\"],[0.7777777777777778,\"#fb9f3a\"],[0.8888888888888888,\"#fdca26\"],[1.0,\"#f0f921\"]]}],\"surface\":[{\"type\":\"surface\",\"colorbar\":{\"outlinewidth\":0,\"ticks\":\"\"},\"colorscale\":[[0.0,\"#0d0887\"],[0.1111111111111111,\"#46039f\"],[0.2222222222222222,\"#7201a8\"],[0.3333333333333333,\"#9c179e\"],[0.4444444444444444,\"#bd3786\"],[0.5555555555555556,\"#d8576b\"],[0.6666666666666666,\"#ed7953\"],[0.7777777777777778,\"#fb9f3a\"],[0.8888888888888888,\"#fdca26\"],[1.0,\"#f0f921\"]]}],\"mesh3d\":[{\"type\":\"mesh3d\",\"colorbar\":{\"outlinewidth\":0,\"ticks\":\"\"}}],\"scatter\":[{\"fillpattern\":{\"fillmode\":\"overlay\",\"size\":10,\"solidity\":0.2},\"type\":\"scatter\"}],\"parcoords\":[{\"type\":\"parcoords\",\"line\":{\"colorbar\":{\"outlinewidth\":0,\"ticks\":\"\"}}}],\"scatterpolargl\":[{\"type\":\"scatterpolargl\",\"marker\":{\"colorbar\":{\"outlinewidth\":0,\"ticks\":\"\"}}}],\"bar\":[{\"error_x\":{\"color\":\"#2a3f5f\"},\"error_y\":{\"color\":\"#2a3f5f\"},\"marker\":{\"line\":{\"color\":\"#E5ECF6\",\"width\":0.5},\"pattern\":{\"fillmode\":\"overlay\",\"size\":10,\"solidity\":0.2}},\"type\":\"bar\"}],\"scattergeo\":[{\"type\":\"scattergeo\",\"marker\":{\"colorbar\":{\"outlinewidth\":0,\"ticks\":\"\"}}}],\"scatterpolar\":[{\"type\":\"scatterpolar\",\"marker\":{\"colorbar\":{\"outlinewidth\":0,\"ticks\":\"\"}}}],\"histogram\":[{\"marker\":{\"pattern\":{\"fillmode\":\"overlay\",\"size\":10,\"solidity\":0.2}},\"type\":\"histogram\"}],\"scattergl\":[{\"type\":\"scattergl\",\"marker\":{\"colorbar\":{\"outlinewidth\":0,\"ticks\":\"\"}}}],\"scatter3d\":[{\"type\":\"scatter3d\",\"line\":{\"colorbar\":{\"outlinewidth\":0,\"ticks\":\"\"}},\"marker\":{\"colorbar\":{\"outlinewidth\":0,\"ticks\":\"\"}}}],\"scattermapbox\":[{\"type\":\"scattermapbox\",\"marker\":{\"colorbar\":{\"outlinewidth\":0,\"ticks\":\"\"}}}],\"scatterternary\":[{\"type\":\"scatterternary\",\"marker\":{\"colorbar\":{\"outlinewidth\":0,\"ticks\":\"\"}}}],\"scattercarpet\":[{\"type\":\"scattercarpet\",\"marker\":{\"colorbar\":{\"outlinewidth\":0,\"ticks\":\"\"}}}],\"carpet\":[{\"aaxis\":{\"endlinecolor\":\"#2a3f5f\",\"gridcolor\":\"white\",\"linecolor\":\"white\",\"minorgridcolor\":\"white\",\"startlinecolor\":\"#2a3f5f\"},\"baxis\":{\"endlinecolor\":\"#2a3f5f\",\"gridcolor\":\"white\",\"linecolor\":\"white\",\"minorgridcolor\":\"white\",\"startlinecolor\":\"#2a3f5f\"},\"type\":\"carpet\"}],\"table\":[{\"cells\":{\"fill\":{\"color\":\"#EBF0F8\"},\"line\":{\"color\":\"white\"}},\"header\":{\"fill\":{\"color\":\"#C8D4E3\"},\"line\":{\"color\":\"white\"}},\"type\":\"table\"}],\"barpolar\":[{\"marker\":{\"line\":{\"color\":\"#E5ECF6\",\"width\":0.5},\"pattern\":{\"fillmode\":\"overlay\",\"size\":10,\"solidity\":0.2}},\"type\":\"barpolar\"}],\"pie\":[{\"automargin\":true,\"type\":\"pie\"}]},\"layout\":{\"autotypenumbers\":\"strict\",\"colorway\":[\"#636efa\",\"#EF553B\",\"#00cc96\",\"#ab63fa\",\"#FFA15A\",\"#19d3f3\",\"#FF6692\",\"#B6E880\",\"#FF97FF\",\"#FECB52\"],\"font\":{\"color\":\"#2a3f5f\"},\"hovermode\":\"closest\",\"hoverlabel\":{\"align\":\"left\"},\"paper_bgcolor\":\"white\",\"plot_bgcolor\":\"#E5ECF6\",\"polar\":{\"bgcolor\":\"#E5ECF6\",\"angularaxis\":{\"gridcolor\":\"white\",\"linecolor\":\"white\",\"ticks\":\"\"},\"radialaxis\":{\"gridcolor\":\"white\",\"linecolor\":\"white\",\"ticks\":\"\"}},\"ternary\":{\"bgcolor\":\"#E5ECF6\",\"aaxis\":{\"gridcolor\":\"white\",\"linecolor\":\"white\",\"ticks\":\"\"},\"baxis\":{\"gridcolor\":\"white\",\"linecolor\":\"white\",\"ticks\":\"\"},\"caxis\":{\"gridcolor\":\"white\",\"linecolor\":\"white\",\"ticks\":\"\"}},\"coloraxis\":{\"colorbar\":{\"outlinewidth\":0,\"ticks\":\"\"}},\"colorscale\":{\"sequential\":[[0.0,\"#0d0887\"],[0.1111111111111111,\"#46039f\"],[0.2222222222222222,\"#7201a8\"],[0.3333333333333333,\"#9c179e\"],[0.4444444444444444,\"#bd3786\"],[0.5555555555555556,\"#d8576b\"],[0.6666666666666666,\"#ed7953\"],[0.7777777777777778,\"#fb9f3a\"],[0.8888888888888888,\"#fdca26\"],[1.0,\"#f0f921\"]],\"sequentialminus\":[[0.0,\"#0d0887\"],[0.1111111111111111,\"#46039f\"],[0.2222222222222222,\"#7201a8\"],[0.3333333333333333,\"#9c179e\"],[0.4444444444444444,\"#bd3786\"],[0.5555555555555556,\"#d8576b\"],[0.6666666666666666,\"#ed7953\"],[0.7777777777777778,\"#fb9f3a\"],[0.8888888888888888,\"#fdca26\"],[1.0,\"#f0f921\"]],\"diverging\":[[0,\"#8e0152\"],[0.1,\"#c51b7d\"],[0.2,\"#de77ae\"],[0.3,\"#f1b6da\"],[0.4,\"#fde0ef\"],[0.5,\"#f7f7f7\"],[0.6,\"#e6f5d0\"],[0.7,\"#b8e186\"],[0.8,\"#7fbc41\"],[0.9,\"#4d9221\"],[1,\"#276419\"]]},\"xaxis\":{\"gridcolor\":\"white\",\"linecolor\":\"white\",\"ticks\":\"\",\"title\":{\"standoff\":15},\"zerolinecolor\":\"white\",\"automargin\":true,\"zerolinewidth\":2},\"yaxis\":{\"gridcolor\":\"white\",\"linecolor\":\"white\",\"ticks\":\"\",\"title\":{\"standoff\":15},\"zerolinecolor\":\"white\",\"automargin\":true,\"zerolinewidth\":2},\"scene\":{\"xaxis\":{\"backgroundcolor\":\"#E5ECF6\",\"gridcolor\":\"white\",\"linecolor\":\"white\",\"showbackground\":true,\"ticks\":\"\",\"zerolinecolor\":\"white\",\"gridwidth\":2},\"yaxis\":{\"backgroundcolor\":\"#E5ECF6\",\"gridcolor\":\"white\",\"linecolor\":\"white\",\"showbackground\":true,\"ticks\":\"\",\"zerolinecolor\":\"white\",\"gridwidth\":2},\"zaxis\":{\"backgroundcolor\":\"#E5ECF6\",\"gridcolor\":\"white\",\"linecolor\":\"white\",\"showbackground\":true,\"ticks\":\"\",\"zerolinecolor\":\"white\",\"gridwidth\":2}},\"shapedefaults\":{\"line\":{\"color\":\"#2a3f5f\"}},\"annotationdefaults\":{\"arrowcolor\":\"#2a3f5f\",\"arrowhead\":0,\"arrowwidth\":1},\"geo\":{\"bgcolor\":\"white\",\"landcolor\":\"#E5ECF6\",\"subunitcolor\":\"white\",\"showland\":true,\"showlakes\":true,\"lakecolor\":\"white\"},\"title\":{\"x\":0.05},\"mapbox\":{\"style\":\"light\"}}},\"xaxis\":{\"anchor\":\"y\",\"domain\":[0.0,1.0],\"title\":{\"text\":\"Year\"},\"showgrid\":true,\"gridwidth\":0.5,\"gridcolor\":\"lightgray\"},\"yaxis\":{\"anchor\":\"x\",\"domain\":[0.0,1.0],\"title\":{\"text\":\"Average contribution\"},\"showgrid\":true,\"gridwidth\":0.5,\"gridcolor\":\"lightgray\"},\"legend\":{\"title\":{\"text\":\"continent\"},\"tracegroupgap\":0,\"font\":{\"family\":\"Arial\",\"size\":12}},\"margin\":{\"t\":60},\"barmode\":\"group\",\"font\":{\"family\":\"Arial\",\"size\":14},\"title\":{\"text\":\"Development of GNI per capita (PPP) by Continent\"},\"plot_bgcolor\":\"rgb(240, 240, 240)\",\"bargap\":0.2},                        {\"responsive\": true}                    ).then(function(){\n",
       "                            \n",
       "var gd = document.getElementById('c6966f48-f62c-4a49-b317-a2ee379be21f');\n",
       "var x = new MutationObserver(function (mutations, observer) {{\n",
       "        var display = window.getComputedStyle(gd).display;\n",
       "        if (!display || display === 'none') {{\n",
       "            console.log([gd, 'removed!']);\n",
       "            Plotly.purge(gd);\n",
       "            observer.disconnect();\n",
       "        }}\n",
       "}});\n",
       "\n",
       "// Listen for the removal of the full notebook cells\n",
       "var notebookContainer = gd.closest('#notebook-container');\n",
       "if (notebookContainer) {{\n",
       "    x.observe(notebookContainer, {childList: true});\n",
       "}}\n",
       "\n",
       "// Listen for the clearing of the current output cell\n",
       "var outputEl = gd.closest('.output');\n",
       "if (outputEl) {{\n",
       "    x.observe(outputEl, {childList: true});\n",
       "}}\n",
       "\n",
       "                        })                };                });            </script>        </div>"
      ]
     },
     "metadata": {},
     "output_type": "display_data"
    }
   ],
   "source": [
    "continent_colors = {\n",
    "    'Africa': '#AEFD8E',\n",
    "    'Asia': '#FAA598',\n",
    "    'Europe': '#E3C97F',\n",
    "    'North America': '#B47FE3',\n",
    "    'Australia': '#B2E4FA',\n",
    "    'South America': '#E8EAC8'\n",
    "}\n",
    "\n",
    "avg_happiness = data.groupby(['continent', 'Year'])['happiness_score'].mean().reset_index()\n",
    "\n",
    "# Create a grouped histogram using Plotly\n",
    "fig = px.histogram(avg_happiness, x='Year', y='happiness_score', color='continent', barmode='group',\n",
    "                   color_discrete_map=continent_colors)\n",
    "\n",
    "\n",
    "fig.update_layout(\n",
    "    title='Development of Average Happiness Score by Continent',\n",
    "    xaxis_title='Year',\n",
    "    yaxis_title='Average Happiness',\n",
    "    font=dict(family='Arial', size=14),\n",
    "    legend=dict(font=dict(family='Arial', size=12)),\n",
    "    plot_bgcolor='rgb(240, 240, 240)',\n",
    "    bargap=0.2\n",
    ")\n",
    "\n",
    "\n",
    "fig.update_xaxes(showgrid=True, gridwidth=0.5, gridcolor='lightgray')\n",
    "fig.update_yaxes(showgrid=True, gridwidth=0.5, gridcolor='lightgray')\n",
    "\n",
    "\n",
    "fig.update_traces(marker=dict(line=dict(width=0.5)))\n",
    "\n",
    "\n",
    "fig.show()\n",
    "\n",
    "avg_gni = data.groupby(['continent', 'Year'])['GNI_per_capita_PPP'].mean().reset_index()\n",
    "\n",
    "# Create a grouped histogram using Plotly\n",
    "fig = px.histogram(avg_gni, x='Year', y='GNI_per_capita_PPP', color='continent', barmode='group',\n",
    "                   color_discrete_map=continent_colors)\n",
    "\n",
    "\n",
    "fig.update_layout(\n",
    "    title='Development of GNI per capita (PPP) by Continent',\n",
    "    xaxis_title='Year',\n",
    "    yaxis_title='Average contribution',\n",
    "    font=dict(family='Arial', size=14),\n",
    "    legend=dict(font=dict(family='Arial', size=12)),\n",
    "    plot_bgcolor='rgb(240, 240, 240)',\n",
    "    bargap=0.2\n",
    ")\n",
    "\n",
    "\n",
    "fig.update_xaxes(showgrid=True, gridwidth=0.5, gridcolor='lightgray')\n",
    "fig.update_yaxes(showgrid=True, gridwidth=0.5, gridcolor='lightgray')\n",
    "\n",
    "\n",
    "fig.update_traces(marker=dict(line=dict(width=0.5)))\n",
    "\n",
    "fig.show()"
   ]
  },
  {
   "cell_type": "markdown",
   "id": "3fad5068",
   "metadata": {},
   "source": [
    "### GNI per capita and happiness\n",
    "\n",
    "The two histograms shown above show that more money does not necessarily relate to being happier. For both GNI per capita and happiness the top three continents are consistent, these being in order: Australia, North America and Europe. However, the order of the bottom three continents is not consistent, while asia is, on average, significantly 'richer' than than South America, their happiness levels are lower in every single year, showing that, at least for South Americans, money does not buy happiness. Furthermore, these histograms show that while GNI per capita varies from year to year, the happiness of continents stays very consistent throughout the years, which also proves that the monetary wealth of people does not have the greatest influence on people's happiness."
   ]
  },
  {
   "cell_type": "code",
   "execution_count": 128,
   "id": "15401212",
   "metadata": {
    "scrolled": false
   },
   "outputs": [
    {
     "data": {
      "application/vnd.plotly.v1+json": {
       "config": {
        "plotlyServerURL": "https://plot.ly"
       },
       "data": [
        {
         "customdata": [
          [
           "Lebanon"
          ],
          [
           "Malaysia"
          ],
          [
           "Kuwait"
          ],
          [
           "Kazakhstan"
          ],
          [
           "Jordan"
          ],
          [
           "Japan"
          ],
          [
           "Israel"
          ],
          [
           "Iraq"
          ],
          [
           "Kyrgyzstan"
          ],
          [
           "Mongolia"
          ],
          [
           "Saudi Arabia"
          ],
          [
           "Philippines"
          ],
          [
           "Pakistan"
          ],
          [
           "Nepal"
          ],
          [
           "Myanmar"
          ],
          [
           "Iran"
          ],
          [
           "Indonesia"
          ],
          [
           "Cambodia"
          ],
          [
           "Bangladesh"
          ],
          [
           "Bahrain"
          ],
          [
           "Azerbaijan"
          ],
          [
           "Armenia"
          ],
          [
           "China"
          ],
          [
           "China"
          ],
          [
           "Georgia"
          ],
          [
           "Cyprus"
          ],
          [
           "India"
          ],
          [
           "Singapore"
          ],
          [
           "Afghanistan"
          ],
          [
           "Turkey"
          ],
          [
           "United Arab Emirates"
          ],
          [
           "Thailand"
          ],
          [
           "Vietnam"
          ],
          [
           "Sri Lanka"
          ],
          [
           "Turkmenistan"
          ],
          [
           "Uzbekistan"
          ],
          [
           "Tajikistan"
          ],
          [
           "Yemen"
          ]
         ],
         "hovertemplate": "Country: %{customdata[0]}<br>Happines: %{x}<br>GNI per Capita (PPP): %{y}",
         "hovertext": [
          "Lebanon",
          "Malaysia",
          "Kuwait",
          "Kazakhstan",
          "Jordan",
          "Japan",
          "Israel",
          "Iraq",
          "Kyrgyzstan",
          "Mongolia",
          "Saudi Arabia",
          "Philippines",
          "Pakistan",
          "Nepal",
          "Myanmar",
          "Iran",
          "Indonesia",
          "Cambodia",
          "Bangladesh",
          "Bahrain",
          "Azerbaijan",
          "Armenia",
          "China",
          "China",
          "Georgia",
          "Cyprus",
          "India",
          "Singapore",
          "Afghanistan",
          "Turkey",
          "United Arab Emirates",
          "Thailand",
          "Vietnam",
          "Sri Lanka",
          "Turkmenistan",
          "Uzbekistan",
          "Tajikistan",
          "Yemen"
         ],
         "ids": [
          "Lebanon",
          "Malaysia",
          "Kuwait",
          "Kazakhstan",
          "Jordan",
          "Japan",
          "Israel",
          "Iraq",
          "Kyrgyzstan",
          "Mongolia",
          "Saudi Arabia",
          "Philippines",
          "Pakistan",
          "Nepal",
          "Myanmar",
          "Iran",
          "Indonesia",
          "Cambodia",
          "Bangladesh",
          "Bahrain",
          "Azerbaijan",
          "Armenia",
          "China",
          "China",
          "Georgia",
          "Cyprus",
          "India",
          "Singapore",
          "Afghanistan",
          "Turkey",
          "United Arab Emirates",
          "Thailand",
          "Vietnam",
          "Sri Lanka",
          "Turkmenistan",
          "Uzbekistan",
          "Tajikistan",
          "Yemen"
         ],
         "legendgroup": "Asia",
         "marker": {
          "color": "#FAA598",
          "symbol": "circle"
         },
         "mode": "markers",
         "name": "Asia",
         "orientation": "v",
         "showlegend": true,
         "type": "scatter",
         "x": [
          5.224999905,
          6.084000111,
          6.105000019,
          5.818999767,
          5.335999966,
          5.920000076,
          7.212999821,
          4.497000217,
          5.004000187,
          4.954999924,
          6.343999863,
          5.429999828,
          5.269000053,
          4.961999893,
          4.545000076,
          4.691999912,
          5.262000084,
          4.168000221,
          4.607999802,
          6.086999893,
          5.234000206,
          4.375999928,
          5.272999763,
          5.272999763,
          4.285999775,
          5.620999813,
          4.315000057,
          6.572000027,
          3.79399991,
          5.5,
          6.647999763,
          6.423999786,
          5.073999882,
          4.440000057,
          5.822000027,
          5.971000195,
          5.040999889,
          3.592999935
         ],
         "xaxis": "x",
         "y": [
          14920,
          24120,
          52880,
          23860,
          9140,
          41950,
          35130,
          10220,
          4460,
          9880,
          49450,
          8310,
          4640,
          2680,
          4180,
          13300,
          9910,
          3180,
          3790,
          42760,
          15020,
          12490,
          57450,
          12880,
          11420,
          31510,
          5400,
          81040,
          2110,
          25340,
          64640,
          15010,
          5790,
          11270,
          12890,
          6460,
          3590,
          null
         ],
         "yaxis": "y"
        },
        {
         "customdata": [
          [
           "Mauritania"
          ],
          [
           "Mali"
          ],
          [
           "Malawi"
          ],
          [
           "Madagascar"
          ],
          [
           "Libya"
          ],
          [
           "Liberia"
          ],
          [
           "Mauritius"
          ],
          [
           "Kenya"
          ],
          [
           "Senegal"
          ],
          [
           "Rwanda"
          ],
          [
           "Nigeria"
          ],
          [
           "Niger"
          ],
          [
           "Morocco"
          ],
          [
           "Sierra Leone"
          ],
          [
           "Cameroon"
          ],
          [
           "Burundi"
          ],
          [
           "Burkina Faso"
          ],
          [
           "Botswana"
          ],
          [
           "Chad"
          ],
          [
           "Benin"
          ],
          [
           "Algeria"
          ],
          [
           "Ghana"
          ],
          [
           "Gabon"
          ],
          [
           "Ethiopia"
          ],
          [
           "Egypt"
          ],
          [
           "Zambia"
          ],
          [
           "Togo"
          ],
          [
           "Zimbabwe"
          ],
          [
           "Uganda"
          ],
          [
           "Tunisia"
          ],
          [
           "South Africa"
          ],
          [
           "Tanzania"
          ]
         ],
         "hovertemplate": "Country: %{customdata[0]}<br>Happines: %{x}<br>GNI per Capita (PPP): %{y}",
         "hovertext": [
          "Mauritania",
          "Mali",
          "Malawi",
          "Madagascar",
          "Libya",
          "Liberia",
          "Mauritius",
          "Kenya",
          "Senegal",
          "Rwanda",
          "Nigeria",
          "Niger",
          "Morocco",
          "Sierra Leone",
          "Cameroon",
          "Burundi",
          "Burkina Faso",
          "Botswana",
          "Chad",
          "Benin",
          "Algeria",
          "Ghana",
          "Gabon",
          "Ethiopia",
          "Egypt",
          "Zambia",
          "Togo",
          "Zimbabwe",
          "Uganda",
          "Tunisia",
          "South Africa",
          "Tanzania"
         ],
         "ids": [
          "Mauritania",
          "Mali",
          "Malawi",
          "Madagascar",
          "Libya",
          "Liberia",
          "Mauritius",
          "Kenya",
          "Senegal",
          "Rwanda",
          "Nigeria",
          "Niger",
          "Morocco",
          "Sierra Leone",
          "Cameroon",
          "Burundi",
          "Burkina Faso",
          "Botswana",
          "Chad",
          "Benin",
          "Algeria",
          "Ghana",
          "Gabon",
          "Ethiopia",
          "Egypt",
          "Zambia",
          "Togo",
          "Zimbabwe",
          "Uganda",
          "Tunisia",
          "South Africa",
          "Tanzania"
         ],
         "legendgroup": "Africa",
         "marker": {
          "color": "#AEFD8E",
          "symbol": "circle"
         },
         "mode": "markers",
         "name": "Africa",
         "orientation": "v",
         "showlegend": true,
         "type": "scatter",
         "x": [
          4.291999817,
          4.190000057,
          3.970000029,
          3.644000053,
          5.525000095,
          3.532999992,
          5.629000187,
          4.552999973,
          4.534999847,
          3.470999956,
          5.073999882,
          4.027999878,
          5.235000134,
          4.709000111,
          4.695000172,
          2.904999971,
          4.032000065,
          3.766000032,
          3.936000109,
          3.657000065,
          5.872000217,
          4.119999886,
          4.465000153,
          4.460000038,
          4.735000134,
          4.513999939,
          3.494999886,
          3.875,
          4.080999851,
          4.804999828,
          4.828999996,
          3.348999977
         ],
         "xaxis": "x",
         "y": [
          3160,
          1990,
          990,
          1500,
          12740,
          1180,
          20860,
          3330,
          2910,
          1710,
          5280,
          840,
          7670,
          1570,
          3210,
          840,
          1460,
          15310,
          1760,
          2860,
          11700,
          5050,
          13480,
          1650,
          11160,
          3370,
          1440,
          2410,
          1750,
          9890,
          12240,
          2740
         ],
         "yaxis": "y"
        },
        {
         "customdata": [
          [
           "Malta"
          ],
          [
           "Luxembourg"
          ],
          [
           "Lithuania"
          ],
          [
           "Latvia"
          ],
          [
           "Italy"
          ],
          [
           "Ireland"
          ],
          [
           "Moldova"
          ],
          [
           "Serbia"
          ],
          [
           "Russia"
          ],
          [
           "Romania"
          ],
          [
           "Portugal"
          ],
          [
           "Poland"
          ],
          [
           "Norway"
          ],
          [
           "Netherlands"
          ],
          [
           "Montenegro"
          ],
          [
           "Iceland"
          ],
          [
           "Bulgaria"
          ],
          [
           "Bosnia and Herzegovina"
          ],
          [
           "Belarus"
          ],
          [
           "Austria"
          ],
          [
           "Albania"
          ],
          [
           "Belgium"
          ],
          [
           "Hungary"
          ],
          [
           "Greece"
          ],
          [
           "Germany"
          ],
          [
           "France"
          ],
          [
           "Finland"
          ],
          [
           "Estonia"
          ],
          [
           "Denmark"
          ],
          [
           "Croatia"
          ],
          [
           "Ukraine"
          ],
          [
           "Sweden"
          ],
          [
           "Slovenia"
          ],
          [
           "United Kingdom"
          ],
          [
           "Spain"
          ],
          [
           "Switzerland"
          ],
          [
           "Slovakia"
          ]
         ],
         "hovertemplate": "Country: %{customdata[0]}<br>Happines: %{x}<br>GNI per Capita (PPP): %{y}",
         "hovertext": [
          "Malta",
          "Luxembourg",
          "Lithuania",
          "Latvia",
          "Italy",
          "Ireland",
          "Moldova",
          "Serbia",
          "Russia",
          "Romania",
          "Portugal",
          "Poland",
          "Norway",
          "Netherlands",
          "Montenegro",
          "Iceland",
          "Bulgaria",
          "Bosnia and Herzegovina",
          "Belarus",
          "Austria",
          "Albania",
          "Belgium",
          "Hungary",
          "Greece",
          "Germany",
          "France",
          "Finland",
          "Estonia",
          "Denmark",
          "Croatia",
          "Ukraine",
          "Sweden",
          "Slovenia",
          "United Kingdom",
          "Spain",
          "Switzerland",
          "Slovakia"
         ],
         "ids": [
          "Malta",
          "Luxembourg",
          "Lithuania",
          "Latvia",
          "Italy",
          "Ireland",
          "Moldova",
          "Serbia",
          "Russia",
          "Romania",
          "Portugal",
          "Poland",
          "Norway",
          "Netherlands",
          "Montenegro",
          "Iceland",
          "Bulgaria",
          "Bosnia and Herzegovina",
          "Belarus",
          "Austria",
          "Albania",
          "Belgium",
          "Hungary",
          "Greece",
          "Germany",
          "France",
          "Finland",
          "Estonia",
          "Denmark",
          "Croatia",
          "Ukraine",
          "Sweden",
          "Slovenia",
          "United Kingdom",
          "Spain",
          "Switzerland",
          "Slovakia"
         ],
         "legendgroup": "Europe",
         "marker": {
          "color": "#E3C97F",
          "symbol": "circle"
         },
         "mode": "markers",
         "name": "Europe",
         "orientation": "v",
         "showlegend": true,
         "type": "scatter",
         "x": [
          6.52699995,
          6.862999916,
          5.90199995,
          5.849999905,
          5.964000225,
          6.977000237,
          5.837999821,
          5.394999981,
          5.962999821,
          5.824999809,
          5.195000172,
          5.97300005,
          7.537000179,
          7.376999855,
          5.236999989,
          7.504000187,
          4.714000225,
          5.18200016,
          5.568999767,
          7.006000042,
          4.644000053,
          6.890999794,
          5.323999882,
          5.227000237,
          6.951000214,
          6.441999912,
          7.468999863,
          5.611000061,
          7.521999836,
          5.293000221,
          4.096000195,
          7.28399992,
          5.757999897,
          6.714000225,
          6.402999878,
          7.493999958,
          6.09800005
         ],
         "xaxis": "x",
         "y": [
          34280,
          67590,
          27780,
          24690,
          36650,
          52990,
          11290,
          14230,
          23420,
          21130,
          28870,
          25880,
          63030,
          50340,
          16700,
          46480,
          17820,
          12100,
          19260,
          49390,
          11800,
          46870,
          25460,
          26940,
          48770,
          41740,
          42950,
          28570,
          50560,
          22870,
          7880,
          49420,
          30660,
          41550,
          34900,
          65450,
          28950
         ],
         "yaxis": "y"
        },
        {
         "customdata": [
          [
           "Jamaica"
          ],
          [
           "Peru"
          ],
          [
           "Paraguay"
          ],
          [
           "Panama"
          ],
          [
           "Nicaragua"
          ],
          [
           "Brazil"
          ],
          [
           "Bolivia"
          ],
          [
           "Argentina"
          ],
          [
           "Chile"
          ],
          [
           "Honduras"
          ],
          [
           "Haiti"
          ],
          [
           "Guinea"
          ],
          [
           "Guatemala"
          ],
          [
           "El Salvador"
          ],
          [
           "Ecuador"
          ],
          [
           "Dominican Republic"
          ],
          [
           "Costa Rica"
          ],
          [
           "Colombia"
          ],
          [
           "Venezuela"
          ],
          [
           "Uruguay"
          ]
         ],
         "hovertemplate": "Country: %{customdata[0]}<br>Happines: %{x}<br>GNI per Capita (PPP): %{y}",
         "hovertext": [
          "Jamaica",
          "Peru",
          "Paraguay",
          "Panama",
          "Nicaragua",
          "Brazil",
          "Bolivia",
          "Argentina",
          "Chile",
          "Honduras",
          "Haiti",
          "Guinea",
          "Guatemala",
          "El Salvador",
          "Ecuador",
          "Dominican Republic",
          "Costa Rica",
          "Colombia",
          "Venezuela",
          "Uruguay"
         ],
         "ids": [
          "Jamaica",
          "Peru",
          "Paraguay",
          "Panama",
          "Nicaragua",
          "Brazil",
          "Bolivia",
          "Argentina",
          "Chile",
          "Honduras",
          "Haiti",
          "Guinea",
          "Guatemala",
          "El Salvador",
          "Ecuador",
          "Dominican Republic",
          "Costa Rica",
          "Colombia",
          "Venezuela",
          "Uruguay"
         ],
         "legendgroup": "South America",
         "marker": {
          "color": "#E8EAC8",
          "symbol": "circle"
         },
         "mode": "markers",
         "name": "South America",
         "orientation": "v",
         "showlegend": true,
         "type": "scatter",
         "x": [
          5.31099987,
          5.715000153,
          5.493000031,
          6.452000141,
          6.071000099,
          6.635000229,
          5.822999954,
          6.598999977,
          6.65199995,
          5.181000233,
          3.602999926,
          3.506999969,
          6.453999996,
          6.002999783,
          6.007999897,
          5.230000019,
          7.078999996,
          6.356999874,
          5.25,
          6.453999996
         ],
         "xaxis": "x",
         "y": [
          8520,
          11180,
          11040,
          22810,
          5150,
          14470,
          6890,
          19650,
          22010,
          4490,
          1710,
          1790,
          7830,
          7240,
          10870,
          14130,
          16310,
          13700,
          null,
          19310
         ],
         "yaxis": "y"
        },
        {
         "customdata": [
          [
           "Mexico"
          ],
          [
           "Canada"
          ],
          [
           "United States"
          ]
         ],
         "hovertemplate": "Country: %{customdata[0]}<br>Happines: %{x}<br>GNI per Capita (PPP): %{y}",
         "hovertext": [
          "Mexico",
          "Canada",
          "United States"
         ],
         "ids": [
          "Mexico",
          "Canada",
          "United States"
         ],
         "legendgroup": "North America",
         "marker": {
          "color": "#B47FE3",
          "symbol": "circle"
         },
         "mode": "markers",
         "name": "North America",
         "orientation": "v",
         "showlegend": true,
         "type": "scatter",
         "x": [
          6.578000069,
          7.315999985,
          6.993000031
         ],
         "xaxis": "x",
         "y": [
          17830,
          43990,
          58340
         ],
         "yaxis": "y"
        },
        {
         "customdata": [
          [
           "New Zealand"
          ],
          [
           "Australia"
          ]
         ],
         "hovertemplate": "Country: %{customdata[0]}<br>Happines: %{x}<br>GNI per Capita (PPP): %{y}",
         "hovertext": [
          "New Zealand",
          "Australia"
         ],
         "ids": [
          "New Zealand",
          "Australia"
         ],
         "legendgroup": "Australia",
         "marker": {
          "color": "#B2E4FA",
          "symbol": "circle"
         },
         "mode": "markers",
         "name": "Australia",
         "orientation": "v",
         "showlegend": true,
         "type": "scatter",
         "x": [
          7.31400013,
          7.28399992
         ],
         "xaxis": "x",
         "y": [
          36210,
          45330
         ],
         "yaxis": "y"
        }
       ],
       "frames": [
        {
         "data": [
          {
           "customdata": [
            [
             "Lebanon"
            ],
            [
             "Malaysia"
            ],
            [
             "Kuwait"
            ],
            [
             "Kazakhstan"
            ],
            [
             "Jordan"
            ],
            [
             "Japan"
            ],
            [
             "Israel"
            ],
            [
             "Iraq"
            ],
            [
             "Kyrgyzstan"
            ],
            [
             "Mongolia"
            ],
            [
             "Saudi Arabia"
            ],
            [
             "Philippines"
            ],
            [
             "Pakistan"
            ],
            [
             "Nepal"
            ],
            [
             "Myanmar"
            ],
            [
             "Iran"
            ],
            [
             "Indonesia"
            ],
            [
             "Cambodia"
            ],
            [
             "Bangladesh"
            ],
            [
             "Bahrain"
            ],
            [
             "Azerbaijan"
            ],
            [
             "Armenia"
            ],
            [
             "China"
            ],
            [
             "China"
            ],
            [
             "Georgia"
            ],
            [
             "Cyprus"
            ],
            [
             "India"
            ],
            [
             "Singapore"
            ],
            [
             "Afghanistan"
            ],
            [
             "Turkey"
            ],
            [
             "United Arab Emirates"
            ],
            [
             "Thailand"
            ],
            [
             "Vietnam"
            ],
            [
             "Sri Lanka"
            ],
            [
             "Turkmenistan"
            ],
            [
             "Uzbekistan"
            ],
            [
             "Tajikistan"
            ],
            [
             "Yemen"
            ]
           ],
           "hovertemplate": "<b>%{hovertext}</b><br><br>continent=Asia<br>Year=2015<br>happiness_score=%{x}<br>GNI_per_capita_PPP=%{y}<br>Country=%{customdata[0]}<extra></extra>",
           "hovertext": [
            "Lebanon",
            "Malaysia",
            "Kuwait",
            "Kazakhstan",
            "Jordan",
            "Japan",
            "Israel",
            "Iraq",
            "Kyrgyzstan",
            "Mongolia",
            "Saudi Arabia",
            "Philippines",
            "Pakistan",
            "Nepal",
            "Myanmar",
            "Iran",
            "Indonesia",
            "Cambodia",
            "Bangladesh",
            "Bahrain",
            "Azerbaijan",
            "Armenia",
            "China",
            "China",
            "Georgia",
            "Cyprus",
            "India",
            "Singapore",
            "Afghanistan",
            "Turkey",
            "United Arab Emirates",
            "Thailand",
            "Vietnam",
            "Sri Lanka",
            "Turkmenistan",
            "Uzbekistan",
            "Tajikistan",
            "Yemen"
           ],
           "ids": [
            "Lebanon",
            "Malaysia",
            "Kuwait",
            "Kazakhstan",
            "Jordan",
            "Japan",
            "Israel",
            "Iraq",
            "Kyrgyzstan",
            "Mongolia",
            "Saudi Arabia",
            "Philippines",
            "Pakistan",
            "Nepal",
            "Myanmar",
            "Iran",
            "Indonesia",
            "Cambodia",
            "Bangladesh",
            "Bahrain",
            "Azerbaijan",
            "Armenia",
            "China",
            "China",
            "Georgia",
            "Cyprus",
            "India",
            "Singapore",
            "Afghanistan",
            "Turkey",
            "United Arab Emirates",
            "Thailand",
            "Vietnam",
            "Sri Lanka",
            "Turkmenistan",
            "Uzbekistan",
            "Tajikistan",
            "Yemen"
           ],
           "legendgroup": "Asia",
           "marker": {
            "color": "#FAA598",
            "symbol": "circle"
           },
           "mode": "markers",
           "name": "Asia",
           "orientation": "v",
           "showlegend": true,
           "type": "scatter",
           "x": [
            5.224999905,
            6.084000111,
            6.105000019,
            5.818999767,
            5.335999966,
            5.920000076,
            7.212999821,
            4.497000217,
            5.004000187,
            4.954999924,
            6.343999863,
            5.429999828,
            5.269000053,
            4.961999893,
            4.545000076,
            4.691999912,
            5.262000084,
            4.168000221,
            4.607999802,
            6.086999893,
            5.234000206,
            4.375999928,
            5.272999763,
            5.272999763,
            4.285999775,
            5.620999813,
            4.315000057,
            6.572000027,
            3.79399991,
            5.5,
            6.647999763,
            6.423999786,
            5.073999882,
            4.440000057,
            5.822000027,
            5.971000195,
            5.040999889,
            3.592999935
           ],
           "xaxis": "x",
           "y": [
            14920,
            24120,
            52880,
            23860,
            9140,
            41950,
            35130,
            10220,
            4460,
            9880,
            49450,
            8310,
            4640,
            2680,
            4180,
            13300,
            9910,
            3180,
            3790,
            42760,
            15020,
            12490,
            57450,
            12880,
            11420,
            31510,
            5400,
            81040,
            2110,
            25340,
            64640,
            15010,
            5790,
            11270,
            12890,
            6460,
            3590,
            null
           ],
           "yaxis": "y"
          },
          {
           "customdata": [
            [
             "Mauritania"
            ],
            [
             "Mali"
            ],
            [
             "Malawi"
            ],
            [
             "Madagascar"
            ],
            [
             "Libya"
            ],
            [
             "Liberia"
            ],
            [
             "Mauritius"
            ],
            [
             "Kenya"
            ],
            [
             "Senegal"
            ],
            [
             "Rwanda"
            ],
            [
             "Nigeria"
            ],
            [
             "Niger"
            ],
            [
             "Morocco"
            ],
            [
             "Sierra Leone"
            ],
            [
             "Cameroon"
            ],
            [
             "Burundi"
            ],
            [
             "Burkina Faso"
            ],
            [
             "Botswana"
            ],
            [
             "Chad"
            ],
            [
             "Benin"
            ],
            [
             "Algeria"
            ],
            [
             "Ghana"
            ],
            [
             "Gabon"
            ],
            [
             "Ethiopia"
            ],
            [
             "Egypt"
            ],
            [
             "Zambia"
            ],
            [
             "Togo"
            ],
            [
             "Zimbabwe"
            ],
            [
             "Uganda"
            ],
            [
             "Tunisia"
            ],
            [
             "South Africa"
            ],
            [
             "Tanzania"
            ]
           ],
           "hovertemplate": "<b>%{hovertext}</b><br><br>continent=Africa<br>Year=2015<br>happiness_score=%{x}<br>GNI_per_capita_PPP=%{y}<br>Country=%{customdata[0]}<extra></extra>",
           "hovertext": [
            "Mauritania",
            "Mali",
            "Malawi",
            "Madagascar",
            "Libya",
            "Liberia",
            "Mauritius",
            "Kenya",
            "Senegal",
            "Rwanda",
            "Nigeria",
            "Niger",
            "Morocco",
            "Sierra Leone",
            "Cameroon",
            "Burundi",
            "Burkina Faso",
            "Botswana",
            "Chad",
            "Benin",
            "Algeria",
            "Ghana",
            "Gabon",
            "Ethiopia",
            "Egypt",
            "Zambia",
            "Togo",
            "Zimbabwe",
            "Uganda",
            "Tunisia",
            "South Africa",
            "Tanzania"
           ],
           "ids": [
            "Mauritania",
            "Mali",
            "Malawi",
            "Madagascar",
            "Libya",
            "Liberia",
            "Mauritius",
            "Kenya",
            "Senegal",
            "Rwanda",
            "Nigeria",
            "Niger",
            "Morocco",
            "Sierra Leone",
            "Cameroon",
            "Burundi",
            "Burkina Faso",
            "Botswana",
            "Chad",
            "Benin",
            "Algeria",
            "Ghana",
            "Gabon",
            "Ethiopia",
            "Egypt",
            "Zambia",
            "Togo",
            "Zimbabwe",
            "Uganda",
            "Tunisia",
            "South Africa",
            "Tanzania"
           ],
           "legendgroup": "Africa",
           "marker": {
            "color": "#AEFD8E",
            "symbol": "circle"
           },
           "mode": "markers",
           "name": "Africa",
           "orientation": "v",
           "showlegend": true,
           "type": "scatter",
           "x": [
            4.291999817,
            4.190000057,
            3.970000029,
            3.644000053,
            5.525000095,
            3.532999992,
            5.629000187,
            4.552999973,
            4.534999847,
            3.470999956,
            5.073999882,
            4.027999878,
            5.235000134,
            4.709000111,
            4.695000172,
            2.904999971,
            4.032000065,
            3.766000032,
            3.936000109,
            3.657000065,
            5.872000217,
            4.119999886,
            4.465000153,
            4.460000038,
            4.735000134,
            4.513999939,
            3.494999886,
            3.875,
            4.080999851,
            4.804999828,
            4.828999996,
            3.348999977
           ],
           "xaxis": "x",
           "y": [
            3160,
            1990,
            990,
            1500,
            12740,
            1180,
            20860,
            3330,
            2910,
            1710,
            5280,
            840,
            7670,
            1570,
            3210,
            840,
            1460,
            15310,
            1760,
            2860,
            11700,
            5050,
            13480,
            1650,
            11160,
            3370,
            1440,
            2410,
            1750,
            9890,
            12240,
            2740
           ],
           "yaxis": "y"
          },
          {
           "customdata": [
            [
             "Malta"
            ],
            [
             "Luxembourg"
            ],
            [
             "Lithuania"
            ],
            [
             "Latvia"
            ],
            [
             "Italy"
            ],
            [
             "Ireland"
            ],
            [
             "Moldova"
            ],
            [
             "Serbia"
            ],
            [
             "Russia"
            ],
            [
             "Romania"
            ],
            [
             "Portugal"
            ],
            [
             "Poland"
            ],
            [
             "Norway"
            ],
            [
             "Netherlands"
            ],
            [
             "Montenegro"
            ],
            [
             "Iceland"
            ],
            [
             "Bulgaria"
            ],
            [
             "Bosnia and Herzegovina"
            ],
            [
             "Belarus"
            ],
            [
             "Austria"
            ],
            [
             "Albania"
            ],
            [
             "Belgium"
            ],
            [
             "Hungary"
            ],
            [
             "Greece"
            ],
            [
             "Germany"
            ],
            [
             "France"
            ],
            [
             "Finland"
            ],
            [
             "Estonia"
            ],
            [
             "Denmark"
            ],
            [
             "Croatia"
            ],
            [
             "Ukraine"
            ],
            [
             "Sweden"
            ],
            [
             "Slovenia"
            ],
            [
             "United Kingdom"
            ],
            [
             "Spain"
            ],
            [
             "Switzerland"
            ],
            [
             "Slovakia"
            ]
           ],
           "hovertemplate": "<b>%{hovertext}</b><br><br>continent=Europe<br>Year=2015<br>happiness_score=%{x}<br>GNI_per_capita_PPP=%{y}<br>Country=%{customdata[0]}<extra></extra>",
           "hovertext": [
            "Malta",
            "Luxembourg",
            "Lithuania",
            "Latvia",
            "Italy",
            "Ireland",
            "Moldova",
            "Serbia",
            "Russia",
            "Romania",
            "Portugal",
            "Poland",
            "Norway",
            "Netherlands",
            "Montenegro",
            "Iceland",
            "Bulgaria",
            "Bosnia and Herzegovina",
            "Belarus",
            "Austria",
            "Albania",
            "Belgium",
            "Hungary",
            "Greece",
            "Germany",
            "France",
            "Finland",
            "Estonia",
            "Denmark",
            "Croatia",
            "Ukraine",
            "Sweden",
            "Slovenia",
            "United Kingdom",
            "Spain",
            "Switzerland",
            "Slovakia"
           ],
           "ids": [
            "Malta",
            "Luxembourg",
            "Lithuania",
            "Latvia",
            "Italy",
            "Ireland",
            "Moldova",
            "Serbia",
            "Russia",
            "Romania",
            "Portugal",
            "Poland",
            "Norway",
            "Netherlands",
            "Montenegro",
            "Iceland",
            "Bulgaria",
            "Bosnia and Herzegovina",
            "Belarus",
            "Austria",
            "Albania",
            "Belgium",
            "Hungary",
            "Greece",
            "Germany",
            "France",
            "Finland",
            "Estonia",
            "Denmark",
            "Croatia",
            "Ukraine",
            "Sweden",
            "Slovenia",
            "United Kingdom",
            "Spain",
            "Switzerland",
            "Slovakia"
           ],
           "legendgroup": "Europe",
           "marker": {
            "color": "#E3C97F",
            "symbol": "circle"
           },
           "mode": "markers",
           "name": "Europe",
           "orientation": "v",
           "showlegend": true,
           "type": "scatter",
           "x": [
            6.52699995,
            6.862999916,
            5.90199995,
            5.849999905,
            5.964000225,
            6.977000237,
            5.837999821,
            5.394999981,
            5.962999821,
            5.824999809,
            5.195000172,
            5.97300005,
            7.537000179,
            7.376999855,
            5.236999989,
            7.504000187,
            4.714000225,
            5.18200016,
            5.568999767,
            7.006000042,
            4.644000053,
            6.890999794,
            5.323999882,
            5.227000237,
            6.951000214,
            6.441999912,
            7.468999863,
            5.611000061,
            7.521999836,
            5.293000221,
            4.096000195,
            7.28399992,
            5.757999897,
            6.714000225,
            6.402999878,
            7.493999958,
            6.09800005
           ],
           "xaxis": "x",
           "y": [
            34280,
            67590,
            27780,
            24690,
            36650,
            52990,
            11290,
            14230,
            23420,
            21130,
            28870,
            25880,
            63030,
            50340,
            16700,
            46480,
            17820,
            12100,
            19260,
            49390,
            11800,
            46870,
            25460,
            26940,
            48770,
            41740,
            42950,
            28570,
            50560,
            22870,
            7880,
            49420,
            30660,
            41550,
            34900,
            65450,
            28950
           ],
           "yaxis": "y"
          },
          {
           "customdata": [
            [
             "Jamaica"
            ],
            [
             "Peru"
            ],
            [
             "Paraguay"
            ],
            [
             "Panama"
            ],
            [
             "Nicaragua"
            ],
            [
             "Brazil"
            ],
            [
             "Bolivia"
            ],
            [
             "Argentina"
            ],
            [
             "Chile"
            ],
            [
             "Honduras"
            ],
            [
             "Haiti"
            ],
            [
             "Guinea"
            ],
            [
             "Guatemala"
            ],
            [
             "El Salvador"
            ],
            [
             "Ecuador"
            ],
            [
             "Dominican Republic"
            ],
            [
             "Costa Rica"
            ],
            [
             "Colombia"
            ],
            [
             "Venezuela"
            ],
            [
             "Uruguay"
            ]
           ],
           "hovertemplate": "<b>%{hovertext}</b><br><br>continent=South America<br>Year=2015<br>happiness_score=%{x}<br>GNI_per_capita_PPP=%{y}<br>Country=%{customdata[0]}<extra></extra>",
           "hovertext": [
            "Jamaica",
            "Peru",
            "Paraguay",
            "Panama",
            "Nicaragua",
            "Brazil",
            "Bolivia",
            "Argentina",
            "Chile",
            "Honduras",
            "Haiti",
            "Guinea",
            "Guatemala",
            "El Salvador",
            "Ecuador",
            "Dominican Republic",
            "Costa Rica",
            "Colombia",
            "Venezuela",
            "Uruguay"
           ],
           "ids": [
            "Jamaica",
            "Peru",
            "Paraguay",
            "Panama",
            "Nicaragua",
            "Brazil",
            "Bolivia",
            "Argentina",
            "Chile",
            "Honduras",
            "Haiti",
            "Guinea",
            "Guatemala",
            "El Salvador",
            "Ecuador",
            "Dominican Republic",
            "Costa Rica",
            "Colombia",
            "Venezuela",
            "Uruguay"
           ],
           "legendgroup": "South America",
           "marker": {
            "color": "#E8EAC8",
            "symbol": "circle"
           },
           "mode": "markers",
           "name": "South America",
           "orientation": "v",
           "showlegend": true,
           "type": "scatter",
           "x": [
            5.31099987,
            5.715000153,
            5.493000031,
            6.452000141,
            6.071000099,
            6.635000229,
            5.822999954,
            6.598999977,
            6.65199995,
            5.181000233,
            3.602999926,
            3.506999969,
            6.453999996,
            6.002999783,
            6.007999897,
            5.230000019,
            7.078999996,
            6.356999874,
            5.25,
            6.453999996
           ],
           "xaxis": "x",
           "y": [
            8520,
            11180,
            11040,
            22810,
            5150,
            14470,
            6890,
            19650,
            22010,
            4490,
            1710,
            1790,
            7830,
            7240,
            10870,
            14130,
            16310,
            13700,
            null,
            19310
           ],
           "yaxis": "y"
          },
          {
           "customdata": [
            [
             "Mexico"
            ],
            [
             "Canada"
            ],
            [
             "United States"
            ]
           ],
           "hovertemplate": "<b>%{hovertext}</b><br><br>continent=North America<br>Year=2015<br>happiness_score=%{x}<br>GNI_per_capita_PPP=%{y}<br>Country=%{customdata[0]}<extra></extra>",
           "hovertext": [
            "Mexico",
            "Canada",
            "United States"
           ],
           "ids": [
            "Mexico",
            "Canada",
            "United States"
           ],
           "legendgroup": "North America",
           "marker": {
            "color": "#B47FE3",
            "symbol": "circle"
           },
           "mode": "markers",
           "name": "North America",
           "orientation": "v",
           "showlegend": true,
           "type": "scatter",
           "x": [
            6.578000069,
            7.315999985,
            6.993000031
           ],
           "xaxis": "x",
           "y": [
            17830,
            43990,
            58340
           ],
           "yaxis": "y"
          },
          {
           "customdata": [
            [
             "New Zealand"
            ],
            [
             "Australia"
            ]
           ],
           "hovertemplate": "<b>%{hovertext}</b><br><br>continent=Australia<br>Year=2015<br>happiness_score=%{x}<br>GNI_per_capita_PPP=%{y}<br>Country=%{customdata[0]}<extra></extra>",
           "hovertext": [
            "New Zealand",
            "Australia"
           ],
           "ids": [
            "New Zealand",
            "Australia"
           ],
           "legendgroup": "Australia",
           "marker": {
            "color": "#B2E4FA",
            "symbol": "circle"
           },
           "mode": "markers",
           "name": "Australia",
           "orientation": "v",
           "showlegend": true,
           "type": "scatter",
           "x": [
            7.31400013,
            7.28399992
           ],
           "xaxis": "x",
           "y": [
            36210,
            45330
           ],
           "yaxis": "y"
          }
         ],
         "name": "2015"
        },
        {
         "data": [
          {
           "customdata": [
            [
             "Vietnam"
            ],
            [
             "Kazakhstan"
            ],
            [
             "Jordan"
            ],
            [
             "Japan"
            ],
            [
             "Israel"
            ],
            [
             "Kuwait"
            ],
            [
             "Singapore"
            ],
            [
             "Kyrgyzstan"
            ],
            [
             "Tajikistan"
            ],
            [
             "Malaysia"
            ],
            [
             "Thailand"
            ],
            [
             "Lebanon"
            ],
            [
             "China"
            ],
            [
             "Afghanistan"
            ],
            [
             "Iraq"
            ],
            [
             "United Arab Emirates"
            ],
            [
             "Uzbekistan"
            ],
            [
             "Cyprus"
            ],
            [
             "China"
            ],
            [
             "Cambodia"
            ],
            [
             "Turkey"
            ],
            [
             "Iran"
            ],
            [
             "Indonesia"
            ],
            [
             "Bangladesh"
            ],
            [
             "India"
            ],
            [
             "Turkmenistan"
            ],
            [
             "Georgia"
            ],
            [
             "Yemen"
            ],
            [
             "Pakistan"
            ],
            [
             "Sri Lanka"
            ],
            [
             "Nepal"
            ],
            [
             "Azerbaijan"
            ],
            [
             "Armenia"
            ],
            [
             "Saudi Arabia"
            ],
            [
             "Myanmar"
            ],
            [
             "Philippines"
            ],
            [
             "Mongolia"
            ],
            [
             "Bahrain"
            ]
           ],
           "hovertemplate": "<b>%{hovertext}</b><br><br>continent=Asia<br>Year=2016<br>happiness_score=%{x}<br>GNI_per_capita_PPP=%{y}<br>Country=%{customdata[0]}<extra></extra>",
           "hovertext": [
            "Vietnam",
            "Kazakhstan",
            "Jordan",
            "Japan",
            "Israel",
            "Kuwait",
            "Singapore",
            "Kyrgyzstan",
            "Tajikistan",
            "Malaysia",
            "Thailand",
            "Lebanon",
            "China",
            "Afghanistan",
            "Iraq",
            "United Arab Emirates",
            "Uzbekistan",
            "Cyprus",
            "China",
            "Cambodia",
            "Turkey",
            "Iran",
            "Indonesia",
            "Bangladesh",
            "India",
            "Turkmenistan",
            "Georgia",
            "Yemen",
            "Pakistan",
            "Sri Lanka",
            "Nepal",
            "Azerbaijan",
            "Armenia",
            "Saudi Arabia",
            "Myanmar",
            "Philippines",
            "Mongolia",
            "Bahrain"
           ],
           "ids": [
            "Vietnam",
            "Kazakhstan",
            "Jordan",
            "Japan",
            "Israel",
            "Kuwait",
            "Singapore",
            "Kyrgyzstan",
            "Tajikistan",
            "Malaysia",
            "Thailand",
            "Lebanon",
            "China",
            "Afghanistan",
            "Iraq",
            "United Arab Emirates",
            "Uzbekistan",
            "Cyprus",
            "China",
            "Cambodia",
            "Turkey",
            "Iran",
            "Indonesia",
            "Bangladesh",
            "India",
            "Turkmenistan",
            "Georgia",
            "Yemen",
            "Pakistan",
            "Sri Lanka",
            "Nepal",
            "Azerbaijan",
            "Armenia",
            "Saudi Arabia",
            "Myanmar",
            "Philippines",
            "Mongolia",
            "Bahrain"
           ],
           "legendgroup": "Asia",
           "marker": {
            "color": "#FAA598",
            "symbol": "circle"
           },
           "mode": "markers",
           "name": "Asia",
           "orientation": "v",
           "showlegend": true,
           "type": "scatter",
           "x": [
            5.36,
            5.855,
            5.192,
            5.987,
            7.278,
            6.295,
            6.798,
            5.286,
            4.786,
            5.77,
            6.455,
            4.839,
            5.14,
            3.575,
            4.677,
            6.901,
            6.003,
            5.689,
            5.14,
            3.819,
            5.332,
            4.686,
            5.399,
            4.694,
            4.565,
            5.548,
            4.297,
            4.077,
            5.194,
            4.271,
            4.514,
            5.212,
            4.35,
            6.411,
            4.307,
            5.073,
            4.874,
            5.96
           ],
           "xaxis": "x",
           "y": [
            6300,
            24280,
            9120,
            41350,
            37500,
            51550,
            83020,
            5020,
            3900,
            24840,
            15800,
            15250,
            58670,
            2140,
            9720,
            63670,
            6530,
            33000,
            13400,
            3450,
            26050,
            13650,
            10160,
            4070,
            5760,
            13500,
            11760,
            null,
            4680,
            11900,
            2620,
            14920,
            13160,
            46110,
            4220,
            8870,
            9860,
            41860
           ],
           "yaxis": "y"
          },
          {
           "customdata": [
            [
             "Kenya"
            ],
            [
             "Togo"
            ],
            [
             "Botswana"
            ],
            [
             "Tunisia"
            ],
            [
             "Mauritania"
            ],
            [
             "Mali"
            ],
            [
             "Malawi"
            ],
            [
             "Madagascar"
            ],
            [
             "Tanzania"
            ],
            [
             "Libya"
            ],
            [
             "Benin"
            ],
            [
             "Liberia"
            ],
            [
             "Cameroon"
            ],
            [
             "Ethiopia"
            ],
            [
             "Egypt"
            ],
            [
             "Chad"
            ],
            [
             "Gabon"
            ],
            [
             "Burkina Faso"
            ],
            [
             "Uganda"
            ],
            [
             "Burundi"
            ],
            [
             "Ghana"
            ],
            [
             "Mauritius"
            ],
            [
             "Nigeria"
            ],
            [
             "Niger"
            ],
            [
             "Zambia"
            ],
            [
             "South Africa"
            ],
            [
             "Sierra Leone"
            ],
            [
             "Senegal"
            ],
            [
             "Zimbabwe"
            ],
            [
             "Rwanda"
            ],
            [
             "Algeria"
            ],
            [
             "Morocco"
            ]
           ],
           "hovertemplate": "<b>%{hovertext}</b><br><br>continent=Africa<br>Year=2016<br>happiness_score=%{x}<br>GNI_per_capita_PPP=%{y}<br>Country=%{customdata[0]}<extra></extra>",
           "hovertext": [
            "Kenya",
            "Togo",
            "Botswana",
            "Tunisia",
            "Mauritania",
            "Mali",
            "Malawi",
            "Madagascar",
            "Tanzania",
            "Libya",
            "Benin",
            "Liberia",
            "Cameroon",
            "Ethiopia",
            "Egypt",
            "Chad",
            "Gabon",
            "Burkina Faso",
            "Uganda",
            "Burundi",
            "Ghana",
            "Mauritius",
            "Nigeria",
            "Niger",
            "Zambia",
            "South Africa",
            "Sierra Leone",
            "Senegal",
            "Zimbabwe",
            "Rwanda",
            "Algeria",
            "Morocco"
           ],
           "ids": [
            "Kenya",
            "Togo",
            "Botswana",
            "Tunisia",
            "Mauritania",
            "Mali",
            "Malawi",
            "Madagascar",
            "Tanzania",
            "Libya",
            "Benin",
            "Liberia",
            "Cameroon",
            "Ethiopia",
            "Egypt",
            "Chad",
            "Gabon",
            "Burkina Faso",
            "Uganda",
            "Burundi",
            "Ghana",
            "Mauritius",
            "Nigeria",
            "Niger",
            "Zambia",
            "South Africa",
            "Sierra Leone",
            "Senegal",
            "Zimbabwe",
            "Rwanda",
            "Algeria",
            "Morocco"
           ],
           "legendgroup": "Africa",
           "marker": {
            "color": "#AEFD8E",
            "symbol": "circle"
           },
           "mode": "markers",
           "name": "Africa",
           "orientation": "v",
           "showlegend": true,
           "type": "scatter",
           "x": [
            4.419,
            2.839,
            4.332,
            4.739,
            4.436,
            3.995,
            4.292,
            3.681,
            3.781,
            5.754,
            3.34,
            4.571,
            4.252,
            4.512,
            4.194,
            3.667,
            3.896,
            3.587,
            3.931,
            2.905,
            4.633,
            5.477,
            5.268,
            3.845,
            5.129,
            4.642,
            4.507,
            3.904,
            4.61,
            3.465,
            5.605,
            5.013
           ],
           "xaxis": "x",
           "y": [
            3620,
            1470,
            16600,
            10070,
            3350,
            2130,
            1020,
            1550,
            2860,
            11430,
            2980,
            1260,
            3350,
            1870,
            10850,
            1630,
            13180,
            1550,
            1690,
            800,
            4800,
            22390,
            5120,
            820,
            3330,
            12240,
            1420,
            3000,
            2570,
            1790,
            11520,
            7730
           ],
           "yaxis": "y"
          },
          {
           "customdata": [
            [
             "Italy"
            ],
            [
             "Bosnia and Herzegovina"
            ],
            [
             "Malta"
            ],
            [
             "Belarus"
            ],
            [
             "Belgium"
            ],
            [
             "Luxembourg"
            ],
            [
             "Lithuania"
            ],
            [
             "Ireland"
            ],
            [
             "Estonia"
            ],
            [
             "United Kingdom"
            ],
            [
             "Finland"
            ],
            [
             "Denmark"
            ],
            [
             "Croatia"
            ],
            [
             "France"
            ],
            [
             "Bulgaria"
            ],
            [
             "Iceland"
            ],
            [
             "Hungary"
            ],
            [
             "Greece"
            ],
            [
             "Germany"
            ],
            [
             "Ukraine"
            ],
            [
             "Latvia"
            ],
            [
             "Spain"
            ],
            [
             "Norway"
            ],
            [
             "Austria"
            ],
            [
             "Netherlands"
            ],
            [
             "Serbia"
            ],
            [
             "Slovakia"
            ],
            [
             "Albania"
            ],
            [
             "Russia"
            ],
            [
             "Slovenia"
            ],
            [
             "Romania"
            ],
            [
             "Portugal"
            ],
            [
             "Poland"
            ],
            [
             "Sweden"
            ],
            [
             "Switzerland"
            ],
            [
             "Moldova"
            ],
            [
             "Montenegro"
            ]
           ],
           "hovertemplate": "<b>%{hovertext}</b><br><br>continent=Europe<br>Year=2016<br>happiness_score=%{x}<br>GNI_per_capita_PPP=%{y}<br>Country=%{customdata[0]}<extra></extra>",
           "hovertext": [
            "Italy",
            "Bosnia and Herzegovina",
            "Malta",
            "Belarus",
            "Belgium",
            "Luxembourg",
            "Lithuania",
            "Ireland",
            "Estonia",
            "United Kingdom",
            "Finland",
            "Denmark",
            "Croatia",
            "France",
            "Bulgaria",
            "Iceland",
            "Hungary",
            "Greece",
            "Germany",
            "Ukraine",
            "Latvia",
            "Spain",
            "Norway",
            "Austria",
            "Netherlands",
            "Serbia",
            "Slovakia",
            "Albania",
            "Russia",
            "Slovenia",
            "Romania",
            "Portugal",
            "Poland",
            "Sweden",
            "Switzerland",
            "Moldova",
            "Montenegro"
           ],
           "ids": [
            "Italy",
            "Bosnia and Herzegovina",
            "Malta",
            "Belarus",
            "Belgium",
            "Luxembourg",
            "Lithuania",
            "Ireland",
            "Estonia",
            "United Kingdom",
            "Finland",
            "Denmark",
            "Croatia",
            "France",
            "Bulgaria",
            "Iceland",
            "Hungary",
            "Greece",
            "Germany",
            "Ukraine",
            "Latvia",
            "Spain",
            "Norway",
            "Austria",
            "Netherlands",
            "Serbia",
            "Slovakia",
            "Albania",
            "Russia",
            "Slovenia",
            "Romania",
            "Portugal",
            "Poland",
            "Sweden",
            "Switzerland",
            "Moldova",
            "Montenegro"
           ],
           "legendgroup": "Europe",
           "marker": {
            "color": "#E3C97F",
            "symbol": "circle"
           },
           "mode": "markers",
           "name": "Europe",
           "orientation": "v",
           "showlegend": true,
           "type": "scatter",
           "x": [
            5.948,
            4.949,
            6.302,
            5.813,
            6.937,
            6.946,
            5.833,
            6.94,
            5.429,
            6.867,
            7.406,
            7.527,
            5.759,
            6.575,
            4.218,
            7.561,
            4.8,
            4.857,
            6.75,
            4.681,
            5.098,
            6.329,
            7.522,
            7.2,
            7.378,
            5.123,
            5.995,
            4.959,
            5.716,
            5.848,
            5.124,
            5.102,
            5.791,
            7.364,
            7.587,
            5.889,
            5.192
           ],
           "xaxis": "x",
           "y": [
            40030,
            13090,
            35720,
            19280,
            49090,
            70450,
            29790,
            59070,
            30510,
            43100,
            45150,
            53110,
            24130,
            43830,
            19760,
            50990,
            26990,
            27820,
            51810,
            8210,
            26340,
            37370,
            61840,
            52630,
            51510,
            14960,
            29160,
            12270,
            23570,
            33010,
            23680,
            30840,
            27170,
            50780,
            66080,
            13060,
            18360
           ],
           "yaxis": "y"
          },
          {
           "customdata": [
            [
             "Jamaica"
            ],
            [
             "Bolivia"
            ],
            [
             "Venezuela"
            ],
            [
             "El Salvador"
            ],
            [
             "Ecuador"
            ],
            [
             "Chile"
            ],
            [
             "Costa Rica"
            ],
            [
             "Colombia"
            ],
            [
             "Dominican Republic"
            ],
            [
             "Honduras"
            ],
            [
             "Haiti"
            ],
            [
             "Guinea"
            ],
            [
             "Guatemala"
            ],
            [
             "Brazil"
            ],
            [
             "Panama"
            ],
            [
             "Nicaragua"
            ],
            [
             "Paraguay"
            ],
            [
             "Peru"
            ],
            [
             "Argentina"
            ],
            [
             "Uruguay"
            ]
           ],
           "hovertemplate": "<b>%{hovertext}</b><br><br>continent=South America<br>Year=2016<br>happiness_score=%{x}<br>GNI_per_capita_PPP=%{y}<br>Country=%{customdata[0]}<extra></extra>",
           "hovertext": [
            "Jamaica",
            "Bolivia",
            "Venezuela",
            "El Salvador",
            "Ecuador",
            "Chile",
            "Costa Rica",
            "Colombia",
            "Dominican Republic",
            "Honduras",
            "Haiti",
            "Guinea",
            "Guatemala",
            "Brazil",
            "Panama",
            "Nicaragua",
            "Paraguay",
            "Peru",
            "Argentina",
            "Uruguay"
           ],
           "ids": [
            "Jamaica",
            "Bolivia",
            "Venezuela",
            "El Salvador",
            "Ecuador",
            "Chile",
            "Costa Rica",
            "Colombia",
            "Dominican Republic",
            "Honduras",
            "Haiti",
            "Guinea",
            "Guatemala",
            "Brazil",
            "Panama",
            "Nicaragua",
            "Paraguay",
            "Peru",
            "Argentina",
            "Uruguay"
           ],
           "legendgroup": "South America",
           "marker": {
            "color": "#E8EAC8",
            "symbol": "circle"
           },
           "mode": "markers",
           "name": "South America",
           "orientation": "v",
           "showlegend": true,
           "type": "scatter",
           "x": [
            5.709,
            5.89,
            6.81,
            6.13,
            5.975,
            6.67,
            7.226,
            6.477,
            4.885,
            4.788,
            4.518,
            3.656,
            6.123,
            6.983,
            6.786,
            5.828,
            5.878,
            5.824,
            6.574,
            6.485
           ],
           "xaxis": "x",
           "y": [
            8800,
            7360,
            null,
            7620,
            10830,
            22080,
            17230,
            13800,
            15420,
            4790,
            1770,
            2050,
            7910,
            13950,
            25080,
            5540,
            11540,
            11510,
            19710,
            19650
           ],
           "yaxis": "y"
          },
          {
           "customdata": [
            [
             "Canada"
            ],
            [
             "United States"
            ],
            [
             "Mexico"
            ]
           ],
           "hovertemplate": "<b>%{hovertext}</b><br><br>continent=North America<br>Year=2016<br>happiness_score=%{x}<br>GNI_per_capita_PPP=%{y}<br>Country=%{customdata[0]}<extra></extra>",
           "hovertext": [
            "Canada",
            "United States",
            "Mexico"
           ],
           "ids": [
            "Canada",
            "United States",
            "Mexico"
           ],
           "legendgroup": "North America",
           "marker": {
            "color": "#B47FE3",
            "symbol": "circle"
           },
           "mode": "markers",
           "name": "North America",
           "orientation": "v",
           "showlegend": true,
           "type": "scatter",
           "x": [
            7.427,
            7.119,
            7.187
           ],
           "xaxis": "x",
           "y": [
            45910,
            58970,
            18810
           ],
           "yaxis": "y"
          },
          {
           "customdata": [
            [
             "Australia"
            ],
            [
             "New Zealand"
            ]
           ],
           "hovertemplate": "<b>%{hovertext}</b><br><br>continent=Australia<br>Year=2016<br>happiness_score=%{x}<br>GNI_per_capita_PPP=%{y}<br>Country=%{customdata[0]}<extra></extra>",
           "hovertext": [
            "Australia",
            "New Zealand"
           ],
           "ids": [
            "Australia",
            "New Zealand"
           ],
           "legendgroup": "Australia",
           "marker": {
            "color": "#B2E4FA",
            "symbol": "circle"
           },
           "mode": "markers",
           "name": "Australia",
           "orientation": "v",
           "showlegend": true,
           "type": "scatter",
           "x": [
            7.284,
            7.286
           ],
           "xaxis": "x",
           "y": [
            46230,
            38630
           ],
           "yaxis": "y"
          }
         ],
         "name": "2016"
        },
        {
         "data": [
          {
           "customdata": [
            [
             "Tajikistan"
            ],
            [
             "Georgia"
            ],
            [
             "Uzbekistan"
            ],
            [
             "Cambodia"
            ],
            [
             "Azerbaijan"
            ],
            [
             "Bahrain"
            ],
            [
             "Philippines"
            ],
            [
             "Malaysia"
            ],
            [
             "United Arab Emirates"
            ],
            [
             "Bangladesh"
            ],
            [
             "China"
            ],
            [
             "China"
            ],
            [
             "Afghanistan"
            ],
            [
             "Cyprus"
            ],
            [
             "Yemen"
            ],
            [
             "Saudi Arabia"
            ],
            [
             "Jordan"
            ],
            [
             "Japan"
            ],
            [
             "Israel"
            ],
            [
             "Kazakhstan"
            ],
            [
             "Sri Lanka"
            ],
            [
             "Lebanon"
            ],
            [
             "Myanmar"
            ],
            [
             "Thailand"
            ],
            [
             "Vietnam"
            ],
            [
             "Kyrgyzstan"
            ],
            [
             "Nepal"
            ],
            [
             "Kuwait"
            ],
            [
             "Turkmenistan"
            ],
            [
             "Armenia"
            ],
            [
             "Mongolia"
            ],
            [
             "India"
            ],
            [
             "Indonesia"
            ],
            [
             "Singapore"
            ],
            [
             "Turkey"
            ],
            [
             "Iran"
            ],
            [
             "Pakistan"
            ],
            [
             "Iraq"
            ]
           ],
           "hovertemplate": "<b>%{hovertext}</b><br><br>continent=Asia<br>Year=2017<br>happiness_score=%{x}<br>GNI_per_capita_PPP=%{y}<br>Country=%{customdata[0]}<extra></extra>",
           "hovertext": [
            "Tajikistan",
            "Georgia",
            "Uzbekistan",
            "Cambodia",
            "Azerbaijan",
            "Bahrain",
            "Philippines",
            "Malaysia",
            "United Arab Emirates",
            "Bangladesh",
            "China",
            "China",
            "Afghanistan",
            "Cyprus",
            "Yemen",
            "Saudi Arabia",
            "Jordan",
            "Japan",
            "Israel",
            "Kazakhstan",
            "Sri Lanka",
            "Lebanon",
            "Myanmar",
            "Thailand",
            "Vietnam",
            "Kyrgyzstan",
            "Nepal",
            "Kuwait",
            "Turkmenistan",
            "Armenia",
            "Mongolia",
            "India",
            "Indonesia",
            "Singapore",
            "Turkey",
            "Iran",
            "Pakistan",
            "Iraq"
           ],
           "ids": [
            "Tajikistan",
            "Georgia",
            "Uzbekistan",
            "Cambodia",
            "Azerbaijan",
            "Bahrain",
            "Philippines",
            "Malaysia",
            "United Arab Emirates",
            "Bangladesh",
            "China",
            "China",
            "Afghanistan",
            "Cyprus",
            "Yemen",
            "Saudi Arabia",
            "Jordan",
            "Japan",
            "Israel",
            "Kazakhstan",
            "Sri Lanka",
            "Lebanon",
            "Myanmar",
            "Thailand",
            "Vietnam",
            "Kyrgyzstan",
            "Nepal",
            "Kuwait",
            "Turkmenistan",
            "Armenia",
            "Mongolia",
            "India",
            "Indonesia",
            "Singapore",
            "Turkey",
            "Iran",
            "Pakistan",
            "Iraq"
           ],
           "legendgroup": "Asia",
           "marker": {
            "color": "#FAA598",
            "symbol": "circle"
           },
           "mode": "markers",
           "name": "Asia",
           "orientation": "v",
           "showlegend": true,
           "type": "scatter",
           "x": [
            5.467,
            4.519,
            6.174,
            4.7,
            5.208,
            6.199,
            5.631,
            5.339,
            6.825,
            4.456,
            5.191,
            5.191,
            3.203,
            6.046,
            3.38,
            6.375,
            4.906,
            5.886,
            7.139,
            5.809,
            4.366,
            5.197,
            4.36,
            6.008,
            5.175,
            5.261,
            4.913,
            6.021,
            5.247,
            4.559,
            5.285,
            4.015,
            5.192,
            6.262,
            5.373,
            4.548,
            5.653,
            4.437
           ],
           "xaxis": "x",
           "y": [
            3560,
            12910,
            6650,
            3680,
            13510,
            44980,
            9320,
            25900,
            66290,
            4340,
            14140,
            62530,
            2210,
            35750,
            null,
            48040,
            9790,
            42290,
            38570,
            22160,
            12340,
            16070,
            4480,
            16610,
            6620,
            4800,
            3140,
            59260,
            13620,
            12540,
            9720,
            6120,
            10580,
            87440,
            27570,
            14560,
            4820,
            10850
           ],
           "yaxis": "y"
          },
          {
           "customdata": [
            [
             "Liberia"
            ],
            [
             "Gabon"
            ],
            [
             "Algeria"
            ],
            [
             "Mali"
            ],
            [
             "South Africa"
            ],
            [
             "Burkina Faso"
            ],
            [
             "Uganda"
            ],
            [
             "Burundi"
            ],
            [
             "Ghana"
            ],
            [
             "Ethiopia"
            ],
            [
             "Mauritania"
            ],
            [
             "Zimbabwe"
            ],
            [
             "Sierra Leone"
            ],
            [
             "Chad"
            ],
            [
             "Cameroon"
            ],
            [
             "Rwanda"
            ],
            [
             "Egypt"
            ],
            [
             "Senegal"
            ],
            [
             "Togo"
            ],
            [
             "Tanzania"
            ],
            [
             "Niger"
            ],
            [
             "Tunisia"
            ],
            [
             "Botswana"
            ],
            [
             "Morocco"
            ],
            [
             "Benin"
            ],
            [
             "Libya"
            ],
            [
             "Kenya"
            ],
            [
             "Nigeria"
            ],
            [
             "Malawi"
            ],
            [
             "Mauritius"
            ],
            [
             "Madagascar"
            ],
            [
             "Zambia"
            ]
           ],
           "hovertemplate": "<b>%{hovertext}</b><br><br>continent=Africa<br>Year=2017<br>happiness_score=%{x}<br>GNI_per_capita_PPP=%{y}<br>Country=%{customdata[0]}<extra></extra>",
           "hovertext": [
            "Liberia",
            "Gabon",
            "Algeria",
            "Mali",
            "South Africa",
            "Burkina Faso",
            "Uganda",
            "Burundi",
            "Ghana",
            "Ethiopia",
            "Mauritania",
            "Zimbabwe",
            "Sierra Leone",
            "Chad",
            "Cameroon",
            "Rwanda",
            "Egypt",
            "Senegal",
            "Togo",
            "Tanzania",
            "Niger",
            "Tunisia",
            "Botswana",
            "Morocco",
            "Benin",
            "Libya",
            "Kenya",
            "Nigeria",
            "Malawi",
            "Mauritius",
            "Madagascar",
            "Zambia"
           ],
           "ids": [
            "Liberia",
            "Gabon",
            "Algeria",
            "Mali",
            "South Africa",
            "Burkina Faso",
            "Uganda",
            "Burundi",
            "Ghana",
            "Ethiopia",
            "Mauritania",
            "Zimbabwe",
            "Sierra Leone",
            "Chad",
            "Cameroon",
            "Rwanda",
            "Egypt",
            "Senegal",
            "Togo",
            "Tanzania",
            "Niger",
            "Tunisia",
            "Botswana",
            "Morocco",
            "Benin",
            "Libya",
            "Kenya",
            "Nigeria",
            "Malawi",
            "Mauritius",
            "Madagascar",
            "Zambia"
           ],
           "legendgroup": "Africa",
           "marker": {
            "color": "#AEFD8E",
            "symbol": "circle"
           },
           "mode": "markers",
           "name": "Africa",
           "orientation": "v",
           "showlegend": true,
           "type": "scatter",
           "x": [
            3.975,
            4.799,
            5.211,
            4.39,
            4.722,
            4.587,
            4.189,
            3.775,
            4.996,
            4.286,
            4.49,
            3.663,
            4.374,
            4.35,
            5.044,
            3.334,
            4.166,
            4.681,
            4.085,
            3.231,
            4.628,
            4.461,
            3.488,
            5.208,
            4.883,
            5.525,
            4.509,
            5.265,
            3.41,
            5.888,
            3.933,
            4.107
           ],
           "xaxis": "x",
           "y": [
            1380,
            14060,
            11370,
            2180,
            12320,
            1730,
            1710,
            770,
            4860,
            2010,
            3610,
            2860,
            1590,
            1570,
            3490,
            1910,
            10800,
            3140,
            1520,
            3020,
            830,
            10280,
            16680,
            8110,
            3010,
            13690,
            4000,
            5030,
            1030,
            23560,
            1540,
            3330
           ],
           "yaxis": "y"
          },
          {
           "customdata": [
            [
             "Ukraine"
            ],
            [
             "Portugal"
            ],
            [
             "France"
            ],
            [
             "Slovenia"
            ],
            [
             "Finland"
            ],
            [
             "Romania"
            ],
            [
             "Moldova"
            ],
            [
             "Germany"
            ],
            [
             "Belarus"
            ],
            [
             "Poland"
            ],
            [
             "Greece"
            ],
            [
             "Croatia"
            ],
            [
             "Serbia"
            ],
            [
             "Switzerland"
            ],
            [
             "Denmark"
            ],
            [
             "Estonia"
            ],
            [
             "Russia"
            ],
            [
             "Malta"
            ],
            [
             "United Kingdom"
            ],
            [
             "Albania"
            ],
            [
             "Slovakia"
            ],
            [
             "Lithuania"
            ],
            [
             "Belgium"
            ],
            [
             "Bosnia and Herzegovina"
            ],
            [
             "Italy"
            ],
            [
             "Latvia"
            ],
            [
             "Netherlands"
            ],
            [
             "Austria"
            ],
            [
             "Sweden"
            ],
            [
             "Montenegro"
            ],
            [
             "Luxembourg"
            ],
            [
             "Hungary"
            ],
            [
             "Bulgaria"
            ],
            [
             "Iceland"
            ],
            [
             "Ireland"
            ],
            [
             "Norway"
            ],
            [
             "Spain"
            ]
           ],
           "hovertemplate": "<b>%{hovertext}</b><br><br>continent=Europe<br>Year=2017<br>happiness_score=%{x}<br>GNI_per_capita_PPP=%{y}<br>Country=%{customdata[0]}<extra></extra>",
           "hovertext": [
            "Ukraine",
            "Portugal",
            "France",
            "Slovenia",
            "Finland",
            "Romania",
            "Moldova",
            "Germany",
            "Belarus",
            "Poland",
            "Greece",
            "Croatia",
            "Serbia",
            "Switzerland",
            "Denmark",
            "Estonia",
            "Russia",
            "Malta",
            "United Kingdom",
            "Albania",
            "Slovakia",
            "Lithuania",
            "Belgium",
            "Bosnia and Herzegovina",
            "Italy",
            "Latvia",
            "Netherlands",
            "Austria",
            "Sweden",
            "Montenegro",
            "Luxembourg",
            "Hungary",
            "Bulgaria",
            "Iceland",
            "Ireland",
            "Norway",
            "Spain"
           ],
           "ids": [
            "Ukraine",
            "Portugal",
            "France",
            "Slovenia",
            "Finland",
            "Romania",
            "Moldova",
            "Germany",
            "Belarus",
            "Poland",
            "Greece",
            "Croatia",
            "Serbia",
            "Switzerland",
            "Denmark",
            "Estonia",
            "Russia",
            "Malta",
            "United Kingdom",
            "Albania",
            "Slovakia",
            "Lithuania",
            "Belgium",
            "Bosnia and Herzegovina",
            "Italy",
            "Latvia",
            "Netherlands",
            "Austria",
            "Sweden",
            "Montenegro",
            "Luxembourg",
            "Hungary",
            "Bulgaria",
            "Iceland",
            "Ireland",
            "Norway",
            "Spain"
           ],
           "legendgroup": "Europe",
           "marker": {
            "color": "#E3C97F",
            "symbol": "circle"
           },
           "mode": "markers",
           "name": "Europe",
           "orientation": "v",
           "showlegend": true,
           "type": "scatter",
           "x": [
            4.332,
            5.693,
            6.592,
            6.118,
            7.769,
            6.07,
            5.529,
            6.985,
            5.323,
            6.182,
            5.287,
            5.432,
            5.603,
            7.48,
            7.6,
            5.893,
            5.648,
            6.726,
            7.054,
            4.719,
            6.198,
            6.149,
            6.923,
            5.386,
            6.223,
            5.94,
            7.488,
            7.246,
            7.343,
            5.523,
            7.09,
            5.758,
            5.011,
            7.494,
            7.021,
            7.554,
            6.354
           ],
           "xaxis": "x",
           "y": [
            8460,
            32310,
            45850,
            35990,
            47480,
            26620,
            12320,
            54370,
            17580,
            28900,
            29150,
            26310,
            15510,
            67890,
            56360,
            32930,
            25380,
            38370,
            45430,
            13130,
            30410,
            32560,
            51320,
            13790,
            42010,
            28360,
            55770,
            54150,
            53490,
            20110,
            72750,
            28340,
            21460,
            54380,
            61590,
            65730,
            39570
           ],
           "yaxis": "y"
          },
          {
           "customdata": [
            [
             "Peru"
            ],
            [
             "Guatemala"
            ],
            [
             "Argentina"
            ],
            [
             "Haiti"
            ],
            [
             "Costa Rica"
            ],
            [
             "Chile"
            ],
            [
             "Colombia"
            ],
            [
             "Uruguay"
            ],
            [
             "El Salvador"
            ],
            [
             "Ecuador"
            ],
            [
             "Dominican Republic"
            ],
            [
             "Venezuela"
            ],
            [
             "Guinea"
            ],
            [
             "Honduras"
            ],
            [
             "Nicaragua"
            ],
            [
             "Jamaica"
            ],
            [
             "Paraguay"
            ],
            [
             "Bolivia"
            ],
            [
             "Panama"
            ],
            [
             "Brazil"
            ]
           ],
           "hovertemplate": "<b>%{hovertext}</b><br><br>continent=South America<br>Year=2017<br>happiness_score=%{x}<br>GNI_per_capita_PPP=%{y}<br>Country=%{customdata[0]}<extra></extra>",
           "hovertext": [
            "Peru",
            "Guatemala",
            "Argentina",
            "Haiti",
            "Costa Rica",
            "Chile",
            "Colombia",
            "Uruguay",
            "El Salvador",
            "Ecuador",
            "Dominican Republic",
            "Venezuela",
            "Guinea",
            "Honduras",
            "Nicaragua",
            "Jamaica",
            "Paraguay",
            "Bolivia",
            "Panama",
            "Brazil"
           ],
           "ids": [
            "Peru",
            "Guatemala",
            "Argentina",
            "Haiti",
            "Costa Rica",
            "Chile",
            "Colombia",
            "Uruguay",
            "El Salvador",
            "Ecuador",
            "Dominican Republic",
            "Venezuela",
            "Guinea",
            "Honduras",
            "Nicaragua",
            "Jamaica",
            "Paraguay",
            "Bolivia",
            "Panama",
            "Brazil"
           ],
           "legendgroup": "South America",
           "marker": {
            "color": "#E8EAC8",
            "symbol": "circle"
           },
           "mode": "markers",
           "name": "South America",
           "orientation": "v",
           "showlegend": true,
           "type": "scatter",
           "x": [
            5.697,
            6.436,
            6.086,
            3.597,
            7.167,
            6.444,
            6.125,
            6.293,
            6.253,
            6.028,
            5.425,
            4.707,
            4.534,
            5.86,
            6.105,
            5.89,
            5.743,
            5.779,
            6.321,
            6.3
           ],
           "xaxis": "x",
           "y": [
            11930,
            8200,
            22960,
            1770,
            18040,
            22750,
            14050,
            20060,
            7970,
            11350,
            15940,
            null,
            2410,
            5220,
            5850,
            9320,
            12210,
            8190,
            27640,
            14250
           ],
           "yaxis": "y"
          },
          {
           "customdata": [
            [
             "United States"
            ],
            [
             "Canada"
            ],
            [
             "Mexico"
            ]
           ],
           "hovertemplate": "<b>%{hovertext}</b><br><br>continent=North America<br>Year=2017<br>happiness_score=%{x}<br>GNI_per_capita_PPP=%{y}<br>Country=%{customdata[0]}<extra></extra>",
           "hovertext": [
            "United States",
            "Canada",
            "Mexico"
           ],
           "ids": [
            "United States",
            "Canada",
            "Mexico"
           ],
           "legendgroup": "North America",
           "marker": {
            "color": "#B47FE3",
            "symbol": "circle"
           },
           "mode": "markers",
           "name": "North America",
           "orientation": "v",
           "showlegend": true,
           "type": "scatter",
           "x": [
            6.892,
            7.278,
            6.595
           ],
           "xaxis": "x",
           "y": [
            61020,
            48070,
            19300
           ],
           "yaxis": "y"
          },
          {
           "customdata": [
            [
             "Australia"
            ],
            [
             "New Zealand"
            ]
           ],
           "hovertemplate": "<b>%{hovertext}</b><br><br>continent=Australia<br>Year=2017<br>happiness_score=%{x}<br>GNI_per_capita_PPP=%{y}<br>Country=%{customdata[0]}<extra></extra>",
           "hovertext": [
            "Australia",
            "New Zealand"
           ],
           "ids": [
            "Australia",
            "New Zealand"
           ],
           "legendgroup": "Australia",
           "marker": {
            "color": "#B2E4FA",
            "symbol": "circle"
           },
           "mode": "markers",
           "name": "Australia",
           "orientation": "v",
           "showlegend": true,
           "type": "scatter",
           "x": [
            7.228,
            7.307
           ],
           "xaxis": "x",
           "y": [
            47580,
            39330
           ],
           "yaxis": "y"
          }
         ],
         "name": "2017"
        },
        {
         "data": [
          {
           "customdata": [
            [
             "Vietnam"
            ],
            [
             "Cambodia"
            ],
            [
             "Afghanistan"
            ],
            [
             "Azerbaijan"
            ],
            [
             "Bahrain"
            ],
            [
             "Uzbekistan"
            ],
            [
             "Bangladesh"
            ],
            [
             "Yemen"
            ],
            [
             "Armenia"
            ],
            [
             "Indonesia"
            ],
            [
             "China"
            ],
            [
             "Sri Lanka"
            ],
            [
             "Nepal"
            ],
            [
             "Myanmar"
            ],
            [
             "Mongolia"
            ],
            [
             "Malaysia"
            ],
            [
             "Tajikistan"
            ],
            [
             "Singapore"
            ],
            [
             "Saudi Arabia"
            ],
            [
             "Philippines"
            ],
            [
             "Pakistan"
            ],
            [
             "Lebanon"
            ],
            [
             "Georgia"
            ],
            [
             "United Arab Emirates"
            ],
            [
             "Cyprus"
            ],
            [
             "Kyrgyzstan"
            ],
            [
             "Thailand"
            ],
            [
             "Kuwait"
            ],
            [
             "Kazakhstan"
            ],
            [
             "Jordan"
            ],
            [
             "Japan"
            ],
            [
             "China"
            ],
            [
             "Israel"
            ],
            [
             "Iraq"
            ],
            [
             "Iran"
            ],
            [
             "Turkey"
            ],
            [
             "India"
            ],
            [
             "Turkmenistan"
            ]
           ],
           "hovertemplate": "<b>%{hovertext}</b><br><br>continent=Asia<br>Year=2018<br>happiness_score=%{x}<br>GNI_per_capita_PPP=%{y}<br>Country=%{customdata[0]}<extra></extra>",
           "hovertext": [
            "Vietnam",
            "Cambodia",
            "Afghanistan",
            "Azerbaijan",
            "Bahrain",
            "Uzbekistan",
            "Bangladesh",
            "Yemen",
            "Armenia",
            "Indonesia",
            "China",
            "Sri Lanka",
            "Nepal",
            "Myanmar",
            "Mongolia",
            "Malaysia",
            "Tajikistan",
            "Singapore",
            "Saudi Arabia",
            "Philippines",
            "Pakistan",
            "Lebanon",
            "Georgia",
            "United Arab Emirates",
            "Cyprus",
            "Kyrgyzstan",
            "Thailand",
            "Kuwait",
            "Kazakhstan",
            "Jordan",
            "Japan",
            "China",
            "Israel",
            "Iraq",
            "Iran",
            "Turkey",
            "India",
            "Turkmenistan"
           ],
           "ids": [
            "Vietnam",
            "Cambodia",
            "Afghanistan",
            "Azerbaijan",
            "Bahrain",
            "Uzbekistan",
            "Bangladesh",
            "Yemen",
            "Armenia",
            "Indonesia",
            "China",
            "Sri Lanka",
            "Nepal",
            "Myanmar",
            "Mongolia",
            "Malaysia",
            "Tajikistan",
            "Singapore",
            "Saudi Arabia",
            "Philippines",
            "Pakistan",
            "Lebanon",
            "Georgia",
            "United Arab Emirates",
            "Cyprus",
            "Kyrgyzstan",
            "Thailand",
            "Kuwait",
            "Kazakhstan",
            "Jordan",
            "Japan",
            "China",
            "Israel",
            "Iraq",
            "Iran",
            "Turkey",
            "India",
            "Turkmenistan"
           ],
           "legendgroup": "Asia",
           "marker": {
            "color": "#FAA598",
            "symbol": "circle"
           },
           "mode": "markers",
           "name": "Asia",
           "orientation": "v",
           "showlegend": true,
           "type": "scatter",
           "x": [
            5.103,
            4.433,
            3.632,
            5.201,
            6.105,
            6.096,
            4.5,
            3.355,
            4.321,
            5.093,
            5.246,
            4.471,
            4.88,
            4.308,
            5.125,
            6.322,
            5.199,
            6.343,
            6.371,
            5.524,
            5.472,
            5.358,
            4.34,
            6.774,
            5.762,
            5.131,
            6.072,
            6.083,
            5.79,
            5.161,
            5.915,
            5.246,
            6.814,
            4.456,
            4.707,
            5.483,
            4.19,
            5.636
           ],
           "xaxis": "x",
           "y": [
            6220.27,
            3597.4,
            1745.67,
            15240.14,
            40399.12,
            6461.84,
            4057.25,
            1433.3,
            9277.23,
            11255.78,
            60220.8,
            11610.91,
            2748.2,
            5763.94,
            10783.71,
            27226.68,
            3482.38,
            83792.67,
            49338.41,
            9539.7,
            5190.08,
            11136.25,
            9569.52,
            66911.66,
            33100.32,
            3316.79,
            16128.55,
            71164.22,
            22167.7,
            8267.81,
            40799.01,
            16126.57,
            33649.69,
            15364.96,
            18166.47,
            24905.38,
            6828.6,
            16407.47
           ],
           "yaxis": "y"
          },
          {
           "customdata": [
            [
             "Burkina Faso"
            ],
            [
             "Algeria"
            ],
            [
             "Zambia"
            ],
            [
             "Benin"
            ],
            [
             "Chad"
            ],
            [
             "Cameroon"
            ],
            [
             "Botswana"
            ],
            [
             "Burundi"
            ],
            [
             "Morocco"
            ],
            [
             "Mauritius"
            ],
            [
             "Mauritania"
            ],
            [
             "Mali"
            ],
            [
             "Malawi"
            ],
            [
             "Madagascar"
            ],
            [
             "Tanzania"
            ],
            [
             "Libya"
            ],
            [
             "Niger"
            ],
            [
             "Sierra Leone"
            ],
            [
             "Senegal"
            ],
            [
             "Rwanda"
            ],
            [
             "South Africa"
            ],
            [
             "Nigeria"
            ],
            [
             "Liberia"
            ],
            [
             "Ghana"
            ],
            [
             "Gabon"
            ],
            [
             "Ethiopia"
            ],
            [
             "Egypt"
            ],
            [
             "Uganda"
            ],
            [
             "Kenya"
            ],
            [
             "Togo"
            ],
            [
             "Tunisia"
            ],
            [
             "Zimbabwe"
            ]
           ],
           "hovertemplate": "<b>%{hovertext}</b><br><br>continent=Africa<br>Year=2018<br>happiness_score=%{x}<br>GNI_per_capita_PPP=%{y}<br>Country=%{customdata[0]}<extra></extra>",
           "hovertext": [
            "Burkina Faso",
            "Algeria",
            "Zambia",
            "Benin",
            "Chad",
            "Cameroon",
            "Botswana",
            "Burundi",
            "Morocco",
            "Mauritius",
            "Mauritania",
            "Mali",
            "Malawi",
            "Madagascar",
            "Tanzania",
            "Libya",
            "Niger",
            "Sierra Leone",
            "Senegal",
            "Rwanda",
            "South Africa",
            "Nigeria",
            "Liberia",
            "Ghana",
            "Gabon",
            "Ethiopia",
            "Egypt",
            "Uganda",
            "Kenya",
            "Togo",
            "Tunisia",
            "Zimbabwe"
           ],
           "ids": [
            "Burkina Faso",
            "Algeria",
            "Zambia",
            "Benin",
            "Chad",
            "Cameroon",
            "Botswana",
            "Burundi",
            "Morocco",
            "Mauritius",
            "Mauritania",
            "Mali",
            "Malawi",
            "Madagascar",
            "Tanzania",
            "Libya",
            "Niger",
            "Sierra Leone",
            "Senegal",
            "Rwanda",
            "South Africa",
            "Nigeria",
            "Liberia",
            "Ghana",
            "Gabon",
            "Ethiopia",
            "Egypt",
            "Uganda",
            "Kenya",
            "Togo",
            "Tunisia",
            "Zimbabwe"
           ],
           "legendgroup": "Africa",
           "marker": {
            "color": "#AEFD8E",
            "symbol": "circle"
           },
           "mode": "markers",
           "name": "Africa",
           "orientation": "v",
           "showlegend": true,
           "type": "scatter",
           "x": [
            4.424,
            5.295,
            4.377,
            4.141,
            4.301,
            4.975,
            3.59,
            2.905,
            5.254,
            5.891,
            4.356,
            4.447,
            3.587,
            3.774,
            3.303,
            5.566,
            4.166,
            4.571,
            4.631,
            3.408,
            4.724,
            5.155,
            3.495,
            4.657,
            4.758,
            4.35,
            4.419,
            4.161,
            4.41,
            3.999,
            4.592,
            3.692
           ],
           "xaxis": "x",
           "y": [
            1705.49,
            13639.43,
            3581.89,
            2134.59,
            1715.57,
            3291.13,
            15951.33,
            659.73,
            7479.59,
            22724.23,
            3746.08,
            1965.39,
            1159.12,
            1403.92,
            2805.12,
            11684.73,
            912.04,
            1381.3,
            3255.99,
            1958.61,
            11756.3,
            5085.54,
            1040.09,
            4098.86,
            15794.08,
            1781.76,
            10743.81,
            1752.21,
            3051.69,
            1592.54,
            10676.96,
            2661.07
           ],
           "yaxis": "y"
          },
          {
           "customdata": [
            [
             "Albania"
            ],
            [
             "Belarus"
            ],
            [
             "Bulgaria"
            ],
            [
             "Austria"
            ],
            [
             "Bosnia and Herzegovina"
            ],
            [
             "Belgium"
            ],
            [
             "Montenegro"
            ],
            [
             "Sweden"
            ],
            [
             "Moldova"
            ],
            [
             "Switzerland"
            ],
            [
             "Malta"
            ],
            [
             "Luxembourg"
            ],
            [
             "Lithuania"
            ],
            [
             "Netherlands"
            ],
            [
             "Serbia"
            ],
            [
             "Slovakia"
            ],
            [
             "Russia"
            ],
            [
             "Romania"
            ],
            [
             "Portugal"
            ],
            [
             "Slovenia"
            ],
            [
             "Poland"
            ],
            [
             "Norway"
            ],
            [
             "Spain"
            ],
            [
             "Latvia"
            ],
            [
             "Germany"
            ],
            [
             "Ukraine"
            ],
            [
             "France"
            ],
            [
             "Finland"
            ],
            [
             "Estonia"
            ],
            [
             "United Kingdom"
            ],
            [
             "Denmark"
            ],
            [
             "Croatia"
            ],
            [
             "Greece"
            ],
            [
             "Italy"
            ],
            [
             "Ireland"
            ],
            [
             "Iceland"
            ],
            [
             "Hungary"
            ]
           ],
           "hovertemplate": "<b>%{hovertext}</b><br><br>continent=Europe<br>Year=2018<br>happiness_score=%{x}<br>GNI_per_capita_PPP=%{y}<br>Country=%{customdata[0]}<extra></extra>",
           "hovertext": [
            "Albania",
            "Belarus",
            "Bulgaria",
            "Austria",
            "Bosnia and Herzegovina",
            "Belgium",
            "Montenegro",
            "Sweden",
            "Moldova",
            "Switzerland",
            "Malta",
            "Luxembourg",
            "Lithuania",
            "Netherlands",
            "Serbia",
            "Slovakia",
            "Russia",
            "Romania",
            "Portugal",
            "Slovenia",
            "Poland",
            "Norway",
            "Spain",
            "Latvia",
            "Germany",
            "Ukraine",
            "France",
            "Finland",
            "Estonia",
            "United Kingdom",
            "Denmark",
            "Croatia",
            "Greece",
            "Italy",
            "Ireland",
            "Iceland",
            "Hungary"
           ],
           "ids": [
            "Albania",
            "Belarus",
            "Bulgaria",
            "Austria",
            "Bosnia and Herzegovina",
            "Belgium",
            "Montenegro",
            "Sweden",
            "Moldova",
            "Switzerland",
            "Malta",
            "Luxembourg",
            "Lithuania",
            "Netherlands",
            "Serbia",
            "Slovakia",
            "Russia",
            "Romania",
            "Portugal",
            "Slovenia",
            "Poland",
            "Norway",
            "Spain",
            "Latvia",
            "Germany",
            "Ukraine",
            "France",
            "Finland",
            "Estonia",
            "United Kingdom",
            "Denmark",
            "Croatia",
            "Greece",
            "Italy",
            "Ireland",
            "Iceland",
            "Hungary"
           ],
           "legendgroup": "Europe",
           "marker": {
            "color": "#E3C97F",
            "symbol": "circle"
           },
           "mode": "markers",
           "name": "Europe",
           "orientation": "v",
           "showlegend": true,
           "type": "scatter",
           "x": [
            4.586,
            5.483,
            4.933,
            7.139,
            5.129,
            6.927,
            5.347,
            7.314,
            5.64,
            7.487,
            6.627,
            6.91,
            5.952,
            7.441,
            5.398,
            6.173,
            5.81,
            5.945,
            5.41,
            5.948,
            6.123,
            7.594,
            6.31,
            5.933,
            6.965,
            4.103,
            6.489,
            7.632,
            5.739,
            7.19,
            7.555,
            5.321,
            5.358,
            6,
            6.977,
            7.495,
            5.62
           ],
           "xaxis": "x",
           "y": [
            12299.8,
            17038.53,
            19645.94,
            46230.57,
            12689.68,
            43820.84,
            17510.71,
            47955.45,
            6833.11,
            59374.73,
            34795.18,
            65543.05,
            29775.26,
            50012.59,
            15217.7,
            30671.87,
            25036.02,
            23905.77,
            27935.38,
            32143.04,
            27625.8,
            68058.62,
            35041.3,
            26300.77,
            46945.95,
            7994.21,
            40510.78,
            41779.26,
            30378.63,
            39507.29,
            48836.09,
            23060.96,
            24909.34,
            36141.43,
            55659.68,
            47566.45,
            27144.21
           ],
           "yaxis": "y"
          },
          {
           "customdata": [
            [
             "Argentina"
            ],
            [
             "Chile"
            ],
            [
             "Uruguay"
            ],
            [
             "Venezuela"
            ],
            [
             "Bolivia"
            ],
            [
             "Brazil"
            ],
            [
             "Peru"
            ],
            [
             "Paraguay"
            ],
            [
             "Panama"
            ],
            [
             "Nicaragua"
            ],
            [
             "El Salvador"
            ],
            [
             "Ecuador"
            ],
            [
             "Dominican Republic"
            ],
            [
             "Costa Rica"
            ],
            [
             "Colombia"
            ],
            [
             "Guatemala"
            ],
            [
             "Guinea"
            ],
            [
             "Jamaica"
            ],
            [
             "Honduras"
            ],
            [
             "Haiti"
            ]
           ],
           "hovertemplate": "<b>%{hovertext}</b><br><br>continent=South America<br>Year=2018<br>happiness_score=%{x}<br>GNI_per_capita_PPP=%{y}<br>Country=%{customdata[0]}<extra></extra>",
           "hovertext": [
            "Argentina",
            "Chile",
            "Uruguay",
            "Venezuela",
            "Bolivia",
            "Brazil",
            "Peru",
            "Paraguay",
            "Panama",
            "Nicaragua",
            "El Salvador",
            "Ecuador",
            "Dominican Republic",
            "Costa Rica",
            "Colombia",
            "Guatemala",
            "Guinea",
            "Jamaica",
            "Honduras",
            "Haiti"
           ],
           "ids": [
            "Argentina",
            "Chile",
            "Uruguay",
            "Venezuela",
            "Bolivia",
            "Brazil",
            "Peru",
            "Paraguay",
            "Panama",
            "Nicaragua",
            "El Salvador",
            "Ecuador",
            "Dominican Republic",
            "Costa Rica",
            "Colombia",
            "Guatemala",
            "Guinea",
            "Jamaica",
            "Honduras",
            "Haiti"
           ],
           "legendgroup": "South America",
           "marker": {
            "color": "#E8EAC8",
            "symbol": "circle"
           },
           "mode": "markers",
           "name": "South America",
           "orientation": "v",
           "showlegend": true,
           "type": "scatter",
           "x": [
            6.388,
            6.476,
            6.379,
            4.806,
            5.752,
            6.419,
            5.663,
            5.681,
            6.43,
            6.141,
            6.167,
            5.973,
            5.302,
            7.072,
            6.26,
            6.382,
            3.964,
            5.89,
            5.504,
            3.582
           ],
           "xaxis": "x",
           "y": [
            17611.22,
            21972.28,
            19434.85,
            9069.7,
            6849.2,
            14068.05,
            12322.66,
            11719.96,
            20454.87,
            4789.84,
            6973.46,
            10141.15,
            15074.26,
            14789.93,
            12895.59,
            7377.92,
            2211,
            7931.52,
            4258.35,
            1664.89
           ],
           "yaxis": "y"
          },
          {
           "customdata": [
            [
             "Canada"
            ],
            [
             "Mexico"
            ],
            [
             "United States"
            ]
           ],
           "hovertemplate": "<b>%{hovertext}</b><br><br>continent=North America<br>Year=2018<br>happiness_score=%{x}<br>GNI_per_capita_PPP=%{y}<br>Country=%{customdata[0]}<extra></extra>",
           "hovertext": [
            "Canada",
            "Mexico",
            "United States"
           ],
           "ids": [
            "Canada",
            "Mexico",
            "United States"
           ],
           "legendgroup": "North America",
           "marker": {
            "color": "#B47FE3",
            "symbol": "circle"
           },
           "mode": "markers",
           "name": "North America",
           "orientation": "v",
           "showlegend": true,
           "type": "scatter",
           "x": [
            7.328,
            6.488,
            6.886
           ],
           "xaxis": "x",
           "y": [
            43602.25,
            17628.12,
            56140.23
           ],
           "yaxis": "y"
          },
          {
           "customdata": [
            [
             "Australia"
            ],
            [
             "New Zealand"
            ]
           ],
           "hovertemplate": "<b>%{hovertext}</b><br><br>continent=Australia<br>Year=2018<br>happiness_score=%{x}<br>GNI_per_capita_PPP=%{y}<br>Country=%{customdata[0]}<extra></extra>",
           "hovertext": [
            "Australia",
            "New Zealand"
           ],
           "ids": [
            "Australia",
            "New Zealand"
           ],
           "legendgroup": "Australia",
           "marker": {
            "color": "#B2E4FA",
            "symbol": "circle"
           },
           "mode": "markers",
           "name": "Australia",
           "orientation": "v",
           "showlegend": true,
           "type": "scatter",
           "x": [
            7.272,
            7.324
           ],
           "xaxis": "x",
           "y": [
            44097.02,
            35107.5
           ],
           "yaxis": "y"
          }
         ],
         "name": "2018"
        }
       ],
       "layout": {
        "height": 500,
        "legend": {
         "title": {
          "text": "continent"
         },
         "tracegroupgap": 0
        },
        "margin": {
         "t": 60
        },
        "plot_bgcolor": "rgb(240, 240, 240, 240)",
        "sliders": [
         {
          "active": 0,
          "currentvalue": {
           "prefix": "Year="
          },
          "len": 0.9,
          "pad": {
           "b": 10,
           "t": 60
          },
          "steps": [
           {
            "args": [
             [
              "2015"
             ],
             {
              "frame": {
               "duration": 0,
               "redraw": false
              },
              "fromcurrent": true,
              "mode": "immediate",
              "transition": {
               "duration": 0,
               "easing": "linear"
              }
             }
            ],
            "label": "2015",
            "method": "animate"
           },
           {
            "args": [
             [
              "2016"
             ],
             {
              "frame": {
               "duration": 0,
               "redraw": false
              },
              "fromcurrent": true,
              "mode": "immediate",
              "transition": {
               "duration": 0,
               "easing": "linear"
              }
             }
            ],
            "label": "2016",
            "method": "animate"
           },
           {
            "args": [
             [
              "2017"
             ],
             {
              "frame": {
               "duration": 0,
               "redraw": false
              },
              "fromcurrent": true,
              "mode": "immediate",
              "transition": {
               "duration": 0,
               "easing": "linear"
              }
             }
            ],
            "label": "2017",
            "method": "animate"
           },
           {
            "args": [
             [
              "2018"
             ],
             {
              "frame": {
               "duration": 0,
               "redraw": false
              },
              "fromcurrent": true,
              "mode": "immediate",
              "transition": {
               "duration": 0,
               "easing": "linear"
              }
             }
            ],
            "label": "2018",
            "method": "animate"
           }
          ],
          "x": 0.1,
          "xanchor": "left",
          "y": 0,
          "yanchor": "top"
         }
        ],
        "template": {
         "data": {
          "bar": [
           {
            "error_x": {
             "color": "#2a3f5f"
            },
            "error_y": {
             "color": "#2a3f5f"
            },
            "marker": {
             "line": {
              "color": "#E5ECF6",
              "width": 0.5
             },
             "pattern": {
              "fillmode": "overlay",
              "size": 10,
              "solidity": 0.2
             }
            },
            "type": "bar"
           }
          ],
          "barpolar": [
           {
            "marker": {
             "line": {
              "color": "#E5ECF6",
              "width": 0.5
             },
             "pattern": {
              "fillmode": "overlay",
              "size": 10,
              "solidity": 0.2
             }
            },
            "type": "barpolar"
           }
          ],
          "carpet": [
           {
            "aaxis": {
             "endlinecolor": "#2a3f5f",
             "gridcolor": "white",
             "linecolor": "white",
             "minorgridcolor": "white",
             "startlinecolor": "#2a3f5f"
            },
            "baxis": {
             "endlinecolor": "#2a3f5f",
             "gridcolor": "white",
             "linecolor": "white",
             "minorgridcolor": "white",
             "startlinecolor": "#2a3f5f"
            },
            "type": "carpet"
           }
          ],
          "choropleth": [
           {
            "colorbar": {
             "outlinewidth": 0,
             "ticks": ""
            },
            "type": "choropleth"
           }
          ],
          "contour": [
           {
            "colorbar": {
             "outlinewidth": 0,
             "ticks": ""
            },
            "colorscale": [
             [
              0,
              "#0d0887"
             ],
             [
              0.1111111111111111,
              "#46039f"
             ],
             [
              0.2222222222222222,
              "#7201a8"
             ],
             [
              0.3333333333333333,
              "#9c179e"
             ],
             [
              0.4444444444444444,
              "#bd3786"
             ],
             [
              0.5555555555555556,
              "#d8576b"
             ],
             [
              0.6666666666666666,
              "#ed7953"
             ],
             [
              0.7777777777777778,
              "#fb9f3a"
             ],
             [
              0.8888888888888888,
              "#fdca26"
             ],
             [
              1,
              "#f0f921"
             ]
            ],
            "type": "contour"
           }
          ],
          "contourcarpet": [
           {
            "colorbar": {
             "outlinewidth": 0,
             "ticks": ""
            },
            "type": "contourcarpet"
           }
          ],
          "heatmap": [
           {
            "colorbar": {
             "outlinewidth": 0,
             "ticks": ""
            },
            "colorscale": [
             [
              0,
              "#0d0887"
             ],
             [
              0.1111111111111111,
              "#46039f"
             ],
             [
              0.2222222222222222,
              "#7201a8"
             ],
             [
              0.3333333333333333,
              "#9c179e"
             ],
             [
              0.4444444444444444,
              "#bd3786"
             ],
             [
              0.5555555555555556,
              "#d8576b"
             ],
             [
              0.6666666666666666,
              "#ed7953"
             ],
             [
              0.7777777777777778,
              "#fb9f3a"
             ],
             [
              0.8888888888888888,
              "#fdca26"
             ],
             [
              1,
              "#f0f921"
             ]
            ],
            "type": "heatmap"
           }
          ],
          "heatmapgl": [
           {
            "colorbar": {
             "outlinewidth": 0,
             "ticks": ""
            },
            "colorscale": [
             [
              0,
              "#0d0887"
             ],
             [
              0.1111111111111111,
              "#46039f"
             ],
             [
              0.2222222222222222,
              "#7201a8"
             ],
             [
              0.3333333333333333,
              "#9c179e"
             ],
             [
              0.4444444444444444,
              "#bd3786"
             ],
             [
              0.5555555555555556,
              "#d8576b"
             ],
             [
              0.6666666666666666,
              "#ed7953"
             ],
             [
              0.7777777777777778,
              "#fb9f3a"
             ],
             [
              0.8888888888888888,
              "#fdca26"
             ],
             [
              1,
              "#f0f921"
             ]
            ],
            "type": "heatmapgl"
           }
          ],
          "histogram": [
           {
            "marker": {
             "pattern": {
              "fillmode": "overlay",
              "size": 10,
              "solidity": 0.2
             }
            },
            "type": "histogram"
           }
          ],
          "histogram2d": [
           {
            "colorbar": {
             "outlinewidth": 0,
             "ticks": ""
            },
            "colorscale": [
             [
              0,
              "#0d0887"
             ],
             [
              0.1111111111111111,
              "#46039f"
             ],
             [
              0.2222222222222222,
              "#7201a8"
             ],
             [
              0.3333333333333333,
              "#9c179e"
             ],
             [
              0.4444444444444444,
              "#bd3786"
             ],
             [
              0.5555555555555556,
              "#d8576b"
             ],
             [
              0.6666666666666666,
              "#ed7953"
             ],
             [
              0.7777777777777778,
              "#fb9f3a"
             ],
             [
              0.8888888888888888,
              "#fdca26"
             ],
             [
              1,
              "#f0f921"
             ]
            ],
            "type": "histogram2d"
           }
          ],
          "histogram2dcontour": [
           {
            "colorbar": {
             "outlinewidth": 0,
             "ticks": ""
            },
            "colorscale": [
             [
              0,
              "#0d0887"
             ],
             [
              0.1111111111111111,
              "#46039f"
             ],
             [
              0.2222222222222222,
              "#7201a8"
             ],
             [
              0.3333333333333333,
              "#9c179e"
             ],
             [
              0.4444444444444444,
              "#bd3786"
             ],
             [
              0.5555555555555556,
              "#d8576b"
             ],
             [
              0.6666666666666666,
              "#ed7953"
             ],
             [
              0.7777777777777778,
              "#fb9f3a"
             ],
             [
              0.8888888888888888,
              "#fdca26"
             ],
             [
              1,
              "#f0f921"
             ]
            ],
            "type": "histogram2dcontour"
           }
          ],
          "mesh3d": [
           {
            "colorbar": {
             "outlinewidth": 0,
             "ticks": ""
            },
            "type": "mesh3d"
           }
          ],
          "parcoords": [
           {
            "line": {
             "colorbar": {
              "outlinewidth": 0,
              "ticks": ""
             }
            },
            "type": "parcoords"
           }
          ],
          "pie": [
           {
            "automargin": true,
            "type": "pie"
           }
          ],
          "scatter": [
           {
            "fillpattern": {
             "fillmode": "overlay",
             "size": 10,
             "solidity": 0.2
            },
            "type": "scatter"
           }
          ],
          "scatter3d": [
           {
            "line": {
             "colorbar": {
              "outlinewidth": 0,
              "ticks": ""
             }
            },
            "marker": {
             "colorbar": {
              "outlinewidth": 0,
              "ticks": ""
             }
            },
            "type": "scatter3d"
           }
          ],
          "scattercarpet": [
           {
            "marker": {
             "colorbar": {
              "outlinewidth": 0,
              "ticks": ""
             }
            },
            "type": "scattercarpet"
           }
          ],
          "scattergeo": [
           {
            "marker": {
             "colorbar": {
              "outlinewidth": 0,
              "ticks": ""
             }
            },
            "type": "scattergeo"
           }
          ],
          "scattergl": [
           {
            "marker": {
             "colorbar": {
              "outlinewidth": 0,
              "ticks": ""
             }
            },
            "type": "scattergl"
           }
          ],
          "scattermapbox": [
           {
            "marker": {
             "colorbar": {
              "outlinewidth": 0,
              "ticks": ""
             }
            },
            "type": "scattermapbox"
           }
          ],
          "scatterpolar": [
           {
            "marker": {
             "colorbar": {
              "outlinewidth": 0,
              "ticks": ""
             }
            },
            "type": "scatterpolar"
           }
          ],
          "scatterpolargl": [
           {
            "marker": {
             "colorbar": {
              "outlinewidth": 0,
              "ticks": ""
             }
            },
            "type": "scatterpolargl"
           }
          ],
          "scatterternary": [
           {
            "marker": {
             "colorbar": {
              "outlinewidth": 0,
              "ticks": ""
             }
            },
            "type": "scatterternary"
           }
          ],
          "surface": [
           {
            "colorbar": {
             "outlinewidth": 0,
             "ticks": ""
            },
            "colorscale": [
             [
              0,
              "#0d0887"
             ],
             [
              0.1111111111111111,
              "#46039f"
             ],
             [
              0.2222222222222222,
              "#7201a8"
             ],
             [
              0.3333333333333333,
              "#9c179e"
             ],
             [
              0.4444444444444444,
              "#bd3786"
             ],
             [
              0.5555555555555556,
              "#d8576b"
             ],
             [
              0.6666666666666666,
              "#ed7953"
             ],
             [
              0.7777777777777778,
              "#fb9f3a"
             ],
             [
              0.8888888888888888,
              "#fdca26"
             ],
             [
              1,
              "#f0f921"
             ]
            ],
            "type": "surface"
           }
          ],
          "table": [
           {
            "cells": {
             "fill": {
              "color": "#EBF0F8"
             },
             "line": {
              "color": "white"
             }
            },
            "header": {
             "fill": {
              "color": "#C8D4E3"
             },
             "line": {
              "color": "white"
             }
            },
            "type": "table"
           }
          ]
         },
         "layout": {
          "annotationdefaults": {
           "arrowcolor": "#2a3f5f",
           "arrowhead": 0,
           "arrowwidth": 1
          },
          "autotypenumbers": "strict",
          "coloraxis": {
           "colorbar": {
            "outlinewidth": 0,
            "ticks": ""
           }
          },
          "colorscale": {
           "diverging": [
            [
             0,
             "#8e0152"
            ],
            [
             0.1,
             "#c51b7d"
            ],
            [
             0.2,
             "#de77ae"
            ],
            [
             0.3,
             "#f1b6da"
            ],
            [
             0.4,
             "#fde0ef"
            ],
            [
             0.5,
             "#f7f7f7"
            ],
            [
             0.6,
             "#e6f5d0"
            ],
            [
             0.7,
             "#b8e186"
            ],
            [
             0.8,
             "#7fbc41"
            ],
            [
             0.9,
             "#4d9221"
            ],
            [
             1,
             "#276419"
            ]
           ],
           "sequential": [
            [
             0,
             "#0d0887"
            ],
            [
             0.1111111111111111,
             "#46039f"
            ],
            [
             0.2222222222222222,
             "#7201a8"
            ],
            [
             0.3333333333333333,
             "#9c179e"
            ],
            [
             0.4444444444444444,
             "#bd3786"
            ],
            [
             0.5555555555555556,
             "#d8576b"
            ],
            [
             0.6666666666666666,
             "#ed7953"
            ],
            [
             0.7777777777777778,
             "#fb9f3a"
            ],
            [
             0.8888888888888888,
             "#fdca26"
            ],
            [
             1,
             "#f0f921"
            ]
           ],
           "sequentialminus": [
            [
             0,
             "#0d0887"
            ],
            [
             0.1111111111111111,
             "#46039f"
            ],
            [
             0.2222222222222222,
             "#7201a8"
            ],
            [
             0.3333333333333333,
             "#9c179e"
            ],
            [
             0.4444444444444444,
             "#bd3786"
            ],
            [
             0.5555555555555556,
             "#d8576b"
            ],
            [
             0.6666666666666666,
             "#ed7953"
            ],
            [
             0.7777777777777778,
             "#fb9f3a"
            ],
            [
             0.8888888888888888,
             "#fdca26"
            ],
            [
             1,
             "#f0f921"
            ]
           ]
          },
          "colorway": [
           "#636efa",
           "#EF553B",
           "#00cc96",
           "#ab63fa",
           "#FFA15A",
           "#19d3f3",
           "#FF6692",
           "#B6E880",
           "#FF97FF",
           "#FECB52"
          ],
          "font": {
           "color": "#2a3f5f"
          },
          "geo": {
           "bgcolor": "white",
           "lakecolor": "white",
           "landcolor": "#E5ECF6",
           "showlakes": true,
           "showland": true,
           "subunitcolor": "white"
          },
          "hoverlabel": {
           "align": "left"
          },
          "hovermode": "closest",
          "mapbox": {
           "style": "light"
          },
          "paper_bgcolor": "white",
          "plot_bgcolor": "#E5ECF6",
          "polar": {
           "angularaxis": {
            "gridcolor": "white",
            "linecolor": "white",
            "ticks": ""
           },
           "bgcolor": "#E5ECF6",
           "radialaxis": {
            "gridcolor": "white",
            "linecolor": "white",
            "ticks": ""
           }
          },
          "scene": {
           "xaxis": {
            "backgroundcolor": "#E5ECF6",
            "gridcolor": "white",
            "gridwidth": 2,
            "linecolor": "white",
            "showbackground": true,
            "ticks": "",
            "zerolinecolor": "white"
           },
           "yaxis": {
            "backgroundcolor": "#E5ECF6",
            "gridcolor": "white",
            "gridwidth": 2,
            "linecolor": "white",
            "showbackground": true,
            "ticks": "",
            "zerolinecolor": "white"
           },
           "zaxis": {
            "backgroundcolor": "#E5ECF6",
            "gridcolor": "white",
            "gridwidth": 2,
            "linecolor": "white",
            "showbackground": true,
            "ticks": "",
            "zerolinecolor": "white"
           }
          },
          "shapedefaults": {
           "line": {
            "color": "#2a3f5f"
           }
          },
          "ternary": {
           "aaxis": {
            "gridcolor": "white",
            "linecolor": "white",
            "ticks": ""
           },
           "baxis": {
            "gridcolor": "white",
            "linecolor": "white",
            "ticks": ""
           },
           "bgcolor": "#E5ECF6",
           "caxis": {
            "gridcolor": "white",
            "linecolor": "white",
            "ticks": ""
           }
          },
          "title": {
           "x": 0.05
          },
          "xaxis": {
           "automargin": true,
           "gridcolor": "white",
           "linecolor": "white",
           "ticks": "",
           "title": {
            "standoff": 15
           },
           "zerolinecolor": "white",
           "zerolinewidth": 2
          },
          "yaxis": {
           "automargin": true,
           "gridcolor": "white",
           "linecolor": "white",
           "ticks": "",
           "title": {
            "standoff": 15
           },
           "zerolinecolor": "white",
           "zerolinewidth": 2
          }
         }
        },
        "title": {
         "text": "Scatter Plot of GNI per Capita (PPP) vs Happiness by Year"
        },
        "updatemenus": [
         {
          "buttons": [
           {
            "args": [
             null,
             {
              "frame": {
               "duration": 500,
               "redraw": false
              },
              "fromcurrent": true,
              "mode": "immediate",
              "transition": {
               "duration": 500,
               "easing": "linear"
              }
             }
            ],
            "label": "&#9654;",
            "method": "animate"
           },
           {
            "args": [
             [
              null
             ],
             {
              "frame": {
               "duration": 0,
               "redraw": false
              },
              "fromcurrent": true,
              "mode": "immediate",
              "transition": {
               "duration": 0,
               "easing": "linear"
              }
             }
            ],
            "label": "&#9724;",
            "method": "animate"
           }
          ],
          "direction": "left",
          "pad": {
           "r": 10,
           "t": 70
          },
          "showactive": false,
          "type": "buttons",
          "x": 0.1,
          "xanchor": "right",
          "y": 0,
          "yanchor": "top"
         }
        ],
        "width": 800,
        "xaxis": {
         "anchor": "y",
         "domain": [
          0,
          1
         ],
         "title": {
          "text": "Happiness score"
         },
         "type": "log"
        },
        "yaxis": {
         "anchor": "x",
         "domain": [
          0,
          1
         ],
         "title": {
          "text": "GNI per Capita (PPP)"
         }
        }
       }
      },
      "text/html": [
       "<div>                            <div id=\"aee612e2-0937-438f-9375-b610afafd7f0\" class=\"plotly-graph-div\" style=\"height:500px; width:800px;\"></div>            <script type=\"text/javascript\">                require([\"plotly\"], function(Plotly) {                    window.PLOTLYENV=window.PLOTLYENV || {};                                    if (document.getElementById(\"aee612e2-0937-438f-9375-b610afafd7f0\")) {                    Plotly.newPlot(                        \"aee612e2-0937-438f-9375-b610afafd7f0\",                        [{\"customdata\":[[\"Lebanon\"],[\"Malaysia\"],[\"Kuwait\"],[\"Kazakhstan\"],[\"Jordan\"],[\"Japan\"],[\"Israel\"],[\"Iraq\"],[\"Kyrgyzstan\"],[\"Mongolia\"],[\"Saudi Arabia\"],[\"Philippines\"],[\"Pakistan\"],[\"Nepal\"],[\"Myanmar\"],[\"Iran\"],[\"Indonesia\"],[\"Cambodia\"],[\"Bangladesh\"],[\"Bahrain\"],[\"Azerbaijan\"],[\"Armenia\"],[\"China\"],[\"China\"],[\"Georgia\"],[\"Cyprus\"],[\"India\"],[\"Singapore\"],[\"Afghanistan\"],[\"Turkey\"],[\"United Arab Emirates\"],[\"Thailand\"],[\"Vietnam\"],[\"Sri Lanka\"],[\"Turkmenistan\"],[\"Uzbekistan\"],[\"Tajikistan\"],[\"Yemen\"]],\"hovertemplate\":\"Country: %{customdata[0]}\\u003cbr\\u003eHappines: %{x}\\u003cbr\\u003eGNI per Capita (PPP): %{y}\",\"hovertext\":[\"Lebanon\",\"Malaysia\",\"Kuwait\",\"Kazakhstan\",\"Jordan\",\"Japan\",\"Israel\",\"Iraq\",\"Kyrgyzstan\",\"Mongolia\",\"Saudi Arabia\",\"Philippines\",\"Pakistan\",\"Nepal\",\"Myanmar\",\"Iran\",\"Indonesia\",\"Cambodia\",\"Bangladesh\",\"Bahrain\",\"Azerbaijan\",\"Armenia\",\"China\",\"China\",\"Georgia\",\"Cyprus\",\"India\",\"Singapore\",\"Afghanistan\",\"Turkey\",\"United Arab Emirates\",\"Thailand\",\"Vietnam\",\"Sri Lanka\",\"Turkmenistan\",\"Uzbekistan\",\"Tajikistan\",\"Yemen\"],\"ids\":[\"Lebanon\",\"Malaysia\",\"Kuwait\",\"Kazakhstan\",\"Jordan\",\"Japan\",\"Israel\",\"Iraq\",\"Kyrgyzstan\",\"Mongolia\",\"Saudi Arabia\",\"Philippines\",\"Pakistan\",\"Nepal\",\"Myanmar\",\"Iran\",\"Indonesia\",\"Cambodia\",\"Bangladesh\",\"Bahrain\",\"Azerbaijan\",\"Armenia\",\"China\",\"China\",\"Georgia\",\"Cyprus\",\"India\",\"Singapore\",\"Afghanistan\",\"Turkey\",\"United Arab Emirates\",\"Thailand\",\"Vietnam\",\"Sri Lanka\",\"Turkmenistan\",\"Uzbekistan\",\"Tajikistan\",\"Yemen\"],\"legendgroup\":\"Asia\",\"marker\":{\"color\":\"#FAA598\",\"symbol\":\"circle\"},\"mode\":\"markers\",\"name\":\"Asia\",\"orientation\":\"v\",\"showlegend\":true,\"x\":[5.224999905,6.084000111,6.105000019,5.818999767,5.335999966,5.920000076,7.212999821,4.497000217,5.004000187,4.954999924,6.343999863,5.429999828,5.269000053,4.961999893,4.545000076,4.691999912,5.262000084,4.168000221,4.607999802,6.086999893,5.234000206,4.375999928,5.272999763,5.272999763,4.285999775,5.620999813,4.315000057,6.572000027,3.79399991,5.5,6.647999763,6.423999786,5.073999882,4.440000057,5.822000027,5.971000195,5.040999889,3.592999935],\"xaxis\":\"x\",\"y\":[14920.0,24120.0,52880.0,23860.0,9140.0,41950.0,35130.0,10220.0,4460.0,9880.0,49450.0,8310.0,4640.0,2680.0,4180.0,13300.0,9910.0,3180.0,3790.0,42760.0,15020.0,12490.0,57450.0,12880.0,11420.0,31510.0,5400.0,81040.0,2110.0,25340.0,64640.0,15010.0,5790.0,11270.0,12890.0,6460.0,3590.0,null],\"yaxis\":\"y\",\"type\":\"scatter\"},{\"customdata\":[[\"Mauritania\"],[\"Mali\"],[\"Malawi\"],[\"Madagascar\"],[\"Libya\"],[\"Liberia\"],[\"Mauritius\"],[\"Kenya\"],[\"Senegal\"],[\"Rwanda\"],[\"Nigeria\"],[\"Niger\"],[\"Morocco\"],[\"Sierra Leone\"],[\"Cameroon\"],[\"Burundi\"],[\"Burkina Faso\"],[\"Botswana\"],[\"Chad\"],[\"Benin\"],[\"Algeria\"],[\"Ghana\"],[\"Gabon\"],[\"Ethiopia\"],[\"Egypt\"],[\"Zambia\"],[\"Togo\"],[\"Zimbabwe\"],[\"Uganda\"],[\"Tunisia\"],[\"South Africa\"],[\"Tanzania\"]],\"hovertemplate\":\"Country: %{customdata[0]}\\u003cbr\\u003eHappines: %{x}\\u003cbr\\u003eGNI per Capita (PPP): %{y}\",\"hovertext\":[\"Mauritania\",\"Mali\",\"Malawi\",\"Madagascar\",\"Libya\",\"Liberia\",\"Mauritius\",\"Kenya\",\"Senegal\",\"Rwanda\",\"Nigeria\",\"Niger\",\"Morocco\",\"Sierra Leone\",\"Cameroon\",\"Burundi\",\"Burkina Faso\",\"Botswana\",\"Chad\",\"Benin\",\"Algeria\",\"Ghana\",\"Gabon\",\"Ethiopia\",\"Egypt\",\"Zambia\",\"Togo\",\"Zimbabwe\",\"Uganda\",\"Tunisia\",\"South Africa\",\"Tanzania\"],\"ids\":[\"Mauritania\",\"Mali\",\"Malawi\",\"Madagascar\",\"Libya\",\"Liberia\",\"Mauritius\",\"Kenya\",\"Senegal\",\"Rwanda\",\"Nigeria\",\"Niger\",\"Morocco\",\"Sierra Leone\",\"Cameroon\",\"Burundi\",\"Burkina Faso\",\"Botswana\",\"Chad\",\"Benin\",\"Algeria\",\"Ghana\",\"Gabon\",\"Ethiopia\",\"Egypt\",\"Zambia\",\"Togo\",\"Zimbabwe\",\"Uganda\",\"Tunisia\",\"South Africa\",\"Tanzania\"],\"legendgroup\":\"Africa\",\"marker\":{\"color\":\"#AEFD8E\",\"symbol\":\"circle\"},\"mode\":\"markers\",\"name\":\"Africa\",\"orientation\":\"v\",\"showlegend\":true,\"x\":[4.291999817,4.190000057,3.970000029,3.644000053,5.525000095,3.532999992,5.629000187,4.552999973,4.534999847,3.470999956,5.073999882,4.027999878,5.235000134,4.709000111,4.695000172,2.904999971,4.032000065,3.766000032,3.936000109,3.657000065,5.872000217,4.119999886,4.465000153,4.460000038,4.735000134,4.513999939,3.494999886,3.875,4.080999851,4.804999828,4.828999996,3.348999977],\"xaxis\":\"x\",\"y\":[3160.0,1990.0,990.0,1500.0,12740.0,1180.0,20860.0,3330.0,2910.0,1710.0,5280.0,840.0,7670.0,1570.0,3210.0,840.0,1460.0,15310.0,1760.0,2860.0,11700.0,5050.0,13480.0,1650.0,11160.0,3370.0,1440.0,2410.0,1750.0,9890.0,12240.0,2740.0],\"yaxis\":\"y\",\"type\":\"scatter\"},{\"customdata\":[[\"Malta\"],[\"Luxembourg\"],[\"Lithuania\"],[\"Latvia\"],[\"Italy\"],[\"Ireland\"],[\"Moldova\"],[\"Serbia\"],[\"Russia\"],[\"Romania\"],[\"Portugal\"],[\"Poland\"],[\"Norway\"],[\"Netherlands\"],[\"Montenegro\"],[\"Iceland\"],[\"Bulgaria\"],[\"Bosnia and Herzegovina\"],[\"Belarus\"],[\"Austria\"],[\"Albania\"],[\"Belgium\"],[\"Hungary\"],[\"Greece\"],[\"Germany\"],[\"France\"],[\"Finland\"],[\"Estonia\"],[\"Denmark\"],[\"Croatia\"],[\"Ukraine\"],[\"Sweden\"],[\"Slovenia\"],[\"United Kingdom\"],[\"Spain\"],[\"Switzerland\"],[\"Slovakia\"]],\"hovertemplate\":\"Country: %{customdata[0]}\\u003cbr\\u003eHappines: %{x}\\u003cbr\\u003eGNI per Capita (PPP): %{y}\",\"hovertext\":[\"Malta\",\"Luxembourg\",\"Lithuania\",\"Latvia\",\"Italy\",\"Ireland\",\"Moldova\",\"Serbia\",\"Russia\",\"Romania\",\"Portugal\",\"Poland\",\"Norway\",\"Netherlands\",\"Montenegro\",\"Iceland\",\"Bulgaria\",\"Bosnia and Herzegovina\",\"Belarus\",\"Austria\",\"Albania\",\"Belgium\",\"Hungary\",\"Greece\",\"Germany\",\"France\",\"Finland\",\"Estonia\",\"Denmark\",\"Croatia\",\"Ukraine\",\"Sweden\",\"Slovenia\",\"United Kingdom\",\"Spain\",\"Switzerland\",\"Slovakia\"],\"ids\":[\"Malta\",\"Luxembourg\",\"Lithuania\",\"Latvia\",\"Italy\",\"Ireland\",\"Moldova\",\"Serbia\",\"Russia\",\"Romania\",\"Portugal\",\"Poland\",\"Norway\",\"Netherlands\",\"Montenegro\",\"Iceland\",\"Bulgaria\",\"Bosnia and Herzegovina\",\"Belarus\",\"Austria\",\"Albania\",\"Belgium\",\"Hungary\",\"Greece\",\"Germany\",\"France\",\"Finland\",\"Estonia\",\"Denmark\",\"Croatia\",\"Ukraine\",\"Sweden\",\"Slovenia\",\"United Kingdom\",\"Spain\",\"Switzerland\",\"Slovakia\"],\"legendgroup\":\"Europe\",\"marker\":{\"color\":\"#E3C97F\",\"symbol\":\"circle\"},\"mode\":\"markers\",\"name\":\"Europe\",\"orientation\":\"v\",\"showlegend\":true,\"x\":[6.52699995,6.862999916,5.90199995,5.849999905,5.964000225,6.977000237,5.837999821,5.394999981,5.962999821,5.824999809,5.195000172,5.97300005,7.537000179,7.376999855,5.236999989,7.504000187,4.714000225,5.18200016,5.568999767,7.006000042,4.644000053,6.890999794,5.323999882,5.227000237,6.951000214,6.441999912,7.468999863,5.611000061,7.521999836,5.293000221,4.096000195,7.28399992,5.757999897,6.714000225,6.402999878,7.493999958,6.09800005],\"xaxis\":\"x\",\"y\":[34280.0,67590.0,27780.0,24690.0,36650.0,52990.0,11290.0,14230.0,23420.0,21130.0,28870.0,25880.0,63030.0,50340.0,16700.0,46480.0,17820.0,12100.0,19260.0,49390.0,11800.0,46870.0,25460.0,26940.0,48770.0,41740.0,42950.0,28570.0,50560.0,22870.0,7880.0,49420.0,30660.0,41550.0,34900.0,65450.0,28950.0],\"yaxis\":\"y\",\"type\":\"scatter\"},{\"customdata\":[[\"Jamaica\"],[\"Peru\"],[\"Paraguay\"],[\"Panama\"],[\"Nicaragua\"],[\"Brazil\"],[\"Bolivia\"],[\"Argentina\"],[\"Chile\"],[\"Honduras\"],[\"Haiti\"],[\"Guinea\"],[\"Guatemala\"],[\"El Salvador\"],[\"Ecuador\"],[\"Dominican Republic\"],[\"Costa Rica\"],[\"Colombia\"],[\"Venezuela\"],[\"Uruguay\"]],\"hovertemplate\":\"Country: %{customdata[0]}\\u003cbr\\u003eHappines: %{x}\\u003cbr\\u003eGNI per Capita (PPP): %{y}\",\"hovertext\":[\"Jamaica\",\"Peru\",\"Paraguay\",\"Panama\",\"Nicaragua\",\"Brazil\",\"Bolivia\",\"Argentina\",\"Chile\",\"Honduras\",\"Haiti\",\"Guinea\",\"Guatemala\",\"El Salvador\",\"Ecuador\",\"Dominican Republic\",\"Costa Rica\",\"Colombia\",\"Venezuela\",\"Uruguay\"],\"ids\":[\"Jamaica\",\"Peru\",\"Paraguay\",\"Panama\",\"Nicaragua\",\"Brazil\",\"Bolivia\",\"Argentina\",\"Chile\",\"Honduras\",\"Haiti\",\"Guinea\",\"Guatemala\",\"El Salvador\",\"Ecuador\",\"Dominican Republic\",\"Costa Rica\",\"Colombia\",\"Venezuela\",\"Uruguay\"],\"legendgroup\":\"South America\",\"marker\":{\"color\":\"#E8EAC8\",\"symbol\":\"circle\"},\"mode\":\"markers\",\"name\":\"South America\",\"orientation\":\"v\",\"showlegend\":true,\"x\":[5.31099987,5.715000153,5.493000031,6.452000141,6.071000099,6.635000229,5.822999954,6.598999977,6.65199995,5.181000233,3.602999926,3.506999969,6.453999996,6.002999783,6.007999897,5.230000019,7.078999996,6.356999874,5.25,6.453999996],\"xaxis\":\"x\",\"y\":[8520.0,11180.0,11040.0,22810.0,5150.0,14470.0,6890.0,19650.0,22010.0,4490.0,1710.0,1790.0,7830.0,7240.0,10870.0,14130.0,16310.0,13700.0,null,19310.0],\"yaxis\":\"y\",\"type\":\"scatter\"},{\"customdata\":[[\"Mexico\"],[\"Canada\"],[\"United States\"]],\"hovertemplate\":\"Country: %{customdata[0]}\\u003cbr\\u003eHappines: %{x}\\u003cbr\\u003eGNI per Capita (PPP): %{y}\",\"hovertext\":[\"Mexico\",\"Canada\",\"United States\"],\"ids\":[\"Mexico\",\"Canada\",\"United States\"],\"legendgroup\":\"North America\",\"marker\":{\"color\":\"#B47FE3\",\"symbol\":\"circle\"},\"mode\":\"markers\",\"name\":\"North America\",\"orientation\":\"v\",\"showlegend\":true,\"x\":[6.578000069,7.315999985,6.993000031],\"xaxis\":\"x\",\"y\":[17830.0,43990.0,58340.0],\"yaxis\":\"y\",\"type\":\"scatter\"},{\"customdata\":[[\"New Zealand\"],[\"Australia\"]],\"hovertemplate\":\"Country: %{customdata[0]}\\u003cbr\\u003eHappines: %{x}\\u003cbr\\u003eGNI per Capita (PPP): %{y}\",\"hovertext\":[\"New Zealand\",\"Australia\"],\"ids\":[\"New Zealand\",\"Australia\"],\"legendgroup\":\"Australia\",\"marker\":{\"color\":\"#B2E4FA\",\"symbol\":\"circle\"},\"mode\":\"markers\",\"name\":\"Australia\",\"orientation\":\"v\",\"showlegend\":true,\"x\":[7.31400013,7.28399992],\"xaxis\":\"x\",\"y\":[36210.0,45330.0],\"yaxis\":\"y\",\"type\":\"scatter\"}],                        {\"template\":{\"data\":{\"histogram2dcontour\":[{\"type\":\"histogram2dcontour\",\"colorbar\":{\"outlinewidth\":0,\"ticks\":\"\"},\"colorscale\":[[0.0,\"#0d0887\"],[0.1111111111111111,\"#46039f\"],[0.2222222222222222,\"#7201a8\"],[0.3333333333333333,\"#9c179e\"],[0.4444444444444444,\"#bd3786\"],[0.5555555555555556,\"#d8576b\"],[0.6666666666666666,\"#ed7953\"],[0.7777777777777778,\"#fb9f3a\"],[0.8888888888888888,\"#fdca26\"],[1.0,\"#f0f921\"]]}],\"choropleth\":[{\"type\":\"choropleth\",\"colorbar\":{\"outlinewidth\":0,\"ticks\":\"\"}}],\"histogram2d\":[{\"type\":\"histogram2d\",\"colorbar\":{\"outlinewidth\":0,\"ticks\":\"\"},\"colorscale\":[[0.0,\"#0d0887\"],[0.1111111111111111,\"#46039f\"],[0.2222222222222222,\"#7201a8\"],[0.3333333333333333,\"#9c179e\"],[0.4444444444444444,\"#bd3786\"],[0.5555555555555556,\"#d8576b\"],[0.6666666666666666,\"#ed7953\"],[0.7777777777777778,\"#fb9f3a\"],[0.8888888888888888,\"#fdca26\"],[1.0,\"#f0f921\"]]}],\"heatmap\":[{\"type\":\"heatmap\",\"colorbar\":{\"outlinewidth\":0,\"ticks\":\"\"},\"colorscale\":[[0.0,\"#0d0887\"],[0.1111111111111111,\"#46039f\"],[0.2222222222222222,\"#7201a8\"],[0.3333333333333333,\"#9c179e\"],[0.4444444444444444,\"#bd3786\"],[0.5555555555555556,\"#d8576b\"],[0.6666666666666666,\"#ed7953\"],[0.7777777777777778,\"#fb9f3a\"],[0.8888888888888888,\"#fdca26\"],[1.0,\"#f0f921\"]]}],\"heatmapgl\":[{\"type\":\"heatmapgl\",\"colorbar\":{\"outlinewidth\":0,\"ticks\":\"\"},\"colorscale\":[[0.0,\"#0d0887\"],[0.1111111111111111,\"#46039f\"],[0.2222222222222222,\"#7201a8\"],[0.3333333333333333,\"#9c179e\"],[0.4444444444444444,\"#bd3786\"],[0.5555555555555556,\"#d8576b\"],[0.6666666666666666,\"#ed7953\"],[0.7777777777777778,\"#fb9f3a\"],[0.8888888888888888,\"#fdca26\"],[1.0,\"#f0f921\"]]}],\"contourcarpet\":[{\"type\":\"contourcarpet\",\"colorbar\":{\"outlinewidth\":0,\"ticks\":\"\"}}],\"contour\":[{\"type\":\"contour\",\"colorbar\":{\"outlinewidth\":0,\"ticks\":\"\"},\"colorscale\":[[0.0,\"#0d0887\"],[0.1111111111111111,\"#46039f\"],[0.2222222222222222,\"#7201a8\"],[0.3333333333333333,\"#9c179e\"],[0.4444444444444444,\"#bd3786\"],[0.5555555555555556,\"#d8576b\"],[0.6666666666666666,\"#ed7953\"],[0.7777777777777778,\"#fb9f3a\"],[0.8888888888888888,\"#fdca26\"],[1.0,\"#f0f921\"]]}],\"surface\":[{\"type\":\"surface\",\"colorbar\":{\"outlinewidth\":0,\"ticks\":\"\"},\"colorscale\":[[0.0,\"#0d0887\"],[0.1111111111111111,\"#46039f\"],[0.2222222222222222,\"#7201a8\"],[0.3333333333333333,\"#9c179e\"],[0.4444444444444444,\"#bd3786\"],[0.5555555555555556,\"#d8576b\"],[0.6666666666666666,\"#ed7953\"],[0.7777777777777778,\"#fb9f3a\"],[0.8888888888888888,\"#fdca26\"],[1.0,\"#f0f921\"]]}],\"mesh3d\":[{\"type\":\"mesh3d\",\"colorbar\":{\"outlinewidth\":0,\"ticks\":\"\"}}],\"scatter\":[{\"fillpattern\":{\"fillmode\":\"overlay\",\"size\":10,\"solidity\":0.2},\"type\":\"scatter\"}],\"parcoords\":[{\"type\":\"parcoords\",\"line\":{\"colorbar\":{\"outlinewidth\":0,\"ticks\":\"\"}}}],\"scatterpolargl\":[{\"type\":\"scatterpolargl\",\"marker\":{\"colorbar\":{\"outlinewidth\":0,\"ticks\":\"\"}}}],\"bar\":[{\"error_x\":{\"color\":\"#2a3f5f\"},\"error_y\":{\"color\":\"#2a3f5f\"},\"marker\":{\"line\":{\"color\":\"#E5ECF6\",\"width\":0.5},\"pattern\":{\"fillmode\":\"overlay\",\"size\":10,\"solidity\":0.2}},\"type\":\"bar\"}],\"scattergeo\":[{\"type\":\"scattergeo\",\"marker\":{\"colorbar\":{\"outlinewidth\":0,\"ticks\":\"\"}}}],\"scatterpolar\":[{\"type\":\"scatterpolar\",\"marker\":{\"colorbar\":{\"outlinewidth\":0,\"ticks\":\"\"}}}],\"histogram\":[{\"marker\":{\"pattern\":{\"fillmode\":\"overlay\",\"size\":10,\"solidity\":0.2}},\"type\":\"histogram\"}],\"scattergl\":[{\"type\":\"scattergl\",\"marker\":{\"colorbar\":{\"outlinewidth\":0,\"ticks\":\"\"}}}],\"scatter3d\":[{\"type\":\"scatter3d\",\"line\":{\"colorbar\":{\"outlinewidth\":0,\"ticks\":\"\"}},\"marker\":{\"colorbar\":{\"outlinewidth\":0,\"ticks\":\"\"}}}],\"scattermapbox\":[{\"type\":\"scattermapbox\",\"marker\":{\"colorbar\":{\"outlinewidth\":0,\"ticks\":\"\"}}}],\"scatterternary\":[{\"type\":\"scatterternary\",\"marker\":{\"colorbar\":{\"outlinewidth\":0,\"ticks\":\"\"}}}],\"scattercarpet\":[{\"type\":\"scattercarpet\",\"marker\":{\"colorbar\":{\"outlinewidth\":0,\"ticks\":\"\"}}}],\"carpet\":[{\"aaxis\":{\"endlinecolor\":\"#2a3f5f\",\"gridcolor\":\"white\",\"linecolor\":\"white\",\"minorgridcolor\":\"white\",\"startlinecolor\":\"#2a3f5f\"},\"baxis\":{\"endlinecolor\":\"#2a3f5f\",\"gridcolor\":\"white\",\"linecolor\":\"white\",\"minorgridcolor\":\"white\",\"startlinecolor\":\"#2a3f5f\"},\"type\":\"carpet\"}],\"table\":[{\"cells\":{\"fill\":{\"color\":\"#EBF0F8\"},\"line\":{\"color\":\"white\"}},\"header\":{\"fill\":{\"color\":\"#C8D4E3\"},\"line\":{\"color\":\"white\"}},\"type\":\"table\"}],\"barpolar\":[{\"marker\":{\"line\":{\"color\":\"#E5ECF6\",\"width\":0.5},\"pattern\":{\"fillmode\":\"overlay\",\"size\":10,\"solidity\":0.2}},\"type\":\"barpolar\"}],\"pie\":[{\"automargin\":true,\"type\":\"pie\"}]},\"layout\":{\"autotypenumbers\":\"strict\",\"colorway\":[\"#636efa\",\"#EF553B\",\"#00cc96\",\"#ab63fa\",\"#FFA15A\",\"#19d3f3\",\"#FF6692\",\"#B6E880\",\"#FF97FF\",\"#FECB52\"],\"font\":{\"color\":\"#2a3f5f\"},\"hovermode\":\"closest\",\"hoverlabel\":{\"align\":\"left\"},\"paper_bgcolor\":\"white\",\"plot_bgcolor\":\"#E5ECF6\",\"polar\":{\"bgcolor\":\"#E5ECF6\",\"angularaxis\":{\"gridcolor\":\"white\",\"linecolor\":\"white\",\"ticks\":\"\"},\"radialaxis\":{\"gridcolor\":\"white\",\"linecolor\":\"white\",\"ticks\":\"\"}},\"ternary\":{\"bgcolor\":\"#E5ECF6\",\"aaxis\":{\"gridcolor\":\"white\",\"linecolor\":\"white\",\"ticks\":\"\"},\"baxis\":{\"gridcolor\":\"white\",\"linecolor\":\"white\",\"ticks\":\"\"},\"caxis\":{\"gridcolor\":\"white\",\"linecolor\":\"white\",\"ticks\":\"\"}},\"coloraxis\":{\"colorbar\":{\"outlinewidth\":0,\"ticks\":\"\"}},\"colorscale\":{\"sequential\":[[0.0,\"#0d0887\"],[0.1111111111111111,\"#46039f\"],[0.2222222222222222,\"#7201a8\"],[0.3333333333333333,\"#9c179e\"],[0.4444444444444444,\"#bd3786\"],[0.5555555555555556,\"#d8576b\"],[0.6666666666666666,\"#ed7953\"],[0.7777777777777778,\"#fb9f3a\"],[0.8888888888888888,\"#fdca26\"],[1.0,\"#f0f921\"]],\"sequentialminus\":[[0.0,\"#0d0887\"],[0.1111111111111111,\"#46039f\"],[0.2222222222222222,\"#7201a8\"],[0.3333333333333333,\"#9c179e\"],[0.4444444444444444,\"#bd3786\"],[0.5555555555555556,\"#d8576b\"],[0.6666666666666666,\"#ed7953\"],[0.7777777777777778,\"#fb9f3a\"],[0.8888888888888888,\"#fdca26\"],[1.0,\"#f0f921\"]],\"diverging\":[[0,\"#8e0152\"],[0.1,\"#c51b7d\"],[0.2,\"#de77ae\"],[0.3,\"#f1b6da\"],[0.4,\"#fde0ef\"],[0.5,\"#f7f7f7\"],[0.6,\"#e6f5d0\"],[0.7,\"#b8e186\"],[0.8,\"#7fbc41\"],[0.9,\"#4d9221\"],[1,\"#276419\"]]},\"xaxis\":{\"gridcolor\":\"white\",\"linecolor\":\"white\",\"ticks\":\"\",\"title\":{\"standoff\":15},\"zerolinecolor\":\"white\",\"automargin\":true,\"zerolinewidth\":2},\"yaxis\":{\"gridcolor\":\"white\",\"linecolor\":\"white\",\"ticks\":\"\",\"title\":{\"standoff\":15},\"zerolinecolor\":\"white\",\"automargin\":true,\"zerolinewidth\":2},\"scene\":{\"xaxis\":{\"backgroundcolor\":\"#E5ECF6\",\"gridcolor\":\"white\",\"linecolor\":\"white\",\"showbackground\":true,\"ticks\":\"\",\"zerolinecolor\":\"white\",\"gridwidth\":2},\"yaxis\":{\"backgroundcolor\":\"#E5ECF6\",\"gridcolor\":\"white\",\"linecolor\":\"white\",\"showbackground\":true,\"ticks\":\"\",\"zerolinecolor\":\"white\",\"gridwidth\":2},\"zaxis\":{\"backgroundcolor\":\"#E5ECF6\",\"gridcolor\":\"white\",\"linecolor\":\"white\",\"showbackground\":true,\"ticks\":\"\",\"zerolinecolor\":\"white\",\"gridwidth\":2}},\"shapedefaults\":{\"line\":{\"color\":\"#2a3f5f\"}},\"annotationdefaults\":{\"arrowcolor\":\"#2a3f5f\",\"arrowhead\":0,\"arrowwidth\":1},\"geo\":{\"bgcolor\":\"white\",\"landcolor\":\"#E5ECF6\",\"subunitcolor\":\"white\",\"showland\":true,\"showlakes\":true,\"lakecolor\":\"white\"},\"title\":{\"x\":0.05},\"mapbox\":{\"style\":\"light\"}}},\"xaxis\":{\"anchor\":\"y\",\"domain\":[0.0,1.0],\"title\":{\"text\":\"Happiness score\"},\"type\":\"log\"},\"yaxis\":{\"anchor\":\"x\",\"domain\":[0.0,1.0],\"title\":{\"text\":\"GNI per Capita (PPP)\"}},\"legend\":{\"title\":{\"text\":\"continent\"},\"tracegroupgap\":0},\"margin\":{\"t\":60},\"updatemenus\":[{\"buttons\":[{\"args\":[null,{\"frame\":{\"duration\":500,\"redraw\":false},\"mode\":\"immediate\",\"fromcurrent\":true,\"transition\":{\"duration\":500,\"easing\":\"linear\"}}],\"label\":\"&#9654;\",\"method\":\"animate\"},{\"args\":[[null],{\"frame\":{\"duration\":0,\"redraw\":false},\"mode\":\"immediate\",\"fromcurrent\":true,\"transition\":{\"duration\":0,\"easing\":\"linear\"}}],\"label\":\"&#9724;\",\"method\":\"animate\"}],\"direction\":\"left\",\"pad\":{\"r\":10,\"t\":70},\"showactive\":false,\"type\":\"buttons\",\"x\":0.1,\"xanchor\":\"right\",\"y\":0,\"yanchor\":\"top\"}],\"sliders\":[{\"active\":0,\"currentvalue\":{\"prefix\":\"Year=\"},\"len\":0.9,\"pad\":{\"b\":10,\"t\":60},\"steps\":[{\"args\":[[\"2015\"],{\"frame\":{\"duration\":0,\"redraw\":false},\"mode\":\"immediate\",\"fromcurrent\":true,\"transition\":{\"duration\":0,\"easing\":\"linear\"}}],\"label\":\"2015\",\"method\":\"animate\"},{\"args\":[[\"2016\"],{\"frame\":{\"duration\":0,\"redraw\":false},\"mode\":\"immediate\",\"fromcurrent\":true,\"transition\":{\"duration\":0,\"easing\":\"linear\"}}],\"label\":\"2016\",\"method\":\"animate\"},{\"args\":[[\"2017\"],{\"frame\":{\"duration\":0,\"redraw\":false},\"mode\":\"immediate\",\"fromcurrent\":true,\"transition\":{\"duration\":0,\"easing\":\"linear\"}}],\"label\":\"2017\",\"method\":\"animate\"},{\"args\":[[\"2018\"],{\"frame\":{\"duration\":0,\"redraw\":false},\"mode\":\"immediate\",\"fromcurrent\":true,\"transition\":{\"duration\":0,\"easing\":\"linear\"}}],\"label\":\"2018\",\"method\":\"animate\"}],\"x\":0.1,\"xanchor\":\"left\",\"y\":0,\"yanchor\":\"top\"}],\"title\":{\"text\":\"Scatter Plot of GNI per Capita (PPP) vs Happiness by Year\"},\"height\":500,\"width\":800,\"plot_bgcolor\":\"rgb(240, 240, 240, 240)\"},                        {\"responsive\": true}                    ).then(function(){\n",
       "                            Plotly.addFrames('aee612e2-0937-438f-9375-b610afafd7f0', [{\"data\":[{\"customdata\":[[\"Lebanon\"],[\"Malaysia\"],[\"Kuwait\"],[\"Kazakhstan\"],[\"Jordan\"],[\"Japan\"],[\"Israel\"],[\"Iraq\"],[\"Kyrgyzstan\"],[\"Mongolia\"],[\"Saudi Arabia\"],[\"Philippines\"],[\"Pakistan\"],[\"Nepal\"],[\"Myanmar\"],[\"Iran\"],[\"Indonesia\"],[\"Cambodia\"],[\"Bangladesh\"],[\"Bahrain\"],[\"Azerbaijan\"],[\"Armenia\"],[\"China\"],[\"China\"],[\"Georgia\"],[\"Cyprus\"],[\"India\"],[\"Singapore\"],[\"Afghanistan\"],[\"Turkey\"],[\"United Arab Emirates\"],[\"Thailand\"],[\"Vietnam\"],[\"Sri Lanka\"],[\"Turkmenistan\"],[\"Uzbekistan\"],[\"Tajikistan\"],[\"Yemen\"]],\"hovertemplate\":\"\\u003cb\\u003e%{hovertext}\\u003c\\u002fb\\u003e\\u003cbr\\u003e\\u003cbr\\u003econtinent=Asia\\u003cbr\\u003eYear=2015\\u003cbr\\u003ehappiness_score=%{x}\\u003cbr\\u003eGNI_per_capita_PPP=%{y}\\u003cbr\\u003eCountry=%{customdata[0]}\\u003cextra\\u003e\\u003c\\u002fextra\\u003e\",\"hovertext\":[\"Lebanon\",\"Malaysia\",\"Kuwait\",\"Kazakhstan\",\"Jordan\",\"Japan\",\"Israel\",\"Iraq\",\"Kyrgyzstan\",\"Mongolia\",\"Saudi Arabia\",\"Philippines\",\"Pakistan\",\"Nepal\",\"Myanmar\",\"Iran\",\"Indonesia\",\"Cambodia\",\"Bangladesh\",\"Bahrain\",\"Azerbaijan\",\"Armenia\",\"China\",\"China\",\"Georgia\",\"Cyprus\",\"India\",\"Singapore\",\"Afghanistan\",\"Turkey\",\"United Arab Emirates\",\"Thailand\",\"Vietnam\",\"Sri Lanka\",\"Turkmenistan\",\"Uzbekistan\",\"Tajikistan\",\"Yemen\"],\"ids\":[\"Lebanon\",\"Malaysia\",\"Kuwait\",\"Kazakhstan\",\"Jordan\",\"Japan\",\"Israel\",\"Iraq\",\"Kyrgyzstan\",\"Mongolia\",\"Saudi Arabia\",\"Philippines\",\"Pakistan\",\"Nepal\",\"Myanmar\",\"Iran\",\"Indonesia\",\"Cambodia\",\"Bangladesh\",\"Bahrain\",\"Azerbaijan\",\"Armenia\",\"China\",\"China\",\"Georgia\",\"Cyprus\",\"India\",\"Singapore\",\"Afghanistan\",\"Turkey\",\"United Arab Emirates\",\"Thailand\",\"Vietnam\",\"Sri Lanka\",\"Turkmenistan\",\"Uzbekistan\",\"Tajikistan\",\"Yemen\"],\"legendgroup\":\"Asia\",\"marker\":{\"color\":\"#FAA598\",\"symbol\":\"circle\"},\"mode\":\"markers\",\"name\":\"Asia\",\"orientation\":\"v\",\"showlegend\":true,\"x\":[5.224999905,6.084000111,6.105000019,5.818999767,5.335999966,5.920000076,7.212999821,4.497000217,5.004000187,4.954999924,6.343999863,5.429999828,5.269000053,4.961999893,4.545000076,4.691999912,5.262000084,4.168000221,4.607999802,6.086999893,5.234000206,4.375999928,5.272999763,5.272999763,4.285999775,5.620999813,4.315000057,6.572000027,3.79399991,5.5,6.647999763,6.423999786,5.073999882,4.440000057,5.822000027,5.971000195,5.040999889,3.592999935],\"xaxis\":\"x\",\"y\":[14920.0,24120.0,52880.0,23860.0,9140.0,41950.0,35130.0,10220.0,4460.0,9880.0,49450.0,8310.0,4640.0,2680.0,4180.0,13300.0,9910.0,3180.0,3790.0,42760.0,15020.0,12490.0,57450.0,12880.0,11420.0,31510.0,5400.0,81040.0,2110.0,25340.0,64640.0,15010.0,5790.0,11270.0,12890.0,6460.0,3590.0,null],\"yaxis\":\"y\",\"type\":\"scatter\"},{\"customdata\":[[\"Mauritania\"],[\"Mali\"],[\"Malawi\"],[\"Madagascar\"],[\"Libya\"],[\"Liberia\"],[\"Mauritius\"],[\"Kenya\"],[\"Senegal\"],[\"Rwanda\"],[\"Nigeria\"],[\"Niger\"],[\"Morocco\"],[\"Sierra Leone\"],[\"Cameroon\"],[\"Burundi\"],[\"Burkina Faso\"],[\"Botswana\"],[\"Chad\"],[\"Benin\"],[\"Algeria\"],[\"Ghana\"],[\"Gabon\"],[\"Ethiopia\"],[\"Egypt\"],[\"Zambia\"],[\"Togo\"],[\"Zimbabwe\"],[\"Uganda\"],[\"Tunisia\"],[\"South Africa\"],[\"Tanzania\"]],\"hovertemplate\":\"\\u003cb\\u003e%{hovertext}\\u003c\\u002fb\\u003e\\u003cbr\\u003e\\u003cbr\\u003econtinent=Africa\\u003cbr\\u003eYear=2015\\u003cbr\\u003ehappiness_score=%{x}\\u003cbr\\u003eGNI_per_capita_PPP=%{y}\\u003cbr\\u003eCountry=%{customdata[0]}\\u003cextra\\u003e\\u003c\\u002fextra\\u003e\",\"hovertext\":[\"Mauritania\",\"Mali\",\"Malawi\",\"Madagascar\",\"Libya\",\"Liberia\",\"Mauritius\",\"Kenya\",\"Senegal\",\"Rwanda\",\"Nigeria\",\"Niger\",\"Morocco\",\"Sierra Leone\",\"Cameroon\",\"Burundi\",\"Burkina Faso\",\"Botswana\",\"Chad\",\"Benin\",\"Algeria\",\"Ghana\",\"Gabon\",\"Ethiopia\",\"Egypt\",\"Zambia\",\"Togo\",\"Zimbabwe\",\"Uganda\",\"Tunisia\",\"South Africa\",\"Tanzania\"],\"ids\":[\"Mauritania\",\"Mali\",\"Malawi\",\"Madagascar\",\"Libya\",\"Liberia\",\"Mauritius\",\"Kenya\",\"Senegal\",\"Rwanda\",\"Nigeria\",\"Niger\",\"Morocco\",\"Sierra Leone\",\"Cameroon\",\"Burundi\",\"Burkina Faso\",\"Botswana\",\"Chad\",\"Benin\",\"Algeria\",\"Ghana\",\"Gabon\",\"Ethiopia\",\"Egypt\",\"Zambia\",\"Togo\",\"Zimbabwe\",\"Uganda\",\"Tunisia\",\"South Africa\",\"Tanzania\"],\"legendgroup\":\"Africa\",\"marker\":{\"color\":\"#AEFD8E\",\"symbol\":\"circle\"},\"mode\":\"markers\",\"name\":\"Africa\",\"orientation\":\"v\",\"showlegend\":true,\"x\":[4.291999817,4.190000057,3.970000029,3.644000053,5.525000095,3.532999992,5.629000187,4.552999973,4.534999847,3.470999956,5.073999882,4.027999878,5.235000134,4.709000111,4.695000172,2.904999971,4.032000065,3.766000032,3.936000109,3.657000065,5.872000217,4.119999886,4.465000153,4.460000038,4.735000134,4.513999939,3.494999886,3.875,4.080999851,4.804999828,4.828999996,3.348999977],\"xaxis\":\"x\",\"y\":[3160.0,1990.0,990.0,1500.0,12740.0,1180.0,20860.0,3330.0,2910.0,1710.0,5280.0,840.0,7670.0,1570.0,3210.0,840.0,1460.0,15310.0,1760.0,2860.0,11700.0,5050.0,13480.0,1650.0,11160.0,3370.0,1440.0,2410.0,1750.0,9890.0,12240.0,2740.0],\"yaxis\":\"y\",\"type\":\"scatter\"},{\"customdata\":[[\"Malta\"],[\"Luxembourg\"],[\"Lithuania\"],[\"Latvia\"],[\"Italy\"],[\"Ireland\"],[\"Moldova\"],[\"Serbia\"],[\"Russia\"],[\"Romania\"],[\"Portugal\"],[\"Poland\"],[\"Norway\"],[\"Netherlands\"],[\"Montenegro\"],[\"Iceland\"],[\"Bulgaria\"],[\"Bosnia and Herzegovina\"],[\"Belarus\"],[\"Austria\"],[\"Albania\"],[\"Belgium\"],[\"Hungary\"],[\"Greece\"],[\"Germany\"],[\"France\"],[\"Finland\"],[\"Estonia\"],[\"Denmark\"],[\"Croatia\"],[\"Ukraine\"],[\"Sweden\"],[\"Slovenia\"],[\"United Kingdom\"],[\"Spain\"],[\"Switzerland\"],[\"Slovakia\"]],\"hovertemplate\":\"\\u003cb\\u003e%{hovertext}\\u003c\\u002fb\\u003e\\u003cbr\\u003e\\u003cbr\\u003econtinent=Europe\\u003cbr\\u003eYear=2015\\u003cbr\\u003ehappiness_score=%{x}\\u003cbr\\u003eGNI_per_capita_PPP=%{y}\\u003cbr\\u003eCountry=%{customdata[0]}\\u003cextra\\u003e\\u003c\\u002fextra\\u003e\",\"hovertext\":[\"Malta\",\"Luxembourg\",\"Lithuania\",\"Latvia\",\"Italy\",\"Ireland\",\"Moldova\",\"Serbia\",\"Russia\",\"Romania\",\"Portugal\",\"Poland\",\"Norway\",\"Netherlands\",\"Montenegro\",\"Iceland\",\"Bulgaria\",\"Bosnia and Herzegovina\",\"Belarus\",\"Austria\",\"Albania\",\"Belgium\",\"Hungary\",\"Greece\",\"Germany\",\"France\",\"Finland\",\"Estonia\",\"Denmark\",\"Croatia\",\"Ukraine\",\"Sweden\",\"Slovenia\",\"United Kingdom\",\"Spain\",\"Switzerland\",\"Slovakia\"],\"ids\":[\"Malta\",\"Luxembourg\",\"Lithuania\",\"Latvia\",\"Italy\",\"Ireland\",\"Moldova\",\"Serbia\",\"Russia\",\"Romania\",\"Portugal\",\"Poland\",\"Norway\",\"Netherlands\",\"Montenegro\",\"Iceland\",\"Bulgaria\",\"Bosnia and Herzegovina\",\"Belarus\",\"Austria\",\"Albania\",\"Belgium\",\"Hungary\",\"Greece\",\"Germany\",\"France\",\"Finland\",\"Estonia\",\"Denmark\",\"Croatia\",\"Ukraine\",\"Sweden\",\"Slovenia\",\"United Kingdom\",\"Spain\",\"Switzerland\",\"Slovakia\"],\"legendgroup\":\"Europe\",\"marker\":{\"color\":\"#E3C97F\",\"symbol\":\"circle\"},\"mode\":\"markers\",\"name\":\"Europe\",\"orientation\":\"v\",\"showlegend\":true,\"x\":[6.52699995,6.862999916,5.90199995,5.849999905,5.964000225,6.977000237,5.837999821,5.394999981,5.962999821,5.824999809,5.195000172,5.97300005,7.537000179,7.376999855,5.236999989,7.504000187,4.714000225,5.18200016,5.568999767,7.006000042,4.644000053,6.890999794,5.323999882,5.227000237,6.951000214,6.441999912,7.468999863,5.611000061,7.521999836,5.293000221,4.096000195,7.28399992,5.757999897,6.714000225,6.402999878,7.493999958,6.09800005],\"xaxis\":\"x\",\"y\":[34280.0,67590.0,27780.0,24690.0,36650.0,52990.0,11290.0,14230.0,23420.0,21130.0,28870.0,25880.0,63030.0,50340.0,16700.0,46480.0,17820.0,12100.0,19260.0,49390.0,11800.0,46870.0,25460.0,26940.0,48770.0,41740.0,42950.0,28570.0,50560.0,22870.0,7880.0,49420.0,30660.0,41550.0,34900.0,65450.0,28950.0],\"yaxis\":\"y\",\"type\":\"scatter\"},{\"customdata\":[[\"Jamaica\"],[\"Peru\"],[\"Paraguay\"],[\"Panama\"],[\"Nicaragua\"],[\"Brazil\"],[\"Bolivia\"],[\"Argentina\"],[\"Chile\"],[\"Honduras\"],[\"Haiti\"],[\"Guinea\"],[\"Guatemala\"],[\"El Salvador\"],[\"Ecuador\"],[\"Dominican Republic\"],[\"Costa Rica\"],[\"Colombia\"],[\"Venezuela\"],[\"Uruguay\"]],\"hovertemplate\":\"\\u003cb\\u003e%{hovertext}\\u003c\\u002fb\\u003e\\u003cbr\\u003e\\u003cbr\\u003econtinent=South America\\u003cbr\\u003eYear=2015\\u003cbr\\u003ehappiness_score=%{x}\\u003cbr\\u003eGNI_per_capita_PPP=%{y}\\u003cbr\\u003eCountry=%{customdata[0]}\\u003cextra\\u003e\\u003c\\u002fextra\\u003e\",\"hovertext\":[\"Jamaica\",\"Peru\",\"Paraguay\",\"Panama\",\"Nicaragua\",\"Brazil\",\"Bolivia\",\"Argentina\",\"Chile\",\"Honduras\",\"Haiti\",\"Guinea\",\"Guatemala\",\"El Salvador\",\"Ecuador\",\"Dominican Republic\",\"Costa Rica\",\"Colombia\",\"Venezuela\",\"Uruguay\"],\"ids\":[\"Jamaica\",\"Peru\",\"Paraguay\",\"Panama\",\"Nicaragua\",\"Brazil\",\"Bolivia\",\"Argentina\",\"Chile\",\"Honduras\",\"Haiti\",\"Guinea\",\"Guatemala\",\"El Salvador\",\"Ecuador\",\"Dominican Republic\",\"Costa Rica\",\"Colombia\",\"Venezuela\",\"Uruguay\"],\"legendgroup\":\"South America\",\"marker\":{\"color\":\"#E8EAC8\",\"symbol\":\"circle\"},\"mode\":\"markers\",\"name\":\"South America\",\"orientation\":\"v\",\"showlegend\":true,\"x\":[5.31099987,5.715000153,5.493000031,6.452000141,6.071000099,6.635000229,5.822999954,6.598999977,6.65199995,5.181000233,3.602999926,3.506999969,6.453999996,6.002999783,6.007999897,5.230000019,7.078999996,6.356999874,5.25,6.453999996],\"xaxis\":\"x\",\"y\":[8520.0,11180.0,11040.0,22810.0,5150.0,14470.0,6890.0,19650.0,22010.0,4490.0,1710.0,1790.0,7830.0,7240.0,10870.0,14130.0,16310.0,13700.0,null,19310.0],\"yaxis\":\"y\",\"type\":\"scatter\"},{\"customdata\":[[\"Mexico\"],[\"Canada\"],[\"United States\"]],\"hovertemplate\":\"\\u003cb\\u003e%{hovertext}\\u003c\\u002fb\\u003e\\u003cbr\\u003e\\u003cbr\\u003econtinent=North America\\u003cbr\\u003eYear=2015\\u003cbr\\u003ehappiness_score=%{x}\\u003cbr\\u003eGNI_per_capita_PPP=%{y}\\u003cbr\\u003eCountry=%{customdata[0]}\\u003cextra\\u003e\\u003c\\u002fextra\\u003e\",\"hovertext\":[\"Mexico\",\"Canada\",\"United States\"],\"ids\":[\"Mexico\",\"Canada\",\"United States\"],\"legendgroup\":\"North America\",\"marker\":{\"color\":\"#B47FE3\",\"symbol\":\"circle\"},\"mode\":\"markers\",\"name\":\"North America\",\"orientation\":\"v\",\"showlegend\":true,\"x\":[6.578000069,7.315999985,6.993000031],\"xaxis\":\"x\",\"y\":[17830.0,43990.0,58340.0],\"yaxis\":\"y\",\"type\":\"scatter\"},{\"customdata\":[[\"New Zealand\"],[\"Australia\"]],\"hovertemplate\":\"\\u003cb\\u003e%{hovertext}\\u003c\\u002fb\\u003e\\u003cbr\\u003e\\u003cbr\\u003econtinent=Australia\\u003cbr\\u003eYear=2015\\u003cbr\\u003ehappiness_score=%{x}\\u003cbr\\u003eGNI_per_capita_PPP=%{y}\\u003cbr\\u003eCountry=%{customdata[0]}\\u003cextra\\u003e\\u003c\\u002fextra\\u003e\",\"hovertext\":[\"New Zealand\",\"Australia\"],\"ids\":[\"New Zealand\",\"Australia\"],\"legendgroup\":\"Australia\",\"marker\":{\"color\":\"#B2E4FA\",\"symbol\":\"circle\"},\"mode\":\"markers\",\"name\":\"Australia\",\"orientation\":\"v\",\"showlegend\":true,\"x\":[7.31400013,7.28399992],\"xaxis\":\"x\",\"y\":[36210.0,45330.0],\"yaxis\":\"y\",\"type\":\"scatter\"}],\"name\":\"2015\"},{\"data\":[{\"customdata\":[[\"Vietnam\"],[\"Kazakhstan\"],[\"Jordan\"],[\"Japan\"],[\"Israel\"],[\"Kuwait\"],[\"Singapore\"],[\"Kyrgyzstan\"],[\"Tajikistan\"],[\"Malaysia\"],[\"Thailand\"],[\"Lebanon\"],[\"China\"],[\"Afghanistan\"],[\"Iraq\"],[\"United Arab Emirates\"],[\"Uzbekistan\"],[\"Cyprus\"],[\"China\"],[\"Cambodia\"],[\"Turkey\"],[\"Iran\"],[\"Indonesia\"],[\"Bangladesh\"],[\"India\"],[\"Turkmenistan\"],[\"Georgia\"],[\"Yemen\"],[\"Pakistan\"],[\"Sri Lanka\"],[\"Nepal\"],[\"Azerbaijan\"],[\"Armenia\"],[\"Saudi Arabia\"],[\"Myanmar\"],[\"Philippines\"],[\"Mongolia\"],[\"Bahrain\"]],\"hovertemplate\":\"\\u003cb\\u003e%{hovertext}\\u003c\\u002fb\\u003e\\u003cbr\\u003e\\u003cbr\\u003econtinent=Asia\\u003cbr\\u003eYear=2016\\u003cbr\\u003ehappiness_score=%{x}\\u003cbr\\u003eGNI_per_capita_PPP=%{y}\\u003cbr\\u003eCountry=%{customdata[0]}\\u003cextra\\u003e\\u003c\\u002fextra\\u003e\",\"hovertext\":[\"Vietnam\",\"Kazakhstan\",\"Jordan\",\"Japan\",\"Israel\",\"Kuwait\",\"Singapore\",\"Kyrgyzstan\",\"Tajikistan\",\"Malaysia\",\"Thailand\",\"Lebanon\",\"China\",\"Afghanistan\",\"Iraq\",\"United Arab Emirates\",\"Uzbekistan\",\"Cyprus\",\"China\",\"Cambodia\",\"Turkey\",\"Iran\",\"Indonesia\",\"Bangladesh\",\"India\",\"Turkmenistan\",\"Georgia\",\"Yemen\",\"Pakistan\",\"Sri Lanka\",\"Nepal\",\"Azerbaijan\",\"Armenia\",\"Saudi Arabia\",\"Myanmar\",\"Philippines\",\"Mongolia\",\"Bahrain\"],\"ids\":[\"Vietnam\",\"Kazakhstan\",\"Jordan\",\"Japan\",\"Israel\",\"Kuwait\",\"Singapore\",\"Kyrgyzstan\",\"Tajikistan\",\"Malaysia\",\"Thailand\",\"Lebanon\",\"China\",\"Afghanistan\",\"Iraq\",\"United Arab Emirates\",\"Uzbekistan\",\"Cyprus\",\"China\",\"Cambodia\",\"Turkey\",\"Iran\",\"Indonesia\",\"Bangladesh\",\"India\",\"Turkmenistan\",\"Georgia\",\"Yemen\",\"Pakistan\",\"Sri Lanka\",\"Nepal\",\"Azerbaijan\",\"Armenia\",\"Saudi Arabia\",\"Myanmar\",\"Philippines\",\"Mongolia\",\"Bahrain\"],\"legendgroup\":\"Asia\",\"marker\":{\"color\":\"#FAA598\",\"symbol\":\"circle\"},\"mode\":\"markers\",\"name\":\"Asia\",\"orientation\":\"v\",\"showlegend\":true,\"x\":[5.36,5.855,5.192,5.987,7.278,6.295,6.798,5.286,4.786,5.77,6.455,4.839,5.14,3.575,4.677,6.901,6.003,5.689,5.14,3.819,5.332,4.686,5.399,4.694,4.565,5.548,4.297,4.077,5.194,4.271,4.514,5.212,4.35,6.411,4.307,5.073,4.874,5.96],\"xaxis\":\"x\",\"y\":[6300.0,24280.0,9120.0,41350.0,37500.0,51550.0,83020.0,5020.0,3900.0,24840.0,15800.0,15250.0,58670.0,2140.0,9720.0,63670.0,6530.0,33000.0,13400.0,3450.0,26050.0,13650.0,10160.0,4070.0,5760.0,13500.0,11760.0,null,4680.0,11900.0,2620.0,14920.0,13160.0,46110.0,4220.0,8870.0,9860.0,41860.0],\"yaxis\":\"y\",\"type\":\"scatter\"},{\"customdata\":[[\"Kenya\"],[\"Togo\"],[\"Botswana\"],[\"Tunisia\"],[\"Mauritania\"],[\"Mali\"],[\"Malawi\"],[\"Madagascar\"],[\"Tanzania\"],[\"Libya\"],[\"Benin\"],[\"Liberia\"],[\"Cameroon\"],[\"Ethiopia\"],[\"Egypt\"],[\"Chad\"],[\"Gabon\"],[\"Burkina Faso\"],[\"Uganda\"],[\"Burundi\"],[\"Ghana\"],[\"Mauritius\"],[\"Nigeria\"],[\"Niger\"],[\"Zambia\"],[\"South Africa\"],[\"Sierra Leone\"],[\"Senegal\"],[\"Zimbabwe\"],[\"Rwanda\"],[\"Algeria\"],[\"Morocco\"]],\"hovertemplate\":\"\\u003cb\\u003e%{hovertext}\\u003c\\u002fb\\u003e\\u003cbr\\u003e\\u003cbr\\u003econtinent=Africa\\u003cbr\\u003eYear=2016\\u003cbr\\u003ehappiness_score=%{x}\\u003cbr\\u003eGNI_per_capita_PPP=%{y}\\u003cbr\\u003eCountry=%{customdata[0]}\\u003cextra\\u003e\\u003c\\u002fextra\\u003e\",\"hovertext\":[\"Kenya\",\"Togo\",\"Botswana\",\"Tunisia\",\"Mauritania\",\"Mali\",\"Malawi\",\"Madagascar\",\"Tanzania\",\"Libya\",\"Benin\",\"Liberia\",\"Cameroon\",\"Ethiopia\",\"Egypt\",\"Chad\",\"Gabon\",\"Burkina Faso\",\"Uganda\",\"Burundi\",\"Ghana\",\"Mauritius\",\"Nigeria\",\"Niger\",\"Zambia\",\"South Africa\",\"Sierra Leone\",\"Senegal\",\"Zimbabwe\",\"Rwanda\",\"Algeria\",\"Morocco\"],\"ids\":[\"Kenya\",\"Togo\",\"Botswana\",\"Tunisia\",\"Mauritania\",\"Mali\",\"Malawi\",\"Madagascar\",\"Tanzania\",\"Libya\",\"Benin\",\"Liberia\",\"Cameroon\",\"Ethiopia\",\"Egypt\",\"Chad\",\"Gabon\",\"Burkina Faso\",\"Uganda\",\"Burundi\",\"Ghana\",\"Mauritius\",\"Nigeria\",\"Niger\",\"Zambia\",\"South Africa\",\"Sierra Leone\",\"Senegal\",\"Zimbabwe\",\"Rwanda\",\"Algeria\",\"Morocco\"],\"legendgroup\":\"Africa\",\"marker\":{\"color\":\"#AEFD8E\",\"symbol\":\"circle\"},\"mode\":\"markers\",\"name\":\"Africa\",\"orientation\":\"v\",\"showlegend\":true,\"x\":[4.419,2.839,4.332,4.739,4.436,3.995,4.292,3.681,3.781,5.754,3.34,4.571,4.252,4.512,4.194,3.667,3.896,3.587,3.931,2.905,4.633,5.477,5.268,3.845,5.129,4.642,4.507,3.904,4.61,3.465,5.605,5.013],\"xaxis\":\"x\",\"y\":[3620.0,1470.0,16600.0,10070.0,3350.0,2130.0,1020.0,1550.0,2860.0,11430.0,2980.0,1260.0,3350.0,1870.0,10850.0,1630.0,13180.0,1550.0,1690.0,800.0,4800.0,22390.0,5120.0,820.0,3330.0,12240.0,1420.0,3000.0,2570.0,1790.0,11520.0,7730.0],\"yaxis\":\"y\",\"type\":\"scatter\"},{\"customdata\":[[\"Italy\"],[\"Bosnia and Herzegovina\"],[\"Malta\"],[\"Belarus\"],[\"Belgium\"],[\"Luxembourg\"],[\"Lithuania\"],[\"Ireland\"],[\"Estonia\"],[\"United Kingdom\"],[\"Finland\"],[\"Denmark\"],[\"Croatia\"],[\"France\"],[\"Bulgaria\"],[\"Iceland\"],[\"Hungary\"],[\"Greece\"],[\"Germany\"],[\"Ukraine\"],[\"Latvia\"],[\"Spain\"],[\"Norway\"],[\"Austria\"],[\"Netherlands\"],[\"Serbia\"],[\"Slovakia\"],[\"Albania\"],[\"Russia\"],[\"Slovenia\"],[\"Romania\"],[\"Portugal\"],[\"Poland\"],[\"Sweden\"],[\"Switzerland\"],[\"Moldova\"],[\"Montenegro\"]],\"hovertemplate\":\"\\u003cb\\u003e%{hovertext}\\u003c\\u002fb\\u003e\\u003cbr\\u003e\\u003cbr\\u003econtinent=Europe\\u003cbr\\u003eYear=2016\\u003cbr\\u003ehappiness_score=%{x}\\u003cbr\\u003eGNI_per_capita_PPP=%{y}\\u003cbr\\u003eCountry=%{customdata[0]}\\u003cextra\\u003e\\u003c\\u002fextra\\u003e\",\"hovertext\":[\"Italy\",\"Bosnia and Herzegovina\",\"Malta\",\"Belarus\",\"Belgium\",\"Luxembourg\",\"Lithuania\",\"Ireland\",\"Estonia\",\"United Kingdom\",\"Finland\",\"Denmark\",\"Croatia\",\"France\",\"Bulgaria\",\"Iceland\",\"Hungary\",\"Greece\",\"Germany\",\"Ukraine\",\"Latvia\",\"Spain\",\"Norway\",\"Austria\",\"Netherlands\",\"Serbia\",\"Slovakia\",\"Albania\",\"Russia\",\"Slovenia\",\"Romania\",\"Portugal\",\"Poland\",\"Sweden\",\"Switzerland\",\"Moldova\",\"Montenegro\"],\"ids\":[\"Italy\",\"Bosnia and Herzegovina\",\"Malta\",\"Belarus\",\"Belgium\",\"Luxembourg\",\"Lithuania\",\"Ireland\",\"Estonia\",\"United Kingdom\",\"Finland\",\"Denmark\",\"Croatia\",\"France\",\"Bulgaria\",\"Iceland\",\"Hungary\",\"Greece\",\"Germany\",\"Ukraine\",\"Latvia\",\"Spain\",\"Norway\",\"Austria\",\"Netherlands\",\"Serbia\",\"Slovakia\",\"Albania\",\"Russia\",\"Slovenia\",\"Romania\",\"Portugal\",\"Poland\",\"Sweden\",\"Switzerland\",\"Moldova\",\"Montenegro\"],\"legendgroup\":\"Europe\",\"marker\":{\"color\":\"#E3C97F\",\"symbol\":\"circle\"},\"mode\":\"markers\",\"name\":\"Europe\",\"orientation\":\"v\",\"showlegend\":true,\"x\":[5.948,4.949,6.302,5.813,6.937,6.946,5.833,6.94,5.429,6.867,7.406,7.527,5.759,6.575,4.218,7.561,4.8,4.857,6.75,4.681,5.098,6.329,7.522,7.2,7.378,5.123,5.995,4.959,5.716,5.848,5.124,5.102,5.791,7.364,7.587,5.889,5.192],\"xaxis\":\"x\",\"y\":[40030.0,13090.0,35720.0,19280.0,49090.0,70450.0,29790.0,59070.0,30510.0,43100.0,45150.0,53110.0,24130.0,43830.0,19760.0,50990.0,26990.0,27820.0,51810.0,8210.0,26340.0,37370.0,61840.0,52630.0,51510.0,14960.0,29160.0,12270.0,23570.0,33010.0,23680.0,30840.0,27170.0,50780.0,66080.0,13060.0,18360.0],\"yaxis\":\"y\",\"type\":\"scatter\"},{\"customdata\":[[\"Jamaica\"],[\"Bolivia\"],[\"Venezuela\"],[\"El Salvador\"],[\"Ecuador\"],[\"Chile\"],[\"Costa Rica\"],[\"Colombia\"],[\"Dominican Republic\"],[\"Honduras\"],[\"Haiti\"],[\"Guinea\"],[\"Guatemala\"],[\"Brazil\"],[\"Panama\"],[\"Nicaragua\"],[\"Paraguay\"],[\"Peru\"],[\"Argentina\"],[\"Uruguay\"]],\"hovertemplate\":\"\\u003cb\\u003e%{hovertext}\\u003c\\u002fb\\u003e\\u003cbr\\u003e\\u003cbr\\u003econtinent=South America\\u003cbr\\u003eYear=2016\\u003cbr\\u003ehappiness_score=%{x}\\u003cbr\\u003eGNI_per_capita_PPP=%{y}\\u003cbr\\u003eCountry=%{customdata[0]}\\u003cextra\\u003e\\u003c\\u002fextra\\u003e\",\"hovertext\":[\"Jamaica\",\"Bolivia\",\"Venezuela\",\"El Salvador\",\"Ecuador\",\"Chile\",\"Costa Rica\",\"Colombia\",\"Dominican Republic\",\"Honduras\",\"Haiti\",\"Guinea\",\"Guatemala\",\"Brazil\",\"Panama\",\"Nicaragua\",\"Paraguay\",\"Peru\",\"Argentina\",\"Uruguay\"],\"ids\":[\"Jamaica\",\"Bolivia\",\"Venezuela\",\"El Salvador\",\"Ecuador\",\"Chile\",\"Costa Rica\",\"Colombia\",\"Dominican Republic\",\"Honduras\",\"Haiti\",\"Guinea\",\"Guatemala\",\"Brazil\",\"Panama\",\"Nicaragua\",\"Paraguay\",\"Peru\",\"Argentina\",\"Uruguay\"],\"legendgroup\":\"South America\",\"marker\":{\"color\":\"#E8EAC8\",\"symbol\":\"circle\"},\"mode\":\"markers\",\"name\":\"South America\",\"orientation\":\"v\",\"showlegend\":true,\"x\":[5.709,5.89,6.81,6.13,5.975,6.67,7.226,6.477,4.885,4.788,4.518,3.656,6.123,6.983,6.786,5.828,5.878,5.824,6.574,6.485],\"xaxis\":\"x\",\"y\":[8800.0,7360.0,null,7620.0,10830.0,22080.0,17230.0,13800.0,15420.0,4790.0,1770.0,2050.0,7910.0,13950.0,25080.0,5540.0,11540.0,11510.0,19710.0,19650.0],\"yaxis\":\"y\",\"type\":\"scatter\"},{\"customdata\":[[\"Canada\"],[\"United States\"],[\"Mexico\"]],\"hovertemplate\":\"\\u003cb\\u003e%{hovertext}\\u003c\\u002fb\\u003e\\u003cbr\\u003e\\u003cbr\\u003econtinent=North America\\u003cbr\\u003eYear=2016\\u003cbr\\u003ehappiness_score=%{x}\\u003cbr\\u003eGNI_per_capita_PPP=%{y}\\u003cbr\\u003eCountry=%{customdata[0]}\\u003cextra\\u003e\\u003c\\u002fextra\\u003e\",\"hovertext\":[\"Canada\",\"United States\",\"Mexico\"],\"ids\":[\"Canada\",\"United States\",\"Mexico\"],\"legendgroup\":\"North America\",\"marker\":{\"color\":\"#B47FE3\",\"symbol\":\"circle\"},\"mode\":\"markers\",\"name\":\"North America\",\"orientation\":\"v\",\"showlegend\":true,\"x\":[7.427,7.119,7.187],\"xaxis\":\"x\",\"y\":[45910.0,58970.0,18810.0],\"yaxis\":\"y\",\"type\":\"scatter\"},{\"customdata\":[[\"Australia\"],[\"New Zealand\"]],\"hovertemplate\":\"\\u003cb\\u003e%{hovertext}\\u003c\\u002fb\\u003e\\u003cbr\\u003e\\u003cbr\\u003econtinent=Australia\\u003cbr\\u003eYear=2016\\u003cbr\\u003ehappiness_score=%{x}\\u003cbr\\u003eGNI_per_capita_PPP=%{y}\\u003cbr\\u003eCountry=%{customdata[0]}\\u003cextra\\u003e\\u003c\\u002fextra\\u003e\",\"hovertext\":[\"Australia\",\"New Zealand\"],\"ids\":[\"Australia\",\"New Zealand\"],\"legendgroup\":\"Australia\",\"marker\":{\"color\":\"#B2E4FA\",\"symbol\":\"circle\"},\"mode\":\"markers\",\"name\":\"Australia\",\"orientation\":\"v\",\"showlegend\":true,\"x\":[7.284,7.286],\"xaxis\":\"x\",\"y\":[46230.0,38630.0],\"yaxis\":\"y\",\"type\":\"scatter\"}],\"name\":\"2016\"},{\"data\":[{\"customdata\":[[\"Tajikistan\"],[\"Georgia\"],[\"Uzbekistan\"],[\"Cambodia\"],[\"Azerbaijan\"],[\"Bahrain\"],[\"Philippines\"],[\"Malaysia\"],[\"United Arab Emirates\"],[\"Bangladesh\"],[\"China\"],[\"China\"],[\"Afghanistan\"],[\"Cyprus\"],[\"Yemen\"],[\"Saudi Arabia\"],[\"Jordan\"],[\"Japan\"],[\"Israel\"],[\"Kazakhstan\"],[\"Sri Lanka\"],[\"Lebanon\"],[\"Myanmar\"],[\"Thailand\"],[\"Vietnam\"],[\"Kyrgyzstan\"],[\"Nepal\"],[\"Kuwait\"],[\"Turkmenistan\"],[\"Armenia\"],[\"Mongolia\"],[\"India\"],[\"Indonesia\"],[\"Singapore\"],[\"Turkey\"],[\"Iran\"],[\"Pakistan\"],[\"Iraq\"]],\"hovertemplate\":\"\\u003cb\\u003e%{hovertext}\\u003c\\u002fb\\u003e\\u003cbr\\u003e\\u003cbr\\u003econtinent=Asia\\u003cbr\\u003eYear=2017\\u003cbr\\u003ehappiness_score=%{x}\\u003cbr\\u003eGNI_per_capita_PPP=%{y}\\u003cbr\\u003eCountry=%{customdata[0]}\\u003cextra\\u003e\\u003c\\u002fextra\\u003e\",\"hovertext\":[\"Tajikistan\",\"Georgia\",\"Uzbekistan\",\"Cambodia\",\"Azerbaijan\",\"Bahrain\",\"Philippines\",\"Malaysia\",\"United Arab Emirates\",\"Bangladesh\",\"China\",\"China\",\"Afghanistan\",\"Cyprus\",\"Yemen\",\"Saudi Arabia\",\"Jordan\",\"Japan\",\"Israel\",\"Kazakhstan\",\"Sri Lanka\",\"Lebanon\",\"Myanmar\",\"Thailand\",\"Vietnam\",\"Kyrgyzstan\",\"Nepal\",\"Kuwait\",\"Turkmenistan\",\"Armenia\",\"Mongolia\",\"India\",\"Indonesia\",\"Singapore\",\"Turkey\",\"Iran\",\"Pakistan\",\"Iraq\"],\"ids\":[\"Tajikistan\",\"Georgia\",\"Uzbekistan\",\"Cambodia\",\"Azerbaijan\",\"Bahrain\",\"Philippines\",\"Malaysia\",\"United Arab Emirates\",\"Bangladesh\",\"China\",\"China\",\"Afghanistan\",\"Cyprus\",\"Yemen\",\"Saudi Arabia\",\"Jordan\",\"Japan\",\"Israel\",\"Kazakhstan\",\"Sri Lanka\",\"Lebanon\",\"Myanmar\",\"Thailand\",\"Vietnam\",\"Kyrgyzstan\",\"Nepal\",\"Kuwait\",\"Turkmenistan\",\"Armenia\",\"Mongolia\",\"India\",\"Indonesia\",\"Singapore\",\"Turkey\",\"Iran\",\"Pakistan\",\"Iraq\"],\"legendgroup\":\"Asia\",\"marker\":{\"color\":\"#FAA598\",\"symbol\":\"circle\"},\"mode\":\"markers\",\"name\":\"Asia\",\"orientation\":\"v\",\"showlegend\":true,\"x\":[5.467,4.519,6.174,4.7,5.208,6.199,5.631,5.339,6.825,4.456,5.191,5.191,3.203,6.046,3.38,6.375,4.906,5.886,7.139,5.809,4.366,5.197,4.36,6.008,5.175,5.261,4.913,6.021,5.247,4.559,5.285,4.015,5.192,6.262,5.373,4.548,5.653,4.437],\"xaxis\":\"x\",\"y\":[3560.0,12910.0,6650.0,3680.0,13510.0,44980.0,9320.0,25900.0,66290.0,4340.0,14140.0,62530.0,2210.0,35750.0,null,48040.0,9790.0,42290.0,38570.0,22160.0,12340.0,16070.0,4480.0,16610.0,6620.0,4800.0,3140.0,59260.0,13620.0,12540.0,9720.0,6120.0,10580.0,87440.0,27570.0,14560.0,4820.0,10850.0],\"yaxis\":\"y\",\"type\":\"scatter\"},{\"customdata\":[[\"Liberia\"],[\"Gabon\"],[\"Algeria\"],[\"Mali\"],[\"South Africa\"],[\"Burkina Faso\"],[\"Uganda\"],[\"Burundi\"],[\"Ghana\"],[\"Ethiopia\"],[\"Mauritania\"],[\"Zimbabwe\"],[\"Sierra Leone\"],[\"Chad\"],[\"Cameroon\"],[\"Rwanda\"],[\"Egypt\"],[\"Senegal\"],[\"Togo\"],[\"Tanzania\"],[\"Niger\"],[\"Tunisia\"],[\"Botswana\"],[\"Morocco\"],[\"Benin\"],[\"Libya\"],[\"Kenya\"],[\"Nigeria\"],[\"Malawi\"],[\"Mauritius\"],[\"Madagascar\"],[\"Zambia\"]],\"hovertemplate\":\"\\u003cb\\u003e%{hovertext}\\u003c\\u002fb\\u003e\\u003cbr\\u003e\\u003cbr\\u003econtinent=Africa\\u003cbr\\u003eYear=2017\\u003cbr\\u003ehappiness_score=%{x}\\u003cbr\\u003eGNI_per_capita_PPP=%{y}\\u003cbr\\u003eCountry=%{customdata[0]}\\u003cextra\\u003e\\u003c\\u002fextra\\u003e\",\"hovertext\":[\"Liberia\",\"Gabon\",\"Algeria\",\"Mali\",\"South Africa\",\"Burkina Faso\",\"Uganda\",\"Burundi\",\"Ghana\",\"Ethiopia\",\"Mauritania\",\"Zimbabwe\",\"Sierra Leone\",\"Chad\",\"Cameroon\",\"Rwanda\",\"Egypt\",\"Senegal\",\"Togo\",\"Tanzania\",\"Niger\",\"Tunisia\",\"Botswana\",\"Morocco\",\"Benin\",\"Libya\",\"Kenya\",\"Nigeria\",\"Malawi\",\"Mauritius\",\"Madagascar\",\"Zambia\"],\"ids\":[\"Liberia\",\"Gabon\",\"Algeria\",\"Mali\",\"South Africa\",\"Burkina Faso\",\"Uganda\",\"Burundi\",\"Ghana\",\"Ethiopia\",\"Mauritania\",\"Zimbabwe\",\"Sierra Leone\",\"Chad\",\"Cameroon\",\"Rwanda\",\"Egypt\",\"Senegal\",\"Togo\",\"Tanzania\",\"Niger\",\"Tunisia\",\"Botswana\",\"Morocco\",\"Benin\",\"Libya\",\"Kenya\",\"Nigeria\",\"Malawi\",\"Mauritius\",\"Madagascar\",\"Zambia\"],\"legendgroup\":\"Africa\",\"marker\":{\"color\":\"#AEFD8E\",\"symbol\":\"circle\"},\"mode\":\"markers\",\"name\":\"Africa\",\"orientation\":\"v\",\"showlegend\":true,\"x\":[3.975,4.799,5.211,4.39,4.722,4.587,4.189,3.775,4.996,4.286,4.49,3.663,4.374,4.35,5.044,3.334,4.166,4.681,4.085,3.231,4.628,4.461,3.488,5.208,4.883,5.525,4.509,5.265,3.41,5.888,3.933,4.107],\"xaxis\":\"x\",\"y\":[1380.0,14060.0,11370.0,2180.0,12320.0,1730.0,1710.0,770.0,4860.0,2010.0,3610.0,2860.0,1590.0,1570.0,3490.0,1910.0,10800.0,3140.0,1520.0,3020.0,830.0,10280.0,16680.0,8110.0,3010.0,13690.0,4000.0,5030.0,1030.0,23560.0,1540.0,3330.0],\"yaxis\":\"y\",\"type\":\"scatter\"},{\"customdata\":[[\"Ukraine\"],[\"Portugal\"],[\"France\"],[\"Slovenia\"],[\"Finland\"],[\"Romania\"],[\"Moldova\"],[\"Germany\"],[\"Belarus\"],[\"Poland\"],[\"Greece\"],[\"Croatia\"],[\"Serbia\"],[\"Switzerland\"],[\"Denmark\"],[\"Estonia\"],[\"Russia\"],[\"Malta\"],[\"United Kingdom\"],[\"Albania\"],[\"Slovakia\"],[\"Lithuania\"],[\"Belgium\"],[\"Bosnia and Herzegovina\"],[\"Italy\"],[\"Latvia\"],[\"Netherlands\"],[\"Austria\"],[\"Sweden\"],[\"Montenegro\"],[\"Luxembourg\"],[\"Hungary\"],[\"Bulgaria\"],[\"Iceland\"],[\"Ireland\"],[\"Norway\"],[\"Spain\"]],\"hovertemplate\":\"\\u003cb\\u003e%{hovertext}\\u003c\\u002fb\\u003e\\u003cbr\\u003e\\u003cbr\\u003econtinent=Europe\\u003cbr\\u003eYear=2017\\u003cbr\\u003ehappiness_score=%{x}\\u003cbr\\u003eGNI_per_capita_PPP=%{y}\\u003cbr\\u003eCountry=%{customdata[0]}\\u003cextra\\u003e\\u003c\\u002fextra\\u003e\",\"hovertext\":[\"Ukraine\",\"Portugal\",\"France\",\"Slovenia\",\"Finland\",\"Romania\",\"Moldova\",\"Germany\",\"Belarus\",\"Poland\",\"Greece\",\"Croatia\",\"Serbia\",\"Switzerland\",\"Denmark\",\"Estonia\",\"Russia\",\"Malta\",\"United Kingdom\",\"Albania\",\"Slovakia\",\"Lithuania\",\"Belgium\",\"Bosnia and Herzegovina\",\"Italy\",\"Latvia\",\"Netherlands\",\"Austria\",\"Sweden\",\"Montenegro\",\"Luxembourg\",\"Hungary\",\"Bulgaria\",\"Iceland\",\"Ireland\",\"Norway\",\"Spain\"],\"ids\":[\"Ukraine\",\"Portugal\",\"France\",\"Slovenia\",\"Finland\",\"Romania\",\"Moldova\",\"Germany\",\"Belarus\",\"Poland\",\"Greece\",\"Croatia\",\"Serbia\",\"Switzerland\",\"Denmark\",\"Estonia\",\"Russia\",\"Malta\",\"United Kingdom\",\"Albania\",\"Slovakia\",\"Lithuania\",\"Belgium\",\"Bosnia and Herzegovina\",\"Italy\",\"Latvia\",\"Netherlands\",\"Austria\",\"Sweden\",\"Montenegro\",\"Luxembourg\",\"Hungary\",\"Bulgaria\",\"Iceland\",\"Ireland\",\"Norway\",\"Spain\"],\"legendgroup\":\"Europe\",\"marker\":{\"color\":\"#E3C97F\",\"symbol\":\"circle\"},\"mode\":\"markers\",\"name\":\"Europe\",\"orientation\":\"v\",\"showlegend\":true,\"x\":[4.332,5.693,6.592,6.118,7.769,6.07,5.529,6.985,5.323,6.182,5.287,5.432,5.603,7.48,7.6,5.893,5.648,6.726,7.054,4.719,6.198,6.149,6.923,5.386,6.223,5.94,7.488,7.246,7.343,5.523,7.09,5.758,5.011,7.494,7.021,7.554,6.354],\"xaxis\":\"x\",\"y\":[8460.0,32310.0,45850.0,35990.0,47480.0,26620.0,12320.0,54370.0,17580.0,28900.0,29150.0,26310.0,15510.0,67890.0,56360.0,32930.0,25380.0,38370.0,45430.0,13130.0,30410.0,32560.0,51320.0,13790.0,42010.0,28360.0,55770.0,54150.0,53490.0,20110.0,72750.0,28340.0,21460.0,54380.0,61590.0,65730.0,39570.0],\"yaxis\":\"y\",\"type\":\"scatter\"},{\"customdata\":[[\"Peru\"],[\"Guatemala\"],[\"Argentina\"],[\"Haiti\"],[\"Costa Rica\"],[\"Chile\"],[\"Colombia\"],[\"Uruguay\"],[\"El Salvador\"],[\"Ecuador\"],[\"Dominican Republic\"],[\"Venezuela\"],[\"Guinea\"],[\"Honduras\"],[\"Nicaragua\"],[\"Jamaica\"],[\"Paraguay\"],[\"Bolivia\"],[\"Panama\"],[\"Brazil\"]],\"hovertemplate\":\"\\u003cb\\u003e%{hovertext}\\u003c\\u002fb\\u003e\\u003cbr\\u003e\\u003cbr\\u003econtinent=South America\\u003cbr\\u003eYear=2017\\u003cbr\\u003ehappiness_score=%{x}\\u003cbr\\u003eGNI_per_capita_PPP=%{y}\\u003cbr\\u003eCountry=%{customdata[0]}\\u003cextra\\u003e\\u003c\\u002fextra\\u003e\",\"hovertext\":[\"Peru\",\"Guatemala\",\"Argentina\",\"Haiti\",\"Costa Rica\",\"Chile\",\"Colombia\",\"Uruguay\",\"El Salvador\",\"Ecuador\",\"Dominican Republic\",\"Venezuela\",\"Guinea\",\"Honduras\",\"Nicaragua\",\"Jamaica\",\"Paraguay\",\"Bolivia\",\"Panama\",\"Brazil\"],\"ids\":[\"Peru\",\"Guatemala\",\"Argentina\",\"Haiti\",\"Costa Rica\",\"Chile\",\"Colombia\",\"Uruguay\",\"El Salvador\",\"Ecuador\",\"Dominican Republic\",\"Venezuela\",\"Guinea\",\"Honduras\",\"Nicaragua\",\"Jamaica\",\"Paraguay\",\"Bolivia\",\"Panama\",\"Brazil\"],\"legendgroup\":\"South America\",\"marker\":{\"color\":\"#E8EAC8\",\"symbol\":\"circle\"},\"mode\":\"markers\",\"name\":\"South America\",\"orientation\":\"v\",\"showlegend\":true,\"x\":[5.697,6.436,6.086,3.597,7.167,6.444,6.125,6.293,6.253,6.028,5.425,4.707,4.534,5.86,6.105,5.89,5.743,5.779,6.321,6.3],\"xaxis\":\"x\",\"y\":[11930.0,8200.0,22960.0,1770.0,18040.0,22750.0,14050.0,20060.0,7970.0,11350.0,15940.0,null,2410.0,5220.0,5850.0,9320.0,12210.0,8190.0,27640.0,14250.0],\"yaxis\":\"y\",\"type\":\"scatter\"},{\"customdata\":[[\"United States\"],[\"Canada\"],[\"Mexico\"]],\"hovertemplate\":\"\\u003cb\\u003e%{hovertext}\\u003c\\u002fb\\u003e\\u003cbr\\u003e\\u003cbr\\u003econtinent=North America\\u003cbr\\u003eYear=2017\\u003cbr\\u003ehappiness_score=%{x}\\u003cbr\\u003eGNI_per_capita_PPP=%{y}\\u003cbr\\u003eCountry=%{customdata[0]}\\u003cextra\\u003e\\u003c\\u002fextra\\u003e\",\"hovertext\":[\"United States\",\"Canada\",\"Mexico\"],\"ids\":[\"United States\",\"Canada\",\"Mexico\"],\"legendgroup\":\"North America\",\"marker\":{\"color\":\"#B47FE3\",\"symbol\":\"circle\"},\"mode\":\"markers\",\"name\":\"North America\",\"orientation\":\"v\",\"showlegend\":true,\"x\":[6.892,7.278,6.595],\"xaxis\":\"x\",\"y\":[61020.0,48070.0,19300.0],\"yaxis\":\"y\",\"type\":\"scatter\"},{\"customdata\":[[\"Australia\"],[\"New Zealand\"]],\"hovertemplate\":\"\\u003cb\\u003e%{hovertext}\\u003c\\u002fb\\u003e\\u003cbr\\u003e\\u003cbr\\u003econtinent=Australia\\u003cbr\\u003eYear=2017\\u003cbr\\u003ehappiness_score=%{x}\\u003cbr\\u003eGNI_per_capita_PPP=%{y}\\u003cbr\\u003eCountry=%{customdata[0]}\\u003cextra\\u003e\\u003c\\u002fextra\\u003e\",\"hovertext\":[\"Australia\",\"New Zealand\"],\"ids\":[\"Australia\",\"New Zealand\"],\"legendgroup\":\"Australia\",\"marker\":{\"color\":\"#B2E4FA\",\"symbol\":\"circle\"},\"mode\":\"markers\",\"name\":\"Australia\",\"orientation\":\"v\",\"showlegend\":true,\"x\":[7.228,7.307],\"xaxis\":\"x\",\"y\":[47580.0,39330.0],\"yaxis\":\"y\",\"type\":\"scatter\"}],\"name\":\"2017\"},{\"data\":[{\"customdata\":[[\"Vietnam\"],[\"Cambodia\"],[\"Afghanistan\"],[\"Azerbaijan\"],[\"Bahrain\"],[\"Uzbekistan\"],[\"Bangladesh\"],[\"Yemen\"],[\"Armenia\"],[\"Indonesia\"],[\"China\"],[\"Sri Lanka\"],[\"Nepal\"],[\"Myanmar\"],[\"Mongolia\"],[\"Malaysia\"],[\"Tajikistan\"],[\"Singapore\"],[\"Saudi Arabia\"],[\"Philippines\"],[\"Pakistan\"],[\"Lebanon\"],[\"Georgia\"],[\"United Arab Emirates\"],[\"Cyprus\"],[\"Kyrgyzstan\"],[\"Thailand\"],[\"Kuwait\"],[\"Kazakhstan\"],[\"Jordan\"],[\"Japan\"],[\"China\"],[\"Israel\"],[\"Iraq\"],[\"Iran\"],[\"Turkey\"],[\"India\"],[\"Turkmenistan\"]],\"hovertemplate\":\"\\u003cb\\u003e%{hovertext}\\u003c\\u002fb\\u003e\\u003cbr\\u003e\\u003cbr\\u003econtinent=Asia\\u003cbr\\u003eYear=2018\\u003cbr\\u003ehappiness_score=%{x}\\u003cbr\\u003eGNI_per_capita_PPP=%{y}\\u003cbr\\u003eCountry=%{customdata[0]}\\u003cextra\\u003e\\u003c\\u002fextra\\u003e\",\"hovertext\":[\"Vietnam\",\"Cambodia\",\"Afghanistan\",\"Azerbaijan\",\"Bahrain\",\"Uzbekistan\",\"Bangladesh\",\"Yemen\",\"Armenia\",\"Indonesia\",\"China\",\"Sri Lanka\",\"Nepal\",\"Myanmar\",\"Mongolia\",\"Malaysia\",\"Tajikistan\",\"Singapore\",\"Saudi Arabia\",\"Philippines\",\"Pakistan\",\"Lebanon\",\"Georgia\",\"United Arab Emirates\",\"Cyprus\",\"Kyrgyzstan\",\"Thailand\",\"Kuwait\",\"Kazakhstan\",\"Jordan\",\"Japan\",\"China\",\"Israel\",\"Iraq\",\"Iran\",\"Turkey\",\"India\",\"Turkmenistan\"],\"ids\":[\"Vietnam\",\"Cambodia\",\"Afghanistan\",\"Azerbaijan\",\"Bahrain\",\"Uzbekistan\",\"Bangladesh\",\"Yemen\",\"Armenia\",\"Indonesia\",\"China\",\"Sri Lanka\",\"Nepal\",\"Myanmar\",\"Mongolia\",\"Malaysia\",\"Tajikistan\",\"Singapore\",\"Saudi Arabia\",\"Philippines\",\"Pakistan\",\"Lebanon\",\"Georgia\",\"United Arab Emirates\",\"Cyprus\",\"Kyrgyzstan\",\"Thailand\",\"Kuwait\",\"Kazakhstan\",\"Jordan\",\"Japan\",\"China\",\"Israel\",\"Iraq\",\"Iran\",\"Turkey\",\"India\",\"Turkmenistan\"],\"legendgroup\":\"Asia\",\"marker\":{\"color\":\"#FAA598\",\"symbol\":\"circle\"},\"mode\":\"markers\",\"name\":\"Asia\",\"orientation\":\"v\",\"showlegend\":true,\"x\":[5.103,4.433,3.632,5.201,6.105,6.096,4.5,3.355,4.321,5.093,5.246,4.471,4.88,4.308,5.125,6.322,5.199,6.343,6.371,5.524,5.472,5.358,4.34,6.774,5.762,5.131,6.072,6.083,5.79,5.161,5.915,5.246,6.814,4.456,4.707,5.483,4.19,5.636],\"xaxis\":\"x\",\"y\":[6220.27,3597.4,1745.67,15240.14,40399.12,6461.84,4057.25,1433.3,9277.23,11255.78,60220.8,11610.91,2748.2,5763.94,10783.71,27226.68,3482.38,83792.67,49338.41,9539.7,5190.08,11136.25,9569.52,66911.66,33100.32,3316.79,16128.55,71164.22,22167.7,8267.81,40799.01,16126.57,33649.69,15364.96,18166.47,24905.38,6828.6,16407.47],\"yaxis\":\"y\",\"type\":\"scatter\"},{\"customdata\":[[\"Burkina Faso\"],[\"Algeria\"],[\"Zambia\"],[\"Benin\"],[\"Chad\"],[\"Cameroon\"],[\"Botswana\"],[\"Burundi\"],[\"Morocco\"],[\"Mauritius\"],[\"Mauritania\"],[\"Mali\"],[\"Malawi\"],[\"Madagascar\"],[\"Tanzania\"],[\"Libya\"],[\"Niger\"],[\"Sierra Leone\"],[\"Senegal\"],[\"Rwanda\"],[\"South Africa\"],[\"Nigeria\"],[\"Liberia\"],[\"Ghana\"],[\"Gabon\"],[\"Ethiopia\"],[\"Egypt\"],[\"Uganda\"],[\"Kenya\"],[\"Togo\"],[\"Tunisia\"],[\"Zimbabwe\"]],\"hovertemplate\":\"\\u003cb\\u003e%{hovertext}\\u003c\\u002fb\\u003e\\u003cbr\\u003e\\u003cbr\\u003econtinent=Africa\\u003cbr\\u003eYear=2018\\u003cbr\\u003ehappiness_score=%{x}\\u003cbr\\u003eGNI_per_capita_PPP=%{y}\\u003cbr\\u003eCountry=%{customdata[0]}\\u003cextra\\u003e\\u003c\\u002fextra\\u003e\",\"hovertext\":[\"Burkina Faso\",\"Algeria\",\"Zambia\",\"Benin\",\"Chad\",\"Cameroon\",\"Botswana\",\"Burundi\",\"Morocco\",\"Mauritius\",\"Mauritania\",\"Mali\",\"Malawi\",\"Madagascar\",\"Tanzania\",\"Libya\",\"Niger\",\"Sierra Leone\",\"Senegal\",\"Rwanda\",\"South Africa\",\"Nigeria\",\"Liberia\",\"Ghana\",\"Gabon\",\"Ethiopia\",\"Egypt\",\"Uganda\",\"Kenya\",\"Togo\",\"Tunisia\",\"Zimbabwe\"],\"ids\":[\"Burkina Faso\",\"Algeria\",\"Zambia\",\"Benin\",\"Chad\",\"Cameroon\",\"Botswana\",\"Burundi\",\"Morocco\",\"Mauritius\",\"Mauritania\",\"Mali\",\"Malawi\",\"Madagascar\",\"Tanzania\",\"Libya\",\"Niger\",\"Sierra Leone\",\"Senegal\",\"Rwanda\",\"South Africa\",\"Nigeria\",\"Liberia\",\"Ghana\",\"Gabon\",\"Ethiopia\",\"Egypt\",\"Uganda\",\"Kenya\",\"Togo\",\"Tunisia\",\"Zimbabwe\"],\"legendgroup\":\"Africa\",\"marker\":{\"color\":\"#AEFD8E\",\"symbol\":\"circle\"},\"mode\":\"markers\",\"name\":\"Africa\",\"orientation\":\"v\",\"showlegend\":true,\"x\":[4.424,5.295,4.377,4.141,4.301,4.975,3.59,2.905,5.254,5.891,4.356,4.447,3.587,3.774,3.303,5.566,4.166,4.571,4.631,3.408,4.724,5.155,3.495,4.657,4.758,4.35,4.419,4.161,4.41,3.999,4.592,3.692],\"xaxis\":\"x\",\"y\":[1705.49,13639.43,3581.89,2134.59,1715.57,3291.13,15951.33,659.73,7479.59,22724.23,3746.08,1965.39,1159.12,1403.92,2805.12,11684.73,912.04,1381.3,3255.99,1958.61,11756.3,5085.54,1040.09,4098.86,15794.08,1781.76,10743.81,1752.21,3051.69,1592.54,10676.96,2661.07],\"yaxis\":\"y\",\"type\":\"scatter\"},{\"customdata\":[[\"Albania\"],[\"Belarus\"],[\"Bulgaria\"],[\"Austria\"],[\"Bosnia and Herzegovina\"],[\"Belgium\"],[\"Montenegro\"],[\"Sweden\"],[\"Moldova\"],[\"Switzerland\"],[\"Malta\"],[\"Luxembourg\"],[\"Lithuania\"],[\"Netherlands\"],[\"Serbia\"],[\"Slovakia\"],[\"Russia\"],[\"Romania\"],[\"Portugal\"],[\"Slovenia\"],[\"Poland\"],[\"Norway\"],[\"Spain\"],[\"Latvia\"],[\"Germany\"],[\"Ukraine\"],[\"France\"],[\"Finland\"],[\"Estonia\"],[\"United Kingdom\"],[\"Denmark\"],[\"Croatia\"],[\"Greece\"],[\"Italy\"],[\"Ireland\"],[\"Iceland\"],[\"Hungary\"]],\"hovertemplate\":\"\\u003cb\\u003e%{hovertext}\\u003c\\u002fb\\u003e\\u003cbr\\u003e\\u003cbr\\u003econtinent=Europe\\u003cbr\\u003eYear=2018\\u003cbr\\u003ehappiness_score=%{x}\\u003cbr\\u003eGNI_per_capita_PPP=%{y}\\u003cbr\\u003eCountry=%{customdata[0]}\\u003cextra\\u003e\\u003c\\u002fextra\\u003e\",\"hovertext\":[\"Albania\",\"Belarus\",\"Bulgaria\",\"Austria\",\"Bosnia and Herzegovina\",\"Belgium\",\"Montenegro\",\"Sweden\",\"Moldova\",\"Switzerland\",\"Malta\",\"Luxembourg\",\"Lithuania\",\"Netherlands\",\"Serbia\",\"Slovakia\",\"Russia\",\"Romania\",\"Portugal\",\"Slovenia\",\"Poland\",\"Norway\",\"Spain\",\"Latvia\",\"Germany\",\"Ukraine\",\"France\",\"Finland\",\"Estonia\",\"United Kingdom\",\"Denmark\",\"Croatia\",\"Greece\",\"Italy\",\"Ireland\",\"Iceland\",\"Hungary\"],\"ids\":[\"Albania\",\"Belarus\",\"Bulgaria\",\"Austria\",\"Bosnia and Herzegovina\",\"Belgium\",\"Montenegro\",\"Sweden\",\"Moldova\",\"Switzerland\",\"Malta\",\"Luxembourg\",\"Lithuania\",\"Netherlands\",\"Serbia\",\"Slovakia\",\"Russia\",\"Romania\",\"Portugal\",\"Slovenia\",\"Poland\",\"Norway\",\"Spain\",\"Latvia\",\"Germany\",\"Ukraine\",\"France\",\"Finland\",\"Estonia\",\"United Kingdom\",\"Denmark\",\"Croatia\",\"Greece\",\"Italy\",\"Ireland\",\"Iceland\",\"Hungary\"],\"legendgroup\":\"Europe\",\"marker\":{\"color\":\"#E3C97F\",\"symbol\":\"circle\"},\"mode\":\"markers\",\"name\":\"Europe\",\"orientation\":\"v\",\"showlegend\":true,\"x\":[4.586,5.483,4.933,7.139,5.129,6.927,5.347,7.314,5.64,7.487,6.627,6.91,5.952,7.441,5.398,6.173,5.81,5.945,5.41,5.948,6.123,7.594,6.31,5.933,6.965,4.103,6.489,7.632,5.739,7.19,7.555,5.321,5.358,6.0,6.977,7.495,5.62],\"xaxis\":\"x\",\"y\":[12299.8,17038.53,19645.94,46230.57,12689.68,43820.84,17510.71,47955.45,6833.11,59374.73,34795.18,65543.05,29775.26,50012.59,15217.7,30671.87,25036.02,23905.77,27935.38,32143.04,27625.8,68058.62,35041.3,26300.77,46945.95,7994.21,40510.78,41779.26,30378.63,39507.29,48836.09,23060.96,24909.34,36141.43,55659.68,47566.45,27144.21],\"yaxis\":\"y\",\"type\":\"scatter\"},{\"customdata\":[[\"Argentina\"],[\"Chile\"],[\"Uruguay\"],[\"Venezuela\"],[\"Bolivia\"],[\"Brazil\"],[\"Peru\"],[\"Paraguay\"],[\"Panama\"],[\"Nicaragua\"],[\"El Salvador\"],[\"Ecuador\"],[\"Dominican Republic\"],[\"Costa Rica\"],[\"Colombia\"],[\"Guatemala\"],[\"Guinea\"],[\"Jamaica\"],[\"Honduras\"],[\"Haiti\"]],\"hovertemplate\":\"\\u003cb\\u003e%{hovertext}\\u003c\\u002fb\\u003e\\u003cbr\\u003e\\u003cbr\\u003econtinent=South America\\u003cbr\\u003eYear=2018\\u003cbr\\u003ehappiness_score=%{x}\\u003cbr\\u003eGNI_per_capita_PPP=%{y}\\u003cbr\\u003eCountry=%{customdata[0]}\\u003cextra\\u003e\\u003c\\u002fextra\\u003e\",\"hovertext\":[\"Argentina\",\"Chile\",\"Uruguay\",\"Venezuela\",\"Bolivia\",\"Brazil\",\"Peru\",\"Paraguay\",\"Panama\",\"Nicaragua\",\"El Salvador\",\"Ecuador\",\"Dominican Republic\",\"Costa Rica\",\"Colombia\",\"Guatemala\",\"Guinea\",\"Jamaica\",\"Honduras\",\"Haiti\"],\"ids\":[\"Argentina\",\"Chile\",\"Uruguay\",\"Venezuela\",\"Bolivia\",\"Brazil\",\"Peru\",\"Paraguay\",\"Panama\",\"Nicaragua\",\"El Salvador\",\"Ecuador\",\"Dominican Republic\",\"Costa Rica\",\"Colombia\",\"Guatemala\",\"Guinea\",\"Jamaica\",\"Honduras\",\"Haiti\"],\"legendgroup\":\"South America\",\"marker\":{\"color\":\"#E8EAC8\",\"symbol\":\"circle\"},\"mode\":\"markers\",\"name\":\"South America\",\"orientation\":\"v\",\"showlegend\":true,\"x\":[6.388,6.476,6.379,4.806,5.752,6.419,5.663,5.681,6.43,6.141,6.167,5.973,5.302,7.072,6.26,6.382,3.964,5.89,5.504,3.582],\"xaxis\":\"x\",\"y\":[17611.22,21972.28,19434.85,9069.7,6849.2,14068.05,12322.66,11719.96,20454.87,4789.84,6973.46,10141.15,15074.26,14789.93,12895.59,7377.92,2211.0,7931.52,4258.35,1664.89],\"yaxis\":\"y\",\"type\":\"scatter\"},{\"customdata\":[[\"Canada\"],[\"Mexico\"],[\"United States\"]],\"hovertemplate\":\"\\u003cb\\u003e%{hovertext}\\u003c\\u002fb\\u003e\\u003cbr\\u003e\\u003cbr\\u003econtinent=North America\\u003cbr\\u003eYear=2018\\u003cbr\\u003ehappiness_score=%{x}\\u003cbr\\u003eGNI_per_capita_PPP=%{y}\\u003cbr\\u003eCountry=%{customdata[0]}\\u003cextra\\u003e\\u003c\\u002fextra\\u003e\",\"hovertext\":[\"Canada\",\"Mexico\",\"United States\"],\"ids\":[\"Canada\",\"Mexico\",\"United States\"],\"legendgroup\":\"North America\",\"marker\":{\"color\":\"#B47FE3\",\"symbol\":\"circle\"},\"mode\":\"markers\",\"name\":\"North America\",\"orientation\":\"v\",\"showlegend\":true,\"x\":[7.328,6.488,6.886],\"xaxis\":\"x\",\"y\":[43602.25,17628.12,56140.23],\"yaxis\":\"y\",\"type\":\"scatter\"},{\"customdata\":[[\"Australia\"],[\"New Zealand\"]],\"hovertemplate\":\"\\u003cb\\u003e%{hovertext}\\u003c\\u002fb\\u003e\\u003cbr\\u003e\\u003cbr\\u003econtinent=Australia\\u003cbr\\u003eYear=2018\\u003cbr\\u003ehappiness_score=%{x}\\u003cbr\\u003eGNI_per_capita_PPP=%{y}\\u003cbr\\u003eCountry=%{customdata[0]}\\u003cextra\\u003e\\u003c\\u002fextra\\u003e\",\"hovertext\":[\"Australia\",\"New Zealand\"],\"ids\":[\"Australia\",\"New Zealand\"],\"legendgroup\":\"Australia\",\"marker\":{\"color\":\"#B2E4FA\",\"symbol\":\"circle\"},\"mode\":\"markers\",\"name\":\"Australia\",\"orientation\":\"v\",\"showlegend\":true,\"x\":[7.272,7.324],\"xaxis\":\"x\",\"y\":[44097.02,35107.5],\"yaxis\":\"y\",\"type\":\"scatter\"}],\"name\":\"2018\"}]);\n",
       "                        }).then(function(){\n",
       "                            \n",
       "var gd = document.getElementById('aee612e2-0937-438f-9375-b610afafd7f0');\n",
       "var x = new MutationObserver(function (mutations, observer) {{\n",
       "        var display = window.getComputedStyle(gd).display;\n",
       "        if (!display || display === 'none') {{\n",
       "            console.log([gd, 'removed!']);\n",
       "            Plotly.purge(gd);\n",
       "            observer.disconnect();\n",
       "        }}\n",
       "}});\n",
       "\n",
       "// Listen for the removal of the full notebook cells\n",
       "var notebookContainer = gd.closest('#notebook-container');\n",
       "if (notebookContainer) {{\n",
       "    x.observe(notebookContainer, {childList: true});\n",
       "}}\n",
       "\n",
       "// Listen for the clearing of the current output cell\n",
       "var outputEl = gd.closest('.output');\n",
       "if (outputEl) {{\n",
       "    x.observe(outputEl, {childList: true});\n",
       "}}\n",
       "\n",
       "                        })                };                });            </script>        </div>"
      ]
     },
     "metadata": {},
     "output_type": "display_data"
    }
   ],
   "source": [
    "data = data.sort_values('Year', ascending=True)\n",
    "\n",
    "# Create a scatter plot for all available years using Plotly, with two plots per row\n",
    "fig = px.scatter(data, x='happiness_score', y='GNI_per_capita_PPP', color='continent',\n",
    "                 color_discrete_map=continent_colors, hover_data=['Country'], animation_frame=\"Year\", animation_group=\"Country\", hover_name=\"Country\",\n",
    "           log_x=True,)\n",
    "\n",
    "# Set the plot title and axis labels\n",
    "fig.update_layout(\n",
    "    title='Scatter Plot of GNI per Capita (PPP) vs Happiness by Year',\n",
    "    xaxis_title='Happiness score',\n",
    "    yaxis_title='GNI per Capita (PPP)',\n",
    "    height=500,  \n",
    "    width = 800,\n",
    "    plot_bgcolor='rgb(240, 240, 240, 240)'\n",
    ")\n",
    "\n",
    "# Set the hover label format\n",
    "fig.update_traces(hovertemplate='Country: %{customdata[0]}<br>Happines: %{x}<br>GNI per Capita (PPP): %{y}')\n",
    "\n",
    "# Show the plot\n",
    "fig.show()\n"
   ]
  },
  {
   "cell_type": "markdown",
   "id": "602f077d",
   "metadata": {},
   "source": [
    "### GNI and happiness trend\n",
    "While these scatterplots show that having a 'richer' population (measured with GNI_per_capita adjusted for PPP) is generally related with having a happier population. These scatterplots also show that countries with a poorer population can still have happier population. This is exemplified by the fact that a country like Mexico has a much poorer population than a country like Singapore (which has by far the richest population) while their happiness scores are pretty much equal to each other. Furthermore, these scatterplots show that most countries move stronger along the x-axis than along the y-axis, this means that countries can become happier or unhappier regardless of the economic wealth of their citizens. Kuwait, however shows the exact opposite side of this phenomenon, they show great growth in their GNI per capita while their happiness scores do not increase or decrease drastically."
   ]
  },
  {
   "cell_type": "code",
   "execution_count": 129,
   "id": "bba4bf04",
   "metadata": {},
   "outputs": [
    {
     "data": {
      "image/png": "[encoded data removed]",
      "text/plain": [
       "<Figure size 864x576 with 1 Axes>"
      ]
     },
     "metadata": {},
     "output_type": "display_data"
    }
   ],
   "source": [
    "\n",
    "continent_scores = defaultdict(list)\n",
    "\n",
    "with open('full_data.csv', 'r') as file:\n",
    "    reader = csv.DictReader(file)\n",
    "    for row in reader:\n",
    "        continent = row['continent']\n",
    "        country = row['Country']\n",
    "        year = row['Year']\n",
    "        happiness_score = float(row['happiness_score'])\n",
    "        continent_scores[continent].append((country, year, happiness_score))\n",
    "\n",
    "\n",
    "sns.set(style=\"whitegrid\")\n",
    "plt.figure(figsize=(12, 8))\n",
    "\n",
    "\n",
    "palette = sns.color_palette(\"deep\", len(continent_scores))\n",
    "\n",
    "\n",
    "country_heights = []\n",
    "\n",
    "for continent, scores in continent_scores.items():\n",
    "    heights = [score for _, _, score in scores]\n",
    "    country_heights.append(heights)\n",
    "\n",
    "\n",
    "bars = plt.hist(country_heights, bins=20, stacked=True, label=list(continent_scores.keys()), color=palette, alpha=0.8, linewidth=0)\n",
    "\n",
    "\n",
    "legend_patches = [mpatches.Patch(color=palette[i], label=continent) for i, continent in enumerate(continent_scores.keys())]\n",
    "plt.legend(handles=legend_patches, loc='upper right', fontsize='small')\n",
    "\n",
    "\n",
    "fig = plt.gcf()\n",
    "ax = plt.gca()\n",
    "\n",
    "def hover(event):\n",
    "    for container in bars:\n",
    "        for rect in container:\n",
    "            cont, ind = rect.contains(event)\n",
    "            if cont:\n",
    "                heights = [height.get_height() for height in container]\n",
    "                countries = [country for country in continent_scores.keys()]\n",
    "                bins = bars[1]\n",
    "                bin_width = np.diff(bins)[0]\n",
    "                index = ind[\"ind\"][0]\n",
    "                x = bars[1][index] + bin_width / 2\n",
    "                y = heights[index]\n",
    "                plt.annotate(f\"{countries[index]}: {y:.2f}\", xy=(x, y), xytext=(x, y + 0.2),\n",
    "                             ha='center', va='bottom', color='black', alpha=0.7,\n",
    "                             arrowprops=dict(arrowstyle='-', lw=0.5, color='black'))\n",
    "                fig.canvas.draw_idle()\n",
    "\n",
    "plt.xlabel(\"Happiness Score\")\n",
    "plt.ylabel(\"Count\")\n",
    "plt.title(\"Stacked Histogram of Happiness Scores by Continent\")\n",
    "plt.tight_layout()\n",
    "sns.despine()\n",
    "\n",
    "plt.show()\n"
   ]
  },
  {
   "cell_type": "markdown",
   "id": "c142e5f3",
   "metadata": {},
   "source": [
    "### happiness score by continent\n",
    "The graph above shows us the amount of countries that are within a certain rounded score of happiness, the happiness is rounded to the nearest integer. As we can see African countries are the lowest on the scale of happiness while western countries are near the top of the distribution. Interesting to note is that while South american countries are poorer and less developed compared to western or Asian countries, their happiness is above what would be expected of their demographic metrics. Further relations in the world happiness dataset need to be drawn to conclude what causes such happiness has outside of income or education. The factors for happiness in these countries will be analyzed later in this notebook to gain an insight into the true factors of happiness."
   ]
  },
  {
   "cell_type": "code",
   "execution_count": 130,
   "id": "8b025d33",
   "metadata": {
    "scrolled": false
   },
   "outputs": [
    {
     "data": {
      "application/vnd.plotly.v1+json": {
       "config": {
        "plotlyServerURL": "https://plot.ly"
       },
       "data": [
        {
         "coloraxis": "coloraxis",
         "geo": "geo",
         "hovertemplate": "<b>%{hovertext}</b><br><br>Year=2018<br>Country=%{location}<br>happiness_score=%{z}<extra></extra>",
         "hovertext": [
          "Zimbabwe",
          "Zambia",
          "Yemen",
          "Vietnam",
          "Venezuela",
          "Uzbekistan",
          "Uruguay",
          "United States",
          "United Kingdom",
          "United Arab Emirates",
          "Ukraine",
          "Uganda",
          "Turkmenistan",
          "Turkey",
          "Tunisia",
          "Togo",
          "Thailand",
          "Tanzania",
          "Tajikistan",
          "Switzerland",
          "Sweden",
          "Sri Lanka",
          "Spain",
          "South Africa",
          "Slovenia",
          "Slovakia",
          "Singapore",
          "Sierra Leone",
          "Serbia",
          "Senegal",
          "Saudi Arabia",
          "Rwanda",
          "Russia",
          "Romania",
          "Portugal",
          "Poland",
          "Philippines",
          "Peru",
          "Paraguay",
          "Panama",
          "Pakistan",
          "Norway",
          "Nigeria",
          "Niger",
          "Nicaragua",
          "New Zealand",
          "Netherlands",
          "Nepal",
          "Myanmar",
          "Morocco",
          "Montenegro",
          "Mongolia",
          "Moldova",
          "Mexico",
          "Mauritius",
          "Mauritania",
          "Malta",
          "Mali",
          "Malaysia",
          "Malawi",
          "Madagascar",
          "Luxembourg",
          "Lithuania",
          "Libya",
          "Liberia",
          "Lebanon",
          "Latvia",
          "Kyrgyzstan",
          "Kuwait",
          "Kenya",
          "Kazakhstan",
          "Jordan",
          "Japan",
          "Jamaica",
          "Italy",
          "Israel",
          "Ireland",
          "Iraq",
          "Iran",
          "Indonesia",
          "India",
          "Iceland",
          "Hungary",
          "Honduras",
          "Haiti",
          "Guinea",
          "Guatemala",
          "Greece",
          "Ghana",
          "Germany",
          "Georgia",
          "Gabon",
          "France",
          "Finland",
          "Ethiopia",
          "Estonia",
          "El Salvador",
          "Egypt",
          "Ecuador",
          "Dominican Republic",
          "Denmark",
          "Cyprus",
          "Croatia",
          "Costa Rica",
          "Colombia",
          "China",
          "China",
          "Chile",
          "Chad",
          "Canada",
          "Cameroon",
          "Cambodia",
          "Burundi",
          "Burkina Faso",
          "Bulgaria",
          "Brazil",
          "Botswana",
          "Bosnia and Herzegovina",
          "Bolivia",
          "Benin",
          "Belgium",
          "Belarus",
          "Bangladesh",
          "Bahrain",
          "Azerbaijan",
          "Austria",
          "Australia",
          "Armenia",
          "Argentina",
          "Algeria",
          "Albania",
          "Afghanistan"
         ],
         "ids": [
          "Zimbabwe",
          "Zambia",
          "Yemen",
          "Vietnam",
          "Venezuela",
          "Uzbekistan",
          "Uruguay",
          "United States",
          "United Kingdom",
          "United Arab Emirates",
          "Ukraine",
          "Uganda",
          "Turkmenistan",
          "Turkey",
          "Tunisia",
          "Togo",
          "Thailand",
          "Tanzania",
          "Tajikistan",
          "Switzerland",
          "Sweden",
          "Sri Lanka",
          "Spain",
          "South Africa",
          "Slovenia",
          "Slovakia",
          "Singapore",
          "Sierra Leone",
          "Serbia",
          "Senegal",
          "Saudi Arabia",
          "Rwanda",
          "Russia",
          "Romania",
          "Portugal",
          "Poland",
          "Philippines",
          "Peru",
          "Paraguay",
          "Panama",
          "Pakistan",
          "Norway",
          "Nigeria",
          "Niger",
          "Nicaragua",
          "New Zealand",
          "Netherlands",
          "Nepal",
          "Myanmar",
          "Morocco",
          "Montenegro",
          "Mongolia",
          "Moldova",
          "Mexico",
          "Mauritius",
          "Mauritania",
          "Malta",
          "Mali",
          "Malaysia",
          "Malawi",
          "Madagascar",
          "Luxembourg",
          "Lithuania",
          "Libya",
          "Liberia",
          "Lebanon",
          "Latvia",
          "Kyrgyzstan",
          "Kuwait",
          "Kenya",
          "Kazakhstan",
          "Jordan",
          "Japan",
          "Jamaica",
          "Italy",
          "Israel",
          "Ireland",
          "Iraq",
          "Iran",
          "Indonesia",
          "India",
          "Iceland",
          "Hungary",
          "Honduras",
          "Haiti",
          "Guinea",
          "Guatemala",
          "Greece",
          "Ghana",
          "Germany",
          "Georgia",
          "Gabon",
          "France",
          "Finland",
          "Ethiopia",
          "Estonia",
          "El Salvador",
          "Egypt",
          "Ecuador",
          "Dominican Republic",
          "Denmark",
          "Cyprus",
          "Croatia",
          "Costa Rica",
          "Colombia",
          "China",
          "China",
          "Chile",
          "Chad",
          "Canada",
          "Cameroon",
          "Cambodia",
          "Burundi",
          "Burkina Faso",
          "Bulgaria",
          "Brazil",
          "Botswana",
          "Bosnia and Herzegovina",
          "Bolivia",
          "Benin",
          "Belgium",
          "Belarus",
          "Bangladesh",
          "Bahrain",
          "Azerbaijan",
          "Austria",
          "Australia",
          "Armenia",
          "Argentina",
          "Algeria",
          "Albania",
          "Afghanistan"
         ],
         "locationmode": "country names",
         "locations": [
          "Zimbabwe",
          "Zambia",
          "Yemen",
          "Vietnam",
          "Venezuela",
          "Uzbekistan",
          "Uruguay",
          "United States",
          "United Kingdom",
          "United Arab Emirates",
          "Ukraine",
          "Uganda",
          "Turkmenistan",
          "Turkey",
          "Tunisia",
          "Togo",
          "Thailand",
          "Tanzania",
          "Tajikistan",
          "Switzerland",
          "Sweden",
          "Sri Lanka",
          "Spain",
          "South Africa",
          "Slovenia",
          "Slovakia",
          "Singapore",
          "Sierra Leone",
          "Serbia",
          "Senegal",
          "Saudi Arabia",
          "Rwanda",
          "Russia",
          "Romania",
          "Portugal",
          "Poland",
          "Philippines",
          "Peru",
          "Paraguay",
          "Panama",
          "Pakistan",
          "Norway",
          "Nigeria",
          "Niger",
          "Nicaragua",
          "New Zealand",
          "Netherlands",
          "Nepal",
          "Myanmar",
          "Morocco",
          "Montenegro",
          "Mongolia",
          "Moldova",
          "Mexico",
          "Mauritius",
          "Mauritania",
          "Malta",
          "Mali",
          "Malaysia",
          "Malawi",
          "Madagascar",
          "Luxembourg",
          "Lithuania",
          "Libya",
          "Liberia",
          "Lebanon",
          "Latvia",
          "Kyrgyzstan",
          "Kuwait",
          "Kenya",
          "Kazakhstan",
          "Jordan",
          "Japan",
          "Jamaica",
          "Italy",
          "Israel",
          "Ireland",
          "Iraq",
          "Iran",
          "Indonesia",
          "India",
          "Iceland",
          "Hungary",
          "Honduras",
          "Haiti",
          "Guinea",
          "Guatemala",
          "Greece",
          "Ghana",
          "Germany",
          "Georgia",
          "Gabon",
          "France",
          "Finland",
          "Ethiopia",
          "Estonia",
          "El Salvador",
          "Egypt",
          "Ecuador",
          "Dominican Republic",
          "Denmark",
          "Cyprus",
          "Croatia",
          "Costa Rica",
          "Colombia",
          "China",
          "China",
          "Chile",
          "Chad",
          "Canada",
          "Cameroon",
          "Cambodia",
          "Burundi",
          "Burkina Faso",
          "Bulgaria",
          "Brazil",
          "Botswana",
          "Bosnia and Herzegovina",
          "Bolivia",
          "Benin",
          "Belgium",
          "Belarus",
          "Bangladesh",
          "Bahrain",
          "Azerbaijan",
          "Austria",
          "Australia",
          "Armenia",
          "Argentina",
          "Algeria",
          "Albania",
          "Afghanistan"
         ],
         "name": "",
         "type": "choropleth",
         "z": [
          3.692,
          4.377,
          3.355,
          5.103,
          4.806,
          6.096,
          6.379,
          6.886,
          7.19,
          6.774,
          4.103,
          4.161,
          5.636,
          5.483,
          4.592,
          3.999,
          6.072,
          3.303,
          5.199,
          7.487,
          7.314,
          4.471,
          6.31,
          4.724,
          5.948,
          6.173,
          6.343,
          4.571,
          5.398,
          4.631,
          6.371,
          3.408,
          5.81,
          5.945,
          5.41,
          6.123,
          5.524,
          5.663,
          5.681,
          6.43,
          5.472,
          7.594,
          5.155,
          4.166,
          6.141,
          7.324,
          7.441,
          4.88,
          4.308,
          5.254,
          5.347,
          5.125,
          5.64,
          6.488,
          5.891,
          4.356,
          6.627,
          4.447,
          6.322,
          3.587,
          3.774,
          6.91,
          5.952,
          5.566,
          3.495,
          5.358,
          5.933,
          5.131,
          6.083,
          4.41,
          5.79,
          5.161,
          5.915,
          5.89,
          6,
          6.814,
          6.977,
          4.456,
          4.707,
          5.093,
          4.19,
          7.495,
          5.62,
          5.504,
          3.582,
          3.964,
          6.382,
          5.358,
          4.657,
          6.965,
          4.34,
          4.758,
          6.489,
          7.632,
          4.35,
          5.739,
          6.167,
          4.419,
          5.973,
          5.302,
          7.555,
          5.762,
          5.321,
          7.072,
          6.26,
          5.246,
          5.246,
          6.476,
          4.301,
          7.328,
          4.975,
          4.433,
          2.905,
          4.424,
          4.933,
          6.419,
          3.59,
          5.129,
          5.752,
          4.141,
          6.927,
          5.483,
          4.5,
          6.105,
          5.201,
          7.139,
          7.272,
          4.321,
          6.388,
          5.295,
          4.586,
          3.632
         ]
        }
       ],
       "frames": [
        {
         "data": [
          {
           "coloraxis": "coloraxis",
           "geo": "geo",
           "hovertemplate": "<b>%{hovertext}</b><br><br>Year=2018<br>Country=%{location}<br>happiness_score=%{z}<extra></extra>",
           "hovertext": [
            "Zimbabwe",
            "Zambia",
            "Yemen",
            "Vietnam",
            "Venezuela",
            "Uzbekistan",
            "Uruguay",
            "United States",
            "United Kingdom",
            "United Arab Emirates",
            "Ukraine",
            "Uganda",
            "Turkmenistan",
            "Turkey",
            "Tunisia",
            "Togo",
            "Thailand",
            "Tanzania",
            "Tajikistan",
            "Switzerland",
            "Sweden",
            "Sri Lanka",
            "Spain",
            "South Africa",
            "Slovenia",
            "Slovakia",
            "Singapore",
            "Sierra Leone",
            "Serbia",
            "Senegal",
            "Saudi Arabia",
            "Rwanda",
            "Russia",
            "Romania",
            "Portugal",
            "Poland",
            "Philippines",
            "Peru",
            "Paraguay",
            "Panama",
            "Pakistan",
            "Norway",
            "Nigeria",
            "Niger",
            "Nicaragua",
            "New Zealand",
            "Netherlands",
            "Nepal",
            "Myanmar",
            "Morocco",
            "Montenegro",
            "Mongolia",
            "Moldova",
            "Mexico",
            "Mauritius",
            "Mauritania",
            "Malta",
            "Mali",
            "Malaysia",
            "Malawi",
            "Madagascar",
            "Luxembourg",
            "Lithuania",
            "Libya",
            "Liberia",
            "Lebanon",
            "Latvia",
            "Kyrgyzstan",
            "Kuwait",
            "Kenya",
            "Kazakhstan",
            "Jordan",
            "Japan",
            "Jamaica",
            "Italy",
            "Israel",
            "Ireland",
            "Iraq",
            "Iran",
            "Indonesia",
            "India",
            "Iceland",
            "Hungary",
            "Honduras",
            "Haiti",
            "Guinea",
            "Guatemala",
            "Greece",
            "Ghana",
            "Germany",
            "Georgia",
            "Gabon",
            "France",
            "Finland",
            "Ethiopia",
            "Estonia",
            "El Salvador",
            "Egypt",
            "Ecuador",
            "Dominican Republic",
            "Denmark",
            "Cyprus",
            "Croatia",
            "Costa Rica",
            "Colombia",
            "China",
            "China",
            "Chile",
            "Chad",
            "Canada",
            "Cameroon",
            "Cambodia",
            "Burundi",
            "Burkina Faso",
            "Bulgaria",
            "Brazil",
            "Botswana",
            "Bosnia and Herzegovina",
            "Bolivia",
            "Benin",
            "Belgium",
            "Belarus",
            "Bangladesh",
            "Bahrain",
            "Azerbaijan",
            "Austria",
            "Australia",
            "Armenia",
            "Argentina",
            "Algeria",
            "Albania",
            "Afghanistan"
           ],
           "ids": [
            "Zimbabwe",
            "Zambia",
            "Yemen",
            "Vietnam",
            "Venezuela",
            "Uzbekistan",
            "Uruguay",
            "United States",
            "United Kingdom",
            "United Arab Emirates",
            "Ukraine",
            "Uganda",
            "Turkmenistan",
            "Turkey",
            "Tunisia",
            "Togo",
            "Thailand",
            "Tanzania",
            "Tajikistan",
            "Switzerland",
            "Sweden",
            "Sri Lanka",
            "Spain",
            "South Africa",
            "Slovenia",
            "Slovakia",
            "Singapore",
            "Sierra Leone",
            "Serbia",
            "Senegal",
            "Saudi Arabia",
            "Rwanda",
            "Russia",
            "Romania",
            "Portugal",
            "Poland",
            "Philippines",
            "Peru",
            "Paraguay",
            "Panama",
            "Pakistan",
            "Norway",
            "Nigeria",
            "Niger",
            "Nicaragua",
            "New Zealand",
            "Netherlands",
            "Nepal",
            "Myanmar",
            "Morocco",
            "Montenegro",
            "Mongolia",
            "Moldova",
            "Mexico",
            "Mauritius",
            "Mauritania",
            "Malta",
            "Mali",
            "Malaysia",
            "Malawi",
            "Madagascar",
            "Luxembourg",
            "Lithuania",
            "Libya",
            "Liberia",
            "Lebanon",
            "Latvia",
            "Kyrgyzstan",
            "Kuwait",
            "Kenya",
            "Kazakhstan",
            "Jordan",
            "Japan",
            "Jamaica",
            "Italy",
            "Israel",
            "Ireland",
            "Iraq",
            "Iran",
            "Indonesia",
            "India",
            "Iceland",
            "Hungary",
            "Honduras",
            "Haiti",
            "Guinea",
            "Guatemala",
            "Greece",
            "Ghana",
            "Germany",
            "Georgia",
            "Gabon",
            "France",
            "Finland",
            "Ethiopia",
            "Estonia",
            "El Salvador",
            "Egypt",
            "Ecuador",
            "Dominican Republic",
            "Denmark",
            "Cyprus",
            "Croatia",
            "Costa Rica",
            "Colombia",
            "China",
            "China",
            "Chile",
            "Chad",
            "Canada",
            "Cameroon",
            "Cambodia",
            "Burundi",
            "Burkina Faso",
            "Bulgaria",
            "Brazil",
            "Botswana",
            "Bosnia and Herzegovina",
            "Bolivia",
            "Benin",
            "Belgium",
            "Belarus",
            "Bangladesh",
            "Bahrain",
            "Azerbaijan",
            "Austria",
            "Australia",
            "Armenia",
            "Argentina",
            "Algeria",
            "Albania",
            "Afghanistan"
           ],
           "locationmode": "country names",
           "locations": [
            "Zimbabwe",
            "Zambia",
            "Yemen",
            "Vietnam",
            "Venezuela",
            "Uzbekistan",
            "Uruguay",
            "United States",
            "United Kingdom",
            "United Arab Emirates",
            "Ukraine",
            "Uganda",
            "Turkmenistan",
            "Turkey",
            "Tunisia",
            "Togo",
            "Thailand",
            "Tanzania",
            "Tajikistan",
            "Switzerland",
            "Sweden",
            "Sri Lanka",
            "Spain",
            "South Africa",
            "Slovenia",
            "Slovakia",
            "Singapore",
            "Sierra Leone",
            "Serbia",
            "Senegal",
            "Saudi Arabia",
            "Rwanda",
            "Russia",
            "Romania",
            "Portugal",
            "Poland",
            "Philippines",
            "Peru",
            "Paraguay",
            "Panama",
            "Pakistan",
            "Norway",
            "Nigeria",
            "Niger",
            "Nicaragua",
            "New Zealand",
            "Netherlands",
            "Nepal",
            "Myanmar",
            "Morocco",
            "Montenegro",
            "Mongolia",
            "Moldova",
            "Mexico",
            "Mauritius",
            "Mauritania",
            "Malta",
            "Mali",
            "Malaysia",
            "Malawi",
            "Madagascar",
            "Luxembourg",
            "Lithuania",
            "Libya",
            "Liberia",
            "Lebanon",
            "Latvia",
            "Kyrgyzstan",
            "Kuwait",
            "Kenya",
            "Kazakhstan",
            "Jordan",
            "Japan",
            "Jamaica",
            "Italy",
            "Israel",
            "Ireland",
            "Iraq",
            "Iran",
            "Indonesia",
            "India",
            "Iceland",
            "Hungary",
            "Honduras",
            "Haiti",
            "Guinea",
            "Guatemala",
            "Greece",
            "Ghana",
            "Germany",
            "Georgia",
            "Gabon",
            "France",
            "Finland",
            "Ethiopia",
            "Estonia",
            "El Salvador",
            "Egypt",
            "Ecuador",
            "Dominican Republic",
            "Denmark",
            "Cyprus",
            "Croatia",
            "Costa Rica",
            "Colombia",
            "China",
            "China",
            "Chile",
            "Chad",
            "Canada",
            "Cameroon",
            "Cambodia",
            "Burundi",
            "Burkina Faso",
            "Bulgaria",
            "Brazil",
            "Botswana",
            "Bosnia and Herzegovina",
            "Bolivia",
            "Benin",
            "Belgium",
            "Belarus",
            "Bangladesh",
            "Bahrain",
            "Azerbaijan",
            "Austria",
            "Australia",
            "Armenia",
            "Argentina",
            "Algeria",
            "Albania",
            "Afghanistan"
           ],
           "name": "",
           "type": "choropleth",
           "z": [
            3.692,
            4.377,
            3.355,
            5.103,
            4.806,
            6.096,
            6.379,
            6.886,
            7.19,
            6.774,
            4.103,
            4.161,
            5.636,
            5.483,
            4.592,
            3.999,
            6.072,
            3.303,
            5.199,
            7.487,
            7.314,
            4.471,
            6.31,
            4.724,
            5.948,
            6.173,
            6.343,
            4.571,
            5.398,
            4.631,
            6.371,
            3.408,
            5.81,
            5.945,
            5.41,
            6.123,
            5.524,
            5.663,
            5.681,
            6.43,
            5.472,
            7.594,
            5.155,
            4.166,
            6.141,
            7.324,
            7.441,
            4.88,
            4.308,
            5.254,
            5.347,
            5.125,
            5.64,
            6.488,
            5.891,
            4.356,
            6.627,
            4.447,
            6.322,
            3.587,
            3.774,
            6.91,
            5.952,
            5.566,
            3.495,
            5.358,
            5.933,
            5.131,
            6.083,
            4.41,
            5.79,
            5.161,
            5.915,
            5.89,
            6,
            6.814,
            6.977,
            4.456,
            4.707,
            5.093,
            4.19,
            7.495,
            5.62,
            5.504,
            3.582,
            3.964,
            6.382,
            5.358,
            4.657,
            6.965,
            4.34,
            4.758,
            6.489,
            7.632,
            4.35,
            5.739,
            6.167,
            4.419,
            5.973,
            5.302,
            7.555,
            5.762,
            5.321,
            7.072,
            6.26,
            5.246,
            5.246,
            6.476,
            4.301,
            7.328,
            4.975,
            4.433,
            2.905,
            4.424,
            4.933,
            6.419,
            3.59,
            5.129,
            5.752,
            4.141,
            6.927,
            5.483,
            4.5,
            6.105,
            5.201,
            7.139,
            7.272,
            4.321,
            6.388,
            5.295,
            4.586,
            3.632
           ]
          }
         ],
         "name": "2018"
        },
        {
         "data": [
          {
           "coloraxis": "coloraxis",
           "geo": "geo",
           "hovertemplate": "<b>%{hovertext}</b><br><br>Year=2017<br>Country=%{location}<br>happiness_score=%{z}<extra></extra>",
           "hovertext": [
            "Zimbabwe",
            "Zambia",
            "Yemen",
            "Vietnam",
            "Venezuela",
            "Uzbekistan",
            "Uruguay",
            "United States",
            "United Kingdom",
            "United Arab Emirates",
            "Ukraine",
            "Uganda",
            "Turkmenistan",
            "Turkey",
            "Tunisia",
            "Togo",
            "Thailand",
            "Tanzania",
            "Tajikistan",
            "Switzerland",
            "Sweden",
            "Sri Lanka",
            "Spain",
            "South Africa",
            "Slovenia",
            "Slovakia",
            "Singapore",
            "Sierra Leone",
            "Serbia",
            "Senegal",
            "Saudi Arabia",
            "Rwanda",
            "Russia",
            "Romania",
            "Portugal",
            "Poland",
            "Philippines",
            "Peru",
            "Paraguay",
            "Panama",
            "Pakistan",
            "Norway",
            "Nigeria",
            "Niger",
            "Nicaragua",
            "New Zealand",
            "Netherlands",
            "Nepal",
            "Myanmar",
            "Morocco",
            "Montenegro",
            "Mongolia",
            "Moldova",
            "Mexico",
            "Mauritius",
            "Mauritania",
            "Malta",
            "Mali",
            "Malaysia",
            "Malawi",
            "Madagascar",
            "Luxembourg",
            "Lithuania",
            "Libya",
            "Liberia",
            "Lebanon",
            "Latvia",
            "Kyrgyzstan",
            "Kuwait",
            "Kenya",
            "Kazakhstan",
            "Jordan",
            "Japan",
            "Jamaica",
            "Italy",
            "Israel",
            "Ireland",
            "Iraq",
            "Iran",
            "Indonesia",
            "India",
            "Iceland",
            "Hungary",
            "Honduras",
            "Haiti",
            "Guinea",
            "Guatemala",
            "Greece",
            "Ghana",
            "Germany",
            "Georgia",
            "Gabon",
            "France",
            "Finland",
            "Ethiopia",
            "Estonia",
            "El Salvador",
            "Egypt",
            "Ecuador",
            "Dominican Republic",
            "Denmark",
            "Cyprus",
            "Croatia",
            "Costa Rica",
            "Colombia",
            "China",
            "China",
            "Chile",
            "Chad",
            "Canada",
            "Cameroon",
            "Cambodia",
            "Burundi",
            "Burkina Faso",
            "Bulgaria",
            "Brazil",
            "Botswana",
            "Bosnia and Herzegovina",
            "Bolivia",
            "Benin",
            "Belgium",
            "Belarus",
            "Bangladesh",
            "Bahrain",
            "Azerbaijan",
            "Austria",
            "Australia",
            "Armenia",
            "Argentina",
            "Algeria",
            "Albania",
            "Afghanistan"
           ],
           "ids": [
            "Zimbabwe",
            "Zambia",
            "Yemen",
            "Vietnam",
            "Venezuela",
            "Uzbekistan",
            "Uruguay",
            "United States",
            "United Kingdom",
            "United Arab Emirates",
            "Ukraine",
            "Uganda",
            "Turkmenistan",
            "Turkey",
            "Tunisia",
            "Togo",
            "Thailand",
            "Tanzania",
            "Tajikistan",
            "Switzerland",
            "Sweden",
            "Sri Lanka",
            "Spain",
            "South Africa",
            "Slovenia",
            "Slovakia",
            "Singapore",
            "Sierra Leone",
            "Serbia",
            "Senegal",
            "Saudi Arabia",
            "Rwanda",
            "Russia",
            "Romania",
            "Portugal",
            "Poland",
            "Philippines",
            "Peru",
            "Paraguay",
            "Panama",
            "Pakistan",
            "Norway",
            "Nigeria",
            "Niger",
            "Nicaragua",
            "New Zealand",
            "Netherlands",
            "Nepal",
            "Myanmar",
            "Morocco",
            "Montenegro",
            "Mongolia",
            "Moldova",
            "Mexico",
            "Mauritius",
            "Mauritania",
            "Malta",
            "Mali",
            "Malaysia",
            "Malawi",
            "Madagascar",
            "Luxembourg",
            "Lithuania",
            "Libya",
            "Liberia",
            "Lebanon",
            "Latvia",
            "Kyrgyzstan",
            "Kuwait",
            "Kenya",
            "Kazakhstan",
            "Jordan",
            "Japan",
            "Jamaica",
            "Italy",
            "Israel",
            "Ireland",
            "Iraq",
            "Iran",
            "Indonesia",
            "India",
            "Iceland",
            "Hungary",
            "Honduras",
            "Haiti",
            "Guinea",
            "Guatemala",
            "Greece",
            "Ghana",
            "Germany",
            "Georgia",
            "Gabon",
            "France",
            "Finland",
            "Ethiopia",
            "Estonia",
            "El Salvador",
            "Egypt",
            "Ecuador",
            "Dominican Republic",
            "Denmark",
            "Cyprus",
            "Croatia",
            "Costa Rica",
            "Colombia",
            "China",
            "China",
            "Chile",
            "Chad",
            "Canada",
            "Cameroon",
            "Cambodia",
            "Burundi",
            "Burkina Faso",
            "Bulgaria",
            "Brazil",
            "Botswana",
            "Bosnia and Herzegovina",
            "Bolivia",
            "Benin",
            "Belgium",
            "Belarus",
            "Bangladesh",
            "Bahrain",
            "Azerbaijan",
            "Austria",
            "Australia",
            "Armenia",
            "Argentina",
            "Algeria",
            "Albania",
            "Afghanistan"
           ],
           "locationmode": "country names",
           "locations": [
            "Zimbabwe",
            "Zambia",
            "Yemen",
            "Vietnam",
            "Venezuela",
            "Uzbekistan",
            "Uruguay",
            "United States",
            "United Kingdom",
            "United Arab Emirates",
            "Ukraine",
            "Uganda",
            "Turkmenistan",
            "Turkey",
            "Tunisia",
            "Togo",
            "Thailand",
            "Tanzania",
            "Tajikistan",
            "Switzerland",
            "Sweden",
            "Sri Lanka",
            "Spain",
            "South Africa",
            "Slovenia",
            "Slovakia",
            "Singapore",
            "Sierra Leone",
            "Serbia",
            "Senegal",
            "Saudi Arabia",
            "Rwanda",
            "Russia",
            "Romania",
            "Portugal",
            "Poland",
            "Philippines",
            "Peru",
            "Paraguay",
            "Panama",
            "Pakistan",
            "Norway",
            "Nigeria",
            "Niger",
            "Nicaragua",
            "New Zealand",
            "Netherlands",
            "Nepal",
            "Myanmar",
            "Morocco",
            "Montenegro",
            "Mongolia",
            "Moldova",
            "Mexico",
            "Mauritius",
            "Mauritania",
            "Malta",
            "Mali",
            "Malaysia",
            "Malawi",
            "Madagascar",
            "Luxembourg",
            "Lithuania",
            "Libya",
            "Liberia",
            "Lebanon",
            "Latvia",
            "Kyrgyzstan",
            "Kuwait",
            "Kenya",
            "Kazakhstan",
            "Jordan",
            "Japan",
            "Jamaica",
            "Italy",
            "Israel",
            "Ireland",
            "Iraq",
            "Iran",
            "Indonesia",
            "India",
            "Iceland",
            "Hungary",
            "Honduras",
            "Haiti",
            "Guinea",
            "Guatemala",
            "Greece",
            "Ghana",
            "Germany",
            "Georgia",
            "Gabon",
            "France",
            "Finland",
            "Ethiopia",
            "Estonia",
            "El Salvador",
            "Egypt",
            "Ecuador",
            "Dominican Republic",
            "Denmark",
            "Cyprus",
            "Croatia",
            "Costa Rica",
            "Colombia",
            "China",
            "China",
            "Chile",
            "Chad",
            "Canada",
            "Cameroon",
            "Cambodia",
            "Burundi",
            "Burkina Faso",
            "Bulgaria",
            "Brazil",
            "Botswana",
            "Bosnia and Herzegovina",
            "Bolivia",
            "Benin",
            "Belgium",
            "Belarus",
            "Bangladesh",
            "Bahrain",
            "Azerbaijan",
            "Austria",
            "Australia",
            "Armenia",
            "Argentina",
            "Algeria",
            "Albania",
            "Afghanistan"
           ],
           "name": "",
           "type": "choropleth",
           "z": [
            3.663,
            4.107,
            3.38,
            5.175,
            4.707,
            6.174,
            6.293,
            6.892,
            7.054,
            6.825,
            4.332,
            4.189,
            5.247,
            5.373,
            4.461,
            4.085,
            6.008,
            3.231,
            5.467,
            7.48,
            7.343,
            4.366,
            6.354,
            4.722,
            6.118,
            6.198,
            6.262,
            4.374,
            5.603,
            4.681,
            6.375,
            3.334,
            5.648,
            6.07,
            5.693,
            6.182,
            5.631,
            5.697,
            5.743,
            6.321,
            5.653,
            7.554,
            5.265,
            4.628,
            6.105,
            7.307,
            7.488,
            4.913,
            4.36,
            5.208,
            5.523,
            5.285,
            5.529,
            6.595,
            5.888,
            4.49,
            6.726,
            4.39,
            5.339,
            3.41,
            3.933,
            7.09,
            6.149,
            5.525,
            3.975,
            5.197,
            5.94,
            5.261,
            6.021,
            4.509,
            5.809,
            4.906,
            5.886,
            5.89,
            6.223,
            7.139,
            7.021,
            4.437,
            4.548,
            5.192,
            4.015,
            7.494,
            5.758,
            5.86,
            3.597,
            4.534,
            6.436,
            5.287,
            4.996,
            6.985,
            4.519,
            4.799,
            6.592,
            7.769,
            4.286,
            5.893,
            6.253,
            4.166,
            6.028,
            5.425,
            7.6,
            6.046,
            5.432,
            7.167,
            6.125,
            5.191,
            5.191,
            6.444,
            4.35,
            7.278,
            5.044,
            4.7,
            3.775,
            4.587,
            5.011,
            6.3,
            3.488,
            5.386,
            5.779,
            4.883,
            6.923,
            5.323,
            4.456,
            6.199,
            5.208,
            7.246,
            7.228,
            4.559,
            6.086,
            5.211,
            4.719,
            3.203
           ]
          }
         ],
         "name": "2017"
        },
        {
         "data": [
          {
           "coloraxis": "coloraxis",
           "geo": "geo",
           "hovertemplate": "<b>%{hovertext}</b><br><br>Year=2016<br>Country=%{location}<br>happiness_score=%{z}<extra></extra>",
           "hovertext": [
            "Zimbabwe",
            "Zambia",
            "Yemen",
            "Vietnam",
            "Venezuela",
            "Uzbekistan",
            "Uruguay",
            "United States",
            "United Kingdom",
            "United Arab Emirates",
            "Ukraine",
            "Uganda",
            "Turkmenistan",
            "Turkey",
            "Tunisia",
            "Togo",
            "Thailand",
            "Tanzania",
            "Tajikistan",
            "Switzerland",
            "Sweden",
            "Sri Lanka",
            "Spain",
            "South Africa",
            "Slovenia",
            "Slovakia",
            "Singapore",
            "Sierra Leone",
            "Serbia",
            "Senegal",
            "Saudi Arabia",
            "Rwanda",
            "Russia",
            "Romania",
            "Portugal",
            "Poland",
            "Philippines",
            "Peru",
            "Paraguay",
            "Panama",
            "Pakistan",
            "Norway",
            "Nigeria",
            "Niger",
            "Nicaragua",
            "New Zealand",
            "Netherlands",
            "Nepal",
            "Myanmar",
            "Morocco",
            "Montenegro",
            "Mongolia",
            "Moldova",
            "Mexico",
            "Mauritius",
            "Mauritania",
            "Malta",
            "Mali",
            "Malaysia",
            "Malawi",
            "Madagascar",
            "Luxembourg",
            "Lithuania",
            "Libya",
            "Liberia",
            "Lebanon",
            "Latvia",
            "Kyrgyzstan",
            "Kuwait",
            "Kenya",
            "Kazakhstan",
            "Jordan",
            "Japan",
            "Jamaica",
            "Italy",
            "Israel",
            "Ireland",
            "Iraq",
            "Iran",
            "Indonesia",
            "India",
            "Iceland",
            "Hungary",
            "Honduras",
            "Haiti",
            "Guinea",
            "Guatemala",
            "Greece",
            "Ghana",
            "Germany",
            "Georgia",
            "Gabon",
            "France",
            "Finland",
            "Ethiopia",
            "Estonia",
            "El Salvador",
            "Egypt",
            "Ecuador",
            "Dominican Republic",
            "Denmark",
            "Cyprus",
            "Croatia",
            "Costa Rica",
            "Colombia",
            "China",
            "China",
            "Chile",
            "Chad",
            "Canada",
            "Cameroon",
            "Cambodia",
            "Burundi",
            "Burkina Faso",
            "Bulgaria",
            "Brazil",
            "Botswana",
            "Bosnia and Herzegovina",
            "Bolivia",
            "Benin",
            "Belgium",
            "Belarus",
            "Bangladesh",
            "Bahrain",
            "Azerbaijan",
            "Austria",
            "Australia",
            "Armenia",
            "Argentina",
            "Algeria",
            "Albania",
            "Afghanistan"
           ],
           "ids": [
            "Zimbabwe",
            "Zambia",
            "Yemen",
            "Vietnam",
            "Venezuela",
            "Uzbekistan",
            "Uruguay",
            "United States",
            "United Kingdom",
            "United Arab Emirates",
            "Ukraine",
            "Uganda",
            "Turkmenistan",
            "Turkey",
            "Tunisia",
            "Togo",
            "Thailand",
            "Tanzania",
            "Tajikistan",
            "Switzerland",
            "Sweden",
            "Sri Lanka",
            "Spain",
            "South Africa",
            "Slovenia",
            "Slovakia",
            "Singapore",
            "Sierra Leone",
            "Serbia",
            "Senegal",
            "Saudi Arabia",
            "Rwanda",
            "Russia",
            "Romania",
            "Portugal",
            "Poland",
            "Philippines",
            "Peru",
            "Paraguay",
            "Panama",
            "Pakistan",
            "Norway",
            "Nigeria",
            "Niger",
            "Nicaragua",
            "New Zealand",
            "Netherlands",
            "Nepal",
            "Myanmar",
            "Morocco",
            "Montenegro",
            "Mongolia",
            "Moldova",
            "Mexico",
            "Mauritius",
            "Mauritania",
            "Malta",
            "Mali",
            "Malaysia",
            "Malawi",
            "Madagascar",
            "Luxembourg",
            "Lithuania",
            "Libya",
            "Liberia",
            "Lebanon",
            "Latvia",
            "Kyrgyzstan",
            "Kuwait",
            "Kenya",
            "Kazakhstan",
            "Jordan",
            "Japan",
            "Jamaica",
            "Italy",
            "Israel",
            "Ireland",
            "Iraq",
            "Iran",
            "Indonesia",
            "India",
            "Iceland",
            "Hungary",
            "Honduras",
            "Haiti",
            "Guinea",
            "Guatemala",
            "Greece",
            "Ghana",
            "Germany",
            "Georgia",
            "Gabon",
            "France",
            "Finland",
            "Ethiopia",
            "Estonia",
            "El Salvador",
            "Egypt",
            "Ecuador",
            "Dominican Republic",
            "Denmark",
            "Cyprus",
            "Croatia",
            "Costa Rica",
            "Colombia",
            "China",
            "China",
            "Chile",
            "Chad",
            "Canada",
            "Cameroon",
            "Cambodia",
            "Burundi",
            "Burkina Faso",
            "Bulgaria",
            "Brazil",
            "Botswana",
            "Bosnia and Herzegovina",
            "Bolivia",
            "Benin",
            "Belgium",
            "Belarus",
            "Bangladesh",
            "Bahrain",
            "Azerbaijan",
            "Austria",
            "Australia",
            "Armenia",
            "Argentina",
            "Algeria",
            "Albania",
            "Afghanistan"
           ],
           "locationmode": "country names",
           "locations": [
            "Zimbabwe",
            "Zambia",
            "Yemen",
            "Vietnam",
            "Venezuela",
            "Uzbekistan",
            "Uruguay",
            "United States",
            "United Kingdom",
            "United Arab Emirates",
            "Ukraine",
            "Uganda",
            "Turkmenistan",
            "Turkey",
            "Tunisia",
            "Togo",
            "Thailand",
            "Tanzania",
            "Tajikistan",
            "Switzerland",
            "Sweden",
            "Sri Lanka",
            "Spain",
            "South Africa",
            "Slovenia",
            "Slovakia",
            "Singapore",
            "Sierra Leone",
            "Serbia",
            "Senegal",
            "Saudi Arabia",
            "Rwanda",
            "Russia",
            "Romania",
            "Portugal",
            "Poland",
            "Philippines",
            "Peru",
            "Paraguay",
            "Panama",
            "Pakistan",
            "Norway",
            "Nigeria",
            "Niger",
            "Nicaragua",
            "New Zealand",
            "Netherlands",
            "Nepal",
            "Myanmar",
            "Morocco",
            "Montenegro",
            "Mongolia",
            "Moldova",
            "Mexico",
            "Mauritius",
            "Mauritania",
            "Malta",
            "Mali",
            "Malaysia",
            "Malawi",
            "Madagascar",
            "Luxembourg",
            "Lithuania",
            "Libya",
            "Liberia",
            "Lebanon",
            "Latvia",
            "Kyrgyzstan",
            "Kuwait",
            "Kenya",
            "Kazakhstan",
            "Jordan",
            "Japan",
            "Jamaica",
            "Italy",
            "Israel",
            "Ireland",
            "Iraq",
            "Iran",
            "Indonesia",
            "India",
            "Iceland",
            "Hungary",
            "Honduras",
            "Haiti",
            "Guinea",
            "Guatemala",
            "Greece",
            "Ghana",
            "Germany",
            "Georgia",
            "Gabon",
            "France",
            "Finland",
            "Ethiopia",
            "Estonia",
            "El Salvador",
            "Egypt",
            "Ecuador",
            "Dominican Republic",
            "Denmark",
            "Cyprus",
            "Croatia",
            "Costa Rica",
            "Colombia",
            "China",
            "China",
            "Chile",
            "Chad",
            "Canada",
            "Cameroon",
            "Cambodia",
            "Burundi",
            "Burkina Faso",
            "Bulgaria",
            "Brazil",
            "Botswana",
            "Bosnia and Herzegovina",
            "Bolivia",
            "Benin",
            "Belgium",
            "Belarus",
            "Bangladesh",
            "Bahrain",
            "Azerbaijan",
            "Austria",
            "Australia",
            "Armenia",
            "Argentina",
            "Algeria",
            "Albania",
            "Afghanistan"
           ],
           "name": "",
           "type": "choropleth",
           "z": [
            4.61,
            5.129,
            4.077,
            5.36,
            6.81,
            6.003,
            6.485,
            7.119,
            6.867,
            6.901,
            4.681,
            3.931,
            5.548,
            5.332,
            4.739,
            2.839,
            6.455,
            3.781,
            4.786,
            7.587,
            7.364,
            4.271,
            6.329,
            4.642,
            5.848,
            5.995,
            6.798,
            4.507,
            5.123,
            3.904,
            6.411,
            3.465,
            5.716,
            5.124,
            5.102,
            5.791,
            5.073,
            5.824,
            5.878,
            6.786,
            5.194,
            7.522,
            5.268,
            3.845,
            5.828,
            7.286,
            7.378,
            4.514,
            4.307,
            5.013,
            5.192,
            4.874,
            5.889,
            7.187,
            5.477,
            4.436,
            6.302,
            3.995,
            5.77,
            4.292,
            3.681,
            6.946,
            5.833,
            5.754,
            4.571,
            4.839,
            5.098,
            5.286,
            6.295,
            4.419,
            5.855,
            5.192,
            5.987,
            5.709,
            5.948,
            7.278,
            6.94,
            4.677,
            4.686,
            5.399,
            4.565,
            7.561,
            4.8,
            4.788,
            4.518,
            3.656,
            6.123,
            4.857,
            4.633,
            6.75,
            4.297,
            3.896,
            6.575,
            7.406,
            4.512,
            5.429,
            6.13,
            4.194,
            5.975,
            4.885,
            7.527,
            5.689,
            5.759,
            7.226,
            6.477,
            5.14,
            5.14,
            6.67,
            3.667,
            7.427,
            4.252,
            3.819,
            2.905,
            3.587,
            4.218,
            6.983,
            4.332,
            4.949,
            5.89,
            3.34,
            6.937,
            5.813,
            4.694,
            5.96,
            5.212,
            7.2,
            7.284,
            4.35,
            6.574,
            5.605,
            4.959,
            3.575
           ]
          }
         ],
         "name": "2016"
        },
        {
         "data": [
          {
           "coloraxis": "coloraxis",
           "geo": "geo",
           "hovertemplate": "<b>%{hovertext}</b><br><br>Year=2015<br>Country=%{location}<br>happiness_score=%{z}<extra></extra>",
           "hovertext": [
            "Zimbabwe",
            "Zambia",
            "Yemen",
            "Vietnam",
            "Venezuela",
            "Uzbekistan",
            "Uruguay",
            "United States",
            "United Kingdom",
            "United Arab Emirates",
            "Ukraine",
            "Uganda",
            "Turkmenistan",
            "Turkey",
            "Tunisia",
            "Togo",
            "Thailand",
            "Tanzania",
            "Tajikistan",
            "Switzerland",
            "Sweden",
            "Sri Lanka",
            "Spain",
            "South Africa",
            "Slovenia",
            "Slovakia",
            "Singapore",
            "Sierra Leone",
            "Serbia",
            "Senegal",
            "Saudi Arabia",
            "Rwanda",
            "Russia",
            "Romania",
            "Portugal",
            "Poland",
            "Philippines",
            "Peru",
            "Paraguay",
            "Panama",
            "Pakistan",
            "Norway",
            "Nigeria",
            "Niger",
            "Nicaragua",
            "New Zealand",
            "Netherlands",
            "Nepal",
            "Myanmar",
            "Morocco",
            "Montenegro",
            "Mongolia",
            "Moldova",
            "Mexico",
            "Mauritius",
            "Mauritania",
            "Malta",
            "Mali",
            "Malaysia",
            "Malawi",
            "Madagascar",
            "Luxembourg",
            "Lithuania",
            "Libya",
            "Liberia",
            "Lebanon",
            "Latvia",
            "Kyrgyzstan",
            "Kuwait",
            "Kenya",
            "Kazakhstan",
            "Jordan",
            "Japan",
            "Jamaica",
            "Italy",
            "Israel",
            "Ireland",
            "Iraq",
            "Iran",
            "Indonesia",
            "India",
            "Iceland",
            "Hungary",
            "Honduras",
            "Haiti",
            "Guinea",
            "Guatemala",
            "Greece",
            "Ghana",
            "Germany",
            "Georgia",
            "Gabon",
            "France",
            "Finland",
            "Ethiopia",
            "Estonia",
            "El Salvador",
            "Egypt",
            "Ecuador",
            "Dominican Republic",
            "Denmark",
            "Cyprus",
            "Croatia",
            "Costa Rica",
            "Colombia",
            "China",
            "China",
            "Chile",
            "Chad",
            "Canada",
            "Cameroon",
            "Cambodia",
            "Burundi",
            "Burkina Faso",
            "Bulgaria",
            "Brazil",
            "Botswana",
            "Bosnia and Herzegovina",
            "Bolivia",
            "Benin",
            "Belgium",
            "Belarus",
            "Bangladesh",
            "Bahrain",
            "Azerbaijan",
            "Austria",
            "Australia",
            "Armenia",
            "Argentina",
            "Algeria",
            "Albania",
            "Afghanistan"
           ],
           "ids": [
            "Zimbabwe",
            "Zambia",
            "Yemen",
            "Vietnam",
            "Venezuela",
            "Uzbekistan",
            "Uruguay",
            "United States",
            "United Kingdom",
            "United Arab Emirates",
            "Ukraine",
            "Uganda",
            "Turkmenistan",
            "Turkey",
            "Tunisia",
            "Togo",
            "Thailand",
            "Tanzania",
            "Tajikistan",
            "Switzerland",
            "Sweden",
            "Sri Lanka",
            "Spain",
            "South Africa",
            "Slovenia",
            "Slovakia",
            "Singapore",
            "Sierra Leone",
            "Serbia",
            "Senegal",
            "Saudi Arabia",
            "Rwanda",
            "Russia",
            "Romania",
            "Portugal",
            "Poland",
            "Philippines",
            "Peru",
            "Paraguay",
            "Panama",
            "Pakistan",
            "Norway",
            "Nigeria",
            "Niger",
            "Nicaragua",
            "New Zealand",
            "Netherlands",
            "Nepal",
            "Myanmar",
            "Morocco",
            "Montenegro",
            "Mongolia",
            "Moldova",
            "Mexico",
            "Mauritius",
            "Mauritania",
            "Malta",
            "Mali",
            "Malaysia",
            "Malawi",
            "Madagascar",
            "Luxembourg",
            "Lithuania",
            "Libya",
            "Liberia",
            "Lebanon",
            "Latvia",
            "Kyrgyzstan",
            "Kuwait",
            "Kenya",
            "Kazakhstan",
            "Jordan",
            "Japan",
            "Jamaica",
            "Italy",
            "Israel",
            "Ireland",
            "Iraq",
            "Iran",
            "Indonesia",
            "India",
            "Iceland",
            "Hungary",
            "Honduras",
            "Haiti",
            "Guinea",
            "Guatemala",
            "Greece",
            "Ghana",
            "Germany",
            "Georgia",
            "Gabon",
            "France",
            "Finland",
            "Ethiopia",
            "Estonia",
            "El Salvador",
            "Egypt",
            "Ecuador",
            "Dominican Republic",
            "Denmark",
            "Cyprus",
            "Croatia",
            "Costa Rica",
            "Colombia",
            "China",
            "China",
            "Chile",
            "Chad",
            "Canada",
            "Cameroon",
            "Cambodia",
            "Burundi",
            "Burkina Faso",
            "Bulgaria",
            "Brazil",
            "Botswana",
            "Bosnia and Herzegovina",
            "Bolivia",
            "Benin",
            "Belgium",
            "Belarus",
            "Bangladesh",
            "Bahrain",
            "Azerbaijan",
            "Austria",
            "Australia",
            "Armenia",
            "Argentina",
            "Algeria",
            "Albania",
            "Afghanistan"
           ],
           "locationmode": "country names",
           "locations": [
            "Zimbabwe",
            "Zambia",
            "Yemen",
            "Vietnam",
            "Venezuela",
            "Uzbekistan",
            "Uruguay",
            "United States",
            "United Kingdom",
            "United Arab Emirates",
            "Ukraine",
            "Uganda",
            "Turkmenistan",
            "Turkey",
            "Tunisia",
            "Togo",
            "Thailand",
            "Tanzania",
            "Tajikistan",
            "Switzerland",
            "Sweden",
            "Sri Lanka",
            "Spain",
            "South Africa",
            "Slovenia",
            "Slovakia",
            "Singapore",
            "Sierra Leone",
            "Serbia",
            "Senegal",
            "Saudi Arabia",
            "Rwanda",
            "Russia",
            "Romania",
            "Portugal",
            "Poland",
            "Philippines",
            "Peru",
            "Paraguay",
            "Panama",
            "Pakistan",
            "Norway",
            "Nigeria",
            "Niger",
            "Nicaragua",
            "New Zealand",
            "Netherlands",
            "Nepal",
            "Myanmar",
            "Morocco",
            "Montenegro",
            "Mongolia",
            "Moldova",
            "Mexico",
            "Mauritius",
            "Mauritania",
            "Malta",
            "Mali",
            "Malaysia",
            "Malawi",
            "Madagascar",
            "Luxembourg",
            "Lithuania",
            "Libya",
            "Liberia",
            "Lebanon",
            "Latvia",
            "Kyrgyzstan",
            "Kuwait",
            "Kenya",
            "Kazakhstan",
            "Jordan",
            "Japan",
            "Jamaica",
            "Italy",
            "Israel",
            "Ireland",
            "Iraq",
            "Iran",
            "Indonesia",
            "India",
            "Iceland",
            "Hungary",
            "Honduras",
            "Haiti",
            "Guinea",
            "Guatemala",
            "Greece",
            "Ghana",
            "Germany",
            "Georgia",
            "Gabon",
            "France",
            "Finland",
            "Ethiopia",
            "Estonia",
            "El Salvador",
            "Egypt",
            "Ecuador",
            "Dominican Republic",
            "Denmark",
            "Cyprus",
            "Croatia",
            "Costa Rica",
            "Colombia",
            "China",
            "China",
            "Chile",
            "Chad",
            "Canada",
            "Cameroon",
            "Cambodia",
            "Burundi",
            "Burkina Faso",
            "Bulgaria",
            "Brazil",
            "Botswana",
            "Bosnia and Herzegovina",
            "Bolivia",
            "Benin",
            "Belgium",
            "Belarus",
            "Bangladesh",
            "Bahrain",
            "Azerbaijan",
            "Austria",
            "Australia",
            "Armenia",
            "Argentina",
            "Algeria",
            "Albania",
            "Afghanistan"
           ],
           "name": "",
           "type": "choropleth",
           "z": [
            3.875,
            4.513999939,
            3.592999935,
            5.073999882,
            5.25,
            5.971000195,
            6.453999996,
            6.993000031,
            6.714000225,
            6.647999763,
            4.096000195,
            4.080999851,
            5.822000027,
            5.5,
            4.804999828,
            3.494999886,
            6.423999786,
            3.348999977,
            5.040999889,
            7.493999958,
            7.28399992,
            4.440000057,
            6.402999878,
            4.828999996,
            5.757999897,
            6.09800005,
            6.572000027,
            4.709000111,
            5.394999981,
            4.534999847,
            6.343999863,
            3.470999956,
            5.962999821,
            5.824999809,
            5.195000172,
            5.97300005,
            5.429999828,
            5.715000153,
            5.493000031,
            6.452000141,
            5.269000053,
            7.537000179,
            5.073999882,
            4.027999878,
            6.071000099,
            7.31400013,
            7.376999855,
            4.961999893,
            4.545000076,
            5.235000134,
            5.236999989,
            4.954999924,
            5.837999821,
            6.578000069,
            5.629000187,
            4.291999817,
            6.52699995,
            4.190000057,
            6.084000111,
            3.970000029,
            3.644000053,
            6.862999916,
            5.90199995,
            5.525000095,
            3.532999992,
            5.224999905,
            5.849999905,
            5.004000187,
            6.105000019,
            4.552999973,
            5.818999767,
            5.335999966,
            5.920000076,
            5.31099987,
            5.964000225,
            7.212999821,
            6.977000237,
            4.497000217,
            4.691999912,
            5.262000084,
            4.315000057,
            7.504000187,
            5.323999882,
            5.181000233,
            3.602999926,
            3.506999969,
            6.453999996,
            5.227000237,
            4.119999886,
            6.951000214,
            4.285999775,
            4.465000153,
            6.441999912,
            7.468999863,
            4.460000038,
            5.611000061,
            6.002999783,
            4.735000134,
            6.007999897,
            5.230000019,
            7.521999836,
            5.620999813,
            5.293000221,
            7.078999996,
            6.356999874,
            5.272999763,
            5.272999763,
            6.65199995,
            3.936000109,
            7.315999985,
            4.695000172,
            4.168000221,
            2.904999971,
            4.032000065,
            4.714000225,
            6.635000229,
            3.766000032,
            5.18200016,
            5.822999954,
            3.657000065,
            6.890999794,
            5.568999767,
            4.607999802,
            6.086999893,
            5.234000206,
            7.006000042,
            7.28399992,
            4.375999928,
            6.598999977,
            5.872000217,
            4.644000053,
            3.79399991
           ]
          }
         ],
         "name": "2015"
        }
       ],
       "layout": {
        "coloraxis": {
         "colorbar": {
          "title": {
           "text": "happiness_score"
          }
         },
         "colorscale": [
          [
           0,
           "#440154"
          ],
          [
           0.1111111111111111,
           "#482878"
          ],
          [
           0.2222222222222222,
           "#3e4989"
          ],
          [
           0.3333333333333333,
           "#31688e"
          ],
          [
           0.4444444444444444,
           "#26828e"
          ],
          [
           0.5555555555555556,
           "#1f9e89"
          ],
          [
           0.6666666666666666,
           "#35b779"
          ],
          [
           0.7777777777777778,
           "#6ece58"
          ],
          [
           0.8888888888888888,
           "#b5de2b"
          ],
          [
           1,
           "#fde725"
          ]
         ]
        },
        "geo": {
         "center": {},
         "domain": {
          "x": [
           0,
           1
          ],
          "y": [
           0,
           1
          ]
         },
         "projection": {
          "type": "natural earth"
         }
        },
        "height": 600,
        "legend": {
         "tracegroupgap": 0
        },
        "margin": {
         "b": 0,
         "l": 0,
         "r": 0,
         "t": 40
        },
        "sliders": [
         {
          "active": 0,
          "currentvalue": {
           "prefix": "Year="
          },
          "len": 0.9,
          "pad": {
           "b": 10,
           "t": 60
          },
          "steps": [
           {
            "args": [
             [
              "2018"
             ],
             {
              "frame": {
               "duration": 0,
               "redraw": true
              },
              "fromcurrent": true,
              "mode": "immediate",
              "transition": {
               "duration": 0,
               "easing": "linear"
              }
             }
            ],
            "label": "2018",
            "method": "animate"
           },
           {
            "args": [
             [
              "2017"
             ],
             {
              "frame": {
               "duration": 0,
               "redraw": true
              },
              "fromcurrent": true,
              "mode": "immediate",
              "transition": {
               "duration": 0,
               "easing": "linear"
              }
             }
            ],
            "label": "2017",
            "method": "animate"
           },
           {
            "args": [
             [
              "2016"
             ],
             {
              "frame": {
               "duration": 0,
               "redraw": true
              },
              "fromcurrent": true,
              "mode": "immediate",
              "transition": {
               "duration": 0,
               "easing": "linear"
              }
             }
            ],
            "label": "2016",
            "method": "animate"
           },
           {
            "args": [
             [
              "2015"
             ],
             {
              "frame": {
               "duration": 0,
               "redraw": true
              },
              "fromcurrent": true,
              "mode": "immediate",
              "transition": {
               "duration": 0,
               "easing": "linear"
              }
             }
            ],
            "label": "2015",
            "method": "animate"
           }
          ],
          "x": 0.1,
          "xanchor": "left",
          "y": 0,
          "yanchor": "top"
         }
        ],
        "template": {
         "data": {
          "bar": [
           {
            "error_x": {
             "color": "#2a3f5f"
            },
            "error_y": {
             "color": "#2a3f5f"
            },
            "marker": {
             "line": {
              "color": "#E5ECF6",
              "width": 0.5
             },
             "pattern": {
              "fillmode": "overlay",
              "size": 10,
              "solidity": 0.2
             }
            },
            "type": "bar"
           }
          ],
          "barpolar": [
           {
            "marker": {
             "line": {
              "color": "#E5ECF6",
              "width": 0.5
             },
             "pattern": {
              "fillmode": "overlay",
              "size": 10,
              "solidity": 0.2
             }
            },
            "type": "barpolar"
           }
          ],
          "carpet": [
           {
            "aaxis": {
             "endlinecolor": "#2a3f5f",
             "gridcolor": "white",
             "linecolor": "white",
             "minorgridcolor": "white",
             "startlinecolor": "#2a3f5f"
            },
            "baxis": {
             "endlinecolor": "#2a3f5f",
             "gridcolor": "white",
             "linecolor": "white",
             "minorgridcolor": "white",
             "startlinecolor": "#2a3f5f"
            },
            "type": "carpet"
           }
          ],
          "choropleth": [
           {
            "colorbar": {
             "outlinewidth": 0,
             "ticks": ""
            },
            "type": "choropleth"
           }
          ],
          "contour": [
           {
            "colorbar": {
             "outlinewidth": 0,
             "ticks": ""
            },
            "colorscale": [
             [
              0,
              "#0d0887"
             ],
             [
              0.1111111111111111,
              "#46039f"
             ],
             [
              0.2222222222222222,
              "#7201a8"
             ],
             [
              0.3333333333333333,
              "#9c179e"
             ],
             [
              0.4444444444444444,
              "#bd3786"
             ],
             [
              0.5555555555555556,
              "#d8576b"
             ],
             [
              0.6666666666666666,
              "#ed7953"
             ],
             [
              0.7777777777777778,
              "#fb9f3a"
             ],
             [
              0.8888888888888888,
              "#fdca26"
             ],
             [
              1,
              "#f0f921"
             ]
            ],
            "type": "contour"
           }
          ],
          "contourcarpet": [
           {
            "colorbar": {
             "outlinewidth": 0,
             "ticks": ""
            },
            "type": "contourcarpet"
           }
          ],
          "heatmap": [
           {
            "colorbar": {
             "outlinewidth": 0,
             "ticks": ""
            },
            "colorscale": [
             [
              0,
              "#0d0887"
             ],
             [
              0.1111111111111111,
              "#46039f"
             ],
             [
              0.2222222222222222,
              "#7201a8"
             ],
             [
              0.3333333333333333,
              "#9c179e"
             ],
             [
              0.4444444444444444,
              "#bd3786"
             ],
             [
              0.5555555555555556,
              "#d8576b"
             ],
             [
              0.6666666666666666,
              "#ed7953"
             ],
             [
              0.7777777777777778,
              "#fb9f3a"
             ],
             [
              0.8888888888888888,
              "#fdca26"
             ],
             [
              1,
              "#f0f921"
             ]
            ],
            "type": "heatmap"
           }
          ],
          "heatmapgl": [
           {
            "colorbar": {
             "outlinewidth": 0,
             "ticks": ""
            },
            "colorscale": [
             [
              0,
              "#0d0887"
             ],
             [
              0.1111111111111111,
              "#46039f"
             ],
             [
              0.2222222222222222,
              "#7201a8"
             ],
             [
              0.3333333333333333,
              "#9c179e"
             ],
             [
              0.4444444444444444,
              "#bd3786"
             ],
             [
              0.5555555555555556,
              "#d8576b"
             ],
             [
              0.6666666666666666,
              "#ed7953"
             ],
             [
              0.7777777777777778,
              "#fb9f3a"
             ],
             [
              0.8888888888888888,
              "#fdca26"
             ],
             [
              1,
              "#f0f921"
             ]
            ],
            "type": "heatmapgl"
           }
          ],
          "histogram": [
           {
            "marker": {
             "pattern": {
              "fillmode": "overlay",
              "size": 10,
              "solidity": 0.2
             }
            },
            "type": "histogram"
           }
          ],
          "histogram2d": [
           {
            "colorbar": {
             "outlinewidth": 0,
             "ticks": ""
            },
            "colorscale": [
             [
              0,
              "#0d0887"
             ],
             [
              0.1111111111111111,
              "#46039f"
             ],
             [
              0.2222222222222222,
              "#7201a8"
             ],
             [
              0.3333333333333333,
              "#9c179e"
             ],
             [
              0.4444444444444444,
              "#bd3786"
             ],
             [
              0.5555555555555556,
              "#d8576b"
             ],
             [
              0.6666666666666666,
              "#ed7953"
             ],
             [
              0.7777777777777778,
              "#fb9f3a"
             ],
             [
              0.8888888888888888,
              "#fdca26"
             ],
             [
              1,
              "#f0f921"
             ]
            ],
            "type": "histogram2d"
           }
          ],
          "histogram2dcontour": [
           {
            "colorbar": {
             "outlinewidth": 0,
             "ticks": ""
            },
            "colorscale": [
             [
              0,
              "#0d0887"
             ],
             [
              0.1111111111111111,
              "#46039f"
             ],
             [
              0.2222222222222222,
              "#7201a8"
             ],
             [
              0.3333333333333333,
              "#9c179e"
             ],
             [
              0.4444444444444444,
              "#bd3786"
             ],
             [
              0.5555555555555556,
              "#d8576b"
             ],
             [
              0.6666666666666666,
              "#ed7953"
             ],
             [
              0.7777777777777778,
              "#fb9f3a"
             ],
             [
              0.8888888888888888,
              "#fdca26"
             ],
             [
              1,
              "#f0f921"
             ]
            ],
            "type": "histogram2dcontour"
           }
          ],
          "mesh3d": [
           {
            "colorbar": {
             "outlinewidth": 0,
             "ticks": ""
            },
            "type": "mesh3d"
           }
          ],
          "parcoords": [
           {
            "line": {
             "colorbar": {
              "outlinewidth": 0,
              "ticks": ""
             }
            },
            "type": "parcoords"
           }
          ],
          "pie": [
           {
            "automargin": true,
            "type": "pie"
           }
          ],
          "scatter": [
           {
            "fillpattern": {
             "fillmode": "overlay",
             "size": 10,
             "solidity": 0.2
            },
            "type": "scatter"
           }
          ],
          "scatter3d": [
           {
            "line": {
             "colorbar": {
              "outlinewidth": 0,
              "ticks": ""
             }
            },
            "marker": {
             "colorbar": {
              "outlinewidth": 0,
              "ticks": ""
             }
            },
            "type": "scatter3d"
           }
          ],
          "scattercarpet": [
           {
            "marker": {
             "colorbar": {
              "outlinewidth": 0,
              "ticks": ""
             }
            },
            "type": "scattercarpet"
           }
          ],
          "scattergeo": [
           {
            "marker": {
             "colorbar": {
              "outlinewidth": 0,
              "ticks": ""
             }
            },
            "type": "scattergeo"
           }
          ],
          "scattergl": [
           {
            "marker": {
             "colorbar": {
              "outlinewidth": 0,
              "ticks": ""
             }
            },
            "type": "scattergl"
           }
          ],
          "scattermapbox": [
           {
            "marker": {
             "colorbar": {
              "outlinewidth": 0,
              "ticks": ""
             }
            },
            "type": "scattermapbox"
           }
          ],
          "scatterpolar": [
           {
            "marker": {
             "colorbar": {
              "outlinewidth": 0,
              "ticks": ""
             }
            },
            "type": "scatterpolar"
           }
          ],
          "scatterpolargl": [
           {
            "marker": {
             "colorbar": {
              "outlinewidth": 0,
              "ticks": ""
             }
            },
            "type": "scatterpolargl"
           }
          ],
          "scatterternary": [
           {
            "marker": {
             "colorbar": {
              "outlinewidth": 0,
              "ticks": ""
             }
            },
            "type": "scatterternary"
           }
          ],
          "surface": [
           {
            "colorbar": {
             "outlinewidth": 0,
             "ticks": ""
            },
            "colorscale": [
             [
              0,
              "#0d0887"
             ],
             [
              0.1111111111111111,
              "#46039f"
             ],
             [
              0.2222222222222222,
              "#7201a8"
             ],
             [
              0.3333333333333333,
              "#9c179e"
             ],
             [
              0.4444444444444444,
              "#bd3786"
             ],
             [
              0.5555555555555556,
              "#d8576b"
             ],
             [
              0.6666666666666666,
              "#ed7953"
             ],
             [
              0.7777777777777778,
              "#fb9f3a"
             ],
             [
              0.8888888888888888,
              "#fdca26"
             ],
             [
              1,
              "#f0f921"
             ]
            ],
            "type": "surface"
           }
          ],
          "table": [
           {
            "cells": {
             "fill": {
              "color": "#EBF0F8"
             },
             "line": {
              "color": "white"
             }
            },
            "header": {
             "fill": {
              "color": "#C8D4E3"
             },
             "line": {
              "color": "white"
             }
            },
            "type": "table"
           }
          ]
         },
         "layout": {
          "annotationdefaults": {
           "arrowcolor": "#2a3f5f",
           "arrowhead": 0,
           "arrowwidth": 1
          },
          "autotypenumbers": "strict",
          "coloraxis": {
           "colorbar": {
            "outlinewidth": 0,
            "ticks": ""
           }
          },
          "colorscale": {
           "diverging": [
            [
             0,
             "#8e0152"
            ],
            [
             0.1,
             "#c51b7d"
            ],
            [
             0.2,
             "#de77ae"
            ],
            [
             0.3,
             "#f1b6da"
            ],
            [
             0.4,
             "#fde0ef"
            ],
            [
             0.5,
             "#f7f7f7"
            ],
            [
             0.6,
             "#e6f5d0"
            ],
            [
             0.7,
             "#b8e186"
            ],
            [
             0.8,
             "#7fbc41"
            ],
            [
             0.9,
             "#4d9221"
            ],
            [
             1,
             "#276419"
            ]
           ],
           "sequential": [
            [
             0,
             "#0d0887"
            ],
            [
             0.1111111111111111,
             "#46039f"
            ],
            [
             0.2222222222222222,
             "#7201a8"
            ],
            [
             0.3333333333333333,
             "#9c179e"
            ],
            [
             0.4444444444444444,
             "#bd3786"
            ],
            [
             0.5555555555555556,
             "#d8576b"
            ],
            [
             0.6666666666666666,
             "#ed7953"
            ],
            [
             0.7777777777777778,
             "#fb9f3a"
            ],
            [
             0.8888888888888888,
             "#fdca26"
            ],
            [
             1,
             "#f0f921"
            ]
           ],
           "sequentialminus": [
            [
             0,
             "#0d0887"
            ],
            [
             0.1111111111111111,
             "#46039f"
            ],
            [
             0.2222222222222222,
             "#7201a8"
            ],
            [
             0.3333333333333333,
             "#9c179e"
            ],
            [
             0.4444444444444444,
             "#bd3786"
            ],
            [
             0.5555555555555556,
             "#d8576b"
            ],
            [
             0.6666666666666666,
             "#ed7953"
            ],
            [
             0.7777777777777778,
             "#fb9f3a"
            ],
            [
             0.8888888888888888,
             "#fdca26"
            ],
            [
             1,
             "#f0f921"
            ]
           ]
          },
          "colorway": [
           "#636efa",
           "#EF553B",
           "#00cc96",
           "#ab63fa",
           "#FFA15A",
           "#19d3f3",
           "#FF6692",
           "#B6E880",
           "#FF97FF",
           "#FECB52"
          ],
          "font": {
           "color": "#2a3f5f"
          },
          "geo": {
           "bgcolor": "white",
           "lakecolor": "white",
           "landcolor": "#E5ECF6",
           "showlakes": true,
           "showland": true,
           "subunitcolor": "white"
          },
          "hoverlabel": {
           "align": "left"
          },
          "hovermode": "closest",
          "mapbox": {
           "style": "light"
          },
          "paper_bgcolor": "white",
          "plot_bgcolor": "#E5ECF6",
          "polar": {
           "angularaxis": {
            "gridcolor": "white",
            "linecolor": "white",
            "ticks": ""
           },
           "bgcolor": "#E5ECF6",
           "radialaxis": {
            "gridcolor": "white",
            "linecolor": "white",
            "ticks": ""
           }
          },
          "scene": {
           "xaxis": {
            "backgroundcolor": "#E5ECF6",
            "gridcolor": "white",
            "gridwidth": 2,
            "linecolor": "white",
            "showbackground": true,
            "ticks": "",
            "zerolinecolor": "white"
           },
           "yaxis": {
            "backgroundcolor": "#E5ECF6",
            "gridcolor": "white",
            "gridwidth": 2,
            "linecolor": "white",
            "showbackground": true,
            "ticks": "",
            "zerolinecolor": "white"
           },
           "zaxis": {
            "backgroundcolor": "#E5ECF6",
            "gridcolor": "white",
            "gridwidth": 2,
            "linecolor": "white",
            "showbackground": true,
            "ticks": "",
            "zerolinecolor": "white"
           }
          },
          "shapedefaults": {
           "line": {
            "color": "#2a3f5f"
           }
          },
          "ternary": {
           "aaxis": {
            "gridcolor": "white",
            "linecolor": "white",
            "ticks": ""
           },
           "baxis": {
            "gridcolor": "white",
            "linecolor": "white",
            "ticks": ""
           },
           "bgcolor": "#E5ECF6",
           "caxis": {
            "gridcolor": "white",
            "linecolor": "white",
            "ticks": ""
           }
          },
          "title": {
           "x": 0.05
          },
          "xaxis": {
           "automargin": true,
           "gridcolor": "white",
           "linecolor": "white",
           "ticks": "",
           "title": {
            "standoff": 15
           },
           "zerolinecolor": "white",
           "zerolinewidth": 2
          },
          "yaxis": {
           "automargin": true,
           "gridcolor": "white",
           "linecolor": "white",
           "ticks": "",
           "title": {
            "standoff": 15
           },
           "zerolinecolor": "white",
           "zerolinewidth": 2
          }
         }
        },
        "title": {
         "text": "World map of Happiness"
        },
        "updatemenus": [
         {
          "buttons": [
           {
            "args": [
             null,
             {
              "frame": {
               "duration": 500,
               "redraw": true
              },
              "fromcurrent": true,
              "mode": "immediate",
              "transition": {
               "duration": 500,
               "easing": "linear"
              }
             }
            ],
            "label": "&#9654;",
            "method": "animate"
           },
           {
            "args": [
             [
              null
             ],
             {
              "frame": {
               "duration": 0,
               "redraw": true
              },
              "fromcurrent": true,
              "mode": "immediate",
              "transition": {
               "duration": 0,
               "easing": "linear"
              }
             }
            ],
            "label": "&#9724;",
            "method": "animate"
           }
          ],
          "direction": "left",
          "pad": {
           "r": 10,
           "t": 70
          },
          "showactive": false,
          "type": "buttons",
          "x": 0.1,
          "xanchor": "right",
          "y": 0,
          "yanchor": "top"
         }
        ]
       }
      },
      "text/html": [
       "<div>                            <div id=\"850bc240-874b-49a7-aa53-a6c6473ff913\" class=\"plotly-graph-div\" style=\"height:600px; width:100%;\"></div>            <script type=\"text/javascript\">                require([\"plotly\"], function(Plotly) {                    window.PLOTLYENV=window.PLOTLYENV || {};                                    if (document.getElementById(\"850bc240-874b-49a7-aa53-a6c6473ff913\")) {                    Plotly.newPlot(                        \"850bc240-874b-49a7-aa53-a6c6473ff913\",                        [{\"coloraxis\":\"coloraxis\",\"geo\":\"geo\",\"hovertemplate\":\"\\u003cb\\u003e%{hovertext}\\u003c\\u002fb\\u003e\\u003cbr\\u003e\\u003cbr\\u003eYear=2018\\u003cbr\\u003eCountry=%{location}\\u003cbr\\u003ehappiness_score=%{z}\\u003cextra\\u003e\\u003c\\u002fextra\\u003e\",\"hovertext\":[\"Zimbabwe\",\"Zambia\",\"Yemen\",\"Vietnam\",\"Venezuela\",\"Uzbekistan\",\"Uruguay\",\"United States\",\"United Kingdom\",\"United Arab Emirates\",\"Ukraine\",\"Uganda\",\"Turkmenistan\",\"Turkey\",\"Tunisia\",\"Togo\",\"Thailand\",\"Tanzania\",\"Tajikistan\",\"Switzerland\",\"Sweden\",\"Sri Lanka\",\"Spain\",\"South Africa\",\"Slovenia\",\"Slovakia\",\"Singapore\",\"Sierra Leone\",\"Serbia\",\"Senegal\",\"Saudi Arabia\",\"Rwanda\",\"Russia\",\"Romania\",\"Portugal\",\"Poland\",\"Philippines\",\"Peru\",\"Paraguay\",\"Panama\",\"Pakistan\",\"Norway\",\"Nigeria\",\"Niger\",\"Nicaragua\",\"New Zealand\",\"Netherlands\",\"Nepal\",\"Myanmar\",\"Morocco\",\"Montenegro\",\"Mongolia\",\"Moldova\",\"Mexico\",\"Mauritius\",\"Mauritania\",\"Malta\",\"Mali\",\"Malaysia\",\"Malawi\",\"Madagascar\",\"Luxembourg\",\"Lithuania\",\"Libya\",\"Liberia\",\"Lebanon\",\"Latvia\",\"Kyrgyzstan\",\"Kuwait\",\"Kenya\",\"Kazakhstan\",\"Jordan\",\"Japan\",\"Jamaica\",\"Italy\",\"Israel\",\"Ireland\",\"Iraq\",\"Iran\",\"Indonesia\",\"India\",\"Iceland\",\"Hungary\",\"Honduras\",\"Haiti\",\"Guinea\",\"Guatemala\",\"Greece\",\"Ghana\",\"Germany\",\"Georgia\",\"Gabon\",\"France\",\"Finland\",\"Ethiopia\",\"Estonia\",\"El Salvador\",\"Egypt\",\"Ecuador\",\"Dominican Republic\",\"Denmark\",\"Cyprus\",\"Croatia\",\"Costa Rica\",\"Colombia\",\"China\",\"China\",\"Chile\",\"Chad\",\"Canada\",\"Cameroon\",\"Cambodia\",\"Burundi\",\"Burkina Faso\",\"Bulgaria\",\"Brazil\",\"Botswana\",\"Bosnia and Herzegovina\",\"Bolivia\",\"Benin\",\"Belgium\",\"Belarus\",\"Bangladesh\",\"Bahrain\",\"Azerbaijan\",\"Austria\",\"Australia\",\"Armenia\",\"Argentina\",\"Algeria\",\"Albania\",\"Afghanistan\"],\"ids\":[\"Zimbabwe\",\"Zambia\",\"Yemen\",\"Vietnam\",\"Venezuela\",\"Uzbekistan\",\"Uruguay\",\"United States\",\"United Kingdom\",\"United Arab Emirates\",\"Ukraine\",\"Uganda\",\"Turkmenistan\",\"Turkey\",\"Tunisia\",\"Togo\",\"Thailand\",\"Tanzania\",\"Tajikistan\",\"Switzerland\",\"Sweden\",\"Sri Lanka\",\"Spain\",\"South Africa\",\"Slovenia\",\"Slovakia\",\"Singapore\",\"Sierra Leone\",\"Serbia\",\"Senegal\",\"Saudi Arabia\",\"Rwanda\",\"Russia\",\"Romania\",\"Portugal\",\"Poland\",\"Philippines\",\"Peru\",\"Paraguay\",\"Panama\",\"Pakistan\",\"Norway\",\"Nigeria\",\"Niger\",\"Nicaragua\",\"New Zealand\",\"Netherlands\",\"Nepal\",\"Myanmar\",\"Morocco\",\"Montenegro\",\"Mongolia\",\"Moldova\",\"Mexico\",\"Mauritius\",\"Mauritania\",\"Malta\",\"Mali\",\"Malaysia\",\"Malawi\",\"Madagascar\",\"Luxembourg\",\"Lithuania\",\"Libya\",\"Liberia\",\"Lebanon\",\"Latvia\",\"Kyrgyzstan\",\"Kuwait\",\"Kenya\",\"Kazakhstan\",\"Jordan\",\"Japan\",\"Jamaica\",\"Italy\",\"Israel\",\"Ireland\",\"Iraq\",\"Iran\",\"Indonesia\",\"India\",\"Iceland\",\"Hungary\",\"Honduras\",\"Haiti\",\"Guinea\",\"Guatemala\",\"Greece\",\"Ghana\",\"Germany\",\"Georgia\",\"Gabon\",\"France\",\"Finland\",\"Ethiopia\",\"Estonia\",\"El Salvador\",\"Egypt\",\"Ecuador\",\"Dominican Republic\",\"Denmark\",\"Cyprus\",\"Croatia\",\"Costa Rica\",\"Colombia\",\"China\",\"China\",\"Chile\",\"Chad\",\"Canada\",\"Cameroon\",\"Cambodia\",\"Burundi\",\"Burkina Faso\",\"Bulgaria\",\"Brazil\",\"Botswana\",\"Bosnia and Herzegovina\",\"Bolivia\",\"Benin\",\"Belgium\",\"Belarus\",\"Bangladesh\",\"Bahrain\",\"Azerbaijan\",\"Austria\",\"Australia\",\"Armenia\",\"Argentina\",\"Algeria\",\"Albania\",\"Afghanistan\"],\"locationmode\":\"country names\",\"locations\":[\"Zimbabwe\",\"Zambia\",\"Yemen\",\"Vietnam\",\"Venezuela\",\"Uzbekistan\",\"Uruguay\",\"United States\",\"United Kingdom\",\"United Arab Emirates\",\"Ukraine\",\"Uganda\",\"Turkmenistan\",\"Turkey\",\"Tunisia\",\"Togo\",\"Thailand\",\"Tanzania\",\"Tajikistan\",\"Switzerland\",\"Sweden\",\"Sri Lanka\",\"Spain\",\"South Africa\",\"Slovenia\",\"Slovakia\",\"Singapore\",\"Sierra Leone\",\"Serbia\",\"Senegal\",\"Saudi Arabia\",\"Rwanda\",\"Russia\",\"Romania\",\"Portugal\",\"Poland\",\"Philippines\",\"Peru\",\"Paraguay\",\"Panama\",\"Pakistan\",\"Norway\",\"Nigeria\",\"Niger\",\"Nicaragua\",\"New Zealand\",\"Netherlands\",\"Nepal\",\"Myanmar\",\"Morocco\",\"Montenegro\",\"Mongolia\",\"Moldova\",\"Mexico\",\"Mauritius\",\"Mauritania\",\"Malta\",\"Mali\",\"Malaysia\",\"Malawi\",\"Madagascar\",\"Luxembourg\",\"Lithuania\",\"Libya\",\"Liberia\",\"Lebanon\",\"Latvia\",\"Kyrgyzstan\",\"Kuwait\",\"Kenya\",\"Kazakhstan\",\"Jordan\",\"Japan\",\"Jamaica\",\"Italy\",\"Israel\",\"Ireland\",\"Iraq\",\"Iran\",\"Indonesia\",\"India\",\"Iceland\",\"Hungary\",\"Honduras\",\"Haiti\",\"Guinea\",\"Guatemala\",\"Greece\",\"Ghana\",\"Germany\",\"Georgia\",\"Gabon\",\"France\",\"Finland\",\"Ethiopia\",\"Estonia\",\"El Salvador\",\"Egypt\",\"Ecuador\",\"Dominican Republic\",\"Denmark\",\"Cyprus\",\"Croatia\",\"Costa Rica\",\"Colombia\",\"China\",\"China\",\"Chile\",\"Chad\",\"Canada\",\"Cameroon\",\"Cambodia\",\"Burundi\",\"Burkina Faso\",\"Bulgaria\",\"Brazil\",\"Botswana\",\"Bosnia and Herzegovina\",\"Bolivia\",\"Benin\",\"Belgium\",\"Belarus\",\"Bangladesh\",\"Bahrain\",\"Azerbaijan\",\"Austria\",\"Australia\",\"Armenia\",\"Argentina\",\"Algeria\",\"Albania\",\"Afghanistan\"],\"name\":\"\",\"z\":[3.692,4.377,3.355,5.103,4.806,6.096,6.379,6.886,7.19,6.774,4.103,4.161,5.636,5.483,4.592,3.999,6.072,3.303,5.199,7.487,7.314,4.471,6.31,4.724,5.948,6.173,6.343,4.571,5.398,4.631,6.371,3.408,5.81,5.945,5.41,6.123,5.524,5.663,5.681,6.43,5.472,7.594,5.155,4.166,6.141,7.324,7.441,4.88,4.308,5.254,5.347,5.125,5.64,6.488,5.891,4.356,6.627,4.447,6.322,3.587,3.774,6.91,5.952,5.566,3.495,5.358,5.933,5.131,6.083,4.41,5.79,5.161,5.915,5.89,6.0,6.814,6.977,4.456,4.707,5.093,4.19,7.495,5.62,5.504,3.582,3.964,6.382,5.358,4.657,6.965,4.34,4.758,6.489,7.632,4.35,5.739,6.167,4.419,5.973,5.302,7.555,5.762,5.321,7.072,6.26,5.246,5.246,6.476,4.301,7.328,4.975,4.433,2.905,4.424,4.933,6.419,3.59,5.129,5.752,4.141,6.927,5.483,4.5,6.105,5.201,7.139,7.272,4.321,6.388,5.295,4.586,3.632],\"type\":\"choropleth\"}],                        {\"template\":{\"data\":{\"histogram2dcontour\":[{\"type\":\"histogram2dcontour\",\"colorbar\":{\"outlinewidth\":0,\"ticks\":\"\"},\"colorscale\":[[0.0,\"#0d0887\"],[0.1111111111111111,\"#46039f\"],[0.2222222222222222,\"#7201a8\"],[0.3333333333333333,\"#9c179e\"],[0.4444444444444444,\"#bd3786\"],[0.5555555555555556,\"#d8576b\"],[0.6666666666666666,\"#ed7953\"],[0.7777777777777778,\"#fb9f3a\"],[0.8888888888888888,\"#fdca26\"],[1.0,\"#f0f921\"]]}],\"choropleth\":[{\"type\":\"choropleth\",\"colorbar\":{\"outlinewidth\":0,\"ticks\":\"\"}}],\"histogram2d\":[{\"type\":\"histogram2d\",\"colorbar\":{\"outlinewidth\":0,\"ticks\":\"\"},\"colorscale\":[[0.0,\"#0d0887\"],[0.1111111111111111,\"#46039f\"],[0.2222222222222222,\"#7201a8\"],[0.3333333333333333,\"#9c179e\"],[0.4444444444444444,\"#bd3786\"],[0.5555555555555556,\"#d8576b\"],[0.6666666666666666,\"#ed7953\"],[0.7777777777777778,\"#fb9f3a\"],[0.8888888888888888,\"#fdca26\"],[1.0,\"#f0f921\"]]}],\"heatmap\":[{\"type\":\"heatmap\",\"colorbar\":{\"outlinewidth\":0,\"ticks\":\"\"},\"colorscale\":[[0.0,\"#0d0887\"],[0.1111111111111111,\"#46039f\"],[0.2222222222222222,\"#7201a8\"],[0.3333333333333333,\"#9c179e\"],[0.4444444444444444,\"#bd3786\"],[0.5555555555555556,\"#d8576b\"],[0.6666666666666666,\"#ed7953\"],[0.7777777777777778,\"#fb9f3a\"],[0.8888888888888888,\"#fdca26\"],[1.0,\"#f0f921\"]]}],\"heatmapgl\":[{\"type\":\"heatmapgl\",\"colorbar\":{\"outlinewidth\":0,\"ticks\":\"\"},\"colorscale\":[[0.0,\"#0d0887\"],[0.1111111111111111,\"#46039f\"],[0.2222222222222222,\"#7201a8\"],[0.3333333333333333,\"#9c179e\"],[0.4444444444444444,\"#bd3786\"],[0.5555555555555556,\"#d8576b\"],[0.6666666666666666,\"#ed7953\"],[0.7777777777777778,\"#fb9f3a\"],[0.8888888888888888,\"#fdca26\"],[1.0,\"#f0f921\"]]}],\"contourcarpet\":[{\"type\":\"contourcarpet\",\"colorbar\":{\"outlinewidth\":0,\"ticks\":\"\"}}],\"contour\":[{\"type\":\"contour\",\"colorbar\":{\"outlinewidth\":0,\"ticks\":\"\"},\"colorscale\":[[0.0,\"#0d0887\"],[0.1111111111111111,\"#46039f\"],[0.2222222222222222,\"#7201a8\"],[0.3333333333333333,\"#9c179e\"],[0.4444444444444444,\"#bd3786\"],[0.5555555555555556,\"#d8576b\"],[0.6666666666666666,\"#ed7953\"],[0.7777777777777778,\"#fb9f3a\"],[0.8888888888888888,\"#fdca26\"],[1.0,\"#f0f921\"]]}],\"surface\":[{\"type\":\"surface\",\"colorbar\":{\"outlinewidth\":0,\"ticks\":\"\"},\"colorscale\":[[0.0,\"#0d0887\"],[0.1111111111111111,\"#46039f\"],[0.2222222222222222,\"#7201a8\"],[0.3333333333333333,\"#9c179e\"],[0.4444444444444444,\"#bd3786\"],[0.5555555555555556,\"#d8576b\"],[0.6666666666666666,\"#ed7953\"],[0.7777777777777778,\"#fb9f3a\"],[0.8888888888888888,\"#fdca26\"],[1.0,\"#f0f921\"]]}],\"mesh3d\":[{\"type\":\"mesh3d\",\"colorbar\":{\"outlinewidth\":0,\"ticks\":\"\"}}],\"scatter\":[{\"fillpattern\":{\"fillmode\":\"overlay\",\"size\":10,\"solidity\":0.2},\"type\":\"scatter\"}],\"parcoords\":[{\"type\":\"parcoords\",\"line\":{\"colorbar\":{\"outlinewidth\":0,\"ticks\":\"\"}}}],\"scatterpolargl\":[{\"type\":\"scatterpolargl\",\"marker\":{\"colorbar\":{\"outlinewidth\":0,\"ticks\":\"\"}}}],\"bar\":[{\"error_x\":{\"color\":\"#2a3f5f\"},\"error_y\":{\"color\":\"#2a3f5f\"},\"marker\":{\"line\":{\"color\":\"#E5ECF6\",\"width\":0.5},\"pattern\":{\"fillmode\":\"overlay\",\"size\":10,\"solidity\":0.2}},\"type\":\"bar\"}],\"scattergeo\":[{\"type\":\"scattergeo\",\"marker\":{\"colorbar\":{\"outlinewidth\":0,\"ticks\":\"\"}}}],\"scatterpolar\":[{\"type\":\"scatterpolar\",\"marker\":{\"colorbar\":{\"outlinewidth\":0,\"ticks\":\"\"}}}],\"histogram\":[{\"marker\":{\"pattern\":{\"fillmode\":\"overlay\",\"size\":10,\"solidity\":0.2}},\"type\":\"histogram\"}],\"scattergl\":[{\"type\":\"scattergl\",\"marker\":{\"colorbar\":{\"outlinewidth\":0,\"ticks\":\"\"}}}],\"scatter3d\":[{\"type\":\"scatter3d\",\"line\":{\"colorbar\":{\"outlinewidth\":0,\"ticks\":\"\"}},\"marker\":{\"colorbar\":{\"outlinewidth\":0,\"ticks\":\"\"}}}],\"scattermapbox\":[{\"type\":\"scattermapbox\",\"marker\":{\"colorbar\":{\"outlinewidth\":0,\"ticks\":\"\"}}}],\"scatterternary\":[{\"type\":\"scatterternary\",\"marker\":{\"colorbar\":{\"outlinewidth\":0,\"ticks\":\"\"}}}],\"scattercarpet\":[{\"type\":\"scattercarpet\",\"marker\":{\"colorbar\":{\"outlinewidth\":0,\"ticks\":\"\"}}}],\"carpet\":[{\"aaxis\":{\"endlinecolor\":\"#2a3f5f\",\"gridcolor\":\"white\",\"linecolor\":\"white\",\"minorgridcolor\":\"white\",\"startlinecolor\":\"#2a3f5f\"},\"baxis\":{\"endlinecolor\":\"#2a3f5f\",\"gridcolor\":\"white\",\"linecolor\":\"white\",\"minorgridcolor\":\"white\",\"startlinecolor\":\"#2a3f5f\"},\"type\":\"carpet\"}],\"table\":[{\"cells\":{\"fill\":{\"color\":\"#EBF0F8\"},\"line\":{\"color\":\"white\"}},\"header\":{\"fill\":{\"color\":\"#C8D4E3\"},\"line\":{\"color\":\"white\"}},\"type\":\"table\"}],\"barpolar\":[{\"marker\":{\"line\":{\"color\":\"#E5ECF6\",\"width\":0.5},\"pattern\":{\"fillmode\":\"overlay\",\"size\":10,\"solidity\":0.2}},\"type\":\"barpolar\"}],\"pie\":[{\"automargin\":true,\"type\":\"pie\"}]},\"layout\":{\"autotypenumbers\":\"strict\",\"colorway\":[\"#636efa\",\"#EF553B\",\"#00cc96\",\"#ab63fa\",\"#FFA15A\",\"#19d3f3\",\"#FF6692\",\"#B6E880\",\"#FF97FF\",\"#FECB52\"],\"font\":{\"color\":\"#2a3f5f\"},\"hovermode\":\"closest\",\"hoverlabel\":{\"align\":\"left\"},\"paper_bgcolor\":\"white\",\"plot_bgcolor\":\"#E5ECF6\",\"polar\":{\"bgcolor\":\"#E5ECF6\",\"angularaxis\":{\"gridcolor\":\"white\",\"linecolor\":\"white\",\"ticks\":\"\"},\"radialaxis\":{\"gridcolor\":\"white\",\"linecolor\":\"white\",\"ticks\":\"\"}},\"ternary\":{\"bgcolor\":\"#E5ECF6\",\"aaxis\":{\"gridcolor\":\"white\",\"linecolor\":\"white\",\"ticks\":\"\"},\"baxis\":{\"gridcolor\":\"white\",\"linecolor\":\"white\",\"ticks\":\"\"},\"caxis\":{\"gridcolor\":\"white\",\"linecolor\":\"white\",\"ticks\":\"\"}},\"coloraxis\":{\"colorbar\":{\"outlinewidth\":0,\"ticks\":\"\"}},\"colorscale\":{\"sequential\":[[0.0,\"#0d0887\"],[0.1111111111111111,\"#46039f\"],[0.2222222222222222,\"#7201a8\"],[0.3333333333333333,\"#9c179e\"],[0.4444444444444444,\"#bd3786\"],[0.5555555555555556,\"#d8576b\"],[0.6666666666666666,\"#ed7953\"],[0.7777777777777778,\"#fb9f3a\"],[0.8888888888888888,\"#fdca26\"],[1.0,\"#f0f921\"]],\"sequentialminus\":[[0.0,\"#0d0887\"],[0.1111111111111111,\"#46039f\"],[0.2222222222222222,\"#7201a8\"],[0.3333333333333333,\"#9c179e\"],[0.4444444444444444,\"#bd3786\"],[0.5555555555555556,\"#d8576b\"],[0.6666666666666666,\"#ed7953\"],[0.7777777777777778,\"#fb9f3a\"],[0.8888888888888888,\"#fdca26\"],[1.0,\"#f0f921\"]],\"diverging\":[[0,\"#8e0152\"],[0.1,\"#c51b7d\"],[0.2,\"#de77ae\"],[0.3,\"#f1b6da\"],[0.4,\"#fde0ef\"],[0.5,\"#f7f7f7\"],[0.6,\"#e6f5d0\"],[0.7,\"#b8e186\"],[0.8,\"#7fbc41\"],[0.9,\"#4d9221\"],[1,\"#276419\"]]},\"xaxis\":{\"gridcolor\":\"white\",\"linecolor\":\"white\",\"ticks\":\"\",\"title\":{\"standoff\":15},\"zerolinecolor\":\"white\",\"automargin\":true,\"zerolinewidth\":2},\"yaxis\":{\"gridcolor\":\"white\",\"linecolor\":\"white\",\"ticks\":\"\",\"title\":{\"standoff\":15},\"zerolinecolor\":\"white\",\"automargin\":true,\"zerolinewidth\":2},\"scene\":{\"xaxis\":{\"backgroundcolor\":\"#E5ECF6\",\"gridcolor\":\"white\",\"linecolor\":\"white\",\"showbackground\":true,\"ticks\":\"\",\"zerolinecolor\":\"white\",\"gridwidth\":2},\"yaxis\":{\"backgroundcolor\":\"#E5ECF6\",\"gridcolor\":\"white\",\"linecolor\":\"white\",\"showbackground\":true,\"ticks\":\"\",\"zerolinecolor\":\"white\",\"gridwidth\":2},\"zaxis\":{\"backgroundcolor\":\"#E5ECF6\",\"gridcolor\":\"white\",\"linecolor\":\"white\",\"showbackground\":true,\"ticks\":\"\",\"zerolinecolor\":\"white\",\"gridwidth\":2}},\"shapedefaults\":{\"line\":{\"color\":\"#2a3f5f\"}},\"annotationdefaults\":{\"arrowcolor\":\"#2a3f5f\",\"arrowhead\":0,\"arrowwidth\":1},\"geo\":{\"bgcolor\":\"white\",\"landcolor\":\"#E5ECF6\",\"subunitcolor\":\"white\",\"showland\":true,\"showlakes\":true,\"lakecolor\":\"white\"},\"title\":{\"x\":0.05},\"mapbox\":{\"style\":\"light\"}}},\"geo\":{\"domain\":{\"x\":[0.0,1.0],\"y\":[0.0,1.0]},\"projection\":{\"type\":\"natural earth\"},\"center\":{}},\"coloraxis\":{\"colorbar\":{\"title\":{\"text\":\"happiness_score\"}},\"colorscale\":[[0.0,\"#440154\"],[0.1111111111111111,\"#482878\"],[0.2222222222222222,\"#3e4989\"],[0.3333333333333333,\"#31688e\"],[0.4444444444444444,\"#26828e\"],[0.5555555555555556,\"#1f9e89\"],[0.6666666666666666,\"#35b779\"],[0.7777777777777778,\"#6ece58\"],[0.8888888888888888,\"#b5de2b\"],[1.0,\"#fde725\"]]},\"legend\":{\"tracegroupgap\":0},\"margin\":{\"t\":40,\"r\":0,\"l\":0,\"b\":0},\"updatemenus\":[{\"buttons\":[{\"args\":[null,{\"frame\":{\"duration\":500,\"redraw\":true},\"mode\":\"immediate\",\"fromcurrent\":true,\"transition\":{\"duration\":500,\"easing\":\"linear\"}}],\"label\":\"&#9654;\",\"method\":\"animate\"},{\"args\":[[null],{\"frame\":{\"duration\":0,\"redraw\":true},\"mode\":\"immediate\",\"fromcurrent\":true,\"transition\":{\"duration\":0,\"easing\":\"linear\"}}],\"label\":\"&#9724;\",\"method\":\"animate\"}],\"direction\":\"left\",\"pad\":{\"r\":10,\"t\":70},\"showactive\":false,\"type\":\"buttons\",\"x\":0.1,\"xanchor\":\"right\",\"y\":0,\"yanchor\":\"top\"}],\"sliders\":[{\"active\":0,\"currentvalue\":{\"prefix\":\"Year=\"},\"len\":0.9,\"pad\":{\"b\":10,\"t\":60},\"steps\":[{\"args\":[[\"2018\"],{\"frame\":{\"duration\":0,\"redraw\":true},\"mode\":\"immediate\",\"fromcurrent\":true,\"transition\":{\"duration\":0,\"easing\":\"linear\"}}],\"label\":\"2018\",\"method\":\"animate\"},{\"args\":[[\"2017\"],{\"frame\":{\"duration\":0,\"redraw\":true},\"mode\":\"immediate\",\"fromcurrent\":true,\"transition\":{\"duration\":0,\"easing\":\"linear\"}}],\"label\":\"2017\",\"method\":\"animate\"},{\"args\":[[\"2016\"],{\"frame\":{\"duration\":0,\"redraw\":true},\"mode\":\"immediate\",\"fromcurrent\":true,\"transition\":{\"duration\":0,\"easing\":\"linear\"}}],\"label\":\"2016\",\"method\":\"animate\"},{\"args\":[[\"2015\"],{\"frame\":{\"duration\":0,\"redraw\":true},\"mode\":\"immediate\",\"fromcurrent\":true,\"transition\":{\"duration\":0,\"easing\":\"linear\"}}],\"label\":\"2015\",\"method\":\"animate\"}],\"x\":0.1,\"xanchor\":\"left\",\"y\":0,\"yanchor\":\"top\"}],\"height\":600,\"title\":{\"text\":\"World map of Happiness\"}},                        {\"responsive\": true}                    ).then(function(){\n",
       "                            Plotly.addFrames('850bc240-874b-49a7-aa53-a6c6473ff913', [{\"data\":[{\"coloraxis\":\"coloraxis\",\"geo\":\"geo\",\"hovertemplate\":\"\\u003cb\\u003e%{hovertext}\\u003c\\u002fb\\u003e\\u003cbr\\u003e\\u003cbr\\u003eYear=2018\\u003cbr\\u003eCountry=%{location}\\u003cbr\\u003ehappiness_score=%{z}\\u003cextra\\u003e\\u003c\\u002fextra\\u003e\",\"hovertext\":[\"Zimbabwe\",\"Zambia\",\"Yemen\",\"Vietnam\",\"Venezuela\",\"Uzbekistan\",\"Uruguay\",\"United States\",\"United Kingdom\",\"United Arab Emirates\",\"Ukraine\",\"Uganda\",\"Turkmenistan\",\"Turkey\",\"Tunisia\",\"Togo\",\"Thailand\",\"Tanzania\",\"Tajikistan\",\"Switzerland\",\"Sweden\",\"Sri Lanka\",\"Spain\",\"South Africa\",\"Slovenia\",\"Slovakia\",\"Singapore\",\"Sierra Leone\",\"Serbia\",\"Senegal\",\"Saudi Arabia\",\"Rwanda\",\"Russia\",\"Romania\",\"Portugal\",\"Poland\",\"Philippines\",\"Peru\",\"Paraguay\",\"Panama\",\"Pakistan\",\"Norway\",\"Nigeria\",\"Niger\",\"Nicaragua\",\"New Zealand\",\"Netherlands\",\"Nepal\",\"Myanmar\",\"Morocco\",\"Montenegro\",\"Mongolia\",\"Moldova\",\"Mexico\",\"Mauritius\",\"Mauritania\",\"Malta\",\"Mali\",\"Malaysia\",\"Malawi\",\"Madagascar\",\"Luxembourg\",\"Lithuania\",\"Libya\",\"Liberia\",\"Lebanon\",\"Latvia\",\"Kyrgyzstan\",\"Kuwait\",\"Kenya\",\"Kazakhstan\",\"Jordan\",\"Japan\",\"Jamaica\",\"Italy\",\"Israel\",\"Ireland\",\"Iraq\",\"Iran\",\"Indonesia\",\"India\",\"Iceland\",\"Hungary\",\"Honduras\",\"Haiti\",\"Guinea\",\"Guatemala\",\"Greece\",\"Ghana\",\"Germany\",\"Georgia\",\"Gabon\",\"France\",\"Finland\",\"Ethiopia\",\"Estonia\",\"El Salvador\",\"Egypt\",\"Ecuador\",\"Dominican Republic\",\"Denmark\",\"Cyprus\",\"Croatia\",\"Costa Rica\",\"Colombia\",\"China\",\"China\",\"Chile\",\"Chad\",\"Canada\",\"Cameroon\",\"Cambodia\",\"Burundi\",\"Burkina Faso\",\"Bulgaria\",\"Brazil\",\"Botswana\",\"Bosnia and Herzegovina\",\"Bolivia\",\"Benin\",\"Belgium\",\"Belarus\",\"Bangladesh\",\"Bahrain\",\"Azerbaijan\",\"Austria\",\"Australia\",\"Armenia\",\"Argentina\",\"Algeria\",\"Albania\",\"Afghanistan\"],\"ids\":[\"Zimbabwe\",\"Zambia\",\"Yemen\",\"Vietnam\",\"Venezuela\",\"Uzbekistan\",\"Uruguay\",\"United States\",\"United Kingdom\",\"United Arab Emirates\",\"Ukraine\",\"Uganda\",\"Turkmenistan\",\"Turkey\",\"Tunisia\",\"Togo\",\"Thailand\",\"Tanzania\",\"Tajikistan\",\"Switzerland\",\"Sweden\",\"Sri Lanka\",\"Spain\",\"South Africa\",\"Slovenia\",\"Slovakia\",\"Singapore\",\"Sierra Leone\",\"Serbia\",\"Senegal\",\"Saudi Arabia\",\"Rwanda\",\"Russia\",\"Romania\",\"Portugal\",\"Poland\",\"Philippines\",\"Peru\",\"Paraguay\",\"Panama\",\"Pakistan\",\"Norway\",\"Nigeria\",\"Niger\",\"Nicaragua\",\"New Zealand\",\"Netherlands\",\"Nepal\",\"Myanmar\",\"Morocco\",\"Montenegro\",\"Mongolia\",\"Moldova\",\"Mexico\",\"Mauritius\",\"Mauritania\",\"Malta\",\"Mali\",\"Malaysia\",\"Malawi\",\"Madagascar\",\"Luxembourg\",\"Lithuania\",\"Libya\",\"Liberia\",\"Lebanon\",\"Latvia\",\"Kyrgyzstan\",\"Kuwait\",\"Kenya\",\"Kazakhstan\",\"Jordan\",\"Japan\",\"Jamaica\",\"Italy\",\"Israel\",\"Ireland\",\"Iraq\",\"Iran\",\"Indonesia\",\"India\",\"Iceland\",\"Hungary\",\"Honduras\",\"Haiti\",\"Guinea\",\"Guatemala\",\"Greece\",\"Ghana\",\"Germany\",\"Georgia\",\"Gabon\",\"France\",\"Finland\",\"Ethiopia\",\"Estonia\",\"El Salvador\",\"Egypt\",\"Ecuador\",\"Dominican Republic\",\"Denmark\",\"Cyprus\",\"Croatia\",\"Costa Rica\",\"Colombia\",\"China\",\"China\",\"Chile\",\"Chad\",\"Canada\",\"Cameroon\",\"Cambodia\",\"Burundi\",\"Burkina Faso\",\"Bulgaria\",\"Brazil\",\"Botswana\",\"Bosnia and Herzegovina\",\"Bolivia\",\"Benin\",\"Belgium\",\"Belarus\",\"Bangladesh\",\"Bahrain\",\"Azerbaijan\",\"Austria\",\"Australia\",\"Armenia\",\"Argentina\",\"Algeria\",\"Albania\",\"Afghanistan\"],\"locationmode\":\"country names\",\"locations\":[\"Zimbabwe\",\"Zambia\",\"Yemen\",\"Vietnam\",\"Venezuela\",\"Uzbekistan\",\"Uruguay\",\"United States\",\"United Kingdom\",\"United Arab Emirates\",\"Ukraine\",\"Uganda\",\"Turkmenistan\",\"Turkey\",\"Tunisia\",\"Togo\",\"Thailand\",\"Tanzania\",\"Tajikistan\",\"Switzerland\",\"Sweden\",\"Sri Lanka\",\"Spain\",\"South Africa\",\"Slovenia\",\"Slovakia\",\"Singapore\",\"Sierra Leone\",\"Serbia\",\"Senegal\",\"Saudi Arabia\",\"Rwanda\",\"Russia\",\"Romania\",\"Portugal\",\"Poland\",\"Philippines\",\"Peru\",\"Paraguay\",\"Panama\",\"Pakistan\",\"Norway\",\"Nigeria\",\"Niger\",\"Nicaragua\",\"New Zealand\",\"Netherlands\",\"Nepal\",\"Myanmar\",\"Morocco\",\"Montenegro\",\"Mongolia\",\"Moldova\",\"Mexico\",\"Mauritius\",\"Mauritania\",\"Malta\",\"Mali\",\"Malaysia\",\"Malawi\",\"Madagascar\",\"Luxembourg\",\"Lithuania\",\"Libya\",\"Liberia\",\"Lebanon\",\"Latvia\",\"Kyrgyzstan\",\"Kuwait\",\"Kenya\",\"Kazakhstan\",\"Jordan\",\"Japan\",\"Jamaica\",\"Italy\",\"Israel\",\"Ireland\",\"Iraq\",\"Iran\",\"Indonesia\",\"India\",\"Iceland\",\"Hungary\",\"Honduras\",\"Haiti\",\"Guinea\",\"Guatemala\",\"Greece\",\"Ghana\",\"Germany\",\"Georgia\",\"Gabon\",\"France\",\"Finland\",\"Ethiopia\",\"Estonia\",\"El Salvador\",\"Egypt\",\"Ecuador\",\"Dominican Republic\",\"Denmark\",\"Cyprus\",\"Croatia\",\"Costa Rica\",\"Colombia\",\"China\",\"China\",\"Chile\",\"Chad\",\"Canada\",\"Cameroon\",\"Cambodia\",\"Burundi\",\"Burkina Faso\",\"Bulgaria\",\"Brazil\",\"Botswana\",\"Bosnia and Herzegovina\",\"Bolivia\",\"Benin\",\"Belgium\",\"Belarus\",\"Bangladesh\",\"Bahrain\",\"Azerbaijan\",\"Austria\",\"Australia\",\"Armenia\",\"Argentina\",\"Algeria\",\"Albania\",\"Afghanistan\"],\"name\":\"\",\"z\":[3.692,4.377,3.355,5.103,4.806,6.096,6.379,6.886,7.19,6.774,4.103,4.161,5.636,5.483,4.592,3.999,6.072,3.303,5.199,7.487,7.314,4.471,6.31,4.724,5.948,6.173,6.343,4.571,5.398,4.631,6.371,3.408,5.81,5.945,5.41,6.123,5.524,5.663,5.681,6.43,5.472,7.594,5.155,4.166,6.141,7.324,7.441,4.88,4.308,5.254,5.347,5.125,5.64,6.488,5.891,4.356,6.627,4.447,6.322,3.587,3.774,6.91,5.952,5.566,3.495,5.358,5.933,5.131,6.083,4.41,5.79,5.161,5.915,5.89,6.0,6.814,6.977,4.456,4.707,5.093,4.19,7.495,5.62,5.504,3.582,3.964,6.382,5.358,4.657,6.965,4.34,4.758,6.489,7.632,4.35,5.739,6.167,4.419,5.973,5.302,7.555,5.762,5.321,7.072,6.26,5.246,5.246,6.476,4.301,7.328,4.975,4.433,2.905,4.424,4.933,6.419,3.59,5.129,5.752,4.141,6.927,5.483,4.5,6.105,5.201,7.139,7.272,4.321,6.388,5.295,4.586,3.632],\"type\":\"choropleth\"}],\"name\":\"2018\"},{\"data\":[{\"coloraxis\":\"coloraxis\",\"geo\":\"geo\",\"hovertemplate\":\"\\u003cb\\u003e%{hovertext}\\u003c\\u002fb\\u003e\\u003cbr\\u003e\\u003cbr\\u003eYear=2017\\u003cbr\\u003eCountry=%{location}\\u003cbr\\u003ehappiness_score=%{z}\\u003cextra\\u003e\\u003c\\u002fextra\\u003e\",\"hovertext\":[\"Zimbabwe\",\"Zambia\",\"Yemen\",\"Vietnam\",\"Venezuela\",\"Uzbekistan\",\"Uruguay\",\"United States\",\"United Kingdom\",\"United Arab Emirates\",\"Ukraine\",\"Uganda\",\"Turkmenistan\",\"Turkey\",\"Tunisia\",\"Togo\",\"Thailand\",\"Tanzania\",\"Tajikistan\",\"Switzerland\",\"Sweden\",\"Sri Lanka\",\"Spain\",\"South Africa\",\"Slovenia\",\"Slovakia\",\"Singapore\",\"Sierra Leone\",\"Serbia\",\"Senegal\",\"Saudi Arabia\",\"Rwanda\",\"Russia\",\"Romania\",\"Portugal\",\"Poland\",\"Philippines\",\"Peru\",\"Paraguay\",\"Panama\",\"Pakistan\",\"Norway\",\"Nigeria\",\"Niger\",\"Nicaragua\",\"New Zealand\",\"Netherlands\",\"Nepal\",\"Myanmar\",\"Morocco\",\"Montenegro\",\"Mongolia\",\"Moldova\",\"Mexico\",\"Mauritius\",\"Mauritania\",\"Malta\",\"Mali\",\"Malaysia\",\"Malawi\",\"Madagascar\",\"Luxembourg\",\"Lithuania\",\"Libya\",\"Liberia\",\"Lebanon\",\"Latvia\",\"Kyrgyzstan\",\"Kuwait\",\"Kenya\",\"Kazakhstan\",\"Jordan\",\"Japan\",\"Jamaica\",\"Italy\",\"Israel\",\"Ireland\",\"Iraq\",\"Iran\",\"Indonesia\",\"India\",\"Iceland\",\"Hungary\",\"Honduras\",\"Haiti\",\"Guinea\",\"Guatemala\",\"Greece\",\"Ghana\",\"Germany\",\"Georgia\",\"Gabon\",\"France\",\"Finland\",\"Ethiopia\",\"Estonia\",\"El Salvador\",\"Egypt\",\"Ecuador\",\"Dominican Republic\",\"Denmark\",\"Cyprus\",\"Croatia\",\"Costa Rica\",\"Colombia\",\"China\",\"China\",\"Chile\",\"Chad\",\"Canada\",\"Cameroon\",\"Cambodia\",\"Burundi\",\"Burkina Faso\",\"Bulgaria\",\"Brazil\",\"Botswana\",\"Bosnia and Herzegovina\",\"Bolivia\",\"Benin\",\"Belgium\",\"Belarus\",\"Bangladesh\",\"Bahrain\",\"Azerbaijan\",\"Austria\",\"Australia\",\"Armenia\",\"Argentina\",\"Algeria\",\"Albania\",\"Afghanistan\"],\"ids\":[\"Zimbabwe\",\"Zambia\",\"Yemen\",\"Vietnam\",\"Venezuela\",\"Uzbekistan\",\"Uruguay\",\"United States\",\"United Kingdom\",\"United Arab Emirates\",\"Ukraine\",\"Uganda\",\"Turkmenistan\",\"Turkey\",\"Tunisia\",\"Togo\",\"Thailand\",\"Tanzania\",\"Tajikistan\",\"Switzerland\",\"Sweden\",\"Sri Lanka\",\"Spain\",\"South Africa\",\"Slovenia\",\"Slovakia\",\"Singapore\",\"Sierra Leone\",\"Serbia\",\"Senegal\",\"Saudi Arabia\",\"Rwanda\",\"Russia\",\"Romania\",\"Portugal\",\"Poland\",\"Philippines\",\"Peru\",\"Paraguay\",\"Panama\",\"Pakistan\",\"Norway\",\"Nigeria\",\"Niger\",\"Nicaragua\",\"New Zealand\",\"Netherlands\",\"Nepal\",\"Myanmar\",\"Morocco\",\"Montenegro\",\"Mongolia\",\"Moldova\",\"Mexico\",\"Mauritius\",\"Mauritania\",\"Malta\",\"Mali\",\"Malaysia\",\"Malawi\",\"Madagascar\",\"Luxembourg\",\"Lithuania\",\"Libya\",\"Liberia\",\"Lebanon\",\"Latvia\",\"Kyrgyzstan\",\"Kuwait\",\"Kenya\",\"Kazakhstan\",\"Jordan\",\"Japan\",\"Jamaica\",\"Italy\",\"Israel\",\"Ireland\",\"Iraq\",\"Iran\",\"Indonesia\",\"India\",\"Iceland\",\"Hungary\",\"Honduras\",\"Haiti\",\"Guinea\",\"Guatemala\",\"Greece\",\"Ghana\",\"Germany\",\"Georgia\",\"Gabon\",\"France\",\"Finland\",\"Ethiopia\",\"Estonia\",\"El Salvador\",\"Egypt\",\"Ecuador\",\"Dominican Republic\",\"Denmark\",\"Cyprus\",\"Croatia\",\"Costa Rica\",\"Colombia\",\"China\",\"China\",\"Chile\",\"Chad\",\"Canada\",\"Cameroon\",\"Cambodia\",\"Burundi\",\"Burkina Faso\",\"Bulgaria\",\"Brazil\",\"Botswana\",\"Bosnia and Herzegovina\",\"Bolivia\",\"Benin\",\"Belgium\",\"Belarus\",\"Bangladesh\",\"Bahrain\",\"Azerbaijan\",\"Austria\",\"Australia\",\"Armenia\",\"Argentina\",\"Algeria\",\"Albania\",\"Afghanistan\"],\"locationmode\":\"country names\",\"locations\":[\"Zimbabwe\",\"Zambia\",\"Yemen\",\"Vietnam\",\"Venezuela\",\"Uzbekistan\",\"Uruguay\",\"United States\",\"United Kingdom\",\"United Arab Emirates\",\"Ukraine\",\"Uganda\",\"Turkmenistan\",\"Turkey\",\"Tunisia\",\"Togo\",\"Thailand\",\"Tanzania\",\"Tajikistan\",\"Switzerland\",\"Sweden\",\"Sri Lanka\",\"Spain\",\"South Africa\",\"Slovenia\",\"Slovakia\",\"Singapore\",\"Sierra Leone\",\"Serbia\",\"Senegal\",\"Saudi Arabia\",\"Rwanda\",\"Russia\",\"Romania\",\"Portugal\",\"Poland\",\"Philippines\",\"Peru\",\"Paraguay\",\"Panama\",\"Pakistan\",\"Norway\",\"Nigeria\",\"Niger\",\"Nicaragua\",\"New Zealand\",\"Netherlands\",\"Nepal\",\"Myanmar\",\"Morocco\",\"Montenegro\",\"Mongolia\",\"Moldova\",\"Mexico\",\"Mauritius\",\"Mauritania\",\"Malta\",\"Mali\",\"Malaysia\",\"Malawi\",\"Madagascar\",\"Luxembourg\",\"Lithuania\",\"Libya\",\"Liberia\",\"Lebanon\",\"Latvia\",\"Kyrgyzstan\",\"Kuwait\",\"Kenya\",\"Kazakhstan\",\"Jordan\",\"Japan\",\"Jamaica\",\"Italy\",\"Israel\",\"Ireland\",\"Iraq\",\"Iran\",\"Indonesia\",\"India\",\"Iceland\",\"Hungary\",\"Honduras\",\"Haiti\",\"Guinea\",\"Guatemala\",\"Greece\",\"Ghana\",\"Germany\",\"Georgia\",\"Gabon\",\"France\",\"Finland\",\"Ethiopia\",\"Estonia\",\"El Salvador\",\"Egypt\",\"Ecuador\",\"Dominican Republic\",\"Denmark\",\"Cyprus\",\"Croatia\",\"Costa Rica\",\"Colombia\",\"China\",\"China\",\"Chile\",\"Chad\",\"Canada\",\"Cameroon\",\"Cambodia\",\"Burundi\",\"Burkina Faso\",\"Bulgaria\",\"Brazil\",\"Botswana\",\"Bosnia and Herzegovina\",\"Bolivia\",\"Benin\",\"Belgium\",\"Belarus\",\"Bangladesh\",\"Bahrain\",\"Azerbaijan\",\"Austria\",\"Australia\",\"Armenia\",\"Argentina\",\"Algeria\",\"Albania\",\"Afghanistan\"],\"name\":\"\",\"z\":[3.663,4.107,3.38,5.175,4.707,6.174,6.293,6.892,7.054,6.825,4.332,4.189,5.247,5.373,4.461,4.085,6.008,3.231,5.467,7.48,7.343,4.366,6.354,4.722,6.118,6.198,6.262,4.374,5.603,4.681,6.375,3.334,5.648,6.07,5.693,6.182,5.631,5.697,5.743,6.321,5.653,7.554,5.265,4.628,6.105,7.307,7.488,4.913,4.36,5.208,5.523,5.285,5.529,6.595,5.888,4.49,6.726,4.39,5.339,3.41,3.933,7.09,6.149,5.525,3.975,5.197,5.94,5.261,6.021,4.509,5.809,4.906,5.886,5.89,6.223,7.139,7.021,4.437,4.548,5.192,4.015,7.494,5.758,5.86,3.597,4.534,6.436,5.287,4.996,6.985,4.519,4.799,6.592,7.769,4.286,5.893,6.253,4.166,6.028,5.425,7.6,6.046,5.432,7.167,6.125,5.191,5.191,6.444,4.35,7.278,5.044,4.7,3.775,4.587,5.011,6.3,3.488,5.386,5.779,4.883,6.923,5.323,4.456,6.199,5.208,7.246,7.228,4.559,6.086,5.211,4.719,3.203],\"type\":\"choropleth\"}],\"name\":\"2017\"},{\"data\":[{\"coloraxis\":\"coloraxis\",\"geo\":\"geo\",\"hovertemplate\":\"\\u003cb\\u003e%{hovertext}\\u003c\\u002fb\\u003e\\u003cbr\\u003e\\u003cbr\\u003eYear=2016\\u003cbr\\u003eCountry=%{location}\\u003cbr\\u003ehappiness_score=%{z}\\u003cextra\\u003e\\u003c\\u002fextra\\u003e\",\"hovertext\":[\"Zimbabwe\",\"Zambia\",\"Yemen\",\"Vietnam\",\"Venezuela\",\"Uzbekistan\",\"Uruguay\",\"United States\",\"United Kingdom\",\"United Arab Emirates\",\"Ukraine\",\"Uganda\",\"Turkmenistan\",\"Turkey\",\"Tunisia\",\"Togo\",\"Thailand\",\"Tanzania\",\"Tajikistan\",\"Switzerland\",\"Sweden\",\"Sri Lanka\",\"Spain\",\"South Africa\",\"Slovenia\",\"Slovakia\",\"Singapore\",\"Sierra Leone\",\"Serbia\",\"Senegal\",\"Saudi Arabia\",\"Rwanda\",\"Russia\",\"Romania\",\"Portugal\",\"Poland\",\"Philippines\",\"Peru\",\"Paraguay\",\"Panama\",\"Pakistan\",\"Norway\",\"Nigeria\",\"Niger\",\"Nicaragua\",\"New Zealand\",\"Netherlands\",\"Nepal\",\"Myanmar\",\"Morocco\",\"Montenegro\",\"Mongolia\",\"Moldova\",\"Mexico\",\"Mauritius\",\"Mauritania\",\"Malta\",\"Mali\",\"Malaysia\",\"Malawi\",\"Madagascar\",\"Luxembourg\",\"Lithuania\",\"Libya\",\"Liberia\",\"Lebanon\",\"Latvia\",\"Kyrgyzstan\",\"Kuwait\",\"Kenya\",\"Kazakhstan\",\"Jordan\",\"Japan\",\"Jamaica\",\"Italy\",\"Israel\",\"Ireland\",\"Iraq\",\"Iran\",\"Indonesia\",\"India\",\"Iceland\",\"Hungary\",\"Honduras\",\"Haiti\",\"Guinea\",\"Guatemala\",\"Greece\",\"Ghana\",\"Germany\",\"Georgia\",\"Gabon\",\"France\",\"Finland\",\"Ethiopia\",\"Estonia\",\"El Salvador\",\"Egypt\",\"Ecuador\",\"Dominican Republic\",\"Denmark\",\"Cyprus\",\"Croatia\",\"Costa Rica\",\"Colombia\",\"China\",\"China\",\"Chile\",\"Chad\",\"Canada\",\"Cameroon\",\"Cambodia\",\"Burundi\",\"Burkina Faso\",\"Bulgaria\",\"Brazil\",\"Botswana\",\"Bosnia and Herzegovina\",\"Bolivia\",\"Benin\",\"Belgium\",\"Belarus\",\"Bangladesh\",\"Bahrain\",\"Azerbaijan\",\"Austria\",\"Australia\",\"Armenia\",\"Argentina\",\"Algeria\",\"Albania\",\"Afghanistan\"],\"ids\":[\"Zimbabwe\",\"Zambia\",\"Yemen\",\"Vietnam\",\"Venezuela\",\"Uzbekistan\",\"Uruguay\",\"United States\",\"United Kingdom\",\"United Arab Emirates\",\"Ukraine\",\"Uganda\",\"Turkmenistan\",\"Turkey\",\"Tunisia\",\"Togo\",\"Thailand\",\"Tanzania\",\"Tajikistan\",\"Switzerland\",\"Sweden\",\"Sri Lanka\",\"Spain\",\"South Africa\",\"Slovenia\",\"Slovakia\",\"Singapore\",\"Sierra Leone\",\"Serbia\",\"Senegal\",\"Saudi Arabia\",\"Rwanda\",\"Russia\",\"Romania\",\"Portugal\",\"Poland\",\"Philippines\",\"Peru\",\"Paraguay\",\"Panama\",\"Pakistan\",\"Norway\",\"Nigeria\",\"Niger\",\"Nicaragua\",\"New Zealand\",\"Netherlands\",\"Nepal\",\"Myanmar\",\"Morocco\",\"Montenegro\",\"Mongolia\",\"Moldova\",\"Mexico\",\"Mauritius\",\"Mauritania\",\"Malta\",\"Mali\",\"Malaysia\",\"Malawi\",\"Madagascar\",\"Luxembourg\",\"Lithuania\",\"Libya\",\"Liberia\",\"Lebanon\",\"Latvia\",\"Kyrgyzstan\",\"Kuwait\",\"Kenya\",\"Kazakhstan\",\"Jordan\",\"Japan\",\"Jamaica\",\"Italy\",\"Israel\",\"Ireland\",\"Iraq\",\"Iran\",\"Indonesia\",\"India\",\"Iceland\",\"Hungary\",\"Honduras\",\"Haiti\",\"Guinea\",\"Guatemala\",\"Greece\",\"Ghana\",\"Germany\",\"Georgia\",\"Gabon\",\"France\",\"Finland\",\"Ethiopia\",\"Estonia\",\"El Salvador\",\"Egypt\",\"Ecuador\",\"Dominican Republic\",\"Denmark\",\"Cyprus\",\"Croatia\",\"Costa Rica\",\"Colombia\",\"China\",\"China\",\"Chile\",\"Chad\",\"Canada\",\"Cameroon\",\"Cambodia\",\"Burundi\",\"Burkina Faso\",\"Bulgaria\",\"Brazil\",\"Botswana\",\"Bosnia and Herzegovina\",\"Bolivia\",\"Benin\",\"Belgium\",\"Belarus\",\"Bangladesh\",\"Bahrain\",\"Azerbaijan\",\"Austria\",\"Australia\",\"Armenia\",\"Argentina\",\"Algeria\",\"Albania\",\"Afghanistan\"],\"locationmode\":\"country names\",\"locations\":[\"Zimbabwe\",\"Zambia\",\"Yemen\",\"Vietnam\",\"Venezuela\",\"Uzbekistan\",\"Uruguay\",\"United States\",\"United Kingdom\",\"United Arab Emirates\",\"Ukraine\",\"Uganda\",\"Turkmenistan\",\"Turkey\",\"Tunisia\",\"Togo\",\"Thailand\",\"Tanzania\",\"Tajikistan\",\"Switzerland\",\"Sweden\",\"Sri Lanka\",\"Spain\",\"South Africa\",\"Slovenia\",\"Slovakia\",\"Singapore\",\"Sierra Leone\",\"Serbia\",\"Senegal\",\"Saudi Arabia\",\"Rwanda\",\"Russia\",\"Romania\",\"Portugal\",\"Poland\",\"Philippines\",\"Peru\",\"Paraguay\",\"Panama\",\"Pakistan\",\"Norway\",\"Nigeria\",\"Niger\",\"Nicaragua\",\"New Zealand\",\"Netherlands\",\"Nepal\",\"Myanmar\",\"Morocco\",\"Montenegro\",\"Mongolia\",\"Moldova\",\"Mexico\",\"Mauritius\",\"Mauritania\",\"Malta\",\"Mali\",\"Malaysia\",\"Malawi\",\"Madagascar\",\"Luxembourg\",\"Lithuania\",\"Libya\",\"Liberia\",\"Lebanon\",\"Latvia\",\"Kyrgyzstan\",\"Kuwait\",\"Kenya\",\"Kazakhstan\",\"Jordan\",\"Japan\",\"Jamaica\",\"Italy\",\"Israel\",\"Ireland\",\"Iraq\",\"Iran\",\"Indonesia\",\"India\",\"Iceland\",\"Hungary\",\"Honduras\",\"Haiti\",\"Guinea\",\"Guatemala\",\"Greece\",\"Ghana\",\"Germany\",\"Georgia\",\"Gabon\",\"France\",\"Finland\",\"Ethiopia\",\"Estonia\",\"El Salvador\",\"Egypt\",\"Ecuador\",\"Dominican Republic\",\"Denmark\",\"Cyprus\",\"Croatia\",\"Costa Rica\",\"Colombia\",\"China\",\"China\",\"Chile\",\"Chad\",\"Canada\",\"Cameroon\",\"Cambodia\",\"Burundi\",\"Burkina Faso\",\"Bulgaria\",\"Brazil\",\"Botswana\",\"Bosnia and Herzegovina\",\"Bolivia\",\"Benin\",\"Belgium\",\"Belarus\",\"Bangladesh\",\"Bahrain\",\"Azerbaijan\",\"Austria\",\"Australia\",\"Armenia\",\"Argentina\",\"Algeria\",\"Albania\",\"Afghanistan\"],\"name\":\"\",\"z\":[4.61,5.129,4.077,5.36,6.81,6.003,6.485,7.119,6.867,6.901,4.681,3.931,5.548,5.332,4.739,2.839,6.455,3.781,4.786,7.587,7.364,4.271,6.329,4.642,5.848,5.995,6.798,4.507,5.123,3.904,6.411,3.465,5.716,5.124,5.102,5.791,5.073,5.824,5.878,6.786,5.194,7.522,5.268,3.845,5.828,7.286,7.378,4.514,4.307,5.013,5.192,4.874,5.889,7.187,5.477,4.436,6.302,3.995,5.77,4.292,3.681,6.946,5.833,5.754,4.571,4.839,5.098,5.286,6.295,4.419,5.855,5.192,5.987,5.709,5.948,7.278,6.94,4.677,4.686,5.399,4.565,7.561,4.8,4.788,4.518,3.656,6.123,4.857,4.633,6.75,4.297,3.896,6.575,7.406,4.512,5.429,6.13,4.194,5.975,4.885,7.527,5.689,5.759,7.226,6.477,5.14,5.14,6.67,3.667,7.427,4.252,3.819,2.905,3.587,4.218,6.983,4.332,4.949,5.89,3.34,6.937,5.813,4.694,5.96,5.212,7.2,7.284,4.35,6.574,5.605,4.959,3.575],\"type\":\"choropleth\"}],\"name\":\"2016\"},{\"data\":[{\"coloraxis\":\"coloraxis\",\"geo\":\"geo\",\"hovertemplate\":\"\\u003cb\\u003e%{hovertext}\\u003c\\u002fb\\u003e\\u003cbr\\u003e\\u003cbr\\u003eYear=2015\\u003cbr\\u003eCountry=%{location}\\u003cbr\\u003ehappiness_score=%{z}\\u003cextra\\u003e\\u003c\\u002fextra\\u003e\",\"hovertext\":[\"Zimbabwe\",\"Zambia\",\"Yemen\",\"Vietnam\",\"Venezuela\",\"Uzbekistan\",\"Uruguay\",\"United States\",\"United Kingdom\",\"United Arab Emirates\",\"Ukraine\",\"Uganda\",\"Turkmenistan\",\"Turkey\",\"Tunisia\",\"Togo\",\"Thailand\",\"Tanzania\",\"Tajikistan\",\"Switzerland\",\"Sweden\",\"Sri Lanka\",\"Spain\",\"South Africa\",\"Slovenia\",\"Slovakia\",\"Singapore\",\"Sierra Leone\",\"Serbia\",\"Senegal\",\"Saudi Arabia\",\"Rwanda\",\"Russia\",\"Romania\",\"Portugal\",\"Poland\",\"Philippines\",\"Peru\",\"Paraguay\",\"Panama\",\"Pakistan\",\"Norway\",\"Nigeria\",\"Niger\",\"Nicaragua\",\"New Zealand\",\"Netherlands\",\"Nepal\",\"Myanmar\",\"Morocco\",\"Montenegro\",\"Mongolia\",\"Moldova\",\"Mexico\",\"Mauritius\",\"Mauritania\",\"Malta\",\"Mali\",\"Malaysia\",\"Malawi\",\"Madagascar\",\"Luxembourg\",\"Lithuania\",\"Libya\",\"Liberia\",\"Lebanon\",\"Latvia\",\"Kyrgyzstan\",\"Kuwait\",\"Kenya\",\"Kazakhstan\",\"Jordan\",\"Japan\",\"Jamaica\",\"Italy\",\"Israel\",\"Ireland\",\"Iraq\",\"Iran\",\"Indonesia\",\"India\",\"Iceland\",\"Hungary\",\"Honduras\",\"Haiti\",\"Guinea\",\"Guatemala\",\"Greece\",\"Ghana\",\"Germany\",\"Georgia\",\"Gabon\",\"France\",\"Finland\",\"Ethiopia\",\"Estonia\",\"El Salvador\",\"Egypt\",\"Ecuador\",\"Dominican Republic\",\"Denmark\",\"Cyprus\",\"Croatia\",\"Costa Rica\",\"Colombia\",\"China\",\"China\",\"Chile\",\"Chad\",\"Canada\",\"Cameroon\",\"Cambodia\",\"Burundi\",\"Burkina Faso\",\"Bulgaria\",\"Brazil\",\"Botswana\",\"Bosnia and Herzegovina\",\"Bolivia\",\"Benin\",\"Belgium\",\"Belarus\",\"Bangladesh\",\"Bahrain\",\"Azerbaijan\",\"Austria\",\"Australia\",\"Armenia\",\"Argentina\",\"Algeria\",\"Albania\",\"Afghanistan\"],\"ids\":[\"Zimbabwe\",\"Zambia\",\"Yemen\",\"Vietnam\",\"Venezuela\",\"Uzbekistan\",\"Uruguay\",\"United States\",\"United Kingdom\",\"United Arab Emirates\",\"Ukraine\",\"Uganda\",\"Turkmenistan\",\"Turkey\",\"Tunisia\",\"Togo\",\"Thailand\",\"Tanzania\",\"Tajikistan\",\"Switzerland\",\"Sweden\",\"Sri Lanka\",\"Spain\",\"South Africa\",\"Slovenia\",\"Slovakia\",\"Singapore\",\"Sierra Leone\",\"Serbia\",\"Senegal\",\"Saudi Arabia\",\"Rwanda\",\"Russia\",\"Romania\",\"Portugal\",\"Poland\",\"Philippines\",\"Peru\",\"Paraguay\",\"Panama\",\"Pakistan\",\"Norway\",\"Nigeria\",\"Niger\",\"Nicaragua\",\"New Zealand\",\"Netherlands\",\"Nepal\",\"Myanmar\",\"Morocco\",\"Montenegro\",\"Mongolia\",\"Moldova\",\"Mexico\",\"Mauritius\",\"Mauritania\",\"Malta\",\"Mali\",\"Malaysia\",\"Malawi\",\"Madagascar\",\"Luxembourg\",\"Lithuania\",\"Libya\",\"Liberia\",\"Lebanon\",\"Latvia\",\"Kyrgyzstan\",\"Kuwait\",\"Kenya\",\"Kazakhstan\",\"Jordan\",\"Japan\",\"Jamaica\",\"Italy\",\"Israel\",\"Ireland\",\"Iraq\",\"Iran\",\"Indonesia\",\"India\",\"Iceland\",\"Hungary\",\"Honduras\",\"Haiti\",\"Guinea\",\"Guatemala\",\"Greece\",\"Ghana\",\"Germany\",\"Georgia\",\"Gabon\",\"France\",\"Finland\",\"Ethiopia\",\"Estonia\",\"El Salvador\",\"Egypt\",\"Ecuador\",\"Dominican Republic\",\"Denmark\",\"Cyprus\",\"Croatia\",\"Costa Rica\",\"Colombia\",\"China\",\"China\",\"Chile\",\"Chad\",\"Canada\",\"Cameroon\",\"Cambodia\",\"Burundi\",\"Burkina Faso\",\"Bulgaria\",\"Brazil\",\"Botswana\",\"Bosnia and Herzegovina\",\"Bolivia\",\"Benin\",\"Belgium\",\"Belarus\",\"Bangladesh\",\"Bahrain\",\"Azerbaijan\",\"Austria\",\"Australia\",\"Armenia\",\"Argentina\",\"Algeria\",\"Albania\",\"Afghanistan\"],\"locationmode\":\"country names\",\"locations\":[\"Zimbabwe\",\"Zambia\",\"Yemen\",\"Vietnam\",\"Venezuela\",\"Uzbekistan\",\"Uruguay\",\"United States\",\"United Kingdom\",\"United Arab Emirates\",\"Ukraine\",\"Uganda\",\"Turkmenistan\",\"Turkey\",\"Tunisia\",\"Togo\",\"Thailand\",\"Tanzania\",\"Tajikistan\",\"Switzerland\",\"Sweden\",\"Sri Lanka\",\"Spain\",\"South Africa\",\"Slovenia\",\"Slovakia\",\"Singapore\",\"Sierra Leone\",\"Serbia\",\"Senegal\",\"Saudi Arabia\",\"Rwanda\",\"Russia\",\"Romania\",\"Portugal\",\"Poland\",\"Philippines\",\"Peru\",\"Paraguay\",\"Panama\",\"Pakistan\",\"Norway\",\"Nigeria\",\"Niger\",\"Nicaragua\",\"New Zealand\",\"Netherlands\",\"Nepal\",\"Myanmar\",\"Morocco\",\"Montenegro\",\"Mongolia\",\"Moldova\",\"Mexico\",\"Mauritius\",\"Mauritania\",\"Malta\",\"Mali\",\"Malaysia\",\"Malawi\",\"Madagascar\",\"Luxembourg\",\"Lithuania\",\"Libya\",\"Liberia\",\"Lebanon\",\"Latvia\",\"Kyrgyzstan\",\"Kuwait\",\"Kenya\",\"Kazakhstan\",\"Jordan\",\"Japan\",\"Jamaica\",\"Italy\",\"Israel\",\"Ireland\",\"Iraq\",\"Iran\",\"Indonesia\",\"India\",\"Iceland\",\"Hungary\",\"Honduras\",\"Haiti\",\"Guinea\",\"Guatemala\",\"Greece\",\"Ghana\",\"Germany\",\"Georgia\",\"Gabon\",\"France\",\"Finland\",\"Ethiopia\",\"Estonia\",\"El Salvador\",\"Egypt\",\"Ecuador\",\"Dominican Republic\",\"Denmark\",\"Cyprus\",\"Croatia\",\"Costa Rica\",\"Colombia\",\"China\",\"China\",\"Chile\",\"Chad\",\"Canada\",\"Cameroon\",\"Cambodia\",\"Burundi\",\"Burkina Faso\",\"Bulgaria\",\"Brazil\",\"Botswana\",\"Bosnia and Herzegovina\",\"Bolivia\",\"Benin\",\"Belgium\",\"Belarus\",\"Bangladesh\",\"Bahrain\",\"Azerbaijan\",\"Austria\",\"Australia\",\"Armenia\",\"Argentina\",\"Algeria\",\"Albania\",\"Afghanistan\"],\"name\":\"\",\"z\":[3.875,4.513999939,3.592999935,5.073999882,5.25,5.971000195,6.453999996,6.993000031,6.714000225,6.647999763,4.096000195,4.080999851,5.822000027,5.5,4.804999828,3.494999886,6.423999786,3.348999977,5.040999889,7.493999958,7.28399992,4.440000057,6.402999878,4.828999996,5.757999897,6.09800005,6.572000027,4.709000111,5.394999981,4.534999847,6.343999863,3.470999956,5.962999821,5.824999809,5.195000172,5.97300005,5.429999828,5.715000153,5.493000031,6.452000141,5.269000053,7.537000179,5.073999882,4.027999878,6.071000099,7.31400013,7.376999855,4.961999893,4.545000076,5.235000134,5.236999989,4.954999924,5.837999821,6.578000069,5.629000187,4.291999817,6.52699995,4.190000057,6.084000111,3.970000029,3.644000053,6.862999916,5.90199995,5.525000095,3.532999992,5.224999905,5.849999905,5.004000187,6.105000019,4.552999973,5.818999767,5.335999966,5.920000076,5.31099987,5.964000225,7.212999821,6.977000237,4.497000217,4.691999912,5.262000084,4.315000057,7.504000187,5.323999882,5.181000233,3.602999926,3.506999969,6.453999996,5.227000237,4.119999886,6.951000214,4.285999775,4.465000153,6.441999912,7.468999863,4.460000038,5.611000061,6.002999783,4.735000134,6.007999897,5.230000019,7.521999836,5.620999813,5.293000221,7.078999996,6.356999874,5.272999763,5.272999763,6.65199995,3.936000109,7.315999985,4.695000172,4.168000221,2.904999971,4.032000065,4.714000225,6.635000229,3.766000032,5.18200016,5.822999954,3.657000065,6.890999794,5.568999767,4.607999802,6.086999893,5.234000206,7.006000042,7.28399992,4.375999928,6.598999977,5.872000217,4.644000053,3.79399991],\"type\":\"choropleth\"}],\"name\":\"2015\"}]);\n",
       "                        }).then(function(){\n",
       "                            \n",
       "var gd = document.getElementById('850bc240-874b-49a7-aa53-a6c6473ff913');\n",
       "var x = new MutationObserver(function (mutations, observer) {{\n",
       "        var display = window.getComputedStyle(gd).display;\n",
       "        if (!display || display === 'none') {{\n",
       "            console.log([gd, 'removed!']);\n",
       "            Plotly.purge(gd);\n",
       "            observer.disconnect();\n",
       "        }}\n",
       "}});\n",
       "\n",
       "// Listen for the removal of the full notebook cells\n",
       "var notebookContainer = gd.closest('#notebook-container');\n",
       "if (notebookContainer) {{\n",
       "    x.observe(notebookContainer, {childList: true});\n",
       "}}\n",
       "\n",
       "// Listen for the clearing of the current output cell\n",
       "var outputEl = gd.closest('.output');\n",
       "if (outputEl) {{\n",
       "    x.observe(outputEl, {childList: true});\n",
       "}}\n",
       "\n",
       "                        })                };                });            </script>        </div>"
      ]
     },
     "metadata": {},
     "output_type": "display_data"
    },
    {
     "data": {
      "application/vnd.plotly.v1+json": {
       "config": {
        "plotlyServerURL": "https://plot.ly"
       },
       "data": [
        {
         "coloraxis": "coloraxis",
         "geo": "geo",
         "hovertemplate": "<b>%{hovertext}</b><br><br>Year=2018<br>Country=%{location}<br>Education_Index=%{z}<extra></extra>",
         "hovertext": [
          "Zimbabwe",
          "Zambia",
          "Yemen",
          "Vietnam",
          "Venezuela",
          "Uzbekistan",
          "Uruguay",
          "United States",
          "United Kingdom",
          "United Arab Emirates",
          "Ukraine",
          "Uganda",
          "Turkmenistan",
          "Turkey",
          "Tunisia",
          "Togo",
          "Thailand",
          "Tanzania",
          "Tajikistan",
          "Switzerland",
          "Sweden",
          "Sri Lanka",
          "Spain",
          "South Africa",
          "Slovenia",
          "Slovakia",
          "Singapore",
          "Sierra Leone",
          "Serbia",
          "Senegal",
          "Saudi Arabia",
          "Rwanda",
          "Russia",
          "Romania",
          "Portugal",
          "Poland",
          "Philippines",
          "Peru",
          "Paraguay",
          "Panama",
          "Pakistan",
          "Norway",
          "Nigeria",
          "Niger",
          "Nicaragua",
          "New Zealand",
          "Netherlands",
          "Nepal",
          "Myanmar",
          "Morocco",
          "Montenegro",
          "Mongolia",
          "Moldova",
          "Mexico",
          "Mauritius",
          "Mauritania",
          "Malta",
          "Mali",
          "Malaysia",
          "Malawi",
          "Madagascar",
          "Luxembourg",
          "Lithuania",
          "Libya",
          "Liberia",
          "Lebanon",
          "Latvia",
          "Kyrgyzstan",
          "Kuwait",
          "Kenya",
          "Kazakhstan",
          "Jordan",
          "Japan",
          "Jamaica",
          "Italy",
          "Israel",
          "Ireland",
          "Iraq",
          "Iran",
          "Indonesia",
          "India",
          "Iceland",
          "Hungary",
          "Honduras",
          "Haiti",
          "Guinea",
          "Guatemala",
          "Greece",
          "Ghana",
          "Germany",
          "Georgia",
          "Gabon",
          "France",
          "Finland",
          "Ethiopia",
          "Estonia",
          "El Salvador",
          "Egypt",
          "Ecuador",
          "Dominican Republic",
          "Denmark",
          "Cyprus",
          "Croatia",
          "Costa Rica",
          "Colombia",
          "China",
          "China",
          "Chile",
          "Chad",
          "Canada",
          "Cameroon",
          "Cambodia",
          "Burundi",
          "Burkina Faso",
          "Bulgaria",
          "Brazil",
          "Botswana",
          "Bosnia and Herzegovina",
          "Bolivia",
          "Benin",
          "Belgium",
          "Belarus",
          "Bangladesh",
          "Bahrain",
          "Azerbaijan",
          "Austria",
          "Australia",
          "Armenia",
          "Argentina",
          "Algeria",
          "Albania",
          "Afghanistan"
         ],
         "ids": [
          "Zimbabwe",
          "Zambia",
          "Yemen",
          "Vietnam",
          "Venezuela",
          "Uzbekistan",
          "Uruguay",
          "United States",
          "United Kingdom",
          "United Arab Emirates",
          "Ukraine",
          "Uganda",
          "Turkmenistan",
          "Turkey",
          "Tunisia",
          "Togo",
          "Thailand",
          "Tanzania",
          "Tajikistan",
          "Switzerland",
          "Sweden",
          "Sri Lanka",
          "Spain",
          "South Africa",
          "Slovenia",
          "Slovakia",
          "Singapore",
          "Sierra Leone",
          "Serbia",
          "Senegal",
          "Saudi Arabia",
          "Rwanda",
          "Russia",
          "Romania",
          "Portugal",
          "Poland",
          "Philippines",
          "Peru",
          "Paraguay",
          "Panama",
          "Pakistan",
          "Norway",
          "Nigeria",
          "Niger",
          "Nicaragua",
          "New Zealand",
          "Netherlands",
          "Nepal",
          "Myanmar",
          "Morocco",
          "Montenegro",
          "Mongolia",
          "Moldova",
          "Mexico",
          "Mauritius",
          "Mauritania",
          "Malta",
          "Mali",
          "Malaysia",
          "Malawi",
          "Madagascar",
          "Luxembourg",
          "Lithuania",
          "Libya",
          "Liberia",
          "Lebanon",
          "Latvia",
          "Kyrgyzstan",
          "Kuwait",
          "Kenya",
          "Kazakhstan",
          "Jordan",
          "Japan",
          "Jamaica",
          "Italy",
          "Israel",
          "Ireland",
          "Iraq",
          "Iran",
          "Indonesia",
          "India",
          "Iceland",
          "Hungary",
          "Honduras",
          "Haiti",
          "Guinea",
          "Guatemala",
          "Greece",
          "Ghana",
          "Germany",
          "Georgia",
          "Gabon",
          "France",
          "Finland",
          "Ethiopia",
          "Estonia",
          "El Salvador",
          "Egypt",
          "Ecuador",
          "Dominican Republic",
          "Denmark",
          "Cyprus",
          "Croatia",
          "Costa Rica",
          "Colombia",
          "China",
          "China",
          "Chile",
          "Chad",
          "Canada",
          "Cameroon",
          "Cambodia",
          "Burundi",
          "Burkina Faso",
          "Bulgaria",
          "Brazil",
          "Botswana",
          "Bosnia and Herzegovina",
          "Bolivia",
          "Benin",
          "Belgium",
          "Belarus",
          "Bangladesh",
          "Bahrain",
          "Azerbaijan",
          "Austria",
          "Australia",
          "Armenia",
          "Argentina",
          "Algeria",
          "Albania",
          "Afghanistan"
         ],
         "locationmode": "country names",
         "locations": [
          "Zimbabwe",
          "Zambia",
          "Yemen",
          "Vietnam",
          "Venezuela",
          "Uzbekistan",
          "Uruguay",
          "United States",
          "United Kingdom",
          "United Arab Emirates",
          "Ukraine",
          "Uganda",
          "Turkmenistan",
          "Turkey",
          "Tunisia",
          "Togo",
          "Thailand",
          "Tanzania",
          "Tajikistan",
          "Switzerland",
          "Sweden",
          "Sri Lanka",
          "Spain",
          "South Africa",
          "Slovenia",
          "Slovakia",
          "Singapore",
          "Sierra Leone",
          "Serbia",
          "Senegal",
          "Saudi Arabia",
          "Rwanda",
          "Russia",
          "Romania",
          "Portugal",
          "Poland",
          "Philippines",
          "Peru",
          "Paraguay",
          "Panama",
          "Pakistan",
          "Norway",
          "Nigeria",
          "Niger",
          "Nicaragua",
          "New Zealand",
          "Netherlands",
          "Nepal",
          "Myanmar",
          "Morocco",
          "Montenegro",
          "Mongolia",
          "Moldova",
          "Mexico",
          "Mauritius",
          "Mauritania",
          "Malta",
          "Mali",
          "Malaysia",
          "Malawi",
          "Madagascar",
          "Luxembourg",
          "Lithuania",
          "Libya",
          "Liberia",
          "Lebanon",
          "Latvia",
          "Kyrgyzstan",
          "Kuwait",
          "Kenya",
          "Kazakhstan",
          "Jordan",
          "Japan",
          "Jamaica",
          "Italy",
          "Israel",
          "Ireland",
          "Iraq",
          "Iran",
          "Indonesia",
          "India",
          "Iceland",
          "Hungary",
          "Honduras",
          "Haiti",
          "Guinea",
          "Guatemala",
          "Greece",
          "Ghana",
          "Germany",
          "Georgia",
          "Gabon",
          "France",
          "Finland",
          "Ethiopia",
          "Estonia",
          "El Salvador",
          "Egypt",
          "Ecuador",
          "Dominican Republic",
          "Denmark",
          "Cyprus",
          "Croatia",
          "Costa Rica",
          "Colombia",
          "China",
          "China",
          "Chile",
          "Chad",
          "Canada",
          "Cameroon",
          "Cambodia",
          "Burundi",
          "Burkina Faso",
          "Bulgaria",
          "Brazil",
          "Botswana",
          "Bosnia and Herzegovina",
          "Bolivia",
          "Benin",
          "Belgium",
          "Belarus",
          "Bangladesh",
          "Bahrain",
          "Azerbaijan",
          "Austria",
          "Australia",
          "Armenia",
          "Argentina",
          "Algeria",
          "Albania",
          "Afghanistan"
         ],
         "name": "",
         "type": "choropleth",
         "z": [
          0.58,
          0.6,
          0.38,
          0.65,
          0.71,
          0.72,
          0.79,
          0.92,
          0.94,
          0.76,
          0.82,
          0.54,
          0.63,
          0.76,
          0.7,
          0.56,
          0.7,
          0.43,
          0.68,
          0.91,
          0.97,
          0.77,
          0.87,
          0.74,
          0.92,
          0.83,
          0.86,
          0.44,
          0.8,
          0.38,
          0.83,
          0.49,
          0.85,
          0.78,
          0.8,
          0.89,
          0.69,
          0.72,
          0.66,
          0.71,
          0.43,
          0.95,
          0.5,
          0.27,
          0.6,
          0.98,
          0.94,
          0.54,
          0.48,
          0.59,
          0.82,
          0.76,
          0.71,
          0.72,
          0.76,
          0.41,
          0.84,
          0.32,
          0.73,
          0.49,
          0.52,
          0.81,
          0.91,
          0.64,
          0.45,
          0.62,
          0.89,
          0.75,
          0.66,
          0.55,
          0.84,
          0.69,
          0.86,
          0.71,
          0.83,
          0.89,
          0.97,
          0.57,
          0.77,
          0.65,
          0.59,
          0.99,
          0.83,
          0.52,
          0.47,
          0.38,
          0.53,
          0.87,
          0.58,
          0.96,
          0.87,
          0.66,
          0.83,
          0.99,
          0.37,
          0.9,
          0.59,
          0.64,
          0.75,
          0.69,
          0.99,
          0.83,
          0.82,
          0.75,
          0.72,
          0.88,
          0.68,
          0.84,
          0.32,
          0.91,
          0.6,
          0.51,
          0.46,
          0.34,
          0.82,
          0.73,
          0.68,
          0.73,
          0.72,
          0.53,
          0.98,
          0.85,
          0.54,
          0.77,
          0.7,
          0.89,
          1.09,
          0.77,
          0.88,
          0.71,
          0.79,
          0.45
         ]
        }
       ],
       "frames": [
        {
         "data": [
          {
           "coloraxis": "coloraxis",
           "geo": "geo",
           "hovertemplate": "<b>%{hovertext}</b><br><br>Year=2018<br>Country=%{location}<br>Education_Index=%{z}<extra></extra>",
           "hovertext": [
            "Zimbabwe",
            "Zambia",
            "Yemen",
            "Vietnam",
            "Venezuela",
            "Uzbekistan",
            "Uruguay",
            "United States",
            "United Kingdom",
            "United Arab Emirates",
            "Ukraine",
            "Uganda",
            "Turkmenistan",
            "Turkey",
            "Tunisia",
            "Togo",
            "Thailand",
            "Tanzania",
            "Tajikistan",
            "Switzerland",
            "Sweden",
            "Sri Lanka",
            "Spain",
            "South Africa",
            "Slovenia",
            "Slovakia",
            "Singapore",
            "Sierra Leone",
            "Serbia",
            "Senegal",
            "Saudi Arabia",
            "Rwanda",
            "Russia",
            "Romania",
            "Portugal",
            "Poland",
            "Philippines",
            "Peru",
            "Paraguay",
            "Panama",
            "Pakistan",
            "Norway",
            "Nigeria",
            "Niger",
            "Nicaragua",
            "New Zealand",
            "Netherlands",
            "Nepal",
            "Myanmar",
            "Morocco",
            "Montenegro",
            "Mongolia",
            "Moldova",
            "Mexico",
            "Mauritius",
            "Mauritania",
            "Malta",
            "Mali",
            "Malaysia",
            "Malawi",
            "Madagascar",
            "Luxembourg",
            "Lithuania",
            "Libya",
            "Liberia",
            "Lebanon",
            "Latvia",
            "Kyrgyzstan",
            "Kuwait",
            "Kenya",
            "Kazakhstan",
            "Jordan",
            "Japan",
            "Jamaica",
            "Italy",
            "Israel",
            "Ireland",
            "Iraq",
            "Iran",
            "Indonesia",
            "India",
            "Iceland",
            "Hungary",
            "Honduras",
            "Haiti",
            "Guinea",
            "Guatemala",
            "Greece",
            "Ghana",
            "Germany",
            "Georgia",
            "Gabon",
            "France",
            "Finland",
            "Ethiopia",
            "Estonia",
            "El Salvador",
            "Egypt",
            "Ecuador",
            "Dominican Republic",
            "Denmark",
            "Cyprus",
            "Croatia",
            "Costa Rica",
            "Colombia",
            "China",
            "China",
            "Chile",
            "Chad",
            "Canada",
            "Cameroon",
            "Cambodia",
            "Burundi",
            "Burkina Faso",
            "Bulgaria",
            "Brazil",
            "Botswana",
            "Bosnia and Herzegovina",
            "Bolivia",
            "Benin",
            "Belgium",
            "Belarus",
            "Bangladesh",
            "Bahrain",
            "Azerbaijan",
            "Austria",
            "Australia",
            "Armenia",
            "Argentina",
            "Algeria",
            "Albania",
            "Afghanistan"
           ],
           "ids": [
            "Zimbabwe",
            "Zambia",
            "Yemen",
            "Vietnam",
            "Venezuela",
            "Uzbekistan",
            "Uruguay",
            "United States",
            "United Kingdom",
            "United Arab Emirates",
            "Ukraine",
            "Uganda",
            "Turkmenistan",
            "Turkey",
            "Tunisia",
            "Togo",
            "Thailand",
            "Tanzania",
            "Tajikistan",
            "Switzerland",
            "Sweden",
            "Sri Lanka",
            "Spain",
            "South Africa",
            "Slovenia",
            "Slovakia",
            "Singapore",
            "Sierra Leone",
            "Serbia",
            "Senegal",
            "Saudi Arabia",
            "Rwanda",
            "Russia",
            "Romania",
            "Portugal",
            "Poland",
            "Philippines",
            "Peru",
            "Paraguay",
            "Panama",
            "Pakistan",
            "Norway",
            "Nigeria",
            "Niger",
            "Nicaragua",
            "New Zealand",
            "Netherlands",
            "Nepal",
            "Myanmar",
            "Morocco",
            "Montenegro",
            "Mongolia",
            "Moldova",
            "Mexico",
            "Mauritius",
            "Mauritania",
            "Malta",
            "Mali",
            "Malaysia",
            "Malawi",
            "Madagascar",
            "Luxembourg",
            "Lithuania",
            "Libya",
            "Liberia",
            "Lebanon",
            "Latvia",
            "Kyrgyzstan",
            "Kuwait",
            "Kenya",
            "Kazakhstan",
            "Jordan",
            "Japan",
            "Jamaica",
            "Italy",
            "Israel",
            "Ireland",
            "Iraq",
            "Iran",
            "Indonesia",
            "India",
            "Iceland",
            "Hungary",
            "Honduras",
            "Haiti",
            "Guinea",
            "Guatemala",
            "Greece",
            "Ghana",
            "Germany",
            "Georgia",
            "Gabon",
            "France",
            "Finland",
            "Ethiopia",
            "Estonia",
            "El Salvador",
            "Egypt",
            "Ecuador",
            "Dominican Republic",
            "Denmark",
            "Cyprus",
            "Croatia",
            "Costa Rica",
            "Colombia",
            "China",
            "China",
            "Chile",
            "Chad",
            "Canada",
            "Cameroon",
            "Cambodia",
            "Burundi",
            "Burkina Faso",
            "Bulgaria",
            "Brazil",
            "Botswana",
            "Bosnia and Herzegovina",
            "Bolivia",
            "Benin",
            "Belgium",
            "Belarus",
            "Bangladesh",
            "Bahrain",
            "Azerbaijan",
            "Austria",
            "Australia",
            "Armenia",
            "Argentina",
            "Algeria",
            "Albania",
            "Afghanistan"
           ],
           "locationmode": "country names",
           "locations": [
            "Zimbabwe",
            "Zambia",
            "Yemen",
            "Vietnam",
            "Venezuela",
            "Uzbekistan",
            "Uruguay",
            "United States",
            "United Kingdom",
            "United Arab Emirates",
            "Ukraine",
            "Uganda",
            "Turkmenistan",
            "Turkey",
            "Tunisia",
            "Togo",
            "Thailand",
            "Tanzania",
            "Tajikistan",
            "Switzerland",
            "Sweden",
            "Sri Lanka",
            "Spain",
            "South Africa",
            "Slovenia",
            "Slovakia",
            "Singapore",
            "Sierra Leone",
            "Serbia",
            "Senegal",
            "Saudi Arabia",
            "Rwanda",
            "Russia",
            "Romania",
            "Portugal",
            "Poland",
            "Philippines",
            "Peru",
            "Paraguay",
            "Panama",
            "Pakistan",
            "Norway",
            "Nigeria",
            "Niger",
            "Nicaragua",
            "New Zealand",
            "Netherlands",
            "Nepal",
            "Myanmar",
            "Morocco",
            "Montenegro",
            "Mongolia",
            "Moldova",
            "Mexico",
            "Mauritius",
            "Mauritania",
            "Malta",
            "Mali",
            "Malaysia",
            "Malawi",
            "Madagascar",
            "Luxembourg",
            "Lithuania",
            "Libya",
            "Liberia",
            "Lebanon",
            "Latvia",
            "Kyrgyzstan",
            "Kuwait",
            "Kenya",
            "Kazakhstan",
            "Jordan",
            "Japan",
            "Jamaica",
            "Italy",
            "Israel",
            "Ireland",
            "Iraq",
            "Iran",
            "Indonesia",
            "India",
            "Iceland",
            "Hungary",
            "Honduras",
            "Haiti",
            "Guinea",
            "Guatemala",
            "Greece",
            "Ghana",
            "Germany",
            "Georgia",
            "Gabon",
            "France",
            "Finland",
            "Ethiopia",
            "Estonia",
            "El Salvador",
            "Egypt",
            "Ecuador",
            "Dominican Republic",
            "Denmark",
            "Cyprus",
            "Croatia",
            "Costa Rica",
            "Colombia",
            "China",
            "China",
            "Chile",
            "Chad",
            "Canada",
            "Cameroon",
            "Cambodia",
            "Burundi",
            "Burkina Faso",
            "Bulgaria",
            "Brazil",
            "Botswana",
            "Bosnia and Herzegovina",
            "Bolivia",
            "Benin",
            "Belgium",
            "Belarus",
            "Bangladesh",
            "Bahrain",
            "Azerbaijan",
            "Austria",
            "Australia",
            "Armenia",
            "Argentina",
            "Algeria",
            "Albania",
            "Afghanistan"
           ],
           "name": "",
           "type": "choropleth",
           "z": [
            0.58,
            0.6,
            0.38,
            0.65,
            0.71,
            0.72,
            0.79,
            0.92,
            0.94,
            0.76,
            0.82,
            0.54,
            0.63,
            0.76,
            0.7,
            0.56,
            0.7,
            0.43,
            0.68,
            0.91,
            0.97,
            0.77,
            0.87,
            0.74,
            0.92,
            0.83,
            0.86,
            0.44,
            0.8,
            0.38,
            0.83,
            0.49,
            0.85,
            0.78,
            0.8,
            0.89,
            0.69,
            0.72,
            0.66,
            0.71,
            0.43,
            0.95,
            0.5,
            0.27,
            0.6,
            0.98,
            0.94,
            0.54,
            0.48,
            0.59,
            0.82,
            0.76,
            0.71,
            0.72,
            0.76,
            0.41,
            0.84,
            0.32,
            0.73,
            0.49,
            0.52,
            0.81,
            0.91,
            0.64,
            0.45,
            0.62,
            0.89,
            0.75,
            0.66,
            0.55,
            0.84,
            0.69,
            0.86,
            0.71,
            0.83,
            0.89,
            0.97,
            0.57,
            0.77,
            0.65,
            0.59,
            0.99,
            0.83,
            0.52,
            0.47,
            0.38,
            0.53,
            0.87,
            0.58,
            0.96,
            0.87,
            0.66,
            0.83,
            0.99,
            0.37,
            0.9,
            0.59,
            0.64,
            0.75,
            0.69,
            0.99,
            0.83,
            0.82,
            0.75,
            0.72,
            0.88,
            0.68,
            0.84,
            0.32,
            0.91,
            0.6,
            0.51,
            0.46,
            0.34,
            0.82,
            0.73,
            0.68,
            0.73,
            0.72,
            0.53,
            0.98,
            0.85,
            0.54,
            0.77,
            0.7,
            0.89,
            1.09,
            0.77,
            0.88,
            0.71,
            0.79,
            0.45
           ]
          }
         ],
         "name": "2018"
        },
        {
         "data": [
          {
           "coloraxis": "coloraxis",
           "geo": "geo",
           "hovertemplate": "<b>%{hovertext}</b><br><br>Year=2017<br>Country=%{location}<br>Education_Index=%{z}<extra></extra>",
           "hovertext": [
            "Zimbabwe",
            "Zambia",
            "Yemen",
            "Vietnam",
            "Venezuela",
            "Uzbekistan",
            "Uruguay",
            "United States",
            "United Kingdom",
            "United Arab Emirates",
            "Ukraine",
            "Uganda",
            "Turkmenistan",
            "Turkey",
            "Tunisia",
            "Togo",
            "Thailand",
            "Tanzania",
            "Tajikistan",
            "Switzerland",
            "Sweden",
            "Sri Lanka",
            "Spain",
            "South Africa",
            "Slovenia",
            "Slovakia",
            "Singapore",
            "Sierra Leone",
            "Serbia",
            "Senegal",
            "Saudi Arabia",
            "Rwanda",
            "Russia",
            "Romania",
            "Portugal",
            "Poland",
            "Philippines",
            "Peru",
            "Paraguay",
            "Panama",
            "Pakistan",
            "Norway",
            "Nigeria",
            "Niger",
            "Nicaragua",
            "New Zealand",
            "Netherlands",
            "Nepal",
            "Myanmar",
            "Morocco",
            "Montenegro",
            "Mongolia",
            "Moldova",
            "Mexico",
            "Mauritius",
            "Mauritania",
            "Malta",
            "Mali",
            "Malaysia",
            "Malawi",
            "Madagascar",
            "Luxembourg",
            "Lithuania",
            "Libya",
            "Liberia",
            "Lebanon",
            "Latvia",
            "Kyrgyzstan",
            "Kuwait",
            "Kenya",
            "Kazakhstan",
            "Jordan",
            "Japan",
            "Jamaica",
            "Italy",
            "Israel",
            "Ireland",
            "Iraq",
            "Iran",
            "Indonesia",
            "India",
            "Iceland",
            "Hungary",
            "Honduras",
            "Haiti",
            "Guinea",
            "Guatemala",
            "Greece",
            "Ghana",
            "Germany",
            "Georgia",
            "Gabon",
            "France",
            "Finland",
            "Ethiopia",
            "Estonia",
            "El Salvador",
            "Egypt",
            "Ecuador",
            "Dominican Republic",
            "Denmark",
            "Cyprus",
            "Croatia",
            "Costa Rica",
            "Colombia",
            "China",
            "China",
            "Chile",
            "Chad",
            "Canada",
            "Cameroon",
            "Cambodia",
            "Burundi",
            "Burkina Faso",
            "Bulgaria",
            "Brazil",
            "Botswana",
            "Bosnia and Herzegovina",
            "Bolivia",
            "Benin",
            "Belgium",
            "Belarus",
            "Bangladesh",
            "Bahrain",
            "Azerbaijan",
            "Austria",
            "Australia",
            "Armenia",
            "Argentina",
            "Algeria",
            "Albania",
            "Afghanistan"
           ],
           "ids": [
            "Zimbabwe",
            "Zambia",
            "Yemen",
            "Vietnam",
            "Venezuela",
            "Uzbekistan",
            "Uruguay",
            "United States",
            "United Kingdom",
            "United Arab Emirates",
            "Ukraine",
            "Uganda",
            "Turkmenistan",
            "Turkey",
            "Tunisia",
            "Togo",
            "Thailand",
            "Tanzania",
            "Tajikistan",
            "Switzerland",
            "Sweden",
            "Sri Lanka",
            "Spain",
            "South Africa",
            "Slovenia",
            "Slovakia",
            "Singapore",
            "Sierra Leone",
            "Serbia",
            "Senegal",
            "Saudi Arabia",
            "Rwanda",
            "Russia",
            "Romania",
            "Portugal",
            "Poland",
            "Philippines",
            "Peru",
            "Paraguay",
            "Panama",
            "Pakistan",
            "Norway",
            "Nigeria",
            "Niger",
            "Nicaragua",
            "New Zealand",
            "Netherlands",
            "Nepal",
            "Myanmar",
            "Morocco",
            "Montenegro",
            "Mongolia",
            "Moldova",
            "Mexico",
            "Mauritius",
            "Mauritania",
            "Malta",
            "Mali",
            "Malaysia",
            "Malawi",
            "Madagascar",
            "Luxembourg",
            "Lithuania",
            "Libya",
            "Liberia",
            "Lebanon",
            "Latvia",
            "Kyrgyzstan",
            "Kuwait",
            "Kenya",
            "Kazakhstan",
            "Jordan",
            "Japan",
            "Jamaica",
            "Italy",
            "Israel",
            "Ireland",
            "Iraq",
            "Iran",
            "Indonesia",
            "India",
            "Iceland",
            "Hungary",
            "Honduras",
            "Haiti",
            "Guinea",
            "Guatemala",
            "Greece",
            "Ghana",
            "Germany",
            "Georgia",
            "Gabon",
            "France",
            "Finland",
            "Ethiopia",
            "Estonia",
            "El Salvador",
            "Egypt",
            "Ecuador",
            "Dominican Republic",
            "Denmark",
            "Cyprus",
            "Croatia",
            "Costa Rica",
            "Colombia",
            "China",
            "China",
            "Chile",
            "Chad",
            "Canada",
            "Cameroon",
            "Cambodia",
            "Burundi",
            "Burkina Faso",
            "Bulgaria",
            "Brazil",
            "Botswana",
            "Bosnia and Herzegovina",
            "Bolivia",
            "Benin",
            "Belgium",
            "Belarus",
            "Bangladesh",
            "Bahrain",
            "Azerbaijan",
            "Austria",
            "Australia",
            "Armenia",
            "Argentina",
            "Algeria",
            "Albania",
            "Afghanistan"
           ],
           "locationmode": "country names",
           "locations": [
            "Zimbabwe",
            "Zambia",
            "Yemen",
            "Vietnam",
            "Venezuela",
            "Uzbekistan",
            "Uruguay",
            "United States",
            "United Kingdom",
            "United Arab Emirates",
            "Ukraine",
            "Uganda",
            "Turkmenistan",
            "Turkey",
            "Tunisia",
            "Togo",
            "Thailand",
            "Tanzania",
            "Tajikistan",
            "Switzerland",
            "Sweden",
            "Sri Lanka",
            "Spain",
            "South Africa",
            "Slovenia",
            "Slovakia",
            "Singapore",
            "Sierra Leone",
            "Serbia",
            "Senegal",
            "Saudi Arabia",
            "Rwanda",
            "Russia",
            "Romania",
            "Portugal",
            "Poland",
            "Philippines",
            "Peru",
            "Paraguay",
            "Panama",
            "Pakistan",
            "Norway",
            "Nigeria",
            "Niger",
            "Nicaragua",
            "New Zealand",
            "Netherlands",
            "Nepal",
            "Myanmar",
            "Morocco",
            "Montenegro",
            "Mongolia",
            "Moldova",
            "Mexico",
            "Mauritius",
            "Mauritania",
            "Malta",
            "Mali",
            "Malaysia",
            "Malawi",
            "Madagascar",
            "Luxembourg",
            "Lithuania",
            "Libya",
            "Liberia",
            "Lebanon",
            "Latvia",
            "Kyrgyzstan",
            "Kuwait",
            "Kenya",
            "Kazakhstan",
            "Jordan",
            "Japan",
            "Jamaica",
            "Italy",
            "Israel",
            "Ireland",
            "Iraq",
            "Iran",
            "Indonesia",
            "India",
            "Iceland",
            "Hungary",
            "Honduras",
            "Haiti",
            "Guinea",
            "Guatemala",
            "Greece",
            "Ghana",
            "Germany",
            "Georgia",
            "Gabon",
            "France",
            "Finland",
            "Ethiopia",
            "Estonia",
            "El Salvador",
            "Egypt",
            "Ecuador",
            "Dominican Republic",
            "Denmark",
            "Cyprus",
            "Croatia",
            "Costa Rica",
            "Colombia",
            "China",
            "China",
            "Chile",
            "Chad",
            "Canada",
            "Cameroon",
            "Cambodia",
            "Burundi",
            "Burkina Faso",
            "Bulgaria",
            "Brazil",
            "Botswana",
            "Bosnia and Herzegovina",
            "Bolivia",
            "Benin",
            "Belgium",
            "Belarus",
            "Bangladesh",
            "Bahrain",
            "Azerbaijan",
            "Austria",
            "Australia",
            "Armenia",
            "Argentina",
            "Algeria",
            "Albania",
            "Afghanistan"
           ],
           "name": "",
           "type": "choropleth",
           "z": [
            0.57,
            0.61,
            0.38,
            0.65,
            0.76,
            0.72,
            0.77,
            0.92,
            0.94,
            0.75,
            0.81,
            0.56,
            0.63,
            0.73,
            0.7,
            0.55,
            0.7,
            0.46,
            0.66,
            0.91,
            0.93,
            0.77,
            0.87,
            0.72,
            0.91,
            0.85,
            0.86,
            0.42,
            0.8,
            0.41,
            0.83,
            0.49,
            0.85,
            0.78,
            0.8,
            0.89,
            0.68,
            0.72,
            0.66,
            0.71,
            0.43,
            0.95,
            0.51,
            0.24,
            0.59,
            0.98,
            0.94,
            0.54,
            0.47,
            0.57,
            0.81,
            0.8,
            0.71,
            0.71,
            0.76,
            0.41,
            0.84,
            0.32,
            0.74,
            0.49,
            0.52,
            0.8,
            0.9,
            0.65,
            0.46,
            0.66,
            0.88,
            0.75,
            0.66,
            0.58,
            0.83,
            0.73,
            0.86,
            0.71,
            0.83,
            0.89,
            1,
            0.56,
            0.77,
            0.65,
            0.59,
            0.99,
            0.83,
            0.52,
            0.46,
            0.38,
            0.54,
            0.88,
            0.58,
            0.96,
            0.86,
            0.65,
            0.87,
            0.93,
            0.36,
            0.89,
            0.61,
            0.64,
            0.73,
            0.67,
            0.99,
            0.82,
            0.81,
            0.76,
            0.71,
            0.68,
            0.68,
            0.83,
            0.33,
            0.92,
            0.58,
            0.52,
            0.47,
            0.33,
            0.82,
            0.73,
            0.68,
            0.74,
            0.71,
            0.52,
            0.99,
            0.86,
            0.54,
            0.79,
            0.72,
            0.87,
            1,
            0.76,
            0.86,
            0.7,
            0.77,
            0.45
           ]
          }
         ],
         "name": "2017"
        },
        {
         "data": [
          {
           "coloraxis": "coloraxis",
           "geo": "geo",
           "hovertemplate": "<b>%{hovertext}</b><br><br>Year=2016<br>Country=%{location}<br>Education_Index=%{z}<extra></extra>",
           "hovertext": [
            "Zimbabwe",
            "Zambia",
            "Yemen",
            "Vietnam",
            "Venezuela",
            "Uzbekistan",
            "Uruguay",
            "United States",
            "United Kingdom",
            "United Arab Emirates",
            "Ukraine",
            "Uganda",
            "Turkmenistan",
            "Turkey",
            "Tunisia",
            "Togo",
            "Thailand",
            "Tanzania",
            "Tajikistan",
            "Switzerland",
            "Sweden",
            "Sri Lanka",
            "Spain",
            "South Africa",
            "Slovenia",
            "Slovakia",
            "Singapore",
            "Sierra Leone",
            "Serbia",
            "Senegal",
            "Saudi Arabia",
            "Rwanda",
            "Russia",
            "Romania",
            "Portugal",
            "Poland",
            "Philippines",
            "Peru",
            "Paraguay",
            "Panama",
            "Pakistan",
            "Norway",
            "Nigeria",
            "Niger",
            "Nicaragua",
            "New Zealand",
            "Netherlands",
            "Nepal",
            "Myanmar",
            "Morocco",
            "Montenegro",
            "Mongolia",
            "Moldova",
            "Mexico",
            "Mauritius",
            "Mauritania",
            "Malta",
            "Mali",
            "Malaysia",
            "Malawi",
            "Madagascar",
            "Luxembourg",
            "Lithuania",
            "Libya",
            "Liberia",
            "Lebanon",
            "Latvia",
            "Kyrgyzstan",
            "Kuwait",
            "Kenya",
            "Kazakhstan",
            "Jordan",
            "Japan",
            "Jamaica",
            "Italy",
            "Israel",
            "Ireland",
            "Iraq",
            "Iran",
            "Indonesia",
            "India",
            "Iceland",
            "Hungary",
            "Honduras",
            "Haiti",
            "Guinea",
            "Guatemala",
            "Greece",
            "Ghana",
            "Germany",
            "Georgia",
            "Gabon",
            "France",
            "Finland",
            "Ethiopia",
            "Estonia",
            "El Salvador",
            "Egypt",
            "Ecuador",
            "Dominican Republic",
            "Denmark",
            "Cyprus",
            "Croatia",
            "Costa Rica",
            "Colombia",
            "China",
            "China",
            "Chile",
            "Chad",
            "Canada",
            "Cameroon",
            "Cambodia",
            "Burundi",
            "Burkina Faso",
            "Bulgaria",
            "Brazil",
            "Botswana",
            "Bosnia and Herzegovina",
            "Bolivia",
            "Benin",
            "Belgium",
            "Belarus",
            "Bangladesh",
            "Bahrain",
            "Azerbaijan",
            "Austria",
            "Australia",
            "Armenia",
            "Argentina",
            "Algeria",
            "Albania",
            "Afghanistan"
           ],
           "ids": [
            "Zimbabwe",
            "Zambia",
            "Yemen",
            "Vietnam",
            "Venezuela",
            "Uzbekistan",
            "Uruguay",
            "United States",
            "United Kingdom",
            "United Arab Emirates",
            "Ukraine",
            "Uganda",
            "Turkmenistan",
            "Turkey",
            "Tunisia",
            "Togo",
            "Thailand",
            "Tanzania",
            "Tajikistan",
            "Switzerland",
            "Sweden",
            "Sri Lanka",
            "Spain",
            "South Africa",
            "Slovenia",
            "Slovakia",
            "Singapore",
            "Sierra Leone",
            "Serbia",
            "Senegal",
            "Saudi Arabia",
            "Rwanda",
            "Russia",
            "Romania",
            "Portugal",
            "Poland",
            "Philippines",
            "Peru",
            "Paraguay",
            "Panama",
            "Pakistan",
            "Norway",
            "Nigeria",
            "Niger",
            "Nicaragua",
            "New Zealand",
            "Netherlands",
            "Nepal",
            "Myanmar",
            "Morocco",
            "Montenegro",
            "Mongolia",
            "Moldova",
            "Mexico",
            "Mauritius",
            "Mauritania",
            "Malta",
            "Mali",
            "Malaysia",
            "Malawi",
            "Madagascar",
            "Luxembourg",
            "Lithuania",
            "Libya",
            "Liberia",
            "Lebanon",
            "Latvia",
            "Kyrgyzstan",
            "Kuwait",
            "Kenya",
            "Kazakhstan",
            "Jordan",
            "Japan",
            "Jamaica",
            "Italy",
            "Israel",
            "Ireland",
            "Iraq",
            "Iran",
            "Indonesia",
            "India",
            "Iceland",
            "Hungary",
            "Honduras",
            "Haiti",
            "Guinea",
            "Guatemala",
            "Greece",
            "Ghana",
            "Germany",
            "Georgia",
            "Gabon",
            "France",
            "Finland",
            "Ethiopia",
            "Estonia",
            "El Salvador",
            "Egypt",
            "Ecuador",
            "Dominican Republic",
            "Denmark",
            "Cyprus",
            "Croatia",
            "Costa Rica",
            "Colombia",
            "China",
            "China",
            "Chile",
            "Chad",
            "Canada",
            "Cameroon",
            "Cambodia",
            "Burundi",
            "Burkina Faso",
            "Bulgaria",
            "Brazil",
            "Botswana",
            "Bosnia and Herzegovina",
            "Bolivia",
            "Benin",
            "Belgium",
            "Belarus",
            "Bangladesh",
            "Bahrain",
            "Azerbaijan",
            "Austria",
            "Australia",
            "Armenia",
            "Argentina",
            "Algeria",
            "Albania",
            "Afghanistan"
           ],
           "locationmode": "country names",
           "locations": [
            "Zimbabwe",
            "Zambia",
            "Yemen",
            "Vietnam",
            "Venezuela",
            "Uzbekistan",
            "Uruguay",
            "United States",
            "United Kingdom",
            "United Arab Emirates",
            "Ukraine",
            "Uganda",
            "Turkmenistan",
            "Turkey",
            "Tunisia",
            "Togo",
            "Thailand",
            "Tanzania",
            "Tajikistan",
            "Switzerland",
            "Sweden",
            "Sri Lanka",
            "Spain",
            "South Africa",
            "Slovenia",
            "Slovakia",
            "Singapore",
            "Sierra Leone",
            "Serbia",
            "Senegal",
            "Saudi Arabia",
            "Rwanda",
            "Russia",
            "Romania",
            "Portugal",
            "Poland",
            "Philippines",
            "Peru",
            "Paraguay",
            "Panama",
            "Pakistan",
            "Norway",
            "Nigeria",
            "Niger",
            "Nicaragua",
            "New Zealand",
            "Netherlands",
            "Nepal",
            "Myanmar",
            "Morocco",
            "Montenegro",
            "Mongolia",
            "Moldova",
            "Mexico",
            "Mauritius",
            "Mauritania",
            "Malta",
            "Mali",
            "Malaysia",
            "Malawi",
            "Madagascar",
            "Luxembourg",
            "Lithuania",
            "Libya",
            "Liberia",
            "Lebanon",
            "Latvia",
            "Kyrgyzstan",
            "Kuwait",
            "Kenya",
            "Kazakhstan",
            "Jordan",
            "Japan",
            "Jamaica",
            "Italy",
            "Israel",
            "Ireland",
            "Iraq",
            "Iran",
            "Indonesia",
            "India",
            "Iceland",
            "Hungary",
            "Honduras",
            "Haiti",
            "Guinea",
            "Guatemala",
            "Greece",
            "Ghana",
            "Germany",
            "Georgia",
            "Gabon",
            "France",
            "Finland",
            "Ethiopia",
            "Estonia",
            "El Salvador",
            "Egypt",
            "Ecuador",
            "Dominican Republic",
            "Denmark",
            "Cyprus",
            "Croatia",
            "Costa Rica",
            "Colombia",
            "China",
            "China",
            "Chile",
            "Chad",
            "Canada",
            "Cameroon",
            "Cambodia",
            "Burundi",
            "Burkina Faso",
            "Bulgaria",
            "Brazil",
            "Botswana",
            "Bosnia and Herzegovina",
            "Bolivia",
            "Benin",
            "Belgium",
            "Belarus",
            "Bangladesh",
            "Bahrain",
            "Azerbaijan",
            "Austria",
            "Australia",
            "Armenia",
            "Argentina",
            "Algeria",
            "Albania",
            "Afghanistan"
           ],
           "name": "",
           "type": "choropleth",
           "z": [
            0.57,
            0.61,
            0.38,
            0.65,
            0.76,
            0.71,
            0.77,
            0.92,
            0.94,
            0.75,
            0.81,
            0.54,
            0.64,
            0.73,
            0.7,
            0.55,
            0.69,
            0.46,
            0.67,
            0.91,
            0.93,
            0.77,
            0.87,
            0.72,
            0.92,
            0.85,
            0.86,
            0.42,
            0.8,
            0.4,
            0.83,
            0.49,
            0.85,
            0.78,
            0.8,
            0.89,
            0.68,
            0.72,
            0.66,
            0.7,
            0.43,
            0.95,
            0.51,
            0.23,
            0.59,
            0.98,
            0.94,
            0.54,
            0.47,
            0.56,
            0.81,
            0.8,
            0.71,
            0.71,
            0.76,
            0.41,
            0.84,
            0.31,
            0.74,
            0.49,
            0.52,
            0.8,
            0.9,
            0.65,
            0.46,
            0.66,
            0.88,
            0.75,
            0.65,
            0.57,
            0.83,
            0.73,
            0.86,
            0.71,
            0.83,
            0.89,
            1,
            0.52,
            0.77,
            0.65,
            0.59,
            0.99,
            0.83,
            0.52,
            0.45,
            0.38,
            0.54,
            0.88,
            0.58,
            0.96,
            0.86,
            0.65,
            0.87,
            0.93,
            0.36,
            0.89,
            0.61,
            0.64,
            0.73,
            0.67,
            0.99,
            0.82,
            0.81,
            0.75,
            0.71,
            0.68,
            0.68,
            0.83,
            0.33,
            0.91,
            0.58,
            0.52,
            0.47,
            0.33,
            0.82,
            0.73,
            0.68,
            0.74,
            0.71,
            0.52,
            0.99,
            0.86,
            0.52,
            0.79,
            0.72,
            0.87,
            1,
            0.76,
            0.86,
            0.7,
            0.77,
            0.45
           ]
          }
         ],
         "name": "2016"
        },
        {
         "data": [
          {
           "coloraxis": "coloraxis",
           "geo": "geo",
           "hovertemplate": "<b>%{hovertext}</b><br><br>Year=2015<br>Country=%{location}<br>Education_Index=%{z}<extra></extra>",
           "hovertext": [
            "Zimbabwe",
            "Zambia",
            "Yemen",
            "Vietnam",
            "Venezuela",
            "Uzbekistan",
            "Uruguay",
            "United States",
            "United Kingdom",
            "United Arab Emirates",
            "Ukraine",
            "Uganda",
            "Turkmenistan",
            "Turkey",
            "Tunisia",
            "Togo",
            "Thailand",
            "Tanzania",
            "Tajikistan",
            "Switzerland",
            "Sweden",
            "Sri Lanka",
            "Spain",
            "South Africa",
            "Slovenia",
            "Slovakia",
            "Singapore",
            "Sierra Leone",
            "Serbia",
            "Senegal",
            "Saudi Arabia",
            "Rwanda",
            "Russia",
            "Romania",
            "Portugal",
            "Poland",
            "Philippines",
            "Peru",
            "Paraguay",
            "Panama",
            "Pakistan",
            "Norway",
            "Nigeria",
            "Niger",
            "Nicaragua",
            "New Zealand",
            "Netherlands",
            "Nepal",
            "Myanmar",
            "Morocco",
            "Montenegro",
            "Mongolia",
            "Moldova",
            "Mexico",
            "Mauritius",
            "Mauritania",
            "Malta",
            "Mali",
            "Malaysia",
            "Malawi",
            "Madagascar",
            "Luxembourg",
            "Lithuania",
            "Libya",
            "Liberia",
            "Lebanon",
            "Latvia",
            "Kyrgyzstan",
            "Kuwait",
            "Kenya",
            "Kazakhstan",
            "Jordan",
            "Japan",
            "Jamaica",
            "Italy",
            "Israel",
            "Ireland",
            "Iraq",
            "Iran",
            "Indonesia",
            "India",
            "Iceland",
            "Hungary",
            "Honduras",
            "Haiti",
            "Guinea",
            "Guatemala",
            "Greece",
            "Ghana",
            "Germany",
            "Georgia",
            "Gabon",
            "France",
            "Finland",
            "Ethiopia",
            "Estonia",
            "El Salvador",
            "Egypt",
            "Ecuador",
            "Dominican Republic",
            "Denmark",
            "Cyprus",
            "Croatia",
            "Costa Rica",
            "Colombia",
            "China",
            "China",
            "Chile",
            "Chad",
            "Canada",
            "Cameroon",
            "Cambodia",
            "Burundi",
            "Burkina Faso",
            "Bulgaria",
            "Brazil",
            "Botswana",
            "Bosnia and Herzegovina",
            "Bolivia",
            "Benin",
            "Belgium",
            "Belarus",
            "Bangladesh",
            "Bahrain",
            "Azerbaijan",
            "Austria",
            "Australia",
            "Armenia",
            "Argentina",
            "Algeria",
            "Albania",
            "Afghanistan"
           ],
           "ids": [
            "Zimbabwe",
            "Zambia",
            "Yemen",
            "Vietnam",
            "Venezuela",
            "Uzbekistan",
            "Uruguay",
            "United States",
            "United Kingdom",
            "United Arab Emirates",
            "Ukraine",
            "Uganda",
            "Turkmenistan",
            "Turkey",
            "Tunisia",
            "Togo",
            "Thailand",
            "Tanzania",
            "Tajikistan",
            "Switzerland",
            "Sweden",
            "Sri Lanka",
            "Spain",
            "South Africa",
            "Slovenia",
            "Slovakia",
            "Singapore",
            "Sierra Leone",
            "Serbia",
            "Senegal",
            "Saudi Arabia",
            "Rwanda",
            "Russia",
            "Romania",
            "Portugal",
            "Poland",
            "Philippines",
            "Peru",
            "Paraguay",
            "Panama",
            "Pakistan",
            "Norway",
            "Nigeria",
            "Niger",
            "Nicaragua",
            "New Zealand",
            "Netherlands",
            "Nepal",
            "Myanmar",
            "Morocco",
            "Montenegro",
            "Mongolia",
            "Moldova",
            "Mexico",
            "Mauritius",
            "Mauritania",
            "Malta",
            "Mali",
            "Malaysia",
            "Malawi",
            "Madagascar",
            "Luxembourg",
            "Lithuania",
            "Libya",
            "Liberia",
            "Lebanon",
            "Latvia",
            "Kyrgyzstan",
            "Kuwait",
            "Kenya",
            "Kazakhstan",
            "Jordan",
            "Japan",
            "Jamaica",
            "Italy",
            "Israel",
            "Ireland",
            "Iraq",
            "Iran",
            "Indonesia",
            "India",
            "Iceland",
            "Hungary",
            "Honduras",
            "Haiti",
            "Guinea",
            "Guatemala",
            "Greece",
            "Ghana",
            "Germany",
            "Georgia",
            "Gabon",
            "France",
            "Finland",
            "Ethiopia",
            "Estonia",
            "El Salvador",
            "Egypt",
            "Ecuador",
            "Dominican Republic",
            "Denmark",
            "Cyprus",
            "Croatia",
            "Costa Rica",
            "Colombia",
            "China",
            "China",
            "Chile",
            "Chad",
            "Canada",
            "Cameroon",
            "Cambodia",
            "Burundi",
            "Burkina Faso",
            "Bulgaria",
            "Brazil",
            "Botswana",
            "Bosnia and Herzegovina",
            "Bolivia",
            "Benin",
            "Belgium",
            "Belarus",
            "Bangladesh",
            "Bahrain",
            "Azerbaijan",
            "Austria",
            "Australia",
            "Armenia",
            "Argentina",
            "Algeria",
            "Albania",
            "Afghanistan"
           ],
           "locationmode": "country names",
           "locations": [
            "Zimbabwe",
            "Zambia",
            "Yemen",
            "Vietnam",
            "Venezuela",
            "Uzbekistan",
            "Uruguay",
            "United States",
            "United Kingdom",
            "United Arab Emirates",
            "Ukraine",
            "Uganda",
            "Turkmenistan",
            "Turkey",
            "Tunisia",
            "Togo",
            "Thailand",
            "Tanzania",
            "Tajikistan",
            "Switzerland",
            "Sweden",
            "Sri Lanka",
            "Spain",
            "South Africa",
            "Slovenia",
            "Slovakia",
            "Singapore",
            "Sierra Leone",
            "Serbia",
            "Senegal",
            "Saudi Arabia",
            "Rwanda",
            "Russia",
            "Romania",
            "Portugal",
            "Poland",
            "Philippines",
            "Peru",
            "Paraguay",
            "Panama",
            "Pakistan",
            "Norway",
            "Nigeria",
            "Niger",
            "Nicaragua",
            "New Zealand",
            "Netherlands",
            "Nepal",
            "Myanmar",
            "Morocco",
            "Montenegro",
            "Mongolia",
            "Moldova",
            "Mexico",
            "Mauritius",
            "Mauritania",
            "Malta",
            "Mali",
            "Malaysia",
            "Malawi",
            "Madagascar",
            "Luxembourg",
            "Lithuania",
            "Libya",
            "Liberia",
            "Lebanon",
            "Latvia",
            "Kyrgyzstan",
            "Kuwait",
            "Kenya",
            "Kazakhstan",
            "Jordan",
            "Japan",
            "Jamaica",
            "Italy",
            "Israel",
            "Ireland",
            "Iraq",
            "Iran",
            "Indonesia",
            "India",
            "Iceland",
            "Hungary",
            "Honduras",
            "Haiti",
            "Guinea",
            "Guatemala",
            "Greece",
            "Ghana",
            "Germany",
            "Georgia",
            "Gabon",
            "France",
            "Finland",
            "Ethiopia",
            "Estonia",
            "El Salvador",
            "Egypt",
            "Ecuador",
            "Dominican Republic",
            "Denmark",
            "Cyprus",
            "Croatia",
            "Costa Rica",
            "Colombia",
            "China",
            "China",
            "Chile",
            "Chad",
            "Canada",
            "Cameroon",
            "Cambodia",
            "Burundi",
            "Burkina Faso",
            "Bulgaria",
            "Brazil",
            "Botswana",
            "Bosnia and Herzegovina",
            "Bolivia",
            "Benin",
            "Belgium",
            "Belarus",
            "Bangladesh",
            "Bahrain",
            "Azerbaijan",
            "Austria",
            "Australia",
            "Armenia",
            "Argentina",
            "Algeria",
            "Albania",
            "Afghanistan"
           ],
           "name": "",
           "type": "choropleth",
           "z": [
            0.57,
            0.61,
            0.38,
            0.65,
            0.76,
            0.71,
            0.77,
            0.92,
            0.94,
            0.75,
            0.81,
            0.53,
            0.63,
            0.72,
            0.69,
            0.54,
            0.67,
            0.46,
            0.67,
            0.91,
            0.93,
            0.77,
            0.86,
            0.72,
            0.91,
            0.85,
            0.86,
            0.41,
            0.79,
            0.39,
            0.83,
            0.47,
            0.85,
            0.79,
            0.8,
            0.87,
            0.68,
            0.71,
            0.66,
            0.7,
            0.42,
            0.94,
            0.5,
            0.23,
            0.58,
            0.97,
            0.94,
            0.54,
            0.47,
            0.55,
            0.81,
            0.78,
            0.71,
            0.7,
            0.76,
            0.41,
            0.83,
            0.31,
            0.73,
            0.48,
            0.52,
            0.8,
            0.9,
            0.65,
            0.46,
            0.65,
            0.88,
            0.74,
            0.65,
            0.57,
            0.83,
            0.72,
            0.85,
            0.7,
            0.83,
            0.89,
            1,
            0.52,
            0.77,
            0.64,
            0.58,
            0.98,
            0.83,
            0.52,
            0.45,
            0.38,
            0.54,
            0.87,
            0.58,
            0.96,
            0.84,
            0.65,
            0.87,
            0.93,
            0.36,
            0.89,
            0.6,
            0.63,
            0.71,
            0.68,
            0.99,
            0.81,
            0.81,
            0.75,
            0.71,
            0.67,
            0.67,
            0.83,
            0.33,
            0.91,
            0.58,
            0.52,
            0.47,
            0.32,
            0.83,
            0.72,
            0.68,
            0.72,
            0.7,
            0.52,
            0.99,
            0.86,
            0.52,
            0.75,
            0.72,
            0.87,
            1,
            0.76,
            0.85,
            0.7,
            0.76,
            0.45
           ]
          }
         ],
         "name": "2015"
        }
       ],
       "layout": {
        "coloraxis": {
         "colorbar": {
          "title": {
           "text": "Education_Index"
          }
         },
         "colorscale": [
          [
           0,
           "#440154"
          ],
          [
           0.1111111111111111,
           "#482878"
          ],
          [
           0.2222222222222222,
           "#3e4989"
          ],
          [
           0.3333333333333333,
           "#31688e"
          ],
          [
           0.4444444444444444,
           "#26828e"
          ],
          [
           0.5555555555555556,
           "#1f9e89"
          ],
          [
           0.6666666666666666,
           "#35b779"
          ],
          [
           0.7777777777777778,
           "#6ece58"
          ],
          [
           0.8888888888888888,
           "#b5de2b"
          ],
          [
           1,
           "#fde725"
          ]
         ]
        },
        "geo": {
         "center": {},
         "domain": {
          "x": [
           0,
           1
          ],
          "y": [
           0,
           1
          ]
         },
         "projection": {
          "type": "natural earth"
         }
        },
        "height": 600,
        "legend": {
         "tracegroupgap": 0
        },
        "margin": {
         "b": 0,
         "l": 0,
         "r": 0,
         "t": 40
        },
        "sliders": [
         {
          "active": 0,
          "currentvalue": {
           "prefix": "Year="
          },
          "len": 0.9,
          "pad": {
           "b": 10,
           "t": 60
          },
          "steps": [
           {
            "args": [
             [
              "2018"
             ],
             {
              "frame": {
               "duration": 0,
               "redraw": true
              },
              "fromcurrent": true,
              "mode": "immediate",
              "transition": {
               "duration": 0,
               "easing": "linear"
              }
             }
            ],
            "label": "2018",
            "method": "animate"
           },
           {
            "args": [
             [
              "2017"
             ],
             {
              "frame": {
               "duration": 0,
               "redraw": true
              },
              "fromcurrent": true,
              "mode": "immediate",
              "transition": {
               "duration": 0,
               "easing": "linear"
              }
             }
            ],
            "label": "2017",
            "method": "animate"
           },
           {
            "args": [
             [
              "2016"
             ],
             {
              "frame": {
               "duration": 0,
               "redraw": true
              },
              "fromcurrent": true,
              "mode": "immediate",
              "transition": {
               "duration": 0,
               "easing": "linear"
              }
             }
            ],
            "label": "2016",
            "method": "animate"
           },
           {
            "args": [
             [
              "2015"
             ],
             {
              "frame": {
               "duration": 0,
               "redraw": true
              },
              "fromcurrent": true,
              "mode": "immediate",
              "transition": {
               "duration": 0,
               "easing": "linear"
              }
             }
            ],
            "label": "2015",
            "method": "animate"
           }
          ],
          "x": 0.1,
          "xanchor": "left",
          "y": 0,
          "yanchor": "top"
         }
        ],
        "template": {
         "data": {
          "bar": [
           {
            "error_x": {
             "color": "#2a3f5f"
            },
            "error_y": {
             "color": "#2a3f5f"
            },
            "marker": {
             "line": {
              "color": "#E5ECF6",
              "width": 0.5
             },
             "pattern": {
              "fillmode": "overlay",
              "size": 10,
              "solidity": 0.2
             }
            },
            "type": "bar"
           }
          ],
          "barpolar": [
           {
            "marker": {
             "line": {
              "color": "#E5ECF6",
              "width": 0.5
             },
             "pattern": {
              "fillmode": "overlay",
              "size": 10,
              "solidity": 0.2
             }
            },
            "type": "barpolar"
           }
          ],
          "carpet": [
           {
            "aaxis": {
             "endlinecolor": "#2a3f5f",
             "gridcolor": "white",
             "linecolor": "white",
             "minorgridcolor": "white",
             "startlinecolor": "#2a3f5f"
            },
            "baxis": {
             "endlinecolor": "#2a3f5f",
             "gridcolor": "white",
             "linecolor": "white",
             "minorgridcolor": "white",
             "startlinecolor": "#2a3f5f"
            },
            "type": "carpet"
           }
          ],
          "choropleth": [
           {
            "colorbar": {
             "outlinewidth": 0,
             "ticks": ""
            },
            "type": "choropleth"
           }
          ],
          "contour": [
           {
            "colorbar": {
             "outlinewidth": 0,
             "ticks": ""
            },
            "colorscale": [
             [
              0,
              "#0d0887"
             ],
             [
              0.1111111111111111,
              "#46039f"
             ],
             [
              0.2222222222222222,
              "#7201a8"
             ],
             [
              0.3333333333333333,
              "#9c179e"
             ],
             [
              0.4444444444444444,
              "#bd3786"
             ],
             [
              0.5555555555555556,
              "#d8576b"
             ],
             [
              0.6666666666666666,
              "#ed7953"
             ],
             [
              0.7777777777777778,
              "#fb9f3a"
             ],
             [
              0.8888888888888888,
              "#fdca26"
             ],
             [
              1,
              "#f0f921"
             ]
            ],
            "type": "contour"
           }
          ],
          "contourcarpet": [
           {
            "colorbar": {
             "outlinewidth": 0,
             "ticks": ""
            },
            "type": "contourcarpet"
           }
          ],
          "heatmap": [
           {
            "colorbar": {
             "outlinewidth": 0,
             "ticks": ""
            },
            "colorscale": [
             [
              0,
              "#0d0887"
             ],
             [
              0.1111111111111111,
              "#46039f"
             ],
             [
              0.2222222222222222,
              "#7201a8"
             ],
             [
              0.3333333333333333,
              "#9c179e"
             ],
             [
              0.4444444444444444,
              "#bd3786"
             ],
             [
              0.5555555555555556,
              "#d8576b"
             ],
             [
              0.6666666666666666,
              "#ed7953"
             ],
             [
              0.7777777777777778,
              "#fb9f3a"
             ],
             [
              0.8888888888888888,
              "#fdca26"
             ],
             [
              1,
              "#f0f921"
             ]
            ],
            "type": "heatmap"
           }
          ],
          "heatmapgl": [
           {
            "colorbar": {
             "outlinewidth": 0,
             "ticks": ""
            },
            "colorscale": [
             [
              0,
              "#0d0887"
             ],
             [
              0.1111111111111111,
              "#46039f"
             ],
             [
              0.2222222222222222,
              "#7201a8"
             ],
             [
              0.3333333333333333,
              "#9c179e"
             ],
             [
              0.4444444444444444,
              "#bd3786"
             ],
             [
              0.5555555555555556,
              "#d8576b"
             ],
             [
              0.6666666666666666,
              "#ed7953"
             ],
             [
              0.7777777777777778,
              "#fb9f3a"
             ],
             [
              0.8888888888888888,
              "#fdca26"
             ],
             [
              1,
              "#f0f921"
             ]
            ],
            "type": "heatmapgl"
           }
          ],
          "histogram": [
           {
            "marker": {
             "pattern": {
              "fillmode": "overlay",
              "size": 10,
              "solidity": 0.2
             }
            },
            "type": "histogram"
           }
          ],
          "histogram2d": [
           {
            "colorbar": {
             "outlinewidth": 0,
             "ticks": ""
            },
            "colorscale": [
             [
              0,
              "#0d0887"
             ],
             [
              0.1111111111111111,
              "#46039f"
             ],
             [
              0.2222222222222222,
              "#7201a8"
             ],
             [
              0.3333333333333333,
              "#9c179e"
             ],
             [
              0.4444444444444444,
              "#bd3786"
             ],
             [
              0.5555555555555556,
              "#d8576b"
             ],
             [
              0.6666666666666666,
              "#ed7953"
             ],
             [
              0.7777777777777778,
              "#fb9f3a"
             ],
             [
              0.8888888888888888,
              "#fdca26"
             ],
             [
              1,
              "#f0f921"
             ]
            ],
            "type": "histogram2d"
           }
          ],
          "histogram2dcontour": [
           {
            "colorbar": {
             "outlinewidth": 0,
             "ticks": ""
            },
            "colorscale": [
             [
              0,
              "#0d0887"
             ],
             [
              0.1111111111111111,
              "#46039f"
             ],
             [
              0.2222222222222222,
              "#7201a8"
             ],
             [
              0.3333333333333333,
              "#9c179e"
             ],
             [
              0.4444444444444444,
              "#bd3786"
             ],
             [
              0.5555555555555556,
              "#d8576b"
             ],
             [
              0.6666666666666666,
              "#ed7953"
             ],
             [
              0.7777777777777778,
              "#fb9f3a"
             ],
             [
              0.8888888888888888,
              "#fdca26"
             ],
             [
              1,
              "#f0f921"
             ]
            ],
            "type": "histogram2dcontour"
           }
          ],
          "mesh3d": [
           {
            "colorbar": {
             "outlinewidth": 0,
             "ticks": ""
            },
            "type": "mesh3d"
           }
          ],
          "parcoords": [
           {
            "line": {
             "colorbar": {
              "outlinewidth": 0,
              "ticks": ""
             }
            },
            "type": "parcoords"
           }
          ],
          "pie": [
           {
            "automargin": true,
            "type": "pie"
           }
          ],
          "scatter": [
           {
            "fillpattern": {
             "fillmode": "overlay",
             "size": 10,
             "solidity": 0.2
            },
            "type": "scatter"
           }
          ],
          "scatter3d": [
           {
            "line": {
             "colorbar": {
              "outlinewidth": 0,
              "ticks": ""
             }
            },
            "marker": {
             "colorbar": {
              "outlinewidth": 0,
              "ticks": ""
             }
            },
            "type": "scatter3d"
           }
          ],
          "scattercarpet": [
           {
            "marker": {
             "colorbar": {
              "outlinewidth": 0,
              "ticks": ""
             }
            },
            "type": "scattercarpet"
           }
          ],
          "scattergeo": [
           {
            "marker": {
             "colorbar": {
              "outlinewidth": 0,
              "ticks": ""
             }
            },
            "type": "scattergeo"
           }
          ],
          "scattergl": [
           {
            "marker": {
             "colorbar": {
              "outlinewidth": 0,
              "ticks": ""
             }
            },
            "type": "scattergl"
           }
          ],
          "scattermapbox": [
           {
            "marker": {
             "colorbar": {
              "outlinewidth": 0,
              "ticks": ""
             }
            },
            "type": "scattermapbox"
           }
          ],
          "scatterpolar": [
           {
            "marker": {
             "colorbar": {
              "outlinewidth": 0,
              "ticks": ""
             }
            },
            "type": "scatterpolar"
           }
          ],
          "scatterpolargl": [
           {
            "marker": {
             "colorbar": {
              "outlinewidth": 0,
              "ticks": ""
             }
            },
            "type": "scatterpolargl"
           }
          ],
          "scatterternary": [
           {
            "marker": {
             "colorbar": {
              "outlinewidth": 0,
              "ticks": ""
             }
            },
            "type": "scatterternary"
           }
          ],
          "surface": [
           {
            "colorbar": {
             "outlinewidth": 0,
             "ticks": ""
            },
            "colorscale": [
             [
              0,
              "#0d0887"
             ],
             [
              0.1111111111111111,
              "#46039f"
             ],
             [
              0.2222222222222222,
              "#7201a8"
             ],
             [
              0.3333333333333333,
              "#9c179e"
             ],
             [
              0.4444444444444444,
              "#bd3786"
             ],
             [
              0.5555555555555556,
              "#d8576b"
             ],
             [
              0.6666666666666666,
              "#ed7953"
             ],
             [
              0.7777777777777778,
              "#fb9f3a"
             ],
             [
              0.8888888888888888,
              "#fdca26"
             ],
             [
              1,
              "#f0f921"
             ]
            ],
            "type": "surface"
           }
          ],
          "table": [
           {
            "cells": {
             "fill": {
              "color": "#EBF0F8"
             },
             "line": {
              "color": "white"
             }
            },
            "header": {
             "fill": {
              "color": "#C8D4E3"
             },
             "line": {
              "color": "white"
             }
            },
            "type": "table"
           }
          ]
         },
         "layout": {
          "annotationdefaults": {
           "arrowcolor": "#2a3f5f",
           "arrowhead": 0,
           "arrowwidth": 1
          },
          "autotypenumbers": "strict",
          "coloraxis": {
           "colorbar": {
            "outlinewidth": 0,
            "ticks": ""
           }
          },
          "colorscale": {
           "diverging": [
            [
             0,
             "#8e0152"
            ],
            [
             0.1,
             "#c51b7d"
            ],
            [
             0.2,
             "#de77ae"
            ],
            [
             0.3,
             "#f1b6da"
            ],
            [
             0.4,
             "#fde0ef"
            ],
            [
             0.5,
             "#f7f7f7"
            ],
            [
             0.6,
             "#e6f5d0"
            ],
            [
             0.7,
             "#b8e186"
            ],
            [
             0.8,
             "#7fbc41"
            ],
            [
             0.9,
             "#4d9221"
            ],
            [
             1,
             "#276419"
            ]
           ],
           "sequential": [
            [
             0,
             "#0d0887"
            ],
            [
             0.1111111111111111,
             "#46039f"
            ],
            [
             0.2222222222222222,
             "#7201a8"
            ],
            [
             0.3333333333333333,
             "#9c179e"
            ],
            [
             0.4444444444444444,
             "#bd3786"
            ],
            [
             0.5555555555555556,
             "#d8576b"
            ],
            [
             0.6666666666666666,
             "#ed7953"
            ],
            [
             0.7777777777777778,
             "#fb9f3a"
            ],
            [
             0.8888888888888888,
             "#fdca26"
            ],
            [
             1,
             "#f0f921"
            ]
           ],
           "sequentialminus": [
            [
             0,
             "#0d0887"
            ],
            [
             0.1111111111111111,
             "#46039f"
            ],
            [
             0.2222222222222222,
             "#7201a8"
            ],
            [
             0.3333333333333333,
             "#9c179e"
            ],
            [
             0.4444444444444444,
             "#bd3786"
            ],
            [
             0.5555555555555556,
             "#d8576b"
            ],
            [
             0.6666666666666666,
             "#ed7953"
            ],
            [
             0.7777777777777778,
             "#fb9f3a"
            ],
            [
             0.8888888888888888,
             "#fdca26"
            ],
            [
             1,
             "#f0f921"
            ]
           ]
          },
          "colorway": [
           "#636efa",
           "#EF553B",
           "#00cc96",
           "#ab63fa",
           "#FFA15A",
           "#19d3f3",
           "#FF6692",
           "#B6E880",
           "#FF97FF",
           "#FECB52"
          ],
          "font": {
           "color": "#2a3f5f"
          },
          "geo": {
           "bgcolor": "white",
           "lakecolor": "white",
           "landcolor": "#E5ECF6",
           "showlakes": true,
           "showland": true,
           "subunitcolor": "white"
          },
          "hoverlabel": {
           "align": "left"
          },
          "hovermode": "closest",
          "mapbox": {
           "style": "light"
          },
          "paper_bgcolor": "white",
          "plot_bgcolor": "#E5ECF6",
          "polar": {
           "angularaxis": {
            "gridcolor": "white",
            "linecolor": "white",
            "ticks": ""
           },
           "bgcolor": "#E5ECF6",
           "radialaxis": {
            "gridcolor": "white",
            "linecolor": "white",
            "ticks": ""
           }
          },
          "scene": {
           "xaxis": {
            "backgroundcolor": "#E5ECF6",
            "gridcolor": "white",
            "gridwidth": 2,
            "linecolor": "white",
            "showbackground": true,
            "ticks": "",
            "zerolinecolor": "white"
           },
           "yaxis": {
            "backgroundcolor": "#E5ECF6",
            "gridcolor": "white",
            "gridwidth": 2,
            "linecolor": "white",
            "showbackground": true,
            "ticks": "",
            "zerolinecolor": "white"
           },
           "zaxis": {
            "backgroundcolor": "#E5ECF6",
            "gridcolor": "white",
            "gridwidth": 2,
            "linecolor": "white",
            "showbackground": true,
            "ticks": "",
            "zerolinecolor": "white"
           }
          },
          "shapedefaults": {
           "line": {
            "color": "#2a3f5f"
           }
          },
          "ternary": {
           "aaxis": {
            "gridcolor": "white",
            "linecolor": "white",
            "ticks": ""
           },
           "baxis": {
            "gridcolor": "white",
            "linecolor": "white",
            "ticks": ""
           },
           "bgcolor": "#E5ECF6",
           "caxis": {
            "gridcolor": "white",
            "linecolor": "white",
            "ticks": ""
           }
          },
          "title": {
           "x": 0.05
          },
          "xaxis": {
           "automargin": true,
           "gridcolor": "white",
           "linecolor": "white",
           "ticks": "",
           "title": {
            "standoff": 15
           },
           "zerolinecolor": "white",
           "zerolinewidth": 2
          },
          "yaxis": {
           "automargin": true,
           "gridcolor": "white",
           "linecolor": "white",
           "ticks": "",
           "title": {
            "standoff": 15
           },
           "zerolinecolor": "white",
           "zerolinewidth": 2
          }
         }
        },
        "title": {
         "text": "World map of Education index"
        },
        "updatemenus": [
         {
          "buttons": [
           {
            "args": [
             null,
             {
              "frame": {
               "duration": 500,
               "redraw": true
              },
              "fromcurrent": true,
              "mode": "immediate",
              "transition": {
               "duration": 500,
               "easing": "linear"
              }
             }
            ],
            "label": "&#9654;",
            "method": "animate"
           },
           {
            "args": [
             [
              null
             ],
             {
              "frame": {
               "duration": 0,
               "redraw": true
              },
              "fromcurrent": true,
              "mode": "immediate",
              "transition": {
               "duration": 0,
               "easing": "linear"
              }
             }
            ],
            "label": "&#9724;",
            "method": "animate"
           }
          ],
          "direction": "left",
          "pad": {
           "r": 10,
           "t": 70
          },
          "showactive": false,
          "type": "buttons",
          "x": 0.1,
          "xanchor": "right",
          "y": 0,
          "yanchor": "top"
         }
        ]
       }
      },
      "text/html": [
       "<div>                            <div id=\"bc6c321b-38b2-4492-96ce-62b7dcdb2d7f\" class=\"plotly-graph-div\" style=\"height:600px; width:100%;\"></div>            <script type=\"text/javascript\">                require([\"plotly\"], function(Plotly) {                    window.PLOTLYENV=window.PLOTLYENV || {};                                    if (document.getElementById(\"bc6c321b-38b2-4492-96ce-62b7dcdb2d7f\")) {                    Plotly.newPlot(                        \"bc6c321b-38b2-4492-96ce-62b7dcdb2d7f\",                        [{\"coloraxis\":\"coloraxis\",\"geo\":\"geo\",\"hovertemplate\":\"\\u003cb\\u003e%{hovertext}\\u003c\\u002fb\\u003e\\u003cbr\\u003e\\u003cbr\\u003eYear=2018\\u003cbr\\u003eCountry=%{location}\\u003cbr\\u003eEducation_Index=%{z}\\u003cextra\\u003e\\u003c\\u002fextra\\u003e\",\"hovertext\":[\"Zimbabwe\",\"Zambia\",\"Yemen\",\"Vietnam\",\"Venezuela\",\"Uzbekistan\",\"Uruguay\",\"United States\",\"United Kingdom\",\"United Arab Emirates\",\"Ukraine\",\"Uganda\",\"Turkmenistan\",\"Turkey\",\"Tunisia\",\"Togo\",\"Thailand\",\"Tanzania\",\"Tajikistan\",\"Switzerland\",\"Sweden\",\"Sri Lanka\",\"Spain\",\"South Africa\",\"Slovenia\",\"Slovakia\",\"Singapore\",\"Sierra Leone\",\"Serbia\",\"Senegal\",\"Saudi Arabia\",\"Rwanda\",\"Russia\",\"Romania\",\"Portugal\",\"Poland\",\"Philippines\",\"Peru\",\"Paraguay\",\"Panama\",\"Pakistan\",\"Norway\",\"Nigeria\",\"Niger\",\"Nicaragua\",\"New Zealand\",\"Netherlands\",\"Nepal\",\"Myanmar\",\"Morocco\",\"Montenegro\",\"Mongolia\",\"Moldova\",\"Mexico\",\"Mauritius\",\"Mauritania\",\"Malta\",\"Mali\",\"Malaysia\",\"Malawi\",\"Madagascar\",\"Luxembourg\",\"Lithuania\",\"Libya\",\"Liberia\",\"Lebanon\",\"Latvia\",\"Kyrgyzstan\",\"Kuwait\",\"Kenya\",\"Kazakhstan\",\"Jordan\",\"Japan\",\"Jamaica\",\"Italy\",\"Israel\",\"Ireland\",\"Iraq\",\"Iran\",\"Indonesia\",\"India\",\"Iceland\",\"Hungary\",\"Honduras\",\"Haiti\",\"Guinea\",\"Guatemala\",\"Greece\",\"Ghana\",\"Germany\",\"Georgia\",\"Gabon\",\"France\",\"Finland\",\"Ethiopia\",\"Estonia\",\"El Salvador\",\"Egypt\",\"Ecuador\",\"Dominican Republic\",\"Denmark\",\"Cyprus\",\"Croatia\",\"Costa Rica\",\"Colombia\",\"China\",\"China\",\"Chile\",\"Chad\",\"Canada\",\"Cameroon\",\"Cambodia\",\"Burundi\",\"Burkina Faso\",\"Bulgaria\",\"Brazil\",\"Botswana\",\"Bosnia and Herzegovina\",\"Bolivia\",\"Benin\",\"Belgium\",\"Belarus\",\"Bangladesh\",\"Bahrain\",\"Azerbaijan\",\"Austria\",\"Australia\",\"Armenia\",\"Argentina\",\"Algeria\",\"Albania\",\"Afghanistan\"],\"ids\":[\"Zimbabwe\",\"Zambia\",\"Yemen\",\"Vietnam\",\"Venezuela\",\"Uzbekistan\",\"Uruguay\",\"United States\",\"United Kingdom\",\"United Arab Emirates\",\"Ukraine\",\"Uganda\",\"Turkmenistan\",\"Turkey\",\"Tunisia\",\"Togo\",\"Thailand\",\"Tanzania\",\"Tajikistan\",\"Switzerland\",\"Sweden\",\"Sri Lanka\",\"Spain\",\"South Africa\",\"Slovenia\",\"Slovakia\",\"Singapore\",\"Sierra Leone\",\"Serbia\",\"Senegal\",\"Saudi Arabia\",\"Rwanda\",\"Russia\",\"Romania\",\"Portugal\",\"Poland\",\"Philippines\",\"Peru\",\"Paraguay\",\"Panama\",\"Pakistan\",\"Norway\",\"Nigeria\",\"Niger\",\"Nicaragua\",\"New Zealand\",\"Netherlands\",\"Nepal\",\"Myanmar\",\"Morocco\",\"Montenegro\",\"Mongolia\",\"Moldova\",\"Mexico\",\"Mauritius\",\"Mauritania\",\"Malta\",\"Mali\",\"Malaysia\",\"Malawi\",\"Madagascar\",\"Luxembourg\",\"Lithuania\",\"Libya\",\"Liberia\",\"Lebanon\",\"Latvia\",\"Kyrgyzstan\",\"Kuwait\",\"Kenya\",\"Kazakhstan\",\"Jordan\",\"Japan\",\"Jamaica\",\"Italy\",\"Israel\",\"Ireland\",\"Iraq\",\"Iran\",\"Indonesia\",\"India\",\"Iceland\",\"Hungary\",\"Honduras\",\"Haiti\",\"Guinea\",\"Guatemala\",\"Greece\",\"Ghana\",\"Germany\",\"Georgia\",\"Gabon\",\"France\",\"Finland\",\"Ethiopia\",\"Estonia\",\"El Salvador\",\"Egypt\",\"Ecuador\",\"Dominican Republic\",\"Denmark\",\"Cyprus\",\"Croatia\",\"Costa Rica\",\"Colombia\",\"China\",\"China\",\"Chile\",\"Chad\",\"Canada\",\"Cameroon\",\"Cambodia\",\"Burundi\",\"Burkina Faso\",\"Bulgaria\",\"Brazil\",\"Botswana\",\"Bosnia and Herzegovina\",\"Bolivia\",\"Benin\",\"Belgium\",\"Belarus\",\"Bangladesh\",\"Bahrain\",\"Azerbaijan\",\"Austria\",\"Australia\",\"Armenia\",\"Argentina\",\"Algeria\",\"Albania\",\"Afghanistan\"],\"locationmode\":\"country names\",\"locations\":[\"Zimbabwe\",\"Zambia\",\"Yemen\",\"Vietnam\",\"Venezuela\",\"Uzbekistan\",\"Uruguay\",\"United States\",\"United Kingdom\",\"United Arab Emirates\",\"Ukraine\",\"Uganda\",\"Turkmenistan\",\"Turkey\",\"Tunisia\",\"Togo\",\"Thailand\",\"Tanzania\",\"Tajikistan\",\"Switzerland\",\"Sweden\",\"Sri Lanka\",\"Spain\",\"South Africa\",\"Slovenia\",\"Slovakia\",\"Singapore\",\"Sierra Leone\",\"Serbia\",\"Senegal\",\"Saudi Arabia\",\"Rwanda\",\"Russia\",\"Romania\",\"Portugal\",\"Poland\",\"Philippines\",\"Peru\",\"Paraguay\",\"Panama\",\"Pakistan\",\"Norway\",\"Nigeria\",\"Niger\",\"Nicaragua\",\"New Zealand\",\"Netherlands\",\"Nepal\",\"Myanmar\",\"Morocco\",\"Montenegro\",\"Mongolia\",\"Moldova\",\"Mexico\",\"Mauritius\",\"Mauritania\",\"Malta\",\"Mali\",\"Malaysia\",\"Malawi\",\"Madagascar\",\"Luxembourg\",\"Lithuania\",\"Libya\",\"Liberia\",\"Lebanon\",\"Latvia\",\"Kyrgyzstan\",\"Kuwait\",\"Kenya\",\"Kazakhstan\",\"Jordan\",\"Japan\",\"Jamaica\",\"Italy\",\"Israel\",\"Ireland\",\"Iraq\",\"Iran\",\"Indonesia\",\"India\",\"Iceland\",\"Hungary\",\"Honduras\",\"Haiti\",\"Guinea\",\"Guatemala\",\"Greece\",\"Ghana\",\"Germany\",\"Georgia\",\"Gabon\",\"France\",\"Finland\",\"Ethiopia\",\"Estonia\",\"El Salvador\",\"Egypt\",\"Ecuador\",\"Dominican Republic\",\"Denmark\",\"Cyprus\",\"Croatia\",\"Costa Rica\",\"Colombia\",\"China\",\"China\",\"Chile\",\"Chad\",\"Canada\",\"Cameroon\",\"Cambodia\",\"Burundi\",\"Burkina Faso\",\"Bulgaria\",\"Brazil\",\"Botswana\",\"Bosnia and Herzegovina\",\"Bolivia\",\"Benin\",\"Belgium\",\"Belarus\",\"Bangladesh\",\"Bahrain\",\"Azerbaijan\",\"Austria\",\"Australia\",\"Armenia\",\"Argentina\",\"Algeria\",\"Albania\",\"Afghanistan\"],\"name\":\"\",\"z\":[0.58,0.6,0.38,0.65,0.71,0.72,0.79,0.92,0.94,0.76,0.82,0.54,0.63,0.76,0.7,0.56,0.7,0.43,0.68,0.91,0.97,0.77,0.87,0.74,0.92,0.83,0.86,0.44,0.8,0.38,0.83,0.49,0.85,0.78,0.8,0.89,0.69,0.72,0.66,0.71,0.43,0.95,0.5,0.27,0.6,0.98,0.94,0.54,0.48,0.59,0.82,0.76,0.71,0.72,0.76,0.41,0.84,0.32,0.73,0.49,0.52,0.81,0.91,0.64,0.45,0.62,0.89,0.75,0.66,0.55,0.84,0.69,0.86,0.71,0.83,0.89,0.97,0.57,0.77,0.65,0.59,0.99,0.83,0.52,0.47,0.38,0.53,0.87,0.58,0.96,0.87,0.66,0.83,0.99,0.37,0.9,0.59,0.64,0.75,0.69,0.99,0.83,0.82,0.75,0.72,0.88,0.68,0.84,0.32,0.91,0.6,0.51,0.46,0.34,0.82,0.73,0.68,0.73,0.72,0.53,0.98,0.85,0.54,0.77,0.7,0.89,1.09,0.77,0.88,0.71,0.79,0.45],\"type\":\"choropleth\"}],                        {\"template\":{\"data\":{\"histogram2dcontour\":[{\"type\":\"histogram2dcontour\",\"colorbar\":{\"outlinewidth\":0,\"ticks\":\"\"},\"colorscale\":[[0.0,\"#0d0887\"],[0.1111111111111111,\"#46039f\"],[0.2222222222222222,\"#7201a8\"],[0.3333333333333333,\"#9c179e\"],[0.4444444444444444,\"#bd3786\"],[0.5555555555555556,\"#d8576b\"],[0.6666666666666666,\"#ed7953\"],[0.7777777777777778,\"#fb9f3a\"],[0.8888888888888888,\"#fdca26\"],[1.0,\"#f0f921\"]]}],\"choropleth\":[{\"type\":\"choropleth\",\"colorbar\":{\"outlinewidth\":0,\"ticks\":\"\"}}],\"histogram2d\":[{\"type\":\"histogram2d\",\"colorbar\":{\"outlinewidth\":0,\"ticks\":\"\"},\"colorscale\":[[0.0,\"#0d0887\"],[0.1111111111111111,\"#46039f\"],[0.2222222222222222,\"#7201a8\"],[0.3333333333333333,\"#9c179e\"],[0.4444444444444444,\"#bd3786\"],[0.5555555555555556,\"#d8576b\"],[0.6666666666666666,\"#ed7953\"],[0.7777777777777778,\"#fb9f3a\"],[0.8888888888888888,\"#fdca26\"],[1.0,\"#f0f921\"]]}],\"heatmap\":[{\"type\":\"heatmap\",\"colorbar\":{\"outlinewidth\":0,\"ticks\":\"\"},\"colorscale\":[[0.0,\"#0d0887\"],[0.1111111111111111,\"#46039f\"],[0.2222222222222222,\"#7201a8\"],[0.3333333333333333,\"#9c179e\"],[0.4444444444444444,\"#bd3786\"],[0.5555555555555556,\"#d8576b\"],[0.6666666666666666,\"#ed7953\"],[0.7777777777777778,\"#fb9f3a\"],[0.8888888888888888,\"#fdca26\"],[1.0,\"#f0f921\"]]}],\"heatmapgl\":[{\"type\":\"heatmapgl\",\"colorbar\":{\"outlinewidth\":0,\"ticks\":\"\"},\"colorscale\":[[0.0,\"#0d0887\"],[0.1111111111111111,\"#46039f\"],[0.2222222222222222,\"#7201a8\"],[0.3333333333333333,\"#9c179e\"],[0.4444444444444444,\"#bd3786\"],[0.5555555555555556,\"#d8576b\"],[0.6666666666666666,\"#ed7953\"],[0.7777777777777778,\"#fb9f3a\"],[0.8888888888888888,\"#fdca26\"],[1.0,\"#f0f921\"]]}],\"contourcarpet\":[{\"type\":\"contourcarpet\",\"colorbar\":{\"outlinewidth\":0,\"ticks\":\"\"}}],\"contour\":[{\"type\":\"contour\",\"colorbar\":{\"outlinewidth\":0,\"ticks\":\"\"},\"colorscale\":[[0.0,\"#0d0887\"],[0.1111111111111111,\"#46039f\"],[0.2222222222222222,\"#7201a8\"],[0.3333333333333333,\"#9c179e\"],[0.4444444444444444,\"#bd3786\"],[0.5555555555555556,\"#d8576b\"],[0.6666666666666666,\"#ed7953\"],[0.7777777777777778,\"#fb9f3a\"],[0.8888888888888888,\"#fdca26\"],[1.0,\"#f0f921\"]]}],\"surface\":[{\"type\":\"surface\",\"colorbar\":{\"outlinewidth\":0,\"ticks\":\"\"},\"colorscale\":[[0.0,\"#0d0887\"],[0.1111111111111111,\"#46039f\"],[0.2222222222222222,\"#7201a8\"],[0.3333333333333333,\"#9c179e\"],[0.4444444444444444,\"#bd3786\"],[0.5555555555555556,\"#d8576b\"],[0.6666666666666666,\"#ed7953\"],[0.7777777777777778,\"#fb9f3a\"],[0.8888888888888888,\"#fdca26\"],[1.0,\"#f0f921\"]]}],\"mesh3d\":[{\"type\":\"mesh3d\",\"colorbar\":{\"outlinewidth\":0,\"ticks\":\"\"}}],\"scatter\":[{\"fillpattern\":{\"fillmode\":\"overlay\",\"size\":10,\"solidity\":0.2},\"type\":\"scatter\"}],\"parcoords\":[{\"type\":\"parcoords\",\"line\":{\"colorbar\":{\"outlinewidth\":0,\"ticks\":\"\"}}}],\"scatterpolargl\":[{\"type\":\"scatterpolargl\",\"marker\":{\"colorbar\":{\"outlinewidth\":0,\"ticks\":\"\"}}}],\"bar\":[{\"error_x\":{\"color\":\"#2a3f5f\"},\"error_y\":{\"color\":\"#2a3f5f\"},\"marker\":{\"line\":{\"color\":\"#E5ECF6\",\"width\":0.5},\"pattern\":{\"fillmode\":\"overlay\",\"size\":10,\"solidity\":0.2}},\"type\":\"bar\"}],\"scattergeo\":[{\"type\":\"scattergeo\",\"marker\":{\"colorbar\":{\"outlinewidth\":0,\"ticks\":\"\"}}}],\"scatterpolar\":[{\"type\":\"scatterpolar\",\"marker\":{\"colorbar\":{\"outlinewidth\":0,\"ticks\":\"\"}}}],\"histogram\":[{\"marker\":{\"pattern\":{\"fillmode\":\"overlay\",\"size\":10,\"solidity\":0.2}},\"type\":\"histogram\"}],\"scattergl\":[{\"type\":\"scattergl\",\"marker\":{\"colorbar\":{\"outlinewidth\":0,\"ticks\":\"\"}}}],\"scatter3d\":[{\"type\":\"scatter3d\",\"line\":{\"colorbar\":{\"outlinewidth\":0,\"ticks\":\"\"}},\"marker\":{\"colorbar\":{\"outlinewidth\":0,\"ticks\":\"\"}}}],\"scattermapbox\":[{\"type\":\"scattermapbox\",\"marker\":{\"colorbar\":{\"outlinewidth\":0,\"ticks\":\"\"}}}],\"scatterternary\":[{\"type\":\"scatterternary\",\"marker\":{\"colorbar\":{\"outlinewidth\":0,\"ticks\":\"\"}}}],\"scattercarpet\":[{\"type\":\"scattercarpet\",\"marker\":{\"colorbar\":{\"outlinewidth\":0,\"ticks\":\"\"}}}],\"carpet\":[{\"aaxis\":{\"endlinecolor\":\"#2a3f5f\",\"gridcolor\":\"white\",\"linecolor\":\"white\",\"minorgridcolor\":\"white\",\"startlinecolor\":\"#2a3f5f\"},\"baxis\":{\"endlinecolor\":\"#2a3f5f\",\"gridcolor\":\"white\",\"linecolor\":\"white\",\"minorgridcolor\":\"white\",\"startlinecolor\":\"#2a3f5f\"},\"type\":\"carpet\"}],\"table\":[{\"cells\":{\"fill\":{\"color\":\"#EBF0F8\"},\"line\":{\"color\":\"white\"}},\"header\":{\"fill\":{\"color\":\"#C8D4E3\"},\"line\":{\"color\":\"white\"}},\"type\":\"table\"}],\"barpolar\":[{\"marker\":{\"line\":{\"color\":\"#E5ECF6\",\"width\":0.5},\"pattern\":{\"fillmode\":\"overlay\",\"size\":10,\"solidity\":0.2}},\"type\":\"barpolar\"}],\"pie\":[{\"automargin\":true,\"type\":\"pie\"}]},\"layout\":{\"autotypenumbers\":\"strict\",\"colorway\":[\"#636efa\",\"#EF553B\",\"#00cc96\",\"#ab63fa\",\"#FFA15A\",\"#19d3f3\",\"#FF6692\",\"#B6E880\",\"#FF97FF\",\"#FECB52\"],\"font\":{\"color\":\"#2a3f5f\"},\"hovermode\":\"closest\",\"hoverlabel\":{\"align\":\"left\"},\"paper_bgcolor\":\"white\",\"plot_bgcolor\":\"#E5ECF6\",\"polar\":{\"bgcolor\":\"#E5ECF6\",\"angularaxis\":{\"gridcolor\":\"white\",\"linecolor\":\"white\",\"ticks\":\"\"},\"radialaxis\":{\"gridcolor\":\"white\",\"linecolor\":\"white\",\"ticks\":\"\"}},\"ternary\":{\"bgcolor\":\"#E5ECF6\",\"aaxis\":{\"gridcolor\":\"white\",\"linecolor\":\"white\",\"ticks\":\"\"},\"baxis\":{\"gridcolor\":\"white\",\"linecolor\":\"white\",\"ticks\":\"\"},\"caxis\":{\"gridcolor\":\"white\",\"linecolor\":\"white\",\"ticks\":\"\"}},\"coloraxis\":{\"colorbar\":{\"outlinewidth\":0,\"ticks\":\"\"}},\"colorscale\":{\"sequential\":[[0.0,\"#0d0887\"],[0.1111111111111111,\"#46039f\"],[0.2222222222222222,\"#7201a8\"],[0.3333333333333333,\"#9c179e\"],[0.4444444444444444,\"#bd3786\"],[0.5555555555555556,\"#d8576b\"],[0.6666666666666666,\"#ed7953\"],[0.7777777777777778,\"#fb9f3a\"],[0.8888888888888888,\"#fdca26\"],[1.0,\"#f0f921\"]],\"sequentialminus\":[[0.0,\"#0d0887\"],[0.1111111111111111,\"#46039f\"],[0.2222222222222222,\"#7201a8\"],[0.3333333333333333,\"#9c179e\"],[0.4444444444444444,\"#bd3786\"],[0.5555555555555556,\"#d8576b\"],[0.6666666666666666,\"#ed7953\"],[0.7777777777777778,\"#fb9f3a\"],[0.8888888888888888,\"#fdca26\"],[1.0,\"#f0f921\"]],\"diverging\":[[0,\"#8e0152\"],[0.1,\"#c51b7d\"],[0.2,\"#de77ae\"],[0.3,\"#f1b6da\"],[0.4,\"#fde0ef\"],[0.5,\"#f7f7f7\"],[0.6,\"#e6f5d0\"],[0.7,\"#b8e186\"],[0.8,\"#7fbc41\"],[0.9,\"#4d9221\"],[1,\"#276419\"]]},\"xaxis\":{\"gridcolor\":\"white\",\"linecolor\":\"white\",\"ticks\":\"\",\"title\":{\"standoff\":15},\"zerolinecolor\":\"white\",\"automargin\":true,\"zerolinewidth\":2},\"yaxis\":{\"gridcolor\":\"white\",\"linecolor\":\"white\",\"ticks\":\"\",\"title\":{\"standoff\":15},\"zerolinecolor\":\"white\",\"automargin\":true,\"zerolinewidth\":2},\"scene\":{\"xaxis\":{\"backgroundcolor\":\"#E5ECF6\",\"gridcolor\":\"white\",\"linecolor\":\"white\",\"showbackground\":true,\"ticks\":\"\",\"zerolinecolor\":\"white\",\"gridwidth\":2},\"yaxis\":{\"backgroundcolor\":\"#E5ECF6\",\"gridcolor\":\"white\",\"linecolor\":\"white\",\"showbackground\":true,\"ticks\":\"\",\"zerolinecolor\":\"white\",\"gridwidth\":2},\"zaxis\":{\"backgroundcolor\":\"#E5ECF6\",\"gridcolor\":\"white\",\"linecolor\":\"white\",\"showbackground\":true,\"ticks\":\"\",\"zerolinecolor\":\"white\",\"gridwidth\":2}},\"shapedefaults\":{\"line\":{\"color\":\"#2a3f5f\"}},\"annotationdefaults\":{\"arrowcolor\":\"#2a3f5f\",\"arrowhead\":0,\"arrowwidth\":1},\"geo\":{\"bgcolor\":\"white\",\"landcolor\":\"#E5ECF6\",\"subunitcolor\":\"white\",\"showland\":true,\"showlakes\":true,\"lakecolor\":\"white\"},\"title\":{\"x\":0.05},\"mapbox\":{\"style\":\"light\"}}},\"geo\":{\"domain\":{\"x\":[0.0,1.0],\"y\":[0.0,1.0]},\"projection\":{\"type\":\"natural earth\"},\"center\":{}},\"coloraxis\":{\"colorbar\":{\"title\":{\"text\":\"Education_Index\"}},\"colorscale\":[[0.0,\"#440154\"],[0.1111111111111111,\"#482878\"],[0.2222222222222222,\"#3e4989\"],[0.3333333333333333,\"#31688e\"],[0.4444444444444444,\"#26828e\"],[0.5555555555555556,\"#1f9e89\"],[0.6666666666666666,\"#35b779\"],[0.7777777777777778,\"#6ece58\"],[0.8888888888888888,\"#b5de2b\"],[1.0,\"#fde725\"]]},\"legend\":{\"tracegroupgap\":0},\"margin\":{\"t\":40,\"r\":0,\"l\":0,\"b\":0},\"updatemenus\":[{\"buttons\":[{\"args\":[null,{\"frame\":{\"duration\":500,\"redraw\":true},\"mode\":\"immediate\",\"fromcurrent\":true,\"transition\":{\"duration\":500,\"easing\":\"linear\"}}],\"label\":\"&#9654;\",\"method\":\"animate\"},{\"args\":[[null],{\"frame\":{\"duration\":0,\"redraw\":true},\"mode\":\"immediate\",\"fromcurrent\":true,\"transition\":{\"duration\":0,\"easing\":\"linear\"}}],\"label\":\"&#9724;\",\"method\":\"animate\"}],\"direction\":\"left\",\"pad\":{\"r\":10,\"t\":70},\"showactive\":false,\"type\":\"buttons\",\"x\":0.1,\"xanchor\":\"right\",\"y\":0,\"yanchor\":\"top\"}],\"sliders\":[{\"active\":0,\"currentvalue\":{\"prefix\":\"Year=\"},\"len\":0.9,\"pad\":{\"b\":10,\"t\":60},\"steps\":[{\"args\":[[\"2018\"],{\"frame\":{\"duration\":0,\"redraw\":true},\"mode\":\"immediate\",\"fromcurrent\":true,\"transition\":{\"duration\":0,\"easing\":\"linear\"}}],\"label\":\"2018\",\"method\":\"animate\"},{\"args\":[[\"2017\"],{\"frame\":{\"duration\":0,\"redraw\":true},\"mode\":\"immediate\",\"fromcurrent\":true,\"transition\":{\"duration\":0,\"easing\":\"linear\"}}],\"label\":\"2017\",\"method\":\"animate\"},{\"args\":[[\"2016\"],{\"frame\":{\"duration\":0,\"redraw\":true},\"mode\":\"immediate\",\"fromcurrent\":true,\"transition\":{\"duration\":0,\"easing\":\"linear\"}}],\"label\":\"2016\",\"method\":\"animate\"},{\"args\":[[\"2015\"],{\"frame\":{\"duration\":0,\"redraw\":true},\"mode\":\"immediate\",\"fromcurrent\":true,\"transition\":{\"duration\":0,\"easing\":\"linear\"}}],\"label\":\"2015\",\"method\":\"animate\"}],\"x\":0.1,\"xanchor\":\"left\",\"y\":0,\"yanchor\":\"top\"}],\"height\":600,\"title\":{\"text\":\"World map of Education index\"}},                        {\"responsive\": true}                    ).then(function(){\n",
       "                            Plotly.addFrames('bc6c321b-38b2-4492-96ce-62b7dcdb2d7f', [{\"data\":[{\"coloraxis\":\"coloraxis\",\"geo\":\"geo\",\"hovertemplate\":\"\\u003cb\\u003e%{hovertext}\\u003c\\u002fb\\u003e\\u003cbr\\u003e\\u003cbr\\u003eYear=2018\\u003cbr\\u003eCountry=%{location}\\u003cbr\\u003eEducation_Index=%{z}\\u003cextra\\u003e\\u003c\\u002fextra\\u003e\",\"hovertext\":[\"Zimbabwe\",\"Zambia\",\"Yemen\",\"Vietnam\",\"Venezuela\",\"Uzbekistan\",\"Uruguay\",\"United States\",\"United Kingdom\",\"United Arab Emirates\",\"Ukraine\",\"Uganda\",\"Turkmenistan\",\"Turkey\",\"Tunisia\",\"Togo\",\"Thailand\",\"Tanzania\",\"Tajikistan\",\"Switzerland\",\"Sweden\",\"Sri Lanka\",\"Spain\",\"South Africa\",\"Slovenia\",\"Slovakia\",\"Singapore\",\"Sierra Leone\",\"Serbia\",\"Senegal\",\"Saudi Arabia\",\"Rwanda\",\"Russia\",\"Romania\",\"Portugal\",\"Poland\",\"Philippines\",\"Peru\",\"Paraguay\",\"Panama\",\"Pakistan\",\"Norway\",\"Nigeria\",\"Niger\",\"Nicaragua\",\"New Zealand\",\"Netherlands\",\"Nepal\",\"Myanmar\",\"Morocco\",\"Montenegro\",\"Mongolia\",\"Moldova\",\"Mexico\",\"Mauritius\",\"Mauritania\",\"Malta\",\"Mali\",\"Malaysia\",\"Malawi\",\"Madagascar\",\"Luxembourg\",\"Lithuania\",\"Libya\",\"Liberia\",\"Lebanon\",\"Latvia\",\"Kyrgyzstan\",\"Kuwait\",\"Kenya\",\"Kazakhstan\",\"Jordan\",\"Japan\",\"Jamaica\",\"Italy\",\"Israel\",\"Ireland\",\"Iraq\",\"Iran\",\"Indonesia\",\"India\",\"Iceland\",\"Hungary\",\"Honduras\",\"Haiti\",\"Guinea\",\"Guatemala\",\"Greece\",\"Ghana\",\"Germany\",\"Georgia\",\"Gabon\",\"France\",\"Finland\",\"Ethiopia\",\"Estonia\",\"El Salvador\",\"Egypt\",\"Ecuador\",\"Dominican Republic\",\"Denmark\",\"Cyprus\",\"Croatia\",\"Costa Rica\",\"Colombia\",\"China\",\"China\",\"Chile\",\"Chad\",\"Canada\",\"Cameroon\",\"Cambodia\",\"Burundi\",\"Burkina Faso\",\"Bulgaria\",\"Brazil\",\"Botswana\",\"Bosnia and Herzegovina\",\"Bolivia\",\"Benin\",\"Belgium\",\"Belarus\",\"Bangladesh\",\"Bahrain\",\"Azerbaijan\",\"Austria\",\"Australia\",\"Armenia\",\"Argentina\",\"Algeria\",\"Albania\",\"Afghanistan\"],\"ids\":[\"Zimbabwe\",\"Zambia\",\"Yemen\",\"Vietnam\",\"Venezuela\",\"Uzbekistan\",\"Uruguay\",\"United States\",\"United Kingdom\",\"United Arab Emirates\",\"Ukraine\",\"Uganda\",\"Turkmenistan\",\"Turkey\",\"Tunisia\",\"Togo\",\"Thailand\",\"Tanzania\",\"Tajikistan\",\"Switzerland\",\"Sweden\",\"Sri Lanka\",\"Spain\",\"South Africa\",\"Slovenia\",\"Slovakia\",\"Singapore\",\"Sierra Leone\",\"Serbia\",\"Senegal\",\"Saudi Arabia\",\"Rwanda\",\"Russia\",\"Romania\",\"Portugal\",\"Poland\",\"Philippines\",\"Peru\",\"Paraguay\",\"Panama\",\"Pakistan\",\"Norway\",\"Nigeria\",\"Niger\",\"Nicaragua\",\"New Zealand\",\"Netherlands\",\"Nepal\",\"Myanmar\",\"Morocco\",\"Montenegro\",\"Mongolia\",\"Moldova\",\"Mexico\",\"Mauritius\",\"Mauritania\",\"Malta\",\"Mali\",\"Malaysia\",\"Malawi\",\"Madagascar\",\"Luxembourg\",\"Lithuania\",\"Libya\",\"Liberia\",\"Lebanon\",\"Latvia\",\"Kyrgyzstan\",\"Kuwait\",\"Kenya\",\"Kazakhstan\",\"Jordan\",\"Japan\",\"Jamaica\",\"Italy\",\"Israel\",\"Ireland\",\"Iraq\",\"Iran\",\"Indonesia\",\"India\",\"Iceland\",\"Hungary\",\"Honduras\",\"Haiti\",\"Guinea\",\"Guatemala\",\"Greece\",\"Ghana\",\"Germany\",\"Georgia\",\"Gabon\",\"France\",\"Finland\",\"Ethiopia\",\"Estonia\",\"El Salvador\",\"Egypt\",\"Ecuador\",\"Dominican Republic\",\"Denmark\",\"Cyprus\",\"Croatia\",\"Costa Rica\",\"Colombia\",\"China\",\"China\",\"Chile\",\"Chad\",\"Canada\",\"Cameroon\",\"Cambodia\",\"Burundi\",\"Burkina Faso\",\"Bulgaria\",\"Brazil\",\"Botswana\",\"Bosnia and Herzegovina\",\"Bolivia\",\"Benin\",\"Belgium\",\"Belarus\",\"Bangladesh\",\"Bahrain\",\"Azerbaijan\",\"Austria\",\"Australia\",\"Armenia\",\"Argentina\",\"Algeria\",\"Albania\",\"Afghanistan\"],\"locationmode\":\"country names\",\"locations\":[\"Zimbabwe\",\"Zambia\",\"Yemen\",\"Vietnam\",\"Venezuela\",\"Uzbekistan\",\"Uruguay\",\"United States\",\"United Kingdom\",\"United Arab Emirates\",\"Ukraine\",\"Uganda\",\"Turkmenistan\",\"Turkey\",\"Tunisia\",\"Togo\",\"Thailand\",\"Tanzania\",\"Tajikistan\",\"Switzerland\",\"Sweden\",\"Sri Lanka\",\"Spain\",\"South Africa\",\"Slovenia\",\"Slovakia\",\"Singapore\",\"Sierra Leone\",\"Serbia\",\"Senegal\",\"Saudi Arabia\",\"Rwanda\",\"Russia\",\"Romania\",\"Portugal\",\"Poland\",\"Philippines\",\"Peru\",\"Paraguay\",\"Panama\",\"Pakistan\",\"Norway\",\"Nigeria\",\"Niger\",\"Nicaragua\",\"New Zealand\",\"Netherlands\",\"Nepal\",\"Myanmar\",\"Morocco\",\"Montenegro\",\"Mongolia\",\"Moldova\",\"Mexico\",\"Mauritius\",\"Mauritania\",\"Malta\",\"Mali\",\"Malaysia\",\"Malawi\",\"Madagascar\",\"Luxembourg\",\"Lithuania\",\"Libya\",\"Liberia\",\"Lebanon\",\"Latvia\",\"Kyrgyzstan\",\"Kuwait\",\"Kenya\",\"Kazakhstan\",\"Jordan\",\"Japan\",\"Jamaica\",\"Italy\",\"Israel\",\"Ireland\",\"Iraq\",\"Iran\",\"Indonesia\",\"India\",\"Iceland\",\"Hungary\",\"Honduras\",\"Haiti\",\"Guinea\",\"Guatemala\",\"Greece\",\"Ghana\",\"Germany\",\"Georgia\",\"Gabon\",\"France\",\"Finland\",\"Ethiopia\",\"Estonia\",\"El Salvador\",\"Egypt\",\"Ecuador\",\"Dominican Republic\",\"Denmark\",\"Cyprus\",\"Croatia\",\"Costa Rica\",\"Colombia\",\"China\",\"China\",\"Chile\",\"Chad\",\"Canada\",\"Cameroon\",\"Cambodia\",\"Burundi\",\"Burkina Faso\",\"Bulgaria\",\"Brazil\",\"Botswana\",\"Bosnia and Herzegovina\",\"Bolivia\",\"Benin\",\"Belgium\",\"Belarus\",\"Bangladesh\",\"Bahrain\",\"Azerbaijan\",\"Austria\",\"Australia\",\"Armenia\",\"Argentina\",\"Algeria\",\"Albania\",\"Afghanistan\"],\"name\":\"\",\"z\":[0.58,0.6,0.38,0.65,0.71,0.72,0.79,0.92,0.94,0.76,0.82,0.54,0.63,0.76,0.7,0.56,0.7,0.43,0.68,0.91,0.97,0.77,0.87,0.74,0.92,0.83,0.86,0.44,0.8,0.38,0.83,0.49,0.85,0.78,0.8,0.89,0.69,0.72,0.66,0.71,0.43,0.95,0.5,0.27,0.6,0.98,0.94,0.54,0.48,0.59,0.82,0.76,0.71,0.72,0.76,0.41,0.84,0.32,0.73,0.49,0.52,0.81,0.91,0.64,0.45,0.62,0.89,0.75,0.66,0.55,0.84,0.69,0.86,0.71,0.83,0.89,0.97,0.57,0.77,0.65,0.59,0.99,0.83,0.52,0.47,0.38,0.53,0.87,0.58,0.96,0.87,0.66,0.83,0.99,0.37,0.9,0.59,0.64,0.75,0.69,0.99,0.83,0.82,0.75,0.72,0.88,0.68,0.84,0.32,0.91,0.6,0.51,0.46,0.34,0.82,0.73,0.68,0.73,0.72,0.53,0.98,0.85,0.54,0.77,0.7,0.89,1.09,0.77,0.88,0.71,0.79,0.45],\"type\":\"choropleth\"}],\"name\":\"2018\"},{\"data\":[{\"coloraxis\":\"coloraxis\",\"geo\":\"geo\",\"hovertemplate\":\"\\u003cb\\u003e%{hovertext}\\u003c\\u002fb\\u003e\\u003cbr\\u003e\\u003cbr\\u003eYear=2017\\u003cbr\\u003eCountry=%{location}\\u003cbr\\u003eEducation_Index=%{z}\\u003cextra\\u003e\\u003c\\u002fextra\\u003e\",\"hovertext\":[\"Zimbabwe\",\"Zambia\",\"Yemen\",\"Vietnam\",\"Venezuela\",\"Uzbekistan\",\"Uruguay\",\"United States\",\"United Kingdom\",\"United Arab Emirates\",\"Ukraine\",\"Uganda\",\"Turkmenistan\",\"Turkey\",\"Tunisia\",\"Togo\",\"Thailand\",\"Tanzania\",\"Tajikistan\",\"Switzerland\",\"Sweden\",\"Sri Lanka\",\"Spain\",\"South Africa\",\"Slovenia\",\"Slovakia\",\"Singapore\",\"Sierra Leone\",\"Serbia\",\"Senegal\",\"Saudi Arabia\",\"Rwanda\",\"Russia\",\"Romania\",\"Portugal\",\"Poland\",\"Philippines\",\"Peru\",\"Paraguay\",\"Panama\",\"Pakistan\",\"Norway\",\"Nigeria\",\"Niger\",\"Nicaragua\",\"New Zealand\",\"Netherlands\",\"Nepal\",\"Myanmar\",\"Morocco\",\"Montenegro\",\"Mongolia\",\"Moldova\",\"Mexico\",\"Mauritius\",\"Mauritania\",\"Malta\",\"Mali\",\"Malaysia\",\"Malawi\",\"Madagascar\",\"Luxembourg\",\"Lithuania\",\"Libya\",\"Liberia\",\"Lebanon\",\"Latvia\",\"Kyrgyzstan\",\"Kuwait\",\"Kenya\",\"Kazakhstan\",\"Jordan\",\"Japan\",\"Jamaica\",\"Italy\",\"Israel\",\"Ireland\",\"Iraq\",\"Iran\",\"Indonesia\",\"India\",\"Iceland\",\"Hungary\",\"Honduras\",\"Haiti\",\"Guinea\",\"Guatemala\",\"Greece\",\"Ghana\",\"Germany\",\"Georgia\",\"Gabon\",\"France\",\"Finland\",\"Ethiopia\",\"Estonia\",\"El Salvador\",\"Egypt\",\"Ecuador\",\"Dominican Republic\",\"Denmark\",\"Cyprus\",\"Croatia\",\"Costa Rica\",\"Colombia\",\"China\",\"China\",\"Chile\",\"Chad\",\"Canada\",\"Cameroon\",\"Cambodia\",\"Burundi\",\"Burkina Faso\",\"Bulgaria\",\"Brazil\",\"Botswana\",\"Bosnia and Herzegovina\",\"Bolivia\",\"Benin\",\"Belgium\",\"Belarus\",\"Bangladesh\",\"Bahrain\",\"Azerbaijan\",\"Austria\",\"Australia\",\"Armenia\",\"Argentina\",\"Algeria\",\"Albania\",\"Afghanistan\"],\"ids\":[\"Zimbabwe\",\"Zambia\",\"Yemen\",\"Vietnam\",\"Venezuela\",\"Uzbekistan\",\"Uruguay\",\"United States\",\"United Kingdom\",\"United Arab Emirates\",\"Ukraine\",\"Uganda\",\"Turkmenistan\",\"Turkey\",\"Tunisia\",\"Togo\",\"Thailand\",\"Tanzania\",\"Tajikistan\",\"Switzerland\",\"Sweden\",\"Sri Lanka\",\"Spain\",\"South Africa\",\"Slovenia\",\"Slovakia\",\"Singapore\",\"Sierra Leone\",\"Serbia\",\"Senegal\",\"Saudi Arabia\",\"Rwanda\",\"Russia\",\"Romania\",\"Portugal\",\"Poland\",\"Philippines\",\"Peru\",\"Paraguay\",\"Panama\",\"Pakistan\",\"Norway\",\"Nigeria\",\"Niger\",\"Nicaragua\",\"New Zealand\",\"Netherlands\",\"Nepal\",\"Myanmar\",\"Morocco\",\"Montenegro\",\"Mongolia\",\"Moldova\",\"Mexico\",\"Mauritius\",\"Mauritania\",\"Malta\",\"Mali\",\"Malaysia\",\"Malawi\",\"Madagascar\",\"Luxembourg\",\"Lithuania\",\"Libya\",\"Liberia\",\"Lebanon\",\"Latvia\",\"Kyrgyzstan\",\"Kuwait\",\"Kenya\",\"Kazakhstan\",\"Jordan\",\"Japan\",\"Jamaica\",\"Italy\",\"Israel\",\"Ireland\",\"Iraq\",\"Iran\",\"Indonesia\",\"India\",\"Iceland\",\"Hungary\",\"Honduras\",\"Haiti\",\"Guinea\",\"Guatemala\",\"Greece\",\"Ghana\",\"Germany\",\"Georgia\",\"Gabon\",\"France\",\"Finland\",\"Ethiopia\",\"Estonia\",\"El Salvador\",\"Egypt\",\"Ecuador\",\"Dominican Republic\",\"Denmark\",\"Cyprus\",\"Croatia\",\"Costa Rica\",\"Colombia\",\"China\",\"China\",\"Chile\",\"Chad\",\"Canada\",\"Cameroon\",\"Cambodia\",\"Burundi\",\"Burkina Faso\",\"Bulgaria\",\"Brazil\",\"Botswana\",\"Bosnia and Herzegovina\",\"Bolivia\",\"Benin\",\"Belgium\",\"Belarus\",\"Bangladesh\",\"Bahrain\",\"Azerbaijan\",\"Austria\",\"Australia\",\"Armenia\",\"Argentina\",\"Algeria\",\"Albania\",\"Afghanistan\"],\"locationmode\":\"country names\",\"locations\":[\"Zimbabwe\",\"Zambia\",\"Yemen\",\"Vietnam\",\"Venezuela\",\"Uzbekistan\",\"Uruguay\",\"United States\",\"United Kingdom\",\"United Arab Emirates\",\"Ukraine\",\"Uganda\",\"Turkmenistan\",\"Turkey\",\"Tunisia\",\"Togo\",\"Thailand\",\"Tanzania\",\"Tajikistan\",\"Switzerland\",\"Sweden\",\"Sri Lanka\",\"Spain\",\"South Africa\",\"Slovenia\",\"Slovakia\",\"Singapore\",\"Sierra Leone\",\"Serbia\",\"Senegal\",\"Saudi Arabia\",\"Rwanda\",\"Russia\",\"Romania\",\"Portugal\",\"Poland\",\"Philippines\",\"Peru\",\"Paraguay\",\"Panama\",\"Pakistan\",\"Norway\",\"Nigeria\",\"Niger\",\"Nicaragua\",\"New Zealand\",\"Netherlands\",\"Nepal\",\"Myanmar\",\"Morocco\",\"Montenegro\",\"Mongolia\",\"Moldova\",\"Mexico\",\"Mauritius\",\"Mauritania\",\"Malta\",\"Mali\",\"Malaysia\",\"Malawi\",\"Madagascar\",\"Luxembourg\",\"Lithuania\",\"Libya\",\"Liberia\",\"Lebanon\",\"Latvia\",\"Kyrgyzstan\",\"Kuwait\",\"Kenya\",\"Kazakhstan\",\"Jordan\",\"Japan\",\"Jamaica\",\"Italy\",\"Israel\",\"Ireland\",\"Iraq\",\"Iran\",\"Indonesia\",\"India\",\"Iceland\",\"Hungary\",\"Honduras\",\"Haiti\",\"Guinea\",\"Guatemala\",\"Greece\",\"Ghana\",\"Germany\",\"Georgia\",\"Gabon\",\"France\",\"Finland\",\"Ethiopia\",\"Estonia\",\"El Salvador\",\"Egypt\",\"Ecuador\",\"Dominican Republic\",\"Denmark\",\"Cyprus\",\"Croatia\",\"Costa Rica\",\"Colombia\",\"China\",\"China\",\"Chile\",\"Chad\",\"Canada\",\"Cameroon\",\"Cambodia\",\"Burundi\",\"Burkina Faso\",\"Bulgaria\",\"Brazil\",\"Botswana\",\"Bosnia and Herzegovina\",\"Bolivia\",\"Benin\",\"Belgium\",\"Belarus\",\"Bangladesh\",\"Bahrain\",\"Azerbaijan\",\"Austria\",\"Australia\",\"Armenia\",\"Argentina\",\"Algeria\",\"Albania\",\"Afghanistan\"],\"name\":\"\",\"z\":[0.57,0.61,0.38,0.65,0.76,0.72,0.77,0.92,0.94,0.75,0.81,0.56,0.63,0.73,0.7,0.55,0.7,0.46,0.66,0.91,0.93,0.77,0.87,0.72,0.91,0.85,0.86,0.42,0.8,0.41,0.83,0.49,0.85,0.78,0.8,0.89,0.68,0.72,0.66,0.71,0.43,0.95,0.51,0.24,0.59,0.98,0.94,0.54,0.47,0.57,0.81,0.8,0.71,0.71,0.76,0.41,0.84,0.32,0.74,0.49,0.52,0.8,0.9,0.65,0.46,0.66,0.88,0.75,0.66,0.58,0.83,0.73,0.86,0.71,0.83,0.89,1.0,0.56,0.77,0.65,0.59,0.99,0.83,0.52,0.46,0.38,0.54,0.88,0.58,0.96,0.86,0.65,0.87,0.93,0.36,0.89,0.61,0.64,0.73,0.67,0.99,0.82,0.81,0.76,0.71,0.68,0.68,0.83,0.33,0.92,0.58,0.52,0.47,0.33,0.82,0.73,0.68,0.74,0.71,0.52,0.99,0.86,0.54,0.79,0.72,0.87,1.0,0.76,0.86,0.7,0.77,0.45],\"type\":\"choropleth\"}],\"name\":\"2017\"},{\"data\":[{\"coloraxis\":\"coloraxis\",\"geo\":\"geo\",\"hovertemplate\":\"\\u003cb\\u003e%{hovertext}\\u003c\\u002fb\\u003e\\u003cbr\\u003e\\u003cbr\\u003eYear=2016\\u003cbr\\u003eCountry=%{location}\\u003cbr\\u003eEducation_Index=%{z}\\u003cextra\\u003e\\u003c\\u002fextra\\u003e\",\"hovertext\":[\"Zimbabwe\",\"Zambia\",\"Yemen\",\"Vietnam\",\"Venezuela\",\"Uzbekistan\",\"Uruguay\",\"United States\",\"United Kingdom\",\"United Arab Emirates\",\"Ukraine\",\"Uganda\",\"Turkmenistan\",\"Turkey\",\"Tunisia\",\"Togo\",\"Thailand\",\"Tanzania\",\"Tajikistan\",\"Switzerland\",\"Sweden\",\"Sri Lanka\",\"Spain\",\"South Africa\",\"Slovenia\",\"Slovakia\",\"Singapore\",\"Sierra Leone\",\"Serbia\",\"Senegal\",\"Saudi Arabia\",\"Rwanda\",\"Russia\",\"Romania\",\"Portugal\",\"Poland\",\"Philippines\",\"Peru\",\"Paraguay\",\"Panama\",\"Pakistan\",\"Norway\",\"Nigeria\",\"Niger\",\"Nicaragua\",\"New Zealand\",\"Netherlands\",\"Nepal\",\"Myanmar\",\"Morocco\",\"Montenegro\",\"Mongolia\",\"Moldova\",\"Mexico\",\"Mauritius\",\"Mauritania\",\"Malta\",\"Mali\",\"Malaysia\",\"Malawi\",\"Madagascar\",\"Luxembourg\",\"Lithuania\",\"Libya\",\"Liberia\",\"Lebanon\",\"Latvia\",\"Kyrgyzstan\",\"Kuwait\",\"Kenya\",\"Kazakhstan\",\"Jordan\",\"Japan\",\"Jamaica\",\"Italy\",\"Israel\",\"Ireland\",\"Iraq\",\"Iran\",\"Indonesia\",\"India\",\"Iceland\",\"Hungary\",\"Honduras\",\"Haiti\",\"Guinea\",\"Guatemala\",\"Greece\",\"Ghana\",\"Germany\",\"Georgia\",\"Gabon\",\"France\",\"Finland\",\"Ethiopia\",\"Estonia\",\"El Salvador\",\"Egypt\",\"Ecuador\",\"Dominican Republic\",\"Denmark\",\"Cyprus\",\"Croatia\",\"Costa Rica\",\"Colombia\",\"China\",\"China\",\"Chile\",\"Chad\",\"Canada\",\"Cameroon\",\"Cambodia\",\"Burundi\",\"Burkina Faso\",\"Bulgaria\",\"Brazil\",\"Botswana\",\"Bosnia and Herzegovina\",\"Bolivia\",\"Benin\",\"Belgium\",\"Belarus\",\"Bangladesh\",\"Bahrain\",\"Azerbaijan\",\"Austria\",\"Australia\",\"Armenia\",\"Argentina\",\"Algeria\",\"Albania\",\"Afghanistan\"],\"ids\":[\"Zimbabwe\",\"Zambia\",\"Yemen\",\"Vietnam\",\"Venezuela\",\"Uzbekistan\",\"Uruguay\",\"United States\",\"United Kingdom\",\"United Arab Emirates\",\"Ukraine\",\"Uganda\",\"Turkmenistan\",\"Turkey\",\"Tunisia\",\"Togo\",\"Thailand\",\"Tanzania\",\"Tajikistan\",\"Switzerland\",\"Sweden\",\"Sri Lanka\",\"Spain\",\"South Africa\",\"Slovenia\",\"Slovakia\",\"Singapore\",\"Sierra Leone\",\"Serbia\",\"Senegal\",\"Saudi Arabia\",\"Rwanda\",\"Russia\",\"Romania\",\"Portugal\",\"Poland\",\"Philippines\",\"Peru\",\"Paraguay\",\"Panama\",\"Pakistan\",\"Norway\",\"Nigeria\",\"Niger\",\"Nicaragua\",\"New Zealand\",\"Netherlands\",\"Nepal\",\"Myanmar\",\"Morocco\",\"Montenegro\",\"Mongolia\",\"Moldova\",\"Mexico\",\"Mauritius\",\"Mauritania\",\"Malta\",\"Mali\",\"Malaysia\",\"Malawi\",\"Madagascar\",\"Luxembourg\",\"Lithuania\",\"Libya\",\"Liberia\",\"Lebanon\",\"Latvia\",\"Kyrgyzstan\",\"Kuwait\",\"Kenya\",\"Kazakhstan\",\"Jordan\",\"Japan\",\"Jamaica\",\"Italy\",\"Israel\",\"Ireland\",\"Iraq\",\"Iran\",\"Indonesia\",\"India\",\"Iceland\",\"Hungary\",\"Honduras\",\"Haiti\",\"Guinea\",\"Guatemala\",\"Greece\",\"Ghana\",\"Germany\",\"Georgia\",\"Gabon\",\"France\",\"Finland\",\"Ethiopia\",\"Estonia\",\"El Salvador\",\"Egypt\",\"Ecuador\",\"Dominican Republic\",\"Denmark\",\"Cyprus\",\"Croatia\",\"Costa Rica\",\"Colombia\",\"China\",\"China\",\"Chile\",\"Chad\",\"Canada\",\"Cameroon\",\"Cambodia\",\"Burundi\",\"Burkina Faso\",\"Bulgaria\",\"Brazil\",\"Botswana\",\"Bosnia and Herzegovina\",\"Bolivia\",\"Benin\",\"Belgium\",\"Belarus\",\"Bangladesh\",\"Bahrain\",\"Azerbaijan\",\"Austria\",\"Australia\",\"Armenia\",\"Argentina\",\"Algeria\",\"Albania\",\"Afghanistan\"],\"locationmode\":\"country names\",\"locations\":[\"Zimbabwe\",\"Zambia\",\"Yemen\",\"Vietnam\",\"Venezuela\",\"Uzbekistan\",\"Uruguay\",\"United States\",\"United Kingdom\",\"United Arab Emirates\",\"Ukraine\",\"Uganda\",\"Turkmenistan\",\"Turkey\",\"Tunisia\",\"Togo\",\"Thailand\",\"Tanzania\",\"Tajikistan\",\"Switzerland\",\"Sweden\",\"Sri Lanka\",\"Spain\",\"South Africa\",\"Slovenia\",\"Slovakia\",\"Singapore\",\"Sierra Leone\",\"Serbia\",\"Senegal\",\"Saudi Arabia\",\"Rwanda\",\"Russia\",\"Romania\",\"Portugal\",\"Poland\",\"Philippines\",\"Peru\",\"Paraguay\",\"Panama\",\"Pakistan\",\"Norway\",\"Nigeria\",\"Niger\",\"Nicaragua\",\"New Zealand\",\"Netherlands\",\"Nepal\",\"Myanmar\",\"Morocco\",\"Montenegro\",\"Mongolia\",\"Moldova\",\"Mexico\",\"Mauritius\",\"Mauritania\",\"Malta\",\"Mali\",\"Malaysia\",\"Malawi\",\"Madagascar\",\"Luxembourg\",\"Lithuania\",\"Libya\",\"Liberia\",\"Lebanon\",\"Latvia\",\"Kyrgyzstan\",\"Kuwait\",\"Kenya\",\"Kazakhstan\",\"Jordan\",\"Japan\",\"Jamaica\",\"Italy\",\"Israel\",\"Ireland\",\"Iraq\",\"Iran\",\"Indonesia\",\"India\",\"Iceland\",\"Hungary\",\"Honduras\",\"Haiti\",\"Guinea\",\"Guatemala\",\"Greece\",\"Ghana\",\"Germany\",\"Georgia\",\"Gabon\",\"France\",\"Finland\",\"Ethiopia\",\"Estonia\",\"El Salvador\",\"Egypt\",\"Ecuador\",\"Dominican Republic\",\"Denmark\",\"Cyprus\",\"Croatia\",\"Costa Rica\",\"Colombia\",\"China\",\"China\",\"Chile\",\"Chad\",\"Canada\",\"Cameroon\",\"Cambodia\",\"Burundi\",\"Burkina Faso\",\"Bulgaria\",\"Brazil\",\"Botswana\",\"Bosnia and Herzegovina\",\"Bolivia\",\"Benin\",\"Belgium\",\"Belarus\",\"Bangladesh\",\"Bahrain\",\"Azerbaijan\",\"Austria\",\"Australia\",\"Armenia\",\"Argentina\",\"Algeria\",\"Albania\",\"Afghanistan\"],\"name\":\"\",\"z\":[0.57,0.61,0.38,0.65,0.76,0.71,0.77,0.92,0.94,0.75,0.81,0.54,0.64,0.73,0.7,0.55,0.69,0.46,0.67,0.91,0.93,0.77,0.87,0.72,0.92,0.85,0.86,0.42,0.8,0.4,0.83,0.49,0.85,0.78,0.8,0.89,0.68,0.72,0.66,0.7,0.43,0.95,0.51,0.23,0.59,0.98,0.94,0.54,0.47,0.56,0.81,0.8,0.71,0.71,0.76,0.41,0.84,0.31,0.74,0.49,0.52,0.8,0.9,0.65,0.46,0.66,0.88,0.75,0.65,0.57,0.83,0.73,0.86,0.71,0.83,0.89,1.0,0.52,0.77,0.65,0.59,0.99,0.83,0.52,0.45,0.38,0.54,0.88,0.58,0.96,0.86,0.65,0.87,0.93,0.36,0.89,0.61,0.64,0.73,0.67,0.99,0.82,0.81,0.75,0.71,0.68,0.68,0.83,0.33,0.91,0.58,0.52,0.47,0.33,0.82,0.73,0.68,0.74,0.71,0.52,0.99,0.86,0.52,0.79,0.72,0.87,1.0,0.76,0.86,0.7,0.77,0.45],\"type\":\"choropleth\"}],\"name\":\"2016\"},{\"data\":[{\"coloraxis\":\"coloraxis\",\"geo\":\"geo\",\"hovertemplate\":\"\\u003cb\\u003e%{hovertext}\\u003c\\u002fb\\u003e\\u003cbr\\u003e\\u003cbr\\u003eYear=2015\\u003cbr\\u003eCountry=%{location}\\u003cbr\\u003eEducation_Index=%{z}\\u003cextra\\u003e\\u003c\\u002fextra\\u003e\",\"hovertext\":[\"Zimbabwe\",\"Zambia\",\"Yemen\",\"Vietnam\",\"Venezuela\",\"Uzbekistan\",\"Uruguay\",\"United States\",\"United Kingdom\",\"United Arab Emirates\",\"Ukraine\",\"Uganda\",\"Turkmenistan\",\"Turkey\",\"Tunisia\",\"Togo\",\"Thailand\",\"Tanzania\",\"Tajikistan\",\"Switzerland\",\"Sweden\",\"Sri Lanka\",\"Spain\",\"South Africa\",\"Slovenia\",\"Slovakia\",\"Singapore\",\"Sierra Leone\",\"Serbia\",\"Senegal\",\"Saudi Arabia\",\"Rwanda\",\"Russia\",\"Romania\",\"Portugal\",\"Poland\",\"Philippines\",\"Peru\",\"Paraguay\",\"Panama\",\"Pakistan\",\"Norway\",\"Nigeria\",\"Niger\",\"Nicaragua\",\"New Zealand\",\"Netherlands\",\"Nepal\",\"Myanmar\",\"Morocco\",\"Montenegro\",\"Mongolia\",\"Moldova\",\"Mexico\",\"Mauritius\",\"Mauritania\",\"Malta\",\"Mali\",\"Malaysia\",\"Malawi\",\"Madagascar\",\"Luxembourg\",\"Lithuania\",\"Libya\",\"Liberia\",\"Lebanon\",\"Latvia\",\"Kyrgyzstan\",\"Kuwait\",\"Kenya\",\"Kazakhstan\",\"Jordan\",\"Japan\",\"Jamaica\",\"Italy\",\"Israel\",\"Ireland\",\"Iraq\",\"Iran\",\"Indonesia\",\"India\",\"Iceland\",\"Hungary\",\"Honduras\",\"Haiti\",\"Guinea\",\"Guatemala\",\"Greece\",\"Ghana\",\"Germany\",\"Georgia\",\"Gabon\",\"France\",\"Finland\",\"Ethiopia\",\"Estonia\",\"El Salvador\",\"Egypt\",\"Ecuador\",\"Dominican Republic\",\"Denmark\",\"Cyprus\",\"Croatia\",\"Costa Rica\",\"Colombia\",\"China\",\"China\",\"Chile\",\"Chad\",\"Canada\",\"Cameroon\",\"Cambodia\",\"Burundi\",\"Burkina Faso\",\"Bulgaria\",\"Brazil\",\"Botswana\",\"Bosnia and Herzegovina\",\"Bolivia\",\"Benin\",\"Belgium\",\"Belarus\",\"Bangladesh\",\"Bahrain\",\"Azerbaijan\",\"Austria\",\"Australia\",\"Armenia\",\"Argentina\",\"Algeria\",\"Albania\",\"Afghanistan\"],\"ids\":[\"Zimbabwe\",\"Zambia\",\"Yemen\",\"Vietnam\",\"Venezuela\",\"Uzbekistan\",\"Uruguay\",\"United States\",\"United Kingdom\",\"United Arab Emirates\",\"Ukraine\",\"Uganda\",\"Turkmenistan\",\"Turkey\",\"Tunisia\",\"Togo\",\"Thailand\",\"Tanzania\",\"Tajikistan\",\"Switzerland\",\"Sweden\",\"Sri Lanka\",\"Spain\",\"South Africa\",\"Slovenia\",\"Slovakia\",\"Singapore\",\"Sierra Leone\",\"Serbia\",\"Senegal\",\"Saudi Arabia\",\"Rwanda\",\"Russia\",\"Romania\",\"Portugal\",\"Poland\",\"Philippines\",\"Peru\",\"Paraguay\",\"Panama\",\"Pakistan\",\"Norway\",\"Nigeria\",\"Niger\",\"Nicaragua\",\"New Zealand\",\"Netherlands\",\"Nepal\",\"Myanmar\",\"Morocco\",\"Montenegro\",\"Mongolia\",\"Moldova\",\"Mexico\",\"Mauritius\",\"Mauritania\",\"Malta\",\"Mali\",\"Malaysia\",\"Malawi\",\"Madagascar\",\"Luxembourg\",\"Lithuania\",\"Libya\",\"Liberia\",\"Lebanon\",\"Latvia\",\"Kyrgyzstan\",\"Kuwait\",\"Kenya\",\"Kazakhstan\",\"Jordan\",\"Japan\",\"Jamaica\",\"Italy\",\"Israel\",\"Ireland\",\"Iraq\",\"Iran\",\"Indonesia\",\"India\",\"Iceland\",\"Hungary\",\"Honduras\",\"Haiti\",\"Guinea\",\"Guatemala\",\"Greece\",\"Ghana\",\"Germany\",\"Georgia\",\"Gabon\",\"France\",\"Finland\",\"Ethiopia\",\"Estonia\",\"El Salvador\",\"Egypt\",\"Ecuador\",\"Dominican Republic\",\"Denmark\",\"Cyprus\",\"Croatia\",\"Costa Rica\",\"Colombia\",\"China\",\"China\",\"Chile\",\"Chad\",\"Canada\",\"Cameroon\",\"Cambodia\",\"Burundi\",\"Burkina Faso\",\"Bulgaria\",\"Brazil\",\"Botswana\",\"Bosnia and Herzegovina\",\"Bolivia\",\"Benin\",\"Belgium\",\"Belarus\",\"Bangladesh\",\"Bahrain\",\"Azerbaijan\",\"Austria\",\"Australia\",\"Armenia\",\"Argentina\",\"Algeria\",\"Albania\",\"Afghanistan\"],\"locationmode\":\"country names\",\"locations\":[\"Zimbabwe\",\"Zambia\",\"Yemen\",\"Vietnam\",\"Venezuela\",\"Uzbekistan\",\"Uruguay\",\"United States\",\"United Kingdom\",\"United Arab Emirates\",\"Ukraine\",\"Uganda\",\"Turkmenistan\",\"Turkey\",\"Tunisia\",\"Togo\",\"Thailand\",\"Tanzania\",\"Tajikistan\",\"Switzerland\",\"Sweden\",\"Sri Lanka\",\"Spain\",\"South Africa\",\"Slovenia\",\"Slovakia\",\"Singapore\",\"Sierra Leone\",\"Serbia\",\"Senegal\",\"Saudi Arabia\",\"Rwanda\",\"Russia\",\"Romania\",\"Portugal\",\"Poland\",\"Philippines\",\"Peru\",\"Paraguay\",\"Panama\",\"Pakistan\",\"Norway\",\"Nigeria\",\"Niger\",\"Nicaragua\",\"New Zealand\",\"Netherlands\",\"Nepal\",\"Myanmar\",\"Morocco\",\"Montenegro\",\"Mongolia\",\"Moldova\",\"Mexico\",\"Mauritius\",\"Mauritania\",\"Malta\",\"Mali\",\"Malaysia\",\"Malawi\",\"Madagascar\",\"Luxembourg\",\"Lithuania\",\"Libya\",\"Liberia\",\"Lebanon\",\"Latvia\",\"Kyrgyzstan\",\"Kuwait\",\"Kenya\",\"Kazakhstan\",\"Jordan\",\"Japan\",\"Jamaica\",\"Italy\",\"Israel\",\"Ireland\",\"Iraq\",\"Iran\",\"Indonesia\",\"India\",\"Iceland\",\"Hungary\",\"Honduras\",\"Haiti\",\"Guinea\",\"Guatemala\",\"Greece\",\"Ghana\",\"Germany\",\"Georgia\",\"Gabon\",\"France\",\"Finland\",\"Ethiopia\",\"Estonia\",\"El Salvador\",\"Egypt\",\"Ecuador\",\"Dominican Republic\",\"Denmark\",\"Cyprus\",\"Croatia\",\"Costa Rica\",\"Colombia\",\"China\",\"China\",\"Chile\",\"Chad\",\"Canada\",\"Cameroon\",\"Cambodia\",\"Burundi\",\"Burkina Faso\",\"Bulgaria\",\"Brazil\",\"Botswana\",\"Bosnia and Herzegovina\",\"Bolivia\",\"Benin\",\"Belgium\",\"Belarus\",\"Bangladesh\",\"Bahrain\",\"Azerbaijan\",\"Austria\",\"Australia\",\"Armenia\",\"Argentina\",\"Algeria\",\"Albania\",\"Afghanistan\"],\"name\":\"\",\"z\":[0.57,0.61,0.38,0.65,0.76,0.71,0.77,0.92,0.94,0.75,0.81,0.53,0.63,0.72,0.69,0.54,0.67,0.46,0.67,0.91,0.93,0.77,0.86,0.72,0.91,0.85,0.86,0.41,0.79,0.39,0.83,0.47,0.85,0.79,0.8,0.87,0.68,0.71,0.66,0.7,0.42,0.94,0.5,0.23,0.58,0.97,0.94,0.54,0.47,0.55,0.81,0.78,0.71,0.7,0.76,0.41,0.83,0.31,0.73,0.48,0.52,0.8,0.9,0.65,0.46,0.65,0.88,0.74,0.65,0.57,0.83,0.72,0.85,0.7,0.83,0.89,1.0,0.52,0.77,0.64,0.58,0.98,0.83,0.52,0.45,0.38,0.54,0.87,0.58,0.96,0.84,0.65,0.87,0.93,0.36,0.89,0.6,0.63,0.71,0.68,0.99,0.81,0.81,0.75,0.71,0.67,0.67,0.83,0.33,0.91,0.58,0.52,0.47,0.32,0.83,0.72,0.68,0.72,0.7,0.52,0.99,0.86,0.52,0.75,0.72,0.87,1.0,0.76,0.85,0.7,0.76,0.45],\"type\":\"choropleth\"}],\"name\":\"2015\"}]);\n",
       "                        }).then(function(){\n",
       "                            \n",
       "var gd = document.getElementById('bc6c321b-38b2-4492-96ce-62b7dcdb2d7f');\n",
       "var x = new MutationObserver(function (mutations, observer) {{\n",
       "        var display = window.getComputedStyle(gd).display;\n",
       "        if (!display || display === 'none') {{\n",
       "            console.log([gd, 'removed!']);\n",
       "            Plotly.purge(gd);\n",
       "            observer.disconnect();\n",
       "        }}\n",
       "}});\n",
       "\n",
       "// Listen for the removal of the full notebook cells\n",
       "var notebookContainer = gd.closest('#notebook-container');\n",
       "if (notebookContainer) {{\n",
       "    x.observe(notebookContainer, {childList: true});\n",
       "}}\n",
       "\n",
       "// Listen for the clearing of the current output cell\n",
       "var outputEl = gd.closest('.output');\n",
       "if (outputEl) {{\n",
       "    x.observe(outputEl, {childList: true});\n",
       "}}\n",
       "\n",
       "                        })                };                });            </script>        </div>"
      ]
     },
     "metadata": {},
     "output_type": "display_data"
    },
    {
     "data": {
      "application/vnd.plotly.v1+json": {
       "config": {
        "plotlyServerURL": "https://plot.ly"
       },
       "data": [
        {
         "coloraxis": "coloraxis",
         "geo": "geo",
         "hovertemplate": "<b>%{hovertext}</b><br><br>Year=2018<br>Country=%{location}<br>Life_expectancy_at_birth=%{z}<extra></extra>",
         "hovertext": [
          "Zimbabwe",
          "Zambia",
          "Yemen",
          "Vietnam",
          "Venezuela",
          "Uzbekistan",
          "Uruguay",
          "United States",
          "United Kingdom",
          "United Arab Emirates",
          "Ukraine",
          "Uganda",
          "Turkmenistan",
          "Turkey",
          "Tunisia",
          "Togo",
          "Thailand",
          "Tanzania",
          "Tajikistan",
          "Switzerland",
          "Sweden",
          "Sri Lanka",
          "Spain",
          "South Africa",
          "Slovenia",
          "Slovakia",
          "Singapore",
          "Sierra Leone",
          "Serbia",
          "Senegal",
          "Saudi Arabia",
          "Rwanda",
          "Russia",
          "Romania",
          "Portugal",
          "Poland",
          "Philippines",
          "Peru",
          "Paraguay",
          "Panama",
          "Pakistan",
          "Norway",
          "Nigeria",
          "Niger",
          "Nicaragua",
          "New Zealand",
          "Netherlands",
          "Nepal",
          "Myanmar",
          "Morocco",
          "Montenegro",
          "Mongolia",
          "Moldova",
          "Mexico",
          "Mauritius",
          "Mauritania",
          "Malta",
          "Mali",
          "Malaysia",
          "Malawi",
          "Madagascar",
          "Luxembourg",
          "Lithuania",
          "Libya",
          "Liberia",
          "Lebanon",
          "Latvia",
          "Kyrgyzstan",
          "Kuwait",
          "Kenya",
          "Kazakhstan",
          "Jordan",
          "Japan",
          "Jamaica",
          "Italy",
          "Israel",
          "Ireland",
          "Iraq",
          "Iran",
          "Indonesia",
          "India",
          "Iceland",
          "Hungary",
          "Honduras",
          "Haiti",
          "Guinea",
          "Guatemala",
          "Greece",
          "Ghana",
          "Germany",
          "Georgia",
          "Gabon",
          "France",
          "Finland",
          "Ethiopia",
          "Estonia",
          "El Salvador",
          "Egypt",
          "Ecuador",
          "Dominican Republic",
          "Denmark",
          "Cyprus",
          "Croatia",
          "Costa Rica",
          "Colombia",
          "China",
          "China",
          "Chile",
          "Chad",
          "Canada",
          "Cameroon",
          "Cambodia",
          "Burundi",
          "Burkina Faso",
          "Bulgaria",
          "Brazil",
          "Botswana",
          "Bosnia and Herzegovina",
          "Bolivia",
          "Benin",
          "Belgium",
          "Belarus",
          "Bangladesh",
          "Bahrain",
          "Azerbaijan",
          "Austria",
          "Australia",
          "Armenia",
          "Argentina",
          "Algeria",
          "Albania",
          "Afghanistan"
         ],
         "ids": [
          "Zimbabwe",
          "Zambia",
          "Yemen",
          "Vietnam",
          "Venezuela",
          "Uzbekistan",
          "Uruguay",
          "United States",
          "United Kingdom",
          "United Arab Emirates",
          "Ukraine",
          "Uganda",
          "Turkmenistan",
          "Turkey",
          "Tunisia",
          "Togo",
          "Thailand",
          "Tanzania",
          "Tajikistan",
          "Switzerland",
          "Sweden",
          "Sri Lanka",
          "Spain",
          "South Africa",
          "Slovenia",
          "Slovakia",
          "Singapore",
          "Sierra Leone",
          "Serbia",
          "Senegal",
          "Saudi Arabia",
          "Rwanda",
          "Russia",
          "Romania",
          "Portugal",
          "Poland",
          "Philippines",
          "Peru",
          "Paraguay",
          "Panama",
          "Pakistan",
          "Norway",
          "Nigeria",
          "Niger",
          "Nicaragua",
          "New Zealand",
          "Netherlands",
          "Nepal",
          "Myanmar",
          "Morocco",
          "Montenegro",
          "Mongolia",
          "Moldova",
          "Mexico",
          "Mauritius",
          "Mauritania",
          "Malta",
          "Mali",
          "Malaysia",
          "Malawi",
          "Madagascar",
          "Luxembourg",
          "Lithuania",
          "Libya",
          "Liberia",
          "Lebanon",
          "Latvia",
          "Kyrgyzstan",
          "Kuwait",
          "Kenya",
          "Kazakhstan",
          "Jordan",
          "Japan",
          "Jamaica",
          "Italy",
          "Israel",
          "Ireland",
          "Iraq",
          "Iran",
          "Indonesia",
          "India",
          "Iceland",
          "Hungary",
          "Honduras",
          "Haiti",
          "Guinea",
          "Guatemala",
          "Greece",
          "Ghana",
          "Germany",
          "Georgia",
          "Gabon",
          "France",
          "Finland",
          "Ethiopia",
          "Estonia",
          "El Salvador",
          "Egypt",
          "Ecuador",
          "Dominican Republic",
          "Denmark",
          "Cyprus",
          "Croatia",
          "Costa Rica",
          "Colombia",
          "China",
          "China",
          "Chile",
          "Chad",
          "Canada",
          "Cameroon",
          "Cambodia",
          "Burundi",
          "Burkina Faso",
          "Bulgaria",
          "Brazil",
          "Botswana",
          "Bosnia and Herzegovina",
          "Bolivia",
          "Benin",
          "Belgium",
          "Belarus",
          "Bangladesh",
          "Bahrain",
          "Azerbaijan",
          "Austria",
          "Australia",
          "Armenia",
          "Argentina",
          "Algeria",
          "Albania",
          "Afghanistan"
         ],
         "locationmode": "country names",
         "locations": [
          "Zimbabwe",
          "Zambia",
          "Yemen",
          "Vietnam",
          "Venezuela",
          "Uzbekistan",
          "Uruguay",
          "United States",
          "United Kingdom",
          "United Arab Emirates",
          "Ukraine",
          "Uganda",
          "Turkmenistan",
          "Turkey",
          "Tunisia",
          "Togo",
          "Thailand",
          "Tanzania",
          "Tajikistan",
          "Switzerland",
          "Sweden",
          "Sri Lanka",
          "Spain",
          "South Africa",
          "Slovenia",
          "Slovakia",
          "Singapore",
          "Sierra Leone",
          "Serbia",
          "Senegal",
          "Saudi Arabia",
          "Rwanda",
          "Russia",
          "Romania",
          "Portugal",
          "Poland",
          "Philippines",
          "Peru",
          "Paraguay",
          "Panama",
          "Pakistan",
          "Norway",
          "Nigeria",
          "Niger",
          "Nicaragua",
          "New Zealand",
          "Netherlands",
          "Nepal",
          "Myanmar",
          "Morocco",
          "Montenegro",
          "Mongolia",
          "Moldova",
          "Mexico",
          "Mauritius",
          "Mauritania",
          "Malta",
          "Mali",
          "Malaysia",
          "Malawi",
          "Madagascar",
          "Luxembourg",
          "Lithuania",
          "Libya",
          "Liberia",
          "Lebanon",
          "Latvia",
          "Kyrgyzstan",
          "Kuwait",
          "Kenya",
          "Kazakhstan",
          "Jordan",
          "Japan",
          "Jamaica",
          "Italy",
          "Israel",
          "Ireland",
          "Iraq",
          "Iran",
          "Indonesia",
          "India",
          "Iceland",
          "Hungary",
          "Honduras",
          "Haiti",
          "Guinea",
          "Guatemala",
          "Greece",
          "Ghana",
          "Germany",
          "Georgia",
          "Gabon",
          "France",
          "Finland",
          "Ethiopia",
          "Estonia",
          "El Salvador",
          "Egypt",
          "Ecuador",
          "Dominican Republic",
          "Denmark",
          "Cyprus",
          "Croatia",
          "Costa Rica",
          "Colombia",
          "China",
          "China",
          "Chile",
          "Chad",
          "Canada",
          "Cameroon",
          "Cambodia",
          "Burundi",
          "Burkina Faso",
          "Bulgaria",
          "Brazil",
          "Botswana",
          "Bosnia and Herzegovina",
          "Bolivia",
          "Benin",
          "Belgium",
          "Belarus",
          "Bangladesh",
          "Bahrain",
          "Azerbaijan",
          "Austria",
          "Australia",
          "Armenia",
          "Argentina",
          "Algeria",
          "Albania",
          "Afghanistan"
         ],
         "name": "",
         "type": "choropleth",
         "z": [
          61.2,
          63.51,
          66.1,
          75.32,
          72.13,
          71.57,
          77.77,
          78.85,
          81.24,
          77.81,
          71.95,
          62.97,
          68.07,
          77.44,
          76.51,
          60.76,
          76.93,
          65.02,
          70.88,
          83.63,
          82.65,
          76.81,
          83.43,
          63.86,
          81.17,
          77.39,
          83.46,
          54.31,
          75.85,
          67.67,
          75,
          68.7,
          72.39,
          75.92,
          81.86,
          78.54,
          71.1,
          76.52,
          74.13,
          78.33,
          67.11,
          82.27,
          54.33,
          62.02,
          74.28,
          82.15,
          82.14,
          70.48,
          66.87,
          76.45,
          76.77,
          69.69,
          71.81,
          74.99,
          74.86,
          64.7,
          82.38,
          58.89,
          76,
          63.8,
          66.68,
          82.1,
          75.74,
          72.72,
          63.73,
          78.88,
          75.17,
          71.32,
          75.4,
          66.34,
          73.24,
          74.41,
          84.47,
          74.37,
          83.35,
          82.82,
          82.1,
          70.45,
          76.48,
          71.51,
          69.42,
          82.86,
          76.7,
          75.09,
          63.66,
          61.19,
          74.06,
          82.07,
          63.78,
          81.18,
          73.6,
          66.19,
          82.54,
          81.74,
          66.24,
          78.57,
          73.1,
          71.83,
          76.8,
          73.89,
          80.78,
          80.83,
          78.34,
          80.1,
          77.11,
          84.69,
          76.7,
          80.04,
          53.98,
          82.32,
          58.92,
          69.57,
          61.25,
          61.17,
          74.93,
          75.67,
          69.28,
          77.26,
          71.24,
          61.47,
          81.47,
          74.59,
          72.32,
          77.16,
          72.86,
          81.43,
          83.28,
          74.95,
          76.52,
          76.69,
          78.46,
          64.49
         ]
        }
       ],
       "frames": [
        {
         "data": [
          {
           "coloraxis": "coloraxis",
           "geo": "geo",
           "hovertemplate": "<b>%{hovertext}</b><br><br>Year=2018<br>Country=%{location}<br>Life_expectancy_at_birth=%{z}<extra></extra>",
           "hovertext": [
            "Zimbabwe",
            "Zambia",
            "Yemen",
            "Vietnam",
            "Venezuela",
            "Uzbekistan",
            "Uruguay",
            "United States",
            "United Kingdom",
            "United Arab Emirates",
            "Ukraine",
            "Uganda",
            "Turkmenistan",
            "Turkey",
            "Tunisia",
            "Togo",
            "Thailand",
            "Tanzania",
            "Tajikistan",
            "Switzerland",
            "Sweden",
            "Sri Lanka",
            "Spain",
            "South Africa",
            "Slovenia",
            "Slovakia",
            "Singapore",
            "Sierra Leone",
            "Serbia",
            "Senegal",
            "Saudi Arabia",
            "Rwanda",
            "Russia",
            "Romania",
            "Portugal",
            "Poland",
            "Philippines",
            "Peru",
            "Paraguay",
            "Panama",
            "Pakistan",
            "Norway",
            "Nigeria",
            "Niger",
            "Nicaragua",
            "New Zealand",
            "Netherlands",
            "Nepal",
            "Myanmar",
            "Morocco",
            "Montenegro",
            "Mongolia",
            "Moldova",
            "Mexico",
            "Mauritius",
            "Mauritania",
            "Malta",
            "Mali",
            "Malaysia",
            "Malawi",
            "Madagascar",
            "Luxembourg",
            "Lithuania",
            "Libya",
            "Liberia",
            "Lebanon",
            "Latvia",
            "Kyrgyzstan",
            "Kuwait",
            "Kenya",
            "Kazakhstan",
            "Jordan",
            "Japan",
            "Jamaica",
            "Italy",
            "Israel",
            "Ireland",
            "Iraq",
            "Iran",
            "Indonesia",
            "India",
            "Iceland",
            "Hungary",
            "Honduras",
            "Haiti",
            "Guinea",
            "Guatemala",
            "Greece",
            "Ghana",
            "Germany",
            "Georgia",
            "Gabon",
            "France",
            "Finland",
            "Ethiopia",
            "Estonia",
            "El Salvador",
            "Egypt",
            "Ecuador",
            "Dominican Republic",
            "Denmark",
            "Cyprus",
            "Croatia",
            "Costa Rica",
            "Colombia",
            "China",
            "China",
            "Chile",
            "Chad",
            "Canada",
            "Cameroon",
            "Cambodia",
            "Burundi",
            "Burkina Faso",
            "Bulgaria",
            "Brazil",
            "Botswana",
            "Bosnia and Herzegovina",
            "Bolivia",
            "Benin",
            "Belgium",
            "Belarus",
            "Bangladesh",
            "Bahrain",
            "Azerbaijan",
            "Austria",
            "Australia",
            "Armenia",
            "Argentina",
            "Algeria",
            "Albania",
            "Afghanistan"
           ],
           "ids": [
            "Zimbabwe",
            "Zambia",
            "Yemen",
            "Vietnam",
            "Venezuela",
            "Uzbekistan",
            "Uruguay",
            "United States",
            "United Kingdom",
            "United Arab Emirates",
            "Ukraine",
            "Uganda",
            "Turkmenistan",
            "Turkey",
            "Tunisia",
            "Togo",
            "Thailand",
            "Tanzania",
            "Tajikistan",
            "Switzerland",
            "Sweden",
            "Sri Lanka",
            "Spain",
            "South Africa",
            "Slovenia",
            "Slovakia",
            "Singapore",
            "Sierra Leone",
            "Serbia",
            "Senegal",
            "Saudi Arabia",
            "Rwanda",
            "Russia",
            "Romania",
            "Portugal",
            "Poland",
            "Philippines",
            "Peru",
            "Paraguay",
            "Panama",
            "Pakistan",
            "Norway",
            "Nigeria",
            "Niger",
            "Nicaragua",
            "New Zealand",
            "Netherlands",
            "Nepal",
            "Myanmar",
            "Morocco",
            "Montenegro",
            "Mongolia",
            "Moldova",
            "Mexico",
            "Mauritius",
            "Mauritania",
            "Malta",
            "Mali",
            "Malaysia",
            "Malawi",
            "Madagascar",
            "Luxembourg",
            "Lithuania",
            "Libya",
            "Liberia",
            "Lebanon",
            "Latvia",
            "Kyrgyzstan",
            "Kuwait",
            "Kenya",
            "Kazakhstan",
            "Jordan",
            "Japan",
            "Jamaica",
            "Italy",
            "Israel",
            "Ireland",
            "Iraq",
            "Iran",
            "Indonesia",
            "India",
            "Iceland",
            "Hungary",
            "Honduras",
            "Haiti",
            "Guinea",
            "Guatemala",
            "Greece",
            "Ghana",
            "Germany",
            "Georgia",
            "Gabon",
            "France",
            "Finland",
            "Ethiopia",
            "Estonia",
            "El Salvador",
            "Egypt",
            "Ecuador",
            "Dominican Republic",
            "Denmark",
            "Cyprus",
            "Croatia",
            "Costa Rica",
            "Colombia",
            "China",
            "China",
            "Chile",
            "Chad",
            "Canada",
            "Cameroon",
            "Cambodia",
            "Burundi",
            "Burkina Faso",
            "Bulgaria",
            "Brazil",
            "Botswana",
            "Bosnia and Herzegovina",
            "Bolivia",
            "Benin",
            "Belgium",
            "Belarus",
            "Bangladesh",
            "Bahrain",
            "Azerbaijan",
            "Austria",
            "Australia",
            "Armenia",
            "Argentina",
            "Algeria",
            "Albania",
            "Afghanistan"
           ],
           "locationmode": "country names",
           "locations": [
            "Zimbabwe",
            "Zambia",
            "Yemen",
            "Vietnam",
            "Venezuela",
            "Uzbekistan",
            "Uruguay",
            "United States",
            "United Kingdom",
            "United Arab Emirates",
            "Ukraine",
            "Uganda",
            "Turkmenistan",
            "Turkey",
            "Tunisia",
            "Togo",
            "Thailand",
            "Tanzania",
            "Tajikistan",
            "Switzerland",
            "Sweden",
            "Sri Lanka",
            "Spain",
            "South Africa",
            "Slovenia",
            "Slovakia",
            "Singapore",
            "Sierra Leone",
            "Serbia",
            "Senegal",
            "Saudi Arabia",
            "Rwanda",
            "Russia",
            "Romania",
            "Portugal",
            "Poland",
            "Philippines",
            "Peru",
            "Paraguay",
            "Panama",
            "Pakistan",
            "Norway",
            "Nigeria",
            "Niger",
            "Nicaragua",
            "New Zealand",
            "Netherlands",
            "Nepal",
            "Myanmar",
            "Morocco",
            "Montenegro",
            "Mongolia",
            "Moldova",
            "Mexico",
            "Mauritius",
            "Mauritania",
            "Malta",
            "Mali",
            "Malaysia",
            "Malawi",
            "Madagascar",
            "Luxembourg",
            "Lithuania",
            "Libya",
            "Liberia",
            "Lebanon",
            "Latvia",
            "Kyrgyzstan",
            "Kuwait",
            "Kenya",
            "Kazakhstan",
            "Jordan",
            "Japan",
            "Jamaica",
            "Italy",
            "Israel",
            "Ireland",
            "Iraq",
            "Iran",
            "Indonesia",
            "India",
            "Iceland",
            "Hungary",
            "Honduras",
            "Haiti",
            "Guinea",
            "Guatemala",
            "Greece",
            "Ghana",
            "Germany",
            "Georgia",
            "Gabon",
            "France",
            "Finland",
            "Ethiopia",
            "Estonia",
            "El Salvador",
            "Egypt",
            "Ecuador",
            "Dominican Republic",
            "Denmark",
            "Cyprus",
            "Croatia",
            "Costa Rica",
            "Colombia",
            "China",
            "China",
            "Chile",
            "Chad",
            "Canada",
            "Cameroon",
            "Cambodia",
            "Burundi",
            "Burkina Faso",
            "Bulgaria",
            "Brazil",
            "Botswana",
            "Bosnia and Herzegovina",
            "Bolivia",
            "Benin",
            "Belgium",
            "Belarus",
            "Bangladesh",
            "Bahrain",
            "Azerbaijan",
            "Austria",
            "Australia",
            "Armenia",
            "Argentina",
            "Algeria",
            "Albania",
            "Afghanistan"
           ],
           "name": "",
           "type": "choropleth",
           "z": [
            61.2,
            63.51,
            66.1,
            75.32,
            72.13,
            71.57,
            77.77,
            78.85,
            81.24,
            77.81,
            71.95,
            62.97,
            68.07,
            77.44,
            76.51,
            60.76,
            76.93,
            65.02,
            70.88,
            83.63,
            82.65,
            76.81,
            83.43,
            63.86,
            81.17,
            77.39,
            83.46,
            54.31,
            75.85,
            67.67,
            75,
            68.7,
            72.39,
            75.92,
            81.86,
            78.54,
            71.1,
            76.52,
            74.13,
            78.33,
            67.11,
            82.27,
            54.33,
            62.02,
            74.28,
            82.15,
            82.14,
            70.48,
            66.87,
            76.45,
            76.77,
            69.69,
            71.81,
            74.99,
            74.86,
            64.7,
            82.38,
            58.89,
            76,
            63.8,
            66.68,
            82.1,
            75.74,
            72.72,
            63.73,
            78.88,
            75.17,
            71.32,
            75.4,
            66.34,
            73.24,
            74.41,
            84.47,
            74.37,
            83.35,
            82.82,
            82.1,
            70.45,
            76.48,
            71.51,
            69.42,
            82.86,
            76.7,
            75.09,
            63.66,
            61.19,
            74.06,
            82.07,
            63.78,
            81.18,
            73.6,
            66.19,
            82.54,
            81.74,
            66.24,
            78.57,
            73.1,
            71.83,
            76.8,
            73.89,
            80.78,
            80.83,
            78.34,
            80.1,
            77.11,
            84.69,
            76.7,
            80.04,
            53.98,
            82.32,
            58.92,
            69.57,
            61.25,
            61.17,
            74.93,
            75.67,
            69.28,
            77.26,
            71.24,
            61.47,
            81.47,
            74.59,
            72.32,
            77.16,
            72.86,
            81.43,
            83.28,
            74.95,
            76.52,
            76.69,
            78.46,
            64.49
           ]
          }
         ],
         "name": "2018"
        },
        {
         "data": [
          {
           "coloraxis": "coloraxis",
           "geo": "geo",
           "hovertemplate": "<b>%{hovertext}</b><br><br>Year=2017<br>Country=%{location}<br>Life_expectancy_at_birth=%{z}<extra></extra>",
           "hovertext": [
            "Zimbabwe",
            "Zambia",
            "Yemen",
            "Vietnam",
            "Venezuela",
            "Uzbekistan",
            "Uruguay",
            "United States",
            "United Kingdom",
            "United Arab Emirates",
            "Ukraine",
            "Uganda",
            "Turkmenistan",
            "Turkey",
            "Tunisia",
            "Togo",
            "Thailand",
            "Tanzania",
            "Tajikistan",
            "Switzerland",
            "Sweden",
            "Sri Lanka",
            "Spain",
            "South Africa",
            "Slovenia",
            "Slovakia",
            "Singapore",
            "Sierra Leone",
            "Serbia",
            "Senegal",
            "Saudi Arabia",
            "Rwanda",
            "Russia",
            "Romania",
            "Portugal",
            "Poland",
            "Philippines",
            "Peru",
            "Paraguay",
            "Panama",
            "Pakistan",
            "Norway",
            "Nigeria",
            "Niger",
            "Nicaragua",
            "New Zealand",
            "Netherlands",
            "Nepal",
            "Myanmar",
            "Morocco",
            "Montenegro",
            "Mongolia",
            "Moldova",
            "Mexico",
            "Mauritius",
            "Mauritania",
            "Malta",
            "Mali",
            "Malaysia",
            "Malawi",
            "Madagascar",
            "Luxembourg",
            "Lithuania",
            "Libya",
            "Liberia",
            "Lebanon",
            "Latvia",
            "Kyrgyzstan",
            "Kuwait",
            "Kenya",
            "Kazakhstan",
            "Jordan",
            "Japan",
            "Jamaica",
            "Italy",
            "Israel",
            "Ireland",
            "Iraq",
            "Iran",
            "Indonesia",
            "India",
            "Iceland",
            "Hungary",
            "Honduras",
            "Haiti",
            "Guinea",
            "Guatemala",
            "Greece",
            "Ghana",
            "Germany",
            "Georgia",
            "Gabon",
            "France",
            "Finland",
            "Ethiopia",
            "Estonia",
            "El Salvador",
            "Egypt",
            "Ecuador",
            "Dominican Republic",
            "Denmark",
            "Cyprus",
            "Croatia",
            "Costa Rica",
            "Colombia",
            "China",
            "China",
            "Chile",
            "Chad",
            "Canada",
            "Cameroon",
            "Cambodia",
            "Burundi",
            "Burkina Faso",
            "Bulgaria",
            "Brazil",
            "Botswana",
            "Bosnia and Herzegovina",
            "Bolivia",
            "Benin",
            "Belgium",
            "Belarus",
            "Bangladesh",
            "Bahrain",
            "Azerbaijan",
            "Austria",
            "Australia",
            "Armenia",
            "Argentina",
            "Algeria",
            "Albania",
            "Afghanistan"
           ],
           "ids": [
            "Zimbabwe",
            "Zambia",
            "Yemen",
            "Vietnam",
            "Venezuela",
            "Uzbekistan",
            "Uruguay",
            "United States",
            "United Kingdom",
            "United Arab Emirates",
            "Ukraine",
            "Uganda",
            "Turkmenistan",
            "Turkey",
            "Tunisia",
            "Togo",
            "Thailand",
            "Tanzania",
            "Tajikistan",
            "Switzerland",
            "Sweden",
            "Sri Lanka",
            "Spain",
            "South Africa",
            "Slovenia",
            "Slovakia",
            "Singapore",
            "Sierra Leone",
            "Serbia",
            "Senegal",
            "Saudi Arabia",
            "Rwanda",
            "Russia",
            "Romania",
            "Portugal",
            "Poland",
            "Philippines",
            "Peru",
            "Paraguay",
            "Panama",
            "Pakistan",
            "Norway",
            "Nigeria",
            "Niger",
            "Nicaragua",
            "New Zealand",
            "Netherlands",
            "Nepal",
            "Myanmar",
            "Morocco",
            "Montenegro",
            "Mongolia",
            "Moldova",
            "Mexico",
            "Mauritius",
            "Mauritania",
            "Malta",
            "Mali",
            "Malaysia",
            "Malawi",
            "Madagascar",
            "Luxembourg",
            "Lithuania",
            "Libya",
            "Liberia",
            "Lebanon",
            "Latvia",
            "Kyrgyzstan",
            "Kuwait",
            "Kenya",
            "Kazakhstan",
            "Jordan",
            "Japan",
            "Jamaica",
            "Italy",
            "Israel",
            "Ireland",
            "Iraq",
            "Iran",
            "Indonesia",
            "India",
            "Iceland",
            "Hungary",
            "Honduras",
            "Haiti",
            "Guinea",
            "Guatemala",
            "Greece",
            "Ghana",
            "Germany",
            "Georgia",
            "Gabon",
            "France",
            "Finland",
            "Ethiopia",
            "Estonia",
            "El Salvador",
            "Egypt",
            "Ecuador",
            "Dominican Republic",
            "Denmark",
            "Cyprus",
            "Croatia",
            "Costa Rica",
            "Colombia",
            "China",
            "China",
            "Chile",
            "Chad",
            "Canada",
            "Cameroon",
            "Cambodia",
            "Burundi",
            "Burkina Faso",
            "Bulgaria",
            "Brazil",
            "Botswana",
            "Bosnia and Herzegovina",
            "Bolivia",
            "Benin",
            "Belgium",
            "Belarus",
            "Bangladesh",
            "Bahrain",
            "Azerbaijan",
            "Austria",
            "Australia",
            "Armenia",
            "Argentina",
            "Algeria",
            "Albania",
            "Afghanistan"
           ],
           "locationmode": "country names",
           "locations": [
            "Zimbabwe",
            "Zambia",
            "Yemen",
            "Vietnam",
            "Venezuela",
            "Uzbekistan",
            "Uruguay",
            "United States",
            "United Kingdom",
            "United Arab Emirates",
            "Ukraine",
            "Uganda",
            "Turkmenistan",
            "Turkey",
            "Tunisia",
            "Togo",
            "Thailand",
            "Tanzania",
            "Tajikistan",
            "Switzerland",
            "Sweden",
            "Sri Lanka",
            "Spain",
            "South Africa",
            "Slovenia",
            "Slovakia",
            "Singapore",
            "Sierra Leone",
            "Serbia",
            "Senegal",
            "Saudi Arabia",
            "Rwanda",
            "Russia",
            "Romania",
            "Portugal",
            "Poland",
            "Philippines",
            "Peru",
            "Paraguay",
            "Panama",
            "Pakistan",
            "Norway",
            "Nigeria",
            "Niger",
            "Nicaragua",
            "New Zealand",
            "Netherlands",
            "Nepal",
            "Myanmar",
            "Morocco",
            "Montenegro",
            "Mongolia",
            "Moldova",
            "Mexico",
            "Mauritius",
            "Mauritania",
            "Malta",
            "Mali",
            "Malaysia",
            "Malawi",
            "Madagascar",
            "Luxembourg",
            "Lithuania",
            "Libya",
            "Liberia",
            "Lebanon",
            "Latvia",
            "Kyrgyzstan",
            "Kuwait",
            "Kenya",
            "Kazakhstan",
            "Jordan",
            "Japan",
            "Jamaica",
            "Italy",
            "Israel",
            "Ireland",
            "Iraq",
            "Iran",
            "Indonesia",
            "India",
            "Iceland",
            "Hungary",
            "Honduras",
            "Haiti",
            "Guinea",
            "Guatemala",
            "Greece",
            "Ghana",
            "Germany",
            "Georgia",
            "Gabon",
            "France",
            "Finland",
            "Ethiopia",
            "Estonia",
            "El Salvador",
            "Egypt",
            "Ecuador",
            "Dominican Republic",
            "Denmark",
            "Cyprus",
            "Croatia",
            "Costa Rica",
            "Colombia",
            "China",
            "China",
            "Chile",
            "Chad",
            "Canada",
            "Cameroon",
            "Cambodia",
            "Burundi",
            "Burkina Faso",
            "Bulgaria",
            "Brazil",
            "Botswana",
            "Bosnia and Herzegovina",
            "Bolivia",
            "Benin",
            "Belgium",
            "Belarus",
            "Bangladesh",
            "Bahrain",
            "Azerbaijan",
            "Austria",
            "Australia",
            "Armenia",
            "Argentina",
            "Algeria",
            "Albania",
            "Afghanistan"
           ],
           "name": "",
           "type": "choropleth",
           "z": [
            60.812,
            63.043,
            66.086,
            75.241,
            72.246,
            71.388,
            77.632,
            78.861,
            81.168,
            77.647,
            71.84,
            62.516,
            67.956,
            77.161,
            76.31,
            60.489,
            76.683,
            64.479,
            70.647,
            83.473,
            82.516,
            76.648,
            83.294,
            63.538,
            81.016,
            77.219,
            83.279,
            53.895,
            75.684,
            67.38,
            74.874,
            68.341,
            72.139,
            75.79,
            81.655,
            78.338,
            70.952,
            76.286,
            73.992,
            78.149,
            66.947,
            82.146,
            53.95,
            61.599,
            74.068,
            82.002,
            82.004,
            70.169,
            66.558,
            76.218,
            76.667,
            69.509,
            71.717,
            74.947,
            74.743,
            64.464,
            82.221,
            58.452,
            75.828,
            63.279,
            66.311,
            81.955,
            75.507,
            72.52,
            63.295,
            78.833,
            75.048,
            71.193,
            75.311,
            65.909,
            72.728,
            74.292,
            84.29,
            74.267,
            83.184,
            82.663,
            81.872,
            70.294,
            76.271,
            71.282,
            69.165,
            82.725,
            76.498,
            74.898,
            63.29,
            60.706,
            73.81,
            81.901,
            63.463,
            81.039,
            73.414,
            65.839,
            82.432,
            81.561,
            65.872,
            78.354,
            72.872,
            71.656,
            76.584,
            73.689,
            80.681,
            80.672,
            78.197,
            79.914,
            76.925,
            76.47,
            76.47,
            79.909,
            53.712,
            82.21,
            58.511,
            69.289,
            60.898,
            60.768,
            74.815,
            75.456,
            68.812,
            77.128,
            70.945,
            61.174,
            81.305,
            74.34,
            72.052,
            77.032,
            72.693,
            81.34,
            83.122,
            74.797,
            76.372,
            76.499,
            78.333,
            64.13
           ]
          }
         ],
         "name": "2017"
        },
        {
         "data": [
          {
           "coloraxis": "coloraxis",
           "geo": "geo",
           "hovertemplate": "<b>%{hovertext}</b><br><br>Year=2016<br>Country=%{location}<br>Life_expectancy_at_birth=%{z}<extra></extra>",
           "hovertext": [
            "Zimbabwe",
            "Zambia",
            "Yemen",
            "Vietnam",
            "Venezuela",
            "Uzbekistan",
            "Uruguay",
            "United States",
            "United Kingdom",
            "United Arab Emirates",
            "Ukraine",
            "Uganda",
            "Turkmenistan",
            "Turkey",
            "Tunisia",
            "Togo",
            "Thailand",
            "Tanzania",
            "Tajikistan",
            "Switzerland",
            "Sweden",
            "Sri Lanka",
            "Spain",
            "South Africa",
            "Slovenia",
            "Slovakia",
            "Singapore",
            "Sierra Leone",
            "Serbia",
            "Senegal",
            "Saudi Arabia",
            "Rwanda",
            "Russia",
            "Romania",
            "Portugal",
            "Poland",
            "Philippines",
            "Peru",
            "Paraguay",
            "Panama",
            "Pakistan",
            "Norway",
            "Nigeria",
            "Niger",
            "Nicaragua",
            "New Zealand",
            "Netherlands",
            "Nepal",
            "Myanmar",
            "Morocco",
            "Montenegro",
            "Mongolia",
            "Moldova",
            "Mexico",
            "Mauritius",
            "Mauritania",
            "Malta",
            "Mali",
            "Malaysia",
            "Malawi",
            "Madagascar",
            "Luxembourg",
            "Lithuania",
            "Libya",
            "Liberia",
            "Lebanon",
            "Latvia",
            "Kyrgyzstan",
            "Kuwait",
            "Kenya",
            "Kazakhstan",
            "Jordan",
            "Japan",
            "Jamaica",
            "Italy",
            "Israel",
            "Ireland",
            "Iraq",
            "Iran",
            "Indonesia",
            "India",
            "Iceland",
            "Hungary",
            "Honduras",
            "Haiti",
            "Guinea",
            "Guatemala",
            "Greece",
            "Ghana",
            "Germany",
            "Georgia",
            "Gabon",
            "France",
            "Finland",
            "Ethiopia",
            "Estonia",
            "El Salvador",
            "Egypt",
            "Ecuador",
            "Dominican Republic",
            "Denmark",
            "Cyprus",
            "Croatia",
            "Costa Rica",
            "Colombia",
            "China",
            "China",
            "Chile",
            "Chad",
            "Canada",
            "Cameroon",
            "Cambodia",
            "Burundi",
            "Burkina Faso",
            "Bulgaria",
            "Brazil",
            "Botswana",
            "Bosnia and Herzegovina",
            "Bolivia",
            "Benin",
            "Belgium",
            "Belarus",
            "Bangladesh",
            "Bahrain",
            "Azerbaijan",
            "Austria",
            "Australia",
            "Armenia",
            "Argentina",
            "Algeria",
            "Albania",
            "Afghanistan"
           ],
           "ids": [
            "Zimbabwe",
            "Zambia",
            "Yemen",
            "Vietnam",
            "Venezuela",
            "Uzbekistan",
            "Uruguay",
            "United States",
            "United Kingdom",
            "United Arab Emirates",
            "Ukraine",
            "Uganda",
            "Turkmenistan",
            "Turkey",
            "Tunisia",
            "Togo",
            "Thailand",
            "Tanzania",
            "Tajikistan",
            "Switzerland",
            "Sweden",
            "Sri Lanka",
            "Spain",
            "South Africa",
            "Slovenia",
            "Slovakia",
            "Singapore",
            "Sierra Leone",
            "Serbia",
            "Senegal",
            "Saudi Arabia",
            "Rwanda",
            "Russia",
            "Romania",
            "Portugal",
            "Poland",
            "Philippines",
            "Peru",
            "Paraguay",
            "Panama",
            "Pakistan",
            "Norway",
            "Nigeria",
            "Niger",
            "Nicaragua",
            "New Zealand",
            "Netherlands",
            "Nepal",
            "Myanmar",
            "Morocco",
            "Montenegro",
            "Mongolia",
            "Moldova",
            "Mexico",
            "Mauritius",
            "Mauritania",
            "Malta",
            "Mali",
            "Malaysia",
            "Malawi",
            "Madagascar",
            "Luxembourg",
            "Lithuania",
            "Libya",
            "Liberia",
            "Lebanon",
            "Latvia",
            "Kyrgyzstan",
            "Kuwait",
            "Kenya",
            "Kazakhstan",
            "Jordan",
            "Japan",
            "Jamaica",
            "Italy",
            "Israel",
            "Ireland",
            "Iraq",
            "Iran",
            "Indonesia",
            "India",
            "Iceland",
            "Hungary",
            "Honduras",
            "Haiti",
            "Guinea",
            "Guatemala",
            "Greece",
            "Ghana",
            "Germany",
            "Georgia",
            "Gabon",
            "France",
            "Finland",
            "Ethiopia",
            "Estonia",
            "El Salvador",
            "Egypt",
            "Ecuador",
            "Dominican Republic",
            "Denmark",
            "Cyprus",
            "Croatia",
            "Costa Rica",
            "Colombia",
            "China",
            "China",
            "Chile",
            "Chad",
            "Canada",
            "Cameroon",
            "Cambodia",
            "Burundi",
            "Burkina Faso",
            "Bulgaria",
            "Brazil",
            "Botswana",
            "Bosnia and Herzegovina",
            "Bolivia",
            "Benin",
            "Belgium",
            "Belarus",
            "Bangladesh",
            "Bahrain",
            "Azerbaijan",
            "Austria",
            "Australia",
            "Armenia",
            "Argentina",
            "Algeria",
            "Albania",
            "Afghanistan"
           ],
           "locationmode": "country names",
           "locations": [
            "Zimbabwe",
            "Zambia",
            "Yemen",
            "Vietnam",
            "Venezuela",
            "Uzbekistan",
            "Uruguay",
            "United States",
            "United Kingdom",
            "United Arab Emirates",
            "Ukraine",
            "Uganda",
            "Turkmenistan",
            "Turkey",
            "Tunisia",
            "Togo",
            "Thailand",
            "Tanzania",
            "Tajikistan",
            "Switzerland",
            "Sweden",
            "Sri Lanka",
            "Spain",
            "South Africa",
            "Slovenia",
            "Slovakia",
            "Singapore",
            "Sierra Leone",
            "Serbia",
            "Senegal",
            "Saudi Arabia",
            "Rwanda",
            "Russia",
            "Romania",
            "Portugal",
            "Poland",
            "Philippines",
            "Peru",
            "Paraguay",
            "Panama",
            "Pakistan",
            "Norway",
            "Nigeria",
            "Niger",
            "Nicaragua",
            "New Zealand",
            "Netherlands",
            "Nepal",
            "Myanmar",
            "Morocco",
            "Montenegro",
            "Mongolia",
            "Moldova",
            "Mexico",
            "Mauritius",
            "Mauritania",
            "Malta",
            "Mali",
            "Malaysia",
            "Malawi",
            "Madagascar",
            "Luxembourg",
            "Lithuania",
            "Libya",
            "Liberia",
            "Lebanon",
            "Latvia",
            "Kyrgyzstan",
            "Kuwait",
            "Kenya",
            "Kazakhstan",
            "Jordan",
            "Japan",
            "Jamaica",
            "Italy",
            "Israel",
            "Ireland",
            "Iraq",
            "Iran",
            "Indonesia",
            "India",
            "Iceland",
            "Hungary",
            "Honduras",
            "Haiti",
            "Guinea",
            "Guatemala",
            "Greece",
            "Ghana",
            "Germany",
            "Georgia",
            "Gabon",
            "France",
            "Finland",
            "Ethiopia",
            "Estonia",
            "El Salvador",
            "Egypt",
            "Ecuador",
            "Dominican Republic",
            "Denmark",
            "Cyprus",
            "Croatia",
            "Costa Rica",
            "Colombia",
            "China",
            "China",
            "Chile",
            "Chad",
            "Canada",
            "Cameroon",
            "Cambodia",
            "Burundi",
            "Burkina Faso",
            "Bulgaria",
            "Brazil",
            "Botswana",
            "Bosnia and Herzegovina",
            "Bolivia",
            "Benin",
            "Belgium",
            "Belarus",
            "Bangladesh",
            "Bahrain",
            "Azerbaijan",
            "Austria",
            "Australia",
            "Armenia",
            "Argentina",
            "Algeria",
            "Albania",
            "Afghanistan"
           ],
           "name": "",
           "type": "choropleth",
           "z": [
            60.294,
            62.464,
            66.087,
            75.172,
            72.405,
            71.171,
            77.498,
            78.885,
            81.111,
            77.47,
            71.711,
            61.986,
            67.835,
            76.86,
            76.115,
            60.22,
            76.403,
            63.844,
            70.397,
            83.31,
            82.382,
            76.482,
            83.145,
            63.153,
            80.852,
            77.034,
            83.083,
            53.444,
            75.505,
            67.078,
            74.761,
            67.93,
            71.835,
            75.644,
            81.444,
            78.11,
            70.802,
            76.044,
            73.836,
            77.964,
            66.77,
            82.029,
            53.541,
            61.137,
            73.86,
            81.859,
            81.862,
            69.848,
            66.205,
            75.974,
            76.568,
            69.321,
            71.617,
            74.917,
            74.626,
            64.208,
            82.063,
            57.987,
            75.649,
            62.681,
            65.931,
            81.803,
            75.238,
            72.311,
            62.802,
            78.8,
            74.91,
            71.054,
            75.224,
            65.393,
            72.081,
            74.184,
            84.09,
            74.175,
            83.008,
            82.503,
            81.615,
            70.122,
            76.047,
            71.035,
            68.897,
            82.601,
            76.266,
            74.701,
            62.896,
            60.17,
            73.541,
            81.727,
            63.124,
            80.902,
            73.207,
            65.418,
            82.328,
            81.382,
            65.482,
            78.097,
            72.644,
            71.482,
            76.365,
            73.471,
            80.583,
            80.513,
            78.049,
            79.738,
            76.732,
            76.21,
            76.21,
            79.779,
            53.438,
            82.117,
            58.063,
            68.977,
            60.528,
            60.354,
            74.703,
            75.23,
            68.178,
            76.998,
            70.626,
            60.885,
            81.139,
            74.031,
            71.785,
            76.899,
            72.493,
            81.258,
            82.959,
            74.64,
            76.221,
            76.298,
            78.194,
            63.763
           ]
          }
         ],
         "name": "2016"
        },
        {
         "data": [
          {
           "coloraxis": "coloraxis",
           "geo": "geo",
           "hovertemplate": "<b>%{hovertext}</b><br><br>Year=2015<br>Country=%{location}<br>Life_expectancy_at_birth=%{z}<extra></extra>",
           "hovertext": [
            "Zimbabwe",
            "Zambia",
            "Yemen",
            "Vietnam",
            "Venezuela",
            "Uzbekistan",
            "Uruguay",
            "United States",
            "United Kingdom",
            "United Arab Emirates",
            "Ukraine",
            "Uganda",
            "Turkmenistan",
            "Turkey",
            "Tunisia",
            "Togo",
            "Thailand",
            "Tanzania",
            "Tajikistan",
            "Switzerland",
            "Sweden",
            "Sri Lanka",
            "Spain",
            "South Africa",
            "Slovenia",
            "Slovakia",
            "Singapore",
            "Sierra Leone",
            "Serbia",
            "Senegal",
            "Saudi Arabia",
            "Rwanda",
            "Russia",
            "Romania",
            "Portugal",
            "Poland",
            "Philippines",
            "Peru",
            "Paraguay",
            "Panama",
            "Pakistan",
            "Norway",
            "Nigeria",
            "Niger",
            "Nicaragua",
            "New Zealand",
            "Netherlands",
            "Nepal",
            "Myanmar",
            "Morocco",
            "Montenegro",
            "Mongolia",
            "Moldova",
            "Mexico",
            "Mauritius",
            "Mauritania",
            "Malta",
            "Mali",
            "Malaysia",
            "Malawi",
            "Madagascar",
            "Luxembourg",
            "Lithuania",
            "Libya",
            "Liberia",
            "Lebanon",
            "Latvia",
            "Kyrgyzstan",
            "Kuwait",
            "Kenya",
            "Kazakhstan",
            "Jordan",
            "Japan",
            "Jamaica",
            "Italy",
            "Israel",
            "Ireland",
            "Iraq",
            "Iran",
            "Indonesia",
            "India",
            "Iceland",
            "Hungary",
            "Honduras",
            "Haiti",
            "Guinea",
            "Guatemala",
            "Greece",
            "Ghana",
            "Germany",
            "Georgia",
            "Gabon",
            "France",
            "Finland",
            "Ethiopia",
            "Estonia",
            "El Salvador",
            "Egypt",
            "Ecuador",
            "Dominican Republic",
            "Denmark",
            "Cyprus",
            "Croatia",
            "Costa Rica",
            "Colombia",
            "China",
            "China",
            "Chile",
            "Chad",
            "Canada",
            "Cameroon",
            "Cambodia",
            "Burundi",
            "Burkina Faso",
            "Bulgaria",
            "Brazil",
            "Botswana",
            "Bosnia and Herzegovina",
            "Bolivia",
            "Benin",
            "Belgium",
            "Belarus",
            "Bangladesh",
            "Bahrain",
            "Azerbaijan",
            "Austria",
            "Australia",
            "Armenia",
            "Argentina",
            "Algeria",
            "Albania",
            "Afghanistan"
           ],
           "ids": [
            "Zimbabwe",
            "Zambia",
            "Yemen",
            "Vietnam",
            "Venezuela",
            "Uzbekistan",
            "Uruguay",
            "United States",
            "United Kingdom",
            "United Arab Emirates",
            "Ukraine",
            "Uganda",
            "Turkmenistan",
            "Turkey",
            "Tunisia",
            "Togo",
            "Thailand",
            "Tanzania",
            "Tajikistan",
            "Switzerland",
            "Sweden",
            "Sri Lanka",
            "Spain",
            "South Africa",
            "Slovenia",
            "Slovakia",
            "Singapore",
            "Sierra Leone",
            "Serbia",
            "Senegal",
            "Saudi Arabia",
            "Rwanda",
            "Russia",
            "Romania",
            "Portugal",
            "Poland",
            "Philippines",
            "Peru",
            "Paraguay",
            "Panama",
            "Pakistan",
            "Norway",
            "Nigeria",
            "Niger",
            "Nicaragua",
            "New Zealand",
            "Netherlands",
            "Nepal",
            "Myanmar",
            "Morocco",
            "Montenegro",
            "Mongolia",
            "Moldova",
            "Mexico",
            "Mauritius",
            "Mauritania",
            "Malta",
            "Mali",
            "Malaysia",
            "Malawi",
            "Madagascar",
            "Luxembourg",
            "Lithuania",
            "Libya",
            "Liberia",
            "Lebanon",
            "Latvia",
            "Kyrgyzstan",
            "Kuwait",
            "Kenya",
            "Kazakhstan",
            "Jordan",
            "Japan",
            "Jamaica",
            "Italy",
            "Israel",
            "Ireland",
            "Iraq",
            "Iran",
            "Indonesia",
            "India",
            "Iceland",
            "Hungary",
            "Honduras",
            "Haiti",
            "Guinea",
            "Guatemala",
            "Greece",
            "Ghana",
            "Germany",
            "Georgia",
            "Gabon",
            "France",
            "Finland",
            "Ethiopia",
            "Estonia",
            "El Salvador",
            "Egypt",
            "Ecuador",
            "Dominican Republic",
            "Denmark",
            "Cyprus",
            "Croatia",
            "Costa Rica",
            "Colombia",
            "China",
            "China",
            "Chile",
            "Chad",
            "Canada",
            "Cameroon",
            "Cambodia",
            "Burundi",
            "Burkina Faso",
            "Bulgaria",
            "Brazil",
            "Botswana",
            "Bosnia and Herzegovina",
            "Bolivia",
            "Benin",
            "Belgium",
            "Belarus",
            "Bangladesh",
            "Bahrain",
            "Azerbaijan",
            "Austria",
            "Australia",
            "Armenia",
            "Argentina",
            "Algeria",
            "Albania",
            "Afghanistan"
           ],
           "locationmode": "country names",
           "locations": [
            "Zimbabwe",
            "Zambia",
            "Yemen",
            "Vietnam",
            "Venezuela",
            "Uzbekistan",
            "Uruguay",
            "United States",
            "United Kingdom",
            "United Arab Emirates",
            "Ukraine",
            "Uganda",
            "Turkmenistan",
            "Turkey",
            "Tunisia",
            "Togo",
            "Thailand",
            "Tanzania",
            "Tajikistan",
            "Switzerland",
            "Sweden",
            "Sri Lanka",
            "Spain",
            "South Africa",
            "Slovenia",
            "Slovakia",
            "Singapore",
            "Sierra Leone",
            "Serbia",
            "Senegal",
            "Saudi Arabia",
            "Rwanda",
            "Russia",
            "Romania",
            "Portugal",
            "Poland",
            "Philippines",
            "Peru",
            "Paraguay",
            "Panama",
            "Pakistan",
            "Norway",
            "Nigeria",
            "Niger",
            "Nicaragua",
            "New Zealand",
            "Netherlands",
            "Nepal",
            "Myanmar",
            "Morocco",
            "Montenegro",
            "Mongolia",
            "Moldova",
            "Mexico",
            "Mauritius",
            "Mauritania",
            "Malta",
            "Mali",
            "Malaysia",
            "Malawi",
            "Madagascar",
            "Luxembourg",
            "Lithuania",
            "Libya",
            "Liberia",
            "Lebanon",
            "Latvia",
            "Kyrgyzstan",
            "Kuwait",
            "Kenya",
            "Kazakhstan",
            "Jordan",
            "Japan",
            "Jamaica",
            "Italy",
            "Israel",
            "Ireland",
            "Iraq",
            "Iran",
            "Indonesia",
            "India",
            "Iceland",
            "Hungary",
            "Honduras",
            "Haiti",
            "Guinea",
            "Guatemala",
            "Greece",
            "Ghana",
            "Germany",
            "Georgia",
            "Gabon",
            "France",
            "Finland",
            "Ethiopia",
            "Estonia",
            "El Salvador",
            "Egypt",
            "Ecuador",
            "Dominican Republic",
            "Denmark",
            "Cyprus",
            "Croatia",
            "Costa Rica",
            "Colombia",
            "China",
            "China",
            "Chile",
            "Chad",
            "Canada",
            "Cameroon",
            "Cambodia",
            "Burundi",
            "Burkina Faso",
            "Bulgaria",
            "Brazil",
            "Botswana",
            "Bosnia and Herzegovina",
            "Bolivia",
            "Benin",
            "Belgium",
            "Belarus",
            "Bangladesh",
            "Bahrain",
            "Azerbaijan",
            "Austria",
            "Australia",
            "Armenia",
            "Argentina",
            "Algeria",
            "Albania",
            "Afghanistan"
           ],
           "name": "",
           "type": "choropleth",
           "z": [
            59.534,
            61.737,
            66.085,
            75.11,
            72.584,
            70.928,
            77.369,
            78.91,
            81.052,
            77.285,
            71.535,
            61.373,
            67.704,
            76.532,
            75.922,
            59.927,
            76.091,
            63.111,
            70.137,
            83.142,
            82.251,
            76.316,
            82.981,
            62.649,
            80.673,
            76.827,
            82.877,
            52.941,
            75.309,
            66.747,
            74.651,
            67.45,
            71.464,
            75.476,
            81.224,
            77.859,
            70.644,
            75.792,
            73.662,
            77.776,
            66.577,
            81.912,
            53.112,
            60.631,
            73.649,
            81.713,
            81.715,
            69.515,
            65.81,
            75.726,
            76.452,
            69.111,
            71.478,
            74.904,
            74.5,
            63.936,
            81.896,
            57.509,
            75.461,
            61.953,
            65.539,
            81.636,
            74.923,
            72.121,
            62.269,
            78.768,
            74.733,
            70.876,
            75.13,
            64.798,
            71.319,
            74.078,
            83.879,
            74.098,
            82.828,
            82.34,
            81.344,
            69.929,
            75.796,
            70.768,
            68.607,
            82.481,
            76.006,
            74.495,
            62.485,
            59.598,
            73.25,
            81.548,
            62.772,
            80.77,
            72.973,
            64.913,
            82.224,
            81.196,
            65.048,
            77.783,
            72.412,
            71.302,
            76.143,
            73.241,
            80.475,
            80.35,
            77.892,
            79.565,
            76.531,
            75.928,
            75.928,
            79.646,
            53.137,
            82.026,
            57.583,
            68.637,
            60.123,
            59.919,
            74.584,
            74.994,
            67.338,
            76.865,
            70.277,
            60.608,
            80.969,
            73.652,
            71.514,
            76.762,
            72.266,
            81.182,
            82.794,
            74.467,
            76.068,
            76.09,
            78.025,
            63.377
           ]
          }
         ],
         "name": "2015"
        }
       ],
       "layout": {
        "coloraxis": {
         "colorbar": {
          "title": {
           "text": "Life_expectancy_at_birth"
          }
         },
         "colorscale": [
          [
           0,
           "#440154"
          ],
          [
           0.1111111111111111,
           "#482878"
          ],
          [
           0.2222222222222222,
           "#3e4989"
          ],
          [
           0.3333333333333333,
           "#31688e"
          ],
          [
           0.4444444444444444,
           "#26828e"
          ],
          [
           0.5555555555555556,
           "#1f9e89"
          ],
          [
           0.6666666666666666,
           "#35b779"
          ],
          [
           0.7777777777777778,
           "#6ece58"
          ],
          [
           0.8888888888888888,
           "#b5de2b"
          ],
          [
           1,
           "#fde725"
          ]
         ]
        },
        "geo": {
         "center": {},
         "domain": {
          "x": [
           0,
           1
          ],
          "y": [
           0,
           1
          ]
         },
         "projection": {
          "type": "natural earth"
         }
        },
        "height": 600,
        "legend": {
         "tracegroupgap": 0
        },
        "margin": {
         "b": 0,
         "l": 0,
         "r": 0,
         "t": 40
        },
        "sliders": [
         {
          "active": 0,
          "currentvalue": {
           "prefix": "Year="
          },
          "len": 0.9,
          "pad": {
           "b": 10,
           "t": 60
          },
          "steps": [
           {
            "args": [
             [
              "2018"
             ],
             {
              "frame": {
               "duration": 0,
               "redraw": true
              },
              "fromcurrent": true,
              "mode": "immediate",
              "transition": {
               "duration": 0,
               "easing": "linear"
              }
             }
            ],
            "label": "2018",
            "method": "animate"
           },
           {
            "args": [
             [
              "2017"
             ],
             {
              "frame": {
               "duration": 0,
               "redraw": true
              },
              "fromcurrent": true,
              "mode": "immediate",
              "transition": {
               "duration": 0,
               "easing": "linear"
              }
             }
            ],
            "label": "2017",
            "method": "animate"
           },
           {
            "args": [
             [
              "2016"
             ],
             {
              "frame": {
               "duration": 0,
               "redraw": true
              },
              "fromcurrent": true,
              "mode": "immediate",
              "transition": {
               "duration": 0,
               "easing": "linear"
              }
             }
            ],
            "label": "2016",
            "method": "animate"
           },
           {
            "args": [
             [
              "2015"
             ],
             {
              "frame": {
               "duration": 0,
               "redraw": true
              },
              "fromcurrent": true,
              "mode": "immediate",
              "transition": {
               "duration": 0,
               "easing": "linear"
              }
             }
            ],
            "label": "2015",
            "method": "animate"
           }
          ],
          "x": 0.1,
          "xanchor": "left",
          "y": 0,
          "yanchor": "top"
         }
        ],
        "template": {
         "data": {
          "bar": [
           {
            "error_x": {
             "color": "#2a3f5f"
            },
            "error_y": {
             "color": "#2a3f5f"
            },
            "marker": {
             "line": {
              "color": "#E5ECF6",
              "width": 0.5
             },
             "pattern": {
              "fillmode": "overlay",
              "size": 10,
              "solidity": 0.2
             }
            },
            "type": "bar"
           }
          ],
          "barpolar": [
           {
            "marker": {
             "line": {
              "color": "#E5ECF6",
              "width": 0.5
             },
             "pattern": {
              "fillmode": "overlay",
              "size": 10,
              "solidity": 0.2
             }
            },
            "type": "barpolar"
           }
          ],
          "carpet": [
           {
            "aaxis": {
             "endlinecolor": "#2a3f5f",
             "gridcolor": "white",
             "linecolor": "white",
             "minorgridcolor": "white",
             "startlinecolor": "#2a3f5f"
            },
            "baxis": {
             "endlinecolor": "#2a3f5f",
             "gridcolor": "white",
             "linecolor": "white",
             "minorgridcolor": "white",
             "startlinecolor": "#2a3f5f"
            },
            "type": "carpet"
           }
          ],
          "choropleth": [
           {
            "colorbar": {
             "outlinewidth": 0,
             "ticks": ""
            },
            "type": "choropleth"
           }
          ],
          "contour": [
           {
            "colorbar": {
             "outlinewidth": 0,
             "ticks": ""
            },
            "colorscale": [
             [
              0,
              "#0d0887"
             ],
             [
              0.1111111111111111,
              "#46039f"
             ],
             [
              0.2222222222222222,
              "#7201a8"
             ],
             [
              0.3333333333333333,
              "#9c179e"
             ],
             [
              0.4444444444444444,
              "#bd3786"
             ],
             [
              0.5555555555555556,
              "#d8576b"
             ],
             [
              0.6666666666666666,
              "#ed7953"
             ],
             [
              0.7777777777777778,
              "#fb9f3a"
             ],
             [
              0.8888888888888888,
              "#fdca26"
             ],
             [
              1,
              "#f0f921"
             ]
            ],
            "type": "contour"
           }
          ],
          "contourcarpet": [
           {
            "colorbar": {
             "outlinewidth": 0,
             "ticks": ""
            },
            "type": "contourcarpet"
           }
          ],
          "heatmap": [
           {
            "colorbar": {
             "outlinewidth": 0,
             "ticks": ""
            },
            "colorscale": [
             [
              0,
              "#0d0887"
             ],
             [
              0.1111111111111111,
              "#46039f"
             ],
             [
              0.2222222222222222,
              "#7201a8"
             ],
             [
              0.3333333333333333,
              "#9c179e"
             ],
             [
              0.4444444444444444,
              "#bd3786"
             ],
             [
              0.5555555555555556,
              "#d8576b"
             ],
             [
              0.6666666666666666,
              "#ed7953"
             ],
             [
              0.7777777777777778,
              "#fb9f3a"
             ],
             [
              0.8888888888888888,
              "#fdca26"
             ],
             [
              1,
              "#f0f921"
             ]
            ],
            "type": "heatmap"
           }
          ],
          "heatmapgl": [
           {
            "colorbar": {
             "outlinewidth": 0,
             "ticks": ""
            },
            "colorscale": [
             [
              0,
              "#0d0887"
             ],
             [
              0.1111111111111111,
              "#46039f"
             ],
             [
              0.2222222222222222,
              "#7201a8"
             ],
             [
              0.3333333333333333,
              "#9c179e"
             ],
             [
              0.4444444444444444,
              "#bd3786"
             ],
             [
              0.5555555555555556,
              "#d8576b"
             ],
             [
              0.6666666666666666,
              "#ed7953"
             ],
             [
              0.7777777777777778,
              "#fb9f3a"
             ],
             [
              0.8888888888888888,
              "#fdca26"
             ],
             [
              1,
              "#f0f921"
             ]
            ],
            "type": "heatmapgl"
           }
          ],
          "histogram": [
           {
            "marker": {
             "pattern": {
              "fillmode": "overlay",
              "size": 10,
              "solidity": 0.2
             }
            },
            "type": "histogram"
           }
          ],
          "histogram2d": [
           {
            "colorbar": {
             "outlinewidth": 0,
             "ticks": ""
            },
            "colorscale": [
             [
              0,
              "#0d0887"
             ],
             [
              0.1111111111111111,
              "#46039f"
             ],
             [
              0.2222222222222222,
              "#7201a8"
             ],
             [
              0.3333333333333333,
              "#9c179e"
             ],
             [
              0.4444444444444444,
              "#bd3786"
             ],
             [
              0.5555555555555556,
              "#d8576b"
             ],
             [
              0.6666666666666666,
              "#ed7953"
             ],
             [
              0.7777777777777778,
              "#fb9f3a"
             ],
             [
              0.8888888888888888,
              "#fdca26"
             ],
             [
              1,
              "#f0f921"
             ]
            ],
            "type": "histogram2d"
           }
          ],
          "histogram2dcontour": [
           {
            "colorbar": {
             "outlinewidth": 0,
             "ticks": ""
            },
            "colorscale": [
             [
              0,
              "#0d0887"
             ],
             [
              0.1111111111111111,
              "#46039f"
             ],
             [
              0.2222222222222222,
              "#7201a8"
             ],
             [
              0.3333333333333333,
              "#9c179e"
             ],
             [
              0.4444444444444444,
              "#bd3786"
             ],
             [
              0.5555555555555556,
              "#d8576b"
             ],
             [
              0.6666666666666666,
              "#ed7953"
             ],
             [
              0.7777777777777778,
              "#fb9f3a"
             ],
             [
              0.8888888888888888,
              "#fdca26"
             ],
             [
              1,
              "#f0f921"
             ]
            ],
            "type": "histogram2dcontour"
           }
          ],
          "mesh3d": [
           {
            "colorbar": {
             "outlinewidth": 0,
             "ticks": ""
            },
            "type": "mesh3d"
           }
          ],
          "parcoords": [
           {
            "line": {
             "colorbar": {
              "outlinewidth": 0,
              "ticks": ""
             }
            },
            "type": "parcoords"
           }
          ],
          "pie": [
           {
            "automargin": true,
            "type": "pie"
           }
          ],
          "scatter": [
           {
            "fillpattern": {
             "fillmode": "overlay",
             "size": 10,
             "solidity": 0.2
            },
            "type": "scatter"
           }
          ],
          "scatter3d": [
           {
            "line": {
             "colorbar": {
              "outlinewidth": 0,
              "ticks": ""
             }
            },
            "marker": {
             "colorbar": {
              "outlinewidth": 0,
              "ticks": ""
             }
            },
            "type": "scatter3d"
           }
          ],
          "scattercarpet": [
           {
            "marker": {
             "colorbar": {
              "outlinewidth": 0,
              "ticks": ""
             }
            },
            "type": "scattercarpet"
           }
          ],
          "scattergeo": [
           {
            "marker": {
             "colorbar": {
              "outlinewidth": 0,
              "ticks": ""
             }
            },
            "type": "scattergeo"
           }
          ],
          "scattergl": [
           {
            "marker": {
             "colorbar": {
              "outlinewidth": 0,
              "ticks": ""
             }
            },
            "type": "scattergl"
           }
          ],
          "scattermapbox": [
           {
            "marker": {
             "colorbar": {
              "outlinewidth": 0,
              "ticks": ""
             }
            },
            "type": "scattermapbox"
           }
          ],
          "scatterpolar": [
           {
            "marker": {
             "colorbar": {
              "outlinewidth": 0,
              "ticks": ""
             }
            },
            "type": "scatterpolar"
           }
          ],
          "scatterpolargl": [
           {
            "marker": {
             "colorbar": {
              "outlinewidth": 0,
              "ticks": ""
             }
            },
            "type": "scatterpolargl"
           }
          ],
          "scatterternary": [
           {
            "marker": {
             "colorbar": {
              "outlinewidth": 0,
              "ticks": ""
             }
            },
            "type": "scatterternary"
           }
          ],
          "surface": [
           {
            "colorbar": {
             "outlinewidth": 0,
             "ticks": ""
            },
            "colorscale": [
             [
              0,
              "#0d0887"
             ],
             [
              0.1111111111111111,
              "#46039f"
             ],
             [
              0.2222222222222222,
              "#7201a8"
             ],
             [
              0.3333333333333333,
              "#9c179e"
             ],
             [
              0.4444444444444444,
              "#bd3786"
             ],
             [
              0.5555555555555556,
              "#d8576b"
             ],
             [
              0.6666666666666666,
              "#ed7953"
             ],
             [
              0.7777777777777778,
              "#fb9f3a"
             ],
             [
              0.8888888888888888,
              "#fdca26"
             ],
             [
              1,
              "#f0f921"
             ]
            ],
            "type": "surface"
           }
          ],
          "table": [
           {
            "cells": {
             "fill": {
              "color": "#EBF0F8"
             },
             "line": {
              "color": "white"
             }
            },
            "header": {
             "fill": {
              "color": "#C8D4E3"
             },
             "line": {
              "color": "white"
             }
            },
            "type": "table"
           }
          ]
         },
         "layout": {
          "annotationdefaults": {
           "arrowcolor": "#2a3f5f",
           "arrowhead": 0,
           "arrowwidth": 1
          },
          "autotypenumbers": "strict",
          "coloraxis": {
           "colorbar": {
            "outlinewidth": 0,
            "ticks": ""
           }
          },
          "colorscale": {
           "diverging": [
            [
             0,
             "#8e0152"
            ],
            [
             0.1,
             "#c51b7d"
            ],
            [
             0.2,
             "#de77ae"
            ],
            [
             0.3,
             "#f1b6da"
            ],
            [
             0.4,
             "#fde0ef"
            ],
            [
             0.5,
             "#f7f7f7"
            ],
            [
             0.6,
             "#e6f5d0"
            ],
            [
             0.7,
             "#b8e186"
            ],
            [
             0.8,
             "#7fbc41"
            ],
            [
             0.9,
             "#4d9221"
            ],
            [
             1,
             "#276419"
            ]
           ],
           "sequential": [
            [
             0,
             "#0d0887"
            ],
            [
             0.1111111111111111,
             "#46039f"
            ],
            [
             0.2222222222222222,
             "#7201a8"
            ],
            [
             0.3333333333333333,
             "#9c179e"
            ],
            [
             0.4444444444444444,
             "#bd3786"
            ],
            [
             0.5555555555555556,
             "#d8576b"
            ],
            [
             0.6666666666666666,
             "#ed7953"
            ],
            [
             0.7777777777777778,
             "#fb9f3a"
            ],
            [
             0.8888888888888888,
             "#fdca26"
            ],
            [
             1,
             "#f0f921"
            ]
           ],
           "sequentialminus": [
            [
             0,
             "#0d0887"
            ],
            [
             0.1111111111111111,
             "#46039f"
            ],
            [
             0.2222222222222222,
             "#7201a8"
            ],
            [
             0.3333333333333333,
             "#9c179e"
            ],
            [
             0.4444444444444444,
             "#bd3786"
            ],
            [
             0.5555555555555556,
             "#d8576b"
            ],
            [
             0.6666666666666666,
             "#ed7953"
            ],
            [
             0.7777777777777778,
             "#fb9f3a"
            ],
            [
             0.8888888888888888,
             "#fdca26"
            ],
            [
             1,
             "#f0f921"
            ]
           ]
          },
          "colorway": [
           "#636efa",
           "#EF553B",
           "#00cc96",
           "#ab63fa",
           "#FFA15A",
           "#19d3f3",
           "#FF6692",
           "#B6E880",
           "#FF97FF",
           "#FECB52"
          ],
          "font": {
           "color": "#2a3f5f"
          },
          "geo": {
           "bgcolor": "white",
           "lakecolor": "white",
           "landcolor": "#E5ECF6",
           "showlakes": true,
           "showland": true,
           "subunitcolor": "white"
          },
          "hoverlabel": {
           "align": "left"
          },
          "hovermode": "closest",
          "mapbox": {
           "style": "light"
          },
          "paper_bgcolor": "white",
          "plot_bgcolor": "#E5ECF6",
          "polar": {
           "angularaxis": {
            "gridcolor": "white",
            "linecolor": "white",
            "ticks": ""
           },
           "bgcolor": "#E5ECF6",
           "radialaxis": {
            "gridcolor": "white",
            "linecolor": "white",
            "ticks": ""
           }
          },
          "scene": {
           "xaxis": {
            "backgroundcolor": "#E5ECF6",
            "gridcolor": "white",
            "gridwidth": 2,
            "linecolor": "white",
            "showbackground": true,
            "ticks": "",
            "zerolinecolor": "white"
           },
           "yaxis": {
            "backgroundcolor": "#E5ECF6",
            "gridcolor": "white",
            "gridwidth": 2,
            "linecolor": "white",
            "showbackground": true,
            "ticks": "",
            "zerolinecolor": "white"
           },
           "zaxis": {
            "backgroundcolor": "#E5ECF6",
            "gridcolor": "white",
            "gridwidth": 2,
            "linecolor": "white",
            "showbackground": true,
            "ticks": "",
            "zerolinecolor": "white"
           }
          },
          "shapedefaults": {
           "line": {
            "color": "#2a3f5f"
           }
          },
          "ternary": {
           "aaxis": {
            "gridcolor": "white",
            "linecolor": "white",
            "ticks": ""
           },
           "baxis": {
            "gridcolor": "white",
            "linecolor": "white",
            "ticks": ""
           },
           "bgcolor": "#E5ECF6",
           "caxis": {
            "gridcolor": "white",
            "linecolor": "white",
            "ticks": ""
           }
          },
          "title": {
           "x": 0.05
          },
          "xaxis": {
           "automargin": true,
           "gridcolor": "white",
           "linecolor": "white",
           "ticks": "",
           "title": {
            "standoff": 15
           },
           "zerolinecolor": "white",
           "zerolinewidth": 2
          },
          "yaxis": {
           "automargin": true,
           "gridcolor": "white",
           "linecolor": "white",
           "ticks": "",
           "title": {
            "standoff": 15
           },
           "zerolinecolor": "white",
           "zerolinewidth": 2
          }
         }
        },
        "title": {
         "text": "World map of Life expectancy at birth"
        },
        "updatemenus": [
         {
          "buttons": [
           {
            "args": [
             null,
             {
              "frame": {
               "duration": 500,
               "redraw": true
              },
              "fromcurrent": true,
              "mode": "immediate",
              "transition": {
               "duration": 500,
               "easing": "linear"
              }
             }
            ],
            "label": "&#9654;",
            "method": "animate"
           },
           {
            "args": [
             [
              null
             ],
             {
              "frame": {
               "duration": 0,
               "redraw": true
              },
              "fromcurrent": true,
              "mode": "immediate",
              "transition": {
               "duration": 0,
               "easing": "linear"
              }
             }
            ],
            "label": "&#9724;",
            "method": "animate"
           }
          ],
          "direction": "left",
          "pad": {
           "r": 10,
           "t": 70
          },
          "showactive": false,
          "type": "buttons",
          "x": 0.1,
          "xanchor": "right",
          "y": 0,
          "yanchor": "top"
         }
        ]
       }
      },
      "text/html": [
       "<div>                            <div id=\"1d81eccc-efee-4ae1-ac10-0ccd9aa845b6\" class=\"plotly-graph-div\" style=\"height:600px; width:100%;\"></div>            <script type=\"text/javascript\">                require([\"plotly\"], function(Plotly) {                    window.PLOTLYENV=window.PLOTLYENV || {};                                    if (document.getElementById(\"1d81eccc-efee-4ae1-ac10-0ccd9aa845b6\")) {                    Plotly.newPlot(                        \"1d81eccc-efee-4ae1-ac10-0ccd9aa845b6\",                        [{\"coloraxis\":\"coloraxis\",\"geo\":\"geo\",\"hovertemplate\":\"\\u003cb\\u003e%{hovertext}\\u003c\\u002fb\\u003e\\u003cbr\\u003e\\u003cbr\\u003eYear=2018\\u003cbr\\u003eCountry=%{location}\\u003cbr\\u003eLife_expectancy_at_birth=%{z}\\u003cextra\\u003e\\u003c\\u002fextra\\u003e\",\"hovertext\":[\"Zimbabwe\",\"Zambia\",\"Yemen\",\"Vietnam\",\"Venezuela\",\"Uzbekistan\",\"Uruguay\",\"United States\",\"United Kingdom\",\"United Arab Emirates\",\"Ukraine\",\"Uganda\",\"Turkmenistan\",\"Turkey\",\"Tunisia\",\"Togo\",\"Thailand\",\"Tanzania\",\"Tajikistan\",\"Switzerland\",\"Sweden\",\"Sri Lanka\",\"Spain\",\"South Africa\",\"Slovenia\",\"Slovakia\",\"Singapore\",\"Sierra Leone\",\"Serbia\",\"Senegal\",\"Saudi Arabia\",\"Rwanda\",\"Russia\",\"Romania\",\"Portugal\",\"Poland\",\"Philippines\",\"Peru\",\"Paraguay\",\"Panama\",\"Pakistan\",\"Norway\",\"Nigeria\",\"Niger\",\"Nicaragua\",\"New Zealand\",\"Netherlands\",\"Nepal\",\"Myanmar\",\"Morocco\",\"Montenegro\",\"Mongolia\",\"Moldova\",\"Mexico\",\"Mauritius\",\"Mauritania\",\"Malta\",\"Mali\",\"Malaysia\",\"Malawi\",\"Madagascar\",\"Luxembourg\",\"Lithuania\",\"Libya\",\"Liberia\",\"Lebanon\",\"Latvia\",\"Kyrgyzstan\",\"Kuwait\",\"Kenya\",\"Kazakhstan\",\"Jordan\",\"Japan\",\"Jamaica\",\"Italy\",\"Israel\",\"Ireland\",\"Iraq\",\"Iran\",\"Indonesia\",\"India\",\"Iceland\",\"Hungary\",\"Honduras\",\"Haiti\",\"Guinea\",\"Guatemala\",\"Greece\",\"Ghana\",\"Germany\",\"Georgia\",\"Gabon\",\"France\",\"Finland\",\"Ethiopia\",\"Estonia\",\"El Salvador\",\"Egypt\",\"Ecuador\",\"Dominican Republic\",\"Denmark\",\"Cyprus\",\"Croatia\",\"Costa Rica\",\"Colombia\",\"China\",\"China\",\"Chile\",\"Chad\",\"Canada\",\"Cameroon\",\"Cambodia\",\"Burundi\",\"Burkina Faso\",\"Bulgaria\",\"Brazil\",\"Botswana\",\"Bosnia and Herzegovina\",\"Bolivia\",\"Benin\",\"Belgium\",\"Belarus\",\"Bangladesh\",\"Bahrain\",\"Azerbaijan\",\"Austria\",\"Australia\",\"Armenia\",\"Argentina\",\"Algeria\",\"Albania\",\"Afghanistan\"],\"ids\":[\"Zimbabwe\",\"Zambia\",\"Yemen\",\"Vietnam\",\"Venezuela\",\"Uzbekistan\",\"Uruguay\",\"United States\",\"United Kingdom\",\"United Arab Emirates\",\"Ukraine\",\"Uganda\",\"Turkmenistan\",\"Turkey\",\"Tunisia\",\"Togo\",\"Thailand\",\"Tanzania\",\"Tajikistan\",\"Switzerland\",\"Sweden\",\"Sri Lanka\",\"Spain\",\"South Africa\",\"Slovenia\",\"Slovakia\",\"Singapore\",\"Sierra Leone\",\"Serbia\",\"Senegal\",\"Saudi Arabia\",\"Rwanda\",\"Russia\",\"Romania\",\"Portugal\",\"Poland\",\"Philippines\",\"Peru\",\"Paraguay\",\"Panama\",\"Pakistan\",\"Norway\",\"Nigeria\",\"Niger\",\"Nicaragua\",\"New Zealand\",\"Netherlands\",\"Nepal\",\"Myanmar\",\"Morocco\",\"Montenegro\",\"Mongolia\",\"Moldova\",\"Mexico\",\"Mauritius\",\"Mauritania\",\"Malta\",\"Mali\",\"Malaysia\",\"Malawi\",\"Madagascar\",\"Luxembourg\",\"Lithuania\",\"Libya\",\"Liberia\",\"Lebanon\",\"Latvia\",\"Kyrgyzstan\",\"Kuwait\",\"Kenya\",\"Kazakhstan\",\"Jordan\",\"Japan\",\"Jamaica\",\"Italy\",\"Israel\",\"Ireland\",\"Iraq\",\"Iran\",\"Indonesia\",\"India\",\"Iceland\",\"Hungary\",\"Honduras\",\"Haiti\",\"Guinea\",\"Guatemala\",\"Greece\",\"Ghana\",\"Germany\",\"Georgia\",\"Gabon\",\"France\",\"Finland\",\"Ethiopia\",\"Estonia\",\"El Salvador\",\"Egypt\",\"Ecuador\",\"Dominican Republic\",\"Denmark\",\"Cyprus\",\"Croatia\",\"Costa Rica\",\"Colombia\",\"China\",\"China\",\"Chile\",\"Chad\",\"Canada\",\"Cameroon\",\"Cambodia\",\"Burundi\",\"Burkina Faso\",\"Bulgaria\",\"Brazil\",\"Botswana\",\"Bosnia and Herzegovina\",\"Bolivia\",\"Benin\",\"Belgium\",\"Belarus\",\"Bangladesh\",\"Bahrain\",\"Azerbaijan\",\"Austria\",\"Australia\",\"Armenia\",\"Argentina\",\"Algeria\",\"Albania\",\"Afghanistan\"],\"locationmode\":\"country names\",\"locations\":[\"Zimbabwe\",\"Zambia\",\"Yemen\",\"Vietnam\",\"Venezuela\",\"Uzbekistan\",\"Uruguay\",\"United States\",\"United Kingdom\",\"United Arab Emirates\",\"Ukraine\",\"Uganda\",\"Turkmenistan\",\"Turkey\",\"Tunisia\",\"Togo\",\"Thailand\",\"Tanzania\",\"Tajikistan\",\"Switzerland\",\"Sweden\",\"Sri Lanka\",\"Spain\",\"South Africa\",\"Slovenia\",\"Slovakia\",\"Singapore\",\"Sierra Leone\",\"Serbia\",\"Senegal\",\"Saudi Arabia\",\"Rwanda\",\"Russia\",\"Romania\",\"Portugal\",\"Poland\",\"Philippines\",\"Peru\",\"Paraguay\",\"Panama\",\"Pakistan\",\"Norway\",\"Nigeria\",\"Niger\",\"Nicaragua\",\"New Zealand\",\"Netherlands\",\"Nepal\",\"Myanmar\",\"Morocco\",\"Montenegro\",\"Mongolia\",\"Moldova\",\"Mexico\",\"Mauritius\",\"Mauritania\",\"Malta\",\"Mali\",\"Malaysia\",\"Malawi\",\"Madagascar\",\"Luxembourg\",\"Lithuania\",\"Libya\",\"Liberia\",\"Lebanon\",\"Latvia\",\"Kyrgyzstan\",\"Kuwait\",\"Kenya\",\"Kazakhstan\",\"Jordan\",\"Japan\",\"Jamaica\",\"Italy\",\"Israel\",\"Ireland\",\"Iraq\",\"Iran\",\"Indonesia\",\"India\",\"Iceland\",\"Hungary\",\"Honduras\",\"Haiti\",\"Guinea\",\"Guatemala\",\"Greece\",\"Ghana\",\"Germany\",\"Georgia\",\"Gabon\",\"France\",\"Finland\",\"Ethiopia\",\"Estonia\",\"El Salvador\",\"Egypt\",\"Ecuador\",\"Dominican Republic\",\"Denmark\",\"Cyprus\",\"Croatia\",\"Costa Rica\",\"Colombia\",\"China\",\"China\",\"Chile\",\"Chad\",\"Canada\",\"Cameroon\",\"Cambodia\",\"Burundi\",\"Burkina Faso\",\"Bulgaria\",\"Brazil\",\"Botswana\",\"Bosnia and Herzegovina\",\"Bolivia\",\"Benin\",\"Belgium\",\"Belarus\",\"Bangladesh\",\"Bahrain\",\"Azerbaijan\",\"Austria\",\"Australia\",\"Armenia\",\"Argentina\",\"Algeria\",\"Albania\",\"Afghanistan\"],\"name\":\"\",\"z\":[61.2,63.51,66.1,75.32,72.13,71.57,77.77,78.85,81.24,77.81,71.95,62.97,68.07,77.44,76.51,60.76,76.93,65.02,70.88,83.63,82.65,76.81,83.43,63.86,81.17,77.39,83.46,54.31,75.85,67.67,75.0,68.7,72.39,75.92,81.86,78.54,71.1,76.52,74.13,78.33,67.11,82.27,54.33,62.02,74.28,82.15,82.14,70.48,66.87,76.45,76.77,69.69,71.81,74.99,74.86,64.7,82.38,58.89,76.0,63.8,66.68,82.1,75.74,72.72,63.73,78.88,75.17,71.32,75.4,66.34,73.24,74.41,84.47,74.37,83.35,82.82,82.1,70.45,76.48,71.51,69.42,82.86,76.7,75.09,63.66,61.19,74.06,82.07,63.78,81.18,73.6,66.19,82.54,81.74,66.24,78.57,73.1,71.83,76.8,73.89,80.78,80.83,78.34,80.1,77.11,84.69,76.7,80.04,53.98,82.32,58.92,69.57,61.25,61.17,74.93,75.67,69.28,77.26,71.24,61.47,81.47,74.59,72.32,77.16,72.86,81.43,83.28,74.95,76.52,76.69,78.46,64.49],\"type\":\"choropleth\"}],                        {\"template\":{\"data\":{\"histogram2dcontour\":[{\"type\":\"histogram2dcontour\",\"colorbar\":{\"outlinewidth\":0,\"ticks\":\"\"},\"colorscale\":[[0.0,\"#0d0887\"],[0.1111111111111111,\"#46039f\"],[0.2222222222222222,\"#7201a8\"],[0.3333333333333333,\"#9c179e\"],[0.4444444444444444,\"#bd3786\"],[0.5555555555555556,\"#d8576b\"],[0.6666666666666666,\"#ed7953\"],[0.7777777777777778,\"#fb9f3a\"],[0.8888888888888888,\"#fdca26\"],[1.0,\"#f0f921\"]]}],\"choropleth\":[{\"type\":\"choropleth\",\"colorbar\":{\"outlinewidth\":0,\"ticks\":\"\"}}],\"histogram2d\":[{\"type\":\"histogram2d\",\"colorbar\":{\"outlinewidth\":0,\"ticks\":\"\"},\"colorscale\":[[0.0,\"#0d0887\"],[0.1111111111111111,\"#46039f\"],[0.2222222222222222,\"#7201a8\"],[0.3333333333333333,\"#9c179e\"],[0.4444444444444444,\"#bd3786\"],[0.5555555555555556,\"#d8576b\"],[0.6666666666666666,\"#ed7953\"],[0.7777777777777778,\"#fb9f3a\"],[0.8888888888888888,\"#fdca26\"],[1.0,\"#f0f921\"]]}],\"heatmap\":[{\"type\":\"heatmap\",\"colorbar\":{\"outlinewidth\":0,\"ticks\":\"\"},\"colorscale\":[[0.0,\"#0d0887\"],[0.1111111111111111,\"#46039f\"],[0.2222222222222222,\"#7201a8\"],[0.3333333333333333,\"#9c179e\"],[0.4444444444444444,\"#bd3786\"],[0.5555555555555556,\"#d8576b\"],[0.6666666666666666,\"#ed7953\"],[0.7777777777777778,\"#fb9f3a\"],[0.8888888888888888,\"#fdca26\"],[1.0,\"#f0f921\"]]}],\"heatmapgl\":[{\"type\":\"heatmapgl\",\"colorbar\":{\"outlinewidth\":0,\"ticks\":\"\"},\"colorscale\":[[0.0,\"#0d0887\"],[0.1111111111111111,\"#46039f\"],[0.2222222222222222,\"#7201a8\"],[0.3333333333333333,\"#9c179e\"],[0.4444444444444444,\"#bd3786\"],[0.5555555555555556,\"#d8576b\"],[0.6666666666666666,\"#ed7953\"],[0.7777777777777778,\"#fb9f3a\"],[0.8888888888888888,\"#fdca26\"],[1.0,\"#f0f921\"]]}],\"contourcarpet\":[{\"type\":\"contourcarpet\",\"colorbar\":{\"outlinewidth\":0,\"ticks\":\"\"}}],\"contour\":[{\"type\":\"contour\",\"colorbar\":{\"outlinewidth\":0,\"ticks\":\"\"},\"colorscale\":[[0.0,\"#0d0887\"],[0.1111111111111111,\"#46039f\"],[0.2222222222222222,\"#7201a8\"],[0.3333333333333333,\"#9c179e\"],[0.4444444444444444,\"#bd3786\"],[0.5555555555555556,\"#d8576b\"],[0.6666666666666666,\"#ed7953\"],[0.7777777777777778,\"#fb9f3a\"],[0.8888888888888888,\"#fdca26\"],[1.0,\"#f0f921\"]]}],\"surface\":[{\"type\":\"surface\",\"colorbar\":{\"outlinewidth\":0,\"ticks\":\"\"},\"colorscale\":[[0.0,\"#0d0887\"],[0.1111111111111111,\"#46039f\"],[0.2222222222222222,\"#7201a8\"],[0.3333333333333333,\"#9c179e\"],[0.4444444444444444,\"#bd3786\"],[0.5555555555555556,\"#d8576b\"],[0.6666666666666666,\"#ed7953\"],[0.7777777777777778,\"#fb9f3a\"],[0.8888888888888888,\"#fdca26\"],[1.0,\"#f0f921\"]]}],\"mesh3d\":[{\"type\":\"mesh3d\",\"colorbar\":{\"outlinewidth\":0,\"ticks\":\"\"}}],\"scatter\":[{\"fillpattern\":{\"fillmode\":\"overlay\",\"size\":10,\"solidity\":0.2},\"type\":\"scatter\"}],\"parcoords\":[{\"type\":\"parcoords\",\"line\":{\"colorbar\":{\"outlinewidth\":0,\"ticks\":\"\"}}}],\"scatterpolargl\":[{\"type\":\"scatterpolargl\",\"marker\":{\"colorbar\":{\"outlinewidth\":0,\"ticks\":\"\"}}}],\"bar\":[{\"error_x\":{\"color\":\"#2a3f5f\"},\"error_y\":{\"color\":\"#2a3f5f\"},\"marker\":{\"line\":{\"color\":\"#E5ECF6\",\"width\":0.5},\"pattern\":{\"fillmode\":\"overlay\",\"size\":10,\"solidity\":0.2}},\"type\":\"bar\"}],\"scattergeo\":[{\"type\":\"scattergeo\",\"marker\":{\"colorbar\":{\"outlinewidth\":0,\"ticks\":\"\"}}}],\"scatterpolar\":[{\"type\":\"scatterpolar\",\"marker\":{\"colorbar\":{\"outlinewidth\":0,\"ticks\":\"\"}}}],\"histogram\":[{\"marker\":{\"pattern\":{\"fillmode\":\"overlay\",\"size\":10,\"solidity\":0.2}},\"type\":\"histogram\"}],\"scattergl\":[{\"type\":\"scattergl\",\"marker\":{\"colorbar\":{\"outlinewidth\":0,\"ticks\":\"\"}}}],\"scatter3d\":[{\"type\":\"scatter3d\",\"line\":{\"colorbar\":{\"outlinewidth\":0,\"ticks\":\"\"}},\"marker\":{\"colorbar\":{\"outlinewidth\":0,\"ticks\":\"\"}}}],\"scattermapbox\":[{\"type\":\"scattermapbox\",\"marker\":{\"colorbar\":{\"outlinewidth\":0,\"ticks\":\"\"}}}],\"scatterternary\":[{\"type\":\"scatterternary\",\"marker\":{\"colorbar\":{\"outlinewidth\":0,\"ticks\":\"\"}}}],\"scattercarpet\":[{\"type\":\"scattercarpet\",\"marker\":{\"colorbar\":{\"outlinewidth\":0,\"ticks\":\"\"}}}],\"carpet\":[{\"aaxis\":{\"endlinecolor\":\"#2a3f5f\",\"gridcolor\":\"white\",\"linecolor\":\"white\",\"minorgridcolor\":\"white\",\"startlinecolor\":\"#2a3f5f\"},\"baxis\":{\"endlinecolor\":\"#2a3f5f\",\"gridcolor\":\"white\",\"linecolor\":\"white\",\"minorgridcolor\":\"white\",\"startlinecolor\":\"#2a3f5f\"},\"type\":\"carpet\"}],\"table\":[{\"cells\":{\"fill\":{\"color\":\"#EBF0F8\"},\"line\":{\"color\":\"white\"}},\"header\":{\"fill\":{\"color\":\"#C8D4E3\"},\"line\":{\"color\":\"white\"}},\"type\":\"table\"}],\"barpolar\":[{\"marker\":{\"line\":{\"color\":\"#E5ECF6\",\"width\":0.5},\"pattern\":{\"fillmode\":\"overlay\",\"size\":10,\"solidity\":0.2}},\"type\":\"barpolar\"}],\"pie\":[{\"automargin\":true,\"type\":\"pie\"}]},\"layout\":{\"autotypenumbers\":\"strict\",\"colorway\":[\"#636efa\",\"#EF553B\",\"#00cc96\",\"#ab63fa\",\"#FFA15A\",\"#19d3f3\",\"#FF6692\",\"#B6E880\",\"#FF97FF\",\"#FECB52\"],\"font\":{\"color\":\"#2a3f5f\"},\"hovermode\":\"closest\",\"hoverlabel\":{\"align\":\"left\"},\"paper_bgcolor\":\"white\",\"plot_bgcolor\":\"#E5ECF6\",\"polar\":{\"bgcolor\":\"#E5ECF6\",\"angularaxis\":{\"gridcolor\":\"white\",\"linecolor\":\"white\",\"ticks\":\"\"},\"radialaxis\":{\"gridcolor\":\"white\",\"linecolor\":\"white\",\"ticks\":\"\"}},\"ternary\":{\"bgcolor\":\"#E5ECF6\",\"aaxis\":{\"gridcolor\":\"white\",\"linecolor\":\"white\",\"ticks\":\"\"},\"baxis\":{\"gridcolor\":\"white\",\"linecolor\":\"white\",\"ticks\":\"\"},\"caxis\":{\"gridcolor\":\"white\",\"linecolor\":\"white\",\"ticks\":\"\"}},\"coloraxis\":{\"colorbar\":{\"outlinewidth\":0,\"ticks\":\"\"}},\"colorscale\":{\"sequential\":[[0.0,\"#0d0887\"],[0.1111111111111111,\"#46039f\"],[0.2222222222222222,\"#7201a8\"],[0.3333333333333333,\"#9c179e\"],[0.4444444444444444,\"#bd3786\"],[0.5555555555555556,\"#d8576b\"],[0.6666666666666666,\"#ed7953\"],[0.7777777777777778,\"#fb9f3a\"],[0.8888888888888888,\"#fdca26\"],[1.0,\"#f0f921\"]],\"sequentialminus\":[[0.0,\"#0d0887\"],[0.1111111111111111,\"#46039f\"],[0.2222222222222222,\"#7201a8\"],[0.3333333333333333,\"#9c179e\"],[0.4444444444444444,\"#bd3786\"],[0.5555555555555556,\"#d8576b\"],[0.6666666666666666,\"#ed7953\"],[0.7777777777777778,\"#fb9f3a\"],[0.8888888888888888,\"#fdca26\"],[1.0,\"#f0f921\"]],\"diverging\":[[0,\"#8e0152\"],[0.1,\"#c51b7d\"],[0.2,\"#de77ae\"],[0.3,\"#f1b6da\"],[0.4,\"#fde0ef\"],[0.5,\"#f7f7f7\"],[0.6,\"#e6f5d0\"],[0.7,\"#b8e186\"],[0.8,\"#7fbc41\"],[0.9,\"#4d9221\"],[1,\"#276419\"]]},\"xaxis\":{\"gridcolor\":\"white\",\"linecolor\":\"white\",\"ticks\":\"\",\"title\":{\"standoff\":15},\"zerolinecolor\":\"white\",\"automargin\":true,\"zerolinewidth\":2},\"yaxis\":{\"gridcolor\":\"white\",\"linecolor\":\"white\",\"ticks\":\"\",\"title\":{\"standoff\":15},\"zerolinecolor\":\"white\",\"automargin\":true,\"zerolinewidth\":2},\"scene\":{\"xaxis\":{\"backgroundcolor\":\"#E5ECF6\",\"gridcolor\":\"white\",\"linecolor\":\"white\",\"showbackground\":true,\"ticks\":\"\",\"zerolinecolor\":\"white\",\"gridwidth\":2},\"yaxis\":{\"backgroundcolor\":\"#E5ECF6\",\"gridcolor\":\"white\",\"linecolor\":\"white\",\"showbackground\":true,\"ticks\":\"\",\"zerolinecolor\":\"white\",\"gridwidth\":2},\"zaxis\":{\"backgroundcolor\":\"#E5ECF6\",\"gridcolor\":\"white\",\"linecolor\":\"white\",\"showbackground\":true,\"ticks\":\"\",\"zerolinecolor\":\"white\",\"gridwidth\":2}},\"shapedefaults\":{\"line\":{\"color\":\"#2a3f5f\"}},\"annotationdefaults\":{\"arrowcolor\":\"#2a3f5f\",\"arrowhead\":0,\"arrowwidth\":1},\"geo\":{\"bgcolor\":\"white\",\"landcolor\":\"#E5ECF6\",\"subunitcolor\":\"white\",\"showland\":true,\"showlakes\":true,\"lakecolor\":\"white\"},\"title\":{\"x\":0.05},\"mapbox\":{\"style\":\"light\"}}},\"geo\":{\"domain\":{\"x\":[0.0,1.0],\"y\":[0.0,1.0]},\"projection\":{\"type\":\"natural earth\"},\"center\":{}},\"coloraxis\":{\"colorbar\":{\"title\":{\"text\":\"Life_expectancy_at_birth\"}},\"colorscale\":[[0.0,\"#440154\"],[0.1111111111111111,\"#482878\"],[0.2222222222222222,\"#3e4989\"],[0.3333333333333333,\"#31688e\"],[0.4444444444444444,\"#26828e\"],[0.5555555555555556,\"#1f9e89\"],[0.6666666666666666,\"#35b779\"],[0.7777777777777778,\"#6ece58\"],[0.8888888888888888,\"#b5de2b\"],[1.0,\"#fde725\"]]},\"legend\":{\"tracegroupgap\":0},\"margin\":{\"t\":40,\"r\":0,\"l\":0,\"b\":0},\"updatemenus\":[{\"buttons\":[{\"args\":[null,{\"frame\":{\"duration\":500,\"redraw\":true},\"mode\":\"immediate\",\"fromcurrent\":true,\"transition\":{\"duration\":500,\"easing\":\"linear\"}}],\"label\":\"&#9654;\",\"method\":\"animate\"},{\"args\":[[null],{\"frame\":{\"duration\":0,\"redraw\":true},\"mode\":\"immediate\",\"fromcurrent\":true,\"transition\":{\"duration\":0,\"easing\":\"linear\"}}],\"label\":\"&#9724;\",\"method\":\"animate\"}],\"direction\":\"left\",\"pad\":{\"r\":10,\"t\":70},\"showactive\":false,\"type\":\"buttons\",\"x\":0.1,\"xanchor\":\"right\",\"y\":0,\"yanchor\":\"top\"}],\"sliders\":[{\"active\":0,\"currentvalue\":{\"prefix\":\"Year=\"},\"len\":0.9,\"pad\":{\"b\":10,\"t\":60},\"steps\":[{\"args\":[[\"2018\"],{\"frame\":{\"duration\":0,\"redraw\":true},\"mode\":\"immediate\",\"fromcurrent\":true,\"transition\":{\"duration\":0,\"easing\":\"linear\"}}],\"label\":\"2018\",\"method\":\"animate\"},{\"args\":[[\"2017\"],{\"frame\":{\"duration\":0,\"redraw\":true},\"mode\":\"immediate\",\"fromcurrent\":true,\"transition\":{\"duration\":0,\"easing\":\"linear\"}}],\"label\":\"2017\",\"method\":\"animate\"},{\"args\":[[\"2016\"],{\"frame\":{\"duration\":0,\"redraw\":true},\"mode\":\"immediate\",\"fromcurrent\":true,\"transition\":{\"duration\":0,\"easing\":\"linear\"}}],\"label\":\"2016\",\"method\":\"animate\"},{\"args\":[[\"2015\"],{\"frame\":{\"duration\":0,\"redraw\":true},\"mode\":\"immediate\",\"fromcurrent\":true,\"transition\":{\"duration\":0,\"easing\":\"linear\"}}],\"label\":\"2015\",\"method\":\"animate\"}],\"x\":0.1,\"xanchor\":\"left\",\"y\":0,\"yanchor\":\"top\"}],\"height\":600,\"title\":{\"text\":\"World map of Life expectancy at birth\"}},                        {\"responsive\": true}                    ).then(function(){\n",
       "                            Plotly.addFrames('1d81eccc-efee-4ae1-ac10-0ccd9aa845b6', [{\"data\":[{\"coloraxis\":\"coloraxis\",\"geo\":\"geo\",\"hovertemplate\":\"\\u003cb\\u003e%{hovertext}\\u003c\\u002fb\\u003e\\u003cbr\\u003e\\u003cbr\\u003eYear=2018\\u003cbr\\u003eCountry=%{location}\\u003cbr\\u003eLife_expectancy_at_birth=%{z}\\u003cextra\\u003e\\u003c\\u002fextra\\u003e\",\"hovertext\":[\"Zimbabwe\",\"Zambia\",\"Yemen\",\"Vietnam\",\"Venezuela\",\"Uzbekistan\",\"Uruguay\",\"United States\",\"United Kingdom\",\"United Arab Emirates\",\"Ukraine\",\"Uganda\",\"Turkmenistan\",\"Turkey\",\"Tunisia\",\"Togo\",\"Thailand\",\"Tanzania\",\"Tajikistan\",\"Switzerland\",\"Sweden\",\"Sri Lanka\",\"Spain\",\"South Africa\",\"Slovenia\",\"Slovakia\",\"Singapore\",\"Sierra Leone\",\"Serbia\",\"Senegal\",\"Saudi Arabia\",\"Rwanda\",\"Russia\",\"Romania\",\"Portugal\",\"Poland\",\"Philippines\",\"Peru\",\"Paraguay\",\"Panama\",\"Pakistan\",\"Norway\",\"Nigeria\",\"Niger\",\"Nicaragua\",\"New Zealand\",\"Netherlands\",\"Nepal\",\"Myanmar\",\"Morocco\",\"Montenegro\",\"Mongolia\",\"Moldova\",\"Mexico\",\"Mauritius\",\"Mauritania\",\"Malta\",\"Mali\",\"Malaysia\",\"Malawi\",\"Madagascar\",\"Luxembourg\",\"Lithuania\",\"Libya\",\"Liberia\",\"Lebanon\",\"Latvia\",\"Kyrgyzstan\",\"Kuwait\",\"Kenya\",\"Kazakhstan\",\"Jordan\",\"Japan\",\"Jamaica\",\"Italy\",\"Israel\",\"Ireland\",\"Iraq\",\"Iran\",\"Indonesia\",\"India\",\"Iceland\",\"Hungary\",\"Honduras\",\"Haiti\",\"Guinea\",\"Guatemala\",\"Greece\",\"Ghana\",\"Germany\",\"Georgia\",\"Gabon\",\"France\",\"Finland\",\"Ethiopia\",\"Estonia\",\"El Salvador\",\"Egypt\",\"Ecuador\",\"Dominican Republic\",\"Denmark\",\"Cyprus\",\"Croatia\",\"Costa Rica\",\"Colombia\",\"China\",\"China\",\"Chile\",\"Chad\",\"Canada\",\"Cameroon\",\"Cambodia\",\"Burundi\",\"Burkina Faso\",\"Bulgaria\",\"Brazil\",\"Botswana\",\"Bosnia and Herzegovina\",\"Bolivia\",\"Benin\",\"Belgium\",\"Belarus\",\"Bangladesh\",\"Bahrain\",\"Azerbaijan\",\"Austria\",\"Australia\",\"Armenia\",\"Argentina\",\"Algeria\",\"Albania\",\"Afghanistan\"],\"ids\":[\"Zimbabwe\",\"Zambia\",\"Yemen\",\"Vietnam\",\"Venezuela\",\"Uzbekistan\",\"Uruguay\",\"United States\",\"United Kingdom\",\"United Arab Emirates\",\"Ukraine\",\"Uganda\",\"Turkmenistan\",\"Turkey\",\"Tunisia\",\"Togo\",\"Thailand\",\"Tanzania\",\"Tajikistan\",\"Switzerland\",\"Sweden\",\"Sri Lanka\",\"Spain\",\"South Africa\",\"Slovenia\",\"Slovakia\",\"Singapore\",\"Sierra Leone\",\"Serbia\",\"Senegal\",\"Saudi Arabia\",\"Rwanda\",\"Russia\",\"Romania\",\"Portugal\",\"Poland\",\"Philippines\",\"Peru\",\"Paraguay\",\"Panama\",\"Pakistan\",\"Norway\",\"Nigeria\",\"Niger\",\"Nicaragua\",\"New Zealand\",\"Netherlands\",\"Nepal\",\"Myanmar\",\"Morocco\",\"Montenegro\",\"Mongolia\",\"Moldova\",\"Mexico\",\"Mauritius\",\"Mauritania\",\"Malta\",\"Mali\",\"Malaysia\",\"Malawi\",\"Madagascar\",\"Luxembourg\",\"Lithuania\",\"Libya\",\"Liberia\",\"Lebanon\",\"Latvia\",\"Kyrgyzstan\",\"Kuwait\",\"Kenya\",\"Kazakhstan\",\"Jordan\",\"Japan\",\"Jamaica\",\"Italy\",\"Israel\",\"Ireland\",\"Iraq\",\"Iran\",\"Indonesia\",\"India\",\"Iceland\",\"Hungary\",\"Honduras\",\"Haiti\",\"Guinea\",\"Guatemala\",\"Greece\",\"Ghana\",\"Germany\",\"Georgia\",\"Gabon\",\"France\",\"Finland\",\"Ethiopia\",\"Estonia\",\"El Salvador\",\"Egypt\",\"Ecuador\",\"Dominican Republic\",\"Denmark\",\"Cyprus\",\"Croatia\",\"Costa Rica\",\"Colombia\",\"China\",\"China\",\"Chile\",\"Chad\",\"Canada\",\"Cameroon\",\"Cambodia\",\"Burundi\",\"Burkina Faso\",\"Bulgaria\",\"Brazil\",\"Botswana\",\"Bosnia and Herzegovina\",\"Bolivia\",\"Benin\",\"Belgium\",\"Belarus\",\"Bangladesh\",\"Bahrain\",\"Azerbaijan\",\"Austria\",\"Australia\",\"Armenia\",\"Argentina\",\"Algeria\",\"Albania\",\"Afghanistan\"],\"locationmode\":\"country names\",\"locations\":[\"Zimbabwe\",\"Zambia\",\"Yemen\",\"Vietnam\",\"Venezuela\",\"Uzbekistan\",\"Uruguay\",\"United States\",\"United Kingdom\",\"United Arab Emirates\",\"Ukraine\",\"Uganda\",\"Turkmenistan\",\"Turkey\",\"Tunisia\",\"Togo\",\"Thailand\",\"Tanzania\",\"Tajikistan\",\"Switzerland\",\"Sweden\",\"Sri Lanka\",\"Spain\",\"South Africa\",\"Slovenia\",\"Slovakia\",\"Singapore\",\"Sierra Leone\",\"Serbia\",\"Senegal\",\"Saudi Arabia\",\"Rwanda\",\"Russia\",\"Romania\",\"Portugal\",\"Poland\",\"Philippines\",\"Peru\",\"Paraguay\",\"Panama\",\"Pakistan\",\"Norway\",\"Nigeria\",\"Niger\",\"Nicaragua\",\"New Zealand\",\"Netherlands\",\"Nepal\",\"Myanmar\",\"Morocco\",\"Montenegro\",\"Mongolia\",\"Moldova\",\"Mexico\",\"Mauritius\",\"Mauritania\",\"Malta\",\"Mali\",\"Malaysia\",\"Malawi\",\"Madagascar\",\"Luxembourg\",\"Lithuania\",\"Libya\",\"Liberia\",\"Lebanon\",\"Latvia\",\"Kyrgyzstan\",\"Kuwait\",\"Kenya\",\"Kazakhstan\",\"Jordan\",\"Japan\",\"Jamaica\",\"Italy\",\"Israel\",\"Ireland\",\"Iraq\",\"Iran\",\"Indonesia\",\"India\",\"Iceland\",\"Hungary\",\"Honduras\",\"Haiti\",\"Guinea\",\"Guatemala\",\"Greece\",\"Ghana\",\"Germany\",\"Georgia\",\"Gabon\",\"France\",\"Finland\",\"Ethiopia\",\"Estonia\",\"El Salvador\",\"Egypt\",\"Ecuador\",\"Dominican Republic\",\"Denmark\",\"Cyprus\",\"Croatia\",\"Costa Rica\",\"Colombia\",\"China\",\"China\",\"Chile\",\"Chad\",\"Canada\",\"Cameroon\",\"Cambodia\",\"Burundi\",\"Burkina Faso\",\"Bulgaria\",\"Brazil\",\"Botswana\",\"Bosnia and Herzegovina\",\"Bolivia\",\"Benin\",\"Belgium\",\"Belarus\",\"Bangladesh\",\"Bahrain\",\"Azerbaijan\",\"Austria\",\"Australia\",\"Armenia\",\"Argentina\",\"Algeria\",\"Albania\",\"Afghanistan\"],\"name\":\"\",\"z\":[61.2,63.51,66.1,75.32,72.13,71.57,77.77,78.85,81.24,77.81,71.95,62.97,68.07,77.44,76.51,60.76,76.93,65.02,70.88,83.63,82.65,76.81,83.43,63.86,81.17,77.39,83.46,54.31,75.85,67.67,75.0,68.7,72.39,75.92,81.86,78.54,71.1,76.52,74.13,78.33,67.11,82.27,54.33,62.02,74.28,82.15,82.14,70.48,66.87,76.45,76.77,69.69,71.81,74.99,74.86,64.7,82.38,58.89,76.0,63.8,66.68,82.1,75.74,72.72,63.73,78.88,75.17,71.32,75.4,66.34,73.24,74.41,84.47,74.37,83.35,82.82,82.1,70.45,76.48,71.51,69.42,82.86,76.7,75.09,63.66,61.19,74.06,82.07,63.78,81.18,73.6,66.19,82.54,81.74,66.24,78.57,73.1,71.83,76.8,73.89,80.78,80.83,78.34,80.1,77.11,84.69,76.7,80.04,53.98,82.32,58.92,69.57,61.25,61.17,74.93,75.67,69.28,77.26,71.24,61.47,81.47,74.59,72.32,77.16,72.86,81.43,83.28,74.95,76.52,76.69,78.46,64.49],\"type\":\"choropleth\"}],\"name\":\"2018\"},{\"data\":[{\"coloraxis\":\"coloraxis\",\"geo\":\"geo\",\"hovertemplate\":\"\\u003cb\\u003e%{hovertext}\\u003c\\u002fb\\u003e\\u003cbr\\u003e\\u003cbr\\u003eYear=2017\\u003cbr\\u003eCountry=%{location}\\u003cbr\\u003eLife_expectancy_at_birth=%{z}\\u003cextra\\u003e\\u003c\\u002fextra\\u003e\",\"hovertext\":[\"Zimbabwe\",\"Zambia\",\"Yemen\",\"Vietnam\",\"Venezuela\",\"Uzbekistan\",\"Uruguay\",\"United States\",\"United Kingdom\",\"United Arab Emirates\",\"Ukraine\",\"Uganda\",\"Turkmenistan\",\"Turkey\",\"Tunisia\",\"Togo\",\"Thailand\",\"Tanzania\",\"Tajikistan\",\"Switzerland\",\"Sweden\",\"Sri Lanka\",\"Spain\",\"South Africa\",\"Slovenia\",\"Slovakia\",\"Singapore\",\"Sierra Leone\",\"Serbia\",\"Senegal\",\"Saudi Arabia\",\"Rwanda\",\"Russia\",\"Romania\",\"Portugal\",\"Poland\",\"Philippines\",\"Peru\",\"Paraguay\",\"Panama\",\"Pakistan\",\"Norway\",\"Nigeria\",\"Niger\",\"Nicaragua\",\"New Zealand\",\"Netherlands\",\"Nepal\",\"Myanmar\",\"Morocco\",\"Montenegro\",\"Mongolia\",\"Moldova\",\"Mexico\",\"Mauritius\",\"Mauritania\",\"Malta\",\"Mali\",\"Malaysia\",\"Malawi\",\"Madagascar\",\"Luxembourg\",\"Lithuania\",\"Libya\",\"Liberia\",\"Lebanon\",\"Latvia\",\"Kyrgyzstan\",\"Kuwait\",\"Kenya\",\"Kazakhstan\",\"Jordan\",\"Japan\",\"Jamaica\",\"Italy\",\"Israel\",\"Ireland\",\"Iraq\",\"Iran\",\"Indonesia\",\"India\",\"Iceland\",\"Hungary\",\"Honduras\",\"Haiti\",\"Guinea\",\"Guatemala\",\"Greece\",\"Ghana\",\"Germany\",\"Georgia\",\"Gabon\",\"France\",\"Finland\",\"Ethiopia\",\"Estonia\",\"El Salvador\",\"Egypt\",\"Ecuador\",\"Dominican Republic\",\"Denmark\",\"Cyprus\",\"Croatia\",\"Costa Rica\",\"Colombia\",\"China\",\"China\",\"Chile\",\"Chad\",\"Canada\",\"Cameroon\",\"Cambodia\",\"Burundi\",\"Burkina Faso\",\"Bulgaria\",\"Brazil\",\"Botswana\",\"Bosnia and Herzegovina\",\"Bolivia\",\"Benin\",\"Belgium\",\"Belarus\",\"Bangladesh\",\"Bahrain\",\"Azerbaijan\",\"Austria\",\"Australia\",\"Armenia\",\"Argentina\",\"Algeria\",\"Albania\",\"Afghanistan\"],\"ids\":[\"Zimbabwe\",\"Zambia\",\"Yemen\",\"Vietnam\",\"Venezuela\",\"Uzbekistan\",\"Uruguay\",\"United States\",\"United Kingdom\",\"United Arab Emirates\",\"Ukraine\",\"Uganda\",\"Turkmenistan\",\"Turkey\",\"Tunisia\",\"Togo\",\"Thailand\",\"Tanzania\",\"Tajikistan\",\"Switzerland\",\"Sweden\",\"Sri Lanka\",\"Spain\",\"South Africa\",\"Slovenia\",\"Slovakia\",\"Singapore\",\"Sierra Leone\",\"Serbia\",\"Senegal\",\"Saudi Arabia\",\"Rwanda\",\"Russia\",\"Romania\",\"Portugal\",\"Poland\",\"Philippines\",\"Peru\",\"Paraguay\",\"Panama\",\"Pakistan\",\"Norway\",\"Nigeria\",\"Niger\",\"Nicaragua\",\"New Zealand\",\"Netherlands\",\"Nepal\",\"Myanmar\",\"Morocco\",\"Montenegro\",\"Mongolia\",\"Moldova\",\"Mexico\",\"Mauritius\",\"Mauritania\",\"Malta\",\"Mali\",\"Malaysia\",\"Malawi\",\"Madagascar\",\"Luxembourg\",\"Lithuania\",\"Libya\",\"Liberia\",\"Lebanon\",\"Latvia\",\"Kyrgyzstan\",\"Kuwait\",\"Kenya\",\"Kazakhstan\",\"Jordan\",\"Japan\",\"Jamaica\",\"Italy\",\"Israel\",\"Ireland\",\"Iraq\",\"Iran\",\"Indonesia\",\"India\",\"Iceland\",\"Hungary\",\"Honduras\",\"Haiti\",\"Guinea\",\"Guatemala\",\"Greece\",\"Ghana\",\"Germany\",\"Georgia\",\"Gabon\",\"France\",\"Finland\",\"Ethiopia\",\"Estonia\",\"El Salvador\",\"Egypt\",\"Ecuador\",\"Dominican Republic\",\"Denmark\",\"Cyprus\",\"Croatia\",\"Costa Rica\",\"Colombia\",\"China\",\"China\",\"Chile\",\"Chad\",\"Canada\",\"Cameroon\",\"Cambodia\",\"Burundi\",\"Burkina Faso\",\"Bulgaria\",\"Brazil\",\"Botswana\",\"Bosnia and Herzegovina\",\"Bolivia\",\"Benin\",\"Belgium\",\"Belarus\",\"Bangladesh\",\"Bahrain\",\"Azerbaijan\",\"Austria\",\"Australia\",\"Armenia\",\"Argentina\",\"Algeria\",\"Albania\",\"Afghanistan\"],\"locationmode\":\"country names\",\"locations\":[\"Zimbabwe\",\"Zambia\",\"Yemen\",\"Vietnam\",\"Venezuela\",\"Uzbekistan\",\"Uruguay\",\"United States\",\"United Kingdom\",\"United Arab Emirates\",\"Ukraine\",\"Uganda\",\"Turkmenistan\",\"Turkey\",\"Tunisia\",\"Togo\",\"Thailand\",\"Tanzania\",\"Tajikistan\",\"Switzerland\",\"Sweden\",\"Sri Lanka\",\"Spain\",\"South Africa\",\"Slovenia\",\"Slovakia\",\"Singapore\",\"Sierra Leone\",\"Serbia\",\"Senegal\",\"Saudi Arabia\",\"Rwanda\",\"Russia\",\"Romania\",\"Portugal\",\"Poland\",\"Philippines\",\"Peru\",\"Paraguay\",\"Panama\",\"Pakistan\",\"Norway\",\"Nigeria\",\"Niger\",\"Nicaragua\",\"New Zealand\",\"Netherlands\",\"Nepal\",\"Myanmar\",\"Morocco\",\"Montenegro\",\"Mongolia\",\"Moldova\",\"Mexico\",\"Mauritius\",\"Mauritania\",\"Malta\",\"Mali\",\"Malaysia\",\"Malawi\",\"Madagascar\",\"Luxembourg\",\"Lithuania\",\"Libya\",\"Liberia\",\"Lebanon\",\"Latvia\",\"Kyrgyzstan\",\"Kuwait\",\"Kenya\",\"Kazakhstan\",\"Jordan\",\"Japan\",\"Jamaica\",\"Italy\",\"Israel\",\"Ireland\",\"Iraq\",\"Iran\",\"Indonesia\",\"India\",\"Iceland\",\"Hungary\",\"Honduras\",\"Haiti\",\"Guinea\",\"Guatemala\",\"Greece\",\"Ghana\",\"Germany\",\"Georgia\",\"Gabon\",\"France\",\"Finland\",\"Ethiopia\",\"Estonia\",\"El Salvador\",\"Egypt\",\"Ecuador\",\"Dominican Republic\",\"Denmark\",\"Cyprus\",\"Croatia\",\"Costa Rica\",\"Colombia\",\"China\",\"China\",\"Chile\",\"Chad\",\"Canada\",\"Cameroon\",\"Cambodia\",\"Burundi\",\"Burkina Faso\",\"Bulgaria\",\"Brazil\",\"Botswana\",\"Bosnia and Herzegovina\",\"Bolivia\",\"Benin\",\"Belgium\",\"Belarus\",\"Bangladesh\",\"Bahrain\",\"Azerbaijan\",\"Austria\",\"Australia\",\"Armenia\",\"Argentina\",\"Algeria\",\"Albania\",\"Afghanistan\"],\"name\":\"\",\"z\":[60.812,63.043,66.086,75.241,72.246,71.388,77.632,78.861,81.168,77.647,71.84,62.516,67.956,77.161,76.31,60.489,76.683,64.479,70.647,83.473,82.516,76.648,83.294,63.538,81.016,77.219,83.279,53.895,75.684,67.38,74.874,68.341,72.139,75.79,81.655,78.338,70.952,76.286,73.992,78.149,66.947,82.146,53.95,61.599,74.068,82.002,82.004,70.169,66.558,76.218,76.667,69.509,71.717,74.947,74.743,64.464,82.221,58.452,75.828,63.279,66.311,81.955,75.507,72.52,63.295,78.833,75.048,71.193,75.311,65.909,72.728,74.292,84.29,74.267,83.184,82.663,81.872,70.294,76.271,71.282,69.165,82.725,76.498,74.898,63.29,60.706,73.81,81.901,63.463,81.039,73.414,65.839,82.432,81.561,65.872,78.354,72.872,71.656,76.584,73.689,80.681,80.672,78.197,79.914,76.925,76.47,76.47,79.909,53.712,82.21,58.511,69.289,60.898,60.768,74.815,75.456,68.812,77.128,70.945,61.174,81.305,74.34,72.052,77.032,72.693,81.34,83.122,74.797,76.372,76.499,78.333,64.13],\"type\":\"choropleth\"}],\"name\":\"2017\"},{\"data\":[{\"coloraxis\":\"coloraxis\",\"geo\":\"geo\",\"hovertemplate\":\"\\u003cb\\u003e%{hovertext}\\u003c\\u002fb\\u003e\\u003cbr\\u003e\\u003cbr\\u003eYear=2016\\u003cbr\\u003eCountry=%{location}\\u003cbr\\u003eLife_expectancy_at_birth=%{z}\\u003cextra\\u003e\\u003c\\u002fextra\\u003e\",\"hovertext\":[\"Zimbabwe\",\"Zambia\",\"Yemen\",\"Vietnam\",\"Venezuela\",\"Uzbekistan\",\"Uruguay\",\"United States\",\"United Kingdom\",\"United Arab Emirates\",\"Ukraine\",\"Uganda\",\"Turkmenistan\",\"Turkey\",\"Tunisia\",\"Togo\",\"Thailand\",\"Tanzania\",\"Tajikistan\",\"Switzerland\",\"Sweden\",\"Sri Lanka\",\"Spain\",\"South Africa\",\"Slovenia\",\"Slovakia\",\"Singapore\",\"Sierra Leone\",\"Serbia\",\"Senegal\",\"Saudi Arabia\",\"Rwanda\",\"Russia\",\"Romania\",\"Portugal\",\"Poland\",\"Philippines\",\"Peru\",\"Paraguay\",\"Panama\",\"Pakistan\",\"Norway\",\"Nigeria\",\"Niger\",\"Nicaragua\",\"New Zealand\",\"Netherlands\",\"Nepal\",\"Myanmar\",\"Morocco\",\"Montenegro\",\"Mongolia\",\"Moldova\",\"Mexico\",\"Mauritius\",\"Mauritania\",\"Malta\",\"Mali\",\"Malaysia\",\"Malawi\",\"Madagascar\",\"Luxembourg\",\"Lithuania\",\"Libya\",\"Liberia\",\"Lebanon\",\"Latvia\",\"Kyrgyzstan\",\"Kuwait\",\"Kenya\",\"Kazakhstan\",\"Jordan\",\"Japan\",\"Jamaica\",\"Italy\",\"Israel\",\"Ireland\",\"Iraq\",\"Iran\",\"Indonesia\",\"India\",\"Iceland\",\"Hungary\",\"Honduras\",\"Haiti\",\"Guinea\",\"Guatemala\",\"Greece\",\"Ghana\",\"Germany\",\"Georgia\",\"Gabon\",\"France\",\"Finland\",\"Ethiopia\",\"Estonia\",\"El Salvador\",\"Egypt\",\"Ecuador\",\"Dominican Republic\",\"Denmark\",\"Cyprus\",\"Croatia\",\"Costa Rica\",\"Colombia\",\"China\",\"China\",\"Chile\",\"Chad\",\"Canada\",\"Cameroon\",\"Cambodia\",\"Burundi\",\"Burkina Faso\",\"Bulgaria\",\"Brazil\",\"Botswana\",\"Bosnia and Herzegovina\",\"Bolivia\",\"Benin\",\"Belgium\",\"Belarus\",\"Bangladesh\",\"Bahrain\",\"Azerbaijan\",\"Austria\",\"Australia\",\"Armenia\",\"Argentina\",\"Algeria\",\"Albania\",\"Afghanistan\"],\"ids\":[\"Zimbabwe\",\"Zambia\",\"Yemen\",\"Vietnam\",\"Venezuela\",\"Uzbekistan\",\"Uruguay\",\"United States\",\"United Kingdom\",\"United Arab Emirates\",\"Ukraine\",\"Uganda\",\"Turkmenistan\",\"Turkey\",\"Tunisia\",\"Togo\",\"Thailand\",\"Tanzania\",\"Tajikistan\",\"Switzerland\",\"Sweden\",\"Sri Lanka\",\"Spain\",\"South Africa\",\"Slovenia\",\"Slovakia\",\"Singapore\",\"Sierra Leone\",\"Serbia\",\"Senegal\",\"Saudi Arabia\",\"Rwanda\",\"Russia\",\"Romania\",\"Portugal\",\"Poland\",\"Philippines\",\"Peru\",\"Paraguay\",\"Panama\",\"Pakistan\",\"Norway\",\"Nigeria\",\"Niger\",\"Nicaragua\",\"New Zealand\",\"Netherlands\",\"Nepal\",\"Myanmar\",\"Morocco\",\"Montenegro\",\"Mongolia\",\"Moldova\",\"Mexico\",\"Mauritius\",\"Mauritania\",\"Malta\",\"Mali\",\"Malaysia\",\"Malawi\",\"Madagascar\",\"Luxembourg\",\"Lithuania\",\"Libya\",\"Liberia\",\"Lebanon\",\"Latvia\",\"Kyrgyzstan\",\"Kuwait\",\"Kenya\",\"Kazakhstan\",\"Jordan\",\"Japan\",\"Jamaica\",\"Italy\",\"Israel\",\"Ireland\",\"Iraq\",\"Iran\",\"Indonesia\",\"India\",\"Iceland\",\"Hungary\",\"Honduras\",\"Haiti\",\"Guinea\",\"Guatemala\",\"Greece\",\"Ghana\",\"Germany\",\"Georgia\",\"Gabon\",\"France\",\"Finland\",\"Ethiopia\",\"Estonia\",\"El Salvador\",\"Egypt\",\"Ecuador\",\"Dominican Republic\",\"Denmark\",\"Cyprus\",\"Croatia\",\"Costa Rica\",\"Colombia\",\"China\",\"China\",\"Chile\",\"Chad\",\"Canada\",\"Cameroon\",\"Cambodia\",\"Burundi\",\"Burkina Faso\",\"Bulgaria\",\"Brazil\",\"Botswana\",\"Bosnia and Herzegovina\",\"Bolivia\",\"Benin\",\"Belgium\",\"Belarus\",\"Bangladesh\",\"Bahrain\",\"Azerbaijan\",\"Austria\",\"Australia\",\"Armenia\",\"Argentina\",\"Algeria\",\"Albania\",\"Afghanistan\"],\"locationmode\":\"country names\",\"locations\":[\"Zimbabwe\",\"Zambia\",\"Yemen\",\"Vietnam\",\"Venezuela\",\"Uzbekistan\",\"Uruguay\",\"United States\",\"United Kingdom\",\"United Arab Emirates\",\"Ukraine\",\"Uganda\",\"Turkmenistan\",\"Turkey\",\"Tunisia\",\"Togo\",\"Thailand\",\"Tanzania\",\"Tajikistan\",\"Switzerland\",\"Sweden\",\"Sri Lanka\",\"Spain\",\"South Africa\",\"Slovenia\",\"Slovakia\",\"Singapore\",\"Sierra Leone\",\"Serbia\",\"Senegal\",\"Saudi Arabia\",\"Rwanda\",\"Russia\",\"Romania\",\"Portugal\",\"Poland\",\"Philippines\",\"Peru\",\"Paraguay\",\"Panama\",\"Pakistan\",\"Norway\",\"Nigeria\",\"Niger\",\"Nicaragua\",\"New Zealand\",\"Netherlands\",\"Nepal\",\"Myanmar\",\"Morocco\",\"Montenegro\",\"Mongolia\",\"Moldova\",\"Mexico\",\"Mauritius\",\"Mauritania\",\"Malta\",\"Mali\",\"Malaysia\",\"Malawi\",\"Madagascar\",\"Luxembourg\",\"Lithuania\",\"Libya\",\"Liberia\",\"Lebanon\",\"Latvia\",\"Kyrgyzstan\",\"Kuwait\",\"Kenya\",\"Kazakhstan\",\"Jordan\",\"Japan\",\"Jamaica\",\"Italy\",\"Israel\",\"Ireland\",\"Iraq\",\"Iran\",\"Indonesia\",\"India\",\"Iceland\",\"Hungary\",\"Honduras\",\"Haiti\",\"Guinea\",\"Guatemala\",\"Greece\",\"Ghana\",\"Germany\",\"Georgia\",\"Gabon\",\"France\",\"Finland\",\"Ethiopia\",\"Estonia\",\"El Salvador\",\"Egypt\",\"Ecuador\",\"Dominican Republic\",\"Denmark\",\"Cyprus\",\"Croatia\",\"Costa Rica\",\"Colombia\",\"China\",\"China\",\"Chile\",\"Chad\",\"Canada\",\"Cameroon\",\"Cambodia\",\"Burundi\",\"Burkina Faso\",\"Bulgaria\",\"Brazil\",\"Botswana\",\"Bosnia and Herzegovina\",\"Bolivia\",\"Benin\",\"Belgium\",\"Belarus\",\"Bangladesh\",\"Bahrain\",\"Azerbaijan\",\"Austria\",\"Australia\",\"Armenia\",\"Argentina\",\"Algeria\",\"Albania\",\"Afghanistan\"],\"name\":\"\",\"z\":[60.294,62.464,66.087,75.172,72.405,71.171,77.498,78.885,81.111,77.47,71.711,61.986,67.835,76.86,76.115,60.22,76.403,63.844,70.397,83.31,82.382,76.482,83.145,63.153,80.852,77.034,83.083,53.444,75.505,67.078,74.761,67.93,71.835,75.644,81.444,78.11,70.802,76.044,73.836,77.964,66.77,82.029,53.541,61.137,73.86,81.859,81.862,69.848,66.205,75.974,76.568,69.321,71.617,74.917,74.626,64.208,82.063,57.987,75.649,62.681,65.931,81.803,75.238,72.311,62.802,78.8,74.91,71.054,75.224,65.393,72.081,74.184,84.09,74.175,83.008,82.503,81.615,70.122,76.047,71.035,68.897,82.601,76.266,74.701,62.896,60.17,73.541,81.727,63.124,80.902,73.207,65.418,82.328,81.382,65.482,78.097,72.644,71.482,76.365,73.471,80.583,80.513,78.049,79.738,76.732,76.21,76.21,79.779,53.438,82.117,58.063,68.977,60.528,60.354,74.703,75.23,68.178,76.998,70.626,60.885,81.139,74.031,71.785,76.899,72.493,81.258,82.959,74.64,76.221,76.298,78.194,63.763],\"type\":\"choropleth\"}],\"name\":\"2016\"},{\"data\":[{\"coloraxis\":\"coloraxis\",\"geo\":\"geo\",\"hovertemplate\":\"\\u003cb\\u003e%{hovertext}\\u003c\\u002fb\\u003e\\u003cbr\\u003e\\u003cbr\\u003eYear=2015\\u003cbr\\u003eCountry=%{location}\\u003cbr\\u003eLife_expectancy_at_birth=%{z}\\u003cextra\\u003e\\u003c\\u002fextra\\u003e\",\"hovertext\":[\"Zimbabwe\",\"Zambia\",\"Yemen\",\"Vietnam\",\"Venezuela\",\"Uzbekistan\",\"Uruguay\",\"United States\",\"United Kingdom\",\"United Arab Emirates\",\"Ukraine\",\"Uganda\",\"Turkmenistan\",\"Turkey\",\"Tunisia\",\"Togo\",\"Thailand\",\"Tanzania\",\"Tajikistan\",\"Switzerland\",\"Sweden\",\"Sri Lanka\",\"Spain\",\"South Africa\",\"Slovenia\",\"Slovakia\",\"Singapore\",\"Sierra Leone\",\"Serbia\",\"Senegal\",\"Saudi Arabia\",\"Rwanda\",\"Russia\",\"Romania\",\"Portugal\",\"Poland\",\"Philippines\",\"Peru\",\"Paraguay\",\"Panama\",\"Pakistan\",\"Norway\",\"Nigeria\",\"Niger\",\"Nicaragua\",\"New Zealand\",\"Netherlands\",\"Nepal\",\"Myanmar\",\"Morocco\",\"Montenegro\",\"Mongolia\",\"Moldova\",\"Mexico\",\"Mauritius\",\"Mauritania\",\"Malta\",\"Mali\",\"Malaysia\",\"Malawi\",\"Madagascar\",\"Luxembourg\",\"Lithuania\",\"Libya\",\"Liberia\",\"Lebanon\",\"Latvia\",\"Kyrgyzstan\",\"Kuwait\",\"Kenya\",\"Kazakhstan\",\"Jordan\",\"Japan\",\"Jamaica\",\"Italy\",\"Israel\",\"Ireland\",\"Iraq\",\"Iran\",\"Indonesia\",\"India\",\"Iceland\",\"Hungary\",\"Honduras\",\"Haiti\",\"Guinea\",\"Guatemala\",\"Greece\",\"Ghana\",\"Germany\",\"Georgia\",\"Gabon\",\"France\",\"Finland\",\"Ethiopia\",\"Estonia\",\"El Salvador\",\"Egypt\",\"Ecuador\",\"Dominican Republic\",\"Denmark\",\"Cyprus\",\"Croatia\",\"Costa Rica\",\"Colombia\",\"China\",\"China\",\"Chile\",\"Chad\",\"Canada\",\"Cameroon\",\"Cambodia\",\"Burundi\",\"Burkina Faso\",\"Bulgaria\",\"Brazil\",\"Botswana\",\"Bosnia and Herzegovina\",\"Bolivia\",\"Benin\",\"Belgium\",\"Belarus\",\"Bangladesh\",\"Bahrain\",\"Azerbaijan\",\"Austria\",\"Australia\",\"Armenia\",\"Argentina\",\"Algeria\",\"Albania\",\"Afghanistan\"],\"ids\":[\"Zimbabwe\",\"Zambia\",\"Yemen\",\"Vietnam\",\"Venezuela\",\"Uzbekistan\",\"Uruguay\",\"United States\",\"United Kingdom\",\"United Arab Emirates\",\"Ukraine\",\"Uganda\",\"Turkmenistan\",\"Turkey\",\"Tunisia\",\"Togo\",\"Thailand\",\"Tanzania\",\"Tajikistan\",\"Switzerland\",\"Sweden\",\"Sri Lanka\",\"Spain\",\"South Africa\",\"Slovenia\",\"Slovakia\",\"Singapore\",\"Sierra Leone\",\"Serbia\",\"Senegal\",\"Saudi Arabia\",\"Rwanda\",\"Russia\",\"Romania\",\"Portugal\",\"Poland\",\"Philippines\",\"Peru\",\"Paraguay\",\"Panama\",\"Pakistan\",\"Norway\",\"Nigeria\",\"Niger\",\"Nicaragua\",\"New Zealand\",\"Netherlands\",\"Nepal\",\"Myanmar\",\"Morocco\",\"Montenegro\",\"Mongolia\",\"Moldova\",\"Mexico\",\"Mauritius\",\"Mauritania\",\"Malta\",\"Mali\",\"Malaysia\",\"Malawi\",\"Madagascar\",\"Luxembourg\",\"Lithuania\",\"Libya\",\"Liberia\",\"Lebanon\",\"Latvia\",\"Kyrgyzstan\",\"Kuwait\",\"Kenya\",\"Kazakhstan\",\"Jordan\",\"Japan\",\"Jamaica\",\"Italy\",\"Israel\",\"Ireland\",\"Iraq\",\"Iran\",\"Indonesia\",\"India\",\"Iceland\",\"Hungary\",\"Honduras\",\"Haiti\",\"Guinea\",\"Guatemala\",\"Greece\",\"Ghana\",\"Germany\",\"Georgia\",\"Gabon\",\"France\",\"Finland\",\"Ethiopia\",\"Estonia\",\"El Salvador\",\"Egypt\",\"Ecuador\",\"Dominican Republic\",\"Denmark\",\"Cyprus\",\"Croatia\",\"Costa Rica\",\"Colombia\",\"China\",\"China\",\"Chile\",\"Chad\",\"Canada\",\"Cameroon\",\"Cambodia\",\"Burundi\",\"Burkina Faso\",\"Bulgaria\",\"Brazil\",\"Botswana\",\"Bosnia and Herzegovina\",\"Bolivia\",\"Benin\",\"Belgium\",\"Belarus\",\"Bangladesh\",\"Bahrain\",\"Azerbaijan\",\"Austria\",\"Australia\",\"Armenia\",\"Argentina\",\"Algeria\",\"Albania\",\"Afghanistan\"],\"locationmode\":\"country names\",\"locations\":[\"Zimbabwe\",\"Zambia\",\"Yemen\",\"Vietnam\",\"Venezuela\",\"Uzbekistan\",\"Uruguay\",\"United States\",\"United Kingdom\",\"United Arab Emirates\",\"Ukraine\",\"Uganda\",\"Turkmenistan\",\"Turkey\",\"Tunisia\",\"Togo\",\"Thailand\",\"Tanzania\",\"Tajikistan\",\"Switzerland\",\"Sweden\",\"Sri Lanka\",\"Spain\",\"South Africa\",\"Slovenia\",\"Slovakia\",\"Singapore\",\"Sierra Leone\",\"Serbia\",\"Senegal\",\"Saudi Arabia\",\"Rwanda\",\"Russia\",\"Romania\",\"Portugal\",\"Poland\",\"Philippines\",\"Peru\",\"Paraguay\",\"Panama\",\"Pakistan\",\"Norway\",\"Nigeria\",\"Niger\",\"Nicaragua\",\"New Zealand\",\"Netherlands\",\"Nepal\",\"Myanmar\",\"Morocco\",\"Montenegro\",\"Mongolia\",\"Moldova\",\"Mexico\",\"Mauritius\",\"Mauritania\",\"Malta\",\"Mali\",\"Malaysia\",\"Malawi\",\"Madagascar\",\"Luxembourg\",\"Lithuania\",\"Libya\",\"Liberia\",\"Lebanon\",\"Latvia\",\"Kyrgyzstan\",\"Kuwait\",\"Kenya\",\"Kazakhstan\",\"Jordan\",\"Japan\",\"Jamaica\",\"Italy\",\"Israel\",\"Ireland\",\"Iraq\",\"Iran\",\"Indonesia\",\"India\",\"Iceland\",\"Hungary\",\"Honduras\",\"Haiti\",\"Guinea\",\"Guatemala\",\"Greece\",\"Ghana\",\"Germany\",\"Georgia\",\"Gabon\",\"France\",\"Finland\",\"Ethiopia\",\"Estonia\",\"El Salvador\",\"Egypt\",\"Ecuador\",\"Dominican Republic\",\"Denmark\",\"Cyprus\",\"Croatia\",\"Costa Rica\",\"Colombia\",\"China\",\"China\",\"Chile\",\"Chad\",\"Canada\",\"Cameroon\",\"Cambodia\",\"Burundi\",\"Burkina Faso\",\"Bulgaria\",\"Brazil\",\"Botswana\",\"Bosnia and Herzegovina\",\"Bolivia\",\"Benin\",\"Belgium\",\"Belarus\",\"Bangladesh\",\"Bahrain\",\"Azerbaijan\",\"Austria\",\"Australia\",\"Armenia\",\"Argentina\",\"Algeria\",\"Albania\",\"Afghanistan\"],\"name\":\"\",\"z\":[59.534,61.737,66.085,75.11,72.584,70.928,77.369,78.91,81.052,77.285,71.535,61.373,67.704,76.532,75.922,59.927,76.091,63.111,70.137,83.142,82.251,76.316,82.981,62.649,80.673,76.827,82.877,52.941,75.309,66.747,74.651,67.45,71.464,75.476,81.224,77.859,70.644,75.792,73.662,77.776,66.577,81.912,53.112,60.631,73.649,81.713,81.715,69.515,65.81,75.726,76.452,69.111,71.478,74.904,74.5,63.936,81.896,57.509,75.461,61.953,65.539,81.636,74.923,72.121,62.269,78.768,74.733,70.876,75.13,64.798,71.319,74.078,83.879,74.098,82.828,82.34,81.344,69.929,75.796,70.768,68.607,82.481,76.006,74.495,62.485,59.598,73.25,81.548,62.772,80.77,72.973,64.913,82.224,81.196,65.048,77.783,72.412,71.302,76.143,73.241,80.475,80.35,77.892,79.565,76.531,75.928,75.928,79.646,53.137,82.026,57.583,68.637,60.123,59.919,74.584,74.994,67.338,76.865,70.277,60.608,80.969,73.652,71.514,76.762,72.266,81.182,82.794,74.467,76.068,76.09,78.025,63.377],\"type\":\"choropleth\"}],\"name\":\"2015\"}]);\n",
       "                        }).then(function(){\n",
       "                            \n",
       "var gd = document.getElementById('1d81eccc-efee-4ae1-ac10-0ccd9aa845b6');\n",
       "var x = new MutationObserver(function (mutations, observer) {{\n",
       "        var display = window.getComputedStyle(gd).display;\n",
       "        if (!display || display === 'none') {{\n",
       "            console.log([gd, 'removed!']);\n",
       "            Plotly.purge(gd);\n",
       "            observer.disconnect();\n",
       "        }}\n",
       "}});\n",
       "\n",
       "// Listen for the removal of the full notebook cells\n",
       "var notebookContainer = gd.closest('#notebook-container');\n",
       "if (notebookContainer) {{\n",
       "    x.observe(notebookContainer, {childList: true});\n",
       "}}\n",
       "\n",
       "// Listen for the clearing of the current output cell\n",
       "var outputEl = gd.closest('.output');\n",
       "if (outputEl) {{\n",
       "    x.observe(outputEl, {childList: true});\n",
       "}}\n",
       "\n",
       "                        })                };                });            </script>        </div>"
      ]
     },
     "metadata": {},
     "output_type": "display_data"
    }
   ],
   "source": [
    "# df = pd.DataFrame(data)  # Convert data to a DataFrame\n",
    "\n",
    "# fig = go.Figure(go.Choropleth(\n",
    "#     locations=df['Country'],\n",
    "#     z=df['happiness_score'],\n",
    "#     locationmode='country names',\n",
    "#     colorscale='Viridis',\n",
    "#     reversescale=False,\n",
    "#     marker_line_color='gray',\n",
    "#     colorbar_title='Happiness Score',\n",
    "#     name='Happiness Score'\n",
    "#     ))\n",
    "\n",
    "# fig_education = go.Figure(go.Choropleth(\n",
    "#     locations=df['Country'],\n",
    "#     z=df['Education_Index'],\n",
    "#     locationmode='country names',\n",
    "#     colorscale='Viridis',\n",
    "#     reversescale=False,\n",
    "#     marker_line_color='gray',\n",
    "#     colorbar_title='Education Index',\n",
    "#     name='Education Index'\n",
    "#     ))\n",
    "\n",
    "# fig_life_expectancy = go.Figure(go.Choropleth(\n",
    "#     locations=df['Country'],\n",
    "#     z=df['Life_expectancy_at_birth'],\n",
    "#     locationmode='country names',\n",
    "#     colorscale='Viridis',\n",
    "#     reversescale=False,\n",
    "#     marker_line_color='gray',\n",
    "#     colorbar_title='Life Expectancy',\n",
    "#     name='Life Expectancy'\n",
    "#     ))\n",
    "\n",
    "fig1 = px.choropleth(df,locations='Country', color='happiness_score',\n",
    "                           color_continuous_scale=\"Viridis\",\n",
    "                           locationmode = 'country names',\n",
    "                           animation_frame=\"Year\", animation_group=\"Country\", hover_name=\"Country\",\n",
    "                           projection = \"natural earth\",\n",
    "                          )\n",
    "fig2 = px.choropleth(df,locations='Country', color='Education_Index',\n",
    "                           color_continuous_scale=\"Viridis\",\n",
    "                           locationmode = 'country names',\n",
    "                           animation_frame=\"Year\", animation_group=\"Country\", hover_name=\"Country\",\n",
    "                           projection = \"natural earth\",\n",
    "                          )\n",
    "\n",
    "fig3 = px.choropleth(df,locations='Country', color='Life_expectancy_at_birth',\n",
    "                           color_continuous_scale=\"Viridis\",\n",
    "                           locationmode = 'country names',\n",
    "                           animation_frame=\"Year\", animation_group=\"Country\", hover_name=\"Country\",\n",
    "                           projection = \"natural earth\",\n",
    "                          )\n",
    "fig1.update_layout(margin={\"r\":0,\"t\":40,\"l\":0,\"b\":0}, height = 600,  title='World map of Happiness')\n",
    "fig1.show()\n",
    "fig2.update_layout(margin={\"r\":0,\"t\":40,\"l\":0,\"b\":0}, height = 600, title='World map of Education index')\n",
    "fig2.show()\n",
    "fig3.update_layout(margin={\"r\":0,\"t\":40,\"l\":0,\"b\":0}, height = 600, title='World map of Life expectancy at birth')\n",
    "fig3.show()"
   ]
  },
  {
   "cell_type": "markdown",
   "id": "1d32b28b",
   "metadata": {},
   "source": [
    "### multivariate analysis of happiness and HDI\n",
    "Here we analyse multiple variables of the HDI index and link them to happiness in a country, these maps can tell us more about how life expectancy and education can contribute to happiness in a certain country. The relation between Life Expectancy, Education and happiness is very clear, it is to be expected that people would be happier when they are healthier, this correlation is expected to be stronger than Education, which in turn is expected to correlate stronger with happiness than GNI. People can live in relatively economic poverty and adapt to their circumstances with hedonic adaptation, however when health is poor it will be much more noticeable. Disease contributes to lack of exercise, lack of proper nutrition, which in turn affects mental state through somatic effects on the brain."
   ]
  },
  {
   "cell_type": "code",
   "execution_count": 131,
   "id": "c9c6bce7",
   "metadata": {},
   "outputs": [
    {
     "ename": "NameError",
     "evalue": "name 'sm' is not defined",
     "output_type": "error",
     "traceback": [
      "\u001b[0;31m---------------------------------------------------------------------------\u001b[0m",
      "\u001b[0;31mNameError\u001b[0m                                 Traceback (most recent call last)",
      "\u001b[0;32m/tmp/ipykernel_29641/878546654.py\u001b[0m in \u001b[0;36m<module>\u001b[0;34m\u001b[0m\n\u001b[1;32m     48\u001b[0m \u001b[0;34m\u001b[0m\u001b[0m\n\u001b[1;32m     49\u001b[0m \u001b[0;31m# Calculate and add trend lines\u001b[0m\u001b[0;34m\u001b[0m\u001b[0;34m\u001b[0m\u001b[0m\n\u001b[0;32m---> 50\u001b[0;31m \u001b[0mtrend_line_1\u001b[0m \u001b[0;34m=\u001b[0m \u001b[0msm\u001b[0m\u001b[0;34m.\u001b[0m\u001b[0mOLS\u001b[0m\u001b[0;34m(\u001b[0m\u001b[0my\u001b[0m\u001b[0;34m,\u001b[0m \u001b[0msm\u001b[0m\u001b[0;34m.\u001b[0m\u001b[0madd_constant\u001b[0m\u001b[0;34m(\u001b[0m\u001b[0mx1\u001b[0m\u001b[0;34m)\u001b[0m\u001b[0;34m)\u001b[0m\u001b[0;34m.\u001b[0m\u001b[0mfit\u001b[0m\u001b[0;34m(\u001b[0m\u001b[0;34m)\u001b[0m\u001b[0;34m.\u001b[0m\u001b[0mpredict\u001b[0m\u001b[0;34m(\u001b[0m\u001b[0msm\u001b[0m\u001b[0;34m.\u001b[0m\u001b[0madd_constant\u001b[0m\u001b[0;34m(\u001b[0m\u001b[0mx1\u001b[0m\u001b[0;34m)\u001b[0m\u001b[0;34m)\u001b[0m\u001b[0;34m\u001b[0m\u001b[0;34m\u001b[0m\u001b[0m\n\u001b[0m\u001b[1;32m     51\u001b[0m \u001b[0mtrend_line_2\u001b[0m \u001b[0;34m=\u001b[0m \u001b[0msm\u001b[0m\u001b[0;34m.\u001b[0m\u001b[0mOLS\u001b[0m\u001b[0;34m(\u001b[0m\u001b[0my\u001b[0m\u001b[0;34m,\u001b[0m \u001b[0msm\u001b[0m\u001b[0;34m.\u001b[0m\u001b[0madd_constant\u001b[0m\u001b[0;34m(\u001b[0m\u001b[0mx2\u001b[0m\u001b[0;34m)\u001b[0m\u001b[0;34m)\u001b[0m\u001b[0;34m.\u001b[0m\u001b[0mfit\u001b[0m\u001b[0;34m(\u001b[0m\u001b[0;34m)\u001b[0m\u001b[0;34m.\u001b[0m\u001b[0mpredict\u001b[0m\u001b[0;34m(\u001b[0m\u001b[0msm\u001b[0m\u001b[0;34m.\u001b[0m\u001b[0madd_constant\u001b[0m\u001b[0;34m(\u001b[0m\u001b[0mx2\u001b[0m\u001b[0;34m)\u001b[0m\u001b[0;34m)\u001b[0m\u001b[0;34m\u001b[0m\u001b[0;34m\u001b[0m\u001b[0m\n\u001b[1;32m     52\u001b[0m \u001b[0mtrend_line_3\u001b[0m \u001b[0;34m=\u001b[0m \u001b[0msm\u001b[0m\u001b[0;34m.\u001b[0m\u001b[0mOLS\u001b[0m\u001b[0;34m(\u001b[0m\u001b[0my\u001b[0m\u001b[0;34m,\u001b[0m \u001b[0msm\u001b[0m\u001b[0;34m.\u001b[0m\u001b[0madd_constant\u001b[0m\u001b[0;34m(\u001b[0m\u001b[0mx3\u001b[0m\u001b[0;34m)\u001b[0m\u001b[0;34m)\u001b[0m\u001b[0;34m.\u001b[0m\u001b[0mfit\u001b[0m\u001b[0;34m(\u001b[0m\u001b[0;34m)\u001b[0m\u001b[0;34m.\u001b[0m\u001b[0mpredict\u001b[0m\u001b[0;34m(\u001b[0m\u001b[0msm\u001b[0m\u001b[0;34m.\u001b[0m\u001b[0madd_constant\u001b[0m\u001b[0;34m(\u001b[0m\u001b[0mx3\u001b[0m\u001b[0;34m)\u001b[0m\u001b[0;34m)\u001b[0m\u001b[0;34m\u001b[0m\u001b[0;34m\u001b[0m\u001b[0m\n",
      "\u001b[0;31mNameError\u001b[0m: name 'sm' is not defined"
     ]
    }
   ],
   "source": [
    "data_mean = pd.read_csv('mean_data.csv')\n",
    "\n",
    "fig = go.Figure()\n",
    "\n",
    "x1, x2, x3, x4 = data_mean['gdp_per_capita'], data_mean['Education_Index'], data_mean['health'], data_mean['freedom']\n",
    "y = data_mean['happiness_score']\n",
    "countries = data_mean['Country']\n",
    "continents = data_mean['continent']\n",
    "\n",
    "# Add traces for all four scatter plots\n",
    "scatter_trace_1 = go.Scatter(\n",
    "    x=x1,\n",
    "    y=y,\n",
    "    mode=\"markers\",\n",
    "    text=countries,\n",
    "    hovertemplate=\"Country: %{text}<br>Happiness: %{y:.2f}<extra></extra>\",\n",
    "    name=\"GDP\"\n",
    ")\n",
    "scatter_trace_2 = go.Scatter(\n",
    "    x=x2,\n",
    "    y=y,\n",
    "    mode=\"markers\",\n",
    "    text=countries,\n",
    "    hovertemplate=\"Country: %{text}<br>Happiness: %{y:.2f}<extra></extra>\",\n",
    "    name=\"Education\"\n",
    ")\n",
    "scatter_trace_3 = go.Scatter(\n",
    "    x=x3,\n",
    "    y=y,\n",
    "    mode=\"markers\",\n",
    "    text=countries,\n",
    "    hovertemplate=\"Country: %{text}<br>Happiness: %{y:.2f}<extra></extra>\",\n",
    "    name=\"Health\"\n",
    ")\n",
    "scatter_trace_4 = go.Scatter(\n",
    "    x=x4,\n",
    "    y=y,\n",
    "    mode=\"markers\",\n",
    "    text=countries,\n",
    "    hovertemplate=\"Country: %{text}<br>Happiness: %{y:.2f}<extra></extra>\",\n",
    "    name=\"Freedom\"\n",
    ")\n",
    "\n",
    "fig.add_trace(scatter_trace_1)\n",
    "fig.add_trace(scatter_trace_2)\n",
    "fig.add_trace(scatter_trace_3)\n",
    "fig.add_trace(scatter_trace_4)\n",
    "\n",
    "# Calculate and add trend lines\n",
    "trend_line_1 = sm.OLS(y, sm.add_constant(x1)).fit().predict(sm.add_constant(x1))\n",
    "trend_line_2 = sm.OLS(y, sm.add_constant(x2)).fit().predict(sm.add_constant(x2))\n",
    "trend_line_3 = sm.OLS(y, sm.add_constant(x3)).fit().predict(sm.add_constant(x3))\n",
    "trend_line_4 = sm.OLS(y, sm.add_constant(x4)).fit().predict(sm.add_constant(x4))\n",
    "\n",
    "# Add trend lines for all four scatter plots\n",
    "trend_line_trace_1 = go.Scatter(\n",
    "    x=x1,\n",
    "    y=trend_line_1,\n",
    "    mode=\"lines\",\n",
    "    name=\"Relationship between GDP per capita and Happiness Score\"\n",
    ")\n",
    "trend_line_trace_2 = go.Scatter(\n",
    "    x=x2,\n",
    "    y=trend_line_2,\n",
    "    mode=\"lines\",\n",
    "    name=\"Relationship between Education Index and Happiness Score\"\n",
    ")\n",
    "trend_line_trace_3 = go.Scatter(\n",
    "    x=x3,\n",
    "    y=trend_line_3,\n",
    "    mode=\"lines\",\n",
    "    name=\"Relationship between Health Index and Happiness Score\"\n",
    ")\n",
    "trend_line_trace_4 = go.Scatter(\n",
    "    x=x4,\n",
    "    y=trend_line_4,\n",
    "    mode=\"lines\",\n",
    "    name=\"Relationship between Freedom Index and Happiness Score\"\n",
    ")\n",
    "\n",
    "fig.add_trace(trend_line_trace_1)\n",
    "fig.add_trace(trend_line_trace_2)\n",
    "fig.add_trace(trend_line_trace_3)\n",
    "fig.add_trace(trend_line_trace_4)\n",
    "\n",
    "# Define button options\n",
    "buttons = [\n",
    "    {'label': 'GDP', 'method': 'update', 'args': [{'visible': [True, False, False, False]}, {'title': 'GDP & Happiness'}]},\n",
    "    {'label': 'Education', 'method': 'update', 'args': [{'visible': [False, True, False, False]}, {'title': 'Education & Happiness'}]},\n",
    "    {'label': 'Health', 'method': 'update', 'args': [{'visible': [False, False, True, False]}, {'title': 'Health & Happiness'}]},\n",
    "    {'label': 'Freedom', 'method': 'update', 'args': [{'visible': [False, False, False, True]}, {'title': 'Freedom & Happiness'}]}\n",
    "]\n",
    "\n",
    "# Create updatemenus\n",
    "updatemenus = [{'buttons': buttons, 'direction': 'down', 'showactive': True}]\n",
    "\n",
    "# Update layout with updatemenus\n",
    "fig.update_layout(\n",
    "    title_text=\"Select Variable in dropdown menu\",\n",
    "    height=900,\n",
    "    updatemenus=updatemenus\n",
    ")\n",
    "\n"
   ]
  },
  {
   "cell_type": "markdown",
   "id": "69df3f49",
   "metadata": {},
   "source": [
    "### Exploring the Relationship Between Happiness and Socioeconomic Factors\n",
    "\n",
    "Figure ... shows visualizations to explore the correlations between these factors and happiness. We took the mean for each country between the years 2015 till 2018 so each scatterplot is a visualisation between four years. The x-axis of each plot represents a specific socioeconomic factor (GDP per capita, education index, health index, and freedom index), while the y-axis represents the happiness score.  With the botton in the top left corner you can change the graph and look at each factor separately. To provide further insights, we also added trendlines to the scatter plots. These trend lines were calculated using the Ordinary Least Squares (OLS) method from the Statsmodels library. The trendlines helped us identify the overall trend and direction of the relationship between these socioeconomic factors and happiness for each country.\n",
    "\n",
    "By visualizing the data in this manner, we were abled to observe any potential patterns or associations between the socioeconomic factors and happiness. The scatter plots allowed us to compare the relationships across these different factors and gain a better understanding of how they contribute to the total happiness.\n",
    "\n",
    "In conclusion, this data visualization project provided valuable insights into the complex interplay between happiness and socioeconomic factors, highlighting the importance of factors such as GDP per capita, education, health, and freedom in determining happiness levels on all the countries in a global scale.\n",
    "\n",
    "\n"
   ]
  },
  {
   "cell_type": "code",
   "execution_count": 132,
   "id": "7369f5cc",
   "metadata": {},
   "outputs": [
    {
     "data": {
      "application/vnd.plotly.v1+json": {
       "config": {
        "plotlyServerURL": "https://plot.ly"
       },
       "data": [
        {
         "colorscale": [
          [
           0,
           "#636efa"
          ],
          [
           1,
           "#636efa"
          ]
         ],
         "featureidkey": "properties.name",
         "geo": "geo",
         "hovertemplate": "<b>%{hovertext}</b><br><br>Max Score=family<br>Country=%{location}<extra></extra>",
         "hovertext": [
          "Afghanistan",
          "Bolivia",
          "Botswana",
          "Burundi",
          "Cameroon",
          "Chad",
          "China",
          "Haiti",
          "Indonesia",
          "Kenya",
          "Libya",
          "Mali",
          "Mauritania",
          "Niger",
          "Nigeria",
          "Rwanda",
          "Senegal",
          "Sierra Leone",
          "Tajikistan",
          "Tanzania",
          "Thailand",
          "Uganda"
         ],
         "locationmode": "country names",
         "locations": [
          "Afghanistan",
          "Bolivia",
          "Botswana",
          "Burundi",
          "Cameroon",
          "Chad",
          "China",
          "Haiti",
          "Indonesia",
          "Kenya",
          "Libya",
          "Mali",
          "Mauritania",
          "Niger",
          "Nigeria",
          "Rwanda",
          "Senegal",
          "Sierra Leone",
          "Tajikistan",
          "Tanzania",
          "Thailand",
          "Uganda"
         ],
         "name": "family",
         "showlegend": true,
         "showscale": false,
         "type": "choropleth",
         "z": [
          1,
          1,
          1,
          1,
          1,
          1,
          1,
          1,
          1,
          1,
          1,
          1,
          1,
          1,
          1,
          1,
          1,
          1,
          1,
          1,
          1,
          1
         ]
        },
        {
         "colorscale": [
          [
           0,
           "#EF553B"
          ],
          [
           1,
           "#EF553B"
          ]
         ],
         "featureidkey": "properties.name",
         "geo": "geo",
         "hovertemplate": "<b>%{hovertext}</b><br><br>Max Score=gdp_per_capita<br>Country=%{location}<extra></extra>",
         "hovertext": [
          "Albania",
          "Bahrain",
          "Cyprus",
          "Gabon",
          "Georgia",
          "Germany",
          "Greece",
          "India",
          "Iran",
          "Iraq",
          "Kuwait",
          "Luxembourg",
          "Malaysia",
          "Morocco",
          "Norway",
          "Saudi Arabia",
          "Singapore",
          "Switzerland",
          "Tunisia",
          "United Arab Emirates",
          "United States"
         ],
         "locationmode": "country names",
         "locations": [
          "Albania",
          "Bahrain",
          "Cyprus",
          "Gabon",
          "Georgia",
          "Germany",
          "Greece",
          "India",
          "Iran",
          "Iraq",
          "Kuwait",
          "Luxembourg",
          "Malaysia",
          "Morocco",
          "Norway",
          "Saudi Arabia",
          "Singapore",
          "Switzerland",
          "Tunisia",
          "United Arab Emirates",
          "United States"
         ],
         "name": "gdp_per_capita",
         "showlegend": true,
         "showscale": false,
         "type": "choropleth",
         "z": [
          1,
          1,
          1,
          1,
          1,
          1,
          1,
          1,
          1,
          1,
          1,
          1,
          1,
          1,
          1,
          1,
          1,
          1,
          1,
          1,
          1
         ]
        },
        {
         "colorscale": [
          [
           0,
           "#00cc96"
          ],
          [
           1,
           "#00cc96"
          ]
         ],
         "featureidkey": "properties.name",
         "geo": "geo",
         "hovertemplate": "<b>%{hovertext}</b><br><br>Max Score=social_support<br>Country=%{location}<extra></extra>",
         "hovertext": [
          "Algeria",
          "Argentina",
          "Armenia",
          "Australia",
          "Austria",
          "Azerbaijan",
          "Bangladesh",
          "Belarus",
          "Belgium",
          "Bosnia and Herzegovina",
          "Brazil",
          "Bulgaria",
          "Burkina Faso",
          "Cambodia",
          "Canada",
          "Chile",
          "Colombia",
          "Costa Rica",
          "Croatia",
          "Denmark",
          "Dominican Republic",
          "Ecuador",
          "Egypt",
          "El Salvador",
          "Estonia",
          "Ethiopia",
          "Finland",
          "France",
          "Ghana",
          "Guatemala",
          "Guinea",
          "Honduras",
          "Hungary",
          "Iceland",
          "Ireland",
          "Israel",
          "Italy",
          "Jamaica",
          "Japan",
          "Jordan",
          "Kazakhstan",
          "Kyrgyzstan",
          "Latvia",
          "Lebanon",
          "Liberia",
          "Lithuania",
          "Madagascar",
          "Malawi",
          "Malta",
          "Mauritius",
          "Mexico",
          "Moldova",
          "Mongolia",
          "Montenegro",
          "Myanmar",
          "Nepal",
          "Netherlands",
          "New Zealand",
          "Nicaragua",
          "Pakistan",
          "Panama",
          "Paraguay",
          "Peru",
          "Philippines",
          "Poland",
          "Portugal",
          "Romania",
          "Russia",
          "Serbia",
          "Slovakia",
          "Slovenia",
          "South Africa",
          "Spain",
          "Sri Lanka",
          "Sweden",
          "Togo",
          "Turkey",
          "Turkmenistan",
          "Ukraine",
          "United Kingdom",
          "Uruguay",
          "Uzbekistan",
          "Venezuela",
          "Vietnam",
          "Yemen",
          "Zambia",
          "Zimbabwe"
         ],
         "locationmode": "country names",
         "locations": [
          "Algeria",
          "Argentina",
          "Armenia",
          "Australia",
          "Austria",
          "Azerbaijan",
          "Bangladesh",
          "Belarus",
          "Belgium",
          "Bosnia and Herzegovina",
          "Brazil",
          "Bulgaria",
          "Burkina Faso",
          "Cambodia",
          "Canada",
          "Chile",
          "Colombia",
          "Costa Rica",
          "Croatia",
          "Denmark",
          "Dominican Republic",
          "Ecuador",
          "Egypt",
          "El Salvador",
          "Estonia",
          "Ethiopia",
          "Finland",
          "France",
          "Ghana",
          "Guatemala",
          "Guinea",
          "Honduras",
          "Hungary",
          "Iceland",
          "Ireland",
          "Israel",
          "Italy",
          "Jamaica",
          "Japan",
          "Jordan",
          "Kazakhstan",
          "Kyrgyzstan",
          "Latvia",
          "Lebanon",
          "Liberia",
          "Lithuania",
          "Madagascar",
          "Malawi",
          "Malta",
          "Mauritius",
          "Mexico",
          "Moldova",
          "Mongolia",
          "Montenegro",
          "Myanmar",
          "Nepal",
          "Netherlands",
          "New Zealand",
          "Nicaragua",
          "Pakistan",
          "Panama",
          "Paraguay",
          "Peru",
          "Philippines",
          "Poland",
          "Portugal",
          "Romania",
          "Russia",
          "Serbia",
          "Slovakia",
          "Slovenia",
          "South Africa",
          "Spain",
          "Sri Lanka",
          "Sweden",
          "Togo",
          "Turkey",
          "Turkmenistan",
          "Ukraine",
          "United Kingdom",
          "Uruguay",
          "Uzbekistan",
          "Venezuela",
          "Vietnam",
          "Yemen",
          "Zambia",
          "Zimbabwe"
         ],
         "name": "social_support",
         "showlegend": true,
         "showscale": false,
         "type": "choropleth",
         "z": [
          1,
          1,
          1,
          1,
          1,
          1,
          1,
          1,
          1,
          1,
          1,
          1,
          1,
          1,
          1,
          1,
          1,
          1,
          1,
          1,
          1,
          1,
          1,
          1,
          1,
          1,
          1,
          1,
          1,
          1,
          1,
          1,
          1,
          1,
          1,
          1,
          1,
          1,
          1,
          1,
          1,
          1,
          1,
          1,
          1,
          1,
          1,
          1,
          1,
          1,
          1,
          1,
          1,
          1,
          1,
          1,
          1,
          1,
          1,
          1,
          1,
          1,
          1,
          1,
          1,
          1,
          1,
          1,
          1,
          1,
          1,
          1,
          1,
          1,
          1,
          1,
          1,
          1,
          1,
          1,
          1,
          1,
          1,
          1,
          1,
          1,
          1
         ]
        },
        {
         "colorscale": [
          [
           0,
           "#ab63fa"
          ],
          [
           1,
           "#ab63fa"
          ]
         ],
         "featureidkey": "properties.name",
         "geo": "geo",
         "hovertemplate": "<b>%{hovertext}</b><br><br>Max Score=freedom<br>Country=%{location}<extra></extra>",
         "hovertext": [
          "Benin"
         ],
         "locationmode": "country names",
         "locations": [
          "Benin"
         ],
         "name": "freedom",
         "showlegend": true,
         "showscale": false,
         "type": "choropleth",
         "z": [
          1
         ]
        }
       ],
       "layout": {
        "geo": {
         "center": {},
         "domain": {
          "x": [
           0,
           1
          ],
          "y": [
           0,
           1
          ]
         },
         "projection": {
          "type": "natural earth"
         }
        },
        "height": 700,
        "legend": {
         "title": {
          "text": "Max Score"
         },
         "tracegroupgap": 0
        },
        "margin": {
         "t": 60
        },
        "template": {
         "data": {
          "bar": [
           {
            "error_x": {
             "color": "#2a3f5f"
            },
            "error_y": {
             "color": "#2a3f5f"
            },
            "marker": {
             "line": {
              "color": "#E5ECF6",
              "width": 0.5
             },
             "pattern": {
              "fillmode": "overlay",
              "size": 10,
              "solidity": 0.2
             }
            },
            "type": "bar"
           }
          ],
          "barpolar": [
           {
            "marker": {
             "line": {
              "color": "#E5ECF6",
              "width": 0.5
             },
             "pattern": {
              "fillmode": "overlay",
              "size": 10,
              "solidity": 0.2
             }
            },
            "type": "barpolar"
           }
          ],
          "carpet": [
           {
            "aaxis": {
             "endlinecolor": "#2a3f5f",
             "gridcolor": "white",
             "linecolor": "white",
             "minorgridcolor": "white",
             "startlinecolor": "#2a3f5f"
            },
            "baxis": {
             "endlinecolor": "#2a3f5f",
             "gridcolor": "white",
             "linecolor": "white",
             "minorgridcolor": "white",
             "startlinecolor": "#2a3f5f"
            },
            "type": "carpet"
           }
          ],
          "choropleth": [
           {
            "colorbar": {
             "outlinewidth": 0,
             "ticks": ""
            },
            "type": "choropleth"
           }
          ],
          "contour": [
           {
            "colorbar": {
             "outlinewidth": 0,
             "ticks": ""
            },
            "colorscale": [
             [
              0,
              "#0d0887"
             ],
             [
              0.1111111111111111,
              "#46039f"
             ],
             [
              0.2222222222222222,
              "#7201a8"
             ],
             [
              0.3333333333333333,
              "#9c179e"
             ],
             [
              0.4444444444444444,
              "#bd3786"
             ],
             [
              0.5555555555555556,
              "#d8576b"
             ],
             [
              0.6666666666666666,
              "#ed7953"
             ],
             [
              0.7777777777777778,
              "#fb9f3a"
             ],
             [
              0.8888888888888888,
              "#fdca26"
             ],
             [
              1,
              "#f0f921"
             ]
            ],
            "type": "contour"
           }
          ],
          "contourcarpet": [
           {
            "colorbar": {
             "outlinewidth": 0,
             "ticks": ""
            },
            "type": "contourcarpet"
           }
          ],
          "heatmap": [
           {
            "colorbar": {
             "outlinewidth": 0,
             "ticks": ""
            },
            "colorscale": [
             [
              0,
              "#0d0887"
             ],
             [
              0.1111111111111111,
              "#46039f"
             ],
             [
              0.2222222222222222,
              "#7201a8"
             ],
             [
              0.3333333333333333,
              "#9c179e"
             ],
             [
              0.4444444444444444,
              "#bd3786"
             ],
             [
              0.5555555555555556,
              "#d8576b"
             ],
             [
              0.6666666666666666,
              "#ed7953"
             ],
             [
              0.7777777777777778,
              "#fb9f3a"
             ],
             [
              0.8888888888888888,
              "#fdca26"
             ],
             [
              1,
              "#f0f921"
             ]
            ],
            "type": "heatmap"
           }
          ],
          "heatmapgl": [
           {
            "colorbar": {
             "outlinewidth": 0,
             "ticks": ""
            },
            "colorscale": [
             [
              0,
              "#0d0887"
             ],
             [
              0.1111111111111111,
              "#46039f"
             ],
             [
              0.2222222222222222,
              "#7201a8"
             ],
             [
              0.3333333333333333,
              "#9c179e"
             ],
             [
              0.4444444444444444,
              "#bd3786"
             ],
             [
              0.5555555555555556,
              "#d8576b"
             ],
             [
              0.6666666666666666,
              "#ed7953"
             ],
             [
              0.7777777777777778,
              "#fb9f3a"
             ],
             [
              0.8888888888888888,
              "#fdca26"
             ],
             [
              1,
              "#f0f921"
             ]
            ],
            "type": "heatmapgl"
           }
          ],
          "histogram": [
           {
            "marker": {
             "pattern": {
              "fillmode": "overlay",
              "size": 10,
              "solidity": 0.2
             }
            },
            "type": "histogram"
           }
          ],
          "histogram2d": [
           {
            "colorbar": {
             "outlinewidth": 0,
             "ticks": ""
            },
            "colorscale": [
             [
              0,
              "#0d0887"
             ],
             [
              0.1111111111111111,
              "#46039f"
             ],
             [
              0.2222222222222222,
              "#7201a8"
             ],
             [
              0.3333333333333333,
              "#9c179e"
             ],
             [
              0.4444444444444444,
              "#bd3786"
             ],
             [
              0.5555555555555556,
              "#d8576b"
             ],
             [
              0.6666666666666666,
              "#ed7953"
             ],
             [
              0.7777777777777778,
              "#fb9f3a"
             ],
             [
              0.8888888888888888,
              "#fdca26"
             ],
             [
              1,
              "#f0f921"
             ]
            ],
            "type": "histogram2d"
           }
          ],
          "histogram2dcontour": [
           {
            "colorbar": {
             "outlinewidth": 0,
             "ticks": ""
            },
            "colorscale": [
             [
              0,
              "#0d0887"
             ],
             [
              0.1111111111111111,
              "#46039f"
             ],
             [
              0.2222222222222222,
              "#7201a8"
             ],
             [
              0.3333333333333333,
              "#9c179e"
             ],
             [
              0.4444444444444444,
              "#bd3786"
             ],
             [
              0.5555555555555556,
              "#d8576b"
             ],
             [
              0.6666666666666666,
              "#ed7953"
             ],
             [
              0.7777777777777778,
              "#fb9f3a"
             ],
             [
              0.8888888888888888,
              "#fdca26"
             ],
             [
              1,
              "#f0f921"
             ]
            ],
            "type": "histogram2dcontour"
           }
          ],
          "mesh3d": [
           {
            "colorbar": {
             "outlinewidth": 0,
             "ticks": ""
            },
            "type": "mesh3d"
           }
          ],
          "parcoords": [
           {
            "line": {
             "colorbar": {
              "outlinewidth": 0,
              "ticks": ""
             }
            },
            "type": "parcoords"
           }
          ],
          "pie": [
           {
            "automargin": true,
            "type": "pie"
           }
          ],
          "scatter": [
           {
            "fillpattern": {
             "fillmode": "overlay",
             "size": 10,
             "solidity": 0.2
            },
            "type": "scatter"
           }
          ],
          "scatter3d": [
           {
            "line": {
             "colorbar": {
              "outlinewidth": 0,
              "ticks": ""
             }
            },
            "marker": {
             "colorbar": {
              "outlinewidth": 0,
              "ticks": ""
             }
            },
            "type": "scatter3d"
           }
          ],
          "scattercarpet": [
           {
            "marker": {
             "colorbar": {
              "outlinewidth": 0,
              "ticks": ""
             }
            },
            "type": "scattercarpet"
           }
          ],
          "scattergeo": [
           {
            "marker": {
             "colorbar": {
              "outlinewidth": 0,
              "ticks": ""
             }
            },
            "type": "scattergeo"
           }
          ],
          "scattergl": [
           {
            "marker": {
             "colorbar": {
              "outlinewidth": 0,
              "ticks": ""
             }
            },
            "type": "scattergl"
           }
          ],
          "scattermapbox": [
           {
            "marker": {
             "colorbar": {
              "outlinewidth": 0,
              "ticks": ""
             }
            },
            "type": "scattermapbox"
           }
          ],
          "scatterpolar": [
           {
            "marker": {
             "colorbar": {
              "outlinewidth": 0,
              "ticks": ""
             }
            },
            "type": "scatterpolar"
           }
          ],
          "scatterpolargl": [
           {
            "marker": {
             "colorbar": {
              "outlinewidth": 0,
              "ticks": ""
             }
            },
            "type": "scatterpolargl"
           }
          ],
          "scatterternary": [
           {
            "marker": {
             "colorbar": {
              "outlinewidth": 0,
              "ticks": ""
             }
            },
            "type": "scatterternary"
           }
          ],
          "surface": [
           {
            "colorbar": {
             "outlinewidth": 0,
             "ticks": ""
            },
            "colorscale": [
             [
              0,
              "#0d0887"
             ],
             [
              0.1111111111111111,
              "#46039f"
             ],
             [
              0.2222222222222222,
              "#7201a8"
             ],
             [
              0.3333333333333333,
              "#9c179e"
             ],
             [
              0.4444444444444444,
              "#bd3786"
             ],
             [
              0.5555555555555556,
              "#d8576b"
             ],
             [
              0.6666666666666666,
              "#ed7953"
             ],
             [
              0.7777777777777778,
              "#fb9f3a"
             ],
             [
              0.8888888888888888,
              "#fdca26"
             ],
             [
              1,
              "#f0f921"
             ]
            ],
            "type": "surface"
           }
          ],
          "table": [
           {
            "cells": {
             "fill": {
              "color": "#EBF0F8"
             },
             "line": {
              "color": "white"
             }
            },
            "header": {
             "fill": {
              "color": "#C8D4E3"
             },
             "line": {
              "color": "white"
             }
            },
            "type": "table"
           }
          ]
         },
         "layout": {
          "annotationdefaults": {
           "arrowcolor": "#2a3f5f",
           "arrowhead": 0,
           "arrowwidth": 1
          },
          "autotypenumbers": "strict",
          "coloraxis": {
           "colorbar": {
            "outlinewidth": 0,
            "ticks": ""
           }
          },
          "colorscale": {
           "diverging": [
            [
             0,
             "#8e0152"
            ],
            [
             0.1,
             "#c51b7d"
            ],
            [
             0.2,
             "#de77ae"
            ],
            [
             0.3,
             "#f1b6da"
            ],
            [
             0.4,
             "#fde0ef"
            ],
            [
             0.5,
             "#f7f7f7"
            ],
            [
             0.6,
             "#e6f5d0"
            ],
            [
             0.7,
             "#b8e186"
            ],
            [
             0.8,
             "#7fbc41"
            ],
            [
             0.9,
             "#4d9221"
            ],
            [
             1,
             "#276419"
            ]
           ],
           "sequential": [
            [
             0,
             "#0d0887"
            ],
            [
             0.1111111111111111,
             "#46039f"
            ],
            [
             0.2222222222222222,
             "#7201a8"
            ],
            [
             0.3333333333333333,
             "#9c179e"
            ],
            [
             0.4444444444444444,
             "#bd3786"
            ],
            [
             0.5555555555555556,
             "#d8576b"
            ],
            [
             0.6666666666666666,
             "#ed7953"
            ],
            [
             0.7777777777777778,
             "#fb9f3a"
            ],
            [
             0.8888888888888888,
             "#fdca26"
            ],
            [
             1,
             "#f0f921"
            ]
           ],
           "sequentialminus": [
            [
             0,
             "#0d0887"
            ],
            [
             0.1111111111111111,
             "#46039f"
            ],
            [
             0.2222222222222222,
             "#7201a8"
            ],
            [
             0.3333333333333333,
             "#9c179e"
            ],
            [
             0.4444444444444444,
             "#bd3786"
            ],
            [
             0.5555555555555556,
             "#d8576b"
            ],
            [
             0.6666666666666666,
             "#ed7953"
            ],
            [
             0.7777777777777778,
             "#fb9f3a"
            ],
            [
             0.8888888888888888,
             "#fdca26"
            ],
            [
             1,
             "#f0f921"
            ]
           ]
          },
          "colorway": [
           "#636efa",
           "#EF553B",
           "#00cc96",
           "#ab63fa",
           "#FFA15A",
           "#19d3f3",
           "#FF6692",
           "#B6E880",
           "#FF97FF",
           "#FECB52"
          ],
          "font": {
           "color": "#2a3f5f"
          },
          "geo": {
           "bgcolor": "white",
           "lakecolor": "white",
           "landcolor": "#E5ECF6",
           "showlakes": true,
           "showland": true,
           "subunitcolor": "white"
          },
          "hoverlabel": {
           "align": "left"
          },
          "hovermode": "closest",
          "mapbox": {
           "style": "light"
          },
          "paper_bgcolor": "white",
          "plot_bgcolor": "#E5ECF6",
          "polar": {
           "angularaxis": {
            "gridcolor": "white",
            "linecolor": "white",
            "ticks": ""
           },
           "bgcolor": "#E5ECF6",
           "radialaxis": {
            "gridcolor": "white",
            "linecolor": "white",
            "ticks": ""
           }
          },
          "scene": {
           "xaxis": {
            "backgroundcolor": "#E5ECF6",
            "gridcolor": "white",
            "gridwidth": 2,
            "linecolor": "white",
            "showbackground": true,
            "ticks": "",
            "zerolinecolor": "white"
           },
           "yaxis": {
            "backgroundcolor": "#E5ECF6",
            "gridcolor": "white",
            "gridwidth": 2,
            "linecolor": "white",
            "showbackground": true,
            "ticks": "",
            "zerolinecolor": "white"
           },
           "zaxis": {
            "backgroundcolor": "#E5ECF6",
            "gridcolor": "white",
            "gridwidth": 2,
            "linecolor": "white",
            "showbackground": true,
            "ticks": "",
            "zerolinecolor": "white"
           }
          },
          "shapedefaults": {
           "line": {
            "color": "#2a3f5f"
           }
          },
          "ternary": {
           "aaxis": {
            "gridcolor": "white",
            "linecolor": "white",
            "ticks": ""
           },
           "baxis": {
            "gridcolor": "white",
            "linecolor": "white",
            "ticks": ""
           },
           "bgcolor": "#E5ECF6",
           "caxis": {
            "gridcolor": "white",
            "linecolor": "white",
            "ticks": ""
           }
          },
          "title": {
           "x": 0.05
          },
          "xaxis": {
           "automargin": true,
           "gridcolor": "white",
           "linecolor": "white",
           "ticks": "",
           "title": {
            "standoff": 15
           },
           "zerolinecolor": "white",
           "zerolinewidth": 2
          },
          "yaxis": {
           "automargin": true,
           "gridcolor": "white",
           "linecolor": "white",
           "ticks": "",
           "title": {
            "standoff": 15
           },
           "zerolinecolor": "white",
           "zerolinewidth": 2
          }
         }
        }
       }
      },
      "text/html": [
       "<div>                            <div id=\"e52491a3-ede3-491e-b9c6-b9a5a8c15892\" class=\"plotly-graph-div\" style=\"height:700px; width:100%;\"></div>            <script type=\"text/javascript\">                require([\"plotly\"], function(Plotly) {                    window.PLOTLYENV=window.PLOTLYENV || {};                                    if (document.getElementById(\"e52491a3-ede3-491e-b9c6-b9a5a8c15892\")) {                    Plotly.newPlot(                        \"e52491a3-ede3-491e-b9c6-b9a5a8c15892\",                        [{\"colorscale\":[[0.0,\"#636efa\"],[1.0,\"#636efa\"]],\"featureidkey\":\"properties.name\",\"geo\":\"geo\",\"hovertemplate\":\"\\u003cb\\u003e%{hovertext}\\u003c\\u002fb\\u003e\\u003cbr\\u003e\\u003cbr\\u003eMax Score=family\\u003cbr\\u003eCountry=%{location}\\u003cextra\\u003e\\u003c\\u002fextra\\u003e\",\"hovertext\":[\"Afghanistan\",\"Bolivia\",\"Botswana\",\"Burundi\",\"Cameroon\",\"Chad\",\"China\",\"Haiti\",\"Indonesia\",\"Kenya\",\"Libya\",\"Mali\",\"Mauritania\",\"Niger\",\"Nigeria\",\"Rwanda\",\"Senegal\",\"Sierra Leone\",\"Tajikistan\",\"Tanzania\",\"Thailand\",\"Uganda\"],\"locationmode\":\"country names\",\"locations\":[\"Afghanistan\",\"Bolivia\",\"Botswana\",\"Burundi\",\"Cameroon\",\"Chad\",\"China\",\"Haiti\",\"Indonesia\",\"Kenya\",\"Libya\",\"Mali\",\"Mauritania\",\"Niger\",\"Nigeria\",\"Rwanda\",\"Senegal\",\"Sierra Leone\",\"Tajikistan\",\"Tanzania\",\"Thailand\",\"Uganda\"],\"name\":\"family\",\"showlegend\":true,\"showscale\":false,\"z\":[1,1,1,1,1,1,1,1,1,1,1,1,1,1,1,1,1,1,1,1,1,1],\"type\":\"choropleth\"},{\"colorscale\":[[0.0,\"#EF553B\"],[1.0,\"#EF553B\"]],\"featureidkey\":\"properties.name\",\"geo\":\"geo\",\"hovertemplate\":\"\\u003cb\\u003e%{hovertext}\\u003c\\u002fb\\u003e\\u003cbr\\u003e\\u003cbr\\u003eMax Score=gdp_per_capita\\u003cbr\\u003eCountry=%{location}\\u003cextra\\u003e\\u003c\\u002fextra\\u003e\",\"hovertext\":[\"Albania\",\"Bahrain\",\"Cyprus\",\"Gabon\",\"Georgia\",\"Germany\",\"Greece\",\"India\",\"Iran\",\"Iraq\",\"Kuwait\",\"Luxembourg\",\"Malaysia\",\"Morocco\",\"Norway\",\"Saudi Arabia\",\"Singapore\",\"Switzerland\",\"Tunisia\",\"United Arab Emirates\",\"United States\"],\"locationmode\":\"country names\",\"locations\":[\"Albania\",\"Bahrain\",\"Cyprus\",\"Gabon\",\"Georgia\",\"Germany\",\"Greece\",\"India\",\"Iran\",\"Iraq\",\"Kuwait\",\"Luxembourg\",\"Malaysia\",\"Morocco\",\"Norway\",\"Saudi Arabia\",\"Singapore\",\"Switzerland\",\"Tunisia\",\"United Arab Emirates\",\"United States\"],\"name\":\"gdp_per_capita\",\"showlegend\":true,\"showscale\":false,\"z\":[1,1,1,1,1,1,1,1,1,1,1,1,1,1,1,1,1,1,1,1,1],\"type\":\"choropleth\"},{\"colorscale\":[[0.0,\"#00cc96\"],[1.0,\"#00cc96\"]],\"featureidkey\":\"properties.name\",\"geo\":\"geo\",\"hovertemplate\":\"\\u003cb\\u003e%{hovertext}\\u003c\\u002fb\\u003e\\u003cbr\\u003e\\u003cbr\\u003eMax Score=social_support\\u003cbr\\u003eCountry=%{location}\\u003cextra\\u003e\\u003c\\u002fextra\\u003e\",\"hovertext\":[\"Algeria\",\"Argentina\",\"Armenia\",\"Australia\",\"Austria\",\"Azerbaijan\",\"Bangladesh\",\"Belarus\",\"Belgium\",\"Bosnia and Herzegovina\",\"Brazil\",\"Bulgaria\",\"Burkina Faso\",\"Cambodia\",\"Canada\",\"Chile\",\"Colombia\",\"Costa Rica\",\"Croatia\",\"Denmark\",\"Dominican Republic\",\"Ecuador\",\"Egypt\",\"El Salvador\",\"Estonia\",\"Ethiopia\",\"Finland\",\"France\",\"Ghana\",\"Guatemala\",\"Guinea\",\"Honduras\",\"Hungary\",\"Iceland\",\"Ireland\",\"Israel\",\"Italy\",\"Jamaica\",\"Japan\",\"Jordan\",\"Kazakhstan\",\"Kyrgyzstan\",\"Latvia\",\"Lebanon\",\"Liberia\",\"Lithuania\",\"Madagascar\",\"Malawi\",\"Malta\",\"Mauritius\",\"Mexico\",\"Moldova\",\"Mongolia\",\"Montenegro\",\"Myanmar\",\"Nepal\",\"Netherlands\",\"New Zealand\",\"Nicaragua\",\"Pakistan\",\"Panama\",\"Paraguay\",\"Peru\",\"Philippines\",\"Poland\",\"Portugal\",\"Romania\",\"Russia\",\"Serbia\",\"Slovakia\",\"Slovenia\",\"South Africa\",\"Spain\",\"Sri Lanka\",\"Sweden\",\"Togo\",\"Turkey\",\"Turkmenistan\",\"Ukraine\",\"United Kingdom\",\"Uruguay\",\"Uzbekistan\",\"Venezuela\",\"Vietnam\",\"Yemen\",\"Zambia\",\"Zimbabwe\"],\"locationmode\":\"country names\",\"locations\":[\"Algeria\",\"Argentina\",\"Armenia\",\"Australia\",\"Austria\",\"Azerbaijan\",\"Bangladesh\",\"Belarus\",\"Belgium\",\"Bosnia and Herzegovina\",\"Brazil\",\"Bulgaria\",\"Burkina Faso\",\"Cambodia\",\"Canada\",\"Chile\",\"Colombia\",\"Costa Rica\",\"Croatia\",\"Denmark\",\"Dominican Republic\",\"Ecuador\",\"Egypt\",\"El Salvador\",\"Estonia\",\"Ethiopia\",\"Finland\",\"France\",\"Ghana\",\"Guatemala\",\"Guinea\",\"Honduras\",\"Hungary\",\"Iceland\",\"Ireland\",\"Israel\",\"Italy\",\"Jamaica\",\"Japan\",\"Jordan\",\"Kazakhstan\",\"Kyrgyzstan\",\"Latvia\",\"Lebanon\",\"Liberia\",\"Lithuania\",\"Madagascar\",\"Malawi\",\"Malta\",\"Mauritius\",\"Mexico\",\"Moldova\",\"Mongolia\",\"Montenegro\",\"Myanmar\",\"Nepal\",\"Netherlands\",\"New Zealand\",\"Nicaragua\",\"Pakistan\",\"Panama\",\"Paraguay\",\"Peru\",\"Philippines\",\"Poland\",\"Portugal\",\"Romania\",\"Russia\",\"Serbia\",\"Slovakia\",\"Slovenia\",\"South Africa\",\"Spain\",\"Sri Lanka\",\"Sweden\",\"Togo\",\"Turkey\",\"Turkmenistan\",\"Ukraine\",\"United Kingdom\",\"Uruguay\",\"Uzbekistan\",\"Venezuela\",\"Vietnam\",\"Yemen\",\"Zambia\",\"Zimbabwe\"],\"name\":\"social_support\",\"showlegend\":true,\"showscale\":false,\"z\":[1,1,1,1,1,1,1,1,1,1,1,1,1,1,1,1,1,1,1,1,1,1,1,1,1,1,1,1,1,1,1,1,1,1,1,1,1,1,1,1,1,1,1,1,1,1,1,1,1,1,1,1,1,1,1,1,1,1,1,1,1,1,1,1,1,1,1,1,1,1,1,1,1,1,1,1,1,1,1,1,1,1,1,1,1,1,1],\"type\":\"choropleth\"},{\"colorscale\":[[0.0,\"#ab63fa\"],[1.0,\"#ab63fa\"]],\"featureidkey\":\"properties.name\",\"geo\":\"geo\",\"hovertemplate\":\"\\u003cb\\u003e%{hovertext}\\u003c\\u002fb\\u003e\\u003cbr\\u003e\\u003cbr\\u003eMax Score=freedom\\u003cbr\\u003eCountry=%{location}\\u003cextra\\u003e\\u003c\\u002fextra\\u003e\",\"hovertext\":[\"Benin\"],\"locationmode\":\"country names\",\"locations\":[\"Benin\"],\"name\":\"freedom\",\"showlegend\":true,\"showscale\":false,\"z\":[1],\"type\":\"choropleth\"}],                        {\"template\":{\"data\":{\"histogram2dcontour\":[{\"type\":\"histogram2dcontour\",\"colorbar\":{\"outlinewidth\":0,\"ticks\":\"\"},\"colorscale\":[[0.0,\"#0d0887\"],[0.1111111111111111,\"#46039f\"],[0.2222222222222222,\"#7201a8\"],[0.3333333333333333,\"#9c179e\"],[0.4444444444444444,\"#bd3786\"],[0.5555555555555556,\"#d8576b\"],[0.6666666666666666,\"#ed7953\"],[0.7777777777777778,\"#fb9f3a\"],[0.8888888888888888,\"#fdca26\"],[1.0,\"#f0f921\"]]}],\"choropleth\":[{\"type\":\"choropleth\",\"colorbar\":{\"outlinewidth\":0,\"ticks\":\"\"}}],\"histogram2d\":[{\"type\":\"histogram2d\",\"colorbar\":{\"outlinewidth\":0,\"ticks\":\"\"},\"colorscale\":[[0.0,\"#0d0887\"],[0.1111111111111111,\"#46039f\"],[0.2222222222222222,\"#7201a8\"],[0.3333333333333333,\"#9c179e\"],[0.4444444444444444,\"#bd3786\"],[0.5555555555555556,\"#d8576b\"],[0.6666666666666666,\"#ed7953\"],[0.7777777777777778,\"#fb9f3a\"],[0.8888888888888888,\"#fdca26\"],[1.0,\"#f0f921\"]]}],\"heatmap\":[{\"type\":\"heatmap\",\"colorbar\":{\"outlinewidth\":0,\"ticks\":\"\"},\"colorscale\":[[0.0,\"#0d0887\"],[0.1111111111111111,\"#46039f\"],[0.2222222222222222,\"#7201a8\"],[0.3333333333333333,\"#9c179e\"],[0.4444444444444444,\"#bd3786\"],[0.5555555555555556,\"#d8576b\"],[0.6666666666666666,\"#ed7953\"],[0.7777777777777778,\"#fb9f3a\"],[0.8888888888888888,\"#fdca26\"],[1.0,\"#f0f921\"]]}],\"heatmapgl\":[{\"type\":\"heatmapgl\",\"colorbar\":{\"outlinewidth\":0,\"ticks\":\"\"},\"colorscale\":[[0.0,\"#0d0887\"],[0.1111111111111111,\"#46039f\"],[0.2222222222222222,\"#7201a8\"],[0.3333333333333333,\"#9c179e\"],[0.4444444444444444,\"#bd3786\"],[0.5555555555555556,\"#d8576b\"],[0.6666666666666666,\"#ed7953\"],[0.7777777777777778,\"#fb9f3a\"],[0.8888888888888888,\"#fdca26\"],[1.0,\"#f0f921\"]]}],\"contourcarpet\":[{\"type\":\"contourcarpet\",\"colorbar\":{\"outlinewidth\":0,\"ticks\":\"\"}}],\"contour\":[{\"type\":\"contour\",\"colorbar\":{\"outlinewidth\":0,\"ticks\":\"\"},\"colorscale\":[[0.0,\"#0d0887\"],[0.1111111111111111,\"#46039f\"],[0.2222222222222222,\"#7201a8\"],[0.3333333333333333,\"#9c179e\"],[0.4444444444444444,\"#bd3786\"],[0.5555555555555556,\"#d8576b\"],[0.6666666666666666,\"#ed7953\"],[0.7777777777777778,\"#fb9f3a\"],[0.8888888888888888,\"#fdca26\"],[1.0,\"#f0f921\"]]}],\"surface\":[{\"type\":\"surface\",\"colorbar\":{\"outlinewidth\":0,\"ticks\":\"\"},\"colorscale\":[[0.0,\"#0d0887\"],[0.1111111111111111,\"#46039f\"],[0.2222222222222222,\"#7201a8\"],[0.3333333333333333,\"#9c179e\"],[0.4444444444444444,\"#bd3786\"],[0.5555555555555556,\"#d8576b\"],[0.6666666666666666,\"#ed7953\"],[0.7777777777777778,\"#fb9f3a\"],[0.8888888888888888,\"#fdca26\"],[1.0,\"#f0f921\"]]}],\"mesh3d\":[{\"type\":\"mesh3d\",\"colorbar\":{\"outlinewidth\":0,\"ticks\":\"\"}}],\"scatter\":[{\"fillpattern\":{\"fillmode\":\"overlay\",\"size\":10,\"solidity\":0.2},\"type\":\"scatter\"}],\"parcoords\":[{\"type\":\"parcoords\",\"line\":{\"colorbar\":{\"outlinewidth\":0,\"ticks\":\"\"}}}],\"scatterpolargl\":[{\"type\":\"scatterpolargl\",\"marker\":{\"colorbar\":{\"outlinewidth\":0,\"ticks\":\"\"}}}],\"bar\":[{\"error_x\":{\"color\":\"#2a3f5f\"},\"error_y\":{\"color\":\"#2a3f5f\"},\"marker\":{\"line\":{\"color\":\"#E5ECF6\",\"width\":0.5},\"pattern\":{\"fillmode\":\"overlay\",\"size\":10,\"solidity\":0.2}},\"type\":\"bar\"}],\"scattergeo\":[{\"type\":\"scattergeo\",\"marker\":{\"colorbar\":{\"outlinewidth\":0,\"ticks\":\"\"}}}],\"scatterpolar\":[{\"type\":\"scatterpolar\",\"marker\":{\"colorbar\":{\"outlinewidth\":0,\"ticks\":\"\"}}}],\"histogram\":[{\"marker\":{\"pattern\":{\"fillmode\":\"overlay\",\"size\":10,\"solidity\":0.2}},\"type\":\"histogram\"}],\"scattergl\":[{\"type\":\"scattergl\",\"marker\":{\"colorbar\":{\"outlinewidth\":0,\"ticks\":\"\"}}}],\"scatter3d\":[{\"type\":\"scatter3d\",\"line\":{\"colorbar\":{\"outlinewidth\":0,\"ticks\":\"\"}},\"marker\":{\"colorbar\":{\"outlinewidth\":0,\"ticks\":\"\"}}}],\"scattermapbox\":[{\"type\":\"scattermapbox\",\"marker\":{\"colorbar\":{\"outlinewidth\":0,\"ticks\":\"\"}}}],\"scatterternary\":[{\"type\":\"scatterternary\",\"marker\":{\"colorbar\":{\"outlinewidth\":0,\"ticks\":\"\"}}}],\"scattercarpet\":[{\"type\":\"scattercarpet\",\"marker\":{\"colorbar\":{\"outlinewidth\":0,\"ticks\":\"\"}}}],\"carpet\":[{\"aaxis\":{\"endlinecolor\":\"#2a3f5f\",\"gridcolor\":\"white\",\"linecolor\":\"white\",\"minorgridcolor\":\"white\",\"startlinecolor\":\"#2a3f5f\"},\"baxis\":{\"endlinecolor\":\"#2a3f5f\",\"gridcolor\":\"white\",\"linecolor\":\"white\",\"minorgridcolor\":\"white\",\"startlinecolor\":\"#2a3f5f\"},\"type\":\"carpet\"}],\"table\":[{\"cells\":{\"fill\":{\"color\":\"#EBF0F8\"},\"line\":{\"color\":\"white\"}},\"header\":{\"fill\":{\"color\":\"#C8D4E3\"},\"line\":{\"color\":\"white\"}},\"type\":\"table\"}],\"barpolar\":[{\"marker\":{\"line\":{\"color\":\"#E5ECF6\",\"width\":0.5},\"pattern\":{\"fillmode\":\"overlay\",\"size\":10,\"solidity\":0.2}},\"type\":\"barpolar\"}],\"pie\":[{\"automargin\":true,\"type\":\"pie\"}]},\"layout\":{\"autotypenumbers\":\"strict\",\"colorway\":[\"#636efa\",\"#EF553B\",\"#00cc96\",\"#ab63fa\",\"#FFA15A\",\"#19d3f3\",\"#FF6692\",\"#B6E880\",\"#FF97FF\",\"#FECB52\"],\"font\":{\"color\":\"#2a3f5f\"},\"hovermode\":\"closest\",\"hoverlabel\":{\"align\":\"left\"},\"paper_bgcolor\":\"white\",\"plot_bgcolor\":\"#E5ECF6\",\"polar\":{\"bgcolor\":\"#E5ECF6\",\"angularaxis\":{\"gridcolor\":\"white\",\"linecolor\":\"white\",\"ticks\":\"\"},\"radialaxis\":{\"gridcolor\":\"white\",\"linecolor\":\"white\",\"ticks\":\"\"}},\"ternary\":{\"bgcolor\":\"#E5ECF6\",\"aaxis\":{\"gridcolor\":\"white\",\"linecolor\":\"white\",\"ticks\":\"\"},\"baxis\":{\"gridcolor\":\"white\",\"linecolor\":\"white\",\"ticks\":\"\"},\"caxis\":{\"gridcolor\":\"white\",\"linecolor\":\"white\",\"ticks\":\"\"}},\"coloraxis\":{\"colorbar\":{\"outlinewidth\":0,\"ticks\":\"\"}},\"colorscale\":{\"sequential\":[[0.0,\"#0d0887\"],[0.1111111111111111,\"#46039f\"],[0.2222222222222222,\"#7201a8\"],[0.3333333333333333,\"#9c179e\"],[0.4444444444444444,\"#bd3786\"],[0.5555555555555556,\"#d8576b\"],[0.6666666666666666,\"#ed7953\"],[0.7777777777777778,\"#fb9f3a\"],[0.8888888888888888,\"#fdca26\"],[1.0,\"#f0f921\"]],\"sequentialminus\":[[0.0,\"#0d0887\"],[0.1111111111111111,\"#46039f\"],[0.2222222222222222,\"#7201a8\"],[0.3333333333333333,\"#9c179e\"],[0.4444444444444444,\"#bd3786\"],[0.5555555555555556,\"#d8576b\"],[0.6666666666666666,\"#ed7953\"],[0.7777777777777778,\"#fb9f3a\"],[0.8888888888888888,\"#fdca26\"],[1.0,\"#f0f921\"]],\"diverging\":[[0,\"#8e0152\"],[0.1,\"#c51b7d\"],[0.2,\"#de77ae\"],[0.3,\"#f1b6da\"],[0.4,\"#fde0ef\"],[0.5,\"#f7f7f7\"],[0.6,\"#e6f5d0\"],[0.7,\"#b8e186\"],[0.8,\"#7fbc41\"],[0.9,\"#4d9221\"],[1,\"#276419\"]]},\"xaxis\":{\"gridcolor\":\"white\",\"linecolor\":\"white\",\"ticks\":\"\",\"title\":{\"standoff\":15},\"zerolinecolor\":\"white\",\"automargin\":true,\"zerolinewidth\":2},\"yaxis\":{\"gridcolor\":\"white\",\"linecolor\":\"white\",\"ticks\":\"\",\"title\":{\"standoff\":15},\"zerolinecolor\":\"white\",\"automargin\":true,\"zerolinewidth\":2},\"scene\":{\"xaxis\":{\"backgroundcolor\":\"#E5ECF6\",\"gridcolor\":\"white\",\"linecolor\":\"white\",\"showbackground\":true,\"ticks\":\"\",\"zerolinecolor\":\"white\",\"gridwidth\":2},\"yaxis\":{\"backgroundcolor\":\"#E5ECF6\",\"gridcolor\":\"white\",\"linecolor\":\"white\",\"showbackground\":true,\"ticks\":\"\",\"zerolinecolor\":\"white\",\"gridwidth\":2},\"zaxis\":{\"backgroundcolor\":\"#E5ECF6\",\"gridcolor\":\"white\",\"linecolor\":\"white\",\"showbackground\":true,\"ticks\":\"\",\"zerolinecolor\":\"white\",\"gridwidth\":2}},\"shapedefaults\":{\"line\":{\"color\":\"#2a3f5f\"}},\"annotationdefaults\":{\"arrowcolor\":\"#2a3f5f\",\"arrowhead\":0,\"arrowwidth\":1},\"geo\":{\"bgcolor\":\"white\",\"landcolor\":\"#E5ECF6\",\"subunitcolor\":\"white\",\"showland\":true,\"showlakes\":true,\"lakecolor\":\"white\"},\"title\":{\"x\":0.05},\"mapbox\":{\"style\":\"light\"}}},\"geo\":{\"domain\":{\"x\":[0.0,1.0],\"y\":[0.0,1.0]},\"projection\":{\"type\":\"natural earth\"},\"center\":{}},\"legend\":{\"title\":{\"text\":\"Max Score\"},\"tracegroupgap\":0},\"margin\":{\"t\":60},\"height\":700},                        {\"responsive\": true}                    ).then(function(){\n",
       "                            \n",
       "var gd = document.getElementById('e52491a3-ede3-491e-b9c6-b9a5a8c15892');\n",
       "var x = new MutationObserver(function (mutations, observer) {{\n",
       "        var display = window.getComputedStyle(gd).display;\n",
       "        if (!display || display === 'none') {{\n",
       "            console.log([gd, 'removed!']);\n",
       "            Plotly.purge(gd);\n",
       "            observer.disconnect();\n",
       "        }}\n",
       "}});\n",
       "\n",
       "// Listen for the removal of the full notebook cells\n",
       "var notebookContainer = gd.closest('#notebook-container');\n",
       "if (notebookContainer) {{\n",
       "    x.observe(notebookContainer, {childList: true});\n",
       "}}\n",
       "\n",
       "// Listen for the clearing of the current output cell\n",
       "var outputEl = gd.closest('.output');\n",
       "if (outputEl) {{\n",
       "    x.observe(outputEl, {childList: true});\n",
       "}}\n",
       "\n",
       "                        })                };                });            </script>        </div>"
      ]
     },
     "metadata": {},
     "output_type": "display_data"
    }
   ],
   "source": [
    "\n",
    "data = pd.read_csv('full_data.csv')\n",
    "\n",
    "columns = ['gdp_per_capita', 'family', 'health', 'freedom', 'generosity', 'government_trust', 'social_support']\n",
    "\n",
    "main_source_happiness = data.groupby('Country')[columns].max()\n",
    "maxhappy = main_source_happiness.idxmax(axis=1)\n",
    "\n",
    "maxhappyy = pd.DataFrame({'Country': maxhappy.index, 'Max': maxhappy.values})\n",
    "\n",
    "fig = px.choropleth(maxhappyy,\n",
    "                    locations=\"Country\",\n",
    "                    color=\"Max\",\n",
    "                    hover_name=\"Country\",\n",
    "                    color_continuous_scale='Plasma',\n",
    "                    labels={'Max': 'Max Score'},\n",
    "                    featureidkey='properties.name',\n",
    "                    projection='natural earth',\n",
    "                    height=700,\n",
    "                    locationmode = 'country names',\n",
    "                    )\n",
    "\n",
    "# Show the plot\n",
    "fig.show()"
   ]
  },
  {
   "cell_type": "markdown",
   "id": "30d319f6",
   "metadata": {},
   "source": [
    "---"
   ]
  },
  {
   "cell_type": "markdown",
   "id": "40ed7174",
   "metadata": {},
   "source": [
    "### Reflection\n",
    "\n",
    "Throughout the assignment, we engaged in a collaborative effort to analyze and visualize the data. Originally we were in a group of four but one guy didn’t show up or respond to any of our messages, so at the end we worked in a group of three. In the end we didn't have a problem with the missing person as we were perfectly able to do the group project with the three of us. We worked together to clean and transform the datasets, ensuring the accuracy and reliability of our visualizations. This process required attention to detail and problem-solving skills as we encountered challenges such as missing values and outliers. Using Pandas, we manipulated and reshaped the data to uncover insights. We experimented with different chart types, colors, and layouts to present our findings effectively. Through bar plots, line plots, 3d-scatter plots and much more, we showcased the relationship between happiness scores, GDP per capita and a lot of other correlated subjects.\n",
    "\n",
    "During our exploration, we made intriguing observations and encountered unexpected patterns. We delved deeper into the data, conducting additional research to understand the factors contributing to these deviations. Incorporating contextual information, we provided a comprehensive interpretation of the data, enriching our visualizations. Working as a group allowed us to leverage each other's strengths and learn from one another. We collaborated on data preprocessing, visualization techniques, and interpretation, fostering our technical and analytical skills. We discovered the power of data storytelling and its ability to convey insights in a compelling manner.\n",
    "\n",
    "This assignment was a valuable learning experience for our group. It deepened our understanding of data analysis and visualization while highlighting the importance of collaboration and teamwork. Moving forward, we will continue to refine our skills and explore new opportunities to apply data-driven approaches in solving real-world problems.\n"
   ]
  },
  {
   "cell_type": "markdown",
   "id": "94fb5b39",
   "metadata": {},
   "source": [
    "---"
   ]
  },
  {
   "cell_type": "markdown",
   "id": "bbd3be6e",
   "metadata": {},
   "source": [
    "### work distribution\n",
    "\n",
    "At the end we all had a good contribution to the final product, except for Martijn, he didn't show up or responed to any of our messages. Everybody wrote code for the visualisations and the corresponding data explanation. Mark did the figures ..., Joep did the figures ... and Jasper did the figures .... We also helped eachother finding solutions to problems we faced and couldn't solve them ourselves. We found ourselves in a good work environment and we learned a lot from eachother. \n"
   ]
  },
  {
   "cell_type": "code",
   "execution_count": null,
   "id": "f7c01540",
   "metadata": {},
   "outputs": [],
   "source": []
  },
  {
   "cell_type": "code",
   "execution_count": null,
   "id": "1ba4c4bb",
   "metadata": {},
   "outputs": [],
   "source": []
  },
  {
   "cell_type": "code",
   "execution_count": null,
   "id": "8de33b02",
   "metadata": {},
   "outputs": [],
   "source": []
  },
  {
   "cell_type": "code",
   "execution_count": null,
   "id": "299b390c",
   "metadata": {},
   "outputs": [],
   "source": []
  },
  {
   "cell_type": "code",
   "execution_count": null,
   "id": "383916ad",
   "metadata": {},
   "outputs": [],
   "source": []
  },
  {
   "cell_type": "code",
   "execution_count": null,
   "id": "69f25b85",
   "metadata": {},
   "outputs": [],
   "source": []
  },
  {
   "cell_type": "code",
   "execution_count": null,
   "id": "346302ba",
   "metadata": {},
   "outputs": [],
   "source": []
  },
  {
   "cell_type": "code",
   "execution_count": null,
   "id": "06b16030",
   "metadata": {},
   "outputs": [],
   "source": []
  },
  {
   "cell_type": "code",
   "execution_count": null,
   "id": "30491d02",
   "metadata": {},
   "outputs": [],
   "source": []
  },
  {
   "cell_type": "code",
   "execution_count": null,
   "id": "628b4218",
   "metadata": {},
   "outputs": [],
   "source": []
  },
  {
   "cell_type": "code",
   "execution_count": null,
   "id": "cd799175",
   "metadata": {},
   "outputs": [],
   "source": []
  }
 ],
 "metadata": {
  "kernelspec": {
   "display_name": "Python 3 (ipykernel)",
   "language": "python",
   "name": "python3"
  },
  "language_info": {
   "codemirror_mode": {
    "name": "ipython",
    "version": 3
   },
   "file_extension": ".py",
   "mimetype": "text/x-python",
   "name": "python",
   "nbconvert_exporter": "python",
   "pygments_lexer": "ipython3",
   "version": "3.10.6"
  },
  "vscode": {
   "interpreter": {
    "hash": "916dbcbb3f70747c44a77c7bcd40155683ae19c65e1c03b4aa3499c5328201f1"
   }
  }
 },
 "nbformat": 4,
 "nbformat_minor": 5
}
