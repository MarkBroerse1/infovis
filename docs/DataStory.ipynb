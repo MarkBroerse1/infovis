{
 "cells": [
  {
   "cell_type": "markdown",
   "id": "bd380a2c",
   "metadata": {},
   "source": [
    "Introduction:\n",
    "\n",
    "WORLD STUFF AND DATA"
   ]
  },
  {
   "cell_type": "markdown",
   "id": "24d84afb",
   "metadata": {},
   "source": [
    "---\n",
    "##DATASET AND PREPROCESSING"
   ]
  },
  {
   "cell_type": "code",
   "execution_count": 1,
   "id": "7e955a81",
   "metadata": {},
   "outputs": [
    {
     "name": "stdout",
     "output_type": "stream",
     "text": [
      "Defaulting to user installation because normal site-packages is not writeable\n",
      "Requirement already satisfied: seaborn in /home/mark/.local/lib/python3.10/site-packages (0.12.2)\n",
      "Requirement already satisfied: pandas>=0.25 in /usr/local/lib/python3.10/dist-packages (from seaborn) (1.5.3)\n",
      "Requirement already satisfied: numpy!=1.24.0,>=1.17 in /usr/lib/python3/dist-packages (from seaborn) (1.21.5)\n",
      "Requirement already satisfied: matplotlib!=3.6.1,>=3.1 in /usr/lib/python3/dist-packages (from seaborn) (3.5.1)\n",
      "Requirement already satisfied: pytz>=2020.1 in /usr/lib/python3/dist-packages (from pandas>=0.25->seaborn) (2022.1)\n",
      "Requirement already satisfied: python-dateutil>=2.8.1 in /usr/lib/python3/dist-packages (from pandas>=0.25->seaborn) (2.8.1)\n"
     ]
    }
   ],
   "source": [
    "!pip install seaborn\n",
    "import pandas as pd\n",
    "import plotly.express as px\n",
    "import seaborn as sns"
   ]
  },
  {
   "cell_type": "markdown",
   "id": "23eeff1c",
   "metadata": {},
   "source": [
    "###"
   ]
  },
  {
   "cell_type": "code",
   "execution_count": 2,
   "id": "c8aafdef",
   "metadata": {},
   "outputs": [
    {
     "name": "stdout",
     "output_type": "stream",
     "text": [
      "         Country  Year  Life_expectancy_at_birth  Expected_years_of_schooling  \\\n",
      "0       Zimbabwe  2018                    61.200                        10.45   \n",
      "1       Zimbabwe  2017                    60.812                        10.30   \n",
      "2       Zimbabwe  2016                    60.294                        10.30   \n",
      "3       Zimbabwe  2015                    59.534                        10.30   \n",
      "4         Zambia  2018                    63.510                        12.06   \n",
      "..           ...   ...                       ...                          ...   \n",
      "523      Albania  2015                    78.025                        14.80   \n",
      "524  Afghanistan  2018                    64.490                        10.14   \n",
      "525  Afghanistan  2017                    64.130                        10.40   \n",
      "526  Afghanistan  2016                    63.763                        10.40   \n",
      "527  Afghanistan  2015                    63.377                        10.40   \n",
      "\n",
      "     Average_of_years_of_schooling  GNI_per_capita_PPP  life_expectancy_index  \\\n",
      "0                             8.34             2661.07                   0.63   \n",
      "1                             8.20             2860.00                   0.63   \n",
      "2                             8.20             2570.00                   0.62   \n",
      "3                             8.20             2410.00                   0.61   \n",
      "4                             7.10             3581.89                   0.67   \n",
      "..                             ...                 ...                    ...   \n",
      "523                           9.70            11800.00                   0.89   \n",
      "524                           3.93             1745.67                   0.68   \n",
      "525                           3.80             2210.00                   0.68   \n",
      "526                           3.60             2140.00                   0.67   \n",
      "527                           3.60             2110.00                   0.67   \n",
      "\n",
      "     Education_Index  GNI_Index  HDI_1  ...  gdp_per_capita    family  \\\n",
      "0               0.58       0.50   0.56  ...        0.357000  0.000000   \n",
      "1               0.57       0.51   0.55  ...        0.366000  0.000000   \n",
      "2               0.57       0.49   0.55  ...        0.271000  1.032760   \n",
      "3               0.57       0.48   0.54  ...        0.375847  1.083096   \n",
      "4               0.60       0.54   0.59  ...        0.562000  0.000000   \n",
      "..               ...        ...    ...  ...             ...       ...   \n",
      "523             0.76       0.72   0.79  ...        0.996193  0.803685   \n",
      "524             0.45       0.43   0.50  ...        0.332000  0.000000   \n",
      "525             0.45       0.47   0.49  ...        0.350000  0.000000   \n",
      "526             0.45       0.46   0.49  ...        0.319820  0.302850   \n",
      "527             0.45       0.46   0.49  ...        0.401477  0.581543   \n",
      "\n",
      "       health   freedom  generosity  government_trust  dystopia_residual  \\\n",
      "0    0.248000  0.406000    0.132000          0.099000           0.000000   \n",
      "1    0.433000  0.361000    0.151000          0.089000           0.000000   \n",
      "2    0.334750  0.258610    0.189870          0.080790           2.441910   \n",
      "3    0.196764  0.336384    0.189143          0.095375           1.597970   \n",
      "4    0.295000  0.503000    0.221000          0.082000           0.000000   \n",
      "..        ...       ...         ...               ...                ...   \n",
      "523  0.731160  0.381499    0.201313          0.039864           1.490442   \n",
      "524  0.255000  0.085000    0.191000          0.036000           0.000000   \n",
      "525  0.361000  0.000000    0.158000          0.025000           0.000000   \n",
      "526  0.303350  0.234140    0.365100          0.097190           1.952100   \n",
      "527  0.180747  0.106180    0.311871          0.061158           2.150801   \n",
      "\n",
      "     continent  social_support  cpi_score  \n",
      "0       Africa           1.094         22  \n",
      "1       Africa           1.114         22  \n",
      "2       Africa           0.000         22  \n",
      "3       Africa           0.000         21  \n",
      "4       Africa           1.047         35  \n",
      "..         ...             ...        ...  \n",
      "523     Europe           0.000         36  \n",
      "524       Asia           0.537         16  \n",
      "525       Asia           0.517         15  \n",
      "526       Asia           0.000         15  \n",
      "527       Asia           0.000         11  \n",
      "\n",
      "[528 rows x 23 columns]\n"
     ]
    }
   ],
   "source": [
    "hdi = pd.read_csv('HDI.csv')\n",
    "happy = pd.read_csv('Happy.csv')\n",
    "\n",
    "def data_frame(input):\n",
    "    return pd.DataFrame.head(input)\n",
    "\n",
    "\n",
    "# Merge the two dataframes based on 'country' and 'year'\n",
    "merged_data = pd.merge(hdi, happy, on=['Country', 'Year'])\n",
    "\n",
    "# Save the merged data to full_data.csv\n",
    "merged_data.to_csv('full_data.csv', index=False)\n",
    "print(merged_data)"
   ]
  },
  {
   "cell_type": "markdown",
   "id": "e58ef1f1",
   "metadata": {},
   "source": [
    "For this project two datasets are used to form one dataset that contains the variables of both using the datapoints they share. The first dataset used can be found on https://www.kaggle.com/datasets/unsdsn/world-happiness, this dataset contains information on some scales aimed to measure the happiness of countries in the world. This dataset contains information of countries from 2015 to 2019. The variables in this dataset are Country, which just marks down the countries in the dataset, Year, which just notes the year where the data was measured. The relevant variables are:\n",
    "- happiness_score, which measures the happiness scores of each country obtained from the Gallup World Poll.\n",
    "- gdp_per_capita, which describes to what extent GDP per capita contributes to a country's happiness.\n",
    "- family, which describes to what extent family factors contribute to a country's happiness.\n",
    "- health, which describes to what extent health factors contribute to a country's happiness.\n",
    "- freedom, which describes to what extent freedom factors contribute to a country's happiness.\n",
    "- generosity, which describes to what extent generosity contributes to a country's happiness.\n",
    "- government_trust, which describes to what extent trust in the government contributes to a country's happiness.\n",
    "- dystopia_residual, which describes the unknown factors of a hypothetical 'worst' country (we will not use this data, because it is not relevant for our purposes).\n",
    "- social_support, which describes to what extent social support contributes to a country's happiness.\n",
    "- cpi_scores, which measures the perceived corruption of a country.\n"
   ]
  },
  {
   "cell_type": "markdown",
   "id": "46c74267",
   "metadata": {},
   "source": [
    "---\n",
    "DATANALYSE HIERONDER"
   ]
  },
  {
   "cell_type": "code",
   "execution_count": 3,
   "id": "860e429d",
   "metadata": {},
   "outputs": [],
   "source": [
    "#CODE HERE\n",
    "\n",
    "# Define a custom color palette for the continents\n",
    "continent_colors = {\n",
    "    'Africa': '#AEFD8E',\n",
    "    'Asia': '#FAA598',\n",
    "    'Europe': '#E3C97F',\n",
    "    'North America': '#B47FE3',\n",
    "    'Australia': '#B2E4FA',\n",
    "    'South America': '#E8EAC8'\n",
    "}"
   ]
  },
  {
   "cell_type": "markdown",
   "id": "30d319f6",
   "metadata": {},
   "source": [
    "---\n",
    "REFLECTION HIERONDER"
   ]
  },
  {
   "cell_type": "markdown",
   "id": "40ed7174",
   "metadata": {},
   "source": []
  },
  {
   "cell_type": "markdown",
   "id": "94fb5b39",
   "metadata": {},
   "source": [
    "---\n",
    "WORK DISTRIBUTION"
   ]
  },
  {
   "cell_type": "code",
   "execution_count": null,
   "id": "d9beb514",
   "metadata": {},
   "outputs": [],
   "source": []
  }
 ],
 "metadata": {
  "kernelspec": {
   "display_name": "Python 3 (ipykernel)",
   "language": "python",
   "name": "python3"
  },
  "language_info": {
   "codemirror_mode": {
    "name": "ipython",
    "version": 3
   },
   "file_extension": ".py",
   "mimetype": "text/x-python",
   "name": "python",
   "nbconvert_exporter": "python",
   "pygments_lexer": "ipython3",
   "version": "3.10.6"
  },
  "vscode": {
   "interpreter": {
    "hash": "916dbcbb3f70747c44a77c7bcd40155683ae19c65e1c03b4aa3499c5328201f1"
   }
  }
 },
 "nbformat": 4,
 "nbformat_minor": 5
}
