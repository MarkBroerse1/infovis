{
 "cells": [
  {
   "cell_type": "markdown",
   "id": "bd380a2c",
   "metadata": {},
   "source": [
    "## Introduction:\n",
    "\n",
    "In the ever-evolving landscape of world demographics it is paramount to be aware of trends and factors that influence the way humans experience and live their lives. Factors such as life expectancy, education and the source of happiness for different people in different countries determines the way people pursue happines and impact their environment around them.\n",
    "\n",
    "HDI gives us a fairly objective look into the quality of life within a country, thus we can use this measure to compare key indicators of quality of life and plot them with the happiness felt within a country, we can also fraw conclusions as to what aspects of life would create happiness for citizens of a country.\n",
    "\n",
    "One of our perspectives is that the richer a country and population is, the higher their education, the longer their lifespan and the happier a population will be. We will look for relations between a country's GNI and and their general quality of life indices.\n",
    "\n",
    "A different and somewhat opposing perspective on our data is that a population wealth does not strictly correlate to their happiness, especially above a certain treshold of wealth. To this end we will try to look between correlations between countries with similiar geographic and cultural settings but different economic outlooks.\n",
    "\n",
    "This is the story of that data and the conclusions we can draw from the graphics."
   ]
  },
  {
   "cell_type": "markdown",
   "id": "24d84afb",
   "metadata": {},
   "source": [
    "---\n",
    "## DATASET AND PREPROCESSING"
   ]
  },
  {
   "cell_type": "code",
   "execution_count": 50,
   "id": "7e955a81",
   "metadata": {},
   "outputs": [
    {
     "name": "stdout",
     "output_type": "stream",
     "text": [
      "Defaulting to user installation because normal site-packages is not writeable\n",
      "Requirement already satisfied: seaborn in /home/joep/.local/lib/python3.10/site-packages (0.12.2)\n",
      "Requirement already satisfied: pandas>=0.25 in /home/joep/.local/lib/python3.10/site-packages (from seaborn) (2.0.2)\n",
      "Requirement already satisfied: numpy!=1.24.0,>=1.17 in /usr/lib/python3/dist-packages (from seaborn) (1.21.5)\n",
      "Requirement already satisfied: matplotlib!=3.6.1,>=3.1 in /usr/lib/python3/dist-packages (from seaborn) (3.5.1)\n",
      "Requirement already satisfied: pytz>=2020.1 in /usr/lib/python3/dist-packages (from pandas>=0.25->seaborn) (2022.1)\n",
      "Requirement already satisfied: python-dateutil>=2.8.2 in /home/joep/.local/lib/python3.10/site-packages (from pandas>=0.25->seaborn) (2.8.2)\n",
      "Requirement already satisfied: tzdata>=2022.1 in /home/joep/.local/lib/python3.10/site-packages (from pandas>=0.25->seaborn) (2023.3)\n",
      "Requirement already satisfied: six>=1.5 in /usr/lib/python3/dist-packages (from python-dateutil>=2.8.2->pandas>=0.25->seaborn) (1.16.0)\n",
      "Defaulting to user installation because normal site-packages is not writeable\n",
      "\u001b[31mERROR: Could not find a version that satisfies the requirement csv (from versions: none)\u001b[0m\u001b[31m\n",
      "\u001b[0m\u001b[31mERROR: No matching distribution found for csv\u001b[0m\u001b[31m\n",
      "\u001b[0mDefaulting to user installation because normal site-packages is not writeable\n",
      "Requirement already satisfied: numpy in /usr/lib/python3/dist-packages (1.21.5)\n",
      "Defaulting to user installation because normal site-packages is not writeable\n",
      "Requirement already satisfied: plotly in /home/joep/.local/lib/python3.10/site-packages (5.15.0)\n",
      "Requirement already satisfied: tenacity>=6.2.0 in /home/joep/.local/lib/python3.10/site-packages (from plotly) (8.2.2)\n",
      "Requirement already satisfied: packaging in /usr/lib/python3/dist-packages (from plotly) (21.3)\n",
      "Defaulting to user installation because normal site-packages is not writeable\n",
      "Requirement already satisfied: pandas in /home/joep/.local/lib/python3.10/site-packages (2.0.2)\n",
      "Requirement already satisfied: tzdata>=2022.1 in /home/joep/.local/lib/python3.10/site-packages (from pandas) (2023.3)\n",
      "Requirement already satisfied: numpy>=1.21.0 in /usr/lib/python3/dist-packages (from pandas) (1.21.5)\n",
      "Requirement already satisfied: pytz>=2020.1 in /usr/lib/python3/dist-packages (from pandas) (2022.1)\n",
      "Requirement already satisfied: python-dateutil>=2.8.2 in /home/joep/.local/lib/python3.10/site-packages (from pandas) (2.8.2)\n",
      "Requirement already satisfied: six>=1.5 in /usr/lib/python3/dist-packages (from python-dateutil>=2.8.2->pandas) (1.16.0)\n",
      "Defaulting to user installation because normal site-packages is not writeable\n",
      "Requirement already satisfied: matplotlib in /usr/lib/python3/dist-packages (3.5.1)\n",
      "Defaulting to user installation because normal site-packages is not writeable\n",
      "Requirement already satisfied: seaborn in /home/joep/.local/lib/python3.10/site-packages (0.12.2)\n",
      "Requirement already satisfied: pandas>=0.25 in /home/joep/.local/lib/python3.10/site-packages (from seaborn) (2.0.2)\n",
      "Requirement already satisfied: matplotlib!=3.6.1,>=3.1 in /usr/lib/python3/dist-packages (from seaborn) (3.5.1)\n",
      "Requirement already satisfied: numpy!=1.24.0,>=1.17 in /usr/lib/python3/dist-packages (from seaborn) (1.21.5)\n",
      "Requirement already satisfied: tzdata>=2022.1 in /home/joep/.local/lib/python3.10/site-packages (from pandas>=0.25->seaborn) (2023.3)\n",
      "Requirement already satisfied: pytz>=2020.1 in /usr/lib/python3/dist-packages (from pandas>=0.25->seaborn) (2022.1)\n",
      "Requirement already satisfied: python-dateutil>=2.8.2 in /home/joep/.local/lib/python3.10/site-packages (from pandas>=0.25->seaborn) (2.8.2)\n",
      "Requirement already satisfied: six>=1.5 in /usr/lib/python3/dist-packages (from python-dateutil>=2.8.2->pandas>=0.25->seaborn) (1.16.0)\n"
     ]
    }
   ],
   "source": [
    "!pip install seaborn\n",
    "!pip install csv\n",
    "import pandas as pd\n",
    "import csv\n",
    "import matplotlib.patches as mpatches\n",
    "import matplotlib.pyplot as plt\n",
    "import plotly.express as px\n",
    "import seaborn as sns\n",
    "!pip install numpy\n",
    "!pip install plotly\n",
    "from collections import defaultdict\n",
    "!pip install pandas\n",
    "!pip install matplotlib\n",
    "!pip install -U seaborn"
   ]
  },
  {
   "cell_type": "markdown",
   "id": "23eeff1c",
   "metadata": {},
   "source": [
    "###"
   ]
  },
  {
   "cell_type": "code",
   "execution_count": 20,
   "id": "c8aafdef",
   "metadata": {},
   "outputs": [
    {
     "name": "stdout",
     "output_type": "stream",
     "text": [
      "    Country  Year  Life_expectancy_at_birth  Expected_years_of_schooling  \\\n",
      "0  Zimbabwe  2018                    61.200                        10.45   \n",
      "1  Zimbabwe  2017                    60.812                        10.30   \n",
      "2  Zimbabwe  2016                    60.294                        10.30   \n",
      "3  Zimbabwe  2015                    59.534                        10.30   \n",
      "4    Zambia  2018                    63.510                        12.06   \n",
      "\n",
      "   Average_of_years_of_schooling  GNI_per_capita_PPP  life_expectancy_index  \\\n",
      "0                           8.34             2661.07                   0.63   \n",
      "1                           8.20             2860.00                   0.63   \n",
      "2                           8.20             2570.00                   0.62   \n",
      "3                           8.20             2410.00                   0.61   \n",
      "4                           7.10             3581.89                   0.67   \n",
      "\n",
      "   Education_Index  GNI_Index  HDI_1  ...  gdp_per_capita    family    health  \\\n",
      "0             0.58       0.50   0.56  ...        0.357000  0.000000  0.248000   \n",
      "1             0.57       0.51   0.55  ...        0.366000  0.000000  0.433000   \n",
      "2             0.57       0.49   0.55  ...        0.271000  1.032760  0.334750   \n",
      "3             0.57       0.48   0.54  ...        0.375847  1.083096  0.196764   \n",
      "4             0.60       0.54   0.59  ...        0.562000  0.000000  0.295000   \n",
      "\n",
      "    freedom  generosity  government_trust  dystopia_residual  continent  \\\n",
      "0  0.406000    0.132000          0.099000            0.00000     Africa   \n",
      "1  0.361000    0.151000          0.089000            0.00000     Africa   \n",
      "2  0.258610    0.189870          0.080790            2.44191     Africa   \n",
      "3  0.336384    0.189143          0.095375            1.59797     Africa   \n",
      "4  0.503000    0.221000          0.082000            0.00000     Africa   \n",
      "\n",
      "   social_support  cpi_score  \n",
      "0           1.094         22  \n",
      "1           1.114         22  \n",
      "2           0.000         22  \n",
      "3           0.000         21  \n",
      "4           1.047         35  \n",
      "\n",
      "[5 rows x 23 columns]\n",
      "         Country  Education_Index  government_trust  cpi_score  \\\n",
      "0    Afghanistan           0.4500            0.0548      14.25   \n",
      "1    Afghanistan           0.4500            0.0548      14.25   \n",
      "2    Afghanistan           0.4500            0.0548      14.25   \n",
      "3    Afghanistan           0.4500            0.0548      14.25   \n",
      "4        Albania           0.7725            0.0407      37.25   \n",
      "..           ...              ...               ...        ...   \n",
      "523       Zambia           0.6075            0.0930      37.00   \n",
      "524     Zimbabwe           0.5725            0.0910      21.75   \n",
      "525     Zimbabwe           0.5725            0.0910      21.75   \n",
      "526     Zimbabwe           0.5725            0.0910      21.75   \n",
      "527     Zimbabwe           0.5725            0.0910      21.75   \n",
      "\n",
      "     gdp_per_capita  freedom continent  \n",
      "0            0.3508   0.1063      Asia  \n",
      "1            0.3508   0.1063      Asia  \n",
      "2            0.3508   0.1063      Asia  \n",
      "3            0.3508   0.1063      Asia  \n",
      "4            0.9345   0.3852    Europe  \n",
      "..              ...      ...       ...  \n",
      "523          0.5617   0.4710    Africa  \n",
      "524          0.3425   0.3405    Africa  \n",
      "525          0.3425   0.3405    Africa  \n",
      "526          0.3425   0.3405    Africa  \n",
      "527          0.3425   0.3405    Africa  \n",
      "\n",
      "[528 rows x 7 columns]\n"
     ]
    }
   ],
   "source": [
    "df = pd.read_csv('full_data.csv')\n",
    "\n",
    "print(df.head(n=5)) # Print the first 5 rows of the dataframe\n",
    "\n",
    "df_1 = pd.read_csv('full_data.csv')\n",
    "\n",
    "# selects the columns to get the mean\n",
    "columns_to_mean = ['Education_Index', 'government_trust', 'cpi_score', 'gdp_per_capita', 'freedom']\n",
    "\n",
    "df_mean = df_1.groupby('Country')[columns_to_mean].mean()\n",
    "\n",
    "# Reset the index to convert 'country' from the index to a regular column\n",
    "df_mean.reset_index(inplace=True)\n",
    "df_mean = df_mean.round(4)\n",
    "\n",
    "df_mean = pd.merge(df_mean, df_1[['Country', 'continent']], on='Country')\n",
    "\n",
    "# Display the mean DataFrame\n",
    "print(df_mean)\n",
    "\n",
    "df_mean.to_csv('mean_data.csv', index=False)"
   ]
  },
  {
   "cell_type": "markdown",
   "id": "90dc1288",
   "metadata": {},
   "source": [
    "For this project two datasets are used to form one dataset that contains the variables of both using the datapoints they share. The first dataset used can be found on https://www.kaggle.com/datasets/unsdsn/world-happiness, this dataset contains information on some scales aimed to measure the happiness of countries in the world. This dataset contains information of countries from 2015 to 2019. The variables in this dataset are Country, which just marks down the countries in the dataset, Year, which just notes the year where the data was measured. The relevant variables are:\n",
    "\n",
    "- happiness_score, which measures the happiness scores of each country obtained from the Gallup World Poll.\n",
    "- gdp_per_capita, which describes to what extent GDP per capita contributes to a country's happiness.\n",
    "- family, which describes to what extent family factors contribute to a country's happiness.\n",
    "- health, which describes to what extent health factors contribute to a country's happiness. \n",
    "- freedom, which describes to what extent freedom factors contribute to a country's happiness.\n",
    "- generosity, which describes to what extent generosity contributes to a country's happiness.\n",
    "- government_trust, which describes to what extent trust in the government contributes to a country's happiness.\n",
    "- dystopia_residual, which describes the unknown factors of a hypothetical 'worst' country (we will not use this  data, because it is not relevant for our purposes).\n",
    "- social_support, which describes to what extent social support contributes to a country's happiness.\n",
    "- cpi_scores, which measures the perceived corruption of a country."
   ]
  },
  {
   "cell_type": "markdown",
   "id": "46c74267",
   "metadata": {},
   "source": [
    "---\n",
    "ANALYSIS OF THE DATA"
   ]
  },
  {
   "cell_type": "code",
   "execution_count": 53,
   "id": "860e429d",
   "metadata": {},
   "outputs": [
    {
     "data": {
      "application/vnd.plotly.v1+json": {
       "config": {
        "plotlyServerURL": "https://plot.ly"
       },
       "data": [
        {
         "customdata": [
          [
           "Afghanistan"
          ],
          [
           "Afghanistan"
          ],
          [
           "Afghanistan"
          ],
          [
           "Afghanistan"
          ],
          [
           "Armenia"
          ],
          [
           "Armenia"
          ],
          [
           "Armenia"
          ],
          [
           "Armenia"
          ],
          [
           "Azerbaijan"
          ],
          [
           "Azerbaijan"
          ],
          [
           "Azerbaijan"
          ],
          [
           "Azerbaijan"
          ],
          [
           "Bahrain"
          ],
          [
           "Bahrain"
          ],
          [
           "Bahrain"
          ],
          [
           "Bahrain"
          ],
          [
           "Bangladesh"
          ],
          [
           "Bangladesh"
          ],
          [
           "Bangladesh"
          ],
          [
           "Bangladesh"
          ],
          [
           "Cambodia"
          ],
          [
           "Cambodia"
          ],
          [
           "Cambodia"
          ],
          [
           "Cambodia"
          ],
          [
           "China"
          ],
          [
           "China"
          ],
          [
           "China"
          ],
          [
           "China"
          ],
          [
           "China"
          ],
          [
           "China"
          ],
          [
           "China"
          ],
          [
           "China"
          ],
          [
           "Cyprus"
          ],
          [
           "Cyprus"
          ],
          [
           "Cyprus"
          ],
          [
           "Cyprus"
          ],
          [
           "Georgia"
          ],
          [
           "Georgia"
          ],
          [
           "Georgia"
          ],
          [
           "Georgia"
          ],
          [
           "India"
          ],
          [
           "India"
          ],
          [
           "India"
          ],
          [
           "India"
          ],
          [
           "Indonesia"
          ],
          [
           "Indonesia"
          ],
          [
           "Indonesia"
          ],
          [
           "Indonesia"
          ],
          [
           "Iran"
          ],
          [
           "Iran"
          ],
          [
           "Iran"
          ],
          [
           "Iran"
          ],
          [
           "Iraq"
          ],
          [
           "Iraq"
          ],
          [
           "Iraq"
          ],
          [
           "Iraq"
          ],
          [
           "Israel"
          ],
          [
           "Israel"
          ],
          [
           "Israel"
          ],
          [
           "Israel"
          ],
          [
           "Japan"
          ],
          [
           "Japan"
          ],
          [
           "Japan"
          ],
          [
           "Japan"
          ],
          [
           "Jordan"
          ],
          [
           "Jordan"
          ],
          [
           "Jordan"
          ],
          [
           "Jordan"
          ],
          [
           "Kazakhstan"
          ],
          [
           "Kazakhstan"
          ],
          [
           "Kazakhstan"
          ],
          [
           "Kazakhstan"
          ],
          [
           "Kuwait"
          ],
          [
           "Kuwait"
          ],
          [
           "Kuwait"
          ],
          [
           "Kuwait"
          ],
          [
           "Kyrgyzstan"
          ],
          [
           "Kyrgyzstan"
          ],
          [
           "Kyrgyzstan"
          ],
          [
           "Kyrgyzstan"
          ],
          [
           "Lebanon"
          ],
          [
           "Lebanon"
          ],
          [
           "Lebanon"
          ],
          [
           "Lebanon"
          ],
          [
           "Malaysia"
          ],
          [
           "Malaysia"
          ],
          [
           "Malaysia"
          ],
          [
           "Malaysia"
          ],
          [
           "Mongolia"
          ],
          [
           "Mongolia"
          ],
          [
           "Mongolia"
          ],
          [
           "Mongolia"
          ],
          [
           "Myanmar"
          ],
          [
           "Myanmar"
          ],
          [
           "Myanmar"
          ],
          [
           "Myanmar"
          ],
          [
           "Nepal"
          ],
          [
           "Nepal"
          ],
          [
           "Nepal"
          ],
          [
           "Nepal"
          ],
          [
           "Pakistan"
          ],
          [
           "Pakistan"
          ],
          [
           "Pakistan"
          ],
          [
           "Pakistan"
          ],
          [
           "Philippines"
          ],
          [
           "Philippines"
          ],
          [
           "Philippines"
          ],
          [
           "Philippines"
          ],
          [
           "Saudi Arabia"
          ],
          [
           "Saudi Arabia"
          ],
          [
           "Saudi Arabia"
          ],
          [
           "Saudi Arabia"
          ],
          [
           "Singapore"
          ],
          [
           "Singapore"
          ],
          [
           "Singapore"
          ],
          [
           "Singapore"
          ],
          [
           "Sri Lanka"
          ],
          [
           "Sri Lanka"
          ],
          [
           "Sri Lanka"
          ],
          [
           "Sri Lanka"
          ],
          [
           "Tajikistan"
          ],
          [
           "Tajikistan"
          ],
          [
           "Tajikistan"
          ],
          [
           "Tajikistan"
          ],
          [
           "Thailand"
          ],
          [
           "Thailand"
          ],
          [
           "Thailand"
          ],
          [
           "Thailand"
          ],
          [
           "Turkey"
          ],
          [
           "Turkey"
          ],
          [
           "Turkey"
          ],
          [
           "Turkey"
          ],
          [
           "Turkmenistan"
          ],
          [
           "Turkmenistan"
          ],
          [
           "Turkmenistan"
          ],
          [
           "Turkmenistan"
          ],
          [
           "United Arab Emirates"
          ],
          [
           "United Arab Emirates"
          ],
          [
           "United Arab Emirates"
          ],
          [
           "United Arab Emirates"
          ],
          [
           "Uzbekistan"
          ],
          [
           "Uzbekistan"
          ],
          [
           "Uzbekistan"
          ],
          [
           "Uzbekistan"
          ],
          [
           "Vietnam"
          ],
          [
           "Vietnam"
          ],
          [
           "Vietnam"
          ],
          [
           "Vietnam"
          ],
          [
           "Yemen"
          ],
          [
           "Yemen"
          ],
          [
           "Yemen"
          ],
          [
           "Yemen"
          ]
         ],
         "hovertemplate": "continent=Asia<br>Education_Index=%{x}<br>government_trust=%{y}<br>cpi_score=%{z}<br>gdp_per_capita=%{marker.size}<br>Country=%{customdata[0]}<extra></extra>",
         "legendgroup": "Asia",
         "marker": {
          "color": "#636efa",
          "opacity": 0.5,
          "size": [
           0.3508,
           0.3508,
           0.3508,
           0.3508,
           0.8337,
           0.8337,
           0.8337,
           0.8337,
           1.0611,
           1.0611,
           1.0611,
           1.0611,
           1.378,
           1.378,
           1.378,
           1.378,
           0.5196,
           0.5196,
           0.5196,
           0.5196,
           0.5463,
           0.5463,
           0.5463,
           0.5463,
           0.9973,
           0.9973,
           0.9973,
           0.9973,
           0.9973,
           0.9973,
           0.9973,
           0.9973,
           1.264,
           1.264,
           1.264,
           1.264,
           0.8579,
           0.8579,
           0.8579,
           0.8579,
           0.7283,
           0.7283,
           0.7283,
           0.7283,
           0.9135,
           0.9135,
           0.9135,
           0.9135,
           1.0812,
           1.0812,
           1.0812,
           1.0812,
           1.0353,
           1.0353,
           1.0353,
           1.0353,
           1.2952,
           1.2952,
           1.2952,
           1.2952,
           1.3272,
           1.3272,
           1.3272,
           1.3272,
           0.888,
           0.888,
           0.888,
           0.888,
           1.1808,
           1.1808,
           1.1808,
           1.1808,
           1.5403,
           1.5403,
           1.5403,
           1.5403,
           0.5379,
           0.5379,
           0.5379,
           0.5379,
           1.0132,
           1.0132,
           1.0132,
           1.0132,
           1.1995,
           1.1995,
           1.1995,
           1.1995,
           0.9294,
           0.9294,
           0.9294,
           0.9294,
           0.5075,
           0.5075,
           0.5075,
           0.5075,
           0.4277,
           0.4277,
           0.4277,
           0.4277,
           0.6628,
           0.6628,
           0.6628,
           0.6628,
           0.7863,
           0.7863,
           0.7863,
           0.7863,
           1.427,
           1.427,
           1.427,
           1.427,
           1.5788,
           1.5788,
           1.5788,
           1.5788,
           0.928,
           0.928,
           0.928,
           0.928,
           0.4705,
           0.4705,
           0.4705,
           0.4705,
           1.0402,
           1.0402,
           1.0402,
           1.0402,
           1.1476,
           1.1476,
           1.1476,
           1.1476,
           1.0393,
           1.0393,
           1.0393,
           1.0393,
           1.6632,
           1.6632,
           1.6632,
           1.6632,
           0.7207,
           0.7207,
           0.7207,
           0.7207,
           0.7192,
           0.7192,
           0.7192,
           0.7192,
           0.4668,
           0.4668,
           0.4668,
           0.4668
          ],
          "sizemode": "area",
          "sizeref": 0.0008213333333333333,
          "symbol": "circle"
         },
         "mode": "markers",
         "name": "Asia",
         "scene": "scene",
         "showlegend": true,
         "type": "scatter3d",
         "x": [
          0.45,
          0.45,
          0.45,
          0.45,
          0.7625,
          0.7625,
          0.7625,
          0.7625,
          0.715,
          0.715,
          0.715,
          0.715,
          0.775,
          0.775,
          0.775,
          0.775,
          0.53,
          0.53,
          0.53,
          0.53,
          0.5175,
          0.5175,
          0.5175,
          0.5175,
          0.7025,
          0.7025,
          0.7025,
          0.7025,
          0.7025,
          0.7025,
          0.7025,
          0.7025,
          0.82,
          0.82,
          0.82,
          0.82,
          0.8575,
          0.8575,
          0.8575,
          0.8575,
          0.5875,
          0.5875,
          0.5875,
          0.5875,
          0.6475,
          0.6475,
          0.6475,
          0.6475,
          0.77,
          0.77,
          0.77,
          0.77,
          0.5425,
          0.5425,
          0.5425,
          0.5425,
          0.89,
          0.89,
          0.89,
          0.89,
          0.8575,
          0.8575,
          0.8575,
          0.8575,
          0.7175,
          0.7175,
          0.7175,
          0.7175,
          0.8325,
          0.8325,
          0.8325,
          0.8325,
          0.655,
          0.655,
          0.655,
          0.655,
          0.7475,
          0.7475,
          0.7475,
          0.7475,
          0.6475,
          0.6475,
          0.6475,
          0.6475,
          0.735,
          0.735,
          0.735,
          0.735,
          0.785,
          0.785,
          0.785,
          0.785,
          0.4725,
          0.4725,
          0.4725,
          0.4725,
          0.54,
          0.54,
          0.54,
          0.54,
          0.4275,
          0.4275,
          0.4275,
          0.4275,
          0.6825,
          0.6825,
          0.6825,
          0.6825,
          0.83,
          0.83,
          0.83,
          0.83,
          0.86,
          0.86,
          0.86,
          0.86,
          0.77,
          0.77,
          0.77,
          0.77,
          0.67,
          0.67,
          0.67,
          0.67,
          0.69,
          0.69,
          0.69,
          0.69,
          0.735,
          0.735,
          0.735,
          0.735,
          0.6325,
          0.6325,
          0.6325,
          0.6325,
          0.7525,
          0.7525,
          0.7525,
          0.7525,
          0.715,
          0.715,
          0.715,
          0.715,
          0.65,
          0.65,
          0.65,
          0.65,
          0.38,
          0.38,
          0.38,
          0.38
         ],
         "y": [
          0.0548,
          0.0548,
          0.0548,
          0.0548,
          0.0394,
          0.0394,
          0.0394,
          0.0394,
          0.1749,
          0.1749,
          0.1749,
          0.1749,
          0.199,
          0.199,
          0.199,
          0.199,
          0.1341,
          0.1341,
          0.1341,
          0.1341,
          0.0669,
          0.0669,
          0.0669,
          0.0669,
          0.0634,
          0.0634,
          0.0634,
          0.0634,
          0.0634,
          0.0634,
          0.0634,
          0.0634,
          0.0447,
          0.0447,
          0.0447,
          0.0447,
          0.2535,
          0.2535,
          0.2535,
          0.2535,
          0.0888,
          0.0888,
          0.0888,
          0.0888,
          0.0153,
          0.0153,
          0.0153,
          0.0153,
          0.0903,
          0.0903,
          0.0903,
          0.0903,
          0.1073,
          0.1073,
          0.1073,
          0.1073,
          0.1293,
          0.1293,
          0.1293,
          0.1293,
          0.1586,
          0.1586,
          0.1586,
          0.1586,
          0.1317,
          0.1317,
          0.1317,
          0.1317,
          0.1052,
          0.1052,
          0.1052,
          0.1052,
          0.1686,
          0.1686,
          0.1686,
          0.1686,
          0.0349,
          0.0349,
          0.0349,
          0.0349,
          0.0616,
          0.0616,
          0.0616,
          0.0616,
          0.0634,
          0.0634,
          0.0634,
          0.0634,
          0.0324,
          0.0324,
          0.0324,
          0.0324,
          0.1823,
          0.1823,
          0.1823,
          0.1823,
          0.0748,
          0.0748,
          0.0748,
          0.0748,
          0.11,
          0.11,
          0.11,
          0.11,
          0.1085,
          0.1085,
          0.1085,
          0.1085,
          0.2144,
          0.2144,
          0.2144,
          0.2144,
          0.4666,
          0.4666,
          0.4666,
          0.4666,
          0.0656,
          0.0656,
          0.0656,
          0.0656,
          0.1188,
          0.1188,
          0.1188,
          0.1188,
          0.0301,
          0.0301,
          0.0301,
          0.0301,
          0.118,
          0.118,
          0.118,
          0.118,
          0.1582,
          0.1582,
          0.1582,
          0.1582,
          0.3011,
          0.3011,
          0.3011,
          0.3011,
          0.2634,
          0.2634,
          0.2634,
          0.2634,
          0.086,
          0.086,
          0.086,
          0.086,
          0.0691,
          0.0691,
          0.0691,
          0.0691
         ],
         "z": [
          14.25,
          14.25,
          14.25,
          14.25,
          34.5,
          34.5,
          34.5,
          34.5,
          28.75,
          28.75,
          28.75,
          28.75,
          41.5,
          41.5,
          41.5,
          41.5,
          26.25,
          26.25,
          26.25,
          26.25,
          20.75,
          20.75,
          20.75,
          20.75,
          39.25,
          39.25,
          39.25,
          39.25,
          39.25,
          39.25,
          39.25,
          39.25,
          58,
          58,
          58,
          58,
          55.75,
          55.75,
          55.75,
          55.75,
          39.75,
          39.75,
          39.75,
          39.75,
          37,
          37,
          37,
          37,
          28.5,
          28.5,
          28.5,
          28.5,
          17.25,
          17.25,
          17.25,
          17.25,
          62,
          62,
          62,
          62,
          73.25,
          73.25,
          73.25,
          73.25,
          49.5,
          49.5,
          49.5,
          49.5,
          29.75,
          29.75,
          29.75,
          29.75,
          42.5,
          42.5,
          42.5,
          42.5,
          28.5,
          28.5,
          28.5,
          28.5,
          28,
          28,
          28,
          28,
          48.25,
          48.25,
          48.25,
          48.25,
          37.5,
          37.5,
          37.5,
          37.5,
          27.25,
          27.25,
          27.25,
          27.25,
          29.5,
          29.5,
          29.5,
          29.5,
          31.75,
          31.75,
          31.75,
          31.75,
          35,
          35,
          35,
          35,
          49,
          49,
          49,
          49,
          84.5,
          84.5,
          84.5,
          84.5,
          37.25,
          37.25,
          37.25,
          37.25,
          24.25,
          24.25,
          24.25,
          24.25,
          36.5,
          36.5,
          36.5,
          36.5,
          41,
          41,
          41,
          41,
          19.75,
          19.75,
          19.75,
          19.75,
          69.25,
          69.25,
          69.25,
          69.25,
          21.25,
          21.25,
          21.25,
          21.25,
          33,
          33,
          33,
          33,
          15.5,
          15.5,
          15.5,
          15.5
         ]
        },
        {
         "customdata": [
          [
           "Albania"
          ],
          [
           "Albania"
          ],
          [
           "Albania"
          ],
          [
           "Albania"
          ],
          [
           "Austria"
          ],
          [
           "Austria"
          ],
          [
           "Austria"
          ],
          [
           "Austria"
          ],
          [
           "Belarus"
          ],
          [
           "Belarus"
          ],
          [
           "Belarus"
          ],
          [
           "Belarus"
          ],
          [
           "Belgium"
          ],
          [
           "Belgium"
          ],
          [
           "Belgium"
          ],
          [
           "Belgium"
          ],
          [
           "Bosnia and Herzegovina"
          ],
          [
           "Bosnia and Herzegovina"
          ],
          [
           "Bosnia and Herzegovina"
          ],
          [
           "Bosnia and Herzegovina"
          ],
          [
           "Bulgaria"
          ],
          [
           "Bulgaria"
          ],
          [
           "Bulgaria"
          ],
          [
           "Bulgaria"
          ],
          [
           "Croatia"
          ],
          [
           "Croatia"
          ],
          [
           "Croatia"
          ],
          [
           "Croatia"
          ],
          [
           "Denmark"
          ],
          [
           "Denmark"
          ],
          [
           "Denmark"
          ],
          [
           "Denmark"
          ],
          [
           "Estonia"
          ],
          [
           "Estonia"
          ],
          [
           "Estonia"
          ],
          [
           "Estonia"
          ],
          [
           "Finland"
          ],
          [
           "Finland"
          ],
          [
           "Finland"
          ],
          [
           "Finland"
          ],
          [
           "France"
          ],
          [
           "France"
          ],
          [
           "France"
          ],
          [
           "France"
          ],
          [
           "Germany"
          ],
          [
           "Germany"
          ],
          [
           "Germany"
          ],
          [
           "Germany"
          ],
          [
           "Greece"
          ],
          [
           "Greece"
          ],
          [
           "Greece"
          ],
          [
           "Greece"
          ],
          [
           "Hungary"
          ],
          [
           "Hungary"
          ],
          [
           "Hungary"
          ],
          [
           "Hungary"
          ],
          [
           "Iceland"
          ],
          [
           "Iceland"
          ],
          [
           "Iceland"
          ],
          [
           "Iceland"
          ],
          [
           "Ireland"
          ],
          [
           "Ireland"
          ],
          [
           "Ireland"
          ],
          [
           "Ireland"
          ],
          [
           "Italy"
          ],
          [
           "Italy"
          ],
          [
           "Italy"
          ],
          [
           "Italy"
          ],
          [
           "Latvia"
          ],
          [
           "Latvia"
          ],
          [
           "Latvia"
          ],
          [
           "Latvia"
          ],
          [
           "Lithuania"
          ],
          [
           "Lithuania"
          ],
          [
           "Lithuania"
          ],
          [
           "Lithuania"
          ],
          [
           "Luxembourg"
          ],
          [
           "Luxembourg"
          ],
          [
           "Luxembourg"
          ],
          [
           "Luxembourg"
          ],
          [
           "Malta"
          ],
          [
           "Malta"
          ],
          [
           "Malta"
          ],
          [
           "Malta"
          ],
          [
           "Moldova"
          ],
          [
           "Moldova"
          ],
          [
           "Moldova"
          ],
          [
           "Moldova"
          ],
          [
           "Montenegro"
          ],
          [
           "Montenegro"
          ],
          [
           "Montenegro"
          ],
          [
           "Montenegro"
          ],
          [
           "Netherlands"
          ],
          [
           "Netherlands"
          ],
          [
           "Netherlands"
          ],
          [
           "Netherlands"
          ],
          [
           "Norway"
          ],
          [
           "Norway"
          ],
          [
           "Norway"
          ],
          [
           "Norway"
          ],
          [
           "Poland"
          ],
          [
           "Poland"
          ],
          [
           "Poland"
          ],
          [
           "Poland"
          ],
          [
           "Portugal"
          ],
          [
           "Portugal"
          ],
          [
           "Portugal"
          ],
          [
           "Portugal"
          ],
          [
           "Romania"
          ],
          [
           "Romania"
          ],
          [
           "Romania"
          ],
          [
           "Romania"
          ],
          [
           "Russia"
          ],
          [
           "Russia"
          ],
          [
           "Russia"
          ],
          [
           "Russia"
          ],
          [
           "Serbia"
          ],
          [
           "Serbia"
          ],
          [
           "Serbia"
          ],
          [
           "Serbia"
          ],
          [
           "Slovakia"
          ],
          [
           "Slovakia"
          ],
          [
           "Slovakia"
          ],
          [
           "Slovakia"
          ],
          [
           "Slovenia"
          ],
          [
           "Slovenia"
          ],
          [
           "Slovenia"
          ],
          [
           "Slovenia"
          ],
          [
           "Spain"
          ],
          [
           "Spain"
          ],
          [
           "Spain"
          ],
          [
           "Spain"
          ],
          [
           "Sweden"
          ],
          [
           "Sweden"
          ],
          [
           "Sweden"
          ],
          [
           "Sweden"
          ],
          [
           "Switzerland"
          ],
          [
           "Switzerland"
          ],
          [
           "Switzerland"
          ],
          [
           "Switzerland"
          ],
          [
           "Ukraine"
          ],
          [
           "Ukraine"
          ],
          [
           "Ukraine"
          ],
          [
           "Ukraine"
          ],
          [
           "United Kingdom"
          ],
          [
           "United Kingdom"
          ],
          [
           "United Kingdom"
          ],
          [
           "United Kingdom"
          ]
         ],
         "hovertemplate": "continent=Europe<br>Education_Index=%{x}<br>government_trust=%{y}<br>cpi_score=%{z}<br>gdp_per_capita=%{marker.size}<br>Country=%{customdata[0]}<extra></extra>",
         "legendgroup": "Europe",
         "marker": {
          "color": "#EF553B",
          "opacity": 0.5,
          "size": [
           0.9345,
           0.9345,
           0.9345,
           0.9345,
           1.3853,
           1.3853,
           1.3853,
           1.3853,
           1.0736,
           1.0736,
           1.0736,
           1.0736,
           1.3629,
           1.3629,
           1.3629,
           1.3629,
           0.9187,
           0.9187,
           0.9187,
           0.9187,
           1.0799,
           1.0799,
           1.0799,
           1.0799,
           1.1438,
           1.1438,
           1.1438,
           1.1438,
           1.3855,
           1.3855,
           1.3855,
           1.3855,
           1.2274,
           1.2274,
           1.2274,
           1.2274,
           1.3447,
           1.3447,
           1.3447,
           1.3447,
           1.3314,
           1.3314,
           1.3314,
           1.3314,
           1.3822,
           1.3822,
           1.3822,
           1.3822,
           1.1946,
           1.1946,
           1.1946,
           1.1946,
           1.1947,
           1.1947,
           1.1947,
           1.1947,
           1.3765,
           1.3765,
           1.3765,
           1.3765,
           1.4547,
           1.4547,
           1.4547,
           1.4547,
           1.3011,
           1.3011,
           1.3011,
           1.3011,
           1.1772,
           1.1772,
           1.1772,
           1.1772,
           1.2242,
           1.2242,
           1.2242,
           1.2242,
           1.6227,
           1.6227,
           1.6227,
           1.6227,
           1.2802,
           1.2802,
           1.2802,
           1.2802,
           0.6663,
           0.6663,
           0.6663,
           0.6663,
           1.0409,
           1.0409,
           1.0409,
           1.0409,
           1.3976,
           1.3976,
           1.3976,
           1.3976,
           1.5049,
           1.5049,
           1.5049,
           1.5049,
           1.1998,
           1.1998,
           1.1998,
           1.1998,
           1.221,
           1.221,
           1.221,
           1.221,
           1.1348,
           1.1348,
           1.1348,
           1.1348,
           1.1884,
           1.1884,
           1.1884,
           1.1884,
           0.9922,
           0.9922,
           0.9922,
           0.9922,
           1.2376,
           1.2376,
           1.2376,
           1.2376,
           1.2508,
           1.2508,
           1.2508,
           1.2508,
           1.2879,
           1.2879,
           1.2879,
           1.2879,
           1.392,
           1.392,
           1.392,
           1.392,
           1.4584,
           1.4584,
           1.4584,
           1.4584,
           0.8267,
           0.8267,
           0.8267,
           0.8267,
           1.3213,
           1.3213,
           1.3213,
           1.3213
          ],
          "sizemode": "area",
          "sizeref": 0.0008213333333333333,
          "symbol": "circle"
         },
         "mode": "markers",
         "name": "Europe",
         "scene": "scene",
         "showlegend": true,
         "type": "scatter3d",
         "x": [
          0.7725,
          0.7725,
          0.7725,
          0.7725,
          0.875,
          0.875,
          0.875,
          0.875,
          0.8575,
          0.8575,
          0.8575,
          0.8575,
          0.9875,
          0.9875,
          0.9875,
          0.9875,
          0.7325,
          0.7325,
          0.7325,
          0.7325,
          0.8225,
          0.8225,
          0.8225,
          0.8225,
          0.8125,
          0.8125,
          0.8125,
          0.8125,
          0.99,
          0.99,
          0.99,
          0.99,
          0.8925,
          0.8925,
          0.8925,
          0.8925,
          0.945,
          0.945,
          0.945,
          0.945,
          0.86,
          0.86,
          0.86,
          0.86,
          0.96,
          0.96,
          0.96,
          0.96,
          0.875,
          0.875,
          0.875,
          0.875,
          0.83,
          0.83,
          0.83,
          0.83,
          0.9875,
          0.9875,
          0.9875,
          0.9875,
          0.9925,
          0.9925,
          0.9925,
          0.9925,
          0.83,
          0.83,
          0.83,
          0.83,
          0.8825,
          0.8825,
          0.8825,
          0.8825,
          0.9025,
          0.9025,
          0.9025,
          0.9025,
          0.8025,
          0.8025,
          0.8025,
          0.8025,
          0.8375,
          0.8375,
          0.8375,
          0.8375,
          0.71,
          0.71,
          0.71,
          0.71,
          0.8125,
          0.8125,
          0.8125,
          0.8125,
          0.94,
          0.94,
          0.94,
          0.94,
          0.9475,
          0.9475,
          0.9475,
          0.9475,
          0.885,
          0.885,
          0.885,
          0.885,
          0.8,
          0.8,
          0.8,
          0.8,
          0.7825,
          0.7825,
          0.7825,
          0.7825,
          0.85,
          0.85,
          0.85,
          0.85,
          0.7975,
          0.7975,
          0.7975,
          0.7975,
          0.845,
          0.845,
          0.845,
          0.845,
          0.915,
          0.915,
          0.915,
          0.915,
          0.8675,
          0.8675,
          0.8675,
          0.8675,
          0.94,
          0.94,
          0.94,
          0.94,
          0.91,
          0.91,
          0.91,
          0.91,
          0.8125,
          0.8125,
          0.8125,
          0.8125,
          0.94,
          0.94,
          0.94,
          0.94
         ],
         "y": [
          0.0407,
          0.0407,
          0.0407,
          0.0407,
          0.2145,
          0.2145,
          0.2145,
          0.2145,
          0.1608,
          0.1608,
          0.1608,
          0.1608,
          0.2317,
          0.2317,
          0.2317,
          0.2317,
          0.0021,
          0.0021,
          0.0021,
          0.0021,
          0.0082,
          0.0082,
          0.0082,
          0.0082,
          0.0321,
          0.0321,
          0.0321,
          0.0321,
          0.4256,
          0.4256,
          0.4256,
          0.4256,
          0.1675,
          0.1675,
          0.1675,
          0.1675,
          0.3956,
          0.3956,
          0.3956,
          0.3956,
          0.1845,
          0.1845,
          0.1845,
          0.1845,
          0.26,
          0.26,
          0.26,
          0.26,
          0.0338,
          0.0338,
          0.0338,
          0.0338,
          0.0266,
          0.0266,
          0.0266,
          0.0266,
          0.1377,
          0.1377,
          0.1377,
          0.1377,
          0.3004,
          0.3004,
          0.3004,
          0.3004,
          0.0288,
          0.0288,
          0.0288,
          0.0288,
          0.0668,
          0.0668,
          0.0668,
          0.0668,
          0.0175,
          0.0175,
          0.0175,
          0.0175,
          0.3335,
          0.3335,
          0.3335,
          0.3335,
          0.1455,
          0.1455,
          0.1455,
          0.1455,
          0.0066,
          0.0066,
          0.0066,
          0.0066,
          0.098,
          0.098,
          0.098,
          0.098,
          0.2985,
          0.2985,
          0.2985,
          0.2985,
          0.3405,
          0.3405,
          0.3405,
          0.3405,
          0.0539,
          0.0539,
          0.0539,
          0.0539,
          0.0172,
          0.0172,
          0.0172,
          0.0172,
          0.0042,
          0.0042,
          0.0042,
          0.0042,
          0.0298,
          0.0298,
          0.0298,
          0.0298,
          0.0373,
          0.0373,
          0.0373,
          0.0373,
          0.0216,
          0.0216,
          0.0216,
          0.0216,
          0.0477,
          0.0477,
          0.0477,
          0.0477,
          0.072,
          0.072,
          0.072,
          0.072,
          0.3947,
          0.3947,
          0.3947,
          0.3947,
          0.3717,
          0.3717,
          0.3717,
          0.3717,
          0.0184,
          0.0184,
          0.0184,
          0.0184,
          0.2365,
          0.2365,
          0.2365,
          0.2365
         ],
         "z": [
          37.25,
          37.25,
          37.25,
          37.25,
          75.5,
          75.5,
          75.5,
          75.5,
          40,
          40,
          40,
          40,
          76,
          76,
          76,
          76,
          38.25,
          38.25,
          38.25,
          38.25,
          41.75,
          41.75,
          41.75,
          41.75,
          49.25,
          49.25,
          49.25,
          49.25,
          89.25,
          89.25,
          89.25,
          89.25,
          71,
          71,
          71,
          71,
          87.25,
          87.25,
          87.25,
          87.25,
          70.25,
          70.25,
          70.25,
          70.25,
          80.75,
          80.75,
          80.75,
          80.75,
          45.75,
          45.75,
          45.75,
          45.75,
          47.5,
          47.5,
          47.5,
          47.5,
          77.5,
          77.5,
          77.5,
          77.5,
          73.75,
          73.75,
          73.75,
          73.75,
          48.25,
          48.25,
          48.25,
          48.25,
          57.25,
          57.25,
          57.25,
          57.25,
          59,
          59,
          59,
          59,
          82.25,
          82.25,
          82.25,
          82.25,
          56.25,
          56.25,
          56.25,
          56.25,
          31.75,
          31.75,
          31.75,
          31.75,
          45,
          45,
          45,
          45,
          82.75,
          82.75,
          82.75,
          82.75,
          85.5,
          85.5,
          85.5,
          85.5,
          61.25,
          61.25,
          61.25,
          61.25,
          63.25,
          63.25,
          63.25,
          63.25,
          47.25,
          47.25,
          47.25,
          47.25,
          28.75,
          28.75,
          28.75,
          28.75,
          40.5,
          40.5,
          40.5,
          40.5,
          50.5,
          50.5,
          50.5,
          50.5,
          60.5,
          60.5,
          60.5,
          60.5,
          57.75,
          57.75,
          57.75,
          57.75,
          86.5,
          86.5,
          86.5,
          86.5,
          85.5,
          85.5,
          85.5,
          85.5,
          29.5,
          29.5,
          29.5,
          29.5,
          81,
          81,
          81,
          81
         ]
        },
        {
         "customdata": [
          [
           "Algeria"
          ],
          [
           "Algeria"
          ],
          [
           "Algeria"
          ],
          [
           "Algeria"
          ],
          [
           "Benin"
          ],
          [
           "Benin"
          ],
          [
           "Benin"
          ],
          [
           "Benin"
          ],
          [
           "Botswana"
          ],
          [
           "Botswana"
          ],
          [
           "Botswana"
          ],
          [
           "Botswana"
          ],
          [
           "Burkina Faso"
          ],
          [
           "Burkina Faso"
          ],
          [
           "Burkina Faso"
          ],
          [
           "Burkina Faso"
          ],
          [
           "Burundi"
          ],
          [
           "Burundi"
          ],
          [
           "Burundi"
          ],
          [
           "Burundi"
          ],
          [
           "Cameroon"
          ],
          [
           "Cameroon"
          ],
          [
           "Cameroon"
          ],
          [
           "Cameroon"
          ],
          [
           "Chad"
          ],
          [
           "Chad"
          ],
          [
           "Chad"
          ],
          [
           "Chad"
          ],
          [
           "Egypt"
          ],
          [
           "Egypt"
          ],
          [
           "Egypt"
          ],
          [
           "Egypt"
          ],
          [
           "Ethiopia"
          ],
          [
           "Ethiopia"
          ],
          [
           "Ethiopia"
          ],
          [
           "Ethiopia"
          ],
          [
           "Gabon"
          ],
          [
           "Gabon"
          ],
          [
           "Gabon"
          ],
          [
           "Gabon"
          ],
          [
           "Ghana"
          ],
          [
           "Ghana"
          ],
          [
           "Ghana"
          ],
          [
           "Ghana"
          ],
          [
           "Kenya"
          ],
          [
           "Kenya"
          ],
          [
           "Kenya"
          ],
          [
           "Kenya"
          ],
          [
           "Liberia"
          ],
          [
           "Liberia"
          ],
          [
           "Liberia"
          ],
          [
           "Liberia"
          ],
          [
           "Libya"
          ],
          [
           "Libya"
          ],
          [
           "Libya"
          ],
          [
           "Libya"
          ],
          [
           "Madagascar"
          ],
          [
           "Madagascar"
          ],
          [
           "Madagascar"
          ],
          [
           "Madagascar"
          ],
          [
           "Malawi"
          ],
          [
           "Malawi"
          ],
          [
           "Malawi"
          ],
          [
           "Malawi"
          ],
          [
           "Mali"
          ],
          [
           "Mali"
          ],
          [
           "Mali"
          ],
          [
           "Mali"
          ],
          [
           "Mauritania"
          ],
          [
           "Mauritania"
          ],
          [
           "Mauritania"
          ],
          [
           "Mauritania"
          ],
          [
           "Mauritius"
          ],
          [
           "Mauritius"
          ],
          [
           "Mauritius"
          ],
          [
           "Mauritius"
          ],
          [
           "Morocco"
          ],
          [
           "Morocco"
          ],
          [
           "Morocco"
          ],
          [
           "Morocco"
          ],
          [
           "Niger"
          ],
          [
           "Niger"
          ],
          [
           "Niger"
          ],
          [
           "Niger"
          ],
          [
           "Nigeria"
          ],
          [
           "Nigeria"
          ],
          [
           "Nigeria"
          ],
          [
           "Nigeria"
          ],
          [
           "Rwanda"
          ],
          [
           "Rwanda"
          ],
          [
           "Rwanda"
          ],
          [
           "Rwanda"
          ],
          [
           "Senegal"
          ],
          [
           "Senegal"
          ],
          [
           "Senegal"
          ],
          [
           "Senegal"
          ],
          [
           "Sierra Leone"
          ],
          [
           "Sierra Leone"
          ],
          [
           "Sierra Leone"
          ],
          [
           "Sierra Leone"
          ],
          [
           "South Africa"
          ],
          [
           "South Africa"
          ],
          [
           "South Africa"
          ],
          [
           "South Africa"
          ],
          [
           "Tanzania"
          ],
          [
           "Tanzania"
          ],
          [
           "Tanzania"
          ],
          [
           "Tanzania"
          ],
          [
           "Togo"
          ],
          [
           "Togo"
          ],
          [
           "Togo"
          ],
          [
           "Togo"
          ],
          [
           "Tunisia"
          ],
          [
           "Tunisia"
          ],
          [
           "Tunisia"
          ],
          [
           "Tunisia"
          ],
          [
           "Uganda"
          ],
          [
           "Uganda"
          ],
          [
           "Uganda"
          ],
          [
           "Uganda"
          ],
          [
           "Zambia"
          ],
          [
           "Zambia"
          ],
          [
           "Zambia"
          ],
          [
           "Zambia"
          ],
          [
           "Zimbabwe"
          ],
          [
           "Zimbabwe"
          ],
          [
           "Zimbabwe"
          ],
          [
           "Zimbabwe"
          ]
         ],
         "hovertemplate": "continent=Africa<br>Education_Index=%{x}<br>government_trust=%{y}<br>cpi_score=%{z}<br>gdp_per_capita=%{marker.size}<br>Country=%{customdata[0]}<extra></extra>",
         "legendgroup": "Africa",
         "marker": {
          "color": "#00cc96",
          "opacity": 0.5,
          "size": [
           1.003,
           1.003,
           1.003,
           1.003,
           0.3722,
           0.3722,
           0.3722,
           0.3722,
           1.0434,
           1.0434,
           1.0434,
           1.0434,
           0.3133,
           0.3133,
           0.3133,
           0.3133,
           0.061,
           0.061,
           0.061,
           0.061,
           0.5177,
           0.5177,
           0.5177,
           0.5177,
           0.372,
           0.372,
           0.372,
           0.372,
           0.9174,
           0.9174,
           0.9174,
           0.9174,
           0.2935,
           0.2935,
           0.2935,
           0.2935,
           1.0879,
           1.0879,
           1.0879,
           1.0879,
           0.604,
           0.604,
           0.604,
           0.604,
           0.4825,
           0.4825,
           0.4825,
           0.4825,
           0.0848,
           0.0848,
           0.0848,
           0.0848,
           1.0656,
           1.0656,
           1.0656,
           1.0656,
           0.2625,
           0.2625,
           0.2625,
           0.2625,
           0.1566,
           0.1566,
           0.1566,
           0.1566,
           0.373,
           0.373,
           0.373,
           0.373,
           0.5574,
           0.5574,
           0.5574,
           0.5574,
           1.1018,
           1.1018,
           1.1018,
           1.1018,
           0.7982,
           0.7982,
           0.7982,
           0.7982,
           0.1251,
           0.1251,
           0.1251,
           0.1251,
           0.7058,
           0.7058,
           0.7058,
           0.7058,
           0.3205,
           0.3205,
           0.3205,
           0.3205,
           0.4308,
           0.4308,
           0.4308,
           0.4308,
           0.3057,
           0.3057,
           0.3057,
           0.3057,
           0.9688,
           0.9688,
           0.9688,
           0.9688,
           0.4318,
           0.4318,
           0.4318,
           0.4318,
           0.262,
           0.262,
           0.262,
           0.262,
           0.9273,
           0.9273,
           0.9273,
           0.9273,
           0.3116,
           0.3116,
           0.3116,
           0.3116,
           0.5617,
           0.5617,
           0.5617,
           0.5617,
           0.3425,
           0.3425,
           0.3425,
           0.3425
          ],
          "sizemode": "area",
          "sizeref": 0.0008213333333333333,
          "symbol": "circle"
         },
         "mode": "markers",
         "name": "Africa",
         "scene": "scene",
         "showlegend": true,
         "type": "scatter3d",
         "x": [
          0.7025,
          0.7025,
          0.7025,
          0.7025,
          0.5225,
          0.5225,
          0.5225,
          0.5225,
          0.68,
          0.68,
          0.68,
          0.68,
          0.33,
          0.33,
          0.33,
          0.33,
          0.4675,
          0.4675,
          0.4675,
          0.4675,
          0.585,
          0.585,
          0.585,
          0.585,
          0.3275,
          0.3275,
          0.3275,
          0.3275,
          0.6375,
          0.6375,
          0.6375,
          0.6375,
          0.3625,
          0.3625,
          0.3625,
          0.3625,
          0.6525,
          0.6525,
          0.6525,
          0.6525,
          0.58,
          0.58,
          0.58,
          0.58,
          0.5675,
          0.5675,
          0.5675,
          0.5675,
          0.4575,
          0.4575,
          0.4575,
          0.4575,
          0.6475,
          0.6475,
          0.6475,
          0.6475,
          0.52,
          0.52,
          0.52,
          0.52,
          0.4875,
          0.4875,
          0.4875,
          0.4875,
          0.315,
          0.315,
          0.315,
          0.315,
          0.41,
          0.41,
          0.41,
          0.41,
          0.76,
          0.76,
          0.76,
          0.76,
          0.5675,
          0.5675,
          0.5675,
          0.5675,
          0.2425,
          0.2425,
          0.2425,
          0.2425,
          0.505,
          0.505,
          0.505,
          0.505,
          0.485,
          0.485,
          0.485,
          0.485,
          0.395,
          0.395,
          0.395,
          0.395,
          0.4225,
          0.4225,
          0.4225,
          0.4225,
          0.725,
          0.725,
          0.725,
          0.725,
          0.4525,
          0.4525,
          0.4525,
          0.4525,
          0.55,
          0.55,
          0.55,
          0.55,
          0.6975,
          0.6975,
          0.6975,
          0.6975,
          0.5425,
          0.5425,
          0.5425,
          0.5425,
          0.6075,
          0.6075,
          0.6075,
          0.6075,
          0.5725,
          0.5725,
          0.5725,
          0.5725
         ],
         "y": [
          0.1422,
          0.1422,
          0.1422,
          0.1422,
          0.0725,
          0.0725,
          0.0725,
          0.0725,
          0.1038,
          0.1038,
          0.1038,
          0.1038,
          0.1224,
          0.1224,
          0.1224,
          0.1224,
          0.1102,
          0.1102,
          0.1102,
          0.1102,
          0.0473,
          0.0473,
          0.0473,
          0.0473,
          0.0611,
          0.0611,
          0.0611,
          0.0611,
          0.0879,
          0.0879,
          0.0879,
          0.0879,
          0.1405,
          0.1405,
          0.1405,
          0.1405,
          0.0735,
          0.0735,
          0.0735,
          0.0735,
          0.0345,
          0.0345,
          0.0345,
          0.0345,
          0.0578,
          0.0578,
          0.0578,
          0.0578,
          0.0411,
          0.0411,
          0.0411,
          0.0411,
          0.1257,
          0.1257,
          0.1257,
          0.1257,
          0.0596,
          0.0596,
          0.0596,
          0.0596,
          0.0779,
          0.0779,
          0.0779,
          0.0779,
          0.0841,
          0.0841,
          0.0841,
          0.0841,
          0.1231,
          0.1231,
          0.1231,
          0.1231,
          0.0568,
          0.0568,
          0.0568,
          0.0568,
          0.0808,
          0.0808,
          0.0808,
          0.0808,
          0.124,
          0.124,
          0.124,
          0.124,
          0.0349,
          0.0349,
          0.0349,
          0.0349,
          0.4655,
          0.4655,
          0.4655,
          0.4655,
          0.0941,
          0.0941,
          0.0941,
          0.0941,
          0.0642,
          0.0642,
          0.0642,
          0.0642,
          0.0681,
          0.0681,
          0.0681,
          0.0681,
          0.0919,
          0.0919,
          0.0919,
          0.0919,
          0.0972,
          0.0972,
          0.0972,
          0.0972,
          0.0671,
          0.0671,
          0.0671,
          0.0671,
          0.0627,
          0.0627,
          0.0627,
          0.0627,
          0.093,
          0.093,
          0.093,
          0.093,
          0.091,
          0.091,
          0.091,
          0.091
         ],
         "z": [
          34.5,
          34.5,
          34.5,
          34.5,
          38,
          38,
          38,
          38,
          61.25,
          61.25,
          61.25,
          61.25,
          40.75,
          40.75,
          40.75,
          40.75,
          20,
          20,
          20,
          20,
          25.75,
          25.75,
          25.75,
          25.75,
          20.25,
          20.25,
          20.25,
          20.25,
          34.25,
          34.25,
          34.25,
          34.25,
          34,
          34,
          34,
          34,
          33,
          33,
          33,
          33,
          42.75,
          42.75,
          42.75,
          42.75,
          26.5,
          26.5,
          26.5,
          26.5,
          34.25,
          34.25,
          34.25,
          34.25,
          16,
          16,
          16,
          16,
          25.75,
          25.75,
          25.75,
          25.75,
          31.25,
          31.25,
          31.25,
          31.25,
          32.5,
          32.5,
          32.5,
          32.5,
          28.25,
          28.25,
          28.25,
          28.25,
          52,
          52,
          52,
          52,
          39,
          39,
          39,
          39,
          34,
          34,
          34,
          34,
          27,
          27,
          27,
          27,
          54.75,
          54.75,
          54.75,
          54.75,
          44.75,
          44.75,
          44.75,
          44.75,
          29.75,
          29.75,
          29.75,
          29.75,
          43.75,
          43.75,
          43.75,
          43.75,
          33.5,
          33.5,
          33.5,
          33.5,
          31.5,
          31.5,
          31.5,
          31.5,
          41,
          41,
          41,
          41,
          25.5,
          25.5,
          25.5,
          25.5,
          37,
          37,
          37,
          37,
          21.75,
          21.75,
          21.75,
          21.75
         ]
        },
        {
         "customdata": [
          [
           "Argentina"
          ],
          [
           "Argentina"
          ],
          [
           "Argentina"
          ],
          [
           "Argentina"
          ],
          [
           "Bolivia"
          ],
          [
           "Bolivia"
          ],
          [
           "Bolivia"
          ],
          [
           "Bolivia"
          ],
          [
           "Brazil"
          ],
          [
           "Brazil"
          ],
          [
           "Brazil"
          ],
          [
           "Brazil"
          ],
          [
           "Chile"
          ],
          [
           "Chile"
          ],
          [
           "Chile"
          ],
          [
           "Chile"
          ],
          [
           "Colombia"
          ],
          [
           "Colombia"
          ],
          [
           "Colombia"
          ],
          [
           "Colombia"
          ],
          [
           "Costa Rica"
          ],
          [
           "Costa Rica"
          ],
          [
           "Costa Rica"
          ],
          [
           "Costa Rica"
          ],
          [
           "Dominican Republic"
          ],
          [
           "Dominican Republic"
          ],
          [
           "Dominican Republic"
          ],
          [
           "Dominican Republic"
          ],
          [
           "Ecuador"
          ],
          [
           "Ecuador"
          ],
          [
           "Ecuador"
          ],
          [
           "Ecuador"
          ],
          [
           "El Salvador"
          ],
          [
           "El Salvador"
          ],
          [
           "El Salvador"
          ],
          [
           "El Salvador"
          ],
          [
           "Guatemala"
          ],
          [
           "Guatemala"
          ],
          [
           "Guatemala"
          ],
          [
           "Guatemala"
          ],
          [
           "Guinea"
          ],
          [
           "Guinea"
          ],
          [
           "Guinea"
          ],
          [
           "Guinea"
          ],
          [
           "Haiti"
          ],
          [
           "Haiti"
          ],
          [
           "Haiti"
          ],
          [
           "Haiti"
          ],
          [
           "Honduras"
          ],
          [
           "Honduras"
          ],
          [
           "Honduras"
          ],
          [
           "Honduras"
          ],
          [
           "Jamaica"
          ],
          [
           "Jamaica"
          ],
          [
           "Jamaica"
          ],
          [
           "Jamaica"
          ],
          [
           "Nicaragua"
          ],
          [
           "Nicaragua"
          ],
          [
           "Nicaragua"
          ],
          [
           "Nicaragua"
          ],
          [
           "Panama"
          ],
          [
           "Panama"
          ],
          [
           "Panama"
          ],
          [
           "Panama"
          ],
          [
           "Paraguay"
          ],
          [
           "Paraguay"
          ],
          [
           "Paraguay"
          ],
          [
           "Paraguay"
          ],
          [
           "Peru"
          ],
          [
           "Peru"
          ],
          [
           "Peru"
          ],
          [
           "Peru"
          ],
          [
           "Uruguay"
          ],
          [
           "Uruguay"
          ],
          [
           "Uruguay"
          ],
          [
           "Uruguay"
          ],
          [
           "Venezuela"
          ],
          [
           "Venezuela"
          ],
          [
           "Venezuela"
          ],
          [
           "Venezuela"
          ]
         ],
         "hovertemplate": "continent=South America<br>Education_Index=%{x}<br>government_trust=%{y}<br>cpi_score=%{z}<br>gdp_per_capita=%{marker.size}<br>Country=%{customdata[0]}<extra></extra>",
         "legendgroup": "South America",
         "marker": {
          "color": "#ab63fa",
          "opacity": 0.5,
          "size": [
           1.101,
           1.101,
           1.101,
           1.101,
           0.7605,
           0.7605,
           0.7605,
           0.7605,
           1.0196,
           1.0196,
           1.0196,
           1.0196,
           1.1625,
           1.1625,
           1.1625,
           1.1625,
           0.9836,
           0.9836,
           0.9836,
           0.9836,
           1.0274,
           1.0274,
           1.0274,
           1.0274,
           0.9929,
           0.9929,
           0.9929,
           0.9929,
           0.9165,
           0.9165,
           0.9165,
           0.9165,
           0.8186,
           0.8186,
           0.8186,
           0.8186,
           0.7996,
           0.7996,
           0.7996,
           0.7996,
           0.2857,
           0.2857,
           0.2857,
           0.2857,
           0.3183,
           0.3183,
           0.3183,
           0.3183,
           0.647,
           0.647,
           0.647,
           0.647,
           0.8465,
           0.8465,
           0.8465,
           0.8465,
           0.6731,
           0.6731,
           0.6731,
           0.6731,
           1.1396,
           1.1396,
           1.1396,
           1.1396,
           0.8456,
           0.8456,
           0.8456,
           0.8456,
           0.9574,
           0.9574,
           0.9574,
           0.9574,
           1.1241,
           1.1241,
           1.1241,
           1.1241,
           1.0322,
           1.0322,
           1.0322,
           1.0322
          ],
          "sizemode": "area",
          "sizeref": 0.0008213333333333333,
          "symbol": "circle"
         },
         "mode": "markers",
         "name": "South America",
         "scene": "scene",
         "showlegend": true,
         "type": "scatter3d",
         "x": [
          0.8625,
          0.8625,
          0.8625,
          0.8625,
          0.71,
          0.71,
          0.71,
          0.71,
          0.7275,
          0.7275,
          0.7275,
          0.7275,
          0.8325,
          0.8325,
          0.8325,
          0.8325,
          0.7125,
          0.7125,
          0.7125,
          0.7125,
          0.7525,
          0.7525,
          0.7525,
          0.7525,
          0.6775,
          0.6775,
          0.6775,
          0.6775,
          0.73,
          0.73,
          0.73,
          0.73,
          0.6025,
          0.6025,
          0.6025,
          0.6025,
          0.5375,
          0.5375,
          0.5375,
          0.5375,
          0.38,
          0.38,
          0.38,
          0.38,
          0.4575,
          0.4575,
          0.4575,
          0.4575,
          0.52,
          0.52,
          0.52,
          0.52,
          0.7075,
          0.7075,
          0.7075,
          0.7075,
          0.59,
          0.59,
          0.59,
          0.59,
          0.705,
          0.705,
          0.705,
          0.705,
          0.66,
          0.66,
          0.66,
          0.66,
          0.7175,
          0.7175,
          0.7175,
          0.7175,
          0.775,
          0.775,
          0.775,
          0.775,
          0.7475,
          0.7475,
          0.7475,
          0.7475
         ],
         "y": [
          0.0621,
          0.0621,
          0.0621,
          0.0621,
          0.0666,
          0.0666,
          0.0666,
          0.0666,
          0.1151,
          0.1151,
          0.1151,
          0.1151,
          0.082,
          0.082,
          0.082,
          0.082,
          0.0427,
          0.0427,
          0.0427,
          0.0427,
          0.1,
          0.1,
          0.1,
          0.1,
          0.1158,
          0.1158,
          0.1158,
          0.1158,
          0.132,
          0.132,
          0.132,
          0.132,
          0.0909,
          0.0909,
          0.0909,
          0.0909,
          0.0802,
          0.0802,
          0.0802,
          0.0802,
          0.1031,
          0.1031,
          0.1031,
          0.1031,
          0.1214,
          0.1214,
          0.1214,
          0.1214,
          0.0734,
          0.0734,
          0.0734,
          0.0734,
          0.0343,
          0.0343,
          0.0343,
          0.0343,
          0.1447,
          0.1447,
          0.1447,
          0.1447,
          0.0702,
          0.0702,
          0.0702,
          0.0702,
          0.0819,
          0.0819,
          0.0819,
          0.0819,
          0.042,
          0.042,
          0.042,
          0.042,
          0.1822,
          0.1822,
          0.1822,
          0.1822,
          0.0685,
          0.0685,
          0.0685,
          0.0685
         ],
         "z": [
          36.75,
          36.75,
          36.75,
          36.75,
          32.25,
          32.25,
          32.25,
          32.25,
          37.5,
          37.5,
          37.5,
          37.5,
          67.5,
          67.5,
          67.5,
          67.5,
          36.75,
          36.75,
          36.75,
          36.75,
          57,
          57,
          57,
          57,
          30.75,
          30.75,
          30.75,
          30.75,
          32.25,
          32.25,
          32.25,
          32.25,
          35.75,
          35.75,
          35.75,
          35.75,
          27.75,
          27.75,
          27.75,
          27.75,
          26.75,
          26.75,
          26.75,
          26.75,
          19.75,
          19.75,
          19.75,
          19.75,
          29.75,
          29.75,
          29.75,
          29.75,
          42,
          42,
          42,
          42,
          26,
          26,
          26,
          26,
          37.75,
          37.75,
          37.75,
          37.75,
          28.75,
          28.75,
          28.75,
          28.75,
          35.75,
          35.75,
          35.75,
          35.75,
          71.25,
          71.25,
          71.25,
          71.25,
          17.5,
          17.5,
          17.5,
          17.5
         ]
        },
        {
         "customdata": [
          [
           "Australia"
          ],
          [
           "Australia"
          ],
          [
           "Australia"
          ],
          [
           "Australia"
          ],
          [
           "New Zealand"
          ],
          [
           "New Zealand"
          ],
          [
           "New Zealand"
          ],
          [
           "New Zealand"
          ]
         ],
         "hovertemplate": "continent=Australia<br>Education_Index=%{x}<br>government_trust=%{y}<br>cpi_score=%{z}<br>gdp_per_capita=%{marker.size}<br>Country=%{customdata[0]}<extra></extra>",
         "legendgroup": "Australia",
         "marker": {
          "color": "#FFA15A",
          "opacity": 0.5,
          "size": [
           1.3825,
           1.3825,
           1.3825,
           1.3825,
           1.3067,
           1.3067,
           1.3067,
           1.3067
          ],
          "sizemode": "area",
          "sizeref": 0.0008213333333333333,
          "symbol": "circle"
         },
         "mode": "markers",
         "name": "Australia",
         "scene": "scene",
         "showlegend": true,
         "type": "scatter3d",
         "x": [
          1.0225,
          1.0225,
          1.0225,
          1.0225,
          0.9775,
          0.9775,
          0.9775,
          0.9775
         ],
         "y": [
          0.3124,
          0.3124,
          0.3124,
          0.3124,
          0.3953,
          0.3953,
          0.3953,
          0.3953
         ],
         "z": [
          78,
          78,
          78,
          78,
          89.25,
          89.25,
          89.25,
          89.25
         ]
        },
        {
         "customdata": [
          [
           "Canada"
          ],
          [
           "Canada"
          ],
          [
           "Canada"
          ],
          [
           "Canada"
          ],
          [
           "Mexico"
          ],
          [
           "Mexico"
          ],
          [
           "Mexico"
          ],
          [
           "Mexico"
          ],
          [
           "United States"
          ],
          [
           "United States"
          ],
          [
           "United States"
          ],
          [
           "United States"
          ]
         ],
         "hovertemplate": "continent=North America<br>Education_Index=%{x}<br>government_trust=%{y}<br>cpi_score=%{z}<br>gdp_per_capita=%{marker.size}<br>Country=%{customdata[0]}<extra></extra>",
         "legendgroup": "North America",
         "marker": {
          "color": "#19d3f3",
          "opacity": 0.5,
          "size": [
           1.3751,
           1.3751,
           1.3751,
           1.3751,
           1.0704,
           1.0704,
           1.0704,
           1.0704,
           1.4429,
           1.4429,
           1.4429,
           1.4429
          ],
          "sizemode": "area",
          "sizeref": 0.0008213333333333333,
          "symbol": "circle"
         },
         "mode": "markers",
         "name": "North America",
         "scene": "scene",
         "showlegend": true,
         "type": "scatter3d",
         "x": [
          0.9125,
          0.9125,
          0.9125,
          0.9125,
          0.71,
          0.71,
          0.71,
          0.71,
          0.92,
          0.92,
          0.92,
          0.92
         ],
         "y": [
          0.304,
          0.304,
          0.304,
          0.304,
          0.1285,
          0.1285,
          0.1285,
          0.1285,
          0.1389,
          0.1389,
          0.1389,
          0.1389
         ],
         "z": [
          82,
          82,
          82,
          82,
          29.5,
          29.5,
          29.5,
          29.5,
          74,
          74,
          74,
          74
         ]
        }
       ],
       "layout": {
        "height": 700,
        "legend": {
         "itemsizing": "constant",
         "title": {
          "text": "continent"
         },
         "tracegroupgap": 0
        },
        "margin": {
         "t": 60
        },
        "scene": {
         "domain": {
          "x": [
           0,
           1
          ],
          "y": [
           0,
           1
          ]
         },
         "xaxis": {
          "title": {
           "text": "Education Index"
          }
         },
         "yaxis": {
          "title": {
           "text": "Government Trust"
          }
         },
         "zaxis": {
          "title": {
           "text": "CPI Score"
          }
         }
        },
        "template": {
         "data": {
          "bar": [
           {
            "error_x": {
             "color": "#2a3f5f"
            },
            "error_y": {
             "color": "#2a3f5f"
            },
            "marker": {
             "line": {
              "color": "#E5ECF6",
              "width": 0.5
             },
             "pattern": {
              "fillmode": "overlay",
              "size": 10,
              "solidity": 0.2
             }
            },
            "type": "bar"
           }
          ],
          "barpolar": [
           {
            "marker": {
             "line": {
              "color": "#E5ECF6",
              "width": 0.5
             },
             "pattern": {
              "fillmode": "overlay",
              "size": 10,
              "solidity": 0.2
             }
            },
            "type": "barpolar"
           }
          ],
          "carpet": [
           {
            "aaxis": {
             "endlinecolor": "#2a3f5f",
             "gridcolor": "white",
             "linecolor": "white",
             "minorgridcolor": "white",
             "startlinecolor": "#2a3f5f"
            },
            "baxis": {
             "endlinecolor": "#2a3f5f",
             "gridcolor": "white",
             "linecolor": "white",
             "minorgridcolor": "white",
             "startlinecolor": "#2a3f5f"
            },
            "type": "carpet"
           }
          ],
          "choropleth": [
           {
            "colorbar": {
             "outlinewidth": 0,
             "ticks": ""
            },
            "type": "choropleth"
           }
          ],
          "contour": [
           {
            "colorbar": {
             "outlinewidth": 0,
             "ticks": ""
            },
            "colorscale": [
             [
              0,
              "#0d0887"
             ],
             [
              0.1111111111111111,
              "#46039f"
             ],
             [
              0.2222222222222222,
              "#7201a8"
             ],
             [
              0.3333333333333333,
              "#9c179e"
             ],
             [
              0.4444444444444444,
              "#bd3786"
             ],
             [
              0.5555555555555556,
              "#d8576b"
             ],
             [
              0.6666666666666666,
              "#ed7953"
             ],
             [
              0.7777777777777778,
              "#fb9f3a"
             ],
             [
              0.8888888888888888,
              "#fdca26"
             ],
             [
              1,
              "#f0f921"
             ]
            ],
            "type": "contour"
           }
          ],
          "contourcarpet": [
           {
            "colorbar": {
             "outlinewidth": 0,
             "ticks": ""
            },
            "type": "contourcarpet"
           }
          ],
          "heatmap": [
           {
            "colorbar": {
             "outlinewidth": 0,
             "ticks": ""
            },
            "colorscale": [
             [
              0,
              "#0d0887"
             ],
             [
              0.1111111111111111,
              "#46039f"
             ],
             [
              0.2222222222222222,
              "#7201a8"
             ],
             [
              0.3333333333333333,
              "#9c179e"
             ],
             [
              0.4444444444444444,
              "#bd3786"
             ],
             [
              0.5555555555555556,
              "#d8576b"
             ],
             [
              0.6666666666666666,
              "#ed7953"
             ],
             [
              0.7777777777777778,
              "#fb9f3a"
             ],
             [
              0.8888888888888888,
              "#fdca26"
             ],
             [
              1,
              "#f0f921"
             ]
            ],
            "type": "heatmap"
           }
          ],
          "heatmapgl": [
           {
            "colorbar": {
             "outlinewidth": 0,
             "ticks": ""
            },
            "colorscale": [
             [
              0,
              "#0d0887"
             ],
             [
              0.1111111111111111,
              "#46039f"
             ],
             [
              0.2222222222222222,
              "#7201a8"
             ],
             [
              0.3333333333333333,
              "#9c179e"
             ],
             [
              0.4444444444444444,
              "#bd3786"
             ],
             [
              0.5555555555555556,
              "#d8576b"
             ],
             [
              0.6666666666666666,
              "#ed7953"
             ],
             [
              0.7777777777777778,
              "#fb9f3a"
             ],
             [
              0.8888888888888888,
              "#fdca26"
             ],
             [
              1,
              "#f0f921"
             ]
            ],
            "type": "heatmapgl"
           }
          ],
          "histogram": [
           {
            "marker": {
             "pattern": {
              "fillmode": "overlay",
              "size": 10,
              "solidity": 0.2
             }
            },
            "type": "histogram"
           }
          ],
          "histogram2d": [
           {
            "colorbar": {
             "outlinewidth": 0,
             "ticks": ""
            },
            "colorscale": [
             [
              0,
              "#0d0887"
             ],
             [
              0.1111111111111111,
              "#46039f"
             ],
             [
              0.2222222222222222,
              "#7201a8"
             ],
             [
              0.3333333333333333,
              "#9c179e"
             ],
             [
              0.4444444444444444,
              "#bd3786"
             ],
             [
              0.5555555555555556,
              "#d8576b"
             ],
             [
              0.6666666666666666,
              "#ed7953"
             ],
             [
              0.7777777777777778,
              "#fb9f3a"
             ],
             [
              0.8888888888888888,
              "#fdca26"
             ],
             [
              1,
              "#f0f921"
             ]
            ],
            "type": "histogram2d"
           }
          ],
          "histogram2dcontour": [
           {
            "colorbar": {
             "outlinewidth": 0,
             "ticks": ""
            },
            "colorscale": [
             [
              0,
              "#0d0887"
             ],
             [
              0.1111111111111111,
              "#46039f"
             ],
             [
              0.2222222222222222,
              "#7201a8"
             ],
             [
              0.3333333333333333,
              "#9c179e"
             ],
             [
              0.4444444444444444,
              "#bd3786"
             ],
             [
              0.5555555555555556,
              "#d8576b"
             ],
             [
              0.6666666666666666,
              "#ed7953"
             ],
             [
              0.7777777777777778,
              "#fb9f3a"
             ],
             [
              0.8888888888888888,
              "#fdca26"
             ],
             [
              1,
              "#f0f921"
             ]
            ],
            "type": "histogram2dcontour"
           }
          ],
          "mesh3d": [
           {
            "colorbar": {
             "outlinewidth": 0,
             "ticks": ""
            },
            "type": "mesh3d"
           }
          ],
          "parcoords": [
           {
            "line": {
             "colorbar": {
              "outlinewidth": 0,
              "ticks": ""
             }
            },
            "type": "parcoords"
           }
          ],
          "pie": [
           {
            "automargin": true,
            "type": "pie"
           }
          ],
          "scatter": [
           {
            "fillpattern": {
             "fillmode": "overlay",
             "size": 10,
             "solidity": 0.2
            },
            "type": "scatter"
           }
          ],
          "scatter3d": [
           {
            "line": {
             "colorbar": {
              "outlinewidth": 0,
              "ticks": ""
             }
            },
            "marker": {
             "colorbar": {
              "outlinewidth": 0,
              "ticks": ""
             }
            },
            "type": "scatter3d"
           }
          ],
          "scattercarpet": [
           {
            "marker": {
             "colorbar": {
              "outlinewidth": 0,
              "ticks": ""
             }
            },
            "type": "scattercarpet"
           }
          ],
          "scattergeo": [
           {
            "marker": {
             "colorbar": {
              "outlinewidth": 0,
              "ticks": ""
             }
            },
            "type": "scattergeo"
           }
          ],
          "scattergl": [
           {
            "marker": {
             "colorbar": {
              "outlinewidth": 0,
              "ticks": ""
             }
            },
            "type": "scattergl"
           }
          ],
          "scattermapbox": [
           {
            "marker": {
             "colorbar": {
              "outlinewidth": 0,
              "ticks": ""
             }
            },
            "type": "scattermapbox"
           }
          ],
          "scatterpolar": [
           {
            "marker": {
             "colorbar": {
              "outlinewidth": 0,
              "ticks": ""
             }
            },
            "type": "scatterpolar"
           }
          ],
          "scatterpolargl": [
           {
            "marker": {
             "colorbar": {
              "outlinewidth": 0,
              "ticks": ""
             }
            },
            "type": "scatterpolargl"
           }
          ],
          "scatterternary": [
           {
            "marker": {
             "colorbar": {
              "outlinewidth": 0,
              "ticks": ""
             }
            },
            "type": "scatterternary"
           }
          ],
          "surface": [
           {
            "colorbar": {
             "outlinewidth": 0,
             "ticks": ""
            },
            "colorscale": [
             [
              0,
              "#0d0887"
             ],
             [
              0.1111111111111111,
              "#46039f"
             ],
             [
              0.2222222222222222,
              "#7201a8"
             ],
             [
              0.3333333333333333,
              "#9c179e"
             ],
             [
              0.4444444444444444,
              "#bd3786"
             ],
             [
              0.5555555555555556,
              "#d8576b"
             ],
             [
              0.6666666666666666,
              "#ed7953"
             ],
             [
              0.7777777777777778,
              "#fb9f3a"
             ],
             [
              0.8888888888888888,
              "#fdca26"
             ],
             [
              1,
              "#f0f921"
             ]
            ],
            "type": "surface"
           }
          ],
          "table": [
           {
            "cells": {
             "fill": {
              "color": "#EBF0F8"
             },
             "line": {
              "color": "white"
             }
            },
            "header": {
             "fill": {
              "color": "#C8D4E3"
             },
             "line": {
              "color": "white"
             }
            },
            "type": "table"
           }
          ]
         },
         "layout": {
          "annotationdefaults": {
           "arrowcolor": "#2a3f5f",
           "arrowhead": 0,
           "arrowwidth": 1
          },
          "autotypenumbers": "strict",
          "coloraxis": {
           "colorbar": {
            "outlinewidth": 0,
            "ticks": ""
           }
          },
          "colorscale": {
           "diverging": [
            [
             0,
             "#8e0152"
            ],
            [
             0.1,
             "#c51b7d"
            ],
            [
             0.2,
             "#de77ae"
            ],
            [
             0.3,
             "#f1b6da"
            ],
            [
             0.4,
             "#fde0ef"
            ],
            [
             0.5,
             "#f7f7f7"
            ],
            [
             0.6,
             "#e6f5d0"
            ],
            [
             0.7,
             "#b8e186"
            ],
            [
             0.8,
             "#7fbc41"
            ],
            [
             0.9,
             "#4d9221"
            ],
            [
             1,
             "#276419"
            ]
           ],
           "sequential": [
            [
             0,
             "#0d0887"
            ],
            [
             0.1111111111111111,
             "#46039f"
            ],
            [
             0.2222222222222222,
             "#7201a8"
            ],
            [
             0.3333333333333333,
             "#9c179e"
            ],
            [
             0.4444444444444444,
             "#bd3786"
            ],
            [
             0.5555555555555556,
             "#d8576b"
            ],
            [
             0.6666666666666666,
             "#ed7953"
            ],
            [
             0.7777777777777778,
             "#fb9f3a"
            ],
            [
             0.8888888888888888,
             "#fdca26"
            ],
            [
             1,
             "#f0f921"
            ]
           ],
           "sequentialminus": [
            [
             0,
             "#0d0887"
            ],
            [
             0.1111111111111111,
             "#46039f"
            ],
            [
             0.2222222222222222,
             "#7201a8"
            ],
            [
             0.3333333333333333,
             "#9c179e"
            ],
            [
             0.4444444444444444,
             "#bd3786"
            ],
            [
             0.5555555555555556,
             "#d8576b"
            ],
            [
             0.6666666666666666,
             "#ed7953"
            ],
            [
             0.7777777777777778,
             "#fb9f3a"
            ],
            [
             0.8888888888888888,
             "#fdca26"
            ],
            [
             1,
             "#f0f921"
            ]
           ]
          },
          "colorway": [
           "#636efa",
           "#EF553B",
           "#00cc96",
           "#ab63fa",
           "#FFA15A",
           "#19d3f3",
           "#FF6692",
           "#B6E880",
           "#FF97FF",
           "#FECB52"
          ],
          "font": {
           "color": "#2a3f5f"
          },
          "geo": {
           "bgcolor": "white",
           "lakecolor": "white",
           "landcolor": "#E5ECF6",
           "showlakes": true,
           "showland": true,
           "subunitcolor": "white"
          },
          "hoverlabel": {
           "align": "left"
          },
          "hovermode": "closest",
          "mapbox": {
           "style": "light"
          },
          "paper_bgcolor": "white",
          "plot_bgcolor": "#E5ECF6",
          "polar": {
           "angularaxis": {
            "gridcolor": "white",
            "linecolor": "white",
            "ticks": ""
           },
           "bgcolor": "#E5ECF6",
           "radialaxis": {
            "gridcolor": "white",
            "linecolor": "white",
            "ticks": ""
           }
          },
          "scene": {
           "xaxis": {
            "backgroundcolor": "#E5ECF6",
            "gridcolor": "white",
            "gridwidth": 2,
            "linecolor": "white",
            "showbackground": true,
            "ticks": "",
            "zerolinecolor": "white"
           },
           "yaxis": {
            "backgroundcolor": "#E5ECF6",
            "gridcolor": "white",
            "gridwidth": 2,
            "linecolor": "white",
            "showbackground": true,
            "ticks": "",
            "zerolinecolor": "white"
           },
           "zaxis": {
            "backgroundcolor": "#E5ECF6",
            "gridcolor": "white",
            "gridwidth": 2,
            "linecolor": "white",
            "showbackground": true,
            "ticks": "",
            "zerolinecolor": "white"
           }
          },
          "shapedefaults": {
           "line": {
            "color": "#2a3f5f"
           }
          },
          "ternary": {
           "aaxis": {
            "gridcolor": "white",
            "linecolor": "white",
            "ticks": ""
           },
           "baxis": {
            "gridcolor": "white",
            "linecolor": "white",
            "ticks": ""
           },
           "bgcolor": "#E5ECF6",
           "caxis": {
            "gridcolor": "white",
            "linecolor": "white",
            "ticks": ""
           }
          },
          "title": {
           "x": 0.05
          },
          "xaxis": {
           "automargin": true,
           "gridcolor": "white",
           "linecolor": "white",
           "ticks": "",
           "title": {
            "standoff": 15
           },
           "zerolinecolor": "white",
           "zerolinewidth": 2
          },
          "yaxis": {
           "automargin": true,
           "gridcolor": "white",
           "linecolor": "white",
           "ticks": "",
           "title": {
            "standoff": 15
           },
           "zerolinecolor": "white",
           "zerolinewidth": 2
          }
         }
        },
        "title": {
         "font": {
          "size": 20
         },
         "text": "Education, Government trust, and CPI",
         "x": 0.45,
         "xanchor": "center",
         "y": 0.95,
         "yanchor": "top"
        }
       }
      },
      "text/html": [
       "<div>                            <div id=\"fa17ac46-2817-4c63-907f-beeb24067454\" class=\"plotly-graph-div\" style=\"height:700px; width:100%;\"></div>            <script type=\"text/javascript\">                require([\"plotly\"], function(Plotly) {                    window.PLOTLYENV=window.PLOTLYENV || {};                                    if (document.getElementById(\"fa17ac46-2817-4c63-907f-beeb24067454\")) {                    Plotly.newPlot(                        \"fa17ac46-2817-4c63-907f-beeb24067454\",                        [{\"customdata\":[[\"Afghanistan\"],[\"Afghanistan\"],[\"Afghanistan\"],[\"Afghanistan\"],[\"Armenia\"],[\"Armenia\"],[\"Armenia\"],[\"Armenia\"],[\"Azerbaijan\"],[\"Azerbaijan\"],[\"Azerbaijan\"],[\"Azerbaijan\"],[\"Bahrain\"],[\"Bahrain\"],[\"Bahrain\"],[\"Bahrain\"],[\"Bangladesh\"],[\"Bangladesh\"],[\"Bangladesh\"],[\"Bangladesh\"],[\"Cambodia\"],[\"Cambodia\"],[\"Cambodia\"],[\"Cambodia\"],[\"China\"],[\"China\"],[\"China\"],[\"China\"],[\"China\"],[\"China\"],[\"China\"],[\"China\"],[\"Cyprus\"],[\"Cyprus\"],[\"Cyprus\"],[\"Cyprus\"],[\"Georgia\"],[\"Georgia\"],[\"Georgia\"],[\"Georgia\"],[\"India\"],[\"India\"],[\"India\"],[\"India\"],[\"Indonesia\"],[\"Indonesia\"],[\"Indonesia\"],[\"Indonesia\"],[\"Iran\"],[\"Iran\"],[\"Iran\"],[\"Iran\"],[\"Iraq\"],[\"Iraq\"],[\"Iraq\"],[\"Iraq\"],[\"Israel\"],[\"Israel\"],[\"Israel\"],[\"Israel\"],[\"Japan\"],[\"Japan\"],[\"Japan\"],[\"Japan\"],[\"Jordan\"],[\"Jordan\"],[\"Jordan\"],[\"Jordan\"],[\"Kazakhstan\"],[\"Kazakhstan\"],[\"Kazakhstan\"],[\"Kazakhstan\"],[\"Kuwait\"],[\"Kuwait\"],[\"Kuwait\"],[\"Kuwait\"],[\"Kyrgyzstan\"],[\"Kyrgyzstan\"],[\"Kyrgyzstan\"],[\"Kyrgyzstan\"],[\"Lebanon\"],[\"Lebanon\"],[\"Lebanon\"],[\"Lebanon\"],[\"Malaysia\"],[\"Malaysia\"],[\"Malaysia\"],[\"Malaysia\"],[\"Mongolia\"],[\"Mongolia\"],[\"Mongolia\"],[\"Mongolia\"],[\"Myanmar\"],[\"Myanmar\"],[\"Myanmar\"],[\"Myanmar\"],[\"Nepal\"],[\"Nepal\"],[\"Nepal\"],[\"Nepal\"],[\"Pakistan\"],[\"Pakistan\"],[\"Pakistan\"],[\"Pakistan\"],[\"Philippines\"],[\"Philippines\"],[\"Philippines\"],[\"Philippines\"],[\"Saudi Arabia\"],[\"Saudi Arabia\"],[\"Saudi Arabia\"],[\"Saudi Arabia\"],[\"Singapore\"],[\"Singapore\"],[\"Singapore\"],[\"Singapore\"],[\"Sri Lanka\"],[\"Sri Lanka\"],[\"Sri Lanka\"],[\"Sri Lanka\"],[\"Tajikistan\"],[\"Tajikistan\"],[\"Tajikistan\"],[\"Tajikistan\"],[\"Thailand\"],[\"Thailand\"],[\"Thailand\"],[\"Thailand\"],[\"Turkey\"],[\"Turkey\"],[\"Turkey\"],[\"Turkey\"],[\"Turkmenistan\"],[\"Turkmenistan\"],[\"Turkmenistan\"],[\"Turkmenistan\"],[\"United Arab Emirates\"],[\"United Arab Emirates\"],[\"United Arab Emirates\"],[\"United Arab Emirates\"],[\"Uzbekistan\"],[\"Uzbekistan\"],[\"Uzbekistan\"],[\"Uzbekistan\"],[\"Vietnam\"],[\"Vietnam\"],[\"Vietnam\"],[\"Vietnam\"],[\"Yemen\"],[\"Yemen\"],[\"Yemen\"],[\"Yemen\"]],\"hovertemplate\":\"continent=Asia\\u003cbr\\u003eEducation_Index=%{x}\\u003cbr\\u003egovernment_trust=%{y}\\u003cbr\\u003ecpi_score=%{z}\\u003cbr\\u003egdp_per_capita=%{marker.size}\\u003cbr\\u003eCountry=%{customdata[0]}\\u003cextra\\u003e\\u003c\\u002fextra\\u003e\",\"legendgroup\":\"Asia\",\"marker\":{\"color\":\"#636efa\",\"opacity\":0.5,\"size\":[0.3508,0.3508,0.3508,0.3508,0.8337,0.8337,0.8337,0.8337,1.0611,1.0611,1.0611,1.0611,1.378,1.378,1.378,1.378,0.5196,0.5196,0.5196,0.5196,0.5463,0.5463,0.5463,0.5463,0.9973,0.9973,0.9973,0.9973,0.9973,0.9973,0.9973,0.9973,1.264,1.264,1.264,1.264,0.8579,0.8579,0.8579,0.8579,0.7283,0.7283,0.7283,0.7283,0.9135,0.9135,0.9135,0.9135,1.0812,1.0812,1.0812,1.0812,1.0353,1.0353,1.0353,1.0353,1.2952,1.2952,1.2952,1.2952,1.3272,1.3272,1.3272,1.3272,0.888,0.888,0.888,0.888,1.1808,1.1808,1.1808,1.1808,1.5403,1.5403,1.5403,1.5403,0.5379,0.5379,0.5379,0.5379,1.0132,1.0132,1.0132,1.0132,1.1995,1.1995,1.1995,1.1995,0.9294,0.9294,0.9294,0.9294,0.5075,0.5075,0.5075,0.5075,0.4277,0.4277,0.4277,0.4277,0.6628,0.6628,0.6628,0.6628,0.7863,0.7863,0.7863,0.7863,1.427,1.427,1.427,1.427,1.5788,1.5788,1.5788,1.5788,0.928,0.928,0.928,0.928,0.4705,0.4705,0.4705,0.4705,1.0402,1.0402,1.0402,1.0402,1.1476,1.1476,1.1476,1.1476,1.0393,1.0393,1.0393,1.0393,1.6632,1.6632,1.6632,1.6632,0.7207,0.7207,0.7207,0.7207,0.7192,0.7192,0.7192,0.7192,0.4668,0.4668,0.4668,0.4668],\"sizemode\":\"area\",\"sizeref\":0.0008213333333333333,\"symbol\":\"circle\"},\"mode\":\"markers\",\"name\":\"Asia\",\"scene\":\"scene\",\"showlegend\":true,\"x\":[0.45,0.45,0.45,0.45,0.7625,0.7625,0.7625,0.7625,0.715,0.715,0.715,0.715,0.775,0.775,0.775,0.775,0.53,0.53,0.53,0.53,0.5175,0.5175,0.5175,0.5175,0.7025,0.7025,0.7025,0.7025,0.7025,0.7025,0.7025,0.7025,0.82,0.82,0.82,0.82,0.8575,0.8575,0.8575,0.8575,0.5875,0.5875,0.5875,0.5875,0.6475,0.6475,0.6475,0.6475,0.77,0.77,0.77,0.77,0.5425,0.5425,0.5425,0.5425,0.89,0.89,0.89,0.89,0.8575,0.8575,0.8575,0.8575,0.7175,0.7175,0.7175,0.7175,0.8325,0.8325,0.8325,0.8325,0.655,0.655,0.655,0.655,0.7475,0.7475,0.7475,0.7475,0.6475,0.6475,0.6475,0.6475,0.735,0.735,0.735,0.735,0.785,0.785,0.785,0.785,0.4725,0.4725,0.4725,0.4725,0.54,0.54,0.54,0.54,0.4275,0.4275,0.4275,0.4275,0.6825,0.6825,0.6825,0.6825,0.83,0.83,0.83,0.83,0.86,0.86,0.86,0.86,0.77,0.77,0.77,0.77,0.67,0.67,0.67,0.67,0.69,0.69,0.69,0.69,0.735,0.735,0.735,0.735,0.6325,0.6325,0.6325,0.6325,0.7525,0.7525,0.7525,0.7525,0.715,0.715,0.715,0.715,0.65,0.65,0.65,0.65,0.38,0.38,0.38,0.38],\"y\":[0.0548,0.0548,0.0548,0.0548,0.0394,0.0394,0.0394,0.0394,0.1749,0.1749,0.1749,0.1749,0.199,0.199,0.199,0.199,0.1341,0.1341,0.1341,0.1341,0.0669,0.0669,0.0669,0.0669,0.0634,0.0634,0.0634,0.0634,0.0634,0.0634,0.0634,0.0634,0.0447,0.0447,0.0447,0.0447,0.2535,0.2535,0.2535,0.2535,0.0888,0.0888,0.0888,0.0888,0.0153,0.0153,0.0153,0.0153,0.0903,0.0903,0.0903,0.0903,0.1073,0.1073,0.1073,0.1073,0.1293,0.1293,0.1293,0.1293,0.1586,0.1586,0.1586,0.1586,0.1317,0.1317,0.1317,0.1317,0.1052,0.1052,0.1052,0.1052,0.1686,0.1686,0.1686,0.1686,0.0349,0.0349,0.0349,0.0349,0.0616,0.0616,0.0616,0.0616,0.0634,0.0634,0.0634,0.0634,0.0324,0.0324,0.0324,0.0324,0.1823,0.1823,0.1823,0.1823,0.0748,0.0748,0.0748,0.0748,0.11,0.11,0.11,0.11,0.1085,0.1085,0.1085,0.1085,0.2144,0.2144,0.2144,0.2144,0.4666,0.4666,0.4666,0.4666,0.0656,0.0656,0.0656,0.0656,0.1188,0.1188,0.1188,0.1188,0.0301,0.0301,0.0301,0.0301,0.118,0.118,0.118,0.118,0.1582,0.1582,0.1582,0.1582,0.3011,0.3011,0.3011,0.3011,0.2634,0.2634,0.2634,0.2634,0.086,0.086,0.086,0.086,0.0691,0.0691,0.0691,0.0691],\"z\":[14.25,14.25,14.25,14.25,34.5,34.5,34.5,34.5,28.75,28.75,28.75,28.75,41.5,41.5,41.5,41.5,26.25,26.25,26.25,26.25,20.75,20.75,20.75,20.75,39.25,39.25,39.25,39.25,39.25,39.25,39.25,39.25,58.0,58.0,58.0,58.0,55.75,55.75,55.75,55.75,39.75,39.75,39.75,39.75,37.0,37.0,37.0,37.0,28.5,28.5,28.5,28.5,17.25,17.25,17.25,17.25,62.0,62.0,62.0,62.0,73.25,73.25,73.25,73.25,49.5,49.5,49.5,49.5,29.75,29.75,29.75,29.75,42.5,42.5,42.5,42.5,28.5,28.5,28.5,28.5,28.0,28.0,28.0,28.0,48.25,48.25,48.25,48.25,37.5,37.5,37.5,37.5,27.25,27.25,27.25,27.25,29.5,29.5,29.5,29.5,31.75,31.75,31.75,31.75,35.0,35.0,35.0,35.0,49.0,49.0,49.0,49.0,84.5,84.5,84.5,84.5,37.25,37.25,37.25,37.25,24.25,24.25,24.25,24.25,36.5,36.5,36.5,36.5,41.0,41.0,41.0,41.0,19.75,19.75,19.75,19.75,69.25,69.25,69.25,69.25,21.25,21.25,21.25,21.25,33.0,33.0,33.0,33.0,15.5,15.5,15.5,15.5],\"type\":\"scatter3d\"},{\"customdata\":[[\"Albania\"],[\"Albania\"],[\"Albania\"],[\"Albania\"],[\"Austria\"],[\"Austria\"],[\"Austria\"],[\"Austria\"],[\"Belarus\"],[\"Belarus\"],[\"Belarus\"],[\"Belarus\"],[\"Belgium\"],[\"Belgium\"],[\"Belgium\"],[\"Belgium\"],[\"Bosnia and Herzegovina\"],[\"Bosnia and Herzegovina\"],[\"Bosnia and Herzegovina\"],[\"Bosnia and Herzegovina\"],[\"Bulgaria\"],[\"Bulgaria\"],[\"Bulgaria\"],[\"Bulgaria\"],[\"Croatia\"],[\"Croatia\"],[\"Croatia\"],[\"Croatia\"],[\"Denmark\"],[\"Denmark\"],[\"Denmark\"],[\"Denmark\"],[\"Estonia\"],[\"Estonia\"],[\"Estonia\"],[\"Estonia\"],[\"Finland\"],[\"Finland\"],[\"Finland\"],[\"Finland\"],[\"France\"],[\"France\"],[\"France\"],[\"France\"],[\"Germany\"],[\"Germany\"],[\"Germany\"],[\"Germany\"],[\"Greece\"],[\"Greece\"],[\"Greece\"],[\"Greece\"],[\"Hungary\"],[\"Hungary\"],[\"Hungary\"],[\"Hungary\"],[\"Iceland\"],[\"Iceland\"],[\"Iceland\"],[\"Iceland\"],[\"Ireland\"],[\"Ireland\"],[\"Ireland\"],[\"Ireland\"],[\"Italy\"],[\"Italy\"],[\"Italy\"],[\"Italy\"],[\"Latvia\"],[\"Latvia\"],[\"Latvia\"],[\"Latvia\"],[\"Lithuania\"],[\"Lithuania\"],[\"Lithuania\"],[\"Lithuania\"],[\"Luxembourg\"],[\"Luxembourg\"],[\"Luxembourg\"],[\"Luxembourg\"],[\"Malta\"],[\"Malta\"],[\"Malta\"],[\"Malta\"],[\"Moldova\"],[\"Moldova\"],[\"Moldova\"],[\"Moldova\"],[\"Montenegro\"],[\"Montenegro\"],[\"Montenegro\"],[\"Montenegro\"],[\"Netherlands\"],[\"Netherlands\"],[\"Netherlands\"],[\"Netherlands\"],[\"Norway\"],[\"Norway\"],[\"Norway\"],[\"Norway\"],[\"Poland\"],[\"Poland\"],[\"Poland\"],[\"Poland\"],[\"Portugal\"],[\"Portugal\"],[\"Portugal\"],[\"Portugal\"],[\"Romania\"],[\"Romania\"],[\"Romania\"],[\"Romania\"],[\"Russia\"],[\"Russia\"],[\"Russia\"],[\"Russia\"],[\"Serbia\"],[\"Serbia\"],[\"Serbia\"],[\"Serbia\"],[\"Slovakia\"],[\"Slovakia\"],[\"Slovakia\"],[\"Slovakia\"],[\"Slovenia\"],[\"Slovenia\"],[\"Slovenia\"],[\"Slovenia\"],[\"Spain\"],[\"Spain\"],[\"Spain\"],[\"Spain\"],[\"Sweden\"],[\"Sweden\"],[\"Sweden\"],[\"Sweden\"],[\"Switzerland\"],[\"Switzerland\"],[\"Switzerland\"],[\"Switzerland\"],[\"Ukraine\"],[\"Ukraine\"],[\"Ukraine\"],[\"Ukraine\"],[\"United Kingdom\"],[\"United Kingdom\"],[\"United Kingdom\"],[\"United Kingdom\"]],\"hovertemplate\":\"continent=Europe\\u003cbr\\u003eEducation_Index=%{x}\\u003cbr\\u003egovernment_trust=%{y}\\u003cbr\\u003ecpi_score=%{z}\\u003cbr\\u003egdp_per_capita=%{marker.size}\\u003cbr\\u003eCountry=%{customdata[0]}\\u003cextra\\u003e\\u003c\\u002fextra\\u003e\",\"legendgroup\":\"Europe\",\"marker\":{\"color\":\"#EF553B\",\"opacity\":0.5,\"size\":[0.9345,0.9345,0.9345,0.9345,1.3853,1.3853,1.3853,1.3853,1.0736,1.0736,1.0736,1.0736,1.3629,1.3629,1.3629,1.3629,0.9187,0.9187,0.9187,0.9187,1.0799,1.0799,1.0799,1.0799,1.1438,1.1438,1.1438,1.1438,1.3855,1.3855,1.3855,1.3855,1.2274,1.2274,1.2274,1.2274,1.3447,1.3447,1.3447,1.3447,1.3314,1.3314,1.3314,1.3314,1.3822,1.3822,1.3822,1.3822,1.1946,1.1946,1.1946,1.1946,1.1947,1.1947,1.1947,1.1947,1.3765,1.3765,1.3765,1.3765,1.4547,1.4547,1.4547,1.4547,1.3011,1.3011,1.3011,1.3011,1.1772,1.1772,1.1772,1.1772,1.2242,1.2242,1.2242,1.2242,1.6227,1.6227,1.6227,1.6227,1.2802,1.2802,1.2802,1.2802,0.6663,0.6663,0.6663,0.6663,1.0409,1.0409,1.0409,1.0409,1.3976,1.3976,1.3976,1.3976,1.5049,1.5049,1.5049,1.5049,1.1998,1.1998,1.1998,1.1998,1.221,1.221,1.221,1.221,1.1348,1.1348,1.1348,1.1348,1.1884,1.1884,1.1884,1.1884,0.9922,0.9922,0.9922,0.9922,1.2376,1.2376,1.2376,1.2376,1.2508,1.2508,1.2508,1.2508,1.2879,1.2879,1.2879,1.2879,1.392,1.392,1.392,1.392,1.4584,1.4584,1.4584,1.4584,0.8267,0.8267,0.8267,0.8267,1.3213,1.3213,1.3213,1.3213],\"sizemode\":\"area\",\"sizeref\":0.0008213333333333333,\"symbol\":\"circle\"},\"mode\":\"markers\",\"name\":\"Europe\",\"scene\":\"scene\",\"showlegend\":true,\"x\":[0.7725,0.7725,0.7725,0.7725,0.875,0.875,0.875,0.875,0.8575,0.8575,0.8575,0.8575,0.9875,0.9875,0.9875,0.9875,0.7325,0.7325,0.7325,0.7325,0.8225,0.8225,0.8225,0.8225,0.8125,0.8125,0.8125,0.8125,0.99,0.99,0.99,0.99,0.8925,0.8925,0.8925,0.8925,0.945,0.945,0.945,0.945,0.86,0.86,0.86,0.86,0.96,0.96,0.96,0.96,0.875,0.875,0.875,0.875,0.83,0.83,0.83,0.83,0.9875,0.9875,0.9875,0.9875,0.9925,0.9925,0.9925,0.9925,0.83,0.83,0.83,0.83,0.8825,0.8825,0.8825,0.8825,0.9025,0.9025,0.9025,0.9025,0.8025,0.8025,0.8025,0.8025,0.8375,0.8375,0.8375,0.8375,0.71,0.71,0.71,0.71,0.8125,0.8125,0.8125,0.8125,0.94,0.94,0.94,0.94,0.9475,0.9475,0.9475,0.9475,0.885,0.885,0.885,0.885,0.8,0.8,0.8,0.8,0.7825,0.7825,0.7825,0.7825,0.85,0.85,0.85,0.85,0.7975,0.7975,0.7975,0.7975,0.845,0.845,0.845,0.845,0.915,0.915,0.915,0.915,0.8675,0.8675,0.8675,0.8675,0.94,0.94,0.94,0.94,0.91,0.91,0.91,0.91,0.8125,0.8125,0.8125,0.8125,0.94,0.94,0.94,0.94],\"y\":[0.0407,0.0407,0.0407,0.0407,0.2145,0.2145,0.2145,0.2145,0.1608,0.1608,0.1608,0.1608,0.2317,0.2317,0.2317,0.2317,0.0021,0.0021,0.0021,0.0021,0.0082,0.0082,0.0082,0.0082,0.0321,0.0321,0.0321,0.0321,0.4256,0.4256,0.4256,0.4256,0.1675,0.1675,0.1675,0.1675,0.3956,0.3956,0.3956,0.3956,0.1845,0.1845,0.1845,0.1845,0.26,0.26,0.26,0.26,0.0338,0.0338,0.0338,0.0338,0.0266,0.0266,0.0266,0.0266,0.1377,0.1377,0.1377,0.1377,0.3004,0.3004,0.3004,0.3004,0.0288,0.0288,0.0288,0.0288,0.0668,0.0668,0.0668,0.0668,0.0175,0.0175,0.0175,0.0175,0.3335,0.3335,0.3335,0.3335,0.1455,0.1455,0.1455,0.1455,0.0066,0.0066,0.0066,0.0066,0.098,0.098,0.098,0.098,0.2985,0.2985,0.2985,0.2985,0.3405,0.3405,0.3405,0.3405,0.0539,0.0539,0.0539,0.0539,0.0172,0.0172,0.0172,0.0172,0.0042,0.0042,0.0042,0.0042,0.0298,0.0298,0.0298,0.0298,0.0373,0.0373,0.0373,0.0373,0.0216,0.0216,0.0216,0.0216,0.0477,0.0477,0.0477,0.0477,0.072,0.072,0.072,0.072,0.3947,0.3947,0.3947,0.3947,0.3717,0.3717,0.3717,0.3717,0.0184,0.0184,0.0184,0.0184,0.2365,0.2365,0.2365,0.2365],\"z\":[37.25,37.25,37.25,37.25,75.5,75.5,75.5,75.5,40.0,40.0,40.0,40.0,76.0,76.0,76.0,76.0,38.25,38.25,38.25,38.25,41.75,41.75,41.75,41.75,49.25,49.25,49.25,49.25,89.25,89.25,89.25,89.25,71.0,71.0,71.0,71.0,87.25,87.25,87.25,87.25,70.25,70.25,70.25,70.25,80.75,80.75,80.75,80.75,45.75,45.75,45.75,45.75,47.5,47.5,47.5,47.5,77.5,77.5,77.5,77.5,73.75,73.75,73.75,73.75,48.25,48.25,48.25,48.25,57.25,57.25,57.25,57.25,59.0,59.0,59.0,59.0,82.25,82.25,82.25,82.25,56.25,56.25,56.25,56.25,31.75,31.75,31.75,31.75,45.0,45.0,45.0,45.0,82.75,82.75,82.75,82.75,85.5,85.5,85.5,85.5,61.25,61.25,61.25,61.25,63.25,63.25,63.25,63.25,47.25,47.25,47.25,47.25,28.75,28.75,28.75,28.75,40.5,40.5,40.5,40.5,50.5,50.5,50.5,50.5,60.5,60.5,60.5,60.5,57.75,57.75,57.75,57.75,86.5,86.5,86.5,86.5,85.5,85.5,85.5,85.5,29.5,29.5,29.5,29.5,81.0,81.0,81.0,81.0],\"type\":\"scatter3d\"},{\"customdata\":[[\"Algeria\"],[\"Algeria\"],[\"Algeria\"],[\"Algeria\"],[\"Benin\"],[\"Benin\"],[\"Benin\"],[\"Benin\"],[\"Botswana\"],[\"Botswana\"],[\"Botswana\"],[\"Botswana\"],[\"Burkina Faso\"],[\"Burkina Faso\"],[\"Burkina Faso\"],[\"Burkina Faso\"],[\"Burundi\"],[\"Burundi\"],[\"Burundi\"],[\"Burundi\"],[\"Cameroon\"],[\"Cameroon\"],[\"Cameroon\"],[\"Cameroon\"],[\"Chad\"],[\"Chad\"],[\"Chad\"],[\"Chad\"],[\"Egypt\"],[\"Egypt\"],[\"Egypt\"],[\"Egypt\"],[\"Ethiopia\"],[\"Ethiopia\"],[\"Ethiopia\"],[\"Ethiopia\"],[\"Gabon\"],[\"Gabon\"],[\"Gabon\"],[\"Gabon\"],[\"Ghana\"],[\"Ghana\"],[\"Ghana\"],[\"Ghana\"],[\"Kenya\"],[\"Kenya\"],[\"Kenya\"],[\"Kenya\"],[\"Liberia\"],[\"Liberia\"],[\"Liberia\"],[\"Liberia\"],[\"Libya\"],[\"Libya\"],[\"Libya\"],[\"Libya\"],[\"Madagascar\"],[\"Madagascar\"],[\"Madagascar\"],[\"Madagascar\"],[\"Malawi\"],[\"Malawi\"],[\"Malawi\"],[\"Malawi\"],[\"Mali\"],[\"Mali\"],[\"Mali\"],[\"Mali\"],[\"Mauritania\"],[\"Mauritania\"],[\"Mauritania\"],[\"Mauritania\"],[\"Mauritius\"],[\"Mauritius\"],[\"Mauritius\"],[\"Mauritius\"],[\"Morocco\"],[\"Morocco\"],[\"Morocco\"],[\"Morocco\"],[\"Niger\"],[\"Niger\"],[\"Niger\"],[\"Niger\"],[\"Nigeria\"],[\"Nigeria\"],[\"Nigeria\"],[\"Nigeria\"],[\"Rwanda\"],[\"Rwanda\"],[\"Rwanda\"],[\"Rwanda\"],[\"Senegal\"],[\"Senegal\"],[\"Senegal\"],[\"Senegal\"],[\"Sierra Leone\"],[\"Sierra Leone\"],[\"Sierra Leone\"],[\"Sierra Leone\"],[\"South Africa\"],[\"South Africa\"],[\"South Africa\"],[\"South Africa\"],[\"Tanzania\"],[\"Tanzania\"],[\"Tanzania\"],[\"Tanzania\"],[\"Togo\"],[\"Togo\"],[\"Togo\"],[\"Togo\"],[\"Tunisia\"],[\"Tunisia\"],[\"Tunisia\"],[\"Tunisia\"],[\"Uganda\"],[\"Uganda\"],[\"Uganda\"],[\"Uganda\"],[\"Zambia\"],[\"Zambia\"],[\"Zambia\"],[\"Zambia\"],[\"Zimbabwe\"],[\"Zimbabwe\"],[\"Zimbabwe\"],[\"Zimbabwe\"]],\"hovertemplate\":\"continent=Africa\\u003cbr\\u003eEducation_Index=%{x}\\u003cbr\\u003egovernment_trust=%{y}\\u003cbr\\u003ecpi_score=%{z}\\u003cbr\\u003egdp_per_capita=%{marker.size}\\u003cbr\\u003eCountry=%{customdata[0]}\\u003cextra\\u003e\\u003c\\u002fextra\\u003e\",\"legendgroup\":\"Africa\",\"marker\":{\"color\":\"#00cc96\",\"opacity\":0.5,\"size\":[1.003,1.003,1.003,1.003,0.3722,0.3722,0.3722,0.3722,1.0434,1.0434,1.0434,1.0434,0.3133,0.3133,0.3133,0.3133,0.061,0.061,0.061,0.061,0.5177,0.5177,0.5177,0.5177,0.372,0.372,0.372,0.372,0.9174,0.9174,0.9174,0.9174,0.2935,0.2935,0.2935,0.2935,1.0879,1.0879,1.0879,1.0879,0.604,0.604,0.604,0.604,0.4825,0.4825,0.4825,0.4825,0.0848,0.0848,0.0848,0.0848,1.0656,1.0656,1.0656,1.0656,0.2625,0.2625,0.2625,0.2625,0.1566,0.1566,0.1566,0.1566,0.373,0.373,0.373,0.373,0.5574,0.5574,0.5574,0.5574,1.1018,1.1018,1.1018,1.1018,0.7982,0.7982,0.7982,0.7982,0.1251,0.1251,0.1251,0.1251,0.7058,0.7058,0.7058,0.7058,0.3205,0.3205,0.3205,0.3205,0.4308,0.4308,0.4308,0.4308,0.3057,0.3057,0.3057,0.3057,0.9688,0.9688,0.9688,0.9688,0.4318,0.4318,0.4318,0.4318,0.262,0.262,0.262,0.262,0.9273,0.9273,0.9273,0.9273,0.3116,0.3116,0.3116,0.3116,0.5617,0.5617,0.5617,0.5617,0.3425,0.3425,0.3425,0.3425],\"sizemode\":\"area\",\"sizeref\":0.0008213333333333333,\"symbol\":\"circle\"},\"mode\":\"markers\",\"name\":\"Africa\",\"scene\":\"scene\",\"showlegend\":true,\"x\":[0.7025,0.7025,0.7025,0.7025,0.5225,0.5225,0.5225,0.5225,0.68,0.68,0.68,0.68,0.33,0.33,0.33,0.33,0.4675,0.4675,0.4675,0.4675,0.585,0.585,0.585,0.585,0.3275,0.3275,0.3275,0.3275,0.6375,0.6375,0.6375,0.6375,0.3625,0.3625,0.3625,0.3625,0.6525,0.6525,0.6525,0.6525,0.58,0.58,0.58,0.58,0.5675,0.5675,0.5675,0.5675,0.4575,0.4575,0.4575,0.4575,0.6475,0.6475,0.6475,0.6475,0.52,0.52,0.52,0.52,0.4875,0.4875,0.4875,0.4875,0.315,0.315,0.315,0.315,0.41,0.41,0.41,0.41,0.76,0.76,0.76,0.76,0.5675,0.5675,0.5675,0.5675,0.2425,0.2425,0.2425,0.2425,0.505,0.505,0.505,0.505,0.485,0.485,0.485,0.485,0.395,0.395,0.395,0.395,0.4225,0.4225,0.4225,0.4225,0.725,0.725,0.725,0.725,0.4525,0.4525,0.4525,0.4525,0.55,0.55,0.55,0.55,0.6975,0.6975,0.6975,0.6975,0.5425,0.5425,0.5425,0.5425,0.6075,0.6075,0.6075,0.6075,0.5725,0.5725,0.5725,0.5725],\"y\":[0.1422,0.1422,0.1422,0.1422,0.0725,0.0725,0.0725,0.0725,0.1038,0.1038,0.1038,0.1038,0.1224,0.1224,0.1224,0.1224,0.1102,0.1102,0.1102,0.1102,0.0473,0.0473,0.0473,0.0473,0.0611,0.0611,0.0611,0.0611,0.0879,0.0879,0.0879,0.0879,0.1405,0.1405,0.1405,0.1405,0.0735,0.0735,0.0735,0.0735,0.0345,0.0345,0.0345,0.0345,0.0578,0.0578,0.0578,0.0578,0.0411,0.0411,0.0411,0.0411,0.1257,0.1257,0.1257,0.1257,0.0596,0.0596,0.0596,0.0596,0.0779,0.0779,0.0779,0.0779,0.0841,0.0841,0.0841,0.0841,0.1231,0.1231,0.1231,0.1231,0.0568,0.0568,0.0568,0.0568,0.0808,0.0808,0.0808,0.0808,0.124,0.124,0.124,0.124,0.0349,0.0349,0.0349,0.0349,0.4655,0.4655,0.4655,0.4655,0.0941,0.0941,0.0941,0.0941,0.0642,0.0642,0.0642,0.0642,0.0681,0.0681,0.0681,0.0681,0.0919,0.0919,0.0919,0.0919,0.0972,0.0972,0.0972,0.0972,0.0671,0.0671,0.0671,0.0671,0.0627,0.0627,0.0627,0.0627,0.093,0.093,0.093,0.093,0.091,0.091,0.091,0.091],\"z\":[34.5,34.5,34.5,34.5,38.0,38.0,38.0,38.0,61.25,61.25,61.25,61.25,40.75,40.75,40.75,40.75,20.0,20.0,20.0,20.0,25.75,25.75,25.75,25.75,20.25,20.25,20.25,20.25,34.25,34.25,34.25,34.25,34.0,34.0,34.0,34.0,33.0,33.0,33.0,33.0,42.75,42.75,42.75,42.75,26.5,26.5,26.5,26.5,34.25,34.25,34.25,34.25,16.0,16.0,16.0,16.0,25.75,25.75,25.75,25.75,31.25,31.25,31.25,31.25,32.5,32.5,32.5,32.5,28.25,28.25,28.25,28.25,52.0,52.0,52.0,52.0,39.0,39.0,39.0,39.0,34.0,34.0,34.0,34.0,27.0,27.0,27.0,27.0,54.75,54.75,54.75,54.75,44.75,44.75,44.75,44.75,29.75,29.75,29.75,29.75,43.75,43.75,43.75,43.75,33.5,33.5,33.5,33.5,31.5,31.5,31.5,31.5,41.0,41.0,41.0,41.0,25.5,25.5,25.5,25.5,37.0,37.0,37.0,37.0,21.75,21.75,21.75,21.75],\"type\":\"scatter3d\"},{\"customdata\":[[\"Argentina\"],[\"Argentina\"],[\"Argentina\"],[\"Argentina\"],[\"Bolivia\"],[\"Bolivia\"],[\"Bolivia\"],[\"Bolivia\"],[\"Brazil\"],[\"Brazil\"],[\"Brazil\"],[\"Brazil\"],[\"Chile\"],[\"Chile\"],[\"Chile\"],[\"Chile\"],[\"Colombia\"],[\"Colombia\"],[\"Colombia\"],[\"Colombia\"],[\"Costa Rica\"],[\"Costa Rica\"],[\"Costa Rica\"],[\"Costa Rica\"],[\"Dominican Republic\"],[\"Dominican Republic\"],[\"Dominican Republic\"],[\"Dominican Republic\"],[\"Ecuador\"],[\"Ecuador\"],[\"Ecuador\"],[\"Ecuador\"],[\"El Salvador\"],[\"El Salvador\"],[\"El Salvador\"],[\"El Salvador\"],[\"Guatemala\"],[\"Guatemala\"],[\"Guatemala\"],[\"Guatemala\"],[\"Guinea\"],[\"Guinea\"],[\"Guinea\"],[\"Guinea\"],[\"Haiti\"],[\"Haiti\"],[\"Haiti\"],[\"Haiti\"],[\"Honduras\"],[\"Honduras\"],[\"Honduras\"],[\"Honduras\"],[\"Jamaica\"],[\"Jamaica\"],[\"Jamaica\"],[\"Jamaica\"],[\"Nicaragua\"],[\"Nicaragua\"],[\"Nicaragua\"],[\"Nicaragua\"],[\"Panama\"],[\"Panama\"],[\"Panama\"],[\"Panama\"],[\"Paraguay\"],[\"Paraguay\"],[\"Paraguay\"],[\"Paraguay\"],[\"Peru\"],[\"Peru\"],[\"Peru\"],[\"Peru\"],[\"Uruguay\"],[\"Uruguay\"],[\"Uruguay\"],[\"Uruguay\"],[\"Venezuela\"],[\"Venezuela\"],[\"Venezuela\"],[\"Venezuela\"]],\"hovertemplate\":\"continent=South America\\u003cbr\\u003eEducation_Index=%{x}\\u003cbr\\u003egovernment_trust=%{y}\\u003cbr\\u003ecpi_score=%{z}\\u003cbr\\u003egdp_per_capita=%{marker.size}\\u003cbr\\u003eCountry=%{customdata[0]}\\u003cextra\\u003e\\u003c\\u002fextra\\u003e\",\"legendgroup\":\"South America\",\"marker\":{\"color\":\"#ab63fa\",\"opacity\":0.5,\"size\":[1.101,1.101,1.101,1.101,0.7605,0.7605,0.7605,0.7605,1.0196,1.0196,1.0196,1.0196,1.1625,1.1625,1.1625,1.1625,0.9836,0.9836,0.9836,0.9836,1.0274,1.0274,1.0274,1.0274,0.9929,0.9929,0.9929,0.9929,0.9165,0.9165,0.9165,0.9165,0.8186,0.8186,0.8186,0.8186,0.7996,0.7996,0.7996,0.7996,0.2857,0.2857,0.2857,0.2857,0.3183,0.3183,0.3183,0.3183,0.647,0.647,0.647,0.647,0.8465,0.8465,0.8465,0.8465,0.6731,0.6731,0.6731,0.6731,1.1396,1.1396,1.1396,1.1396,0.8456,0.8456,0.8456,0.8456,0.9574,0.9574,0.9574,0.9574,1.1241,1.1241,1.1241,1.1241,1.0322,1.0322,1.0322,1.0322],\"sizemode\":\"area\",\"sizeref\":0.0008213333333333333,\"symbol\":\"circle\"},\"mode\":\"markers\",\"name\":\"South America\",\"scene\":\"scene\",\"showlegend\":true,\"x\":[0.8625,0.8625,0.8625,0.8625,0.71,0.71,0.71,0.71,0.7275,0.7275,0.7275,0.7275,0.8325,0.8325,0.8325,0.8325,0.7125,0.7125,0.7125,0.7125,0.7525,0.7525,0.7525,0.7525,0.6775,0.6775,0.6775,0.6775,0.73,0.73,0.73,0.73,0.6025,0.6025,0.6025,0.6025,0.5375,0.5375,0.5375,0.5375,0.38,0.38,0.38,0.38,0.4575,0.4575,0.4575,0.4575,0.52,0.52,0.52,0.52,0.7075,0.7075,0.7075,0.7075,0.59,0.59,0.59,0.59,0.705,0.705,0.705,0.705,0.66,0.66,0.66,0.66,0.7175,0.7175,0.7175,0.7175,0.775,0.775,0.775,0.775,0.7475,0.7475,0.7475,0.7475],\"y\":[0.0621,0.0621,0.0621,0.0621,0.0666,0.0666,0.0666,0.0666,0.1151,0.1151,0.1151,0.1151,0.082,0.082,0.082,0.082,0.0427,0.0427,0.0427,0.0427,0.1,0.1,0.1,0.1,0.1158,0.1158,0.1158,0.1158,0.132,0.132,0.132,0.132,0.0909,0.0909,0.0909,0.0909,0.0802,0.0802,0.0802,0.0802,0.1031,0.1031,0.1031,0.1031,0.1214,0.1214,0.1214,0.1214,0.0734,0.0734,0.0734,0.0734,0.0343,0.0343,0.0343,0.0343,0.1447,0.1447,0.1447,0.1447,0.0702,0.0702,0.0702,0.0702,0.0819,0.0819,0.0819,0.0819,0.042,0.042,0.042,0.042,0.1822,0.1822,0.1822,0.1822,0.0685,0.0685,0.0685,0.0685],\"z\":[36.75,36.75,36.75,36.75,32.25,32.25,32.25,32.25,37.5,37.5,37.5,37.5,67.5,67.5,67.5,67.5,36.75,36.75,36.75,36.75,57.0,57.0,57.0,57.0,30.75,30.75,30.75,30.75,32.25,32.25,32.25,32.25,35.75,35.75,35.75,35.75,27.75,27.75,27.75,27.75,26.75,26.75,26.75,26.75,19.75,19.75,19.75,19.75,29.75,29.75,29.75,29.75,42.0,42.0,42.0,42.0,26.0,26.0,26.0,26.0,37.75,37.75,37.75,37.75,28.75,28.75,28.75,28.75,35.75,35.75,35.75,35.75,71.25,71.25,71.25,71.25,17.5,17.5,17.5,17.5],\"type\":\"scatter3d\"},{\"customdata\":[[\"Australia\"],[\"Australia\"],[\"Australia\"],[\"Australia\"],[\"New Zealand\"],[\"New Zealand\"],[\"New Zealand\"],[\"New Zealand\"]],\"hovertemplate\":\"continent=Australia\\u003cbr\\u003eEducation_Index=%{x}\\u003cbr\\u003egovernment_trust=%{y}\\u003cbr\\u003ecpi_score=%{z}\\u003cbr\\u003egdp_per_capita=%{marker.size}\\u003cbr\\u003eCountry=%{customdata[0]}\\u003cextra\\u003e\\u003c\\u002fextra\\u003e\",\"legendgroup\":\"Australia\",\"marker\":{\"color\":\"#FFA15A\",\"opacity\":0.5,\"size\":[1.3825,1.3825,1.3825,1.3825,1.3067,1.3067,1.3067,1.3067],\"sizemode\":\"area\",\"sizeref\":0.0008213333333333333,\"symbol\":\"circle\"},\"mode\":\"markers\",\"name\":\"Australia\",\"scene\":\"scene\",\"showlegend\":true,\"x\":[1.0225,1.0225,1.0225,1.0225,0.9775,0.9775,0.9775,0.9775],\"y\":[0.3124,0.3124,0.3124,0.3124,0.3953,0.3953,0.3953,0.3953],\"z\":[78.0,78.0,78.0,78.0,89.25,89.25,89.25,89.25],\"type\":\"scatter3d\"},{\"customdata\":[[\"Canada\"],[\"Canada\"],[\"Canada\"],[\"Canada\"],[\"Mexico\"],[\"Mexico\"],[\"Mexico\"],[\"Mexico\"],[\"United States\"],[\"United States\"],[\"United States\"],[\"United States\"]],\"hovertemplate\":\"continent=North America\\u003cbr\\u003eEducation_Index=%{x}\\u003cbr\\u003egovernment_trust=%{y}\\u003cbr\\u003ecpi_score=%{z}\\u003cbr\\u003egdp_per_capita=%{marker.size}\\u003cbr\\u003eCountry=%{customdata[0]}\\u003cextra\\u003e\\u003c\\u002fextra\\u003e\",\"legendgroup\":\"North America\",\"marker\":{\"color\":\"#19d3f3\",\"opacity\":0.5,\"size\":[1.3751,1.3751,1.3751,1.3751,1.0704,1.0704,1.0704,1.0704,1.4429,1.4429,1.4429,1.4429],\"sizemode\":\"area\",\"sizeref\":0.0008213333333333333,\"symbol\":\"circle\"},\"mode\":\"markers\",\"name\":\"North America\",\"scene\":\"scene\",\"showlegend\":true,\"x\":[0.9125,0.9125,0.9125,0.9125,0.71,0.71,0.71,0.71,0.92,0.92,0.92,0.92],\"y\":[0.304,0.304,0.304,0.304,0.1285,0.1285,0.1285,0.1285,0.1389,0.1389,0.1389,0.1389],\"z\":[82.0,82.0,82.0,82.0,29.5,29.5,29.5,29.5,74.0,74.0,74.0,74.0],\"type\":\"scatter3d\"}],                        {\"template\":{\"data\":{\"histogram2dcontour\":[{\"type\":\"histogram2dcontour\",\"colorbar\":{\"outlinewidth\":0,\"ticks\":\"\"},\"colorscale\":[[0.0,\"#0d0887\"],[0.1111111111111111,\"#46039f\"],[0.2222222222222222,\"#7201a8\"],[0.3333333333333333,\"#9c179e\"],[0.4444444444444444,\"#bd3786\"],[0.5555555555555556,\"#d8576b\"],[0.6666666666666666,\"#ed7953\"],[0.7777777777777778,\"#fb9f3a\"],[0.8888888888888888,\"#fdca26\"],[1.0,\"#f0f921\"]]}],\"choropleth\":[{\"type\":\"choropleth\",\"colorbar\":{\"outlinewidth\":0,\"ticks\":\"\"}}],\"histogram2d\":[{\"type\":\"histogram2d\",\"colorbar\":{\"outlinewidth\":0,\"ticks\":\"\"},\"colorscale\":[[0.0,\"#0d0887\"],[0.1111111111111111,\"#46039f\"],[0.2222222222222222,\"#7201a8\"],[0.3333333333333333,\"#9c179e\"],[0.4444444444444444,\"#bd3786\"],[0.5555555555555556,\"#d8576b\"],[0.6666666666666666,\"#ed7953\"],[0.7777777777777778,\"#fb9f3a\"],[0.8888888888888888,\"#fdca26\"],[1.0,\"#f0f921\"]]}],\"heatmap\":[{\"type\":\"heatmap\",\"colorbar\":{\"outlinewidth\":0,\"ticks\":\"\"},\"colorscale\":[[0.0,\"#0d0887\"],[0.1111111111111111,\"#46039f\"],[0.2222222222222222,\"#7201a8\"],[0.3333333333333333,\"#9c179e\"],[0.4444444444444444,\"#bd3786\"],[0.5555555555555556,\"#d8576b\"],[0.6666666666666666,\"#ed7953\"],[0.7777777777777778,\"#fb9f3a\"],[0.8888888888888888,\"#fdca26\"],[1.0,\"#f0f921\"]]}],\"heatmapgl\":[{\"type\":\"heatmapgl\",\"colorbar\":{\"outlinewidth\":0,\"ticks\":\"\"},\"colorscale\":[[0.0,\"#0d0887\"],[0.1111111111111111,\"#46039f\"],[0.2222222222222222,\"#7201a8\"],[0.3333333333333333,\"#9c179e\"],[0.4444444444444444,\"#bd3786\"],[0.5555555555555556,\"#d8576b\"],[0.6666666666666666,\"#ed7953\"],[0.7777777777777778,\"#fb9f3a\"],[0.8888888888888888,\"#fdca26\"],[1.0,\"#f0f921\"]]}],\"contourcarpet\":[{\"type\":\"contourcarpet\",\"colorbar\":{\"outlinewidth\":0,\"ticks\":\"\"}}],\"contour\":[{\"type\":\"contour\",\"colorbar\":{\"outlinewidth\":0,\"ticks\":\"\"},\"colorscale\":[[0.0,\"#0d0887\"],[0.1111111111111111,\"#46039f\"],[0.2222222222222222,\"#7201a8\"],[0.3333333333333333,\"#9c179e\"],[0.4444444444444444,\"#bd3786\"],[0.5555555555555556,\"#d8576b\"],[0.6666666666666666,\"#ed7953\"],[0.7777777777777778,\"#fb9f3a\"],[0.8888888888888888,\"#fdca26\"],[1.0,\"#f0f921\"]]}],\"surface\":[{\"type\":\"surface\",\"colorbar\":{\"outlinewidth\":0,\"ticks\":\"\"},\"colorscale\":[[0.0,\"#0d0887\"],[0.1111111111111111,\"#46039f\"],[0.2222222222222222,\"#7201a8\"],[0.3333333333333333,\"#9c179e\"],[0.4444444444444444,\"#bd3786\"],[0.5555555555555556,\"#d8576b\"],[0.6666666666666666,\"#ed7953\"],[0.7777777777777778,\"#fb9f3a\"],[0.8888888888888888,\"#fdca26\"],[1.0,\"#f0f921\"]]}],\"mesh3d\":[{\"type\":\"mesh3d\",\"colorbar\":{\"outlinewidth\":0,\"ticks\":\"\"}}],\"scatter\":[{\"fillpattern\":{\"fillmode\":\"overlay\",\"size\":10,\"solidity\":0.2},\"type\":\"scatter\"}],\"parcoords\":[{\"type\":\"parcoords\",\"line\":{\"colorbar\":{\"outlinewidth\":0,\"ticks\":\"\"}}}],\"scatterpolargl\":[{\"type\":\"scatterpolargl\",\"marker\":{\"colorbar\":{\"outlinewidth\":0,\"ticks\":\"\"}}}],\"bar\":[{\"error_x\":{\"color\":\"#2a3f5f\"},\"error_y\":{\"color\":\"#2a3f5f\"},\"marker\":{\"line\":{\"color\":\"#E5ECF6\",\"width\":0.5},\"pattern\":{\"fillmode\":\"overlay\",\"size\":10,\"solidity\":0.2}},\"type\":\"bar\"}],\"scattergeo\":[{\"type\":\"scattergeo\",\"marker\":{\"colorbar\":{\"outlinewidth\":0,\"ticks\":\"\"}}}],\"scatterpolar\":[{\"type\":\"scatterpolar\",\"marker\":{\"colorbar\":{\"outlinewidth\":0,\"ticks\":\"\"}}}],\"histogram\":[{\"marker\":{\"pattern\":{\"fillmode\":\"overlay\",\"size\":10,\"solidity\":0.2}},\"type\":\"histogram\"}],\"scattergl\":[{\"type\":\"scattergl\",\"marker\":{\"colorbar\":{\"outlinewidth\":0,\"ticks\":\"\"}}}],\"scatter3d\":[{\"type\":\"scatter3d\",\"line\":{\"colorbar\":{\"outlinewidth\":0,\"ticks\":\"\"}},\"marker\":{\"colorbar\":{\"outlinewidth\":0,\"ticks\":\"\"}}}],\"scattermapbox\":[{\"type\":\"scattermapbox\",\"marker\":{\"colorbar\":{\"outlinewidth\":0,\"ticks\":\"\"}}}],\"scatterternary\":[{\"type\":\"scatterternary\",\"marker\":{\"colorbar\":{\"outlinewidth\":0,\"ticks\":\"\"}}}],\"scattercarpet\":[{\"type\":\"scattercarpet\",\"marker\":{\"colorbar\":{\"outlinewidth\":0,\"ticks\":\"\"}}}],\"carpet\":[{\"aaxis\":{\"endlinecolor\":\"#2a3f5f\",\"gridcolor\":\"white\",\"linecolor\":\"white\",\"minorgridcolor\":\"white\",\"startlinecolor\":\"#2a3f5f\"},\"baxis\":{\"endlinecolor\":\"#2a3f5f\",\"gridcolor\":\"white\",\"linecolor\":\"white\",\"minorgridcolor\":\"white\",\"startlinecolor\":\"#2a3f5f\"},\"type\":\"carpet\"}],\"table\":[{\"cells\":{\"fill\":{\"color\":\"#EBF0F8\"},\"line\":{\"color\":\"white\"}},\"header\":{\"fill\":{\"color\":\"#C8D4E3\"},\"line\":{\"color\":\"white\"}},\"type\":\"table\"}],\"barpolar\":[{\"marker\":{\"line\":{\"color\":\"#E5ECF6\",\"width\":0.5},\"pattern\":{\"fillmode\":\"overlay\",\"size\":10,\"solidity\":0.2}},\"type\":\"barpolar\"}],\"pie\":[{\"automargin\":true,\"type\":\"pie\"}]},\"layout\":{\"autotypenumbers\":\"strict\",\"colorway\":[\"#636efa\",\"#EF553B\",\"#00cc96\",\"#ab63fa\",\"#FFA15A\",\"#19d3f3\",\"#FF6692\",\"#B6E880\",\"#FF97FF\",\"#FECB52\"],\"font\":{\"color\":\"#2a3f5f\"},\"hovermode\":\"closest\",\"hoverlabel\":{\"align\":\"left\"},\"paper_bgcolor\":\"white\",\"plot_bgcolor\":\"#E5ECF6\",\"polar\":{\"bgcolor\":\"#E5ECF6\",\"angularaxis\":{\"gridcolor\":\"white\",\"linecolor\":\"white\",\"ticks\":\"\"},\"radialaxis\":{\"gridcolor\":\"white\",\"linecolor\":\"white\",\"ticks\":\"\"}},\"ternary\":{\"bgcolor\":\"#E5ECF6\",\"aaxis\":{\"gridcolor\":\"white\",\"linecolor\":\"white\",\"ticks\":\"\"},\"baxis\":{\"gridcolor\":\"white\",\"linecolor\":\"white\",\"ticks\":\"\"},\"caxis\":{\"gridcolor\":\"white\",\"linecolor\":\"white\",\"ticks\":\"\"}},\"coloraxis\":{\"colorbar\":{\"outlinewidth\":0,\"ticks\":\"\"}},\"colorscale\":{\"sequential\":[[0.0,\"#0d0887\"],[0.1111111111111111,\"#46039f\"],[0.2222222222222222,\"#7201a8\"],[0.3333333333333333,\"#9c179e\"],[0.4444444444444444,\"#bd3786\"],[0.5555555555555556,\"#d8576b\"],[0.6666666666666666,\"#ed7953\"],[0.7777777777777778,\"#fb9f3a\"],[0.8888888888888888,\"#fdca26\"],[1.0,\"#f0f921\"]],\"sequentialminus\":[[0.0,\"#0d0887\"],[0.1111111111111111,\"#46039f\"],[0.2222222222222222,\"#7201a8\"],[0.3333333333333333,\"#9c179e\"],[0.4444444444444444,\"#bd3786\"],[0.5555555555555556,\"#d8576b\"],[0.6666666666666666,\"#ed7953\"],[0.7777777777777778,\"#fb9f3a\"],[0.8888888888888888,\"#fdca26\"],[1.0,\"#f0f921\"]],\"diverging\":[[0,\"#8e0152\"],[0.1,\"#c51b7d\"],[0.2,\"#de77ae\"],[0.3,\"#f1b6da\"],[0.4,\"#fde0ef\"],[0.5,\"#f7f7f7\"],[0.6,\"#e6f5d0\"],[0.7,\"#b8e186\"],[0.8,\"#7fbc41\"],[0.9,\"#4d9221\"],[1,\"#276419\"]]},\"xaxis\":{\"gridcolor\":\"white\",\"linecolor\":\"white\",\"ticks\":\"\",\"title\":{\"standoff\":15},\"zerolinecolor\":\"white\",\"automargin\":true,\"zerolinewidth\":2},\"yaxis\":{\"gridcolor\":\"white\",\"linecolor\":\"white\",\"ticks\":\"\",\"title\":{\"standoff\":15},\"zerolinecolor\":\"white\",\"automargin\":true,\"zerolinewidth\":2},\"scene\":{\"xaxis\":{\"backgroundcolor\":\"#E5ECF6\",\"gridcolor\":\"white\",\"linecolor\":\"white\",\"showbackground\":true,\"ticks\":\"\",\"zerolinecolor\":\"white\",\"gridwidth\":2},\"yaxis\":{\"backgroundcolor\":\"#E5ECF6\",\"gridcolor\":\"white\",\"linecolor\":\"white\",\"showbackground\":true,\"ticks\":\"\",\"zerolinecolor\":\"white\",\"gridwidth\":2},\"zaxis\":{\"backgroundcolor\":\"#E5ECF6\",\"gridcolor\":\"white\",\"linecolor\":\"white\",\"showbackground\":true,\"ticks\":\"\",\"zerolinecolor\":\"white\",\"gridwidth\":2}},\"shapedefaults\":{\"line\":{\"color\":\"#2a3f5f\"}},\"annotationdefaults\":{\"arrowcolor\":\"#2a3f5f\",\"arrowhead\":0,\"arrowwidth\":1},\"geo\":{\"bgcolor\":\"white\",\"landcolor\":\"#E5ECF6\",\"subunitcolor\":\"white\",\"showland\":true,\"showlakes\":true,\"lakecolor\":\"white\"},\"title\":{\"x\":0.05},\"mapbox\":{\"style\":\"light\"}}},\"scene\":{\"domain\":{\"x\":[0.0,1.0],\"y\":[0.0,1.0]},\"xaxis\":{\"title\":{\"text\":\"Education Index\"}},\"yaxis\":{\"title\":{\"text\":\"Government Trust\"}},\"zaxis\":{\"title\":{\"text\":\"CPI Score\"}}},\"legend\":{\"title\":{\"text\":\"continent\"},\"tracegroupgap\":0,\"itemsizing\":\"constant\"},\"margin\":{\"t\":60},\"height\":700,\"title\":{\"font\":{\"size\":20},\"text\":\"Education, Government trust, and CPI\",\"x\":0.45,\"y\":0.95,\"xanchor\":\"center\",\"yanchor\":\"top\"}},                        {\"responsive\": true}                    ).then(function(){\n",
       "                            \n",
       "var gd = document.getElementById('fa17ac46-2817-4c63-907f-beeb24067454');\n",
       "var x = new MutationObserver(function (mutations, observer) {{\n",
       "        var display = window.getComputedStyle(gd).display;\n",
       "        if (!display || display === 'none') {{\n",
       "            console.log([gd, 'removed!']);\n",
       "            Plotly.purge(gd);\n",
       "            observer.disconnect();\n",
       "        }}\n",
       "}});\n",
       "\n",
       "// Listen for the removal of the full notebook cells\n",
       "var notebookContainer = gd.closest('#notebook-container');\n",
       "if (notebookContainer) {{\n",
       "    x.observe(notebookContainer, {childList: true});\n",
       "}}\n",
       "\n",
       "// Listen for the clearing of the current output cell\n",
       "var outputEl = gd.closest('.output');\n",
       "if (outputEl) {{\n",
       "    x.observe(outputEl, {childList: true});\n",
       "}}\n",
       "\n",
       "                        })                };                });            </script>        </div>"
      ]
     },
     "metadata": {},
     "output_type": "display_data"
    }
   ],
   "source": [
    "# Scatterplot using plotly Express\n",
    "fig = px.scatter_3d(df_mean,\n",
    "                    x='Education_Index',\n",
    "                    y='government_trust',\n",
    "                    z='cpi_score',\n",
    "                    color='continent',\n",
    "                    size='gdp_per_capita',\n",
    "                    opacity=0.5,\n",
    "                    size_max=45,\n",
    "                    height=700,\n",
    "                    hover_data=['Country'])\n",
    "\n",
    "# Customize the layout\n",
    "fig.update_layout(scene=dict(\n",
    "    xaxis_title='Education Index',\n",
    "    yaxis_title='Government Trust',\n",
    "    zaxis_title='CPI Score'\n",
    "))\n",
    "\n",
    "# Makes Title \n",
    "fig.update_layout(\n",
    "    title={\n",
    "        'text': 'Education, Government trust, and CPI',\n",
    "        'x': 0.45,\n",
    "        'y': 0.95,\n",
    "        'xanchor': 'center',\n",
    "        'yanchor': 'top'\n",
    "    },\n",
    "    title_font_size=20\n",
    ")\n",
    "# Show the plot\n",
    "fig.show()"
   ]
  },
  {
   "cell_type": "markdown",
   "id": "61a92432",
   "metadata": {},
   "source": [
    "### Does a good education give government trust?\n",
    "\n",
    "This 3d Scatter Plot is multivariate and shows on the x-axis the 'Education Index', on the y-axis the 'Government Trust' and on the z-axis the 'CPI Score'. CPI stands for 'Corruption Perception Index', the lower the CPI index, the more the people believe there is corruption in their country. The size of the plot-points shows the GDP per capita. \n",
    "\n",
    "The 3D scatter plot reveals interesting insights about the correlation between the Corruption Perception Index (CPI) score and other variables across countries. A positive correlation between the CPI score and variables such as Education Index and Government trust suggests that countries with higher levels of corruption tend to exhibit lower values in education, government trust, and economic prosperity. Conversely, a negative correlation indicates that countries with lower corruption levels tend to have higher education indices and greater levels of government trust. This visualization highlights the importance of addressing corruption to foster positive development in education and trust within countries. \n",
    "\n",
    "The Education Index plays a significant role in shaping the relationships between various variables across countries and continents. A positive correlation between the Education Index and variables such as Government trust, GDP per capita, and possibly the Corruption Perception Index suggests that countries with higher education indices tend to exhibit greater levels of government trust and economic prosperity while combating corruption. Furthermore, the Education Index may influence the disparities observed between countries and continents. Nations with higher education indices are more likely to invest in quality education, leading to better governance, higher economic output, and potentially lower corruption levels. Thus, enhancing education systems becomes vital for promoting positive development and reducing inequality among countries and continents.\n",
    "\n",
    "Overall it gives the visualisation that countries with a higher inducation index tend to have more goverment trust and a higher CPI score. This is probaply because people that live in a country that is able to give a good education tend to trust the goverment more than people that don't recieved good education. "
   ]
  },
  {
   "cell_type": "code",
   "execution_count": 54,
   "id": "abb7c102",
   "metadata": {
    "scrolled": true
   },
   "outputs": [
    {
     "data": {
      "application/vnd.plotly.v1+json": {
       "config": {
        "plotlyServerURL": "https://plot.ly"
       },
       "data": [
        {
         "alignmentgroup": "True",
         "bingroup": "x",
         "histfunc": "sum",
         "hovertemplate": "continent=Africa<br>Year=%{x}<br>sum of happiness_score=%{y}<extra></extra>",
         "legendgroup": "Africa",
         "marker": {
          "color": "#AEFD8E",
          "line": {
           "width": 0.5
          },
          "pattern": {
           "shape": ""
          }
         },
         "name": "Africa",
         "offsetgroup": "Africa",
         "orientation": "v",
         "showlegend": true,
         "type": "histogram",
         "x": [
          2015,
          2016,
          2017,
          2018
         ],
         "xaxis": "x",
         "y": [
          4.3118437603125,
          4.28815625,
          4.42665625,
          4.3554375
         ],
         "yaxis": "y"
        },
        {
         "alignmentgroup": "True",
         "bingroup": "x",
         "histfunc": "sum",
         "hovertemplate": "continent=Asia<br>Year=%{x}<br>sum of happiness_score=%{y}<extra></extra>",
         "legendgroup": "Asia",
         "marker": {
          "color": "#FAA598",
          "line": {
           "width": 0.5
          },
          "pattern": {
           "shape": ""
          }
         },
         "name": "Asia",
         "offsetgroup": "Asia",
         "orientation": "v",
         "showlegend": true,
         "type": "histogram",
         "x": [
          2015,
          2016,
          2017,
          2018
         ],
         "xaxis": "x",
         "y": [
          5.283736799842106,
          5.252868421052632,
          5.250421052631578,
          5.263631578947368
         ],
         "yaxis": "y"
        },
        {
         "alignmentgroup": "True",
         "bingroup": "x",
         "histfunc": "sum",
         "hovertemplate": "continent=Australia<br>Year=%{x}<br>sum of happiness_score=%{y}<extra></extra>",
         "legendgroup": "Australia",
         "marker": {
          "color": "#B2E4FA",
          "line": {
           "width": 0.5
          },
          "pattern": {
           "shape": ""
          }
         },
         "name": "Australia",
         "offsetgroup": "Australia",
         "orientation": "v",
         "showlegend": true,
         "type": "histogram",
         "x": [
          2015,
          2016,
          2017,
          2018
         ],
         "xaxis": "x",
         "y": [
          7.299000025,
          7.285,
          7.2675,
          7.298
         ],
         "yaxis": "y"
        },
        {
         "alignmentgroup": "True",
         "bingroup": "x",
         "histfunc": "sum",
         "hovertemplate": "continent=Europe<br>Year=%{x}<br>sum of happiness_score=%{y}<extra></extra>",
         "legendgroup": "Europe",
         "marker": {
          "color": "#E3C97F",
          "line": {
           "width": 0.5
          },
          "pattern": {
           "shape": ""
          }
         },
         "name": "Europe",
         "offsetgroup": "Europe",
         "orientation": "v",
         "showlegend": true,
         "type": "histogram",
         "x": [
          2015,
          2016,
          2017,
          2018
         ],
         "xaxis": "x",
         "y": [
          6.151864876675676,
          6.089594594594595,
          6.2901621621621615,
          6.216297297297297
         ],
         "yaxis": "y"
        },
        {
         "alignmentgroup": "True",
         "bingroup": "x",
         "histfunc": "sum",
         "hovertemplate": "continent=North America<br>Year=%{x}<br>sum of happiness_score=%{y}<extra></extra>",
         "legendgroup": "North America",
         "marker": {
          "color": "#B47FE3",
          "line": {
           "width": 0.5
          },
          "pattern": {
           "shape": ""
          }
         },
         "name": "North America",
         "offsetgroup": "North America",
         "orientation": "v",
         "showlegend": true,
         "type": "histogram",
         "x": [
          2015,
          2016,
          2017,
          2018
         ],
         "xaxis": "x",
         "y": [
          6.9623333616666665,
          7.2443333333333335,
          6.921666666666667,
          6.900666666666667
         ],
         "yaxis": "y"
        },
        {
         "alignmentgroup": "True",
         "bingroup": "x",
         "histfunc": "sum",
         "hovertemplate": "continent=South America<br>Year=%{x}<br>sum of happiness_score=%{y}<extra></extra>",
         "legendgroup": "South America",
         "marker": {
          "color": "#E8EAC8",
          "line": {
           "width": 0.5
          },
          "pattern": {
           "shape": ""
          }
         },
         "name": "South America",
         "offsetgroup": "South America",
         "orientation": "v",
         "showlegend": true,
         "type": "histogram",
         "x": [
          2015,
          2016,
          2017,
          2018
         ],
         "xaxis": "x",
         "y": [
          5.79385000465,
          5.96075,
          5.839499999999999,
          5.8115499999999995
         ],
         "yaxis": "y"
        }
       ],
       "layout": {
        "bargap": 0.2,
        "barmode": "group",
        "font": {
         "family": "Arial",
         "size": 14
        },
        "legend": {
         "font": {
          "family": "Arial",
          "size": 12
         },
         "title": {
          "text": "continent"
         },
         "tracegroupgap": 0
        },
        "margin": {
         "t": 60
        },
        "plot_bgcolor": "rgb(240, 240, 240)",
        "template": {
         "data": {
          "bar": [
           {
            "error_x": {
             "color": "#2a3f5f"
            },
            "error_y": {
             "color": "#2a3f5f"
            },
            "marker": {
             "line": {
              "color": "#E5ECF6",
              "width": 0.5
             },
             "pattern": {
              "fillmode": "overlay",
              "size": 10,
              "solidity": 0.2
             }
            },
            "type": "bar"
           }
          ],
          "barpolar": [
           {
            "marker": {
             "line": {
              "color": "#E5ECF6",
              "width": 0.5
             },
             "pattern": {
              "fillmode": "overlay",
              "size": 10,
              "solidity": 0.2
             }
            },
            "type": "barpolar"
           }
          ],
          "carpet": [
           {
            "aaxis": {
             "endlinecolor": "#2a3f5f",
             "gridcolor": "white",
             "linecolor": "white",
             "minorgridcolor": "white",
             "startlinecolor": "#2a3f5f"
            },
            "baxis": {
             "endlinecolor": "#2a3f5f",
             "gridcolor": "white",
             "linecolor": "white",
             "minorgridcolor": "white",
             "startlinecolor": "#2a3f5f"
            },
            "type": "carpet"
           }
          ],
          "choropleth": [
           {
            "colorbar": {
             "outlinewidth": 0,
             "ticks": ""
            },
            "type": "choropleth"
           }
          ],
          "contour": [
           {
            "colorbar": {
             "outlinewidth": 0,
             "ticks": ""
            },
            "colorscale": [
             [
              0,
              "#0d0887"
             ],
             [
              0.1111111111111111,
              "#46039f"
             ],
             [
              0.2222222222222222,
              "#7201a8"
             ],
             [
              0.3333333333333333,
              "#9c179e"
             ],
             [
              0.4444444444444444,
              "#bd3786"
             ],
             [
              0.5555555555555556,
              "#d8576b"
             ],
             [
              0.6666666666666666,
              "#ed7953"
             ],
             [
              0.7777777777777778,
              "#fb9f3a"
             ],
             [
              0.8888888888888888,
              "#fdca26"
             ],
             [
              1,
              "#f0f921"
             ]
            ],
            "type": "contour"
           }
          ],
          "contourcarpet": [
           {
            "colorbar": {
             "outlinewidth": 0,
             "ticks": ""
            },
            "type": "contourcarpet"
           }
          ],
          "heatmap": [
           {
            "colorbar": {
             "outlinewidth": 0,
             "ticks": ""
            },
            "colorscale": [
             [
              0,
              "#0d0887"
             ],
             [
              0.1111111111111111,
              "#46039f"
             ],
             [
              0.2222222222222222,
              "#7201a8"
             ],
             [
              0.3333333333333333,
              "#9c179e"
             ],
             [
              0.4444444444444444,
              "#bd3786"
             ],
             [
              0.5555555555555556,
              "#d8576b"
             ],
             [
              0.6666666666666666,
              "#ed7953"
             ],
             [
              0.7777777777777778,
              "#fb9f3a"
             ],
             [
              0.8888888888888888,
              "#fdca26"
             ],
             [
              1,
              "#f0f921"
             ]
            ],
            "type": "heatmap"
           }
          ],
          "heatmapgl": [
           {
            "colorbar": {
             "outlinewidth": 0,
             "ticks": ""
            },
            "colorscale": [
             [
              0,
              "#0d0887"
             ],
             [
              0.1111111111111111,
              "#46039f"
             ],
             [
              0.2222222222222222,
              "#7201a8"
             ],
             [
              0.3333333333333333,
              "#9c179e"
             ],
             [
              0.4444444444444444,
              "#bd3786"
             ],
             [
              0.5555555555555556,
              "#d8576b"
             ],
             [
              0.6666666666666666,
              "#ed7953"
             ],
             [
              0.7777777777777778,
              "#fb9f3a"
             ],
             [
              0.8888888888888888,
              "#fdca26"
             ],
             [
              1,
              "#f0f921"
             ]
            ],
            "type": "heatmapgl"
           }
          ],
          "histogram": [
           {
            "marker": {
             "pattern": {
              "fillmode": "overlay",
              "size": 10,
              "solidity": 0.2
             }
            },
            "type": "histogram"
           }
          ],
          "histogram2d": [
           {
            "colorbar": {
             "outlinewidth": 0,
             "ticks": ""
            },
            "colorscale": [
             [
              0,
              "#0d0887"
             ],
             [
              0.1111111111111111,
              "#46039f"
             ],
             [
              0.2222222222222222,
              "#7201a8"
             ],
             [
              0.3333333333333333,
              "#9c179e"
             ],
             [
              0.4444444444444444,
              "#bd3786"
             ],
             [
              0.5555555555555556,
              "#d8576b"
             ],
             [
              0.6666666666666666,
              "#ed7953"
             ],
             [
              0.7777777777777778,
              "#fb9f3a"
             ],
             [
              0.8888888888888888,
              "#fdca26"
             ],
             [
              1,
              "#f0f921"
             ]
            ],
            "type": "histogram2d"
           }
          ],
          "histogram2dcontour": [
           {
            "colorbar": {
             "outlinewidth": 0,
             "ticks": ""
            },
            "colorscale": [
             [
              0,
              "#0d0887"
             ],
             [
              0.1111111111111111,
              "#46039f"
             ],
             [
              0.2222222222222222,
              "#7201a8"
             ],
             [
              0.3333333333333333,
              "#9c179e"
             ],
             [
              0.4444444444444444,
              "#bd3786"
             ],
             [
              0.5555555555555556,
              "#d8576b"
             ],
             [
              0.6666666666666666,
              "#ed7953"
             ],
             [
              0.7777777777777778,
              "#fb9f3a"
             ],
             [
              0.8888888888888888,
              "#fdca26"
             ],
             [
              1,
              "#f0f921"
             ]
            ],
            "type": "histogram2dcontour"
           }
          ],
          "mesh3d": [
           {
            "colorbar": {
             "outlinewidth": 0,
             "ticks": ""
            },
            "type": "mesh3d"
           }
          ],
          "parcoords": [
           {
            "line": {
             "colorbar": {
              "outlinewidth": 0,
              "ticks": ""
             }
            },
            "type": "parcoords"
           }
          ],
          "pie": [
           {
            "automargin": true,
            "type": "pie"
           }
          ],
          "scatter": [
           {
            "fillpattern": {
             "fillmode": "overlay",
             "size": 10,
             "solidity": 0.2
            },
            "type": "scatter"
           }
          ],
          "scatter3d": [
           {
            "line": {
             "colorbar": {
              "outlinewidth": 0,
              "ticks": ""
             }
            },
            "marker": {
             "colorbar": {
              "outlinewidth": 0,
              "ticks": ""
             }
            },
            "type": "scatter3d"
           }
          ],
          "scattercarpet": [
           {
            "marker": {
             "colorbar": {
              "outlinewidth": 0,
              "ticks": ""
             }
            },
            "type": "scattercarpet"
           }
          ],
          "scattergeo": [
           {
            "marker": {
             "colorbar": {
              "outlinewidth": 0,
              "ticks": ""
             }
            },
            "type": "scattergeo"
           }
          ],
          "scattergl": [
           {
            "marker": {
             "colorbar": {
              "outlinewidth": 0,
              "ticks": ""
             }
            },
            "type": "scattergl"
           }
          ],
          "scattermapbox": [
           {
            "marker": {
             "colorbar": {
              "outlinewidth": 0,
              "ticks": ""
             }
            },
            "type": "scattermapbox"
           }
          ],
          "scatterpolar": [
           {
            "marker": {
             "colorbar": {
              "outlinewidth": 0,
              "ticks": ""
             }
            },
            "type": "scatterpolar"
           }
          ],
          "scatterpolargl": [
           {
            "marker": {
             "colorbar": {
              "outlinewidth": 0,
              "ticks": ""
             }
            },
            "type": "scatterpolargl"
           }
          ],
          "scatterternary": [
           {
            "marker": {
             "colorbar": {
              "outlinewidth": 0,
              "ticks": ""
             }
            },
            "type": "scatterternary"
           }
          ],
          "surface": [
           {
            "colorbar": {
             "outlinewidth": 0,
             "ticks": ""
            },
            "colorscale": [
             [
              0,
              "#0d0887"
             ],
             [
              0.1111111111111111,
              "#46039f"
             ],
             [
              0.2222222222222222,
              "#7201a8"
             ],
             [
              0.3333333333333333,
              "#9c179e"
             ],
             [
              0.4444444444444444,
              "#bd3786"
             ],
             [
              0.5555555555555556,
              "#d8576b"
             ],
             [
              0.6666666666666666,
              "#ed7953"
             ],
             [
              0.7777777777777778,
              "#fb9f3a"
             ],
             [
              0.8888888888888888,
              "#fdca26"
             ],
             [
              1,
              "#f0f921"
             ]
            ],
            "type": "surface"
           }
          ],
          "table": [
           {
            "cells": {
             "fill": {
              "color": "#EBF0F8"
             },
             "line": {
              "color": "white"
             }
            },
            "header": {
             "fill": {
              "color": "#C8D4E3"
             },
             "line": {
              "color": "white"
             }
            },
            "type": "table"
           }
          ]
         },
         "layout": {
          "annotationdefaults": {
           "arrowcolor": "#2a3f5f",
           "arrowhead": 0,
           "arrowwidth": 1
          },
          "autotypenumbers": "strict",
          "coloraxis": {
           "colorbar": {
            "outlinewidth": 0,
            "ticks": ""
           }
          },
          "colorscale": {
           "diverging": [
            [
             0,
             "#8e0152"
            ],
            [
             0.1,
             "#c51b7d"
            ],
            [
             0.2,
             "#de77ae"
            ],
            [
             0.3,
             "#f1b6da"
            ],
            [
             0.4,
             "#fde0ef"
            ],
            [
             0.5,
             "#f7f7f7"
            ],
            [
             0.6,
             "#e6f5d0"
            ],
            [
             0.7,
             "#b8e186"
            ],
            [
             0.8,
             "#7fbc41"
            ],
            [
             0.9,
             "#4d9221"
            ],
            [
             1,
             "#276419"
            ]
           ],
           "sequential": [
            [
             0,
             "#0d0887"
            ],
            [
             0.1111111111111111,
             "#46039f"
            ],
            [
             0.2222222222222222,
             "#7201a8"
            ],
            [
             0.3333333333333333,
             "#9c179e"
            ],
            [
             0.4444444444444444,
             "#bd3786"
            ],
            [
             0.5555555555555556,
             "#d8576b"
            ],
            [
             0.6666666666666666,
             "#ed7953"
            ],
            [
             0.7777777777777778,
             "#fb9f3a"
            ],
            [
             0.8888888888888888,
             "#fdca26"
            ],
            [
             1,
             "#f0f921"
            ]
           ],
           "sequentialminus": [
            [
             0,
             "#0d0887"
            ],
            [
             0.1111111111111111,
             "#46039f"
            ],
            [
             0.2222222222222222,
             "#7201a8"
            ],
            [
             0.3333333333333333,
             "#9c179e"
            ],
            [
             0.4444444444444444,
             "#bd3786"
            ],
            [
             0.5555555555555556,
             "#d8576b"
            ],
            [
             0.6666666666666666,
             "#ed7953"
            ],
            [
             0.7777777777777778,
             "#fb9f3a"
            ],
            [
             0.8888888888888888,
             "#fdca26"
            ],
            [
             1,
             "#f0f921"
            ]
           ]
          },
          "colorway": [
           "#636efa",
           "#EF553B",
           "#00cc96",
           "#ab63fa",
           "#FFA15A",
           "#19d3f3",
           "#FF6692",
           "#B6E880",
           "#FF97FF",
           "#FECB52"
          ],
          "font": {
           "color": "#2a3f5f"
          },
          "geo": {
           "bgcolor": "white",
           "lakecolor": "white",
           "landcolor": "#E5ECF6",
           "showlakes": true,
           "showland": true,
           "subunitcolor": "white"
          },
          "hoverlabel": {
           "align": "left"
          },
          "hovermode": "closest",
          "mapbox": {
           "style": "light"
          },
          "paper_bgcolor": "white",
          "plot_bgcolor": "#E5ECF6",
          "polar": {
           "angularaxis": {
            "gridcolor": "white",
            "linecolor": "white",
            "ticks": ""
           },
           "bgcolor": "#E5ECF6",
           "radialaxis": {
            "gridcolor": "white",
            "linecolor": "white",
            "ticks": ""
           }
          },
          "scene": {
           "xaxis": {
            "backgroundcolor": "#E5ECF6",
            "gridcolor": "white",
            "gridwidth": 2,
            "linecolor": "white",
            "showbackground": true,
            "ticks": "",
            "zerolinecolor": "white"
           },
           "yaxis": {
            "backgroundcolor": "#E5ECF6",
            "gridcolor": "white",
            "gridwidth": 2,
            "linecolor": "white",
            "showbackground": true,
            "ticks": "",
            "zerolinecolor": "white"
           },
           "zaxis": {
            "backgroundcolor": "#E5ECF6",
            "gridcolor": "white",
            "gridwidth": 2,
            "linecolor": "white",
            "showbackground": true,
            "ticks": "",
            "zerolinecolor": "white"
           }
          },
          "shapedefaults": {
           "line": {
            "color": "#2a3f5f"
           }
          },
          "ternary": {
           "aaxis": {
            "gridcolor": "white",
            "linecolor": "white",
            "ticks": ""
           },
           "baxis": {
            "gridcolor": "white",
            "linecolor": "white",
            "ticks": ""
           },
           "bgcolor": "#E5ECF6",
           "caxis": {
            "gridcolor": "white",
            "linecolor": "white",
            "ticks": ""
           }
          },
          "title": {
           "x": 0.05
          },
          "xaxis": {
           "automargin": true,
           "gridcolor": "white",
           "linecolor": "white",
           "ticks": "",
           "title": {
            "standoff": 15
           },
           "zerolinecolor": "white",
           "zerolinewidth": 2
          },
          "yaxis": {
           "automargin": true,
           "gridcolor": "white",
           "linecolor": "white",
           "ticks": "",
           "title": {
            "standoff": 15
           },
           "zerolinecolor": "white",
           "zerolinewidth": 2
          }
         }
        },
        "title": {
         "text": "Development of Average Happiness Score by Continent"
        },
        "xaxis": {
         "anchor": "y",
         "domain": [
          0,
          1
         ],
         "gridcolor": "lightgray",
         "gridwidth": 0.5,
         "showgrid": true,
         "title": {
          "text": "Year"
         }
        },
        "yaxis": {
         "anchor": "x",
         "domain": [
          0,
          1
         ],
         "gridcolor": "lightgray",
         "gridwidth": 0.5,
         "showgrid": true,
         "title": {
          "text": "Average Happiness"
         }
        }
       }
      },
      "text/html": [
       "<div>                            <div id=\"438f7542-d24d-4a72-9504-d28d5e881e2f\" class=\"plotly-graph-div\" style=\"height:525px; width:100%;\"></div>            <script type=\"text/javascript\">                require([\"plotly\"], function(Plotly) {                    window.PLOTLYENV=window.PLOTLYENV || {};                                    if (document.getElementById(\"438f7542-d24d-4a72-9504-d28d5e881e2f\")) {                    Plotly.newPlot(                        \"438f7542-d24d-4a72-9504-d28d5e881e2f\",                        [{\"alignmentgroup\":\"True\",\"bingroup\":\"x\",\"histfunc\":\"sum\",\"hovertemplate\":\"continent=Africa\\u003cbr\\u003eYear=%{x}\\u003cbr\\u003esum of happiness_score=%{y}\\u003cextra\\u003e\\u003c\\u002fextra\\u003e\",\"legendgroup\":\"Africa\",\"marker\":{\"color\":\"#AEFD8E\",\"pattern\":{\"shape\":\"\"},\"line\":{\"width\":0.5}},\"name\":\"Africa\",\"offsetgroup\":\"Africa\",\"orientation\":\"v\",\"showlegend\":true,\"x\":[2015,2016,2017,2018],\"xaxis\":\"x\",\"y\":[4.3118437603125,4.28815625,4.42665625,4.3554375],\"yaxis\":\"y\",\"type\":\"histogram\"},{\"alignmentgroup\":\"True\",\"bingroup\":\"x\",\"histfunc\":\"sum\",\"hovertemplate\":\"continent=Asia\\u003cbr\\u003eYear=%{x}\\u003cbr\\u003esum of happiness_score=%{y}\\u003cextra\\u003e\\u003c\\u002fextra\\u003e\",\"legendgroup\":\"Asia\",\"marker\":{\"color\":\"#FAA598\",\"pattern\":{\"shape\":\"\"},\"line\":{\"width\":0.5}},\"name\":\"Asia\",\"offsetgroup\":\"Asia\",\"orientation\":\"v\",\"showlegend\":true,\"x\":[2015,2016,2017,2018],\"xaxis\":\"x\",\"y\":[5.283736799842106,5.252868421052632,5.250421052631578,5.263631578947368],\"yaxis\":\"y\",\"type\":\"histogram\"},{\"alignmentgroup\":\"True\",\"bingroup\":\"x\",\"histfunc\":\"sum\",\"hovertemplate\":\"continent=Australia\\u003cbr\\u003eYear=%{x}\\u003cbr\\u003esum of happiness_score=%{y}\\u003cextra\\u003e\\u003c\\u002fextra\\u003e\",\"legendgroup\":\"Australia\",\"marker\":{\"color\":\"#B2E4FA\",\"pattern\":{\"shape\":\"\"},\"line\":{\"width\":0.5}},\"name\":\"Australia\",\"offsetgroup\":\"Australia\",\"orientation\":\"v\",\"showlegend\":true,\"x\":[2015,2016,2017,2018],\"xaxis\":\"x\",\"y\":[7.299000025,7.285,7.2675,7.298],\"yaxis\":\"y\",\"type\":\"histogram\"},{\"alignmentgroup\":\"True\",\"bingroup\":\"x\",\"histfunc\":\"sum\",\"hovertemplate\":\"continent=Europe\\u003cbr\\u003eYear=%{x}\\u003cbr\\u003esum of happiness_score=%{y}\\u003cextra\\u003e\\u003c\\u002fextra\\u003e\",\"legendgroup\":\"Europe\",\"marker\":{\"color\":\"#E3C97F\",\"pattern\":{\"shape\":\"\"},\"line\":{\"width\":0.5}},\"name\":\"Europe\",\"offsetgroup\":\"Europe\",\"orientation\":\"v\",\"showlegend\":true,\"x\":[2015,2016,2017,2018],\"xaxis\":\"x\",\"y\":[6.151864876675676,6.089594594594595,6.2901621621621615,6.216297297297297],\"yaxis\":\"y\",\"type\":\"histogram\"},{\"alignmentgroup\":\"True\",\"bingroup\":\"x\",\"histfunc\":\"sum\",\"hovertemplate\":\"continent=North America\\u003cbr\\u003eYear=%{x}\\u003cbr\\u003esum of happiness_score=%{y}\\u003cextra\\u003e\\u003c\\u002fextra\\u003e\",\"legendgroup\":\"North America\",\"marker\":{\"color\":\"#B47FE3\",\"pattern\":{\"shape\":\"\"},\"line\":{\"width\":0.5}},\"name\":\"North America\",\"offsetgroup\":\"North America\",\"orientation\":\"v\",\"showlegend\":true,\"x\":[2015,2016,2017,2018],\"xaxis\":\"x\",\"y\":[6.9623333616666665,7.2443333333333335,6.921666666666667,6.900666666666667],\"yaxis\":\"y\",\"type\":\"histogram\"},{\"alignmentgroup\":\"True\",\"bingroup\":\"x\",\"histfunc\":\"sum\",\"hovertemplate\":\"continent=South America\\u003cbr\\u003eYear=%{x}\\u003cbr\\u003esum of happiness_score=%{y}\\u003cextra\\u003e\\u003c\\u002fextra\\u003e\",\"legendgroup\":\"South America\",\"marker\":{\"color\":\"#E8EAC8\",\"pattern\":{\"shape\":\"\"},\"line\":{\"width\":0.5}},\"name\":\"South America\",\"offsetgroup\":\"South America\",\"orientation\":\"v\",\"showlegend\":true,\"x\":[2015,2016,2017,2018],\"xaxis\":\"x\",\"y\":[5.79385000465,5.96075,5.839499999999999,5.8115499999999995],\"yaxis\":\"y\",\"type\":\"histogram\"}],                        {\"template\":{\"data\":{\"histogram2dcontour\":[{\"type\":\"histogram2dcontour\",\"colorbar\":{\"outlinewidth\":0,\"ticks\":\"\"},\"colorscale\":[[0.0,\"#0d0887\"],[0.1111111111111111,\"#46039f\"],[0.2222222222222222,\"#7201a8\"],[0.3333333333333333,\"#9c179e\"],[0.4444444444444444,\"#bd3786\"],[0.5555555555555556,\"#d8576b\"],[0.6666666666666666,\"#ed7953\"],[0.7777777777777778,\"#fb9f3a\"],[0.8888888888888888,\"#fdca26\"],[1.0,\"#f0f921\"]]}],\"choropleth\":[{\"type\":\"choropleth\",\"colorbar\":{\"outlinewidth\":0,\"ticks\":\"\"}}],\"histogram2d\":[{\"type\":\"histogram2d\",\"colorbar\":{\"outlinewidth\":0,\"ticks\":\"\"},\"colorscale\":[[0.0,\"#0d0887\"],[0.1111111111111111,\"#46039f\"],[0.2222222222222222,\"#7201a8\"],[0.3333333333333333,\"#9c179e\"],[0.4444444444444444,\"#bd3786\"],[0.5555555555555556,\"#d8576b\"],[0.6666666666666666,\"#ed7953\"],[0.7777777777777778,\"#fb9f3a\"],[0.8888888888888888,\"#fdca26\"],[1.0,\"#f0f921\"]]}],\"heatmap\":[{\"type\":\"heatmap\",\"colorbar\":{\"outlinewidth\":0,\"ticks\":\"\"},\"colorscale\":[[0.0,\"#0d0887\"],[0.1111111111111111,\"#46039f\"],[0.2222222222222222,\"#7201a8\"],[0.3333333333333333,\"#9c179e\"],[0.4444444444444444,\"#bd3786\"],[0.5555555555555556,\"#d8576b\"],[0.6666666666666666,\"#ed7953\"],[0.7777777777777778,\"#fb9f3a\"],[0.8888888888888888,\"#fdca26\"],[1.0,\"#f0f921\"]]}],\"heatmapgl\":[{\"type\":\"heatmapgl\",\"colorbar\":{\"outlinewidth\":0,\"ticks\":\"\"},\"colorscale\":[[0.0,\"#0d0887\"],[0.1111111111111111,\"#46039f\"],[0.2222222222222222,\"#7201a8\"],[0.3333333333333333,\"#9c179e\"],[0.4444444444444444,\"#bd3786\"],[0.5555555555555556,\"#d8576b\"],[0.6666666666666666,\"#ed7953\"],[0.7777777777777778,\"#fb9f3a\"],[0.8888888888888888,\"#fdca26\"],[1.0,\"#f0f921\"]]}],\"contourcarpet\":[{\"type\":\"contourcarpet\",\"colorbar\":{\"outlinewidth\":0,\"ticks\":\"\"}}],\"contour\":[{\"type\":\"contour\",\"colorbar\":{\"outlinewidth\":0,\"ticks\":\"\"},\"colorscale\":[[0.0,\"#0d0887\"],[0.1111111111111111,\"#46039f\"],[0.2222222222222222,\"#7201a8\"],[0.3333333333333333,\"#9c179e\"],[0.4444444444444444,\"#bd3786\"],[0.5555555555555556,\"#d8576b\"],[0.6666666666666666,\"#ed7953\"],[0.7777777777777778,\"#fb9f3a\"],[0.8888888888888888,\"#fdca26\"],[1.0,\"#f0f921\"]]}],\"surface\":[{\"type\":\"surface\",\"colorbar\":{\"outlinewidth\":0,\"ticks\":\"\"},\"colorscale\":[[0.0,\"#0d0887\"],[0.1111111111111111,\"#46039f\"],[0.2222222222222222,\"#7201a8\"],[0.3333333333333333,\"#9c179e\"],[0.4444444444444444,\"#bd3786\"],[0.5555555555555556,\"#d8576b\"],[0.6666666666666666,\"#ed7953\"],[0.7777777777777778,\"#fb9f3a\"],[0.8888888888888888,\"#fdca26\"],[1.0,\"#f0f921\"]]}],\"mesh3d\":[{\"type\":\"mesh3d\",\"colorbar\":{\"outlinewidth\":0,\"ticks\":\"\"}}],\"scatter\":[{\"fillpattern\":{\"fillmode\":\"overlay\",\"size\":10,\"solidity\":0.2},\"type\":\"scatter\"}],\"parcoords\":[{\"type\":\"parcoords\",\"line\":{\"colorbar\":{\"outlinewidth\":0,\"ticks\":\"\"}}}],\"scatterpolargl\":[{\"type\":\"scatterpolargl\",\"marker\":{\"colorbar\":{\"outlinewidth\":0,\"ticks\":\"\"}}}],\"bar\":[{\"error_x\":{\"color\":\"#2a3f5f\"},\"error_y\":{\"color\":\"#2a3f5f\"},\"marker\":{\"line\":{\"color\":\"#E5ECF6\",\"width\":0.5},\"pattern\":{\"fillmode\":\"overlay\",\"size\":10,\"solidity\":0.2}},\"type\":\"bar\"}],\"scattergeo\":[{\"type\":\"scattergeo\",\"marker\":{\"colorbar\":{\"outlinewidth\":0,\"ticks\":\"\"}}}],\"scatterpolar\":[{\"type\":\"scatterpolar\",\"marker\":{\"colorbar\":{\"outlinewidth\":0,\"ticks\":\"\"}}}],\"histogram\":[{\"marker\":{\"pattern\":{\"fillmode\":\"overlay\",\"size\":10,\"solidity\":0.2}},\"type\":\"histogram\"}],\"scattergl\":[{\"type\":\"scattergl\",\"marker\":{\"colorbar\":{\"outlinewidth\":0,\"ticks\":\"\"}}}],\"scatter3d\":[{\"type\":\"scatter3d\",\"line\":{\"colorbar\":{\"outlinewidth\":0,\"ticks\":\"\"}},\"marker\":{\"colorbar\":{\"outlinewidth\":0,\"ticks\":\"\"}}}],\"scattermapbox\":[{\"type\":\"scattermapbox\",\"marker\":{\"colorbar\":{\"outlinewidth\":0,\"ticks\":\"\"}}}],\"scatterternary\":[{\"type\":\"scatterternary\",\"marker\":{\"colorbar\":{\"outlinewidth\":0,\"ticks\":\"\"}}}],\"scattercarpet\":[{\"type\":\"scattercarpet\",\"marker\":{\"colorbar\":{\"outlinewidth\":0,\"ticks\":\"\"}}}],\"carpet\":[{\"aaxis\":{\"endlinecolor\":\"#2a3f5f\",\"gridcolor\":\"white\",\"linecolor\":\"white\",\"minorgridcolor\":\"white\",\"startlinecolor\":\"#2a3f5f\"},\"baxis\":{\"endlinecolor\":\"#2a3f5f\",\"gridcolor\":\"white\",\"linecolor\":\"white\",\"minorgridcolor\":\"white\",\"startlinecolor\":\"#2a3f5f\"},\"type\":\"carpet\"}],\"table\":[{\"cells\":{\"fill\":{\"color\":\"#EBF0F8\"},\"line\":{\"color\":\"white\"}},\"header\":{\"fill\":{\"color\":\"#C8D4E3\"},\"line\":{\"color\":\"white\"}},\"type\":\"table\"}],\"barpolar\":[{\"marker\":{\"line\":{\"color\":\"#E5ECF6\",\"width\":0.5},\"pattern\":{\"fillmode\":\"overlay\",\"size\":10,\"solidity\":0.2}},\"type\":\"barpolar\"}],\"pie\":[{\"automargin\":true,\"type\":\"pie\"}]},\"layout\":{\"autotypenumbers\":\"strict\",\"colorway\":[\"#636efa\",\"#EF553B\",\"#00cc96\",\"#ab63fa\",\"#FFA15A\",\"#19d3f3\",\"#FF6692\",\"#B6E880\",\"#FF97FF\",\"#FECB52\"],\"font\":{\"color\":\"#2a3f5f\"},\"hovermode\":\"closest\",\"hoverlabel\":{\"align\":\"left\"},\"paper_bgcolor\":\"white\",\"plot_bgcolor\":\"#E5ECF6\",\"polar\":{\"bgcolor\":\"#E5ECF6\",\"angularaxis\":{\"gridcolor\":\"white\",\"linecolor\":\"white\",\"ticks\":\"\"},\"radialaxis\":{\"gridcolor\":\"white\",\"linecolor\":\"white\",\"ticks\":\"\"}},\"ternary\":{\"bgcolor\":\"#E5ECF6\",\"aaxis\":{\"gridcolor\":\"white\",\"linecolor\":\"white\",\"ticks\":\"\"},\"baxis\":{\"gridcolor\":\"white\",\"linecolor\":\"white\",\"ticks\":\"\"},\"caxis\":{\"gridcolor\":\"white\",\"linecolor\":\"white\",\"ticks\":\"\"}},\"coloraxis\":{\"colorbar\":{\"outlinewidth\":0,\"ticks\":\"\"}},\"colorscale\":{\"sequential\":[[0.0,\"#0d0887\"],[0.1111111111111111,\"#46039f\"],[0.2222222222222222,\"#7201a8\"],[0.3333333333333333,\"#9c179e\"],[0.4444444444444444,\"#bd3786\"],[0.5555555555555556,\"#d8576b\"],[0.6666666666666666,\"#ed7953\"],[0.7777777777777778,\"#fb9f3a\"],[0.8888888888888888,\"#fdca26\"],[1.0,\"#f0f921\"]],\"sequentialminus\":[[0.0,\"#0d0887\"],[0.1111111111111111,\"#46039f\"],[0.2222222222222222,\"#7201a8\"],[0.3333333333333333,\"#9c179e\"],[0.4444444444444444,\"#bd3786\"],[0.5555555555555556,\"#d8576b\"],[0.6666666666666666,\"#ed7953\"],[0.7777777777777778,\"#fb9f3a\"],[0.8888888888888888,\"#fdca26\"],[1.0,\"#f0f921\"]],\"diverging\":[[0,\"#8e0152\"],[0.1,\"#c51b7d\"],[0.2,\"#de77ae\"],[0.3,\"#f1b6da\"],[0.4,\"#fde0ef\"],[0.5,\"#f7f7f7\"],[0.6,\"#e6f5d0\"],[0.7,\"#b8e186\"],[0.8,\"#7fbc41\"],[0.9,\"#4d9221\"],[1,\"#276419\"]]},\"xaxis\":{\"gridcolor\":\"white\",\"linecolor\":\"white\",\"ticks\":\"\",\"title\":{\"standoff\":15},\"zerolinecolor\":\"white\",\"automargin\":true,\"zerolinewidth\":2},\"yaxis\":{\"gridcolor\":\"white\",\"linecolor\":\"white\",\"ticks\":\"\",\"title\":{\"standoff\":15},\"zerolinecolor\":\"white\",\"automargin\":true,\"zerolinewidth\":2},\"scene\":{\"xaxis\":{\"backgroundcolor\":\"#E5ECF6\",\"gridcolor\":\"white\",\"linecolor\":\"white\",\"showbackground\":true,\"ticks\":\"\",\"zerolinecolor\":\"white\",\"gridwidth\":2},\"yaxis\":{\"backgroundcolor\":\"#E5ECF6\",\"gridcolor\":\"white\",\"linecolor\":\"white\",\"showbackground\":true,\"ticks\":\"\",\"zerolinecolor\":\"white\",\"gridwidth\":2},\"zaxis\":{\"backgroundcolor\":\"#E5ECF6\",\"gridcolor\":\"white\",\"linecolor\":\"white\",\"showbackground\":true,\"ticks\":\"\",\"zerolinecolor\":\"white\",\"gridwidth\":2}},\"shapedefaults\":{\"line\":{\"color\":\"#2a3f5f\"}},\"annotationdefaults\":{\"arrowcolor\":\"#2a3f5f\",\"arrowhead\":0,\"arrowwidth\":1},\"geo\":{\"bgcolor\":\"white\",\"landcolor\":\"#E5ECF6\",\"subunitcolor\":\"white\",\"showland\":true,\"showlakes\":true,\"lakecolor\":\"white\"},\"title\":{\"x\":0.05},\"mapbox\":{\"style\":\"light\"}}},\"xaxis\":{\"anchor\":\"y\",\"domain\":[0.0,1.0],\"title\":{\"text\":\"Year\"},\"showgrid\":true,\"gridwidth\":0.5,\"gridcolor\":\"lightgray\"},\"yaxis\":{\"anchor\":\"x\",\"domain\":[0.0,1.0],\"title\":{\"text\":\"Average Happiness\"},\"showgrid\":true,\"gridwidth\":0.5,\"gridcolor\":\"lightgray\"},\"legend\":{\"title\":{\"text\":\"continent\"},\"tracegroupgap\":0,\"font\":{\"family\":\"Arial\",\"size\":12}},\"margin\":{\"t\":60},\"barmode\":\"group\",\"font\":{\"family\":\"Arial\",\"size\":14},\"title\":{\"text\":\"Development of Average Happiness Score by Continent\"},\"plot_bgcolor\":\"rgb(240, 240, 240)\",\"bargap\":0.2},                        {\"responsive\": true}                    ).then(function(){\n",
       "                            \n",
       "var gd = document.getElementById('438f7542-d24d-4a72-9504-d28d5e881e2f');\n",
       "var x = new MutationObserver(function (mutations, observer) {{\n",
       "        var display = window.getComputedStyle(gd).display;\n",
       "        if (!display || display === 'none') {{\n",
       "            console.log([gd, 'removed!']);\n",
       "            Plotly.purge(gd);\n",
       "            observer.disconnect();\n",
       "        }}\n",
       "}});\n",
       "\n",
       "// Listen for the removal of the full notebook cells\n",
       "var notebookContainer = gd.closest('#notebook-container');\n",
       "if (notebookContainer) {{\n",
       "    x.observe(notebookContainer, {childList: true});\n",
       "}}\n",
       "\n",
       "// Listen for the clearing of the current output cell\n",
       "var outputEl = gd.closest('.output');\n",
       "if (outputEl) {{\n",
       "    x.observe(outputEl, {childList: true});\n",
       "}}\n",
       "\n",
       "                        })                };                });            </script>        </div>"
      ]
     },
     "metadata": {},
     "output_type": "display_data"
    },
    {
     "data": {
      "application/vnd.plotly.v1+json": {
       "config": {
        "plotlyServerURL": "https://plot.ly"
       },
       "data": [
        {
         "alignmentgroup": "True",
         "bingroup": "x",
         "histfunc": "sum",
         "hovertemplate": "continent=Africa<br>Year=%{x}<br>sum of gdp_per_capita=%{y}<extra></extra>",
         "legendgroup": "Africa",
         "marker": {
          "color": "#AEFD8E",
          "line": {
           "width": 0.5
          },
          "pattern": {
           "shape": ""
          }
         },
         "name": "Africa",
         "offsetgroup": "Africa",
         "orientation": "v",
         "showlegend": true,
         "type": "histogram",
         "x": [
          2015,
          2016,
          2017,
          2018
         ],
         "xaxis": "x",
         "y": [
          0.6009591532812499,
          0.4710465625,
          0.5443125,
          0.5288437500000001
         ],
         "yaxis": "y"
        },
        {
         "alignmentgroup": "True",
         "bingroup": "x",
         "histfunc": "sum",
         "hovertemplate": "continent=Asia<br>Year=%{x}<br>sum of gdp_per_capita=%{y}<extra></extra>",
         "legendgroup": "Asia",
         "marker": {
          "color": "#FAA598",
          "line": {
           "width": 0.5
          },
          "pattern": {
           "shape": ""
          }
         },
         "name": "Asia",
         "offsetgroup": "Asia",
         "orientation": "v",
         "showlegend": true,
         "type": "histogram",
         "x": [
          2015,
          2016,
          2017,
          2018
         ],
         "xaxis": "x",
         "y": [
          1.0204777183947369,
          0.8768926315789474,
          0.9530263157894737,
          0.9455263157894737
         ],
         "yaxis": "y"
        },
        {
         "alignmentgroup": "True",
         "bingroup": "x",
         "histfunc": "sum",
         "hovertemplate": "continent=Australia<br>Year=%{x}<br>sum of gdp_per_capita=%{y}<extra></extra>",
         "legendgroup": "Australia",
         "marker": {
          "color": "#B2E4FA",
          "line": {
           "width": 0.5
          },
          "pattern": {
           "shape": ""
          }
         },
         "name": "Australia",
         "offsetgroup": "Australia",
         "orientation": "v",
         "showlegend": true,
         "type": "histogram",
         "x": [
          2015,
          2016,
          2017,
          2018
         ],
         "xaxis": "x",
         "y": [
          1.4450604915,
          1.29188,
          1.3375,
          1.304
         ],
         "yaxis": "y"
        },
        {
         "alignmentgroup": "True",
         "bingroup": "x",
         "histfunc": "sum",
         "hovertemplate": "continent=Europe<br>Year=%{x}<br>sum of gdp_per_capita=%{y}<extra></extra>",
         "legendgroup": "Europe",
         "marker": {
          "color": "#E3C97F",
          "line": {
           "width": 0.5
          },
          "pattern": {
           "shape": ""
          }
         },
         "name": "Europe",
         "offsetgroup": "Europe",
         "orientation": "v",
         "showlegend": true,
         "type": "histogram",
         "x": [
          2015,
          2016,
          2017,
          2018
         ],
         "xaxis": "x",
         "y": [
          1.3209728275945944,
          1.166861081081081,
          1.234108108108108,
          1.1987297297297297
         ],
         "yaxis": "y"
        },
        {
         "alignmentgroup": "True",
         "bingroup": "x",
         "histfunc": "sum",
         "hovertemplate": "continent=North America<br>Year=%{x}<br>sum of gdp_per_capita=%{y}<extra></extra>",
         "legendgroup": "North America",
         "marker": {
          "color": "#B47FE3",
          "line": {
           "width": 0.5
          },
          "pattern": {
           "shape": ""
          }
         },
         "name": "North America",
         "offsetgroup": "North America",
         "orientation": "v",
         "showlegend": true,
         "type": "histogram",
         "x": [
          2015,
          2016,
          2017,
          2018
         ],
         "xaxis": "x",
         "y": [
          1.392882506,
          1.2471133333333333,
          1.2893333333333334,
          1.2553333333333334
         ],
         "yaxis": "y"
        },
        {
         "alignmentgroup": "True",
         "bingroup": "x",
         "histfunc": "sum",
         "hovertemplate": "continent=South America<br>Year=%{x}<br>sum of gdp_per_capita=%{y}<extra></extra>",
         "legendgroup": "South America",
         "marker": {
          "color": "#E8EAC8",
          "line": {
           "width": 0.5
          },
          "pattern": {
           "shape": ""
          }
         },
         "name": "South America",
         "offsetgroup": "South America",
         "orientation": "v",
         "showlegend": true,
         "type": "histogram",
         "x": [
          2015,
          2016,
          2017,
          2018
         ],
         "xaxis": "x",
         "y": [
          0.94878064395,
          0.81182,
          0.8744500000000001,
          0.8552500000000001
         ],
         "yaxis": "y"
        }
       ],
       "layout": {
        "bargap": 0.2,
        "barmode": "group",
        "font": {
         "family": "Arial",
         "size": 14
        },
        "legend": {
         "font": {
          "family": "Arial",
          "size": 12
         },
         "title": {
          "text": "continent"
         },
         "tracegroupgap": 0
        },
        "margin": {
         "t": 60
        },
        "plot_bgcolor": "rgb(240, 240, 240)",
        "template": {
         "data": {
          "bar": [
           {
            "error_x": {
             "color": "#2a3f5f"
            },
            "error_y": {
             "color": "#2a3f5f"
            },
            "marker": {
             "line": {
              "color": "#E5ECF6",
              "width": 0.5
             },
             "pattern": {
              "fillmode": "overlay",
              "size": 10,
              "solidity": 0.2
             }
            },
            "type": "bar"
           }
          ],
          "barpolar": [
           {
            "marker": {
             "line": {
              "color": "#E5ECF6",
              "width": 0.5
             },
             "pattern": {
              "fillmode": "overlay",
              "size": 10,
              "solidity": 0.2
             }
            },
            "type": "barpolar"
           }
          ],
          "carpet": [
           {
            "aaxis": {
             "endlinecolor": "#2a3f5f",
             "gridcolor": "white",
             "linecolor": "white",
             "minorgridcolor": "white",
             "startlinecolor": "#2a3f5f"
            },
            "baxis": {
             "endlinecolor": "#2a3f5f",
             "gridcolor": "white",
             "linecolor": "white",
             "minorgridcolor": "white",
             "startlinecolor": "#2a3f5f"
            },
            "type": "carpet"
           }
          ],
          "choropleth": [
           {
            "colorbar": {
             "outlinewidth": 0,
             "ticks": ""
            },
            "type": "choropleth"
           }
          ],
          "contour": [
           {
            "colorbar": {
             "outlinewidth": 0,
             "ticks": ""
            },
            "colorscale": [
             [
              0,
              "#0d0887"
             ],
             [
              0.1111111111111111,
              "#46039f"
             ],
             [
              0.2222222222222222,
              "#7201a8"
             ],
             [
              0.3333333333333333,
              "#9c179e"
             ],
             [
              0.4444444444444444,
              "#bd3786"
             ],
             [
              0.5555555555555556,
              "#d8576b"
             ],
             [
              0.6666666666666666,
              "#ed7953"
             ],
             [
              0.7777777777777778,
              "#fb9f3a"
             ],
             [
              0.8888888888888888,
              "#fdca26"
             ],
             [
              1,
              "#f0f921"
             ]
            ],
            "type": "contour"
           }
          ],
          "contourcarpet": [
           {
            "colorbar": {
             "outlinewidth": 0,
             "ticks": ""
            },
            "type": "contourcarpet"
           }
          ],
          "heatmap": [
           {
            "colorbar": {
             "outlinewidth": 0,
             "ticks": ""
            },
            "colorscale": [
             [
              0,
              "#0d0887"
             ],
             [
              0.1111111111111111,
              "#46039f"
             ],
             [
              0.2222222222222222,
              "#7201a8"
             ],
             [
              0.3333333333333333,
              "#9c179e"
             ],
             [
              0.4444444444444444,
              "#bd3786"
             ],
             [
              0.5555555555555556,
              "#d8576b"
             ],
             [
              0.6666666666666666,
              "#ed7953"
             ],
             [
              0.7777777777777778,
              "#fb9f3a"
             ],
             [
              0.8888888888888888,
              "#fdca26"
             ],
             [
              1,
              "#f0f921"
             ]
            ],
            "type": "heatmap"
           }
          ],
          "heatmapgl": [
           {
            "colorbar": {
             "outlinewidth": 0,
             "ticks": ""
            },
            "colorscale": [
             [
              0,
              "#0d0887"
             ],
             [
              0.1111111111111111,
              "#46039f"
             ],
             [
              0.2222222222222222,
              "#7201a8"
             ],
             [
              0.3333333333333333,
              "#9c179e"
             ],
             [
              0.4444444444444444,
              "#bd3786"
             ],
             [
              0.5555555555555556,
              "#d8576b"
             ],
             [
              0.6666666666666666,
              "#ed7953"
             ],
             [
              0.7777777777777778,
              "#fb9f3a"
             ],
             [
              0.8888888888888888,
              "#fdca26"
             ],
             [
              1,
              "#f0f921"
             ]
            ],
            "type": "heatmapgl"
           }
          ],
          "histogram": [
           {
            "marker": {
             "pattern": {
              "fillmode": "overlay",
              "size": 10,
              "solidity": 0.2
             }
            },
            "type": "histogram"
           }
          ],
          "histogram2d": [
           {
            "colorbar": {
             "outlinewidth": 0,
             "ticks": ""
            },
            "colorscale": [
             [
              0,
              "#0d0887"
             ],
             [
              0.1111111111111111,
              "#46039f"
             ],
             [
              0.2222222222222222,
              "#7201a8"
             ],
             [
              0.3333333333333333,
              "#9c179e"
             ],
             [
              0.4444444444444444,
              "#bd3786"
             ],
             [
              0.5555555555555556,
              "#d8576b"
             ],
             [
              0.6666666666666666,
              "#ed7953"
             ],
             [
              0.7777777777777778,
              "#fb9f3a"
             ],
             [
              0.8888888888888888,
              "#fdca26"
             ],
             [
              1,
              "#f0f921"
             ]
            ],
            "type": "histogram2d"
           }
          ],
          "histogram2dcontour": [
           {
            "colorbar": {
             "outlinewidth": 0,
             "ticks": ""
            },
            "colorscale": [
             [
              0,
              "#0d0887"
             ],
             [
              0.1111111111111111,
              "#46039f"
             ],
             [
              0.2222222222222222,
              "#7201a8"
             ],
             [
              0.3333333333333333,
              "#9c179e"
             ],
             [
              0.4444444444444444,
              "#bd3786"
             ],
             [
              0.5555555555555556,
              "#d8576b"
             ],
             [
              0.6666666666666666,
              "#ed7953"
             ],
             [
              0.7777777777777778,
              "#fb9f3a"
             ],
             [
              0.8888888888888888,
              "#fdca26"
             ],
             [
              1,
              "#f0f921"
             ]
            ],
            "type": "histogram2dcontour"
           }
          ],
          "mesh3d": [
           {
            "colorbar": {
             "outlinewidth": 0,
             "ticks": ""
            },
            "type": "mesh3d"
           }
          ],
          "parcoords": [
           {
            "line": {
             "colorbar": {
              "outlinewidth": 0,
              "ticks": ""
             }
            },
            "type": "parcoords"
           }
          ],
          "pie": [
           {
            "automargin": true,
            "type": "pie"
           }
          ],
          "scatter": [
           {
            "fillpattern": {
             "fillmode": "overlay",
             "size": 10,
             "solidity": 0.2
            },
            "type": "scatter"
           }
          ],
          "scatter3d": [
           {
            "line": {
             "colorbar": {
              "outlinewidth": 0,
              "ticks": ""
             }
            },
            "marker": {
             "colorbar": {
              "outlinewidth": 0,
              "ticks": ""
             }
            },
            "type": "scatter3d"
           }
          ],
          "scattercarpet": [
           {
            "marker": {
             "colorbar": {
              "outlinewidth": 0,
              "ticks": ""
             }
            },
            "type": "scattercarpet"
           }
          ],
          "scattergeo": [
           {
            "marker": {
             "colorbar": {
              "outlinewidth": 0,
              "ticks": ""
             }
            },
            "type": "scattergeo"
           }
          ],
          "scattergl": [
           {
            "marker": {
             "colorbar": {
              "outlinewidth": 0,
              "ticks": ""
             }
            },
            "type": "scattergl"
           }
          ],
          "scattermapbox": [
           {
            "marker": {
             "colorbar": {
              "outlinewidth": 0,
              "ticks": ""
             }
            },
            "type": "scattermapbox"
           }
          ],
          "scatterpolar": [
           {
            "marker": {
             "colorbar": {
              "outlinewidth": 0,
              "ticks": ""
             }
            },
            "type": "scatterpolar"
           }
          ],
          "scatterpolargl": [
           {
            "marker": {
             "colorbar": {
              "outlinewidth": 0,
              "ticks": ""
             }
            },
            "type": "scatterpolargl"
           }
          ],
          "scatterternary": [
           {
            "marker": {
             "colorbar": {
              "outlinewidth": 0,
              "ticks": ""
             }
            },
            "type": "scatterternary"
           }
          ],
          "surface": [
           {
            "colorbar": {
             "outlinewidth": 0,
             "ticks": ""
            },
            "colorscale": [
             [
              0,
              "#0d0887"
             ],
             [
              0.1111111111111111,
              "#46039f"
             ],
             [
              0.2222222222222222,
              "#7201a8"
             ],
             [
              0.3333333333333333,
              "#9c179e"
             ],
             [
              0.4444444444444444,
              "#bd3786"
             ],
             [
              0.5555555555555556,
              "#d8576b"
             ],
             [
              0.6666666666666666,
              "#ed7953"
             ],
             [
              0.7777777777777778,
              "#fb9f3a"
             ],
             [
              0.8888888888888888,
              "#fdca26"
             ],
             [
              1,
              "#f0f921"
             ]
            ],
            "type": "surface"
           }
          ],
          "table": [
           {
            "cells": {
             "fill": {
              "color": "#EBF0F8"
             },
             "line": {
              "color": "white"
             }
            },
            "header": {
             "fill": {
              "color": "#C8D4E3"
             },
             "line": {
              "color": "white"
             }
            },
            "type": "table"
           }
          ]
         },
         "layout": {
          "annotationdefaults": {
           "arrowcolor": "#2a3f5f",
           "arrowhead": 0,
           "arrowwidth": 1
          },
          "autotypenumbers": "strict",
          "coloraxis": {
           "colorbar": {
            "outlinewidth": 0,
            "ticks": ""
           }
          },
          "colorscale": {
           "diverging": [
            [
             0,
             "#8e0152"
            ],
            [
             0.1,
             "#c51b7d"
            ],
            [
             0.2,
             "#de77ae"
            ],
            [
             0.3,
             "#f1b6da"
            ],
            [
             0.4,
             "#fde0ef"
            ],
            [
             0.5,
             "#f7f7f7"
            ],
            [
             0.6,
             "#e6f5d0"
            ],
            [
             0.7,
             "#b8e186"
            ],
            [
             0.8,
             "#7fbc41"
            ],
            [
             0.9,
             "#4d9221"
            ],
            [
             1,
             "#276419"
            ]
           ],
           "sequential": [
            [
             0,
             "#0d0887"
            ],
            [
             0.1111111111111111,
             "#46039f"
            ],
            [
             0.2222222222222222,
             "#7201a8"
            ],
            [
             0.3333333333333333,
             "#9c179e"
            ],
            [
             0.4444444444444444,
             "#bd3786"
            ],
            [
             0.5555555555555556,
             "#d8576b"
            ],
            [
             0.6666666666666666,
             "#ed7953"
            ],
            [
             0.7777777777777778,
             "#fb9f3a"
            ],
            [
             0.8888888888888888,
             "#fdca26"
            ],
            [
             1,
             "#f0f921"
            ]
           ],
           "sequentialminus": [
            [
             0,
             "#0d0887"
            ],
            [
             0.1111111111111111,
             "#46039f"
            ],
            [
             0.2222222222222222,
             "#7201a8"
            ],
            [
             0.3333333333333333,
             "#9c179e"
            ],
            [
             0.4444444444444444,
             "#bd3786"
            ],
            [
             0.5555555555555556,
             "#d8576b"
            ],
            [
             0.6666666666666666,
             "#ed7953"
            ],
            [
             0.7777777777777778,
             "#fb9f3a"
            ],
            [
             0.8888888888888888,
             "#fdca26"
            ],
            [
             1,
             "#f0f921"
            ]
           ]
          },
          "colorway": [
           "#636efa",
           "#EF553B",
           "#00cc96",
           "#ab63fa",
           "#FFA15A",
           "#19d3f3",
           "#FF6692",
           "#B6E880",
           "#FF97FF",
           "#FECB52"
          ],
          "font": {
           "color": "#2a3f5f"
          },
          "geo": {
           "bgcolor": "white",
           "lakecolor": "white",
           "landcolor": "#E5ECF6",
           "showlakes": true,
           "showland": true,
           "subunitcolor": "white"
          },
          "hoverlabel": {
           "align": "left"
          },
          "hovermode": "closest",
          "mapbox": {
           "style": "light"
          },
          "paper_bgcolor": "white",
          "plot_bgcolor": "#E5ECF6",
          "polar": {
           "angularaxis": {
            "gridcolor": "white",
            "linecolor": "white",
            "ticks": ""
           },
           "bgcolor": "#E5ECF6",
           "radialaxis": {
            "gridcolor": "white",
            "linecolor": "white",
            "ticks": ""
           }
          },
          "scene": {
           "xaxis": {
            "backgroundcolor": "#E5ECF6",
            "gridcolor": "white",
            "gridwidth": 2,
            "linecolor": "white",
            "showbackground": true,
            "ticks": "",
            "zerolinecolor": "white"
           },
           "yaxis": {
            "backgroundcolor": "#E5ECF6",
            "gridcolor": "white",
            "gridwidth": 2,
            "linecolor": "white",
            "showbackground": true,
            "ticks": "",
            "zerolinecolor": "white"
           },
           "zaxis": {
            "backgroundcolor": "#E5ECF6",
            "gridcolor": "white",
            "gridwidth": 2,
            "linecolor": "white",
            "showbackground": true,
            "ticks": "",
            "zerolinecolor": "white"
           }
          },
          "shapedefaults": {
           "line": {
            "color": "#2a3f5f"
           }
          },
          "ternary": {
           "aaxis": {
            "gridcolor": "white",
            "linecolor": "white",
            "ticks": ""
           },
           "baxis": {
            "gridcolor": "white",
            "linecolor": "white",
            "ticks": ""
           },
           "bgcolor": "#E5ECF6",
           "caxis": {
            "gridcolor": "white",
            "linecolor": "white",
            "ticks": ""
           }
          },
          "title": {
           "x": 0.05
          },
          "xaxis": {
           "automargin": true,
           "gridcolor": "white",
           "linecolor": "white",
           "ticks": "",
           "title": {
            "standoff": 15
           },
           "zerolinecolor": "white",
           "zerolinewidth": 2
          },
          "yaxis": {
           "automargin": true,
           "gridcolor": "white",
           "linecolor": "white",
           "ticks": "",
           "title": {
            "standoff": 15
           },
           "zerolinecolor": "white",
           "zerolinewidth": 2
          }
         }
        },
        "title": {
         "text": "Development of Average contribution to happiness for GDP by Continent"
        },
        "xaxis": {
         "anchor": "y",
         "domain": [
          0,
          1
         ],
         "gridcolor": "lightgray",
         "gridwidth": 0.5,
         "showgrid": true,
         "title": {
          "text": "Year"
         }
        },
        "yaxis": {
         "anchor": "x",
         "domain": [
          0,
          1
         ],
         "gridcolor": "lightgray",
         "gridwidth": 0.5,
         "showgrid": true,
         "title": {
          "text": "Average contribution"
         }
        }
       }
      },
      "text/html": [
       "<div>                            <div id=\"add63c24-4661-4eef-bc50-c8f48f4abaf5\" class=\"plotly-graph-div\" style=\"height:525px; width:100%;\"></div>            <script type=\"text/javascript\">                require([\"plotly\"], function(Plotly) {                    window.PLOTLYENV=window.PLOTLYENV || {};                                    if (document.getElementById(\"add63c24-4661-4eef-bc50-c8f48f4abaf5\")) {                    Plotly.newPlot(                        \"add63c24-4661-4eef-bc50-c8f48f4abaf5\",                        [{\"alignmentgroup\":\"True\",\"bingroup\":\"x\",\"histfunc\":\"sum\",\"hovertemplate\":\"continent=Africa\\u003cbr\\u003eYear=%{x}\\u003cbr\\u003esum of gdp_per_capita=%{y}\\u003cextra\\u003e\\u003c\\u002fextra\\u003e\",\"legendgroup\":\"Africa\",\"marker\":{\"color\":\"#AEFD8E\",\"pattern\":{\"shape\":\"\"},\"line\":{\"width\":0.5}},\"name\":\"Africa\",\"offsetgroup\":\"Africa\",\"orientation\":\"v\",\"showlegend\":true,\"x\":[2015,2016,2017,2018],\"xaxis\":\"x\",\"y\":[0.6009591532812499,0.4710465625,0.5443125,0.5288437500000001],\"yaxis\":\"y\",\"type\":\"histogram\"},{\"alignmentgroup\":\"True\",\"bingroup\":\"x\",\"histfunc\":\"sum\",\"hovertemplate\":\"continent=Asia\\u003cbr\\u003eYear=%{x}\\u003cbr\\u003esum of gdp_per_capita=%{y}\\u003cextra\\u003e\\u003c\\u002fextra\\u003e\",\"legendgroup\":\"Asia\",\"marker\":{\"color\":\"#FAA598\",\"pattern\":{\"shape\":\"\"},\"line\":{\"width\":0.5}},\"name\":\"Asia\",\"offsetgroup\":\"Asia\",\"orientation\":\"v\",\"showlegend\":true,\"x\":[2015,2016,2017,2018],\"xaxis\":\"x\",\"y\":[1.0204777183947369,0.8768926315789474,0.9530263157894737,0.9455263157894737],\"yaxis\":\"y\",\"type\":\"histogram\"},{\"alignmentgroup\":\"True\",\"bingroup\":\"x\",\"histfunc\":\"sum\",\"hovertemplate\":\"continent=Australia\\u003cbr\\u003eYear=%{x}\\u003cbr\\u003esum of gdp_per_capita=%{y}\\u003cextra\\u003e\\u003c\\u002fextra\\u003e\",\"legendgroup\":\"Australia\",\"marker\":{\"color\":\"#B2E4FA\",\"pattern\":{\"shape\":\"\"},\"line\":{\"width\":0.5}},\"name\":\"Australia\",\"offsetgroup\":\"Australia\",\"orientation\":\"v\",\"showlegend\":true,\"x\":[2015,2016,2017,2018],\"xaxis\":\"x\",\"y\":[1.4450604915,1.29188,1.3375,1.304],\"yaxis\":\"y\",\"type\":\"histogram\"},{\"alignmentgroup\":\"True\",\"bingroup\":\"x\",\"histfunc\":\"sum\",\"hovertemplate\":\"continent=Europe\\u003cbr\\u003eYear=%{x}\\u003cbr\\u003esum of gdp_per_capita=%{y}\\u003cextra\\u003e\\u003c\\u002fextra\\u003e\",\"legendgroup\":\"Europe\",\"marker\":{\"color\":\"#E3C97F\",\"pattern\":{\"shape\":\"\"},\"line\":{\"width\":0.5}},\"name\":\"Europe\",\"offsetgroup\":\"Europe\",\"orientation\":\"v\",\"showlegend\":true,\"x\":[2015,2016,2017,2018],\"xaxis\":\"x\",\"y\":[1.3209728275945944,1.166861081081081,1.234108108108108,1.1987297297297297],\"yaxis\":\"y\",\"type\":\"histogram\"},{\"alignmentgroup\":\"True\",\"bingroup\":\"x\",\"histfunc\":\"sum\",\"hovertemplate\":\"continent=North America\\u003cbr\\u003eYear=%{x}\\u003cbr\\u003esum of gdp_per_capita=%{y}\\u003cextra\\u003e\\u003c\\u002fextra\\u003e\",\"legendgroup\":\"North America\",\"marker\":{\"color\":\"#B47FE3\",\"pattern\":{\"shape\":\"\"},\"line\":{\"width\":0.5}},\"name\":\"North America\",\"offsetgroup\":\"North America\",\"orientation\":\"v\",\"showlegend\":true,\"x\":[2015,2016,2017,2018],\"xaxis\":\"x\",\"y\":[1.392882506,1.2471133333333333,1.2893333333333334,1.2553333333333334],\"yaxis\":\"y\",\"type\":\"histogram\"},{\"alignmentgroup\":\"True\",\"bingroup\":\"x\",\"histfunc\":\"sum\",\"hovertemplate\":\"continent=South America\\u003cbr\\u003eYear=%{x}\\u003cbr\\u003esum of gdp_per_capita=%{y}\\u003cextra\\u003e\\u003c\\u002fextra\\u003e\",\"legendgroup\":\"South America\",\"marker\":{\"color\":\"#E8EAC8\",\"pattern\":{\"shape\":\"\"},\"line\":{\"width\":0.5}},\"name\":\"South America\",\"offsetgroup\":\"South America\",\"orientation\":\"v\",\"showlegend\":true,\"x\":[2015,2016,2017,2018],\"xaxis\":\"x\",\"y\":[0.94878064395,0.81182,0.8744500000000001,0.8552500000000001],\"yaxis\":\"y\",\"type\":\"histogram\"}],                        {\"template\":{\"data\":{\"histogram2dcontour\":[{\"type\":\"histogram2dcontour\",\"colorbar\":{\"outlinewidth\":0,\"ticks\":\"\"},\"colorscale\":[[0.0,\"#0d0887\"],[0.1111111111111111,\"#46039f\"],[0.2222222222222222,\"#7201a8\"],[0.3333333333333333,\"#9c179e\"],[0.4444444444444444,\"#bd3786\"],[0.5555555555555556,\"#d8576b\"],[0.6666666666666666,\"#ed7953\"],[0.7777777777777778,\"#fb9f3a\"],[0.8888888888888888,\"#fdca26\"],[1.0,\"#f0f921\"]]}],\"choropleth\":[{\"type\":\"choropleth\",\"colorbar\":{\"outlinewidth\":0,\"ticks\":\"\"}}],\"histogram2d\":[{\"type\":\"histogram2d\",\"colorbar\":{\"outlinewidth\":0,\"ticks\":\"\"},\"colorscale\":[[0.0,\"#0d0887\"],[0.1111111111111111,\"#46039f\"],[0.2222222222222222,\"#7201a8\"],[0.3333333333333333,\"#9c179e\"],[0.4444444444444444,\"#bd3786\"],[0.5555555555555556,\"#d8576b\"],[0.6666666666666666,\"#ed7953\"],[0.7777777777777778,\"#fb9f3a\"],[0.8888888888888888,\"#fdca26\"],[1.0,\"#f0f921\"]]}],\"heatmap\":[{\"type\":\"heatmap\",\"colorbar\":{\"outlinewidth\":0,\"ticks\":\"\"},\"colorscale\":[[0.0,\"#0d0887\"],[0.1111111111111111,\"#46039f\"],[0.2222222222222222,\"#7201a8\"],[0.3333333333333333,\"#9c179e\"],[0.4444444444444444,\"#bd3786\"],[0.5555555555555556,\"#d8576b\"],[0.6666666666666666,\"#ed7953\"],[0.7777777777777778,\"#fb9f3a\"],[0.8888888888888888,\"#fdca26\"],[1.0,\"#f0f921\"]]}],\"heatmapgl\":[{\"type\":\"heatmapgl\",\"colorbar\":{\"outlinewidth\":0,\"ticks\":\"\"},\"colorscale\":[[0.0,\"#0d0887\"],[0.1111111111111111,\"#46039f\"],[0.2222222222222222,\"#7201a8\"],[0.3333333333333333,\"#9c179e\"],[0.4444444444444444,\"#bd3786\"],[0.5555555555555556,\"#d8576b\"],[0.6666666666666666,\"#ed7953\"],[0.7777777777777778,\"#fb9f3a\"],[0.8888888888888888,\"#fdca26\"],[1.0,\"#f0f921\"]]}],\"contourcarpet\":[{\"type\":\"contourcarpet\",\"colorbar\":{\"outlinewidth\":0,\"ticks\":\"\"}}],\"contour\":[{\"type\":\"contour\",\"colorbar\":{\"outlinewidth\":0,\"ticks\":\"\"},\"colorscale\":[[0.0,\"#0d0887\"],[0.1111111111111111,\"#46039f\"],[0.2222222222222222,\"#7201a8\"],[0.3333333333333333,\"#9c179e\"],[0.4444444444444444,\"#bd3786\"],[0.5555555555555556,\"#d8576b\"],[0.6666666666666666,\"#ed7953\"],[0.7777777777777778,\"#fb9f3a\"],[0.8888888888888888,\"#fdca26\"],[1.0,\"#f0f921\"]]}],\"surface\":[{\"type\":\"surface\",\"colorbar\":{\"outlinewidth\":0,\"ticks\":\"\"},\"colorscale\":[[0.0,\"#0d0887\"],[0.1111111111111111,\"#46039f\"],[0.2222222222222222,\"#7201a8\"],[0.3333333333333333,\"#9c179e\"],[0.4444444444444444,\"#bd3786\"],[0.5555555555555556,\"#d8576b\"],[0.6666666666666666,\"#ed7953\"],[0.7777777777777778,\"#fb9f3a\"],[0.8888888888888888,\"#fdca26\"],[1.0,\"#f0f921\"]]}],\"mesh3d\":[{\"type\":\"mesh3d\",\"colorbar\":{\"outlinewidth\":0,\"ticks\":\"\"}}],\"scatter\":[{\"fillpattern\":{\"fillmode\":\"overlay\",\"size\":10,\"solidity\":0.2},\"type\":\"scatter\"}],\"parcoords\":[{\"type\":\"parcoords\",\"line\":{\"colorbar\":{\"outlinewidth\":0,\"ticks\":\"\"}}}],\"scatterpolargl\":[{\"type\":\"scatterpolargl\",\"marker\":{\"colorbar\":{\"outlinewidth\":0,\"ticks\":\"\"}}}],\"bar\":[{\"error_x\":{\"color\":\"#2a3f5f\"},\"error_y\":{\"color\":\"#2a3f5f\"},\"marker\":{\"line\":{\"color\":\"#E5ECF6\",\"width\":0.5},\"pattern\":{\"fillmode\":\"overlay\",\"size\":10,\"solidity\":0.2}},\"type\":\"bar\"}],\"scattergeo\":[{\"type\":\"scattergeo\",\"marker\":{\"colorbar\":{\"outlinewidth\":0,\"ticks\":\"\"}}}],\"scatterpolar\":[{\"type\":\"scatterpolar\",\"marker\":{\"colorbar\":{\"outlinewidth\":0,\"ticks\":\"\"}}}],\"histogram\":[{\"marker\":{\"pattern\":{\"fillmode\":\"overlay\",\"size\":10,\"solidity\":0.2}},\"type\":\"histogram\"}],\"scattergl\":[{\"type\":\"scattergl\",\"marker\":{\"colorbar\":{\"outlinewidth\":0,\"ticks\":\"\"}}}],\"scatter3d\":[{\"type\":\"scatter3d\",\"line\":{\"colorbar\":{\"outlinewidth\":0,\"ticks\":\"\"}},\"marker\":{\"colorbar\":{\"outlinewidth\":0,\"ticks\":\"\"}}}],\"scattermapbox\":[{\"type\":\"scattermapbox\",\"marker\":{\"colorbar\":{\"outlinewidth\":0,\"ticks\":\"\"}}}],\"scatterternary\":[{\"type\":\"scatterternary\",\"marker\":{\"colorbar\":{\"outlinewidth\":0,\"ticks\":\"\"}}}],\"scattercarpet\":[{\"type\":\"scattercarpet\",\"marker\":{\"colorbar\":{\"outlinewidth\":0,\"ticks\":\"\"}}}],\"carpet\":[{\"aaxis\":{\"endlinecolor\":\"#2a3f5f\",\"gridcolor\":\"white\",\"linecolor\":\"white\",\"minorgridcolor\":\"white\",\"startlinecolor\":\"#2a3f5f\"},\"baxis\":{\"endlinecolor\":\"#2a3f5f\",\"gridcolor\":\"white\",\"linecolor\":\"white\",\"minorgridcolor\":\"white\",\"startlinecolor\":\"#2a3f5f\"},\"type\":\"carpet\"}],\"table\":[{\"cells\":{\"fill\":{\"color\":\"#EBF0F8\"},\"line\":{\"color\":\"white\"}},\"header\":{\"fill\":{\"color\":\"#C8D4E3\"},\"line\":{\"color\":\"white\"}},\"type\":\"table\"}],\"barpolar\":[{\"marker\":{\"line\":{\"color\":\"#E5ECF6\",\"width\":0.5},\"pattern\":{\"fillmode\":\"overlay\",\"size\":10,\"solidity\":0.2}},\"type\":\"barpolar\"}],\"pie\":[{\"automargin\":true,\"type\":\"pie\"}]},\"layout\":{\"autotypenumbers\":\"strict\",\"colorway\":[\"#636efa\",\"#EF553B\",\"#00cc96\",\"#ab63fa\",\"#FFA15A\",\"#19d3f3\",\"#FF6692\",\"#B6E880\",\"#FF97FF\",\"#FECB52\"],\"font\":{\"color\":\"#2a3f5f\"},\"hovermode\":\"closest\",\"hoverlabel\":{\"align\":\"left\"},\"paper_bgcolor\":\"white\",\"plot_bgcolor\":\"#E5ECF6\",\"polar\":{\"bgcolor\":\"#E5ECF6\",\"angularaxis\":{\"gridcolor\":\"white\",\"linecolor\":\"white\",\"ticks\":\"\"},\"radialaxis\":{\"gridcolor\":\"white\",\"linecolor\":\"white\",\"ticks\":\"\"}},\"ternary\":{\"bgcolor\":\"#E5ECF6\",\"aaxis\":{\"gridcolor\":\"white\",\"linecolor\":\"white\",\"ticks\":\"\"},\"baxis\":{\"gridcolor\":\"white\",\"linecolor\":\"white\",\"ticks\":\"\"},\"caxis\":{\"gridcolor\":\"white\",\"linecolor\":\"white\",\"ticks\":\"\"}},\"coloraxis\":{\"colorbar\":{\"outlinewidth\":0,\"ticks\":\"\"}},\"colorscale\":{\"sequential\":[[0.0,\"#0d0887\"],[0.1111111111111111,\"#46039f\"],[0.2222222222222222,\"#7201a8\"],[0.3333333333333333,\"#9c179e\"],[0.4444444444444444,\"#bd3786\"],[0.5555555555555556,\"#d8576b\"],[0.6666666666666666,\"#ed7953\"],[0.7777777777777778,\"#fb9f3a\"],[0.8888888888888888,\"#fdca26\"],[1.0,\"#f0f921\"]],\"sequentialminus\":[[0.0,\"#0d0887\"],[0.1111111111111111,\"#46039f\"],[0.2222222222222222,\"#7201a8\"],[0.3333333333333333,\"#9c179e\"],[0.4444444444444444,\"#bd3786\"],[0.5555555555555556,\"#d8576b\"],[0.6666666666666666,\"#ed7953\"],[0.7777777777777778,\"#fb9f3a\"],[0.8888888888888888,\"#fdca26\"],[1.0,\"#f0f921\"]],\"diverging\":[[0,\"#8e0152\"],[0.1,\"#c51b7d\"],[0.2,\"#de77ae\"],[0.3,\"#f1b6da\"],[0.4,\"#fde0ef\"],[0.5,\"#f7f7f7\"],[0.6,\"#e6f5d0\"],[0.7,\"#b8e186\"],[0.8,\"#7fbc41\"],[0.9,\"#4d9221\"],[1,\"#276419\"]]},\"xaxis\":{\"gridcolor\":\"white\",\"linecolor\":\"white\",\"ticks\":\"\",\"title\":{\"standoff\":15},\"zerolinecolor\":\"white\",\"automargin\":true,\"zerolinewidth\":2},\"yaxis\":{\"gridcolor\":\"white\",\"linecolor\":\"white\",\"ticks\":\"\",\"title\":{\"standoff\":15},\"zerolinecolor\":\"white\",\"automargin\":true,\"zerolinewidth\":2},\"scene\":{\"xaxis\":{\"backgroundcolor\":\"#E5ECF6\",\"gridcolor\":\"white\",\"linecolor\":\"white\",\"showbackground\":true,\"ticks\":\"\",\"zerolinecolor\":\"white\",\"gridwidth\":2},\"yaxis\":{\"backgroundcolor\":\"#E5ECF6\",\"gridcolor\":\"white\",\"linecolor\":\"white\",\"showbackground\":true,\"ticks\":\"\",\"zerolinecolor\":\"white\",\"gridwidth\":2},\"zaxis\":{\"backgroundcolor\":\"#E5ECF6\",\"gridcolor\":\"white\",\"linecolor\":\"white\",\"showbackground\":true,\"ticks\":\"\",\"zerolinecolor\":\"white\",\"gridwidth\":2}},\"shapedefaults\":{\"line\":{\"color\":\"#2a3f5f\"}},\"annotationdefaults\":{\"arrowcolor\":\"#2a3f5f\",\"arrowhead\":0,\"arrowwidth\":1},\"geo\":{\"bgcolor\":\"white\",\"landcolor\":\"#E5ECF6\",\"subunitcolor\":\"white\",\"showland\":true,\"showlakes\":true,\"lakecolor\":\"white\"},\"title\":{\"x\":0.05},\"mapbox\":{\"style\":\"light\"}}},\"xaxis\":{\"anchor\":\"y\",\"domain\":[0.0,1.0],\"title\":{\"text\":\"Year\"},\"showgrid\":true,\"gridwidth\":0.5,\"gridcolor\":\"lightgray\"},\"yaxis\":{\"anchor\":\"x\",\"domain\":[0.0,1.0],\"title\":{\"text\":\"Average contribution\"},\"showgrid\":true,\"gridwidth\":0.5,\"gridcolor\":\"lightgray\"},\"legend\":{\"title\":{\"text\":\"continent\"},\"tracegroupgap\":0,\"font\":{\"family\":\"Arial\",\"size\":12}},\"margin\":{\"t\":60},\"barmode\":\"group\",\"font\":{\"family\":\"Arial\",\"size\":14},\"title\":{\"text\":\"Development of Average contribution to happiness for GDP by Continent\"},\"plot_bgcolor\":\"rgb(240, 240, 240)\",\"bargap\":0.2},                        {\"responsive\": true}                    ).then(function(){\n",
       "                            \n",
       "var gd = document.getElementById('add63c24-4661-4eef-bc50-c8f48f4abaf5');\n",
       "var x = new MutationObserver(function (mutations, observer) {{\n",
       "        var display = window.getComputedStyle(gd).display;\n",
       "        if (!display || display === 'none') {{\n",
       "            console.log([gd, 'removed!']);\n",
       "            Plotly.purge(gd);\n",
       "            observer.disconnect();\n",
       "        }}\n",
       "}});\n",
       "\n",
       "// Listen for the removal of the full notebook cells\n",
       "var notebookContainer = gd.closest('#notebook-container');\n",
       "if (notebookContainer) {{\n",
       "    x.observe(notebookContainer, {childList: true});\n",
       "}}\n",
       "\n",
       "// Listen for the clearing of the current output cell\n",
       "var outputEl = gd.closest('.output');\n",
       "if (outputEl) {{\n",
       "    x.observe(outputEl, {childList: true});\n",
       "}}\n",
       "\n",
       "                        })                };                });            </script>        </div>"
      ]
     },
     "metadata": {},
     "output_type": "display_data"
    }
   ],
   "source": [
    "\n",
    "continent_colors = {\n",
    "    'Africa': '#AEFD8E',\n",
    "    'Asia': '#FAA598',\n",
    "    'Europe': '#E3C97F',\n",
    "    'North America': '#B47FE3',\n",
    "    'Australia': '#B2E4FA',\n",
    "    'South America': '#E8EAC8'\n",
    "}\n",
    "\n",
    "avg_happiness = df.groupby(['continent', 'Year'])['happiness_score'].mean().reset_index()\n",
    "\n",
    "# Create a grouped histogram using Plotly\n",
    "fig = px.histogram(avg_happiness, x='Year', y='happiness_score', color='continent', barmode='group',\n",
    "                   color_discrete_map=continent_colors)\n",
    "\n",
    "\n",
    "fig.update_layout(\n",
    "    title='Development of Average Happiness Score by Continent',\n",
    "    xaxis_title='Year',\n",
    "    yaxis_title='Average Happiness',\n",
    "    font=dict(family='Arial', size=14),\n",
    "    legend=dict(font=dict(family='Arial', size=12)),\n",
    "    plot_bgcolor='rgb(240, 240, 240)',\n",
    "    bargap=0.2\n",
    ")\n",
    "\n",
    "\n",
    "fig.update_xaxes(showgrid=True, gridwidth=0.5, gridcolor='lightgray')\n",
    "fig.update_yaxes(showgrid=True, gridwidth=0.5, gridcolor='lightgray')\n",
    "\n",
    "\n",
    "fig.update_traces(marker=dict(line=dict(width=0.5)))\n",
    "\n",
    "\n",
    "fig.show()\n",
    "\n",
    "\n",
    "avg_gdp = df.groupby(['continent', 'Year'])['gdp_per_capita'].mean().reset_index()\n",
    "\n",
    "# Create a grouped histogram using Plotly\n",
    "fig = px.histogram(avg_gdp, x='Year', y='gdp_per_capita', color='continent', barmode='group',\n",
    "                   color_discrete_map=continent_colors)\n",
    "\n",
    "\n",
    "fig.update_layout(\n",
    "    title='Development of Average contribution to happiness for GDP by Continent',\n",
    "    xaxis_title='Year',\n",
    "    yaxis_title='Average contribution',\n",
    "    font=dict(family='Arial', size=14),\n",
    "    legend=dict(font=dict(family='Arial', size=12)),\n",
    "    plot_bgcolor='rgb(240, 240, 240)',\n",
    "    bargap=0.2\n",
    ")\n",
    "\n",
    "\n",
    "fig.update_xaxes(showgrid=True, gridwidth=0.5, gridcolor='lightgray')\n",
    "fig.update_yaxes(showgrid=True, gridwidth=0.5, gridcolor='lightgray')\n",
    "\n",
    "\n",
    "fig.update_traces(marker=dict(line=dict(width=0.5)))\n",
    "\n",
    "fig.show()"
   ]
  },
  {
   "cell_type": "markdown",
   "id": "3fad5068",
   "metadata": {},
   "source": [
    "### GDP contribution to happiness\n",
    "\n",
    "The above two histograms can support both sides of the argument. While it supports the claim that 'wealthier' countries are also happier countries for the top three richest and happiest continents (Oceania, Europe and North America), the histograms also show that the contribution of GDP per capita is not a definitive factor in happiness. This supported by the fact that South America is happier than Asia in every year while also coming close to Europe in happiness. On the contrary South America is, on average, poorer than Asia in every year and substantially poorer than Europe. Another observation that supportss the claim that happiness is not necessarily related with wealth is the fact that the average contribution of GDP to happiness of all continents shrank from 2015 to 2018, while the average happiness of every continent remained pretty much constant throughout the same years."
   ]
  },
  {
   "cell_type": "code",
   "execution_count": 31,
   "id": "15401212",
   "metadata": {
    "scrolled": false
   },
   "outputs": [
    {
     "data": {
      "application/vnd.plotly.v1+json": {
       "config": {
        "plotlyServerURL": "https://plot.ly"
       },
       "data": [
        {
         "customdata": [
          [
           "Lebanon"
          ],
          [
           "Malaysia"
          ],
          [
           "Kuwait"
          ],
          [
           "Kazakhstan"
          ],
          [
           "Jordan"
          ],
          [
           "Japan"
          ],
          [
           "Israel"
          ],
          [
           "Iraq"
          ],
          [
           "Kyrgyzstan"
          ],
          [
           "Mongolia"
          ],
          [
           "Saudi Arabia"
          ],
          [
           "Philippines"
          ],
          [
           "Pakistan"
          ],
          [
           "Nepal"
          ],
          [
           "Myanmar"
          ],
          [
           "Iran"
          ],
          [
           "Indonesia"
          ],
          [
           "Cambodia"
          ],
          [
           "Bangladesh"
          ],
          [
           "Bahrain"
          ],
          [
           "Azerbaijan"
          ],
          [
           "Armenia"
          ],
          [
           "China"
          ],
          [
           "China"
          ],
          [
           "Georgia"
          ],
          [
           "Cyprus"
          ],
          [
           "India"
          ],
          [
           "Singapore"
          ],
          [
           "Afghanistan"
          ],
          [
           "Turkey"
          ],
          [
           "United Arab Emirates"
          ],
          [
           "Thailand"
          ],
          [
           "Vietnam"
          ],
          [
           "Sri Lanka"
          ],
          [
           "Turkmenistan"
          ],
          [
           "Uzbekistan"
          ],
          [
           "Tajikistan"
          ],
          [
           "Yemen"
          ]
         ],
         "hovertemplate": "Country: %{customdata[0]}<br>Happines: %{x}<br>GNI per Capita (PPP): %{y}",
         "legendgroup": "Asia",
         "marker": {
          "color": "#FAA598",
          "symbol": "circle"
         },
         "mode": "markers",
         "name": "Asia",
         "orientation": "v",
         "showlegend": true,
         "type": "scatter",
         "x": [
          5.224999905,
          6.084000111,
          6.105000019,
          5.818999767,
          5.335999966,
          5.920000076,
          7.212999821,
          4.497000217,
          5.004000187,
          4.954999924,
          6.343999863,
          5.429999828,
          5.269000053,
          4.961999893,
          4.545000076,
          4.691999912,
          5.262000084,
          4.168000221,
          4.607999802,
          6.086999893,
          5.234000206,
          4.375999928,
          5.272999763,
          5.272999763,
          4.285999775,
          5.620999813,
          4.315000057,
          6.572000027,
          3.79399991,
          5.5,
          6.647999763,
          6.423999786,
          5.073999882,
          4.440000057,
          5.822000027,
          5.971000195,
          5.040999889,
          3.592999935
         ],
         "xaxis": "x4",
         "y": [
          14920,
          24120,
          52880,
          23860,
          9140,
          41950,
          35130,
          10220,
          4460,
          9880,
          49450,
          8310,
          4640,
          2680,
          4180,
          13300,
          9910,
          3180,
          3790,
          42760,
          15020,
          12490,
          57450,
          12880,
          11420,
          31510,
          5400,
          81040,
          2110,
          25340,
          64640,
          15010,
          5790,
          11270,
          12890,
          6460,
          3590,
          null
         ],
         "yaxis": "y4"
        },
        {
         "customdata": [
          [
           "Vietnam"
          ],
          [
           "Kazakhstan"
          ],
          [
           "Jordan"
          ],
          [
           "Japan"
          ],
          [
           "Israel"
          ],
          [
           "Kuwait"
          ],
          [
           "Singapore"
          ],
          [
           "Kyrgyzstan"
          ],
          [
           "Tajikistan"
          ],
          [
           "Malaysia"
          ],
          [
           "Thailand"
          ],
          [
           "Lebanon"
          ],
          [
           "China"
          ],
          [
           "Afghanistan"
          ],
          [
           "Iraq"
          ],
          [
           "United Arab Emirates"
          ],
          [
           "Uzbekistan"
          ],
          [
           "Cyprus"
          ],
          [
           "China"
          ],
          [
           "Cambodia"
          ],
          [
           "Turkey"
          ],
          [
           "Iran"
          ],
          [
           "Indonesia"
          ],
          [
           "Bangladesh"
          ],
          [
           "India"
          ],
          [
           "Turkmenistan"
          ],
          [
           "Georgia"
          ],
          [
           "Yemen"
          ],
          [
           "Pakistan"
          ],
          [
           "Sri Lanka"
          ],
          [
           "Nepal"
          ],
          [
           "Azerbaijan"
          ],
          [
           "Armenia"
          ],
          [
           "Saudi Arabia"
          ],
          [
           "Myanmar"
          ],
          [
           "Philippines"
          ],
          [
           "Mongolia"
          ],
          [
           "Bahrain"
          ]
         ],
         "hovertemplate": "Country: %{customdata[0]}<br>Happines: %{x}<br>GNI per Capita (PPP): %{y}",
         "legendgroup": "Asia",
         "marker": {
          "color": "#FAA598",
          "symbol": "circle"
         },
         "mode": "markers",
         "name": "Asia",
         "orientation": "v",
         "showlegend": false,
         "type": "scatter",
         "x": [
          5.36,
          5.855,
          5.192,
          5.987,
          7.278,
          6.295,
          6.798,
          5.286,
          4.786,
          5.77,
          6.455,
          4.839,
          5.14,
          3.575,
          4.677,
          6.901,
          6.003,
          5.689,
          5.14,
          3.819,
          5.332,
          4.686,
          5.399,
          4.694,
          4.565,
          5.548,
          4.297,
          4.077,
          5.194,
          4.271,
          4.514,
          5.212,
          4.35,
          6.411,
          4.307,
          5.073,
          4.874,
          5.96
         ],
         "xaxis": "x3",
         "y": [
          6300,
          24280,
          9120,
          41350,
          37500,
          51550,
          83020,
          5020,
          3900,
          24840,
          15800,
          15250,
          58670,
          2140,
          9720,
          63670,
          6530,
          33000,
          13400,
          3450,
          26050,
          13650,
          10160,
          4070,
          5760,
          13500,
          11760,
          null,
          4680,
          11900,
          2620,
          14920,
          13160,
          46110,
          4220,
          8870,
          9860,
          41860
         ],
         "yaxis": "y3"
        },
        {
         "customdata": [
          [
           "Tajikistan"
          ],
          [
           "Georgia"
          ],
          [
           "Uzbekistan"
          ],
          [
           "Cambodia"
          ],
          [
           "Azerbaijan"
          ],
          [
           "Bahrain"
          ],
          [
           "Philippines"
          ],
          [
           "Malaysia"
          ],
          [
           "United Arab Emirates"
          ],
          [
           "Bangladesh"
          ],
          [
           "China"
          ],
          [
           "China"
          ],
          [
           "Afghanistan"
          ],
          [
           "Cyprus"
          ],
          [
           "Yemen"
          ],
          [
           "Saudi Arabia"
          ],
          [
           "Jordan"
          ],
          [
           "Japan"
          ],
          [
           "Israel"
          ],
          [
           "Kazakhstan"
          ],
          [
           "Sri Lanka"
          ],
          [
           "Lebanon"
          ],
          [
           "Myanmar"
          ],
          [
           "Thailand"
          ],
          [
           "Vietnam"
          ],
          [
           "Kyrgyzstan"
          ],
          [
           "Nepal"
          ],
          [
           "Kuwait"
          ],
          [
           "Turkmenistan"
          ],
          [
           "Armenia"
          ],
          [
           "Mongolia"
          ],
          [
           "India"
          ],
          [
           "Indonesia"
          ],
          [
           "Singapore"
          ],
          [
           "Turkey"
          ],
          [
           "Iran"
          ],
          [
           "Pakistan"
          ],
          [
           "Iraq"
          ]
         ],
         "hovertemplate": "Country: %{customdata[0]}<br>Happines: %{x}<br>GNI per Capita (PPP): %{y}",
         "legendgroup": "Asia",
         "marker": {
          "color": "#FAA598",
          "symbol": "circle"
         },
         "mode": "markers",
         "name": "Asia",
         "orientation": "v",
         "showlegend": false,
         "type": "scatter",
         "x": [
          5.467,
          4.519,
          6.174,
          4.7,
          5.208,
          6.199,
          5.631,
          5.339,
          6.825,
          4.456,
          5.191,
          5.191,
          3.203,
          6.046,
          3.38,
          6.375,
          4.906,
          5.886,
          7.139,
          5.809,
          4.366,
          5.197,
          4.36,
          6.008,
          5.175,
          5.261,
          4.913,
          6.021,
          5.247,
          4.559,
          5.285,
          4.015,
          5.192,
          6.262,
          5.373,
          4.548,
          5.653,
          4.437
         ],
         "xaxis": "x2",
         "y": [
          3560,
          12910,
          6650,
          3680,
          13510,
          44980,
          9320,
          25900,
          66290,
          4340,
          14140,
          62530,
          2210,
          35750,
          null,
          48040,
          9790,
          42290,
          38570,
          22160,
          12340,
          16070,
          4480,
          16610,
          6620,
          4800,
          3140,
          59260,
          13620,
          12540,
          9720,
          6120,
          10580,
          87440,
          27570,
          14560,
          4820,
          10850
         ],
         "yaxis": "y2"
        },
        {
         "customdata": [
          [
           "Vietnam"
          ],
          [
           "Cambodia"
          ],
          [
           "Afghanistan"
          ],
          [
           "Azerbaijan"
          ],
          [
           "Bahrain"
          ],
          [
           "Uzbekistan"
          ],
          [
           "Bangladesh"
          ],
          [
           "Yemen"
          ],
          [
           "Armenia"
          ],
          [
           "Indonesia"
          ],
          [
           "China"
          ],
          [
           "Sri Lanka"
          ],
          [
           "Nepal"
          ],
          [
           "Myanmar"
          ],
          [
           "Mongolia"
          ],
          [
           "Malaysia"
          ],
          [
           "Tajikistan"
          ],
          [
           "Singapore"
          ],
          [
           "Saudi Arabia"
          ],
          [
           "Philippines"
          ],
          [
           "Pakistan"
          ],
          [
           "Lebanon"
          ],
          [
           "Georgia"
          ],
          [
           "United Arab Emirates"
          ],
          [
           "Cyprus"
          ],
          [
           "Kyrgyzstan"
          ],
          [
           "Thailand"
          ],
          [
           "Kuwait"
          ],
          [
           "Kazakhstan"
          ],
          [
           "Jordan"
          ],
          [
           "Japan"
          ],
          [
           "China"
          ],
          [
           "Israel"
          ],
          [
           "Iraq"
          ],
          [
           "Iran"
          ],
          [
           "Turkey"
          ],
          [
           "India"
          ],
          [
           "Turkmenistan"
          ]
         ],
         "hovertemplate": "Country: %{customdata[0]}<br>Happines: %{x}<br>GNI per Capita (PPP): %{y}",
         "legendgroup": "Asia",
         "marker": {
          "color": "#FAA598",
          "symbol": "circle"
         },
         "mode": "markers",
         "name": "Asia",
         "orientation": "v",
         "showlegend": false,
         "type": "scatter",
         "x": [
          5.103,
          4.433,
          3.632,
          5.201,
          6.105,
          6.096,
          4.5,
          3.355,
          4.321,
          5.093,
          5.246,
          4.471,
          4.88,
          4.308,
          5.125,
          6.322,
          5.199,
          6.343,
          6.371,
          5.524,
          5.472,
          5.358,
          4.34,
          6.774,
          5.762,
          5.131,
          6.072,
          6.083,
          5.79,
          5.161,
          5.915,
          5.246,
          6.814,
          4.456,
          4.707,
          5.483,
          4.19,
          5.636
         ],
         "xaxis": "x",
         "y": [
          6220.27,
          3597.4,
          1745.67,
          15240.14,
          40399.12,
          6461.84,
          4057.25,
          1433.3,
          9277.23,
          11255.78,
          60220.8,
          11610.91,
          2748.2,
          5763.94,
          10783.71,
          27226.68,
          3482.38,
          83792.67,
          49338.41,
          9539.7,
          5190.08,
          11136.25,
          9569.52,
          66911.66,
          33100.32,
          3316.79,
          16128.55,
          71164.22,
          22167.7,
          8267.81,
          40799.01,
          16126.57,
          33649.69,
          15364.96,
          18166.47,
          24905.38,
          6828.6,
          16407.47
         ],
         "yaxis": "y"
        },
        {
         "customdata": [
          [
           "Mauritania"
          ],
          [
           "Mali"
          ],
          [
           "Malawi"
          ],
          [
           "Madagascar"
          ],
          [
           "Libya"
          ],
          [
           "Liberia"
          ],
          [
           "Mauritius"
          ],
          [
           "Kenya"
          ],
          [
           "Senegal"
          ],
          [
           "Rwanda"
          ],
          [
           "Nigeria"
          ],
          [
           "Niger"
          ],
          [
           "Morocco"
          ],
          [
           "Sierra Leone"
          ],
          [
           "Cameroon"
          ],
          [
           "Burundi"
          ],
          [
           "Burkina Faso"
          ],
          [
           "Botswana"
          ],
          [
           "Chad"
          ],
          [
           "Benin"
          ],
          [
           "Algeria"
          ],
          [
           "Ghana"
          ],
          [
           "Gabon"
          ],
          [
           "Ethiopia"
          ],
          [
           "Egypt"
          ],
          [
           "Zambia"
          ],
          [
           "Togo"
          ],
          [
           "Zimbabwe"
          ],
          [
           "Uganda"
          ],
          [
           "Tunisia"
          ],
          [
           "South Africa"
          ],
          [
           "Tanzania"
          ]
         ],
         "hovertemplate": "Country: %{customdata[0]}<br>Happines: %{x}<br>GNI per Capita (PPP): %{y}",
         "legendgroup": "Africa",
         "marker": {
          "color": "#AEFD8E",
          "symbol": "circle"
         },
         "mode": "markers",
         "name": "Africa",
         "orientation": "v",
         "showlegend": true,
         "type": "scatter",
         "x": [
          4.291999817,
          4.190000057,
          3.970000029,
          3.644000053,
          5.525000095,
          3.532999992,
          5.629000187,
          4.552999973,
          4.534999847,
          3.470999956,
          5.073999882,
          4.027999878,
          5.235000134,
          4.709000111,
          4.695000172,
          2.904999971,
          4.032000065,
          3.766000032,
          3.936000109,
          3.657000065,
          5.872000217,
          4.119999886,
          4.465000153,
          4.460000038,
          4.735000134,
          4.513999939,
          3.494999886,
          3.875,
          4.080999851,
          4.804999828,
          4.828999996,
          3.348999977
         ],
         "xaxis": "x4",
         "y": [
          3160,
          1990,
          990,
          1500,
          12740,
          1180,
          20860,
          3330,
          2910,
          1710,
          5280,
          840,
          7670,
          1570,
          3210,
          840,
          1460,
          15310,
          1760,
          2860,
          11700,
          5050,
          13480,
          1650,
          11160,
          3370,
          1440,
          2410,
          1750,
          9890,
          12240,
          2740
         ],
         "yaxis": "y4"
        },
        {
         "customdata": [
          [
           "Kenya"
          ],
          [
           "Togo"
          ],
          [
           "Botswana"
          ],
          [
           "Tunisia"
          ],
          [
           "Mauritania"
          ],
          [
           "Mali"
          ],
          [
           "Malawi"
          ],
          [
           "Madagascar"
          ],
          [
           "Tanzania"
          ],
          [
           "Libya"
          ],
          [
           "Benin"
          ],
          [
           "Liberia"
          ],
          [
           "Cameroon"
          ],
          [
           "Ethiopia"
          ],
          [
           "Egypt"
          ],
          [
           "Chad"
          ],
          [
           "Gabon"
          ],
          [
           "Burkina Faso"
          ],
          [
           "Uganda"
          ],
          [
           "Burundi"
          ],
          [
           "Ghana"
          ],
          [
           "Mauritius"
          ],
          [
           "Nigeria"
          ],
          [
           "Niger"
          ],
          [
           "Zambia"
          ],
          [
           "South Africa"
          ],
          [
           "Sierra Leone"
          ],
          [
           "Senegal"
          ],
          [
           "Zimbabwe"
          ],
          [
           "Rwanda"
          ],
          [
           "Algeria"
          ],
          [
           "Morocco"
          ]
         ],
         "hovertemplate": "Country: %{customdata[0]}<br>Happines: %{x}<br>GNI per Capita (PPP): %{y}",
         "legendgroup": "Africa",
         "marker": {
          "color": "#AEFD8E",
          "symbol": "circle"
         },
         "mode": "markers",
         "name": "Africa",
         "orientation": "v",
         "showlegend": false,
         "type": "scatter",
         "x": [
          4.419,
          2.839,
          4.332,
          4.739,
          4.436,
          3.995,
          4.292,
          3.681,
          3.781,
          5.754,
          3.34,
          4.571,
          4.252,
          4.512,
          4.194,
          3.667,
          3.896,
          3.587,
          3.931,
          2.905,
          4.633,
          5.477,
          5.268,
          3.845,
          5.129,
          4.642,
          4.507,
          3.904,
          4.61,
          3.465,
          5.605,
          5.013
         ],
         "xaxis": "x3",
         "y": [
          3620,
          1470,
          16600,
          10070,
          3350,
          2130,
          1020,
          1550,
          2860,
          11430,
          2980,
          1260,
          3350,
          1870,
          10850,
          1630,
          13180,
          1550,
          1690,
          800,
          4800,
          22390,
          5120,
          820,
          3330,
          12240,
          1420,
          3000,
          2570,
          1790,
          11520,
          7730
         ],
         "yaxis": "y3"
        },
        {
         "customdata": [
          [
           "Liberia"
          ],
          [
           "Gabon"
          ],
          [
           "Algeria"
          ],
          [
           "Mali"
          ],
          [
           "South Africa"
          ],
          [
           "Burkina Faso"
          ],
          [
           "Uganda"
          ],
          [
           "Burundi"
          ],
          [
           "Ghana"
          ],
          [
           "Ethiopia"
          ],
          [
           "Mauritania"
          ],
          [
           "Zimbabwe"
          ],
          [
           "Sierra Leone"
          ],
          [
           "Chad"
          ],
          [
           "Cameroon"
          ],
          [
           "Rwanda"
          ],
          [
           "Egypt"
          ],
          [
           "Senegal"
          ],
          [
           "Togo"
          ],
          [
           "Tanzania"
          ],
          [
           "Niger"
          ],
          [
           "Tunisia"
          ],
          [
           "Botswana"
          ],
          [
           "Morocco"
          ],
          [
           "Benin"
          ],
          [
           "Libya"
          ],
          [
           "Kenya"
          ],
          [
           "Nigeria"
          ],
          [
           "Malawi"
          ],
          [
           "Mauritius"
          ],
          [
           "Madagascar"
          ],
          [
           "Zambia"
          ]
         ],
         "hovertemplate": "Country: %{customdata[0]}<br>Happines: %{x}<br>GNI per Capita (PPP): %{y}",
         "legendgroup": "Africa",
         "marker": {
          "color": "#AEFD8E",
          "symbol": "circle"
         },
         "mode": "markers",
         "name": "Africa",
         "orientation": "v",
         "showlegend": false,
         "type": "scatter",
         "x": [
          3.975,
          4.799,
          5.211,
          4.39,
          4.722,
          4.587,
          4.189,
          3.775,
          4.996,
          4.286,
          4.49,
          3.663,
          4.374,
          4.35,
          5.044,
          3.334,
          4.166,
          4.681,
          4.085,
          3.231,
          4.628,
          4.461,
          3.488,
          5.208,
          4.883,
          5.525,
          4.509,
          5.265,
          3.41,
          5.888,
          3.933,
          4.107
         ],
         "xaxis": "x2",
         "y": [
          1380,
          14060,
          11370,
          2180,
          12320,
          1730,
          1710,
          770,
          4860,
          2010,
          3610,
          2860,
          1590,
          1570,
          3490,
          1910,
          10800,
          3140,
          1520,
          3020,
          830,
          10280,
          16680,
          8110,
          3010,
          13690,
          4000,
          5030,
          1030,
          23560,
          1540,
          3330
         ],
         "yaxis": "y2"
        },
        {
         "customdata": [
          [
           "Burkina Faso"
          ],
          [
           "Algeria"
          ],
          [
           "Zambia"
          ],
          [
           "Benin"
          ],
          [
           "Chad"
          ],
          [
           "Cameroon"
          ],
          [
           "Botswana"
          ],
          [
           "Burundi"
          ],
          [
           "Morocco"
          ],
          [
           "Mauritius"
          ],
          [
           "Mauritania"
          ],
          [
           "Mali"
          ],
          [
           "Malawi"
          ],
          [
           "Madagascar"
          ],
          [
           "Tanzania"
          ],
          [
           "Libya"
          ],
          [
           "Niger"
          ],
          [
           "Sierra Leone"
          ],
          [
           "Senegal"
          ],
          [
           "Rwanda"
          ],
          [
           "South Africa"
          ],
          [
           "Nigeria"
          ],
          [
           "Liberia"
          ],
          [
           "Ghana"
          ],
          [
           "Gabon"
          ],
          [
           "Ethiopia"
          ],
          [
           "Egypt"
          ],
          [
           "Uganda"
          ],
          [
           "Kenya"
          ],
          [
           "Togo"
          ],
          [
           "Tunisia"
          ],
          [
           "Zimbabwe"
          ]
         ],
         "hovertemplate": "Country: %{customdata[0]}<br>Happines: %{x}<br>GNI per Capita (PPP): %{y}",
         "legendgroup": "Africa",
         "marker": {
          "color": "#AEFD8E",
          "symbol": "circle"
         },
         "mode": "markers",
         "name": "Africa",
         "orientation": "v",
         "showlegend": false,
         "type": "scatter",
         "x": [
          4.424,
          5.295,
          4.377,
          4.141,
          4.301,
          4.975,
          3.59,
          2.905,
          5.254,
          5.891,
          4.356,
          4.447,
          3.587,
          3.774,
          3.303,
          5.566,
          4.166,
          4.571,
          4.631,
          3.408,
          4.724,
          5.155,
          3.495,
          4.657,
          4.758,
          4.35,
          4.419,
          4.161,
          4.41,
          3.999,
          4.592,
          3.692
         ],
         "xaxis": "x",
         "y": [
          1705.49,
          13639.43,
          3581.89,
          2134.59,
          1715.57,
          3291.13,
          15951.33,
          659.73,
          7479.59,
          22724.23,
          3746.08,
          1965.39,
          1159.12,
          1403.92,
          2805.12,
          11684.73,
          912.04,
          1381.3,
          3255.99,
          1958.61,
          11756.3,
          5085.54,
          1040.09,
          4098.86,
          15794.08,
          1781.76,
          10743.81,
          1752.21,
          3051.69,
          1592.54,
          10676.96,
          2661.07
         ],
         "yaxis": "y"
        },
        {
         "customdata": [
          [
           "Malta"
          ],
          [
           "Luxembourg"
          ],
          [
           "Lithuania"
          ],
          [
           "Latvia"
          ],
          [
           "Italy"
          ],
          [
           "Ireland"
          ],
          [
           "Moldova"
          ],
          [
           "Serbia"
          ],
          [
           "Russia"
          ],
          [
           "Romania"
          ],
          [
           "Portugal"
          ],
          [
           "Poland"
          ],
          [
           "Norway"
          ],
          [
           "Netherlands"
          ],
          [
           "Montenegro"
          ],
          [
           "Iceland"
          ],
          [
           "Bulgaria"
          ],
          [
           "Bosnia and Herzegovina"
          ],
          [
           "Belarus"
          ],
          [
           "Austria"
          ],
          [
           "Albania"
          ],
          [
           "Belgium"
          ],
          [
           "Hungary"
          ],
          [
           "Greece"
          ],
          [
           "Germany"
          ],
          [
           "France"
          ],
          [
           "Finland"
          ],
          [
           "Estonia"
          ],
          [
           "Denmark"
          ],
          [
           "Croatia"
          ],
          [
           "Ukraine"
          ],
          [
           "Sweden"
          ],
          [
           "Slovenia"
          ],
          [
           "United Kingdom"
          ],
          [
           "Spain"
          ],
          [
           "Switzerland"
          ],
          [
           "Slovakia"
          ]
         ],
         "hovertemplate": "Country: %{customdata[0]}<br>Happines: %{x}<br>GNI per Capita (PPP): %{y}",
         "legendgroup": "Europe",
         "marker": {
          "color": "#E3C97F",
          "symbol": "circle"
         },
         "mode": "markers",
         "name": "Europe",
         "orientation": "v",
         "showlegend": true,
         "type": "scatter",
         "x": [
          6.52699995,
          6.862999916,
          5.90199995,
          5.849999905,
          5.964000225,
          6.977000237,
          5.837999821,
          5.394999981,
          5.962999821,
          5.824999809,
          5.195000172,
          5.97300005,
          7.537000179,
          7.376999855,
          5.236999989,
          7.504000187,
          4.714000225,
          5.18200016,
          5.568999767,
          7.006000042,
          4.644000053,
          6.890999794,
          5.323999882,
          5.227000237,
          6.951000214,
          6.441999912,
          7.468999863,
          5.611000061,
          7.521999836,
          5.293000221,
          4.096000195,
          7.28399992,
          5.757999897,
          6.714000225,
          6.402999878,
          7.493999958,
          6.09800005
         ],
         "xaxis": "x4",
         "y": [
          34280,
          67590,
          27780,
          24690,
          36650,
          52990,
          11290,
          14230,
          23420,
          21130,
          28870,
          25880,
          63030,
          50340,
          16700,
          46480,
          17820,
          12100,
          19260,
          49390,
          11800,
          46870,
          25460,
          26940,
          48770,
          41740,
          42950,
          28570,
          50560,
          22870,
          7880,
          49420,
          30660,
          41550,
          34900,
          65450,
          28950
         ],
         "yaxis": "y4"
        },
        {
         "customdata": [
          [
           "Italy"
          ],
          [
           "Bosnia and Herzegovina"
          ],
          [
           "Malta"
          ],
          [
           "Belarus"
          ],
          [
           "Belgium"
          ],
          [
           "Luxembourg"
          ],
          [
           "Lithuania"
          ],
          [
           "Ireland"
          ],
          [
           "Estonia"
          ],
          [
           "United Kingdom"
          ],
          [
           "Finland"
          ],
          [
           "Denmark"
          ],
          [
           "Croatia"
          ],
          [
           "France"
          ],
          [
           "Bulgaria"
          ],
          [
           "Iceland"
          ],
          [
           "Hungary"
          ],
          [
           "Greece"
          ],
          [
           "Germany"
          ],
          [
           "Ukraine"
          ],
          [
           "Latvia"
          ],
          [
           "Spain"
          ],
          [
           "Norway"
          ],
          [
           "Austria"
          ],
          [
           "Netherlands"
          ],
          [
           "Serbia"
          ],
          [
           "Slovakia"
          ],
          [
           "Albania"
          ],
          [
           "Russia"
          ],
          [
           "Slovenia"
          ],
          [
           "Romania"
          ],
          [
           "Portugal"
          ],
          [
           "Poland"
          ],
          [
           "Sweden"
          ],
          [
           "Switzerland"
          ],
          [
           "Moldova"
          ],
          [
           "Montenegro"
          ]
         ],
         "hovertemplate": "Country: %{customdata[0]}<br>Happines: %{x}<br>GNI per Capita (PPP): %{y}",
         "legendgroup": "Europe",
         "marker": {
          "color": "#E3C97F",
          "symbol": "circle"
         },
         "mode": "markers",
         "name": "Europe",
         "orientation": "v",
         "showlegend": false,
         "type": "scatter",
         "x": [
          5.948,
          4.949,
          6.302,
          5.813,
          6.937,
          6.946,
          5.833,
          6.94,
          5.429,
          6.867,
          7.406,
          7.527,
          5.759,
          6.575,
          4.218,
          7.561,
          4.8,
          4.857,
          6.75,
          4.681,
          5.098,
          6.329,
          7.522,
          7.2,
          7.378,
          5.123,
          5.995,
          4.959,
          5.716,
          5.848,
          5.124,
          5.102,
          5.791,
          7.364,
          7.587,
          5.889,
          5.192
         ],
         "xaxis": "x3",
         "y": [
          40030,
          13090,
          35720,
          19280,
          49090,
          70450,
          29790,
          59070,
          30510,
          43100,
          45150,
          53110,
          24130,
          43830,
          19760,
          50990,
          26990,
          27820,
          51810,
          8210,
          26340,
          37370,
          61840,
          52630,
          51510,
          14960,
          29160,
          12270,
          23570,
          33010,
          23680,
          30840,
          27170,
          50780,
          66080,
          13060,
          18360
         ],
         "yaxis": "y3"
        },
        {
         "customdata": [
          [
           "Ukraine"
          ],
          [
           "Portugal"
          ],
          [
           "France"
          ],
          [
           "Slovenia"
          ],
          [
           "Finland"
          ],
          [
           "Romania"
          ],
          [
           "Moldova"
          ],
          [
           "Germany"
          ],
          [
           "Belarus"
          ],
          [
           "Poland"
          ],
          [
           "Greece"
          ],
          [
           "Croatia"
          ],
          [
           "Serbia"
          ],
          [
           "Switzerland"
          ],
          [
           "Denmark"
          ],
          [
           "Estonia"
          ],
          [
           "Russia"
          ],
          [
           "Malta"
          ],
          [
           "United Kingdom"
          ],
          [
           "Albania"
          ],
          [
           "Slovakia"
          ],
          [
           "Lithuania"
          ],
          [
           "Belgium"
          ],
          [
           "Bosnia and Herzegovina"
          ],
          [
           "Italy"
          ],
          [
           "Latvia"
          ],
          [
           "Netherlands"
          ],
          [
           "Austria"
          ],
          [
           "Sweden"
          ],
          [
           "Montenegro"
          ],
          [
           "Luxembourg"
          ],
          [
           "Hungary"
          ],
          [
           "Bulgaria"
          ],
          [
           "Iceland"
          ],
          [
           "Ireland"
          ],
          [
           "Norway"
          ],
          [
           "Spain"
          ]
         ],
         "hovertemplate": "Country: %{customdata[0]}<br>Happines: %{x}<br>GNI per Capita (PPP): %{y}",
         "legendgroup": "Europe",
         "marker": {
          "color": "#E3C97F",
          "symbol": "circle"
         },
         "mode": "markers",
         "name": "Europe",
         "orientation": "v",
         "showlegend": false,
         "type": "scatter",
         "x": [
          4.332,
          5.693,
          6.592,
          6.118,
          7.769,
          6.07,
          5.529,
          6.985,
          5.323,
          6.182,
          5.287,
          5.432,
          5.603,
          7.48,
          7.6,
          5.893,
          5.648,
          6.726,
          7.054,
          4.719,
          6.198,
          6.149,
          6.923,
          5.386,
          6.223,
          5.94,
          7.488,
          7.246,
          7.343,
          5.523,
          7.09,
          5.758,
          5.011,
          7.494,
          7.021,
          7.554,
          6.354
         ],
         "xaxis": "x2",
         "y": [
          8460,
          32310,
          45850,
          35990,
          47480,
          26620,
          12320,
          54370,
          17580,
          28900,
          29150,
          26310,
          15510,
          67890,
          56360,
          32930,
          25380,
          38370,
          45430,
          13130,
          30410,
          32560,
          51320,
          13790,
          42010,
          28360,
          55770,
          54150,
          53490,
          20110,
          72750,
          28340,
          21460,
          54380,
          61590,
          65730,
          39570
         ],
         "yaxis": "y2"
        },
        {
         "customdata": [
          [
           "Albania"
          ],
          [
           "Belarus"
          ],
          [
           "Bulgaria"
          ],
          [
           "Austria"
          ],
          [
           "Bosnia and Herzegovina"
          ],
          [
           "Belgium"
          ],
          [
           "Montenegro"
          ],
          [
           "Sweden"
          ],
          [
           "Moldova"
          ],
          [
           "Switzerland"
          ],
          [
           "Malta"
          ],
          [
           "Luxembourg"
          ],
          [
           "Lithuania"
          ],
          [
           "Netherlands"
          ],
          [
           "Serbia"
          ],
          [
           "Slovakia"
          ],
          [
           "Russia"
          ],
          [
           "Romania"
          ],
          [
           "Portugal"
          ],
          [
           "Slovenia"
          ],
          [
           "Poland"
          ],
          [
           "Norway"
          ],
          [
           "Spain"
          ],
          [
           "Latvia"
          ],
          [
           "Germany"
          ],
          [
           "Ukraine"
          ],
          [
           "France"
          ],
          [
           "Finland"
          ],
          [
           "Estonia"
          ],
          [
           "United Kingdom"
          ],
          [
           "Denmark"
          ],
          [
           "Croatia"
          ],
          [
           "Greece"
          ],
          [
           "Italy"
          ],
          [
           "Ireland"
          ],
          [
           "Iceland"
          ],
          [
           "Hungary"
          ]
         ],
         "hovertemplate": "Country: %{customdata[0]}<br>Happines: %{x}<br>GNI per Capita (PPP): %{y}",
         "legendgroup": "Europe",
         "marker": {
          "color": "#E3C97F",
          "symbol": "circle"
         },
         "mode": "markers",
         "name": "Europe",
         "orientation": "v",
         "showlegend": false,
         "type": "scatter",
         "x": [
          4.586,
          5.483,
          4.933,
          7.139,
          5.129,
          6.927,
          5.347,
          7.314,
          5.64,
          7.487,
          6.627,
          6.91,
          5.952,
          7.441,
          5.398,
          6.173,
          5.81,
          5.945,
          5.41,
          5.948,
          6.123,
          7.594,
          6.31,
          5.933,
          6.965,
          4.103,
          6.489,
          7.632,
          5.739,
          7.19,
          7.555,
          5.321,
          5.358,
          6,
          6.977,
          7.495,
          5.62
         ],
         "xaxis": "x",
         "y": [
          12299.8,
          17038.53,
          19645.94,
          46230.57,
          12689.68,
          43820.84,
          17510.71,
          47955.45,
          6833.11,
          59374.73,
          34795.18,
          65543.05,
          29775.26,
          50012.59,
          15217.7,
          30671.87,
          25036.02,
          23905.77,
          27935.38,
          32143.04,
          27625.8,
          68058.62,
          35041.3,
          26300.77,
          46945.95,
          7994.21,
          40510.78,
          41779.26,
          30378.63,
          39507.29,
          48836.09,
          23060.96,
          24909.34,
          36141.43,
          55659.68,
          47566.45,
          27144.21
         ],
         "yaxis": "y"
        },
        {
         "customdata": [
          [
           "Jamaica"
          ],
          [
           "Peru"
          ],
          [
           "Paraguay"
          ],
          [
           "Panama"
          ],
          [
           "Nicaragua"
          ],
          [
           "Brazil"
          ],
          [
           "Bolivia"
          ],
          [
           "Argentina"
          ],
          [
           "Chile"
          ],
          [
           "Honduras"
          ],
          [
           "Haiti"
          ],
          [
           "Guinea"
          ],
          [
           "Guatemala"
          ],
          [
           "El Salvador"
          ],
          [
           "Ecuador"
          ],
          [
           "Dominican Republic"
          ],
          [
           "Costa Rica"
          ],
          [
           "Colombia"
          ],
          [
           "Venezuela"
          ],
          [
           "Uruguay"
          ]
         ],
         "hovertemplate": "Country: %{customdata[0]}<br>Happines: %{x}<br>GNI per Capita (PPP): %{y}",
         "legendgroup": "South America",
         "marker": {
          "color": "#E8EAC8",
          "symbol": "circle"
         },
         "mode": "markers",
         "name": "South America",
         "orientation": "v",
         "showlegend": true,
         "type": "scatter",
         "x": [
          5.31099987,
          5.715000153,
          5.493000031,
          6.452000141,
          6.071000099,
          6.635000229,
          5.822999954,
          6.598999977,
          6.65199995,
          5.181000233,
          3.602999926,
          3.506999969,
          6.453999996,
          6.002999783,
          6.007999897,
          5.230000019,
          7.078999996,
          6.356999874,
          5.25,
          6.453999996
         ],
         "xaxis": "x4",
         "y": [
          8520,
          11180,
          11040,
          22810,
          5150,
          14470,
          6890,
          19650,
          22010,
          4490,
          1710,
          1790,
          7830,
          7240,
          10870,
          14130,
          16310,
          13700,
          null,
          19310
         ],
         "yaxis": "y4"
        },
        {
         "customdata": [
          [
           "Jamaica"
          ],
          [
           "Bolivia"
          ],
          [
           "Venezuela"
          ],
          [
           "El Salvador"
          ],
          [
           "Ecuador"
          ],
          [
           "Chile"
          ],
          [
           "Costa Rica"
          ],
          [
           "Colombia"
          ],
          [
           "Dominican Republic"
          ],
          [
           "Honduras"
          ],
          [
           "Haiti"
          ],
          [
           "Guinea"
          ],
          [
           "Guatemala"
          ],
          [
           "Brazil"
          ],
          [
           "Panama"
          ],
          [
           "Nicaragua"
          ],
          [
           "Paraguay"
          ],
          [
           "Peru"
          ],
          [
           "Argentina"
          ],
          [
           "Uruguay"
          ]
         ],
         "hovertemplate": "Country: %{customdata[0]}<br>Happines: %{x}<br>GNI per Capita (PPP): %{y}",
         "legendgroup": "South America",
         "marker": {
          "color": "#E8EAC8",
          "symbol": "circle"
         },
         "mode": "markers",
         "name": "South America",
         "orientation": "v",
         "showlegend": false,
         "type": "scatter",
         "x": [
          5.709,
          5.89,
          6.81,
          6.13,
          5.975,
          6.67,
          7.226,
          6.477,
          4.885,
          4.788,
          4.518,
          3.656,
          6.123,
          6.983,
          6.786,
          5.828,
          5.878,
          5.824,
          6.574,
          6.485
         ],
         "xaxis": "x3",
         "y": [
          8800,
          7360,
          null,
          7620,
          10830,
          22080,
          17230,
          13800,
          15420,
          4790,
          1770,
          2050,
          7910,
          13950,
          25080,
          5540,
          11540,
          11510,
          19710,
          19650
         ],
         "yaxis": "y3"
        },
        {
         "customdata": [
          [
           "Peru"
          ],
          [
           "Guatemala"
          ],
          [
           "Argentina"
          ],
          [
           "Haiti"
          ],
          [
           "Costa Rica"
          ],
          [
           "Chile"
          ],
          [
           "Colombia"
          ],
          [
           "Uruguay"
          ],
          [
           "El Salvador"
          ],
          [
           "Ecuador"
          ],
          [
           "Dominican Republic"
          ],
          [
           "Venezuela"
          ],
          [
           "Guinea"
          ],
          [
           "Honduras"
          ],
          [
           "Nicaragua"
          ],
          [
           "Jamaica"
          ],
          [
           "Paraguay"
          ],
          [
           "Bolivia"
          ],
          [
           "Panama"
          ],
          [
           "Brazil"
          ]
         ],
         "hovertemplate": "Country: %{customdata[0]}<br>Happines: %{x}<br>GNI per Capita (PPP): %{y}",
         "legendgroup": "South America",
         "marker": {
          "color": "#E8EAC8",
          "symbol": "circle"
         },
         "mode": "markers",
         "name": "South America",
         "orientation": "v",
         "showlegend": false,
         "type": "scatter",
         "x": [
          5.697,
          6.436,
          6.086,
          3.597,
          7.167,
          6.444,
          6.125,
          6.293,
          6.253,
          6.028,
          5.425,
          4.707,
          4.534,
          5.86,
          6.105,
          5.89,
          5.743,
          5.779,
          6.321,
          6.3
         ],
         "xaxis": "x2",
         "y": [
          11930,
          8200,
          22960,
          1770,
          18040,
          22750,
          14050,
          20060,
          7970,
          11350,
          15940,
          null,
          2410,
          5220,
          5850,
          9320,
          12210,
          8190,
          27640,
          14250
         ],
         "yaxis": "y2"
        },
        {
         "customdata": [
          [
           "Argentina"
          ],
          [
           "Chile"
          ],
          [
           "Uruguay"
          ],
          [
           "Venezuela"
          ],
          [
           "Bolivia"
          ],
          [
           "Brazil"
          ],
          [
           "Peru"
          ],
          [
           "Paraguay"
          ],
          [
           "Panama"
          ],
          [
           "Nicaragua"
          ],
          [
           "El Salvador"
          ],
          [
           "Ecuador"
          ],
          [
           "Dominican Republic"
          ],
          [
           "Costa Rica"
          ],
          [
           "Colombia"
          ],
          [
           "Guatemala"
          ],
          [
           "Guinea"
          ],
          [
           "Jamaica"
          ],
          [
           "Honduras"
          ],
          [
           "Haiti"
          ]
         ],
         "hovertemplate": "Country: %{customdata[0]}<br>Happines: %{x}<br>GNI per Capita (PPP): %{y}",
         "legendgroup": "South America",
         "marker": {
          "color": "#E8EAC8",
          "symbol": "circle"
         },
         "mode": "markers",
         "name": "South America",
         "orientation": "v",
         "showlegend": false,
         "type": "scatter",
         "x": [
          6.388,
          6.476,
          6.379,
          4.806,
          5.752,
          6.419,
          5.663,
          5.681,
          6.43,
          6.141,
          6.167,
          5.973,
          5.302,
          7.072,
          6.26,
          6.382,
          3.964,
          5.89,
          5.504,
          3.582
         ],
         "xaxis": "x",
         "y": [
          17611.22,
          21972.28,
          19434.85,
          9069.7,
          6849.2,
          14068.05,
          12322.66,
          11719.96,
          20454.87,
          4789.84,
          6973.46,
          10141.15,
          15074.26,
          14789.93,
          12895.59,
          7377.92,
          2211,
          7931.52,
          4258.35,
          1664.89
         ],
         "yaxis": "y"
        },
        {
         "customdata": [
          [
           "Mexico"
          ],
          [
           "Canada"
          ],
          [
           "United States"
          ]
         ],
         "hovertemplate": "Country: %{customdata[0]}<br>Happines: %{x}<br>GNI per Capita (PPP): %{y}",
         "legendgroup": "North America",
         "marker": {
          "color": "#B47FE3",
          "symbol": "circle"
         },
         "mode": "markers",
         "name": "North America",
         "orientation": "v",
         "showlegend": true,
         "type": "scatter",
         "x": [
          6.578000069,
          7.315999985,
          6.993000031
         ],
         "xaxis": "x4",
         "y": [
          17830,
          43990,
          58340
         ],
         "yaxis": "y4"
        },
        {
         "customdata": [
          [
           "Canada"
          ],
          [
           "United States"
          ],
          [
           "Mexico"
          ]
         ],
         "hovertemplate": "Country: %{customdata[0]}<br>Happines: %{x}<br>GNI per Capita (PPP): %{y}",
         "legendgroup": "North America",
         "marker": {
          "color": "#B47FE3",
          "symbol": "circle"
         },
         "mode": "markers",
         "name": "North America",
         "orientation": "v",
         "showlegend": false,
         "type": "scatter",
         "x": [
          7.427,
          7.119,
          7.187
         ],
         "xaxis": "x3",
         "y": [
          45910,
          58970,
          18810
         ],
         "yaxis": "y3"
        },
        {
         "customdata": [
          [
           "United States"
          ],
          [
           "Canada"
          ],
          [
           "Mexico"
          ]
         ],
         "hovertemplate": "Country: %{customdata[0]}<br>Happines: %{x}<br>GNI per Capita (PPP): %{y}",
         "legendgroup": "North America",
         "marker": {
          "color": "#B47FE3",
          "symbol": "circle"
         },
         "mode": "markers",
         "name": "North America",
         "orientation": "v",
         "showlegend": false,
         "type": "scatter",
         "x": [
          6.892,
          7.278,
          6.595
         ],
         "xaxis": "x2",
         "y": [
          61020,
          48070,
          19300
         ],
         "yaxis": "y2"
        },
        {
         "customdata": [
          [
           "Canada"
          ],
          [
           "Mexico"
          ],
          [
           "United States"
          ]
         ],
         "hovertemplate": "Country: %{customdata[0]}<br>Happines: %{x}<br>GNI per Capita (PPP): %{y}",
         "legendgroup": "North America",
         "marker": {
          "color": "#B47FE3",
          "symbol": "circle"
         },
         "mode": "markers",
         "name": "North America",
         "orientation": "v",
         "showlegend": false,
         "type": "scatter",
         "x": [
          7.328,
          6.488,
          6.886
         ],
         "xaxis": "x",
         "y": [
          43602.25,
          17628.12,
          56140.23
         ],
         "yaxis": "y"
        },
        {
         "customdata": [
          [
           "New Zealand"
          ],
          [
           "Australia"
          ]
         ],
         "hovertemplate": "Country: %{customdata[0]}<br>Happines: %{x}<br>GNI per Capita (PPP): %{y}",
         "legendgroup": "Australia",
         "marker": {
          "color": "#B2E4FA",
          "symbol": "circle"
         },
         "mode": "markers",
         "name": "Australia",
         "orientation": "v",
         "showlegend": true,
         "type": "scatter",
         "x": [
          7.31400013,
          7.28399992
         ],
         "xaxis": "x4",
         "y": [
          36210,
          45330
         ],
         "yaxis": "y4"
        },
        {
         "customdata": [
          [
           "Australia"
          ],
          [
           "New Zealand"
          ]
         ],
         "hovertemplate": "Country: %{customdata[0]}<br>Happines: %{x}<br>GNI per Capita (PPP): %{y}",
         "legendgroup": "Australia",
         "marker": {
          "color": "#B2E4FA",
          "symbol": "circle"
         },
         "mode": "markers",
         "name": "Australia",
         "orientation": "v",
         "showlegend": false,
         "type": "scatter",
         "x": [
          7.284,
          7.286
         ],
         "xaxis": "x3",
         "y": [
          46230,
          38630
         ],
         "yaxis": "y3"
        },
        {
         "customdata": [
          [
           "Australia"
          ],
          [
           "New Zealand"
          ]
         ],
         "hovertemplate": "Country: %{customdata[0]}<br>Happines: %{x}<br>GNI per Capita (PPP): %{y}",
         "legendgroup": "Australia",
         "marker": {
          "color": "#B2E4FA",
          "symbol": "circle"
         },
         "mode": "markers",
         "name": "Australia",
         "orientation": "v",
         "showlegend": false,
         "type": "scatter",
         "x": [
          7.228,
          7.307
         ],
         "xaxis": "x2",
         "y": [
          47580,
          39330
         ],
         "yaxis": "y2"
        },
        {
         "customdata": [
          [
           "Australia"
          ],
          [
           "New Zealand"
          ]
         ],
         "hovertemplate": "Country: %{customdata[0]}<br>Happines: %{x}<br>GNI per Capita (PPP): %{y}",
         "legendgroup": "Australia",
         "marker": {
          "color": "#B2E4FA",
          "symbol": "circle"
         },
         "mode": "markers",
         "name": "Australia",
         "orientation": "v",
         "showlegend": false,
         "type": "scatter",
         "x": [
          7.272,
          7.324
         ],
         "xaxis": "x",
         "y": [
          44097.02,
          35107.5
         ],
         "yaxis": "y"
        }
       ],
       "layout": {
        "annotations": [
         {
          "font": {},
          "showarrow": false,
          "text": "Year=2018",
          "textangle": 90,
          "x": 0.98,
          "xanchor": "left",
          "xref": "paper",
          "y": 0.11375,
          "yanchor": "middle",
          "yref": "paper"
         },
         {
          "font": {},
          "showarrow": false,
          "text": "Year=2017",
          "textangle": 90,
          "x": 0.98,
          "xanchor": "left",
          "xref": "paper",
          "y": 0.37124999999999997,
          "yanchor": "middle",
          "yref": "paper"
         },
         {
          "font": {},
          "showarrow": false,
          "text": "Year=2016",
          "textangle": 90,
          "x": 0.98,
          "xanchor": "left",
          "xref": "paper",
          "y": 0.62875,
          "yanchor": "middle",
          "yref": "paper"
         },
         {
          "font": {},
          "showarrow": false,
          "text": "Year=2015",
          "textangle": 90,
          "x": 0.98,
          "xanchor": "left",
          "xref": "paper",
          "y": 0.88625,
          "yanchor": "middle",
          "yref": "paper"
         }
        ],
        "height": 1000,
        "legend": {
         "title": {
          "text": "continent"
         },
         "tracegroupgap": 0
        },
        "margin": {
         "t": 60
        },
        "plot_bgcolor": "rgb(240, 240, 240, 240)",
        "template": {
         "data": {
          "bar": [
           {
            "error_x": {
             "color": "#2a3f5f"
            },
            "error_y": {
             "color": "#2a3f5f"
            },
            "marker": {
             "line": {
              "color": "#E5ECF6",
              "width": 0.5
             },
             "pattern": {
              "fillmode": "overlay",
              "size": 10,
              "solidity": 0.2
             }
            },
            "type": "bar"
           }
          ],
          "barpolar": [
           {
            "marker": {
             "line": {
              "color": "#E5ECF6",
              "width": 0.5
             },
             "pattern": {
              "fillmode": "overlay",
              "size": 10,
              "solidity": 0.2
             }
            },
            "type": "barpolar"
           }
          ],
          "carpet": [
           {
            "aaxis": {
             "endlinecolor": "#2a3f5f",
             "gridcolor": "white",
             "linecolor": "white",
             "minorgridcolor": "white",
             "startlinecolor": "#2a3f5f"
            },
            "baxis": {
             "endlinecolor": "#2a3f5f",
             "gridcolor": "white",
             "linecolor": "white",
             "minorgridcolor": "white",
             "startlinecolor": "#2a3f5f"
            },
            "type": "carpet"
           }
          ],
          "choropleth": [
           {
            "colorbar": {
             "outlinewidth": 0,
             "ticks": ""
            },
            "type": "choropleth"
           }
          ],
          "contour": [
           {
            "colorbar": {
             "outlinewidth": 0,
             "ticks": ""
            },
            "colorscale": [
             [
              0,
              "#0d0887"
             ],
             [
              0.1111111111111111,
              "#46039f"
             ],
             [
              0.2222222222222222,
              "#7201a8"
             ],
             [
              0.3333333333333333,
              "#9c179e"
             ],
             [
              0.4444444444444444,
              "#bd3786"
             ],
             [
              0.5555555555555556,
              "#d8576b"
             ],
             [
              0.6666666666666666,
              "#ed7953"
             ],
             [
              0.7777777777777778,
              "#fb9f3a"
             ],
             [
              0.8888888888888888,
              "#fdca26"
             ],
             [
              1,
              "#f0f921"
             ]
            ],
            "type": "contour"
           }
          ],
          "contourcarpet": [
           {
            "colorbar": {
             "outlinewidth": 0,
             "ticks": ""
            },
            "type": "contourcarpet"
           }
          ],
          "heatmap": [
           {
            "colorbar": {
             "outlinewidth": 0,
             "ticks": ""
            },
            "colorscale": [
             [
              0,
              "#0d0887"
             ],
             [
              0.1111111111111111,
              "#46039f"
             ],
             [
              0.2222222222222222,
              "#7201a8"
             ],
             [
              0.3333333333333333,
              "#9c179e"
             ],
             [
              0.4444444444444444,
              "#bd3786"
             ],
             [
              0.5555555555555556,
              "#d8576b"
             ],
             [
              0.6666666666666666,
              "#ed7953"
             ],
             [
              0.7777777777777778,
              "#fb9f3a"
             ],
             [
              0.8888888888888888,
              "#fdca26"
             ],
             [
              1,
              "#f0f921"
             ]
            ],
            "type": "heatmap"
           }
          ],
          "heatmapgl": [
           {
            "colorbar": {
             "outlinewidth": 0,
             "ticks": ""
            },
            "colorscale": [
             [
              0,
              "#0d0887"
             ],
             [
              0.1111111111111111,
              "#46039f"
             ],
             [
              0.2222222222222222,
              "#7201a8"
             ],
             [
              0.3333333333333333,
              "#9c179e"
             ],
             [
              0.4444444444444444,
              "#bd3786"
             ],
             [
              0.5555555555555556,
              "#d8576b"
             ],
             [
              0.6666666666666666,
              "#ed7953"
             ],
             [
              0.7777777777777778,
              "#fb9f3a"
             ],
             [
              0.8888888888888888,
              "#fdca26"
             ],
             [
              1,
              "#f0f921"
             ]
            ],
            "type": "heatmapgl"
           }
          ],
          "histogram": [
           {
            "marker": {
             "pattern": {
              "fillmode": "overlay",
              "size": 10,
              "solidity": 0.2
             }
            },
            "type": "histogram"
           }
          ],
          "histogram2d": [
           {
            "colorbar": {
             "outlinewidth": 0,
             "ticks": ""
            },
            "colorscale": [
             [
              0,
              "#0d0887"
             ],
             [
              0.1111111111111111,
              "#46039f"
             ],
             [
              0.2222222222222222,
              "#7201a8"
             ],
             [
              0.3333333333333333,
              "#9c179e"
             ],
             [
              0.4444444444444444,
              "#bd3786"
             ],
             [
              0.5555555555555556,
              "#d8576b"
             ],
             [
              0.6666666666666666,
              "#ed7953"
             ],
             [
              0.7777777777777778,
              "#fb9f3a"
             ],
             [
              0.8888888888888888,
              "#fdca26"
             ],
             [
              1,
              "#f0f921"
             ]
            ],
            "type": "histogram2d"
           }
          ],
          "histogram2dcontour": [
           {
            "colorbar": {
             "outlinewidth": 0,
             "ticks": ""
            },
            "colorscale": [
             [
              0,
              "#0d0887"
             ],
             [
              0.1111111111111111,
              "#46039f"
             ],
             [
              0.2222222222222222,
              "#7201a8"
             ],
             [
              0.3333333333333333,
              "#9c179e"
             ],
             [
              0.4444444444444444,
              "#bd3786"
             ],
             [
              0.5555555555555556,
              "#d8576b"
             ],
             [
              0.6666666666666666,
              "#ed7953"
             ],
             [
              0.7777777777777778,
              "#fb9f3a"
             ],
             [
              0.8888888888888888,
              "#fdca26"
             ],
             [
              1,
              "#f0f921"
             ]
            ],
            "type": "histogram2dcontour"
           }
          ],
          "mesh3d": [
           {
            "colorbar": {
             "outlinewidth": 0,
             "ticks": ""
            },
            "type": "mesh3d"
           }
          ],
          "parcoords": [
           {
            "line": {
             "colorbar": {
              "outlinewidth": 0,
              "ticks": ""
             }
            },
            "type": "parcoords"
           }
          ],
          "pie": [
           {
            "automargin": true,
            "type": "pie"
           }
          ],
          "scatter": [
           {
            "fillpattern": {
             "fillmode": "overlay",
             "size": 10,
             "solidity": 0.2
            },
            "type": "scatter"
           }
          ],
          "scatter3d": [
           {
            "line": {
             "colorbar": {
              "outlinewidth": 0,
              "ticks": ""
             }
            },
            "marker": {
             "colorbar": {
              "outlinewidth": 0,
              "ticks": ""
             }
            },
            "type": "scatter3d"
           }
          ],
          "scattercarpet": [
           {
            "marker": {
             "colorbar": {
              "outlinewidth": 0,
              "ticks": ""
             }
            },
            "type": "scattercarpet"
           }
          ],
          "scattergeo": [
           {
            "marker": {
             "colorbar": {
              "outlinewidth": 0,
              "ticks": ""
             }
            },
            "type": "scattergeo"
           }
          ],
          "scattergl": [
           {
            "marker": {
             "colorbar": {
              "outlinewidth": 0,
              "ticks": ""
             }
            },
            "type": "scattergl"
           }
          ],
          "scattermapbox": [
           {
            "marker": {
             "colorbar": {
              "outlinewidth": 0,
              "ticks": ""
             }
            },
            "type": "scattermapbox"
           }
          ],
          "scatterpolar": [
           {
            "marker": {
             "colorbar": {
              "outlinewidth": 0,
              "ticks": ""
             }
            },
            "type": "scatterpolar"
           }
          ],
          "scatterpolargl": [
           {
            "marker": {
             "colorbar": {
              "outlinewidth": 0,
              "ticks": ""
             }
            },
            "type": "scatterpolargl"
           }
          ],
          "scatterternary": [
           {
            "marker": {
             "colorbar": {
              "outlinewidth": 0,
              "ticks": ""
             }
            },
            "type": "scatterternary"
           }
          ],
          "surface": [
           {
            "colorbar": {
             "outlinewidth": 0,
             "ticks": ""
            },
            "colorscale": [
             [
              0,
              "#0d0887"
             ],
             [
              0.1111111111111111,
              "#46039f"
             ],
             [
              0.2222222222222222,
              "#7201a8"
             ],
             [
              0.3333333333333333,
              "#9c179e"
             ],
             [
              0.4444444444444444,
              "#bd3786"
             ],
             [
              0.5555555555555556,
              "#d8576b"
             ],
             [
              0.6666666666666666,
              "#ed7953"
             ],
             [
              0.7777777777777778,
              "#fb9f3a"
             ],
             [
              0.8888888888888888,
              "#fdca26"
             ],
             [
              1,
              "#f0f921"
             ]
            ],
            "type": "surface"
           }
          ],
          "table": [
           {
            "cells": {
             "fill": {
              "color": "#EBF0F8"
             },
             "line": {
              "color": "white"
             }
            },
            "header": {
             "fill": {
              "color": "#C8D4E3"
             },
             "line": {
              "color": "white"
             }
            },
            "type": "table"
           }
          ]
         },
         "layout": {
          "annotationdefaults": {
           "arrowcolor": "#2a3f5f",
           "arrowhead": 0,
           "arrowwidth": 1
          },
          "autotypenumbers": "strict",
          "coloraxis": {
           "colorbar": {
            "outlinewidth": 0,
            "ticks": ""
           }
          },
          "colorscale": {
           "diverging": [
            [
             0,
             "#8e0152"
            ],
            [
             0.1,
             "#c51b7d"
            ],
            [
             0.2,
             "#de77ae"
            ],
            [
             0.3,
             "#f1b6da"
            ],
            [
             0.4,
             "#fde0ef"
            ],
            [
             0.5,
             "#f7f7f7"
            ],
            [
             0.6,
             "#e6f5d0"
            ],
            [
             0.7,
             "#b8e186"
            ],
            [
             0.8,
             "#7fbc41"
            ],
            [
             0.9,
             "#4d9221"
            ],
            [
             1,
             "#276419"
            ]
           ],
           "sequential": [
            [
             0,
             "#0d0887"
            ],
            [
             0.1111111111111111,
             "#46039f"
            ],
            [
             0.2222222222222222,
             "#7201a8"
            ],
            [
             0.3333333333333333,
             "#9c179e"
            ],
            [
             0.4444444444444444,
             "#bd3786"
            ],
            [
             0.5555555555555556,
             "#d8576b"
            ],
            [
             0.6666666666666666,
             "#ed7953"
            ],
            [
             0.7777777777777778,
             "#fb9f3a"
            ],
            [
             0.8888888888888888,
             "#fdca26"
            ],
            [
             1,
             "#f0f921"
            ]
           ],
           "sequentialminus": [
            [
             0,
             "#0d0887"
            ],
            [
             0.1111111111111111,
             "#46039f"
            ],
            [
             0.2222222222222222,
             "#7201a8"
            ],
            [
             0.3333333333333333,
             "#9c179e"
            ],
            [
             0.4444444444444444,
             "#bd3786"
            ],
            [
             0.5555555555555556,
             "#d8576b"
            ],
            [
             0.6666666666666666,
             "#ed7953"
            ],
            [
             0.7777777777777778,
             "#fb9f3a"
            ],
            [
             0.8888888888888888,
             "#fdca26"
            ],
            [
             1,
             "#f0f921"
            ]
           ]
          },
          "colorway": [
           "#636efa",
           "#EF553B",
           "#00cc96",
           "#ab63fa",
           "#FFA15A",
           "#19d3f3",
           "#FF6692",
           "#B6E880",
           "#FF97FF",
           "#FECB52"
          ],
          "font": {
           "color": "#2a3f5f"
          },
          "geo": {
           "bgcolor": "white",
           "lakecolor": "white",
           "landcolor": "#E5ECF6",
           "showlakes": true,
           "showland": true,
           "subunitcolor": "white"
          },
          "hoverlabel": {
           "align": "left"
          },
          "hovermode": "closest",
          "mapbox": {
           "style": "light"
          },
          "paper_bgcolor": "white",
          "plot_bgcolor": "#E5ECF6",
          "polar": {
           "angularaxis": {
            "gridcolor": "white",
            "linecolor": "white",
            "ticks": ""
           },
           "bgcolor": "#E5ECF6",
           "radialaxis": {
            "gridcolor": "white",
            "linecolor": "white",
            "ticks": ""
           }
          },
          "scene": {
           "xaxis": {
            "backgroundcolor": "#E5ECF6",
            "gridcolor": "white",
            "gridwidth": 2,
            "linecolor": "white",
            "showbackground": true,
            "ticks": "",
            "zerolinecolor": "white"
           },
           "yaxis": {
            "backgroundcolor": "#E5ECF6",
            "gridcolor": "white",
            "gridwidth": 2,
            "linecolor": "white",
            "showbackground": true,
            "ticks": "",
            "zerolinecolor": "white"
           },
           "zaxis": {
            "backgroundcolor": "#E5ECF6",
            "gridcolor": "white",
            "gridwidth": 2,
            "linecolor": "white",
            "showbackground": true,
            "ticks": "",
            "zerolinecolor": "white"
           }
          },
          "shapedefaults": {
           "line": {
            "color": "#2a3f5f"
           }
          },
          "ternary": {
           "aaxis": {
            "gridcolor": "white",
            "linecolor": "white",
            "ticks": ""
           },
           "baxis": {
            "gridcolor": "white",
            "linecolor": "white",
            "ticks": ""
           },
           "bgcolor": "#E5ECF6",
           "caxis": {
            "gridcolor": "white",
            "linecolor": "white",
            "ticks": ""
           }
          },
          "title": {
           "x": 0.05
          },
          "xaxis": {
           "automargin": true,
           "gridcolor": "white",
           "linecolor": "white",
           "ticks": "",
           "title": {
            "standoff": 15
           },
           "zerolinecolor": "white",
           "zerolinewidth": 2
          },
          "yaxis": {
           "automargin": true,
           "gridcolor": "white",
           "linecolor": "white",
           "ticks": "",
           "title": {
            "standoff": 15
           },
           "zerolinecolor": "white",
           "zerolinewidth": 2
          }
         }
        },
        "title": {
         "text": "Scatter Plot of GNI per Capita (PPP) vs Happiness by Year"
        },
        "width": 800,
        "xaxis": {
         "anchor": "y",
         "domain": [
          0,
          0.98
         ],
         "title": {
          "text": "Happiness score"
         }
        },
        "xaxis2": {
         "anchor": "y2",
         "domain": [
          0,
          0.98
         ],
         "matches": "x",
         "showticklabels": false
        },
        "xaxis3": {
         "anchor": "y3",
         "domain": [
          0,
          0.98
         ],
         "matches": "x",
         "showticklabels": false
        },
        "xaxis4": {
         "anchor": "y4",
         "domain": [
          0,
          0.98
         ],
         "matches": "x",
         "showticklabels": false
        },
        "yaxis": {
         "anchor": "x",
         "domain": [
          0,
          0.2275
         ],
         "title": {
          "text": "GNI per Capita (PPP)"
         }
        },
        "yaxis2": {
         "anchor": "x2",
         "domain": [
          0.2575,
          0.485
         ],
         "matches": "y",
         "title": {
          "text": "GNI_per_capita_PPP"
         }
        },
        "yaxis3": {
         "anchor": "x3",
         "domain": [
          0.515,
          0.7425
         ],
         "matches": "y",
         "title": {
          "text": "GNI_per_capita_PPP"
         }
        },
        "yaxis4": {
         "anchor": "x4",
         "domain": [
          0.7725,
          1
         ],
         "matches": "y",
         "title": {
          "text": "GNI_per_capita_PPP"
         }
        }
       }
      },
      "text/html": [
       "<div>                            <div id=\"0c9aea38-b6ce-4cf0-b562-f3669a914a38\" class=\"plotly-graph-div\" style=\"height:1000px; width:800px;\"></div>            <script type=\"text/javascript\">                require([\"plotly\"], function(Plotly) {                    window.PLOTLYENV=window.PLOTLYENV || {};                                    if (document.getElementById(\"0c9aea38-b6ce-4cf0-b562-f3669a914a38\")) {                    Plotly.newPlot(                        \"0c9aea38-b6ce-4cf0-b562-f3669a914a38\",                        [{\"customdata\":[[\"Lebanon\"],[\"Malaysia\"],[\"Kuwait\"],[\"Kazakhstan\"],[\"Jordan\"],[\"Japan\"],[\"Israel\"],[\"Iraq\"],[\"Kyrgyzstan\"],[\"Mongolia\"],[\"Saudi Arabia\"],[\"Philippines\"],[\"Pakistan\"],[\"Nepal\"],[\"Myanmar\"],[\"Iran\"],[\"Indonesia\"],[\"Cambodia\"],[\"Bangladesh\"],[\"Bahrain\"],[\"Azerbaijan\"],[\"Armenia\"],[\"China\"],[\"China\"],[\"Georgia\"],[\"Cyprus\"],[\"India\"],[\"Singapore\"],[\"Afghanistan\"],[\"Turkey\"],[\"United Arab Emirates\"],[\"Thailand\"],[\"Vietnam\"],[\"Sri Lanka\"],[\"Turkmenistan\"],[\"Uzbekistan\"],[\"Tajikistan\"],[\"Yemen\"]],\"hovertemplate\":\"Country: %{customdata[0]}\\u003cbr\\u003eHappines: %{x}\\u003cbr\\u003eGNI per Capita (PPP): %{y}\",\"legendgroup\":\"Asia\",\"marker\":{\"color\":\"#FAA598\",\"symbol\":\"circle\"},\"mode\":\"markers\",\"name\":\"Asia\",\"orientation\":\"v\",\"showlegend\":true,\"x\":[5.224999905,6.084000111,6.105000019,5.818999767,5.335999966,5.920000076,7.212999821,4.497000217,5.004000187,4.954999924,6.343999863,5.429999828,5.269000053,4.961999893,4.545000076,4.691999912,5.262000084,4.168000221,4.607999802,6.086999893,5.234000206,4.375999928,5.272999763,5.272999763,4.285999775,5.620999813,4.315000057,6.572000027,3.79399991,5.5,6.647999763,6.423999786,5.073999882,4.440000057,5.822000027,5.971000195,5.040999889,3.592999935],\"xaxis\":\"x4\",\"y\":[14920.0,24120.0,52880.0,23860.0,9140.0,41950.0,35130.0,10220.0,4460.0,9880.0,49450.0,8310.0,4640.0,2680.0,4180.0,13300.0,9910.0,3180.0,3790.0,42760.0,15020.0,12490.0,57450.0,12880.0,11420.0,31510.0,5400.0,81040.0,2110.0,25340.0,64640.0,15010.0,5790.0,11270.0,12890.0,6460.0,3590.0,null],\"yaxis\":\"y4\",\"type\":\"scatter\"},{\"customdata\":[[\"Vietnam\"],[\"Kazakhstan\"],[\"Jordan\"],[\"Japan\"],[\"Israel\"],[\"Kuwait\"],[\"Singapore\"],[\"Kyrgyzstan\"],[\"Tajikistan\"],[\"Malaysia\"],[\"Thailand\"],[\"Lebanon\"],[\"China\"],[\"Afghanistan\"],[\"Iraq\"],[\"United Arab Emirates\"],[\"Uzbekistan\"],[\"Cyprus\"],[\"China\"],[\"Cambodia\"],[\"Turkey\"],[\"Iran\"],[\"Indonesia\"],[\"Bangladesh\"],[\"India\"],[\"Turkmenistan\"],[\"Georgia\"],[\"Yemen\"],[\"Pakistan\"],[\"Sri Lanka\"],[\"Nepal\"],[\"Azerbaijan\"],[\"Armenia\"],[\"Saudi Arabia\"],[\"Myanmar\"],[\"Philippines\"],[\"Mongolia\"],[\"Bahrain\"]],\"hovertemplate\":\"Country: %{customdata[0]}\\u003cbr\\u003eHappines: %{x}\\u003cbr\\u003eGNI per Capita (PPP): %{y}\",\"legendgroup\":\"Asia\",\"marker\":{\"color\":\"#FAA598\",\"symbol\":\"circle\"},\"mode\":\"markers\",\"name\":\"Asia\",\"orientation\":\"v\",\"showlegend\":false,\"x\":[5.36,5.855,5.192,5.987,7.278,6.295,6.798,5.286,4.786,5.77,6.455,4.839,5.14,3.575,4.677,6.901,6.003,5.689,5.14,3.819,5.332,4.686,5.399,4.694,4.565,5.548,4.297,4.077,5.194,4.271,4.514,5.212,4.35,6.411,4.307,5.073,4.874,5.96],\"xaxis\":\"x3\",\"y\":[6300.0,24280.0,9120.0,41350.0,37500.0,51550.0,83020.0,5020.0,3900.0,24840.0,15800.0,15250.0,58670.0,2140.0,9720.0,63670.0,6530.0,33000.0,13400.0,3450.0,26050.0,13650.0,10160.0,4070.0,5760.0,13500.0,11760.0,null,4680.0,11900.0,2620.0,14920.0,13160.0,46110.0,4220.0,8870.0,9860.0,41860.0],\"yaxis\":\"y3\",\"type\":\"scatter\"},{\"customdata\":[[\"Tajikistan\"],[\"Georgia\"],[\"Uzbekistan\"],[\"Cambodia\"],[\"Azerbaijan\"],[\"Bahrain\"],[\"Philippines\"],[\"Malaysia\"],[\"United Arab Emirates\"],[\"Bangladesh\"],[\"China\"],[\"China\"],[\"Afghanistan\"],[\"Cyprus\"],[\"Yemen\"],[\"Saudi Arabia\"],[\"Jordan\"],[\"Japan\"],[\"Israel\"],[\"Kazakhstan\"],[\"Sri Lanka\"],[\"Lebanon\"],[\"Myanmar\"],[\"Thailand\"],[\"Vietnam\"],[\"Kyrgyzstan\"],[\"Nepal\"],[\"Kuwait\"],[\"Turkmenistan\"],[\"Armenia\"],[\"Mongolia\"],[\"India\"],[\"Indonesia\"],[\"Singapore\"],[\"Turkey\"],[\"Iran\"],[\"Pakistan\"],[\"Iraq\"]],\"hovertemplate\":\"Country: %{customdata[0]}\\u003cbr\\u003eHappines: %{x}\\u003cbr\\u003eGNI per Capita (PPP): %{y}\",\"legendgroup\":\"Asia\",\"marker\":{\"color\":\"#FAA598\",\"symbol\":\"circle\"},\"mode\":\"markers\",\"name\":\"Asia\",\"orientation\":\"v\",\"showlegend\":false,\"x\":[5.467,4.519,6.174,4.7,5.208,6.199,5.631,5.339,6.825,4.456,5.191,5.191,3.203,6.046,3.38,6.375,4.906,5.886,7.139,5.809,4.366,5.197,4.36,6.008,5.175,5.261,4.913,6.021,5.247,4.559,5.285,4.015,5.192,6.262,5.373,4.548,5.653,4.437],\"xaxis\":\"x2\",\"y\":[3560.0,12910.0,6650.0,3680.0,13510.0,44980.0,9320.0,25900.0,66290.0,4340.0,14140.0,62530.0,2210.0,35750.0,null,48040.0,9790.0,42290.0,38570.0,22160.0,12340.0,16070.0,4480.0,16610.0,6620.0,4800.0,3140.0,59260.0,13620.0,12540.0,9720.0,6120.0,10580.0,87440.0,27570.0,14560.0,4820.0,10850.0],\"yaxis\":\"y2\",\"type\":\"scatter\"},{\"customdata\":[[\"Vietnam\"],[\"Cambodia\"],[\"Afghanistan\"],[\"Azerbaijan\"],[\"Bahrain\"],[\"Uzbekistan\"],[\"Bangladesh\"],[\"Yemen\"],[\"Armenia\"],[\"Indonesia\"],[\"China\"],[\"Sri Lanka\"],[\"Nepal\"],[\"Myanmar\"],[\"Mongolia\"],[\"Malaysia\"],[\"Tajikistan\"],[\"Singapore\"],[\"Saudi Arabia\"],[\"Philippines\"],[\"Pakistan\"],[\"Lebanon\"],[\"Georgia\"],[\"United Arab Emirates\"],[\"Cyprus\"],[\"Kyrgyzstan\"],[\"Thailand\"],[\"Kuwait\"],[\"Kazakhstan\"],[\"Jordan\"],[\"Japan\"],[\"China\"],[\"Israel\"],[\"Iraq\"],[\"Iran\"],[\"Turkey\"],[\"India\"],[\"Turkmenistan\"]],\"hovertemplate\":\"Country: %{customdata[0]}\\u003cbr\\u003eHappines: %{x}\\u003cbr\\u003eGNI per Capita (PPP): %{y}\",\"legendgroup\":\"Asia\",\"marker\":{\"color\":\"#FAA598\",\"symbol\":\"circle\"},\"mode\":\"markers\",\"name\":\"Asia\",\"orientation\":\"v\",\"showlegend\":false,\"x\":[5.103,4.433,3.632,5.201,6.105,6.096,4.5,3.355,4.321,5.093,5.246,4.471,4.88,4.308,5.125,6.322,5.199,6.343,6.371,5.524,5.472,5.358,4.34,6.774,5.762,5.131,6.072,6.083,5.79,5.161,5.915,5.246,6.814,4.456,4.707,5.483,4.19,5.636],\"xaxis\":\"x\",\"y\":[6220.27,3597.4,1745.67,15240.14,40399.12,6461.84,4057.25,1433.3,9277.23,11255.78,60220.8,11610.91,2748.2,5763.94,10783.71,27226.68,3482.38,83792.67,49338.41,9539.7,5190.08,11136.25,9569.52,66911.66,33100.32,3316.79,16128.55,71164.22,22167.7,8267.81,40799.01,16126.57,33649.69,15364.96,18166.47,24905.38,6828.6,16407.47],\"yaxis\":\"y\",\"type\":\"scatter\"},{\"customdata\":[[\"Mauritania\"],[\"Mali\"],[\"Malawi\"],[\"Madagascar\"],[\"Libya\"],[\"Liberia\"],[\"Mauritius\"],[\"Kenya\"],[\"Senegal\"],[\"Rwanda\"],[\"Nigeria\"],[\"Niger\"],[\"Morocco\"],[\"Sierra Leone\"],[\"Cameroon\"],[\"Burundi\"],[\"Burkina Faso\"],[\"Botswana\"],[\"Chad\"],[\"Benin\"],[\"Algeria\"],[\"Ghana\"],[\"Gabon\"],[\"Ethiopia\"],[\"Egypt\"],[\"Zambia\"],[\"Togo\"],[\"Zimbabwe\"],[\"Uganda\"],[\"Tunisia\"],[\"South Africa\"],[\"Tanzania\"]],\"hovertemplate\":\"Country: %{customdata[0]}\\u003cbr\\u003eHappines: %{x}\\u003cbr\\u003eGNI per Capita (PPP): %{y}\",\"legendgroup\":\"Africa\",\"marker\":{\"color\":\"#AEFD8E\",\"symbol\":\"circle\"},\"mode\":\"markers\",\"name\":\"Africa\",\"orientation\":\"v\",\"showlegend\":true,\"x\":[4.291999817,4.190000057,3.970000029,3.644000053,5.525000095,3.532999992,5.629000187,4.552999973,4.534999847,3.470999956,5.073999882,4.027999878,5.235000134,4.709000111,4.695000172,2.904999971,4.032000065,3.766000032,3.936000109,3.657000065,5.872000217,4.119999886,4.465000153,4.460000038,4.735000134,4.513999939,3.494999886,3.875,4.080999851,4.804999828,4.828999996,3.348999977],\"xaxis\":\"x4\",\"y\":[3160.0,1990.0,990.0,1500.0,12740.0,1180.0,20860.0,3330.0,2910.0,1710.0,5280.0,840.0,7670.0,1570.0,3210.0,840.0,1460.0,15310.0,1760.0,2860.0,11700.0,5050.0,13480.0,1650.0,11160.0,3370.0,1440.0,2410.0,1750.0,9890.0,12240.0,2740.0],\"yaxis\":\"y4\",\"type\":\"scatter\"},{\"customdata\":[[\"Kenya\"],[\"Togo\"],[\"Botswana\"],[\"Tunisia\"],[\"Mauritania\"],[\"Mali\"],[\"Malawi\"],[\"Madagascar\"],[\"Tanzania\"],[\"Libya\"],[\"Benin\"],[\"Liberia\"],[\"Cameroon\"],[\"Ethiopia\"],[\"Egypt\"],[\"Chad\"],[\"Gabon\"],[\"Burkina Faso\"],[\"Uganda\"],[\"Burundi\"],[\"Ghana\"],[\"Mauritius\"],[\"Nigeria\"],[\"Niger\"],[\"Zambia\"],[\"South Africa\"],[\"Sierra Leone\"],[\"Senegal\"],[\"Zimbabwe\"],[\"Rwanda\"],[\"Algeria\"],[\"Morocco\"]],\"hovertemplate\":\"Country: %{customdata[0]}\\u003cbr\\u003eHappines: %{x}\\u003cbr\\u003eGNI per Capita (PPP): %{y}\",\"legendgroup\":\"Africa\",\"marker\":{\"color\":\"#AEFD8E\",\"symbol\":\"circle\"},\"mode\":\"markers\",\"name\":\"Africa\",\"orientation\":\"v\",\"showlegend\":false,\"x\":[4.419,2.839,4.332,4.739,4.436,3.995,4.292,3.681,3.781,5.754,3.34,4.571,4.252,4.512,4.194,3.667,3.896,3.587,3.931,2.905,4.633,5.477,5.268,3.845,5.129,4.642,4.507,3.904,4.61,3.465,5.605,5.013],\"xaxis\":\"x3\",\"y\":[3620.0,1470.0,16600.0,10070.0,3350.0,2130.0,1020.0,1550.0,2860.0,11430.0,2980.0,1260.0,3350.0,1870.0,10850.0,1630.0,13180.0,1550.0,1690.0,800.0,4800.0,22390.0,5120.0,820.0,3330.0,12240.0,1420.0,3000.0,2570.0,1790.0,11520.0,7730.0],\"yaxis\":\"y3\",\"type\":\"scatter\"},{\"customdata\":[[\"Liberia\"],[\"Gabon\"],[\"Algeria\"],[\"Mali\"],[\"South Africa\"],[\"Burkina Faso\"],[\"Uganda\"],[\"Burundi\"],[\"Ghana\"],[\"Ethiopia\"],[\"Mauritania\"],[\"Zimbabwe\"],[\"Sierra Leone\"],[\"Chad\"],[\"Cameroon\"],[\"Rwanda\"],[\"Egypt\"],[\"Senegal\"],[\"Togo\"],[\"Tanzania\"],[\"Niger\"],[\"Tunisia\"],[\"Botswana\"],[\"Morocco\"],[\"Benin\"],[\"Libya\"],[\"Kenya\"],[\"Nigeria\"],[\"Malawi\"],[\"Mauritius\"],[\"Madagascar\"],[\"Zambia\"]],\"hovertemplate\":\"Country: %{customdata[0]}\\u003cbr\\u003eHappines: %{x}\\u003cbr\\u003eGNI per Capita (PPP): %{y}\",\"legendgroup\":\"Africa\",\"marker\":{\"color\":\"#AEFD8E\",\"symbol\":\"circle\"},\"mode\":\"markers\",\"name\":\"Africa\",\"orientation\":\"v\",\"showlegend\":false,\"x\":[3.975,4.799,5.211,4.39,4.722,4.587,4.189,3.775,4.996,4.286,4.49,3.663,4.374,4.35,5.044,3.334,4.166,4.681,4.085,3.231,4.628,4.461,3.488,5.208,4.883,5.525,4.509,5.265,3.41,5.888,3.933,4.107],\"xaxis\":\"x2\",\"y\":[1380.0,14060.0,11370.0,2180.0,12320.0,1730.0,1710.0,770.0,4860.0,2010.0,3610.0,2860.0,1590.0,1570.0,3490.0,1910.0,10800.0,3140.0,1520.0,3020.0,830.0,10280.0,16680.0,8110.0,3010.0,13690.0,4000.0,5030.0,1030.0,23560.0,1540.0,3330.0],\"yaxis\":\"y2\",\"type\":\"scatter\"},{\"customdata\":[[\"Burkina Faso\"],[\"Algeria\"],[\"Zambia\"],[\"Benin\"],[\"Chad\"],[\"Cameroon\"],[\"Botswana\"],[\"Burundi\"],[\"Morocco\"],[\"Mauritius\"],[\"Mauritania\"],[\"Mali\"],[\"Malawi\"],[\"Madagascar\"],[\"Tanzania\"],[\"Libya\"],[\"Niger\"],[\"Sierra Leone\"],[\"Senegal\"],[\"Rwanda\"],[\"South Africa\"],[\"Nigeria\"],[\"Liberia\"],[\"Ghana\"],[\"Gabon\"],[\"Ethiopia\"],[\"Egypt\"],[\"Uganda\"],[\"Kenya\"],[\"Togo\"],[\"Tunisia\"],[\"Zimbabwe\"]],\"hovertemplate\":\"Country: %{customdata[0]}\\u003cbr\\u003eHappines: %{x}\\u003cbr\\u003eGNI per Capita (PPP): %{y}\",\"legendgroup\":\"Africa\",\"marker\":{\"color\":\"#AEFD8E\",\"symbol\":\"circle\"},\"mode\":\"markers\",\"name\":\"Africa\",\"orientation\":\"v\",\"showlegend\":false,\"x\":[4.424,5.295,4.377,4.141,4.301,4.975,3.59,2.905,5.254,5.891,4.356,4.447,3.587,3.774,3.303,5.566,4.166,4.571,4.631,3.408,4.724,5.155,3.495,4.657,4.758,4.35,4.419,4.161,4.41,3.999,4.592,3.692],\"xaxis\":\"x\",\"y\":[1705.49,13639.43,3581.89,2134.59,1715.57,3291.13,15951.33,659.73,7479.59,22724.23,3746.08,1965.39,1159.12,1403.92,2805.12,11684.73,912.04,1381.3,3255.99,1958.61,11756.3,5085.54,1040.09,4098.86,15794.08,1781.76,10743.81,1752.21,3051.69,1592.54,10676.96,2661.07],\"yaxis\":\"y\",\"type\":\"scatter\"},{\"customdata\":[[\"Malta\"],[\"Luxembourg\"],[\"Lithuania\"],[\"Latvia\"],[\"Italy\"],[\"Ireland\"],[\"Moldova\"],[\"Serbia\"],[\"Russia\"],[\"Romania\"],[\"Portugal\"],[\"Poland\"],[\"Norway\"],[\"Netherlands\"],[\"Montenegro\"],[\"Iceland\"],[\"Bulgaria\"],[\"Bosnia and Herzegovina\"],[\"Belarus\"],[\"Austria\"],[\"Albania\"],[\"Belgium\"],[\"Hungary\"],[\"Greece\"],[\"Germany\"],[\"France\"],[\"Finland\"],[\"Estonia\"],[\"Denmark\"],[\"Croatia\"],[\"Ukraine\"],[\"Sweden\"],[\"Slovenia\"],[\"United Kingdom\"],[\"Spain\"],[\"Switzerland\"],[\"Slovakia\"]],\"hovertemplate\":\"Country: %{customdata[0]}\\u003cbr\\u003eHappines: %{x}\\u003cbr\\u003eGNI per Capita (PPP): %{y}\",\"legendgroup\":\"Europe\",\"marker\":{\"color\":\"#E3C97F\",\"symbol\":\"circle\"},\"mode\":\"markers\",\"name\":\"Europe\",\"orientation\":\"v\",\"showlegend\":true,\"x\":[6.52699995,6.862999916,5.90199995,5.849999905,5.964000225,6.977000237,5.837999821,5.394999981,5.962999821,5.824999809,5.195000172,5.97300005,7.537000179,7.376999855,5.236999989,7.504000187,4.714000225,5.18200016,5.568999767,7.006000042,4.644000053,6.890999794,5.323999882,5.227000237,6.951000214,6.441999912,7.468999863,5.611000061,7.521999836,5.293000221,4.096000195,7.28399992,5.757999897,6.714000225,6.402999878,7.493999958,6.09800005],\"xaxis\":\"x4\",\"y\":[34280.0,67590.0,27780.0,24690.0,36650.0,52990.0,11290.0,14230.0,23420.0,21130.0,28870.0,25880.0,63030.0,50340.0,16700.0,46480.0,17820.0,12100.0,19260.0,49390.0,11800.0,46870.0,25460.0,26940.0,48770.0,41740.0,42950.0,28570.0,50560.0,22870.0,7880.0,49420.0,30660.0,41550.0,34900.0,65450.0,28950.0],\"yaxis\":\"y4\",\"type\":\"scatter\"},{\"customdata\":[[\"Italy\"],[\"Bosnia and Herzegovina\"],[\"Malta\"],[\"Belarus\"],[\"Belgium\"],[\"Luxembourg\"],[\"Lithuania\"],[\"Ireland\"],[\"Estonia\"],[\"United Kingdom\"],[\"Finland\"],[\"Denmark\"],[\"Croatia\"],[\"France\"],[\"Bulgaria\"],[\"Iceland\"],[\"Hungary\"],[\"Greece\"],[\"Germany\"],[\"Ukraine\"],[\"Latvia\"],[\"Spain\"],[\"Norway\"],[\"Austria\"],[\"Netherlands\"],[\"Serbia\"],[\"Slovakia\"],[\"Albania\"],[\"Russia\"],[\"Slovenia\"],[\"Romania\"],[\"Portugal\"],[\"Poland\"],[\"Sweden\"],[\"Switzerland\"],[\"Moldova\"],[\"Montenegro\"]],\"hovertemplate\":\"Country: %{customdata[0]}\\u003cbr\\u003eHappines: %{x}\\u003cbr\\u003eGNI per Capita (PPP): %{y}\",\"legendgroup\":\"Europe\",\"marker\":{\"color\":\"#E3C97F\",\"symbol\":\"circle\"},\"mode\":\"markers\",\"name\":\"Europe\",\"orientation\":\"v\",\"showlegend\":false,\"x\":[5.948,4.949,6.302,5.813,6.937,6.946,5.833,6.94,5.429,6.867,7.406,7.527,5.759,6.575,4.218,7.561,4.8,4.857,6.75,4.681,5.098,6.329,7.522,7.2,7.378,5.123,5.995,4.959,5.716,5.848,5.124,5.102,5.791,7.364,7.587,5.889,5.192],\"xaxis\":\"x3\",\"y\":[40030.0,13090.0,35720.0,19280.0,49090.0,70450.0,29790.0,59070.0,30510.0,43100.0,45150.0,53110.0,24130.0,43830.0,19760.0,50990.0,26990.0,27820.0,51810.0,8210.0,26340.0,37370.0,61840.0,52630.0,51510.0,14960.0,29160.0,12270.0,23570.0,33010.0,23680.0,30840.0,27170.0,50780.0,66080.0,13060.0,18360.0],\"yaxis\":\"y3\",\"type\":\"scatter\"},{\"customdata\":[[\"Ukraine\"],[\"Portugal\"],[\"France\"],[\"Slovenia\"],[\"Finland\"],[\"Romania\"],[\"Moldova\"],[\"Germany\"],[\"Belarus\"],[\"Poland\"],[\"Greece\"],[\"Croatia\"],[\"Serbia\"],[\"Switzerland\"],[\"Denmark\"],[\"Estonia\"],[\"Russia\"],[\"Malta\"],[\"United Kingdom\"],[\"Albania\"],[\"Slovakia\"],[\"Lithuania\"],[\"Belgium\"],[\"Bosnia and Herzegovina\"],[\"Italy\"],[\"Latvia\"],[\"Netherlands\"],[\"Austria\"],[\"Sweden\"],[\"Montenegro\"],[\"Luxembourg\"],[\"Hungary\"],[\"Bulgaria\"],[\"Iceland\"],[\"Ireland\"],[\"Norway\"],[\"Spain\"]],\"hovertemplate\":\"Country: %{customdata[0]}\\u003cbr\\u003eHappines: %{x}\\u003cbr\\u003eGNI per Capita (PPP): %{y}\",\"legendgroup\":\"Europe\",\"marker\":{\"color\":\"#E3C97F\",\"symbol\":\"circle\"},\"mode\":\"markers\",\"name\":\"Europe\",\"orientation\":\"v\",\"showlegend\":false,\"x\":[4.332,5.693,6.592,6.118,7.769,6.07,5.529,6.985,5.323,6.182,5.287,5.432,5.603,7.48,7.6,5.893,5.648,6.726,7.054,4.719,6.198,6.149,6.923,5.386,6.223,5.94,7.488,7.246,7.343,5.523,7.09,5.758,5.011,7.494,7.021,7.554,6.354],\"xaxis\":\"x2\",\"y\":[8460.0,32310.0,45850.0,35990.0,47480.0,26620.0,12320.0,54370.0,17580.0,28900.0,29150.0,26310.0,15510.0,67890.0,56360.0,32930.0,25380.0,38370.0,45430.0,13130.0,30410.0,32560.0,51320.0,13790.0,42010.0,28360.0,55770.0,54150.0,53490.0,20110.0,72750.0,28340.0,21460.0,54380.0,61590.0,65730.0,39570.0],\"yaxis\":\"y2\",\"type\":\"scatter\"},{\"customdata\":[[\"Albania\"],[\"Belarus\"],[\"Bulgaria\"],[\"Austria\"],[\"Bosnia and Herzegovina\"],[\"Belgium\"],[\"Montenegro\"],[\"Sweden\"],[\"Moldova\"],[\"Switzerland\"],[\"Malta\"],[\"Luxembourg\"],[\"Lithuania\"],[\"Netherlands\"],[\"Serbia\"],[\"Slovakia\"],[\"Russia\"],[\"Romania\"],[\"Portugal\"],[\"Slovenia\"],[\"Poland\"],[\"Norway\"],[\"Spain\"],[\"Latvia\"],[\"Germany\"],[\"Ukraine\"],[\"France\"],[\"Finland\"],[\"Estonia\"],[\"United Kingdom\"],[\"Denmark\"],[\"Croatia\"],[\"Greece\"],[\"Italy\"],[\"Ireland\"],[\"Iceland\"],[\"Hungary\"]],\"hovertemplate\":\"Country: %{customdata[0]}\\u003cbr\\u003eHappines: %{x}\\u003cbr\\u003eGNI per Capita (PPP): %{y}\",\"legendgroup\":\"Europe\",\"marker\":{\"color\":\"#E3C97F\",\"symbol\":\"circle\"},\"mode\":\"markers\",\"name\":\"Europe\",\"orientation\":\"v\",\"showlegend\":false,\"x\":[4.586,5.483,4.933,7.139,5.129,6.927,5.347,7.314,5.64,7.487,6.627,6.91,5.952,7.441,5.398,6.173,5.81,5.945,5.41,5.948,6.123,7.594,6.31,5.933,6.965,4.103,6.489,7.632,5.739,7.19,7.555,5.321,5.358,6.0,6.977,7.495,5.62],\"xaxis\":\"x\",\"y\":[12299.8,17038.53,19645.94,46230.57,12689.68,43820.84,17510.71,47955.45,6833.11,59374.73,34795.18,65543.05,29775.26,50012.59,15217.7,30671.87,25036.02,23905.77,27935.38,32143.04,27625.8,68058.62,35041.3,26300.77,46945.95,7994.21,40510.78,41779.26,30378.63,39507.29,48836.09,23060.96,24909.34,36141.43,55659.68,47566.45,27144.21],\"yaxis\":\"y\",\"type\":\"scatter\"},{\"customdata\":[[\"Jamaica\"],[\"Peru\"],[\"Paraguay\"],[\"Panama\"],[\"Nicaragua\"],[\"Brazil\"],[\"Bolivia\"],[\"Argentina\"],[\"Chile\"],[\"Honduras\"],[\"Haiti\"],[\"Guinea\"],[\"Guatemala\"],[\"El Salvador\"],[\"Ecuador\"],[\"Dominican Republic\"],[\"Costa Rica\"],[\"Colombia\"],[\"Venezuela\"],[\"Uruguay\"]],\"hovertemplate\":\"Country: %{customdata[0]}\\u003cbr\\u003eHappines: %{x}\\u003cbr\\u003eGNI per Capita (PPP): %{y}\",\"legendgroup\":\"South America\",\"marker\":{\"color\":\"#E8EAC8\",\"symbol\":\"circle\"},\"mode\":\"markers\",\"name\":\"South America\",\"orientation\":\"v\",\"showlegend\":true,\"x\":[5.31099987,5.715000153,5.493000031,6.452000141,6.071000099,6.635000229,5.822999954,6.598999977,6.65199995,5.181000233,3.602999926,3.506999969,6.453999996,6.002999783,6.007999897,5.230000019,7.078999996,6.356999874,5.25,6.453999996],\"xaxis\":\"x4\",\"y\":[8520.0,11180.0,11040.0,22810.0,5150.0,14470.0,6890.0,19650.0,22010.0,4490.0,1710.0,1790.0,7830.0,7240.0,10870.0,14130.0,16310.0,13700.0,null,19310.0],\"yaxis\":\"y4\",\"type\":\"scatter\"},{\"customdata\":[[\"Jamaica\"],[\"Bolivia\"],[\"Venezuela\"],[\"El Salvador\"],[\"Ecuador\"],[\"Chile\"],[\"Costa Rica\"],[\"Colombia\"],[\"Dominican Republic\"],[\"Honduras\"],[\"Haiti\"],[\"Guinea\"],[\"Guatemala\"],[\"Brazil\"],[\"Panama\"],[\"Nicaragua\"],[\"Paraguay\"],[\"Peru\"],[\"Argentina\"],[\"Uruguay\"]],\"hovertemplate\":\"Country: %{customdata[0]}\\u003cbr\\u003eHappines: %{x}\\u003cbr\\u003eGNI per Capita (PPP): %{y}\",\"legendgroup\":\"South America\",\"marker\":{\"color\":\"#E8EAC8\",\"symbol\":\"circle\"},\"mode\":\"markers\",\"name\":\"South America\",\"orientation\":\"v\",\"showlegend\":false,\"x\":[5.709,5.89,6.81,6.13,5.975,6.67,7.226,6.477,4.885,4.788,4.518,3.656,6.123,6.983,6.786,5.828,5.878,5.824,6.574,6.485],\"xaxis\":\"x3\",\"y\":[8800.0,7360.0,null,7620.0,10830.0,22080.0,17230.0,13800.0,15420.0,4790.0,1770.0,2050.0,7910.0,13950.0,25080.0,5540.0,11540.0,11510.0,19710.0,19650.0],\"yaxis\":\"y3\",\"type\":\"scatter\"},{\"customdata\":[[\"Peru\"],[\"Guatemala\"],[\"Argentina\"],[\"Haiti\"],[\"Costa Rica\"],[\"Chile\"],[\"Colombia\"],[\"Uruguay\"],[\"El Salvador\"],[\"Ecuador\"],[\"Dominican Republic\"],[\"Venezuela\"],[\"Guinea\"],[\"Honduras\"],[\"Nicaragua\"],[\"Jamaica\"],[\"Paraguay\"],[\"Bolivia\"],[\"Panama\"],[\"Brazil\"]],\"hovertemplate\":\"Country: %{customdata[0]}\\u003cbr\\u003eHappines: %{x}\\u003cbr\\u003eGNI per Capita (PPP): %{y}\",\"legendgroup\":\"South America\",\"marker\":{\"color\":\"#E8EAC8\",\"symbol\":\"circle\"},\"mode\":\"markers\",\"name\":\"South America\",\"orientation\":\"v\",\"showlegend\":false,\"x\":[5.697,6.436,6.086,3.597,7.167,6.444,6.125,6.293,6.253,6.028,5.425,4.707,4.534,5.86,6.105,5.89,5.743,5.779,6.321,6.3],\"xaxis\":\"x2\",\"y\":[11930.0,8200.0,22960.0,1770.0,18040.0,22750.0,14050.0,20060.0,7970.0,11350.0,15940.0,null,2410.0,5220.0,5850.0,9320.0,12210.0,8190.0,27640.0,14250.0],\"yaxis\":\"y2\",\"type\":\"scatter\"},{\"customdata\":[[\"Argentina\"],[\"Chile\"],[\"Uruguay\"],[\"Venezuela\"],[\"Bolivia\"],[\"Brazil\"],[\"Peru\"],[\"Paraguay\"],[\"Panama\"],[\"Nicaragua\"],[\"El Salvador\"],[\"Ecuador\"],[\"Dominican Republic\"],[\"Costa Rica\"],[\"Colombia\"],[\"Guatemala\"],[\"Guinea\"],[\"Jamaica\"],[\"Honduras\"],[\"Haiti\"]],\"hovertemplate\":\"Country: %{customdata[0]}\\u003cbr\\u003eHappines: %{x}\\u003cbr\\u003eGNI per Capita (PPP): %{y}\",\"legendgroup\":\"South America\",\"marker\":{\"color\":\"#E8EAC8\",\"symbol\":\"circle\"},\"mode\":\"markers\",\"name\":\"South America\",\"orientation\":\"v\",\"showlegend\":false,\"x\":[6.388,6.476,6.379,4.806,5.752,6.419,5.663,5.681,6.43,6.141,6.167,5.973,5.302,7.072,6.26,6.382,3.964,5.89,5.504,3.582],\"xaxis\":\"x\",\"y\":[17611.22,21972.28,19434.85,9069.7,6849.2,14068.05,12322.66,11719.96,20454.87,4789.84,6973.46,10141.15,15074.26,14789.93,12895.59,7377.92,2211.0,7931.52,4258.35,1664.89],\"yaxis\":\"y\",\"type\":\"scatter\"},{\"customdata\":[[\"Mexico\"],[\"Canada\"],[\"United States\"]],\"hovertemplate\":\"Country: %{customdata[0]}\\u003cbr\\u003eHappines: %{x}\\u003cbr\\u003eGNI per Capita (PPP): %{y}\",\"legendgroup\":\"North America\",\"marker\":{\"color\":\"#B47FE3\",\"symbol\":\"circle\"},\"mode\":\"markers\",\"name\":\"North America\",\"orientation\":\"v\",\"showlegend\":true,\"x\":[6.578000069,7.315999985,6.993000031],\"xaxis\":\"x4\",\"y\":[17830.0,43990.0,58340.0],\"yaxis\":\"y4\",\"type\":\"scatter\"},{\"customdata\":[[\"Canada\"],[\"United States\"],[\"Mexico\"]],\"hovertemplate\":\"Country: %{customdata[0]}\\u003cbr\\u003eHappines: %{x}\\u003cbr\\u003eGNI per Capita (PPP): %{y}\",\"legendgroup\":\"North America\",\"marker\":{\"color\":\"#B47FE3\",\"symbol\":\"circle\"},\"mode\":\"markers\",\"name\":\"North America\",\"orientation\":\"v\",\"showlegend\":false,\"x\":[7.427,7.119,7.187],\"xaxis\":\"x3\",\"y\":[45910.0,58970.0,18810.0],\"yaxis\":\"y3\",\"type\":\"scatter\"},{\"customdata\":[[\"United States\"],[\"Canada\"],[\"Mexico\"]],\"hovertemplate\":\"Country: %{customdata[0]}\\u003cbr\\u003eHappines: %{x}\\u003cbr\\u003eGNI per Capita (PPP): %{y}\",\"legendgroup\":\"North America\",\"marker\":{\"color\":\"#B47FE3\",\"symbol\":\"circle\"},\"mode\":\"markers\",\"name\":\"North America\",\"orientation\":\"v\",\"showlegend\":false,\"x\":[6.892,7.278,6.595],\"xaxis\":\"x2\",\"y\":[61020.0,48070.0,19300.0],\"yaxis\":\"y2\",\"type\":\"scatter\"},{\"customdata\":[[\"Canada\"],[\"Mexico\"],[\"United States\"]],\"hovertemplate\":\"Country: %{customdata[0]}\\u003cbr\\u003eHappines: %{x}\\u003cbr\\u003eGNI per Capita (PPP): %{y}\",\"legendgroup\":\"North America\",\"marker\":{\"color\":\"#B47FE3\",\"symbol\":\"circle\"},\"mode\":\"markers\",\"name\":\"North America\",\"orientation\":\"v\",\"showlegend\":false,\"x\":[7.328,6.488,6.886],\"xaxis\":\"x\",\"y\":[43602.25,17628.12,56140.23],\"yaxis\":\"y\",\"type\":\"scatter\"},{\"customdata\":[[\"New Zealand\"],[\"Australia\"]],\"hovertemplate\":\"Country: %{customdata[0]}\\u003cbr\\u003eHappines: %{x}\\u003cbr\\u003eGNI per Capita (PPP): %{y}\",\"legendgroup\":\"Australia\",\"marker\":{\"color\":\"#B2E4FA\",\"symbol\":\"circle\"},\"mode\":\"markers\",\"name\":\"Australia\",\"orientation\":\"v\",\"showlegend\":true,\"x\":[7.31400013,7.28399992],\"xaxis\":\"x4\",\"y\":[36210.0,45330.0],\"yaxis\":\"y4\",\"type\":\"scatter\"},{\"customdata\":[[\"Australia\"],[\"New Zealand\"]],\"hovertemplate\":\"Country: %{customdata[0]}\\u003cbr\\u003eHappines: %{x}\\u003cbr\\u003eGNI per Capita (PPP): %{y}\",\"legendgroup\":\"Australia\",\"marker\":{\"color\":\"#B2E4FA\",\"symbol\":\"circle\"},\"mode\":\"markers\",\"name\":\"Australia\",\"orientation\":\"v\",\"showlegend\":false,\"x\":[7.284,7.286],\"xaxis\":\"x3\",\"y\":[46230.0,38630.0],\"yaxis\":\"y3\",\"type\":\"scatter\"},{\"customdata\":[[\"Australia\"],[\"New Zealand\"]],\"hovertemplate\":\"Country: %{customdata[0]}\\u003cbr\\u003eHappines: %{x}\\u003cbr\\u003eGNI per Capita (PPP): %{y}\",\"legendgroup\":\"Australia\",\"marker\":{\"color\":\"#B2E4FA\",\"symbol\":\"circle\"},\"mode\":\"markers\",\"name\":\"Australia\",\"orientation\":\"v\",\"showlegend\":false,\"x\":[7.228,7.307],\"xaxis\":\"x2\",\"y\":[47580.0,39330.0],\"yaxis\":\"y2\",\"type\":\"scatter\"},{\"customdata\":[[\"Australia\"],[\"New Zealand\"]],\"hovertemplate\":\"Country: %{customdata[0]}\\u003cbr\\u003eHappines: %{x}\\u003cbr\\u003eGNI per Capita (PPP): %{y}\",\"legendgroup\":\"Australia\",\"marker\":{\"color\":\"#B2E4FA\",\"symbol\":\"circle\"},\"mode\":\"markers\",\"name\":\"Australia\",\"orientation\":\"v\",\"showlegend\":false,\"x\":[7.272,7.324],\"xaxis\":\"x\",\"y\":[44097.02,35107.5],\"yaxis\":\"y\",\"type\":\"scatter\"}],                        {\"template\":{\"data\":{\"histogram2dcontour\":[{\"type\":\"histogram2dcontour\",\"colorbar\":{\"outlinewidth\":0,\"ticks\":\"\"},\"colorscale\":[[0.0,\"#0d0887\"],[0.1111111111111111,\"#46039f\"],[0.2222222222222222,\"#7201a8\"],[0.3333333333333333,\"#9c179e\"],[0.4444444444444444,\"#bd3786\"],[0.5555555555555556,\"#d8576b\"],[0.6666666666666666,\"#ed7953\"],[0.7777777777777778,\"#fb9f3a\"],[0.8888888888888888,\"#fdca26\"],[1.0,\"#f0f921\"]]}],\"choropleth\":[{\"type\":\"choropleth\",\"colorbar\":{\"outlinewidth\":0,\"ticks\":\"\"}}],\"histogram2d\":[{\"type\":\"histogram2d\",\"colorbar\":{\"outlinewidth\":0,\"ticks\":\"\"},\"colorscale\":[[0.0,\"#0d0887\"],[0.1111111111111111,\"#46039f\"],[0.2222222222222222,\"#7201a8\"],[0.3333333333333333,\"#9c179e\"],[0.4444444444444444,\"#bd3786\"],[0.5555555555555556,\"#d8576b\"],[0.6666666666666666,\"#ed7953\"],[0.7777777777777778,\"#fb9f3a\"],[0.8888888888888888,\"#fdca26\"],[1.0,\"#f0f921\"]]}],\"heatmap\":[{\"type\":\"heatmap\",\"colorbar\":{\"outlinewidth\":0,\"ticks\":\"\"},\"colorscale\":[[0.0,\"#0d0887\"],[0.1111111111111111,\"#46039f\"],[0.2222222222222222,\"#7201a8\"],[0.3333333333333333,\"#9c179e\"],[0.4444444444444444,\"#bd3786\"],[0.5555555555555556,\"#d8576b\"],[0.6666666666666666,\"#ed7953\"],[0.7777777777777778,\"#fb9f3a\"],[0.8888888888888888,\"#fdca26\"],[1.0,\"#f0f921\"]]}],\"heatmapgl\":[{\"type\":\"heatmapgl\",\"colorbar\":{\"outlinewidth\":0,\"ticks\":\"\"},\"colorscale\":[[0.0,\"#0d0887\"],[0.1111111111111111,\"#46039f\"],[0.2222222222222222,\"#7201a8\"],[0.3333333333333333,\"#9c179e\"],[0.4444444444444444,\"#bd3786\"],[0.5555555555555556,\"#d8576b\"],[0.6666666666666666,\"#ed7953\"],[0.7777777777777778,\"#fb9f3a\"],[0.8888888888888888,\"#fdca26\"],[1.0,\"#f0f921\"]]}],\"contourcarpet\":[{\"type\":\"contourcarpet\",\"colorbar\":{\"outlinewidth\":0,\"ticks\":\"\"}}],\"contour\":[{\"type\":\"contour\",\"colorbar\":{\"outlinewidth\":0,\"ticks\":\"\"},\"colorscale\":[[0.0,\"#0d0887\"],[0.1111111111111111,\"#46039f\"],[0.2222222222222222,\"#7201a8\"],[0.3333333333333333,\"#9c179e\"],[0.4444444444444444,\"#bd3786\"],[0.5555555555555556,\"#d8576b\"],[0.6666666666666666,\"#ed7953\"],[0.7777777777777778,\"#fb9f3a\"],[0.8888888888888888,\"#fdca26\"],[1.0,\"#f0f921\"]]}],\"surface\":[{\"type\":\"surface\",\"colorbar\":{\"outlinewidth\":0,\"ticks\":\"\"},\"colorscale\":[[0.0,\"#0d0887\"],[0.1111111111111111,\"#46039f\"],[0.2222222222222222,\"#7201a8\"],[0.3333333333333333,\"#9c179e\"],[0.4444444444444444,\"#bd3786\"],[0.5555555555555556,\"#d8576b\"],[0.6666666666666666,\"#ed7953\"],[0.7777777777777778,\"#fb9f3a\"],[0.8888888888888888,\"#fdca26\"],[1.0,\"#f0f921\"]]}],\"mesh3d\":[{\"type\":\"mesh3d\",\"colorbar\":{\"outlinewidth\":0,\"ticks\":\"\"}}],\"scatter\":[{\"fillpattern\":{\"fillmode\":\"overlay\",\"size\":10,\"solidity\":0.2},\"type\":\"scatter\"}],\"parcoords\":[{\"type\":\"parcoords\",\"line\":{\"colorbar\":{\"outlinewidth\":0,\"ticks\":\"\"}}}],\"scatterpolargl\":[{\"type\":\"scatterpolargl\",\"marker\":{\"colorbar\":{\"outlinewidth\":0,\"ticks\":\"\"}}}],\"bar\":[{\"error_x\":{\"color\":\"#2a3f5f\"},\"error_y\":{\"color\":\"#2a3f5f\"},\"marker\":{\"line\":{\"color\":\"#E5ECF6\",\"width\":0.5},\"pattern\":{\"fillmode\":\"overlay\",\"size\":10,\"solidity\":0.2}},\"type\":\"bar\"}],\"scattergeo\":[{\"type\":\"scattergeo\",\"marker\":{\"colorbar\":{\"outlinewidth\":0,\"ticks\":\"\"}}}],\"scatterpolar\":[{\"type\":\"scatterpolar\",\"marker\":{\"colorbar\":{\"outlinewidth\":0,\"ticks\":\"\"}}}],\"histogram\":[{\"marker\":{\"pattern\":{\"fillmode\":\"overlay\",\"size\":10,\"solidity\":0.2}},\"type\":\"histogram\"}],\"scattergl\":[{\"type\":\"scattergl\",\"marker\":{\"colorbar\":{\"outlinewidth\":0,\"ticks\":\"\"}}}],\"scatter3d\":[{\"type\":\"scatter3d\",\"line\":{\"colorbar\":{\"outlinewidth\":0,\"ticks\":\"\"}},\"marker\":{\"colorbar\":{\"outlinewidth\":0,\"ticks\":\"\"}}}],\"scattermapbox\":[{\"type\":\"scattermapbox\",\"marker\":{\"colorbar\":{\"outlinewidth\":0,\"ticks\":\"\"}}}],\"scatterternary\":[{\"type\":\"scatterternary\",\"marker\":{\"colorbar\":{\"outlinewidth\":0,\"ticks\":\"\"}}}],\"scattercarpet\":[{\"type\":\"scattercarpet\",\"marker\":{\"colorbar\":{\"outlinewidth\":0,\"ticks\":\"\"}}}],\"carpet\":[{\"aaxis\":{\"endlinecolor\":\"#2a3f5f\",\"gridcolor\":\"white\",\"linecolor\":\"white\",\"minorgridcolor\":\"white\",\"startlinecolor\":\"#2a3f5f\"},\"baxis\":{\"endlinecolor\":\"#2a3f5f\",\"gridcolor\":\"white\",\"linecolor\":\"white\",\"minorgridcolor\":\"white\",\"startlinecolor\":\"#2a3f5f\"},\"type\":\"carpet\"}],\"table\":[{\"cells\":{\"fill\":{\"color\":\"#EBF0F8\"},\"line\":{\"color\":\"white\"}},\"header\":{\"fill\":{\"color\":\"#C8D4E3\"},\"line\":{\"color\":\"white\"}},\"type\":\"table\"}],\"barpolar\":[{\"marker\":{\"line\":{\"color\":\"#E5ECF6\",\"width\":0.5},\"pattern\":{\"fillmode\":\"overlay\",\"size\":10,\"solidity\":0.2}},\"type\":\"barpolar\"}],\"pie\":[{\"automargin\":true,\"type\":\"pie\"}]},\"layout\":{\"autotypenumbers\":\"strict\",\"colorway\":[\"#636efa\",\"#EF553B\",\"#00cc96\",\"#ab63fa\",\"#FFA15A\",\"#19d3f3\",\"#FF6692\",\"#B6E880\",\"#FF97FF\",\"#FECB52\"],\"font\":{\"color\":\"#2a3f5f\"},\"hovermode\":\"closest\",\"hoverlabel\":{\"align\":\"left\"},\"paper_bgcolor\":\"white\",\"plot_bgcolor\":\"#E5ECF6\",\"polar\":{\"bgcolor\":\"#E5ECF6\",\"angularaxis\":{\"gridcolor\":\"white\",\"linecolor\":\"white\",\"ticks\":\"\"},\"radialaxis\":{\"gridcolor\":\"white\",\"linecolor\":\"white\",\"ticks\":\"\"}},\"ternary\":{\"bgcolor\":\"#E5ECF6\",\"aaxis\":{\"gridcolor\":\"white\",\"linecolor\":\"white\",\"ticks\":\"\"},\"baxis\":{\"gridcolor\":\"white\",\"linecolor\":\"white\",\"ticks\":\"\"},\"caxis\":{\"gridcolor\":\"white\",\"linecolor\":\"white\",\"ticks\":\"\"}},\"coloraxis\":{\"colorbar\":{\"outlinewidth\":0,\"ticks\":\"\"}},\"colorscale\":{\"sequential\":[[0.0,\"#0d0887\"],[0.1111111111111111,\"#46039f\"],[0.2222222222222222,\"#7201a8\"],[0.3333333333333333,\"#9c179e\"],[0.4444444444444444,\"#bd3786\"],[0.5555555555555556,\"#d8576b\"],[0.6666666666666666,\"#ed7953\"],[0.7777777777777778,\"#fb9f3a\"],[0.8888888888888888,\"#fdca26\"],[1.0,\"#f0f921\"]],\"sequentialminus\":[[0.0,\"#0d0887\"],[0.1111111111111111,\"#46039f\"],[0.2222222222222222,\"#7201a8\"],[0.3333333333333333,\"#9c179e\"],[0.4444444444444444,\"#bd3786\"],[0.5555555555555556,\"#d8576b\"],[0.6666666666666666,\"#ed7953\"],[0.7777777777777778,\"#fb9f3a\"],[0.8888888888888888,\"#fdca26\"],[1.0,\"#f0f921\"]],\"diverging\":[[0,\"#8e0152\"],[0.1,\"#c51b7d\"],[0.2,\"#de77ae\"],[0.3,\"#f1b6da\"],[0.4,\"#fde0ef\"],[0.5,\"#f7f7f7\"],[0.6,\"#e6f5d0\"],[0.7,\"#b8e186\"],[0.8,\"#7fbc41\"],[0.9,\"#4d9221\"],[1,\"#276419\"]]},\"xaxis\":{\"gridcolor\":\"white\",\"linecolor\":\"white\",\"ticks\":\"\",\"title\":{\"standoff\":15},\"zerolinecolor\":\"white\",\"automargin\":true,\"zerolinewidth\":2},\"yaxis\":{\"gridcolor\":\"white\",\"linecolor\":\"white\",\"ticks\":\"\",\"title\":{\"standoff\":15},\"zerolinecolor\":\"white\",\"automargin\":true,\"zerolinewidth\":2},\"scene\":{\"xaxis\":{\"backgroundcolor\":\"#E5ECF6\",\"gridcolor\":\"white\",\"linecolor\":\"white\",\"showbackground\":true,\"ticks\":\"\",\"zerolinecolor\":\"white\",\"gridwidth\":2},\"yaxis\":{\"backgroundcolor\":\"#E5ECF6\",\"gridcolor\":\"white\",\"linecolor\":\"white\",\"showbackground\":true,\"ticks\":\"\",\"zerolinecolor\":\"white\",\"gridwidth\":2},\"zaxis\":{\"backgroundcolor\":\"#E5ECF6\",\"gridcolor\":\"white\",\"linecolor\":\"white\",\"showbackground\":true,\"ticks\":\"\",\"zerolinecolor\":\"white\",\"gridwidth\":2}},\"shapedefaults\":{\"line\":{\"color\":\"#2a3f5f\"}},\"annotationdefaults\":{\"arrowcolor\":\"#2a3f5f\",\"arrowhead\":0,\"arrowwidth\":1},\"geo\":{\"bgcolor\":\"white\",\"landcolor\":\"#E5ECF6\",\"subunitcolor\":\"white\",\"showland\":true,\"showlakes\":true,\"lakecolor\":\"white\"},\"title\":{\"x\":0.05},\"mapbox\":{\"style\":\"light\"}}},\"xaxis\":{\"anchor\":\"y\",\"domain\":[0.0,0.98],\"title\":{\"text\":\"Happiness score\"}},\"yaxis\":{\"anchor\":\"x\",\"domain\":[0.0,0.2275],\"title\":{\"text\":\"GNI per Capita (PPP)\"}},\"xaxis2\":{\"anchor\":\"y2\",\"domain\":[0.0,0.98],\"matches\":\"x\",\"showticklabels\":false},\"yaxis2\":{\"anchor\":\"x2\",\"domain\":[0.2575,0.485],\"matches\":\"y\",\"title\":{\"text\":\"GNI_per_capita_PPP\"}},\"xaxis3\":{\"anchor\":\"y3\",\"domain\":[0.0,0.98],\"matches\":\"x\",\"showticklabels\":false},\"yaxis3\":{\"anchor\":\"x3\",\"domain\":[0.515,0.7425],\"matches\":\"y\",\"title\":{\"text\":\"GNI_per_capita_PPP\"}},\"xaxis4\":{\"anchor\":\"y4\",\"domain\":[0.0,0.98],\"matches\":\"x\",\"showticklabels\":false},\"yaxis4\":{\"anchor\":\"x4\",\"domain\":[0.7725,1.0],\"matches\":\"y\",\"title\":{\"text\":\"GNI_per_capita_PPP\"}},\"annotations\":[{\"font\":{},\"showarrow\":false,\"text\":\"Year=2018\",\"textangle\":90,\"x\":0.98,\"xanchor\":\"left\",\"xref\":\"paper\",\"y\":0.11375,\"yanchor\":\"middle\",\"yref\":\"paper\"},{\"font\":{},\"showarrow\":false,\"text\":\"Year=2017\",\"textangle\":90,\"x\":0.98,\"xanchor\":\"left\",\"xref\":\"paper\",\"y\":0.37124999999999997,\"yanchor\":\"middle\",\"yref\":\"paper\"},{\"font\":{},\"showarrow\":false,\"text\":\"Year=2016\",\"textangle\":90,\"x\":0.98,\"xanchor\":\"left\",\"xref\":\"paper\",\"y\":0.62875,\"yanchor\":\"middle\",\"yref\":\"paper\"},{\"font\":{},\"showarrow\":false,\"text\":\"Year=2015\",\"textangle\":90,\"x\":0.98,\"xanchor\":\"left\",\"xref\":\"paper\",\"y\":0.88625,\"yanchor\":\"middle\",\"yref\":\"paper\"}],\"legend\":{\"title\":{\"text\":\"continent\"},\"tracegroupgap\":0},\"margin\":{\"t\":60},\"title\":{\"text\":\"Scatter Plot of GNI per Capita (PPP) vs Happiness by Year\"},\"height\":1000,\"width\":800,\"plot_bgcolor\":\"rgb(240, 240, 240, 240)\"},                        {\"responsive\": true}                    ).then(function(){\n",
       "                            \n",
       "var gd = document.getElementById('0c9aea38-b6ce-4cf0-b562-f3669a914a38');\n",
       "var x = new MutationObserver(function (mutations, observer) {{\n",
       "        var display = window.getComputedStyle(gd).display;\n",
       "        if (!display || display === 'none') {{\n",
       "            console.log([gd, 'removed!']);\n",
       "            Plotly.purge(gd);\n",
       "            observer.disconnect();\n",
       "        }}\n",
       "}});\n",
       "\n",
       "// Listen for the removal of the full notebook cells\n",
       "var notebookContainer = gd.closest('#notebook-container');\n",
       "if (notebookContainer) {{\n",
       "    x.observe(notebookContainer, {childList: true});\n",
       "}}\n",
       "\n",
       "// Listen for the clearing of the current output cell\n",
       "var outputEl = gd.closest('.output');\n",
       "if (outputEl) {{\n",
       "    x.observe(outputEl, {childList: true});\n",
       "}}\n",
       "\n",
       "                        })                };                });            </script>        </div>"
      ]
     },
     "metadata": {},
     "output_type": "display_data"
    }
   ],
   "source": [
    "### Does a good education give government trust?\n",
    "\n",
    "# This 3d Scatter Plot is multivariate and shows on the x-axis the 'Education Index', on the y-axis the 'Government Trust' and on the z-axis the 'CPI Score'. CPI stands for 'Corruption Perception Index', the lower the CPI index, the more the people believe there is corruption in their country. The size of the plot-points shows the GDP per capita. \n",
    "\n",
    "# The 3D scatter plot reveals interesting insights about the correlation between the Corruption Perception Index (CPI) score and other variables across countries. A positive correlation between the CPI score and variables such as Education Index and Government trust suggests that countries with higher levels of corruption tend to exhibit lower values in education, government trust, and economic prosperity. Conversely, a negative correlation indicates that countries with lower corruption levels tend to have higher education indices and greater levels of government trust. This visualization highlights the importance of addressing corruption to foster positive development in education and trust within countries. \n",
    "\n",
    "# The Education Index plays a significant role in shaping the relationships between various variables across countries and continents. A positive correlation between the Education Index and variables such as Government trust, GDP per capita, and possibly the Corruption Perception Index suggests that countries with higher education indices tend to exhibit greater levels of government trust and economic prosperity while combating corruption. Furthermore, the Education Index may influence the disparities observed between countries and continents. Nations with higher education indices are more likely to invest in quality education, leading to better governance, higher economic output, and potentially lower corruption levels. Thus, enhancing education systems becomes vital for promoting positive development and reducing inequality among countries and continents.\n",
    "\n",
    "# Overall it gives the visualisation that countries with a higher inducation index tend to have more goverment trust and a higher CPI score. This is probaply because people that live in a country that is able to give a good education tend to trust the goverment more than people that don't recieved good education. \n",
    "data = df.sort_values('Year', ascending=True)\n",
    "\n",
    "\n",
    "fig = px.scatter(data, x='happiness_score', y='GNI_per_capita_PPP', color='continent',\n",
    "                 color_discrete_map=continent_colors, hover_data=['Country'], facet_row='Year')\n",
    "\n",
    "\n",
    "fig.update_layout(\n",
    "    title='Scatter Plot of GNI per Capita (PPP) vs Happiness by Year',\n",
    "    xaxis_title='Happiness score',\n",
    "    yaxis_title='GNI per Capita (PPP)',\n",
    "    height=1000,  \n",
    "    width = 800,\n",
    "    plot_bgcolor='rgb(240, 240, 240, 240)'\n",
    ")\n",
    "\n",
    "\n",
    "fig.update_traces(hovertemplate='Country: %{customdata[0]}<br>Happines: %{x}<br>GNI per Capita (PPP): %{y}')\n",
    "\n",
    "\n",
    "fig.show()"
   ]
  },
  {
   "cell_type": "markdown",
   "id": "602f077d",
   "metadata": {},
   "source": [
    "### GNI and happiness\n",
    "While these scatterplots show that having a 'richer' population (measured with GNI_per_capita adjusted for PPP) is generally related with having a happier population. These scatterplots also show that countries with a poorer population can still have happier population. This is exemplified by the fact that a country like Mexico has a much poorer population than a country like Singapore (which has by far the richest population) while their happiness scores are pretty much equal to each other. Furthermore, these scatterplots show that most countries move stronger along the x-axis than along the y-axis, this means that countries can become happier or unhappier regardless of the economic wealth of their citizens. Kuwait, however shows the exact opposite side of this phenomenon, they show great growth in their GNI per capita while their happiness scores do not increase or decrease drastically."
   ]
  },
  {
   "cell_type": "code",
   "execution_count": 51,
   "id": "bba4bf04",
   "metadata": {},
   "outputs": [
    {
     "data": {
      "image/png": "[encoded data removed]",
      "text/plain": [
       "<Figure size 864x576 with 1 Axes>"
      ]
     },
     "metadata": {},
     "output_type": "display_data"
    }
   ],
   "source": [
    "\n",
    "continent_scores = defaultdict(list)\n",
    "\n",
    "with open('full_data.csv', 'r') as file:\n",
    "    reader = csv.DictReader(file)\n",
    "    for row in reader:\n",
    "        continent = row['continent']\n",
    "        country = row['Country']\n",
    "        year = row['Year']\n",
    "        happiness_score = float(row['happiness_score'])\n",
    "        continent_scores[continent].append((country, year, happiness_score))\n",
    "\n",
    "\n",
    "sns.set(style=\"whitegrid\")\n",
    "plt.figure(figsize=(12, 8))\n",
    "\n",
    "\n",
    "palette = sns.color_palette(\"deep\", len(continent_scores))\n",
    "\n",
    "\n",
    "country_heights = []\n",
    "\n",
    "for continent, scores in continent_scores.items():\n",
    "    heights = [score for _, _, score in scores]\n",
    "    country_heights.append(heights)\n",
    "\n",
    "\n",
    "bars = plt.hist(country_heights, bins=20, stacked=True, label=list(continent_scores.keys()), color=palette, alpha=0.8, linewidth=0)\n",
    "\n",
    "\n",
    "legend_patches = [mpatches.Patch(color=palette[i], label=continent) for i, continent in enumerate(continent_scores.keys())]\n",
    "plt.legend(handles=legend_patches, loc='upper right', fontsize='small')\n",
    "\n",
    "\n",
    "fig = plt.gcf()\n",
    "ax = plt.gca()\n",
    "\n",
    "def hover(event):\n",
    "    for container in bars:\n",
    "        for rect in container:\n",
    "            cont, ind = rect.contains(event)\n",
    "            if cont:\n",
    "                heights = [height.get_height() for height in container]\n",
    "                countries = [country for country in continent_scores.keys()]\n",
    "                bins = bars[1]\n",
    "                bin_width = np.diff(bins)[0]\n",
    "                index = ind[\"ind\"][0]\n",
    "                x = bars[1][index] + bin_width / 2\n",
    "                y = heights[index]\n",
    "                plt.annotate(f\"{countries[index]}: {y:.2f}\", xy=(x, y), xytext=(x, y + 0.2),\n",
    "                             ha='center', va='bottom', color='black', alpha=0.7,\n",
    "                             arrowprops=dict(arrowstyle='-', lw=0.5, color='black'))\n",
    "                fig.canvas.draw_idle()\n",
    "\n",
    "plt.xlabel(\"Happiness Score\")\n",
    "plt.ylabel(\"Count\")\n",
    "plt.title(\"Stacked Histogram of Happiness Scores by Continent\")\n",
    "plt.tight_layout()\n",
    "sns.despine()\n",
    "\n",
    "plt.show()\n"
   ]
  },
  {
   "cell_type": "markdown",
   "id": "c142e5f3",
   "metadata": {},
   "source": [
    "### happiness score by continent\n",
    "\n",
    "The graph above shows us the amount of countries that are within a certain rounded score of happiness, the happiness is rounded to the nearest integer. As we can see African countries are the lowest on the scale of happiness while western countries are near the top of the distribution. Interesting to note is that while South american countries are poorer and less developed compared to western or Asian countries, their happiness is above what would be expected of their demographic metrics. Further relations in the world happiness dataset need to be drawn to conclude what causes such happiness has outside of income or education. The factors for happiness in these countries will be analyzed later in this notebook to gain an insight into the true factors of happiness."
   ]
  },
  {
   "cell_type": "code",
   "execution_count": 52,
   "id": "8b025d33",
   "metadata": {},
   "outputs": [
    {
     "data": {
      "application/vnd.plotly.v1+json": {
       "config": {
        "plotlyServerURL": "https://plot.ly"
       },
       "data": [
        {
         "dimensions": [
          {
           "label": "Continent",
           "values": [
            "Africa",
            "Africa",
            "Africa",
            "Africa",
            "Africa",
            "Africa",
            "Africa",
            "Africa",
            "Africa",
            "Africa",
            "Africa",
            "Africa",
            "Africa",
            "Africa",
            "Africa",
            "Africa",
            "Africa",
            "Africa",
            "Africa",
            "Africa",
            "Africa",
            "Africa",
            "Africa",
            "Africa",
            "Africa",
            "Africa",
            "South America",
            "South America",
            "Africa",
            "Africa",
            "Africa",
            "Africa",
            "Africa",
            "South America",
            "Africa",
            "Africa",
            "Africa",
            "Africa",
            "Africa",
            "Africa",
            "Africa",
            "Africa",
            "Africa",
            "Africa",
            "Africa",
            "South America",
            "Africa",
            "Africa",
            "Africa",
            "Africa",
            "Africa",
            "Africa",
            "Africa",
            "Africa",
            "South America",
            "Africa",
            "Africa",
            "Africa",
            "Africa",
            "Africa",
            "Africa",
            "Africa",
            "Asia",
            "Asia",
            "Africa",
            "Africa",
            "Asia",
            "Africa",
            "Africa",
            "Africa",
            "Africa",
            "Asia",
            "Asia",
            "Africa",
            "Africa",
            "Africa",
            "Africa",
            "Africa",
            "Africa",
            "Asia",
            "Asia",
            "Asia",
            "Africa",
            "Africa",
            "Africa",
            "Africa",
            "Africa",
            "Asia",
            "South America",
            "Africa",
            "Africa",
            "Africa",
            "Africa",
            "Africa",
            "Africa",
            "Africa",
            "Asia",
            "Asia",
            "South America",
            "Africa",
            "Africa",
            "Africa",
            "Africa",
            "Africa",
            "Africa",
            "Asia",
            "Asia",
            "Africa",
            "Africa",
            "Africa",
            "Asia",
            "South America",
            "Africa",
            "Africa",
            "Africa",
            "Africa",
            "Africa",
            "Asia",
            "Africa",
            "Africa",
            "Africa",
            "Africa",
            "Asia",
            "Africa",
            "Africa",
            "Asia",
            "Asia",
            "Asia",
            "Asia",
            "Africa",
            "Africa",
            "Asia",
            "Asia",
            "Europe",
            "Asia",
            "Asia",
            "Asia",
            "Europe",
            "Asia",
            "Asia",
            "Asia",
            "Asia",
            "Asia",
            "Europe",
            "Asia",
            "Asia",
            "Asia",
            "Africa",
            "Asia",
            "Asia",
            "Europe",
            "Africa",
            "Asia",
            "Africa",
            "Africa",
            "Asia",
            "Asia",
            "Asia",
            "Asia",
            "Asia",
            "Asia",
            "Asia",
            "Asia",
            "Asia",
            "Asia",
            "South America",
            "South America",
            "South America",
            "Asia",
            "Asia",
            "Asia",
            "Asia",
            "Asia",
            "Asia",
            "Asia",
            "Asia",
            "Asia",
            "Asia",
            "South America",
            "Europe",
            "Asia",
            "Asia",
            "Asia",
            "Asia",
            "Asia",
            "Asia",
            "Asia",
            "South America",
            "Asia",
            "Asia",
            "Asia",
            "Asia",
            "Asia",
            "South America",
            "Africa",
            "Asia",
            "South America",
            "South America",
            "Europe",
            "Europe",
            "Asia",
            "Asia",
            "South America",
            "Europe",
            "Asia",
            "Asia",
            "Asia",
            "Asia",
            "South America",
            "Europe",
            "Asia",
            "Asia",
            "Asia",
            "South America",
            "Europe",
            "Europe",
            "Africa",
            "Europe",
            "Europe",
            "Asia",
            "South America",
            "South America",
            "South America",
            "South America",
            "Asia",
            "South America",
            "South America",
            "South America",
            "South America",
            "South America",
            "Asia",
            "Asia",
            "South America",
            "South America",
            "South America",
            "South America",
            "South America",
            "South America",
            "Asia",
            "Asia",
            "South America",
            "South America",
            "South America",
            "South America",
            "South America",
            "South America",
            "Europe",
            "Africa",
            "Europe",
            "Europe",
            "Africa",
            "South America",
            "Europe",
            "Europe",
            "Africa",
            "South America",
            "South America",
            "Europe",
            "Africa",
            "South America",
            "North America",
            "Africa",
            "Asia",
            "Asia",
            "Europe",
            "Europe",
            "Europe",
            "Europe",
            "Asia",
            "Europe",
            "Europe",
            "Africa",
            "Asia",
            "Europe",
            "Europe",
            "Africa",
            "Asia",
            "Europe",
            "Europe",
            "Europe",
            "Asia",
            "Asia",
            "Asia",
            "Asia",
            "Asia",
            "Asia",
            "Asia",
            "Asia",
            "South America",
            "South America",
            "North America",
            "South America",
            "North America",
            "North America",
            "Asia",
            "Asia",
            "Africa",
            "Asia",
            "Asia",
            "Africa",
            "Africa",
            "Africa",
            "Africa",
            "Africa",
            "Asia",
            "Asia",
            "Asia",
            "Europe",
            "Europe",
            "Europe",
            "Africa",
            "Asia",
            "Asia",
            "Asia",
            "Europe",
            "Europe",
            "Europe",
            "Africa",
            "Asia",
            "Asia",
            "Asia",
            "Europe",
            "Europe",
            "Africa",
            "Africa",
            "Asia",
            "Asia",
            "Asia",
            "Europe",
            "Europe",
            "Europe",
            "Europe",
            "Europe",
            "Europe",
            "Europe",
            "Asia",
            "Europe",
            "Europe",
            "Asia",
            "Asia",
            "Europe",
            "Asia",
            "Europe",
            "Europe",
            "Asia",
            "Asia",
            "Asia",
            "Africa",
            "Asia",
            "South America",
            "South America",
            "South America",
            "South America",
            "Africa",
            "Asia",
            "South America",
            "South America",
            "South America",
            "South America",
            "Asia",
            "South America",
            "South America",
            "South America",
            "Europe",
            "Asia",
            "South America",
            "South America",
            "South America",
            "South America",
            "South America",
            "South America",
            "Asia",
            "South America",
            "Europe",
            "Europe",
            "Europe",
            "Asia",
            "Europe",
            "Europe",
            "Europe",
            "South America",
            "South America",
            "South America",
            "South America",
            "Europe",
            "Europe",
            "Europe",
            "Europe",
            "Asia",
            "South America",
            "South America",
            "Europe",
            "Europe",
            "Europe",
            "Europe",
            "Asia",
            "Europe",
            "Asia",
            "Europe",
            "Asia",
            "Europe",
            "Europe",
            "Europe",
            "Asia",
            "Europe",
            "Europe",
            "Europe",
            "Asia",
            "Asia",
            "Asia",
            "Asia",
            "South America",
            "South America",
            "South America",
            "South America",
            "South America",
            "South America",
            "South America",
            "South America",
            "South America",
            "Europe",
            "Europe",
            "Europe",
            "Europe",
            "Europe",
            "Europe",
            "Europe",
            "Europe",
            "Europe",
            "Europe",
            "Europe",
            "North America",
            "Europe",
            "North America",
            "Europe",
            "Europe",
            "Europe",
            "Europe",
            "Europe",
            "North America",
            "Asia",
            "Asia",
            "Asia",
            "North America",
            "Asia",
            "Europe",
            "Europe",
            "Europe",
            "Europe",
            "Europe",
            "Europe",
            "Europe",
            "Europe",
            "Europe",
            "Europe",
            "Asia",
            "Europe",
            "Europe",
            "Europe",
            "Europe",
            "Europe",
            "Europe",
            "Europe",
            "Europe",
            "Asia",
            "Europe",
            "Asia",
            "Europe",
            "Asia",
            "Europe",
            "Asia",
            "Europe",
            "Asia",
            "Asia",
            "Asia",
            "Europe",
            "Australia",
            "Asia",
            "Australia",
            "Asia",
            "Europe",
            "Australia",
            "Asia",
            "Europe",
            "Australia",
            "North America",
            "Europe",
            "Australia",
            "North America",
            "Europe",
            "Australia",
            "North America",
            "Europe",
            "Australia",
            "North America",
            "Europe",
            "Europe",
            "Europe",
            "Europe",
            "Australia",
            "Europe",
            "Europe",
            "Europe",
            "Europe",
            "Europe",
            "Europe",
            "Europe",
            "Europe",
            "Europe",
            "Europe",
            "Europe",
            "Europe",
            "Europe",
            "Europe",
            "Europe",
            "Europe",
            "Europe",
            "Asia",
            "Asia",
            "Europe",
            "Europe",
            "Europe",
            "Europe",
            "Europe",
            "Europe",
            "Europe",
            "Europe",
            "Europe"
           ]
          },
          {
           "label": "Year",
           "values": [
            2015,
            2016,
            2017,
            2017,
            2018,
            2015,
            2015,
            2016,
            2016,
            2017,
            2018,
            2018,
            2015,
            2015,
            2016,
            2016,
            2016,
            2018,
            2015,
            2015,
            2015,
            2015,
            2015,
            2015,
            2015,
            2015,
            2015,
            2015,
            2016,
            2016,
            2016,
            2016,
            2016,
            2016,
            2017,
            2017,
            2017,
            2017,
            2017,
            2018,
            2018,
            2018,
            2018,
            2018,
            2018,
            2018,
            2015,
            2015,
            2016,
            2016,
            2017,
            2017,
            2017,
            2017,
            2017,
            2018,
            2015,
            2015,
            2016,
            2017,
            2017,
            2017,
            2017,
            2017,
            2018,
            2018,
            2018,
            2015,
            2015,
            2015,
            2015,
            2015,
            2015,
            2016,
            2016,
            2016,
            2016,
            2016,
            2016,
            2016,
            2016,
            2016,
            2017,
            2017,
            2017,
            2017,
            2017,
            2017,
            2017,
            2018,
            2018,
            2018,
            2018,
            2018,
            2018,
            2018,
            2018,
            2018,
            2018,
            2015,
            2015,
            2016,
            2016,
            2015,
            2015,
            2015,
            2015,
            2016,
            2016,
            2016,
            2016,
            2016,
            2017,
            2017,
            2017,
            2018,
            2018,
            2018,
            2015,
            2016,
            2017,
            2017,
            2017,
            2018,
            2018,
            2017,
            2015,
            2016,
            2018,
            2018,
            2017,
            2015,
            2015,
            2015,
            2016,
            2017,
            2017,
            2017,
            2018,
            2018,
            2018,
            2018,
            2018,
            2018,
            2015,
            2015,
            2015,
            2016,
            2016,
            2016,
            2016,
            2017,
            2017,
            2018,
            2018,
            2018,
            2015,
            2015,
            2015,
            2015,
            2015,
            2015,
            2015,
            2015,
            2015,
            2015,
            2015,
            2015,
            2016,
            2016,
            2016,
            2016,
            2016,
            2016,
            2016,
            2016,
            2016,
            2016,
            2016,
            2016,
            2017,
            2017,
            2017,
            2017,
            2017,
            2017,
            2017,
            2017,
            2018,
            2018,
            2018,
            2018,
            2018,
            2018,
            2015,
            2015,
            2015,
            2015,
            2015,
            2015,
            2016,
            2016,
            2016,
            2016,
            2017,
            2017,
            2017,
            2017,
            2017,
            2017,
            2018,
            2018,
            2018,
            2018,
            2018,
            2018,
            2016,
            2016,
            2017,
            2015,
            2015,
            2015,
            2015,
            2015,
            2016,
            2016,
            2016,
            2016,
            2016,
            2016,
            2017,
            2017,
            2017,
            2017,
            2017,
            2017,
            2017,
            2017,
            2018,
            2018,
            2018,
            2018,
            2018,
            2018,
            2018,
            2018,
            2018,
            2015,
            2015,
            2015,
            2016,
            2016,
            2016,
            2016,
            2017,
            2017,
            2017,
            2017,
            2018,
            2018,
            2018,
            2015,
            2015,
            2015,
            2015,
            2015,
            2015,
            2015,
            2016,
            2016,
            2016,
            2017,
            2017,
            2017,
            2017,
            2018,
            2018,
            2018,
            2018,
            2017,
            2015,
            2016,
            2017,
            2018,
            2015,
            2016,
            2017,
            2018,
            2016,
            2015,
            2015,
            2016,
            2016,
            2017,
            2015,
            2016,
            2017,
            2017,
            2018,
            2015,
            2015,
            2016,
            2017,
            2018,
            2015,
            2015,
            2015,
            2015,
            2015,
            2015,
            2016,
            2016,
            2016,
            2016,
            2016,
            2016,
            2016,
            2017,
            2017,
            2017,
            2017,
            2017,
            2017,
            2018,
            2018,
            2018,
            2018,
            2018,
            2018,
            2018,
            2018,
            2018,
            2015,
            2015,
            2015,
            2016,
            2016,
            2016,
            2017,
            2017,
            2017,
            2018,
            2018,
            2016,
            2015,
            2016,
            2017,
            2015,
            2015,
            2015,
            2015,
            2015,
            2015,
            2016,
            2016,
            2016,
            2016,
            2016,
            2016,
            2017,
            2017,
            2017,
            2017,
            2017,
            2018,
            2018,
            2018,
            2018,
            2018,
            2018,
            2018,
            2015,
            2015,
            2015,
            2015,
            2015,
            2016,
            2016,
            2016,
            2016,
            2017,
            2017,
            2017,
            2017,
            2017,
            2017,
            2017,
            2017,
            2018,
            2018,
            2018,
            2018,
            2018,
            2018,
            2018,
            2015,
            2015,
            2016,
            2016,
            2017,
            2017,
            2017,
            2017,
            2018,
            2018,
            2018,
            2018,
            2015,
            2016,
            2017,
            2018,
            2015,
            2015,
            2016,
            2016,
            2017,
            2018,
            2015,
            2016,
            2016,
            2018,
            2015,
            2015,
            2015,
            2015,
            2015,
            2016,
            2016,
            2016,
            2017,
            2018,
            2015,
            2015,
            2016,
            2016,
            2016,
            2017,
            2017,
            2017,
            2018,
            2015,
            2016,
            2017,
            2017,
            2018,
            2018,
            2015,
            2016,
            2017,
            2015,
            2016,
            2017,
            2018,
            2018,
            2016,
            2018,
            2015,
            2015,
            2016,
            2016,
            2017,
            2017,
            2018,
            2018,
            2015,
            2015,
            2016,
            2016,
            2017,
            2017,
            2018,
            2018,
            2017,
            2018,
            2015,
            2015,
            2015,
            2016,
            2016,
            2017,
            2017,
            2017,
            2018,
            2018,
            2018,
            2015,
            2015,
            2015,
            2016,
            2016,
            2016,
            2017,
            2017,
            2017,
            2018,
            2018,
            2018,
            2018,
            2018,
            2018,
            2015,
            2016,
            2016,
            2016,
            2017,
            2017,
            2017,
            2018,
            2018,
            2018,
            2015,
            2015,
            2017,
            2017,
            2018,
            2016,
            2017,
            2015,
            2016,
            2015,
            2017,
            2018,
            2016,
            2015,
            2016,
            2016,
            2017,
            2018
           ]
          },
          {
           "label": "Education Index",
           "values": [
            0.3,
            0.3,
            0.3,
            0.4,
            0.3,
            0.4,
            0.5,
            0.4,
            0.5,
            0.5,
            0.4,
            0.5,
            0.5,
            0.5,
            0.5,
            0.5,
            0.6,
            0.5,
            0.2,
            0.3,
            0.3,
            0.5,
            0.5,
            0.5,
            0.5,
            0.6,
            0.4,
            0.4,
            0.2,
            0.3,
            0.3,
            0.5,
            0.6,
            0.4,
            0.3,
            0.5,
            0.6,
            0.6,
            0.6,
            0.3,
            0.3,
            0.3,
            0.5,
            0.6,
            0.6,
            0.4,
            0.6,
            0.6,
            0.6,
            0.6,
            0.2,
            0.3,
            0.5,
            0.6,
            0.4,
            0.6,
            0.5,
            0.5,
            0.5,
            0.5,
            0.5,
            0.5,
            0.4,
            0.4,
            0.4,
            0.4,
            0.4,
            0.4,
            0.4,
            0.5,
            0.6,
            0.4,
            0.4,
            0.4,
            0.4,
            0.5,
            0.5,
            0.5,
            0.6,
            0.4,
            0.4,
            0.5,
            0.4,
            0.4,
            0.5,
            0.5,
            0.6,
            0.5,
            0.5,
            0.4,
            0.4,
            0.5,
            0.5,
            0.5,
            0.6,
            0.6,
            0.4,
            0.5,
            0.5,
            0.6,
            0.7,
            0.6,
            0.7,
            0.4,
            0.6,
            0.4,
            0.5,
            0.4,
            0.5,
            0.6,
            0.4,
            0.4,
            0.4,
            0.6,
            0.6,
            0.4,
            0.6,
            0.4,
            0.7,
            0.7,
            0.6,
            0.7,
            0.6,
            0.7,
            0.7,
            0.4,
            0.6,
            0.6,
            0.6,
            0.5,
            0.7,
            0.5,
            0.6,
            0.8,
            0.5,
            0.5,
            0.6,
            0.8,
            0.5,
            0.5,
            0.6,
            0.8,
            0.9,
            0.8,
            0.5,
            0.8,
            0.8,
            0.6,
            0.8,
            0.9,
            0.8,
            0.6,
            0.6,
            0.6,
            0.7,
            0.6,
            0.5,
            0.5,
            0.6,
            0.6,
            0.7,
            0.7,
            0.7,
            0.7,
            0.8,
            0.5,
            0.7,
            0.8,
            0.5,
            0.5,
            0.5,
            0.6,
            0.6,
            0.7,
            0.7,
            0.7,
            0.8,
            0.8,
            0.5,
            0.8,
            0.5,
            0.5,
            0.6,
            0.7,
            0.7,
            0.8,
            0.8,
            0.8,
            0.5,
            0.6,
            0.7,
            0.7,
            0.8,
            0.7,
            0.6,
            0.7,
            0.7,
            0.7,
            0.8,
            0.8,
            0.6,
            0.7,
            0.7,
            0.8,
            0.6,
            0.7,
            0.8,
            0.9,
            0.7,
            0.9,
            0.6,
            0.7,
            0.8,
            0.7,
            0.8,
            0.8,
            0.8,
            0.9,
            0.8,
            0.7,
            0.5,
            0.6,
            0.6,
            0.7,
            0.7,
            0.5,
            0.6,
            0.6,
            0.7,
            0.7,
            0.7,
            0.7,
            0.5,
            0.5,
            0.6,
            0.6,
            0.7,
            0.7,
            0.7,
            0.7,
            0.5,
            0.5,
            0.6,
            0.6,
            0.7,
            0.7,
            0.7,
            0.6,
            0.7,
            0.9,
            0.6,
            0.7,
            0.7,
            0.9,
            0.6,
            0.7,
            0.7,
            0.7,
            0.6,
            0.7,
            0.7,
            0.8,
            0.7,
            0.8,
            0.8,
            0.8,
            0.9,
            0.9,
            0.8,
            0.8,
            0.9,
            0.8,
            0.8,
            0.8,
            0.9,
            0.8,
            0.8,
            0.8,
            0.9,
            0.9,
            0.8,
            0.8,
            0.8,
            0.8,
            0.6,
            0.6,
            0.7,
            0.7,
            0.8,
            0.7,
            0.7,
            0.7,
            0.7,
            0.7,
            0.8,
            0.8,
            0.7,
            0.8,
            0.8,
            0.6,
            0.7,
            0.6,
            0.6,
            0.6,
            0.6,
            0.7,
            0.8,
            0.7,
            0.8,
            0.8,
            0.7,
            0.7,
            0.7,
            0.8,
            0.7,
            0.8,
            0.8,
            0.7,
            0.7,
            0.7,
            0.8,
            0.7,
            0.8,
            0.7,
            0.7,
            0.6,
            0.7,
            0.8,
            0.7,
            0.8,
            0.8,
            0.8,
            0.8,
            0.8,
            0.8,
            0.7,
            0.8,
            0.8,
            0.7,
            0.7,
            0.8,
            0.8,
            0.8,
            0.9,
            0.7,
            0.7,
            0.7,
            0.7,
            0.7,
            0.7,
            0.7,
            0.7,
            0.8,
            0.7,
            0.7,
            0.7,
            0.7,
            0.7,
            0.8,
            0.7,
            0.7,
            0.7,
            0.7,
            0.8,
            0.7,
            0.7,
            0.7,
            0.7,
            0.8,
            0.8,
            0.9,
            0.7,
            0.7,
            0.8,
            0.9,
            0.9,
            0.7,
            0.8,
            0.8,
            0.9,
            0.7,
            0.8,
            0.8,
            0.9,
            0.8,
            0.8,
            0.8,
            0.9,
            0.7,
            0.7,
            0.8,
            0.8,
            0.8,
            0.9,
            0.9,
            0.8,
            0.9,
            0.8,
            0.9,
            0.8,
            0.8,
            0.9,
            0.9,
            0.8,
            0.8,
            0.9,
            0.9,
            0.8,
            0.8,
            0.8,
            0.8,
            0.8,
            0.8,
            0.8,
            0.9,
            0.8,
            0.8,
            0.8,
            0.7,
            0.8,
            0.9,
            0.9,
            0.9,
            0.9,
            1,
            1,
            0.9,
            0.9,
            1,
            0.9,
            1,
            0.9,
            1,
            0.9,
            0.9,
            1,
            0.9,
            1,
            1,
            0.9,
            0.8,
            0.8,
            0.8,
            0.9,
            0.8,
            1,
            1,
            1,
            1,
            0.9,
            0.9,
            0.9,
            0.8,
            0.9,
            0.8,
            0.9,
            0.8,
            0.9,
            0.8,
            0.9,
            0.8,
            0.9,
            0.8,
            0.9,
            0.8,
            0.9,
            0.9,
            0.8,
            0.9,
            0.8,
            0.9,
            0.8,
            0.9,
            0.9,
            0.9,
            0.8,
            1,
            0.9,
            1,
            0.9,
            0.8,
            1,
            0.9,
            0.8,
            1,
            0.9,
            0.9,
            1,
            0.9,
            0.9,
            1,
            0.9,
            0.9,
            1,
            0.9,
            0.9,
            1,
            1,
            1,
            1,
            0.9,
            0.9,
            0.9,
            1,
            0.9,
            0.9,
            1,
            0.9,
            0.9,
            1,
            0.8,
            0.9,
            0.9,
            1,
            0.8,
            0.8,
            0.8,
            0.9,
            0.9,
            1,
            0.9,
            1,
            1,
            0.9,
            0.9,
            1,
            1,
            1
           ]
          },
          {
           "label": "GNI per capita",
           "values": [
            0,
            0,
            0,
            0,
            0,
            0,
            0,
            0,
            0,
            0,
            0,
            0,
            0,
            0,
            0,
            0,
            0,
            0,
            0,
            0,
            0,
            0,
            0,
            0,
            0,
            0,
            0,
            0,
            0,
            0,
            0,
            0,
            0,
            0,
            0,
            0,
            0,
            0,
            0,
            0,
            0,
            0,
            0,
            0,
            0,
            0,
            0,
            0,
            0,
            0,
            0,
            0,
            0,
            0,
            0,
            0,
            0,
            0,
            0,
            0,
            0,
            0,
            0,
            0,
            0,
            0,
            0,
            0,
            0,
            0,
            0,
            0,
            0,
            0,
            0,
            0,
            0,
            0,
            0,
            0,
            0,
            0,
            0,
            0,
            0,
            0,
            0,
            0,
            0,
            0,
            0,
            0,
            0,
            0,
            0,
            0,
            0,
            0,
            0,
            10000,
            10000,
            10000,
            10000,
            0,
            0,
            0,
            0,
            0,
            0,
            0,
            0,
            0,
            0,
            0,
            0,
            0,
            0,
            0,
            10000,
            10000,
            10000,
            10000,
            10000,
            10000,
            10000,
            0,
            10000,
            10000,
            10000,
            0,
            10000,
            0,
            0,
            0,
            0,
            0,
            0,
            0,
            0,
            0,
            0,
            0,
            0,
            0,
            10000,
            10000,
            10000,
            10000,
            10000,
            10000,
            10000,
            10000,
            10000,
            10000,
            10000,
            10000,
            0,
            0,
            0,
            0,
            0,
            0,
            0,
            0,
            0,
            0,
            0,
            0,
            0,
            0,
            0,
            0,
            0,
            0,
            0,
            0,
            0,
            0,
            0,
            0,
            0,
            0,
            0,
            0,
            0,
            0,
            0,
            0,
            0,
            0,
            0,
            0,
            0,
            0,
            10000,
            10000,
            10000,
            10000,
            10000,
            10000,
            10000,
            10000,
            10000,
            10000,
            10000,
            10000,
            10000,
            10000,
            10000,
            10000,
            10000,
            10000,
            10000,
            10000,
            10000,
            10000,
            20000,
            20000,
            20000,
            0,
            0,
            0,
            0,
            0,
            0,
            0,
            0,
            0,
            0,
            0,
            0,
            0,
            0,
            0,
            0,
            0,
            0,
            0,
            0,
            0,
            0,
            0,
            0,
            0,
            0,
            0,
            0,
            10000,
            10000,
            10000,
            10000,
            10000,
            10000,
            10000,
            10000,
            10000,
            10000,
            10000,
            10000,
            10000,
            10000,
            20000,
            20000,
            20000,
            20000,
            20000,
            20000,
            20000,
            20000,
            20000,
            20000,
            20000,
            20000,
            20000,
            20000,
            20000,
            20000,
            20000,
            20000,
            30000,
            40000,
            40000,
            40000,
            40000,
            50000,
            50000,
            50000,
            70000,
            0,
            10000,
            10000,
            10000,
            10000,
            10000,
            10000,
            10000,
            10000,
            10000,
            10000,
            0,
            0,
            0,
            0,
            0,
            10000,
            10000,
            10000,
            10000,
            10000,
            10000,
            10000,
            10000,
            10000,
            10000,
            10000,
            10000,
            10000,
            10000,
            10000,
            10000,
            10000,
            10000,
            10000,
            10000,
            10000,
            10000,
            10000,
            10000,
            10000,
            10000,
            10000,
            10000,
            20000,
            20000,
            20000,
            20000,
            20000,
            20000,
            20000,
            20000,
            20000,
            20000,
            20000,
            30000,
            50000,
            50000,
            60000,
            10000,
            10000,
            10000,
            10000,
            10000,
            10000,
            10000,
            10000,
            10000,
            10000,
            10000,
            10000,
            10000,
            10000,
            10000,
            10000,
            10000,
            10000,
            10000,
            10000,
            10000,
            10000,
            10000,
            10000,
            20000,
            20000,
            20000,
            20000,
            20000,
            20000,
            20000,
            20000,
            20000,
            20000,
            20000,
            20000,
            20000,
            20000,
            20000,
            20000,
            20000,
            20000,
            20000,
            20000,
            20000,
            20000,
            20000,
            20000,
            30000,
            30000,
            30000,
            30000,
            30000,
            30000,
            30000,
            30000,
            30000,
            30000,
            30000,
            30000,
            40000,
            40000,
            40000,
            40000,
            10000,
            10000,
            10000,
            10000,
            10000,
            10000,
            20000,
            20000,
            20000,
            30000,
            40000,
            40000,
            40000,
            40000,
            40000,
            40000,
            40000,
            40000,
            40000,
            40000,
            50000,
            50000,
            50000,
            50000,
            50000,
            50000,
            50000,
            50000,
            50000,
            60000,
            60000,
            60000,
            60000,
            60000,
            40000,
            50000,
            50000,
            50000,
            20000,
            20000,
            20000,
            20000,
            20000,
            30000,
            60000,
            30000,
            30000,
            30000,
            30000,
            30000,
            30000,
            30000,
            30000,
            40000,
            40000,
            40000,
            40000,
            40000,
            40000,
            40000,
            40000,
            80000,
            80000,
            30000,
            30000,
            30000,
            30000,
            30000,
            30000,
            30000,
            30000,
            30000,
            30000,
            30000,
            40000,
            40000,
            40000,
            40000,
            40000,
            40000,
            40000,
            40000,
            40000,
            40000,
            40000,
            40000,
            40000,
            40000,
            40000,
            50000,
            50000,
            50000,
            50000,
            50000,
            50000,
            50000,
            50000,
            50000,
            50000,
            60000,
            60000,
            60000,
            60000,
            60000,
            70000,
            70000,
            80000,
            80000,
            40000,
            40000,
            40000,
            50000,
            60000,
            60000,
            60000,
            60000,
            60000
           ]
          },
          {
           "label": "Happiness Score",
           "values": [
            4,
            4,
            4,
            4,
            4,
            5,
            5,
            5,
            5,
            5,
            5,
            5,
            3,
            3,
            3,
            3,
            3,
            3,
            4,
            4,
            4,
            4,
            4,
            4,
            4,
            4,
            4,
            4,
            4,
            4,
            4,
            4,
            4,
            4,
            4,
            4,
            4,
            4,
            4,
            4,
            4,
            4,
            4,
            4,
            4,
            4,
            5,
            5,
            5,
            5,
            5,
            5,
            5,
            5,
            5,
            5,
            3,
            3,
            3,
            3,
            3,
            3,
            3,
            3,
            3,
            3,
            3,
            4,
            4,
            4,
            4,
            4,
            4,
            4,
            4,
            4,
            4,
            4,
            4,
            4,
            4,
            4,
            4,
            4,
            4,
            4,
            4,
            4,
            4,
            4,
            4,
            4,
            4,
            4,
            4,
            4,
            4,
            4,
            4,
            4,
            4,
            4,
            4,
            5,
            5,
            5,
            5,
            5,
            5,
            5,
            5,
            5,
            5,
            5,
            5,
            5,
            5,
            5,
            5,
            5,
            5,
            5,
            5,
            5,
            5,
            6,
            6,
            6,
            6,
            3,
            3,
            4,
            4,
            4,
            4,
            4,
            4,
            4,
            4,
            4,
            4,
            4,
            4,
            4,
            4,
            4,
            4,
            4,
            4,
            4,
            4,
            4,
            4,
            4,
            4,
            4,
            5,
            5,
            5,
            5,
            5,
            5,
            5,
            5,
            5,
            5,
            5,
            5,
            5,
            5,
            5,
            5,
            5,
            5,
            5,
            5,
            5,
            5,
            5,
            5,
            5,
            5,
            5,
            5,
            5,
            5,
            5,
            5,
            5,
            5,
            5,
            5,
            5,
            5,
            5,
            5,
            5,
            5,
            5,
            5,
            5,
            5,
            5,
            5,
            5,
            5,
            5,
            5,
            5,
            5,
            5,
            5,
            5,
            5,
            5,
            5,
            5,
            5,
            5,
            6,
            6,
            6,
            6,
            6,
            6,
            6,
            6,
            6,
            6,
            6,
            6,
            6,
            6,
            6,
            6,
            6,
            6,
            6,
            6,
            6,
            6,
            6,
            6,
            6,
            6,
            6,
            6,
            6,
            6,
            6,
            6,
            6,
            6,
            6,
            6,
            6,
            6,
            6,
            6,
            6,
            6,
            6,
            6,
            6,
            6,
            6,
            6,
            6,
            6,
            6,
            6,
            6,
            6,
            6,
            6,
            6,
            6,
            6,
            6,
            6,
            6,
            6,
            6,
            6,
            6,
            6,
            6,
            6,
            7,
            7,
            7,
            7,
            7,
            7,
            4,
            4,
            4,
            4,
            4,
            5,
            5,
            5,
            5,
            5,
            5,
            5,
            5,
            5,
            5,
            5,
            5,
            5,
            5,
            5,
            5,
            5,
            5,
            5,
            5,
            5,
            5,
            5,
            5,
            5,
            5,
            5,
            5,
            5,
            5,
            5,
            5,
            5,
            5,
            5,
            5,
            5,
            5,
            5,
            5,
            5,
            5,
            5,
            5,
            5,
            5,
            5,
            5,
            6,
            6,
            6,
            6,
            6,
            6,
            6,
            6,
            6,
            6,
            6,
            6,
            6,
            6,
            6,
            6,
            6,
            6,
            6,
            6,
            6,
            6,
            6,
            6,
            6,
            6,
            6,
            6,
            6,
            6,
            6,
            6,
            6,
            6,
            6,
            6,
            6,
            6,
            6,
            6,
            6,
            6,
            6,
            6,
            6,
            6,
            6,
            6,
            6,
            6,
            6,
            6,
            6,
            6,
            6,
            6,
            6,
            6,
            6,
            6,
            6,
            6,
            6,
            6,
            7,
            7,
            7,
            7,
            7,
            7,
            7,
            7,
            7,
            7,
            7,
            7,
            7,
            7,
            7,
            7,
            7,
            7,
            7,
            7,
            7,
            7,
            7,
            7,
            7,
            7,
            7,
            7,
            7,
            7,
            7,
            7,
            7,
            7,
            8,
            8,
            8,
            8,
            5,
            5,
            5,
            5,
            5,
            5,
            5,
            6,
            6,
            6,
            6,
            6,
            6,
            6,
            6,
            6,
            6,
            6,
            6,
            6,
            6,
            6,
            6,
            6,
            6,
            7,
            7,
            7,
            7,
            7,
            7,
            7,
            7,
            7,
            7,
            7,
            7,
            7,
            7,
            7,
            7,
            7,
            7,
            7,
            7,
            7,
            7,
            7,
            7,
            7,
            7,
            7,
            7,
            7,
            7,
            7,
            7,
            7,
            7,
            7,
            7,
            7,
            7,
            7,
            7,
            7,
            7,
            7,
            7,
            7,
            8,
            8,
            8,
            8,
            8,
            8,
            8,
            8,
            8
           ]
          },
          {
           "label": "Life Expectancy Index",
           "values": [
            0.5,
            0.5,
            0.5,
            0.5,
            0.5,
            0.5,
            0.5,
            0.5,
            0.5,
            0.5,
            0.5,
            0.5,
            0.6,
            0.6,
            0.6,
            0.6,
            0.6,
            0.6,
            0.6,
            0.6,
            0.6,
            0.6,
            0.6,
            0.6,
            0.6,
            0.6,
            0.6,
            0.6,
            0.6,
            0.6,
            0.6,
            0.6,
            0.6,
            0.6,
            0.6,
            0.6,
            0.6,
            0.6,
            0.6,
            0.6,
            0.6,
            0.6,
            0.6,
            0.6,
            0.6,
            0.6,
            0.6,
            0.6,
            0.6,
            0.6,
            0.6,
            0.6,
            0.6,
            0.6,
            0.6,
            0.6,
            0.7,
            0.7,
            0.7,
            0.7,
            0.7,
            0.7,
            0.7,
            0.7,
            0.7,
            0.7,
            0.7,
            0.7,
            0.7,
            0.7,
            0.7,
            0.7,
            0.7,
            0.7,
            0.7,
            0.7,
            0.7,
            0.7,
            0.7,
            0.7,
            0.7,
            0.7,
            0.7,
            0.7,
            0.7,
            0.7,
            0.7,
            0.7,
            0.7,
            0.7,
            0.7,
            0.7,
            0.7,
            0.7,
            0.7,
            0.7,
            0.7,
            0.7,
            0.7,
            0.7,
            0.7,
            0.7,
            0.7,
            0.7,
            0.7,
            0.7,
            0.7,
            0.7,
            0.7,
            0.7,
            0.7,
            0.7,
            0.7,
            0.7,
            0.7,
            0.7,
            0.7,
            0.7,
            0.7,
            0.7,
            0.7,
            0.7,
            0.7,
            0.7,
            0.7,
            0.7,
            0.7,
            0.7,
            0.7,
            0.8,
            0.8,
            0.8,
            0.8,
            0.8,
            0.8,
            0.8,
            0.8,
            0.8,
            0.8,
            0.8,
            0.8,
            0.8,
            0.8,
            0.8,
            0.8,
            0.8,
            0.8,
            0.8,
            0.8,
            0.8,
            0.8,
            0.8,
            0.8,
            0.8,
            0.8,
            0.8,
            0.8,
            0.8,
            0.8,
            0.8,
            0.8,
            0.8,
            0.8,
            0.8,
            0.8,
            0.8,
            0.8,
            0.8,
            0.8,
            0.8,
            0.8,
            0.8,
            0.8,
            0.8,
            0.8,
            0.8,
            0.8,
            0.8,
            0.8,
            0.8,
            0.8,
            0.8,
            0.8,
            0.8,
            0.8,
            0.8,
            0.8,
            0.8,
            0.8,
            0.8,
            0.8,
            0.8,
            0.8,
            0.8,
            0.8,
            0.8,
            0.8,
            0.8,
            0.8,
            0.8,
            0.8,
            0.8,
            0.8,
            0.8,
            0.8,
            0.8,
            0.8,
            0.8,
            0.8,
            0.8,
            0.8,
            0.8,
            0.8,
            0.8,
            0.8,
            0.8,
            0.8,
            0.8,
            0.8,
            0.8,
            0.8,
            0.8,
            0.8,
            0.8,
            0.8,
            0.8,
            0.8,
            0.8,
            0.8,
            0.8,
            0.8,
            0.8,
            0.8,
            0.8,
            0.8,
            0.8,
            0.8,
            0.8,
            0.8,
            0.8,
            0.8,
            0.8,
            0.8,
            0.8,
            0.8,
            0.8,
            0.8,
            0.8,
            0.8,
            0.8,
            0.8,
            0.8,
            0.8,
            0.8,
            0.8,
            0.8,
            0.8,
            0.8,
            0.8,
            0.8,
            0.8,
            0.8,
            0.8,
            0.8,
            0.8,
            0.8,
            0.8,
            0.8,
            0.8,
            0.8,
            0.8,
            0.8,
            0.8,
            0.8,
            0.8,
            0.8,
            0.8,
            0.8,
            0.8,
            0.8,
            0.8,
            0.8,
            0.8,
            0.8,
            0.8,
            0.8,
            0.8,
            0.8,
            0.8,
            0.8,
            0.8,
            0.8,
            0.8,
            0.8,
            0.9,
            0.9,
            0.9,
            0.9,
            0.9,
            0.9,
            0.9,
            0.9,
            0.9,
            0.9,
            0.9,
            0.9,
            0.9,
            0.9,
            0.9,
            0.9,
            0.9,
            0.9,
            0.9,
            0.9,
            0.9,
            0.9,
            0.9,
            0.9,
            0.9,
            0.9,
            0.9,
            0.9,
            0.9,
            0.9,
            0.9,
            0.9,
            0.9,
            0.9,
            0.9,
            0.9,
            0.9,
            0.9,
            0.9,
            0.9,
            0.9,
            0.9,
            0.9,
            0.9,
            0.9,
            0.9,
            0.9,
            0.9,
            0.9,
            0.9,
            0.9,
            0.9,
            0.9,
            0.9,
            0.9,
            0.9,
            0.9,
            0.9,
            0.9,
            0.9,
            0.9,
            0.9,
            0.9,
            0.9,
            0.9,
            0.9,
            0.9,
            0.9,
            0.9,
            0.9,
            0.9,
            0.9,
            0.9,
            0.9,
            0.9,
            0.9,
            0.9,
            0.9,
            0.9,
            0.9,
            0.9,
            0.9,
            0.9,
            0.9,
            0.9,
            0.9,
            0.9,
            0.9,
            0.9,
            0.9,
            0.9,
            0.9,
            0.9,
            0.9,
            0.9,
            0.9,
            0.9,
            0.9,
            0.9,
            0.9,
            0.9,
            0.9,
            0.9,
            0.9,
            0.9,
            0.9,
            0.9,
            0.9,
            0.9,
            0.9,
            0.9,
            0.9,
            0.9,
            0.9,
            0.9,
            0.9,
            0.9,
            0.9,
            0.9,
            0.9,
            0.9,
            0.9,
            0.9,
            0.9,
            0.9,
            0.9,
            0.9,
            0.9,
            0.9,
            0.9,
            0.9,
            0.9,
            0.9,
            0.9,
            0.9,
            0.9,
            0.9,
            0.9,
            0.9,
            0.9,
            0.9,
            0.9,
            0.9,
            0.9,
            0.9,
            0.9,
            0.9,
            0.9,
            0.9,
            0.9,
            0.9,
            0.9,
            0.9,
            0.9,
            0.9,
            1,
            1,
            1,
            1,
            1,
            1,
            1,
            1,
            1,
            1,
            1,
            1,
            1,
            1,
            1,
            1,
            1,
            1,
            1,
            1,
            1,
            1,
            1,
            1,
            1,
            1,
            1,
            1,
            1,
            1,
            1,
            1,
            1,
            1,
            1,
            1,
            1,
            1,
            1,
            1,
            1,
            1,
            1,
            1,
            1,
            1,
            1,
            1,
            1,
            1,
            1,
            1,
            1,
            1,
            1,
            1,
            1,
            1,
            1,
            1,
            1,
            1,
            1,
            1,
            1,
            1,
            1,
            1,
            1,
            1,
            1,
            1,
            1,
            1,
            1,
            1,
            1,
            1,
            1
           ]
          }
         ],
         "domain": {
          "x": [
           0,
           1
          ],
          "y": [
           0,
           1
          ]
         },
         "line": {
          "color": [
           4,
           4,
           4,
           4,
           4,
           5,
           5,
           5,
           5,
           5,
           5,
           5,
           3,
           3,
           3,
           3,
           3,
           3,
           4,
           4,
           4,
           4,
           4,
           4,
           4,
           4,
           4,
           4,
           4,
           4,
           4,
           4,
           4,
           4,
           4,
           4,
           4,
           4,
           4,
           4,
           4,
           4,
           4,
           4,
           4,
           4,
           5,
           5,
           5,
           5,
           5,
           5,
           5,
           5,
           5,
           5,
           3,
           3,
           3,
           3,
           3,
           3,
           3,
           3,
           3,
           3,
           3,
           4,
           4,
           4,
           4,
           4,
           4,
           4,
           4,
           4,
           4,
           4,
           4,
           4,
           4,
           4,
           4,
           4,
           4,
           4,
           4,
           4,
           4,
           4,
           4,
           4,
           4,
           4,
           4,
           4,
           4,
           4,
           4,
           4,
           4,
           4,
           4,
           5,
           5,
           5,
           5,
           5,
           5,
           5,
           5,
           5,
           5,
           5,
           5,
           5,
           5,
           5,
           5,
           5,
           5,
           5,
           5,
           5,
           5,
           6,
           6,
           6,
           6,
           3,
           3,
           4,
           4,
           4,
           4,
           4,
           4,
           4,
           4,
           4,
           4,
           4,
           4,
           4,
           4,
           4,
           4,
           4,
           4,
           4,
           4,
           4,
           4,
           4,
           4,
           4,
           5,
           5,
           5,
           5,
           5,
           5,
           5,
           5,
           5,
           5,
           5,
           5,
           5,
           5,
           5,
           5,
           5,
           5,
           5,
           5,
           5,
           5,
           5,
           5,
           5,
           5,
           5,
           5,
           5,
           5,
           5,
           5,
           5,
           5,
           5,
           5,
           5,
           5,
           5,
           5,
           5,
           5,
           5,
           5,
           5,
           5,
           5,
           5,
           5,
           5,
           5,
           5,
           5,
           5,
           5,
           5,
           5,
           5,
           5,
           5,
           5,
           5,
           5,
           6,
           6,
           6,
           6,
           6,
           6,
           6,
           6,
           6,
           6,
           6,
           6,
           6,
           6,
           6,
           6,
           6,
           6,
           6,
           6,
           6,
           6,
           6,
           6,
           6,
           6,
           6,
           6,
           6,
           6,
           6,
           6,
           6,
           6,
           6,
           6,
           6,
           6,
           6,
           6,
           6,
           6,
           6,
           6,
           6,
           6,
           6,
           6,
           6,
           6,
           6,
           6,
           6,
           6,
           6,
           6,
           6,
           6,
           6,
           6,
           6,
           6,
           6,
           6,
           6,
           6,
           6,
           6,
           6,
           7,
           7,
           7,
           7,
           7,
           7,
           4,
           4,
           4,
           4,
           4,
           5,
           5,
           5,
           5,
           5,
           5,
           5,
           5,
           5,
           5,
           5,
           5,
           5,
           5,
           5,
           5,
           5,
           5,
           5,
           5,
           5,
           5,
           5,
           5,
           5,
           5,
           5,
           5,
           5,
           5,
           5,
           5,
           5,
           5,
           5,
           5,
           5,
           5,
           5,
           5,
           5,
           5,
           5,
           5,
           5,
           5,
           5,
           5,
           6,
           6,
           6,
           6,
           6,
           6,
           6,
           6,
           6,
           6,
           6,
           6,
           6,
           6,
           6,
           6,
           6,
           6,
           6,
           6,
           6,
           6,
           6,
           6,
           6,
           6,
           6,
           6,
           6,
           6,
           6,
           6,
           6,
           6,
           6,
           6,
           6,
           6,
           6,
           6,
           6,
           6,
           6,
           6,
           6,
           6,
           6,
           6,
           6,
           6,
           6,
           6,
           6,
           6,
           6,
           6,
           6,
           6,
           6,
           6,
           6,
           6,
           6,
           6,
           7,
           7,
           7,
           7,
           7,
           7,
           7,
           7,
           7,
           7,
           7,
           7,
           7,
           7,
           7,
           7,
           7,
           7,
           7,
           7,
           7,
           7,
           7,
           7,
           7,
           7,
           7,
           7,
           7,
           7,
           7,
           7,
           7,
           7,
           8,
           8,
           8,
           8,
           5,
           5,
           5,
           5,
           5,
           5,
           5,
           6,
           6,
           6,
           6,
           6,
           6,
           6,
           6,
           6,
           6,
           6,
           6,
           6,
           6,
           6,
           6,
           6,
           6,
           7,
           7,
           7,
           7,
           7,
           7,
           7,
           7,
           7,
           7,
           7,
           7,
           7,
           7,
           7,
           7,
           7,
           7,
           7,
           7,
           7,
           7,
           7,
           7,
           7,
           7,
           7,
           7,
           7,
           7,
           7,
           7,
           7,
           7,
           7,
           7,
           7,
           7,
           7,
           7,
           7,
           7,
           7,
           7,
           7,
           8,
           8,
           8,
           8,
           8,
           8,
           8,
           8,
           8
          ],
          "coloraxis": "coloraxis"
         },
         "name": "",
         "type": "parcats"
        }
       ],
       "layout": {
        "coloraxis": {
         "colorbar": {
          "title": {
           "text": "Happiness Score"
          }
         },
         "colorscale": [
          [
           0,
           "#440154"
          ],
          [
           0.1111111111111111,
           "#482878"
          ],
          [
           0.2222222222222222,
           "#3e4989"
          ],
          [
           0.3333333333333333,
           "#31688e"
          ],
          [
           0.4444444444444444,
           "#26828e"
          ],
          [
           0.5555555555555556,
           "#1f9e89"
          ],
          [
           0.6666666666666666,
           "#35b779"
          ],
          [
           0.7777777777777778,
           "#6ece58"
          ],
          [
           0.8888888888888888,
           "#b5de2b"
          ],
          [
           1,
           "#fde725"
          ]
         ]
        },
        "legend": {
         "tracegroupgap": 0
        },
        "margin": {
         "t": 60
        },
        "template": {
         "data": {
          "bar": [
           {
            "error_x": {
             "color": "#2a3f5f"
            },
            "error_y": {
             "color": "#2a3f5f"
            },
            "marker": {
             "line": {
              "color": "#E5ECF6",
              "width": 0.5
             },
             "pattern": {
              "fillmode": "overlay",
              "size": 10,
              "solidity": 0.2
             }
            },
            "type": "bar"
           }
          ],
          "barpolar": [
           {
            "marker": {
             "line": {
              "color": "#E5ECF6",
              "width": 0.5
             },
             "pattern": {
              "fillmode": "overlay",
              "size": 10,
              "solidity": 0.2
             }
            },
            "type": "barpolar"
           }
          ],
          "carpet": [
           {
            "aaxis": {
             "endlinecolor": "#2a3f5f",
             "gridcolor": "white",
             "linecolor": "white",
             "minorgridcolor": "white",
             "startlinecolor": "#2a3f5f"
            },
            "baxis": {
             "endlinecolor": "#2a3f5f",
             "gridcolor": "white",
             "linecolor": "white",
             "minorgridcolor": "white",
             "startlinecolor": "#2a3f5f"
            },
            "type": "carpet"
           }
          ],
          "choropleth": [
           {
            "colorbar": {
             "outlinewidth": 0,
             "ticks": ""
            },
            "type": "choropleth"
           }
          ],
          "contour": [
           {
            "colorbar": {
             "outlinewidth": 0,
             "ticks": ""
            },
            "colorscale": [
             [
              0,
              "#0d0887"
             ],
             [
              0.1111111111111111,
              "#46039f"
             ],
             [
              0.2222222222222222,
              "#7201a8"
             ],
             [
              0.3333333333333333,
              "#9c179e"
             ],
             [
              0.4444444444444444,
              "#bd3786"
             ],
             [
              0.5555555555555556,
              "#d8576b"
             ],
             [
              0.6666666666666666,
              "#ed7953"
             ],
             [
              0.7777777777777778,
              "#fb9f3a"
             ],
             [
              0.8888888888888888,
              "#fdca26"
             ],
             [
              1,
              "#f0f921"
             ]
            ],
            "type": "contour"
           }
          ],
          "contourcarpet": [
           {
            "colorbar": {
             "outlinewidth": 0,
             "ticks": ""
            },
            "type": "contourcarpet"
           }
          ],
          "heatmap": [
           {
            "colorbar": {
             "outlinewidth": 0,
             "ticks": ""
            },
            "colorscale": [
             [
              0,
              "#0d0887"
             ],
             [
              0.1111111111111111,
              "#46039f"
             ],
             [
              0.2222222222222222,
              "#7201a8"
             ],
             [
              0.3333333333333333,
              "#9c179e"
             ],
             [
              0.4444444444444444,
              "#bd3786"
             ],
             [
              0.5555555555555556,
              "#d8576b"
             ],
             [
              0.6666666666666666,
              "#ed7953"
             ],
             [
              0.7777777777777778,
              "#fb9f3a"
             ],
             [
              0.8888888888888888,
              "#fdca26"
             ],
             [
              1,
              "#f0f921"
             ]
            ],
            "type": "heatmap"
           }
          ],
          "heatmapgl": [
           {
            "colorbar": {
             "outlinewidth": 0,
             "ticks": ""
            },
            "colorscale": [
             [
              0,
              "#0d0887"
             ],
             [
              0.1111111111111111,
              "#46039f"
             ],
             [
              0.2222222222222222,
              "#7201a8"
             ],
             [
              0.3333333333333333,
              "#9c179e"
             ],
             [
              0.4444444444444444,
              "#bd3786"
             ],
             [
              0.5555555555555556,
              "#d8576b"
             ],
             [
              0.6666666666666666,
              "#ed7953"
             ],
             [
              0.7777777777777778,
              "#fb9f3a"
             ],
             [
              0.8888888888888888,
              "#fdca26"
             ],
             [
              1,
              "#f0f921"
             ]
            ],
            "type": "heatmapgl"
           }
          ],
          "histogram": [
           {
            "marker": {
             "pattern": {
              "fillmode": "overlay",
              "size": 10,
              "solidity": 0.2
             }
            },
            "type": "histogram"
           }
          ],
          "histogram2d": [
           {
            "colorbar": {
             "outlinewidth": 0,
             "ticks": ""
            },
            "colorscale": [
             [
              0,
              "#0d0887"
             ],
             [
              0.1111111111111111,
              "#46039f"
             ],
             [
              0.2222222222222222,
              "#7201a8"
             ],
             [
              0.3333333333333333,
              "#9c179e"
             ],
             [
              0.4444444444444444,
              "#bd3786"
             ],
             [
              0.5555555555555556,
              "#d8576b"
             ],
             [
              0.6666666666666666,
              "#ed7953"
             ],
             [
              0.7777777777777778,
              "#fb9f3a"
             ],
             [
              0.8888888888888888,
              "#fdca26"
             ],
             [
              1,
              "#f0f921"
             ]
            ],
            "type": "histogram2d"
           }
          ],
          "histogram2dcontour": [
           {
            "colorbar": {
             "outlinewidth": 0,
             "ticks": ""
            },
            "colorscale": [
             [
              0,
              "#0d0887"
             ],
             [
              0.1111111111111111,
              "#46039f"
             ],
             [
              0.2222222222222222,
              "#7201a8"
             ],
             [
              0.3333333333333333,
              "#9c179e"
             ],
             [
              0.4444444444444444,
              "#bd3786"
             ],
             [
              0.5555555555555556,
              "#d8576b"
             ],
             [
              0.6666666666666666,
              "#ed7953"
             ],
             [
              0.7777777777777778,
              "#fb9f3a"
             ],
             [
              0.8888888888888888,
              "#fdca26"
             ],
             [
              1,
              "#f0f921"
             ]
            ],
            "type": "histogram2dcontour"
           }
          ],
          "mesh3d": [
           {
            "colorbar": {
             "outlinewidth": 0,
             "ticks": ""
            },
            "type": "mesh3d"
           }
          ],
          "parcoords": [
           {
            "line": {
             "colorbar": {
              "outlinewidth": 0,
              "ticks": ""
             }
            },
            "type": "parcoords"
           }
          ],
          "pie": [
           {
            "automargin": true,
            "type": "pie"
           }
          ],
          "scatter": [
           {
            "fillpattern": {
             "fillmode": "overlay",
             "size": 10,
             "solidity": 0.2
            },
            "type": "scatter"
           }
          ],
          "scatter3d": [
           {
            "line": {
             "colorbar": {
              "outlinewidth": 0,
              "ticks": ""
             }
            },
            "marker": {
             "colorbar": {
              "outlinewidth": 0,
              "ticks": ""
             }
            },
            "type": "scatter3d"
           }
          ],
          "scattercarpet": [
           {
            "marker": {
             "colorbar": {
              "outlinewidth": 0,
              "ticks": ""
             }
            },
            "type": "scattercarpet"
           }
          ],
          "scattergeo": [
           {
            "marker": {
             "colorbar": {
              "outlinewidth": 0,
              "ticks": ""
             }
            },
            "type": "scattergeo"
           }
          ],
          "scattergl": [
           {
            "marker": {
             "colorbar": {
              "outlinewidth": 0,
              "ticks": ""
             }
            },
            "type": "scattergl"
           }
          ],
          "scattermapbox": [
           {
            "marker": {
             "colorbar": {
              "outlinewidth": 0,
              "ticks": ""
             }
            },
            "type": "scattermapbox"
           }
          ],
          "scatterpolar": [
           {
            "marker": {
             "colorbar": {
              "outlinewidth": 0,
              "ticks": ""
             }
            },
            "type": "scatterpolar"
           }
          ],
          "scatterpolargl": [
           {
            "marker": {
             "colorbar": {
              "outlinewidth": 0,
              "ticks": ""
             }
            },
            "type": "scatterpolargl"
           }
          ],
          "scatterternary": [
           {
            "marker": {
             "colorbar": {
              "outlinewidth": 0,
              "ticks": ""
             }
            },
            "type": "scatterternary"
           }
          ],
          "surface": [
           {
            "colorbar": {
             "outlinewidth": 0,
             "ticks": ""
            },
            "colorscale": [
             [
              0,
              "#0d0887"
             ],
             [
              0.1111111111111111,
              "#46039f"
             ],
             [
              0.2222222222222222,
              "#7201a8"
             ],
             [
              0.3333333333333333,
              "#9c179e"
             ],
             [
              0.4444444444444444,
              "#bd3786"
             ],
             [
              0.5555555555555556,
              "#d8576b"
             ],
             [
              0.6666666666666666,
              "#ed7953"
             ],
             [
              0.7777777777777778,
              "#fb9f3a"
             ],
             [
              0.8888888888888888,
              "#fdca26"
             ],
             [
              1,
              "#f0f921"
             ]
            ],
            "type": "surface"
           }
          ],
          "table": [
           {
            "cells": {
             "fill": {
              "color": "#EBF0F8"
             },
             "line": {
              "color": "white"
             }
            },
            "header": {
             "fill": {
              "color": "#C8D4E3"
             },
             "line": {
              "color": "white"
             }
            },
            "type": "table"
           }
          ]
         },
         "layout": {
          "annotationdefaults": {
           "arrowcolor": "#2a3f5f",
           "arrowhead": 0,
           "arrowwidth": 1
          },
          "autotypenumbers": "strict",
          "coloraxis": {
           "colorbar": {
            "outlinewidth": 0,
            "ticks": ""
           }
          },
          "colorscale": {
           "diverging": [
            [
             0,
             "#8e0152"
            ],
            [
             0.1,
             "#c51b7d"
            ],
            [
             0.2,
             "#de77ae"
            ],
            [
             0.3,
             "#f1b6da"
            ],
            [
             0.4,
             "#fde0ef"
            ],
            [
             0.5,
             "#f7f7f7"
            ],
            [
             0.6,
             "#e6f5d0"
            ],
            [
             0.7,
             "#b8e186"
            ],
            [
             0.8,
             "#7fbc41"
            ],
            [
             0.9,
             "#4d9221"
            ],
            [
             1,
             "#276419"
            ]
           ],
           "sequential": [
            [
             0,
             "#0d0887"
            ],
            [
             0.1111111111111111,
             "#46039f"
            ],
            [
             0.2222222222222222,
             "#7201a8"
            ],
            [
             0.3333333333333333,
             "#9c179e"
            ],
            [
             0.4444444444444444,
             "#bd3786"
            ],
            [
             0.5555555555555556,
             "#d8576b"
            ],
            [
             0.6666666666666666,
             "#ed7953"
            ],
            [
             0.7777777777777778,
             "#fb9f3a"
            ],
            [
             0.8888888888888888,
             "#fdca26"
            ],
            [
             1,
             "#f0f921"
            ]
           ],
           "sequentialminus": [
            [
             0,
             "#0d0887"
            ],
            [
             0.1111111111111111,
             "#46039f"
            ],
            [
             0.2222222222222222,
             "#7201a8"
            ],
            [
             0.3333333333333333,
             "#9c179e"
            ],
            [
             0.4444444444444444,
             "#bd3786"
            ],
            [
             0.5555555555555556,
             "#d8576b"
            ],
            [
             0.6666666666666666,
             "#ed7953"
            ],
            [
             0.7777777777777778,
             "#fb9f3a"
            ],
            [
             0.8888888888888888,
             "#fdca26"
            ],
            [
             1,
             "#f0f921"
            ]
           ]
          },
          "colorway": [
           "#636efa",
           "#EF553B",
           "#00cc96",
           "#ab63fa",
           "#FFA15A",
           "#19d3f3",
           "#FF6692",
           "#B6E880",
           "#FF97FF",
           "#FECB52"
          ],
          "font": {
           "color": "#2a3f5f"
          },
          "geo": {
           "bgcolor": "white",
           "lakecolor": "white",
           "landcolor": "#E5ECF6",
           "showlakes": true,
           "showland": true,
           "subunitcolor": "white"
          },
          "hoverlabel": {
           "align": "left"
          },
          "hovermode": "closest",
          "mapbox": {
           "style": "light"
          },
          "paper_bgcolor": "white",
          "plot_bgcolor": "#E5ECF6",
          "polar": {
           "angularaxis": {
            "gridcolor": "white",
            "linecolor": "white",
            "ticks": ""
           },
           "bgcolor": "#E5ECF6",
           "radialaxis": {
            "gridcolor": "white",
            "linecolor": "white",
            "ticks": ""
           }
          },
          "scene": {
           "xaxis": {
            "backgroundcolor": "#E5ECF6",
            "gridcolor": "white",
            "gridwidth": 2,
            "linecolor": "white",
            "showbackground": true,
            "ticks": "",
            "zerolinecolor": "white"
           },
           "yaxis": {
            "backgroundcolor": "#E5ECF6",
            "gridcolor": "white",
            "gridwidth": 2,
            "linecolor": "white",
            "showbackground": true,
            "ticks": "",
            "zerolinecolor": "white"
           },
           "zaxis": {
            "backgroundcolor": "#E5ECF6",
            "gridcolor": "white",
            "gridwidth": 2,
            "linecolor": "white",
            "showbackground": true,
            "ticks": "",
            "zerolinecolor": "white"
           }
          },
          "shapedefaults": {
           "line": {
            "color": "#2a3f5f"
           }
          },
          "ternary": {
           "aaxis": {
            "gridcolor": "white",
            "linecolor": "white",
            "ticks": ""
           },
           "baxis": {
            "gridcolor": "white",
            "linecolor": "white",
            "ticks": ""
           },
           "bgcolor": "#E5ECF6",
           "caxis": {
            "gridcolor": "white",
            "linecolor": "white",
            "ticks": ""
           }
          },
          "title": {
           "x": 0.05
          },
          "xaxis": {
           "automargin": true,
           "gridcolor": "white",
           "linecolor": "white",
           "ticks": "",
           "title": {
            "standoff": 15
           },
           "zerolinecolor": "white",
           "zerolinewidth": 2
          },
          "yaxis": {
           "automargin": true,
           "gridcolor": "white",
           "linecolor": "white",
           "ticks": "",
           "title": {
            "standoff": 15
           },
           "zerolinecolor": "white",
           "zerolinewidth": 2
          }
         }
        }
       }
      },
      "text/html": [
       "<div>                            <div id=\"2a81954a-705a-4bfe-8607-393d50c1bd1b\" class=\"plotly-graph-div\" style=\"height:525px; width:100%;\"></div>            <script type=\"text/javascript\">                require([\"plotly\"], function(Plotly) {                    window.PLOTLYENV=window.PLOTLYENV || {};                                    if (document.getElementById(\"2a81954a-705a-4bfe-8607-393d50c1bd1b\")) {                    Plotly.newPlot(                        \"2a81954a-705a-4bfe-8607-393d50c1bd1b\",                        [{\"dimensions\":[{\"label\":\"Continent\",\"values\":[\"Africa\",\"Africa\",\"Africa\",\"Africa\",\"Africa\",\"Africa\",\"Africa\",\"Africa\",\"Africa\",\"Africa\",\"Africa\",\"Africa\",\"Africa\",\"Africa\",\"Africa\",\"Africa\",\"Africa\",\"Africa\",\"Africa\",\"Africa\",\"Africa\",\"Africa\",\"Africa\",\"Africa\",\"Africa\",\"Africa\",\"South America\",\"South America\",\"Africa\",\"Africa\",\"Africa\",\"Africa\",\"Africa\",\"South America\",\"Africa\",\"Africa\",\"Africa\",\"Africa\",\"Africa\",\"Africa\",\"Africa\",\"Africa\",\"Africa\",\"Africa\",\"Africa\",\"South America\",\"Africa\",\"Africa\",\"Africa\",\"Africa\",\"Africa\",\"Africa\",\"Africa\",\"Africa\",\"South America\",\"Africa\",\"Africa\",\"Africa\",\"Africa\",\"Africa\",\"Africa\",\"Africa\",\"Asia\",\"Asia\",\"Africa\",\"Africa\",\"Asia\",\"Africa\",\"Africa\",\"Africa\",\"Africa\",\"Asia\",\"Asia\",\"Africa\",\"Africa\",\"Africa\",\"Africa\",\"Africa\",\"Africa\",\"Asia\",\"Asia\",\"Asia\",\"Africa\",\"Africa\",\"Africa\",\"Africa\",\"Africa\",\"Asia\",\"South America\",\"Africa\",\"Africa\",\"Africa\",\"Africa\",\"Africa\",\"Africa\",\"Africa\",\"Asia\",\"Asia\",\"South America\",\"Africa\",\"Africa\",\"Africa\",\"Africa\",\"Africa\",\"Africa\",\"Asia\",\"Asia\",\"Africa\",\"Africa\",\"Africa\",\"Asia\",\"South America\",\"Africa\",\"Africa\",\"Africa\",\"Africa\",\"Africa\",\"Asia\",\"Africa\",\"Africa\",\"Africa\",\"Africa\",\"Asia\",\"Africa\",\"Africa\",\"Asia\",\"Asia\",\"Asia\",\"Asia\",\"Africa\",\"Africa\",\"Asia\",\"Asia\",\"Europe\",\"Asia\",\"Asia\",\"Asia\",\"Europe\",\"Asia\",\"Asia\",\"Asia\",\"Asia\",\"Asia\",\"Europe\",\"Asia\",\"Asia\",\"Asia\",\"Africa\",\"Asia\",\"Asia\",\"Europe\",\"Africa\",\"Asia\",\"Africa\",\"Africa\",\"Asia\",\"Asia\",\"Asia\",\"Asia\",\"Asia\",\"Asia\",\"Asia\",\"Asia\",\"Asia\",\"Asia\",\"South America\",\"South America\",\"South America\",\"Asia\",\"Asia\",\"Asia\",\"Asia\",\"Asia\",\"Asia\",\"Asia\",\"Asia\",\"Asia\",\"Asia\",\"South America\",\"Europe\",\"Asia\",\"Asia\",\"Asia\",\"Asia\",\"Asia\",\"Asia\",\"Asia\",\"South America\",\"Asia\",\"Asia\",\"Asia\",\"Asia\",\"Asia\",\"South America\",\"Africa\",\"Asia\",\"South America\",\"South America\",\"Europe\",\"Europe\",\"Asia\",\"Asia\",\"South America\",\"Europe\",\"Asia\",\"Asia\",\"Asia\",\"Asia\",\"South America\",\"Europe\",\"Asia\",\"Asia\",\"Asia\",\"South America\",\"Europe\",\"Europe\",\"Africa\",\"Europe\",\"Europe\",\"Asia\",\"South America\",\"South America\",\"South America\",\"South America\",\"Asia\",\"South America\",\"South America\",\"South America\",\"South America\",\"South America\",\"Asia\",\"Asia\",\"South America\",\"South America\",\"South America\",\"South America\",\"South America\",\"South America\",\"Asia\",\"Asia\",\"South America\",\"South America\",\"South America\",\"South America\",\"South America\",\"South America\",\"Europe\",\"Africa\",\"Europe\",\"Europe\",\"Africa\",\"South America\",\"Europe\",\"Europe\",\"Africa\",\"South America\",\"South America\",\"Europe\",\"Africa\",\"South America\",\"North America\",\"Africa\",\"Asia\",\"Asia\",\"Europe\",\"Europe\",\"Europe\",\"Europe\",\"Asia\",\"Europe\",\"Europe\",\"Africa\",\"Asia\",\"Europe\",\"Europe\",\"Africa\",\"Asia\",\"Europe\",\"Europe\",\"Europe\",\"Asia\",\"Asia\",\"Asia\",\"Asia\",\"Asia\",\"Asia\",\"Asia\",\"Asia\",\"South America\",\"South America\",\"North America\",\"South America\",\"North America\",\"North America\",\"Asia\",\"Asia\",\"Africa\",\"Asia\",\"Asia\",\"Africa\",\"Africa\",\"Africa\",\"Africa\",\"Africa\",\"Asia\",\"Asia\",\"Asia\",\"Europe\",\"Europe\",\"Europe\",\"Africa\",\"Asia\",\"Asia\",\"Asia\",\"Europe\",\"Europe\",\"Europe\",\"Africa\",\"Asia\",\"Asia\",\"Asia\",\"Europe\",\"Europe\",\"Africa\",\"Africa\",\"Asia\",\"Asia\",\"Asia\",\"Europe\",\"Europe\",\"Europe\",\"Europe\",\"Europe\",\"Europe\",\"Europe\",\"Asia\",\"Europe\",\"Europe\",\"Asia\",\"Asia\",\"Europe\",\"Asia\",\"Europe\",\"Europe\",\"Asia\",\"Asia\",\"Asia\",\"Africa\",\"Asia\",\"South America\",\"South America\",\"South America\",\"South America\",\"Africa\",\"Asia\",\"South America\",\"South America\",\"South America\",\"South America\",\"Asia\",\"South America\",\"South America\",\"South America\",\"Europe\",\"Asia\",\"South America\",\"South America\",\"South America\",\"South America\",\"South America\",\"South America\",\"Asia\",\"South America\",\"Europe\",\"Europe\",\"Europe\",\"Asia\",\"Europe\",\"Europe\",\"Europe\",\"South America\",\"South America\",\"South America\",\"South America\",\"Europe\",\"Europe\",\"Europe\",\"Europe\",\"Asia\",\"South America\",\"South America\",\"Europe\",\"Europe\",\"Europe\",\"Europe\",\"Asia\",\"Europe\",\"Asia\",\"Europe\",\"Asia\",\"Europe\",\"Europe\",\"Europe\",\"Asia\",\"Europe\",\"Europe\",\"Europe\",\"Asia\",\"Asia\",\"Asia\",\"Asia\",\"South America\",\"South America\",\"South America\",\"South America\",\"South America\",\"South America\",\"South America\",\"South America\",\"South America\",\"Europe\",\"Europe\",\"Europe\",\"Europe\",\"Europe\",\"Europe\",\"Europe\",\"Europe\",\"Europe\",\"Europe\",\"Europe\",\"North America\",\"Europe\",\"North America\",\"Europe\",\"Europe\",\"Europe\",\"Europe\",\"Europe\",\"North America\",\"Asia\",\"Asia\",\"Asia\",\"North America\",\"Asia\",\"Europe\",\"Europe\",\"Europe\",\"Europe\",\"Europe\",\"Europe\",\"Europe\",\"Europe\",\"Europe\",\"Europe\",\"Asia\",\"Europe\",\"Europe\",\"Europe\",\"Europe\",\"Europe\",\"Europe\",\"Europe\",\"Europe\",\"Asia\",\"Europe\",\"Asia\",\"Europe\",\"Asia\",\"Europe\",\"Asia\",\"Europe\",\"Asia\",\"Asia\",\"Asia\",\"Europe\",\"Australia\",\"Asia\",\"Australia\",\"Asia\",\"Europe\",\"Australia\",\"Asia\",\"Europe\",\"Australia\",\"North America\",\"Europe\",\"Australia\",\"North America\",\"Europe\",\"Australia\",\"North America\",\"Europe\",\"Australia\",\"North America\",\"Europe\",\"Europe\",\"Europe\",\"Europe\",\"Australia\",\"Europe\",\"Europe\",\"Europe\",\"Europe\",\"Europe\",\"Europe\",\"Europe\",\"Europe\",\"Europe\",\"Europe\",\"Europe\",\"Europe\",\"Europe\",\"Europe\",\"Europe\",\"Europe\",\"Europe\",\"Asia\",\"Asia\",\"Europe\",\"Europe\",\"Europe\",\"Europe\",\"Europe\",\"Europe\",\"Europe\",\"Europe\",\"Europe\"]},{\"label\":\"Year\",\"values\":[2015,2016,2017,2017,2018,2015,2015,2016,2016,2017,2018,2018,2015,2015,2016,2016,2016,2018,2015,2015,2015,2015,2015,2015,2015,2015,2015,2015,2016,2016,2016,2016,2016,2016,2017,2017,2017,2017,2017,2018,2018,2018,2018,2018,2018,2018,2015,2015,2016,2016,2017,2017,2017,2017,2017,2018,2015,2015,2016,2017,2017,2017,2017,2017,2018,2018,2018,2015,2015,2015,2015,2015,2015,2016,2016,2016,2016,2016,2016,2016,2016,2016,2017,2017,2017,2017,2017,2017,2017,2018,2018,2018,2018,2018,2018,2018,2018,2018,2018,2015,2015,2016,2016,2015,2015,2015,2015,2016,2016,2016,2016,2016,2017,2017,2017,2018,2018,2018,2015,2016,2017,2017,2017,2018,2018,2017,2015,2016,2018,2018,2017,2015,2015,2015,2016,2017,2017,2017,2018,2018,2018,2018,2018,2018,2015,2015,2015,2016,2016,2016,2016,2017,2017,2018,2018,2018,2015,2015,2015,2015,2015,2015,2015,2015,2015,2015,2015,2015,2016,2016,2016,2016,2016,2016,2016,2016,2016,2016,2016,2016,2017,2017,2017,2017,2017,2017,2017,2017,2018,2018,2018,2018,2018,2018,2015,2015,2015,2015,2015,2015,2016,2016,2016,2016,2017,2017,2017,2017,2017,2017,2018,2018,2018,2018,2018,2018,2016,2016,2017,2015,2015,2015,2015,2015,2016,2016,2016,2016,2016,2016,2017,2017,2017,2017,2017,2017,2017,2017,2018,2018,2018,2018,2018,2018,2018,2018,2018,2015,2015,2015,2016,2016,2016,2016,2017,2017,2017,2017,2018,2018,2018,2015,2015,2015,2015,2015,2015,2015,2016,2016,2016,2017,2017,2017,2017,2018,2018,2018,2018,2017,2015,2016,2017,2018,2015,2016,2017,2018,2016,2015,2015,2016,2016,2017,2015,2016,2017,2017,2018,2015,2015,2016,2017,2018,2015,2015,2015,2015,2015,2015,2016,2016,2016,2016,2016,2016,2016,2017,2017,2017,2017,2017,2017,2018,2018,2018,2018,2018,2018,2018,2018,2018,2015,2015,2015,2016,2016,2016,2017,2017,2017,2018,2018,2016,2015,2016,2017,2015,2015,2015,2015,2015,2015,2016,2016,2016,2016,2016,2016,2017,2017,2017,2017,2017,2018,2018,2018,2018,2018,2018,2018,2015,2015,2015,2015,2015,2016,2016,2016,2016,2017,2017,2017,2017,2017,2017,2017,2017,2018,2018,2018,2018,2018,2018,2018,2015,2015,2016,2016,2017,2017,2017,2017,2018,2018,2018,2018,2015,2016,2017,2018,2015,2015,2016,2016,2017,2018,2015,2016,2016,2018,2015,2015,2015,2015,2015,2016,2016,2016,2017,2018,2015,2015,2016,2016,2016,2017,2017,2017,2018,2015,2016,2017,2017,2018,2018,2015,2016,2017,2015,2016,2017,2018,2018,2016,2018,2015,2015,2016,2016,2017,2017,2018,2018,2015,2015,2016,2016,2017,2017,2018,2018,2017,2018,2015,2015,2015,2016,2016,2017,2017,2017,2018,2018,2018,2015,2015,2015,2016,2016,2016,2017,2017,2017,2018,2018,2018,2018,2018,2018,2015,2016,2016,2016,2017,2017,2017,2018,2018,2018,2015,2015,2017,2017,2018,2016,2017,2015,2016,2015,2017,2018,2016,2015,2016,2016,2017,2018]},{\"label\":\"Education Index\",\"values\":[0.3,0.3,0.3,0.4,0.3,0.4,0.5,0.4,0.5,0.5,0.4,0.5,0.5,0.5,0.5,0.5,0.6,0.5,0.2,0.3,0.3,0.5,0.5,0.5,0.5,0.6,0.4,0.4,0.2,0.3,0.3,0.5,0.6,0.4,0.3,0.5,0.6,0.6,0.6,0.3,0.3,0.3,0.5,0.6,0.6,0.4,0.6,0.6,0.6,0.6,0.2,0.3,0.5,0.6,0.4,0.6,0.5,0.5,0.5,0.5,0.5,0.5,0.4,0.4,0.4,0.4,0.4,0.4,0.4,0.5,0.6,0.4,0.4,0.4,0.4,0.5,0.5,0.5,0.6,0.4,0.4,0.5,0.4,0.4,0.5,0.5,0.6,0.5,0.5,0.4,0.4,0.5,0.5,0.5,0.6,0.6,0.4,0.5,0.5,0.6,0.7,0.6,0.7,0.4,0.6,0.4,0.5,0.4,0.5,0.6,0.4,0.4,0.4,0.6,0.6,0.4,0.6,0.4,0.7,0.7,0.6,0.7,0.6,0.7,0.7,0.4,0.6,0.6,0.6,0.5,0.7,0.5,0.6,0.8,0.5,0.5,0.6,0.8,0.5,0.5,0.6,0.8,0.9,0.8,0.5,0.8,0.8,0.6,0.8,0.9,0.8,0.6,0.6,0.6,0.7,0.6,0.5,0.5,0.6,0.6,0.7,0.7,0.7,0.7,0.8,0.5,0.7,0.8,0.5,0.5,0.5,0.6,0.6,0.7,0.7,0.7,0.8,0.8,0.5,0.8,0.5,0.5,0.6,0.7,0.7,0.8,0.8,0.8,0.5,0.6,0.7,0.7,0.8,0.7,0.6,0.7,0.7,0.7,0.8,0.8,0.6,0.7,0.7,0.8,0.6,0.7,0.8,0.9,0.7,0.9,0.6,0.7,0.8,0.7,0.8,0.8,0.8,0.9,0.8,0.7,0.5,0.6,0.6,0.7,0.7,0.5,0.6,0.6,0.7,0.7,0.7,0.7,0.5,0.5,0.6,0.6,0.7,0.7,0.7,0.7,0.5,0.5,0.6,0.6,0.7,0.7,0.7,0.6,0.7,0.9,0.6,0.7,0.7,0.9,0.6,0.7,0.7,0.7,0.6,0.7,0.7,0.8,0.7,0.8,0.8,0.8,0.9,0.9,0.8,0.8,0.9,0.8,0.8,0.8,0.9,0.8,0.8,0.8,0.9,0.9,0.8,0.8,0.8,0.8,0.6,0.6,0.7,0.7,0.8,0.7,0.7,0.7,0.7,0.7,0.8,0.8,0.7,0.8,0.8,0.6,0.7,0.6,0.6,0.6,0.6,0.7,0.8,0.7,0.8,0.8,0.7,0.7,0.7,0.8,0.7,0.8,0.8,0.7,0.7,0.7,0.8,0.7,0.8,0.7,0.7,0.6,0.7,0.8,0.7,0.8,0.8,0.8,0.8,0.8,0.8,0.7,0.8,0.8,0.7,0.7,0.8,0.8,0.8,0.9,0.7,0.7,0.7,0.7,0.7,0.7,0.7,0.7,0.8,0.7,0.7,0.7,0.7,0.7,0.8,0.7,0.7,0.7,0.7,0.8,0.7,0.7,0.7,0.7,0.8,0.8,0.9,0.7,0.7,0.8,0.9,0.9,0.7,0.8,0.8,0.9,0.7,0.8,0.8,0.9,0.8,0.8,0.8,0.9,0.7,0.7,0.8,0.8,0.8,0.9,0.9,0.8,0.9,0.8,0.9,0.8,0.8,0.9,0.9,0.8,0.8,0.9,0.9,0.8,0.8,0.8,0.8,0.8,0.8,0.8,0.9,0.8,0.8,0.8,0.7,0.8,0.9,0.9,0.9,0.9,1.0,1.0,0.9,0.9,1.0,0.9,1.0,0.9,1.0,0.9,0.9,1.0,0.9,1.0,1.0,0.9,0.8,0.8,0.8,0.9,0.8,1.0,1.0,1.0,1.0,0.9,0.9,0.9,0.8,0.9,0.8,0.9,0.8,0.9,0.8,0.9,0.8,0.9,0.8,0.9,0.8,0.9,0.9,0.8,0.9,0.8,0.9,0.8,0.9,0.9,0.9,0.8,1.0,0.9,1.0,0.9,0.8,1.0,0.9,0.8,1.0,0.9,0.9,1.0,0.9,0.9,1.0,0.9,0.9,1.0,0.9,0.9,1.0,1.0,1.0,1.0,0.9,0.9,0.9,1.0,0.9,0.9,1.0,0.9,0.9,1.0,0.8,0.9,0.9,1.0,0.8,0.8,0.8,0.9,0.9,1.0,0.9,1.0,1.0,0.9,0.9,1.0,1.0,1.0]},{\"label\":\"GNI per capita\",\"values\":[0,0,0,0,0,0,0,0,0,0,0,0,0,0,0,0,0,0,0,0,0,0,0,0,0,0,0,0,0,0,0,0,0,0,0,0,0,0,0,0,0,0,0,0,0,0,0,0,0,0,0,0,0,0,0,0,0,0,0,0,0,0,0,0,0,0,0,0,0,0,0,0,0,0,0,0,0,0,0,0,0,0,0,0,0,0,0,0,0,0,0,0,0,0,0,0,0,0,0,10000,10000,10000,10000,0,0,0,0,0,0,0,0,0,0,0,0,0,0,0,10000,10000,10000,10000,10000,10000,10000,0,10000,10000,10000,0,10000,0,0,0,0,0,0,0,0,0,0,0,0,0,10000,10000,10000,10000,10000,10000,10000,10000,10000,10000,10000,10000,0,0,0,0,0,0,0,0,0,0,0,0,0,0,0,0,0,0,0,0,0,0,0,0,0,0,0,0,0,0,0,0,0,0,0,0,0,0,10000,10000,10000,10000,10000,10000,10000,10000,10000,10000,10000,10000,10000,10000,10000,10000,10000,10000,10000,10000,10000,10000,20000,20000,20000,0,0,0,0,0,0,0,0,0,0,0,0,0,0,0,0,0,0,0,0,0,0,0,0,0,0,0,0,10000,10000,10000,10000,10000,10000,10000,10000,10000,10000,10000,10000,10000,10000,20000,20000,20000,20000,20000,20000,20000,20000,20000,20000,20000,20000,20000,20000,20000,20000,20000,20000,30000,40000,40000,40000,40000,50000,50000,50000,70000,0,10000,10000,10000,10000,10000,10000,10000,10000,10000,10000,0,0,0,0,0,10000,10000,10000,10000,10000,10000,10000,10000,10000,10000,10000,10000,10000,10000,10000,10000,10000,10000,10000,10000,10000,10000,10000,10000,10000,10000,10000,10000,20000,20000,20000,20000,20000,20000,20000,20000,20000,20000,20000,30000,50000,50000,60000,10000,10000,10000,10000,10000,10000,10000,10000,10000,10000,10000,10000,10000,10000,10000,10000,10000,10000,10000,10000,10000,10000,10000,10000,20000,20000,20000,20000,20000,20000,20000,20000,20000,20000,20000,20000,20000,20000,20000,20000,20000,20000,20000,20000,20000,20000,20000,20000,30000,30000,30000,30000,30000,30000,30000,30000,30000,30000,30000,30000,40000,40000,40000,40000,10000,10000,10000,10000,10000,10000,20000,20000,20000,30000,40000,40000,40000,40000,40000,40000,40000,40000,40000,40000,50000,50000,50000,50000,50000,50000,50000,50000,50000,60000,60000,60000,60000,60000,40000,50000,50000,50000,20000,20000,20000,20000,20000,30000,60000,30000,30000,30000,30000,30000,30000,30000,30000,40000,40000,40000,40000,40000,40000,40000,40000,80000,80000,30000,30000,30000,30000,30000,30000,30000,30000,30000,30000,30000,40000,40000,40000,40000,40000,40000,40000,40000,40000,40000,40000,40000,40000,40000,40000,50000,50000,50000,50000,50000,50000,50000,50000,50000,50000,60000,60000,60000,60000,60000,70000,70000,80000,80000,40000,40000,40000,50000,60000,60000,60000,60000,60000]},{\"label\":\"Happiness Score\",\"values\":[4,4,4,4,4,5,5,5,5,5,5,5,3,3,3,3,3,3,4,4,4,4,4,4,4,4,4,4,4,4,4,4,4,4,4,4,4,4,4,4,4,4,4,4,4,4,5,5,5,5,5,5,5,5,5,5,3,3,3,3,3,3,3,3,3,3,3,4,4,4,4,4,4,4,4,4,4,4,4,4,4,4,4,4,4,4,4,4,4,4,4,4,4,4,4,4,4,4,4,4,4,4,4,5,5,5,5,5,5,5,5,5,5,5,5,5,5,5,5,5,5,5,5,5,5,6,6,6,6,3,3,4,4,4,4,4,4,4,4,4,4,4,4,4,4,4,4,4,4,4,4,4,4,4,4,4,5,5,5,5,5,5,5,5,5,5,5,5,5,5,5,5,5,5,5,5,5,5,5,5,5,5,5,5,5,5,5,5,5,5,5,5,5,5,5,5,5,5,5,5,5,5,5,5,5,5,5,5,5,5,5,5,5,5,5,5,5,5,5,6,6,6,6,6,6,6,6,6,6,6,6,6,6,6,6,6,6,6,6,6,6,6,6,6,6,6,6,6,6,6,6,6,6,6,6,6,6,6,6,6,6,6,6,6,6,6,6,6,6,6,6,6,6,6,6,6,6,6,6,6,6,6,6,6,6,6,6,6,7,7,7,7,7,7,4,4,4,4,4,5,5,5,5,5,5,5,5,5,5,5,5,5,5,5,5,5,5,5,5,5,5,5,5,5,5,5,5,5,5,5,5,5,5,5,5,5,5,5,5,5,5,5,5,5,5,5,5,6,6,6,6,6,6,6,6,6,6,6,6,6,6,6,6,6,6,6,6,6,6,6,6,6,6,6,6,6,6,6,6,6,6,6,6,6,6,6,6,6,6,6,6,6,6,6,6,6,6,6,6,6,6,6,6,6,6,6,6,6,6,6,6,7,7,7,7,7,7,7,7,7,7,7,7,7,7,7,7,7,7,7,7,7,7,7,7,7,7,7,7,7,7,7,7,7,7,8,8,8,8,5,5,5,5,5,5,5,6,6,6,6,6,6,6,6,6,6,6,6,6,6,6,6,6,6,7,7,7,7,7,7,7,7,7,7,7,7,7,7,7,7,7,7,7,7,7,7,7,7,7,7,7,7,7,7,7,7,7,7,7,7,7,7,7,7,7,7,7,7,7,8,8,8,8,8,8,8,8,8]},{\"label\":\"Life Expectancy Index\",\"values\":[0.5,0.5,0.5,0.5,0.5,0.5,0.5,0.5,0.5,0.5,0.5,0.5,0.6,0.6,0.6,0.6,0.6,0.6,0.6,0.6,0.6,0.6,0.6,0.6,0.6,0.6,0.6,0.6,0.6,0.6,0.6,0.6,0.6,0.6,0.6,0.6,0.6,0.6,0.6,0.6,0.6,0.6,0.6,0.6,0.6,0.6,0.6,0.6,0.6,0.6,0.6,0.6,0.6,0.6,0.6,0.6,0.7,0.7,0.7,0.7,0.7,0.7,0.7,0.7,0.7,0.7,0.7,0.7,0.7,0.7,0.7,0.7,0.7,0.7,0.7,0.7,0.7,0.7,0.7,0.7,0.7,0.7,0.7,0.7,0.7,0.7,0.7,0.7,0.7,0.7,0.7,0.7,0.7,0.7,0.7,0.7,0.7,0.7,0.7,0.7,0.7,0.7,0.7,0.7,0.7,0.7,0.7,0.7,0.7,0.7,0.7,0.7,0.7,0.7,0.7,0.7,0.7,0.7,0.7,0.7,0.7,0.7,0.7,0.7,0.7,0.7,0.7,0.7,0.7,0.8,0.8,0.8,0.8,0.8,0.8,0.8,0.8,0.8,0.8,0.8,0.8,0.8,0.8,0.8,0.8,0.8,0.8,0.8,0.8,0.8,0.8,0.8,0.8,0.8,0.8,0.8,0.8,0.8,0.8,0.8,0.8,0.8,0.8,0.8,0.8,0.8,0.8,0.8,0.8,0.8,0.8,0.8,0.8,0.8,0.8,0.8,0.8,0.8,0.8,0.8,0.8,0.8,0.8,0.8,0.8,0.8,0.8,0.8,0.8,0.8,0.8,0.8,0.8,0.8,0.8,0.8,0.8,0.8,0.8,0.8,0.8,0.8,0.8,0.8,0.8,0.8,0.8,0.8,0.8,0.8,0.8,0.8,0.8,0.8,0.8,0.8,0.8,0.8,0.8,0.8,0.8,0.8,0.8,0.8,0.8,0.8,0.8,0.8,0.8,0.8,0.8,0.8,0.8,0.8,0.8,0.8,0.8,0.8,0.8,0.8,0.8,0.8,0.8,0.8,0.8,0.8,0.8,0.8,0.8,0.8,0.8,0.8,0.8,0.8,0.8,0.8,0.8,0.8,0.8,0.8,0.8,0.8,0.8,0.8,0.8,0.8,0.8,0.8,0.8,0.8,0.8,0.8,0.8,0.8,0.8,0.8,0.8,0.8,0.8,0.8,0.8,0.8,0.8,0.8,0.8,0.8,0.8,0.8,0.8,0.8,0.8,0.8,0.8,0.8,0.9,0.9,0.9,0.9,0.9,0.9,0.9,0.9,0.9,0.9,0.9,0.9,0.9,0.9,0.9,0.9,0.9,0.9,0.9,0.9,0.9,0.9,0.9,0.9,0.9,0.9,0.9,0.9,0.9,0.9,0.9,0.9,0.9,0.9,0.9,0.9,0.9,0.9,0.9,0.9,0.9,0.9,0.9,0.9,0.9,0.9,0.9,0.9,0.9,0.9,0.9,0.9,0.9,0.9,0.9,0.9,0.9,0.9,0.9,0.9,0.9,0.9,0.9,0.9,0.9,0.9,0.9,0.9,0.9,0.9,0.9,0.9,0.9,0.9,0.9,0.9,0.9,0.9,0.9,0.9,0.9,0.9,0.9,0.9,0.9,0.9,0.9,0.9,0.9,0.9,0.9,0.9,0.9,0.9,0.9,0.9,0.9,0.9,0.9,0.9,0.9,0.9,0.9,0.9,0.9,0.9,0.9,0.9,0.9,0.9,0.9,0.9,0.9,0.9,0.9,0.9,0.9,0.9,0.9,0.9,0.9,0.9,0.9,0.9,0.9,0.9,0.9,0.9,0.9,0.9,0.9,0.9,0.9,0.9,0.9,0.9,0.9,0.9,0.9,0.9,0.9,0.9,0.9,0.9,0.9,0.9,0.9,0.9,0.9,0.9,0.9,0.9,0.9,0.9,0.9,1.0,1.0,1.0,1.0,1.0,1.0,1.0,1.0,1.0,1.0,1.0,1.0,1.0,1.0,1.0,1.0,1.0,1.0,1.0,1.0,1.0,1.0,1.0,1.0,1.0,1.0,1.0,1.0,1.0,1.0,1.0,1.0,1.0,1.0,1.0,1.0,1.0,1.0,1.0,1.0,1.0,1.0,1.0,1.0,1.0,1.0,1.0,1.0,1.0,1.0,1.0,1.0,1.0,1.0,1.0,1.0,1.0,1.0,1.0,1.0,1.0,1.0,1.0,1.0,1.0,1.0,1.0,1.0,1.0,1.0,1.0,1.0,1.0,1.0,1.0,1.0,1.0,1.0,1.0]}],\"domain\":{\"x\":[0.0,1.0],\"y\":[0.0,1.0]},\"line\":{\"color\":[4,4,4,4,4,5,5,5,5,5,5,5,3,3,3,3,3,3,4,4,4,4,4,4,4,4,4,4,4,4,4,4,4,4,4,4,4,4,4,4,4,4,4,4,4,4,5,5,5,5,5,5,5,5,5,5,3,3,3,3,3,3,3,3,3,3,3,4,4,4,4,4,4,4,4,4,4,4,4,4,4,4,4,4,4,4,4,4,4,4,4,4,4,4,4,4,4,4,4,4,4,4,4,5,5,5,5,5,5,5,5,5,5,5,5,5,5,5,5,5,5,5,5,5,5,6,6,6,6,3,3,4,4,4,4,4,4,4,4,4,4,4,4,4,4,4,4,4,4,4,4,4,4,4,4,4,5,5,5,5,5,5,5,5,5,5,5,5,5,5,5,5,5,5,5,5,5,5,5,5,5,5,5,5,5,5,5,5,5,5,5,5,5,5,5,5,5,5,5,5,5,5,5,5,5,5,5,5,5,5,5,5,5,5,5,5,5,5,5,6,6,6,6,6,6,6,6,6,6,6,6,6,6,6,6,6,6,6,6,6,6,6,6,6,6,6,6,6,6,6,6,6,6,6,6,6,6,6,6,6,6,6,6,6,6,6,6,6,6,6,6,6,6,6,6,6,6,6,6,6,6,6,6,6,6,6,6,6,7,7,7,7,7,7,4,4,4,4,4,5,5,5,5,5,5,5,5,5,5,5,5,5,5,5,5,5,5,5,5,5,5,5,5,5,5,5,5,5,5,5,5,5,5,5,5,5,5,5,5,5,5,5,5,5,5,5,5,6,6,6,6,6,6,6,6,6,6,6,6,6,6,6,6,6,6,6,6,6,6,6,6,6,6,6,6,6,6,6,6,6,6,6,6,6,6,6,6,6,6,6,6,6,6,6,6,6,6,6,6,6,6,6,6,6,6,6,6,6,6,6,6,7,7,7,7,7,7,7,7,7,7,7,7,7,7,7,7,7,7,7,7,7,7,7,7,7,7,7,7,7,7,7,7,7,7,8,8,8,8,5,5,5,5,5,5,5,6,6,6,6,6,6,6,6,6,6,6,6,6,6,6,6,6,6,7,7,7,7,7,7,7,7,7,7,7,7,7,7,7,7,7,7,7,7,7,7,7,7,7,7,7,7,7,7,7,7,7,7,7,7,7,7,7,7,7,7,7,7,7,8,8,8,8,8,8,8,8,8],\"coloraxis\":\"coloraxis\"},\"name\":\"\",\"type\":\"parcats\"}],                        {\"template\":{\"data\":{\"histogram2dcontour\":[{\"type\":\"histogram2dcontour\",\"colorbar\":{\"outlinewidth\":0,\"ticks\":\"\"},\"colorscale\":[[0.0,\"#0d0887\"],[0.1111111111111111,\"#46039f\"],[0.2222222222222222,\"#7201a8\"],[0.3333333333333333,\"#9c179e\"],[0.4444444444444444,\"#bd3786\"],[0.5555555555555556,\"#d8576b\"],[0.6666666666666666,\"#ed7953\"],[0.7777777777777778,\"#fb9f3a\"],[0.8888888888888888,\"#fdca26\"],[1.0,\"#f0f921\"]]}],\"choropleth\":[{\"type\":\"choropleth\",\"colorbar\":{\"outlinewidth\":0,\"ticks\":\"\"}}],\"histogram2d\":[{\"type\":\"histogram2d\",\"colorbar\":{\"outlinewidth\":0,\"ticks\":\"\"},\"colorscale\":[[0.0,\"#0d0887\"],[0.1111111111111111,\"#46039f\"],[0.2222222222222222,\"#7201a8\"],[0.3333333333333333,\"#9c179e\"],[0.4444444444444444,\"#bd3786\"],[0.5555555555555556,\"#d8576b\"],[0.6666666666666666,\"#ed7953\"],[0.7777777777777778,\"#fb9f3a\"],[0.8888888888888888,\"#fdca26\"],[1.0,\"#f0f921\"]]}],\"heatmap\":[{\"type\":\"heatmap\",\"colorbar\":{\"outlinewidth\":0,\"ticks\":\"\"},\"colorscale\":[[0.0,\"#0d0887\"],[0.1111111111111111,\"#46039f\"],[0.2222222222222222,\"#7201a8\"],[0.3333333333333333,\"#9c179e\"],[0.4444444444444444,\"#bd3786\"],[0.5555555555555556,\"#d8576b\"],[0.6666666666666666,\"#ed7953\"],[0.7777777777777778,\"#fb9f3a\"],[0.8888888888888888,\"#fdca26\"],[1.0,\"#f0f921\"]]}],\"heatmapgl\":[{\"type\":\"heatmapgl\",\"colorbar\":{\"outlinewidth\":0,\"ticks\":\"\"},\"colorscale\":[[0.0,\"#0d0887\"],[0.1111111111111111,\"#46039f\"],[0.2222222222222222,\"#7201a8\"],[0.3333333333333333,\"#9c179e\"],[0.4444444444444444,\"#bd3786\"],[0.5555555555555556,\"#d8576b\"],[0.6666666666666666,\"#ed7953\"],[0.7777777777777778,\"#fb9f3a\"],[0.8888888888888888,\"#fdca26\"],[1.0,\"#f0f921\"]]}],\"contourcarpet\":[{\"type\":\"contourcarpet\",\"colorbar\":{\"outlinewidth\":0,\"ticks\":\"\"}}],\"contour\":[{\"type\":\"contour\",\"colorbar\":{\"outlinewidth\":0,\"ticks\":\"\"},\"colorscale\":[[0.0,\"#0d0887\"],[0.1111111111111111,\"#46039f\"],[0.2222222222222222,\"#7201a8\"],[0.3333333333333333,\"#9c179e\"],[0.4444444444444444,\"#bd3786\"],[0.5555555555555556,\"#d8576b\"],[0.6666666666666666,\"#ed7953\"],[0.7777777777777778,\"#fb9f3a\"],[0.8888888888888888,\"#fdca26\"],[1.0,\"#f0f921\"]]}],\"surface\":[{\"type\":\"surface\",\"colorbar\":{\"outlinewidth\":0,\"ticks\":\"\"},\"colorscale\":[[0.0,\"#0d0887\"],[0.1111111111111111,\"#46039f\"],[0.2222222222222222,\"#7201a8\"],[0.3333333333333333,\"#9c179e\"],[0.4444444444444444,\"#bd3786\"],[0.5555555555555556,\"#d8576b\"],[0.6666666666666666,\"#ed7953\"],[0.7777777777777778,\"#fb9f3a\"],[0.8888888888888888,\"#fdca26\"],[1.0,\"#f0f921\"]]}],\"mesh3d\":[{\"type\":\"mesh3d\",\"colorbar\":{\"outlinewidth\":0,\"ticks\":\"\"}}],\"scatter\":[{\"fillpattern\":{\"fillmode\":\"overlay\",\"size\":10,\"solidity\":0.2},\"type\":\"scatter\"}],\"parcoords\":[{\"type\":\"parcoords\",\"line\":{\"colorbar\":{\"outlinewidth\":0,\"ticks\":\"\"}}}],\"scatterpolargl\":[{\"type\":\"scatterpolargl\",\"marker\":{\"colorbar\":{\"outlinewidth\":0,\"ticks\":\"\"}}}],\"bar\":[{\"error_x\":{\"color\":\"#2a3f5f\"},\"error_y\":{\"color\":\"#2a3f5f\"},\"marker\":{\"line\":{\"color\":\"#E5ECF6\",\"width\":0.5},\"pattern\":{\"fillmode\":\"overlay\",\"size\":10,\"solidity\":0.2}},\"type\":\"bar\"}],\"scattergeo\":[{\"type\":\"scattergeo\",\"marker\":{\"colorbar\":{\"outlinewidth\":0,\"ticks\":\"\"}}}],\"scatterpolar\":[{\"type\":\"scatterpolar\",\"marker\":{\"colorbar\":{\"outlinewidth\":0,\"ticks\":\"\"}}}],\"histogram\":[{\"marker\":{\"pattern\":{\"fillmode\":\"overlay\",\"size\":10,\"solidity\":0.2}},\"type\":\"histogram\"}],\"scattergl\":[{\"type\":\"scattergl\",\"marker\":{\"colorbar\":{\"outlinewidth\":0,\"ticks\":\"\"}}}],\"scatter3d\":[{\"type\":\"scatter3d\",\"line\":{\"colorbar\":{\"outlinewidth\":0,\"ticks\":\"\"}},\"marker\":{\"colorbar\":{\"outlinewidth\":0,\"ticks\":\"\"}}}],\"scattermapbox\":[{\"type\":\"scattermapbox\",\"marker\":{\"colorbar\":{\"outlinewidth\":0,\"ticks\":\"\"}}}],\"scatterternary\":[{\"type\":\"scatterternary\",\"marker\":{\"colorbar\":{\"outlinewidth\":0,\"ticks\":\"\"}}}],\"scattercarpet\":[{\"type\":\"scattercarpet\",\"marker\":{\"colorbar\":{\"outlinewidth\":0,\"ticks\":\"\"}}}],\"carpet\":[{\"aaxis\":{\"endlinecolor\":\"#2a3f5f\",\"gridcolor\":\"white\",\"linecolor\":\"white\",\"minorgridcolor\":\"white\",\"startlinecolor\":\"#2a3f5f\"},\"baxis\":{\"endlinecolor\":\"#2a3f5f\",\"gridcolor\":\"white\",\"linecolor\":\"white\",\"minorgridcolor\":\"white\",\"startlinecolor\":\"#2a3f5f\"},\"type\":\"carpet\"}],\"table\":[{\"cells\":{\"fill\":{\"color\":\"#EBF0F8\"},\"line\":{\"color\":\"white\"}},\"header\":{\"fill\":{\"color\":\"#C8D4E3\"},\"line\":{\"color\":\"white\"}},\"type\":\"table\"}],\"barpolar\":[{\"marker\":{\"line\":{\"color\":\"#E5ECF6\",\"width\":0.5},\"pattern\":{\"fillmode\":\"overlay\",\"size\":10,\"solidity\":0.2}},\"type\":\"barpolar\"}],\"pie\":[{\"automargin\":true,\"type\":\"pie\"}]},\"layout\":{\"autotypenumbers\":\"strict\",\"colorway\":[\"#636efa\",\"#EF553B\",\"#00cc96\",\"#ab63fa\",\"#FFA15A\",\"#19d3f3\",\"#FF6692\",\"#B6E880\",\"#FF97FF\",\"#FECB52\"],\"font\":{\"color\":\"#2a3f5f\"},\"hovermode\":\"closest\",\"hoverlabel\":{\"align\":\"left\"},\"paper_bgcolor\":\"white\",\"plot_bgcolor\":\"#E5ECF6\",\"polar\":{\"bgcolor\":\"#E5ECF6\",\"angularaxis\":{\"gridcolor\":\"white\",\"linecolor\":\"white\",\"ticks\":\"\"},\"radialaxis\":{\"gridcolor\":\"white\",\"linecolor\":\"white\",\"ticks\":\"\"}},\"ternary\":{\"bgcolor\":\"#E5ECF6\",\"aaxis\":{\"gridcolor\":\"white\",\"linecolor\":\"white\",\"ticks\":\"\"},\"baxis\":{\"gridcolor\":\"white\",\"linecolor\":\"white\",\"ticks\":\"\"},\"caxis\":{\"gridcolor\":\"white\",\"linecolor\":\"white\",\"ticks\":\"\"}},\"coloraxis\":{\"colorbar\":{\"outlinewidth\":0,\"ticks\":\"\"}},\"colorscale\":{\"sequential\":[[0.0,\"#0d0887\"],[0.1111111111111111,\"#46039f\"],[0.2222222222222222,\"#7201a8\"],[0.3333333333333333,\"#9c179e\"],[0.4444444444444444,\"#bd3786\"],[0.5555555555555556,\"#d8576b\"],[0.6666666666666666,\"#ed7953\"],[0.7777777777777778,\"#fb9f3a\"],[0.8888888888888888,\"#fdca26\"],[1.0,\"#f0f921\"]],\"sequentialminus\":[[0.0,\"#0d0887\"],[0.1111111111111111,\"#46039f\"],[0.2222222222222222,\"#7201a8\"],[0.3333333333333333,\"#9c179e\"],[0.4444444444444444,\"#bd3786\"],[0.5555555555555556,\"#d8576b\"],[0.6666666666666666,\"#ed7953\"],[0.7777777777777778,\"#fb9f3a\"],[0.8888888888888888,\"#fdca26\"],[1.0,\"#f0f921\"]],\"diverging\":[[0,\"#8e0152\"],[0.1,\"#c51b7d\"],[0.2,\"#de77ae\"],[0.3,\"#f1b6da\"],[0.4,\"#fde0ef\"],[0.5,\"#f7f7f7\"],[0.6,\"#e6f5d0\"],[0.7,\"#b8e186\"],[0.8,\"#7fbc41\"],[0.9,\"#4d9221\"],[1,\"#276419\"]]},\"xaxis\":{\"gridcolor\":\"white\",\"linecolor\":\"white\",\"ticks\":\"\",\"title\":{\"standoff\":15},\"zerolinecolor\":\"white\",\"automargin\":true,\"zerolinewidth\":2},\"yaxis\":{\"gridcolor\":\"white\",\"linecolor\":\"white\",\"ticks\":\"\",\"title\":{\"standoff\":15},\"zerolinecolor\":\"white\",\"automargin\":true,\"zerolinewidth\":2},\"scene\":{\"xaxis\":{\"backgroundcolor\":\"#E5ECF6\",\"gridcolor\":\"white\",\"linecolor\":\"white\",\"showbackground\":true,\"ticks\":\"\",\"zerolinecolor\":\"white\",\"gridwidth\":2},\"yaxis\":{\"backgroundcolor\":\"#E5ECF6\",\"gridcolor\":\"white\",\"linecolor\":\"white\",\"showbackground\":true,\"ticks\":\"\",\"zerolinecolor\":\"white\",\"gridwidth\":2},\"zaxis\":{\"backgroundcolor\":\"#E5ECF6\",\"gridcolor\":\"white\",\"linecolor\":\"white\",\"showbackground\":true,\"ticks\":\"\",\"zerolinecolor\":\"white\",\"gridwidth\":2}},\"shapedefaults\":{\"line\":{\"color\":\"#2a3f5f\"}},\"annotationdefaults\":{\"arrowcolor\":\"#2a3f5f\",\"arrowhead\":0,\"arrowwidth\":1},\"geo\":{\"bgcolor\":\"white\",\"landcolor\":\"#E5ECF6\",\"subunitcolor\":\"white\",\"showland\":true,\"showlakes\":true,\"lakecolor\":\"white\"},\"title\":{\"x\":0.05},\"mapbox\":{\"style\":\"light\"}}},\"coloraxis\":{\"colorbar\":{\"title\":{\"text\":\"Happiness Score\"}},\"colorscale\":[[0.0,\"#440154\"],[0.1111111111111111,\"#482878\"],[0.2222222222222222,\"#3e4989\"],[0.3333333333333333,\"#31688e\"],[0.4444444444444444,\"#26828e\"],[0.5555555555555556,\"#1f9e89\"],[0.6666666666666666,\"#35b779\"],[0.7777777777777778,\"#6ece58\"],[0.8888888888888888,\"#b5de2b\"],[1.0,\"#fde725\"]]},\"legend\":{\"tracegroupgap\":0},\"margin\":{\"t\":60}},                        {\"responsive\": true}                    ).then(function(){\n",
       "                            \n",
       "var gd = document.getElementById('2a81954a-705a-4bfe-8607-393d50c1bd1b');\n",
       "var x = new MutationObserver(function (mutations, observer) {{\n",
       "        var display = window.getComputedStyle(gd).display;\n",
       "        if (!display || display === 'none') {{\n",
       "            console.log([gd, 'removed!']);\n",
       "            Plotly.purge(gd);\n",
       "            observer.disconnect();\n",
       "        }}\n",
       "}});\n",
       "\n",
       "// Listen for the removal of the full notebook cells\n",
       "var notebookContainer = gd.closest('#notebook-container');\n",
       "if (notebookContainer) {{\n",
       "    x.observe(notebookContainer, {childList: true});\n",
       "}}\n",
       "\n",
       "// Listen for the clearing of the current output cell\n",
       "var outputEl = gd.closest('.output');\n",
       "if (outputEl) {{\n",
       "    x.observe(outputEl, {childList: true});\n",
       "}}\n",
       "\n",
       "                        })                };                });            </script>        </div>"
      ]
     },
     "metadata": {},
     "output_type": "display_data"
    }
   ],
   "source": [
    "def get_happiness_scores_by_continent(filename):\n",
    "    import csv\n",
    "    import plotly.express as px\n",
    "\n",
    "    continent_scores = {}\n",
    "\n",
    "    with open(filename, 'r') as file:\n",
    "        reader = csv.DictReader(file)\n",
    "        for row in reader:\n",
    "            continent = row['continent']\n",
    "            year = int(row['Year'])\n",
    "            happiness_score = round(float(row['happiness_score']))\n",
    "            education_index = min(float(row['Education_Index']) * 10, 10)\n",
    "            education_index = round(education_index) / 10\n",
    "            gni_per_capita = float(row['GNI_per_capita_PPP']) if row['GNI_per_capita_PPP'] != '' else 0\n",
    "            gni_per_capita = int(gni_per_capita) // 10000 * 10000\n",
    "            life_expectancy_index = min(float(row['life_expectancy_index']) * 10, 10)\n",
    "            life_expectancy_index = round(life_expectancy_index) / 10\n",
    "\n",
    "            if continent not in continent_scores:\n",
    "                continent_scores[continent] = {'Year': [], 'Happiness Score': [], 'Education Index': [], 'GNI per capita': [], 'Life Expectancy Index': []}\n",
    "            continent_scores[continent]['Year'].append(year)\n",
    "            continent_scores[continent]['Education Index'].append(education_index)\n",
    "            continent_scores[continent]['Happiness Score'].append(happiness_score)\n",
    "            continent_scores[continent]['GNI per capita'].append(gni_per_capita)\n",
    "            continent_scores[continent]['Life Expectancy Index'].append(life_expectancy_index)\n",
    "\n",
    "    data = []\n",
    "    for continent, scores in continent_scores.items():\n",
    "        sorted_scores = sorted(zip(scores['Year'], scores['Education Index'], scores['GNI per capita'], scores['Happiness Score'], scores['Life Expectancy Index']), key=lambda x: (x[1], -x[2], -x[3]))\n",
    "        data.extend([\n",
    "            {'Continent': continent, 'Education Index': education_index, 'Year': year, 'GNI per capita': gni_per_capita, 'Happiness Score': score, 'Life Expectancy Index': life_expectancy_index}\n",
    "            for year, education_index, gni_per_capita, score, life_expectancy_index in sorted_scores\n",
    "        ])\n",
    "\n",
    "    \n",
    "    for category in ['Year', 'GNI per capita', 'Happiness Score', 'Life Expectancy Index']:\n",
    "        data = sorted(data, key=lambda x: x[category])\n",
    "\n",
    "    dimensions_order = ['Continent', 'Year', 'Education Index', 'GNI per capita', 'Happiness Score', 'Life Expectancy Index']\n",
    "    dimensions_labels = {'Happiness Score': 'Happiness Score'}\n",
    "\n",
    "    fig = px.parallel_categories(data, dimensions=dimensions_order, color='Happiness Score', color_continuous_scale='Viridis',\n",
    "                                 labels=dimensions_labels)\n",
    "    fig.show()\n",
    "\n",
    "\n",
    "get_happiness_scores_by_continent('full_data.csv')"
   ]
  },
  {
   "cell_type": "markdown",
   "id": "1d32b28b",
   "metadata": {},
   "source": [
    "### multivariate analysis of happiness and HDI\n",
    "\n",
    "Here we analyse multiple variables of the HDI index and link them to happiness in a country, this parallel category graph can tell us more about how life expectancy and education can contribute to happiness in a certain country. The relation between Life Expectancy, Education and happiness is very clear, it is to be expected that people would be happier when they are healthier, this correlation is expected to be stronger than Education, which in turn is expected to correlate stronger with happiness than GNI. People can live in relatively economic poverty and adapt to their circumstances with hedonic adaptation, however when health is poor it will be much more noticeable. Disease contributes to lack of exercise, lack of proper nutrition, which in turn affects mental state through somatic effects on the brain."
   ]
  },
  {
   "cell_type": "code",
   "execution_count": null,
   "id": "d08b2e5d",
   "metadata": {},
   "outputs": [],
   "source": []
  },
  {
   "cell_type": "markdown",
   "id": "30d319f6",
   "metadata": {},
   "source": [
    "---\n",
    "REFLECTION HIERONDER"
   ]
  },
  {
   "attachments": {},
   "cell_type": "markdown",
   "id": "40ed7174",
   "metadata": {},
   "source": [
    "\n",
    "Throughout the assignment, we engaged in a collaborative effort to analyze and visualize the data. We worked together to clean and transform the datasets, ensuring the accuracy and reliability of our visualizations. This process required attention to detail and problem-solving skills as we encountered challenges such as missing values and outliers. Using Pandas, we manipulated and reshaped the data to uncover insights. We experimented with different chart types, colors, and layouts to present our findings effectively. Through bar plots, line plots, 3d-scatter plots and much more, we showcased the relationship between happiness scores, GDP per capita and a lot of other correlated subjects.\n",
    "\n",
    "During our exploration, we made intriguing observations and encountered unexpected patterns. We delved deeper into the data, conducting additional research to understand the factors contributing to these deviations. Incorporating contextual information, we provided a comprehensive interpretation of the data, enriching our visualizations. Working as a group allowed us to leverage each other's strengths and learn from one another. We collaborated on data preprocessing, visualization techniques, and interpretation, fostering our technical and analytical skills. We discovered the power of data storytelling and its ability to convey insights in a compelling manner.\n",
    "\n",
    "This assignment was a valuable learning experience for our group. It deepened our understanding of data analysis and visualization while highlighting the importance of collaboration and teamwork. Moving forward, we will continue to refine our skills and explore new opportunities to apply data-driven approaches in solving real-world problems.\n"
   ]
  },
  {
   "cell_type": "markdown",
   "id": "94fb5b39",
   "metadata": {},
   "source": [
    "---\n",
    "WORK DISTRIBUTION"
   ]
  },
  {
   "cell_type": "code",
   "execution_count": null,
   "id": "d9beb514",
   "metadata": {},
   "outputs": [],
   "source": []
  }
 ],
 "metadata": {
  "kernelspec": {
   "display_name": "Python 3 (ipykernel)",
   "language": "python",
   "name": "python3"
  },
  "language_info": {
   "codemirror_mode": {
    "name": "ipython",
    "version": 3
   },
   "file_extension": ".py",
   "mimetype": "text/x-python",
   "name": "python",
   "nbconvert_exporter": "python",
   "pygments_lexer": "ipython3",
   "version": "3.10.6"
  },
  "vscode": {
   "interpreter": {
    "hash": "916dbcbb3f70747c44a77c7bcd40155683ae19c65e1c03b4aa3499c5328201f1"
   }
  }
 },
 "nbformat": 4,
 "nbformat_minor": 5
}
