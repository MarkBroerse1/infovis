{
 "cells": [
  {
   "cell_type": "markdown",
   "id": "bd380a2c",
   "metadata": {},
   "source": [
    "Introduction:\n",
    "\n",
    "WORLD STUFF AND DATA"
   ]
  },
  {
   "cell_type": "markdown",
   "id": "24d84afb",
   "metadata": {},
   "source": [
    "---\n",
    "##DATASET AND PREPROCESSING"
   ]
  },
  {
   "cell_type": "code",
   "execution_count": null,
   "id": "7e955a81",
   "metadata": {},
   "outputs": [],
   "source": [
    "import pandas as pd\n",
    "import plotly.express as px\n",
    "import seaborn as sns\n"
   ]
  },
  {
   "cell_type": "markdown",
   "id": "23eeff1c",
   "metadata": {},
   "source": [
    "###"
   ]
  },
  {
   "cell_type": "code",
   "execution_count": null,
   "id": "c8aafdef",
   "metadata": {},
   "outputs": [],
   "source": []
  },
  {
   "cell_type": "markdown",
   "id": "46c74267",
   "metadata": {},
   "source": [
    "---\n",
    "DATANALYSE HIERONDER"
   ]
  },
  {
   "cell_type": "code",
   "execution_count": null,
   "id": "860e429d",
   "metadata": {},
   "outputs": [],
   "source": [
    "#CODE HERE"
   ]
  },
  {
   "cell_type": "markdown",
   "id": "30d319f6",
   "metadata": {},
   "source": [
    "---\n",
    "REFLECTION HIERONDER"
   ]
  },
  {
   "cell_type": "markdown",
   "id": "40ed7174",
   "metadata": {},
   "source": []
  },
  {
   "cell_type": "markdown",
   "id": "94fb5b39",
   "metadata": {},
   "source": [
    "---\n",
    "WORK DISTRIBUTION"
   ]
  },
  {
   "cell_type": "code",
   "execution_count": null,
   "id": "d9beb514",
   "metadata": {},
   "outputs": [],
   "source": []
  }
 ],
 "metadata": {
  "kernelspec": {
   "display_name": "Python 3 (ipykernel)",
   "language": "python",
   "name": "python3"
  },
  "language_info": {
   "codemirror_mode": {
    "name": "ipython",
    "version": 3
   },
   "file_extension": ".py",
   "mimetype": "text/x-python",
   "name": "python",
   "nbconvert_exporter": "python",
   "pygments_lexer": "ipython3",
   "version": "3.10.6"
  }
 },
 "nbformat": 4,
 "nbformat_minor": 5
}
