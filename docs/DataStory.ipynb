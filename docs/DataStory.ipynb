{
 "cells": [
  {
   "cell_type": "markdown",
   "id": "bd380a2c",
   "metadata": {},
   "source": [
    "## Introduction:\n",
    "\n",
    "In the ever-evolving landscape of world demographics it is paramount to be aware of trends and factors that influence the way humans experience and live their lives. Factors such as life expectancy, education and the source of happiness for different people in different countries determines the way people pursue happines and impact their environment around them.\n",
    "\n",
    "HDI gives us a fairly objective look into the quality of life within a country, thus we can use this measure to compare key indicators of quality of life and plot them with the happiness felt within a country, we can also fraw conclusions as to what aspects of life would create happiness for citizens of a country.\n",
    "\n",
    "One of our perspectives is that the richer a country and population is, the higher their education, the longer their lifespan and the happier a population will be. We will look for relations between a country's GNI and and their general quality of life indices.\n",
    "\n",
    "A different and somewhat opposing perspective on our data is that a population wealth does not strictly correlate to their happiness, especially above a certain treshold of wealth. To this end we will try to look between correlations between countries with similiar geographic and cultural settings but different economic outlooks.\n",
    "\n",
    "This is the story of that data and the conclusions we can draw from the graphics."
   ]
  },
  {
   "cell_type": "markdown",
   "id": "24d84afb",
   "metadata": {},
   "source": [
    "---\n",
    "## DATASET AND PREPROCESSING"
   ]
  },
  {
   "cell_type": "code",
   "execution_count": 28,
   "id": "7e955a81",
   "metadata": {},
   "outputs": [],
   "source": [
    "\n",
    "import pandas as pd\n",
    "import csv\n",
    "import matplotlib.patches as mpatches\n",
    "import matplotlib.pyplot as plt\n",
    "import plotly.express as px\n",
    "import seaborn as sns\n",
    "import statsmodels.api as sm\n",
    "from plotly.subplots import make_subplots\n",
    "from collections import defaultdict\n",
    "import plotly.graph_objects as go\n",
    "\n",
    "# !pip install numpy\n",
    "# !pip install plotly\n",
    "# !pip install pandas\n",
    "# !pip install matplotlib\n",
    "# !pip install -U seaborn\n",
    "# !pip install seaborn\n",
    "# !pip install csv"
   ]
  },
  {
   "cell_type": "markdown",
   "id": "23eeff1c",
   "metadata": {},
   "source": [
    "###"
   ]
  },
  {
   "cell_type": "code",
   "execution_count": null,
   "id": "c8aafdef",
   "metadata": {},
   "outputs": [],
   "source": []
  },
  {
   "cell_type": "markdown",
   "id": "90dc1288",
   "metadata": {},
   "source": [
    "For this project two datasets are used to form one dataset that contains the variables of both using the datapoints they share. The first dataset used can be found on https://www.kaggle.com/datasets/unsdsn/world-happiness, this dataset contains information on some scales aimed to measure the happiness of countries in the world. This dataset contains information of countries from 2015 to 2019. The variables in this dataset are Country, which just marks down the countries in the dataset, Year, which just notes the year where the data was measured. The relevant variables are:\n",
    "\n",
    "- happiness_score, which measures the happiness scores of each country obtained from the Gallup World Poll.\n",
    "- gdp_per_capita, which describes to what extent GDP per capita contributes to a country's happiness.\n",
    "- family, which describes to what extent family factors contribute to a country's happiness.\n",
    "- health, which describes to what extent health factors contribute to a country's happiness. \n",
    "- freedom, which describes to what extent freedom factors contribute to a country's happiness.\n",
    "- generosity, which describes to what extent generosity contributes to a country's happiness.\n",
    "- government_trust, which describes to what extent trust in the government contributes to a country's happiness.\n",
    "- dystopia_residual, which describes the unknown factors of a hypothetical 'worst' country (we will not use this  data, because it is not relevant for our purposes).\n",
    "- social_support, which describes to what extent social support contributes to a country's happiness.\n",
    "- cpi_scores, which measures the perceived corruption of a country."
   ]
  },
  {
   "cell_type": "markdown",
   "id": "46c74267",
   "metadata": {},
   "source": [
    "---\n",
    "ANALYSIS OF THE DATA"
   ]
  },
  {
   "cell_type": "code",
   "execution_count": 29,
   "id": "860e429d",
   "metadata": {},
   "outputs": [
    {
     "data": {
      "application/vnd.plotly.v1+json": {
       "config": {
        "plotlyServerURL": "https://plot.ly"
       },
       "data": [
        {
         "customdata": [
          [
           "Afghanistan"
          ],
          [
           "Afghanistan"
          ],
          [
           "Afghanistan"
          ],
          [
           "Afghanistan"
          ],
          [
           "Armenia"
          ],
          [
           "Armenia"
          ],
          [
           "Armenia"
          ],
          [
           "Armenia"
          ],
          [
           "Azerbaijan"
          ],
          [
           "Azerbaijan"
          ],
          [
           "Azerbaijan"
          ],
          [
           "Azerbaijan"
          ],
          [
           "Bahrain"
          ],
          [
           "Bahrain"
          ],
          [
           "Bahrain"
          ],
          [
           "Bahrain"
          ],
          [
           "Bangladesh"
          ],
          [
           "Bangladesh"
          ],
          [
           "Bangladesh"
          ],
          [
           "Bangladesh"
          ],
          [
           "Cambodia"
          ],
          [
           "Cambodia"
          ],
          [
           "Cambodia"
          ],
          [
           "Cambodia"
          ],
          [
           "China"
          ],
          [
           "China"
          ],
          [
           "China"
          ],
          [
           "China"
          ],
          [
           "China"
          ],
          [
           "China"
          ],
          [
           "China"
          ],
          [
           "China"
          ],
          [
           "Cyprus"
          ],
          [
           "Cyprus"
          ],
          [
           "Cyprus"
          ],
          [
           "Cyprus"
          ],
          [
           "Georgia"
          ],
          [
           "Georgia"
          ],
          [
           "Georgia"
          ],
          [
           "Georgia"
          ],
          [
           "India"
          ],
          [
           "India"
          ],
          [
           "India"
          ],
          [
           "India"
          ],
          [
           "Indonesia"
          ],
          [
           "Indonesia"
          ],
          [
           "Indonesia"
          ],
          [
           "Indonesia"
          ],
          [
           "Iran"
          ],
          [
           "Iran"
          ],
          [
           "Iran"
          ],
          [
           "Iran"
          ],
          [
           "Iraq"
          ],
          [
           "Iraq"
          ],
          [
           "Iraq"
          ],
          [
           "Iraq"
          ],
          [
           "Israel"
          ],
          [
           "Israel"
          ],
          [
           "Israel"
          ],
          [
           "Israel"
          ],
          [
           "Japan"
          ],
          [
           "Japan"
          ],
          [
           "Japan"
          ],
          [
           "Japan"
          ],
          [
           "Jordan"
          ],
          [
           "Jordan"
          ],
          [
           "Jordan"
          ],
          [
           "Jordan"
          ],
          [
           "Kazakhstan"
          ],
          [
           "Kazakhstan"
          ],
          [
           "Kazakhstan"
          ],
          [
           "Kazakhstan"
          ],
          [
           "Kuwait"
          ],
          [
           "Kuwait"
          ],
          [
           "Kuwait"
          ],
          [
           "Kuwait"
          ],
          [
           "Kyrgyzstan"
          ],
          [
           "Kyrgyzstan"
          ],
          [
           "Kyrgyzstan"
          ],
          [
           "Kyrgyzstan"
          ],
          [
           "Lebanon"
          ],
          [
           "Lebanon"
          ],
          [
           "Lebanon"
          ],
          [
           "Lebanon"
          ],
          [
           "Malaysia"
          ],
          [
           "Malaysia"
          ],
          [
           "Malaysia"
          ],
          [
           "Malaysia"
          ],
          [
           "Mongolia"
          ],
          [
           "Mongolia"
          ],
          [
           "Mongolia"
          ],
          [
           "Mongolia"
          ],
          [
           "Myanmar"
          ],
          [
           "Myanmar"
          ],
          [
           "Myanmar"
          ],
          [
           "Myanmar"
          ],
          [
           "Nepal"
          ],
          [
           "Nepal"
          ],
          [
           "Nepal"
          ],
          [
           "Nepal"
          ],
          [
           "Pakistan"
          ],
          [
           "Pakistan"
          ],
          [
           "Pakistan"
          ],
          [
           "Pakistan"
          ],
          [
           "Philippines"
          ],
          [
           "Philippines"
          ],
          [
           "Philippines"
          ],
          [
           "Philippines"
          ],
          [
           "Saudi Arabia"
          ],
          [
           "Saudi Arabia"
          ],
          [
           "Saudi Arabia"
          ],
          [
           "Saudi Arabia"
          ],
          [
           "Singapore"
          ],
          [
           "Singapore"
          ],
          [
           "Singapore"
          ],
          [
           "Singapore"
          ],
          [
           "Sri Lanka"
          ],
          [
           "Sri Lanka"
          ],
          [
           "Sri Lanka"
          ],
          [
           "Sri Lanka"
          ],
          [
           "Tajikistan"
          ],
          [
           "Tajikistan"
          ],
          [
           "Tajikistan"
          ],
          [
           "Tajikistan"
          ],
          [
           "Thailand"
          ],
          [
           "Thailand"
          ],
          [
           "Thailand"
          ],
          [
           "Thailand"
          ],
          [
           "Turkey"
          ],
          [
           "Turkey"
          ],
          [
           "Turkey"
          ],
          [
           "Turkey"
          ],
          [
           "Turkmenistan"
          ],
          [
           "Turkmenistan"
          ],
          [
           "Turkmenistan"
          ],
          [
           "Turkmenistan"
          ],
          [
           "United Arab Emirates"
          ],
          [
           "United Arab Emirates"
          ],
          [
           "United Arab Emirates"
          ],
          [
           "United Arab Emirates"
          ],
          [
           "Uzbekistan"
          ],
          [
           "Uzbekistan"
          ],
          [
           "Uzbekistan"
          ],
          [
           "Uzbekistan"
          ],
          [
           "Vietnam"
          ],
          [
           "Vietnam"
          ],
          [
           "Vietnam"
          ],
          [
           "Vietnam"
          ],
          [
           "Yemen"
          ],
          [
           "Yemen"
          ],
          [
           "Yemen"
          ],
          [
           "Yemen"
          ]
         ],
         "hovertemplate": "continent=Asia<br>Education_Index=%{x}<br>government_trust=%{y}<br>cpi_score=%{z}<br>gdp_per_capita=%{marker.size}<br>Country=%{customdata[0]}<extra></extra>",
         "legendgroup": "Asia",
         "marker": {
          "color": "#636efa",
          "opacity": 0.5,
          "size": [
           0.3508,
           0.3508,
           0.3508,
           0.3508,
           0.8337,
           0.8337,
           0.8337,
           0.8337,
           1.0611,
           1.0611,
           1.0611,
           1.0611,
           1.378,
           1.378,
           1.378,
           1.378,
           0.5196,
           0.5196,
           0.5196,
           0.5196,
           0.5463,
           0.5463,
           0.5463,
           0.5463,
           0.9973,
           0.9973,
           0.9973,
           0.9973,
           0.9973,
           0.9973,
           0.9973,
           0.9973,
           1.264,
           1.264,
           1.264,
           1.264,
           0.8579,
           0.8579,
           0.8579,
           0.8579,
           0.7283,
           0.7283,
           0.7283,
           0.7283,
           0.9135,
           0.9135,
           0.9135,
           0.9135,
           1.0812,
           1.0812,
           1.0812,
           1.0812,
           1.0353,
           1.0353,
           1.0353,
           1.0353,
           1.2952,
           1.2952,
           1.2952,
           1.2952,
           1.3272,
           1.3272,
           1.3272,
           1.3272,
           0.888,
           0.888,
           0.888,
           0.888,
           1.1808,
           1.1808,
           1.1808,
           1.1808,
           1.5403,
           1.5403,
           1.5403,
           1.5403,
           0.5379,
           0.5379,
           0.5379,
           0.5379,
           1.0132,
           1.0132,
           1.0132,
           1.0132,
           1.1995,
           1.1995,
           1.1995,
           1.1995,
           0.9294,
           0.9294,
           0.9294,
           0.9294,
           0.5075,
           0.5075,
           0.5075,
           0.5075,
           0.4277,
           0.4277,
           0.4277,
           0.4277,
           0.6628,
           0.6628,
           0.6628,
           0.6628,
           0.7863,
           0.7863,
           0.7863,
           0.7863,
           1.427,
           1.427,
           1.427,
           1.427,
           1.5788,
           1.5788,
           1.5788,
           1.5788,
           0.928,
           0.928,
           0.928,
           0.928,
           0.4705,
           0.4705,
           0.4705,
           0.4705,
           1.0402,
           1.0402,
           1.0402,
           1.0402,
           1.1476,
           1.1476,
           1.1476,
           1.1476,
           1.0393,
           1.0393,
           1.0393,
           1.0393,
           1.6632,
           1.6632,
           1.6632,
           1.6632,
           0.7207,
           0.7207,
           0.7207,
           0.7207,
           0.7192,
           0.7192,
           0.7192,
           0.7192,
           0.4668,
           0.4668,
           0.4668,
           0.4668
          ],
          "sizemode": "area",
          "sizeref": 0.0008213333333333333,
          "symbol": "circle"
         },
         "mode": "markers",
         "name": "Asia",
         "scene": "scene",
         "showlegend": true,
         "type": "scatter3d",
         "x": [
          0.45,
          0.45,
          0.45,
          0.45,
          0.7625,
          0.7625,
          0.7625,
          0.7625,
          0.715,
          0.715,
          0.715,
          0.715,
          0.775,
          0.775,
          0.775,
          0.775,
          0.53,
          0.53,
          0.53,
          0.53,
          0.5175,
          0.5175,
          0.5175,
          0.5175,
          0.7025,
          0.7025,
          0.7025,
          0.7025,
          0.7025,
          0.7025,
          0.7025,
          0.7025,
          0.82,
          0.82,
          0.82,
          0.82,
          0.8575,
          0.8575,
          0.8575,
          0.8575,
          0.5875,
          0.5875,
          0.5875,
          0.5875,
          0.6475,
          0.6475,
          0.6475,
          0.6475,
          0.77,
          0.77,
          0.77,
          0.77,
          0.5425,
          0.5425,
          0.5425,
          0.5425,
          0.89,
          0.89,
          0.89,
          0.89,
          0.8575,
          0.8575,
          0.8575,
          0.8575,
          0.7175,
          0.7175,
          0.7175,
          0.7175,
          0.8325,
          0.8325,
          0.8325,
          0.8325,
          0.655,
          0.655,
          0.655,
          0.655,
          0.7475,
          0.7475,
          0.7475,
          0.7475,
          0.6475,
          0.6475,
          0.6475,
          0.6475,
          0.735,
          0.735,
          0.735,
          0.735,
          0.785,
          0.785,
          0.785,
          0.785,
          0.4725,
          0.4725,
          0.4725,
          0.4725,
          0.54,
          0.54,
          0.54,
          0.54,
          0.4275,
          0.4275,
          0.4275,
          0.4275,
          0.6825,
          0.6825,
          0.6825,
          0.6825,
          0.83,
          0.83,
          0.83,
          0.83,
          0.86,
          0.86,
          0.86,
          0.86,
          0.77,
          0.77,
          0.77,
          0.77,
          0.67,
          0.67,
          0.67,
          0.67,
          0.69,
          0.69,
          0.69,
          0.69,
          0.735,
          0.735,
          0.735,
          0.735,
          0.6325,
          0.6325,
          0.6325,
          0.6325,
          0.7525,
          0.7525,
          0.7525,
          0.7525,
          0.715,
          0.715,
          0.715,
          0.715,
          0.65,
          0.65,
          0.65,
          0.65,
          0.38,
          0.38,
          0.38,
          0.38
         ],
         "y": [
          0.0548,
          0.0548,
          0.0548,
          0.0548,
          0.0394,
          0.0394,
          0.0394,
          0.0394,
          0.1749,
          0.1749,
          0.1749,
          0.1749,
          0.199,
          0.199,
          0.199,
          0.199,
          0.1341,
          0.1341,
          0.1341,
          0.1341,
          0.0669,
          0.0669,
          0.0669,
          0.0669,
          0.0634,
          0.0634,
          0.0634,
          0.0634,
          0.0634,
          0.0634,
          0.0634,
          0.0634,
          0.0447,
          0.0447,
          0.0447,
          0.0447,
          0.2535,
          0.2535,
          0.2535,
          0.2535,
          0.0888,
          0.0888,
          0.0888,
          0.0888,
          0.0153,
          0.0153,
          0.0153,
          0.0153,
          0.0903,
          0.0903,
          0.0903,
          0.0903,
          0.1073,
          0.1073,
          0.1073,
          0.1073,
          0.1293,
          0.1293,
          0.1293,
          0.1293,
          0.1586,
          0.1586,
          0.1586,
          0.1586,
          0.1317,
          0.1317,
          0.1317,
          0.1317,
          0.1052,
          0.1052,
          0.1052,
          0.1052,
          0.1686,
          0.1686,
          0.1686,
          0.1686,
          0.0349,
          0.0349,
          0.0349,
          0.0349,
          0.0616,
          0.0616,
          0.0616,
          0.0616,
          0.0634,
          0.0634,
          0.0634,
          0.0634,
          0.0324,
          0.0324,
          0.0324,
          0.0324,
          0.1823,
          0.1823,
          0.1823,
          0.1823,
          0.0748,
          0.0748,
          0.0748,
          0.0748,
          0.11,
          0.11,
          0.11,
          0.11,
          0.1085,
          0.1085,
          0.1085,
          0.1085,
          0.2144,
          0.2144,
          0.2144,
          0.2144,
          0.4666,
          0.4666,
          0.4666,
          0.4666,
          0.0656,
          0.0656,
          0.0656,
          0.0656,
          0.1188,
          0.1188,
          0.1188,
          0.1188,
          0.0301,
          0.0301,
          0.0301,
          0.0301,
          0.118,
          0.118,
          0.118,
          0.118,
          0.1582,
          0.1582,
          0.1582,
          0.1582,
          0.3011,
          0.3011,
          0.3011,
          0.3011,
          0.2634,
          0.2634,
          0.2634,
          0.2634,
          0.086,
          0.086,
          0.086,
          0.086,
          0.0691,
          0.0691,
          0.0691,
          0.0691
         ],
         "z": [
          14.25,
          14.25,
          14.25,
          14.25,
          34.5,
          34.5,
          34.5,
          34.5,
          28.75,
          28.75,
          28.75,
          28.75,
          41.5,
          41.5,
          41.5,
          41.5,
          26.25,
          26.25,
          26.25,
          26.25,
          20.75,
          20.75,
          20.75,
          20.75,
          39.25,
          39.25,
          39.25,
          39.25,
          39.25,
          39.25,
          39.25,
          39.25,
          58,
          58,
          58,
          58,
          55.75,
          55.75,
          55.75,
          55.75,
          39.75,
          39.75,
          39.75,
          39.75,
          37,
          37,
          37,
          37,
          28.5,
          28.5,
          28.5,
          28.5,
          17.25,
          17.25,
          17.25,
          17.25,
          62,
          62,
          62,
          62,
          73.25,
          73.25,
          73.25,
          73.25,
          49.5,
          49.5,
          49.5,
          49.5,
          29.75,
          29.75,
          29.75,
          29.75,
          42.5,
          42.5,
          42.5,
          42.5,
          28.5,
          28.5,
          28.5,
          28.5,
          28,
          28,
          28,
          28,
          48.25,
          48.25,
          48.25,
          48.25,
          37.5,
          37.5,
          37.5,
          37.5,
          27.25,
          27.25,
          27.25,
          27.25,
          29.5,
          29.5,
          29.5,
          29.5,
          31.75,
          31.75,
          31.75,
          31.75,
          35,
          35,
          35,
          35,
          49,
          49,
          49,
          49,
          84.5,
          84.5,
          84.5,
          84.5,
          37.25,
          37.25,
          37.25,
          37.25,
          24.25,
          24.25,
          24.25,
          24.25,
          36.5,
          36.5,
          36.5,
          36.5,
          41,
          41,
          41,
          41,
          19.75,
          19.75,
          19.75,
          19.75,
          69.25,
          69.25,
          69.25,
          69.25,
          21.25,
          21.25,
          21.25,
          21.25,
          33,
          33,
          33,
          33,
          15.5,
          15.5,
          15.5,
          15.5
         ]
        },
        {
         "customdata": [
          [
           "Albania"
          ],
          [
           "Albania"
          ],
          [
           "Albania"
          ],
          [
           "Albania"
          ],
          [
           "Austria"
          ],
          [
           "Austria"
          ],
          [
           "Austria"
          ],
          [
           "Austria"
          ],
          [
           "Belarus"
          ],
          [
           "Belarus"
          ],
          [
           "Belarus"
          ],
          [
           "Belarus"
          ],
          [
           "Belgium"
          ],
          [
           "Belgium"
          ],
          [
           "Belgium"
          ],
          [
           "Belgium"
          ],
          [
           "Bosnia and Herzegovina"
          ],
          [
           "Bosnia and Herzegovina"
          ],
          [
           "Bosnia and Herzegovina"
          ],
          [
           "Bosnia and Herzegovina"
          ],
          [
           "Bulgaria"
          ],
          [
           "Bulgaria"
          ],
          [
           "Bulgaria"
          ],
          [
           "Bulgaria"
          ],
          [
           "Croatia"
          ],
          [
           "Croatia"
          ],
          [
           "Croatia"
          ],
          [
           "Croatia"
          ],
          [
           "Denmark"
          ],
          [
           "Denmark"
          ],
          [
           "Denmark"
          ],
          [
           "Denmark"
          ],
          [
           "Estonia"
          ],
          [
           "Estonia"
          ],
          [
           "Estonia"
          ],
          [
           "Estonia"
          ],
          [
           "Finland"
          ],
          [
           "Finland"
          ],
          [
           "Finland"
          ],
          [
           "Finland"
          ],
          [
           "France"
          ],
          [
           "France"
          ],
          [
           "France"
          ],
          [
           "France"
          ],
          [
           "Germany"
          ],
          [
           "Germany"
          ],
          [
           "Germany"
          ],
          [
           "Germany"
          ],
          [
           "Greece"
          ],
          [
           "Greece"
          ],
          [
           "Greece"
          ],
          [
           "Greece"
          ],
          [
           "Hungary"
          ],
          [
           "Hungary"
          ],
          [
           "Hungary"
          ],
          [
           "Hungary"
          ],
          [
           "Iceland"
          ],
          [
           "Iceland"
          ],
          [
           "Iceland"
          ],
          [
           "Iceland"
          ],
          [
           "Ireland"
          ],
          [
           "Ireland"
          ],
          [
           "Ireland"
          ],
          [
           "Ireland"
          ],
          [
           "Italy"
          ],
          [
           "Italy"
          ],
          [
           "Italy"
          ],
          [
           "Italy"
          ],
          [
           "Latvia"
          ],
          [
           "Latvia"
          ],
          [
           "Latvia"
          ],
          [
           "Latvia"
          ],
          [
           "Lithuania"
          ],
          [
           "Lithuania"
          ],
          [
           "Lithuania"
          ],
          [
           "Lithuania"
          ],
          [
           "Luxembourg"
          ],
          [
           "Luxembourg"
          ],
          [
           "Luxembourg"
          ],
          [
           "Luxembourg"
          ],
          [
           "Malta"
          ],
          [
           "Malta"
          ],
          [
           "Malta"
          ],
          [
           "Malta"
          ],
          [
           "Moldova"
          ],
          [
           "Moldova"
          ],
          [
           "Moldova"
          ],
          [
           "Moldova"
          ],
          [
           "Montenegro"
          ],
          [
           "Montenegro"
          ],
          [
           "Montenegro"
          ],
          [
           "Montenegro"
          ],
          [
           "Netherlands"
          ],
          [
           "Netherlands"
          ],
          [
           "Netherlands"
          ],
          [
           "Netherlands"
          ],
          [
           "Norway"
          ],
          [
           "Norway"
          ],
          [
           "Norway"
          ],
          [
           "Norway"
          ],
          [
           "Poland"
          ],
          [
           "Poland"
          ],
          [
           "Poland"
          ],
          [
           "Poland"
          ],
          [
           "Portugal"
          ],
          [
           "Portugal"
          ],
          [
           "Portugal"
          ],
          [
           "Portugal"
          ],
          [
           "Romania"
          ],
          [
           "Romania"
          ],
          [
           "Romania"
          ],
          [
           "Romania"
          ],
          [
           "Russia"
          ],
          [
           "Russia"
          ],
          [
           "Russia"
          ],
          [
           "Russia"
          ],
          [
           "Serbia"
          ],
          [
           "Serbia"
          ],
          [
           "Serbia"
          ],
          [
           "Serbia"
          ],
          [
           "Slovakia"
          ],
          [
           "Slovakia"
          ],
          [
           "Slovakia"
          ],
          [
           "Slovakia"
          ],
          [
           "Slovenia"
          ],
          [
           "Slovenia"
          ],
          [
           "Slovenia"
          ],
          [
           "Slovenia"
          ],
          [
           "Spain"
          ],
          [
           "Spain"
          ],
          [
           "Spain"
          ],
          [
           "Spain"
          ],
          [
           "Sweden"
          ],
          [
           "Sweden"
          ],
          [
           "Sweden"
          ],
          [
           "Sweden"
          ],
          [
           "Switzerland"
          ],
          [
           "Switzerland"
          ],
          [
           "Switzerland"
          ],
          [
           "Switzerland"
          ],
          [
           "Ukraine"
          ],
          [
           "Ukraine"
          ],
          [
           "Ukraine"
          ],
          [
           "Ukraine"
          ],
          [
           "United Kingdom"
          ],
          [
           "United Kingdom"
          ],
          [
           "United Kingdom"
          ],
          [
           "United Kingdom"
          ]
         ],
         "hovertemplate": "continent=Europe<br>Education_Index=%{x}<br>government_trust=%{y}<br>cpi_score=%{z}<br>gdp_per_capita=%{marker.size}<br>Country=%{customdata[0]}<extra></extra>",
         "legendgroup": "Europe",
         "marker": {
          "color": "#EF553B",
          "opacity": 0.5,
          "size": [
           0.9345,
           0.9345,
           0.9345,
           0.9345,
           1.3853,
           1.3853,
           1.3853,
           1.3853,
           1.0736,
           1.0736,
           1.0736,
           1.0736,
           1.3629,
           1.3629,
           1.3629,
           1.3629,
           0.9187,
           0.9187,
           0.9187,
           0.9187,
           1.0799,
           1.0799,
           1.0799,
           1.0799,
           1.1438,
           1.1438,
           1.1438,
           1.1438,
           1.3855,
           1.3855,
           1.3855,
           1.3855,
           1.2274,
           1.2274,
           1.2274,
           1.2274,
           1.3447,
           1.3447,
           1.3447,
           1.3447,
           1.3314,
           1.3314,
           1.3314,
           1.3314,
           1.3822,
           1.3822,
           1.3822,
           1.3822,
           1.1946,
           1.1946,
           1.1946,
           1.1946,
           1.1947,
           1.1947,
           1.1947,
           1.1947,
           1.3765,
           1.3765,
           1.3765,
           1.3765,
           1.4547,
           1.4547,
           1.4547,
           1.4547,
           1.3011,
           1.3011,
           1.3011,
           1.3011,
           1.1772,
           1.1772,
           1.1772,
           1.1772,
           1.2242,
           1.2242,
           1.2242,
           1.2242,
           1.6227,
           1.6227,
           1.6227,
           1.6227,
           1.2802,
           1.2802,
           1.2802,
           1.2802,
           0.6663,
           0.6663,
           0.6663,
           0.6663,
           1.0409,
           1.0409,
           1.0409,
           1.0409,
           1.3976,
           1.3976,
           1.3976,
           1.3976,
           1.5049,
           1.5049,
           1.5049,
           1.5049,
           1.1998,
           1.1998,
           1.1998,
           1.1998,
           1.221,
           1.221,
           1.221,
           1.221,
           1.1348,
           1.1348,
           1.1348,
           1.1348,
           1.1884,
           1.1884,
           1.1884,
           1.1884,
           0.9922,
           0.9922,
           0.9922,
           0.9922,
           1.2376,
           1.2376,
           1.2376,
           1.2376,
           1.2508,
           1.2508,
           1.2508,
           1.2508,
           1.2879,
           1.2879,
           1.2879,
           1.2879,
           1.392,
           1.392,
           1.392,
           1.392,
           1.4584,
           1.4584,
           1.4584,
           1.4584,
           0.8267,
           0.8267,
           0.8267,
           0.8267,
           1.3213,
           1.3213,
           1.3213,
           1.3213
          ],
          "sizemode": "area",
          "sizeref": 0.0008213333333333333,
          "symbol": "circle"
         },
         "mode": "markers",
         "name": "Europe",
         "scene": "scene",
         "showlegend": true,
         "type": "scatter3d",
         "x": [
          0.7725,
          0.7725,
          0.7725,
          0.7725,
          0.875,
          0.875,
          0.875,
          0.875,
          0.8575,
          0.8575,
          0.8575,
          0.8575,
          0.9875,
          0.9875,
          0.9875,
          0.9875,
          0.7325,
          0.7325,
          0.7325,
          0.7325,
          0.8225,
          0.8225,
          0.8225,
          0.8225,
          0.8125,
          0.8125,
          0.8125,
          0.8125,
          0.99,
          0.99,
          0.99,
          0.99,
          0.8925,
          0.8925,
          0.8925,
          0.8925,
          0.945,
          0.945,
          0.945,
          0.945,
          0.86,
          0.86,
          0.86,
          0.86,
          0.96,
          0.96,
          0.96,
          0.96,
          0.875,
          0.875,
          0.875,
          0.875,
          0.83,
          0.83,
          0.83,
          0.83,
          0.9875,
          0.9875,
          0.9875,
          0.9875,
          0.9925,
          0.9925,
          0.9925,
          0.9925,
          0.83,
          0.83,
          0.83,
          0.83,
          0.8825,
          0.8825,
          0.8825,
          0.8825,
          0.9025,
          0.9025,
          0.9025,
          0.9025,
          0.8025,
          0.8025,
          0.8025,
          0.8025,
          0.8375,
          0.8375,
          0.8375,
          0.8375,
          0.71,
          0.71,
          0.71,
          0.71,
          0.8125,
          0.8125,
          0.8125,
          0.8125,
          0.94,
          0.94,
          0.94,
          0.94,
          0.9475,
          0.9475,
          0.9475,
          0.9475,
          0.885,
          0.885,
          0.885,
          0.885,
          0.8,
          0.8,
          0.8,
          0.8,
          0.7825,
          0.7825,
          0.7825,
          0.7825,
          0.85,
          0.85,
          0.85,
          0.85,
          0.7975,
          0.7975,
          0.7975,
          0.7975,
          0.845,
          0.845,
          0.845,
          0.845,
          0.915,
          0.915,
          0.915,
          0.915,
          0.8675,
          0.8675,
          0.8675,
          0.8675,
          0.94,
          0.94,
          0.94,
          0.94,
          0.91,
          0.91,
          0.91,
          0.91,
          0.8125,
          0.8125,
          0.8125,
          0.8125,
          0.94,
          0.94,
          0.94,
          0.94
         ],
         "y": [
          0.0407,
          0.0407,
          0.0407,
          0.0407,
          0.2145,
          0.2145,
          0.2145,
          0.2145,
          0.1608,
          0.1608,
          0.1608,
          0.1608,
          0.2317,
          0.2317,
          0.2317,
          0.2317,
          0.0021,
          0.0021,
          0.0021,
          0.0021,
          0.0082,
          0.0082,
          0.0082,
          0.0082,
          0.0321,
          0.0321,
          0.0321,
          0.0321,
          0.4256,
          0.4256,
          0.4256,
          0.4256,
          0.1675,
          0.1675,
          0.1675,
          0.1675,
          0.3956,
          0.3956,
          0.3956,
          0.3956,
          0.1845,
          0.1845,
          0.1845,
          0.1845,
          0.26,
          0.26,
          0.26,
          0.26,
          0.0338,
          0.0338,
          0.0338,
          0.0338,
          0.0266,
          0.0266,
          0.0266,
          0.0266,
          0.1377,
          0.1377,
          0.1377,
          0.1377,
          0.3004,
          0.3004,
          0.3004,
          0.3004,
          0.0288,
          0.0288,
          0.0288,
          0.0288,
          0.0668,
          0.0668,
          0.0668,
          0.0668,
          0.0175,
          0.0175,
          0.0175,
          0.0175,
          0.3335,
          0.3335,
          0.3335,
          0.3335,
          0.1455,
          0.1455,
          0.1455,
          0.1455,
          0.0066,
          0.0066,
          0.0066,
          0.0066,
          0.098,
          0.098,
          0.098,
          0.098,
          0.2985,
          0.2985,
          0.2985,
          0.2985,
          0.3405,
          0.3405,
          0.3405,
          0.3405,
          0.0539,
          0.0539,
          0.0539,
          0.0539,
          0.0172,
          0.0172,
          0.0172,
          0.0172,
          0.0042,
          0.0042,
          0.0042,
          0.0042,
          0.0298,
          0.0298,
          0.0298,
          0.0298,
          0.0373,
          0.0373,
          0.0373,
          0.0373,
          0.0216,
          0.0216,
          0.0216,
          0.0216,
          0.0477,
          0.0477,
          0.0477,
          0.0477,
          0.072,
          0.072,
          0.072,
          0.072,
          0.3947,
          0.3947,
          0.3947,
          0.3947,
          0.3717,
          0.3717,
          0.3717,
          0.3717,
          0.0184,
          0.0184,
          0.0184,
          0.0184,
          0.2365,
          0.2365,
          0.2365,
          0.2365
         ],
         "z": [
          37.25,
          37.25,
          37.25,
          37.25,
          75.5,
          75.5,
          75.5,
          75.5,
          40,
          40,
          40,
          40,
          76,
          76,
          76,
          76,
          38.25,
          38.25,
          38.25,
          38.25,
          41.75,
          41.75,
          41.75,
          41.75,
          49.25,
          49.25,
          49.25,
          49.25,
          89.25,
          89.25,
          89.25,
          89.25,
          71,
          71,
          71,
          71,
          87.25,
          87.25,
          87.25,
          87.25,
          70.25,
          70.25,
          70.25,
          70.25,
          80.75,
          80.75,
          80.75,
          80.75,
          45.75,
          45.75,
          45.75,
          45.75,
          47.5,
          47.5,
          47.5,
          47.5,
          77.5,
          77.5,
          77.5,
          77.5,
          73.75,
          73.75,
          73.75,
          73.75,
          48.25,
          48.25,
          48.25,
          48.25,
          57.25,
          57.25,
          57.25,
          57.25,
          59,
          59,
          59,
          59,
          82.25,
          82.25,
          82.25,
          82.25,
          56.25,
          56.25,
          56.25,
          56.25,
          31.75,
          31.75,
          31.75,
          31.75,
          45,
          45,
          45,
          45,
          82.75,
          82.75,
          82.75,
          82.75,
          85.5,
          85.5,
          85.5,
          85.5,
          61.25,
          61.25,
          61.25,
          61.25,
          63.25,
          63.25,
          63.25,
          63.25,
          47.25,
          47.25,
          47.25,
          47.25,
          28.75,
          28.75,
          28.75,
          28.75,
          40.5,
          40.5,
          40.5,
          40.5,
          50.5,
          50.5,
          50.5,
          50.5,
          60.5,
          60.5,
          60.5,
          60.5,
          57.75,
          57.75,
          57.75,
          57.75,
          86.5,
          86.5,
          86.5,
          86.5,
          85.5,
          85.5,
          85.5,
          85.5,
          29.5,
          29.5,
          29.5,
          29.5,
          81,
          81,
          81,
          81
         ]
        },
        {
         "customdata": [
          [
           "Algeria"
          ],
          [
           "Algeria"
          ],
          [
           "Algeria"
          ],
          [
           "Algeria"
          ],
          [
           "Benin"
          ],
          [
           "Benin"
          ],
          [
           "Benin"
          ],
          [
           "Benin"
          ],
          [
           "Botswana"
          ],
          [
           "Botswana"
          ],
          [
           "Botswana"
          ],
          [
           "Botswana"
          ],
          [
           "Burkina Faso"
          ],
          [
           "Burkina Faso"
          ],
          [
           "Burkina Faso"
          ],
          [
           "Burkina Faso"
          ],
          [
           "Burundi"
          ],
          [
           "Burundi"
          ],
          [
           "Burundi"
          ],
          [
           "Burundi"
          ],
          [
           "Cameroon"
          ],
          [
           "Cameroon"
          ],
          [
           "Cameroon"
          ],
          [
           "Cameroon"
          ],
          [
           "Chad"
          ],
          [
           "Chad"
          ],
          [
           "Chad"
          ],
          [
           "Chad"
          ],
          [
           "Egypt"
          ],
          [
           "Egypt"
          ],
          [
           "Egypt"
          ],
          [
           "Egypt"
          ],
          [
           "Ethiopia"
          ],
          [
           "Ethiopia"
          ],
          [
           "Ethiopia"
          ],
          [
           "Ethiopia"
          ],
          [
           "Gabon"
          ],
          [
           "Gabon"
          ],
          [
           "Gabon"
          ],
          [
           "Gabon"
          ],
          [
           "Ghana"
          ],
          [
           "Ghana"
          ],
          [
           "Ghana"
          ],
          [
           "Ghana"
          ],
          [
           "Kenya"
          ],
          [
           "Kenya"
          ],
          [
           "Kenya"
          ],
          [
           "Kenya"
          ],
          [
           "Liberia"
          ],
          [
           "Liberia"
          ],
          [
           "Liberia"
          ],
          [
           "Liberia"
          ],
          [
           "Libya"
          ],
          [
           "Libya"
          ],
          [
           "Libya"
          ],
          [
           "Libya"
          ],
          [
           "Madagascar"
          ],
          [
           "Madagascar"
          ],
          [
           "Madagascar"
          ],
          [
           "Madagascar"
          ],
          [
           "Malawi"
          ],
          [
           "Malawi"
          ],
          [
           "Malawi"
          ],
          [
           "Malawi"
          ],
          [
           "Mali"
          ],
          [
           "Mali"
          ],
          [
           "Mali"
          ],
          [
           "Mali"
          ],
          [
           "Mauritania"
          ],
          [
           "Mauritania"
          ],
          [
           "Mauritania"
          ],
          [
           "Mauritania"
          ],
          [
           "Mauritius"
          ],
          [
           "Mauritius"
          ],
          [
           "Mauritius"
          ],
          [
           "Mauritius"
          ],
          [
           "Morocco"
          ],
          [
           "Morocco"
          ],
          [
           "Morocco"
          ],
          [
           "Morocco"
          ],
          [
           "Niger"
          ],
          [
           "Niger"
          ],
          [
           "Niger"
          ],
          [
           "Niger"
          ],
          [
           "Nigeria"
          ],
          [
           "Nigeria"
          ],
          [
           "Nigeria"
          ],
          [
           "Nigeria"
          ],
          [
           "Rwanda"
          ],
          [
           "Rwanda"
          ],
          [
           "Rwanda"
          ],
          [
           "Rwanda"
          ],
          [
           "Senegal"
          ],
          [
           "Senegal"
          ],
          [
           "Senegal"
          ],
          [
           "Senegal"
          ],
          [
           "Sierra Leone"
          ],
          [
           "Sierra Leone"
          ],
          [
           "Sierra Leone"
          ],
          [
           "Sierra Leone"
          ],
          [
           "South Africa"
          ],
          [
           "South Africa"
          ],
          [
           "South Africa"
          ],
          [
           "South Africa"
          ],
          [
           "Tanzania"
          ],
          [
           "Tanzania"
          ],
          [
           "Tanzania"
          ],
          [
           "Tanzania"
          ],
          [
           "Togo"
          ],
          [
           "Togo"
          ],
          [
           "Togo"
          ],
          [
           "Togo"
          ],
          [
           "Tunisia"
          ],
          [
           "Tunisia"
          ],
          [
           "Tunisia"
          ],
          [
           "Tunisia"
          ],
          [
           "Uganda"
          ],
          [
           "Uganda"
          ],
          [
           "Uganda"
          ],
          [
           "Uganda"
          ],
          [
           "Zambia"
          ],
          [
           "Zambia"
          ],
          [
           "Zambia"
          ],
          [
           "Zambia"
          ],
          [
           "Zimbabwe"
          ],
          [
           "Zimbabwe"
          ],
          [
           "Zimbabwe"
          ],
          [
           "Zimbabwe"
          ]
         ],
         "hovertemplate": "continent=Africa<br>Education_Index=%{x}<br>government_trust=%{y}<br>cpi_score=%{z}<br>gdp_per_capita=%{marker.size}<br>Country=%{customdata[0]}<extra></extra>",
         "legendgroup": "Africa",
         "marker": {
          "color": "#00cc96",
          "opacity": 0.5,
          "size": [
           1.003,
           1.003,
           1.003,
           1.003,
           0.3722,
           0.3722,
           0.3722,
           0.3722,
           1.0434,
           1.0434,
           1.0434,
           1.0434,
           0.3133,
           0.3133,
           0.3133,
           0.3133,
           0.061,
           0.061,
           0.061,
           0.061,
           0.5177,
           0.5177,
           0.5177,
           0.5177,
           0.372,
           0.372,
           0.372,
           0.372,
           0.9174,
           0.9174,
           0.9174,
           0.9174,
           0.2935,
           0.2935,
           0.2935,
           0.2935,
           1.0879,
           1.0879,
           1.0879,
           1.0879,
           0.604,
           0.604,
           0.604,
           0.604,
           0.4825,
           0.4825,
           0.4825,
           0.4825,
           0.0848,
           0.0848,
           0.0848,
           0.0848,
           1.0656,
           1.0656,
           1.0656,
           1.0656,
           0.2625,
           0.2625,
           0.2625,
           0.2625,
           0.1566,
           0.1566,
           0.1566,
           0.1566,
           0.373,
           0.373,
           0.373,
           0.373,
           0.5574,
           0.5574,
           0.5574,
           0.5574,
           1.1018,
           1.1018,
           1.1018,
           1.1018,
           0.7982,
           0.7982,
           0.7982,
           0.7982,
           0.1251,
           0.1251,
           0.1251,
           0.1251,
           0.7058,
           0.7058,
           0.7058,
           0.7058,
           0.3205,
           0.3205,
           0.3205,
           0.3205,
           0.4308,
           0.4308,
           0.4308,
           0.4308,
           0.3057,
           0.3057,
           0.3057,
           0.3057,
           0.9688,
           0.9688,
           0.9688,
           0.9688,
           0.4318,
           0.4318,
           0.4318,
           0.4318,
           0.262,
           0.262,
           0.262,
           0.262,
           0.9273,
           0.9273,
           0.9273,
           0.9273,
           0.3116,
           0.3116,
           0.3116,
           0.3116,
           0.5617,
           0.5617,
           0.5617,
           0.5617,
           0.3425,
           0.3425,
           0.3425,
           0.3425
          ],
          "sizemode": "area",
          "sizeref": 0.0008213333333333333,
          "symbol": "circle"
         },
         "mode": "markers",
         "name": "Africa",
         "scene": "scene",
         "showlegend": true,
         "type": "scatter3d",
         "x": [
          0.7025,
          0.7025,
          0.7025,
          0.7025,
          0.5225,
          0.5225,
          0.5225,
          0.5225,
          0.68,
          0.68,
          0.68,
          0.68,
          0.33,
          0.33,
          0.33,
          0.33,
          0.4675,
          0.4675,
          0.4675,
          0.4675,
          0.585,
          0.585,
          0.585,
          0.585,
          0.3275,
          0.3275,
          0.3275,
          0.3275,
          0.6375,
          0.6375,
          0.6375,
          0.6375,
          0.3625,
          0.3625,
          0.3625,
          0.3625,
          0.6525,
          0.6525,
          0.6525,
          0.6525,
          0.58,
          0.58,
          0.58,
          0.58,
          0.5675,
          0.5675,
          0.5675,
          0.5675,
          0.4575,
          0.4575,
          0.4575,
          0.4575,
          0.6475,
          0.6475,
          0.6475,
          0.6475,
          0.52,
          0.52,
          0.52,
          0.52,
          0.4875,
          0.4875,
          0.4875,
          0.4875,
          0.315,
          0.315,
          0.315,
          0.315,
          0.41,
          0.41,
          0.41,
          0.41,
          0.76,
          0.76,
          0.76,
          0.76,
          0.5675,
          0.5675,
          0.5675,
          0.5675,
          0.2425,
          0.2425,
          0.2425,
          0.2425,
          0.505,
          0.505,
          0.505,
          0.505,
          0.485,
          0.485,
          0.485,
          0.485,
          0.395,
          0.395,
          0.395,
          0.395,
          0.4225,
          0.4225,
          0.4225,
          0.4225,
          0.725,
          0.725,
          0.725,
          0.725,
          0.4525,
          0.4525,
          0.4525,
          0.4525,
          0.55,
          0.55,
          0.55,
          0.55,
          0.6975,
          0.6975,
          0.6975,
          0.6975,
          0.5425,
          0.5425,
          0.5425,
          0.5425,
          0.6075,
          0.6075,
          0.6075,
          0.6075,
          0.5725,
          0.5725,
          0.5725,
          0.5725
         ],
         "y": [
          0.1422,
          0.1422,
          0.1422,
          0.1422,
          0.0725,
          0.0725,
          0.0725,
          0.0725,
          0.1038,
          0.1038,
          0.1038,
          0.1038,
          0.1224,
          0.1224,
          0.1224,
          0.1224,
          0.1102,
          0.1102,
          0.1102,
          0.1102,
          0.0473,
          0.0473,
          0.0473,
          0.0473,
          0.0611,
          0.0611,
          0.0611,
          0.0611,
          0.0879,
          0.0879,
          0.0879,
          0.0879,
          0.1405,
          0.1405,
          0.1405,
          0.1405,
          0.0735,
          0.0735,
          0.0735,
          0.0735,
          0.0345,
          0.0345,
          0.0345,
          0.0345,
          0.0578,
          0.0578,
          0.0578,
          0.0578,
          0.0411,
          0.0411,
          0.0411,
          0.0411,
          0.1257,
          0.1257,
          0.1257,
          0.1257,
          0.0596,
          0.0596,
          0.0596,
          0.0596,
          0.0779,
          0.0779,
          0.0779,
          0.0779,
          0.0841,
          0.0841,
          0.0841,
          0.0841,
          0.1231,
          0.1231,
          0.1231,
          0.1231,
          0.0568,
          0.0568,
          0.0568,
          0.0568,
          0.0808,
          0.0808,
          0.0808,
          0.0808,
          0.124,
          0.124,
          0.124,
          0.124,
          0.0349,
          0.0349,
          0.0349,
          0.0349,
          0.4655,
          0.4655,
          0.4655,
          0.4655,
          0.0941,
          0.0941,
          0.0941,
          0.0941,
          0.0642,
          0.0642,
          0.0642,
          0.0642,
          0.0681,
          0.0681,
          0.0681,
          0.0681,
          0.0919,
          0.0919,
          0.0919,
          0.0919,
          0.0972,
          0.0972,
          0.0972,
          0.0972,
          0.0671,
          0.0671,
          0.0671,
          0.0671,
          0.0627,
          0.0627,
          0.0627,
          0.0627,
          0.093,
          0.093,
          0.093,
          0.093,
          0.091,
          0.091,
          0.091,
          0.091
         ],
         "z": [
          34.5,
          34.5,
          34.5,
          34.5,
          38,
          38,
          38,
          38,
          61.25,
          61.25,
          61.25,
          61.25,
          40.75,
          40.75,
          40.75,
          40.75,
          20,
          20,
          20,
          20,
          25.75,
          25.75,
          25.75,
          25.75,
          20.25,
          20.25,
          20.25,
          20.25,
          34.25,
          34.25,
          34.25,
          34.25,
          34,
          34,
          34,
          34,
          33,
          33,
          33,
          33,
          42.75,
          42.75,
          42.75,
          42.75,
          26.5,
          26.5,
          26.5,
          26.5,
          34.25,
          34.25,
          34.25,
          34.25,
          16,
          16,
          16,
          16,
          25.75,
          25.75,
          25.75,
          25.75,
          31.25,
          31.25,
          31.25,
          31.25,
          32.5,
          32.5,
          32.5,
          32.5,
          28.25,
          28.25,
          28.25,
          28.25,
          52,
          52,
          52,
          52,
          39,
          39,
          39,
          39,
          34,
          34,
          34,
          34,
          27,
          27,
          27,
          27,
          54.75,
          54.75,
          54.75,
          54.75,
          44.75,
          44.75,
          44.75,
          44.75,
          29.75,
          29.75,
          29.75,
          29.75,
          43.75,
          43.75,
          43.75,
          43.75,
          33.5,
          33.5,
          33.5,
          33.5,
          31.5,
          31.5,
          31.5,
          31.5,
          41,
          41,
          41,
          41,
          25.5,
          25.5,
          25.5,
          25.5,
          37,
          37,
          37,
          37,
          21.75,
          21.75,
          21.75,
          21.75
         ]
        },
        {
         "customdata": [
          [
           "Argentina"
          ],
          [
           "Argentina"
          ],
          [
           "Argentina"
          ],
          [
           "Argentina"
          ],
          [
           "Bolivia"
          ],
          [
           "Bolivia"
          ],
          [
           "Bolivia"
          ],
          [
           "Bolivia"
          ],
          [
           "Brazil"
          ],
          [
           "Brazil"
          ],
          [
           "Brazil"
          ],
          [
           "Brazil"
          ],
          [
           "Chile"
          ],
          [
           "Chile"
          ],
          [
           "Chile"
          ],
          [
           "Chile"
          ],
          [
           "Colombia"
          ],
          [
           "Colombia"
          ],
          [
           "Colombia"
          ],
          [
           "Colombia"
          ],
          [
           "Costa Rica"
          ],
          [
           "Costa Rica"
          ],
          [
           "Costa Rica"
          ],
          [
           "Costa Rica"
          ],
          [
           "Dominican Republic"
          ],
          [
           "Dominican Republic"
          ],
          [
           "Dominican Republic"
          ],
          [
           "Dominican Republic"
          ],
          [
           "Ecuador"
          ],
          [
           "Ecuador"
          ],
          [
           "Ecuador"
          ],
          [
           "Ecuador"
          ],
          [
           "El Salvador"
          ],
          [
           "El Salvador"
          ],
          [
           "El Salvador"
          ],
          [
           "El Salvador"
          ],
          [
           "Guatemala"
          ],
          [
           "Guatemala"
          ],
          [
           "Guatemala"
          ],
          [
           "Guatemala"
          ],
          [
           "Guinea"
          ],
          [
           "Guinea"
          ],
          [
           "Guinea"
          ],
          [
           "Guinea"
          ],
          [
           "Haiti"
          ],
          [
           "Haiti"
          ],
          [
           "Haiti"
          ],
          [
           "Haiti"
          ],
          [
           "Honduras"
          ],
          [
           "Honduras"
          ],
          [
           "Honduras"
          ],
          [
           "Honduras"
          ],
          [
           "Jamaica"
          ],
          [
           "Jamaica"
          ],
          [
           "Jamaica"
          ],
          [
           "Jamaica"
          ],
          [
           "Nicaragua"
          ],
          [
           "Nicaragua"
          ],
          [
           "Nicaragua"
          ],
          [
           "Nicaragua"
          ],
          [
           "Panama"
          ],
          [
           "Panama"
          ],
          [
           "Panama"
          ],
          [
           "Panama"
          ],
          [
           "Paraguay"
          ],
          [
           "Paraguay"
          ],
          [
           "Paraguay"
          ],
          [
           "Paraguay"
          ],
          [
           "Peru"
          ],
          [
           "Peru"
          ],
          [
           "Peru"
          ],
          [
           "Peru"
          ],
          [
           "Uruguay"
          ],
          [
           "Uruguay"
          ],
          [
           "Uruguay"
          ],
          [
           "Uruguay"
          ],
          [
           "Venezuela"
          ],
          [
           "Venezuela"
          ],
          [
           "Venezuela"
          ],
          [
           "Venezuela"
          ]
         ],
         "hovertemplate": "continent=South America<br>Education_Index=%{x}<br>government_trust=%{y}<br>cpi_score=%{z}<br>gdp_per_capita=%{marker.size}<br>Country=%{customdata[0]}<extra></extra>",
         "legendgroup": "South America",
         "marker": {
          "color": "#ab63fa",
          "opacity": 0.5,
          "size": [
           1.101,
           1.101,
           1.101,
           1.101,
           0.7605,
           0.7605,
           0.7605,
           0.7605,
           1.0196,
           1.0196,
           1.0196,
           1.0196,
           1.1625,
           1.1625,
           1.1625,
           1.1625,
           0.9836,
           0.9836,
           0.9836,
           0.9836,
           1.0274,
           1.0274,
           1.0274,
           1.0274,
           0.9929,
           0.9929,
           0.9929,
           0.9929,
           0.9165,
           0.9165,
           0.9165,
           0.9165,
           0.8186,
           0.8186,
           0.8186,
           0.8186,
           0.7996,
           0.7996,
           0.7996,
           0.7996,
           0.2857,
           0.2857,
           0.2857,
           0.2857,
           0.3183,
           0.3183,
           0.3183,
           0.3183,
           0.647,
           0.647,
           0.647,
           0.647,
           0.8465,
           0.8465,
           0.8465,
           0.8465,
           0.6731,
           0.6731,
           0.6731,
           0.6731,
           1.1396,
           1.1396,
           1.1396,
           1.1396,
           0.8456,
           0.8456,
           0.8456,
           0.8456,
           0.9574,
           0.9574,
           0.9574,
           0.9574,
           1.1241,
           1.1241,
           1.1241,
           1.1241,
           1.0322,
           1.0322,
           1.0322,
           1.0322
          ],
          "sizemode": "area",
          "sizeref": 0.0008213333333333333,
          "symbol": "circle"
         },
         "mode": "markers",
         "name": "South America",
         "scene": "scene",
         "showlegend": true,
         "type": "scatter3d",
         "x": [
          0.8625,
          0.8625,
          0.8625,
          0.8625,
          0.71,
          0.71,
          0.71,
          0.71,
          0.7275,
          0.7275,
          0.7275,
          0.7275,
          0.8325,
          0.8325,
          0.8325,
          0.8325,
          0.7125,
          0.7125,
          0.7125,
          0.7125,
          0.7525,
          0.7525,
          0.7525,
          0.7525,
          0.6775,
          0.6775,
          0.6775,
          0.6775,
          0.73,
          0.73,
          0.73,
          0.73,
          0.6025,
          0.6025,
          0.6025,
          0.6025,
          0.5375,
          0.5375,
          0.5375,
          0.5375,
          0.38,
          0.38,
          0.38,
          0.38,
          0.4575,
          0.4575,
          0.4575,
          0.4575,
          0.52,
          0.52,
          0.52,
          0.52,
          0.7075,
          0.7075,
          0.7075,
          0.7075,
          0.59,
          0.59,
          0.59,
          0.59,
          0.705,
          0.705,
          0.705,
          0.705,
          0.66,
          0.66,
          0.66,
          0.66,
          0.7175,
          0.7175,
          0.7175,
          0.7175,
          0.775,
          0.775,
          0.775,
          0.775,
          0.7475,
          0.7475,
          0.7475,
          0.7475
         ],
         "y": [
          0.0621,
          0.0621,
          0.0621,
          0.0621,
          0.0666,
          0.0666,
          0.0666,
          0.0666,
          0.1151,
          0.1151,
          0.1151,
          0.1151,
          0.082,
          0.082,
          0.082,
          0.082,
          0.0427,
          0.0427,
          0.0427,
          0.0427,
          0.1,
          0.1,
          0.1,
          0.1,
          0.1158,
          0.1158,
          0.1158,
          0.1158,
          0.132,
          0.132,
          0.132,
          0.132,
          0.0909,
          0.0909,
          0.0909,
          0.0909,
          0.0802,
          0.0802,
          0.0802,
          0.0802,
          0.1031,
          0.1031,
          0.1031,
          0.1031,
          0.1214,
          0.1214,
          0.1214,
          0.1214,
          0.0734,
          0.0734,
          0.0734,
          0.0734,
          0.0343,
          0.0343,
          0.0343,
          0.0343,
          0.1447,
          0.1447,
          0.1447,
          0.1447,
          0.0702,
          0.0702,
          0.0702,
          0.0702,
          0.0819,
          0.0819,
          0.0819,
          0.0819,
          0.042,
          0.042,
          0.042,
          0.042,
          0.1822,
          0.1822,
          0.1822,
          0.1822,
          0.0685,
          0.0685,
          0.0685,
          0.0685
         ],
         "z": [
          36.75,
          36.75,
          36.75,
          36.75,
          32.25,
          32.25,
          32.25,
          32.25,
          37.5,
          37.5,
          37.5,
          37.5,
          67.5,
          67.5,
          67.5,
          67.5,
          36.75,
          36.75,
          36.75,
          36.75,
          57,
          57,
          57,
          57,
          30.75,
          30.75,
          30.75,
          30.75,
          32.25,
          32.25,
          32.25,
          32.25,
          35.75,
          35.75,
          35.75,
          35.75,
          27.75,
          27.75,
          27.75,
          27.75,
          26.75,
          26.75,
          26.75,
          26.75,
          19.75,
          19.75,
          19.75,
          19.75,
          29.75,
          29.75,
          29.75,
          29.75,
          42,
          42,
          42,
          42,
          26,
          26,
          26,
          26,
          37.75,
          37.75,
          37.75,
          37.75,
          28.75,
          28.75,
          28.75,
          28.75,
          35.75,
          35.75,
          35.75,
          35.75,
          71.25,
          71.25,
          71.25,
          71.25,
          17.5,
          17.5,
          17.5,
          17.5
         ]
        },
        {
         "customdata": [
          [
           "Australia"
          ],
          [
           "Australia"
          ],
          [
           "Australia"
          ],
          [
           "Australia"
          ],
          [
           "New Zealand"
          ],
          [
           "New Zealand"
          ],
          [
           "New Zealand"
          ],
          [
           "New Zealand"
          ]
         ],
         "hovertemplate": "continent=Australia<br>Education_Index=%{x}<br>government_trust=%{y}<br>cpi_score=%{z}<br>gdp_per_capita=%{marker.size}<br>Country=%{customdata[0]}<extra></extra>",
         "legendgroup": "Australia",
         "marker": {
          "color": "#FFA15A",
          "opacity": 0.5,
          "size": [
           1.3825,
           1.3825,
           1.3825,
           1.3825,
           1.3067,
           1.3067,
           1.3067,
           1.3067
          ],
          "sizemode": "area",
          "sizeref": 0.0008213333333333333,
          "symbol": "circle"
         },
         "mode": "markers",
         "name": "Australia",
         "scene": "scene",
         "showlegend": true,
         "type": "scatter3d",
         "x": [
          1.0225,
          1.0225,
          1.0225,
          1.0225,
          0.9775,
          0.9775,
          0.9775,
          0.9775
         ],
         "y": [
          0.3124,
          0.3124,
          0.3124,
          0.3124,
          0.3953,
          0.3953,
          0.3953,
          0.3953
         ],
         "z": [
          78,
          78,
          78,
          78,
          89.25,
          89.25,
          89.25,
          89.25
         ]
        },
        {
         "customdata": [
          [
           "Canada"
          ],
          [
           "Canada"
          ],
          [
           "Canada"
          ],
          [
           "Canada"
          ],
          [
           "Mexico"
          ],
          [
           "Mexico"
          ],
          [
           "Mexico"
          ],
          [
           "Mexico"
          ],
          [
           "United States"
          ],
          [
           "United States"
          ],
          [
           "United States"
          ],
          [
           "United States"
          ]
         ],
         "hovertemplate": "continent=North America<br>Education_Index=%{x}<br>government_trust=%{y}<br>cpi_score=%{z}<br>gdp_per_capita=%{marker.size}<br>Country=%{customdata[0]}<extra></extra>",
         "legendgroup": "North America",
         "marker": {
          "color": "#19d3f3",
          "opacity": 0.5,
          "size": [
           1.3751,
           1.3751,
           1.3751,
           1.3751,
           1.0704,
           1.0704,
           1.0704,
           1.0704,
           1.4429,
           1.4429,
           1.4429,
           1.4429
          ],
          "sizemode": "area",
          "sizeref": 0.0008213333333333333,
          "symbol": "circle"
         },
         "mode": "markers",
         "name": "North America",
         "scene": "scene",
         "showlegend": true,
         "type": "scatter3d",
         "x": [
          0.9125,
          0.9125,
          0.9125,
          0.9125,
          0.71,
          0.71,
          0.71,
          0.71,
          0.92,
          0.92,
          0.92,
          0.92
         ],
         "y": [
          0.304,
          0.304,
          0.304,
          0.304,
          0.1285,
          0.1285,
          0.1285,
          0.1285,
          0.1389,
          0.1389,
          0.1389,
          0.1389
         ],
         "z": [
          82,
          82,
          82,
          82,
          29.5,
          29.5,
          29.5,
          29.5,
          74,
          74,
          74,
          74
         ]
        }
       ],
       "layout": {
        "height": 700,
        "legend": {
         "itemsizing": "constant",
         "title": {
          "text": "continent"
         },
         "tracegroupgap": 0
        },
        "margin": {
         "t": 60
        },
        "scene": {
         "domain": {
          "x": [
           0,
           1
          ],
          "y": [
           0,
           1
          ]
         },
         "xaxis": {
          "title": {
           "text": "Education Index"
          }
         },
         "yaxis": {
          "title": {
           "text": "Government Trust"
          }
         },
         "zaxis": {
          "title": {
           "text": "CPI Score"
          }
         }
        },
        "template": {
         "data": {
          "bar": [
           {
            "error_x": {
             "color": "#2a3f5f"
            },
            "error_y": {
             "color": "#2a3f5f"
            },
            "marker": {
             "line": {
              "color": "#E5ECF6",
              "width": 0.5
             },
             "pattern": {
              "fillmode": "overlay",
              "size": 10,
              "solidity": 0.2
             }
            },
            "type": "bar"
           }
          ],
          "barpolar": [
           {
            "marker": {
             "line": {
              "color": "#E5ECF6",
              "width": 0.5
             },
             "pattern": {
              "fillmode": "overlay",
              "size": 10,
              "solidity": 0.2
             }
            },
            "type": "barpolar"
           }
          ],
          "carpet": [
           {
            "aaxis": {
             "endlinecolor": "#2a3f5f",
             "gridcolor": "white",
             "linecolor": "white",
             "minorgridcolor": "white",
             "startlinecolor": "#2a3f5f"
            },
            "baxis": {
             "endlinecolor": "#2a3f5f",
             "gridcolor": "white",
             "linecolor": "white",
             "minorgridcolor": "white",
             "startlinecolor": "#2a3f5f"
            },
            "type": "carpet"
           }
          ],
          "choropleth": [
           {
            "colorbar": {
             "outlinewidth": 0,
             "ticks": ""
            },
            "type": "choropleth"
           }
          ],
          "contour": [
           {
            "colorbar": {
             "outlinewidth": 0,
             "ticks": ""
            },
            "colorscale": [
             [
              0,
              "#0d0887"
             ],
             [
              0.1111111111111111,
              "#46039f"
             ],
             [
              0.2222222222222222,
              "#7201a8"
             ],
             [
              0.3333333333333333,
              "#9c179e"
             ],
             [
              0.4444444444444444,
              "#bd3786"
             ],
             [
              0.5555555555555556,
              "#d8576b"
             ],
             [
              0.6666666666666666,
              "#ed7953"
             ],
             [
              0.7777777777777778,
              "#fb9f3a"
             ],
             [
              0.8888888888888888,
              "#fdca26"
             ],
             [
              1,
              "#f0f921"
             ]
            ],
            "type": "contour"
           }
          ],
          "contourcarpet": [
           {
            "colorbar": {
             "outlinewidth": 0,
             "ticks": ""
            },
            "type": "contourcarpet"
           }
          ],
          "heatmap": [
           {
            "colorbar": {
             "outlinewidth": 0,
             "ticks": ""
            },
            "colorscale": [
             [
              0,
              "#0d0887"
             ],
             [
              0.1111111111111111,
              "#46039f"
             ],
             [
              0.2222222222222222,
              "#7201a8"
             ],
             [
              0.3333333333333333,
              "#9c179e"
             ],
             [
              0.4444444444444444,
              "#bd3786"
             ],
             [
              0.5555555555555556,
              "#d8576b"
             ],
             [
              0.6666666666666666,
              "#ed7953"
             ],
             [
              0.7777777777777778,
              "#fb9f3a"
             ],
             [
              0.8888888888888888,
              "#fdca26"
             ],
             [
              1,
              "#f0f921"
             ]
            ],
            "type": "heatmap"
           }
          ],
          "heatmapgl": [
           {
            "colorbar": {
             "outlinewidth": 0,
             "ticks": ""
            },
            "colorscale": [
             [
              0,
              "#0d0887"
             ],
             [
              0.1111111111111111,
              "#46039f"
             ],
             [
              0.2222222222222222,
              "#7201a8"
             ],
             [
              0.3333333333333333,
              "#9c179e"
             ],
             [
              0.4444444444444444,
              "#bd3786"
             ],
             [
              0.5555555555555556,
              "#d8576b"
             ],
             [
              0.6666666666666666,
              "#ed7953"
             ],
             [
              0.7777777777777778,
              "#fb9f3a"
             ],
             [
              0.8888888888888888,
              "#fdca26"
             ],
             [
              1,
              "#f0f921"
             ]
            ],
            "type": "heatmapgl"
           }
          ],
          "histogram": [
           {
            "marker": {
             "pattern": {
              "fillmode": "overlay",
              "size": 10,
              "solidity": 0.2
             }
            },
            "type": "histogram"
           }
          ],
          "histogram2d": [
           {
            "colorbar": {
             "outlinewidth": 0,
             "ticks": ""
            },
            "colorscale": [
             [
              0,
              "#0d0887"
             ],
             [
              0.1111111111111111,
              "#46039f"
             ],
             [
              0.2222222222222222,
              "#7201a8"
             ],
             [
              0.3333333333333333,
              "#9c179e"
             ],
             [
              0.4444444444444444,
              "#bd3786"
             ],
             [
              0.5555555555555556,
              "#d8576b"
             ],
             [
              0.6666666666666666,
              "#ed7953"
             ],
             [
              0.7777777777777778,
              "#fb9f3a"
             ],
             [
              0.8888888888888888,
              "#fdca26"
             ],
             [
              1,
              "#f0f921"
             ]
            ],
            "type": "histogram2d"
           }
          ],
          "histogram2dcontour": [
           {
            "colorbar": {
             "outlinewidth": 0,
             "ticks": ""
            },
            "colorscale": [
             [
              0,
              "#0d0887"
             ],
             [
              0.1111111111111111,
              "#46039f"
             ],
             [
              0.2222222222222222,
              "#7201a8"
             ],
             [
              0.3333333333333333,
              "#9c179e"
             ],
             [
              0.4444444444444444,
              "#bd3786"
             ],
             [
              0.5555555555555556,
              "#d8576b"
             ],
             [
              0.6666666666666666,
              "#ed7953"
             ],
             [
              0.7777777777777778,
              "#fb9f3a"
             ],
             [
              0.8888888888888888,
              "#fdca26"
             ],
             [
              1,
              "#f0f921"
             ]
            ],
            "type": "histogram2dcontour"
           }
          ],
          "mesh3d": [
           {
            "colorbar": {
             "outlinewidth": 0,
             "ticks": ""
            },
            "type": "mesh3d"
           }
          ],
          "parcoords": [
           {
            "line": {
             "colorbar": {
              "outlinewidth": 0,
              "ticks": ""
             }
            },
            "type": "parcoords"
           }
          ],
          "pie": [
           {
            "automargin": true,
            "type": "pie"
           }
          ],
          "scatter": [
           {
            "fillpattern": {
             "fillmode": "overlay",
             "size": 10,
             "solidity": 0.2
            },
            "type": "scatter"
           }
          ],
          "scatter3d": [
           {
            "line": {
             "colorbar": {
              "outlinewidth": 0,
              "ticks": ""
             }
            },
            "marker": {
             "colorbar": {
              "outlinewidth": 0,
              "ticks": ""
             }
            },
            "type": "scatter3d"
           }
          ],
          "scattercarpet": [
           {
            "marker": {
             "colorbar": {
              "outlinewidth": 0,
              "ticks": ""
             }
            },
            "type": "scattercarpet"
           }
          ],
          "scattergeo": [
           {
            "marker": {
             "colorbar": {
              "outlinewidth": 0,
              "ticks": ""
             }
            },
            "type": "scattergeo"
           }
          ],
          "scattergl": [
           {
            "marker": {
             "colorbar": {
              "outlinewidth": 0,
              "ticks": ""
             }
            },
            "type": "scattergl"
           }
          ],
          "scattermapbox": [
           {
            "marker": {
             "colorbar": {
              "outlinewidth": 0,
              "ticks": ""
             }
            },
            "type": "scattermapbox"
           }
          ],
          "scatterpolar": [
           {
            "marker": {
             "colorbar": {
              "outlinewidth": 0,
              "ticks": ""
             }
            },
            "type": "scatterpolar"
           }
          ],
          "scatterpolargl": [
           {
            "marker": {
             "colorbar": {
              "outlinewidth": 0,
              "ticks": ""
             }
            },
            "type": "scatterpolargl"
           }
          ],
          "scatterternary": [
           {
            "marker": {
             "colorbar": {
              "outlinewidth": 0,
              "ticks": ""
             }
            },
            "type": "scatterternary"
           }
          ],
          "surface": [
           {
            "colorbar": {
             "outlinewidth": 0,
             "ticks": ""
            },
            "colorscale": [
             [
              0,
              "#0d0887"
             ],
             [
              0.1111111111111111,
              "#46039f"
             ],
             [
              0.2222222222222222,
              "#7201a8"
             ],
             [
              0.3333333333333333,
              "#9c179e"
             ],
             [
              0.4444444444444444,
              "#bd3786"
             ],
             [
              0.5555555555555556,
              "#d8576b"
             ],
             [
              0.6666666666666666,
              "#ed7953"
             ],
             [
              0.7777777777777778,
              "#fb9f3a"
             ],
             [
              0.8888888888888888,
              "#fdca26"
             ],
             [
              1,
              "#f0f921"
             ]
            ],
            "type": "surface"
           }
          ],
          "table": [
           {
            "cells": {
             "fill": {
              "color": "#EBF0F8"
             },
             "line": {
              "color": "white"
             }
            },
            "header": {
             "fill": {
              "color": "#C8D4E3"
             },
             "line": {
              "color": "white"
             }
            },
            "type": "table"
           }
          ]
         },
         "layout": {
          "annotationdefaults": {
           "arrowcolor": "#2a3f5f",
           "arrowhead": 0,
           "arrowwidth": 1
          },
          "autotypenumbers": "strict",
          "coloraxis": {
           "colorbar": {
            "outlinewidth": 0,
            "ticks": ""
           }
          },
          "colorscale": {
           "diverging": [
            [
             0,
             "#8e0152"
            ],
            [
             0.1,
             "#c51b7d"
            ],
            [
             0.2,
             "#de77ae"
            ],
            [
             0.3,
             "#f1b6da"
            ],
            [
             0.4,
             "#fde0ef"
            ],
            [
             0.5,
             "#f7f7f7"
            ],
            [
             0.6,
             "#e6f5d0"
            ],
            [
             0.7,
             "#b8e186"
            ],
            [
             0.8,
             "#7fbc41"
            ],
            [
             0.9,
             "#4d9221"
            ],
            [
             1,
             "#276419"
            ]
           ],
           "sequential": [
            [
             0,
             "#0d0887"
            ],
            [
             0.1111111111111111,
             "#46039f"
            ],
            [
             0.2222222222222222,
             "#7201a8"
            ],
            [
             0.3333333333333333,
             "#9c179e"
            ],
            [
             0.4444444444444444,
             "#bd3786"
            ],
            [
             0.5555555555555556,
             "#d8576b"
            ],
            [
             0.6666666666666666,
             "#ed7953"
            ],
            [
             0.7777777777777778,
             "#fb9f3a"
            ],
            [
             0.8888888888888888,
             "#fdca26"
            ],
            [
             1,
             "#f0f921"
            ]
           ],
           "sequentialminus": [
            [
             0,
             "#0d0887"
            ],
            [
             0.1111111111111111,
             "#46039f"
            ],
            [
             0.2222222222222222,
             "#7201a8"
            ],
            [
             0.3333333333333333,
             "#9c179e"
            ],
            [
             0.4444444444444444,
             "#bd3786"
            ],
            [
             0.5555555555555556,
             "#d8576b"
            ],
            [
             0.6666666666666666,
             "#ed7953"
            ],
            [
             0.7777777777777778,
             "#fb9f3a"
            ],
            [
             0.8888888888888888,
             "#fdca26"
            ],
            [
             1,
             "#f0f921"
            ]
           ]
          },
          "colorway": [
           "#636efa",
           "#EF553B",
           "#00cc96",
           "#ab63fa",
           "#FFA15A",
           "#19d3f3",
           "#FF6692",
           "#B6E880",
           "#FF97FF",
           "#FECB52"
          ],
          "font": {
           "color": "#2a3f5f"
          },
          "geo": {
           "bgcolor": "white",
           "lakecolor": "white",
           "landcolor": "#E5ECF6",
           "showlakes": true,
           "showland": true,
           "subunitcolor": "white"
          },
          "hoverlabel": {
           "align": "left"
          },
          "hovermode": "closest",
          "mapbox": {
           "style": "light"
          },
          "paper_bgcolor": "white",
          "plot_bgcolor": "#E5ECF6",
          "polar": {
           "angularaxis": {
            "gridcolor": "white",
            "linecolor": "white",
            "ticks": ""
           },
           "bgcolor": "#E5ECF6",
           "radialaxis": {
            "gridcolor": "white",
            "linecolor": "white",
            "ticks": ""
           }
          },
          "scene": {
           "xaxis": {
            "backgroundcolor": "#E5ECF6",
            "gridcolor": "white",
            "gridwidth": 2,
            "linecolor": "white",
            "showbackground": true,
            "ticks": "",
            "zerolinecolor": "white"
           },
           "yaxis": {
            "backgroundcolor": "#E5ECF6",
            "gridcolor": "white",
            "gridwidth": 2,
            "linecolor": "white",
            "showbackground": true,
            "ticks": "",
            "zerolinecolor": "white"
           },
           "zaxis": {
            "backgroundcolor": "#E5ECF6",
            "gridcolor": "white",
            "gridwidth": 2,
            "linecolor": "white",
            "showbackground": true,
            "ticks": "",
            "zerolinecolor": "white"
           }
          },
          "shapedefaults": {
           "line": {
            "color": "#2a3f5f"
           }
          },
          "ternary": {
           "aaxis": {
            "gridcolor": "white",
            "linecolor": "white",
            "ticks": ""
           },
           "baxis": {
            "gridcolor": "white",
            "linecolor": "white",
            "ticks": ""
           },
           "bgcolor": "#E5ECF6",
           "caxis": {
            "gridcolor": "white",
            "linecolor": "white",
            "ticks": ""
           }
          },
          "title": {
           "x": 0.05
          },
          "xaxis": {
           "automargin": true,
           "gridcolor": "white",
           "linecolor": "white",
           "ticks": "",
           "title": {
            "standoff": 15
           },
           "zerolinecolor": "white",
           "zerolinewidth": 2
          },
          "yaxis": {
           "automargin": true,
           "gridcolor": "white",
           "linecolor": "white",
           "ticks": "",
           "title": {
            "standoff": 15
           },
           "zerolinecolor": "white",
           "zerolinewidth": 2
          }
         }
        },
        "title": {
         "font": {
          "size": 20
         },
         "text": "Fig ...: Education, Government trust, and CPI",
         "x": 0.45,
         "xanchor": "center",
         "y": 0.95,
         "yanchor": "top"
        }
       }
      }
     },
     "metadata": {},
     "output_type": "display_data"
    }
   ],
   "source": [
    "# Scatterplot using plotly Express\n",
    "fig = px.scatter_3d(df_mean,\n",
    "                    x='Education_Index',\n",
    "                    y='government_trust',\n",
    "                    z='cpi_score',\n",
    "                    color='continent',\n",
    "                    size='gdp_per_capita',\n",
    "                    opacity=0.5,\n",
    "                    size_max=45,\n",
    "                    height=700,\n",
    "                    hover_data=['Country'])\n",
    "\n",
    "# Customize the layout\n",
    "fig.update_layout(scene=dict(\n",
    "    xaxis_title='Education Index',\n",
    "    yaxis_title='Government Trust',\n",
    "    zaxis_title='CPI Score'\n",
    "))\n",
    "\n",
    "# Makes Title \n",
    "fig.update_layout(\n",
    "    title={\n",
    "        'text': 'Fig ...: Education, Government trust, and CPI',\n",
    "        'x': 0.45,\n",
    "        'y': 0.95,\n",
    "        'xanchor': 'center',\n",
    "        'yanchor': 'top'\n",
    "    },\n",
    "    title_font_size=20\n",
    ")\n",
    "# Show the plot\n",
    "fig.show()"
   ]
  },
  {
   "cell_type": "markdown",
   "id": "61a92432",
   "metadata": {},
   "source": [
    "### Does a good education give government trust?\n",
    "\n",
    "This 3d Scatter Plot is multivariate and shows on the x-axis the 'Education Index', on the y-axis the 'Government Trust' and on the z-axis the 'CPI Score'. CPI stands for 'Corruption Perception Index', the lower the CPI index, the more the people believe there is corruption in their country. The size of the plot-points shows the GDP per capita. \n",
    "\n",
    "The 3D scatter plot reveals interesting insights about the correlation between the Corruption Perception Index (CPI) score and other variables across countries. A positive correlation between the CPI score and variables such as Education Index and Government trust suggests that countries with higher levels of corruption tend to exhibit lower values in education, government trust, and economic prosperity. Conversely, a negative correlation indicates that countries with lower corruption levels tend to have higher education indices and greater levels of government trust. This visualization highlights the importance of addressing corruption to foster positive development in education and trust within countries. \n",
    "\n",
    "The Education Index plays a significant role in shaping the relationships between various variables across countries and continents. A positive correlation between the Education Index and variables such as Government trust, GDP per capita, and possibly the Corruption Perception Index suggests that countries with higher education indices tend to exhibit greater levels of government trust and economic prosperity while combating corruption. Furthermore, the Education Index may influence the disparities observed between countries and continents. Nations with higher education indices are more likely to invest in quality education, leading to better governance, higher economic output, and potentially lower corruption levels. Thus, enhancing education systems becomes vital for promoting positive development and reducing inequality among countries and continents.\n",
    "\n",
    "Overall it gives the visualisation that countries with a higher inducation index tend to have more goverment trust and a higher CPI score. This is probaply because people that live in a country that is able to give a good education tend to trust the goverment more than people that don't recieved good education. "
   ]
  },
  {
   "cell_type": "code",
   "execution_count": 30,
   "id": "abb7c102",
   "metadata": {
    "scrolled": true
   },
   "outputs": [
    {
     "data": {
      "application/vnd.plotly.v1+json": {
       "config": {
        "plotlyServerURL": "https://plot.ly"
       },
       "data": [
        {
         "alignmentgroup": "True",
         "bingroup": "x",
         "histfunc": "sum",
         "hovertemplate": "continent=Africa<br>Year=%{x}<br>sum of happiness_score=%{y}<extra></extra>",
         "legendgroup": "Africa",
         "marker": {
          "color": "#AEFD8E",
          "line": {
           "width": 0.5
          },
          "pattern": {
           "shape": ""
          }
         },
         "name": "Africa",
         "offsetgroup": "Africa",
         "orientation": "v",
         "showlegend": true,
         "type": "histogram",
         "x": [
          2015,
          2016,
          2017,
          2018
         ],
         "xaxis": "x",
         "y": [
          4.3118437603125,
          4.28815625,
          4.42665625,
          4.3554375
         ],
         "yaxis": "y"
        },
        {
         "alignmentgroup": "True",
         "bingroup": "x",
         "histfunc": "sum",
         "hovertemplate": "continent=Asia<br>Year=%{x}<br>sum of happiness_score=%{y}<extra></extra>",
         "legendgroup": "Asia",
         "marker": {
          "color": "#FAA598",
          "line": {
           "width": 0.5
          },
          "pattern": {
           "shape": ""
          }
         },
         "name": "Asia",
         "offsetgroup": "Asia",
         "orientation": "v",
         "showlegend": true,
         "type": "histogram",
         "x": [
          2015,
          2016,
          2017,
          2018
         ],
         "xaxis": "x",
         "y": [
          5.283736799842106,
          5.252868421052632,
          5.250421052631578,
          5.263631578947368
         ],
         "yaxis": "y"
        },
        {
         "alignmentgroup": "True",
         "bingroup": "x",
         "histfunc": "sum",
         "hovertemplate": "continent=Australia<br>Year=%{x}<br>sum of happiness_score=%{y}<extra></extra>",
         "legendgroup": "Australia",
         "marker": {
          "color": "#B2E4FA",
          "line": {
           "width": 0.5
          },
          "pattern": {
           "shape": ""
          }
         },
         "name": "Australia",
         "offsetgroup": "Australia",
         "orientation": "v",
         "showlegend": true,
         "type": "histogram",
         "x": [
          2015,
          2016,
          2017,
          2018
         ],
         "xaxis": "x",
         "y": [
          7.299000025,
          7.285,
          7.2675,
          7.298
         ],
         "yaxis": "y"
        },
        {
         "alignmentgroup": "True",
         "bingroup": "x",
         "histfunc": "sum",
         "hovertemplate": "continent=Europe<br>Year=%{x}<br>sum of happiness_score=%{y}<extra></extra>",
         "legendgroup": "Europe",
         "marker": {
          "color": "#E3C97F",
          "line": {
           "width": 0.5
          },
          "pattern": {
           "shape": ""
          }
         },
         "name": "Europe",
         "offsetgroup": "Europe",
         "orientation": "v",
         "showlegend": true,
         "type": "histogram",
         "x": [
          2015,
          2016,
          2017,
          2018
         ],
         "xaxis": "x",
         "y": [
          6.151864876675676,
          6.089594594594595,
          6.2901621621621615,
          6.216297297297297
         ],
         "yaxis": "y"
        },
        {
         "alignmentgroup": "True",
         "bingroup": "x",
         "histfunc": "sum",
         "hovertemplate": "continent=North America<br>Year=%{x}<br>sum of happiness_score=%{y}<extra></extra>",
         "legendgroup": "North America",
         "marker": {
          "color": "#B47FE3",
          "line": {
           "width": 0.5
          },
          "pattern": {
           "shape": ""
          }
         },
         "name": "North America",
         "offsetgroup": "North America",
         "orientation": "v",
         "showlegend": true,
         "type": "histogram",
         "x": [
          2015,
          2016,
          2017,
          2018
         ],
         "xaxis": "x",
         "y": [
          6.9623333616666665,
          7.2443333333333335,
          6.921666666666667,
          6.900666666666667
         ],
         "yaxis": "y"
        },
        {
         "alignmentgroup": "True",
         "bingroup": "x",
         "histfunc": "sum",
         "hovertemplate": "continent=South America<br>Year=%{x}<br>sum of happiness_score=%{y}<extra></extra>",
         "legendgroup": "South America",
         "marker": {
          "color": "#E8EAC8",
          "line": {
           "width": 0.5
          },
          "pattern": {
           "shape": ""
          }
         },
         "name": "South America",
         "offsetgroup": "South America",
         "orientation": "v",
         "showlegend": true,
         "type": "histogram",
         "x": [
          2015,
          2016,
          2017,
          2018
         ],
         "xaxis": "x",
         "y": [
          5.79385000465,
          5.96075,
          5.839499999999999,
          5.8115499999999995
         ],
         "yaxis": "y"
        }
       ],
       "layout": {
        "bargap": 0.2,
        "barmode": "group",
        "font": {
         "family": "Arial",
         "size": 14
        },
        "legend": {
         "font": {
          "family": "Arial",
          "size": 12
         },
         "title": {
          "text": "continent"
         },
         "tracegroupgap": 0
        },
        "margin": {
         "t": 60
        },
        "plot_bgcolor": "rgb(240, 240, 240)",
        "template": {
         "data": {
          "bar": [
           {
            "error_x": {
             "color": "#2a3f5f"
            },
            "error_y": {
             "color": "#2a3f5f"
            },
            "marker": {
             "line": {
              "color": "#E5ECF6",
              "width": 0.5
             },
             "pattern": {
              "fillmode": "overlay",
              "size": 10,
              "solidity": 0.2
             }
            },
            "type": "bar"
           }
          ],
          "barpolar": [
           {
            "marker": {
             "line": {
              "color": "#E5ECF6",
              "width": 0.5
             },
             "pattern": {
              "fillmode": "overlay",
              "size": 10,
              "solidity": 0.2
             }
            },
            "type": "barpolar"
           }
          ],
          "carpet": [
           {
            "aaxis": {
             "endlinecolor": "#2a3f5f",
             "gridcolor": "white",
             "linecolor": "white",
             "minorgridcolor": "white",
             "startlinecolor": "#2a3f5f"
            },
            "baxis": {
             "endlinecolor": "#2a3f5f",
             "gridcolor": "white",
             "linecolor": "white",
             "minorgridcolor": "white",
             "startlinecolor": "#2a3f5f"
            },
            "type": "carpet"
           }
          ],
          "choropleth": [
           {
            "colorbar": {
             "outlinewidth": 0,
             "ticks": ""
            },
            "type": "choropleth"
           }
          ],
          "contour": [
           {
            "colorbar": {
             "outlinewidth": 0,
             "ticks": ""
            },
            "colorscale": [
             [
              0,
              "#0d0887"
             ],
             [
              0.1111111111111111,
              "#46039f"
             ],
             [
              0.2222222222222222,
              "#7201a8"
             ],
             [
              0.3333333333333333,
              "#9c179e"
             ],
             [
              0.4444444444444444,
              "#bd3786"
             ],
             [
              0.5555555555555556,
              "#d8576b"
             ],
             [
              0.6666666666666666,
              "#ed7953"
             ],
             [
              0.7777777777777778,
              "#fb9f3a"
             ],
             [
              0.8888888888888888,
              "#fdca26"
             ],
             [
              1,
              "#f0f921"
             ]
            ],
            "type": "contour"
           }
          ],
          "contourcarpet": [
           {
            "colorbar": {
             "outlinewidth": 0,
             "ticks": ""
            },
            "type": "contourcarpet"
           }
          ],
          "heatmap": [
           {
            "colorbar": {
             "outlinewidth": 0,
             "ticks": ""
            },
            "colorscale": [
             [
              0,
              "#0d0887"
             ],
             [
              0.1111111111111111,
              "#46039f"
             ],
             [
              0.2222222222222222,
              "#7201a8"
             ],
             [
              0.3333333333333333,
              "#9c179e"
             ],
             [
              0.4444444444444444,
              "#bd3786"
             ],
             [
              0.5555555555555556,
              "#d8576b"
             ],
             [
              0.6666666666666666,
              "#ed7953"
             ],
             [
              0.7777777777777778,
              "#fb9f3a"
             ],
             [
              0.8888888888888888,
              "#fdca26"
             ],
             [
              1,
              "#f0f921"
             ]
            ],
            "type": "heatmap"
           }
          ],
          "heatmapgl": [
           {
            "colorbar": {
             "outlinewidth": 0,
             "ticks": ""
            },
            "colorscale": [
             [
              0,
              "#0d0887"
             ],
             [
              0.1111111111111111,
              "#46039f"
             ],
             [
              0.2222222222222222,
              "#7201a8"
             ],
             [
              0.3333333333333333,
              "#9c179e"
             ],
             [
              0.4444444444444444,
              "#bd3786"
             ],
             [
              0.5555555555555556,
              "#d8576b"
             ],
             [
              0.6666666666666666,
              "#ed7953"
             ],
             [
              0.7777777777777778,
              "#fb9f3a"
             ],
             [
              0.8888888888888888,
              "#fdca26"
             ],
             [
              1,
              "#f0f921"
             ]
            ],
            "type": "heatmapgl"
           }
          ],
          "histogram": [
           {
            "marker": {
             "pattern": {
              "fillmode": "overlay",
              "size": 10,
              "solidity": 0.2
             }
            },
            "type": "histogram"
           }
          ],
          "histogram2d": [
           {
            "colorbar": {
             "outlinewidth": 0,
             "ticks": ""
            },
            "colorscale": [
             [
              0,
              "#0d0887"
             ],
             [
              0.1111111111111111,
              "#46039f"
             ],
             [
              0.2222222222222222,
              "#7201a8"
             ],
             [
              0.3333333333333333,
              "#9c179e"
             ],
             [
              0.4444444444444444,
              "#bd3786"
             ],
             [
              0.5555555555555556,
              "#d8576b"
             ],
             [
              0.6666666666666666,
              "#ed7953"
             ],
             [
              0.7777777777777778,
              "#fb9f3a"
             ],
             [
              0.8888888888888888,
              "#fdca26"
             ],
             [
              1,
              "#f0f921"
             ]
            ],
            "type": "histogram2d"
           }
          ],
          "histogram2dcontour": [
           {
            "colorbar": {
             "outlinewidth": 0,
             "ticks": ""
            },
            "colorscale": [
             [
              0,
              "#0d0887"
             ],
             [
              0.1111111111111111,
              "#46039f"
             ],
             [
              0.2222222222222222,
              "#7201a8"
             ],
             [
              0.3333333333333333,
              "#9c179e"
             ],
             [
              0.4444444444444444,
              "#bd3786"
             ],
             [
              0.5555555555555556,
              "#d8576b"
             ],
             [
              0.6666666666666666,
              "#ed7953"
             ],
             [
              0.7777777777777778,
              "#fb9f3a"
             ],
             [
              0.8888888888888888,
              "#fdca26"
             ],
             [
              1,
              "#f0f921"
             ]
            ],
            "type": "histogram2dcontour"
           }
          ],
          "mesh3d": [
           {
            "colorbar": {
             "outlinewidth": 0,
             "ticks": ""
            },
            "type": "mesh3d"
           }
          ],
          "parcoords": [
           {
            "line": {
             "colorbar": {
              "outlinewidth": 0,
              "ticks": ""
             }
            },
            "type": "parcoords"
           }
          ],
          "pie": [
           {
            "automargin": true,
            "type": "pie"
           }
          ],
          "scatter": [
           {
            "fillpattern": {
             "fillmode": "overlay",
             "size": 10,
             "solidity": 0.2
            },
            "type": "scatter"
           }
          ],
          "scatter3d": [
           {
            "line": {
             "colorbar": {
              "outlinewidth": 0,
              "ticks": ""
             }
            },
            "marker": {
             "colorbar": {
              "outlinewidth": 0,
              "ticks": ""
             }
            },
            "type": "scatter3d"
           }
          ],
          "scattercarpet": [
           {
            "marker": {
             "colorbar": {
              "outlinewidth": 0,
              "ticks": ""
             }
            },
            "type": "scattercarpet"
           }
          ],
          "scattergeo": [
           {
            "marker": {
             "colorbar": {
              "outlinewidth": 0,
              "ticks": ""
             }
            },
            "type": "scattergeo"
           }
          ],
          "scattergl": [
           {
            "marker": {
             "colorbar": {
              "outlinewidth": 0,
              "ticks": ""
             }
            },
            "type": "scattergl"
           }
          ],
          "scattermapbox": [
           {
            "marker": {
             "colorbar": {
              "outlinewidth": 0,
              "ticks": ""
             }
            },
            "type": "scattermapbox"
           }
          ],
          "scatterpolar": [
           {
            "marker": {
             "colorbar": {
              "outlinewidth": 0,
              "ticks": ""
             }
            },
            "type": "scatterpolar"
           }
          ],
          "scatterpolargl": [
           {
            "marker": {
             "colorbar": {
              "outlinewidth": 0,
              "ticks": ""
             }
            },
            "type": "scatterpolargl"
           }
          ],
          "scatterternary": [
           {
            "marker": {
             "colorbar": {
              "outlinewidth": 0,
              "ticks": ""
             }
            },
            "type": "scatterternary"
           }
          ],
          "surface": [
           {
            "colorbar": {
             "outlinewidth": 0,
             "ticks": ""
            },
            "colorscale": [
             [
              0,
              "#0d0887"
             ],
             [
              0.1111111111111111,
              "#46039f"
             ],
             [
              0.2222222222222222,
              "#7201a8"
             ],
             [
              0.3333333333333333,
              "#9c179e"
             ],
             [
              0.4444444444444444,
              "#bd3786"
             ],
             [
              0.5555555555555556,
              "#d8576b"
             ],
             [
              0.6666666666666666,
              "#ed7953"
             ],
             [
              0.7777777777777778,
              "#fb9f3a"
             ],
             [
              0.8888888888888888,
              "#fdca26"
             ],
             [
              1,
              "#f0f921"
             ]
            ],
            "type": "surface"
           }
          ],
          "table": [
           {
            "cells": {
             "fill": {
              "color": "#EBF0F8"
             },
             "line": {
              "color": "white"
             }
            },
            "header": {
             "fill": {
              "color": "#C8D4E3"
             },
             "line": {
              "color": "white"
             }
            },
            "type": "table"
           }
          ]
         },
         "layout": {
          "annotationdefaults": {
           "arrowcolor": "#2a3f5f",
           "arrowhead": 0,
           "arrowwidth": 1
          },
          "autotypenumbers": "strict",
          "coloraxis": {
           "colorbar": {
            "outlinewidth": 0,
            "ticks": ""
           }
          },
          "colorscale": {
           "diverging": [
            [
             0,
             "#8e0152"
            ],
            [
             0.1,
             "#c51b7d"
            ],
            [
             0.2,
             "#de77ae"
            ],
            [
             0.3,
             "#f1b6da"
            ],
            [
             0.4,
             "#fde0ef"
            ],
            [
             0.5,
             "#f7f7f7"
            ],
            [
             0.6,
             "#e6f5d0"
            ],
            [
             0.7,
             "#b8e186"
            ],
            [
             0.8,
             "#7fbc41"
            ],
            [
             0.9,
             "#4d9221"
            ],
            [
             1,
             "#276419"
            ]
           ],
           "sequential": [
            [
             0,
             "#0d0887"
            ],
            [
             0.1111111111111111,
             "#46039f"
            ],
            [
             0.2222222222222222,
             "#7201a8"
            ],
            [
             0.3333333333333333,
             "#9c179e"
            ],
            [
             0.4444444444444444,
             "#bd3786"
            ],
            [
             0.5555555555555556,
             "#d8576b"
            ],
            [
             0.6666666666666666,
             "#ed7953"
            ],
            [
             0.7777777777777778,
             "#fb9f3a"
            ],
            [
             0.8888888888888888,
             "#fdca26"
            ],
            [
             1,
             "#f0f921"
            ]
           ],
           "sequentialminus": [
            [
             0,
             "#0d0887"
            ],
            [
             0.1111111111111111,
             "#46039f"
            ],
            [
             0.2222222222222222,
             "#7201a8"
            ],
            [
             0.3333333333333333,
             "#9c179e"
            ],
            [
             0.4444444444444444,
             "#bd3786"
            ],
            [
             0.5555555555555556,
             "#d8576b"
            ],
            [
             0.6666666666666666,
             "#ed7953"
            ],
            [
             0.7777777777777778,
             "#fb9f3a"
            ],
            [
             0.8888888888888888,
             "#fdca26"
            ],
            [
             1,
             "#f0f921"
            ]
           ]
          },
          "colorway": [
           "#636efa",
           "#EF553B",
           "#00cc96",
           "#ab63fa",
           "#FFA15A",
           "#19d3f3",
           "#FF6692",
           "#B6E880",
           "#FF97FF",
           "#FECB52"
          ],
          "font": {
           "color": "#2a3f5f"
          },
          "geo": {
           "bgcolor": "white",
           "lakecolor": "white",
           "landcolor": "#E5ECF6",
           "showlakes": true,
           "showland": true,
           "subunitcolor": "white"
          },
          "hoverlabel": {
           "align": "left"
          },
          "hovermode": "closest",
          "mapbox": {
           "style": "light"
          },
          "paper_bgcolor": "white",
          "plot_bgcolor": "#E5ECF6",
          "polar": {
           "angularaxis": {
            "gridcolor": "white",
            "linecolor": "white",
            "ticks": ""
           },
           "bgcolor": "#E5ECF6",
           "radialaxis": {
            "gridcolor": "white",
            "linecolor": "white",
            "ticks": ""
           }
          },
          "scene": {
           "xaxis": {
            "backgroundcolor": "#E5ECF6",
            "gridcolor": "white",
            "gridwidth": 2,
            "linecolor": "white",
            "showbackground": true,
            "ticks": "",
            "zerolinecolor": "white"
           },
           "yaxis": {
            "backgroundcolor": "#E5ECF6",
            "gridcolor": "white",
            "gridwidth": 2,
            "linecolor": "white",
            "showbackground": true,
            "ticks": "",
            "zerolinecolor": "white"
           },
           "zaxis": {
            "backgroundcolor": "#E5ECF6",
            "gridcolor": "white",
            "gridwidth": 2,
            "linecolor": "white",
            "showbackground": true,
            "ticks": "",
            "zerolinecolor": "white"
           }
          },
          "shapedefaults": {
           "line": {
            "color": "#2a3f5f"
           }
          },
          "ternary": {
           "aaxis": {
            "gridcolor": "white",
            "linecolor": "white",
            "ticks": ""
           },
           "baxis": {
            "gridcolor": "white",
            "linecolor": "white",
            "ticks": ""
           },
           "bgcolor": "#E5ECF6",
           "caxis": {
            "gridcolor": "white",
            "linecolor": "white",
            "ticks": ""
           }
          },
          "title": {
           "x": 0.05
          },
          "xaxis": {
           "automargin": true,
           "gridcolor": "white",
           "linecolor": "white",
           "ticks": "",
           "title": {
            "standoff": 15
           },
           "zerolinecolor": "white",
           "zerolinewidth": 2
          },
          "yaxis": {
           "automargin": true,
           "gridcolor": "white",
           "linecolor": "white",
           "ticks": "",
           "title": {
            "standoff": 15
           },
           "zerolinecolor": "white",
           "zerolinewidth": 2
          }
         }
        },
        "title": {
         "text": "Fig ...: Development of Average Happiness Score by Continent"
        },
        "xaxis": {
         "anchor": "y",
         "domain": [
          0,
          1
         ],
         "gridcolor": "lightgray",
         "gridwidth": 0.5,
         "showgrid": true,
         "title": {
          "text": "Year"
         }
        },
        "yaxis": {
         "anchor": "x",
         "domain": [
          0,
          1
         ],
         "gridcolor": "lightgray",
         "gridwidth": 0.5,
         "showgrid": true,
         "title": {
          "text": "Average Happiness"
         }
        }
       }
      }
     },
     "metadata": {},
     "output_type": "display_data"
    },
    {
     "data": {
      "application/vnd.plotly.v1+json": {
       "config": {
        "plotlyServerURL": "https://plot.ly"
       },
       "data": [
        {
         "alignmentgroup": "True",
         "bingroup": "x",
         "histfunc": "sum",
         "hovertemplate": "continent=Africa<br>Year=%{x}<br>sum of gdp_per_capita=%{y}<extra></extra>",
         "legendgroup": "Africa",
         "marker": {
          "color": "#AEFD8E",
          "line": {
           "width": 0.5
          },
          "pattern": {
           "shape": ""
          }
         },
         "name": "Africa",
         "offsetgroup": "Africa",
         "orientation": "v",
         "showlegend": true,
         "type": "histogram",
         "x": [
          2015,
          2016,
          2017,
          2018
         ],
         "xaxis": "x",
         "y": [
          0.6009591532812499,
          0.4710465625,
          0.5443125,
          0.5288437500000001
         ],
         "yaxis": "y"
        },
        {
         "alignmentgroup": "True",
         "bingroup": "x",
         "histfunc": "sum",
         "hovertemplate": "continent=Asia<br>Year=%{x}<br>sum of gdp_per_capita=%{y}<extra></extra>",
         "legendgroup": "Asia",
         "marker": {
          "color": "#FAA598",
          "line": {
           "width": 0.5
          },
          "pattern": {
           "shape": ""
          }
         },
         "name": "Asia",
         "offsetgroup": "Asia",
         "orientation": "v",
         "showlegend": true,
         "type": "histogram",
         "x": [
          2015,
          2016,
          2017,
          2018
         ],
         "xaxis": "x",
         "y": [
          1.0204777183947369,
          0.8768926315789474,
          0.9530263157894737,
          0.9455263157894737
         ],
         "yaxis": "y"
        },
        {
         "alignmentgroup": "True",
         "bingroup": "x",
         "histfunc": "sum",
         "hovertemplate": "continent=Australia<br>Year=%{x}<br>sum of gdp_per_capita=%{y}<extra></extra>",
         "legendgroup": "Australia",
         "marker": {
          "color": "#B2E4FA",
          "line": {
           "width": 0.5
          },
          "pattern": {
           "shape": ""
          }
         },
         "name": "Australia",
         "offsetgroup": "Australia",
         "orientation": "v",
         "showlegend": true,
         "type": "histogram",
         "x": [
          2015,
          2016,
          2017,
          2018
         ],
         "xaxis": "x",
         "y": [
          1.4450604915,
          1.29188,
          1.3375,
          1.304
         ],
         "yaxis": "y"
        },
        {
         "alignmentgroup": "True",
         "bingroup": "x",
         "histfunc": "sum",
         "hovertemplate": "continent=Europe<br>Year=%{x}<br>sum of gdp_per_capita=%{y}<extra></extra>",
         "legendgroup": "Europe",
         "marker": {
          "color": "#E3C97F",
          "line": {
           "width": 0.5
          },
          "pattern": {
           "shape": ""
          }
         },
         "name": "Europe",
         "offsetgroup": "Europe",
         "orientation": "v",
         "showlegend": true,
         "type": "histogram",
         "x": [
          2015,
          2016,
          2017,
          2018
         ],
         "xaxis": "x",
         "y": [
          1.3209728275945944,
          1.166861081081081,
          1.234108108108108,
          1.1987297297297297
         ],
         "yaxis": "y"
        },
        {
         "alignmentgroup": "True",
         "bingroup": "x",
         "histfunc": "sum",
         "hovertemplate": "continent=North America<br>Year=%{x}<br>sum of gdp_per_capita=%{y}<extra></extra>",
         "legendgroup": "North America",
         "marker": {
          "color": "#B47FE3",
          "line": {
           "width": 0.5
          },
          "pattern": {
           "shape": ""
          }
         },
         "name": "North America",
         "offsetgroup": "North America",
         "orientation": "v",
         "showlegend": true,
         "type": "histogram",
         "x": [
          2015,
          2016,
          2017,
          2018
         ],
         "xaxis": "x",
         "y": [
          1.392882506,
          1.2471133333333333,
          1.2893333333333334,
          1.2553333333333334
         ],
         "yaxis": "y"
        },
        {
         "alignmentgroup": "True",
         "bingroup": "x",
         "histfunc": "sum",
         "hovertemplate": "continent=South America<br>Year=%{x}<br>sum of gdp_per_capita=%{y}<extra></extra>",
         "legendgroup": "South America",
         "marker": {
          "color": "#E8EAC8",
          "line": {
           "width": 0.5
          },
          "pattern": {
           "shape": ""
          }
         },
         "name": "South America",
         "offsetgroup": "South America",
         "orientation": "v",
         "showlegend": true,
         "type": "histogram",
         "x": [
          2015,
          2016,
          2017,
          2018
         ],
         "xaxis": "x",
         "y": [
          0.94878064395,
          0.81182,
          0.8744500000000001,
          0.8552500000000001
         ],
         "yaxis": "y"
        }
       ],
       "layout": {
        "bargap": 0.2,
        "barmode": "group",
        "font": {
         "family": "Arial",
         "size": 14
        },
        "legend": {
         "font": {
          "family": "Arial",
          "size": 12
         },
         "title": {
          "text": "continent"
         },
         "tracegroupgap": 0
        },
        "margin": {
         "t": 60
        },
        "plot_bgcolor": "rgb(240, 240, 240)",
        "template": {
         "data": {
          "bar": [
           {
            "error_x": {
             "color": "#2a3f5f"
            },
            "error_y": {
             "color": "#2a3f5f"
            },
            "marker": {
             "line": {
              "color": "#E5ECF6",
              "width": 0.5
             },
             "pattern": {
              "fillmode": "overlay",
              "size": 10,
              "solidity": 0.2
             }
            },
            "type": "bar"
           }
          ],
          "barpolar": [
           {
            "marker": {
             "line": {
              "color": "#E5ECF6",
              "width": 0.5
             },
             "pattern": {
              "fillmode": "overlay",
              "size": 10,
              "solidity": 0.2
             }
            },
            "type": "barpolar"
           }
          ],
          "carpet": [
           {
            "aaxis": {
             "endlinecolor": "#2a3f5f",
             "gridcolor": "white",
             "linecolor": "white",
             "minorgridcolor": "white",
             "startlinecolor": "#2a3f5f"
            },
            "baxis": {
             "endlinecolor": "#2a3f5f",
             "gridcolor": "white",
             "linecolor": "white",
             "minorgridcolor": "white",
             "startlinecolor": "#2a3f5f"
            },
            "type": "carpet"
           }
          ],
          "choropleth": [
           {
            "colorbar": {
             "outlinewidth": 0,
             "ticks": ""
            },
            "type": "choropleth"
           }
          ],
          "contour": [
           {
            "colorbar": {
             "outlinewidth": 0,
             "ticks": ""
            },
            "colorscale": [
             [
              0,
              "#0d0887"
             ],
             [
              0.1111111111111111,
              "#46039f"
             ],
             [
              0.2222222222222222,
              "#7201a8"
             ],
             [
              0.3333333333333333,
              "#9c179e"
             ],
             [
              0.4444444444444444,
              "#bd3786"
             ],
             [
              0.5555555555555556,
              "#d8576b"
             ],
             [
              0.6666666666666666,
              "#ed7953"
             ],
             [
              0.7777777777777778,
              "#fb9f3a"
             ],
             [
              0.8888888888888888,
              "#fdca26"
             ],
             [
              1,
              "#f0f921"
             ]
            ],
            "type": "contour"
           }
          ],
          "contourcarpet": [
           {
            "colorbar": {
             "outlinewidth": 0,
             "ticks": ""
            },
            "type": "contourcarpet"
           }
          ],
          "heatmap": [
           {
            "colorbar": {
             "outlinewidth": 0,
             "ticks": ""
            },
            "colorscale": [
             [
              0,
              "#0d0887"
             ],
             [
              0.1111111111111111,
              "#46039f"
             ],
             [
              0.2222222222222222,
              "#7201a8"
             ],
             [
              0.3333333333333333,
              "#9c179e"
             ],
             [
              0.4444444444444444,
              "#bd3786"
             ],
             [
              0.5555555555555556,
              "#d8576b"
             ],
             [
              0.6666666666666666,
              "#ed7953"
             ],
             [
              0.7777777777777778,
              "#fb9f3a"
             ],
             [
              0.8888888888888888,
              "#fdca26"
             ],
             [
              1,
              "#f0f921"
             ]
            ],
            "type": "heatmap"
           }
          ],
          "heatmapgl": [
           {
            "colorbar": {
             "outlinewidth": 0,
             "ticks": ""
            },
            "colorscale": [
             [
              0,
              "#0d0887"
             ],
             [
              0.1111111111111111,
              "#46039f"
             ],
             [
              0.2222222222222222,
              "#7201a8"
             ],
             [
              0.3333333333333333,
              "#9c179e"
             ],
             [
              0.4444444444444444,
              "#bd3786"
             ],
             [
              0.5555555555555556,
              "#d8576b"
             ],
             [
              0.6666666666666666,
              "#ed7953"
             ],
             [
              0.7777777777777778,
              "#fb9f3a"
             ],
             [
              0.8888888888888888,
              "#fdca26"
             ],
             [
              1,
              "#f0f921"
             ]
            ],
            "type": "heatmapgl"
           }
          ],
          "histogram": [
           {
            "marker": {
             "pattern": {
              "fillmode": "overlay",
              "size": 10,
              "solidity": 0.2
             }
            },
            "type": "histogram"
           }
          ],
          "histogram2d": [
           {
            "colorbar": {
             "outlinewidth": 0,
             "ticks": ""
            },
            "colorscale": [
             [
              0,
              "#0d0887"
             ],
             [
              0.1111111111111111,
              "#46039f"
             ],
             [
              0.2222222222222222,
              "#7201a8"
             ],
             [
              0.3333333333333333,
              "#9c179e"
             ],
             [
              0.4444444444444444,
              "#bd3786"
             ],
             [
              0.5555555555555556,
              "#d8576b"
             ],
             [
              0.6666666666666666,
              "#ed7953"
             ],
             [
              0.7777777777777778,
              "#fb9f3a"
             ],
             [
              0.8888888888888888,
              "#fdca26"
             ],
             [
              1,
              "#f0f921"
             ]
            ],
            "type": "histogram2d"
           }
          ],
          "histogram2dcontour": [
           {
            "colorbar": {
             "outlinewidth": 0,
             "ticks": ""
            },
            "colorscale": [
             [
              0,
              "#0d0887"
             ],
             [
              0.1111111111111111,
              "#46039f"
             ],
             [
              0.2222222222222222,
              "#7201a8"
             ],
             [
              0.3333333333333333,
              "#9c179e"
             ],
             [
              0.4444444444444444,
              "#bd3786"
             ],
             [
              0.5555555555555556,
              "#d8576b"
             ],
             [
              0.6666666666666666,
              "#ed7953"
             ],
             [
              0.7777777777777778,
              "#fb9f3a"
             ],
             [
              0.8888888888888888,
              "#fdca26"
             ],
             [
              1,
              "#f0f921"
             ]
            ],
            "type": "histogram2dcontour"
           }
          ],
          "mesh3d": [
           {
            "colorbar": {
             "outlinewidth": 0,
             "ticks": ""
            },
            "type": "mesh3d"
           }
          ],
          "parcoords": [
           {
            "line": {
             "colorbar": {
              "outlinewidth": 0,
              "ticks": ""
             }
            },
            "type": "parcoords"
           }
          ],
          "pie": [
           {
            "automargin": true,
            "type": "pie"
           }
          ],
          "scatter": [
           {
            "fillpattern": {
             "fillmode": "overlay",
             "size": 10,
             "solidity": 0.2
            },
            "type": "scatter"
           }
          ],
          "scatter3d": [
           {
            "line": {
             "colorbar": {
              "outlinewidth": 0,
              "ticks": ""
             }
            },
            "marker": {
             "colorbar": {
              "outlinewidth": 0,
              "ticks": ""
             }
            },
            "type": "scatter3d"
           }
          ],
          "scattercarpet": [
           {
            "marker": {
             "colorbar": {
              "outlinewidth": 0,
              "ticks": ""
             }
            },
            "type": "scattercarpet"
           }
          ],
          "scattergeo": [
           {
            "marker": {
             "colorbar": {
              "outlinewidth": 0,
              "ticks": ""
             }
            },
            "type": "scattergeo"
           }
          ],
          "scattergl": [
           {
            "marker": {
             "colorbar": {
              "outlinewidth": 0,
              "ticks": ""
             }
            },
            "type": "scattergl"
           }
          ],
          "scattermapbox": [
           {
            "marker": {
             "colorbar": {
              "outlinewidth": 0,
              "ticks": ""
             }
            },
            "type": "scattermapbox"
           }
          ],
          "scatterpolar": [
           {
            "marker": {
             "colorbar": {
              "outlinewidth": 0,
              "ticks": ""
             }
            },
            "type": "scatterpolar"
           }
          ],
          "scatterpolargl": [
           {
            "marker": {
             "colorbar": {
              "outlinewidth": 0,
              "ticks": ""
             }
            },
            "type": "scatterpolargl"
           }
          ],
          "scatterternary": [
           {
            "marker": {
             "colorbar": {
              "outlinewidth": 0,
              "ticks": ""
             }
            },
            "type": "scatterternary"
           }
          ],
          "surface": [
           {
            "colorbar": {
             "outlinewidth": 0,
             "ticks": ""
            },
            "colorscale": [
             [
              0,
              "#0d0887"
             ],
             [
              0.1111111111111111,
              "#46039f"
             ],
             [
              0.2222222222222222,
              "#7201a8"
             ],
             [
              0.3333333333333333,
              "#9c179e"
             ],
             [
              0.4444444444444444,
              "#bd3786"
             ],
             [
              0.5555555555555556,
              "#d8576b"
             ],
             [
              0.6666666666666666,
              "#ed7953"
             ],
             [
              0.7777777777777778,
              "#fb9f3a"
             ],
             [
              0.8888888888888888,
              "#fdca26"
             ],
             [
              1,
              "#f0f921"
             ]
            ],
            "type": "surface"
           }
          ],
          "table": [
           {
            "cells": {
             "fill": {
              "color": "#EBF0F8"
             },
             "line": {
              "color": "white"
             }
            },
            "header": {
             "fill": {
              "color": "#C8D4E3"
             },
             "line": {
              "color": "white"
             }
            },
            "type": "table"
           }
          ]
         },
         "layout": {
          "annotationdefaults": {
           "arrowcolor": "#2a3f5f",
           "arrowhead": 0,
           "arrowwidth": 1
          },
          "autotypenumbers": "strict",
          "coloraxis": {
           "colorbar": {
            "outlinewidth": 0,
            "ticks": ""
           }
          },
          "colorscale": {
           "diverging": [
            [
             0,
             "#8e0152"
            ],
            [
             0.1,
             "#c51b7d"
            ],
            [
             0.2,
             "#de77ae"
            ],
            [
             0.3,
             "#f1b6da"
            ],
            [
             0.4,
             "#fde0ef"
            ],
            [
             0.5,
             "#f7f7f7"
            ],
            [
             0.6,
             "#e6f5d0"
            ],
            [
             0.7,
             "#b8e186"
            ],
            [
             0.8,
             "#7fbc41"
            ],
            [
             0.9,
             "#4d9221"
            ],
            [
             1,
             "#276419"
            ]
           ],
           "sequential": [
            [
             0,
             "#0d0887"
            ],
            [
             0.1111111111111111,
             "#46039f"
            ],
            [
             0.2222222222222222,
             "#7201a8"
            ],
            [
             0.3333333333333333,
             "#9c179e"
            ],
            [
             0.4444444444444444,
             "#bd3786"
            ],
            [
             0.5555555555555556,
             "#d8576b"
            ],
            [
             0.6666666666666666,
             "#ed7953"
            ],
            [
             0.7777777777777778,
             "#fb9f3a"
            ],
            [
             0.8888888888888888,
             "#fdca26"
            ],
            [
             1,
             "#f0f921"
            ]
           ],
           "sequentialminus": [
            [
             0,
             "#0d0887"
            ],
            [
             0.1111111111111111,
             "#46039f"
            ],
            [
             0.2222222222222222,
             "#7201a8"
            ],
            [
             0.3333333333333333,
             "#9c179e"
            ],
            [
             0.4444444444444444,
             "#bd3786"
            ],
            [
             0.5555555555555556,
             "#d8576b"
            ],
            [
             0.6666666666666666,
             "#ed7953"
            ],
            [
             0.7777777777777778,
             "#fb9f3a"
            ],
            [
             0.8888888888888888,
             "#fdca26"
            ],
            [
             1,
             "#f0f921"
            ]
           ]
          },
          "colorway": [
           "#636efa",
           "#EF553B",
           "#00cc96",
           "#ab63fa",
           "#FFA15A",
           "#19d3f3",
           "#FF6692",
           "#B6E880",
           "#FF97FF",
           "#FECB52"
          ],
          "font": {
           "color": "#2a3f5f"
          },
          "geo": {
           "bgcolor": "white",
           "lakecolor": "white",
           "landcolor": "#E5ECF6",
           "showlakes": true,
           "showland": true,
           "subunitcolor": "white"
          },
          "hoverlabel": {
           "align": "left"
          },
          "hovermode": "closest",
          "mapbox": {
           "style": "light"
          },
          "paper_bgcolor": "white",
          "plot_bgcolor": "#E5ECF6",
          "polar": {
           "angularaxis": {
            "gridcolor": "white",
            "linecolor": "white",
            "ticks": ""
           },
           "bgcolor": "#E5ECF6",
           "radialaxis": {
            "gridcolor": "white",
            "linecolor": "white",
            "ticks": ""
           }
          },
          "scene": {
           "xaxis": {
            "backgroundcolor": "#E5ECF6",
            "gridcolor": "white",
            "gridwidth": 2,
            "linecolor": "white",
            "showbackground": true,
            "ticks": "",
            "zerolinecolor": "white"
           },
           "yaxis": {
            "backgroundcolor": "#E5ECF6",
            "gridcolor": "white",
            "gridwidth": 2,
            "linecolor": "white",
            "showbackground": true,
            "ticks": "",
            "zerolinecolor": "white"
           },
           "zaxis": {
            "backgroundcolor": "#E5ECF6",
            "gridcolor": "white",
            "gridwidth": 2,
            "linecolor": "white",
            "showbackground": true,
            "ticks": "",
            "zerolinecolor": "white"
           }
          },
          "shapedefaults": {
           "line": {
            "color": "#2a3f5f"
           }
          },
          "ternary": {
           "aaxis": {
            "gridcolor": "white",
            "linecolor": "white",
            "ticks": ""
           },
           "baxis": {
            "gridcolor": "white",
            "linecolor": "white",
            "ticks": ""
           },
           "bgcolor": "#E5ECF6",
           "caxis": {
            "gridcolor": "white",
            "linecolor": "white",
            "ticks": ""
           }
          },
          "title": {
           "x": 0.05
          },
          "xaxis": {
           "automargin": true,
           "gridcolor": "white",
           "linecolor": "white",
           "ticks": "",
           "title": {
            "standoff": 15
           },
           "zerolinecolor": "white",
           "zerolinewidth": 2
          },
          "yaxis": {
           "automargin": true,
           "gridcolor": "white",
           "linecolor": "white",
           "ticks": "",
           "title": {
            "standoff": 15
           },
           "zerolinecolor": "white",
           "zerolinewidth": 2
          }
         }
        },
        "title": {
         "text": "Fig ...: Development of Average contribution to happiness for GDP by Continent"
        },
        "xaxis": {
         "anchor": "y",
         "domain": [
          0,
          1
         ],
         "gridcolor": "lightgray",
         "gridwidth": 0.5,
         "showgrid": true,
         "title": {
          "text": "Year"
         }
        },
        "yaxis": {
         "anchor": "x",
         "domain": [
          0,
          1
         ],
         "gridcolor": "lightgray",
         "gridwidth": 0.5,
         "showgrid": true,
         "title": {
          "text": "Average contribution"
         }
        }
       }
      }
     },
     "metadata": {},
     "output_type": "display_data"
    }
   ],
   "source": [
    "\n",
    "continent_colors = {\n",
    "    'Africa': '#AEFD8E',\n",
    "    'Asia': '#FAA598',\n",
    "    'Europe': '#E3C97F',\n",
    "    'North America': '#B47FE3',\n",
    "    'Australia': '#B2E4FA',\n",
    "    'South America': '#E8EAC8'\n",
    "}\n",
    "\n",
    "avg_happiness = df.groupby(['continent', 'Year'])['happiness_score'].mean().reset_index()\n",
    "\n",
    "# Create a grouped histogram using Plotly\n",
    "fig = px.histogram(avg_happiness, x='Year', y='happiness_score', color='continent', barmode='group',\n",
    "                   color_discrete_map=continent_colors)\n",
    "\n",
    "\n",
    "fig.update_layout(\n",
    "    title='Fig ...: Development of Average Happiness Score by Continent',\n",
    "    xaxis_title='Year',\n",
    "    yaxis_title='Average Happiness',\n",
    "    font=dict(family='Arial', size=14),\n",
    "    legend=dict(font=dict(family='Arial', size=12)),\n",
    "    plot_bgcolor='rgb(240, 240, 240)',\n",
    "    bargap=0.2\n",
    ")\n",
    "\n",
    "\n",
    "fig.update_xaxes(showgrid=True, gridwidth=0.5, gridcolor='lightgray')\n",
    "fig.update_yaxes(showgrid=True, gridwidth=0.5, gridcolor='lightgray')\n",
    "\n",
    "\n",
    "fig.update_traces(marker=dict(line=dict(width=0.5)))\n",
    "\n",
    "\n",
    "fig.show()\n",
    "\n",
    "\n",
    "avg_gdp = df.groupby(['continent', 'Year'])['gdp_per_capita'].mean().reset_index()\n",
    "\n",
    "# Create a grouped histogram using Plotly\n",
    "fig = px.histogram(avg_gdp, x='Year', y='gdp_per_capita', color='continent', barmode='group',\n",
    "                   color_discrete_map=continent_colors)\n",
    "\n",
    "\n",
    "fig.update_layout(\n",
    "    title='Fig ...: Development of Average contribution to happiness for GDP by Continent',\n",
    "    xaxis_title='Year',\n",
    "    yaxis_title='Average contribution',\n",
    "    font=dict(family='Arial', size=14),\n",
    "    legend=dict(font=dict(family='Arial', size=12)),\n",
    "    plot_bgcolor='rgb(240, 240, 240)',\n",
    "    bargap=0.2\n",
    ")\n",
    "\n",
    "\n",
    "fig.update_xaxes(showgrid=True, gridwidth=0.5, gridcolor='lightgray')\n",
    "fig.update_yaxes(showgrid=True, gridwidth=0.5, gridcolor='lightgray')\n",
    "\n",
    "\n",
    "fig.update_traces(marker=dict(line=dict(width=0.5)))\n",
    "\n",
    "fig.show()"
   ]
  },
  {
   "cell_type": "markdown",
   "id": "3fad5068",
   "metadata": {},
   "source": [
    "### GDP contribution to happiness\n",
    "\n",
    "The above two histograms can support both sides of the argument. While it supports the claim that 'wealthier' countries are also happier countries for the top three richest and happiest continents (Oceania, Europe and North America), the histograms also show that the contribution of GDP per capita is not a definitive factor in happiness. This supported by the fact that South America is happier than Asia in every year while also coming close to Europe in happiness. On the contrary South America is, on average, poorer than Asia in every year and substantially poorer than Europe. Another observation that supportss the claim that happiness is not necessarily related with wealth is the fact that the average contribution of GDP to happiness of all continents shrank from 2015 to 2018, while the average happiness of every continent remained pretty much constant throughout the same years."
   ]
  },
  {
   "cell_type": "code",
   "execution_count": 31,
   "id": "15401212",
   "metadata": {
    "scrolled": false
   },
   "outputs": [
    {
     "data": {
      "application/vnd.plotly.v1+json": {
       "config": {
        "plotlyServerURL": "https://plot.ly"
       },
       "data": [
        {
         "customdata": [
          [
           "Lebanon"
          ],
          [
           "Malaysia"
          ],
          [
           "Kuwait"
          ],
          [
           "Kazakhstan"
          ],
          [
           "Jordan"
          ],
          [
           "Japan"
          ],
          [
           "Israel"
          ],
          [
           "Iraq"
          ],
          [
           "Kyrgyzstan"
          ],
          [
           "Mongolia"
          ],
          [
           "Saudi Arabia"
          ],
          [
           "Philippines"
          ],
          [
           "Pakistan"
          ],
          [
           "Nepal"
          ],
          [
           "Myanmar"
          ],
          [
           "Iran"
          ],
          [
           "Indonesia"
          ],
          [
           "Cambodia"
          ],
          [
           "Bangladesh"
          ],
          [
           "Bahrain"
          ],
          [
           "Azerbaijan"
          ],
          [
           "Armenia"
          ],
          [
           "China"
          ],
          [
           "China"
          ],
          [
           "Georgia"
          ],
          [
           "Cyprus"
          ],
          [
           "India"
          ],
          [
           "Singapore"
          ],
          [
           "Afghanistan"
          ],
          [
           "Turkey"
          ],
          [
           "United Arab Emirates"
          ],
          [
           "Thailand"
          ],
          [
           "Vietnam"
          ],
          [
           "Sri Lanka"
          ],
          [
           "Turkmenistan"
          ],
          [
           "Uzbekistan"
          ],
          [
           "Tajikistan"
          ],
          [
           "Yemen"
          ]
         ],
         "hovertemplate": "Country: %{customdata[0]}<br>Happines: %{x}<br>GNI per Capita (PPP): %{y}",
         "legendgroup": "Asia",
         "marker": {
          "color": "#FAA598",
          "symbol": "circle"
         },
         "mode": "markers",
         "name": "Asia",
         "orientation": "v",
         "showlegend": true,
         "type": "scatter",
         "x": [
          5.224999905,
          6.084000111,
          6.105000019,
          5.818999767,
          5.335999966,
          5.920000076,
          7.212999821,
          4.497000217,
          5.004000187,
          4.954999924,
          6.343999863,
          5.429999828,
          5.269000053,
          4.961999893,
          4.545000076,
          4.691999912,
          5.262000084,
          4.168000221,
          4.607999802,
          6.086999893,
          5.234000206,
          4.375999928,
          5.272999763,
          5.272999763,
          4.285999775,
          5.620999813,
          4.315000057,
          6.572000027,
          3.79399991,
          5.5,
          6.647999763,
          6.423999786,
          5.073999882,
          4.440000057,
          5.822000027,
          5.971000195,
          5.040999889,
          3.592999935
         ],
         "xaxis": "x4",
         "y": [
          14920,
          24120,
          52880,
          23860,
          9140,
          41950,
          35130,
          10220,
          4460,
          9880,
          49450,
          8310,
          4640,
          2680,
          4180,
          13300,
          9910,
          3180,
          3790,
          42760,
          15020,
          12490,
          57450,
          12880,
          11420,
          31510,
          5400,
          81040,
          2110,
          25340,
          64640,
          15010,
          5790,
          11270,
          12890,
          6460,
          3590,
          null
         ],
         "yaxis": "y4"
        },
        {
         "customdata": [
          [
           "Vietnam"
          ],
          [
           "Kazakhstan"
          ],
          [
           "Jordan"
          ],
          [
           "Japan"
          ],
          [
           "Israel"
          ],
          [
           "Kuwait"
          ],
          [
           "Singapore"
          ],
          [
           "Kyrgyzstan"
          ],
          [
           "Tajikistan"
          ],
          [
           "Malaysia"
          ],
          [
           "Thailand"
          ],
          [
           "Lebanon"
          ],
          [
           "China"
          ],
          [
           "Afghanistan"
          ],
          [
           "Iraq"
          ],
          [
           "United Arab Emirates"
          ],
          [
           "Uzbekistan"
          ],
          [
           "Cyprus"
          ],
          [
           "China"
          ],
          [
           "Cambodia"
          ],
          [
           "Turkey"
          ],
          [
           "Iran"
          ],
          [
           "Indonesia"
          ],
          [
           "Bangladesh"
          ],
          [
           "India"
          ],
          [
           "Turkmenistan"
          ],
          [
           "Georgia"
          ],
          [
           "Yemen"
          ],
          [
           "Pakistan"
          ],
          [
           "Sri Lanka"
          ],
          [
           "Nepal"
          ],
          [
           "Azerbaijan"
          ],
          [
           "Armenia"
          ],
          [
           "Saudi Arabia"
          ],
          [
           "Myanmar"
          ],
          [
           "Philippines"
          ],
          [
           "Mongolia"
          ],
          [
           "Bahrain"
          ]
         ],
         "hovertemplate": "Country: %{customdata[0]}<br>Happines: %{x}<br>GNI per Capita (PPP): %{y}",
         "legendgroup": "Asia",
         "marker": {
          "color": "#FAA598",
          "symbol": "circle"
         },
         "mode": "markers",
         "name": "Asia",
         "orientation": "v",
         "showlegend": false,
         "type": "scatter",
         "x": [
          5.36,
          5.855,
          5.192,
          5.987,
          7.278,
          6.295,
          6.798,
          5.286,
          4.786,
          5.77,
          6.455,
          4.839,
          5.14,
          3.575,
          4.677,
          6.901,
          6.003,
          5.689,
          5.14,
          3.819,
          5.332,
          4.686,
          5.399,
          4.694,
          4.565,
          5.548,
          4.297,
          4.077,
          5.194,
          4.271,
          4.514,
          5.212,
          4.35,
          6.411,
          4.307,
          5.073,
          4.874,
          5.96
         ],
         "xaxis": "x3",
         "y": [
          6300,
          24280,
          9120,
          41350,
          37500,
          51550,
          83020,
          5020,
          3900,
          24840,
          15800,
          15250,
          58670,
          2140,
          9720,
          63670,
          6530,
          33000,
          13400,
          3450,
          26050,
          13650,
          10160,
          4070,
          5760,
          13500,
          11760,
          null,
          4680,
          11900,
          2620,
          14920,
          13160,
          46110,
          4220,
          8870,
          9860,
          41860
         ],
         "yaxis": "y3"
        },
        {
         "customdata": [
          [
           "Tajikistan"
          ],
          [
           "Georgia"
          ],
          [
           "Uzbekistan"
          ],
          [
           "Cambodia"
          ],
          [
           "Azerbaijan"
          ],
          [
           "Bahrain"
          ],
          [
           "Philippines"
          ],
          [
           "Malaysia"
          ],
          [
           "United Arab Emirates"
          ],
          [
           "Bangladesh"
          ],
          [
           "China"
          ],
          [
           "China"
          ],
          [
           "Afghanistan"
          ],
          [
           "Cyprus"
          ],
          [
           "Yemen"
          ],
          [
           "Saudi Arabia"
          ],
          [
           "Jordan"
          ],
          [
           "Japan"
          ],
          [
           "Israel"
          ],
          [
           "Kazakhstan"
          ],
          [
           "Sri Lanka"
          ],
          [
           "Lebanon"
          ],
          [
           "Myanmar"
          ],
          [
           "Thailand"
          ],
          [
           "Vietnam"
          ],
          [
           "Kyrgyzstan"
          ],
          [
           "Nepal"
          ],
          [
           "Kuwait"
          ],
          [
           "Turkmenistan"
          ],
          [
           "Armenia"
          ],
          [
           "Mongolia"
          ],
          [
           "India"
          ],
          [
           "Indonesia"
          ],
          [
           "Singapore"
          ],
          [
           "Turkey"
          ],
          [
           "Iran"
          ],
          [
           "Pakistan"
          ],
          [
           "Iraq"
          ]
         ],
         "hovertemplate": "Country: %{customdata[0]}<br>Happines: %{x}<br>GNI per Capita (PPP): %{y}",
         "legendgroup": "Asia",
         "marker": {
          "color": "#FAA598",
          "symbol": "circle"
         },
         "mode": "markers",
         "name": "Asia",
         "orientation": "v",
         "showlegend": false,
         "type": "scatter",
         "x": [
          5.467,
          4.519,
          6.174,
          4.7,
          5.208,
          6.199,
          5.631,
          5.339,
          6.825,
          4.456,
          5.191,
          5.191,
          3.203,
          6.046,
          3.38,
          6.375,
          4.906,
          5.886,
          7.139,
          5.809,
          4.366,
          5.197,
          4.36,
          6.008,
          5.175,
          5.261,
          4.913,
          6.021,
          5.247,
          4.559,
          5.285,
          4.015,
          5.192,
          6.262,
          5.373,
          4.548,
          5.653,
          4.437
         ],
         "xaxis": "x2",
         "y": [
          3560,
          12910,
          6650,
          3680,
          13510,
          44980,
          9320,
          25900,
          66290,
          4340,
          14140,
          62530,
          2210,
          35750,
          null,
          48040,
          9790,
          42290,
          38570,
          22160,
          12340,
          16070,
          4480,
          16610,
          6620,
          4800,
          3140,
          59260,
          13620,
          12540,
          9720,
          6120,
          10580,
          87440,
          27570,
          14560,
          4820,
          10850
         ],
         "yaxis": "y2"
        },
        {
         "customdata": [
          [
           "Vietnam"
          ],
          [
           "Cambodia"
          ],
          [
           "Afghanistan"
          ],
          [
           "Azerbaijan"
          ],
          [
           "Bahrain"
          ],
          [
           "Uzbekistan"
          ],
          [
           "Bangladesh"
          ],
          [
           "Yemen"
          ],
          [
           "Armenia"
          ],
          [
           "Indonesia"
          ],
          [
           "China"
          ],
          [
           "Sri Lanka"
          ],
          [
           "Nepal"
          ],
          [
           "Myanmar"
          ],
          [
           "Mongolia"
          ],
          [
           "Malaysia"
          ],
          [
           "Tajikistan"
          ],
          [
           "Singapore"
          ],
          [
           "Saudi Arabia"
          ],
          [
           "Philippines"
          ],
          [
           "Pakistan"
          ],
          [
           "Lebanon"
          ],
          [
           "Georgia"
          ],
          [
           "United Arab Emirates"
          ],
          [
           "Cyprus"
          ],
          [
           "Kyrgyzstan"
          ],
          [
           "Thailand"
          ],
          [
           "Kuwait"
          ],
          [
           "Kazakhstan"
          ],
          [
           "Jordan"
          ],
          [
           "Japan"
          ],
          [
           "China"
          ],
          [
           "Israel"
          ],
          [
           "Iraq"
          ],
          [
           "Iran"
          ],
          [
           "Turkey"
          ],
          [
           "India"
          ],
          [
           "Turkmenistan"
          ]
         ],
         "hovertemplate": "Country: %{customdata[0]}<br>Happines: %{x}<br>GNI per Capita (PPP): %{y}",
         "legendgroup": "Asia",
         "marker": {
          "color": "#FAA598",
          "symbol": "circle"
         },
         "mode": "markers",
         "name": "Asia",
         "orientation": "v",
         "showlegend": false,
         "type": "scatter",
         "x": [
          5.103,
          4.433,
          3.632,
          5.201,
          6.105,
          6.096,
          4.5,
          3.355,
          4.321,
          5.093,
          5.246,
          4.471,
          4.88,
          4.308,
          5.125,
          6.322,
          5.199,
          6.343,
          6.371,
          5.524,
          5.472,
          5.358,
          4.34,
          6.774,
          5.762,
          5.131,
          6.072,
          6.083,
          5.79,
          5.161,
          5.915,
          5.246,
          6.814,
          4.456,
          4.707,
          5.483,
          4.19,
          5.636
         ],
         "xaxis": "x",
         "y": [
          6220.27,
          3597.4,
          1745.67,
          15240.14,
          40399.12,
          6461.84,
          4057.25,
          1433.3,
          9277.23,
          11255.78,
          60220.8,
          11610.91,
          2748.2,
          5763.94,
          10783.71,
          27226.68,
          3482.38,
          83792.67,
          49338.41,
          9539.7,
          5190.08,
          11136.25,
          9569.52,
          66911.66,
          33100.32,
          3316.79,
          16128.55,
          71164.22,
          22167.7,
          8267.81,
          40799.01,
          16126.57,
          33649.69,
          15364.96,
          18166.47,
          24905.38,
          6828.6,
          16407.47
         ],
         "yaxis": "y"
        },
        {
         "customdata": [
          [
           "Mauritania"
          ],
          [
           "Mali"
          ],
          [
           "Malawi"
          ],
          [
           "Madagascar"
          ],
          [
           "Libya"
          ],
          [
           "Liberia"
          ],
          [
           "Mauritius"
          ],
          [
           "Kenya"
          ],
          [
           "Senegal"
          ],
          [
           "Rwanda"
          ],
          [
           "Nigeria"
          ],
          [
           "Niger"
          ],
          [
           "Morocco"
          ],
          [
           "Sierra Leone"
          ],
          [
           "Cameroon"
          ],
          [
           "Burundi"
          ],
          [
           "Burkina Faso"
          ],
          [
           "Botswana"
          ],
          [
           "Chad"
          ],
          [
           "Benin"
          ],
          [
           "Algeria"
          ],
          [
           "Ghana"
          ],
          [
           "Gabon"
          ],
          [
           "Ethiopia"
          ],
          [
           "Egypt"
          ],
          [
           "Zambia"
          ],
          [
           "Togo"
          ],
          [
           "Zimbabwe"
          ],
          [
           "Uganda"
          ],
          [
           "Tunisia"
          ],
          [
           "South Africa"
          ],
          [
           "Tanzania"
          ]
         ],
         "hovertemplate": "Country: %{customdata[0]}<br>Happines: %{x}<br>GNI per Capita (PPP): %{y}",
         "legendgroup": "Africa",
         "marker": {
          "color": "#AEFD8E",
          "symbol": "circle"
         },
         "mode": "markers",
         "name": "Africa",
         "orientation": "v",
         "showlegend": true,
         "type": "scatter",
         "x": [
          4.291999817,
          4.190000057,
          3.970000029,
          3.644000053,
          5.525000095,
          3.532999992,
          5.629000187,
          4.552999973,
          4.534999847,
          3.470999956,
          5.073999882,
          4.027999878,
          5.235000134,
          4.709000111,
          4.695000172,
          2.904999971,
          4.032000065,
          3.766000032,
          3.936000109,
          3.657000065,
          5.872000217,
          4.119999886,
          4.465000153,
          4.460000038,
          4.735000134,
          4.513999939,
          3.494999886,
          3.875,
          4.080999851,
          4.804999828,
          4.828999996,
          3.348999977
         ],
         "xaxis": "x4",
         "y": [
          3160,
          1990,
          990,
          1500,
          12740,
          1180,
          20860,
          3330,
          2910,
          1710,
          5280,
          840,
          7670,
          1570,
          3210,
          840,
          1460,
          15310,
          1760,
          2860,
          11700,
          5050,
          13480,
          1650,
          11160,
          3370,
          1440,
          2410,
          1750,
          9890,
          12240,
          2740
         ],
         "yaxis": "y4"
        },
        {
         "customdata": [
          [
           "Kenya"
          ],
          [
           "Togo"
          ],
          [
           "Botswana"
          ],
          [
           "Tunisia"
          ],
          [
           "Mauritania"
          ],
          [
           "Mali"
          ],
          [
           "Malawi"
          ],
          [
           "Madagascar"
          ],
          [
           "Tanzania"
          ],
          [
           "Libya"
          ],
          [
           "Benin"
          ],
          [
           "Liberia"
          ],
          [
           "Cameroon"
          ],
          [
           "Ethiopia"
          ],
          [
           "Egypt"
          ],
          [
           "Chad"
          ],
          [
           "Gabon"
          ],
          [
           "Burkina Faso"
          ],
          [
           "Uganda"
          ],
          [
           "Burundi"
          ],
          [
           "Ghana"
          ],
          [
           "Mauritius"
          ],
          [
           "Nigeria"
          ],
          [
           "Niger"
          ],
          [
           "Zambia"
          ],
          [
           "South Africa"
          ],
          [
           "Sierra Leone"
          ],
          [
           "Senegal"
          ],
          [
           "Zimbabwe"
          ],
          [
           "Rwanda"
          ],
          [
           "Algeria"
          ],
          [
           "Morocco"
          ]
         ],
         "hovertemplate": "Country: %{customdata[0]}<br>Happines: %{x}<br>GNI per Capita (PPP): %{y}",
         "legendgroup": "Africa",
         "marker": {
          "color": "#AEFD8E",
          "symbol": "circle"
         },
         "mode": "markers",
         "name": "Africa",
         "orientation": "v",
         "showlegend": false,
         "type": "scatter",
         "x": [
          4.419,
          2.839,
          4.332,
          4.739,
          4.436,
          3.995,
          4.292,
          3.681,
          3.781,
          5.754,
          3.34,
          4.571,
          4.252,
          4.512,
          4.194,
          3.667,
          3.896,
          3.587,
          3.931,
          2.905,
          4.633,
          5.477,
          5.268,
          3.845,
          5.129,
          4.642,
          4.507,
          3.904,
          4.61,
          3.465,
          5.605,
          5.013
         ],
         "xaxis": "x3",
         "y": [
          3620,
          1470,
          16600,
          10070,
          3350,
          2130,
          1020,
          1550,
          2860,
          11430,
          2980,
          1260,
          3350,
          1870,
          10850,
          1630,
          13180,
          1550,
          1690,
          800,
          4800,
          22390,
          5120,
          820,
          3330,
          12240,
          1420,
          3000,
          2570,
          1790,
          11520,
          7730
         ],
         "yaxis": "y3"
        },
        {
         "customdata": [
          [
           "Liberia"
          ],
          [
           "Gabon"
          ],
          [
           "Algeria"
          ],
          [
           "Mali"
          ],
          [
           "South Africa"
          ],
          [
           "Burkina Faso"
          ],
          [
           "Uganda"
          ],
          [
           "Burundi"
          ],
          [
           "Ghana"
          ],
          [
           "Ethiopia"
          ],
          [
           "Mauritania"
          ],
          [
           "Zimbabwe"
          ],
          [
           "Sierra Leone"
          ],
          [
           "Chad"
          ],
          [
           "Cameroon"
          ],
          [
           "Rwanda"
          ],
          [
           "Egypt"
          ],
          [
           "Senegal"
          ],
          [
           "Togo"
          ],
          [
           "Tanzania"
          ],
          [
           "Niger"
          ],
          [
           "Tunisia"
          ],
          [
           "Botswana"
          ],
          [
           "Morocco"
          ],
          [
           "Benin"
          ],
          [
           "Libya"
          ],
          [
           "Kenya"
          ],
          [
           "Nigeria"
          ],
          [
           "Malawi"
          ],
          [
           "Mauritius"
          ],
          [
           "Madagascar"
          ],
          [
           "Zambia"
          ]
         ],
         "hovertemplate": "Country: %{customdata[0]}<br>Happines: %{x}<br>GNI per Capita (PPP): %{y}",
         "legendgroup": "Africa",
         "marker": {
          "color": "#AEFD8E",
          "symbol": "circle"
         },
         "mode": "markers",
         "name": "Africa",
         "orientation": "v",
         "showlegend": false,
         "type": "scatter",
         "x": [
          3.975,
          4.799,
          5.211,
          4.39,
          4.722,
          4.587,
          4.189,
          3.775,
          4.996,
          4.286,
          4.49,
          3.663,
          4.374,
          4.35,
          5.044,
          3.334,
          4.166,
          4.681,
          4.085,
          3.231,
          4.628,
          4.461,
          3.488,
          5.208,
          4.883,
          5.525,
          4.509,
          5.265,
          3.41,
          5.888,
          3.933,
          4.107
         ],
         "xaxis": "x2",
         "y": [
          1380,
          14060,
          11370,
          2180,
          12320,
          1730,
          1710,
          770,
          4860,
          2010,
          3610,
          2860,
          1590,
          1570,
          3490,
          1910,
          10800,
          3140,
          1520,
          3020,
          830,
          10280,
          16680,
          8110,
          3010,
          13690,
          4000,
          5030,
          1030,
          23560,
          1540,
          3330
         ],
         "yaxis": "y2"
        },
        {
         "customdata": [
          [
           "Burkina Faso"
          ],
          [
           "Algeria"
          ],
          [
           "Zambia"
          ],
          [
           "Benin"
          ],
          [
           "Chad"
          ],
          [
           "Cameroon"
          ],
          [
           "Botswana"
          ],
          [
           "Burundi"
          ],
          [
           "Morocco"
          ],
          [
           "Mauritius"
          ],
          [
           "Mauritania"
          ],
          [
           "Mali"
          ],
          [
           "Malawi"
          ],
          [
           "Madagascar"
          ],
          [
           "Tanzania"
          ],
          [
           "Libya"
          ],
          [
           "Niger"
          ],
          [
           "Sierra Leone"
          ],
          [
           "Senegal"
          ],
          [
           "Rwanda"
          ],
          [
           "South Africa"
          ],
          [
           "Nigeria"
          ],
          [
           "Liberia"
          ],
          [
           "Ghana"
          ],
          [
           "Gabon"
          ],
          [
           "Ethiopia"
          ],
          [
           "Egypt"
          ],
          [
           "Uganda"
          ],
          [
           "Kenya"
          ],
          [
           "Togo"
          ],
          [
           "Tunisia"
          ],
          [
           "Zimbabwe"
          ]
         ],
         "hovertemplate": "Country: %{customdata[0]}<br>Happines: %{x}<br>GNI per Capita (PPP): %{y}",
         "legendgroup": "Africa",
         "marker": {
          "color": "#AEFD8E",
          "symbol": "circle"
         },
         "mode": "markers",
         "name": "Africa",
         "orientation": "v",
         "showlegend": false,
         "type": "scatter",
         "x": [
          4.424,
          5.295,
          4.377,
          4.141,
          4.301,
          4.975,
          3.59,
          2.905,
          5.254,
          5.891,
          4.356,
          4.447,
          3.587,
          3.774,
          3.303,
          5.566,
          4.166,
          4.571,
          4.631,
          3.408,
          4.724,
          5.155,
          3.495,
          4.657,
          4.758,
          4.35,
          4.419,
          4.161,
          4.41,
          3.999,
          4.592,
          3.692
         ],
         "xaxis": "x",
         "y": [
          1705.49,
          13639.43,
          3581.89,
          2134.59,
          1715.57,
          3291.13,
          15951.33,
          659.73,
          7479.59,
          22724.23,
          3746.08,
          1965.39,
          1159.12,
          1403.92,
          2805.12,
          11684.73,
          912.04,
          1381.3,
          3255.99,
          1958.61,
          11756.3,
          5085.54,
          1040.09,
          4098.86,
          15794.08,
          1781.76,
          10743.81,
          1752.21,
          3051.69,
          1592.54,
          10676.96,
          2661.07
         ],
         "yaxis": "y"
        },
        {
         "customdata": [
          [
           "Malta"
          ],
          [
           "Luxembourg"
          ],
          [
           "Lithuania"
          ],
          [
           "Latvia"
          ],
          [
           "Italy"
          ],
          [
           "Ireland"
          ],
          [
           "Moldova"
          ],
          [
           "Serbia"
          ],
          [
           "Russia"
          ],
          [
           "Romania"
          ],
          [
           "Portugal"
          ],
          [
           "Poland"
          ],
          [
           "Norway"
          ],
          [
           "Netherlands"
          ],
          [
           "Montenegro"
          ],
          [
           "Iceland"
          ],
          [
           "Bulgaria"
          ],
          [
           "Bosnia and Herzegovina"
          ],
          [
           "Belarus"
          ],
          [
           "Austria"
          ],
          [
           "Albania"
          ],
          [
           "Belgium"
          ],
          [
           "Hungary"
          ],
          [
           "Greece"
          ],
          [
           "Germany"
          ],
          [
           "France"
          ],
          [
           "Finland"
          ],
          [
           "Estonia"
          ],
          [
           "Denmark"
          ],
          [
           "Croatia"
          ],
          [
           "Ukraine"
          ],
          [
           "Sweden"
          ],
          [
           "Slovenia"
          ],
          [
           "United Kingdom"
          ],
          [
           "Spain"
          ],
          [
           "Switzerland"
          ],
          [
           "Slovakia"
          ]
         ],
         "hovertemplate": "Country: %{customdata[0]}<br>Happines: %{x}<br>GNI per Capita (PPP): %{y}",
         "legendgroup": "Europe",
         "marker": {
          "color": "#E3C97F",
          "symbol": "circle"
         },
         "mode": "markers",
         "name": "Europe",
         "orientation": "v",
         "showlegend": true,
         "type": "scatter",
         "x": [
          6.52699995,
          6.862999916,
          5.90199995,
          5.849999905,
          5.964000225,
          6.977000237,
          5.837999821,
          5.394999981,
          5.962999821,
          5.824999809,
          5.195000172,
          5.97300005,
          7.537000179,
          7.376999855,
          5.236999989,
          7.504000187,
          4.714000225,
          5.18200016,
          5.568999767,
          7.006000042,
          4.644000053,
          6.890999794,
          5.323999882,
          5.227000237,
          6.951000214,
          6.441999912,
          7.468999863,
          5.611000061,
          7.521999836,
          5.293000221,
          4.096000195,
          7.28399992,
          5.757999897,
          6.714000225,
          6.402999878,
          7.493999958,
          6.09800005
         ],
         "xaxis": "x4",
         "y": [
          34280,
          67590,
          27780,
          24690,
          36650,
          52990,
          11290,
          14230,
          23420,
          21130,
          28870,
          25880,
          63030,
          50340,
          16700,
          46480,
          17820,
          12100,
          19260,
          49390,
          11800,
          46870,
          25460,
          26940,
          48770,
          41740,
          42950,
          28570,
          50560,
          22870,
          7880,
          49420,
          30660,
          41550,
          34900,
          65450,
          28950
         ],
         "yaxis": "y4"
        },
        {
         "customdata": [
          [
           "Italy"
          ],
          [
           "Bosnia and Herzegovina"
          ],
          [
           "Malta"
          ],
          [
           "Belarus"
          ],
          [
           "Belgium"
          ],
          [
           "Luxembourg"
          ],
          [
           "Lithuania"
          ],
          [
           "Ireland"
          ],
          [
           "Estonia"
          ],
          [
           "United Kingdom"
          ],
          [
           "Finland"
          ],
          [
           "Denmark"
          ],
          [
           "Croatia"
          ],
          [
           "France"
          ],
          [
           "Bulgaria"
          ],
          [
           "Iceland"
          ],
          [
           "Hungary"
          ],
          [
           "Greece"
          ],
          [
           "Germany"
          ],
          [
           "Ukraine"
          ],
          [
           "Latvia"
          ],
          [
           "Spain"
          ],
          [
           "Norway"
          ],
          [
           "Austria"
          ],
          [
           "Netherlands"
          ],
          [
           "Serbia"
          ],
          [
           "Slovakia"
          ],
          [
           "Albania"
          ],
          [
           "Russia"
          ],
          [
           "Slovenia"
          ],
          [
           "Romania"
          ],
          [
           "Portugal"
          ],
          [
           "Poland"
          ],
          [
           "Sweden"
          ],
          [
           "Switzerland"
          ],
          [
           "Moldova"
          ],
          [
           "Montenegro"
          ]
         ],
         "hovertemplate": "Country: %{customdata[0]}<br>Happines: %{x}<br>GNI per Capita (PPP): %{y}",
         "legendgroup": "Europe",
         "marker": {
          "color": "#E3C97F",
          "symbol": "circle"
         },
         "mode": "markers",
         "name": "Europe",
         "orientation": "v",
         "showlegend": false,
         "type": "scatter",
         "x": [
          5.948,
          4.949,
          6.302,
          5.813,
          6.937,
          6.946,
          5.833,
          6.94,
          5.429,
          6.867,
          7.406,
          7.527,
          5.759,
          6.575,
          4.218,
          7.561,
          4.8,
          4.857,
          6.75,
          4.681,
          5.098,
          6.329,
          7.522,
          7.2,
          7.378,
          5.123,
          5.995,
          4.959,
          5.716,
          5.848,
          5.124,
          5.102,
          5.791,
          7.364,
          7.587,
          5.889,
          5.192
         ],
         "xaxis": "x3",
         "y": [
          40030,
          13090,
          35720,
          19280,
          49090,
          70450,
          29790,
          59070,
          30510,
          43100,
          45150,
          53110,
          24130,
          43830,
          19760,
          50990,
          26990,
          27820,
          51810,
          8210,
          26340,
          37370,
          61840,
          52630,
          51510,
          14960,
          29160,
          12270,
          23570,
          33010,
          23680,
          30840,
          27170,
          50780,
          66080,
          13060,
          18360
         ],
         "yaxis": "y3"
        },
        {
         "customdata": [
          [
           "Ukraine"
          ],
          [
           "Portugal"
          ],
          [
           "France"
          ],
          [
           "Slovenia"
          ],
          [
           "Finland"
          ],
          [
           "Romania"
          ],
          [
           "Moldova"
          ],
          [
           "Germany"
          ],
          [
           "Belarus"
          ],
          [
           "Poland"
          ],
          [
           "Greece"
          ],
          [
           "Croatia"
          ],
          [
           "Serbia"
          ],
          [
           "Switzerland"
          ],
          [
           "Denmark"
          ],
          [
           "Estonia"
          ],
          [
           "Russia"
          ],
          [
           "Malta"
          ],
          [
           "United Kingdom"
          ],
          [
           "Albania"
          ],
          [
           "Slovakia"
          ],
          [
           "Lithuania"
          ],
          [
           "Belgium"
          ],
          [
           "Bosnia and Herzegovina"
          ],
          [
           "Italy"
          ],
          [
           "Latvia"
          ],
          [
           "Netherlands"
          ],
          [
           "Austria"
          ],
          [
           "Sweden"
          ],
          [
           "Montenegro"
          ],
          [
           "Luxembourg"
          ],
          [
           "Hungary"
          ],
          [
           "Bulgaria"
          ],
          [
           "Iceland"
          ],
          [
           "Ireland"
          ],
          [
           "Norway"
          ],
          [
           "Spain"
          ]
         ],
         "hovertemplate": "Country: %{customdata[0]}<br>Happines: %{x}<br>GNI per Capita (PPP): %{y}",
         "legendgroup": "Europe",
         "marker": {
          "color": "#E3C97F",
          "symbol": "circle"
         },
         "mode": "markers",
         "name": "Europe",
         "orientation": "v",
         "showlegend": false,
         "type": "scatter",
         "x": [
          4.332,
          5.693,
          6.592,
          6.118,
          7.769,
          6.07,
          5.529,
          6.985,
          5.323,
          6.182,
          5.287,
          5.432,
          5.603,
          7.48,
          7.6,
          5.893,
          5.648,
          6.726,
          7.054,
          4.719,
          6.198,
          6.149,
          6.923,
          5.386,
          6.223,
          5.94,
          7.488,
          7.246,
          7.343,
          5.523,
          7.09,
          5.758,
          5.011,
          7.494,
          7.021,
          7.554,
          6.354
         ],
         "xaxis": "x2",
         "y": [
          8460,
          32310,
          45850,
          35990,
          47480,
          26620,
          12320,
          54370,
          17580,
          28900,
          29150,
          26310,
          15510,
          67890,
          56360,
          32930,
          25380,
          38370,
          45430,
          13130,
          30410,
          32560,
          51320,
          13790,
          42010,
          28360,
          55770,
          54150,
          53490,
          20110,
          72750,
          28340,
          21460,
          54380,
          61590,
          65730,
          39570
         ],
         "yaxis": "y2"
        },
        {
         "customdata": [
          [
           "Albania"
          ],
          [
           "Belarus"
          ],
          [
           "Bulgaria"
          ],
          [
           "Austria"
          ],
          [
           "Bosnia and Herzegovina"
          ],
          [
           "Belgium"
          ],
          [
           "Montenegro"
          ],
          [
           "Sweden"
          ],
          [
           "Moldova"
          ],
          [
           "Switzerland"
          ],
          [
           "Malta"
          ],
          [
           "Luxembourg"
          ],
          [
           "Lithuania"
          ],
          [
           "Netherlands"
          ],
          [
           "Serbia"
          ],
          [
           "Slovakia"
          ],
          [
           "Russia"
          ],
          [
           "Romania"
          ],
          [
           "Portugal"
          ],
          [
           "Slovenia"
          ],
          [
           "Poland"
          ],
          [
           "Norway"
          ],
          [
           "Spain"
          ],
          [
           "Latvia"
          ],
          [
           "Germany"
          ],
          [
           "Ukraine"
          ],
          [
           "France"
          ],
          [
           "Finland"
          ],
          [
           "Estonia"
          ],
          [
           "United Kingdom"
          ],
          [
           "Denmark"
          ],
          [
           "Croatia"
          ],
          [
           "Greece"
          ],
          [
           "Italy"
          ],
          [
           "Ireland"
          ],
          [
           "Iceland"
          ],
          [
           "Hungary"
          ]
         ],
         "hovertemplate": "Country: %{customdata[0]}<br>Happines: %{x}<br>GNI per Capita (PPP): %{y}",
         "legendgroup": "Europe",
         "marker": {
          "color": "#E3C97F",
          "symbol": "circle"
         },
         "mode": "markers",
         "name": "Europe",
         "orientation": "v",
         "showlegend": false,
         "type": "scatter",
         "x": [
          4.586,
          5.483,
          4.933,
          7.139,
          5.129,
          6.927,
          5.347,
          7.314,
          5.64,
          7.487,
          6.627,
          6.91,
          5.952,
          7.441,
          5.398,
          6.173,
          5.81,
          5.945,
          5.41,
          5.948,
          6.123,
          7.594,
          6.31,
          5.933,
          6.965,
          4.103,
          6.489,
          7.632,
          5.739,
          7.19,
          7.555,
          5.321,
          5.358,
          6,
          6.977,
          7.495,
          5.62
         ],
         "xaxis": "x",
         "y": [
          12299.8,
          17038.53,
          19645.94,
          46230.57,
          12689.68,
          43820.84,
          17510.71,
          47955.45,
          6833.11,
          59374.73,
          34795.18,
          65543.05,
          29775.26,
          50012.59,
          15217.7,
          30671.87,
          25036.02,
          23905.77,
          27935.38,
          32143.04,
          27625.8,
          68058.62,
          35041.3,
          26300.77,
          46945.95,
          7994.21,
          40510.78,
          41779.26,
          30378.63,
          39507.29,
          48836.09,
          23060.96,
          24909.34,
          36141.43,
          55659.68,
          47566.45,
          27144.21
         ],
         "yaxis": "y"
        },
        {
         "customdata": [
          [
           "Jamaica"
          ],
          [
           "Peru"
          ],
          [
           "Paraguay"
          ],
          [
           "Panama"
          ],
          [
           "Nicaragua"
          ],
          [
           "Brazil"
          ],
          [
           "Bolivia"
          ],
          [
           "Argentina"
          ],
          [
           "Chile"
          ],
          [
           "Honduras"
          ],
          [
           "Haiti"
          ],
          [
           "Guinea"
          ],
          [
           "Guatemala"
          ],
          [
           "El Salvador"
          ],
          [
           "Ecuador"
          ],
          [
           "Dominican Republic"
          ],
          [
           "Costa Rica"
          ],
          [
           "Colombia"
          ],
          [
           "Venezuela"
          ],
          [
           "Uruguay"
          ]
         ],
         "hovertemplate": "Country: %{customdata[0]}<br>Happines: %{x}<br>GNI per Capita (PPP): %{y}",
         "legendgroup": "South America",
         "marker": {
          "color": "#E8EAC8",
          "symbol": "circle"
         },
         "mode": "markers",
         "name": "South America",
         "orientation": "v",
         "showlegend": true,
         "type": "scatter",
         "x": [
          5.31099987,
          5.715000153,
          5.493000031,
          6.452000141,
          6.071000099,
          6.635000229,
          5.822999954,
          6.598999977,
          6.65199995,
          5.181000233,
          3.602999926,
          3.506999969,
          6.453999996,
          6.002999783,
          6.007999897,
          5.230000019,
          7.078999996,
          6.356999874,
          5.25,
          6.453999996
         ],
         "xaxis": "x4",
         "y": [
          8520,
          11180,
          11040,
          22810,
          5150,
          14470,
          6890,
          19650,
          22010,
          4490,
          1710,
          1790,
          7830,
          7240,
          10870,
          14130,
          16310,
          13700,
          null,
          19310
         ],
         "yaxis": "y4"
        },
        {
         "customdata": [
          [
           "Jamaica"
          ],
          [
           "Bolivia"
          ],
          [
           "Venezuela"
          ],
          [
           "El Salvador"
          ],
          [
           "Ecuador"
          ],
          [
           "Chile"
          ],
          [
           "Costa Rica"
          ],
          [
           "Colombia"
          ],
          [
           "Dominican Republic"
          ],
          [
           "Honduras"
          ],
          [
           "Haiti"
          ],
          [
           "Guinea"
          ],
          [
           "Guatemala"
          ],
          [
           "Brazil"
          ],
          [
           "Panama"
          ],
          [
           "Nicaragua"
          ],
          [
           "Paraguay"
          ],
          [
           "Peru"
          ],
          [
           "Argentina"
          ],
          [
           "Uruguay"
          ]
         ],
         "hovertemplate": "Country: %{customdata[0]}<br>Happines: %{x}<br>GNI per Capita (PPP): %{y}",
         "legendgroup": "South America",
         "marker": {
          "color": "#E8EAC8",
          "symbol": "circle"
         },
         "mode": "markers",
         "name": "South America",
         "orientation": "v",
         "showlegend": false,
         "type": "scatter",
         "x": [
          5.709,
          5.89,
          6.81,
          6.13,
          5.975,
          6.67,
          7.226,
          6.477,
          4.885,
          4.788,
          4.518,
          3.656,
          6.123,
          6.983,
          6.786,
          5.828,
          5.878,
          5.824,
          6.574,
          6.485
         ],
         "xaxis": "x3",
         "y": [
          8800,
          7360,
          null,
          7620,
          10830,
          22080,
          17230,
          13800,
          15420,
          4790,
          1770,
          2050,
          7910,
          13950,
          25080,
          5540,
          11540,
          11510,
          19710,
          19650
         ],
         "yaxis": "y3"
        },
        {
         "customdata": [
          [
           "Peru"
          ],
          [
           "Guatemala"
          ],
          [
           "Argentina"
          ],
          [
           "Haiti"
          ],
          [
           "Costa Rica"
          ],
          [
           "Chile"
          ],
          [
           "Colombia"
          ],
          [
           "Uruguay"
          ],
          [
           "El Salvador"
          ],
          [
           "Ecuador"
          ],
          [
           "Dominican Republic"
          ],
          [
           "Venezuela"
          ],
          [
           "Guinea"
          ],
          [
           "Honduras"
          ],
          [
           "Nicaragua"
          ],
          [
           "Jamaica"
          ],
          [
           "Paraguay"
          ],
          [
           "Bolivia"
          ],
          [
           "Panama"
          ],
          [
           "Brazil"
          ]
         ],
         "hovertemplate": "Country: %{customdata[0]}<br>Happines: %{x}<br>GNI per Capita (PPP): %{y}",
         "legendgroup": "South America",
         "marker": {
          "color": "#E8EAC8",
          "symbol": "circle"
         },
         "mode": "markers",
         "name": "South America",
         "orientation": "v",
         "showlegend": false,
         "type": "scatter",
         "x": [
          5.697,
          6.436,
          6.086,
          3.597,
          7.167,
          6.444,
          6.125,
          6.293,
          6.253,
          6.028,
          5.425,
          4.707,
          4.534,
          5.86,
          6.105,
          5.89,
          5.743,
          5.779,
          6.321,
          6.3
         ],
         "xaxis": "x2",
         "y": [
          11930,
          8200,
          22960,
          1770,
          18040,
          22750,
          14050,
          20060,
          7970,
          11350,
          15940,
          null,
          2410,
          5220,
          5850,
          9320,
          12210,
          8190,
          27640,
          14250
         ],
         "yaxis": "y2"
        },
        {
         "customdata": [
          [
           "Argentina"
          ],
          [
           "Chile"
          ],
          [
           "Uruguay"
          ],
          [
           "Venezuela"
          ],
          [
           "Bolivia"
          ],
          [
           "Brazil"
          ],
          [
           "Peru"
          ],
          [
           "Paraguay"
          ],
          [
           "Panama"
          ],
          [
           "Nicaragua"
          ],
          [
           "El Salvador"
          ],
          [
           "Ecuador"
          ],
          [
           "Dominican Republic"
          ],
          [
           "Costa Rica"
          ],
          [
           "Colombia"
          ],
          [
           "Guatemala"
          ],
          [
           "Guinea"
          ],
          [
           "Jamaica"
          ],
          [
           "Honduras"
          ],
          [
           "Haiti"
          ]
         ],
         "hovertemplate": "Country: %{customdata[0]}<br>Happines: %{x}<br>GNI per Capita (PPP): %{y}",
         "legendgroup": "South America",
         "marker": {
          "color": "#E8EAC8",
          "symbol": "circle"
         },
         "mode": "markers",
         "name": "South America",
         "orientation": "v",
         "showlegend": false,
         "type": "scatter",
         "x": [
          6.388,
          6.476,
          6.379,
          4.806,
          5.752,
          6.419,
          5.663,
          5.681,
          6.43,
          6.141,
          6.167,
          5.973,
          5.302,
          7.072,
          6.26,
          6.382,
          3.964,
          5.89,
          5.504,
          3.582
         ],
         "xaxis": "x",
         "y": [
          17611.22,
          21972.28,
          19434.85,
          9069.7,
          6849.2,
          14068.05,
          12322.66,
          11719.96,
          20454.87,
          4789.84,
          6973.46,
          10141.15,
          15074.26,
          14789.93,
          12895.59,
          7377.92,
          2211,
          7931.52,
          4258.35,
          1664.89
         ],
         "yaxis": "y"
        },
        {
         "customdata": [
          [
           "Mexico"
          ],
          [
           "Canada"
          ],
          [
           "United States"
          ]
         ],
         "hovertemplate": "Country: %{customdata[0]}<br>Happines: %{x}<br>GNI per Capita (PPP): %{y}",
         "legendgroup": "North America",
         "marker": {
          "color": "#B47FE3",
          "symbol": "circle"
         },
         "mode": "markers",
         "name": "North America",
         "orientation": "v",
         "showlegend": true,
         "type": "scatter",
         "x": [
          6.578000069,
          7.315999985,
          6.993000031
         ],
         "xaxis": "x4",
         "y": [
          17830,
          43990,
          58340
         ],
         "yaxis": "y4"
        },
        {
         "customdata": [
          [
           "Canada"
          ],
          [
           "United States"
          ],
          [
           "Mexico"
          ]
         ],
         "hovertemplate": "Country: %{customdata[0]}<br>Happines: %{x}<br>GNI per Capita (PPP): %{y}",
         "legendgroup": "North America",
         "marker": {
          "color": "#B47FE3",
          "symbol": "circle"
         },
         "mode": "markers",
         "name": "North America",
         "orientation": "v",
         "showlegend": false,
         "type": "scatter",
         "x": [
          7.427,
          7.119,
          7.187
         ],
         "xaxis": "x3",
         "y": [
          45910,
          58970,
          18810
         ],
         "yaxis": "y3"
        },
        {
         "customdata": [
          [
           "United States"
          ],
          [
           "Canada"
          ],
          [
           "Mexico"
          ]
         ],
         "hovertemplate": "Country: %{customdata[0]}<br>Happines: %{x}<br>GNI per Capita (PPP): %{y}",
         "legendgroup": "North America",
         "marker": {
          "color": "#B47FE3",
          "symbol": "circle"
         },
         "mode": "markers",
         "name": "North America",
         "orientation": "v",
         "showlegend": false,
         "type": "scatter",
         "x": [
          6.892,
          7.278,
          6.595
         ],
         "xaxis": "x2",
         "y": [
          61020,
          48070,
          19300
         ],
         "yaxis": "y2"
        },
        {
         "customdata": [
          [
           "Canada"
          ],
          [
           "Mexico"
          ],
          [
           "United States"
          ]
         ],
         "hovertemplate": "Country: %{customdata[0]}<br>Happines: %{x}<br>GNI per Capita (PPP): %{y}",
         "legendgroup": "North America",
         "marker": {
          "color": "#B47FE3",
          "symbol": "circle"
         },
         "mode": "markers",
         "name": "North America",
         "orientation": "v",
         "showlegend": false,
         "type": "scatter",
         "x": [
          7.328,
          6.488,
          6.886
         ],
         "xaxis": "x",
         "y": [
          43602.25,
          17628.12,
          56140.23
         ],
         "yaxis": "y"
        },
        {
         "customdata": [
          [
           "New Zealand"
          ],
          [
           "Australia"
          ]
         ],
         "hovertemplate": "Country: %{customdata[0]}<br>Happines: %{x}<br>GNI per Capita (PPP): %{y}",
         "legendgroup": "Australia",
         "marker": {
          "color": "#B2E4FA",
          "symbol": "circle"
         },
         "mode": "markers",
         "name": "Australia",
         "orientation": "v",
         "showlegend": true,
         "type": "scatter",
         "x": [
          7.31400013,
          7.28399992
         ],
         "xaxis": "x4",
         "y": [
          36210,
          45330
         ],
         "yaxis": "y4"
        },
        {
         "customdata": [
          [
           "Australia"
          ],
          [
           "New Zealand"
          ]
         ],
         "hovertemplate": "Country: %{customdata[0]}<br>Happines: %{x}<br>GNI per Capita (PPP): %{y}",
         "legendgroup": "Australia",
         "marker": {
          "color": "#B2E4FA",
          "symbol": "circle"
         },
         "mode": "markers",
         "name": "Australia",
         "orientation": "v",
         "showlegend": false,
         "type": "scatter",
         "x": [
          7.284,
          7.286
         ],
         "xaxis": "x3",
         "y": [
          46230,
          38630
         ],
         "yaxis": "y3"
        },
        {
         "customdata": [
          [
           "Australia"
          ],
          [
           "New Zealand"
          ]
         ],
         "hovertemplate": "Country: %{customdata[0]}<br>Happines: %{x}<br>GNI per Capita (PPP): %{y}",
         "legendgroup": "Australia",
         "marker": {
          "color": "#B2E4FA",
          "symbol": "circle"
         },
         "mode": "markers",
         "name": "Australia",
         "orientation": "v",
         "showlegend": false,
         "type": "scatter",
         "x": [
          7.228,
          7.307
         ],
         "xaxis": "x2",
         "y": [
          47580,
          39330
         ],
         "yaxis": "y2"
        },
        {
         "customdata": [
          [
           "Australia"
          ],
          [
           "New Zealand"
          ]
         ],
         "hovertemplate": "Country: %{customdata[0]}<br>Happines: %{x}<br>GNI per Capita (PPP): %{y}",
         "legendgroup": "Australia",
         "marker": {
          "color": "#B2E4FA",
          "symbol": "circle"
         },
         "mode": "markers",
         "name": "Australia",
         "orientation": "v",
         "showlegend": false,
         "type": "scatter",
         "x": [
          7.272,
          7.324
         ],
         "xaxis": "x",
         "y": [
          44097.02,
          35107.5
         ],
         "yaxis": "y"
        }
       ],
       "layout": {
        "annotations": [
         {
          "font": {},
          "showarrow": false,
          "text": "Year=2018",
          "textangle": 90,
          "x": 0.98,
          "xanchor": "left",
          "xref": "paper",
          "y": 0.11375,
          "yanchor": "middle",
          "yref": "paper"
         },
         {
          "font": {},
          "showarrow": false,
          "text": "Year=2017",
          "textangle": 90,
          "x": 0.98,
          "xanchor": "left",
          "xref": "paper",
          "y": 0.37124999999999997,
          "yanchor": "middle",
          "yref": "paper"
         },
         {
          "font": {},
          "showarrow": false,
          "text": "Year=2016",
          "textangle": 90,
          "x": 0.98,
          "xanchor": "left",
          "xref": "paper",
          "y": 0.62875,
          "yanchor": "middle",
          "yref": "paper"
         },
         {
          "font": {},
          "showarrow": false,
          "text": "Year=2015",
          "textangle": 90,
          "x": 0.98,
          "xanchor": "left",
          "xref": "paper",
          "y": 0.88625,
          "yanchor": "middle",
          "yref": "paper"
         }
        ],
        "height": 1000,
        "legend": {
         "title": {
          "text": "continent"
         },
         "tracegroupgap": 0
        },
        "margin": {
         "t": 60
        },
        "plot_bgcolor": "rgb(240, 240, 240, 240)",
        "template": {
         "data": {
          "bar": [
           {
            "error_x": {
             "color": "#2a3f5f"
            },
            "error_y": {
             "color": "#2a3f5f"
            },
            "marker": {
             "line": {
              "color": "#E5ECF6",
              "width": 0.5
             },
             "pattern": {
              "fillmode": "overlay",
              "size": 10,
              "solidity": 0.2
             }
            },
            "type": "bar"
           }
          ],
          "barpolar": [
           {
            "marker": {
             "line": {
              "color": "#E5ECF6",
              "width": 0.5
             },
             "pattern": {
              "fillmode": "overlay",
              "size": 10,
              "solidity": 0.2
             }
            },
            "type": "barpolar"
           }
          ],
          "carpet": [
           {
            "aaxis": {
             "endlinecolor": "#2a3f5f",
             "gridcolor": "white",
             "linecolor": "white",
             "minorgridcolor": "white",
             "startlinecolor": "#2a3f5f"
            },
            "baxis": {
             "endlinecolor": "#2a3f5f",
             "gridcolor": "white",
             "linecolor": "white",
             "minorgridcolor": "white",
             "startlinecolor": "#2a3f5f"
            },
            "type": "carpet"
           }
          ],
          "choropleth": [
           {
            "colorbar": {
             "outlinewidth": 0,
             "ticks": ""
            },
            "type": "choropleth"
           }
          ],
          "contour": [
           {
            "colorbar": {
             "outlinewidth": 0,
             "ticks": ""
            },
            "colorscale": [
             [
              0,
              "#0d0887"
             ],
             [
              0.1111111111111111,
              "#46039f"
             ],
             [
              0.2222222222222222,
              "#7201a8"
             ],
             [
              0.3333333333333333,
              "#9c179e"
             ],
             [
              0.4444444444444444,
              "#bd3786"
             ],
             [
              0.5555555555555556,
              "#d8576b"
             ],
             [
              0.6666666666666666,
              "#ed7953"
             ],
             [
              0.7777777777777778,
              "#fb9f3a"
             ],
             [
              0.8888888888888888,
              "#fdca26"
             ],
             [
              1,
              "#f0f921"
             ]
            ],
            "type": "contour"
           }
          ],
          "contourcarpet": [
           {
            "colorbar": {
             "outlinewidth": 0,
             "ticks": ""
            },
            "type": "contourcarpet"
           }
          ],
          "heatmap": [
           {
            "colorbar": {
             "outlinewidth": 0,
             "ticks": ""
            },
            "colorscale": [
             [
              0,
              "#0d0887"
             ],
             [
              0.1111111111111111,
              "#46039f"
             ],
             [
              0.2222222222222222,
              "#7201a8"
             ],
             [
              0.3333333333333333,
              "#9c179e"
             ],
             [
              0.4444444444444444,
              "#bd3786"
             ],
             [
              0.5555555555555556,
              "#d8576b"
             ],
             [
              0.6666666666666666,
              "#ed7953"
             ],
             [
              0.7777777777777778,
              "#fb9f3a"
             ],
             [
              0.8888888888888888,
              "#fdca26"
             ],
             [
              1,
              "#f0f921"
             ]
            ],
            "type": "heatmap"
           }
          ],
          "heatmapgl": [
           {
            "colorbar": {
             "outlinewidth": 0,
             "ticks": ""
            },
            "colorscale": [
             [
              0,
              "#0d0887"
             ],
             [
              0.1111111111111111,
              "#46039f"
             ],
             [
              0.2222222222222222,
              "#7201a8"
             ],
             [
              0.3333333333333333,
              "#9c179e"
             ],
             [
              0.4444444444444444,
              "#bd3786"
             ],
             [
              0.5555555555555556,
              "#d8576b"
             ],
             [
              0.6666666666666666,
              "#ed7953"
             ],
             [
              0.7777777777777778,
              "#fb9f3a"
             ],
             [
              0.8888888888888888,
              "#fdca26"
             ],
             [
              1,
              "#f0f921"
             ]
            ],
            "type": "heatmapgl"
           }
          ],
          "histogram": [
           {
            "marker": {
             "pattern": {
              "fillmode": "overlay",
              "size": 10,
              "solidity": 0.2
             }
            },
            "type": "histogram"
           }
          ],
          "histogram2d": [
           {
            "colorbar": {
             "outlinewidth": 0,
             "ticks": ""
            },
            "colorscale": [
             [
              0,
              "#0d0887"
             ],
             [
              0.1111111111111111,
              "#46039f"
             ],
             [
              0.2222222222222222,
              "#7201a8"
             ],
             [
              0.3333333333333333,
              "#9c179e"
             ],
             [
              0.4444444444444444,
              "#bd3786"
             ],
             [
              0.5555555555555556,
              "#d8576b"
             ],
             [
              0.6666666666666666,
              "#ed7953"
             ],
             [
              0.7777777777777778,
              "#fb9f3a"
             ],
             [
              0.8888888888888888,
              "#fdca26"
             ],
             [
              1,
              "#f0f921"
             ]
            ],
            "type": "histogram2d"
           }
          ],
          "histogram2dcontour": [
           {
            "colorbar": {
             "outlinewidth": 0,
             "ticks": ""
            },
            "colorscale": [
             [
              0,
              "#0d0887"
             ],
             [
              0.1111111111111111,
              "#46039f"
             ],
             [
              0.2222222222222222,
              "#7201a8"
             ],
             [
              0.3333333333333333,
              "#9c179e"
             ],
             [
              0.4444444444444444,
              "#bd3786"
             ],
             [
              0.5555555555555556,
              "#d8576b"
             ],
             [
              0.6666666666666666,
              "#ed7953"
             ],
             [
              0.7777777777777778,
              "#fb9f3a"
             ],
             [
              0.8888888888888888,
              "#fdca26"
             ],
             [
              1,
              "#f0f921"
             ]
            ],
            "type": "histogram2dcontour"
           }
          ],
          "mesh3d": [
           {
            "colorbar": {
             "outlinewidth": 0,
             "ticks": ""
            },
            "type": "mesh3d"
           }
          ],
          "parcoords": [
           {
            "line": {
             "colorbar": {
              "outlinewidth": 0,
              "ticks": ""
             }
            },
            "type": "parcoords"
           }
          ],
          "pie": [
           {
            "automargin": true,
            "type": "pie"
           }
          ],
          "scatter": [
           {
            "fillpattern": {
             "fillmode": "overlay",
             "size": 10,
             "solidity": 0.2
            },
            "type": "scatter"
           }
          ],
          "scatter3d": [
           {
            "line": {
             "colorbar": {
              "outlinewidth": 0,
              "ticks": ""
             }
            },
            "marker": {
             "colorbar": {
              "outlinewidth": 0,
              "ticks": ""
             }
            },
            "type": "scatter3d"
           }
          ],
          "scattercarpet": [
           {
            "marker": {
             "colorbar": {
              "outlinewidth": 0,
              "ticks": ""
             }
            },
            "type": "scattercarpet"
           }
          ],
          "scattergeo": [
           {
            "marker": {
             "colorbar": {
              "outlinewidth": 0,
              "ticks": ""
             }
            },
            "type": "scattergeo"
           }
          ],
          "scattergl": [
           {
            "marker": {
             "colorbar": {
              "outlinewidth": 0,
              "ticks": ""
             }
            },
            "type": "scattergl"
           }
          ],
          "scattermapbox": [
           {
            "marker": {
             "colorbar": {
              "outlinewidth": 0,
              "ticks": ""
             }
            },
            "type": "scattermapbox"
           }
          ],
          "scatterpolar": [
           {
            "marker": {
             "colorbar": {
              "outlinewidth": 0,
              "ticks": ""
             }
            },
            "type": "scatterpolar"
           }
          ],
          "scatterpolargl": [
           {
            "marker": {
             "colorbar": {
              "outlinewidth": 0,
              "ticks": ""
             }
            },
            "type": "scatterpolargl"
           }
          ],
          "scatterternary": [
           {
            "marker": {
             "colorbar": {
              "outlinewidth": 0,
              "ticks": ""
             }
            },
            "type": "scatterternary"
           }
          ],
          "surface": [
           {
            "colorbar": {
             "outlinewidth": 0,
             "ticks": ""
            },
            "colorscale": [
             [
              0,
              "#0d0887"
             ],
             [
              0.1111111111111111,
              "#46039f"
             ],
             [
              0.2222222222222222,
              "#7201a8"
             ],
             [
              0.3333333333333333,
              "#9c179e"
             ],
             [
              0.4444444444444444,
              "#bd3786"
             ],
             [
              0.5555555555555556,
              "#d8576b"
             ],
             [
              0.6666666666666666,
              "#ed7953"
             ],
             [
              0.7777777777777778,
              "#fb9f3a"
             ],
             [
              0.8888888888888888,
              "#fdca26"
             ],
             [
              1,
              "#f0f921"
             ]
            ],
            "type": "surface"
           }
          ],
          "table": [
           {
            "cells": {
             "fill": {
              "color": "#EBF0F8"
             },
             "line": {
              "color": "white"
             }
            },
            "header": {
             "fill": {
              "color": "#C8D4E3"
             },
             "line": {
              "color": "white"
             }
            },
            "type": "table"
           }
          ]
         },
         "layout": {
          "annotationdefaults": {
           "arrowcolor": "#2a3f5f",
           "arrowhead": 0,
           "arrowwidth": 1
          },
          "autotypenumbers": "strict",
          "coloraxis": {
           "colorbar": {
            "outlinewidth": 0,
            "ticks": ""
           }
          },
          "colorscale": {
           "diverging": [
            [
             0,
             "#8e0152"
            ],
            [
             0.1,
             "#c51b7d"
            ],
            [
             0.2,
             "#de77ae"
            ],
            [
             0.3,
             "#f1b6da"
            ],
            [
             0.4,
             "#fde0ef"
            ],
            [
             0.5,
             "#f7f7f7"
            ],
            [
             0.6,
             "#e6f5d0"
            ],
            [
             0.7,
             "#b8e186"
            ],
            [
             0.8,
             "#7fbc41"
            ],
            [
             0.9,
             "#4d9221"
            ],
            [
             1,
             "#276419"
            ]
           ],
           "sequential": [
            [
             0,
             "#0d0887"
            ],
            [
             0.1111111111111111,
             "#46039f"
            ],
            [
             0.2222222222222222,
             "#7201a8"
            ],
            [
             0.3333333333333333,
             "#9c179e"
            ],
            [
             0.4444444444444444,
             "#bd3786"
            ],
            [
             0.5555555555555556,
             "#d8576b"
            ],
            [
             0.6666666666666666,
             "#ed7953"
            ],
            [
             0.7777777777777778,
             "#fb9f3a"
            ],
            [
             0.8888888888888888,
             "#fdca26"
            ],
            [
             1,
             "#f0f921"
            ]
           ],
           "sequentialminus": [
            [
             0,
             "#0d0887"
            ],
            [
             0.1111111111111111,
             "#46039f"
            ],
            [
             0.2222222222222222,
             "#7201a8"
            ],
            [
             0.3333333333333333,
             "#9c179e"
            ],
            [
             0.4444444444444444,
             "#bd3786"
            ],
            [
             0.5555555555555556,
             "#d8576b"
            ],
            [
             0.6666666666666666,
             "#ed7953"
            ],
            [
             0.7777777777777778,
             "#fb9f3a"
            ],
            [
             0.8888888888888888,
             "#fdca26"
            ],
            [
             1,
             "#f0f921"
            ]
           ]
          },
          "colorway": [
           "#636efa",
           "#EF553B",
           "#00cc96",
           "#ab63fa",
           "#FFA15A",
           "#19d3f3",
           "#FF6692",
           "#B6E880",
           "#FF97FF",
           "#FECB52"
          ],
          "font": {
           "color": "#2a3f5f"
          },
          "geo": {
           "bgcolor": "white",
           "lakecolor": "white",
           "landcolor": "#E5ECF6",
           "showlakes": true,
           "showland": true,
           "subunitcolor": "white"
          },
          "hoverlabel": {
           "align": "left"
          },
          "hovermode": "closest",
          "mapbox": {
           "style": "light"
          },
          "paper_bgcolor": "white",
          "plot_bgcolor": "#E5ECF6",
          "polar": {
           "angularaxis": {
            "gridcolor": "white",
            "linecolor": "white",
            "ticks": ""
           },
           "bgcolor": "#E5ECF6",
           "radialaxis": {
            "gridcolor": "white",
            "linecolor": "white",
            "ticks": ""
           }
          },
          "scene": {
           "xaxis": {
            "backgroundcolor": "#E5ECF6",
            "gridcolor": "white",
            "gridwidth": 2,
            "linecolor": "white",
            "showbackground": true,
            "ticks": "",
            "zerolinecolor": "white"
           },
           "yaxis": {
            "backgroundcolor": "#E5ECF6",
            "gridcolor": "white",
            "gridwidth": 2,
            "linecolor": "white",
            "showbackground": true,
            "ticks": "",
            "zerolinecolor": "white"
           },
           "zaxis": {
            "backgroundcolor": "#E5ECF6",
            "gridcolor": "white",
            "gridwidth": 2,
            "linecolor": "white",
            "showbackground": true,
            "ticks": "",
            "zerolinecolor": "white"
           }
          },
          "shapedefaults": {
           "line": {
            "color": "#2a3f5f"
           }
          },
          "ternary": {
           "aaxis": {
            "gridcolor": "white",
            "linecolor": "white",
            "ticks": ""
           },
           "baxis": {
            "gridcolor": "white",
            "linecolor": "white",
            "ticks": ""
           },
           "bgcolor": "#E5ECF6",
           "caxis": {
            "gridcolor": "white",
            "linecolor": "white",
            "ticks": ""
           }
          },
          "title": {
           "x": 0.05
          },
          "xaxis": {
           "automargin": true,
           "gridcolor": "white",
           "linecolor": "white",
           "ticks": "",
           "title": {
            "standoff": 15
           },
           "zerolinecolor": "white",
           "zerolinewidth": 2
          },
          "yaxis": {
           "automargin": true,
           "gridcolor": "white",
           "linecolor": "white",
           "ticks": "",
           "title": {
            "standoff": 15
           },
           "zerolinecolor": "white",
           "zerolinewidth": 2
          }
         }
        },
        "title": {
         "text": "Fig ...: Scatter Plot of GNI per Capita (PPP) vs Happiness by Year"
        },
        "width": 800,
        "xaxis": {
         "anchor": "y",
         "domain": [
          0,
          0.98
         ],
         "title": {
          "text": "Happiness score"
         }
        },
        "xaxis2": {
         "anchor": "y2",
         "domain": [
          0,
          0.98
         ],
         "matches": "x",
         "showticklabels": false
        },
        "xaxis3": {
         "anchor": "y3",
         "domain": [
          0,
          0.98
         ],
         "matches": "x",
         "showticklabels": false
        },
        "xaxis4": {
         "anchor": "y4",
         "domain": [
          0,
          0.98
         ],
         "matches": "x",
         "showticklabels": false
        },
        "yaxis": {
         "anchor": "x",
         "domain": [
          0,
          0.2275
         ],
         "title": {
          "text": "GNI per Capita (PPP)"
         }
        },
        "yaxis2": {
         "anchor": "x2",
         "domain": [
          0.2575,
          0.485
         ],
         "matches": "y",
         "title": {
          "text": "GNI_per_capita_PPP"
         }
        },
        "yaxis3": {
         "anchor": "x3",
         "domain": [
          0.515,
          0.7425
         ],
         "matches": "y",
         "title": {
          "text": "GNI_per_capita_PPP"
         }
        },
        "yaxis4": {
         "anchor": "x4",
         "domain": [
          0.7725,
          1
         ],
         "matches": "y",
         "title": {
          "text": "GNI_per_capita_PPP"
         }
        }
       }
      }
     },
     "metadata": {},
     "output_type": "display_data"
    }
   ],
   "source": [
    "### Does a good education give government trust?\n",
    "\n",
    "# This 3d Scatter Plot is multivariate and shows on the x-axis the 'Education Index', on the y-axis the 'Government Trust' and on the z-axis the 'CPI Score'. CPI stands for 'Corruption Perception Index', the lower the CPI index, the more the people believe there is corruption in their country. The size of the plot-points shows the GDP per capita. \n",
    "\n",
    "# The 3D scatter plot reveals interesting insights about the correlation between the Corruption Perception Index (CPI) score and other variables across countries. A positive correlation between the CPI score and variables such as Education Index and Government trust suggests that countries with higher levels of corruption tend to exhibit lower values in education, government trust, and economic prosperity. Conversely, a negative correlation indicates that countries with lower corruption levels tend to have higher education indices and greater levels of government trust. This visualization highlights the importance of addressing corruption to foster positive development in education and trust within countries. \n",
    "\n",
    "# The Education Index plays a significant role in shaping the relationships between various variables across countries and continents. A positive correlation between the Education Index and variables such as Government trust, GDP per capita, and possibly the Corruption Perception Index suggests that countries with higher education indices tend to exhibit greater levels of government trust and economic prosperity while combating corruption. Furthermore, the Education Index may influence the disparities observed between countries and continents. Nations with higher education indices are more likely to invest in quality education, leading to better governance, higher economic output, and potentially lower corruption levels. Thus, enhancing education systems becomes vital for promoting positive development and reducing inequality among countries and continents.\n",
    "\n",
    "# Overall it gives the visualisation that countries with a higher inducation index tend to have more goverment trust and a higher CPI score. This is probaply because people that live in a country that is able to give a good education tend to trust the goverment more than people that don't recieved good education. \n",
    "data = df.sort_values('Year', ascending=True)\n",
    "\n",
    "\n",
    "fig = px.scatter(data, x='happiness_score', y='GNI_per_capita_PPP', color='continent',\n",
    "                 color_discrete_map=continent_colors, hover_data=['Country'], facet_row='Year')\n",
    "\n",
    "\n",
    "fig.update_layout(\n",
    "    title='Fig ...: Scatter Plot of GNI per Capita (PPP) vs Happiness by Year',\n",
    "    xaxis_title='Happiness score',\n",
    "    yaxis_title='GNI per Capita (PPP)',\n",
    "    height=1000,  \n",
    "    width = 800,\n",
    "    plot_bgcolor='rgb(240, 240, 240, 240)'\n",
    ")\n",
    "\n",
    "\n",
    "fig.update_traces(hovertemplate='Country: %{customdata[0]}<br>Happines: %{x}<br>GNI per Capita (PPP): %{y}')\n",
    "\n",
    "\n",
    "fig.show()"
   ]
  },
  {
   "cell_type": "markdown",
   "id": "602f077d",
   "metadata": {},
   "source": [
    "### GNI and happiness\n",
    "While these scatterplots show that having a 'richer' population (measured with GNI_per_capita adjusted for PPP) is generally related with having a happier population. These scatterplots also show that countries with a poorer population can still have happier population. This is exemplified by the fact that a country like Mexico has a much poorer population than a country like Singapore (which has by far the richest population) while their happiness scores are pretty much equal to each other. Furthermore, these scatterplots show that most countries move stronger along the x-axis than along the y-axis, this means that countries can become happier or unhappier regardless of the economic wealth of their citizens. Kuwait, however shows the exact opposite side of this phenomenon, they show great growth in their GNI per capita while their happiness scores do not increase or decrease drastically."
   ]
  },
  {
   "cell_type": "code",
   "execution_count": 32,
   "id": "bba4bf04",
   "metadata": {},
   "outputs": [
    {
     "data": {
      "image/png": "[encoded data removed]",
      "text/plain": [
       "<Figure size 1200x800 with 1 Axes>"
      ]
     },
     "metadata": {},
     "output_type": "display_data"
    }
   ],
   "source": [
    "\n",
    "continent_scores = defaultdict(list)\n",
    "\n",
    "with open('full_data.csv', 'r') as file:\n",
    "    reader = csv.DictReader(file)\n",
    "    for row in reader:\n",
    "        continent = row['continent']\n",
    "        country = row['Country']\n",
    "        year = row['Year']\n",
    "        happiness_score = float(row['happiness_score'])\n",
    "        continent_scores[continent].append((country, year, happiness_score))\n",
    "\n",
    "\n",
    "sns.set(style=\"whitegrid\")\n",
    "plt.figure(figsize=(12, 8))\n",
    "\n",
    "\n",
    "palette = sns.color_palette(\"deep\", len(continent_scores))\n",
    "\n",
    "\n",
    "country_heights = []\n",
    "\n",
    "for continent, scores in continent_scores.items():\n",
    "    heights = [score for _, _, score in scores]\n",
    "    country_heights.append(heights)\n",
    "\n",
    "\n",
    "bars = plt.hist(country_heights, bins=20, stacked=True, label=list(continent_scores.keys()), color=palette, alpha=0.8, linewidth=0)\n",
    "\n",
    "\n",
    "legend_patches = [mpatches.Patch(color=palette[i], label=continent) for i, continent in enumerate(continent_scores.keys())]\n",
    "plt.legend(handles=legend_patches, loc='upper right', fontsize='small')\n",
    "\n",
    "\n",
    "fig = plt.gcf()\n",
    "ax = plt.gca()\n",
    "\n",
    "def hover(event):\n",
    "    for container in bars:\n",
    "        for rect in container:\n",
    "            cont, ind = rect.contains(event)\n",
    "            if cont:\n",
    "                heights = [height.get_height() for height in container]\n",
    "                countries = [country for country in continent_scores.keys()]\n",
    "                bins = bars[1]\n",
    "                bin_width = np.diff(bins)[0]\n",
    "                index = ind[\"ind\"][0]\n",
    "                x = bars[1][index] + bin_width / 2\n",
    "                y = heights[index]\n",
    "                plt.annotate(f\"{countries[index]}: {y:.2f}\", xy=(x, y), xytext=(x, y + 0.2),\n",
    "                             ha='center', va='bottom', color='black', alpha=0.7,\n",
    "                             arrowprops=dict(arrowstyle='-', lw=0.5, color='black'))\n",
    "                fig.canvas.draw_idle()\n",
    "\n",
    "plt.xlabel(\"Happiness Score\")\n",
    "plt.ylabel(\"Count\")\n",
    "plt.title(\"Fig ...: Stacked Histogram of Happiness Scores by Continent\")\n",
    "plt.tight_layout()\n",
    "sns.despine()\n",
    "\n",
    "plt.show()\n"
   ]
  },
  {
   "cell_type": "markdown",
   "id": "c142e5f3",
   "metadata": {},
   "source": [
    "### happiness score by continent\n",
    "\n",
    "The graph above shows us the amount of countries that are within a certain rounded score of happiness, the happiness is rounded to the nearest integer. As we can see African countries are the lowest on the scale of happiness while western countries are near the top of the distribution. Interesting to note is that while South american countries are poorer and less developed compared to western or Asian countries, their happiness is above what would be expected of their demographic metrics. Further relations in the world happiness dataset need to be drawn to conclude what causes such happiness has outside of income or education. The factors for happiness in these countries will be analyzed later in this notebook to gain an insight into the true factors of happiness."
   ]
  },
  {
   "cell_type": "code",
   "execution_count": 33,
   "id": "8b025d33",
   "metadata": {},
   "outputs": [
    {
     "data": {
      "application/vnd.plotly.v1+json": {
       "config": {
        "plotlyServerURL": "https://plot.ly"
       },
       "data": [
        {
         "dimensions": [
          {
           "label": "Continent",
           "values": [
            "Africa",
            "Africa",
            "Africa",
            "Africa",
            "Africa",
            "Africa",
            "Africa",
            "Africa",
            "Africa",
            "Africa",
            "Africa",
            "Africa",
            "Africa",
            "Africa",
            "Africa",
            "Africa",
            "Africa",
            "Africa",
            "Africa",
            "Africa",
            "Africa",
            "Africa",
            "Africa",
            "Africa",
            "Africa",
            "Africa",
            "South America",
            "South America",
            "Africa",
            "Africa",
            "Africa",
            "Africa",
            "Africa",
            "South America",
            "Africa",
            "Africa",
            "Africa",
            "Africa",
            "Africa",
            "Africa",
            "Africa",
            "Africa",
            "Africa",
            "Africa",
            "Africa",
            "South America",
            "Africa",
            "Africa",
            "Africa",
            "Africa",
            "Africa",
            "Africa",
            "Africa",
            "Africa",
            "South America",
            "Africa",
            "Africa",
            "Africa",
            "Africa",
            "Africa",
            "Africa",
            "Africa",
            "Asia",
            "Asia",
            "Africa",
            "Africa",
            "Asia",
            "Africa",
            "Africa",
            "Africa",
            "Africa",
            "Asia",
            "Asia",
            "Africa",
            "Africa",
            "Africa",
            "Africa",
            "Africa",
            "Africa",
            "Asia",
            "Asia",
            "Asia",
            "Africa",
            "Africa",
            "Africa",
            "Africa",
            "Africa",
            "Asia",
            "South America",
            "Africa",
            "Africa",
            "Africa",
            "Africa",
            "Africa",
            "Africa",
            "Africa",
            "Asia",
            "Asia",
            "South America",
            "Africa",
            "Africa",
            "Africa",
            "Africa",
            "Africa",
            "Africa",
            "Asia",
            "Asia",
            "Africa",
            "Africa",
            "Africa",
            "Asia",
            "South America",
            "Africa",
            "Africa",
            "Africa",
            "Africa",
            "Africa",
            "Asia",
            "Africa",
            "Africa",
            "Africa",
            "Africa",
            "Asia",
            "Africa",
            "Africa",
            "Asia",
            "Asia",
            "Asia",
            "Asia",
            "Africa",
            "Africa",
            "Asia",
            "Asia",
            "Europe",
            "Asia",
            "Asia",
            "Asia",
            "Europe",
            "Asia",
            "Asia",
            "Asia",
            "Asia",
            "Asia",
            "Europe",
            "Asia",
            "Asia",
            "Asia",
            "Africa",
            "Asia",
            "Asia",
            "Europe",
            "Africa",
            "Asia",
            "Africa",
            "Africa",
            "Asia",
            "Asia",
            "Asia",
            "Asia",
            "Asia",
            "Asia",
            "Asia",
            "Asia",
            "Asia",
            "Asia",
            "South America",
            "South America",
            "South America",
            "Asia",
            "Asia",
            "Asia",
            "Asia",
            "Asia",
            "Asia",
            "Asia",
            "Asia",
            "Asia",
            "Asia",
            "South America",
            "Europe",
            "Asia",
            "Asia",
            "Asia",
            "Asia",
            "Asia",
            "Asia",
            "Asia",
            "South America",
            "Asia",
            "Asia",
            "Asia",
            "Asia",
            "Asia",
            "South America",
            "Africa",
            "Asia",
            "South America",
            "South America",
            "Europe",
            "Europe",
            "Asia",
            "Asia",
            "South America",
            "Europe",
            "Asia",
            "Asia",
            "Asia",
            "Asia",
            "South America",
            "Europe",
            "Asia",
            "Asia",
            "Asia",
            "South America",
            "Europe",
            "Europe",
            "Africa",
            "Europe",
            "Europe",
            "Asia",
            "South America",
            "South America",
            "South America",
            "South America",
            "Asia",
            "South America",
            "South America",
            "South America",
            "South America",
            "South America",
            "Asia",
            "Asia",
            "South America",
            "South America",
            "South America",
            "South America",
            "South America",
            "South America",
            "Asia",
            "Asia",
            "South America",
            "South America",
            "South America",
            "South America",
            "South America",
            "South America",
            "Europe",
            "Africa",
            "Europe",
            "Europe",
            "Africa",
            "South America",
            "Europe",
            "Europe",
            "Africa",
            "South America",
            "South America",
            "Europe",
            "Africa",
            "South America",
            "North America",
            "Africa",
            "Asia",
            "Asia",
            "Europe",
            "Europe",
            "Europe",
            "Europe",
            "Asia",
            "Europe",
            "Europe",
            "Africa",
            "Asia",
            "Europe",
            "Europe",
            "Africa",
            "Asia",
            "Europe",
            "Europe",
            "Europe",
            "Asia",
            "Asia",
            "Asia",
            "Asia",
            "Asia",
            "Asia",
            "Asia",
            "Asia",
            "South America",
            "South America",
            "North America",
            "South America",
            "North America",
            "North America",
            "Asia",
            "Asia",
            "Africa",
            "Asia",
            "Asia",
            "Africa",
            "Africa",
            "Africa",
            "Africa",
            "Africa",
            "Asia",
            "Asia",
            "Asia",
            "Europe",
            "Europe",
            "Europe",
            "Africa",
            "Asia",
            "Asia",
            "Asia",
            "Europe",
            "Europe",
            "Europe",
            "Africa",
            "Asia",
            "Asia",
            "Asia",
            "Europe",
            "Europe",
            "Africa",
            "Africa",
            "Asia",
            "Asia",
            "Asia",
            "Europe",
            "Europe",
            "Europe",
            "Europe",
            "Europe",
            "Europe",
            "Europe",
            "Asia",
            "Europe",
            "Europe",
            "Asia",
            "Asia",
            "Europe",
            "Asia",
            "Europe",
            "Europe",
            "Asia",
            "Asia",
            "Asia",
            "Africa",
            "Asia",
            "South America",
            "South America",
            "South America",
            "South America",
            "Africa",
            "Asia",
            "South America",
            "South America",
            "South America",
            "South America",
            "Asia",
            "South America",
            "South America",
            "South America",
            "Europe",
            "Asia",
            "South America",
            "South America",
            "South America",
            "South America",
            "South America",
            "South America",
            "Asia",
            "South America",
            "Europe",
            "Europe",
            "Europe",
            "Asia",
            "Europe",
            "Europe",
            "Europe",
            "South America",
            "South America",
            "South America",
            "South America",
            "Europe",
            "Europe",
            "Europe",
            "Europe",
            "Asia",
            "South America",
            "South America",
            "Europe",
            "Europe",
            "Europe",
            "Europe",
            "Asia",
            "Europe",
            "Asia",
            "Europe",
            "Asia",
            "Europe",
            "Europe",
            "Europe",
            "Asia",
            "Europe",
            "Europe",
            "Europe",
            "Asia",
            "Asia",
            "Asia",
            "Asia",
            "South America",
            "South America",
            "South America",
            "South America",
            "South America",
            "South America",
            "South America",
            "South America",
            "South America",
            "Europe",
            "Europe",
            "Europe",
            "Europe",
            "Europe",
            "Europe",
            "Europe",
            "Europe",
            "Europe",
            "Europe",
            "Europe",
            "North America",
            "Europe",
            "North America",
            "Europe",
            "Europe",
            "Europe",
            "Europe",
            "Europe",
            "North America",
            "Asia",
            "Asia",
            "Asia",
            "North America",
            "Asia",
            "Europe",
            "Europe",
            "Europe",
            "Europe",
            "Europe",
            "Europe",
            "Europe",
            "Europe",
            "Europe",
            "Europe",
            "Asia",
            "Europe",
            "Europe",
            "Europe",
            "Europe",
            "Europe",
            "Europe",
            "Europe",
            "Europe",
            "Asia",
            "Europe",
            "Asia",
            "Europe",
            "Asia",
            "Europe",
            "Asia",
            "Europe",
            "Asia",
            "Asia",
            "Asia",
            "Europe",
            "Australia",
            "Asia",
            "Australia",
            "Asia",
            "Europe",
            "Australia",
            "Asia",
            "Europe",
            "Australia",
            "North America",
            "Europe",
            "Australia",
            "North America",
            "Europe",
            "Australia",
            "North America",
            "Europe",
            "Australia",
            "North America",
            "Europe",
            "Europe",
            "Europe",
            "Europe",
            "Australia",
            "Europe",
            "Europe",
            "Europe",
            "Europe",
            "Europe",
            "Europe",
            "Europe",
            "Europe",
            "Europe",
            "Europe",
            "Europe",
            "Europe",
            "Europe",
            "Europe",
            "Europe",
            "Europe",
            "Europe",
            "Asia",
            "Asia",
            "Europe",
            "Europe",
            "Europe",
            "Europe",
            "Europe",
            "Europe",
            "Europe",
            "Europe",
            "Europe"
           ]
          },
          {
           "label": "Year",
           "values": [
            2015,
            2016,
            2017,
            2017,
            2018,
            2015,
            2015,
            2016,
            2016,
            2017,
            2018,
            2018,
            2015,
            2015,
            2016,
            2016,
            2016,
            2018,
            2015,
            2015,
            2015,
            2015,
            2015,
            2015,
            2015,
            2015,
            2015,
            2015,
            2016,
            2016,
            2016,
            2016,
            2016,
            2016,
            2017,
            2017,
            2017,
            2017,
            2017,
            2018,
            2018,
            2018,
            2018,
            2018,
            2018,
            2018,
            2015,
            2015,
            2016,
            2016,
            2017,
            2017,
            2017,
            2017,
            2017,
            2018,
            2015,
            2015,
            2016,
            2017,
            2017,
            2017,
            2017,
            2017,
            2018,
            2018,
            2018,
            2015,
            2015,
            2015,
            2015,
            2015,
            2015,
            2016,
            2016,
            2016,
            2016,
            2016,
            2016,
            2016,
            2016,
            2016,
            2017,
            2017,
            2017,
            2017,
            2017,
            2017,
            2017,
            2018,
            2018,
            2018,
            2018,
            2018,
            2018,
            2018,
            2018,
            2018,
            2018,
            2015,
            2015,
            2016,
            2016,
            2015,
            2015,
            2015,
            2015,
            2016,
            2016,
            2016,
            2016,
            2016,
            2017,
            2017,
            2017,
            2018,
            2018,
            2018,
            2015,
            2016,
            2017,
            2017,
            2017,
            2018,
            2018,
            2017,
            2015,
            2016,
            2018,
            2018,
            2017,
            2015,
            2015,
            2015,
            2016,
            2017,
            2017,
            2017,
            2018,
            2018,
            2018,
            2018,
            2018,
            2018,
            2015,
            2015,
            2015,
            2016,
            2016,
            2016,
            2016,
            2017,
            2017,
            2018,
            2018,
            2018,
            2015,
            2015,
            2015,
            2015,
            2015,
            2015,
            2015,
            2015,
            2015,
            2015,
            2015,
            2015,
            2016,
            2016,
            2016,
            2016,
            2016,
            2016,
            2016,
            2016,
            2016,
            2016,
            2016,
            2016,
            2017,
            2017,
            2017,
            2017,
            2017,
            2017,
            2017,
            2017,
            2018,
            2018,
            2018,
            2018,
            2018,
            2018,
            2015,
            2015,
            2015,
            2015,
            2015,
            2015,
            2016,
            2016,
            2016,
            2016,
            2017,
            2017,
            2017,
            2017,
            2017,
            2017,
            2018,
            2018,
            2018,
            2018,
            2018,
            2018,
            2016,
            2016,
            2017,
            2015,
            2015,
            2015,
            2015,
            2015,
            2016,
            2016,
            2016,
            2016,
            2016,
            2016,
            2017,
            2017,
            2017,
            2017,
            2017,
            2017,
            2017,
            2017,
            2018,
            2018,
            2018,
            2018,
            2018,
            2018,
            2018,
            2018,
            2018,
            2015,
            2015,
            2015,
            2016,
            2016,
            2016,
            2016,
            2017,
            2017,
            2017,
            2017,
            2018,
            2018,
            2018,
            2015,
            2015,
            2015,
            2015,
            2015,
            2015,
            2015,
            2016,
            2016,
            2016,
            2017,
            2017,
            2017,
            2017,
            2018,
            2018,
            2018,
            2018,
            2017,
            2015,
            2016,
            2017,
            2018,
            2015,
            2016,
            2017,
            2018,
            2016,
            2015,
            2015,
            2016,
            2016,
            2017,
            2015,
            2016,
            2017,
            2017,
            2018,
            2015,
            2015,
            2016,
            2017,
            2018,
            2015,
            2015,
            2015,
            2015,
            2015,
            2015,
            2016,
            2016,
            2016,
            2016,
            2016,
            2016,
            2016,
            2017,
            2017,
            2017,
            2017,
            2017,
            2017,
            2018,
            2018,
            2018,
            2018,
            2018,
            2018,
            2018,
            2018,
            2018,
            2015,
            2015,
            2015,
            2016,
            2016,
            2016,
            2017,
            2017,
            2017,
            2018,
            2018,
            2016,
            2015,
            2016,
            2017,
            2015,
            2015,
            2015,
            2015,
            2015,
            2015,
            2016,
            2016,
            2016,
            2016,
            2016,
            2016,
            2017,
            2017,
            2017,
            2017,
            2017,
            2018,
            2018,
            2018,
            2018,
            2018,
            2018,
            2018,
            2015,
            2015,
            2015,
            2015,
            2015,
            2016,
            2016,
            2016,
            2016,
            2017,
            2017,
            2017,
            2017,
            2017,
            2017,
            2017,
            2017,
            2018,
            2018,
            2018,
            2018,
            2018,
            2018,
            2018,
            2015,
            2015,
            2016,
            2016,
            2017,
            2017,
            2017,
            2017,
            2018,
            2018,
            2018,
            2018,
            2015,
            2016,
            2017,
            2018,
            2015,
            2015,
            2016,
            2016,
            2017,
            2018,
            2015,
            2016,
            2016,
            2018,
            2015,
            2015,
            2015,
            2015,
            2015,
            2016,
            2016,
            2016,
            2017,
            2018,
            2015,
            2015,
            2016,
            2016,
            2016,
            2017,
            2017,
            2017,
            2018,
            2015,
            2016,
            2017,
            2017,
            2018,
            2018,
            2015,
            2016,
            2017,
            2015,
            2016,
            2017,
            2018,
            2018,
            2016,
            2018,
            2015,
            2015,
            2016,
            2016,
            2017,
            2017,
            2018,
            2018,
            2015,
            2015,
            2016,
            2016,
            2017,
            2017,
            2018,
            2018,
            2017,
            2018,
            2015,
            2015,
            2015,
            2016,
            2016,
            2017,
            2017,
            2017,
            2018,
            2018,
            2018,
            2015,
            2015,
            2015,
            2016,
            2016,
            2016,
            2017,
            2017,
            2017,
            2018,
            2018,
            2018,
            2018,
            2018,
            2018,
            2015,
            2016,
            2016,
            2016,
            2017,
            2017,
            2017,
            2018,
            2018,
            2018,
            2015,
            2015,
            2017,
            2017,
            2018,
            2016,
            2017,
            2015,
            2016,
            2015,
            2017,
            2018,
            2016,
            2015,
            2016,
            2016,
            2017,
            2018
           ]
          },
          {
           "label": "Education Index",
           "values": [
            0.3,
            0.3,
            0.3,
            0.4,
            0.3,
            0.4,
            0.5,
            0.4,
            0.5,
            0.5,
            0.4,
            0.5,
            0.5,
            0.5,
            0.5,
            0.5,
            0.6,
            0.5,
            0.2,
            0.3,
            0.3,
            0.5,
            0.5,
            0.5,
            0.5,
            0.6,
            0.4,
            0.4,
            0.2,
            0.3,
            0.3,
            0.5,
            0.6,
            0.4,
            0.3,
            0.5,
            0.6,
            0.6,
            0.6,
            0.3,
            0.3,
            0.3,
            0.5,
            0.6,
            0.6,
            0.4,
            0.6,
            0.6,
            0.6,
            0.6,
            0.2,
            0.3,
            0.5,
            0.6,
            0.4,
            0.6,
            0.5,
            0.5,
            0.5,
            0.5,
            0.5,
            0.5,
            0.4,
            0.4,
            0.4,
            0.4,
            0.4,
            0.4,
            0.4,
            0.5,
            0.6,
            0.4,
            0.4,
            0.4,
            0.4,
            0.5,
            0.5,
            0.5,
            0.6,
            0.4,
            0.4,
            0.5,
            0.4,
            0.4,
            0.5,
            0.5,
            0.6,
            0.5,
            0.5,
            0.4,
            0.4,
            0.5,
            0.5,
            0.5,
            0.6,
            0.6,
            0.4,
            0.5,
            0.5,
            0.6,
            0.7,
            0.6,
            0.7,
            0.4,
            0.6,
            0.4,
            0.5,
            0.4,
            0.5,
            0.6,
            0.4,
            0.4,
            0.4,
            0.6,
            0.6,
            0.4,
            0.6,
            0.4,
            0.7,
            0.7,
            0.6,
            0.7,
            0.6,
            0.7,
            0.7,
            0.4,
            0.6,
            0.6,
            0.6,
            0.5,
            0.7,
            0.5,
            0.6,
            0.8,
            0.5,
            0.5,
            0.6,
            0.8,
            0.5,
            0.5,
            0.6,
            0.8,
            0.9,
            0.8,
            0.5,
            0.8,
            0.8,
            0.6,
            0.8,
            0.9,
            0.8,
            0.6,
            0.6,
            0.6,
            0.7,
            0.6,
            0.5,
            0.5,
            0.6,
            0.6,
            0.7,
            0.7,
            0.7,
            0.7,
            0.8,
            0.5,
            0.7,
            0.8,
            0.5,
            0.5,
            0.5,
            0.6,
            0.6,
            0.7,
            0.7,
            0.7,
            0.8,
            0.8,
            0.5,
            0.8,
            0.5,
            0.5,
            0.6,
            0.7,
            0.7,
            0.8,
            0.8,
            0.8,
            0.5,
            0.6,
            0.7,
            0.7,
            0.8,
            0.7,
            0.6,
            0.7,
            0.7,
            0.7,
            0.8,
            0.8,
            0.6,
            0.7,
            0.7,
            0.8,
            0.6,
            0.7,
            0.8,
            0.9,
            0.7,
            0.9,
            0.6,
            0.7,
            0.8,
            0.7,
            0.8,
            0.8,
            0.8,
            0.9,
            0.8,
            0.7,
            0.5,
            0.6,
            0.6,
            0.7,
            0.7,
            0.5,
            0.6,
            0.6,
            0.7,
            0.7,
            0.7,
            0.7,
            0.5,
            0.5,
            0.6,
            0.6,
            0.7,
            0.7,
            0.7,
            0.7,
            0.5,
            0.5,
            0.6,
            0.6,
            0.7,
            0.7,
            0.7,
            0.6,
            0.7,
            0.9,
            0.6,
            0.7,
            0.7,
            0.9,
            0.6,
            0.7,
            0.7,
            0.7,
            0.6,
            0.7,
            0.7,
            0.8,
            0.7,
            0.8,
            0.8,
            0.8,
            0.9,
            0.9,
            0.8,
            0.8,
            0.9,
            0.8,
            0.8,
            0.8,
            0.9,
            0.8,
            0.8,
            0.8,
            0.9,
            0.9,
            0.8,
            0.8,
            0.8,
            0.8,
            0.6,
            0.6,
            0.7,
            0.7,
            0.8,
            0.7,
            0.7,
            0.7,
            0.7,
            0.7,
            0.8,
            0.8,
            0.7,
            0.8,
            0.8,
            0.6,
            0.7,
            0.6,
            0.6,
            0.6,
            0.6,
            0.7,
            0.8,
            0.7,
            0.8,
            0.8,
            0.7,
            0.7,
            0.7,
            0.8,
            0.7,
            0.8,
            0.8,
            0.7,
            0.7,
            0.7,
            0.8,
            0.7,
            0.8,
            0.7,
            0.7,
            0.6,
            0.7,
            0.8,
            0.7,
            0.8,
            0.8,
            0.8,
            0.8,
            0.8,
            0.8,
            0.7,
            0.8,
            0.8,
            0.7,
            0.7,
            0.8,
            0.8,
            0.8,
            0.9,
            0.7,
            0.7,
            0.7,
            0.7,
            0.7,
            0.7,
            0.7,
            0.7,
            0.8,
            0.7,
            0.7,
            0.7,
            0.7,
            0.7,
            0.8,
            0.7,
            0.7,
            0.7,
            0.7,
            0.8,
            0.7,
            0.7,
            0.7,
            0.7,
            0.8,
            0.8,
            0.9,
            0.7,
            0.7,
            0.8,
            0.9,
            0.9,
            0.7,
            0.8,
            0.8,
            0.9,
            0.7,
            0.8,
            0.8,
            0.9,
            0.8,
            0.8,
            0.8,
            0.9,
            0.7,
            0.7,
            0.8,
            0.8,
            0.8,
            0.9,
            0.9,
            0.8,
            0.9,
            0.8,
            0.9,
            0.8,
            0.8,
            0.9,
            0.9,
            0.8,
            0.8,
            0.9,
            0.9,
            0.8,
            0.8,
            0.8,
            0.8,
            0.8,
            0.8,
            0.8,
            0.9,
            0.8,
            0.8,
            0.8,
            0.7,
            0.8,
            0.9,
            0.9,
            0.9,
            0.9,
            1,
            1,
            0.9,
            0.9,
            1,
            0.9,
            1,
            0.9,
            1,
            0.9,
            0.9,
            1,
            0.9,
            1,
            1,
            0.9,
            0.8,
            0.8,
            0.8,
            0.9,
            0.8,
            1,
            1,
            1,
            1,
            0.9,
            0.9,
            0.9,
            0.8,
            0.9,
            0.8,
            0.9,
            0.8,
            0.9,
            0.8,
            0.9,
            0.8,
            0.9,
            0.8,
            0.9,
            0.8,
            0.9,
            0.9,
            0.8,
            0.9,
            0.8,
            0.9,
            0.8,
            0.9,
            0.9,
            0.9,
            0.8,
            1,
            0.9,
            1,
            0.9,
            0.8,
            1,
            0.9,
            0.8,
            1,
            0.9,
            0.9,
            1,
            0.9,
            0.9,
            1,
            0.9,
            0.9,
            1,
            0.9,
            0.9,
            1,
            1,
            1,
            1,
            0.9,
            0.9,
            0.9,
            1,
            0.9,
            0.9,
            1,
            0.9,
            0.9,
            1,
            0.8,
            0.9,
            0.9,
            1,
            0.8,
            0.8,
            0.8,
            0.9,
            0.9,
            1,
            0.9,
            1,
            1,
            0.9,
            0.9,
            1,
            1,
            1
           ]
          },
          {
           "label": "GNI per capita",
           "values": [
            0,
            0,
            0,
            0,
            0,
            0,
            0,
            0,
            0,
            0,
            0,
            0,
            0,
            0,
            0,
            0,
            0,
            0,
            0,
            0,
            0,
            0,
            0,
            0,
            0,
            0,
            0,
            0,
            0,
            0,
            0,
            0,
            0,
            0,
            0,
            0,
            0,
            0,
            0,
            0,
            0,
            0,
            0,
            0,
            0,
            0,
            0,
            0,
            0,
            0,
            0,
            0,
            0,
            0,
            0,
            0,
            0,
            0,
            0,
            0,
            0,
            0,
            0,
            0,
            0,
            0,
            0,
            0,
            0,
            0,
            0,
            0,
            0,
            0,
            0,
            0,
            0,
            0,
            0,
            0,
            0,
            0,
            0,
            0,
            0,
            0,
            0,
            0,
            0,
            0,
            0,
            0,
            0,
            0,
            0,
            0,
            0,
            0,
            0,
            10000,
            10000,
            10000,
            10000,
            0,
            0,
            0,
            0,
            0,
            0,
            0,
            0,
            0,
            0,
            0,
            0,
            0,
            0,
            0,
            10000,
            10000,
            10000,
            10000,
            10000,
            10000,
            10000,
            0,
            10000,
            10000,
            10000,
            0,
            10000,
            0,
            0,
            0,
            0,
            0,
            0,
            0,
            0,
            0,
            0,
            0,
            0,
            0,
            10000,
            10000,
            10000,
            10000,
            10000,
            10000,
            10000,
            10000,
            10000,
            10000,
            10000,
            10000,
            0,
            0,
            0,
            0,
            0,
            0,
            0,
            0,
            0,
            0,
            0,
            0,
            0,
            0,
            0,
            0,
            0,
            0,
            0,
            0,
            0,
            0,
            0,
            0,
            0,
            0,
            0,
            0,
            0,
            0,
            0,
            0,
            0,
            0,
            0,
            0,
            0,
            0,
            10000,
            10000,
            10000,
            10000,
            10000,
            10000,
            10000,
            10000,
            10000,
            10000,
            10000,
            10000,
            10000,
            10000,
            10000,
            10000,
            10000,
            10000,
            10000,
            10000,
            10000,
            10000,
            20000,
            20000,
            20000,
            0,
            0,
            0,
            0,
            0,
            0,
            0,
            0,
            0,
            0,
            0,
            0,
            0,
            0,
            0,
            0,
            0,
            0,
            0,
            0,
            0,
            0,
            0,
            0,
            0,
            0,
            0,
            0,
            10000,
            10000,
            10000,
            10000,
            10000,
            10000,
            10000,
            10000,
            10000,
            10000,
            10000,
            10000,
            10000,
            10000,
            20000,
            20000,
            20000,
            20000,
            20000,
            20000,
            20000,
            20000,
            20000,
            20000,
            20000,
            20000,
            20000,
            20000,
            20000,
            20000,
            20000,
            20000,
            30000,
            40000,
            40000,
            40000,
            40000,
            50000,
            50000,
            50000,
            70000,
            0,
            10000,
            10000,
            10000,
            10000,
            10000,
            10000,
            10000,
            10000,
            10000,
            10000,
            0,
            0,
            0,
            0,
            0,
            10000,
            10000,
            10000,
            10000,
            10000,
            10000,
            10000,
            10000,
            10000,
            10000,
            10000,
            10000,
            10000,
            10000,
            10000,
            10000,
            10000,
            10000,
            10000,
            10000,
            10000,
            10000,
            10000,
            10000,
            10000,
            10000,
            10000,
            10000,
            20000,
            20000,
            20000,
            20000,
            20000,
            20000,
            20000,
            20000,
            20000,
            20000,
            20000,
            30000,
            50000,
            50000,
            60000,
            10000,
            10000,
            10000,
            10000,
            10000,
            10000,
            10000,
            10000,
            10000,
            10000,
            10000,
            10000,
            10000,
            10000,
            10000,
            10000,
            10000,
            10000,
            10000,
            10000,
            10000,
            10000,
            10000,
            10000,
            20000,
            20000,
            20000,
            20000,
            20000,
            20000,
            20000,
            20000,
            20000,
            20000,
            20000,
            20000,
            20000,
            20000,
            20000,
            20000,
            20000,
            20000,
            20000,
            20000,
            20000,
            20000,
            20000,
            20000,
            30000,
            30000,
            30000,
            30000,
            30000,
            30000,
            30000,
            30000,
            30000,
            30000,
            30000,
            30000,
            40000,
            40000,
            40000,
            40000,
            10000,
            10000,
            10000,
            10000,
            10000,
            10000,
            20000,
            20000,
            20000,
            30000,
            40000,
            40000,
            40000,
            40000,
            40000,
            40000,
            40000,
            40000,
            40000,
            40000,
            50000,
            50000,
            50000,
            50000,
            50000,
            50000,
            50000,
            50000,
            50000,
            60000,
            60000,
            60000,
            60000,
            60000,
            40000,
            50000,
            50000,
            50000,
            20000,
            20000,
            20000,
            20000,
            20000,
            30000,
            60000,
            30000,
            30000,
            30000,
            30000,
            30000,
            30000,
            30000,
            30000,
            40000,
            40000,
            40000,
            40000,
            40000,
            40000,
            40000,
            40000,
            80000,
            80000,
            30000,
            30000,
            30000,
            30000,
            30000,
            30000,
            30000,
            30000,
            30000,
            30000,
            30000,
            40000,
            40000,
            40000,
            40000,
            40000,
            40000,
            40000,
            40000,
            40000,
            40000,
            40000,
            40000,
            40000,
            40000,
            40000,
            50000,
            50000,
            50000,
            50000,
            50000,
            50000,
            50000,
            50000,
            50000,
            50000,
            60000,
            60000,
            60000,
            60000,
            60000,
            70000,
            70000,
            80000,
            80000,
            40000,
            40000,
            40000,
            50000,
            60000,
            60000,
            60000,
            60000,
            60000
           ]
          },
          {
           "label": "Happiness Score",
           "values": [
            4,
            4,
            4,
            4,
            4,
            5,
            5,
            5,
            5,
            5,
            5,
            5,
            3,
            3,
            3,
            3,
            3,
            3,
            4,
            4,
            4,
            4,
            4,
            4,
            4,
            4,
            4,
            4,
            4,
            4,
            4,
            4,
            4,
            4,
            4,
            4,
            4,
            4,
            4,
            4,
            4,
            4,
            4,
            4,
            4,
            4,
            5,
            5,
            5,
            5,
            5,
            5,
            5,
            5,
            5,
            5,
            3,
            3,
            3,
            3,
            3,
            3,
            3,
            3,
            3,
            3,
            3,
            4,
            4,
            4,
            4,
            4,
            4,
            4,
            4,
            4,
            4,
            4,
            4,
            4,
            4,
            4,
            4,
            4,
            4,
            4,
            4,
            4,
            4,
            4,
            4,
            4,
            4,
            4,
            4,
            4,
            4,
            4,
            4,
            4,
            4,
            4,
            4,
            5,
            5,
            5,
            5,
            5,
            5,
            5,
            5,
            5,
            5,
            5,
            5,
            5,
            5,
            5,
            5,
            5,
            5,
            5,
            5,
            5,
            5,
            6,
            6,
            6,
            6,
            3,
            3,
            4,
            4,
            4,
            4,
            4,
            4,
            4,
            4,
            4,
            4,
            4,
            4,
            4,
            4,
            4,
            4,
            4,
            4,
            4,
            4,
            4,
            4,
            4,
            4,
            4,
            5,
            5,
            5,
            5,
            5,
            5,
            5,
            5,
            5,
            5,
            5,
            5,
            5,
            5,
            5,
            5,
            5,
            5,
            5,
            5,
            5,
            5,
            5,
            5,
            5,
            5,
            5,
            5,
            5,
            5,
            5,
            5,
            5,
            5,
            5,
            5,
            5,
            5,
            5,
            5,
            5,
            5,
            5,
            5,
            5,
            5,
            5,
            5,
            5,
            5,
            5,
            5,
            5,
            5,
            5,
            5,
            5,
            5,
            5,
            5,
            5,
            5,
            5,
            6,
            6,
            6,
            6,
            6,
            6,
            6,
            6,
            6,
            6,
            6,
            6,
            6,
            6,
            6,
            6,
            6,
            6,
            6,
            6,
            6,
            6,
            6,
            6,
            6,
            6,
            6,
            6,
            6,
            6,
            6,
            6,
            6,
            6,
            6,
            6,
            6,
            6,
            6,
            6,
            6,
            6,
            6,
            6,
            6,
            6,
            6,
            6,
            6,
            6,
            6,
            6,
            6,
            6,
            6,
            6,
            6,
            6,
            6,
            6,
            6,
            6,
            6,
            6,
            6,
            6,
            6,
            6,
            6,
            7,
            7,
            7,
            7,
            7,
            7,
            4,
            4,
            4,
            4,
            4,
            5,
            5,
            5,
            5,
            5,
            5,
            5,
            5,
            5,
            5,
            5,
            5,
            5,
            5,
            5,
            5,
            5,
            5,
            5,
            5,
            5,
            5,
            5,
            5,
            5,
            5,
            5,
            5,
            5,
            5,
            5,
            5,
            5,
            5,
            5,
            5,
            5,
            5,
            5,
            5,
            5,
            5,
            5,
            5,
            5,
            5,
            5,
            5,
            6,
            6,
            6,
            6,
            6,
            6,
            6,
            6,
            6,
            6,
            6,
            6,
            6,
            6,
            6,
            6,
            6,
            6,
            6,
            6,
            6,
            6,
            6,
            6,
            6,
            6,
            6,
            6,
            6,
            6,
            6,
            6,
            6,
            6,
            6,
            6,
            6,
            6,
            6,
            6,
            6,
            6,
            6,
            6,
            6,
            6,
            6,
            6,
            6,
            6,
            6,
            6,
            6,
            6,
            6,
            6,
            6,
            6,
            6,
            6,
            6,
            6,
            6,
            6,
            7,
            7,
            7,
            7,
            7,
            7,
            7,
            7,
            7,
            7,
            7,
            7,
            7,
            7,
            7,
            7,
            7,
            7,
            7,
            7,
            7,
            7,
            7,
            7,
            7,
            7,
            7,
            7,
            7,
            7,
            7,
            7,
            7,
            7,
            8,
            8,
            8,
            8,
            5,
            5,
            5,
            5,
            5,
            5,
            5,
            6,
            6,
            6,
            6,
            6,
            6,
            6,
            6,
            6,
            6,
            6,
            6,
            6,
            6,
            6,
            6,
            6,
            6,
            7,
            7,
            7,
            7,
            7,
            7,
            7,
            7,
            7,
            7,
            7,
            7,
            7,
            7,
            7,
            7,
            7,
            7,
            7,
            7,
            7,
            7,
            7,
            7,
            7,
            7,
            7,
            7,
            7,
            7,
            7,
            7,
            7,
            7,
            7,
            7,
            7,
            7,
            7,
            7,
            7,
            7,
            7,
            7,
            7,
            8,
            8,
            8,
            8,
            8,
            8,
            8,
            8,
            8
           ]
          },
          {
           "label": "Life Expectancy Index",
           "values": [
            0.5,
            0.5,
            0.5,
            0.5,
            0.5,
            0.5,
            0.5,
            0.5,
            0.5,
            0.5,
            0.5,
            0.5,
            0.6,
            0.6,
            0.6,
            0.6,
            0.6,
            0.6,
            0.6,
            0.6,
            0.6,
            0.6,
            0.6,
            0.6,
            0.6,
            0.6,
            0.6,
            0.6,
            0.6,
            0.6,
            0.6,
            0.6,
            0.6,
            0.6,
            0.6,
            0.6,
            0.6,
            0.6,
            0.6,
            0.6,
            0.6,
            0.6,
            0.6,
            0.6,
            0.6,
            0.6,
            0.6,
            0.6,
            0.6,
            0.6,
            0.6,
            0.6,
            0.6,
            0.6,
            0.6,
            0.6,
            0.7,
            0.7,
            0.7,
            0.7,
            0.7,
            0.7,
            0.7,
            0.7,
            0.7,
            0.7,
            0.7,
            0.7,
            0.7,
            0.7,
            0.7,
            0.7,
            0.7,
            0.7,
            0.7,
            0.7,
            0.7,
            0.7,
            0.7,
            0.7,
            0.7,
            0.7,
            0.7,
            0.7,
            0.7,
            0.7,
            0.7,
            0.7,
            0.7,
            0.7,
            0.7,
            0.7,
            0.7,
            0.7,
            0.7,
            0.7,
            0.7,
            0.7,
            0.7,
            0.7,
            0.7,
            0.7,
            0.7,
            0.7,
            0.7,
            0.7,
            0.7,
            0.7,
            0.7,
            0.7,
            0.7,
            0.7,
            0.7,
            0.7,
            0.7,
            0.7,
            0.7,
            0.7,
            0.7,
            0.7,
            0.7,
            0.7,
            0.7,
            0.7,
            0.7,
            0.7,
            0.7,
            0.7,
            0.7,
            0.8,
            0.8,
            0.8,
            0.8,
            0.8,
            0.8,
            0.8,
            0.8,
            0.8,
            0.8,
            0.8,
            0.8,
            0.8,
            0.8,
            0.8,
            0.8,
            0.8,
            0.8,
            0.8,
            0.8,
            0.8,
            0.8,
            0.8,
            0.8,
            0.8,
            0.8,
            0.8,
            0.8,
            0.8,
            0.8,
            0.8,
            0.8,
            0.8,
            0.8,
            0.8,
            0.8,
            0.8,
            0.8,
            0.8,
            0.8,
            0.8,
            0.8,
            0.8,
            0.8,
            0.8,
            0.8,
            0.8,
            0.8,
            0.8,
            0.8,
            0.8,
            0.8,
            0.8,
            0.8,
            0.8,
            0.8,
            0.8,
            0.8,
            0.8,
            0.8,
            0.8,
            0.8,
            0.8,
            0.8,
            0.8,
            0.8,
            0.8,
            0.8,
            0.8,
            0.8,
            0.8,
            0.8,
            0.8,
            0.8,
            0.8,
            0.8,
            0.8,
            0.8,
            0.8,
            0.8,
            0.8,
            0.8,
            0.8,
            0.8,
            0.8,
            0.8,
            0.8,
            0.8,
            0.8,
            0.8,
            0.8,
            0.8,
            0.8,
            0.8,
            0.8,
            0.8,
            0.8,
            0.8,
            0.8,
            0.8,
            0.8,
            0.8,
            0.8,
            0.8,
            0.8,
            0.8,
            0.8,
            0.8,
            0.8,
            0.8,
            0.8,
            0.8,
            0.8,
            0.8,
            0.8,
            0.8,
            0.8,
            0.8,
            0.8,
            0.8,
            0.8,
            0.8,
            0.8,
            0.8,
            0.8,
            0.8,
            0.8,
            0.8,
            0.8,
            0.8,
            0.8,
            0.8,
            0.8,
            0.8,
            0.8,
            0.8,
            0.8,
            0.8,
            0.8,
            0.8,
            0.8,
            0.8,
            0.8,
            0.8,
            0.8,
            0.8,
            0.8,
            0.8,
            0.8,
            0.8,
            0.8,
            0.8,
            0.8,
            0.8,
            0.8,
            0.8,
            0.8,
            0.8,
            0.8,
            0.8,
            0.8,
            0.8,
            0.8,
            0.8,
            0.8,
            0.9,
            0.9,
            0.9,
            0.9,
            0.9,
            0.9,
            0.9,
            0.9,
            0.9,
            0.9,
            0.9,
            0.9,
            0.9,
            0.9,
            0.9,
            0.9,
            0.9,
            0.9,
            0.9,
            0.9,
            0.9,
            0.9,
            0.9,
            0.9,
            0.9,
            0.9,
            0.9,
            0.9,
            0.9,
            0.9,
            0.9,
            0.9,
            0.9,
            0.9,
            0.9,
            0.9,
            0.9,
            0.9,
            0.9,
            0.9,
            0.9,
            0.9,
            0.9,
            0.9,
            0.9,
            0.9,
            0.9,
            0.9,
            0.9,
            0.9,
            0.9,
            0.9,
            0.9,
            0.9,
            0.9,
            0.9,
            0.9,
            0.9,
            0.9,
            0.9,
            0.9,
            0.9,
            0.9,
            0.9,
            0.9,
            0.9,
            0.9,
            0.9,
            0.9,
            0.9,
            0.9,
            0.9,
            0.9,
            0.9,
            0.9,
            0.9,
            0.9,
            0.9,
            0.9,
            0.9,
            0.9,
            0.9,
            0.9,
            0.9,
            0.9,
            0.9,
            0.9,
            0.9,
            0.9,
            0.9,
            0.9,
            0.9,
            0.9,
            0.9,
            0.9,
            0.9,
            0.9,
            0.9,
            0.9,
            0.9,
            0.9,
            0.9,
            0.9,
            0.9,
            0.9,
            0.9,
            0.9,
            0.9,
            0.9,
            0.9,
            0.9,
            0.9,
            0.9,
            0.9,
            0.9,
            0.9,
            0.9,
            0.9,
            0.9,
            0.9,
            0.9,
            0.9,
            0.9,
            0.9,
            0.9,
            0.9,
            0.9,
            0.9,
            0.9,
            0.9,
            0.9,
            0.9,
            0.9,
            0.9,
            0.9,
            0.9,
            0.9,
            0.9,
            0.9,
            0.9,
            0.9,
            0.9,
            0.9,
            0.9,
            0.9,
            0.9,
            0.9,
            0.9,
            0.9,
            0.9,
            0.9,
            0.9,
            0.9,
            0.9,
            0.9,
            1,
            1,
            1,
            1,
            1,
            1,
            1,
            1,
            1,
            1,
            1,
            1,
            1,
            1,
            1,
            1,
            1,
            1,
            1,
            1,
            1,
            1,
            1,
            1,
            1,
            1,
            1,
            1,
            1,
            1,
            1,
            1,
            1,
            1,
            1,
            1,
            1,
            1,
            1,
            1,
            1,
            1,
            1,
            1,
            1,
            1,
            1,
            1,
            1,
            1,
            1,
            1,
            1,
            1,
            1,
            1,
            1,
            1,
            1,
            1,
            1,
            1,
            1,
            1,
            1,
            1,
            1,
            1,
            1,
            1,
            1,
            1,
            1,
            1,
            1,
            1,
            1,
            1,
            1
           ]
          }
         ],
         "domain": {
          "x": [
           0,
           1
          ],
          "y": [
           0,
           1
          ]
         },
         "line": {
          "color": [
           4,
           4,
           4,
           4,
           4,
           5,
           5,
           5,
           5,
           5,
           5,
           5,
           3,
           3,
           3,
           3,
           3,
           3,
           4,
           4,
           4,
           4,
           4,
           4,
           4,
           4,
           4,
           4,
           4,
           4,
           4,
           4,
           4,
           4,
           4,
           4,
           4,
           4,
           4,
           4,
           4,
           4,
           4,
           4,
           4,
           4,
           5,
           5,
           5,
           5,
           5,
           5,
           5,
           5,
           5,
           5,
           3,
           3,
           3,
           3,
           3,
           3,
           3,
           3,
           3,
           3,
           3,
           4,
           4,
           4,
           4,
           4,
           4,
           4,
           4,
           4,
           4,
           4,
           4,
           4,
           4,
           4,
           4,
           4,
           4,
           4,
           4,
           4,
           4,
           4,
           4,
           4,
           4,
           4,
           4,
           4,
           4,
           4,
           4,
           4,
           4,
           4,
           4,
           5,
           5,
           5,
           5,
           5,
           5,
           5,
           5,
           5,
           5,
           5,
           5,
           5,
           5,
           5,
           5,
           5,
           5,
           5,
           5,
           5,
           5,
           6,
           6,
           6,
           6,
           3,
           3,
           4,
           4,
           4,
           4,
           4,
           4,
           4,
           4,
           4,
           4,
           4,
           4,
           4,
           4,
           4,
           4,
           4,
           4,
           4,
           4,
           4,
           4,
           4,
           4,
           4,
           5,
           5,
           5,
           5,
           5,
           5,
           5,
           5,
           5,
           5,
           5,
           5,
           5,
           5,
           5,
           5,
           5,
           5,
           5,
           5,
           5,
           5,
           5,
           5,
           5,
           5,
           5,
           5,
           5,
           5,
           5,
           5,
           5,
           5,
           5,
           5,
           5,
           5,
           5,
           5,
           5,
           5,
           5,
           5,
           5,
           5,
           5,
           5,
           5,
           5,
           5,
           5,
           5,
           5,
           5,
           5,
           5,
           5,
           5,
           5,
           5,
           5,
           5,
           6,
           6,
           6,
           6,
           6,
           6,
           6,
           6,
           6,
           6,
           6,
           6,
           6,
           6,
           6,
           6,
           6,
           6,
           6,
           6,
           6,
           6,
           6,
           6,
           6,
           6,
           6,
           6,
           6,
           6,
           6,
           6,
           6,
           6,
           6,
           6,
           6,
           6,
           6,
           6,
           6,
           6,
           6,
           6,
           6,
           6,
           6,
           6,
           6,
           6,
           6,
           6,
           6,
           6,
           6,
           6,
           6,
           6,
           6,
           6,
           6,
           6,
           6,
           6,
           6,
           6,
           6,
           6,
           6,
           7,
           7,
           7,
           7,
           7,
           7,
           4,
           4,
           4,
           4,
           4,
           5,
           5,
           5,
           5,
           5,
           5,
           5,
           5,
           5,
           5,
           5,
           5,
           5,
           5,
           5,
           5,
           5,
           5,
           5,
           5,
           5,
           5,
           5,
           5,
           5,
           5,
           5,
           5,
           5,
           5,
           5,
           5,
           5,
           5,
           5,
           5,
           5,
           5,
           5,
           5,
           5,
           5,
           5,
           5,
           5,
           5,
           5,
           5,
           6,
           6,
           6,
           6,
           6,
           6,
           6,
           6,
           6,
           6,
           6,
           6,
           6,
           6,
           6,
           6,
           6,
           6,
           6,
           6,
           6,
           6,
           6,
           6,
           6,
           6,
           6,
           6,
           6,
           6,
           6,
           6,
           6,
           6,
           6,
           6,
           6,
           6,
           6,
           6,
           6,
           6,
           6,
           6,
           6,
           6,
           6,
           6,
           6,
           6,
           6,
           6,
           6,
           6,
           6,
           6,
           6,
           6,
           6,
           6,
           6,
           6,
           6,
           6,
           7,
           7,
           7,
           7,
           7,
           7,
           7,
           7,
           7,
           7,
           7,
           7,
           7,
           7,
           7,
           7,
           7,
           7,
           7,
           7,
           7,
           7,
           7,
           7,
           7,
           7,
           7,
           7,
           7,
           7,
           7,
           7,
           7,
           7,
           8,
           8,
           8,
           8,
           5,
           5,
           5,
           5,
           5,
           5,
           5,
           6,
           6,
           6,
           6,
           6,
           6,
           6,
           6,
           6,
           6,
           6,
           6,
           6,
           6,
           6,
           6,
           6,
           6,
           7,
           7,
           7,
           7,
           7,
           7,
           7,
           7,
           7,
           7,
           7,
           7,
           7,
           7,
           7,
           7,
           7,
           7,
           7,
           7,
           7,
           7,
           7,
           7,
           7,
           7,
           7,
           7,
           7,
           7,
           7,
           7,
           7,
           7,
           7,
           7,
           7,
           7,
           7,
           7,
           7,
           7,
           7,
           7,
           7,
           8,
           8,
           8,
           8,
           8,
           8,
           8,
           8,
           8
          ],
          "coloraxis": "coloraxis"
         },
         "name": "",
         "type": "parcats"
        }
       ],
       "layout": {
        "coloraxis": {
         "colorbar": {
          "title": {
           "text": "Happiness Score"
          }
         },
         "colorscale": [
          [
           0,
           "#440154"
          ],
          [
           0.1111111111111111,
           "#482878"
          ],
          [
           0.2222222222222222,
           "#3e4989"
          ],
          [
           0.3333333333333333,
           "#31688e"
          ],
          [
           0.4444444444444444,
           "#26828e"
          ],
          [
           0.5555555555555556,
           "#1f9e89"
          ],
          [
           0.6666666666666666,
           "#35b779"
          ],
          [
           0.7777777777777778,
           "#6ece58"
          ],
          [
           0.8888888888888888,
           "#b5de2b"
          ],
          [
           1,
           "#fde725"
          ]
         ]
        },
        "legend": {
         "tracegroupgap": 0
        },
        "template": {
         "data": {
          "bar": [
           {
            "error_x": {
             "color": "#2a3f5f"
            },
            "error_y": {
             "color": "#2a3f5f"
            },
            "marker": {
             "line": {
              "color": "#E5ECF6",
              "width": 0.5
             },
             "pattern": {
              "fillmode": "overlay",
              "size": 10,
              "solidity": 0.2
             }
            },
            "type": "bar"
           }
          ],
          "barpolar": [
           {
            "marker": {
             "line": {
              "color": "#E5ECF6",
              "width": 0.5
             },
             "pattern": {
              "fillmode": "overlay",
              "size": 10,
              "solidity": 0.2
             }
            },
            "type": "barpolar"
           }
          ],
          "carpet": [
           {
            "aaxis": {
             "endlinecolor": "#2a3f5f",
             "gridcolor": "white",
             "linecolor": "white",
             "minorgridcolor": "white",
             "startlinecolor": "#2a3f5f"
            },
            "baxis": {
             "endlinecolor": "#2a3f5f",
             "gridcolor": "white",
             "linecolor": "white",
             "minorgridcolor": "white",
             "startlinecolor": "#2a3f5f"
            },
            "type": "carpet"
           }
          ],
          "choropleth": [
           {
            "colorbar": {
             "outlinewidth": 0,
             "ticks": ""
            },
            "type": "choropleth"
           }
          ],
          "contour": [
           {
            "colorbar": {
             "outlinewidth": 0,
             "ticks": ""
            },
            "colorscale": [
             [
              0,
              "#0d0887"
             ],
             [
              0.1111111111111111,
              "#46039f"
             ],
             [
              0.2222222222222222,
              "#7201a8"
             ],
             [
              0.3333333333333333,
              "#9c179e"
             ],
             [
              0.4444444444444444,
              "#bd3786"
             ],
             [
              0.5555555555555556,
              "#d8576b"
             ],
             [
              0.6666666666666666,
              "#ed7953"
             ],
             [
              0.7777777777777778,
              "#fb9f3a"
             ],
             [
              0.8888888888888888,
              "#fdca26"
             ],
             [
              1,
              "#f0f921"
             ]
            ],
            "type": "contour"
           }
          ],
          "contourcarpet": [
           {
            "colorbar": {
             "outlinewidth": 0,
             "ticks": ""
            },
            "type": "contourcarpet"
           }
          ],
          "heatmap": [
           {
            "colorbar": {
             "outlinewidth": 0,
             "ticks": ""
            },
            "colorscale": [
             [
              0,
              "#0d0887"
             ],
             [
              0.1111111111111111,
              "#46039f"
             ],
             [
              0.2222222222222222,
              "#7201a8"
             ],
             [
              0.3333333333333333,
              "#9c179e"
             ],
             [
              0.4444444444444444,
              "#bd3786"
             ],
             [
              0.5555555555555556,
              "#d8576b"
             ],
             [
              0.6666666666666666,
              "#ed7953"
             ],
             [
              0.7777777777777778,
              "#fb9f3a"
             ],
             [
              0.8888888888888888,
              "#fdca26"
             ],
             [
              1,
              "#f0f921"
             ]
            ],
            "type": "heatmap"
           }
          ],
          "heatmapgl": [
           {
            "colorbar": {
             "outlinewidth": 0,
             "ticks": ""
            },
            "colorscale": [
             [
              0,
              "#0d0887"
             ],
             [
              0.1111111111111111,
              "#46039f"
             ],
             [
              0.2222222222222222,
              "#7201a8"
             ],
             [
              0.3333333333333333,
              "#9c179e"
             ],
             [
              0.4444444444444444,
              "#bd3786"
             ],
             [
              0.5555555555555556,
              "#d8576b"
             ],
             [
              0.6666666666666666,
              "#ed7953"
             ],
             [
              0.7777777777777778,
              "#fb9f3a"
             ],
             [
              0.8888888888888888,
              "#fdca26"
             ],
             [
              1,
              "#f0f921"
             ]
            ],
            "type": "heatmapgl"
           }
          ],
          "histogram": [
           {
            "marker": {
             "pattern": {
              "fillmode": "overlay",
              "size": 10,
              "solidity": 0.2
             }
            },
            "type": "histogram"
           }
          ],
          "histogram2d": [
           {
            "colorbar": {
             "outlinewidth": 0,
             "ticks": ""
            },
            "colorscale": [
             [
              0,
              "#0d0887"
             ],
             [
              0.1111111111111111,
              "#46039f"
             ],
             [
              0.2222222222222222,
              "#7201a8"
             ],
             [
              0.3333333333333333,
              "#9c179e"
             ],
             [
              0.4444444444444444,
              "#bd3786"
             ],
             [
              0.5555555555555556,
              "#d8576b"
             ],
             [
              0.6666666666666666,
              "#ed7953"
             ],
             [
              0.7777777777777778,
              "#fb9f3a"
             ],
             [
              0.8888888888888888,
              "#fdca26"
             ],
             [
              1,
              "#f0f921"
             ]
            ],
            "type": "histogram2d"
           }
          ],
          "histogram2dcontour": [
           {
            "colorbar": {
             "outlinewidth": 0,
             "ticks": ""
            },
            "colorscale": [
             [
              0,
              "#0d0887"
             ],
             [
              0.1111111111111111,
              "#46039f"
             ],
             [
              0.2222222222222222,
              "#7201a8"
             ],
             [
              0.3333333333333333,
              "#9c179e"
             ],
             [
              0.4444444444444444,
              "#bd3786"
             ],
             [
              0.5555555555555556,
              "#d8576b"
             ],
             [
              0.6666666666666666,
              "#ed7953"
             ],
             [
              0.7777777777777778,
              "#fb9f3a"
             ],
             [
              0.8888888888888888,
              "#fdca26"
             ],
             [
              1,
              "#f0f921"
             ]
            ],
            "type": "histogram2dcontour"
           }
          ],
          "mesh3d": [
           {
            "colorbar": {
             "outlinewidth": 0,
             "ticks": ""
            },
            "type": "mesh3d"
           }
          ],
          "parcoords": [
           {
            "line": {
             "colorbar": {
              "outlinewidth": 0,
              "ticks": ""
             }
            },
            "type": "parcoords"
           }
          ],
          "pie": [
           {
            "automargin": true,
            "type": "pie"
           }
          ],
          "scatter": [
           {
            "fillpattern": {
             "fillmode": "overlay",
             "size": 10,
             "solidity": 0.2
            },
            "type": "scatter"
           }
          ],
          "scatter3d": [
           {
            "line": {
             "colorbar": {
              "outlinewidth": 0,
              "ticks": ""
             }
            },
            "marker": {
             "colorbar": {
              "outlinewidth": 0,
              "ticks": ""
             }
            },
            "type": "scatter3d"
           }
          ],
          "scattercarpet": [
           {
            "marker": {
             "colorbar": {
              "outlinewidth": 0,
              "ticks": ""
             }
            },
            "type": "scattercarpet"
           }
          ],
          "scattergeo": [
           {
            "marker": {
             "colorbar": {
              "outlinewidth": 0,
              "ticks": ""
             }
            },
            "type": "scattergeo"
           }
          ],
          "scattergl": [
           {
            "marker": {
             "colorbar": {
              "outlinewidth": 0,
              "ticks": ""
             }
            },
            "type": "scattergl"
           }
          ],
          "scattermapbox": [
           {
            "marker": {
             "colorbar": {
              "outlinewidth": 0,
              "ticks": ""
             }
            },
            "type": "scattermapbox"
           }
          ],
          "scatterpolar": [
           {
            "marker": {
             "colorbar": {
              "outlinewidth": 0,
              "ticks": ""
             }
            },
            "type": "scatterpolar"
           }
          ],
          "scatterpolargl": [
           {
            "marker": {
             "colorbar": {
              "outlinewidth": 0,
              "ticks": ""
             }
            },
            "type": "scatterpolargl"
           }
          ],
          "scatterternary": [
           {
            "marker": {
             "colorbar": {
              "outlinewidth": 0,
              "ticks": ""
             }
            },
            "type": "scatterternary"
           }
          ],
          "surface": [
           {
            "colorbar": {
             "outlinewidth": 0,
             "ticks": ""
            },
            "colorscale": [
             [
              0,
              "#0d0887"
             ],
             [
              0.1111111111111111,
              "#46039f"
             ],
             [
              0.2222222222222222,
              "#7201a8"
             ],
             [
              0.3333333333333333,
              "#9c179e"
             ],
             [
              0.4444444444444444,
              "#bd3786"
             ],
             [
              0.5555555555555556,
              "#d8576b"
             ],
             [
              0.6666666666666666,
              "#ed7953"
             ],
             [
              0.7777777777777778,
              "#fb9f3a"
             ],
             [
              0.8888888888888888,
              "#fdca26"
             ],
             [
              1,
              "#f0f921"
             ]
            ],
            "type": "surface"
           }
          ],
          "table": [
           {
            "cells": {
             "fill": {
              "color": "#EBF0F8"
             },
             "line": {
              "color": "white"
             }
            },
            "header": {
             "fill": {
              "color": "#C8D4E3"
             },
             "line": {
              "color": "white"
             }
            },
            "type": "table"
           }
          ]
         },
         "layout": {
          "annotationdefaults": {
           "arrowcolor": "#2a3f5f",
           "arrowhead": 0,
           "arrowwidth": 1
          },
          "autotypenumbers": "strict",
          "coloraxis": {
           "colorbar": {
            "outlinewidth": 0,
            "ticks": ""
           }
          },
          "colorscale": {
           "diverging": [
            [
             0,
             "#8e0152"
            ],
            [
             0.1,
             "#c51b7d"
            ],
            [
             0.2,
             "#de77ae"
            ],
            [
             0.3,
             "#f1b6da"
            ],
            [
             0.4,
             "#fde0ef"
            ],
            [
             0.5,
             "#f7f7f7"
            ],
            [
             0.6,
             "#e6f5d0"
            ],
            [
             0.7,
             "#b8e186"
            ],
            [
             0.8,
             "#7fbc41"
            ],
            [
             0.9,
             "#4d9221"
            ],
            [
             1,
             "#276419"
            ]
           ],
           "sequential": [
            [
             0,
             "#0d0887"
            ],
            [
             0.1111111111111111,
             "#46039f"
            ],
            [
             0.2222222222222222,
             "#7201a8"
            ],
            [
             0.3333333333333333,
             "#9c179e"
            ],
            [
             0.4444444444444444,
             "#bd3786"
            ],
            [
             0.5555555555555556,
             "#d8576b"
            ],
            [
             0.6666666666666666,
             "#ed7953"
            ],
            [
             0.7777777777777778,
             "#fb9f3a"
            ],
            [
             0.8888888888888888,
             "#fdca26"
            ],
            [
             1,
             "#f0f921"
            ]
           ],
           "sequentialminus": [
            [
             0,
             "#0d0887"
            ],
            [
             0.1111111111111111,
             "#46039f"
            ],
            [
             0.2222222222222222,
             "#7201a8"
            ],
            [
             0.3333333333333333,
             "#9c179e"
            ],
            [
             0.4444444444444444,
             "#bd3786"
            ],
            [
             0.5555555555555556,
             "#d8576b"
            ],
            [
             0.6666666666666666,
             "#ed7953"
            ],
            [
             0.7777777777777778,
             "#fb9f3a"
            ],
            [
             0.8888888888888888,
             "#fdca26"
            ],
            [
             1,
             "#f0f921"
            ]
           ]
          },
          "colorway": [
           "#636efa",
           "#EF553B",
           "#00cc96",
           "#ab63fa",
           "#FFA15A",
           "#19d3f3",
           "#FF6692",
           "#B6E880",
           "#FF97FF",
           "#FECB52"
          ],
          "font": {
           "color": "#2a3f5f"
          },
          "geo": {
           "bgcolor": "white",
           "lakecolor": "white",
           "landcolor": "#E5ECF6",
           "showlakes": true,
           "showland": true,
           "subunitcolor": "white"
          },
          "hoverlabel": {
           "align": "left"
          },
          "hovermode": "closest",
          "mapbox": {
           "style": "light"
          },
          "paper_bgcolor": "white",
          "plot_bgcolor": "#E5ECF6",
          "polar": {
           "angularaxis": {
            "gridcolor": "white",
            "linecolor": "white",
            "ticks": ""
           },
           "bgcolor": "#E5ECF6",
           "radialaxis": {
            "gridcolor": "white",
            "linecolor": "white",
            "ticks": ""
           }
          },
          "scene": {
           "xaxis": {
            "backgroundcolor": "#E5ECF6",
            "gridcolor": "white",
            "gridwidth": 2,
            "linecolor": "white",
            "showbackground": true,
            "ticks": "",
            "zerolinecolor": "white"
           },
           "yaxis": {
            "backgroundcolor": "#E5ECF6",
            "gridcolor": "white",
            "gridwidth": 2,
            "linecolor": "white",
            "showbackground": true,
            "ticks": "",
            "zerolinecolor": "white"
           },
           "zaxis": {
            "backgroundcolor": "#E5ECF6",
            "gridcolor": "white",
            "gridwidth": 2,
            "linecolor": "white",
            "showbackground": true,
            "ticks": "",
            "zerolinecolor": "white"
           }
          },
          "shapedefaults": {
           "line": {
            "color": "#2a3f5f"
           }
          },
          "ternary": {
           "aaxis": {
            "gridcolor": "white",
            "linecolor": "white",
            "ticks": ""
           },
           "baxis": {
            "gridcolor": "white",
            "linecolor": "white",
            "ticks": ""
           },
           "bgcolor": "#E5ECF6",
           "caxis": {
            "gridcolor": "white",
            "linecolor": "white",
            "ticks": ""
           }
          },
          "title": {
           "x": 0.05
          },
          "xaxis": {
           "automargin": true,
           "gridcolor": "white",
           "linecolor": "white",
           "ticks": "",
           "title": {
            "standoff": 15
           },
           "zerolinecolor": "white",
           "zerolinewidth": 2
          },
          "yaxis": {
           "automargin": true,
           "gridcolor": "white",
           "linecolor": "white",
           "ticks": "",
           "title": {
            "standoff": 15
           },
           "zerolinecolor": "white",
           "zerolinewidth": 2
          }
         }
        },
        "title": {
         "text": "Fig ...: Parallel Categories Plot of Happiness Scores by Continent"
        }
       }
      }
     },
     "metadata": {},
     "output_type": "display_data"
    }
   ],
   "source": [
    "def get_happiness_scores_by_continent(filename):\n",
    "    import csv\n",
    "    import plotly.express as px\n",
    "\n",
    "    continent_scores = {}\n",
    "\n",
    "    with open(filename, 'r') as file:\n",
    "        reader = csv.DictReader(file)\n",
    "        for row in reader:\n",
    "            continent = row['continent']\n",
    "            year = int(row['Year'])\n",
    "            happiness_score = round(float(row['happiness_score']))\n",
    "            education_index = min(float(row['Education_Index']) * 10, 10)\n",
    "            education_index = round(education_index) / 10\n",
    "            gni_per_capita = float(row['GNI_per_capita_PPP']) if row['GNI_per_capita_PPP'] != '' else 0\n",
    "            gni_per_capita = int(gni_per_capita) // 10000 * 10000\n",
    "            life_expectancy_index = min(float(row['life_expectancy_index']) * 10, 10)\n",
    "            life_expectancy_index = round(life_expectancy_index) / 10\n",
    "\n",
    "            if continent not in continent_scores:\n",
    "                continent_scores[continent] = {'Year': [], 'Happiness Score': [], 'Education Index': [], 'GNI per capita': [], 'Life Expectancy Index': []}\n",
    "            continent_scores[continent]['Year'].append(year)\n",
    "            continent_scores[continent]['Education Index'].append(education_index)\n",
    "            continent_scores[continent]['Happiness Score'].append(happiness_score)\n",
    "            continent_scores[continent]['GNI per capita'].append(gni_per_capita)\n",
    "            continent_scores[continent]['Life Expectancy Index'].append(life_expectancy_index)\n",
    "\n",
    "    data = []\n",
    "    for continent, scores in continent_scores.items():\n",
    "        sorted_scores = sorted(zip(scores['Year'], scores['Education Index'], scores['GNI per capita'], scores['Happiness Score'], scores['Life Expectancy Index']), key=lambda x: (x[1], -x[2], -x[3]))\n",
    "        data.extend([\n",
    "            {'Continent': continent, 'Education Index': education_index, 'Year': year, 'GNI per capita': gni_per_capita, 'Happiness Score': score, 'Life Expectancy Index': life_expectancy_index}\n",
    "            for year, education_index, gni_per_capita, score, life_expectancy_index in sorted_scores\n",
    "        ])\n",
    "\n",
    "    \n",
    "    for category in ['Year', 'GNI per capita', 'Happiness Score', 'Life Expectancy Index']:\n",
    "        data = sorted(data, key=lambda x: x[category])\n",
    "\n",
    "    dimensions_order = ['Continent', 'Year', 'Education Index', 'GNI per capita', 'Happiness Score', 'Life Expectancy Index']\n",
    "    dimensions_labels = {'Happiness Score': 'Happiness Score'}\n",
    "\n",
    "    fig = px.parallel_categories(data, dimensions=dimensions_order, color='Happiness Score', color_continuous_scale='Viridis',\n",
    "                                 labels=dimensions_labels, title='Fig ...: Parallel Categories Plot of Happiness Scores by Continent')\n",
    "    fig.show()\n",
    "\n",
    "\n",
    "get_happiness_scores_by_continent('full_data.csv')"
   ]
  },
  {
   "cell_type": "markdown",
   "id": "1d32b28b",
   "metadata": {},
   "source": [
    "### multivariate analysis of happiness and HDI\n",
    "\n",
    "Here we analyse multiple variables of the HDI index and link them to happiness in a country, this parallel category graph can tell us more about how life expectancy and education can contribute to happiness in a certain country. The relation between Life Expectancy, Education and happiness is very clear, it is to be expected that people would be happier when they are healthier, this correlation is expected to be stronger than Education, which in turn is expected to correlate stronger with happiness than GNI. People can live in relatively economic poverty and adapt to their circumstances with hedonic adaptation, however when health is poor it will be much more noticeable. Disease contributes to lack of exercise, lack of proper nutrition, which in turn affects mental state through somatic effects on the brain."
   ]
  },
  {
   "cell_type": "code",
   "execution_count": 34,
   "id": "c7a68a6c",
   "metadata": {},
   "outputs": [],
   "source": [
    "df = pd.read_csv('full_data.csv')\n",
    "\n",
    "df_1 = pd.read_csv('full_data.csv')\n",
    "\n",
    "# selects the columns to get the mean\n",
    "columns_to_mean = ['Education_Index', 'government_trust', 'cpi_score', 'gdp_per_capita', 'freedom', 'happiness_score', 'health']\n",
    "\n",
    "df_mean = df_1.groupby('Country')[columns_to_mean].mean()\n",
    "\n",
    "# Reset the index to convert 'country' from the index to a regular column\n",
    "df_mean.reset_index(inplace=True)\n",
    "df_mean = df_mean.round(4)\n",
    "\n",
    "df_mean = pd.merge(df_mean, df_1[['Country', 'continent']], on='Country')\n",
    "\n",
    "# make new cvs file\n",
    "df_mean.to_csv('mean_data.csv', index=False)"
   ]
  },
  {
   "cell_type": "code",
   "execution_count": 35,
   "id": "d08b2e5d",
   "metadata": {},
   "outputs": [
    {
     "data": {
      "application/vnd.plotly.v1+json": {
       "config": {
        "plotlyServerURL": "https://plot.ly"
       },
       "data": [
        {
         "hovertemplate": "Country: %{text}<br>Happiness: %{y:.2f}<extra></extra>",
         "mode": "markers",
         "name": "GDP",
         "text": [
          "Afghanistan",
          "Afghanistan",
          "Afghanistan",
          "Afghanistan",
          "Albania",
          "Albania",
          "Albania",
          "Albania",
          "Algeria",
          "Algeria",
          "Algeria",
          "Algeria",
          "Argentina",
          "Argentina",
          "Argentina",
          "Argentina",
          "Armenia",
          "Armenia",
          "Armenia",
          "Armenia",
          "Australia",
          "Australia",
          "Australia",
          "Australia",
          "Austria",
          "Austria",
          "Austria",
          "Austria",
          "Azerbaijan",
          "Azerbaijan",
          "Azerbaijan",
          "Azerbaijan",
          "Bahrain",
          "Bahrain",
          "Bahrain",
          "Bahrain",
          "Bangladesh",
          "Bangladesh",
          "Bangladesh",
          "Bangladesh",
          "Belarus",
          "Belarus",
          "Belarus",
          "Belarus",
          "Belgium",
          "Belgium",
          "Belgium",
          "Belgium",
          "Benin",
          "Benin",
          "Benin",
          "Benin",
          "Bolivia",
          "Bolivia",
          "Bolivia",
          "Bolivia",
          "Bosnia and Herzegovina",
          "Bosnia and Herzegovina",
          "Bosnia and Herzegovina",
          "Bosnia and Herzegovina",
          "Botswana",
          "Botswana",
          "Botswana",
          "Botswana",
          "Brazil",
          "Brazil",
          "Brazil",
          "Brazil",
          "Bulgaria",
          "Bulgaria",
          "Bulgaria",
          "Bulgaria",
          "Burkina Faso",
          "Burkina Faso",
          "Burkina Faso",
          "Burkina Faso",
          "Burundi",
          "Burundi",
          "Burundi",
          "Burundi",
          "Cambodia",
          "Cambodia",
          "Cambodia",
          "Cambodia",
          "Cameroon",
          "Cameroon",
          "Cameroon",
          "Cameroon",
          "Canada",
          "Canada",
          "Canada",
          "Canada",
          "Chad",
          "Chad",
          "Chad",
          "Chad",
          "Chile",
          "Chile",
          "Chile",
          "Chile",
          "China",
          "China",
          "China",
          "China",
          "China",
          "China",
          "China",
          "China",
          "Colombia",
          "Colombia",
          "Colombia",
          "Colombia",
          "Costa Rica",
          "Costa Rica",
          "Costa Rica",
          "Costa Rica",
          "Croatia",
          "Croatia",
          "Croatia",
          "Croatia",
          "Cyprus",
          "Cyprus",
          "Cyprus",
          "Cyprus",
          "Denmark",
          "Denmark",
          "Denmark",
          "Denmark",
          "Dominican Republic",
          "Dominican Republic",
          "Dominican Republic",
          "Dominican Republic",
          "Ecuador",
          "Ecuador",
          "Ecuador",
          "Ecuador",
          "Egypt",
          "Egypt",
          "Egypt",
          "Egypt",
          "El Salvador",
          "El Salvador",
          "El Salvador",
          "El Salvador",
          "Estonia",
          "Estonia",
          "Estonia",
          "Estonia",
          "Ethiopia",
          "Ethiopia",
          "Ethiopia",
          "Ethiopia",
          "Finland",
          "Finland",
          "Finland",
          "Finland",
          "France",
          "France",
          "France",
          "France",
          "Gabon",
          "Gabon",
          "Gabon",
          "Gabon",
          "Georgia",
          "Georgia",
          "Georgia",
          "Georgia",
          "Germany",
          "Germany",
          "Germany",
          "Germany",
          "Ghana",
          "Ghana",
          "Ghana",
          "Ghana",
          "Greece",
          "Greece",
          "Greece",
          "Greece",
          "Guatemala",
          "Guatemala",
          "Guatemala",
          "Guatemala",
          "Guinea",
          "Guinea",
          "Guinea",
          "Guinea",
          "Haiti",
          "Haiti",
          "Haiti",
          "Haiti",
          "Honduras",
          "Honduras",
          "Honduras",
          "Honduras",
          "Hungary",
          "Hungary",
          "Hungary",
          "Hungary",
          "Iceland",
          "Iceland",
          "Iceland",
          "Iceland",
          "India",
          "India",
          "India",
          "India",
          "Indonesia",
          "Indonesia",
          "Indonesia",
          "Indonesia",
          "Iran",
          "Iran",
          "Iran",
          "Iran",
          "Iraq",
          "Iraq",
          "Iraq",
          "Iraq",
          "Ireland",
          "Ireland",
          "Ireland",
          "Ireland",
          "Israel",
          "Israel",
          "Israel",
          "Israel",
          "Italy",
          "Italy",
          "Italy",
          "Italy",
          "Jamaica",
          "Jamaica",
          "Jamaica",
          "Jamaica",
          "Japan",
          "Japan",
          "Japan",
          "Japan",
          "Jordan",
          "Jordan",
          "Jordan",
          "Jordan",
          "Kazakhstan",
          "Kazakhstan",
          "Kazakhstan",
          "Kazakhstan",
          "Kenya",
          "Kenya",
          "Kenya",
          "Kenya",
          "Kuwait",
          "Kuwait",
          "Kuwait",
          "Kuwait",
          "Kyrgyzstan",
          "Kyrgyzstan",
          "Kyrgyzstan",
          "Kyrgyzstan",
          "Latvia",
          "Latvia",
          "Latvia",
          "Latvia",
          "Lebanon",
          "Lebanon",
          "Lebanon",
          "Lebanon",
          "Liberia",
          "Liberia",
          "Liberia",
          "Liberia",
          "Libya",
          "Libya",
          "Libya",
          "Libya",
          "Lithuania",
          "Lithuania",
          "Lithuania",
          "Lithuania",
          "Luxembourg",
          "Luxembourg",
          "Luxembourg",
          "Luxembourg",
          "Madagascar",
          "Madagascar",
          "Madagascar",
          "Madagascar",
          "Malawi",
          "Malawi",
          "Malawi",
          "Malawi",
          "Malaysia",
          "Malaysia",
          "Malaysia",
          "Malaysia",
          "Mali",
          "Mali",
          "Mali",
          "Mali",
          "Malta",
          "Malta",
          "Malta",
          "Malta",
          "Mauritania",
          "Mauritania",
          "Mauritania",
          "Mauritania",
          "Mauritius",
          "Mauritius",
          "Mauritius",
          "Mauritius",
          "Mexico",
          "Mexico",
          "Mexico",
          "Mexico",
          "Moldova",
          "Moldova",
          "Moldova",
          "Moldova",
          "Mongolia",
          "Mongolia",
          "Mongolia",
          "Mongolia",
          "Montenegro",
          "Montenegro",
          "Montenegro",
          "Montenegro",
          "Morocco",
          "Morocco",
          "Morocco",
          "Morocco",
          "Myanmar",
          "Myanmar",
          "Myanmar",
          "Myanmar",
          "Nepal",
          "Nepal",
          "Nepal",
          "Nepal",
          "Netherlands",
          "Netherlands",
          "Netherlands",
          "Netherlands",
          "New Zealand",
          "New Zealand",
          "New Zealand",
          "New Zealand",
          "Nicaragua",
          "Nicaragua",
          "Nicaragua",
          "Nicaragua",
          "Niger",
          "Niger",
          "Niger",
          "Niger",
          "Nigeria",
          "Nigeria",
          "Nigeria",
          "Nigeria",
          "Norway",
          "Norway",
          "Norway",
          "Norway",
          "Pakistan",
          "Pakistan",
          "Pakistan",
          "Pakistan",
          "Panama",
          "Panama",
          "Panama",
          "Panama",
          "Paraguay",
          "Paraguay",
          "Paraguay",
          "Paraguay",
          "Peru",
          "Peru",
          "Peru",
          "Peru",
          "Philippines",
          "Philippines",
          "Philippines",
          "Philippines",
          "Poland",
          "Poland",
          "Poland",
          "Poland",
          "Portugal",
          "Portugal",
          "Portugal",
          "Portugal",
          "Romania",
          "Romania",
          "Romania",
          "Romania",
          "Russia",
          "Russia",
          "Russia",
          "Russia",
          "Rwanda",
          "Rwanda",
          "Rwanda",
          "Rwanda",
          "Saudi Arabia",
          "Saudi Arabia",
          "Saudi Arabia",
          "Saudi Arabia",
          "Senegal",
          "Senegal",
          "Senegal",
          "Senegal",
          "Serbia",
          "Serbia",
          "Serbia",
          "Serbia",
          "Sierra Leone",
          "Sierra Leone",
          "Sierra Leone",
          "Sierra Leone",
          "Singapore",
          "Singapore",
          "Singapore",
          "Singapore",
          "Slovakia",
          "Slovakia",
          "Slovakia",
          "Slovakia",
          "Slovenia",
          "Slovenia",
          "Slovenia",
          "Slovenia",
          "South Africa",
          "South Africa",
          "South Africa",
          "South Africa",
          "Spain",
          "Spain",
          "Spain",
          "Spain",
          "Sri Lanka",
          "Sri Lanka",
          "Sri Lanka",
          "Sri Lanka",
          "Sweden",
          "Sweden",
          "Sweden",
          "Sweden",
          "Switzerland",
          "Switzerland",
          "Switzerland",
          "Switzerland",
          "Tajikistan",
          "Tajikistan",
          "Tajikistan",
          "Tajikistan",
          "Tanzania",
          "Tanzania",
          "Tanzania",
          "Tanzania",
          "Thailand",
          "Thailand",
          "Thailand",
          "Thailand",
          "Togo",
          "Togo",
          "Togo",
          "Togo",
          "Tunisia",
          "Tunisia",
          "Tunisia",
          "Tunisia",
          "Turkey",
          "Turkey",
          "Turkey",
          "Turkey",
          "Turkmenistan",
          "Turkmenistan",
          "Turkmenistan",
          "Turkmenistan",
          "Uganda",
          "Uganda",
          "Uganda",
          "Uganda",
          "Ukraine",
          "Ukraine",
          "Ukraine",
          "Ukraine",
          "United Arab Emirates",
          "United Arab Emirates",
          "United Arab Emirates",
          "United Arab Emirates",
          "United Kingdom",
          "United Kingdom",
          "United Kingdom",
          "United Kingdom",
          "United States",
          "United States",
          "United States",
          "United States",
          "Uruguay",
          "Uruguay",
          "Uruguay",
          "Uruguay",
          "Uzbekistan",
          "Uzbekistan",
          "Uzbekistan",
          "Uzbekistan",
          "Venezuela",
          "Venezuela",
          "Venezuela",
          "Venezuela",
          "Vietnam",
          "Vietnam",
          "Vietnam",
          "Vietnam",
          "Yemen",
          "Yemen",
          "Yemen",
          "Yemen",
          "Zambia",
          "Zambia",
          "Zambia",
          "Zambia",
          "Zimbabwe",
          "Zimbabwe",
          "Zimbabwe",
          "Zimbabwe"
         ],
         "type": "scatter",
         "x": [
          0.3508,
          0.3508,
          0.3508,
          0.3508,
          0.9345,
          0.9345,
          0.9345,
          0.9345,
          1.003,
          1.003,
          1.003,
          1.003,
          1.101,
          1.101,
          1.101,
          1.101,
          0.8337,
          0.8337,
          0.8337,
          0.8337,
          1.3825,
          1.3825,
          1.3825,
          1.3825,
          1.3853,
          1.3853,
          1.3853,
          1.3853,
          1.0611,
          1.0611,
          1.0611,
          1.0611,
          1.378,
          1.378,
          1.378,
          1.378,
          0.5196,
          0.5196,
          0.5196,
          0.5196,
          1.0736,
          1.0736,
          1.0736,
          1.0736,
          1.3629,
          1.3629,
          1.3629,
          1.3629,
          0.3722,
          0.3722,
          0.3722,
          0.3722,
          0.7605,
          0.7605,
          0.7605,
          0.7605,
          0.9187,
          0.9187,
          0.9187,
          0.9187,
          1.0434,
          1.0434,
          1.0434,
          1.0434,
          1.0196,
          1.0196,
          1.0196,
          1.0196,
          1.0799,
          1.0799,
          1.0799,
          1.0799,
          0.3133,
          0.3133,
          0.3133,
          0.3133,
          0.061,
          0.061,
          0.061,
          0.061,
          0.5463,
          0.5463,
          0.5463,
          0.5463,
          0.5177,
          0.5177,
          0.5177,
          0.5177,
          1.3751,
          1.3751,
          1.3751,
          1.3751,
          0.372,
          0.372,
          0.372,
          0.372,
          1.1625,
          1.1625,
          1.1625,
          1.1625,
          0.9973,
          0.9973,
          0.9973,
          0.9973,
          0.9973,
          0.9973,
          0.9973,
          0.9973,
          0.9836,
          0.9836,
          0.9836,
          0.9836,
          1.0274,
          1.0274,
          1.0274,
          1.0274,
          1.1438,
          1.1438,
          1.1438,
          1.1438,
          1.264,
          1.264,
          1.264,
          1.264,
          1.3855,
          1.3855,
          1.3855,
          1.3855,
          0.9929,
          0.9929,
          0.9929,
          0.9929,
          0.9165,
          0.9165,
          0.9165,
          0.9165,
          0.9174,
          0.9174,
          0.9174,
          0.9174,
          0.8186,
          0.8186,
          0.8186,
          0.8186,
          1.2274,
          1.2274,
          1.2274,
          1.2274,
          0.2935,
          0.2935,
          0.2935,
          0.2935,
          1.3447,
          1.3447,
          1.3447,
          1.3447,
          1.3314,
          1.3314,
          1.3314,
          1.3314,
          1.0879,
          1.0879,
          1.0879,
          1.0879,
          0.8579,
          0.8579,
          0.8579,
          0.8579,
          1.3822,
          1.3822,
          1.3822,
          1.3822,
          0.604,
          0.604,
          0.604,
          0.604,
          1.1946,
          1.1946,
          1.1946,
          1.1946,
          0.7996,
          0.7996,
          0.7996,
          0.7996,
          0.2857,
          0.2857,
          0.2857,
          0.2857,
          0.3183,
          0.3183,
          0.3183,
          0.3183,
          0.647,
          0.647,
          0.647,
          0.647,
          1.1947,
          1.1947,
          1.1947,
          1.1947,
          1.3765,
          1.3765,
          1.3765,
          1.3765,
          0.7283,
          0.7283,
          0.7283,
          0.7283,
          0.9135,
          0.9135,
          0.9135,
          0.9135,
          1.0812,
          1.0812,
          1.0812,
          1.0812,
          1.0353,
          1.0353,
          1.0353,
          1.0353,
          1.4547,
          1.4547,
          1.4547,
          1.4547,
          1.2952,
          1.2952,
          1.2952,
          1.2952,
          1.3011,
          1.3011,
          1.3011,
          1.3011,
          0.8465,
          0.8465,
          0.8465,
          0.8465,
          1.3272,
          1.3272,
          1.3272,
          1.3272,
          0.888,
          0.888,
          0.888,
          0.888,
          1.1808,
          1.1808,
          1.1808,
          1.1808,
          0.4825,
          0.4825,
          0.4825,
          0.4825,
          1.5403,
          1.5403,
          1.5403,
          1.5403,
          0.5379,
          0.5379,
          0.5379,
          0.5379,
          1.1772,
          1.1772,
          1.1772,
          1.1772,
          1.0132,
          1.0132,
          1.0132,
          1.0132,
          0.0848,
          0.0848,
          0.0848,
          0.0848,
          1.0656,
          1.0656,
          1.0656,
          1.0656,
          1.2242,
          1.2242,
          1.2242,
          1.2242,
          1.6227,
          1.6227,
          1.6227,
          1.6227,
          0.2625,
          0.2625,
          0.2625,
          0.2625,
          0.1566,
          0.1566,
          0.1566,
          0.1566,
          1.1995,
          1.1995,
          1.1995,
          1.1995,
          0.373,
          0.373,
          0.373,
          0.373,
          1.2802,
          1.2802,
          1.2802,
          1.2802,
          0.5574,
          0.5574,
          0.5574,
          0.5574,
          1.1018,
          1.1018,
          1.1018,
          1.1018,
          1.0704,
          1.0704,
          1.0704,
          1.0704,
          0.6663,
          0.6663,
          0.6663,
          0.6663,
          0.9294,
          0.9294,
          0.9294,
          0.9294,
          1.0409,
          1.0409,
          1.0409,
          1.0409,
          0.7982,
          0.7982,
          0.7982,
          0.7982,
          0.5075,
          0.5075,
          0.5075,
          0.5075,
          0.4277,
          0.4277,
          0.4277,
          0.4277,
          1.3976,
          1.3976,
          1.3976,
          1.3976,
          1.3067,
          1.3067,
          1.3067,
          1.3067,
          0.6731,
          0.6731,
          0.6731,
          0.6731,
          0.1251,
          0.1251,
          0.1251,
          0.1251,
          0.7058,
          0.7058,
          0.7058,
          0.7058,
          1.5049,
          1.5049,
          1.5049,
          1.5049,
          0.6628,
          0.6628,
          0.6628,
          0.6628,
          1.1396,
          1.1396,
          1.1396,
          1.1396,
          0.8456,
          0.8456,
          0.8456,
          0.8456,
          0.9574,
          0.9574,
          0.9574,
          0.9574,
          0.7863,
          0.7863,
          0.7863,
          0.7863,
          1.1998,
          1.1998,
          1.1998,
          1.1998,
          1.221,
          1.221,
          1.221,
          1.221,
          1.1348,
          1.1348,
          1.1348,
          1.1348,
          1.1884,
          1.1884,
          1.1884,
          1.1884,
          0.3205,
          0.3205,
          0.3205,
          0.3205,
          1.427,
          1.427,
          1.427,
          1.427,
          0.4308,
          0.4308,
          0.4308,
          0.4308,
          0.9922,
          0.9922,
          0.9922,
          0.9922,
          0.3057,
          0.3057,
          0.3057,
          0.3057,
          1.5788,
          1.5788,
          1.5788,
          1.5788,
          1.2376,
          1.2376,
          1.2376,
          1.2376,
          1.2508,
          1.2508,
          1.2508,
          1.2508,
          0.9688,
          0.9688,
          0.9688,
          0.9688,
          1.2879,
          1.2879,
          1.2879,
          1.2879,
          0.928,
          0.928,
          0.928,
          0.928,
          1.392,
          1.392,
          1.392,
          1.392,
          1.4584,
          1.4584,
          1.4584,
          1.4584,
          0.4705,
          0.4705,
          0.4705,
          0.4705,
          0.4318,
          0.4318,
          0.4318,
          0.4318,
          1.0402,
          1.0402,
          1.0402,
          1.0402,
          0.262,
          0.262,
          0.262,
          0.262,
          0.9273,
          0.9273,
          0.9273,
          0.9273,
          1.1476,
          1.1476,
          1.1476,
          1.1476,
          1.0393,
          1.0393,
          1.0393,
          1.0393,
          0.3116,
          0.3116,
          0.3116,
          0.3116,
          0.8267,
          0.8267,
          0.8267,
          0.8267,
          1.6632,
          1.6632,
          1.6632,
          1.6632,
          1.3213,
          1.3213,
          1.3213,
          1.3213,
          1.4429,
          1.4429,
          1.4429,
          1.4429,
          1.1241,
          1.1241,
          1.1241,
          1.1241,
          0.7207,
          0.7207,
          0.7207,
          0.7207,
          1.0322,
          1.0322,
          1.0322,
          1.0322,
          0.7192,
          0.7192,
          0.7192,
          0.7192,
          0.4668,
          0.4668,
          0.4668,
          0.4668,
          0.5617,
          0.5617,
          0.5617,
          0.5617,
          0.3425,
          0.3425,
          0.3425,
          0.3425
         ],
         "xaxis": "x",
         "y": [
          3.551,
          3.551,
          3.551,
          3.551,
          4.727,
          4.727,
          4.727,
          4.727,
          5.4958,
          5.4958,
          5.4958,
          5.4958,
          6.4117,
          6.4117,
          6.4117,
          6.4117,
          4.4015,
          4.4015,
          4.4015,
          4.4015,
          7.267,
          7.267,
          7.267,
          7.267,
          7.1478,
          7.1478,
          7.1478,
          7.1478,
          5.2138,
          5.2138,
          5.2138,
          5.2138,
          6.0877,
          6.0877,
          6.0877,
          6.0877,
          4.5645,
          4.5645,
          4.5645,
          4.5645,
          5.547,
          5.547,
          5.547,
          5.547,
          6.9195,
          6.9195,
          6.9195,
          6.9195,
          4.0053,
          4.0053,
          4.0053,
          4.0053,
          5.811,
          5.811,
          5.811,
          5.811,
          5.1615,
          5.1615,
          5.1615,
          5.1615,
          3.794,
          3.794,
          3.794,
          3.794,
          6.5843,
          6.5843,
          6.5843,
          6.5843,
          4.719,
          4.719,
          4.719,
          4.719,
          4.1575,
          4.1575,
          4.1575,
          4.1575,
          3.1225,
          3.1225,
          3.1225,
          3.1225,
          4.28,
          4.28,
          4.28,
          4.28,
          4.7415,
          4.7415,
          4.7415,
          4.7415,
          7.3372,
          7.3372,
          7.3372,
          7.3372,
          4.0635,
          4.0635,
          4.0635,
          4.0635,
          6.5605,
          6.5605,
          6.5605,
          6.5605,
          5.2125,
          5.2125,
          5.2125,
          5.2125,
          5.2125,
          5.2125,
          5.2125,
          5.2125,
          6.3047,
          6.3047,
          6.3047,
          6.3047,
          7.136,
          7.136,
          7.136,
          7.136,
          5.4513,
          5.4513,
          5.4513,
          5.4513,
          5.7795,
          5.7795,
          5.7795,
          5.7795,
          7.551,
          7.551,
          7.551,
          7.551,
          5.2105,
          5.2105,
          5.2105,
          5.2105,
          5.996,
          5.996,
          5.996,
          5.996,
          4.3785,
          4.3785,
          4.3785,
          4.3785,
          6.1382,
          6.1382,
          6.1382,
          6.1382,
          5.668,
          5.668,
          5.668,
          5.668,
          4.402,
          4.402,
          4.402,
          4.402,
          7.569,
          7.569,
          7.569,
          7.569,
          6.5245,
          6.5245,
          6.5245,
          6.5245,
          4.4795,
          4.4795,
          4.4795,
          4.4795,
          4.3605,
          4.3605,
          4.3605,
          4.3605,
          6.9128,
          6.9128,
          6.9128,
          6.9128,
          4.6015,
          4.6015,
          4.6015,
          4.6015,
          5.1823,
          5.1823,
          5.1823,
          5.1823,
          6.3487,
          6.3487,
          6.3487,
          6.3487,
          3.9152,
          3.9152,
          3.9152,
          3.9152,
          3.825,
          3.825,
          3.825,
          3.825,
          5.3333,
          5.3333,
          5.3333,
          5.3333,
          5.3755,
          5.3755,
          5.3755,
          5.3755,
          7.5135,
          7.5135,
          7.5135,
          7.5135,
          4.2713,
          4.2713,
          4.2713,
          4.2713,
          5.2365,
          5.2365,
          5.2365,
          5.2365,
          4.6582,
          4.6582,
          4.6582,
          4.6582,
          4.5168,
          4.5168,
          4.5168,
          4.5168,
          6.9788,
          6.9788,
          6.9788,
          6.9788,
          7.111,
          7.111,
          7.111,
          7.111,
          6.0338,
          6.0338,
          6.0338,
          6.0338,
          5.7,
          5.7,
          5.7,
          5.7,
          5.927,
          5.927,
          5.927,
          5.927,
          5.1487,
          5.1487,
          5.1487,
          5.1487,
          5.8182,
          5.8182,
          5.8182,
          5.8182,
          4.4727,
          4.4727,
          4.4727,
          4.4727,
          6.126,
          6.126,
          6.126,
          6.126,
          5.1705,
          5.1705,
          5.1705,
          5.1705,
          5.7052,
          5.7052,
          5.7052,
          5.7052,
          5.1547,
          5.1547,
          5.1547,
          5.1547,
          3.8935,
          3.8935,
          3.8935,
          3.8935,
          5.5925,
          5.5925,
          5.5925,
          5.5925,
          5.959,
          5.959,
          5.959,
          5.959,
          6.9522,
          6.9522,
          6.9522,
          6.9522,
          3.758,
          3.758,
          3.758,
          3.758,
          3.8148,
          3.8148,
          3.8148,
          3.8148,
          5.8788,
          5.8788,
          5.8788,
          5.8788,
          4.2555,
          4.2555,
          4.2555,
          4.2555,
          6.5455,
          6.5455,
          6.5455,
          6.5455,
          4.3935,
          4.3935,
          4.3935,
          4.3935,
          5.7213,
          5.7213,
          5.7213,
          5.7213,
          6.712,
          6.712,
          6.712,
          6.712,
          5.724,
          5.724,
          5.724,
          5.724,
          5.0597,
          5.0597,
          5.0597,
          5.0597,
          5.3247,
          5.3247,
          5.3247,
          5.3247,
          5.1775,
          5.1775,
          5.1775,
          5.1775,
          4.38,
          4.38,
          4.38,
          4.38,
          4.8172,
          4.8172,
          4.8172,
          4.8172,
          7.421,
          7.421,
          7.421,
          7.421,
          7.3078,
          7.3078,
          7.3078,
          7.3078,
          6.0363,
          6.0363,
          6.0363,
          6.0363,
          4.1667,
          4.1667,
          4.1667,
          4.1667,
          5.1905,
          5.1905,
          5.1905,
          5.1905,
          7.5518,
          7.5518,
          7.5518,
          7.5518,
          5.397,
          5.397,
          5.397,
          5.397,
          6.4973,
          6.4973,
          6.4973,
          6.4973,
          5.6988,
          5.6988,
          5.6988,
          5.6988,
          5.7248,
          5.7248,
          5.7248,
          5.7248,
          5.4145,
          5.4145,
          5.4145,
          5.4145,
          6.0173,
          6.0173,
          6.0173,
          6.0173,
          5.35,
          5.35,
          5.35,
          5.35,
          5.741,
          5.741,
          5.741,
          5.741,
          5.7842,
          5.7842,
          5.7842,
          5.7842,
          3.4195,
          3.4195,
          3.4195,
          3.4195,
          6.3752,
          6.3752,
          6.3752,
          6.3752,
          4.4377,
          4.4377,
          4.4377,
          4.4377,
          5.3797,
          5.3797,
          5.3797,
          5.3797,
          4.5403,
          4.5403,
          4.5403,
          4.5403,
          6.4938,
          6.4938,
          6.4938,
          6.4938,
          6.116,
          6.116,
          6.116,
          6.116,
          5.918,
          5.918,
          5.918,
          5.918,
          4.7292,
          4.7292,
          4.7292,
          4.7292,
          6.349,
          6.349,
          6.349,
          6.349,
          4.387,
          4.387,
          4.387,
          4.387,
          7.3262,
          7.3262,
          7.3262,
          7.3262,
          7.512,
          7.512,
          7.512,
          7.512,
          5.1232,
          5.1232,
          5.1232,
          5.1232,
          3.416,
          3.416,
          3.416,
          3.416,
          6.2397,
          6.2397,
          6.2397,
          6.2397,
          3.6045,
          3.6045,
          3.6045,
          3.6045,
          4.6492,
          4.6492,
          4.6492,
          4.6492,
          5.422,
          5.422,
          5.422,
          5.422,
          5.5633,
          5.5633,
          5.5633,
          5.5633,
          4.0905,
          4.0905,
          4.0905,
          4.0905,
          4.303,
          4.303,
          4.303,
          4.303,
          6.787,
          6.787,
          6.787,
          6.787,
          6.9563,
          6.9563,
          6.9563,
          6.9563,
          6.9725,
          6.9725,
          6.9725,
          6.9725,
          6.4027,
          6.4027,
          6.4027,
          6.4027,
          6.061,
          6.061,
          6.061,
          6.061,
          5.3932,
          5.3932,
          5.3932,
          5.3932,
          5.178,
          5.178,
          5.178,
          5.178,
          3.6012,
          3.6012,
          3.6012,
          3.6012,
          4.5317,
          4.5317,
          4.5317,
          4.5317,
          3.96,
          3.96,
          3.96,
          3.96
         ],
         "yaxis": "y"
        },
        {
         "hovertemplate": "Country: %{text}<br>Happiness: %{y:.2f}<extra></extra>",
         "mode": "markers",
         "name": "Education",
         "text": [
          "Afghanistan",
          "Afghanistan",
          "Afghanistan",
          "Afghanistan",
          "Albania",
          "Albania",
          "Albania",
          "Albania",
          "Algeria",
          "Algeria",
          "Algeria",
          "Algeria",
          "Argentina",
          "Argentina",
          "Argentina",
          "Argentina",
          "Armenia",
          "Armenia",
          "Armenia",
          "Armenia",
          "Australia",
          "Australia",
          "Australia",
          "Australia",
          "Austria",
          "Austria",
          "Austria",
          "Austria",
          "Azerbaijan",
          "Azerbaijan",
          "Azerbaijan",
          "Azerbaijan",
          "Bahrain",
          "Bahrain",
          "Bahrain",
          "Bahrain",
          "Bangladesh",
          "Bangladesh",
          "Bangladesh",
          "Bangladesh",
          "Belarus",
          "Belarus",
          "Belarus",
          "Belarus",
          "Belgium",
          "Belgium",
          "Belgium",
          "Belgium",
          "Benin",
          "Benin",
          "Benin",
          "Benin",
          "Bolivia",
          "Bolivia",
          "Bolivia",
          "Bolivia",
          "Bosnia and Herzegovina",
          "Bosnia and Herzegovina",
          "Bosnia and Herzegovina",
          "Bosnia and Herzegovina",
          "Botswana",
          "Botswana",
          "Botswana",
          "Botswana",
          "Brazil",
          "Brazil",
          "Brazil",
          "Brazil",
          "Bulgaria",
          "Bulgaria",
          "Bulgaria",
          "Bulgaria",
          "Burkina Faso",
          "Burkina Faso",
          "Burkina Faso",
          "Burkina Faso",
          "Burundi",
          "Burundi",
          "Burundi",
          "Burundi",
          "Cambodia",
          "Cambodia",
          "Cambodia",
          "Cambodia",
          "Cameroon",
          "Cameroon",
          "Cameroon",
          "Cameroon",
          "Canada",
          "Canada",
          "Canada",
          "Canada",
          "Chad",
          "Chad",
          "Chad",
          "Chad",
          "Chile",
          "Chile",
          "Chile",
          "Chile",
          "China",
          "China",
          "China",
          "China",
          "China",
          "China",
          "China",
          "China",
          "Colombia",
          "Colombia",
          "Colombia",
          "Colombia",
          "Costa Rica",
          "Costa Rica",
          "Costa Rica",
          "Costa Rica",
          "Croatia",
          "Croatia",
          "Croatia",
          "Croatia",
          "Cyprus",
          "Cyprus",
          "Cyprus",
          "Cyprus",
          "Denmark",
          "Denmark",
          "Denmark",
          "Denmark",
          "Dominican Republic",
          "Dominican Republic",
          "Dominican Republic",
          "Dominican Republic",
          "Ecuador",
          "Ecuador",
          "Ecuador",
          "Ecuador",
          "Egypt",
          "Egypt",
          "Egypt",
          "Egypt",
          "El Salvador",
          "El Salvador",
          "El Salvador",
          "El Salvador",
          "Estonia",
          "Estonia",
          "Estonia",
          "Estonia",
          "Ethiopia",
          "Ethiopia",
          "Ethiopia",
          "Ethiopia",
          "Finland",
          "Finland",
          "Finland",
          "Finland",
          "France",
          "France",
          "France",
          "France",
          "Gabon",
          "Gabon",
          "Gabon",
          "Gabon",
          "Georgia",
          "Georgia",
          "Georgia",
          "Georgia",
          "Germany",
          "Germany",
          "Germany",
          "Germany",
          "Ghana",
          "Ghana",
          "Ghana",
          "Ghana",
          "Greece",
          "Greece",
          "Greece",
          "Greece",
          "Guatemala",
          "Guatemala",
          "Guatemala",
          "Guatemala",
          "Guinea",
          "Guinea",
          "Guinea",
          "Guinea",
          "Haiti",
          "Haiti",
          "Haiti",
          "Haiti",
          "Honduras",
          "Honduras",
          "Honduras",
          "Honduras",
          "Hungary",
          "Hungary",
          "Hungary",
          "Hungary",
          "Iceland",
          "Iceland",
          "Iceland",
          "Iceland",
          "India",
          "India",
          "India",
          "India",
          "Indonesia",
          "Indonesia",
          "Indonesia",
          "Indonesia",
          "Iran",
          "Iran",
          "Iran",
          "Iran",
          "Iraq",
          "Iraq",
          "Iraq",
          "Iraq",
          "Ireland",
          "Ireland",
          "Ireland",
          "Ireland",
          "Israel",
          "Israel",
          "Israel",
          "Israel",
          "Italy",
          "Italy",
          "Italy",
          "Italy",
          "Jamaica",
          "Jamaica",
          "Jamaica",
          "Jamaica",
          "Japan",
          "Japan",
          "Japan",
          "Japan",
          "Jordan",
          "Jordan",
          "Jordan",
          "Jordan",
          "Kazakhstan",
          "Kazakhstan",
          "Kazakhstan",
          "Kazakhstan",
          "Kenya",
          "Kenya",
          "Kenya",
          "Kenya",
          "Kuwait",
          "Kuwait",
          "Kuwait",
          "Kuwait",
          "Kyrgyzstan",
          "Kyrgyzstan",
          "Kyrgyzstan",
          "Kyrgyzstan",
          "Latvia",
          "Latvia",
          "Latvia",
          "Latvia",
          "Lebanon",
          "Lebanon",
          "Lebanon",
          "Lebanon",
          "Liberia",
          "Liberia",
          "Liberia",
          "Liberia",
          "Libya",
          "Libya",
          "Libya",
          "Libya",
          "Lithuania",
          "Lithuania",
          "Lithuania",
          "Lithuania",
          "Luxembourg",
          "Luxembourg",
          "Luxembourg",
          "Luxembourg",
          "Madagascar",
          "Madagascar",
          "Madagascar",
          "Madagascar",
          "Malawi",
          "Malawi",
          "Malawi",
          "Malawi",
          "Malaysia",
          "Malaysia",
          "Malaysia",
          "Malaysia",
          "Mali",
          "Mali",
          "Mali",
          "Mali",
          "Malta",
          "Malta",
          "Malta",
          "Malta",
          "Mauritania",
          "Mauritania",
          "Mauritania",
          "Mauritania",
          "Mauritius",
          "Mauritius",
          "Mauritius",
          "Mauritius",
          "Mexico",
          "Mexico",
          "Mexico",
          "Mexico",
          "Moldova",
          "Moldova",
          "Moldova",
          "Moldova",
          "Mongolia",
          "Mongolia",
          "Mongolia",
          "Mongolia",
          "Montenegro",
          "Montenegro",
          "Montenegro",
          "Montenegro",
          "Morocco",
          "Morocco",
          "Morocco",
          "Morocco",
          "Myanmar",
          "Myanmar",
          "Myanmar",
          "Myanmar",
          "Nepal",
          "Nepal",
          "Nepal",
          "Nepal",
          "Netherlands",
          "Netherlands",
          "Netherlands",
          "Netherlands",
          "New Zealand",
          "New Zealand",
          "New Zealand",
          "New Zealand",
          "Nicaragua",
          "Nicaragua",
          "Nicaragua",
          "Nicaragua",
          "Niger",
          "Niger",
          "Niger",
          "Niger",
          "Nigeria",
          "Nigeria",
          "Nigeria",
          "Nigeria",
          "Norway",
          "Norway",
          "Norway",
          "Norway",
          "Pakistan",
          "Pakistan",
          "Pakistan",
          "Pakistan",
          "Panama",
          "Panama",
          "Panama",
          "Panama",
          "Paraguay",
          "Paraguay",
          "Paraguay",
          "Paraguay",
          "Peru",
          "Peru",
          "Peru",
          "Peru",
          "Philippines",
          "Philippines",
          "Philippines",
          "Philippines",
          "Poland",
          "Poland",
          "Poland",
          "Poland",
          "Portugal",
          "Portugal",
          "Portugal",
          "Portugal",
          "Romania",
          "Romania",
          "Romania",
          "Romania",
          "Russia",
          "Russia",
          "Russia",
          "Russia",
          "Rwanda",
          "Rwanda",
          "Rwanda",
          "Rwanda",
          "Saudi Arabia",
          "Saudi Arabia",
          "Saudi Arabia",
          "Saudi Arabia",
          "Senegal",
          "Senegal",
          "Senegal",
          "Senegal",
          "Serbia",
          "Serbia",
          "Serbia",
          "Serbia",
          "Sierra Leone",
          "Sierra Leone",
          "Sierra Leone",
          "Sierra Leone",
          "Singapore",
          "Singapore",
          "Singapore",
          "Singapore",
          "Slovakia",
          "Slovakia",
          "Slovakia",
          "Slovakia",
          "Slovenia",
          "Slovenia",
          "Slovenia",
          "Slovenia",
          "South Africa",
          "South Africa",
          "South Africa",
          "South Africa",
          "Spain",
          "Spain",
          "Spain",
          "Spain",
          "Sri Lanka",
          "Sri Lanka",
          "Sri Lanka",
          "Sri Lanka",
          "Sweden",
          "Sweden",
          "Sweden",
          "Sweden",
          "Switzerland",
          "Switzerland",
          "Switzerland",
          "Switzerland",
          "Tajikistan",
          "Tajikistan",
          "Tajikistan",
          "Tajikistan",
          "Tanzania",
          "Tanzania",
          "Tanzania",
          "Tanzania",
          "Thailand",
          "Thailand",
          "Thailand",
          "Thailand",
          "Togo",
          "Togo",
          "Togo",
          "Togo",
          "Tunisia",
          "Tunisia",
          "Tunisia",
          "Tunisia",
          "Turkey",
          "Turkey",
          "Turkey",
          "Turkey",
          "Turkmenistan",
          "Turkmenistan",
          "Turkmenistan",
          "Turkmenistan",
          "Uganda",
          "Uganda",
          "Uganda",
          "Uganda",
          "Ukraine",
          "Ukraine",
          "Ukraine",
          "Ukraine",
          "United Arab Emirates",
          "United Arab Emirates",
          "United Arab Emirates",
          "United Arab Emirates",
          "United Kingdom",
          "United Kingdom",
          "United Kingdom",
          "United Kingdom",
          "United States",
          "United States",
          "United States",
          "United States",
          "Uruguay",
          "Uruguay",
          "Uruguay",
          "Uruguay",
          "Uzbekistan",
          "Uzbekistan",
          "Uzbekistan",
          "Uzbekistan",
          "Venezuela",
          "Venezuela",
          "Venezuela",
          "Venezuela",
          "Vietnam",
          "Vietnam",
          "Vietnam",
          "Vietnam",
          "Yemen",
          "Yemen",
          "Yemen",
          "Yemen",
          "Zambia",
          "Zambia",
          "Zambia",
          "Zambia",
          "Zimbabwe",
          "Zimbabwe",
          "Zimbabwe",
          "Zimbabwe"
         ],
         "type": "scatter",
         "x": [
          0.45,
          0.45,
          0.45,
          0.45,
          0.7725,
          0.7725,
          0.7725,
          0.7725,
          0.7025,
          0.7025,
          0.7025,
          0.7025,
          0.8625,
          0.8625,
          0.8625,
          0.8625,
          0.7625,
          0.7625,
          0.7625,
          0.7625,
          1.0225,
          1.0225,
          1.0225,
          1.0225,
          0.875,
          0.875,
          0.875,
          0.875,
          0.715,
          0.715,
          0.715,
          0.715,
          0.775,
          0.775,
          0.775,
          0.775,
          0.53,
          0.53,
          0.53,
          0.53,
          0.8575,
          0.8575,
          0.8575,
          0.8575,
          0.9875,
          0.9875,
          0.9875,
          0.9875,
          0.5225,
          0.5225,
          0.5225,
          0.5225,
          0.71,
          0.71,
          0.71,
          0.71,
          0.7325,
          0.7325,
          0.7325,
          0.7325,
          0.68,
          0.68,
          0.68,
          0.68,
          0.7275,
          0.7275,
          0.7275,
          0.7275,
          0.8225,
          0.8225,
          0.8225,
          0.8225,
          0.33,
          0.33,
          0.33,
          0.33,
          0.4675,
          0.4675,
          0.4675,
          0.4675,
          0.5175,
          0.5175,
          0.5175,
          0.5175,
          0.585,
          0.585,
          0.585,
          0.585,
          0.9125,
          0.9125,
          0.9125,
          0.9125,
          0.3275,
          0.3275,
          0.3275,
          0.3275,
          0.8325,
          0.8325,
          0.8325,
          0.8325,
          0.7025,
          0.7025,
          0.7025,
          0.7025,
          0.7025,
          0.7025,
          0.7025,
          0.7025,
          0.7125,
          0.7125,
          0.7125,
          0.7125,
          0.7525,
          0.7525,
          0.7525,
          0.7525,
          0.8125,
          0.8125,
          0.8125,
          0.8125,
          0.82,
          0.82,
          0.82,
          0.82,
          0.99,
          0.99,
          0.99,
          0.99,
          0.6775,
          0.6775,
          0.6775,
          0.6775,
          0.73,
          0.73,
          0.73,
          0.73,
          0.6375,
          0.6375,
          0.6375,
          0.6375,
          0.6025,
          0.6025,
          0.6025,
          0.6025,
          0.8925,
          0.8925,
          0.8925,
          0.8925,
          0.3625,
          0.3625,
          0.3625,
          0.3625,
          0.945,
          0.945,
          0.945,
          0.945,
          0.86,
          0.86,
          0.86,
          0.86,
          0.6525,
          0.6525,
          0.6525,
          0.6525,
          0.8575,
          0.8575,
          0.8575,
          0.8575,
          0.96,
          0.96,
          0.96,
          0.96,
          0.58,
          0.58,
          0.58,
          0.58,
          0.875,
          0.875,
          0.875,
          0.875,
          0.5375,
          0.5375,
          0.5375,
          0.5375,
          0.38,
          0.38,
          0.38,
          0.38,
          0.4575,
          0.4575,
          0.4575,
          0.4575,
          0.52,
          0.52,
          0.52,
          0.52,
          0.83,
          0.83,
          0.83,
          0.83,
          0.9875,
          0.9875,
          0.9875,
          0.9875,
          0.5875,
          0.5875,
          0.5875,
          0.5875,
          0.6475,
          0.6475,
          0.6475,
          0.6475,
          0.77,
          0.77,
          0.77,
          0.77,
          0.5425,
          0.5425,
          0.5425,
          0.5425,
          0.9925,
          0.9925,
          0.9925,
          0.9925,
          0.89,
          0.89,
          0.89,
          0.89,
          0.83,
          0.83,
          0.83,
          0.83,
          0.7075,
          0.7075,
          0.7075,
          0.7075,
          0.8575,
          0.8575,
          0.8575,
          0.8575,
          0.7175,
          0.7175,
          0.7175,
          0.7175,
          0.8325,
          0.8325,
          0.8325,
          0.8325,
          0.5675,
          0.5675,
          0.5675,
          0.5675,
          0.655,
          0.655,
          0.655,
          0.655,
          0.7475,
          0.7475,
          0.7475,
          0.7475,
          0.8825,
          0.8825,
          0.8825,
          0.8825,
          0.6475,
          0.6475,
          0.6475,
          0.6475,
          0.4575,
          0.4575,
          0.4575,
          0.4575,
          0.6475,
          0.6475,
          0.6475,
          0.6475,
          0.9025,
          0.9025,
          0.9025,
          0.9025,
          0.8025,
          0.8025,
          0.8025,
          0.8025,
          0.52,
          0.52,
          0.52,
          0.52,
          0.4875,
          0.4875,
          0.4875,
          0.4875,
          0.735,
          0.735,
          0.735,
          0.735,
          0.315,
          0.315,
          0.315,
          0.315,
          0.8375,
          0.8375,
          0.8375,
          0.8375,
          0.41,
          0.41,
          0.41,
          0.41,
          0.76,
          0.76,
          0.76,
          0.76,
          0.71,
          0.71,
          0.71,
          0.71,
          0.71,
          0.71,
          0.71,
          0.71,
          0.785,
          0.785,
          0.785,
          0.785,
          0.8125,
          0.8125,
          0.8125,
          0.8125,
          0.5675,
          0.5675,
          0.5675,
          0.5675,
          0.4725,
          0.4725,
          0.4725,
          0.4725,
          0.54,
          0.54,
          0.54,
          0.54,
          0.94,
          0.94,
          0.94,
          0.94,
          0.9775,
          0.9775,
          0.9775,
          0.9775,
          0.59,
          0.59,
          0.59,
          0.59,
          0.2425,
          0.2425,
          0.2425,
          0.2425,
          0.505,
          0.505,
          0.505,
          0.505,
          0.9475,
          0.9475,
          0.9475,
          0.9475,
          0.4275,
          0.4275,
          0.4275,
          0.4275,
          0.705,
          0.705,
          0.705,
          0.705,
          0.66,
          0.66,
          0.66,
          0.66,
          0.7175,
          0.7175,
          0.7175,
          0.7175,
          0.6825,
          0.6825,
          0.6825,
          0.6825,
          0.885,
          0.885,
          0.885,
          0.885,
          0.8,
          0.8,
          0.8,
          0.8,
          0.7825,
          0.7825,
          0.7825,
          0.7825,
          0.85,
          0.85,
          0.85,
          0.85,
          0.485,
          0.485,
          0.485,
          0.485,
          0.83,
          0.83,
          0.83,
          0.83,
          0.395,
          0.395,
          0.395,
          0.395,
          0.7975,
          0.7975,
          0.7975,
          0.7975,
          0.4225,
          0.4225,
          0.4225,
          0.4225,
          0.86,
          0.86,
          0.86,
          0.86,
          0.845,
          0.845,
          0.845,
          0.845,
          0.915,
          0.915,
          0.915,
          0.915,
          0.725,
          0.725,
          0.725,
          0.725,
          0.8675,
          0.8675,
          0.8675,
          0.8675,
          0.77,
          0.77,
          0.77,
          0.77,
          0.94,
          0.94,
          0.94,
          0.94,
          0.91,
          0.91,
          0.91,
          0.91,
          0.67,
          0.67,
          0.67,
          0.67,
          0.4525,
          0.4525,
          0.4525,
          0.4525,
          0.69,
          0.69,
          0.69,
          0.69,
          0.55,
          0.55,
          0.55,
          0.55,
          0.6975,
          0.6975,
          0.6975,
          0.6975,
          0.735,
          0.735,
          0.735,
          0.735,
          0.6325,
          0.6325,
          0.6325,
          0.6325,
          0.5425,
          0.5425,
          0.5425,
          0.5425,
          0.8125,
          0.8125,
          0.8125,
          0.8125,
          0.7525,
          0.7525,
          0.7525,
          0.7525,
          0.94,
          0.94,
          0.94,
          0.94,
          0.92,
          0.92,
          0.92,
          0.92,
          0.775,
          0.775,
          0.775,
          0.775,
          0.715,
          0.715,
          0.715,
          0.715,
          0.7475,
          0.7475,
          0.7475,
          0.7475,
          0.65,
          0.65,
          0.65,
          0.65,
          0.38,
          0.38,
          0.38,
          0.38,
          0.6075,
          0.6075,
          0.6075,
          0.6075,
          0.5725,
          0.5725,
          0.5725,
          0.5725
         ],
         "xaxis": "x2",
         "y": [
          3.551,
          3.551,
          3.551,
          3.551,
          4.727,
          4.727,
          4.727,
          4.727,
          5.4958,
          5.4958,
          5.4958,
          5.4958,
          6.4117,
          6.4117,
          6.4117,
          6.4117,
          4.4015,
          4.4015,
          4.4015,
          4.4015,
          7.267,
          7.267,
          7.267,
          7.267,
          7.1478,
          7.1478,
          7.1478,
          7.1478,
          5.2138,
          5.2138,
          5.2138,
          5.2138,
          6.0877,
          6.0877,
          6.0877,
          6.0877,
          4.5645,
          4.5645,
          4.5645,
          4.5645,
          5.547,
          5.547,
          5.547,
          5.547,
          6.9195,
          6.9195,
          6.9195,
          6.9195,
          4.0053,
          4.0053,
          4.0053,
          4.0053,
          5.811,
          5.811,
          5.811,
          5.811,
          5.1615,
          5.1615,
          5.1615,
          5.1615,
          3.794,
          3.794,
          3.794,
          3.794,
          6.5843,
          6.5843,
          6.5843,
          6.5843,
          4.719,
          4.719,
          4.719,
          4.719,
          4.1575,
          4.1575,
          4.1575,
          4.1575,
          3.1225,
          3.1225,
          3.1225,
          3.1225,
          4.28,
          4.28,
          4.28,
          4.28,
          4.7415,
          4.7415,
          4.7415,
          4.7415,
          7.3372,
          7.3372,
          7.3372,
          7.3372,
          4.0635,
          4.0635,
          4.0635,
          4.0635,
          6.5605,
          6.5605,
          6.5605,
          6.5605,
          5.2125,
          5.2125,
          5.2125,
          5.2125,
          5.2125,
          5.2125,
          5.2125,
          5.2125,
          6.3047,
          6.3047,
          6.3047,
          6.3047,
          7.136,
          7.136,
          7.136,
          7.136,
          5.4513,
          5.4513,
          5.4513,
          5.4513,
          5.7795,
          5.7795,
          5.7795,
          5.7795,
          7.551,
          7.551,
          7.551,
          7.551,
          5.2105,
          5.2105,
          5.2105,
          5.2105,
          5.996,
          5.996,
          5.996,
          5.996,
          4.3785,
          4.3785,
          4.3785,
          4.3785,
          6.1382,
          6.1382,
          6.1382,
          6.1382,
          5.668,
          5.668,
          5.668,
          5.668,
          4.402,
          4.402,
          4.402,
          4.402,
          7.569,
          7.569,
          7.569,
          7.569,
          6.5245,
          6.5245,
          6.5245,
          6.5245,
          4.4795,
          4.4795,
          4.4795,
          4.4795,
          4.3605,
          4.3605,
          4.3605,
          4.3605,
          6.9128,
          6.9128,
          6.9128,
          6.9128,
          4.6015,
          4.6015,
          4.6015,
          4.6015,
          5.1823,
          5.1823,
          5.1823,
          5.1823,
          6.3487,
          6.3487,
          6.3487,
          6.3487,
          3.9152,
          3.9152,
          3.9152,
          3.9152,
          3.825,
          3.825,
          3.825,
          3.825,
          5.3333,
          5.3333,
          5.3333,
          5.3333,
          5.3755,
          5.3755,
          5.3755,
          5.3755,
          7.5135,
          7.5135,
          7.5135,
          7.5135,
          4.2713,
          4.2713,
          4.2713,
          4.2713,
          5.2365,
          5.2365,
          5.2365,
          5.2365,
          4.6582,
          4.6582,
          4.6582,
          4.6582,
          4.5168,
          4.5168,
          4.5168,
          4.5168,
          6.9788,
          6.9788,
          6.9788,
          6.9788,
          7.111,
          7.111,
          7.111,
          7.111,
          6.0338,
          6.0338,
          6.0338,
          6.0338,
          5.7,
          5.7,
          5.7,
          5.7,
          5.927,
          5.927,
          5.927,
          5.927,
          5.1487,
          5.1487,
          5.1487,
          5.1487,
          5.8182,
          5.8182,
          5.8182,
          5.8182,
          4.4727,
          4.4727,
          4.4727,
          4.4727,
          6.126,
          6.126,
          6.126,
          6.126,
          5.1705,
          5.1705,
          5.1705,
          5.1705,
          5.7052,
          5.7052,
          5.7052,
          5.7052,
          5.1547,
          5.1547,
          5.1547,
          5.1547,
          3.8935,
          3.8935,
          3.8935,
          3.8935,
          5.5925,
          5.5925,
          5.5925,
          5.5925,
          5.959,
          5.959,
          5.959,
          5.959,
          6.9522,
          6.9522,
          6.9522,
          6.9522,
          3.758,
          3.758,
          3.758,
          3.758,
          3.8148,
          3.8148,
          3.8148,
          3.8148,
          5.8788,
          5.8788,
          5.8788,
          5.8788,
          4.2555,
          4.2555,
          4.2555,
          4.2555,
          6.5455,
          6.5455,
          6.5455,
          6.5455,
          4.3935,
          4.3935,
          4.3935,
          4.3935,
          5.7213,
          5.7213,
          5.7213,
          5.7213,
          6.712,
          6.712,
          6.712,
          6.712,
          5.724,
          5.724,
          5.724,
          5.724,
          5.0597,
          5.0597,
          5.0597,
          5.0597,
          5.3247,
          5.3247,
          5.3247,
          5.3247,
          5.1775,
          5.1775,
          5.1775,
          5.1775,
          4.38,
          4.38,
          4.38,
          4.38,
          4.8172,
          4.8172,
          4.8172,
          4.8172,
          7.421,
          7.421,
          7.421,
          7.421,
          7.3078,
          7.3078,
          7.3078,
          7.3078,
          6.0363,
          6.0363,
          6.0363,
          6.0363,
          4.1667,
          4.1667,
          4.1667,
          4.1667,
          5.1905,
          5.1905,
          5.1905,
          5.1905,
          7.5518,
          7.5518,
          7.5518,
          7.5518,
          5.397,
          5.397,
          5.397,
          5.397,
          6.4973,
          6.4973,
          6.4973,
          6.4973,
          5.6988,
          5.6988,
          5.6988,
          5.6988,
          5.7248,
          5.7248,
          5.7248,
          5.7248,
          5.4145,
          5.4145,
          5.4145,
          5.4145,
          6.0173,
          6.0173,
          6.0173,
          6.0173,
          5.35,
          5.35,
          5.35,
          5.35,
          5.741,
          5.741,
          5.741,
          5.741,
          5.7842,
          5.7842,
          5.7842,
          5.7842,
          3.4195,
          3.4195,
          3.4195,
          3.4195,
          6.3752,
          6.3752,
          6.3752,
          6.3752,
          4.4377,
          4.4377,
          4.4377,
          4.4377,
          5.3797,
          5.3797,
          5.3797,
          5.3797,
          4.5403,
          4.5403,
          4.5403,
          4.5403,
          6.4938,
          6.4938,
          6.4938,
          6.4938,
          6.116,
          6.116,
          6.116,
          6.116,
          5.918,
          5.918,
          5.918,
          5.918,
          4.7292,
          4.7292,
          4.7292,
          4.7292,
          6.349,
          6.349,
          6.349,
          6.349,
          4.387,
          4.387,
          4.387,
          4.387,
          7.3262,
          7.3262,
          7.3262,
          7.3262,
          7.512,
          7.512,
          7.512,
          7.512,
          5.1232,
          5.1232,
          5.1232,
          5.1232,
          3.416,
          3.416,
          3.416,
          3.416,
          6.2397,
          6.2397,
          6.2397,
          6.2397,
          3.6045,
          3.6045,
          3.6045,
          3.6045,
          4.6492,
          4.6492,
          4.6492,
          4.6492,
          5.422,
          5.422,
          5.422,
          5.422,
          5.5633,
          5.5633,
          5.5633,
          5.5633,
          4.0905,
          4.0905,
          4.0905,
          4.0905,
          4.303,
          4.303,
          4.303,
          4.303,
          6.787,
          6.787,
          6.787,
          6.787,
          6.9563,
          6.9563,
          6.9563,
          6.9563,
          6.9725,
          6.9725,
          6.9725,
          6.9725,
          6.4027,
          6.4027,
          6.4027,
          6.4027,
          6.061,
          6.061,
          6.061,
          6.061,
          5.3932,
          5.3932,
          5.3932,
          5.3932,
          5.178,
          5.178,
          5.178,
          5.178,
          3.6012,
          3.6012,
          3.6012,
          3.6012,
          4.5317,
          4.5317,
          4.5317,
          4.5317,
          3.96,
          3.96,
          3.96,
          3.96
         ],
         "yaxis": "y2"
        },
        {
         "hovertemplate": "Country: %{text}<br>Happiness: %{y:.2f}<extra></extra>",
         "mode": "markers",
         "name": "Health",
         "text": [
          "Afghanistan",
          "Afghanistan",
          "Afghanistan",
          "Afghanistan",
          "Albania",
          "Albania",
          "Albania",
          "Albania",
          "Algeria",
          "Algeria",
          "Algeria",
          "Algeria",
          "Argentina",
          "Argentina",
          "Argentina",
          "Argentina",
          "Armenia",
          "Armenia",
          "Armenia",
          "Armenia",
          "Australia",
          "Australia",
          "Australia",
          "Australia",
          "Austria",
          "Austria",
          "Austria",
          "Austria",
          "Azerbaijan",
          "Azerbaijan",
          "Azerbaijan",
          "Azerbaijan",
          "Bahrain",
          "Bahrain",
          "Bahrain",
          "Bahrain",
          "Bangladesh",
          "Bangladesh",
          "Bangladesh",
          "Bangladesh",
          "Belarus",
          "Belarus",
          "Belarus",
          "Belarus",
          "Belgium",
          "Belgium",
          "Belgium",
          "Belgium",
          "Benin",
          "Benin",
          "Benin",
          "Benin",
          "Bolivia",
          "Bolivia",
          "Bolivia",
          "Bolivia",
          "Bosnia and Herzegovina",
          "Bosnia and Herzegovina",
          "Bosnia and Herzegovina",
          "Bosnia and Herzegovina",
          "Botswana",
          "Botswana",
          "Botswana",
          "Botswana",
          "Brazil",
          "Brazil",
          "Brazil",
          "Brazil",
          "Bulgaria",
          "Bulgaria",
          "Bulgaria",
          "Bulgaria",
          "Burkina Faso",
          "Burkina Faso",
          "Burkina Faso",
          "Burkina Faso",
          "Burundi",
          "Burundi",
          "Burundi",
          "Burundi",
          "Cambodia",
          "Cambodia",
          "Cambodia",
          "Cambodia",
          "Cameroon",
          "Cameroon",
          "Cameroon",
          "Cameroon",
          "Canada",
          "Canada",
          "Canada",
          "Canada",
          "Chad",
          "Chad",
          "Chad",
          "Chad",
          "Chile",
          "Chile",
          "Chile",
          "Chile",
          "China",
          "China",
          "China",
          "China",
          "China",
          "China",
          "China",
          "China",
          "Colombia",
          "Colombia",
          "Colombia",
          "Colombia",
          "Costa Rica",
          "Costa Rica",
          "Costa Rica",
          "Costa Rica",
          "Croatia",
          "Croatia",
          "Croatia",
          "Croatia",
          "Cyprus",
          "Cyprus",
          "Cyprus",
          "Cyprus",
          "Denmark",
          "Denmark",
          "Denmark",
          "Denmark",
          "Dominican Republic",
          "Dominican Republic",
          "Dominican Republic",
          "Dominican Republic",
          "Ecuador",
          "Ecuador",
          "Ecuador",
          "Ecuador",
          "Egypt",
          "Egypt",
          "Egypt",
          "Egypt",
          "El Salvador",
          "El Salvador",
          "El Salvador",
          "El Salvador",
          "Estonia",
          "Estonia",
          "Estonia",
          "Estonia",
          "Ethiopia",
          "Ethiopia",
          "Ethiopia",
          "Ethiopia",
          "Finland",
          "Finland",
          "Finland",
          "Finland",
          "France",
          "France",
          "France",
          "France",
          "Gabon",
          "Gabon",
          "Gabon",
          "Gabon",
          "Georgia",
          "Georgia",
          "Georgia",
          "Georgia",
          "Germany",
          "Germany",
          "Germany",
          "Germany",
          "Ghana",
          "Ghana",
          "Ghana",
          "Ghana",
          "Greece",
          "Greece",
          "Greece",
          "Greece",
          "Guatemala",
          "Guatemala",
          "Guatemala",
          "Guatemala",
          "Guinea",
          "Guinea",
          "Guinea",
          "Guinea",
          "Haiti",
          "Haiti",
          "Haiti",
          "Haiti",
          "Honduras",
          "Honduras",
          "Honduras",
          "Honduras",
          "Hungary",
          "Hungary",
          "Hungary",
          "Hungary",
          "Iceland",
          "Iceland",
          "Iceland",
          "Iceland",
          "India",
          "India",
          "India",
          "India",
          "Indonesia",
          "Indonesia",
          "Indonesia",
          "Indonesia",
          "Iran",
          "Iran",
          "Iran",
          "Iran",
          "Iraq",
          "Iraq",
          "Iraq",
          "Iraq",
          "Ireland",
          "Ireland",
          "Ireland",
          "Ireland",
          "Israel",
          "Israel",
          "Israel",
          "Israel",
          "Italy",
          "Italy",
          "Italy",
          "Italy",
          "Jamaica",
          "Jamaica",
          "Jamaica",
          "Jamaica",
          "Japan",
          "Japan",
          "Japan",
          "Japan",
          "Jordan",
          "Jordan",
          "Jordan",
          "Jordan",
          "Kazakhstan",
          "Kazakhstan",
          "Kazakhstan",
          "Kazakhstan",
          "Kenya",
          "Kenya",
          "Kenya",
          "Kenya",
          "Kuwait",
          "Kuwait",
          "Kuwait",
          "Kuwait",
          "Kyrgyzstan",
          "Kyrgyzstan",
          "Kyrgyzstan",
          "Kyrgyzstan",
          "Latvia",
          "Latvia",
          "Latvia",
          "Latvia",
          "Lebanon",
          "Lebanon",
          "Lebanon",
          "Lebanon",
          "Liberia",
          "Liberia",
          "Liberia",
          "Liberia",
          "Libya",
          "Libya",
          "Libya",
          "Libya",
          "Lithuania",
          "Lithuania",
          "Lithuania",
          "Lithuania",
          "Luxembourg",
          "Luxembourg",
          "Luxembourg",
          "Luxembourg",
          "Madagascar",
          "Madagascar",
          "Madagascar",
          "Madagascar",
          "Malawi",
          "Malawi",
          "Malawi",
          "Malawi",
          "Malaysia",
          "Malaysia",
          "Malaysia",
          "Malaysia",
          "Mali",
          "Mali",
          "Mali",
          "Mali",
          "Malta",
          "Malta",
          "Malta",
          "Malta",
          "Mauritania",
          "Mauritania",
          "Mauritania",
          "Mauritania",
          "Mauritius",
          "Mauritius",
          "Mauritius",
          "Mauritius",
          "Mexico",
          "Mexico",
          "Mexico",
          "Mexico",
          "Moldova",
          "Moldova",
          "Moldova",
          "Moldova",
          "Mongolia",
          "Mongolia",
          "Mongolia",
          "Mongolia",
          "Montenegro",
          "Montenegro",
          "Montenegro",
          "Montenegro",
          "Morocco",
          "Morocco",
          "Morocco",
          "Morocco",
          "Myanmar",
          "Myanmar",
          "Myanmar",
          "Myanmar",
          "Nepal",
          "Nepal",
          "Nepal",
          "Nepal",
          "Netherlands",
          "Netherlands",
          "Netherlands",
          "Netherlands",
          "New Zealand",
          "New Zealand",
          "New Zealand",
          "New Zealand",
          "Nicaragua",
          "Nicaragua",
          "Nicaragua",
          "Nicaragua",
          "Niger",
          "Niger",
          "Niger",
          "Niger",
          "Nigeria",
          "Nigeria",
          "Nigeria",
          "Nigeria",
          "Norway",
          "Norway",
          "Norway",
          "Norway",
          "Pakistan",
          "Pakistan",
          "Pakistan",
          "Pakistan",
          "Panama",
          "Panama",
          "Panama",
          "Panama",
          "Paraguay",
          "Paraguay",
          "Paraguay",
          "Paraguay",
          "Peru",
          "Peru",
          "Peru",
          "Peru",
          "Philippines",
          "Philippines",
          "Philippines",
          "Philippines",
          "Poland",
          "Poland",
          "Poland",
          "Poland",
          "Portugal",
          "Portugal",
          "Portugal",
          "Portugal",
          "Romania",
          "Romania",
          "Romania",
          "Romania",
          "Russia",
          "Russia",
          "Russia",
          "Russia",
          "Rwanda",
          "Rwanda",
          "Rwanda",
          "Rwanda",
          "Saudi Arabia",
          "Saudi Arabia",
          "Saudi Arabia",
          "Saudi Arabia",
          "Senegal",
          "Senegal",
          "Senegal",
          "Senegal",
          "Serbia",
          "Serbia",
          "Serbia",
          "Serbia",
          "Sierra Leone",
          "Sierra Leone",
          "Sierra Leone",
          "Sierra Leone",
          "Singapore",
          "Singapore",
          "Singapore",
          "Singapore",
          "Slovakia",
          "Slovakia",
          "Slovakia",
          "Slovakia",
          "Slovenia",
          "Slovenia",
          "Slovenia",
          "Slovenia",
          "South Africa",
          "South Africa",
          "South Africa",
          "South Africa",
          "Spain",
          "Spain",
          "Spain",
          "Spain",
          "Sri Lanka",
          "Sri Lanka",
          "Sri Lanka",
          "Sri Lanka",
          "Sweden",
          "Sweden",
          "Sweden",
          "Sweden",
          "Switzerland",
          "Switzerland",
          "Switzerland",
          "Switzerland",
          "Tajikistan",
          "Tajikistan",
          "Tajikistan",
          "Tajikistan",
          "Tanzania",
          "Tanzania",
          "Tanzania",
          "Tanzania",
          "Thailand",
          "Thailand",
          "Thailand",
          "Thailand",
          "Togo",
          "Togo",
          "Togo",
          "Togo",
          "Tunisia",
          "Tunisia",
          "Tunisia",
          "Tunisia",
          "Turkey",
          "Turkey",
          "Turkey",
          "Turkey",
          "Turkmenistan",
          "Turkmenistan",
          "Turkmenistan",
          "Turkmenistan",
          "Uganda",
          "Uganda",
          "Uganda",
          "Uganda",
          "Ukraine",
          "Ukraine",
          "Ukraine",
          "Ukraine",
          "United Arab Emirates",
          "United Arab Emirates",
          "United Arab Emirates",
          "United Arab Emirates",
          "United Kingdom",
          "United Kingdom",
          "United Kingdom",
          "United Kingdom",
          "United States",
          "United States",
          "United States",
          "United States",
          "Uruguay",
          "Uruguay",
          "Uruguay",
          "Uruguay",
          "Uzbekistan",
          "Uzbekistan",
          "Uzbekistan",
          "Uzbekistan",
          "Venezuela",
          "Venezuela",
          "Venezuela",
          "Venezuela",
          "Vietnam",
          "Vietnam",
          "Vietnam",
          "Vietnam",
          "Yemen",
          "Yemen",
          "Yemen",
          "Yemen",
          "Zambia",
          "Zambia",
          "Zambia",
          "Zambia",
          "Zimbabwe",
          "Zimbabwe",
          "Zimbabwe",
          "Zimbabwe"
         ],
         "type": "scatter",
         "x": [
          0.275,
          0.275,
          0.275,
          0.275,
          0.8021,
          0.8021,
          0.8021,
          0.8021,
          0.6768,
          0.6768,
          0.6768,
          0.6768,
          0.7768,
          0.7768,
          0.7768,
          0.7768,
          0.7121,
          0.7121,
          0.7121,
          0.7121,
          0.9304,
          0.9304,
          0.9304,
          0.9304,
          0.9032,
          0.9032,
          0.9032,
          0.9032,
          0.6383,
          0.6383,
          0.6383,
          0.6383,
          0.7423,
          0.7423,
          0.7423,
          0.7423,
          0.6092,
          0.6092,
          0.6092,
          0.6092,
          0.7157,
          0.7157,
          0.7157,
          0.7157,
          0.8987,
          0.8987,
          0.8987,
          0.8987,
          0.2915,
          0.2915,
          0.2915,
          0.2915,
          0.5567,
          0.5567,
          0.5567,
          0.5567,
          0.7747,
          0.7747,
          0.7747,
          0.7747,
          0.3361,
          0.3361,
          0.3361,
          0.3361,
          0.6976,
          0.6976,
          0.6976,
          0.6976,
          0.7504,
          0.7504,
          0.7504,
          0.7504,
          0.2803,
          0.2803,
          0.2803,
          0.2803,
          0.2251,
          0.2251,
          0.2251,
          0.2251,
          0.5337,
          0.5337,
          0.5337,
          0.5337,
          0.22,
          0.22,
          0.22,
          0.22,
          0.9188,
          0.9188,
          0.9188,
          0.9188,
          0.1091,
          0.1091,
          0.1091,
          0.1091,
          0.8515,
          0.8515,
          0.8515,
          0.8515,
          0.8125,
          0.8125,
          0.8125,
          0.8125,
          0.8125,
          0.8125,
          0.8125,
          0.8125,
          0.6904,
          0.6904,
          0.6904,
          0.6904,
          0.8499,
          0.8499,
          0.8499,
          0.8499,
          0.7851,
          0.7851,
          0.7851,
          0.7851,
          0.9298,
          0.9298,
          0.9298,
          0.9298,
          0.8828,
          0.8828,
          0.8828,
          0.8828,
          0.659,
          0.659,
          0.659,
          0.659,
          0.7701,
          0.7701,
          0.7701,
          0.7701,
          0.5836,
          0.5836,
          0.5836,
          0.5836,
          0.6753,
          0.6753,
          0.6753,
          0.6753,
          0.7699,
          0.7699,
          0.7699,
          0.7699,
          0.4292,
          0.4292,
          0.4292,
          0.4292,
          0.8896,
          0.8896,
          0.8896,
          0.8896,
          0.9358,
          0.9358,
          0.9358,
          0.9358,
          0.4413,
          0.4413,
          0.4413,
          0.4413,
          0.6935,
          0.6935,
          0.6935,
          0.6935,
          0.8847,
          0.8847,
          0.8847,
          0.8847,
          0.38,
          0.38,
          0.38,
          0.38,
          0.8926,
          0.8926,
          0.8926,
          0.8926,
          0.6346,
          0.6346,
          0.6346,
          0.6346,
          0.2551,
          0.2551,
          0.2551,
          0.2551,
          0.3509,
          0.3509,
          0.3509,
          0.3509,
          0.6819,
          0.6819,
          0.6819,
          0.6819,
          0.7517,
          0.7517,
          0.7517,
          0.7517,
          0.9303,
          0.9303,
          0.9303,
          0.9303,
          0.5109,
          0.5109,
          0.5109,
          0.5109,
          0.5781,
          0.5781,
          0.5781,
          0.5781,
          0.7033,
          0.7033,
          0.7033,
          0.7033,
          0.5534,
          0.5534,
          0.5534,
          0.5534,
          0.895,
          0.895,
          0.895,
          0.895,
          0.9161,
          0.9161,
          0.9161,
          0.9161,
          0.9482,
          0.9482,
          0.9482,
          0.9482,
          0.7131,
          0.7131,
          0.7131,
          0.7131,
          0.9951,
          0.9951,
          0.9951,
          0.9951,
          0.6902,
          0.6902,
          0.6902,
          0.6902,
          0.6524,
          0.6524,
          0.6524,
          0.6524,
          0.4398,
          0.4398,
          0.4398,
          0.4398,
          0.71,
          0.71,
          0.71,
          0.71,
          0.6303,
          0.6303,
          0.6303,
          0.6303,
          0.7115,
          0.7115,
          0.7115,
          0.7115,
          0.7936,
          0.7936,
          0.7936,
          0.7936,
          0.3205,
          0.3205,
          0.3205,
          0.3205,
          0.6125,
          0.6125,
          0.6125,
          0.6125,
          0.7236,
          0.7236,
          0.7236,
          0.7236,
          0.918,
          0.918,
          0.918,
          0.918,
          0.4499,
          0.4499,
          0.4499,
          0.4499,
          0.3354,
          0.3354,
          0.3354,
          0.3354,
          0.7099,
          0.7099,
          0.7099,
          0.7099,
          0.2088,
          0.2088,
          0.2088,
          0.2088,
          0.898,
          0.898,
          0.898,
          0.898,
          0.3563,
          0.3563,
          0.3563,
          0.3563,
          0.7074,
          0.7074,
          0.7074,
          0.7074,
          0.7866,
          0.7866,
          0.7866,
          0.7866,
          0.6417,
          0.6417,
          0.6417,
          0.6417,
          0.6006,
          0.6006,
          0.6006,
          0.6006,
          0.7482,
          0.7482,
          0.7482,
          0.7482,
          0.6646,
          0.6646,
          0.6646,
          0.6646,
          0.466,
          0.466,
          0.466,
          0.466,
          0.5722,
          0.5722,
          0.5722,
          0.5722,
          0.8951,
          0.8951,
          0.8951,
          0.8951,
          0.9068,
          0.9068,
          0.9068,
          0.9068,
          0.7328,
          0.7328,
          0.7328,
          0.7328,
          0.2881,
          0.2881,
          0.2881,
          0.2881,
          0.1275,
          0.1275,
          0.1275,
          0.1275,
          0.8927,
          0.8927,
          0.8927,
          0.8927,
          0.4689,
          0.4689,
          0.4689,
          0.4689,
          0.7929,
          0.7929,
          0.7929,
          0.7929,
          0.6581,
          0.6581,
          0.6581,
          0.6581,
          0.7221,
          0.7221,
          0.7221,
          0.7221,
          0.5548,
          0.5548,
          0.5548,
          0.5548,
          0.7859,
          0.7859,
          0.7859,
          0.7859,
          0.8885,
          0.8885,
          0.8885,
          0.8885,
          0.7513,
          0.7513,
          0.7513,
          0.7513,
          0.6354,
          0.6354,
          0.6354,
          0.6354,
          0.4423,
          0.4423,
          0.4423,
          0.4423,
          0.6846,
          0.6846,
          0.6846,
          0.6846,
          0.4622,
          0.4622,
          0.4622,
          0.4622,
          0.7345,
          0.7345,
          0.7345,
          0.7345,
          0.0619,
          0.0619,
          0.0619,
          0.0619,
          1.0309,
          1.0309,
          1.0309,
          1.0309,
          0.7897,
          0.7897,
          0.7897,
          0.7897,
          0.8683,
          0.8683,
          0.8683,
          0.8683,
          0.3157,
          0.3157,
          0.3157,
          0.3157,
          0.9679,
          0.9679,
          0.9679,
          0.9679,
          0.709,
          0.709,
          0.709,
          0.709,
          0.9159,
          0.9159,
          0.9159,
          0.9159,
          0.9446,
          0.9446,
          0.9446,
          0.9446,
          0.6048,
          0.6048,
          0.6048,
          0.6048,
          0.4067,
          0.4067,
          0.4067,
          0.4067,
          0.7302,
          0.7302,
          0.7302,
          0.7302,
          0.2986,
          0.2986,
          0.2986,
          0.2986,
          0.714,
          0.714,
          0.714,
          0.714,
          0.7158,
          0.7158,
          0.7158,
          0.7158,
          0.5376,
          0.5376,
          0.5376,
          0.5376,
          0.3091,
          0.3091,
          0.3091,
          0.3091,
          0.6495,
          0.6495,
          0.6495,
          0.6495,
          0.7578,
          0.7578,
          0.7578,
          0.7578,
          0.8997,
          0.8997,
          0.8997,
          0.8997,
          0.8323,
          0.8323,
          0.8323,
          0.8323,
          0.7982,
          0.7982,
          0.7982,
          0.7982,
          0.6142,
          0.6142,
          0.6142,
          0.6142,
          0.6999,
          0.6999,
          0.6999,
          0.6999,
          0.738,
          0.738,
          0.738,
          0.738,
          0.3792,
          0.3792,
          0.3792,
          0.3792,
          0.3195,
          0.3195,
          0.3195,
          0.3195,
          0.3031,
          0.3031,
          0.3031,
          0.3031
         ],
         "xaxis": "x3",
         "y": [
          3.551,
          3.551,
          3.551,
          3.551,
          4.727,
          4.727,
          4.727,
          4.727,
          5.4958,
          5.4958,
          5.4958,
          5.4958,
          6.4117,
          6.4117,
          6.4117,
          6.4117,
          4.4015,
          4.4015,
          4.4015,
          4.4015,
          7.267,
          7.267,
          7.267,
          7.267,
          7.1478,
          7.1478,
          7.1478,
          7.1478,
          5.2138,
          5.2138,
          5.2138,
          5.2138,
          6.0877,
          6.0877,
          6.0877,
          6.0877,
          4.5645,
          4.5645,
          4.5645,
          4.5645,
          5.547,
          5.547,
          5.547,
          5.547,
          6.9195,
          6.9195,
          6.9195,
          6.9195,
          4.0053,
          4.0053,
          4.0053,
          4.0053,
          5.811,
          5.811,
          5.811,
          5.811,
          5.1615,
          5.1615,
          5.1615,
          5.1615,
          3.794,
          3.794,
          3.794,
          3.794,
          6.5843,
          6.5843,
          6.5843,
          6.5843,
          4.719,
          4.719,
          4.719,
          4.719,
          4.1575,
          4.1575,
          4.1575,
          4.1575,
          3.1225,
          3.1225,
          3.1225,
          3.1225,
          4.28,
          4.28,
          4.28,
          4.28,
          4.7415,
          4.7415,
          4.7415,
          4.7415,
          7.3372,
          7.3372,
          7.3372,
          7.3372,
          4.0635,
          4.0635,
          4.0635,
          4.0635,
          6.5605,
          6.5605,
          6.5605,
          6.5605,
          5.2125,
          5.2125,
          5.2125,
          5.2125,
          5.2125,
          5.2125,
          5.2125,
          5.2125,
          6.3047,
          6.3047,
          6.3047,
          6.3047,
          7.136,
          7.136,
          7.136,
          7.136,
          5.4513,
          5.4513,
          5.4513,
          5.4513,
          5.7795,
          5.7795,
          5.7795,
          5.7795,
          7.551,
          7.551,
          7.551,
          7.551,
          5.2105,
          5.2105,
          5.2105,
          5.2105,
          5.996,
          5.996,
          5.996,
          5.996,
          4.3785,
          4.3785,
          4.3785,
          4.3785,
          6.1382,
          6.1382,
          6.1382,
          6.1382,
          5.668,
          5.668,
          5.668,
          5.668,
          4.402,
          4.402,
          4.402,
          4.402,
          7.569,
          7.569,
          7.569,
          7.569,
          6.5245,
          6.5245,
          6.5245,
          6.5245,
          4.4795,
          4.4795,
          4.4795,
          4.4795,
          4.3605,
          4.3605,
          4.3605,
          4.3605,
          6.9128,
          6.9128,
          6.9128,
          6.9128,
          4.6015,
          4.6015,
          4.6015,
          4.6015,
          5.1823,
          5.1823,
          5.1823,
          5.1823,
          6.3487,
          6.3487,
          6.3487,
          6.3487,
          3.9152,
          3.9152,
          3.9152,
          3.9152,
          3.825,
          3.825,
          3.825,
          3.825,
          5.3333,
          5.3333,
          5.3333,
          5.3333,
          5.3755,
          5.3755,
          5.3755,
          5.3755,
          7.5135,
          7.5135,
          7.5135,
          7.5135,
          4.2713,
          4.2713,
          4.2713,
          4.2713,
          5.2365,
          5.2365,
          5.2365,
          5.2365,
          4.6582,
          4.6582,
          4.6582,
          4.6582,
          4.5168,
          4.5168,
          4.5168,
          4.5168,
          6.9788,
          6.9788,
          6.9788,
          6.9788,
          7.111,
          7.111,
          7.111,
          7.111,
          6.0338,
          6.0338,
          6.0338,
          6.0338,
          5.7,
          5.7,
          5.7,
          5.7,
          5.927,
          5.927,
          5.927,
          5.927,
          5.1487,
          5.1487,
          5.1487,
          5.1487,
          5.8182,
          5.8182,
          5.8182,
          5.8182,
          4.4727,
          4.4727,
          4.4727,
          4.4727,
          6.126,
          6.126,
          6.126,
          6.126,
          5.1705,
          5.1705,
          5.1705,
          5.1705,
          5.7052,
          5.7052,
          5.7052,
          5.7052,
          5.1547,
          5.1547,
          5.1547,
          5.1547,
          3.8935,
          3.8935,
          3.8935,
          3.8935,
          5.5925,
          5.5925,
          5.5925,
          5.5925,
          5.959,
          5.959,
          5.959,
          5.959,
          6.9522,
          6.9522,
          6.9522,
          6.9522,
          3.758,
          3.758,
          3.758,
          3.758,
          3.8148,
          3.8148,
          3.8148,
          3.8148,
          5.8788,
          5.8788,
          5.8788,
          5.8788,
          4.2555,
          4.2555,
          4.2555,
          4.2555,
          6.5455,
          6.5455,
          6.5455,
          6.5455,
          4.3935,
          4.3935,
          4.3935,
          4.3935,
          5.7213,
          5.7213,
          5.7213,
          5.7213,
          6.712,
          6.712,
          6.712,
          6.712,
          5.724,
          5.724,
          5.724,
          5.724,
          5.0597,
          5.0597,
          5.0597,
          5.0597,
          5.3247,
          5.3247,
          5.3247,
          5.3247,
          5.1775,
          5.1775,
          5.1775,
          5.1775,
          4.38,
          4.38,
          4.38,
          4.38,
          4.8172,
          4.8172,
          4.8172,
          4.8172,
          7.421,
          7.421,
          7.421,
          7.421,
          7.3078,
          7.3078,
          7.3078,
          7.3078,
          6.0363,
          6.0363,
          6.0363,
          6.0363,
          4.1667,
          4.1667,
          4.1667,
          4.1667,
          5.1905,
          5.1905,
          5.1905,
          5.1905,
          7.5518,
          7.5518,
          7.5518,
          7.5518,
          5.397,
          5.397,
          5.397,
          5.397,
          6.4973,
          6.4973,
          6.4973,
          6.4973,
          5.6988,
          5.6988,
          5.6988,
          5.6988,
          5.7248,
          5.7248,
          5.7248,
          5.7248,
          5.4145,
          5.4145,
          5.4145,
          5.4145,
          6.0173,
          6.0173,
          6.0173,
          6.0173,
          5.35,
          5.35,
          5.35,
          5.35,
          5.741,
          5.741,
          5.741,
          5.741,
          5.7842,
          5.7842,
          5.7842,
          5.7842,
          3.4195,
          3.4195,
          3.4195,
          3.4195,
          6.3752,
          6.3752,
          6.3752,
          6.3752,
          4.4377,
          4.4377,
          4.4377,
          4.4377,
          5.3797,
          5.3797,
          5.3797,
          5.3797,
          4.5403,
          4.5403,
          4.5403,
          4.5403,
          6.4938,
          6.4938,
          6.4938,
          6.4938,
          6.116,
          6.116,
          6.116,
          6.116,
          5.918,
          5.918,
          5.918,
          5.918,
          4.7292,
          4.7292,
          4.7292,
          4.7292,
          6.349,
          6.349,
          6.349,
          6.349,
          4.387,
          4.387,
          4.387,
          4.387,
          7.3262,
          7.3262,
          7.3262,
          7.3262,
          7.512,
          7.512,
          7.512,
          7.512,
          5.1232,
          5.1232,
          5.1232,
          5.1232,
          3.416,
          3.416,
          3.416,
          3.416,
          6.2397,
          6.2397,
          6.2397,
          6.2397,
          3.6045,
          3.6045,
          3.6045,
          3.6045,
          4.6492,
          4.6492,
          4.6492,
          4.6492,
          5.422,
          5.422,
          5.422,
          5.422,
          5.5633,
          5.5633,
          5.5633,
          5.5633,
          4.0905,
          4.0905,
          4.0905,
          4.0905,
          4.303,
          4.303,
          4.303,
          4.303,
          6.787,
          6.787,
          6.787,
          6.787,
          6.9563,
          6.9563,
          6.9563,
          6.9563,
          6.9725,
          6.9725,
          6.9725,
          6.9725,
          6.4027,
          6.4027,
          6.4027,
          6.4027,
          6.061,
          6.061,
          6.061,
          6.061,
          5.3932,
          5.3932,
          5.3932,
          5.3932,
          5.178,
          5.178,
          5.178,
          5.178,
          3.6012,
          3.6012,
          3.6012,
          3.6012,
          4.5317,
          4.5317,
          4.5317,
          4.5317,
          3.96,
          3.96,
          3.96,
          3.96
         ],
         "yaxis": "y3"
        },
        {
         "hovertemplate": "Country: %{text}<br>Happiness: %{y:.2f}<extra></extra>",
         "mode": "markers",
         "name": "Freedom",
         "text": [
          "Afghanistan",
          "Afghanistan",
          "Afghanistan",
          "Afghanistan",
          "Albania",
          "Albania",
          "Albania",
          "Albania",
          "Algeria",
          "Algeria",
          "Algeria",
          "Algeria",
          "Argentina",
          "Argentina",
          "Argentina",
          "Argentina",
          "Armenia",
          "Armenia",
          "Armenia",
          "Armenia",
          "Australia",
          "Australia",
          "Australia",
          "Australia",
          "Austria",
          "Austria",
          "Austria",
          "Austria",
          "Azerbaijan",
          "Azerbaijan",
          "Azerbaijan",
          "Azerbaijan",
          "Bahrain",
          "Bahrain",
          "Bahrain",
          "Bahrain",
          "Bangladesh",
          "Bangladesh",
          "Bangladesh",
          "Bangladesh",
          "Belarus",
          "Belarus",
          "Belarus",
          "Belarus",
          "Belgium",
          "Belgium",
          "Belgium",
          "Belgium",
          "Benin",
          "Benin",
          "Benin",
          "Benin",
          "Bolivia",
          "Bolivia",
          "Bolivia",
          "Bolivia",
          "Bosnia and Herzegovina",
          "Bosnia and Herzegovina",
          "Bosnia and Herzegovina",
          "Bosnia and Herzegovina",
          "Botswana",
          "Botswana",
          "Botswana",
          "Botswana",
          "Brazil",
          "Brazil",
          "Brazil",
          "Brazil",
          "Bulgaria",
          "Bulgaria",
          "Bulgaria",
          "Bulgaria",
          "Burkina Faso",
          "Burkina Faso",
          "Burkina Faso",
          "Burkina Faso",
          "Burundi",
          "Burundi",
          "Burundi",
          "Burundi",
          "Cambodia",
          "Cambodia",
          "Cambodia",
          "Cambodia",
          "Cameroon",
          "Cameroon",
          "Cameroon",
          "Cameroon",
          "Canada",
          "Canada",
          "Canada",
          "Canada",
          "Chad",
          "Chad",
          "Chad",
          "Chad",
          "Chile",
          "Chile",
          "Chile",
          "Chile",
          "China",
          "China",
          "China",
          "China",
          "China",
          "China",
          "China",
          "China",
          "Colombia",
          "Colombia",
          "Colombia",
          "Colombia",
          "Costa Rica",
          "Costa Rica",
          "Costa Rica",
          "Costa Rica",
          "Croatia",
          "Croatia",
          "Croatia",
          "Croatia",
          "Cyprus",
          "Cyprus",
          "Cyprus",
          "Cyprus",
          "Denmark",
          "Denmark",
          "Denmark",
          "Denmark",
          "Dominican Republic",
          "Dominican Republic",
          "Dominican Republic",
          "Dominican Republic",
          "Ecuador",
          "Ecuador",
          "Ecuador",
          "Ecuador",
          "Egypt",
          "Egypt",
          "Egypt",
          "Egypt",
          "El Salvador",
          "El Salvador",
          "El Salvador",
          "El Salvador",
          "Estonia",
          "Estonia",
          "Estonia",
          "Estonia",
          "Ethiopia",
          "Ethiopia",
          "Ethiopia",
          "Ethiopia",
          "Finland",
          "Finland",
          "Finland",
          "Finland",
          "France",
          "France",
          "France",
          "France",
          "Gabon",
          "Gabon",
          "Gabon",
          "Gabon",
          "Georgia",
          "Georgia",
          "Georgia",
          "Georgia",
          "Germany",
          "Germany",
          "Germany",
          "Germany",
          "Ghana",
          "Ghana",
          "Ghana",
          "Ghana",
          "Greece",
          "Greece",
          "Greece",
          "Greece",
          "Guatemala",
          "Guatemala",
          "Guatemala",
          "Guatemala",
          "Guinea",
          "Guinea",
          "Guinea",
          "Guinea",
          "Haiti",
          "Haiti",
          "Haiti",
          "Haiti",
          "Honduras",
          "Honduras",
          "Honduras",
          "Honduras",
          "Hungary",
          "Hungary",
          "Hungary",
          "Hungary",
          "Iceland",
          "Iceland",
          "Iceland",
          "Iceland",
          "India",
          "India",
          "India",
          "India",
          "Indonesia",
          "Indonesia",
          "Indonesia",
          "Indonesia",
          "Iran",
          "Iran",
          "Iran",
          "Iran",
          "Iraq",
          "Iraq",
          "Iraq",
          "Iraq",
          "Ireland",
          "Ireland",
          "Ireland",
          "Ireland",
          "Israel",
          "Israel",
          "Israel",
          "Israel",
          "Italy",
          "Italy",
          "Italy",
          "Italy",
          "Jamaica",
          "Jamaica",
          "Jamaica",
          "Jamaica",
          "Japan",
          "Japan",
          "Japan",
          "Japan",
          "Jordan",
          "Jordan",
          "Jordan",
          "Jordan",
          "Kazakhstan",
          "Kazakhstan",
          "Kazakhstan",
          "Kazakhstan",
          "Kenya",
          "Kenya",
          "Kenya",
          "Kenya",
          "Kuwait",
          "Kuwait",
          "Kuwait",
          "Kuwait",
          "Kyrgyzstan",
          "Kyrgyzstan",
          "Kyrgyzstan",
          "Kyrgyzstan",
          "Latvia",
          "Latvia",
          "Latvia",
          "Latvia",
          "Lebanon",
          "Lebanon",
          "Lebanon",
          "Lebanon",
          "Liberia",
          "Liberia",
          "Liberia",
          "Liberia",
          "Libya",
          "Libya",
          "Libya",
          "Libya",
          "Lithuania",
          "Lithuania",
          "Lithuania",
          "Lithuania",
          "Luxembourg",
          "Luxembourg",
          "Luxembourg",
          "Luxembourg",
          "Madagascar",
          "Madagascar",
          "Madagascar",
          "Madagascar",
          "Malawi",
          "Malawi",
          "Malawi",
          "Malawi",
          "Malaysia",
          "Malaysia",
          "Malaysia",
          "Malaysia",
          "Mali",
          "Mali",
          "Mali",
          "Mali",
          "Malta",
          "Malta",
          "Malta",
          "Malta",
          "Mauritania",
          "Mauritania",
          "Mauritania",
          "Mauritania",
          "Mauritius",
          "Mauritius",
          "Mauritius",
          "Mauritius",
          "Mexico",
          "Mexico",
          "Mexico",
          "Mexico",
          "Moldova",
          "Moldova",
          "Moldova",
          "Moldova",
          "Mongolia",
          "Mongolia",
          "Mongolia",
          "Mongolia",
          "Montenegro",
          "Montenegro",
          "Montenegro",
          "Montenegro",
          "Morocco",
          "Morocco",
          "Morocco",
          "Morocco",
          "Myanmar",
          "Myanmar",
          "Myanmar",
          "Myanmar",
          "Nepal",
          "Nepal",
          "Nepal",
          "Nepal",
          "Netherlands",
          "Netherlands",
          "Netherlands",
          "Netherlands",
          "New Zealand",
          "New Zealand",
          "New Zealand",
          "New Zealand",
          "Nicaragua",
          "Nicaragua",
          "Nicaragua",
          "Nicaragua",
          "Niger",
          "Niger",
          "Niger",
          "Niger",
          "Nigeria",
          "Nigeria",
          "Nigeria",
          "Nigeria",
          "Norway",
          "Norway",
          "Norway",
          "Norway",
          "Pakistan",
          "Pakistan",
          "Pakistan",
          "Pakistan",
          "Panama",
          "Panama",
          "Panama",
          "Panama",
          "Paraguay",
          "Paraguay",
          "Paraguay",
          "Paraguay",
          "Peru",
          "Peru",
          "Peru",
          "Peru",
          "Philippines",
          "Philippines",
          "Philippines",
          "Philippines",
          "Poland",
          "Poland",
          "Poland",
          "Poland",
          "Portugal",
          "Portugal",
          "Portugal",
          "Portugal",
          "Romania",
          "Romania",
          "Romania",
          "Romania",
          "Russia",
          "Russia",
          "Russia",
          "Russia",
          "Rwanda",
          "Rwanda",
          "Rwanda",
          "Rwanda",
          "Saudi Arabia",
          "Saudi Arabia",
          "Saudi Arabia",
          "Saudi Arabia",
          "Senegal",
          "Senegal",
          "Senegal",
          "Senegal",
          "Serbia",
          "Serbia",
          "Serbia",
          "Serbia",
          "Sierra Leone",
          "Sierra Leone",
          "Sierra Leone",
          "Sierra Leone",
          "Singapore",
          "Singapore",
          "Singapore",
          "Singapore",
          "Slovakia",
          "Slovakia",
          "Slovakia",
          "Slovakia",
          "Slovenia",
          "Slovenia",
          "Slovenia",
          "Slovenia",
          "South Africa",
          "South Africa",
          "South Africa",
          "South Africa",
          "Spain",
          "Spain",
          "Spain",
          "Spain",
          "Sri Lanka",
          "Sri Lanka",
          "Sri Lanka",
          "Sri Lanka",
          "Sweden",
          "Sweden",
          "Sweden",
          "Sweden",
          "Switzerland",
          "Switzerland",
          "Switzerland",
          "Switzerland",
          "Tajikistan",
          "Tajikistan",
          "Tajikistan",
          "Tajikistan",
          "Tanzania",
          "Tanzania",
          "Tanzania",
          "Tanzania",
          "Thailand",
          "Thailand",
          "Thailand",
          "Thailand",
          "Togo",
          "Togo",
          "Togo",
          "Togo",
          "Tunisia",
          "Tunisia",
          "Tunisia",
          "Tunisia",
          "Turkey",
          "Turkey",
          "Turkey",
          "Turkey",
          "Turkmenistan",
          "Turkmenistan",
          "Turkmenistan",
          "Turkmenistan",
          "Uganda",
          "Uganda",
          "Uganda",
          "Uganda",
          "Ukraine",
          "Ukraine",
          "Ukraine",
          "Ukraine",
          "United Arab Emirates",
          "United Arab Emirates",
          "United Arab Emirates",
          "United Arab Emirates",
          "United Kingdom",
          "United Kingdom",
          "United Kingdom",
          "United Kingdom",
          "United States",
          "United States",
          "United States",
          "United States",
          "Uruguay",
          "Uruguay",
          "Uruguay",
          "Uruguay",
          "Uzbekistan",
          "Uzbekistan",
          "Uzbekistan",
          "Uzbekistan",
          "Venezuela",
          "Venezuela",
          "Venezuela",
          "Venezuela",
          "Vietnam",
          "Vietnam",
          "Vietnam",
          "Vietnam",
          "Yemen",
          "Yemen",
          "Yemen",
          "Yemen",
          "Zambia",
          "Zambia",
          "Zambia",
          "Zambia",
          "Zimbabwe",
          "Zimbabwe",
          "Zimbabwe",
          "Zimbabwe"
         ],
         "type": "scatter",
         "x": [
          0.1063,
          0.1063,
          0.1063,
          0.1063,
          0.3852,
          0.3852,
          0.3852,
          0.3852,
          0.1705,
          0.1705,
          0.1705,
          0.1705,
          0.4963,
          0.4963,
          0.4963,
          0.4963,
          0.2349,
          0.2349,
          0.2349,
          0.2349,
          0.6142,
          0.6142,
          0.6142,
          0.6142,
          0.5853,
          0.5853,
          0.5853,
          0.5853,
          0.3874,
          0.3874,
          0.3874,
          0.3874,
          0.5304,
          0.5304,
          0.5304,
          0.5304,
          0.4984,
          0.4984,
          0.4984,
          0.4984,
          0.3042,
          0.3042,
          0.3042,
          0.3042,
          0.5451,
          0.5451,
          0.5451,
          0.5451,
          0.4249,
          0.4249,
          0.4249,
          0.4249,
          0.5625,
          0.5625,
          0.5625,
          0.5625,
          0.1972,
          0.1972,
          0.1972,
          0.1972,
          0.503,
          0.503,
          0.503,
          0.503,
          0.4527,
          0.4527,
          0.4527,
          0.4527,
          0.3163,
          0.3163,
          0.3163,
          0.3163,
          0.3216,
          0.3216,
          0.3216,
          0.3216,
          0.1159,
          0.1159,
          0.1159,
          0.1159,
          0.6502,
          0.6502,
          0.6502,
          0.6502,
          0.4396,
          0.4396,
          0.4396,
          0.4396,
          0.6203,
          0.6203,
          0.6203,
          0.6203,
          0.1901,
          0.1901,
          0.1901,
          0.1901,
          0.4016,
          0.4016,
          0.4016,
          0.4016,
          0.5269,
          0.5269,
          0.5269,
          0.5269,
          0.5269,
          0.5269,
          0.5269,
          0.5269,
          0.5033,
          0.5033,
          0.5033,
          0.5033,
          0.601,
          0.601,
          0.601,
          0.601,
          0.2977,
          0.2977,
          0.2977,
          0.2977,
          0.3977,
          0.3977,
          0.3977,
          0.3977,
          0.6376,
          0.6376,
          0.6376,
          0.6376,
          0.5511,
          0.5511,
          0.5511,
          0.5511,
          0.4987,
          0.4987,
          0.4987,
          0.4987,
          0.252,
          0.252,
          0.252,
          0.252,
          0.4317,
          0.4317,
          0.4317,
          0.4317,
          0.494,
          0.494,
          0.494,
          0.494,
          0.4098,
          0.4098,
          0.4098,
          0.4098,
          0.6342,
          0.6342,
          0.6342,
          0.6342,
          0.4941,
          0.4941,
          0.4941,
          0.4941,
          0.3206,
          0.3206,
          0.3206,
          0.3206,
          0.359,
          0.359,
          0.359,
          0.359,
          0.5646,
          0.5646,
          0.5646,
          0.5646,
          0.4316,
          0.4316,
          0.4316,
          0.4316,
          0.0927,
          0.0927,
          0.0927,
          0.0927,
          0.5619,
          0.5619,
          0.5619,
          0.5619,
          0.363,
          0.363,
          0.363,
          0.363,
          0.0814,
          0.0814,
          0.0814,
          0.0814,
          0.4289,
          0.4289,
          0.4289,
          0.4289,
          0.2387,
          0.2387,
          0.2387,
          0.2387,
          0.631,
          0.631,
          0.631,
          0.631,
          0.4762,
          0.4762,
          0.4762,
          0.4762,
          0.4846,
          0.4846,
          0.4846,
          0.4846,
          0.3284,
          0.3284,
          0.3284,
          0.3284,
          0.2084,
          0.2084,
          0.2084,
          0.2084,
          0.5802,
          0.5802,
          0.5802,
          0.5802,
          0.4308,
          0.4308,
          0.4308,
          0.4308,
          0.2577,
          0.2577,
          0.2577,
          0.2577,
          0.5109,
          0.5109,
          0.5109,
          0.5109,
          0.4999,
          0.4999,
          0.4999,
          0.4999,
          0.419,
          0.419,
          0.419,
          0.419,
          0.4545,
          0.4545,
          0.4545,
          0.4545,
          0.4525,
          0.4525,
          0.4525,
          0.4525,
          0.5246,
          0.5246,
          0.5246,
          0.5246,
          0.4844,
          0.4844,
          0.4844,
          0.4844,
          0.3124,
          0.3124,
          0.3124,
          0.3124,
          0.3367,
          0.3367,
          0.3367,
          0.3367,
          0.3518,
          0.3518,
          0.3518,
          0.3518,
          0.4486,
          0.4486,
          0.4486,
          0.4486,
          0.2722,
          0.2722,
          0.2722,
          0.2722,
          0.5926,
          0.5926,
          0.5926,
          0.5926,
          0.1875,
          0.1875,
          0.1875,
          0.1875,
          0.4679,
          0.4679,
          0.4679,
          0.4679,
          0.4491,
          0.4491,
          0.4491,
          0.4491,
          0.3473,
          0.3473,
          0.3473,
          0.3473,
          0.6004,
          0.6004,
          0.6004,
          0.6004,
          0.1334,
          0.1334,
          0.1334,
          0.1334,
          0.5335,
          0.5335,
          0.5335,
          0.5335,
          0.4516,
          0.4516,
          0.4516,
          0.4516,
          0.2615,
          0.2615,
          0.2615,
          0.2615,
          0.3856,
          0.3856,
          0.3856,
          0.3856,
          0.2084,
          0.2084,
          0.2084,
          0.2084,
          0.4258,
          0.4258,
          0.4258,
          0.4258,
          0.5149,
          0.5149,
          0.5149,
          0.5149,
          0.447,
          0.447,
          0.447,
          0.447,
          0.599,
          0.599,
          0.599,
          0.599,
          0.6269,
          0.6269,
          0.6269,
          0.6269,
          0.4911,
          0.4911,
          0.4911,
          0.4911,
          0.3871,
          0.3871,
          0.3871,
          0.3871,
          0.4066,
          0.4066,
          0.4066,
          0.4066,
          0.6485,
          0.6485,
          0.6485,
          0.6485,
          0.2508,
          0.2508,
          0.2508,
          0.2508,
          0.5513,
          0.5513,
          0.5513,
          0.5513,
          0.5169,
          0.5169,
          0.5169,
          0.5169,
          0.4625,
          0.4625,
          0.4625,
          0.4625,
          0.6029,
          0.6029,
          0.6029,
          0.6029,
          0.5201,
          0.5201,
          0.5201,
          0.5201,
          0.5208,
          0.5208,
          0.5208,
          0.5208,
          0.4494,
          0.4494,
          0.4494,
          0.4494,
          0.3684,
          0.3684,
          0.3684,
          0.3684,
          0.5912,
          0.5912,
          0.5912,
          0.5912,
          0.4271,
          0.4271,
          0.4271,
          0.4271,
          0.3609,
          0.3609,
          0.3609,
          0.3609,
          0.2449,
          0.2449,
          0.2449,
          0.2449,
          0.3478,
          0.3478,
          0.3478,
          0.3478,
          0.5698,
          0.5698,
          0.5698,
          0.5698,
          0.3253,
          0.3253,
          0.3253,
          0.3253,
          0.5945,
          0.5945,
          0.5945,
          0.5945,
          0.4291,
          0.4291,
          0.4291,
          0.4291,
          0.4198,
          0.4198,
          0.4198,
          0.4198,
          0.5384,
          0.5384,
          0.5384,
          0.5384,
          0.6264,
          0.6264,
          0.6264,
          0.6264,
          0.6294,
          0.6294,
          0.6294,
          0.6294,
          0.4062,
          0.4062,
          0.4062,
          0.4062,
          0.4042,
          0.4042,
          0.4042,
          0.4042,
          0.5827,
          0.5827,
          0.5827,
          0.5827,
          0.368,
          0.368,
          0.368,
          0.368,
          0.2476,
          0.2476,
          0.2476,
          0.2476,
          0.262,
          0.262,
          0.262,
          0.262,
          0.4263,
          0.4263,
          0.4263,
          0.4263,
          0.4266,
          0.4266,
          0.4266,
          0.4266,
          0.1788,
          0.1788,
          0.1788,
          0.1788,
          0.533,
          0.533,
          0.533,
          0.533,
          0.5046,
          0.5046,
          0.5046,
          0.5046,
          0.5132,
          0.5132,
          0.5132,
          0.5132,
          0.5828,
          0.5828,
          0.5828,
          0.5828,
          0.6679,
          0.6679,
          0.6679,
          0.6679,
          0.2175,
          0.2175,
          0.2175,
          0.2175,
          0.5816,
          0.5816,
          0.5816,
          0.5816,
          0.248,
          0.248,
          0.248,
          0.248,
          0.471,
          0.471,
          0.471,
          0.471,
          0.3405,
          0.3405,
          0.3405,
          0.3405
         ],
         "xaxis": "x4",
         "y": [
          3.551,
          3.551,
          3.551,
          3.551,
          4.727,
          4.727,
          4.727,
          4.727,
          5.4958,
          5.4958,
          5.4958,
          5.4958,
          6.4117,
          6.4117,
          6.4117,
          6.4117,
          4.4015,
          4.4015,
          4.4015,
          4.4015,
          7.267,
          7.267,
          7.267,
          7.267,
          7.1478,
          7.1478,
          7.1478,
          7.1478,
          5.2138,
          5.2138,
          5.2138,
          5.2138,
          6.0877,
          6.0877,
          6.0877,
          6.0877,
          4.5645,
          4.5645,
          4.5645,
          4.5645,
          5.547,
          5.547,
          5.547,
          5.547,
          6.9195,
          6.9195,
          6.9195,
          6.9195,
          4.0053,
          4.0053,
          4.0053,
          4.0053,
          5.811,
          5.811,
          5.811,
          5.811,
          5.1615,
          5.1615,
          5.1615,
          5.1615,
          3.794,
          3.794,
          3.794,
          3.794,
          6.5843,
          6.5843,
          6.5843,
          6.5843,
          4.719,
          4.719,
          4.719,
          4.719,
          4.1575,
          4.1575,
          4.1575,
          4.1575,
          3.1225,
          3.1225,
          3.1225,
          3.1225,
          4.28,
          4.28,
          4.28,
          4.28,
          4.7415,
          4.7415,
          4.7415,
          4.7415,
          7.3372,
          7.3372,
          7.3372,
          7.3372,
          4.0635,
          4.0635,
          4.0635,
          4.0635,
          6.5605,
          6.5605,
          6.5605,
          6.5605,
          5.2125,
          5.2125,
          5.2125,
          5.2125,
          5.2125,
          5.2125,
          5.2125,
          5.2125,
          6.3047,
          6.3047,
          6.3047,
          6.3047,
          7.136,
          7.136,
          7.136,
          7.136,
          5.4513,
          5.4513,
          5.4513,
          5.4513,
          5.7795,
          5.7795,
          5.7795,
          5.7795,
          7.551,
          7.551,
          7.551,
          7.551,
          5.2105,
          5.2105,
          5.2105,
          5.2105,
          5.996,
          5.996,
          5.996,
          5.996,
          4.3785,
          4.3785,
          4.3785,
          4.3785,
          6.1382,
          6.1382,
          6.1382,
          6.1382,
          5.668,
          5.668,
          5.668,
          5.668,
          4.402,
          4.402,
          4.402,
          4.402,
          7.569,
          7.569,
          7.569,
          7.569,
          6.5245,
          6.5245,
          6.5245,
          6.5245,
          4.4795,
          4.4795,
          4.4795,
          4.4795,
          4.3605,
          4.3605,
          4.3605,
          4.3605,
          6.9128,
          6.9128,
          6.9128,
          6.9128,
          4.6015,
          4.6015,
          4.6015,
          4.6015,
          5.1823,
          5.1823,
          5.1823,
          5.1823,
          6.3487,
          6.3487,
          6.3487,
          6.3487,
          3.9152,
          3.9152,
          3.9152,
          3.9152,
          3.825,
          3.825,
          3.825,
          3.825,
          5.3333,
          5.3333,
          5.3333,
          5.3333,
          5.3755,
          5.3755,
          5.3755,
          5.3755,
          7.5135,
          7.5135,
          7.5135,
          7.5135,
          4.2713,
          4.2713,
          4.2713,
          4.2713,
          5.2365,
          5.2365,
          5.2365,
          5.2365,
          4.6582,
          4.6582,
          4.6582,
          4.6582,
          4.5168,
          4.5168,
          4.5168,
          4.5168,
          6.9788,
          6.9788,
          6.9788,
          6.9788,
          7.111,
          7.111,
          7.111,
          7.111,
          6.0338,
          6.0338,
          6.0338,
          6.0338,
          5.7,
          5.7,
          5.7,
          5.7,
          5.927,
          5.927,
          5.927,
          5.927,
          5.1487,
          5.1487,
          5.1487,
          5.1487,
          5.8182,
          5.8182,
          5.8182,
          5.8182,
          4.4727,
          4.4727,
          4.4727,
          4.4727,
          6.126,
          6.126,
          6.126,
          6.126,
          5.1705,
          5.1705,
          5.1705,
          5.1705,
          5.7052,
          5.7052,
          5.7052,
          5.7052,
          5.1547,
          5.1547,
          5.1547,
          5.1547,
          3.8935,
          3.8935,
          3.8935,
          3.8935,
          5.5925,
          5.5925,
          5.5925,
          5.5925,
          5.959,
          5.959,
          5.959,
          5.959,
          6.9522,
          6.9522,
          6.9522,
          6.9522,
          3.758,
          3.758,
          3.758,
          3.758,
          3.8148,
          3.8148,
          3.8148,
          3.8148,
          5.8788,
          5.8788,
          5.8788,
          5.8788,
          4.2555,
          4.2555,
          4.2555,
          4.2555,
          6.5455,
          6.5455,
          6.5455,
          6.5455,
          4.3935,
          4.3935,
          4.3935,
          4.3935,
          5.7213,
          5.7213,
          5.7213,
          5.7213,
          6.712,
          6.712,
          6.712,
          6.712,
          5.724,
          5.724,
          5.724,
          5.724,
          5.0597,
          5.0597,
          5.0597,
          5.0597,
          5.3247,
          5.3247,
          5.3247,
          5.3247,
          5.1775,
          5.1775,
          5.1775,
          5.1775,
          4.38,
          4.38,
          4.38,
          4.38,
          4.8172,
          4.8172,
          4.8172,
          4.8172,
          7.421,
          7.421,
          7.421,
          7.421,
          7.3078,
          7.3078,
          7.3078,
          7.3078,
          6.0363,
          6.0363,
          6.0363,
          6.0363,
          4.1667,
          4.1667,
          4.1667,
          4.1667,
          5.1905,
          5.1905,
          5.1905,
          5.1905,
          7.5518,
          7.5518,
          7.5518,
          7.5518,
          5.397,
          5.397,
          5.397,
          5.397,
          6.4973,
          6.4973,
          6.4973,
          6.4973,
          5.6988,
          5.6988,
          5.6988,
          5.6988,
          5.7248,
          5.7248,
          5.7248,
          5.7248,
          5.4145,
          5.4145,
          5.4145,
          5.4145,
          6.0173,
          6.0173,
          6.0173,
          6.0173,
          5.35,
          5.35,
          5.35,
          5.35,
          5.741,
          5.741,
          5.741,
          5.741,
          5.7842,
          5.7842,
          5.7842,
          5.7842,
          3.4195,
          3.4195,
          3.4195,
          3.4195,
          6.3752,
          6.3752,
          6.3752,
          6.3752,
          4.4377,
          4.4377,
          4.4377,
          4.4377,
          5.3797,
          5.3797,
          5.3797,
          5.3797,
          4.5403,
          4.5403,
          4.5403,
          4.5403,
          6.4938,
          6.4938,
          6.4938,
          6.4938,
          6.116,
          6.116,
          6.116,
          6.116,
          5.918,
          5.918,
          5.918,
          5.918,
          4.7292,
          4.7292,
          4.7292,
          4.7292,
          6.349,
          6.349,
          6.349,
          6.349,
          4.387,
          4.387,
          4.387,
          4.387,
          7.3262,
          7.3262,
          7.3262,
          7.3262,
          7.512,
          7.512,
          7.512,
          7.512,
          5.1232,
          5.1232,
          5.1232,
          5.1232,
          3.416,
          3.416,
          3.416,
          3.416,
          6.2397,
          6.2397,
          6.2397,
          6.2397,
          3.6045,
          3.6045,
          3.6045,
          3.6045,
          4.6492,
          4.6492,
          4.6492,
          4.6492,
          5.422,
          5.422,
          5.422,
          5.422,
          5.5633,
          5.5633,
          5.5633,
          5.5633,
          4.0905,
          4.0905,
          4.0905,
          4.0905,
          4.303,
          4.303,
          4.303,
          4.303,
          6.787,
          6.787,
          6.787,
          6.787,
          6.9563,
          6.9563,
          6.9563,
          6.9563,
          6.9725,
          6.9725,
          6.9725,
          6.9725,
          6.4027,
          6.4027,
          6.4027,
          6.4027,
          6.061,
          6.061,
          6.061,
          6.061,
          5.3932,
          5.3932,
          5.3932,
          5.3932,
          5.178,
          5.178,
          5.178,
          5.178,
          3.6012,
          3.6012,
          3.6012,
          3.6012,
          4.5317,
          4.5317,
          4.5317,
          4.5317,
          3.96,
          3.96,
          3.96,
          3.96
         ],
         "yaxis": "y4"
        },
        {
         "mode": "lines",
         "name": "Relationship between GDP per capita and Happiness Score",
         "type": "scatter",
         "x": [
          0.3508,
          0.3508,
          0.3508,
          0.3508,
          0.9345,
          0.9345,
          0.9345,
          0.9345,
          1.003,
          1.003,
          1.003,
          1.003,
          1.101,
          1.101,
          1.101,
          1.101,
          0.8337,
          0.8337,
          0.8337,
          0.8337,
          1.3825,
          1.3825,
          1.3825,
          1.3825,
          1.3853,
          1.3853,
          1.3853,
          1.3853,
          1.0611,
          1.0611,
          1.0611,
          1.0611,
          1.378,
          1.378,
          1.378,
          1.378,
          0.5196,
          0.5196,
          0.5196,
          0.5196,
          1.0736,
          1.0736,
          1.0736,
          1.0736,
          1.3629,
          1.3629,
          1.3629,
          1.3629,
          0.3722,
          0.3722,
          0.3722,
          0.3722,
          0.7605,
          0.7605,
          0.7605,
          0.7605,
          0.9187,
          0.9187,
          0.9187,
          0.9187,
          1.0434,
          1.0434,
          1.0434,
          1.0434,
          1.0196,
          1.0196,
          1.0196,
          1.0196,
          1.0799,
          1.0799,
          1.0799,
          1.0799,
          0.3133,
          0.3133,
          0.3133,
          0.3133,
          0.061,
          0.061,
          0.061,
          0.061,
          0.5463,
          0.5463,
          0.5463,
          0.5463,
          0.5177,
          0.5177,
          0.5177,
          0.5177,
          1.3751,
          1.3751,
          1.3751,
          1.3751,
          0.372,
          0.372,
          0.372,
          0.372,
          1.1625,
          1.1625,
          1.1625,
          1.1625,
          0.9973,
          0.9973,
          0.9973,
          0.9973,
          0.9973,
          0.9973,
          0.9973,
          0.9973,
          0.9836,
          0.9836,
          0.9836,
          0.9836,
          1.0274,
          1.0274,
          1.0274,
          1.0274,
          1.1438,
          1.1438,
          1.1438,
          1.1438,
          1.264,
          1.264,
          1.264,
          1.264,
          1.3855,
          1.3855,
          1.3855,
          1.3855,
          0.9929,
          0.9929,
          0.9929,
          0.9929,
          0.9165,
          0.9165,
          0.9165,
          0.9165,
          0.9174,
          0.9174,
          0.9174,
          0.9174,
          0.8186,
          0.8186,
          0.8186,
          0.8186,
          1.2274,
          1.2274,
          1.2274,
          1.2274,
          0.2935,
          0.2935,
          0.2935,
          0.2935,
          1.3447,
          1.3447,
          1.3447,
          1.3447,
          1.3314,
          1.3314,
          1.3314,
          1.3314,
          1.0879,
          1.0879,
          1.0879,
          1.0879,
          0.8579,
          0.8579,
          0.8579,
          0.8579,
          1.3822,
          1.3822,
          1.3822,
          1.3822,
          0.604,
          0.604,
          0.604,
          0.604,
          1.1946,
          1.1946,
          1.1946,
          1.1946,
          0.7996,
          0.7996,
          0.7996,
          0.7996,
          0.2857,
          0.2857,
          0.2857,
          0.2857,
          0.3183,
          0.3183,
          0.3183,
          0.3183,
          0.647,
          0.647,
          0.647,
          0.647,
          1.1947,
          1.1947,
          1.1947,
          1.1947,
          1.3765,
          1.3765,
          1.3765,
          1.3765,
          0.7283,
          0.7283,
          0.7283,
          0.7283,
          0.9135,
          0.9135,
          0.9135,
          0.9135,
          1.0812,
          1.0812,
          1.0812,
          1.0812,
          1.0353,
          1.0353,
          1.0353,
          1.0353,
          1.4547,
          1.4547,
          1.4547,
          1.4547,
          1.2952,
          1.2952,
          1.2952,
          1.2952,
          1.3011,
          1.3011,
          1.3011,
          1.3011,
          0.8465,
          0.8465,
          0.8465,
          0.8465,
          1.3272,
          1.3272,
          1.3272,
          1.3272,
          0.888,
          0.888,
          0.888,
          0.888,
          1.1808,
          1.1808,
          1.1808,
          1.1808,
          0.4825,
          0.4825,
          0.4825,
          0.4825,
          1.5403,
          1.5403,
          1.5403,
          1.5403,
          0.5379,
          0.5379,
          0.5379,
          0.5379,
          1.1772,
          1.1772,
          1.1772,
          1.1772,
          1.0132,
          1.0132,
          1.0132,
          1.0132,
          0.0848,
          0.0848,
          0.0848,
          0.0848,
          1.0656,
          1.0656,
          1.0656,
          1.0656,
          1.2242,
          1.2242,
          1.2242,
          1.2242,
          1.6227,
          1.6227,
          1.6227,
          1.6227,
          0.2625,
          0.2625,
          0.2625,
          0.2625,
          0.1566,
          0.1566,
          0.1566,
          0.1566,
          1.1995,
          1.1995,
          1.1995,
          1.1995,
          0.373,
          0.373,
          0.373,
          0.373,
          1.2802,
          1.2802,
          1.2802,
          1.2802,
          0.5574,
          0.5574,
          0.5574,
          0.5574,
          1.1018,
          1.1018,
          1.1018,
          1.1018,
          1.0704,
          1.0704,
          1.0704,
          1.0704,
          0.6663,
          0.6663,
          0.6663,
          0.6663,
          0.9294,
          0.9294,
          0.9294,
          0.9294,
          1.0409,
          1.0409,
          1.0409,
          1.0409,
          0.7982,
          0.7982,
          0.7982,
          0.7982,
          0.5075,
          0.5075,
          0.5075,
          0.5075,
          0.4277,
          0.4277,
          0.4277,
          0.4277,
          1.3976,
          1.3976,
          1.3976,
          1.3976,
          1.3067,
          1.3067,
          1.3067,
          1.3067,
          0.6731,
          0.6731,
          0.6731,
          0.6731,
          0.1251,
          0.1251,
          0.1251,
          0.1251,
          0.7058,
          0.7058,
          0.7058,
          0.7058,
          1.5049,
          1.5049,
          1.5049,
          1.5049,
          0.6628,
          0.6628,
          0.6628,
          0.6628,
          1.1396,
          1.1396,
          1.1396,
          1.1396,
          0.8456,
          0.8456,
          0.8456,
          0.8456,
          0.9574,
          0.9574,
          0.9574,
          0.9574,
          0.7863,
          0.7863,
          0.7863,
          0.7863,
          1.1998,
          1.1998,
          1.1998,
          1.1998,
          1.221,
          1.221,
          1.221,
          1.221,
          1.1348,
          1.1348,
          1.1348,
          1.1348,
          1.1884,
          1.1884,
          1.1884,
          1.1884,
          0.3205,
          0.3205,
          0.3205,
          0.3205,
          1.427,
          1.427,
          1.427,
          1.427,
          0.4308,
          0.4308,
          0.4308,
          0.4308,
          0.9922,
          0.9922,
          0.9922,
          0.9922,
          0.3057,
          0.3057,
          0.3057,
          0.3057,
          1.5788,
          1.5788,
          1.5788,
          1.5788,
          1.2376,
          1.2376,
          1.2376,
          1.2376,
          1.2508,
          1.2508,
          1.2508,
          1.2508,
          0.9688,
          0.9688,
          0.9688,
          0.9688,
          1.2879,
          1.2879,
          1.2879,
          1.2879,
          0.928,
          0.928,
          0.928,
          0.928,
          1.392,
          1.392,
          1.392,
          1.392,
          1.4584,
          1.4584,
          1.4584,
          1.4584,
          0.4705,
          0.4705,
          0.4705,
          0.4705,
          0.4318,
          0.4318,
          0.4318,
          0.4318,
          1.0402,
          1.0402,
          1.0402,
          1.0402,
          0.262,
          0.262,
          0.262,
          0.262,
          0.9273,
          0.9273,
          0.9273,
          0.9273,
          1.1476,
          1.1476,
          1.1476,
          1.1476,
          1.0393,
          1.0393,
          1.0393,
          1.0393,
          0.3116,
          0.3116,
          0.3116,
          0.3116,
          0.8267,
          0.8267,
          0.8267,
          0.8267,
          1.6632,
          1.6632,
          1.6632,
          1.6632,
          1.3213,
          1.3213,
          1.3213,
          1.3213,
          1.4429,
          1.4429,
          1.4429,
          1.4429,
          1.1241,
          1.1241,
          1.1241,
          1.1241,
          0.7207,
          0.7207,
          0.7207,
          0.7207,
          1.0322,
          1.0322,
          1.0322,
          1.0322,
          0.7192,
          0.7192,
          0.7192,
          0.7192,
          0.4668,
          0.4668,
          0.4668,
          0.4668,
          0.5617,
          0.5617,
          0.5617,
          0.5617,
          0.3425,
          0.3425,
          0.3425,
          0.3425
         ],
         "xaxis": "x",
         "y": [
          4.0900804898264695,
          4.0900804898264695,
          4.0900804898264695,
          4.0900804898264695,
          5.469427275622639,
          5.469427275622639,
          5.469427275622639,
          5.469427275622639,
          5.631300249456865,
          5.631300249456865,
          5.631300249456865,
          5.631300249456865,
          5.862884941949626,
          5.862884941949626,
          5.862884941949626,
          5.862884941949626,
          5.231225877630085,
          5.231225877630085,
          5.231225877630085,
          5.231225877630085,
          6.528100155589547,
          6.528100155589547,
          6.528100155589547,
          6.528100155589547,
          6.53471686108934,
          6.53471686108934,
          6.53471686108934,
          6.53471686108934,
          5.768596888577573,
          5.768596888577573,
          5.768596888577573,
          5.768596888577573,
          6.517466164607736,
          6.517466164607736,
          6.517466164607736,
          6.517466164607736,
          4.488973307099715,
          4.488973307099715,
          4.488973307099715,
          4.488973307099715,
          5.798135752415936,
          5.798135752415936,
          5.798135752415936,
          5.798135752415936,
          6.481783217090995,
          6.481783217090995,
          6.481783217090995,
          6.481783217090995,
          4.140651024717746,
          4.140651024717746,
          4.140651024717746,
          4.140651024717746,
          5.058246290992635,
          5.058246290992635,
          5.058246290992635,
          5.058246290992635,
          5.432090151730949,
          5.432090151730949,
          5.432090151730949,
          5.432090151730949,
          5.726769857382452,
          5.726769857382452,
          5.726769857382452,
          5.726769857382452,
          5.670527860634211,
          5.670527860634211,
          5.670527860634211,
          5.670527860634211,
          5.813023339790471,
          5.813023339790471,
          5.813023339790471,
          5.813023339790471,
          4.001463898311382,
          4.001463898311382,
          4.001463898311382,
          4.001463898311382,
          3.405251470597876,
          3.405251470597876,
          3.405251470597876,
          3.405251470597876,
          4.552068320258457,
          4.552068320258457,
          4.552068320258457,
          4.552068320258457,
          4.484483399796284,
          4.484483399796284,
          4.484483399796284,
          4.484483399796284,
          6.510613148197237,
          6.510613148197237,
          6.510613148197237,
          6.510613148197237,
          4.140178402896332,
          4.140178402896332,
          4.140178402896332,
          4.140178402896332,
          6.00821615203437,
          6.00821615203437,
          6.00821615203437,
          6.00821615203437,
          5.617830527546571,
          5.617830527546571,
          5.617830527546571,
          5.617830527546571,
          5.617830527546571,
          5.617830527546571,
          5.617830527546571,
          5.617830527546571,
          5.585455932779727,
          5.585455932779727,
          5.585455932779727,
          5.585455932779727,
          5.688960111669349,
          5.688960111669349,
          5.688960111669349,
          5.688960111669349,
          5.964026011732178,
          5.964026011732178,
          5.964026011732178,
          5.964026011732178,
          6.2480717264018715,
          6.2480717264018715,
          6.2480717264018715,
          6.2480717264018715,
          6.535189482910754,
          6.535189482910754,
          6.535189482910754,
          6.535189482910754,
          5.607432847475469,
          5.607432847475469,
          5.607432847475469,
          5.607432847475469,
          5.426891311695398,
          5.426891311695398,
          5.426891311695398,
          5.426891311695398,
          5.429018109891759,
          5.429018109891759,
          5.429018109891759,
          5.429018109891759,
          5.195542930113343,
          5.195542930113343,
          5.195542930113343,
          5.195542930113343,
          6.161581933083147,
          6.161581933083147,
          6.161581933083147,
          6.161581933083147,
          3.954674337991416,
          3.954674337991416,
          3.954674337991416,
          3.954674337991416,
          6.438774631342339,
          6.438774631342339,
          6.438774631342339,
          6.438774631342339,
          6.407345280218322,
          6.407345280218322,
          6.407345280218322,
          6.407345280218322,
          5.831928212647023,
          5.831928212647023,
          5.831928212647023,
          5.831928212647023,
          5.288413118021154,
          5.288413118021154,
          5.288413118021154,
          5.288413118021154,
          6.5273912228574265,
          6.5273912228574265,
          6.5273912228574265,
          6.5273912228574265,
          4.688419715736337,
          4.688419715736337,
          4.688419715736337,
          4.688419715736337,
          6.084071954371284,
          6.084071954371284,
          6.084071954371284,
          6.084071954371284,
          5.150643857079032,
          5.150643857079032,
          5.150643857079032,
          5.150643857079032,
          3.936242086956278,
          3.936242086956278,
          3.936242086956278,
          3.936242086956278,
          4.013279443846727,
          4.013279443846727,
          4.013279443846727,
          4.013279443846727,
          4.790033407340305,
          4.790033407340305,
          4.790033407340305,
          4.790033407340305,
          6.084308265281991,
          6.084308265281991,
          6.084308265281991,
          6.084308265281991,
          6.513921500947133,
          6.513921500947133,
          6.513921500947133,
          6.513921500947133,
          4.982154177745013,
          4.982154177745013,
          4.982154177745013,
          4.982154177745013,
          5.419801984374191,
          5.419801984374191,
          5.419801984374191,
          5.419801984374191,
          5.81609538162966,
          5.81609538162966,
          5.81609538162966,
          5.81609538162966,
          5.7076286736151935,
          5.7076286736151935,
          5.7076286736151935,
          5.7076286736151935,
          6.698716633119929,
          6.698716633119929,
          6.698716633119929,
          6.698716633119929,
          6.321800730542424,
          6.321800730542424,
          6.321800730542424,
          6.321800730542424,
          6.335743074274131,
          6.335743074274131,
          6.335743074274131,
          6.335743074274131,
          5.261473674200568,
          5.261473674200568,
          5.261473674200568,
          5.261473674200568,
          6.397420221968632,
          6.397420221968632,
          6.397420221968632,
          6.397420221968632,
          5.359542702143932,
          5.359542702143932,
          5.359542702143932,
          5.359542702143932,
          6.0514610486937315,
          6.0514610486937315,
          6.0514610486937315,
          6.0514610486937315,
          4.401301959227456,
          4.401301959227456,
          4.401301959227456,
          4.401301959227456,
          6.900998772685034,
          6.900998772685034,
          6.900998772685034,
          6.900998772685034,
          4.5322182037590775,
          4.5322182037590775,
          4.5322182037590775,
          4.5322182037590775,
          6.042953855908284,
          6.042953855908284,
          6.042953855908284,
          6.042953855908284,
          5.655403962348969,
          5.655403962348969,
          5.655403962348969,
          5.655403962348969,
          3.4614934673461177,
          3.4614934673461177,
          3.4614934673461177,
          3.4614934673461177,
          5.779230879559384,
          5.779230879559384,
          5.779230879559384,
          5.779230879559384,
          6.154019983940525,
          6.154019983940525,
          6.154019983940525,
          6.154019983940525,
          7.095718963107519,
          7.095718963107519,
          7.095718963107519,
          7.095718963107519,
          3.8814179556722777,
          3.8814179556722777,
          3.8814179556722777,
          3.8814179556722777,
          3.631164701233671,
          3.631164701233671,
          3.631164701233671,
          3.631164701233671,
          6.095651188995921,
          6.095651188995921,
          6.095651188995921,
          6.095651188995921,
          4.142541512003401,
          4.142541512003401,
          4.142541512003401,
          4.142541512003401,
          6.2863540939363896,
          6.2863540939363896,
          6.2863540939363896,
          6.2863540939363896,
          4.578298831346923,
          4.578298831346923,
          4.578298831346923,
          4.578298831346923,
          5.864775429235282,
          5.864775429235282,
          5.864775429235282,
          5.864775429235282,
          5.790573803273315,
          5.790573803273315,
          5.790573803273315,
          5.790573803273315,
          4.835641413106736,
          4.835641413106736,
          4.835641413106736,
          4.835641413106736,
          5.4573754191765875,
          5.4573754191765875,
          5.4573754191765875,
          5.4573754191765875,
          5.7208620846147795,
          5.7208620846147795,
          5.7208620846147795,
          5.7208620846147795,
          5.147335504329136,
          5.147335504329136,
          5.147335504329136,
          5.147335504329136,
          4.46037968690418,
          4.46037968690418,
          4.46037968690418,
          4.46037968690418,
          4.271803580160075,
          4.271803580160075,
          4.271803580160075,
          4.271803580160075,
          6.563783103106289,
          6.563783103106289,
          6.563783103106289,
          6.563783103106289,
          6.348976485273718,
          6.348976485273718,
          6.348976485273718,
          6.348976485273718,
          4.851710555034805,
          4.851710555034805,
          4.851710555034805,
          4.851710555034805,
          3.5567267643609983,
          3.5567267643609983,
          3.5567267643609983,
          3.5567267643609983,
          4.928984222835961,
          4.928984222835961,
          4.928984222835961,
          4.928984222835961,
          6.817344710294791,
          6.817344710294791,
          6.817344710294791,
          6.817344710294791,
          4.8273705312319946,
          4.8273705312319946,
          4.8273705312319946,
          4.8273705312319946,
          5.95410095348249,
          5.95410095348249,
          5.95410095348249,
          5.95410095348249,
          5.259346876004206,
          5.259346876004206,
          5.259346876004206,
          5.259346876004206,
          5.523542474174519,
          5.523542474174519,
          5.523542474174519,
          5.523542474174519,
          5.119214505955015,
          5.119214505955015,
          5.119214505955015,
          5.119214505955015,
          6.0963601217280425,
          6.0963601217280425,
          6.0963601217280425,
          6.0963601217280425,
          6.146458034797906,
          6.146458034797906,
          6.146458034797906,
          6.146458034797906,
          5.942758029768559,
          5.942758029768559,
          5.942758029768559,
          5.942758029768559,
          6.0694206779074555,
          6.0694206779074555,
          6.0694206779074555,
          6.0694206779074555,
          4.0184782838822795,
          4.0184782838822795,
          4.0184782838822795,
          4.0184782838822795,
          6.633258510854118,
          6.633258510854118,
          6.633258510854118,
          6.633258510854118,
          4.279129218391988,
          4.279129218391988,
          4.279129218391988,
          4.279129218391988,
          5.60577867110052,
          5.60577867110052,
          5.60577867110052,
          5.60577867110052,
          3.983504269097658,
          3.983504269097658,
          3.983504269097658,
          3.983504269097658,
          6.99197847330719,
          6.99197847330719,
          6.99197847330719,
          6.99197847330719,
          6.1856856459752505,
          6.1856856459752505,
          6.1856856459752505,
          6.1856856459752505,
          6.216878686188561,
          6.216878686188561,
          6.216878686188561,
          6.216878686188561,
          5.550481917995105,
          5.550481917995105,
          5.550481917995105,
          5.550481917995105,
          6.304550034060821,
          6.304550034060821,
          6.304550034060821,
          6.304550034060821,
          5.454067066426691,
          5.454067066426691,
          5.454067066426691,
          5.454067066426691,
          6.550549692106703,
          6.550549692106703,
          6.550549692106703,
          6.550549692106703,
          6.707460136816083,
          6.707460136816083,
          6.707460136816083,
          6.707460136816083,
          4.372944649942628,
          4.372944649942628,
          4.372944649942628,
          4.372944649942628,
          4.281492327499057,
          4.281492327499057,
          4.281492327499057,
          4.281492327499057,
          5.719207908239832,
          5.719207908239832,
          5.719207908239832,
          5.719207908239832,
          3.880236401118743,
          3.880236401118743,
          3.880236401118743,
          3.880236401118743,
          5.452412890051743,
          5.452412890051743,
          5.452412890051743,
          5.452412890051743,
          5.973005826339041,
          5.973005826339041,
          5.973005826339041,
          5.973005826339041,
          5.71708111004347,
          5.71708111004347,
          5.71708111004347,
          5.71708111004347,
          3.997446612829365,
          3.997446612829365,
          3.997446612829365,
          3.997446612829365,
          5.214684113880602,
          5.214684113880602,
          5.214684113880602,
          5.214684113880602,
          7.191424881943813,
          7.191424881943813,
          7.191424881943813,
          7.191424881943813,
          6.383477878236924,
          6.383477878236924,
          6.383477878236924,
          6.383477878236924,
          6.670831945656515,
          6.670831945656515,
          6.670831945656515,
          6.670831945656515,
          5.9174727623229195,
          5.9174727623229195,
          5.9174727623229195,
          5.9174727623229195,
          4.964194548531289,
          4.964194548531289,
          4.964194548531289,
          4.964194548531289,
          5.70030303538328,
          5.70030303538328,
          5.70030303538328,
          5.70030303538328,
          4.960649884870685,
          4.960649884870685,
          4.960649884870685,
          4.960649884870685,
          4.364201146246472,
          4.364201146246472,
          4.364201146246472,
          4.364201146246472,
          4.58846020050732,
          4.58846020050732,
          4.58846020050732,
          4.58846020050732,
          4.070466684237797,
          4.070466684237797,
          4.070466684237797,
          4.070466684237797
         ],
         "yaxis": "y"
        },
        {
         "mode": "lines",
         "name": "Relationship between Education Index and Happiness Score",
         "type": "scatter",
         "x": [
          0.45,
          0.45,
          0.45,
          0.45,
          0.7725,
          0.7725,
          0.7725,
          0.7725,
          0.7025,
          0.7025,
          0.7025,
          0.7025,
          0.8625,
          0.8625,
          0.8625,
          0.8625,
          0.7625,
          0.7625,
          0.7625,
          0.7625,
          1.0225,
          1.0225,
          1.0225,
          1.0225,
          0.875,
          0.875,
          0.875,
          0.875,
          0.715,
          0.715,
          0.715,
          0.715,
          0.775,
          0.775,
          0.775,
          0.775,
          0.53,
          0.53,
          0.53,
          0.53,
          0.8575,
          0.8575,
          0.8575,
          0.8575,
          0.9875,
          0.9875,
          0.9875,
          0.9875,
          0.5225,
          0.5225,
          0.5225,
          0.5225,
          0.71,
          0.71,
          0.71,
          0.71,
          0.7325,
          0.7325,
          0.7325,
          0.7325,
          0.68,
          0.68,
          0.68,
          0.68,
          0.7275,
          0.7275,
          0.7275,
          0.7275,
          0.8225,
          0.8225,
          0.8225,
          0.8225,
          0.33,
          0.33,
          0.33,
          0.33,
          0.4675,
          0.4675,
          0.4675,
          0.4675,
          0.5175,
          0.5175,
          0.5175,
          0.5175,
          0.585,
          0.585,
          0.585,
          0.585,
          0.9125,
          0.9125,
          0.9125,
          0.9125,
          0.3275,
          0.3275,
          0.3275,
          0.3275,
          0.8325,
          0.8325,
          0.8325,
          0.8325,
          0.7025,
          0.7025,
          0.7025,
          0.7025,
          0.7025,
          0.7025,
          0.7025,
          0.7025,
          0.7125,
          0.7125,
          0.7125,
          0.7125,
          0.7525,
          0.7525,
          0.7525,
          0.7525,
          0.8125,
          0.8125,
          0.8125,
          0.8125,
          0.82,
          0.82,
          0.82,
          0.82,
          0.99,
          0.99,
          0.99,
          0.99,
          0.6775,
          0.6775,
          0.6775,
          0.6775,
          0.73,
          0.73,
          0.73,
          0.73,
          0.6375,
          0.6375,
          0.6375,
          0.6375,
          0.6025,
          0.6025,
          0.6025,
          0.6025,
          0.8925,
          0.8925,
          0.8925,
          0.8925,
          0.3625,
          0.3625,
          0.3625,
          0.3625,
          0.945,
          0.945,
          0.945,
          0.945,
          0.86,
          0.86,
          0.86,
          0.86,
          0.6525,
          0.6525,
          0.6525,
          0.6525,
          0.8575,
          0.8575,
          0.8575,
          0.8575,
          0.96,
          0.96,
          0.96,
          0.96,
          0.58,
          0.58,
          0.58,
          0.58,
          0.875,
          0.875,
          0.875,
          0.875,
          0.5375,
          0.5375,
          0.5375,
          0.5375,
          0.38,
          0.38,
          0.38,
          0.38,
          0.4575,
          0.4575,
          0.4575,
          0.4575,
          0.52,
          0.52,
          0.52,
          0.52,
          0.83,
          0.83,
          0.83,
          0.83,
          0.9875,
          0.9875,
          0.9875,
          0.9875,
          0.5875,
          0.5875,
          0.5875,
          0.5875,
          0.6475,
          0.6475,
          0.6475,
          0.6475,
          0.77,
          0.77,
          0.77,
          0.77,
          0.5425,
          0.5425,
          0.5425,
          0.5425,
          0.9925,
          0.9925,
          0.9925,
          0.9925,
          0.89,
          0.89,
          0.89,
          0.89,
          0.83,
          0.83,
          0.83,
          0.83,
          0.7075,
          0.7075,
          0.7075,
          0.7075,
          0.8575,
          0.8575,
          0.8575,
          0.8575,
          0.7175,
          0.7175,
          0.7175,
          0.7175,
          0.8325,
          0.8325,
          0.8325,
          0.8325,
          0.5675,
          0.5675,
          0.5675,
          0.5675,
          0.655,
          0.655,
          0.655,
          0.655,
          0.7475,
          0.7475,
          0.7475,
          0.7475,
          0.8825,
          0.8825,
          0.8825,
          0.8825,
          0.6475,
          0.6475,
          0.6475,
          0.6475,
          0.4575,
          0.4575,
          0.4575,
          0.4575,
          0.6475,
          0.6475,
          0.6475,
          0.6475,
          0.9025,
          0.9025,
          0.9025,
          0.9025,
          0.8025,
          0.8025,
          0.8025,
          0.8025,
          0.52,
          0.52,
          0.52,
          0.52,
          0.4875,
          0.4875,
          0.4875,
          0.4875,
          0.735,
          0.735,
          0.735,
          0.735,
          0.315,
          0.315,
          0.315,
          0.315,
          0.8375,
          0.8375,
          0.8375,
          0.8375,
          0.41,
          0.41,
          0.41,
          0.41,
          0.76,
          0.76,
          0.76,
          0.76,
          0.71,
          0.71,
          0.71,
          0.71,
          0.71,
          0.71,
          0.71,
          0.71,
          0.785,
          0.785,
          0.785,
          0.785,
          0.8125,
          0.8125,
          0.8125,
          0.8125,
          0.5675,
          0.5675,
          0.5675,
          0.5675,
          0.4725,
          0.4725,
          0.4725,
          0.4725,
          0.54,
          0.54,
          0.54,
          0.54,
          0.94,
          0.94,
          0.94,
          0.94,
          0.9775,
          0.9775,
          0.9775,
          0.9775,
          0.59,
          0.59,
          0.59,
          0.59,
          0.2425,
          0.2425,
          0.2425,
          0.2425,
          0.505,
          0.505,
          0.505,
          0.505,
          0.9475,
          0.9475,
          0.9475,
          0.9475,
          0.4275,
          0.4275,
          0.4275,
          0.4275,
          0.705,
          0.705,
          0.705,
          0.705,
          0.66,
          0.66,
          0.66,
          0.66,
          0.7175,
          0.7175,
          0.7175,
          0.7175,
          0.6825,
          0.6825,
          0.6825,
          0.6825,
          0.885,
          0.885,
          0.885,
          0.885,
          0.8,
          0.8,
          0.8,
          0.8,
          0.7825,
          0.7825,
          0.7825,
          0.7825,
          0.85,
          0.85,
          0.85,
          0.85,
          0.485,
          0.485,
          0.485,
          0.485,
          0.83,
          0.83,
          0.83,
          0.83,
          0.395,
          0.395,
          0.395,
          0.395,
          0.7975,
          0.7975,
          0.7975,
          0.7975,
          0.4225,
          0.4225,
          0.4225,
          0.4225,
          0.86,
          0.86,
          0.86,
          0.86,
          0.845,
          0.845,
          0.845,
          0.845,
          0.915,
          0.915,
          0.915,
          0.915,
          0.725,
          0.725,
          0.725,
          0.725,
          0.8675,
          0.8675,
          0.8675,
          0.8675,
          0.77,
          0.77,
          0.77,
          0.77,
          0.94,
          0.94,
          0.94,
          0.94,
          0.91,
          0.91,
          0.91,
          0.91,
          0.67,
          0.67,
          0.67,
          0.67,
          0.4525,
          0.4525,
          0.4525,
          0.4525,
          0.69,
          0.69,
          0.69,
          0.69,
          0.55,
          0.55,
          0.55,
          0.55,
          0.6975,
          0.6975,
          0.6975,
          0.6975,
          0.735,
          0.735,
          0.735,
          0.735,
          0.6325,
          0.6325,
          0.6325,
          0.6325,
          0.5425,
          0.5425,
          0.5425,
          0.5425,
          0.8125,
          0.8125,
          0.8125,
          0.8125,
          0.7525,
          0.7525,
          0.7525,
          0.7525,
          0.94,
          0.94,
          0.94,
          0.94,
          0.92,
          0.92,
          0.92,
          0.92,
          0.775,
          0.775,
          0.775,
          0.775,
          0.715,
          0.715,
          0.715,
          0.715,
          0.7475,
          0.7475,
          0.7475,
          0.7475,
          0.65,
          0.65,
          0.65,
          0.65,
          0.38,
          0.38,
          0.38,
          0.38,
          0.6075,
          0.6075,
          0.6075,
          0.6075,
          0.5725,
          0.5725,
          0.5725,
          0.5725
         ],
         "xaxis": "x2",
         "y": [
          4.2241862790558065,
          4.2241862790558065,
          4.2241862790558065,
          4.2241862790558065,
          5.789397269916952,
          5.789397269916952,
          5.789397269916952,
          5.789397269916952,
          5.4496615509703465,
          5.4496615509703465,
          5.4496615509703465,
          5.4496615509703465,
          6.226200337134015,
          6.226200337134015,
          6.226200337134015,
          6.226200337134015,
          5.740863595781722,
          5.740863595781722,
          5.740863595781722,
          5.740863595781722,
          7.002739123297685,
          7.002739123297685,
          7.002739123297685,
          7.002739123297685,
          6.286867429803053,
          6.286867429803053,
          6.286867429803053,
          6.286867429803053,
          5.510328643639383,
          5.510328643639383,
          5.510328643639383,
          5.510328643639383,
          5.801530688450759,
          5.801530688450759,
          5.801530688450759,
          5.801530688450759,
          4.61245567213764,
          4.61245567213764,
          4.61245567213764,
          4.61245567213764,
          6.201933500066401,
          6.201933500066401,
          6.201933500066401,
          6.201933500066401,
          6.832871263824382,
          6.832871263824382,
          6.832871263824382,
          6.832871263824382,
          4.576055416536219,
          4.576055416536219,
          4.576055416536219,
          4.576055416536219,
          5.486061806571769,
          5.486061806571769,
          5.486061806571769,
          5.486061806571769,
          5.595262573376035,
          5.595262573376035,
          5.595262573376035,
          5.595262573376035,
          5.340460784166081,
          5.340460784166081,
          5.340460784166081,
          5.340460784166081,
          5.57099573630842,
          5.57099573630842,
          5.57099573630842,
          5.57099573630842,
          6.032065640593098,
          6.032065640593098,
          6.032065640593098,
          6.032065640593098,
          3.641782189433054,
          3.641782189433054,
          3.641782189433054,
          3.641782189433054,
          4.309120208792457,
          4.309120208792457,
          4.309120208792457,
          4.309120208792457,
          4.551788579468604,
          4.551788579468604,
          4.551788579468604,
          4.551788579468604,
          4.879390879881402,
          4.879390879881402,
          4.879390879881402,
          4.879390879881402,
          6.468868707810161,
          6.468868707810161,
          6.468868707810161,
          6.468868707810161,
          3.629648770899247,
          3.629648770899247,
          3.629648770899247,
          3.629648770899247,
          6.080599314728328,
          6.080599314728328,
          6.080599314728328,
          6.080599314728328,
          5.4496615509703465,
          5.4496615509703465,
          5.4496615509703465,
          5.4496615509703465,
          5.4496615509703465,
          5.4496615509703465,
          5.4496615509703465,
          5.4496615509703465,
          5.498195225105576,
          5.498195225105576,
          5.498195225105576,
          5.498195225105576,
          5.692329921646493,
          5.692329921646493,
          5.692329921646493,
          5.692329921646493,
          5.9835319664578694,
          5.9835319664578694,
          5.9835319664578694,
          5.9835319664578694,
          6.019932222059291,
          6.019932222059291,
          6.019932222059291,
          6.019932222059291,
          6.845004682358189,
          6.845004682358189,
          6.845004682358189,
          6.845004682358189,
          5.328327365632273,
          5.328327365632273,
          5.328327365632273,
          5.328327365632273,
          5.5831291548422275,
          5.5831291548422275,
          5.5831291548422275,
          5.5831291548422275,
          5.134192669091355,
          5.134192669091355,
          5.134192669091355,
          5.134192669091355,
          4.964324809618054,
          4.964324809618054,
          4.964324809618054,
          4.964324809618054,
          6.3718013595397025,
          6.3718013595397025,
          6.3718013595397025,
          6.3718013595397025,
          3.7995166303725494,
          3.7995166303725494,
          3.7995166303725494,
          3.7995166303725494,
          6.626603148749657,
          6.626603148749657,
          6.626603148749657,
          6.626603148749657,
          6.214066918600208,
          6.214066918600208,
          6.214066918600208,
          6.214066918600208,
          5.2069931802942,
          5.2069931802942,
          5.2069931802942,
          5.2069931802942,
          6.201933500066401,
          6.201933500066401,
          6.201933500066401,
          6.201933500066401,
          6.699403659952502,
          6.699403659952502,
          6.699403659952502,
          6.699403659952502,
          4.855124042813787,
          4.855124042813787,
          4.855124042813787,
          4.855124042813787,
          6.286867429803053,
          6.286867429803053,
          6.286867429803053,
          6.286867429803053,
          4.648855927739063,
          4.648855927739063,
          4.648855927739063,
          4.648855927739063,
          3.884450560109201,
          3.884450560109201,
          3.884450560109201,
          3.884450560109201,
          4.260586534657229,
          4.260586534657229,
          4.260586534657229,
          4.260586534657229,
          4.563921998002412,
          4.563921998002412,
          4.563921998002412,
          4.563921998002412,
          6.068465896194519,
          6.068465896194519,
          6.068465896194519,
          6.068465896194519,
          6.832871263824382,
          6.832871263824382,
          6.832871263824382,
          6.832871263824382,
          4.891524298415209,
          4.891524298415209,
          4.891524298415209,
          4.891524298415209,
          5.1827263432265855,
          5.1827263432265855,
          5.1827263432265855,
          5.1827263432265855,
          5.777263851383145,
          5.777263851383145,
          5.777263851383145,
          5.777263851383145,
          4.673122764806678,
          4.673122764806678,
          4.673122764806678,
          4.673122764806678,
          6.857138100891998,
          6.857138100891998,
          6.857138100891998,
          6.857138100891998,
          6.359667941005897,
          6.359667941005897,
          6.359667941005897,
          6.359667941005897,
          6.068465896194519,
          6.068465896194519,
          6.068465896194519,
          6.068465896194519,
          5.473928388037962,
          5.473928388037962,
          5.473928388037962,
          5.473928388037962,
          6.201933500066401,
          6.201933500066401,
          6.201933500066401,
          6.201933500066401,
          5.52246206217319,
          5.52246206217319,
          5.52246206217319,
          5.52246206217319,
          6.080599314728328,
          6.080599314728328,
          6.080599314728328,
          6.080599314728328,
          4.794456950144751,
          4.794456950144751,
          4.794456950144751,
          4.794456950144751,
          5.219126598828007,
          5.219126598828007,
          5.219126598828007,
          5.219126598828007,
          5.668063084578879,
          5.668063084578879,
          5.668063084578879,
          5.668063084578879,
          6.323267685404474,
          6.323267685404474,
          6.323267685404474,
          6.323267685404474,
          5.1827263432265855,
          5.1827263432265855,
          5.1827263432265855,
          5.1827263432265855,
          4.260586534657229,
          4.260586534657229,
          4.260586534657229,
          4.260586534657229,
          5.1827263432265855,
          5.1827263432265855,
          5.1827263432265855,
          5.1827263432265855,
          6.420335033674933,
          6.420335033674933,
          6.420335033674933,
          6.420335033674933,
          5.934998292322639,
          5.934998292322639,
          5.934998292322639,
          5.934998292322639,
          4.563921998002412,
          4.563921998002412,
          4.563921998002412,
          4.563921998002412,
          4.406187557062916,
          4.406187557062916,
          4.406187557062916,
          4.406187557062916,
          5.607395991909842,
          5.607395991909842,
          5.607395991909842,
          5.607395991909842,
          3.5689816782302106,
          3.5689816782302106,
          3.5689816782302106,
          3.5689816782302106,
          6.104866151795942,
          6.104866151795942,
          6.104866151795942,
          6.104866151795942,
          4.030051582514889,
          4.030051582514889,
          4.030051582514889,
          4.030051582514889,
          5.728730177247915,
          5.728730177247915,
          5.728730177247915,
          5.728730177247915,
          5.486061806571769,
          5.486061806571769,
          5.486061806571769,
          5.486061806571769,
          5.486061806571769,
          5.486061806571769,
          5.486061806571769,
          5.486061806571769,
          5.8500643625859885,
          5.8500643625859885,
          5.8500643625859885,
          5.8500643625859885,
          5.9835319664578694,
          5.9835319664578694,
          5.9835319664578694,
          5.9835319664578694,
          4.794456950144751,
          4.794456950144751,
          4.794456950144751,
          4.794456950144751,
          4.333387045860071,
          4.333387045860071,
          4.333387045860071,
          4.333387045860071,
          4.660989346272871,
          4.660989346272871,
          4.660989346272871,
          4.660989346272871,
          6.602336311682043,
          6.602336311682043,
          6.602336311682043,
          6.602336311682043,
          6.784337589689153,
          6.784337589689153,
          6.784337589689153,
          6.784337589689153,
          4.9036577169490165,
          4.9036577169490165,
          4.9036577169490165,
          4.9036577169490165,
          3.217112540749798,
          3.217112540749798,
          3.217112540749798,
          3.217112540749798,
          4.4911214867995675,
          4.4911214867995675,
          4.4911214867995675,
          4.4911214867995675,
          6.638736567283464,
          6.638736567283464,
          6.638736567283464,
          6.638736567283464,
          4.11498551225154,
          4.11498551225154,
          4.11498551225154,
          4.11498551225154,
          5.461794969504154,
          5.461794969504154,
          5.461794969504154,
          5.461794969504154,
          5.243393435895622,
          5.243393435895622,
          5.243393435895622,
          5.243393435895622,
          5.52246206217319,
          5.52246206217319,
          5.52246206217319,
          5.52246206217319,
          5.352594202699888,
          5.352594202699888,
          5.352594202699888,
          5.352594202699888,
          6.335401103938281,
          6.335401103938281,
          6.335401103938281,
          6.335401103938281,
          5.922864873788832,
          5.922864873788832,
          5.922864873788832,
          5.922864873788832,
          5.8379309440521805,
          5.8379309440521805,
          5.8379309440521805,
          5.8379309440521805,
          6.165533244464978,
          6.165533244464978,
          6.165533244464978,
          6.165533244464978,
          4.394054138529109,
          4.394054138529109,
          4.394054138529109,
          4.394054138529109,
          6.068465896194519,
          6.068465896194519,
          6.068465896194519,
          6.068465896194519,
          3.957251071312045,
          3.957251071312045,
          3.957251071312045,
          3.957251071312045,
          5.910731455255025,
          5.910731455255025,
          5.910731455255025,
          5.910731455255025,
          4.0907186751839255,
          4.0907186751839255,
          4.0907186751839255,
          4.0907186751839255,
          6.214066918600208,
          6.214066918600208,
          6.214066918600208,
          6.214066918600208,
          6.141266407397364,
          6.141266407397364,
          6.141266407397364,
          6.141266407397364,
          6.48100212634397,
          6.48100212634397,
          6.48100212634397,
          6.48100212634397,
          5.558862317774612,
          5.558862317774612,
          5.558862317774612,
          5.558862317774612,
          6.250467174201631,
          6.250467174201631,
          6.250467174201631,
          6.250467174201631,
          5.777263851383145,
          5.777263851383145,
          5.777263851383145,
          5.777263851383145,
          6.602336311682043,
          6.602336311682043,
          6.602336311682043,
          6.602336311682043,
          6.456735289276356,
          6.456735289276356,
          6.456735289276356,
          6.456735289276356,
          5.291927110030851,
          5.291927110030851,
          5.291927110030851,
          5.291927110030851,
          4.236319697589614,
          4.236319697589614,
          4.236319697589614,
          4.236319697589614,
          5.38899445830131,
          5.38899445830131,
          5.38899445830131,
          5.38899445830131,
          4.709523020408099,
          4.709523020408099,
          4.709523020408099,
          4.709523020408099,
          5.425394713902731,
          5.425394713902731,
          5.425394713902731,
          5.425394713902731,
          5.607395991909842,
          5.607395991909842,
          5.607395991909842,
          5.607395991909842,
          5.109925832023741,
          5.109925832023741,
          5.109925832023741,
          5.109925832023741,
          4.673122764806678,
          4.673122764806678,
          4.673122764806678,
          4.673122764806678,
          5.9835319664578694,
          5.9835319664578694,
          5.9835319664578694,
          5.9835319664578694,
          5.692329921646493,
          5.692329921646493,
          5.692329921646493,
          5.692329921646493,
          6.602336311682043,
          6.602336311682043,
          6.602336311682043,
          6.602336311682043,
          6.505268963411584,
          6.505268963411584,
          6.505268963411584,
          6.505268963411584,
          5.801530688450759,
          5.801530688450759,
          5.801530688450759,
          5.801530688450759,
          5.510328643639383,
          5.510328643639383,
          5.510328643639383,
          5.510328643639383,
          5.668063084578879,
          5.668063084578879,
          5.668063084578879,
          5.668063084578879,
          5.194859761760393,
          5.194859761760393,
          5.194859761760393,
          5.194859761760393,
          3.884450560109201,
          3.884450560109201,
          3.884450560109201,
          3.884450560109201,
          4.988591646685668,
          4.988591646685668,
          4.988591646685668,
          4.988591646685668,
          4.818723787212365,
          4.818723787212365,
          4.818723787212365,
          4.818723787212365
         ],
         "yaxis": "y2"
        },
        {
         "mode": "lines",
         "name": "Relationship between Health Index and Happiness Score",
         "type": "scatter",
         "x": [
          0.275,
          0.275,
          0.275,
          0.275,
          0.8021,
          0.8021,
          0.8021,
          0.8021,
          0.6768,
          0.6768,
          0.6768,
          0.6768,
          0.7768,
          0.7768,
          0.7768,
          0.7768,
          0.7121,
          0.7121,
          0.7121,
          0.7121,
          0.9304,
          0.9304,
          0.9304,
          0.9304,
          0.9032,
          0.9032,
          0.9032,
          0.9032,
          0.6383,
          0.6383,
          0.6383,
          0.6383,
          0.7423,
          0.7423,
          0.7423,
          0.7423,
          0.6092,
          0.6092,
          0.6092,
          0.6092,
          0.7157,
          0.7157,
          0.7157,
          0.7157,
          0.8987,
          0.8987,
          0.8987,
          0.8987,
          0.2915,
          0.2915,
          0.2915,
          0.2915,
          0.5567,
          0.5567,
          0.5567,
          0.5567,
          0.7747,
          0.7747,
          0.7747,
          0.7747,
          0.3361,
          0.3361,
          0.3361,
          0.3361,
          0.6976,
          0.6976,
          0.6976,
          0.6976,
          0.7504,
          0.7504,
          0.7504,
          0.7504,
          0.2803,
          0.2803,
          0.2803,
          0.2803,
          0.2251,
          0.2251,
          0.2251,
          0.2251,
          0.5337,
          0.5337,
          0.5337,
          0.5337,
          0.22,
          0.22,
          0.22,
          0.22,
          0.9188,
          0.9188,
          0.9188,
          0.9188,
          0.1091,
          0.1091,
          0.1091,
          0.1091,
          0.8515,
          0.8515,
          0.8515,
          0.8515,
          0.8125,
          0.8125,
          0.8125,
          0.8125,
          0.8125,
          0.8125,
          0.8125,
          0.8125,
          0.6904,
          0.6904,
          0.6904,
          0.6904,
          0.8499,
          0.8499,
          0.8499,
          0.8499,
          0.7851,
          0.7851,
          0.7851,
          0.7851,
          0.9298,
          0.9298,
          0.9298,
          0.9298,
          0.8828,
          0.8828,
          0.8828,
          0.8828,
          0.659,
          0.659,
          0.659,
          0.659,
          0.7701,
          0.7701,
          0.7701,
          0.7701,
          0.5836,
          0.5836,
          0.5836,
          0.5836,
          0.6753,
          0.6753,
          0.6753,
          0.6753,
          0.7699,
          0.7699,
          0.7699,
          0.7699,
          0.4292,
          0.4292,
          0.4292,
          0.4292,
          0.8896,
          0.8896,
          0.8896,
          0.8896,
          0.9358,
          0.9358,
          0.9358,
          0.9358,
          0.4413,
          0.4413,
          0.4413,
          0.4413,
          0.6935,
          0.6935,
          0.6935,
          0.6935,
          0.8847,
          0.8847,
          0.8847,
          0.8847,
          0.38,
          0.38,
          0.38,
          0.38,
          0.8926,
          0.8926,
          0.8926,
          0.8926,
          0.6346,
          0.6346,
          0.6346,
          0.6346,
          0.2551,
          0.2551,
          0.2551,
          0.2551,
          0.3509,
          0.3509,
          0.3509,
          0.3509,
          0.6819,
          0.6819,
          0.6819,
          0.6819,
          0.7517,
          0.7517,
          0.7517,
          0.7517,
          0.9303,
          0.9303,
          0.9303,
          0.9303,
          0.5109,
          0.5109,
          0.5109,
          0.5109,
          0.5781,
          0.5781,
          0.5781,
          0.5781,
          0.7033,
          0.7033,
          0.7033,
          0.7033,
          0.5534,
          0.5534,
          0.5534,
          0.5534,
          0.895,
          0.895,
          0.895,
          0.895,
          0.9161,
          0.9161,
          0.9161,
          0.9161,
          0.9482,
          0.9482,
          0.9482,
          0.9482,
          0.7131,
          0.7131,
          0.7131,
          0.7131,
          0.9951,
          0.9951,
          0.9951,
          0.9951,
          0.6902,
          0.6902,
          0.6902,
          0.6902,
          0.6524,
          0.6524,
          0.6524,
          0.6524,
          0.4398,
          0.4398,
          0.4398,
          0.4398,
          0.71,
          0.71,
          0.71,
          0.71,
          0.6303,
          0.6303,
          0.6303,
          0.6303,
          0.7115,
          0.7115,
          0.7115,
          0.7115,
          0.7936,
          0.7936,
          0.7936,
          0.7936,
          0.3205,
          0.3205,
          0.3205,
          0.3205,
          0.6125,
          0.6125,
          0.6125,
          0.6125,
          0.7236,
          0.7236,
          0.7236,
          0.7236,
          0.918,
          0.918,
          0.918,
          0.918,
          0.4499,
          0.4499,
          0.4499,
          0.4499,
          0.3354,
          0.3354,
          0.3354,
          0.3354,
          0.7099,
          0.7099,
          0.7099,
          0.7099,
          0.2088,
          0.2088,
          0.2088,
          0.2088,
          0.898,
          0.898,
          0.898,
          0.898,
          0.3563,
          0.3563,
          0.3563,
          0.3563,
          0.7074,
          0.7074,
          0.7074,
          0.7074,
          0.7866,
          0.7866,
          0.7866,
          0.7866,
          0.6417,
          0.6417,
          0.6417,
          0.6417,
          0.6006,
          0.6006,
          0.6006,
          0.6006,
          0.7482,
          0.7482,
          0.7482,
          0.7482,
          0.6646,
          0.6646,
          0.6646,
          0.6646,
          0.466,
          0.466,
          0.466,
          0.466,
          0.5722,
          0.5722,
          0.5722,
          0.5722,
          0.8951,
          0.8951,
          0.8951,
          0.8951,
          0.9068,
          0.9068,
          0.9068,
          0.9068,
          0.7328,
          0.7328,
          0.7328,
          0.7328,
          0.2881,
          0.2881,
          0.2881,
          0.2881,
          0.1275,
          0.1275,
          0.1275,
          0.1275,
          0.8927,
          0.8927,
          0.8927,
          0.8927,
          0.4689,
          0.4689,
          0.4689,
          0.4689,
          0.7929,
          0.7929,
          0.7929,
          0.7929,
          0.6581,
          0.6581,
          0.6581,
          0.6581,
          0.7221,
          0.7221,
          0.7221,
          0.7221,
          0.5548,
          0.5548,
          0.5548,
          0.5548,
          0.7859,
          0.7859,
          0.7859,
          0.7859,
          0.8885,
          0.8885,
          0.8885,
          0.8885,
          0.7513,
          0.7513,
          0.7513,
          0.7513,
          0.6354,
          0.6354,
          0.6354,
          0.6354,
          0.4423,
          0.4423,
          0.4423,
          0.4423,
          0.6846,
          0.6846,
          0.6846,
          0.6846,
          0.4622,
          0.4622,
          0.4622,
          0.4622,
          0.7345,
          0.7345,
          0.7345,
          0.7345,
          0.0619,
          0.0619,
          0.0619,
          0.0619,
          1.0309,
          1.0309,
          1.0309,
          1.0309,
          0.7897,
          0.7897,
          0.7897,
          0.7897,
          0.8683,
          0.8683,
          0.8683,
          0.8683,
          0.3157,
          0.3157,
          0.3157,
          0.3157,
          0.9679,
          0.9679,
          0.9679,
          0.9679,
          0.709,
          0.709,
          0.709,
          0.709,
          0.9159,
          0.9159,
          0.9159,
          0.9159,
          0.9446,
          0.9446,
          0.9446,
          0.9446,
          0.6048,
          0.6048,
          0.6048,
          0.6048,
          0.4067,
          0.4067,
          0.4067,
          0.4067,
          0.7302,
          0.7302,
          0.7302,
          0.7302,
          0.2986,
          0.2986,
          0.2986,
          0.2986,
          0.714,
          0.714,
          0.714,
          0.714,
          0.7158,
          0.7158,
          0.7158,
          0.7158,
          0.5376,
          0.5376,
          0.5376,
          0.5376,
          0.3091,
          0.3091,
          0.3091,
          0.3091,
          0.6495,
          0.6495,
          0.6495,
          0.6495,
          0.7578,
          0.7578,
          0.7578,
          0.7578,
          0.8997,
          0.8997,
          0.8997,
          0.8997,
          0.8323,
          0.8323,
          0.8323,
          0.8323,
          0.7982,
          0.7982,
          0.7982,
          0.7982,
          0.6142,
          0.6142,
          0.6142,
          0.6142,
          0.6999,
          0.6999,
          0.6999,
          0.6999,
          0.738,
          0.738,
          0.738,
          0.738,
          0.3792,
          0.3792,
          0.3792,
          0.3792,
          0.3195,
          0.3195,
          0.3195,
          0.3195,
          0.3031,
          0.3031,
          0.3031,
          0.3031
         ],
         "xaxis": "x3",
         "y": [
          3.95636167786862,
          3.95636167786862,
          3.95636167786862,
          3.95636167786862,
          6.055838984210483,
          6.055838984210483,
          6.055838984210483,
          6.055838984210483,
          5.556760049502391,
          5.556760049502391,
          5.556760049502391,
          5.556760049502391,
          5.955067259963759,
          5.955067259963759,
          5.955067259963759,
          5.955067259963759,
          5.697362494795254,
          5.697362494795254,
          5.697362494795254,
          5.697362494795254,
          6.5668671352324175,
          6.5668671352324175,
          6.5668671352324175,
          6.5668671352324175,
          6.458527573986926,
          6.458527573986926,
          6.458527573986926,
          6.458527573986926,
          5.403411773474765,
          5.403411773474765,
          5.403411773474765,
          5.403411773474765,
          5.817651272354587,
          5.817651272354587,
          5.817651272354587,
          5.817651272354587,
          5.287504375230507,
          5.287504375230507,
          5.287504375230507,
          5.287504375230507,
          5.711701554371863,
          5.711701554371863,
          5.711701554371863,
          5.711701554371863,
          6.440603749516164,
          6.440603749516164,
          6.440603749516164,
          6.440603749516164,
          4.022082367594745,
          4.022082367594745,
          4.022082367594745,
          4.022082367594745,
          5.07839308973829,
          5.07839308973829,
          5.07839308973829,
          5.07839308973829,
          5.946702808544069,
          5.946702808544069,
          5.946702808544069,
          5.946702808544069,
          4.199727383460515,
          4.199727383460515,
          4.199727383460515,
          4.199727383460515,
          5.639607949278355,
          5.639607949278355,
          5.639607949278355,
          5.639607949278355,
          5.849914156401956,
          5.849914156401956,
          5.849914156401956,
          5.849914156401956,
          3.9774719600230726,
          3.9774719600230726,
          3.9774719600230726,
          3.9774719600230726,
          3.757606379848398,
          3.757606379848398,
          3.757606379848398,
          3.757606379848398,
          4.986782431332175,
          4.986782431332175,
          4.986782431332175,
          4.986782431332175,
          3.7372927121148685,
          3.7372927121148685,
          3.7372927121148685,
          3.7372927121148685,
          6.520663498818898,
          6.520663498818898,
          6.520663498818898,
          6.520663498818898,
          3.2955700157132126,
          3.2955700157132126,
          3.2955700157132126,
          3.2955700157132126,
          6.252602746178399,
          6.252602746178399,
          6.252602746178399,
          6.252602746178399,
          6.097262934098466,
          6.097262934098466,
          6.097262934098466,
          6.097262934098466,
          6.097262934098466,
          6.097262934098466,
          6.097262934098466,
          6.097262934098466,
          5.610929830125137,
          5.610929830125137,
          5.610929830125137,
          5.610929830125137,
          6.246229830811017,
          6.246229830811017,
          6.246229830811017,
          6.246229830811017,
          5.988126758432052,
          5.988126758432052,
          5.988126758432052,
          5.988126758432052,
          6.564477291969649,
          6.564477291969649,
          6.564477291969649,
          6.564477291969649,
          6.377272903052807,
          6.377272903052807,
          6.377272903052807,
          6.377272903052807,
          5.485861366040268,
          5.485861366040268,
          5.485861366040268,
          5.485861366040268,
          5.928380676862846,
          5.928380676862846,
          5.928380676862846,
          5.928380676862846,
          5.185537729352397,
          5.185537729352397,
          5.185537729352397,
          5.185537729352397,
          5.550785441345471,
          5.550785441345471,
          5.550785441345471,
          5.550785441345471,
          5.927584062441923,
          5.927584062441923,
          5.927584062441923,
          5.927584062441923,
          4.570551396400047,
          4.570551396400047,
          4.570551396400047,
          4.570551396400047,
          6.404357793364179,
          6.404357793364179,
          6.404357793364179,
          6.404357793364179,
          6.588375724597331,
          6.588375724597331,
          6.588375724597331,
          6.588375724597331,
          4.618746568865873,
          4.618746568865873,
          4.618746568865873,
          4.618746568865873,
          5.623277353649439,
          5.623277353649439,
          5.623277353649439,
          5.623277353649439,
          6.3848407400515725,
          6.3848407400515725,
          6.3848407400515725,
          6.3848407400515725,
          4.374584248853055,
          4.374584248853055,
          4.374584248853055,
          4.374584248853055,
          6.41630700967802,
          6.41630700967802,
          6.41630700967802,
          6.41630700967802,
          5.388674406687695,
          5.388674406687695,
          5.388674406687695,
          5.388674406687695,
          3.877098542986808,
          3.877098542986808,
          3.877098542986808,
          3.877098542986808,
          4.258676850608797,
          4.258676850608797,
          4.258676850608797,
          4.258676850608797,
          5.577073717235921,
          5.577073717235921,
          5.577073717235921,
          5.577073717235921,
          5.8550921501379545,
          5.8550921501379545,
          5.8550921501379545,
          5.8550921501379545,
          6.566468828021955,
          6.566468828021955,
          6.566468828021955,
          6.566468828021955,
          4.895968387346985,
          4.895968387346985,
          4.895968387346985,
          4.895968387346985,
          5.163630832777022,
          5.163630832777022,
          5.163630832777022,
          5.163630832777022,
          5.662311460274654,
          5.662311460274654,
          5.662311460274654,
          5.662311460274654,
          5.065248951793064,
          5.065248951793064,
          5.065248951793064,
          5.065248951793064,
          6.425866382729094,
          6.425866382729094,
          6.425866382729094,
          6.425866382729094,
          6.5099092041364415,
          6.5099092041364415,
          6.5099092041364415,
          6.5099092041364415,
          6.6377658186945405,
          6.6377658186945405,
          6.6377658186945405,
          6.6377658186945405,
          5.701345566899867,
          5.701345566899867,
          5.701345566899867,
          5.701345566899867,
          6.824571900400921,
          6.824571900400921,
          6.824571900400921,
          6.824571900400921,
          5.610133215704215,
          5.610133215704215,
          5.610133215704215,
          5.610133215704215,
          5.459573090149817,
          5.459573090149817,
          5.459573090149817,
          5.459573090149817,
          4.612771960708953,
          4.612771960708953,
          4.612771960708953,
          4.612771960708953,
          5.688998043375564,
          5.688998043375564,
          5.688998043375564,
          5.688998043375564,
          5.371547196637856,
          5.371547196637856,
          5.371547196637856,
          5.371547196637856,
          5.694972651532486,
          5.694972651532486,
          5.694972651532486,
          5.694972651532486,
          6.021982871321267,
          6.021982871321267,
          6.021982871321267,
          6.021982871321267,
          4.137591458628542,
          4.137591458628542,
          4.137591458628542,
          4.137591458628542,
          5.300648513175733,
          5.300648513175733,
          5.300648513175733,
          5.300648513175733,
          5.743167823998311,
          5.743167823998311,
          5.743167823998311,
          5.743167823998311,
          6.517477041135208,
          6.517477041135208,
          6.517477041135208,
          6.517477041135208,
          4.65300098896555,
          4.65300098896555,
          4.65300098896555,
          4.65300098896555,
          4.196939232987285,
          4.196939232987285,
          4.196939232987285,
          4.196939232987285,
          5.688599736165104,
          5.688599736165104,
          5.688599736165104,
          5.688599736165104,
          3.6926823045431956,
          3.6926823045431956,
          3.6926823045431956,
          3.6926823045431956,
          6.437815599042935,
          6.437815599042935,
          6.437815599042935,
          6.437815599042935,
          4.280185439973711,
          4.280185439973711,
          4.280185439973711,
          4.280185439973711,
          5.67864205590357,
          5.67864205590357,
          5.67864205590357,
          5.67864205590357,
          5.994101366588971,
          5.994101366588971,
          5.994101366588971,
          5.994101366588971,
          5.416954218630451,
          5.416954218630451,
          5.416954218630451,
          5.416954218630451,
          5.25324995513083,
          5.25324995513083,
          5.25324995513083,
          5.25324995513083,
          5.841151397771807,
          5.841151397771807,
          5.841151397771807,
          5.841151397771807,
          5.508166569826105,
          5.508166569826105,
          5.508166569826105,
          5.508166569826105,
          4.717128449849831,
          4.717128449849831,
          4.717128449849831,
          4.717128449849831,
          5.140130707359802,
          5.140130707359802,
          5.140130707359802,
          5.140130707359802,
          6.426264689939554,
          6.426264689939554,
          6.426264689939554,
          6.426264689939554,
          6.472866633563535,
          6.472866633563535,
          6.472866633563535,
          6.472866633563535,
          5.779812087360757,
          5.779812087360757,
          5.779812087360757,
          5.779812087360757,
          4.008539922439059,
          4.008539922439059,
          4.008539922439059,
          4.008539922439059,
          3.368858542438104,
          3.368858542438104,
          3.368858542438104,
          3.368858542438104,
          6.416705316888482,
          6.416705316888482,
          6.416705316888482,
          6.416705316888482,
          4.72867935895321,
          4.72867935895321,
          4.72867935895321,
          4.72867935895321,
          6.019194720848038,
          6.019194720848038,
          6.019194720848038,
          6.019194720848038,
          5.482276601146116,
          5.482276601146116,
          5.482276601146116,
          5.482276601146116,
          5.7371932158413905,
          5.7371932158413905,
          5.7371932158413905,
          5.7371932158413905,
          5.070825252739524,
          5.070825252739524,
          5.070825252739524,
          5.070825252739524,
          5.991313216115742,
          5.991313216115742,
          5.991313216115742,
          5.991313216115742,
          6.399976414049105,
          6.399976414049105,
          6.399976414049105,
          6.399976414049105,
          5.85349892129611,
          5.85349892129611,
          5.85349892129611,
          5.85349892129611,
          5.3918608643713855,
          5.3918608643713855,
          5.3918608643713855,
          5.3918608643713855,
          4.622729640970487,
          4.622729640970487,
          4.622729640970487,
          4.622729640970487,
          5.587828011918377,
          5.587828011918377,
          5.587828011918377,
          5.587828011918377,
          4.701992775852299,
          4.701992775852299,
          4.701992775852299,
          4.701992775852299,
          5.7865833099385995,
          5.7865833099385995,
          5.7865833099385995,
          5.7865833099385995,
          3.1075690123754476,
          3.1075690123754476,
          3.1075690123754476,
          3.1075690123754476,
          6.96716588174609,
          6.96716588174609,
          6.96716588174609,
          6.96716588174609,
          6.006448890113274,
          6.006448890113274,
          6.006448890113274,
          6.006448890113274,
          6.319518357535909,
          6.319518357535909,
          6.319518357535909,
          6.319518357535909,
          4.118472712526396,
          4.118472712526396,
          4.118472712526396,
          4.118472712526396,
          6.71623233915543,
          6.71623233915543,
          6.71623233915543,
          6.71623233915543,
          5.685014971270951,
          5.685014971270951,
          5.685014971270951,
          5.685014971270951,
          6.509112589715519,
          6.509112589715519,
          6.509112589715519,
          6.509112589715519,
          6.623426759117931,
          6.623426759117931,
          6.623426759117931,
          6.623426759117931,
          5.269978857970207,
          5.269978857970207,
          5.269978857970207,
          5.269978857970207,
          4.48093227404624,
          4.48093227404624,
          4.48093227404624,
          4.48093227404624,
          5.76945609988876,
          5.76945609988876,
          5.76945609988876,
          5.76945609988876,
          4.050362179537503,
          4.050362179537503,
          4.050362179537503,
          4.050362179537503,
          5.704930331794019,
          5.704930331794019,
          5.704930331794019,
          5.704930331794019,
          5.712099861582324,
          5.712099861582324,
          5.712099861582324,
          5.712099861582324,
          5.002316412540169,
          5.002316412540169,
          5.002316412540169,
          5.002316412540169,
          4.0921844366359466,
          4.0921844366359466,
          4.0921844366359466,
          4.0921844366359466,
          5.448022181046438,
          5.448022181046438,
          5.448022181046438,
          5.448022181046438,
          5.879388889976099,
          5.879388889976099,
          5.879388889976099,
          5.879388889976099,
          6.444586821620778,
          6.444586821620778,
          6.444586821620778,
          6.444586821620778,
          6.176127761769816,
          6.176127761769816,
          6.176127761769816,
          6.176127761769816,
          6.040305003002491,
          6.040305003002491,
          6.040305003002491,
          6.040305003002491,
          5.307419735753576,
          5.307419735753576,
          5.307419735753576,
          5.307419735753576,
          5.648769015118967,
          5.648769015118967,
          5.648769015118967,
          5.648769015118967,
          5.800524062304747,
          5.800524062304747,
          5.800524062304747,
          5.800524062304747,
          4.371397791169364,
          4.371397791169364,
          4.371397791169364,
          4.371397791169364,
          4.133608386523928,
          4.133608386523928,
          4.133608386523928,
          4.133608386523928,
          4.0682860040082645,
          4.0682860040082645,
          4.0682860040082645,
          4.0682860040082645
         ],
         "yaxis": "y3"
        },
        {
         "mode": "lines",
         "name": "Relationship between Freedom Index and Happiness Score",
         "type": "scatter",
         "x": [
          0.1063,
          0.1063,
          0.1063,
          0.1063,
          0.3852,
          0.3852,
          0.3852,
          0.3852,
          0.1705,
          0.1705,
          0.1705,
          0.1705,
          0.4963,
          0.4963,
          0.4963,
          0.4963,
          0.2349,
          0.2349,
          0.2349,
          0.2349,
          0.6142,
          0.6142,
          0.6142,
          0.6142,
          0.5853,
          0.5853,
          0.5853,
          0.5853,
          0.3874,
          0.3874,
          0.3874,
          0.3874,
          0.5304,
          0.5304,
          0.5304,
          0.5304,
          0.4984,
          0.4984,
          0.4984,
          0.4984,
          0.3042,
          0.3042,
          0.3042,
          0.3042,
          0.5451,
          0.5451,
          0.5451,
          0.5451,
          0.4249,
          0.4249,
          0.4249,
          0.4249,
          0.5625,
          0.5625,
          0.5625,
          0.5625,
          0.1972,
          0.1972,
          0.1972,
          0.1972,
          0.503,
          0.503,
          0.503,
          0.503,
          0.4527,
          0.4527,
          0.4527,
          0.4527,
          0.3163,
          0.3163,
          0.3163,
          0.3163,
          0.3216,
          0.3216,
          0.3216,
          0.3216,
          0.1159,
          0.1159,
          0.1159,
          0.1159,
          0.6502,
          0.6502,
          0.6502,
          0.6502,
          0.4396,
          0.4396,
          0.4396,
          0.4396,
          0.6203,
          0.6203,
          0.6203,
          0.6203,
          0.1901,
          0.1901,
          0.1901,
          0.1901,
          0.4016,
          0.4016,
          0.4016,
          0.4016,
          0.5269,
          0.5269,
          0.5269,
          0.5269,
          0.5269,
          0.5269,
          0.5269,
          0.5269,
          0.5033,
          0.5033,
          0.5033,
          0.5033,
          0.601,
          0.601,
          0.601,
          0.601,
          0.2977,
          0.2977,
          0.2977,
          0.2977,
          0.3977,
          0.3977,
          0.3977,
          0.3977,
          0.6376,
          0.6376,
          0.6376,
          0.6376,
          0.5511,
          0.5511,
          0.5511,
          0.5511,
          0.4987,
          0.4987,
          0.4987,
          0.4987,
          0.252,
          0.252,
          0.252,
          0.252,
          0.4317,
          0.4317,
          0.4317,
          0.4317,
          0.494,
          0.494,
          0.494,
          0.494,
          0.4098,
          0.4098,
          0.4098,
          0.4098,
          0.6342,
          0.6342,
          0.6342,
          0.6342,
          0.4941,
          0.4941,
          0.4941,
          0.4941,
          0.3206,
          0.3206,
          0.3206,
          0.3206,
          0.359,
          0.359,
          0.359,
          0.359,
          0.5646,
          0.5646,
          0.5646,
          0.5646,
          0.4316,
          0.4316,
          0.4316,
          0.4316,
          0.0927,
          0.0927,
          0.0927,
          0.0927,
          0.5619,
          0.5619,
          0.5619,
          0.5619,
          0.363,
          0.363,
          0.363,
          0.363,
          0.0814,
          0.0814,
          0.0814,
          0.0814,
          0.4289,
          0.4289,
          0.4289,
          0.4289,
          0.2387,
          0.2387,
          0.2387,
          0.2387,
          0.631,
          0.631,
          0.631,
          0.631,
          0.4762,
          0.4762,
          0.4762,
          0.4762,
          0.4846,
          0.4846,
          0.4846,
          0.4846,
          0.3284,
          0.3284,
          0.3284,
          0.3284,
          0.2084,
          0.2084,
          0.2084,
          0.2084,
          0.5802,
          0.5802,
          0.5802,
          0.5802,
          0.4308,
          0.4308,
          0.4308,
          0.4308,
          0.2577,
          0.2577,
          0.2577,
          0.2577,
          0.5109,
          0.5109,
          0.5109,
          0.5109,
          0.4999,
          0.4999,
          0.4999,
          0.4999,
          0.419,
          0.419,
          0.419,
          0.419,
          0.4545,
          0.4545,
          0.4545,
          0.4545,
          0.4525,
          0.4525,
          0.4525,
          0.4525,
          0.5246,
          0.5246,
          0.5246,
          0.5246,
          0.4844,
          0.4844,
          0.4844,
          0.4844,
          0.3124,
          0.3124,
          0.3124,
          0.3124,
          0.3367,
          0.3367,
          0.3367,
          0.3367,
          0.3518,
          0.3518,
          0.3518,
          0.3518,
          0.4486,
          0.4486,
          0.4486,
          0.4486,
          0.2722,
          0.2722,
          0.2722,
          0.2722,
          0.5926,
          0.5926,
          0.5926,
          0.5926,
          0.1875,
          0.1875,
          0.1875,
          0.1875,
          0.4679,
          0.4679,
          0.4679,
          0.4679,
          0.4491,
          0.4491,
          0.4491,
          0.4491,
          0.3473,
          0.3473,
          0.3473,
          0.3473,
          0.6004,
          0.6004,
          0.6004,
          0.6004,
          0.1334,
          0.1334,
          0.1334,
          0.1334,
          0.5335,
          0.5335,
          0.5335,
          0.5335,
          0.4516,
          0.4516,
          0.4516,
          0.4516,
          0.2615,
          0.2615,
          0.2615,
          0.2615,
          0.3856,
          0.3856,
          0.3856,
          0.3856,
          0.2084,
          0.2084,
          0.2084,
          0.2084,
          0.4258,
          0.4258,
          0.4258,
          0.4258,
          0.5149,
          0.5149,
          0.5149,
          0.5149,
          0.447,
          0.447,
          0.447,
          0.447,
          0.599,
          0.599,
          0.599,
          0.599,
          0.6269,
          0.6269,
          0.6269,
          0.6269,
          0.4911,
          0.4911,
          0.4911,
          0.4911,
          0.3871,
          0.3871,
          0.3871,
          0.3871,
          0.4066,
          0.4066,
          0.4066,
          0.4066,
          0.6485,
          0.6485,
          0.6485,
          0.6485,
          0.2508,
          0.2508,
          0.2508,
          0.2508,
          0.5513,
          0.5513,
          0.5513,
          0.5513,
          0.5169,
          0.5169,
          0.5169,
          0.5169,
          0.4625,
          0.4625,
          0.4625,
          0.4625,
          0.6029,
          0.6029,
          0.6029,
          0.6029,
          0.5201,
          0.5201,
          0.5201,
          0.5201,
          0.5208,
          0.5208,
          0.5208,
          0.5208,
          0.4494,
          0.4494,
          0.4494,
          0.4494,
          0.3684,
          0.3684,
          0.3684,
          0.3684,
          0.5912,
          0.5912,
          0.5912,
          0.5912,
          0.4271,
          0.4271,
          0.4271,
          0.4271,
          0.3609,
          0.3609,
          0.3609,
          0.3609,
          0.2449,
          0.2449,
          0.2449,
          0.2449,
          0.3478,
          0.3478,
          0.3478,
          0.3478,
          0.5698,
          0.5698,
          0.5698,
          0.5698,
          0.3253,
          0.3253,
          0.3253,
          0.3253,
          0.5945,
          0.5945,
          0.5945,
          0.5945,
          0.4291,
          0.4291,
          0.4291,
          0.4291,
          0.4198,
          0.4198,
          0.4198,
          0.4198,
          0.5384,
          0.5384,
          0.5384,
          0.5384,
          0.6264,
          0.6264,
          0.6264,
          0.6264,
          0.6294,
          0.6294,
          0.6294,
          0.6294,
          0.4062,
          0.4062,
          0.4062,
          0.4062,
          0.4042,
          0.4042,
          0.4042,
          0.4042,
          0.5827,
          0.5827,
          0.5827,
          0.5827,
          0.368,
          0.368,
          0.368,
          0.368,
          0.2476,
          0.2476,
          0.2476,
          0.2476,
          0.262,
          0.262,
          0.262,
          0.262,
          0.4263,
          0.4263,
          0.4263,
          0.4263,
          0.4266,
          0.4266,
          0.4266,
          0.4266,
          0.1788,
          0.1788,
          0.1788,
          0.1788,
          0.533,
          0.533,
          0.533,
          0.533,
          0.5046,
          0.5046,
          0.5046,
          0.5046,
          0.5132,
          0.5132,
          0.5132,
          0.5132,
          0.5828,
          0.5828,
          0.5828,
          0.5828,
          0.6679,
          0.6679,
          0.6679,
          0.6679,
          0.2175,
          0.2175,
          0.2175,
          0.2175,
          0.5816,
          0.5816,
          0.5816,
          0.5816,
          0.248,
          0.248,
          0.248,
          0.248,
          0.471,
          0.471,
          0.471,
          0.471,
          0.3405,
          0.3405,
          0.3405,
          0.3405
         ],
         "xaxis": "x4",
         "y": [
          3.9823868914771126,
          3.9823868914771126,
          3.9823868914771126,
          3.9823868914771126,
          5.256561237155812,
          5.256561237155812,
          5.256561237155812,
          5.256561237155812,
          4.275689125226028,
          4.275689125226028,
          4.275689125226028,
          4.275689125226028,
          5.764129432942486,
          5.764129432942486,
          5.764129432942486,
          5.764129432942486,
          4.569905073098772,
          4.569905073098772,
          4.569905073098772,
          4.569905073098772,
          6.302763908939326,
          6.302763908939326,
          6.302763908939326,
          6.302763908939326,
          6.1707322180461235,
          6.1707322180461235,
          6.1707322180461235,
          6.1707322180461235,
          5.266612092517924,
          5.266612092517924,
          5.266612092517924,
          5.266612092517924,
          5.919917691055228,
          5.919917691055228,
          5.919917691055228,
          5.919917691055228,
          5.773723431242685,
          5.773723431242685,
          5.773723431242685,
          5.773723431242685,
          4.886507017005311,
          4.886507017005311,
          4.886507017005311,
          4.886507017005311,
          5.987075679156615,
          5.987075679156615,
          5.987075679156615,
          5.987075679156615,
          5.437933490735749,
          5.437933490735749,
          5.437933490735749,
          5.437933490735749,
          6.066568807929686,
          6.066568807929686,
          6.066568807929686,
          6.066568807929686,
          4.397669960757119,
          4.397669960757119,
          4.397669960757119,
          4.397669960757119,
          5.794738856090738,
          5.794738856090738,
          5.794738856090738,
          5.794738856090738,
          5.564939753947896,
          5.564939753947896,
          5.564939753947896,
          5.564939753947896,
          4.941786721496929,
          4.941786721496929,
          4.941786721496929,
          4.941786721496929,
          4.966000145778382,
          4.966000145778382,
          4.966000145778382,
          4.966000145778382,
          4.026245169420875,
          4.026245169420875,
          4.026245169420875,
          4.026245169420875,
          6.467232451228438,
          6.467232451228438,
          6.467232451228438,
          6.467232451228438,
          5.5050914788371355,
          5.5050914788371355,
          5.5050914788371355,
          5.5050914788371355,
          6.330632189716093,
          6.330632189716093,
          6.330632189716093,
          6.330632189716093,
          4.365233109361211,
          4.365233109361211,
          4.365233109361211,
          4.365233109361211,
          5.3314857953097405,
          5.3314857953097405,
          5.3314857953097405,
          5.3314857953097405,
          5.903927693888232,
          5.903927693888232,
          5.903927693888232,
          5.903927693888232,
          5.903927693888232,
          5.903927693888232,
          5.903927693888232,
          5.903927693888232,
          5.79610942727648,
          5.79610942727648,
          5.79610942727648,
          5.79610942727648,
          6.242458776766652,
          6.242458776766652,
          6.242458776766652,
          6.242458776766652,
          4.856811307980888,
          4.856811307980888,
          4.856811307980888,
          4.856811307980888,
          5.313668369895087,
          5.313668369895087,
          5.313668369895087,
          5.313668369895087,
          6.409668461427248,
          6.409668461427248,
          6.409668461427248,
          6.409668461427248,
          6.014487102871467,
          6.014487102871467,
          6.014487102871467,
          6.014487102871467,
          5.7750940024284265,
          5.7750940024284265,
          5.7750940024284265,
          5.7750940024284265,
          4.6480276306861,
          4.6480276306861,
          4.6480276306861,
          4.6480276306861,
          5.468999770945914,
          5.468999770945914,
          5.468999770945914,
          5.468999770945914,
          5.75362172051846,
          5.75362172051846,
          5.75362172051846,
          5.75362172051846,
          5.368948074386704,
          5.368948074386704,
          5.368948074386704,
          5.368948074386704,
          6.394135321322166,
          6.394135321322166,
          6.394135321322166,
          6.394135321322166,
          5.754078577580374,
          5.754078577580374,
          5.754078577580374,
          5.754078577580374,
          4.9614315751592395,
          4.9614315751592395,
          4.9614315751592395,
          4.9614315751592395,
          5.136864686934292,
          5.136864686934292,
          5.136864686934292,
          5.136864686934292,
          6.076162806229884,
          6.076162806229884,
          6.076162806229884,
          6.076162806229884,
          5.468542913884,
          5.468542913884,
          5.468542913884,
          5.468542913884,
          3.9202543310567814,
          3.9202543310567814,
          3.9202543310567814,
          3.9202543310567814,
          6.0638276655582,
          6.0638276655582,
          6.0638276655582,
          6.0638276655582,
          5.15513896941086,
          5.15513896941086,
          5.15513896941086,
          5.15513896941086,
          3.868629483060477,
          3.868629483060477,
          3.868629483060477,
          3.868629483060477,
          5.456207773212316,
          5.456207773212316,
          5.456207773212316,
          5.456207773212316,
          4.587265641451511,
          4.587265641451511,
          4.587265641451511,
          4.587265641451511,
          6.379515895340912,
          6.379515895340912,
          6.379515895340912,
          6.379515895340912,
          5.672301163497733,
          5.672301163497733,
          5.672301163497733,
          5.672301163497733,
          5.710677156698525,
          5.710677156698525,
          5.710677156698525,
          5.710677156698525,
          4.997066425988548,
          4.997066425988548,
          4.997066425988548,
          4.997066425988548,
          4.448837951691509,
          4.448837951691509,
          4.448837951691509,
          4.448837951691509,
          6.1474325078884995,
          6.1474325078884995,
          6.1474325078884995,
          6.1474325078884995,
          5.464888057388686,
          5.464888057388686,
          5.464888057388686,
          5.464888057388686,
          4.674068483215208,
          4.674068483215208,
          4.674068483215208,
          4.674068483215208,
          5.8308305639819595,
          5.8308305639819595,
          5.8308305639819595,
          5.8308305639819595,
          5.780576287171398,
          5.780576287171398,
          5.780576287171398,
          5.780576287171398,
          5.410978924082811,
          5.410978924082811,
          5.410978924082811,
          5.410978924082811,
          5.573163181062352,
          5.573163181062352,
          5.573163181062352,
          5.573163181062352,
          5.564026039824068,
          5.564026039824068,
          5.564026039824068,
          5.564026039824068,
          5.893419981464204,
          5.893419981464204,
          5.893419981464204,
          5.893419981464204,
          5.7097634425746975,
          5.7097634425746975,
          5.7097634425746975,
          5.7097634425746975,
          4.923969296082276,
          4.923969296082276,
          4.923969296082276,
          4.923969296082276,
          5.034985562127426,
          5.034985562127426,
          5.034985562127426,
          5.034985562127426,
          5.10397097847647,
          5.10397097847647,
          5.10397097847647,
          5.10397097847647,
          5.546208614409414,
          5.546208614409414,
          5.546208614409414,
          5.546208614409414,
          4.7403127571927675,
          4.7403127571927675,
          4.7403127571927675,
          4.7403127571927675,
          6.20408278356586,
          6.20408278356586,
          6.20408278356586,
          6.20408278356586,
          4.353354825751442,
          4.353354825751442,
          4.353354825751442,
          4.353354825751442,
          5.634382027358853,
          5.634382027358853,
          5.634382027358853,
          5.634382027358853,
          5.548492899718985,
          5.548492899718985,
          5.548492899718985,
          5.548492899718985,
          5.083412410690331,
          5.083412410690331,
          5.083412410690331,
          5.083412410690331,
          6.239717634395167,
          6.239717634395167,
          6.239717634395167,
          6.239717634395167,
          4.10619515525586,
          4.10619515525586,
          4.10619515525586,
          4.10619515525586,
          5.934080259974568,
          5.934080259974568,
          5.934080259974568,
          5.934080259974568,
          5.55991432626684,
          5.55991432626684,
          5.55991432626684,
          5.55991432626684,
          4.691429051567948,
          4.691429051567948,
          4.691429051567948,
          4.691429051567948,
          5.258388665403469,
          5.258388665403469,
          5.258388665403469,
          5.258388665403469,
          4.448837951691509,
          4.448837951691509,
          4.448837951691509,
          4.448837951691509,
          5.442045204292977,
          5.442045204292977,
          5.442045204292977,
          5.442045204292977,
          5.849104846458527,
          5.849104846458527,
          5.849104846458527,
          5.849104846458527,
          5.538898901418786,
          5.538898901418786,
          5.538898901418786,
          5.538898901418786,
          6.233321635528368,
          6.233321635528368,
          6.233321635528368,
          6.233321635528368,
          6.360784755802429,
          6.360784755802429,
          6.360784755802429,
          6.360784755802429,
          5.740372865722948,
          5.740372865722948,
          5.740372865722948,
          5.740372865722948,
          5.2652415213321815,
          5.2652415213321815,
          5.2652415213321815,
          5.2652415213321815,
          5.354328648405451,
          5.354328648405451,
          5.354328648405451,
          5.354328648405451,
          6.4594658811758965,
          6.4594658811758965,
          6.4594658811758965,
          6.4594658811758965,
          4.642545345943129,
          4.642545345943129,
          4.642545345943129,
          4.642545345943129,
          6.015400816995296,
          6.015400816995296,
          6.015400816995296,
          6.015400816995296,
          5.858241987696811,
          5.858241987696811,
          5.858241987696811,
          5.858241987696811,
          5.6097117460154875,
          5.6097117460154875,
          5.6097117460154875,
          5.6097117460154875,
          6.2511390609430215,
          6.2511390609430215,
          6.2511390609430215,
          6.2511390609430215,
          5.872861413678066,
          5.872861413678066,
          5.872861413678066,
          5.872861413678066,
          5.876059413111465,
          5.876059413111465,
          5.876059413111465,
          5.876059413111465,
          5.549863470904727,
          5.549863470904727,
          5.549863470904727,
          5.549863470904727,
          5.179809250754227,
          5.179809250754227,
          5.179809250754227,
          5.179809250754227,
          6.19768678469906,
          6.19768678469906,
          6.19768678469906,
          6.19768678469906,
          5.447984346097861,
          5.447984346097861,
          5.447984346097861,
          5.447984346097861,
          5.145544971110661,
          5.145544971110661,
          5.145544971110661,
          5.145544971110661,
          4.615590779290192,
          4.615590779290192,
          4.615590779290192,
          4.615590779290192,
          5.085696695999902,
          5.085696695999902,
          5.085696695999902,
          5.085696695999902,
          6.099919373449422,
          6.099919373449422,
          6.099919373449422,
          6.099919373449422,
          4.982903857069207,
          4.982903857069207,
          4.982903857069207,
          4.982903857069207,
          6.212763067742229,
          6.212763067742229,
          6.212763067742229,
          6.212763067742229,
          5.4571214873361455,
          5.4571214873361455,
          5.4571214873361455,
          5.4571214873361455,
          5.414633780578125,
          5.414633780578125,
          5.414633780578125,
          5.414633780578125,
          5.956466256008364,
          5.956466256008364,
          5.956466256008364,
          5.956466256008364,
          6.358500470492858,
          6.358500470492858,
          6.358500470492858,
          6.358500470492858,
          6.3722061823502845,
          6.3722061823502845,
          6.3722061823502845,
          6.3722061823502845,
          5.3525012201577935,
          5.3525012201577935,
          5.3525012201577935,
          5.3525012201577935,
          5.343364078919509,
          5.343364078919509,
          5.343364078919509,
          5.343364078919509,
          6.158853934436354,
          6.158853934436354,
          6.158853934436354,
          6.158853934436354,
          5.1779818225065695,
          5.1779818225065695,
          5.1779818225065695,
          5.1779818225065695,
          4.627925919961875,
          4.627925919961875,
          4.627925919961875,
          4.627925919961875,
          4.6937133368775195,
          4.6937133368775195,
          4.6937133368775195,
          4.6937133368775195,
          5.444329489602548,
          5.444329489602548,
          5.444329489602548,
          5.444329489602548,
          5.44570006078829,
          5.44570006078829,
          5.44570006078829,
          5.44570006078829,
          4.313608261364906,
          4.313608261364906,
          4.313608261364906,
          4.313608261364906,
          5.931795974664997,
          5.931795974664997,
          5.931795974664997,
          5.931795974664997,
          5.802048569081365,
          5.802048569081365,
          5.802048569081365,
          5.802048569081365,
          5.8413382764059865,
          5.8413382764059865,
          5.8413382764059865,
          5.8413382764059865,
          6.159310791498268,
          6.159310791498268,
          6.159310791498268,
          6.159310791498268,
          6.548096151187251,
          6.548096151187251,
          6.548096151187251,
          6.548096151187251,
          4.490411944325701,
          4.490411944325701,
          4.490411944325701,
          4.490411944325701,
          6.153828506755298,
          6.153828506755298,
          6.153828506755298,
          6.153828506755298,
          4.629753348209531,
          4.629753348209531,
          4.629753348209531,
          4.629753348209531,
          5.648544596278194,
          5.648544596278194,
          5.648544596278194,
          5.648544596278194,
          5.052346130480165,
          5.052346130480165,
          5.052346130480165,
          5.052346130480165
         ],
         "yaxis": "y4"
        }
       ],
       "layout": {
        "annotations": [
         {
          "font": {
           "size": 16
          },
          "showarrow": false,
          "text": "GDP & Happiness",
          "x": 0.225,
          "xanchor": "center",
          "xref": "paper",
          "y": 1,
          "yanchor": "bottom",
          "yref": "paper"
         },
         {
          "font": {
           "size": 16
          },
          "showarrow": false,
          "text": "Education & Happiness",
          "x": 0.775,
          "xanchor": "center",
          "xref": "paper",
          "y": 1,
          "yanchor": "bottom",
          "yref": "paper"
         },
         {
          "font": {
           "size": 16
          },
          "showarrow": false,
          "text": "Health & Happiness",
          "x": 0.225,
          "xanchor": "center",
          "xref": "paper",
          "y": 0.375,
          "yanchor": "bottom",
          "yref": "paper"
         },
         {
          "font": {
           "size": 16
          },
          "showarrow": false,
          "text": "Freedom & Happiness",
          "x": 0.775,
          "xanchor": "center",
          "xref": "paper",
          "y": 0.375,
          "yanchor": "bottom",
          "yref": "paper"
         }
        ],
        "height": 900,
        "template": {
         "data": {
          "bar": [
           {
            "error_x": {
             "color": "#2a3f5f"
            },
            "error_y": {
             "color": "#2a3f5f"
            },
            "marker": {
             "line": {
              "color": "#E5ECF6",
              "width": 0.5
             },
             "pattern": {
              "fillmode": "overlay",
              "size": 10,
              "solidity": 0.2
             }
            },
            "type": "bar"
           }
          ],
          "barpolar": [
           {
            "marker": {
             "line": {
              "color": "#E5ECF6",
              "width": 0.5
             },
             "pattern": {
              "fillmode": "overlay",
              "size": 10,
              "solidity": 0.2
             }
            },
            "type": "barpolar"
           }
          ],
          "carpet": [
           {
            "aaxis": {
             "endlinecolor": "#2a3f5f",
             "gridcolor": "white",
             "linecolor": "white",
             "minorgridcolor": "white",
             "startlinecolor": "#2a3f5f"
            },
            "baxis": {
             "endlinecolor": "#2a3f5f",
             "gridcolor": "white",
             "linecolor": "white",
             "minorgridcolor": "white",
             "startlinecolor": "#2a3f5f"
            },
            "type": "carpet"
           }
          ],
          "choropleth": [
           {
            "colorbar": {
             "outlinewidth": 0,
             "ticks": ""
            },
            "type": "choropleth"
           }
          ],
          "contour": [
           {
            "colorbar": {
             "outlinewidth": 0,
             "ticks": ""
            },
            "colorscale": [
             [
              0,
              "#0d0887"
             ],
             [
              0.1111111111111111,
              "#46039f"
             ],
             [
              0.2222222222222222,
              "#7201a8"
             ],
             [
              0.3333333333333333,
              "#9c179e"
             ],
             [
              0.4444444444444444,
              "#bd3786"
             ],
             [
              0.5555555555555556,
              "#d8576b"
             ],
             [
              0.6666666666666666,
              "#ed7953"
             ],
             [
              0.7777777777777778,
              "#fb9f3a"
             ],
             [
              0.8888888888888888,
              "#fdca26"
             ],
             [
              1,
              "#f0f921"
             ]
            ],
            "type": "contour"
           }
          ],
          "contourcarpet": [
           {
            "colorbar": {
             "outlinewidth": 0,
             "ticks": ""
            },
            "type": "contourcarpet"
           }
          ],
          "heatmap": [
           {
            "colorbar": {
             "outlinewidth": 0,
             "ticks": ""
            },
            "colorscale": [
             [
              0,
              "#0d0887"
             ],
             [
              0.1111111111111111,
              "#46039f"
             ],
             [
              0.2222222222222222,
              "#7201a8"
             ],
             [
              0.3333333333333333,
              "#9c179e"
             ],
             [
              0.4444444444444444,
              "#bd3786"
             ],
             [
              0.5555555555555556,
              "#d8576b"
             ],
             [
              0.6666666666666666,
              "#ed7953"
             ],
             [
              0.7777777777777778,
              "#fb9f3a"
             ],
             [
              0.8888888888888888,
              "#fdca26"
             ],
             [
              1,
              "#f0f921"
             ]
            ],
            "type": "heatmap"
           }
          ],
          "heatmapgl": [
           {
            "colorbar": {
             "outlinewidth": 0,
             "ticks": ""
            },
            "colorscale": [
             [
              0,
              "#0d0887"
             ],
             [
              0.1111111111111111,
              "#46039f"
             ],
             [
              0.2222222222222222,
              "#7201a8"
             ],
             [
              0.3333333333333333,
              "#9c179e"
             ],
             [
              0.4444444444444444,
              "#bd3786"
             ],
             [
              0.5555555555555556,
              "#d8576b"
             ],
             [
              0.6666666666666666,
              "#ed7953"
             ],
             [
              0.7777777777777778,
              "#fb9f3a"
             ],
             [
              0.8888888888888888,
              "#fdca26"
             ],
             [
              1,
              "#f0f921"
             ]
            ],
            "type": "heatmapgl"
           }
          ],
          "histogram": [
           {
            "marker": {
             "pattern": {
              "fillmode": "overlay",
              "size": 10,
              "solidity": 0.2
             }
            },
            "type": "histogram"
           }
          ],
          "histogram2d": [
           {
            "colorbar": {
             "outlinewidth": 0,
             "ticks": ""
            },
            "colorscale": [
             [
              0,
              "#0d0887"
             ],
             [
              0.1111111111111111,
              "#46039f"
             ],
             [
              0.2222222222222222,
              "#7201a8"
             ],
             [
              0.3333333333333333,
              "#9c179e"
             ],
             [
              0.4444444444444444,
              "#bd3786"
             ],
             [
              0.5555555555555556,
              "#d8576b"
             ],
             [
              0.6666666666666666,
              "#ed7953"
             ],
             [
              0.7777777777777778,
              "#fb9f3a"
             ],
             [
              0.8888888888888888,
              "#fdca26"
             ],
             [
              1,
              "#f0f921"
             ]
            ],
            "type": "histogram2d"
           }
          ],
          "histogram2dcontour": [
           {
            "colorbar": {
             "outlinewidth": 0,
             "ticks": ""
            },
            "colorscale": [
             [
              0,
              "#0d0887"
             ],
             [
              0.1111111111111111,
              "#46039f"
             ],
             [
              0.2222222222222222,
              "#7201a8"
             ],
             [
              0.3333333333333333,
              "#9c179e"
             ],
             [
              0.4444444444444444,
              "#bd3786"
             ],
             [
              0.5555555555555556,
              "#d8576b"
             ],
             [
              0.6666666666666666,
              "#ed7953"
             ],
             [
              0.7777777777777778,
              "#fb9f3a"
             ],
             [
              0.8888888888888888,
              "#fdca26"
             ],
             [
              1,
              "#f0f921"
             ]
            ],
            "type": "histogram2dcontour"
           }
          ],
          "mesh3d": [
           {
            "colorbar": {
             "outlinewidth": 0,
             "ticks": ""
            },
            "type": "mesh3d"
           }
          ],
          "parcoords": [
           {
            "line": {
             "colorbar": {
              "outlinewidth": 0,
              "ticks": ""
             }
            },
            "type": "parcoords"
           }
          ],
          "pie": [
           {
            "automargin": true,
            "type": "pie"
           }
          ],
          "scatter": [
           {
            "fillpattern": {
             "fillmode": "overlay",
             "size": 10,
             "solidity": 0.2
            },
            "type": "scatter"
           }
          ],
          "scatter3d": [
           {
            "line": {
             "colorbar": {
              "outlinewidth": 0,
              "ticks": ""
             }
            },
            "marker": {
             "colorbar": {
              "outlinewidth": 0,
              "ticks": ""
             }
            },
            "type": "scatter3d"
           }
          ],
          "scattercarpet": [
           {
            "marker": {
             "colorbar": {
              "outlinewidth": 0,
              "ticks": ""
             }
            },
            "type": "scattercarpet"
           }
          ],
          "scattergeo": [
           {
            "marker": {
             "colorbar": {
              "outlinewidth": 0,
              "ticks": ""
             }
            },
            "type": "scattergeo"
           }
          ],
          "scattergl": [
           {
            "marker": {
             "colorbar": {
              "outlinewidth": 0,
              "ticks": ""
             }
            },
            "type": "scattergl"
           }
          ],
          "scattermapbox": [
           {
            "marker": {
             "colorbar": {
              "outlinewidth": 0,
              "ticks": ""
             }
            },
            "type": "scattermapbox"
           }
          ],
          "scatterpolar": [
           {
            "marker": {
             "colorbar": {
              "outlinewidth": 0,
              "ticks": ""
             }
            },
            "type": "scatterpolar"
           }
          ],
          "scatterpolargl": [
           {
            "marker": {
             "colorbar": {
              "outlinewidth": 0,
              "ticks": ""
             }
            },
            "type": "scatterpolargl"
           }
          ],
          "scatterternary": [
           {
            "marker": {
             "colorbar": {
              "outlinewidth": 0,
              "ticks": ""
             }
            },
            "type": "scatterternary"
           }
          ],
          "surface": [
           {
            "colorbar": {
             "outlinewidth": 0,
             "ticks": ""
            },
            "colorscale": [
             [
              0,
              "#0d0887"
             ],
             [
              0.1111111111111111,
              "#46039f"
             ],
             [
              0.2222222222222222,
              "#7201a8"
             ],
             [
              0.3333333333333333,
              "#9c179e"
             ],
             [
              0.4444444444444444,
              "#bd3786"
             ],
             [
              0.5555555555555556,
              "#d8576b"
             ],
             [
              0.6666666666666666,
              "#ed7953"
             ],
             [
              0.7777777777777778,
              "#fb9f3a"
             ],
             [
              0.8888888888888888,
              "#fdca26"
             ],
             [
              1,
              "#f0f921"
             ]
            ],
            "type": "surface"
           }
          ],
          "table": [
           {
            "cells": {
             "fill": {
              "color": "#EBF0F8"
             },
             "line": {
              "color": "white"
             }
            },
            "header": {
             "fill": {
              "color": "#C8D4E3"
             },
             "line": {
              "color": "white"
             }
            },
            "type": "table"
           }
          ]
         },
         "layout": {
          "annotationdefaults": {
           "arrowcolor": "#2a3f5f",
           "arrowhead": 0,
           "arrowwidth": 1
          },
          "autotypenumbers": "strict",
          "coloraxis": {
           "colorbar": {
            "outlinewidth": 0,
            "ticks": ""
           }
          },
          "colorscale": {
           "diverging": [
            [
             0,
             "#8e0152"
            ],
            [
             0.1,
             "#c51b7d"
            ],
            [
             0.2,
             "#de77ae"
            ],
            [
             0.3,
             "#f1b6da"
            ],
            [
             0.4,
             "#fde0ef"
            ],
            [
             0.5,
             "#f7f7f7"
            ],
            [
             0.6,
             "#e6f5d0"
            ],
            [
             0.7,
             "#b8e186"
            ],
            [
             0.8,
             "#7fbc41"
            ],
            [
             0.9,
             "#4d9221"
            ],
            [
             1,
             "#276419"
            ]
           ],
           "sequential": [
            [
             0,
             "#0d0887"
            ],
            [
             0.1111111111111111,
             "#46039f"
            ],
            [
             0.2222222222222222,
             "#7201a8"
            ],
            [
             0.3333333333333333,
             "#9c179e"
            ],
            [
             0.4444444444444444,
             "#bd3786"
            ],
            [
             0.5555555555555556,
             "#d8576b"
            ],
            [
             0.6666666666666666,
             "#ed7953"
            ],
            [
             0.7777777777777778,
             "#fb9f3a"
            ],
            [
             0.8888888888888888,
             "#fdca26"
            ],
            [
             1,
             "#f0f921"
            ]
           ],
           "sequentialminus": [
            [
             0,
             "#0d0887"
            ],
            [
             0.1111111111111111,
             "#46039f"
            ],
            [
             0.2222222222222222,
             "#7201a8"
            ],
            [
             0.3333333333333333,
             "#9c179e"
            ],
            [
             0.4444444444444444,
             "#bd3786"
            ],
            [
             0.5555555555555556,
             "#d8576b"
            ],
            [
             0.6666666666666666,
             "#ed7953"
            ],
            [
             0.7777777777777778,
             "#fb9f3a"
            ],
            [
             0.8888888888888888,
             "#fdca26"
            ],
            [
             1,
             "#f0f921"
            ]
           ]
          },
          "colorway": [
           "#636efa",
           "#EF553B",
           "#00cc96",
           "#ab63fa",
           "#FFA15A",
           "#19d3f3",
           "#FF6692",
           "#B6E880",
           "#FF97FF",
           "#FECB52"
          ],
          "font": {
           "color": "#2a3f5f"
          },
          "geo": {
           "bgcolor": "white",
           "lakecolor": "white",
           "landcolor": "#E5ECF6",
           "showlakes": true,
           "showland": true,
           "subunitcolor": "white"
          },
          "hoverlabel": {
           "align": "left"
          },
          "hovermode": "closest",
          "mapbox": {
           "style": "light"
          },
          "paper_bgcolor": "white",
          "plot_bgcolor": "#E5ECF6",
          "polar": {
           "angularaxis": {
            "gridcolor": "white",
            "linecolor": "white",
            "ticks": ""
           },
           "bgcolor": "#E5ECF6",
           "radialaxis": {
            "gridcolor": "white",
            "linecolor": "white",
            "ticks": ""
           }
          },
          "scene": {
           "xaxis": {
            "backgroundcolor": "#E5ECF6",
            "gridcolor": "white",
            "gridwidth": 2,
            "linecolor": "white",
            "showbackground": true,
            "ticks": "",
            "zerolinecolor": "white"
           },
           "yaxis": {
            "backgroundcolor": "#E5ECF6",
            "gridcolor": "white",
            "gridwidth": 2,
            "linecolor": "white",
            "showbackground": true,
            "ticks": "",
            "zerolinecolor": "white"
           },
           "zaxis": {
            "backgroundcolor": "#E5ECF6",
            "gridcolor": "white",
            "gridwidth": 2,
            "linecolor": "white",
            "showbackground": true,
            "ticks": "",
            "zerolinecolor": "white"
           }
          },
          "shapedefaults": {
           "line": {
            "color": "#2a3f5f"
           }
          },
          "ternary": {
           "aaxis": {
            "gridcolor": "white",
            "linecolor": "white",
            "ticks": ""
           },
           "baxis": {
            "gridcolor": "white",
            "linecolor": "white",
            "ticks": ""
           },
           "bgcolor": "#E5ECF6",
           "caxis": {
            "gridcolor": "white",
            "linecolor": "white",
            "ticks": ""
           }
          },
          "title": {
           "x": 0.05
          },
          "xaxis": {
           "automargin": true,
           "gridcolor": "white",
           "linecolor": "white",
           "ticks": "",
           "title": {
            "standoff": 15
           },
           "zerolinecolor": "white",
           "zerolinewidth": 2
          },
          "yaxis": {
           "automargin": true,
           "gridcolor": "white",
           "linecolor": "white",
           "ticks": "",
           "title": {
            "standoff": 15
           },
           "zerolinecolor": "white",
           "zerolinewidth": 2
          }
         }
        },
        "title": {
         "text": "Customizing Subplot Axes"
        },
        "updatemenus": [
         {
          "buttons": [
           {
            "args": [
             {
              "visible": [
               true,
               false,
               false,
               false
              ]
             },
             {
              "title": "GDP & Happiness"
             }
            ],
            "label": "GDP",
            "method": "update"
           },
           {
            "args": [
             {
              "visible": [
               false,
               true,
               false,
               false
              ]
             },
             {
              "title": "Education & Happiness"
             }
            ],
            "label": "Education",
            "method": "update"
           },
           {
            "args": [
             {
              "visible": [
               false,
               false,
               true,
               false
              ]
             },
             {
              "title": "Health & Happiness"
             }
            ],
            "label": "Health",
            "method": "update"
           },
           {
            "args": [
             {
              "visible": [
               false,
               false,
               false,
               true
              ]
             },
             {
              "title": "Freedom & Happiness"
             }
            ],
            "label": "Freedom",
            "method": "update"
           }
          ],
          "direction": "down",
          "showactive": true
         }
        ],
        "xaxis": {
         "anchor": "y",
         "domain": [
          0,
          0.45
         ],
         "title": {
          "text": "GDP per capita"
         }
        },
        "xaxis2": {
         "anchor": "y2",
         "domain": [
          0.55,
          1
         ],
         "title": {
          "text": "Education Index"
         }
        },
        "xaxis3": {
         "anchor": "y3",
         "domain": [
          0,
          0.45
         ],
         "title": {
          "text": "Health Index"
         }
        },
        "xaxis4": {
         "anchor": "y4",
         "domain": [
          0.55,
          1
         ],
         "title": {
          "text": "Freedom Index"
         }
        },
        "yaxis": {
         "anchor": "x",
         "domain": [
          0.625,
          1
         ],
         "title": {
          "text": "Happiness score"
         }
        },
        "yaxis2": {
         "anchor": "x2",
         "domain": [
          0.625,
          1
         ],
         "title": {
          "text": "Happiness score"
         }
        },
        "yaxis3": {
         "anchor": "x3",
         "domain": [
          0,
          0.375
         ],
         "title": {
          "text": "Happiness score"
         }
        },
        "yaxis4": {
         "anchor": "x4",
         "domain": [
          0,
          0.375
         ],
         "title": {
          "text": "Happiness score"
         }
        }
       }
      }
     },
     "metadata": {},
     "output_type": "display_data"
    }
   ],
   "source": [
    "# Create a figure with subplots\n",
    "fig_2 = make_subplots(\n",
    "    rows=2, cols=2, subplot_titles=(\"GDP & Happiness\", \"Education & Happiness\", \"Health & Happiness\", \"Freedom & Happiness\")\n",
    ")\n",
    "\n",
    "data = pd.read_csv('mean_data.csv')\n",
    "\n",
    "x1, x2, x3, x4 = data['gdp_per_capita'], data['Education_Index'], data['health'], data['freedom']\n",
    "y = data['happiness_score']\n",
    "countries = data['Country']\n",
    "continents = data['continent']\n",
    "\n",
    "# Add traces for all four scatter plots\n",
    "scatter_trace_1 = go.Scatter(\n",
    "    x=x1,\n",
    "    y=y,\n",
    "    mode=\"markers\",\n",
    "    text=countries,\n",
    "    hovertemplate=\"Country: %{text}<br>Happiness: %{y:.2f}<extra></extra>\",\n",
    "    name=\"GDP\"\n",
    ")\n",
    "scatter_trace_2 = go.Scatter(\n",
    "    x=x2,\n",
    "    y=y,\n",
    "    mode=\"markers\",\n",
    "    text=countries,\n",
    "    hovertemplate=\"Country: %{text}<br>Happiness: %{y:.2f}<extra></extra>\",\n",
    "    name=\"Education\"\n",
    ")\n",
    "scatter_trace_3 = go.Scatter(\n",
    "    x=x3,\n",
    "    y=y,\n",
    "    mode=\"markers\",\n",
    "    text=countries,\n",
    "    hovertemplate=\"Country: %{text}<br>Happiness: %{y:.2f}<extra></extra>\",\n",
    "    name=\"Health\"\n",
    ")\n",
    "scatter_trace_4 = go.Scatter(\n",
    "    x=x4,\n",
    "    y=y,\n",
    "    mode=\"markers\",\n",
    "    text=countries,\n",
    "    hovertemplate=\"Country: %{text}<br>Happiness: %{y:.2f}<extra></extra>\",\n",
    "    name=\"Freedom\"\n",
    ")\n",
    "\n",
    "fig_2.add_trace(scatter_trace_1, row=1, col=1)\n",
    "fig_2.add_trace(scatter_trace_2, row=1, col=2)\n",
    "fig_2.add_trace(scatter_trace_3, row=2, col=1)\n",
    "fig_2.add_trace(scatter_trace_4, row=2, col=2)\n",
    "\n",
    "# Calculate and add trend lines\n",
    "trend_line_1 = sm.OLS(y, sm.add_constant(x1)).fit().predict(sm.add_constant(x1))\n",
    "trend_line_2 = sm.OLS(y, sm.add_constant(x2)).fit().predict(sm.add_constant(x2))\n",
    "trend_line_3 = sm.OLS(y, sm.add_constant(x3)).fit().predict(sm.add_constant(x3))\n",
    "trend_line_4 = sm.OLS(y, sm.add_constant(x4)).fit().predict(sm.add_constant(x4))\n",
    "\n",
    "# Add trend lines for all four scatter plots\n",
    "trend_line_trace_1 = go.Scatter(\n",
    "    x=x1,\n",
    "    y=trend_line_1,\n",
    "    mode=\"lines\",\n",
    "    name=\"Relationship between GDP per capita and Happiness Score\"\n",
    ")\n",
    "trend_line_trace_2 = go.Scatter(\n",
    "    x=x2,\n",
    "    y=trend_line_2,\n",
    "    mode=\"lines\",\n",
    "    name=\"Relationship between Education Index and Happiness Score\"\n",
    ")\n",
    "trend_line_trace_3 = go.Scatter(\n",
    "    x=x3,\n",
    "    y=trend_line_3,\n",
    "    mode=\"lines\",\n",
    "    name=\"Relationship between Health Index and Happiness Score\"\n",
    ")\n",
    "trend_line_trace_4 = go.Scatter(\n",
    "    x=x4,\n",
    "    y=trend_line_4,\n",
    "    mode=\"lines\",\n",
    "    name=\"Relationship between Freedom Index and Happiness Score\"\n",
    ")\n",
    "\n",
    "fig_2.add_trace(trend_line_trace_1, row=1, col=1)\n",
    "fig_2.add_trace(trend_line_trace_2, row=1, col=2)\n",
    "fig_2.add_trace(trend_line_trace_3, row=2, col=1)\n",
    "fig_2.add_trace(trend_line_trace_4, row=2, col=2)\n",
    "\n",
    "# Define button options\n",
    "buttons = [\n",
    "    {'label': 'GDP', 'method': 'update', 'args': [{'visible': [True, False, False, False]}, {'title': 'GDP & Happiness'}]},\n",
    "    {'label': 'Education', 'method': 'update', 'args': [{'visible': [False, True, False, False]}, {'title': 'Education & Happiness'}]},\n",
    "    {'label': 'Health', 'method': 'update', 'args': [{'visible': [False, False, True, False]}, {'title': 'Health & Happiness'}]},\n",
    "    {'label': 'Freedom', 'method': 'update', 'args': [{'visible': [False, False, False, True]}, {'title': 'Freedom & Happiness'}]}\n",
    "]\n",
    "\n",
    "# Create updatemenus\n",
    "updatemenus = [{'buttons': buttons, 'direction': 'down', 'showactive': True}]\n",
    "\n",
    "# Update layout with updatemenus\n",
    "fig_2.update_layout(\n",
    "    title_text=\"Customizing Subplot Axes\",\n",
    "    height=900,\n",
    "    updatemenus=updatemenus\n",
    ")\n",
    "\n",
    "# Update xaxis properties\n",
    "fig_2.update_xaxes(title_text=\"GDP per capita\", row=1, col=1)\n",
    "fig_2.update_xaxes(title_text=\"Education Index\", row=1, col=2)\n",
    "fig_2.update_xaxes(title_text=\"Health Index\", row=2, col=1)\n",
    "fig_2.update_xaxes(title_text=\"Freedom Index\", row=2, col=2)\n",
    "\n",
    "# Update yaxis properties\n",
    "fig_2.update_yaxes(title_text=\"Happiness score\", row=1, col=1)\n",
    "fig_2.update_yaxes(title_text=\"Happiness score\", row=1, col=2)\n",
    "fig_2.update_yaxes(title_text=\"Happiness score\", row=2, col=1)\n",
    "fig_2.update_yaxes(title_text=\"Happiness score\", row=2, col=2)\n",
    "\n",
    "fig_2.show()"
   ]
  },
  {
   "attachments": {},
   "cell_type": "markdown",
   "id": "5963e9ad",
   "metadata": {},
   "source": [
    "### Exploring the Relationship Between Happiness and Socioeconomic Factors\n",
    "\n",
    "We created visualizations to explore the correlations between these factors and happiness. We took the mean for each country between the years 2015 till 2018 so each scatterplot is a visualisation between four years. The x-axis of each plot represented a specific socioeconomic factor (GDP per capita, education index, health index, and freedom index), while the y-axis represented the happiness score. To provide further insights, we also added trend lines to the scatter plots. These trend lines were calculated using the Ordinary Least Squares (OLS) method from the Statsmodels library. They helped us identify the overall trend and direction of the relationship between the socioeconomic factors and happiness.\n",
    "\n",
    "By visualizing the data in this manner, we were able to observe any potential patterns or associations between the socioeconomic factors and happiness. The plots allowed us to compare the relationships across different factors and gain a deeper understanding of how they contribute to overall happiness.\n",
    "\n",
    "Overall, this data visualization project provided valuable insights into the complex interplay between happiness and socioeconomic factors, highlighting the importance of factors such as GDP per capita, education, health, and freedom in determining happiness levels on a global scale.\n",
    "\n"
   ]
  },
  {
   "attachments": {},
   "cell_type": "markdown",
   "id": "30d319f6",
   "metadata": {},
   "source": [
    "---"
   ]
  },
  {
   "attachments": {},
   "cell_type": "markdown",
   "id": "40ed7174",
   "metadata": {},
   "source": [
    "### Reflection\n",
    "\n",
    "\n",
    "Throughout the assignment, we engaged in a collaborative effort to analyze and visualize the data. Originally we were in a group of four but one guy didn’t show up or respond to any of our messages, so at the end we worked in a group of three. In the end we didn't have a problem with the missing person as we were perfectly able to do the group project with the three of us. We worked together to clean and transform the datasets, ensuring the accuracy and reliability of our visualizations. This process required attention to detail and problem-solving skills as we encountered challenges such as missing values and outliers. Using Pandas, we manipulated and reshaped the data to uncover insights. We experimented with different chart types, colors, and layouts to present our findings effectively. Through bar plots, line plots, 3d-scatter plots and much more, we showcased the relationship between happiness scores, GDP per capita and a lot of other correlated subjects.\n",
    "\n",
    "During our exploration, we made intriguing observations and encountered unexpected patterns. We delved deeper into the data, conducting additional research to understand the factors contributing to these deviations. Incorporating contextual information, we provided a comprehensive interpretation of the data, enriching our visualizations. Working as a group allowed us to leverage each other's strengths and learn from one another. We collaborated on data preprocessing, visualization techniques, and interpretation, fostering our technical and analytical skills. We discovered the power of data storytelling and its ability to convey insights in a compelling manner. \n",
    "\n",
    "This assignment was a valuable learning experience for our group. It deepened our understanding of data analysis and visualization while highlighting the importance of collaboration and teamwork. Moving forward, we will continue to refine our skills and explore new opportunities to apply data-driven approaches in solving real-world problems.\n"
   ]
  },
  {
   "cell_type": "markdown",
   "id": "94fb5b39",
   "metadata": {},
   "source": [
    "---\n",
    "WORK DISTRIBUTION"
   ]
  },
  {
   "cell_type": "code",
   "execution_count": null,
   "id": "d9beb514",
   "metadata": {},
   "outputs": [],
   "source": []
  }
 ],
 "metadata": {
  "kernelspec": {
   "display_name": "Python 3 (ipykernel)",
   "language": "python",
   "name": "python3"
  },
  "language_info": {
   "codemirror_mode": {
    "name": "ipython",
    "version": 3
   },
   "file_extension": ".py",
   "mimetype": "text/x-python",
   "name": "python",
   "nbconvert_exporter": "python",
   "pygments_lexer": "ipython3",
   "version": "3.11.0"
  },
  "vscode": {
   "interpreter": {
    "hash": "916dbcbb3f70747c44a77c7bcd40155683ae19c65e1c03b4aa3499c5328201f1"
   }
  }
 },
 "nbformat": 4,
 "nbformat_minor": 5
}
