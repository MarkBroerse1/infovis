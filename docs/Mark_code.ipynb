{
 "cells": [
  {
   "cell_type": "code",
   "execution_count": 1,
   "metadata": {},
   "outputs": [],
   "source": [
    "import pandas as pd\n",
    "import plotly.express as px\n",
    "import seaborn as sns\n",
    "import matplotlib as plt\n",
    "import numpy as np"
   ]
  },
  {
   "cell_type": "code",
   "execution_count": 3,
   "metadata": {},
   "outputs": [
    {
     "data": {
      "application/vnd.plotly.v1+json": {
       "config": {
        "plotlyServerURL": "https://plot.ly"
       },
       "data": [
        {
         "alignmentgroup": "True",
         "bingroup": "x",
         "histfunc": "sum",
         "hovertemplate": "continent=Africa<br>Year=%{x}<br>sum of life_expectancy_index=%{y}<extra></extra>",
         "legendgroup": "Africa",
         "marker": {
          "color": "#636efa",
          "pattern": {
           "shape": ""
          }
         },
         "name": "Africa",
         "offsetgroup": "Africa",
         "orientation": "v",
         "showlegend": true,
         "type": "histogram",
         "x": [
          2018,
          2017,
          2016,
          2015,
          2018,
          2017,
          2016,
          2015,
          2018,
          2017,
          2016,
          2015,
          2018,
          2017,
          2016,
          2015,
          2018,
          2017,
          2016,
          2015,
          2018,
          2017,
          2016,
          2015,
          2018,
          2017,
          2016,
          2015,
          2018,
          2017,
          2016,
          2015,
          2018,
          2017,
          2016,
          2015,
          2018,
          2017,
          2016,
          2015,
          2018,
          2017,
          2016,
          2015,
          2018,
          2017,
          2016,
          2015,
          2018,
          2017,
          2016,
          2015,
          2018,
          2017,
          2016,
          2015,
          2018,
          2017,
          2016,
          2015,
          2018,
          2017,
          2016,
          2015,
          2018,
          2017,
          2016,
          2015,
          2018,
          2017,
          2016,
          2015,
          2018,
          2017,
          2016,
          2015,
          2018,
          2017,
          2016,
          2015,
          2018,
          2017,
          2016,
          2015,
          2018,
          2017,
          2016,
          2015,
          2018,
          2017,
          2016,
          2015,
          2018,
          2017,
          2016,
          2015,
          2018,
          2017,
          2016,
          2015,
          2018,
          2017,
          2016,
          2015,
          2018,
          2017,
          2016,
          2015,
          2018,
          2017,
          2016,
          2015,
          2018,
          2017,
          2016,
          2015,
          2018,
          2017,
          2016,
          2015,
          2018,
          2017,
          2016,
          2015,
          2018,
          2017,
          2016,
          2015
         ],
         "xaxis": "x",
         "y": [
          0.63,
          0.63,
          0.62,
          0.61,
          0.67,
          0.66,
          0.65,
          0.64,
          0.66,
          0.65,
          0.65,
          0.64,
          0.87,
          0.87,
          0.86,
          0.86,
          0.63,
          0.62,
          0.62,
          0.61,
          0.69,
          0.68,
          0.67,
          0.66,
          0.67,
          0.67,
          0.66,
          0.66,
          0.53,
          0.52,
          0.51,
          0.51,
          0.73,
          0.73,
          0.72,
          0.72,
          0.75,
          0.74,
          0.74,
          0.73,
          0.53,
          0.52,
          0.52,
          0.51,
          0.65,
          0.64,
          0.63,
          0.63,
          0.87,
          0.86,
          0.86,
          0.86,
          0.84,
          0.84,
          0.84,
          0.84,
          0.69,
          0.68,
          0.68,
          0.68,
          0.6,
          0.59,
          0.58,
          0.58,
          0.67,
          0.67,
          0.66,
          0.65,
          0.72,
          0.71,
          0.71,
          0.7,
          0.81,
          0.81,
          0.8,
          0.8,
          0.67,
          0.67,
          0.66,
          0.65,
          0.71,
          0.71,
          0.7,
          0.69,
          0.67,
          0.67,
          0.66,
          0.66,
          0.71,
          0.71,
          0.7,
          0.69,
          0.71,
          0.71,
          0.7,
          0.69,
          0.8,
          0.79,
          0.79,
          0.79,
          0.52,
          0.52,
          0.51,
          0.51,
          0.6,
          0.59,
          0.59,
          0.58,
          0.63,
          0.63,
          0.62,
          0.62,
          0.63,
          0.63,
          0.62,
          0.61,
          0.76,
          0.75,
          0.74,
          0.73,
          0.64,
          0.63,
          0.63,
          0.62,
          0.87,
          0.87,
          0.87,
          0.86
         ],
         "yaxis": "y"
        },
        {
         "alignmentgroup": "True",
         "bingroup": "x",
         "histfunc": "sum",
         "hovertemplate": "continent=Asia<br>Year=%{x}<br>sum of life_expectancy_index=%{y}<extra></extra>",
         "legendgroup": "Asia",
         "marker": {
          "color": "#EF553B",
          "pattern": {
           "shape": ""
          }
         },
         "name": "Asia",
         "offsetgroup": "Asia",
         "orientation": "v",
         "showlegend": true,
         "type": "histogram",
         "x": [
          2018,
          2016,
          2017,
          2015,
          2018,
          2017,
          2016,
          2015,
          2018,
          2017,
          2016,
          2015,
          2018,
          2017,
          2016,
          2015,
          2018,
          2017,
          2016,
          2015,
          2018,
          2017,
          2016,
          2015,
          2018,
          2017,
          2016,
          2015,
          2018,
          2017,
          2016,
          2015,
          2018,
          2017,
          2016,
          2015,
          2018,
          2017,
          2016,
          2015,
          2018,
          2017,
          2016,
          2015,
          2018,
          2017,
          2016,
          2015,
          2018,
          2017,
          2016,
          2015,
          2018,
          2017,
          2016,
          2015,
          2018,
          2017,
          2016,
          2015,
          2018,
          2017,
          2016,
          2015,
          2018,
          2017,
          2016,
          2015,
          2018,
          2017,
          2016,
          2015,
          2018,
          2017,
          2016,
          2015,
          2018,
          2017,
          2016,
          2015,
          2018,
          2017,
          2016,
          2015,
          2018,
          2017,
          2016,
          2015,
          2018,
          2017,
          2016,
          2015,
          2018,
          2017,
          2016,
          2015,
          2018,
          2017,
          2016,
          2015,
          2018,
          2017,
          2016,
          2015,
          2018,
          2017,
          2016,
          2015,
          2018,
          2017,
          2016,
          2015,
          2018,
          2017,
          2016,
          2015,
          2018,
          2017,
          2016,
          2015,
          2018,
          2018,
          2017,
          2017,
          2016,
          2016,
          2015,
          2015,
          2018,
          2017,
          2016,
          2015,
          2018,
          2017,
          2016,
          2015,
          2018,
          2017,
          2016,
          2015,
          2018,
          2017,
          2016,
          2015,
          2018,
          2017,
          2016,
          2015,
          2018,
          2017,
          2016,
          2015
         ],
         "xaxis": "x",
         "y": [
          0.71,
          0.71,
          0.71,
          0.71,
          0.85,
          0.85,
          0.85,
          0.85,
          0.79,
          0.79,
          0.79,
          0.78,
          0.89,
          0.89,
          0.88,
          0.88,
          0.74,
          0.74,
          0.74,
          0.73,
          0.88,
          0.88,
          0.87,
          0.87,
          0.88,
          0.87,
          0.87,
          0.86,
          0.78,
          0.78,
          0.78,
          0.77,
          0.87,
          0.87,
          0.87,
          0.87,
          0.98,
          0.97,
          0.97,
          0.97,
          0.85,
          0.84,
          0.84,
          0.84,
          0.79,
          0.78,
          0.78,
          0.78,
          0.72,
          0.72,
          0.72,
          0.72,
          0.78,
          0.77,
          0.77,
          0.76,
          0.72,
          0.72,
          0.71,
          0.7,
          0.76,
          0.76,
          0.76,
          0.76,
          0.86,
          0.86,
          0.86,
          0.85,
          0.91,
          0.91,
          0.9,
          0.9,
          0.79,
          0.79,
          0.79,
          0.78,
          0.85,
          0.85,
          0.85,
          0.85,
          0.82,
          0.81,
          0.8,
          0.79,
          0.84,
          0.84,
          0.83,
          0.83,
          0.99,
          0.99,
          0.99,
          0.98,
          0.97,
          0.96,
          0.96,
          0.96,
          0.78,
          0.77,
          0.77,
          0.77,
          0.87,
          0.87,
          0.86,
          0.86,
          0.79,
          0.79,
          0.79,
          0.78,
          0.76,
          0.76,
          0.75,
          0.75,
          0.82,
          0.82,
          0.82,
          0.81,
          0.94,
          0.93,
          0.93,
          0.93,
          1,
          0.87,
          0.87,
          0.87,
          0.86,
          0.86,
          0.86,
          0.86,
          0.76,
          0.76,
          0.75,
          0.75,
          0.8,
          0.8,
          0.8,
          0.79,
          0.88,
          0.88,
          0.88,
          0.87,
          0.81,
          0.81,
          0.81,
          0.8,
          0.85,
          0.84,
          0.84,
          0.84,
          0.68,
          0.68,
          0.67,
          0.67
         ],
         "yaxis": "y"
        },
        {
         "alignmentgroup": "True",
         "bingroup": "x",
         "histfunc": "sum",
         "hovertemplate": "continent=South America<br>Year=%{x}<br>sum of life_expectancy_index=%{y}<extra></extra>",
         "legendgroup": "South America",
         "marker": {
          "color": "#00cc96",
          "pattern": {
           "shape": ""
          }
         },
         "name": "South America",
         "offsetgroup": "South America",
         "orientation": "v",
         "showlegend": true,
         "type": "histogram",
         "x": [
          2015,
          2016,
          2017,
          2018,
          2018,
          2017,
          2016,
          2015,
          2018,
          2017,
          2016,
          2015,
          2018,
          2017,
          2016,
          2015,
          2018,
          2017,
          2016,
          2015,
          2018,
          2017,
          2016,
          2015,
          2018,
          2017,
          2016,
          2015,
          2018,
          2017,
          2016,
          2015,
          2018,
          2017,
          2016,
          2015,
          2018,
          2017,
          2016,
          2015,
          2018,
          2017,
          2016,
          2015,
          2018,
          2017,
          2016,
          2015,
          2018,
          2017,
          2016,
          2015,
          2018,
          2017,
          2016,
          2015,
          2018,
          2017,
          2016,
          2015,
          2018,
          2017,
          2016,
          2015,
          2018,
          2017,
          2016,
          2015,
          2018,
          2017,
          2016,
          2015,
          2018,
          2017,
          2016,
          2015,
          2018,
          2017,
          2016,
          2015
         ],
         "xaxis": "x",
         "y": [
          0.81,
          0.81,
          0.8,
          0.8,
          0.89,
          0.89,
          0.88,
          0.88,
          0.87,
          0.87,
          0.86,
          0.86,
          0.83,
          0.83,
          0.83,
          0.83,
          0.9,
          0.89,
          0.89,
          0.89,
          0.84,
          0.83,
          0.83,
          0.83,
          0.84,
          0.83,
          0.83,
          0.83,
          0.85,
          0.84,
          0.84,
          0.84,
          0.67,
          0.67,
          0.66,
          0.65,
          0.63,
          0.63,
          0.62,
          0.61,
          0.83,
          0.83,
          0.82,
          0.82,
          0.82,
          0.81,
          0.81,
          0.81,
          0.87,
          0.87,
          0.87,
          0.86,
          0.83,
          0.83,
          0.82,
          0.82,
          0.92,
          0.92,
          0.92,
          0.92,
          0.88,
          0.88,
          0.87,
          0.87,
          0.92,
          0.92,
          0.92,
          0.92,
          0.86,
          0.85,
          0.85,
          0.85,
          0.79,
          0.78,
          0.78,
          0.77,
          0.87,
          0.87,
          0.86,
          0.86
         ],
         "yaxis": "y"
        },
        {
         "alignmentgroup": "True",
         "bingroup": "x",
         "histfunc": "sum",
         "hovertemplate": "continent=North America<br>Year=%{x}<br>sum of life_expectancy_index=%{y}<extra></extra>",
         "legendgroup": "North America",
         "marker": {
          "color": "#ab63fa",
          "pattern": {
           "shape": ""
          }
         },
         "name": "North America",
         "offsetgroup": "North America",
         "orientation": "v",
         "showlegend": true,
         "type": "histogram",
         "x": [
          2015,
          2016,
          2017,
          2018,
          2018,
          2017,
          2016,
          2015,
          2018,
          2017,
          2016,
          2015
         ],
         "xaxis": "x",
         "y": [
          0.91,
          0.91,
          0.91,
          0.91,
          0.85,
          0.85,
          0.84,
          0.84,
          0.96,
          0.96,
          0.96,
          0.95
         ],
         "yaxis": "y"
        },
        {
         "alignmentgroup": "True",
         "bingroup": "x",
         "histfunc": "sum",
         "hovertemplate": "continent=Europe<br>Year=%{x}<br>sum of life_expectancy_index=%{y}<extra></extra>",
         "legendgroup": "Europe",
         "marker": {
          "color": "#FFA15A",
          "pattern": {
           "shape": ""
          }
         },
         "name": "Europe",
         "offsetgroup": "Europe",
         "orientation": "v",
         "showlegend": true,
         "type": "histogram",
         "x": [
          2018,
          2017,
          2016,
          2015,
          2018,
          2017,
          2016,
          2015,
          2018,
          2017,
          2016,
          2015,
          2018,
          2017,
          2016,
          2015,
          2018,
          2017,
          2016,
          2015,
          2018,
          2017,
          2016,
          2015,
          2018,
          2017,
          2016,
          2015,
          2018,
          2017,
          2016,
          2015,
          2018,
          2017,
          2016,
          2015,
          2018,
          2017,
          2016,
          2015,
          2018,
          2017,
          2016,
          2015,
          2018,
          2017,
          2016,
          2015,
          2018,
          2017,
          2016,
          2015,
          2018,
          2017,
          2016,
          2015,
          2018,
          2017,
          2016,
          2015,
          2018,
          2017,
          2016,
          2015,
          2018,
          2017,
          2016,
          2015,
          2018,
          2017,
          2016,
          2015,
          2018,
          2017,
          2016,
          2015,
          2018,
          2017,
          2016,
          2015,
          2018,
          2017,
          2016,
          2015,
          2018,
          2017,
          2016,
          2015,
          2018,
          2017,
          2016,
          2015,
          2018,
          2017,
          2016,
          2015,
          2018,
          2017,
          2016,
          2015,
          2018,
          2017,
          2016,
          2015,
          2018,
          2017,
          2016,
          2015,
          2018,
          2017,
          2016,
          2015,
          2018,
          2017,
          2016,
          2015,
          2018,
          2017,
          2016,
          2015,
          2018,
          2017,
          2016,
          2015,
          2018,
          2017,
          2016,
          2015,
          2018,
          2017,
          2016,
          2015,
          2018,
          2017,
          2016,
          2015,
          2018,
          2017,
          2016,
          2015,
          2018,
          2017,
          2016,
          2015,
          2018,
          2017,
          2016,
          2015
         ],
         "xaxis": "x",
         "y": [
          0.94,
          0.94,
          0.94,
          0.94,
          0.8,
          0.8,
          0.8,
          0.79,
          0.98,
          0.98,
          0.97,
          0.97,
          0.96,
          0.96,
          0.96,
          0.96,
          0.98,
          0.97,
          0.97,
          0.97,
          0.94,
          0.94,
          0.94,
          0.93,
          0.88,
          0.88,
          0.88,
          0.87,
          0.86,
          0.86,
          0.85,
          0.85,
          0.81,
          0.8,
          0.8,
          0.79,
          0.86,
          0.86,
          0.86,
          0.85,
          0.95,
          0.95,
          0.95,
          0.94,
          0.9,
          0.9,
          0.89,
          0.89,
          0.96,
          0.96,
          0.95,
          0.95,
          0.96,
          0.95,
          0.95,
          0.95,
          0.87,
          0.87,
          0.87,
          0.87,
          0.8,
          0.8,
          0.79,
          0.79,
          0.96,
          0.96,
          0.95,
          0.95,
          0.96,
          0.95,
          0.95,
          0.95,
          0.86,
          0.85,
          0.85,
          0.84,
          0.85,
          0.85,
          0.84,
          0.84,
          0.97,
          0.97,
          0.97,
          0.97,
          0.96,
          0.95,
          0.95,
          0.94,
          0.97,
          0.97,
          0.96,
          0.96,
          0.87,
          0.87,
          0.87,
          0.86,
          0.95,
          0.95,
          0.95,
          0.95,
          0.94,
          0.94,
          0.94,
          0.93,
          0.96,
          0.96,
          0.96,
          0.96,
          0.95,
          0.95,
          0.94,
          0.94,
          0.9,
          0.9,
          0.89,
          0.89,
          0.94,
          0.93,
          0.93,
          0.93,
          0.9,
          0.9,
          0.89,
          0.89,
          0.85,
          0.84,
          0.84,
          0.84,
          0.88,
          0.88,
          0.88,
          0.87,
          0.95,
          0.94,
          0.94,
          0.94,
          0.84,
          0.84,
          0.83,
          0.83,
          0.95,
          0.94,
          0.94,
          0.94,
          0.9,
          0.9,
          0.9,
          0.89
         ],
         "yaxis": "y"
        },
        {
         "alignmentgroup": "True",
         "bingroup": "x",
         "histfunc": "sum",
         "hovertemplate": "continent=Australia<br>Year=%{x}<br>sum of life_expectancy_index=%{y}<extra></extra>",
         "legendgroup": "Australia",
         "marker": {
          "color": "#19d3f3",
          "pattern": {
           "shape": ""
          }
         },
         "name": "Australia",
         "offsetgroup": "Australia",
         "orientation": "v",
         "showlegend": true,
         "type": "histogram",
         "x": [
          2018,
          2017,
          2016,
          2015,
          2018,
          2017,
          2016,
          2015
         ],
         "xaxis": "x",
         "y": [
          0.96,
          0.95,
          0.95,
          0.95,
          0.97,
          0.97,
          0.97,
          0.97
         ],
         "yaxis": "y"
        }
       ],
       "layout": {
        "barmode": "group",
        "legend": {
         "title": {
          "text": "continent"
         },
         "tracegroupgap": 0
        },
        "margin": {
         "t": 60
        },
        "template": {
         "data": {
          "bar": [
           {
            "error_x": {
             "color": "#2a3f5f"
            },
            "error_y": {
             "color": "#2a3f5f"
            },
            "marker": {
             "line": {
              "color": "#E5ECF6",
              "width": 0.5
             },
             "pattern": {
              "fillmode": "overlay",
              "size": 10,
              "solidity": 0.2
             }
            },
            "type": "bar"
           }
          ],
          "barpolar": [
           {
            "marker": {
             "line": {
              "color": "#E5ECF6",
              "width": 0.5
             },
             "pattern": {
              "fillmode": "overlay",
              "size": 10,
              "solidity": 0.2
             }
            },
            "type": "barpolar"
           }
          ],
          "carpet": [
           {
            "aaxis": {
             "endlinecolor": "#2a3f5f",
             "gridcolor": "white",
             "linecolor": "white",
             "minorgridcolor": "white",
             "startlinecolor": "#2a3f5f"
            },
            "baxis": {
             "endlinecolor": "#2a3f5f",
             "gridcolor": "white",
             "linecolor": "white",
             "minorgridcolor": "white",
             "startlinecolor": "#2a3f5f"
            },
            "type": "carpet"
           }
          ],
          "choropleth": [
           {
            "colorbar": {
             "outlinewidth": 0,
             "ticks": ""
            },
            "type": "choropleth"
           }
          ],
          "contour": [
           {
            "colorbar": {
             "outlinewidth": 0,
             "ticks": ""
            },
            "colorscale": [
             [
              0,
              "#0d0887"
             ],
             [
              0.1111111111111111,
              "#46039f"
             ],
             [
              0.2222222222222222,
              "#7201a8"
             ],
             [
              0.3333333333333333,
              "#9c179e"
             ],
             [
              0.4444444444444444,
              "#bd3786"
             ],
             [
              0.5555555555555556,
              "#d8576b"
             ],
             [
              0.6666666666666666,
              "#ed7953"
             ],
             [
              0.7777777777777778,
              "#fb9f3a"
             ],
             [
              0.8888888888888888,
              "#fdca26"
             ],
             [
              1,
              "#f0f921"
             ]
            ],
            "type": "contour"
           }
          ],
          "contourcarpet": [
           {
            "colorbar": {
             "outlinewidth": 0,
             "ticks": ""
            },
            "type": "contourcarpet"
           }
          ],
          "heatmap": [
           {
            "colorbar": {
             "outlinewidth": 0,
             "ticks": ""
            },
            "colorscale": [
             [
              0,
              "#0d0887"
             ],
             [
              0.1111111111111111,
              "#46039f"
             ],
             [
              0.2222222222222222,
              "#7201a8"
             ],
             [
              0.3333333333333333,
              "#9c179e"
             ],
             [
              0.4444444444444444,
              "#bd3786"
             ],
             [
              0.5555555555555556,
              "#d8576b"
             ],
             [
              0.6666666666666666,
              "#ed7953"
             ],
             [
              0.7777777777777778,
              "#fb9f3a"
             ],
             [
              0.8888888888888888,
              "#fdca26"
             ],
             [
              1,
              "#f0f921"
             ]
            ],
            "type": "heatmap"
           }
          ],
          "heatmapgl": [
           {
            "colorbar": {
             "outlinewidth": 0,
             "ticks": ""
            },
            "colorscale": [
             [
              0,
              "#0d0887"
             ],
             [
              0.1111111111111111,
              "#46039f"
             ],
             [
              0.2222222222222222,
              "#7201a8"
             ],
             [
              0.3333333333333333,
              "#9c179e"
             ],
             [
              0.4444444444444444,
              "#bd3786"
             ],
             [
              0.5555555555555556,
              "#d8576b"
             ],
             [
              0.6666666666666666,
              "#ed7953"
             ],
             [
              0.7777777777777778,
              "#fb9f3a"
             ],
             [
              0.8888888888888888,
              "#fdca26"
             ],
             [
              1,
              "#f0f921"
             ]
            ],
            "type": "heatmapgl"
           }
          ],
          "histogram": [
           {
            "marker": {
             "pattern": {
              "fillmode": "overlay",
              "size": 10,
              "solidity": 0.2
             }
            },
            "type": "histogram"
           }
          ],
          "histogram2d": [
           {
            "colorbar": {
             "outlinewidth": 0,
             "ticks": ""
            },
            "colorscale": [
             [
              0,
              "#0d0887"
             ],
             [
              0.1111111111111111,
              "#46039f"
             ],
             [
              0.2222222222222222,
              "#7201a8"
             ],
             [
              0.3333333333333333,
              "#9c179e"
             ],
             [
              0.4444444444444444,
              "#bd3786"
             ],
             [
              0.5555555555555556,
              "#d8576b"
             ],
             [
              0.6666666666666666,
              "#ed7953"
             ],
             [
              0.7777777777777778,
              "#fb9f3a"
             ],
             [
              0.8888888888888888,
              "#fdca26"
             ],
             [
              1,
              "#f0f921"
             ]
            ],
            "type": "histogram2d"
           }
          ],
          "histogram2dcontour": [
           {
            "colorbar": {
             "outlinewidth": 0,
             "ticks": ""
            },
            "colorscale": [
             [
              0,
              "#0d0887"
             ],
             [
              0.1111111111111111,
              "#46039f"
             ],
             [
              0.2222222222222222,
              "#7201a8"
             ],
             [
              0.3333333333333333,
              "#9c179e"
             ],
             [
              0.4444444444444444,
              "#bd3786"
             ],
             [
              0.5555555555555556,
              "#d8576b"
             ],
             [
              0.6666666666666666,
              "#ed7953"
             ],
             [
              0.7777777777777778,
              "#fb9f3a"
             ],
             [
              0.8888888888888888,
              "#fdca26"
             ],
             [
              1,
              "#f0f921"
             ]
            ],
            "type": "histogram2dcontour"
           }
          ],
          "mesh3d": [
           {
            "colorbar": {
             "outlinewidth": 0,
             "ticks": ""
            },
            "type": "mesh3d"
           }
          ],
          "parcoords": [
           {
            "line": {
             "colorbar": {
              "outlinewidth": 0,
              "ticks": ""
             }
            },
            "type": "parcoords"
           }
          ],
          "pie": [
           {
            "automargin": true,
            "type": "pie"
           }
          ],
          "scatter": [
           {
            "fillpattern": {
             "fillmode": "overlay",
             "size": 10,
             "solidity": 0.2
            },
            "type": "scatter"
           }
          ],
          "scatter3d": [
           {
            "line": {
             "colorbar": {
              "outlinewidth": 0,
              "ticks": ""
             }
            },
            "marker": {
             "colorbar": {
              "outlinewidth": 0,
              "ticks": ""
             }
            },
            "type": "scatter3d"
           }
          ],
          "scattercarpet": [
           {
            "marker": {
             "colorbar": {
              "outlinewidth": 0,
              "ticks": ""
             }
            },
            "type": "scattercarpet"
           }
          ],
          "scattergeo": [
           {
            "marker": {
             "colorbar": {
              "outlinewidth": 0,
              "ticks": ""
             }
            },
            "type": "scattergeo"
           }
          ],
          "scattergl": [
           {
            "marker": {
             "colorbar": {
              "outlinewidth": 0,
              "ticks": ""
             }
            },
            "type": "scattergl"
           }
          ],
          "scattermapbox": [
           {
            "marker": {
             "colorbar": {
              "outlinewidth": 0,
              "ticks": ""
             }
            },
            "type": "scattermapbox"
           }
          ],
          "scatterpolar": [
           {
            "marker": {
             "colorbar": {
              "outlinewidth": 0,
              "ticks": ""
             }
            },
            "type": "scatterpolar"
           }
          ],
          "scatterpolargl": [
           {
            "marker": {
             "colorbar": {
              "outlinewidth": 0,
              "ticks": ""
             }
            },
            "type": "scatterpolargl"
           }
          ],
          "scatterternary": [
           {
            "marker": {
             "colorbar": {
              "outlinewidth": 0,
              "ticks": ""
             }
            },
            "type": "scatterternary"
           }
          ],
          "surface": [
           {
            "colorbar": {
             "outlinewidth": 0,
             "ticks": ""
            },
            "colorscale": [
             [
              0,
              "#0d0887"
             ],
             [
              0.1111111111111111,
              "#46039f"
             ],
             [
              0.2222222222222222,
              "#7201a8"
             ],
             [
              0.3333333333333333,
              "#9c179e"
             ],
             [
              0.4444444444444444,
              "#bd3786"
             ],
             [
              0.5555555555555556,
              "#d8576b"
             ],
             [
              0.6666666666666666,
              "#ed7953"
             ],
             [
              0.7777777777777778,
              "#fb9f3a"
             ],
             [
              0.8888888888888888,
              "#fdca26"
             ],
             [
              1,
              "#f0f921"
             ]
            ],
            "type": "surface"
           }
          ],
          "table": [
           {
            "cells": {
             "fill": {
              "color": "#EBF0F8"
             },
             "line": {
              "color": "white"
             }
            },
            "header": {
             "fill": {
              "color": "#C8D4E3"
             },
             "line": {
              "color": "white"
             }
            },
            "type": "table"
           }
          ]
         },
         "layout": {
          "annotationdefaults": {
           "arrowcolor": "#2a3f5f",
           "arrowhead": 0,
           "arrowwidth": 1
          },
          "autotypenumbers": "strict",
          "coloraxis": {
           "colorbar": {
            "outlinewidth": 0,
            "ticks": ""
           }
          },
          "colorscale": {
           "diverging": [
            [
             0,
             "#8e0152"
            ],
            [
             0.1,
             "#c51b7d"
            ],
            [
             0.2,
             "#de77ae"
            ],
            [
             0.3,
             "#f1b6da"
            ],
            [
             0.4,
             "#fde0ef"
            ],
            [
             0.5,
             "#f7f7f7"
            ],
            [
             0.6,
             "#e6f5d0"
            ],
            [
             0.7,
             "#b8e186"
            ],
            [
             0.8,
             "#7fbc41"
            ],
            [
             0.9,
             "#4d9221"
            ],
            [
             1,
             "#276419"
            ]
           ],
           "sequential": [
            [
             0,
             "#0d0887"
            ],
            [
             0.1111111111111111,
             "#46039f"
            ],
            [
             0.2222222222222222,
             "#7201a8"
            ],
            [
             0.3333333333333333,
             "#9c179e"
            ],
            [
             0.4444444444444444,
             "#bd3786"
            ],
            [
             0.5555555555555556,
             "#d8576b"
            ],
            [
             0.6666666666666666,
             "#ed7953"
            ],
            [
             0.7777777777777778,
             "#fb9f3a"
            ],
            [
             0.8888888888888888,
             "#fdca26"
            ],
            [
             1,
             "#f0f921"
            ]
           ],
           "sequentialminus": [
            [
             0,
             "#0d0887"
            ],
            [
             0.1111111111111111,
             "#46039f"
            ],
            [
             0.2222222222222222,
             "#7201a8"
            ],
            [
             0.3333333333333333,
             "#9c179e"
            ],
            [
             0.4444444444444444,
             "#bd3786"
            ],
            [
             0.5555555555555556,
             "#d8576b"
            ],
            [
             0.6666666666666666,
             "#ed7953"
            ],
            [
             0.7777777777777778,
             "#fb9f3a"
            ],
            [
             0.8888888888888888,
             "#fdca26"
            ],
            [
             1,
             "#f0f921"
            ]
           ]
          },
          "colorway": [
           "#636efa",
           "#EF553B",
           "#00cc96",
           "#ab63fa",
           "#FFA15A",
           "#19d3f3",
           "#FF6692",
           "#B6E880",
           "#FF97FF",
           "#FECB52"
          ],
          "font": {
           "color": "#2a3f5f"
          },
          "geo": {
           "bgcolor": "white",
           "lakecolor": "white",
           "landcolor": "#E5ECF6",
           "showlakes": true,
           "showland": true,
           "subunitcolor": "white"
          },
          "hoverlabel": {
           "align": "left"
          },
          "hovermode": "closest",
          "mapbox": {
           "style": "light"
          },
          "paper_bgcolor": "white",
          "plot_bgcolor": "#E5ECF6",
          "polar": {
           "angularaxis": {
            "gridcolor": "white",
            "linecolor": "white",
            "ticks": ""
           },
           "bgcolor": "#E5ECF6",
           "radialaxis": {
            "gridcolor": "white",
            "linecolor": "white",
            "ticks": ""
           }
          },
          "scene": {
           "xaxis": {
            "backgroundcolor": "#E5ECF6",
            "gridcolor": "white",
            "gridwidth": 2,
            "linecolor": "white",
            "showbackground": true,
            "ticks": "",
            "zerolinecolor": "white"
           },
           "yaxis": {
            "backgroundcolor": "#E5ECF6",
            "gridcolor": "white",
            "gridwidth": 2,
            "linecolor": "white",
            "showbackground": true,
            "ticks": "",
            "zerolinecolor": "white"
           },
           "zaxis": {
            "backgroundcolor": "#E5ECF6",
            "gridcolor": "white",
            "gridwidth": 2,
            "linecolor": "white",
            "showbackground": true,
            "ticks": "",
            "zerolinecolor": "white"
           }
          },
          "shapedefaults": {
           "line": {
            "color": "#2a3f5f"
           }
          },
          "ternary": {
           "aaxis": {
            "gridcolor": "white",
            "linecolor": "white",
            "ticks": ""
           },
           "baxis": {
            "gridcolor": "white",
            "linecolor": "white",
            "ticks": ""
           },
           "bgcolor": "#E5ECF6",
           "caxis": {
            "gridcolor": "white",
            "linecolor": "white",
            "ticks": ""
           }
          },
          "title": {
           "x": 0.05
          },
          "xaxis": {
           "automargin": true,
           "gridcolor": "white",
           "linecolor": "white",
           "ticks": "",
           "title": {
            "standoff": 15
           },
           "zerolinecolor": "white",
           "zerolinewidth": 2
          },
          "yaxis": {
           "automargin": true,
           "gridcolor": "white",
           "linecolor": "white",
           "ticks": "",
           "title": {
            "standoff": 15
           },
           "zerolinecolor": "white",
           "zerolinewidth": 2
          }
         }
        },
        "title": {
         "text": "Development of Life Expectancy by Continent"
        },
        "xaxis": {
         "anchor": "y",
         "domain": [
          0,
          1
         ],
         "title": {
          "text": "Year"
         }
        },
        "yaxis": {
         "anchor": "x",
         "domain": [
          0,
          1
         ],
         "title": {
          "text": "Life Expectancy Index"
         }
        }
       }
      }
     },
     "metadata": {},
     "output_type": "display_data"
    }
   ],
   "source": [
    "\n",
    "\n",
    "\n",
    "# Read the full_data.csv file\n",
    "data = pd.read_csv('full_data.csv')\n",
    "\n",
    "# Calculate the average life expectancy by grouping data by continent and year\n",
    "avg_life_expectancy = data.groupby(['continent', 'Year'])['life_expectency_index'].mean().reset_index()\n",
    "\n",
    "\n",
    "# Create a grouped histogram using Seaborn\n",
    "sns.histplot(data=avg_life_expectancy, x='Year', hue='continent', y='life_expectency_index', multiple='stack')\n",
    "\n",
    "# Set the plot title and axis labels\n",
    "plt.title('Development of Average Life Expectancy by Continent With Seaborn')\n",
    "plt.xlabel('Year')\n",
    "plt.ylabel('Average Life Expectancy')\n",
    "\n",
    "# Display the plot\n",
    "plt.show()\n"
   ]
  },
  {
   "cell_type": "code",
   "execution_count": null,
   "metadata": {},
   "outputs": [],
   "source": []
  }
 ],
 "metadata": {
  "kernelspec": {
   "display_name": "Python 3.10.6 64-bit",
   "language": "python",
   "name": "python3"
  },
  "language_info": {
   "codemirror_mode": {
    "name": "ipython",
    "version": 3
   },
   "file_extension": ".py",
   "mimetype": "text/x-python",
   "name": "python",
   "nbconvert_exporter": "python",
   "pygments_lexer": "ipython3",
   "version": "3.10.6"
  },
  "orig_nbformat": 4,
  "vscode": {
   "interpreter": {
    "hash": "916dbcbb3f70747c44a77c7bcd40155683ae19c65e1c03b4aa3499c5328201f1"
   }
  }
 },
 "nbformat": 4,
 "nbformat_minor": 2
}
