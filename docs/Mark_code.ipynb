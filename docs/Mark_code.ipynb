{
 "cells": [
  {
   "cell_type": "code",
   "execution_count": 2,
   "metadata": {},
   "outputs": [],
   "source": [
    "import pandas as pd\n",
    "import plotly.express as px\n",
    "import seaborn as sns\n",
    "import matplotlib as plt\n",
    "import numpy as np"
   ]
  },
  {
   "cell_type": "code",
   "execution_count": 3,
   "metadata": {},
   "outputs": [
    {
     "data": {
      "application/vnd.plotly.v1+json": {
       "config": {
        "plotlyServerURL": "https://plot.ly"
       },
       "data": [
        {
         "alignmentgroup": "True",
         "bingroup": "x",
         "histfunc": "sum",
         "hovertemplate": "continent=Africa<br>Year=%{x}<br>sum of life_expectancy_index=%{y}<extra></extra>",
         "legendgroup": "Africa",
         "marker": {
          "color": "#636efa",
          "pattern": {
           "shape": ""
          }
         },
         "name": "Africa",
         "offsetgroup": "Africa",
         "orientation": "v",
         "showlegend": true,
         "type": "histogram",
         "x": [
          2015,
          2016,
          2017,
          2018
         ],
         "xaxis": "x",
         "y": [
          0.6746875,
          0.6803125,
          0.6865625,
          0.6915625
         ],
         "yaxis": "y"
        },
        {
         "alignmentgroup": "True",
         "bingroup": "x",
         "histfunc": "sum",
         "hovertemplate": "continent=Asia<br>Year=%{x}<br>sum of life_expectancy_index=%{y}<extra></extra>",
         "legendgroup": "Asia",
         "marker": {
          "color": "#EF553B",
          "pattern": {
           "shape": ""
          }
         },
         "name": "Asia",
         "offsetgroup": "Asia",
         "orientation": "v",
         "showlegend": true,
         "type": "histogram",
         "x": [
          2015,
          2016,
          2017,
          2018
         ],
         "xaxis": "x",
         "y": [
          0.8192105263157895,
          0.8231578947368421,
          0.8263157894736842,
          0.8323684210526315
         ],
         "yaxis": "y"
        },
        {
         "alignmentgroup": "True",
         "bingroup": "x",
         "histfunc": "sum",
         "hovertemplate": "continent=Australia<br>Year=%{x}<br>sum of life_expectancy_index=%{y}<extra></extra>",
         "legendgroup": "Australia",
         "marker": {
          "color": "#00cc96",
          "pattern": {
           "shape": ""
          }
         },
         "name": "Australia",
         "offsetgroup": "Australia",
         "orientation": "v",
         "showlegend": true,
         "type": "histogram",
         "x": [
          2015,
          2016,
          2017,
          2018
         ],
         "xaxis": "x",
         "y": [
          0.96,
          0.96,
          0.96,
          0.965
         ],
         "yaxis": "y"
        },
        {
         "alignmentgroup": "True",
         "bingroup": "x",
         "histfunc": "sum",
         "hovertemplate": "continent=Europe<br>Year=%{x}<br>sum of life_expectancy_index=%{y}<extra></extra>",
         "legendgroup": "Europe",
         "marker": {
          "color": "#ab63fa",
          "pattern": {
           "shape": ""
          }
         },
         "name": "Europe",
         "offsetgroup": "Europe",
         "orientation": "v",
         "showlegend": true,
         "type": "histogram",
         "x": [
          2015,
          2016,
          2017,
          2018
         ],
         "xaxis": "x",
         "y": [
          0.9032432432432433,
          0.9064864864864864,
          0.9097297297297297,
          0.9124324324324323
         ],
         "yaxis": "y"
        },
        {
         "alignmentgroup": "True",
         "bingroup": "x",
         "histfunc": "sum",
         "hovertemplate": "continent=North America<br>Year=%{x}<br>sum of life_expectancy_index=%{y}<extra></extra>",
         "legendgroup": "North America",
         "marker": {
          "color": "#FFA15A",
          "pattern": {
           "shape": ""
          }
         },
         "name": "North America",
         "offsetgroup": "North America",
         "orientation": "v",
         "showlegend": true,
         "type": "histogram",
         "x": [
          2015,
          2016,
          2017,
          2018
         ],
         "xaxis": "x",
         "y": [
          0.9,
          0.9033333333333333,
          0.9066666666666666,
          0.9066666666666666
         ],
         "yaxis": "y"
        },
        {
         "alignmentgroup": "True",
         "bingroup": "x",
         "histfunc": "sum",
         "hovertemplate": "continent=South America<br>Year=%{x}<br>sum of life_expectancy_index=%{y}<extra></extra>",
         "legendgroup": "South America",
         "marker": {
          "color": "#19d3f3",
          "pattern": {
           "shape": ""
          }
         },
         "name": "South America",
         "offsetgroup": "South America",
         "orientation": "v",
         "showlegend": true,
         "type": "histogram",
         "x": [
          2015,
          2016,
          2017,
          2018
         ],
         "xaxis": "x",
         "y": [
          0.8265,
          0.8285,
          0.8320000000000001,
          0.8355
         ],
         "yaxis": "y"
        }
       ],
       "layout": {
        "barmode": "group",
        "legend": {
         "title": {
          "text": "continent"
         },
         "tracegroupgap": 0
        },
        "margin": {
         "t": 60
        },
        "template": {
         "data": {
          "bar": [
           {
            "error_x": {
             "color": "#2a3f5f"
            },
            "error_y": {
             "color": "#2a3f5f"
            },
            "marker": {
             "line": {
              "color": "#E5ECF6",
              "width": 0.5
             },
             "pattern": {
              "fillmode": "overlay",
              "size": 10,
              "solidity": 0.2
             }
            },
            "type": "bar"
           }
          ],
          "barpolar": [
           {
            "marker": {
             "line": {
              "color": "#E5ECF6",
              "width": 0.5
             },
             "pattern": {
              "fillmode": "overlay",
              "size": 10,
              "solidity": 0.2
             }
            },
            "type": "barpolar"
           }
          ],
          "carpet": [
           {
            "aaxis": {
             "endlinecolor": "#2a3f5f",
             "gridcolor": "white",
             "linecolor": "white",
             "minorgridcolor": "white",
             "startlinecolor": "#2a3f5f"
            },
            "baxis": {
             "endlinecolor": "#2a3f5f",
             "gridcolor": "white",
             "linecolor": "white",
             "minorgridcolor": "white",
             "startlinecolor": "#2a3f5f"
            },
            "type": "carpet"
           }
          ],
          "choropleth": [
           {
            "colorbar": {
             "outlinewidth": 0,
             "ticks": ""
            },
            "type": "choropleth"
           }
          ],
          "contour": [
           {
            "colorbar": {
             "outlinewidth": 0,
             "ticks": ""
            },
            "colorscale": [
             [
              0,
              "#0d0887"
             ],
             [
              0.1111111111111111,
              "#46039f"
             ],
             [
              0.2222222222222222,
              "#7201a8"
             ],
             [
              0.3333333333333333,
              "#9c179e"
             ],
             [
              0.4444444444444444,
              "#bd3786"
             ],
             [
              0.5555555555555556,
              "#d8576b"
             ],
             [
              0.6666666666666666,
              "#ed7953"
             ],
             [
              0.7777777777777778,
              "#fb9f3a"
             ],
             [
              0.8888888888888888,
              "#fdca26"
             ],
             [
              1,
              "#f0f921"
             ]
            ],
            "type": "contour"
           }
          ],
          "contourcarpet": [
           {
            "colorbar": {
             "outlinewidth": 0,
             "ticks": ""
            },
            "type": "contourcarpet"
           }
          ],
          "heatmap": [
           {
            "colorbar": {
             "outlinewidth": 0,
             "ticks": ""
            },
            "colorscale": [
             [
              0,
              "#0d0887"
             ],
             [
              0.1111111111111111,
              "#46039f"
             ],
             [
              0.2222222222222222,
              "#7201a8"
             ],
             [
              0.3333333333333333,
              "#9c179e"
             ],
             [
              0.4444444444444444,
              "#bd3786"
             ],
             [
              0.5555555555555556,
              "#d8576b"
             ],
             [
              0.6666666666666666,
              "#ed7953"
             ],
             [
              0.7777777777777778,
              "#fb9f3a"
             ],
             [
              0.8888888888888888,
              "#fdca26"
             ],
             [
              1,
              "#f0f921"
             ]
            ],
            "type": "heatmap"
           }
          ],
          "heatmapgl": [
           {
            "colorbar": {
             "outlinewidth": 0,
             "ticks": ""
            },
            "colorscale": [
             [
              0,
              "#0d0887"
             ],
             [
              0.1111111111111111,
              "#46039f"
             ],
             [
              0.2222222222222222,
              "#7201a8"
             ],
             [
              0.3333333333333333,
              "#9c179e"
             ],
             [
              0.4444444444444444,
              "#bd3786"
             ],
             [
              0.5555555555555556,
              "#d8576b"
             ],
             [
              0.6666666666666666,
              "#ed7953"
             ],
             [
              0.7777777777777778,
              "#fb9f3a"
             ],
             [
              0.8888888888888888,
              "#fdca26"
             ],
             [
              1,
              "#f0f921"
             ]
            ],
            "type": "heatmapgl"
           }
          ],
          "histogram": [
           {
            "marker": {
             "pattern": {
              "fillmode": "overlay",
              "size": 10,
              "solidity": 0.2
             }
            },
            "type": "histogram"
           }
          ],
          "histogram2d": [
           {
            "colorbar": {
             "outlinewidth": 0,
             "ticks": ""
            },
            "colorscale": [
             [
              0,
              "#0d0887"
             ],
             [
              0.1111111111111111,
              "#46039f"
             ],
             [
              0.2222222222222222,
              "#7201a8"
             ],
             [
              0.3333333333333333,
              "#9c179e"
             ],
             [
              0.4444444444444444,
              "#bd3786"
             ],
             [
              0.5555555555555556,
              "#d8576b"
             ],
             [
              0.6666666666666666,
              "#ed7953"
             ],
             [
              0.7777777777777778,
              "#fb9f3a"
             ],
             [
              0.8888888888888888,
              "#fdca26"
             ],
             [
              1,
              "#f0f921"
             ]
            ],
            "type": "histogram2d"
           }
          ],
          "histogram2dcontour": [
           {
            "colorbar": {
             "outlinewidth": 0,
             "ticks": ""
            },
            "colorscale": [
             [
              0,
              "#0d0887"
             ],
             [
              0.1111111111111111,
              "#46039f"
             ],
             [
              0.2222222222222222,
              "#7201a8"
             ],
             [
              0.3333333333333333,
              "#9c179e"
             ],
             [
              0.4444444444444444,
              "#bd3786"
             ],
             [
              0.5555555555555556,
              "#d8576b"
             ],
             [
              0.6666666666666666,
              "#ed7953"
             ],
             [
              0.7777777777777778,
              "#fb9f3a"
             ],
             [
              0.8888888888888888,
              "#fdca26"
             ],
             [
              1,
              "#f0f921"
             ]
            ],
            "type": "histogram2dcontour"
           }
          ],
          "mesh3d": [
           {
            "colorbar": {
             "outlinewidth": 0,
             "ticks": ""
            },
            "type": "mesh3d"
           }
          ],
          "parcoords": [
           {
            "line": {
             "colorbar": {
              "outlinewidth": 0,
              "ticks": ""
             }
            },
            "type": "parcoords"
           }
          ],
          "pie": [
           {
            "automargin": true,
            "type": "pie"
           }
          ],
          "scatter": [
           {
            "fillpattern": {
             "fillmode": "overlay",
             "size": 10,
             "solidity": 0.2
            },
            "type": "scatter"
           }
          ],
          "scatter3d": [
           {
            "line": {
             "colorbar": {
              "outlinewidth": 0,
              "ticks": ""
             }
            },
            "marker": {
             "colorbar": {
              "outlinewidth": 0,
              "ticks": ""
             }
            },
            "type": "scatter3d"
           }
          ],
          "scattercarpet": [
           {
            "marker": {
             "colorbar": {
              "outlinewidth": 0,
              "ticks": ""
             }
            },
            "type": "scattercarpet"
           }
          ],
          "scattergeo": [
           {
            "marker": {
             "colorbar": {
              "outlinewidth": 0,
              "ticks": ""
             }
            },
            "type": "scattergeo"
           }
          ],
          "scattergl": [
           {
            "marker": {
             "colorbar": {
              "outlinewidth": 0,
              "ticks": ""
             }
            },
            "type": "scattergl"
           }
          ],
          "scattermapbox": [
           {
            "marker": {
             "colorbar": {
              "outlinewidth": 0,
              "ticks": ""
             }
            },
            "type": "scattermapbox"
           }
          ],
          "scatterpolar": [
           {
            "marker": {
             "colorbar": {
              "outlinewidth": 0,
              "ticks": ""
             }
            },
            "type": "scatterpolar"
           }
          ],
          "scatterpolargl": [
           {
            "marker": {
             "colorbar": {
              "outlinewidth": 0,
              "ticks": ""
             }
            },
            "type": "scatterpolargl"
           }
          ],
          "scatterternary": [
           {
            "marker": {
             "colorbar": {
              "outlinewidth": 0,
              "ticks": ""
             }
            },
            "type": "scatterternary"
           }
          ],
          "surface": [
           {
            "colorbar": {
             "outlinewidth": 0,
             "ticks": ""
            },
            "colorscale": [
             [
              0,
              "#0d0887"
             ],
             [
              0.1111111111111111,
              "#46039f"
             ],
             [
              0.2222222222222222,
              "#7201a8"
             ],
             [
              0.3333333333333333,
              "#9c179e"
             ],
             [
              0.4444444444444444,
              "#bd3786"
             ],
             [
              0.5555555555555556,
              "#d8576b"
             ],
             [
              0.6666666666666666,
              "#ed7953"
             ],
             [
              0.7777777777777778,
              "#fb9f3a"
             ],
             [
              0.8888888888888888,
              "#fdca26"
             ],
             [
              1,
              "#f0f921"
             ]
            ],
            "type": "surface"
           }
          ],
          "table": [
           {
            "cells": {
             "fill": {
              "color": "#EBF0F8"
             },
             "line": {
              "color": "white"
             }
            },
            "header": {
             "fill": {
              "color": "#C8D4E3"
             },
             "line": {
              "color": "white"
             }
            },
            "type": "table"
           }
          ]
         },
         "layout": {
          "annotationdefaults": {
           "arrowcolor": "#2a3f5f",
           "arrowhead": 0,
           "arrowwidth": 1
          },
          "autotypenumbers": "strict",
          "coloraxis": {
           "colorbar": {
            "outlinewidth": 0,
            "ticks": ""
           }
          },
          "colorscale": {
           "diverging": [
            [
             0,
             "#8e0152"
            ],
            [
             0.1,
             "#c51b7d"
            ],
            [
             0.2,
             "#de77ae"
            ],
            [
             0.3,
             "#f1b6da"
            ],
            [
             0.4,
             "#fde0ef"
            ],
            [
             0.5,
             "#f7f7f7"
            ],
            [
             0.6,
             "#e6f5d0"
            ],
            [
             0.7,
             "#b8e186"
            ],
            [
             0.8,
             "#7fbc41"
            ],
            [
             0.9,
             "#4d9221"
            ],
            [
             1,
             "#276419"
            ]
           ],
           "sequential": [
            [
             0,
             "#0d0887"
            ],
            [
             0.1111111111111111,
             "#46039f"
            ],
            [
             0.2222222222222222,
             "#7201a8"
            ],
            [
             0.3333333333333333,
             "#9c179e"
            ],
            [
             0.4444444444444444,
             "#bd3786"
            ],
            [
             0.5555555555555556,
             "#d8576b"
            ],
            [
             0.6666666666666666,
             "#ed7953"
            ],
            [
             0.7777777777777778,
             "#fb9f3a"
            ],
            [
             0.8888888888888888,
             "#fdca26"
            ],
            [
             1,
             "#f0f921"
            ]
           ],
           "sequentialminus": [
            [
             0,
             "#0d0887"
            ],
            [
             0.1111111111111111,
             "#46039f"
            ],
            [
             0.2222222222222222,
             "#7201a8"
            ],
            [
             0.3333333333333333,
             "#9c179e"
            ],
            [
             0.4444444444444444,
             "#bd3786"
            ],
            [
             0.5555555555555556,
             "#d8576b"
            ],
            [
             0.6666666666666666,
             "#ed7953"
            ],
            [
             0.7777777777777778,
             "#fb9f3a"
            ],
            [
             0.8888888888888888,
             "#fdca26"
            ],
            [
             1,
             "#f0f921"
            ]
           ]
          },
          "colorway": [
           "#636efa",
           "#EF553B",
           "#00cc96",
           "#ab63fa",
           "#FFA15A",
           "#19d3f3",
           "#FF6692",
           "#B6E880",
           "#FF97FF",
           "#FECB52"
          ],
          "font": {
           "color": "#2a3f5f"
          },
          "geo": {
           "bgcolor": "white",
           "lakecolor": "white",
           "landcolor": "#E5ECF6",
           "showlakes": true,
           "showland": true,
           "subunitcolor": "white"
          },
          "hoverlabel": {
           "align": "left"
          },
          "hovermode": "closest",
          "mapbox": {
           "style": "light"
          },
          "paper_bgcolor": "white",
          "plot_bgcolor": "#E5ECF6",
          "polar": {
           "angularaxis": {
            "gridcolor": "white",
            "linecolor": "white",
            "ticks": ""
           },
           "bgcolor": "#E5ECF6",
           "radialaxis": {
            "gridcolor": "white",
            "linecolor": "white",
            "ticks": ""
           }
          },
          "scene": {
           "xaxis": {
            "backgroundcolor": "#E5ECF6",
            "gridcolor": "white",
            "gridwidth": 2,
            "linecolor": "white",
            "showbackground": true,
            "ticks": "",
            "zerolinecolor": "white"
           },
           "yaxis": {
            "backgroundcolor": "#E5ECF6",
            "gridcolor": "white",
            "gridwidth": 2,
            "linecolor": "white",
            "showbackground": true,
            "ticks": "",
            "zerolinecolor": "white"
           },
           "zaxis": {
            "backgroundcolor": "#E5ECF6",
            "gridcolor": "white",
            "gridwidth": 2,
            "linecolor": "white",
            "showbackground": true,
            "ticks": "",
            "zerolinecolor": "white"
           }
          },
          "shapedefaults": {
           "line": {
            "color": "#2a3f5f"
           }
          },
          "ternary": {
           "aaxis": {
            "gridcolor": "white",
            "linecolor": "white",
            "ticks": ""
           },
           "baxis": {
            "gridcolor": "white",
            "linecolor": "white",
            "ticks": ""
           },
           "bgcolor": "#E5ECF6",
           "caxis": {
            "gridcolor": "white",
            "linecolor": "white",
            "ticks": ""
           }
          },
          "title": {
           "x": 0.05
          },
          "xaxis": {
           "automargin": true,
           "gridcolor": "white",
           "linecolor": "white",
           "ticks": "",
           "title": {
            "standoff": 15
           },
           "zerolinecolor": "white",
           "zerolinewidth": 2
          },
          "yaxis": {
           "automargin": true,
           "gridcolor": "white",
           "linecolor": "white",
           "ticks": "",
           "title": {
            "standoff": 15
           },
           "zerolinecolor": "white",
           "zerolinewidth": 2
          }
         }
        },
        "title": {
         "text": "Development of Average Life Expectancy by Continent"
        },
        "xaxis": {
         "anchor": "y",
         "domain": [
          0,
          1
         ],
         "title": {
          "text": "Year"
         }
        },
        "yaxis": {
         "anchor": "x",
         "domain": [
          0,
          1
         ],
         "title": {
          "text": "Average Life Expectancy"
         }
        }
       }
      }
     },
     "metadata": {},
     "output_type": "display_data"
    }
   ],
   "source": [
    "# Read the full_data.csv file\n",
    "data = pd.read_csv('full_data.csv')\n",
    "\n",
    "# Calculate average life expectancy by continent and year\n",
    "avg_life_expectancy = data.groupby(['continent', 'Year'])['life_expectancy_index'].mean().reset_index()\n",
    "\n",
    "# Create a grouped histogram using Plotly\n",
    "fig = px.histogram(avg_life_expectancy, x='Year', y='life_expectancy_index', color='continent', barmode='group')\n",
    "\n",
    "# Set the plot title and axis labels\n",
    "fig.update_layout(title='Development of Average Life Expectancy by Continent',\n",
    "                  xaxis_title='Year',\n",
    "                  yaxis_title='Average Life Expectancy')\n",
    "\n",
    "# Display the plot\n",
    "fig.show()"
   ]
  },
  {
   "cell_type": "code",
   "execution_count": 4,
   "metadata": {},
   "outputs": [
    {
     "data": {
      "application/vnd.plotly.v1+json": {
       "config": {
        "plotlyServerURL": "https://plot.ly"
       },
       "data": [
        {
         "alignmentgroup": "True",
         "bingroup": "x",
         "histfunc": "sum",
         "hovertemplate": "continent=Africa<br>Year=%{x}<br>sum of happiness_score=%{y}<extra></extra>",
         "legendgroup": "Africa",
         "marker": {
          "color": "#AEFD8E",
          "line": {
           "width": 0.5
          },
          "pattern": {
           "shape": ""
          }
         },
         "name": "Africa",
         "offsetgroup": "Africa",
         "orientation": "v",
         "showlegend": true,
         "type": "histogram",
         "x": [
          2015,
          2016,
          2017,
          2018
         ],
         "xaxis": "x",
         "y": [
          4.3118437603125,
          4.28815625,
          4.42665625,
          4.3554375
         ],
         "yaxis": "y"
        },
        {
         "alignmentgroup": "True",
         "bingroup": "x",
         "histfunc": "sum",
         "hovertemplate": "continent=Asia<br>Year=%{x}<br>sum of happiness_score=%{y}<extra></extra>",
         "legendgroup": "Asia",
         "marker": {
          "color": "#FAA598",
          "line": {
           "width": 0.5
          },
          "pattern": {
           "shape": ""
          }
         },
         "name": "Asia",
         "offsetgroup": "Asia",
         "orientation": "v",
         "showlegend": true,
         "type": "histogram",
         "x": [
          2015,
          2016,
          2017,
          2018
         ],
         "xaxis": "x",
         "y": [
          5.283736799842106,
          5.252868421052632,
          5.250421052631578,
          5.263631578947368
         ],
         "yaxis": "y"
        },
        {
         "alignmentgroup": "True",
         "bingroup": "x",
         "histfunc": "sum",
         "hovertemplate": "continent=Australia<br>Year=%{x}<br>sum of happiness_score=%{y}<extra></extra>",
         "legendgroup": "Australia",
         "marker": {
          "color": "#B2E4FA",
          "line": {
           "width": 0.5
          },
          "pattern": {
           "shape": ""
          }
         },
         "name": "Australia",
         "offsetgroup": "Australia",
         "orientation": "v",
         "showlegend": true,
         "type": "histogram",
         "x": [
          2015,
          2016,
          2017,
          2018
         ],
         "xaxis": "x",
         "y": [
          7.299000025,
          7.285,
          7.2675,
          7.298
         ],
         "yaxis": "y"
        },
        {
         "alignmentgroup": "True",
         "bingroup": "x",
         "histfunc": "sum",
         "hovertemplate": "continent=Europe<br>Year=%{x}<br>sum of happiness_score=%{y}<extra></extra>",
         "legendgroup": "Europe",
         "marker": {
          "color": "#E3C97F",
          "line": {
           "width": 0.5
          },
          "pattern": {
           "shape": ""
          }
         },
         "name": "Europe",
         "offsetgroup": "Europe",
         "orientation": "v",
         "showlegend": true,
         "type": "histogram",
         "x": [
          2015,
          2016,
          2017,
          2018
         ],
         "xaxis": "x",
         "y": [
          6.151864876675676,
          6.089594594594595,
          6.2901621621621615,
          6.216297297297297
         ],
         "yaxis": "y"
        },
        {
         "alignmentgroup": "True",
         "bingroup": "x",
         "histfunc": "sum",
         "hovertemplate": "continent=North America<br>Year=%{x}<br>sum of happiness_score=%{y}<extra></extra>",
         "legendgroup": "North America",
         "marker": {
          "color": "#B47FE3",
          "line": {
           "width": 0.5
          },
          "pattern": {
           "shape": ""
          }
         },
         "name": "North America",
         "offsetgroup": "North America",
         "orientation": "v",
         "showlegend": true,
         "type": "histogram",
         "x": [
          2015,
          2016,
          2017,
          2018
         ],
         "xaxis": "x",
         "y": [
          6.9623333616666665,
          7.2443333333333335,
          6.921666666666667,
          6.900666666666667
         ],
         "yaxis": "y"
        },
        {
         "alignmentgroup": "True",
         "bingroup": "x",
         "histfunc": "sum",
         "hovertemplate": "continent=South America<br>Year=%{x}<br>sum of happiness_score=%{y}<extra></extra>",
         "legendgroup": "South America",
         "marker": {
          "color": "#E8EAC8",
          "line": {
           "width": 0.5
          },
          "pattern": {
           "shape": ""
          }
         },
         "name": "South America",
         "offsetgroup": "South America",
         "orientation": "v",
         "showlegend": true,
         "type": "histogram",
         "x": [
          2015,
          2016,
          2017,
          2018
         ],
         "xaxis": "x",
         "y": [
          5.79385000465,
          5.96075,
          5.839499999999999,
          5.8115499999999995
         ],
         "yaxis": "y"
        }
       ],
       "layout": {
        "bargap": 0.2,
        "barmode": "group",
        "font": {
         "family": "Arial",
         "size": 14
        },
        "legend": {
         "font": {
          "family": "Arial",
          "size": 12
         },
         "title": {
          "text": "continent"
         },
         "tracegroupgap": 0
        },
        "margin": {
         "t": 60
        },
        "plot_bgcolor": "rgb(240, 240, 240)",
        "template": {
         "data": {
          "bar": [
           {
            "error_x": {
             "color": "#2a3f5f"
            },
            "error_y": {
             "color": "#2a3f5f"
            },
            "marker": {
             "line": {
              "color": "#E5ECF6",
              "width": 0.5
             },
             "pattern": {
              "fillmode": "overlay",
              "size": 10,
              "solidity": 0.2
             }
            },
            "type": "bar"
           }
          ],
          "barpolar": [
           {
            "marker": {
             "line": {
              "color": "#E5ECF6",
              "width": 0.5
             },
             "pattern": {
              "fillmode": "overlay",
              "size": 10,
              "solidity": 0.2
             }
            },
            "type": "barpolar"
           }
          ],
          "carpet": [
           {
            "aaxis": {
             "endlinecolor": "#2a3f5f",
             "gridcolor": "white",
             "linecolor": "white",
             "minorgridcolor": "white",
             "startlinecolor": "#2a3f5f"
            },
            "baxis": {
             "endlinecolor": "#2a3f5f",
             "gridcolor": "white",
             "linecolor": "white",
             "minorgridcolor": "white",
             "startlinecolor": "#2a3f5f"
            },
            "type": "carpet"
           }
          ],
          "choropleth": [
           {
            "colorbar": {
             "outlinewidth": 0,
             "ticks": ""
            },
            "type": "choropleth"
           }
          ],
          "contour": [
           {
            "colorbar": {
             "outlinewidth": 0,
             "ticks": ""
            },
            "colorscale": [
             [
              0,
              "#0d0887"
             ],
             [
              0.1111111111111111,
              "#46039f"
             ],
             [
              0.2222222222222222,
              "#7201a8"
             ],
             [
              0.3333333333333333,
              "#9c179e"
             ],
             [
              0.4444444444444444,
              "#bd3786"
             ],
             [
              0.5555555555555556,
              "#d8576b"
             ],
             [
              0.6666666666666666,
              "#ed7953"
             ],
             [
              0.7777777777777778,
              "#fb9f3a"
             ],
             [
              0.8888888888888888,
              "#fdca26"
             ],
             [
              1,
              "#f0f921"
             ]
            ],
            "type": "contour"
           }
          ],
          "contourcarpet": [
           {
            "colorbar": {
             "outlinewidth": 0,
             "ticks": ""
            },
            "type": "contourcarpet"
           }
          ],
          "heatmap": [
           {
            "colorbar": {
             "outlinewidth": 0,
             "ticks": ""
            },
            "colorscale": [
             [
              0,
              "#0d0887"
             ],
             [
              0.1111111111111111,
              "#46039f"
             ],
             [
              0.2222222222222222,
              "#7201a8"
             ],
             [
              0.3333333333333333,
              "#9c179e"
             ],
             [
              0.4444444444444444,
              "#bd3786"
             ],
             [
              0.5555555555555556,
              "#d8576b"
             ],
             [
              0.6666666666666666,
              "#ed7953"
             ],
             [
              0.7777777777777778,
              "#fb9f3a"
             ],
             [
              0.8888888888888888,
              "#fdca26"
             ],
             [
              1,
              "#f0f921"
             ]
            ],
            "type": "heatmap"
           }
          ],
          "heatmapgl": [
           {
            "colorbar": {
             "outlinewidth": 0,
             "ticks": ""
            },
            "colorscale": [
             [
              0,
              "#0d0887"
             ],
             [
              0.1111111111111111,
              "#46039f"
             ],
             [
              0.2222222222222222,
              "#7201a8"
             ],
             [
              0.3333333333333333,
              "#9c179e"
             ],
             [
              0.4444444444444444,
              "#bd3786"
             ],
             [
              0.5555555555555556,
              "#d8576b"
             ],
             [
              0.6666666666666666,
              "#ed7953"
             ],
             [
              0.7777777777777778,
              "#fb9f3a"
             ],
             [
              0.8888888888888888,
              "#fdca26"
             ],
             [
              1,
              "#f0f921"
             ]
            ],
            "type": "heatmapgl"
           }
          ],
          "histogram": [
           {
            "marker": {
             "pattern": {
              "fillmode": "overlay",
              "size": 10,
              "solidity": 0.2
             }
            },
            "type": "histogram"
           }
          ],
          "histogram2d": [
           {
            "colorbar": {
             "outlinewidth": 0,
             "ticks": ""
            },
            "colorscale": [
             [
              0,
              "#0d0887"
             ],
             [
              0.1111111111111111,
              "#46039f"
             ],
             [
              0.2222222222222222,
              "#7201a8"
             ],
             [
              0.3333333333333333,
              "#9c179e"
             ],
             [
              0.4444444444444444,
              "#bd3786"
             ],
             [
              0.5555555555555556,
              "#d8576b"
             ],
             [
              0.6666666666666666,
              "#ed7953"
             ],
             [
              0.7777777777777778,
              "#fb9f3a"
             ],
             [
              0.8888888888888888,
              "#fdca26"
             ],
             [
              1,
              "#f0f921"
             ]
            ],
            "type": "histogram2d"
           }
          ],
          "histogram2dcontour": [
           {
            "colorbar": {
             "outlinewidth": 0,
             "ticks": ""
            },
            "colorscale": [
             [
              0,
              "#0d0887"
             ],
             [
              0.1111111111111111,
              "#46039f"
             ],
             [
              0.2222222222222222,
              "#7201a8"
             ],
             [
              0.3333333333333333,
              "#9c179e"
             ],
             [
              0.4444444444444444,
              "#bd3786"
             ],
             [
              0.5555555555555556,
              "#d8576b"
             ],
             [
              0.6666666666666666,
              "#ed7953"
             ],
             [
              0.7777777777777778,
              "#fb9f3a"
             ],
             [
              0.8888888888888888,
              "#fdca26"
             ],
             [
              1,
              "#f0f921"
             ]
            ],
            "type": "histogram2dcontour"
           }
          ],
          "mesh3d": [
           {
            "colorbar": {
             "outlinewidth": 0,
             "ticks": ""
            },
            "type": "mesh3d"
           }
          ],
          "parcoords": [
           {
            "line": {
             "colorbar": {
              "outlinewidth": 0,
              "ticks": ""
             }
            },
            "type": "parcoords"
           }
          ],
          "pie": [
           {
            "automargin": true,
            "type": "pie"
           }
          ],
          "scatter": [
           {
            "fillpattern": {
             "fillmode": "overlay",
             "size": 10,
             "solidity": 0.2
            },
            "type": "scatter"
           }
          ],
          "scatter3d": [
           {
            "line": {
             "colorbar": {
              "outlinewidth": 0,
              "ticks": ""
             }
            },
            "marker": {
             "colorbar": {
              "outlinewidth": 0,
              "ticks": ""
             }
            },
            "type": "scatter3d"
           }
          ],
          "scattercarpet": [
           {
            "marker": {
             "colorbar": {
              "outlinewidth": 0,
              "ticks": ""
             }
            },
            "type": "scattercarpet"
           }
          ],
          "scattergeo": [
           {
            "marker": {
             "colorbar": {
              "outlinewidth": 0,
              "ticks": ""
             }
            },
            "type": "scattergeo"
           }
          ],
          "scattergl": [
           {
            "marker": {
             "colorbar": {
              "outlinewidth": 0,
              "ticks": ""
             }
            },
            "type": "scattergl"
           }
          ],
          "scattermapbox": [
           {
            "marker": {
             "colorbar": {
              "outlinewidth": 0,
              "ticks": ""
             }
            },
            "type": "scattermapbox"
           }
          ],
          "scatterpolar": [
           {
            "marker": {
             "colorbar": {
              "outlinewidth": 0,
              "ticks": ""
             }
            },
            "type": "scatterpolar"
           }
          ],
          "scatterpolargl": [
           {
            "marker": {
             "colorbar": {
              "outlinewidth": 0,
              "ticks": ""
             }
            },
            "type": "scatterpolargl"
           }
          ],
          "scatterternary": [
           {
            "marker": {
             "colorbar": {
              "outlinewidth": 0,
              "ticks": ""
             }
            },
            "type": "scatterternary"
           }
          ],
          "surface": [
           {
            "colorbar": {
             "outlinewidth": 0,
             "ticks": ""
            },
            "colorscale": [
             [
              0,
              "#0d0887"
             ],
             [
              0.1111111111111111,
              "#46039f"
             ],
             [
              0.2222222222222222,
              "#7201a8"
             ],
             [
              0.3333333333333333,
              "#9c179e"
             ],
             [
              0.4444444444444444,
              "#bd3786"
             ],
             [
              0.5555555555555556,
              "#d8576b"
             ],
             [
              0.6666666666666666,
              "#ed7953"
             ],
             [
              0.7777777777777778,
              "#fb9f3a"
             ],
             [
              0.8888888888888888,
              "#fdca26"
             ],
             [
              1,
              "#f0f921"
             ]
            ],
            "type": "surface"
           }
          ],
          "table": [
           {
            "cells": {
             "fill": {
              "color": "#EBF0F8"
             },
             "line": {
              "color": "white"
             }
            },
            "header": {
             "fill": {
              "color": "#C8D4E3"
             },
             "line": {
              "color": "white"
             }
            },
            "type": "table"
           }
          ]
         },
         "layout": {
          "annotationdefaults": {
           "arrowcolor": "#2a3f5f",
           "arrowhead": 0,
           "arrowwidth": 1
          },
          "autotypenumbers": "strict",
          "coloraxis": {
           "colorbar": {
            "outlinewidth": 0,
            "ticks": ""
           }
          },
          "colorscale": {
           "diverging": [
            [
             0,
             "#8e0152"
            ],
            [
             0.1,
             "#c51b7d"
            ],
            [
             0.2,
             "#de77ae"
            ],
            [
             0.3,
             "#f1b6da"
            ],
            [
             0.4,
             "#fde0ef"
            ],
            [
             0.5,
             "#f7f7f7"
            ],
            [
             0.6,
             "#e6f5d0"
            ],
            [
             0.7,
             "#b8e186"
            ],
            [
             0.8,
             "#7fbc41"
            ],
            [
             0.9,
             "#4d9221"
            ],
            [
             1,
             "#276419"
            ]
           ],
           "sequential": [
            [
             0,
             "#0d0887"
            ],
            [
             0.1111111111111111,
             "#46039f"
            ],
            [
             0.2222222222222222,
             "#7201a8"
            ],
            [
             0.3333333333333333,
             "#9c179e"
            ],
            [
             0.4444444444444444,
             "#bd3786"
            ],
            [
             0.5555555555555556,
             "#d8576b"
            ],
            [
             0.6666666666666666,
             "#ed7953"
            ],
            [
             0.7777777777777778,
             "#fb9f3a"
            ],
            [
             0.8888888888888888,
             "#fdca26"
            ],
            [
             1,
             "#f0f921"
            ]
           ],
           "sequentialminus": [
            [
             0,
             "#0d0887"
            ],
            [
             0.1111111111111111,
             "#46039f"
            ],
            [
             0.2222222222222222,
             "#7201a8"
            ],
            [
             0.3333333333333333,
             "#9c179e"
            ],
            [
             0.4444444444444444,
             "#bd3786"
            ],
            [
             0.5555555555555556,
             "#d8576b"
            ],
            [
             0.6666666666666666,
             "#ed7953"
            ],
            [
             0.7777777777777778,
             "#fb9f3a"
            ],
            [
             0.8888888888888888,
             "#fdca26"
            ],
            [
             1,
             "#f0f921"
            ]
           ]
          },
          "colorway": [
           "#636efa",
           "#EF553B",
           "#00cc96",
           "#ab63fa",
           "#FFA15A",
           "#19d3f3",
           "#FF6692",
           "#B6E880",
           "#FF97FF",
           "#FECB52"
          ],
          "font": {
           "color": "#2a3f5f"
          },
          "geo": {
           "bgcolor": "white",
           "lakecolor": "white",
           "landcolor": "#E5ECF6",
           "showlakes": true,
           "showland": true,
           "subunitcolor": "white"
          },
          "hoverlabel": {
           "align": "left"
          },
          "hovermode": "closest",
          "mapbox": {
           "style": "light"
          },
          "paper_bgcolor": "white",
          "plot_bgcolor": "#E5ECF6",
          "polar": {
           "angularaxis": {
            "gridcolor": "white",
            "linecolor": "white",
            "ticks": ""
           },
           "bgcolor": "#E5ECF6",
           "radialaxis": {
            "gridcolor": "white",
            "linecolor": "white",
            "ticks": ""
           }
          },
          "scene": {
           "xaxis": {
            "backgroundcolor": "#E5ECF6",
            "gridcolor": "white",
            "gridwidth": 2,
            "linecolor": "white",
            "showbackground": true,
            "ticks": "",
            "zerolinecolor": "white"
           },
           "yaxis": {
            "backgroundcolor": "#E5ECF6",
            "gridcolor": "white",
            "gridwidth": 2,
            "linecolor": "white",
            "showbackground": true,
            "ticks": "",
            "zerolinecolor": "white"
           },
           "zaxis": {
            "backgroundcolor": "#E5ECF6",
            "gridcolor": "white",
            "gridwidth": 2,
            "linecolor": "white",
            "showbackground": true,
            "ticks": "",
            "zerolinecolor": "white"
           }
          },
          "shapedefaults": {
           "line": {
            "color": "#2a3f5f"
           }
          },
          "ternary": {
           "aaxis": {
            "gridcolor": "white",
            "linecolor": "white",
            "ticks": ""
           },
           "baxis": {
            "gridcolor": "white",
            "linecolor": "white",
            "ticks": ""
           },
           "bgcolor": "#E5ECF6",
           "caxis": {
            "gridcolor": "white",
            "linecolor": "white",
            "ticks": ""
           }
          },
          "title": {
           "x": 0.05
          },
          "xaxis": {
           "automargin": true,
           "gridcolor": "white",
           "linecolor": "white",
           "ticks": "",
           "title": {
            "standoff": 15
           },
           "zerolinecolor": "white",
           "zerolinewidth": 2
          },
          "yaxis": {
           "automargin": true,
           "gridcolor": "white",
           "linecolor": "white",
           "ticks": "",
           "title": {
            "standoff": 15
           },
           "zerolinecolor": "white",
           "zerolinewidth": 2
          }
         }
        },
        "title": {
         "text": "Development of Average Happiness Score by Continent"
        },
        "xaxis": {
         "anchor": "y",
         "domain": [
          0,
          1
         ],
         "gridcolor": "lightgray",
         "gridwidth": 0.5,
         "showgrid": true,
         "title": {
          "text": "Year"
         }
        },
        "yaxis": {
         "anchor": "x",
         "domain": [
          0,
          1
         ],
         "gridcolor": "lightgray",
         "gridwidth": 0.5,
         "showgrid": true,
         "title": {
          "text": "Average Happiness"
         }
        }
       }
      }
     },
     "metadata": {},
     "output_type": "display_data"
    }
   ],
   "source": [
    "# Define a custom color palette for the continents\n",
    "continent_colors = {\n",
    "    'Africa': '#AEFD8E',\n",
    "    'Asia': '#FAA598',\n",
    "    'Europe': '#E3C97F',\n",
    "    'North America': '#B47FE3',\n",
    "    'Australia': '#B2E4FA',\n",
    "    'South America': '#E8EAC8'\n",
    "}\n",
    "\n",
    "# Calculate average happiness score by continent and year\n",
    "avg_happiness = data.groupby(['continent', 'Year'])['happiness_score'].mean().reset_index()\n",
    "\n",
    "# Create a grouped histogram using Plotly\n",
    "fig = px.histogram(avg_happiness, x='Year', y='happiness_score', color='continent', barmode='group',\n",
    "                   color_discrete_map=continent_colors)\n",
    "\n",
    "# Set the plot title and axis labels\n",
    "fig.update_layout(\n",
    "    title='Development of Average Happiness Score by Continent',\n",
    "    xaxis_title='Year',\n",
    "    yaxis_title='Average Happiness',\n",
    "    font=dict(family='Arial', size=14),\n",
    "    legend=dict(font=dict(family='Arial', size=12)),\n",
    "    plot_bgcolor='rgb(240, 240, 240)',\n",
    "    bargap=0.2\n",
    ")\n",
    "\n",
    "# Add a grid to the plot\n",
    "fig.update_xaxes(showgrid=True, gridwidth=0.5, gridcolor='lightgray')\n",
    "fig.update_yaxes(showgrid=True, gridwidth=0.5, gridcolor='lightgray')\n",
    "\n",
    "# Adjust the bar width\n",
    "fig.update_traces(marker=dict(line=dict(width=0.5)))\n",
    "\n",
    "# Display the plot\n",
    "fig.show()"
   ]
  },
  {
   "cell_type": "code",
   "execution_count": 17,
   "metadata": {},
   "outputs": [
    {
     "data": {
      "application/vnd.plotly.v1+json": {
       "config": {
        "plotlyServerURL": "https://plot.ly"
       },
       "data": [
        {
         "customdata": [
          [
           "Afghanistan"
          ],
          [
           "Yemen"
          ],
          [
           "Armenia"
          ],
          [
           "Pakistan"
          ],
          [
           "Saudi Arabia"
          ],
          [
           "Vietnam"
          ],
          [
           "Myanmar"
          ],
          [
           "Turkmenistan"
          ],
          [
           "Cambodia"
          ],
          [
           "Japan"
          ],
          [
           "Georgia"
          ],
          [
           "Jordan"
          ],
          [
           "Kazakhstan"
          ],
          [
           "Bangladesh"
          ],
          [
           "Azerbaijan"
          ],
          [
           "Sri Lanka"
          ],
          [
           "Nepal"
          ],
          [
           "Bahrain"
          ],
          [
           "Philippines"
          ],
          [
           "Kuwait"
          ],
          [
           "Mongolia"
          ],
          [
           "Uzbekistan"
          ],
          [
           "Tajikistan"
          ],
          [
           "Cyprus"
          ],
          [
           "Malaysia"
          ],
          [
           "United Arab Emirates"
          ],
          [
           "China"
          ],
          [
           "China"
          ],
          [
           "Kyrgyzstan"
          ],
          [
           "Turkey"
          ],
          [
           "Indonesia"
          ],
          [
           "Singapore"
          ],
          [
           "Iran"
          ],
          [
           "India"
          ],
          [
           "Thailand"
          ],
          [
           "Lebanon"
          ],
          [
           "Israel"
          ],
          [
           "Iraq"
          ]
         ],
         "hovertemplate": "Country: %{customdata[0]}<br>GNI per Capita (PPP): %{x}<br>HDI Calculated: %{y}",
         "legendgroup": "Asia",
         "marker": {
          "color": "#FAA598",
          "symbol": "circle"
         },
         "mode": "markers",
         "name": "Asia",
         "orientation": "v",
         "showlegend": true,
         "type": "scatter",
         "x": [
          2110,
          null,
          12490,
          4640,
          49450,
          5790,
          4180,
          12890,
          3180,
          41950,
          11420,
          9140,
          23860,
          3790,
          15020,
          11270,
          2680,
          42760,
          8310,
          52880,
          9880,
          6460,
          3590,
          31510,
          24120,
          64640,
          57450,
          12880,
          4460,
          25340,
          9910,
          81040,
          13300,
          5400,
          15010,
          14920,
          35130,
          10220
         ],
         "xaxis": "x4",
         "y": [
          0.52,
          null,
          0.77,
          0.56,
          0.87,
          0.69,
          0.57,
          0.7,
          0.59,
          0.91,
          0.79,
          0.74,
          0.81,
          0.61,
          0.76,
          0.78,
          0.59,
          0.84,
          0.71,
          0.81,
          0.74,
          0.7,
          0.65,
          0.87,
          0.8,
          0.87,
          0.82,
          0.75,
          0.69,
          0.81,
          0.7,
          0.94,
          0.79,
          0.64,
          0.76,
          0.76,
          0.91,
          0.65
         ],
         "yaxis": "y4"
        },
        {
         "customdata": [
          [
           "Bahrain"
          ],
          [
           "Cyprus"
          ],
          [
           "Cambodia"
          ],
          [
           "Uzbekistan"
          ],
          [
           "China"
          ],
          [
           "Singapore"
          ],
          [
           "United Arab Emirates"
          ],
          [
           "Vietnam"
          ],
          [
           "Bangladesh"
          ],
          [
           "China"
          ],
          [
           "Georgia"
          ],
          [
           "Azerbaijan"
          ],
          [
           "Turkmenistan"
          ],
          [
           "Afghanistan"
          ],
          [
           "Armenia"
          ],
          [
           "Yemen"
          ],
          [
           "Tajikistan"
          ],
          [
           "Lebanon"
          ],
          [
           "Israel"
          ],
          [
           "Iraq"
          ],
          [
           "Turkey"
          ],
          [
           "Indonesia"
          ],
          [
           "Iran"
          ],
          [
           "Japan"
          ],
          [
           "Saudi Arabia"
          ],
          [
           "India"
          ],
          [
           "Jordan"
          ],
          [
           "Kazakhstan"
          ],
          [
           "Pakistan"
          ],
          [
           "Thailand"
          ],
          [
           "Kyrgyzstan"
          ],
          [
           "Philippines"
          ],
          [
           "Kuwait"
          ],
          [
           "Malaysia"
          ],
          [
           "Sri Lanka"
          ],
          [
           "Myanmar"
          ],
          [
           "Nepal"
          ],
          [
           "Mongolia"
          ]
         ],
         "hovertemplate": "Country: %{customdata[0]}<br>GNI per Capita (PPP): %{x}<br>HDI Calculated: %{y}",
         "legendgroup": "Asia",
         "marker": {
          "color": "#FAA598",
          "symbol": "circle"
         },
         "mode": "markers",
         "name": "Asia",
         "orientation": "v",
         "showlegend": false,
         "type": "scatter",
         "x": [
          41860,
          33000,
          3450,
          6530,
          58670,
          83020,
          63670,
          6300,
          4070,
          13400,
          11760,
          14920,
          13500,
          2140,
          13160,
          null,
          3900,
          15250,
          37500,
          9720,
          26050,
          10160,
          13650,
          41350,
          46110,
          5760,
          9120,
          24280,
          4680,
          15800,
          5020,
          8870,
          51550,
          24840,
          11900,
          4220,
          2620,
          9860
         ],
         "xaxis": "x3",
         "y": [
          0.86,
          0.88,
          0.59,
          0.71,
          0.83,
          0.94,
          0.87,
          0.7,
          0.62,
          0.76,
          0.8,
          0.76,
          0.7,
          0.52,
          0.78,
          null,
          0.66,
          0.77,
          0.92,
          0.65,
          0.81,
          0.71,
          0.79,
          0.92,
          0.86,
          0.65,
          0.74,
          0.82,
          0.56,
          0.77,
          0.7,
          0.71,
          0.81,
          0.81,
          0.78,
          0.57,
          0.59,
          0.75
         ],
         "yaxis": "y3"
        },
        {
         "customdata": [
          [
           "Israel"
          ],
          [
           "Lebanon"
          ],
          [
           "Iran"
          ],
          [
           "Turkmenistan"
          ],
          [
           "Turkey"
          ],
          [
           "India"
          ],
          [
           "Georgia"
          ],
          [
           "Japan"
          ],
          [
           "Mongolia"
          ],
          [
           "United Arab Emirates"
          ],
          [
           "Kyrgyzstan"
          ],
          [
           "Thailand"
          ],
          [
           "Indonesia"
          ],
          [
           "Tajikistan"
          ],
          [
           "Cyprus"
          ],
          [
           "China"
          ],
          [
           "China"
          ],
          [
           "Malaysia"
          ],
          [
           "Kuwait"
          ],
          [
           "Iraq"
          ],
          [
           "Yemen"
          ],
          [
           "Bahrain"
          ],
          [
           "Philippines"
          ],
          [
           "Azerbaijan"
          ],
          [
           "Saudi Arabia"
          ],
          [
           "Cambodia"
          ],
          [
           "Uzbekistan"
          ],
          [
           "Myanmar"
          ],
          [
           "Nepal"
          ],
          [
           "Sri Lanka"
          ],
          [
           "Afghanistan"
          ],
          [
           "Bangladesh"
          ],
          [
           "Singapore"
          ],
          [
           "Kazakhstan"
          ],
          [
           "Jordan"
          ],
          [
           "Pakistan"
          ],
          [
           "Armenia"
          ],
          [
           "Vietnam"
          ]
         ],
         "hovertemplate": "Country: %{customdata[0]}<br>GNI per Capita (PPP): %{x}<br>HDI Calculated: %{y}",
         "legendgroup": "Asia",
         "marker": {
          "color": "#FAA598",
          "symbol": "circle"
         },
         "mode": "markers",
         "name": "Asia",
         "orientation": "v",
         "showlegend": false,
         "type": "scatter",
         "x": [
          38570,
          16070,
          14560,
          13620,
          27570,
          6120,
          12910,
          42290,
          9720,
          66290,
          4800,
          16610,
          10580,
          3560,
          35750,
          62530,
          14140,
          25900,
          59260,
          10850,
          null,
          44980,
          9320,
          13510,
          48040,
          3680,
          6650,
          4480,
          3140,
          12340,
          2210,
          4340,
          87440,
          22160,
          9790,
          4820,
          12540,
          6620
         ],
         "xaxis": "x2",
         "y": [
          0.92,
          0.77,
          0.79,
          0.7,
          0.82,
          0.65,
          0.8,
          0.92,
          0.75,
          0.87,
          0.7,
          0.78,
          0.71,
          0.65,
          0.88,
          0.83,
          0.76,
          0.81,
          0.81,
          0.67,
          null,
          0.86,
          0.71,
          0.76,
          0.87,
          0.6,
          0.71,
          0.58,
          0.6,
          0.79,
          0.52,
          0.63,
          0.95,
          0.82,
          0.75,
          0.57,
          0.78,
          0.71
         ],
         "yaxis": "y2"
        },
        {
         "customdata": [
          [
           "Pakistan"
          ],
          [
           "Philippines"
          ],
          [
           "Nepal"
          ],
          [
           "Mongolia"
          ],
          [
           "Myanmar"
          ],
          [
           "Indonesia"
          ],
          [
           "Cambodia"
          ],
          [
           "India"
          ],
          [
           "Malaysia"
          ],
          [
           "Lebanon"
          ],
          [
           "Kyrgyzstan"
          ],
          [
           "Kuwait"
          ],
          [
           "Jordan"
          ],
          [
           "Japan"
          ],
          [
           "Israel"
          ],
          [
           "Iraq"
          ],
          [
           "Iran"
          ],
          [
           "Saudi Arabia"
          ],
          [
           "Kazakhstan"
          ],
          [
           "Singapore"
          ],
          [
           "Vietnam"
          ],
          [
           "Yemen"
          ],
          [
           "Thailand"
          ],
          [
           "Uzbekistan"
          ],
          [
           "Sri Lanka"
          ],
          [
           "Tajikistan"
          ],
          [
           "United Arab Emirates"
          ],
          [
           "Turkey"
          ],
          [
           "Turkmenistan"
          ],
          [
           "Cyprus"
          ],
          [
           "Bangladesh"
          ],
          [
           "Bahrain"
          ],
          [
           "Azerbaijan"
          ],
          [
           "Armenia"
          ],
          [
           "Afghanistan"
          ],
          [
           "China"
          ],
          [
           "Georgia"
          ],
          [
           "China"
          ]
         ],
         "hovertemplate": "Country: %{customdata[0]}<br>GNI per Capita (PPP): %{x}<br>HDI Calculated: %{y}",
         "legendgroup": "Asia",
         "marker": {
          "color": "#FAA598",
          "symbol": "circle"
         },
         "mode": "markers",
         "name": "Asia",
         "orientation": "v",
         "showlegend": false,
         "type": "scatter",
         "x": [
          5190.08,
          9539.7,
          2748.2,
          10783.71,
          5763.94,
          11255.78,
          3597.4,
          6828.6,
          27226.68,
          11136.25,
          3316.79,
          71164.22,
          8267.81,
          40799.01,
          33649.69,
          15364.96,
          18166.47,
          49338.41,
          22167.7,
          83792.67,
          6220.27,
          1433.3,
          16128.55,
          6461.84,
          11610.91,
          3482.38,
          66911.66,
          24905.38,
          16407.47,
          33100.32,
          4057.25,
          40399.12,
          15240.14,
          9277.23,
          1745.67,
          16126.57,
          9569.52,
          60220.8
         ],
         "xaxis": "x",
         "y": [
          0.57,
          0.72,
          0.59,
          0.74,
          0.6,
          0.72,
          0.6,
          0.66,
          0.81,
          0.74,
          0.68,
          0.82,
          0.73,
          0.92,
          0.91,
          0.7,
          0.81,
          0.87,
          0.82,
          0.95,
          0.7,
          0.48,
          0.78,
          0.71,
          0.79,
          0.66,
          0.87,
          0.82,
          0.71,
          0.88,
          0.62,
          0.85,
          0.76,
          0.76,
          0.51,
          0.77,
          0.79,
          0.95
         ],
         "yaxis": "y"
        },
        {
         "customdata": [
          [
           "Belarus"
          ],
          [
           "Slovenia"
          ],
          [
           "Belgium"
          ],
          [
           "Russia"
          ],
          [
           "Spain"
          ],
          [
           "Portugal"
          ],
          [
           "Ukraine"
          ],
          [
           "France"
          ],
          [
           "Sweden"
          ],
          [
           "Bulgaria"
          ],
          [
           "Slovakia"
          ],
          [
           "Serbia"
          ],
          [
           "Netherlands"
          ],
          [
           "Norway"
          ],
          [
           "Bosnia and Herzegovina"
          ],
          [
           "Poland"
          ],
          [
           "Romania"
          ],
          [
           "Austria"
          ],
          [
           "Albania"
          ],
          [
           "Finland"
          ],
          [
           "Switzerland"
          ],
          [
           "Moldova"
          ],
          [
           "Montenegro"
          ],
          [
           "Malta"
          ],
          [
           "Denmark"
          ],
          [
           "United Kingdom"
          ],
          [
           "Lithuania"
          ],
          [
           "Luxembourg"
          ],
          [
           "Croatia"
          ],
          [
           "Iceland"
          ],
          [
           "Estonia"
          ],
          [
           "Latvia"
          ],
          [
           "Germany"
          ],
          [
           "Hungary"
          ],
          [
           "Italy"
          ],
          [
           "Ireland"
          ],
          [
           "Greece"
          ]
         ],
         "hovertemplate": "Country: %{customdata[0]}<br>GNI per Capita (PPP): %{x}<br>HDI Calculated: %{y}",
         "legendgroup": "Europe",
         "marker": {
          "color": "#E3C97F",
          "symbol": "circle"
         },
         "mode": "markers",
         "name": "Europe",
         "orientation": "v",
         "showlegend": true,
         "type": "scatter",
         "x": [
          19260,
          30660,
          46870,
          23420,
          34900,
          28870,
          7880,
          41740,
          49420,
          17820,
          28950,
          14230,
          50340,
          63030,
          12100,
          25880,
          21130,
          49390,
          11800,
          42950,
          65450,
          11290,
          16700,
          34280,
          50560,
          41550,
          27780,
          67590,
          22870,
          46480,
          28570,
          24690,
          48770,
          25460,
          36650,
          52990,
          26940
         ],
         "xaxis": "x4",
         "y": [
          0.82,
          0.9,
          0.95,
          0.82,
          0.9,
          0.86,
          0.75,
          0.91,
          0.94,
          0.82,
          0.86,
          0.79,
          0.94,
          0.95,
          0.77,
          0.87,
          0.82,
          0.91,
          0.79,
          0.93,
          0.95,
          0.74,
          0.82,
          0.89,
          0.95,
          0.93,
          0.86,
          0.91,
          0.84,
          0.96,
          0.88,
          0.85,
          0.94,
          0.84,
          0.89,
          0.96,
          0.89
         ],
         "yaxis": "y4"
        },
        {
         "customdata": [
          [
           "Belgium"
          ],
          [
           "Denmark"
          ],
          [
           "Finland"
          ],
          [
           "Belarus"
          ],
          [
           "Estonia"
          ],
          [
           "Bosnia and Herzegovina"
          ],
          [
           "United Kingdom"
          ],
          [
           "Hungary"
          ],
          [
           "Ukraine"
          ],
          [
           "Austria"
          ],
          [
           "Germany"
          ],
          [
           "Greece"
          ],
          [
           "France"
          ],
          [
           "Croatia"
          ],
          [
           "Bulgaria"
          ],
          [
           "Albania"
          ],
          [
           "Slovakia"
          ],
          [
           "Romania"
          ],
          [
           "Russia"
          ],
          [
           "Ireland"
          ],
          [
           "Serbia"
          ],
          [
           "Italy"
          ],
          [
           "Iceland"
          ],
          [
           "Slovenia"
          ],
          [
           "Malta"
          ],
          [
           "Switzerland"
          ],
          [
           "Luxembourg"
          ],
          [
           "Lithuania"
          ],
          [
           "Spain"
          ],
          [
           "Latvia"
          ],
          [
           "Norway"
          ],
          [
           "Portugal"
          ],
          [
           "Sweden"
          ],
          [
           "Montenegro"
          ],
          [
           "Moldova"
          ],
          [
           "Netherlands"
          ],
          [
           "Poland"
          ]
         ],
         "hovertemplate": "Country: %{customdata[0]}<br>GNI per Capita (PPP): %{x}<br>HDI Calculated: %{y}",
         "legendgroup": "Europe",
         "marker": {
          "color": "#E3C97F",
          "symbol": "circle"
         },
         "mode": "markers",
         "name": "Europe",
         "orientation": "v",
         "showlegend": false,
         "type": "scatter",
         "x": [
          49090,
          53110,
          45150,
          19280,
          30510,
          13090,
          43100,
          26990,
          8210,
          52630,
          51810,
          27820,
          43830,
          24130,
          19760,
          12270,
          29160,
          23680,
          23570,
          59070,
          14960,
          40030,
          50990,
          33010,
          35720,
          66080,
          70450,
          29790,
          37370,
          26340,
          61840,
          30840,
          50780,
          18360,
          13060,
          51510,
          27170
         ],
         "xaxis": "x3",
         "y": [
          0.95,
          0.96,
          0.93,
          0.83,
          0.88,
          0.78,
          0.93,
          0.85,
          0.76,
          0.92,
          0.95,
          0.89,
          0.91,
          0.84,
          0.82,
          0.79,
          0.86,
          0.82,
          0.82,
          0.97,
          0.8,
          0.9,
          0.96,
          0.91,
          0.89,
          0.96,
          0.91,
          0.87,
          0.91,
          0.86,
          0.96,
          0.87,
          0.94,
          0.82,
          0.75,
          0.94,
          0.88
         ],
         "yaxis": "y3"
        },
        {
         "customdata": [
          [
           "Bulgaria"
          ],
          [
           "Germany"
          ],
          [
           "Italy"
          ],
          [
           "Ireland"
          ],
          [
           "Greece"
          ],
          [
           "Iceland"
          ],
          [
           "Latvia"
          ],
          [
           "Estonia"
          ],
          [
           "United Kingdom"
          ],
          [
           "Luxembourg"
          ],
          [
           "Lithuania"
          ],
          [
           "Denmark"
          ],
          [
           "Croatia"
          ],
          [
           "Moldova"
          ],
          [
           "Hungary"
          ],
          [
           "Switzerland"
          ],
          [
           "Malta"
          ],
          [
           "Austria"
          ],
          [
           "Portugal"
          ],
          [
           "Poland"
          ],
          [
           "Albania"
          ],
          [
           "Montenegro"
          ],
          [
           "Serbia"
          ],
          [
           "Slovenia"
          ],
          [
           "Netherlands"
          ],
          [
           "Finland"
          ],
          [
           "France"
          ],
          [
           "Ukraine"
          ],
          [
           "Spain"
          ],
          [
           "Bosnia and Herzegovina"
          ],
          [
           "Slovakia"
          ],
          [
           "Belgium"
          ],
          [
           "Romania"
          ],
          [
           "Belarus"
          ],
          [
           "Sweden"
          ],
          [
           "Norway"
          ],
          [
           "Russia"
          ]
         ],
         "hovertemplate": "Country: %{customdata[0]}<br>GNI per Capita (PPP): %{x}<br>HDI Calculated: %{y}",
         "legendgroup": "Europe",
         "marker": {
          "color": "#E3C97F",
          "symbol": "circle"
         },
         "mode": "markers",
         "name": "Europe",
         "orientation": "v",
         "showlegend": false,
         "type": "scatter",
         "x": [
          21460,
          54370,
          42010,
          61590,
          29150,
          54380,
          28360,
          32930,
          45430,
          72750,
          32560,
          56360,
          26310,
          12320,
          28340,
          67890,
          38370,
          54150,
          32310,
          28900,
          13130,
          20110,
          15510,
          35990,
          55770,
          47480,
          45850,
          8460,
          39570,
          13790,
          30410,
          51320,
          26620,
          17580,
          53490,
          65730,
          25380
         ],
         "xaxis": "x2",
         "y": [
          0.83,
          0.95,
          0.9,
          0.97,
          0.89,
          0.97,
          0.86,
          0.89,
          0.93,
          0.91,
          0.88,
          0.96,
          0.85,
          0.74,
          0.85,
          0.96,
          0.9,
          0.92,
          0.87,
          0.88,
          0.8,
          0.83,
          0.8,
          0.91,
          0.95,
          0.94,
          0.92,
          0.76,
          0.91,
          0.79,
          0.86,
          0.96,
          0.83,
          0.82,
          0.95,
          0.96,
          0.83
         ],
         "yaxis": "y2"
        },
        {
         "customdata": [
          [
           "Netherlands"
          ],
          [
           "Norway"
          ],
          [
           "Poland"
          ],
          [
           "Bosnia and Herzegovina"
          ],
          [
           "Montenegro"
          ],
          [
           "Iceland"
          ],
          [
           "Hungary"
          ],
          [
           "Bulgaria"
          ],
          [
           "Portugal"
          ],
          [
           "Romania"
          ],
          [
           "Malta"
          ],
          [
           "Luxembourg"
          ],
          [
           "Lithuania"
          ],
          [
           "Russia"
          ],
          [
           "Italy"
          ],
          [
           "Ireland"
          ],
          [
           "Moldova"
          ],
          [
           "Belarus"
          ],
          [
           "Serbia"
          ],
          [
           "Latvia"
          ],
          [
           "Slovenia"
          ],
          [
           "Ukraine"
          ],
          [
           "Spain"
          ],
          [
           "United Kingdom"
          ],
          [
           "Slovakia"
          ],
          [
           "Switzerland"
          ],
          [
           "Sweden"
          ],
          [
           "Croatia"
          ],
          [
           "Denmark"
          ],
          [
           "Austria"
          ],
          [
           "Albania"
          ],
          [
           "Finland"
          ],
          [
           "Belgium"
          ],
          [
           "Greece"
          ],
          [
           "Germany"
          ],
          [
           "France"
          ],
          [
           "Estonia"
          ]
         ],
         "hovertemplate": "Country: %{customdata[0]}<br>GNI per Capita (PPP): %{x}<br>HDI Calculated: %{y}",
         "legendgroup": "Europe",
         "marker": {
          "color": "#E3C97F",
          "symbol": "circle"
         },
         "mode": "markers",
         "name": "Europe",
         "orientation": "v",
         "showlegend": false,
         "type": "scatter",
         "x": [
          50012.59,
          68058.62,
          27625.8,
          12689.68,
          17510.71,
          47566.45,
          27144.21,
          19645.94,
          27935.38,
          23905.77,
          34795.18,
          65543.05,
          29775.26,
          25036.02,
          36141.43,
          55659.68,
          6833.11,
          17038.53,
          15217.7,
          26300.77,
          32143.04,
          7994.21,
          35041.3,
          39507.29,
          30671.87,
          59374.73,
          47955.45,
          23060.96,
          48836.09,
          46230.57,
          12299.8,
          41779.26,
          43820.84,
          24909.34,
          46945.95,
          40510.78,
          30378.63
         ],
         "xaxis": "x",
         "y": [
          0.94,
          0.96,
          0.88,
          0.78,
          0.82,
          0.96,
          0.85,
          0.82,
          0.86,
          0.82,
          0.89,
          0.91,
          0.88,
          0.83,
          0.89,
          0.96,
          0.71,
          0.82,
          0.81,
          0.86,
          0.91,
          0.76,
          0.91,
          0.93,
          0.86,
          0.95,
          0.96,
          0.84,
          0.95,
          0.92,
          0.8,
          0.95,
          0.95,
          0.88,
          0.94,
          0.9,
          0.89
         ],
         "yaxis": "y"
        },
        {
         "customdata": [
          [
           "Paraguay"
          ],
          [
           "Panama"
          ],
          [
           "Bolivia"
          ],
          [
           "Peru"
          ],
          [
           "Brazil"
          ],
          [
           "Venezuela"
          ],
          [
           "Nicaragua"
          ],
          [
           "Jamaica"
          ],
          [
           "Argentina"
          ],
          [
           "Costa Rica"
          ],
          [
           "Colombia"
          ],
          [
           "Ecuador"
          ],
          [
           "Dominican Republic"
          ],
          [
           "El Salvador"
          ],
          [
           "Honduras"
          ],
          [
           "Haiti"
          ],
          [
           "Guinea"
          ],
          [
           "Uruguay"
          ],
          [
           "Chile"
          ],
          [
           "Guatemala"
          ]
         ],
         "hovertemplate": "Country: %{customdata[0]}<br>GNI per Capita (PPP): %{x}<br>HDI Calculated: %{y}",
         "legendgroup": "South America",
         "marker": {
          "color": "#E8EAC8",
          "symbol": "circle"
         },
         "mode": "markers",
         "name": "South America",
         "orientation": "v",
         "showlegend": true,
         "type": "scatter",
         "x": [
          11040,
          22810,
          6890,
          11180,
          14470,
          null,
          5150,
          8520,
          19650,
          16310,
          13700,
          10870,
          14130,
          7240,
          4490,
          1710,
          1790,
          19310,
          22010,
          7830
         ],
         "xaxis": "x4",
         "y": [
          0.73,
          0.8,
          0.7,
          0.76,
          0.77,
          null,
          0.66,
          0.73,
          0.84,
          0.81,
          0.77,
          0.76,
          0.75,
          0.68,
          0.63,
          0.5,
          0.46,
          0.82,
          0.85,
          0.66
         ],
         "yaxis": "y4"
        },
        {
         "customdata": [
          [
           "Chile"
          ],
          [
           "Uruguay"
          ],
          [
           "El Salvador"
          ],
          [
           "Ecuador"
          ],
          [
           "Bolivia"
          ],
          [
           "Dominican Republic"
          ],
          [
           "Argentina"
          ],
          [
           "Guinea"
          ],
          [
           "Honduras"
          ],
          [
           "Colombia"
          ],
          [
           "Guatemala"
          ],
          [
           "Venezuela"
          ],
          [
           "Brazil"
          ],
          [
           "Costa Rica"
          ],
          [
           "Jamaica"
          ],
          [
           "Haiti"
          ],
          [
           "Nicaragua"
          ],
          [
           "Panama"
          ],
          [
           "Paraguay"
          ],
          [
           "Peru"
          ]
         ],
         "hovertemplate": "Country: %{customdata[0]}<br>GNI per Capita (PPP): %{x}<br>HDI Calculated: %{y}",
         "legendgroup": "South America",
         "marker": {
          "color": "#E8EAC8",
          "symbol": "circle"
         },
         "mode": "markers",
         "name": "South America",
         "orientation": "v",
         "showlegend": false,
         "type": "scatter",
         "x": [
          22080,
          19650,
          7620,
          10830,
          7360,
          15420,
          19710,
          2050,
          4790,
          13800,
          7910,
          null,
          13950,
          17230,
          8800,
          1770,
          5540,
          25080,
          11540,
          11510
         ],
         "xaxis": "x3",
         "y": [
          0.85,
          0.82,
          0.69,
          0.76,
          0.71,
          0.75,
          0.84,
          0.47,
          0.63,
          0.77,
          0.66,
          null,
          0.77,
          0.81,
          0.74,
          0.51,
          0.67,
          0.81,
          0.73,
          0.76
         ],
         "yaxis": "y3"
        },
        {
         "customdata": [
          [
           "Venezuela"
          ],
          [
           "Guatemala"
          ],
          [
           "Guinea"
          ],
          [
           "Haiti"
          ],
          [
           "Honduras"
          ],
          [
           "Jamaica"
          ],
          [
           "El Salvador"
          ],
          [
           "Dominican Republic"
          ],
          [
           "Costa Rica"
          ],
          [
           "Uruguay"
          ],
          [
           "Colombia"
          ],
          [
           "Ecuador"
          ],
          [
           "Argentina"
          ],
          [
           "Peru"
          ],
          [
           "Brazil"
          ],
          [
           "Chile"
          ],
          [
           "Bolivia"
          ],
          [
           "Nicaragua"
          ],
          [
           "Panama"
          ],
          [
           "Paraguay"
          ]
         ],
         "hovertemplate": "Country: %{customdata[0]}<br>GNI per Capita (PPP): %{x}<br>HDI Calculated: %{y}",
         "legendgroup": "South America",
         "marker": {
          "color": "#E8EAC8",
          "symbol": "circle"
         },
         "mode": "markers",
         "name": "South America",
         "orientation": "v",
         "showlegend": false,
         "type": "scatter",
         "x": [
          null,
          8200,
          2410,
          1770,
          5220,
          9320,
          7970,
          15940,
          18040,
          20060,
          14050,
          11350,
          22960,
          11930,
          14250,
          22750,
          8190,
          5850,
          27640,
          12210
         ],
         "xaxis": "x2",
         "y": [
          null,
          0.67,
          0.48,
          0.51,
          0.64,
          0.74,
          0.69,
          0.75,
          0.82,
          0.82,
          0.77,
          0.77,
          0.85,
          0.76,
          0.78,
          0.86,
          0.72,
          0.67,
          0.81,
          0.73
         ],
         "yaxis": "y2"
        },
        {
         "customdata": [
          [
           "Nicaragua"
          ],
          [
           "Paraguay"
          ],
          [
           "Peru"
          ],
          [
           "Brazil"
          ],
          [
           "Bolivia"
          ],
          [
           "Jamaica"
          ],
          [
           "Panama"
          ],
          [
           "Costa Rica"
          ],
          [
           "Colombia"
          ],
          [
           "Venezuela"
          ],
          [
           "Uruguay"
          ],
          [
           "Dominican Republic"
          ],
          [
           "Argentina"
          ],
          [
           "Chile"
          ],
          [
           "Honduras"
          ],
          [
           "Guinea"
          ],
          [
           "Guatemala"
          ],
          [
           "El Salvador"
          ],
          [
           "Ecuador"
          ],
          [
           "Haiti"
          ]
         ],
         "hovertemplate": "Country: %{customdata[0]}<br>GNI per Capita (PPP): %{x}<br>HDI Calculated: %{y}",
         "legendgroup": "South America",
         "marker": {
          "color": "#E8EAC8",
          "symbol": "circle"
         },
         "mode": "markers",
         "name": "South America",
         "orientation": "v",
         "showlegend": false,
         "type": "scatter",
         "x": [
          4789.84,
          11719.96,
          12322.66,
          14068.05,
          6849.2,
          7931.52,
          20454.87,
          14789.93,
          12895.59,
          9069.7,
          19434.85,
          15074.26,
          17611.22,
          21972.28,
          4258.35,
          2211,
          7377.92,
          6973.46,
          10141.15,
          1664.89
         ],
         "xaxis": "x",
         "y": [
          0.66,
          0.73,
          0.77,
          0.78,
          0.71,
          0.73,
          0.8,
          0.81,
          0.77,
          0.73,
          0.82,
          0.76,
          0.84,
          0.86,
          0.63,
          0.48,
          0.66,
          0.68,
          0.77,
          0.51
         ],
         "yaxis": "y"
        },
        {
         "customdata": [
          [
           "Australia"
          ],
          [
           "New Zealand"
          ]
         ],
         "hovertemplate": "Country: %{customdata[0]}<br>GNI per Capita (PPP): %{x}<br>HDI Calculated: %{y}",
         "legendgroup": "Australia",
         "marker": {
          "color": "#B2E4FA",
          "symbol": "circle"
         },
         "mode": "markers",
         "name": "Australia",
         "orientation": "v",
         "showlegend": true,
         "type": "scatter",
         "x": [
          45330,
          36210
         ],
         "xaxis": "x4",
         "y": [
          0.96,
          0.94
         ],
         "yaxis": "y4"
        },
        {
         "customdata": [
          [
           "Australia"
          ],
          [
           "New Zealand"
          ]
         ],
         "hovertemplate": "Country: %{customdata[0]}<br>GNI per Capita (PPP): %{x}<br>HDI Calculated: %{y}",
         "legendgroup": "Australia",
         "marker": {
          "color": "#B2E4FA",
          "symbol": "circle"
         },
         "mode": "markers",
         "name": "Australia",
         "orientation": "v",
         "showlegend": false,
         "type": "scatter",
         "x": [
          46230,
          38630
         ],
         "xaxis": "x3",
         "y": [
          0.96,
          0.94
         ],
         "yaxis": "y3"
        },
        {
         "customdata": [
          [
           "New Zealand"
          ],
          [
           "Australia"
          ]
         ],
         "hovertemplate": "Country: %{customdata[0]}<br>GNI per Capita (PPP): %{x}<br>HDI Calculated: %{y}",
         "legendgroup": "Australia",
         "marker": {
          "color": "#B2E4FA",
          "symbol": "circle"
         },
         "mode": "markers",
         "name": "Australia",
         "orientation": "v",
         "showlegend": false,
         "type": "scatter",
         "x": [
          39330,
          47580
         ],
         "xaxis": "x2",
         "y": [
          0.94,
          0.97
         ],
         "yaxis": "y2"
        },
        {
         "customdata": [
          [
           "New Zealand"
          ],
          [
           "Australia"
          ]
         ],
         "hovertemplate": "Country: %{customdata[0]}<br>GNI per Capita (PPP): %{x}<br>HDI Calculated: %{y}",
         "legendgroup": "Australia",
         "marker": {
          "color": "#B2E4FA",
          "symbol": "circle"
         },
         "mode": "markers",
         "name": "Australia",
         "orientation": "v",
         "showlegend": false,
         "type": "scatter",
         "x": [
          35107.5,
          44097.02
         ],
         "xaxis": "x",
         "y": [
          0.94,
          0.99
         ],
         "yaxis": "y"
        },
        {
         "customdata": [
          [
           "Rwanda"
          ],
          [
           "Benin"
          ],
          [
           "Togo"
          ],
          [
           "Gabon"
          ],
          [
           "Kenya"
          ],
          [
           "Zambia"
          ],
          [
           "Niger"
          ],
          [
           "Senegal"
          ],
          [
           "Botswana"
          ],
          [
           "Algeria"
          ],
          [
           "Zimbabwe"
          ],
          [
           "Burkina Faso"
          ],
          [
           "Burundi"
          ],
          [
           "Sierra Leone"
          ],
          [
           "Nigeria"
          ],
          [
           "South Africa"
          ],
          [
           "Chad"
          ],
          [
           "Cameroon"
          ],
          [
           "Egypt"
          ],
          [
           "Libya"
          ],
          [
           "Tanzania"
          ],
          [
           "Madagascar"
          ],
          [
           "Malawi"
          ],
          [
           "Mali"
          ],
          [
           "Liberia"
          ],
          [
           "Mauritius"
          ],
          [
           "Tunisia"
          ],
          [
           "Ethiopia"
          ],
          [
           "Ghana"
          ],
          [
           "Morocco"
          ],
          [
           "Mauritania"
          ],
          [
           "Uganda"
          ]
         ],
         "hovertemplate": "Country: %{customdata[0]}<br>GNI per Capita (PPP): %{x}<br>HDI Calculated: %{y}",
         "legendgroup": "Africa",
         "marker": {
          "color": "#AEFD8E",
          "symbol": "circle"
         },
         "mode": "markers",
         "name": "Africa",
         "orientation": "v",
         "showlegend": true,
         "type": "scatter",
         "x": [
          1710,
          2860,
          1440,
          13480,
          3330,
          3370,
          840,
          2910,
          15310,
          11700,
          2410,
          1460,
          840,
          1570,
          5280,
          12240,
          1760,
          3210,
          11160,
          12740,
          2740,
          1500,
          990,
          1990,
          1180,
          20860,
          9890,
          1650,
          5050,
          7670,
          3160,
          1750
         ],
         "xaxis": "x4",
         "y": [
          0.53,
          0.55,
          0.51,
          0.69,
          0.59,
          0.59,
          0.36,
          0.52,
          0.72,
          0.76,
          0.55,
          0.43,
          0.45,
          0.44,
          0.53,
          0.7,
          0.42,
          0.56,
          0.71,
          0.73,
          0.53,
          0.53,
          0.47,
          0.43,
          0.48,
          0.8,
          0.74,
          0.47,
          0.61,
          0.68,
          0.52,
          0.53
         ],
         "yaxis": "y4"
        },
        {
         "customdata": [
          [
           "Botswana"
          ],
          [
           "Cameroon"
          ],
          [
           "Chad"
          ],
          [
           "Ethiopia"
          ],
          [
           "Egypt"
          ],
          [
           "Benin"
          ],
          [
           "Burundi"
          ],
          [
           "Burkina Faso"
          ],
          [
           "Mauritius"
          ],
          [
           "Uganda"
          ],
          [
           "Gabon"
          ],
          [
           "Ghana"
          ],
          [
           "Algeria"
          ],
          [
           "Zimbabwe"
          ],
          [
           "Zambia"
          ],
          [
           "Liberia"
          ],
          [
           "Madagascar"
          ],
          [
           "Niger"
          ],
          [
           "Nigeria"
          ],
          [
           "Mali"
          ],
          [
           "Kenya"
          ],
          [
           "Rwanda"
          ],
          [
           "Senegal"
          ],
          [
           "Togo"
          ],
          [
           "Sierra Leone"
          ],
          [
           "Mauritania"
          ],
          [
           "Tanzania"
          ],
          [
           "Libya"
          ],
          [
           "South Africa"
          ],
          [
           "Malawi"
          ],
          [
           "Morocco"
          ],
          [
           "Tunisia"
          ]
         ],
         "hovertemplate": "Country: %{customdata[0]}<br>GNI per Capita (PPP): %{x}<br>HDI Calculated: %{y}",
         "legendgroup": "Africa",
         "marker": {
          "color": "#AEFD8E",
          "symbol": "circle"
         },
         "mode": "markers",
         "name": "Africa",
         "orientation": "v",
         "showlegend": false,
         "type": "scatter",
         "x": [
          16600,
          3350,
          1630,
          1870,
          10850,
          2980,
          800,
          1550,
          22390,
          1690,
          13180,
          4800,
          11520,
          2570,
          3330,
          1260,
          1550,
          820,
          5120,
          2130,
          3620,
          1790,
          3000,
          1470,
          1420,
          3350,
          2860,
          11430,
          12240,
          1020,
          7730,
          10070
         ],
         "xaxis": "x3",
         "y": [
          0.73,
          0.57,
          0.42,
          0.48,
          0.71,
          0.55,
          0.45,
          0.44,
          0.81,
          0.53,
          0.69,
          0.61,
          0.76,
          0.56,
          0.6,
          0.49,
          0.53,
          0.36,
          0.54,
          0.44,
          0.6,
          0.54,
          0.53,
          0.52,
          0.44,
          0.53,
          0.54,
          0.72,
          0.7,
          0.48,
          0.68,
          0.75
         ],
         "yaxis": "y3"
        },
        {
         "customdata": [
          [
           "Ghana"
          ],
          [
           "Uganda"
          ],
          [
           "Tunisia"
          ],
          [
           "Togo"
          ],
          [
           "Zimbabwe"
          ],
          [
           "Egypt"
          ],
          [
           "Algeria"
          ],
          [
           "Madagascar"
          ],
          [
           "Libya"
          ],
          [
           "Tanzania"
          ],
          [
           "Malawi"
          ],
          [
           "Chad"
          ],
          [
           "Mauritius"
          ],
          [
           "Mauritania"
          ],
          [
           "Mali"
          ],
          [
           "Liberia"
          ],
          [
           "Kenya"
          ],
          [
           "Botswana"
          ],
          [
           "Cameroon"
          ],
          [
           "Sierra Leone"
          ],
          [
           "Morocco"
          ],
          [
           "Burundi"
          ],
          [
           "Burkina Faso"
          ],
          [
           "Senegal"
          ],
          [
           "Ethiopia"
          ],
          [
           "Gabon"
          ],
          [
           "South Africa"
          ],
          [
           "Niger"
          ],
          [
           "Nigeria"
          ],
          [
           "Rwanda"
          ],
          [
           "Zambia"
          ],
          [
           "Benin"
          ]
         ],
         "hovertemplate": "Country: %{customdata[0]}<br>GNI per Capita (PPP): %{x}<br>HDI Calculated: %{y}",
         "legendgroup": "Africa",
         "marker": {
          "color": "#AEFD8E",
          "symbol": "circle"
         },
         "mode": "markers",
         "name": "Africa",
         "orientation": "v",
         "showlegend": false,
         "type": "scatter",
         "x": [
          4860,
          1710,
          10280,
          1520,
          2860,
          10800,
          11370,
          1540,
          13690,
          3020,
          1030,
          1570,
          23560,
          3610,
          2180,
          1380,
          4000,
          16680,
          3490,
          1590,
          8110,
          770,
          1730,
          3140,
          2010,
          14060,
          12320,
          830,
          5030,
          1910,
          3330,
          3010
         ],
         "xaxis": "x2",
         "y": [
          0.61,
          0.54,
          0.75,
          0.52,
          0.57,
          0.71,
          0.76,
          0.54,
          0.73,
          0.54,
          0.48,
          0.41,
          0.81,
          0.53,
          0.45,
          0.5,
          0.61,
          0.73,
          0.57,
          0.45,
          0.69,
          0.45,
          0.44,
          0.54,
          0.49,
          0.7,
          0.71,
          0.36,
          0.54,
          0.54,
          0.6,
          0.55
         ],
         "yaxis": "y2"
        },
        {
         "customdata": [
          [
           "Niger"
          ],
          [
           "Nigeria"
          ],
          [
           "Sierra Leone"
          ],
          [
           "Cameroon"
          ],
          [
           "Burundi"
          ],
          [
           "Burkina Faso"
          ],
          [
           "Botswana"
          ],
          [
           "Morocco"
          ],
          [
           "Rwanda"
          ],
          [
           "Mauritania"
          ],
          [
           "Mali"
          ],
          [
           "Malawi"
          ],
          [
           "Madagascar"
          ],
          [
           "Libya"
          ],
          [
           "Liberia"
          ],
          [
           "Kenya"
          ],
          [
           "Mauritius"
          ],
          [
           "Senegal"
          ],
          [
           "Benin"
          ],
          [
           "Tunisia"
          ],
          [
           "Togo"
          ],
          [
           "Uganda"
          ],
          [
           "Tanzania"
          ],
          [
           "South Africa"
          ],
          [
           "Zambia"
          ],
          [
           "Algeria"
          ],
          [
           "Chad"
          ],
          [
           "Ghana"
          ],
          [
           "Gabon"
          ],
          [
           "Ethiopia"
          ],
          [
           "Egypt"
          ],
          [
           "Zimbabwe"
          ]
         ],
         "hovertemplate": "Country: %{customdata[0]}<br>GNI per Capita (PPP): %{x}<br>HDI Calculated: %{y}",
         "legendgroup": "Africa",
         "marker": {
          "color": "#AEFD8E",
          "symbol": "circle"
         },
         "mode": "markers",
         "name": "Africa",
         "orientation": "v",
         "showlegend": false,
         "type": "scatter",
         "x": [
          912.04,
          5085.54,
          1381.3,
          3291.13,
          659.73,
          1705.49,
          15951.33,
          7479.59,
          1958.61,
          3746.08,
          1965.39,
          1159.12,
          1403.92,
          11684.73,
          1040.09,
          3051.69,
          22724.23,
          3255.99,
          2134.59,
          10676.96,
          1592.54,
          1752.21,
          2805.12,
          11756.3,
          3581.89,
          13639.43,
          1715.57,
          4098.86,
          15794.08,
          1781.76,
          10743.81,
          2661.07
         ],
         "xaxis": "x",
         "y": [
          0.39,
          0.54,
          0.45,
          0.57,
          0.44,
          0.45,
          0.73,
          0.69,
          0.55,
          0.54,
          0.44,
          0.5,
          0.53,
          0.72,
          0.47,
          0.59,
          0.81,
          0.53,
          0.54,
          0.76,
          0.53,
          0.54,
          0.53,
          0.71,
          0.6,
          0.77,
          0.41,
          0.6,
          0.71,
          0.48,
          0.71,
          0.57
         ],
         "yaxis": "y"
        },
        {
         "customdata": [
          [
           "Mexico"
          ],
          [
           "Canada"
          ],
          [
           "United States"
          ]
         ],
         "hovertemplate": "Country: %{customdata[0]}<br>GNI per Capita (PPP): %{x}<br>HDI Calculated: %{y}",
         "legendgroup": "North America",
         "marker": {
          "color": "#B47FE3",
          "symbol": "circle"
         },
         "mode": "markers",
         "name": "North America",
         "orientation": "v",
         "showlegend": true,
         "type": "scatter",
         "x": [
          17830,
          43990,
          58340
         ],
         "xaxis": "x4",
         "y": [
          0.77,
          0.93,
          0.93
         ],
         "yaxis": "y4"
        },
        {
         "customdata": [
          [
           "Canada"
          ],
          [
           "United States"
          ],
          [
           "Mexico"
          ]
         ],
         "hovertemplate": "Country: %{customdata[0]}<br>GNI per Capita (PPP): %{x}<br>HDI Calculated: %{y}",
         "legendgroup": "North America",
         "marker": {
          "color": "#B47FE3",
          "symbol": "circle"
         },
         "mode": "markers",
         "name": "North America",
         "orientation": "v",
         "showlegend": false,
         "type": "scatter",
         "x": [
          45910,
          58970,
          18810
         ],
         "xaxis": "x3",
         "y": [
          0.93,
          0.93,
          0.78
         ],
         "yaxis": "y3"
        },
        {
         "customdata": [
          [
           "Mexico"
          ],
          [
           "United States"
          ],
          [
           "Canada"
          ]
         ],
         "hovertemplate": "Country: %{customdata[0]}<br>GNI per Capita (PPP): %{x}<br>HDI Calculated: %{y}",
         "legendgroup": "North America",
         "marker": {
          "color": "#B47FE3",
          "symbol": "circle"
         },
         "mode": "markers",
         "name": "North America",
         "orientation": "v",
         "showlegend": false,
         "type": "scatter",
         "x": [
          19300,
          61020,
          48070
         ],
         "xaxis": "x2",
         "y": [
          0.78,
          0.93,
          0.94
         ],
         "yaxis": "y2"
        },
        {
         "customdata": [
          [
           "Canada"
          ],
          [
           "Mexico"
          ],
          [
           "United States"
          ]
         ],
         "hovertemplate": "Country: %{customdata[0]}<br>GNI per Capita (PPP): %{x}<br>HDI Calculated: %{y}",
         "legendgroup": "North America",
         "marker": {
          "color": "#B47FE3",
          "symbol": "circle"
         },
         "mode": "markers",
         "name": "North America",
         "orientation": "v",
         "showlegend": false,
         "type": "scatter",
         "x": [
          43602.25,
          17628.12,
          56140.23
         ],
         "xaxis": "x",
         "y": [
          0.93,
          0.78,
          0.93
         ],
         "yaxis": "y"
        }
       ],
       "layout": {
        "annotations": [
         {
          "font": {},
          "showarrow": false,
          "text": "Year=2018",
          "textangle": 90,
          "x": 0.98,
          "xanchor": "left",
          "xref": "paper",
          "y": 0.11375,
          "yanchor": "middle",
          "yref": "paper"
         },
         {
          "font": {},
          "showarrow": false,
          "text": "Year=2017",
          "textangle": 90,
          "x": 0.98,
          "xanchor": "left",
          "xref": "paper",
          "y": 0.37124999999999997,
          "yanchor": "middle",
          "yref": "paper"
         },
         {
          "font": {},
          "showarrow": false,
          "text": "Year=2016",
          "textangle": 90,
          "x": 0.98,
          "xanchor": "left",
          "xref": "paper",
          "y": 0.62875,
          "yanchor": "middle",
          "yref": "paper"
         },
         {
          "font": {},
          "showarrow": false,
          "text": "Year=2015",
          "textangle": 90,
          "x": 0.98,
          "xanchor": "left",
          "xref": "paper",
          "y": 0.88625,
          "yanchor": "middle",
          "yref": "paper"
         }
        ],
        "height": 1000,
        "legend": {
         "title": {
          "text": "continent"
         },
         "tracegroupgap": 0
        },
        "margin": {
         "t": 60
        },
        "template": {
         "data": {
          "bar": [
           {
            "error_x": {
             "color": "#2a3f5f"
            },
            "error_y": {
             "color": "#2a3f5f"
            },
            "marker": {
             "line": {
              "color": "#E5ECF6",
              "width": 0.5
             },
             "pattern": {
              "fillmode": "overlay",
              "size": 10,
              "solidity": 0.2
             }
            },
            "type": "bar"
           }
          ],
          "barpolar": [
           {
            "marker": {
             "line": {
              "color": "#E5ECF6",
              "width": 0.5
             },
             "pattern": {
              "fillmode": "overlay",
              "size": 10,
              "solidity": 0.2
             }
            },
            "type": "barpolar"
           }
          ],
          "carpet": [
           {
            "aaxis": {
             "endlinecolor": "#2a3f5f",
             "gridcolor": "white",
             "linecolor": "white",
             "minorgridcolor": "white",
             "startlinecolor": "#2a3f5f"
            },
            "baxis": {
             "endlinecolor": "#2a3f5f",
             "gridcolor": "white",
             "linecolor": "white",
             "minorgridcolor": "white",
             "startlinecolor": "#2a3f5f"
            },
            "type": "carpet"
           }
          ],
          "choropleth": [
           {
            "colorbar": {
             "outlinewidth": 0,
             "ticks": ""
            },
            "type": "choropleth"
           }
          ],
          "contour": [
           {
            "colorbar": {
             "outlinewidth": 0,
             "ticks": ""
            },
            "colorscale": [
             [
              0,
              "#0d0887"
             ],
             [
              0.1111111111111111,
              "#46039f"
             ],
             [
              0.2222222222222222,
              "#7201a8"
             ],
             [
              0.3333333333333333,
              "#9c179e"
             ],
             [
              0.4444444444444444,
              "#bd3786"
             ],
             [
              0.5555555555555556,
              "#d8576b"
             ],
             [
              0.6666666666666666,
              "#ed7953"
             ],
             [
              0.7777777777777778,
              "#fb9f3a"
             ],
             [
              0.8888888888888888,
              "#fdca26"
             ],
             [
              1,
              "#f0f921"
             ]
            ],
            "type": "contour"
           }
          ],
          "contourcarpet": [
           {
            "colorbar": {
             "outlinewidth": 0,
             "ticks": ""
            },
            "type": "contourcarpet"
           }
          ],
          "heatmap": [
           {
            "colorbar": {
             "outlinewidth": 0,
             "ticks": ""
            },
            "colorscale": [
             [
              0,
              "#0d0887"
             ],
             [
              0.1111111111111111,
              "#46039f"
             ],
             [
              0.2222222222222222,
              "#7201a8"
             ],
             [
              0.3333333333333333,
              "#9c179e"
             ],
             [
              0.4444444444444444,
              "#bd3786"
             ],
             [
              0.5555555555555556,
              "#d8576b"
             ],
             [
              0.6666666666666666,
              "#ed7953"
             ],
             [
              0.7777777777777778,
              "#fb9f3a"
             ],
             [
              0.8888888888888888,
              "#fdca26"
             ],
             [
              1,
              "#f0f921"
             ]
            ],
            "type": "heatmap"
           }
          ],
          "heatmapgl": [
           {
            "colorbar": {
             "outlinewidth": 0,
             "ticks": ""
            },
            "colorscale": [
             [
              0,
              "#0d0887"
             ],
             [
              0.1111111111111111,
              "#46039f"
             ],
             [
              0.2222222222222222,
              "#7201a8"
             ],
             [
              0.3333333333333333,
              "#9c179e"
             ],
             [
              0.4444444444444444,
              "#bd3786"
             ],
             [
              0.5555555555555556,
              "#d8576b"
             ],
             [
              0.6666666666666666,
              "#ed7953"
             ],
             [
              0.7777777777777778,
              "#fb9f3a"
             ],
             [
              0.8888888888888888,
              "#fdca26"
             ],
             [
              1,
              "#f0f921"
             ]
            ],
            "type": "heatmapgl"
           }
          ],
          "histogram": [
           {
            "marker": {
             "pattern": {
              "fillmode": "overlay",
              "size": 10,
              "solidity": 0.2
             }
            },
            "type": "histogram"
           }
          ],
          "histogram2d": [
           {
            "colorbar": {
             "outlinewidth": 0,
             "ticks": ""
            },
            "colorscale": [
             [
              0,
              "#0d0887"
             ],
             [
              0.1111111111111111,
              "#46039f"
             ],
             [
              0.2222222222222222,
              "#7201a8"
             ],
             [
              0.3333333333333333,
              "#9c179e"
             ],
             [
              0.4444444444444444,
              "#bd3786"
             ],
             [
              0.5555555555555556,
              "#d8576b"
             ],
             [
              0.6666666666666666,
              "#ed7953"
             ],
             [
              0.7777777777777778,
              "#fb9f3a"
             ],
             [
              0.8888888888888888,
              "#fdca26"
             ],
             [
              1,
              "#f0f921"
             ]
            ],
            "type": "histogram2d"
           }
          ],
          "histogram2dcontour": [
           {
            "colorbar": {
             "outlinewidth": 0,
             "ticks": ""
            },
            "colorscale": [
             [
              0,
              "#0d0887"
             ],
             [
              0.1111111111111111,
              "#46039f"
             ],
             [
              0.2222222222222222,
              "#7201a8"
             ],
             [
              0.3333333333333333,
              "#9c179e"
             ],
             [
              0.4444444444444444,
              "#bd3786"
             ],
             [
              0.5555555555555556,
              "#d8576b"
             ],
             [
              0.6666666666666666,
              "#ed7953"
             ],
             [
              0.7777777777777778,
              "#fb9f3a"
             ],
             [
              0.8888888888888888,
              "#fdca26"
             ],
             [
              1,
              "#f0f921"
             ]
            ],
            "type": "histogram2dcontour"
           }
          ],
          "mesh3d": [
           {
            "colorbar": {
             "outlinewidth": 0,
             "ticks": ""
            },
            "type": "mesh3d"
           }
          ],
          "parcoords": [
           {
            "line": {
             "colorbar": {
              "outlinewidth": 0,
              "ticks": ""
             }
            },
            "type": "parcoords"
           }
          ],
          "pie": [
           {
            "automargin": true,
            "type": "pie"
           }
          ],
          "scatter": [
           {
            "fillpattern": {
             "fillmode": "overlay",
             "size": 10,
             "solidity": 0.2
            },
            "type": "scatter"
           }
          ],
          "scatter3d": [
           {
            "line": {
             "colorbar": {
              "outlinewidth": 0,
              "ticks": ""
             }
            },
            "marker": {
             "colorbar": {
              "outlinewidth": 0,
              "ticks": ""
             }
            },
            "type": "scatter3d"
           }
          ],
          "scattercarpet": [
           {
            "marker": {
             "colorbar": {
              "outlinewidth": 0,
              "ticks": ""
             }
            },
            "type": "scattercarpet"
           }
          ],
          "scattergeo": [
           {
            "marker": {
             "colorbar": {
              "outlinewidth": 0,
              "ticks": ""
             }
            },
            "type": "scattergeo"
           }
          ],
          "scattergl": [
           {
            "marker": {
             "colorbar": {
              "outlinewidth": 0,
              "ticks": ""
             }
            },
            "type": "scattergl"
           }
          ],
          "scattermapbox": [
           {
            "marker": {
             "colorbar": {
              "outlinewidth": 0,
              "ticks": ""
             }
            },
            "type": "scattermapbox"
           }
          ],
          "scatterpolar": [
           {
            "marker": {
             "colorbar": {
              "outlinewidth": 0,
              "ticks": ""
             }
            },
            "type": "scatterpolar"
           }
          ],
          "scatterpolargl": [
           {
            "marker": {
             "colorbar": {
              "outlinewidth": 0,
              "ticks": ""
             }
            },
            "type": "scatterpolargl"
           }
          ],
          "scatterternary": [
           {
            "marker": {
             "colorbar": {
              "outlinewidth": 0,
              "ticks": ""
             }
            },
            "type": "scatterternary"
           }
          ],
          "surface": [
           {
            "colorbar": {
             "outlinewidth": 0,
             "ticks": ""
            },
            "colorscale": [
             [
              0,
              "#0d0887"
             ],
             [
              0.1111111111111111,
              "#46039f"
             ],
             [
              0.2222222222222222,
              "#7201a8"
             ],
             [
              0.3333333333333333,
              "#9c179e"
             ],
             [
              0.4444444444444444,
              "#bd3786"
             ],
             [
              0.5555555555555556,
              "#d8576b"
             ],
             [
              0.6666666666666666,
              "#ed7953"
             ],
             [
              0.7777777777777778,
              "#fb9f3a"
             ],
             [
              0.8888888888888888,
              "#fdca26"
             ],
             [
              1,
              "#f0f921"
             ]
            ],
            "type": "surface"
           }
          ],
          "table": [
           {
            "cells": {
             "fill": {
              "color": "#EBF0F8"
             },
             "line": {
              "color": "white"
             }
            },
            "header": {
             "fill": {
              "color": "#C8D4E3"
             },
             "line": {
              "color": "white"
             }
            },
            "type": "table"
           }
          ]
         },
         "layout": {
          "annotationdefaults": {
           "arrowcolor": "#2a3f5f",
           "arrowhead": 0,
           "arrowwidth": 1
          },
          "autotypenumbers": "strict",
          "coloraxis": {
           "colorbar": {
            "outlinewidth": 0,
            "ticks": ""
           }
          },
          "colorscale": {
           "diverging": [
            [
             0,
             "#8e0152"
            ],
            [
             0.1,
             "#c51b7d"
            ],
            [
             0.2,
             "#de77ae"
            ],
            [
             0.3,
             "#f1b6da"
            ],
            [
             0.4,
             "#fde0ef"
            ],
            [
             0.5,
             "#f7f7f7"
            ],
            [
             0.6,
             "#e6f5d0"
            ],
            [
             0.7,
             "#b8e186"
            ],
            [
             0.8,
             "#7fbc41"
            ],
            [
             0.9,
             "#4d9221"
            ],
            [
             1,
             "#276419"
            ]
           ],
           "sequential": [
            [
             0,
             "#0d0887"
            ],
            [
             0.1111111111111111,
             "#46039f"
            ],
            [
             0.2222222222222222,
             "#7201a8"
            ],
            [
             0.3333333333333333,
             "#9c179e"
            ],
            [
             0.4444444444444444,
             "#bd3786"
            ],
            [
             0.5555555555555556,
             "#d8576b"
            ],
            [
             0.6666666666666666,
             "#ed7953"
            ],
            [
             0.7777777777777778,
             "#fb9f3a"
            ],
            [
             0.8888888888888888,
             "#fdca26"
            ],
            [
             1,
             "#f0f921"
            ]
           ],
           "sequentialminus": [
            [
             0,
             "#0d0887"
            ],
            [
             0.1111111111111111,
             "#46039f"
            ],
            [
             0.2222222222222222,
             "#7201a8"
            ],
            [
             0.3333333333333333,
             "#9c179e"
            ],
            [
             0.4444444444444444,
             "#bd3786"
            ],
            [
             0.5555555555555556,
             "#d8576b"
            ],
            [
             0.6666666666666666,
             "#ed7953"
            ],
            [
             0.7777777777777778,
             "#fb9f3a"
            ],
            [
             0.8888888888888888,
             "#fdca26"
            ],
            [
             1,
             "#f0f921"
            ]
           ]
          },
          "colorway": [
           "#636efa",
           "#EF553B",
           "#00cc96",
           "#ab63fa",
           "#FFA15A",
           "#19d3f3",
           "#FF6692",
           "#B6E880",
           "#FF97FF",
           "#FECB52"
          ],
          "font": {
           "color": "#2a3f5f"
          },
          "geo": {
           "bgcolor": "white",
           "lakecolor": "white",
           "landcolor": "#E5ECF6",
           "showlakes": true,
           "showland": true,
           "subunitcolor": "white"
          },
          "hoverlabel": {
           "align": "left"
          },
          "hovermode": "closest",
          "mapbox": {
           "style": "light"
          },
          "paper_bgcolor": "white",
          "plot_bgcolor": "#E5ECF6",
          "polar": {
           "angularaxis": {
            "gridcolor": "white",
            "linecolor": "white",
            "ticks": ""
           },
           "bgcolor": "#E5ECF6",
           "radialaxis": {
            "gridcolor": "white",
            "linecolor": "white",
            "ticks": ""
           }
          },
          "scene": {
           "xaxis": {
            "backgroundcolor": "#E5ECF6",
            "gridcolor": "white",
            "gridwidth": 2,
            "linecolor": "white",
            "showbackground": true,
            "ticks": "",
            "zerolinecolor": "white"
           },
           "yaxis": {
            "backgroundcolor": "#E5ECF6",
            "gridcolor": "white",
            "gridwidth": 2,
            "linecolor": "white",
            "showbackground": true,
            "ticks": "",
            "zerolinecolor": "white"
           },
           "zaxis": {
            "backgroundcolor": "#E5ECF6",
            "gridcolor": "white",
            "gridwidth": 2,
            "linecolor": "white",
            "showbackground": true,
            "ticks": "",
            "zerolinecolor": "white"
           }
          },
          "shapedefaults": {
           "line": {
            "color": "#2a3f5f"
           }
          },
          "ternary": {
           "aaxis": {
            "gridcolor": "white",
            "linecolor": "white",
            "ticks": ""
           },
           "baxis": {
            "gridcolor": "white",
            "linecolor": "white",
            "ticks": ""
           },
           "bgcolor": "#E5ECF6",
           "caxis": {
            "gridcolor": "white",
            "linecolor": "white",
            "ticks": ""
           }
          },
          "title": {
           "x": 0.05
          },
          "xaxis": {
           "automargin": true,
           "gridcolor": "white",
           "linecolor": "white",
           "ticks": "",
           "title": {
            "standoff": 15
           },
           "zerolinecolor": "white",
           "zerolinewidth": 2
          },
          "yaxis": {
           "automargin": true,
           "gridcolor": "white",
           "linecolor": "white",
           "ticks": "",
           "title": {
            "standoff": 15
           },
           "zerolinecolor": "white",
           "zerolinewidth": 2
          }
         }
        },
        "title": {
         "text": "Scatter Plot of HDI Calculated vs GNI per Capita (PPP) by Year"
        },
        "width": 800,
        "xaxis": {
         "anchor": "y",
         "domain": [
          0,
          0.98
         ],
         "title": {
          "text": "GNI per Capita (PPP)"
         }
        },
        "xaxis2": {
         "anchor": "y2",
         "domain": [
          0,
          0.98
         ],
         "matches": "x",
         "showticklabels": false
        },
        "xaxis3": {
         "anchor": "y3",
         "domain": [
          0,
          0.98
         ],
         "matches": "x",
         "showticklabels": false
        },
        "xaxis4": {
         "anchor": "y4",
         "domain": [
          0,
          0.98
         ],
         "matches": "x",
         "showticklabels": false
        },
        "yaxis": {
         "anchor": "x",
         "domain": [
          0,
          0.2275
         ],
         "title": {
          "text": "HDI Calculated"
         }
        },
        "yaxis2": {
         "anchor": "x2",
         "domain": [
          0.2575,
          0.485
         ],
         "matches": "y",
         "title": {
          "text": "HDI_calculated"
         }
        },
        "yaxis3": {
         "anchor": "x3",
         "domain": [
          0.515,
          0.7425
         ],
         "matches": "y",
         "title": {
          "text": "HDI_calculated"
         }
        },
        "yaxis4": {
         "anchor": "x4",
         "domain": [
          0.7725,
          1
         ],
         "matches": "y",
         "title": {
          "text": "HDI_calculated"
         }
        }
       }
      }
     },
     "metadata": {},
     "output_type": "display_data"
    }
   ],
   "source": [
    "# Sort the data by 'Year' column in descending order\n",
    "data = data.sort_values('Year', ascending=True)\n",
    "\n",
    "# Create a scatter plot for all available years using Plotly, with two plots per row\n",
    "fig = px.scatter(data, x='GNI_per_capita_PPP', y='HDI_calculated', color='continent',\n",
    "                 color_discrete_map=continent_colors, hover_data=['Country'], facet_row='Year')\n",
    "\n",
    "# Set the plot title and axis labels\n",
    "fig.update_layout(\n",
    "    title='Scatter Plot of HDI Calculated vs GNI per Capita (PPP) by Year',\n",
    "    xaxis_title='GNI per Capita (PPP)',\n",
    "    yaxis_title='HDI Calculated',\n",
    "    height=1000,  \n",
    "    width = 800\n",
    ")\n",
    "\n",
    "# Set the hover label format\n",
    "fig.update_traces(hovertemplate='Country: %{customdata[0]}<br>GNI per Capita (PPP): %{x}<br>HDI Calculated: %{y}')\n",
    "\n",
    "# Show the plot\n",
    "fig.show()\n",
    "\n"
   ]
  },
  {
   "cell_type": "code",
   "execution_count": null,
   "metadata": {},
   "outputs": [],
   "source": []
  }
 ],
 "metadata": {
  "kernelspec": {
   "display_name": "Python 3.10.6 64-bit",
   "language": "python",
   "name": "python3"
  },
  "language_info": {
   "codemirror_mode": {
    "name": "ipython",
    "version": 3
   },
   "file_extension": ".py",
   "mimetype": "text/x-python",
   "name": "python",
   "nbconvert_exporter": "python",
   "pygments_lexer": "ipython3",
   "version": "3.10.6"
  },
  "orig_nbformat": 4,
  "vscode": {
   "interpreter": {
    "hash": "916dbcbb3f70747c44a77c7bcd40155683ae19c65e1c03b4aa3499c5328201f1"
   }
  }
 },
 "nbformat": 4,
 "nbformat_minor": 2
}
