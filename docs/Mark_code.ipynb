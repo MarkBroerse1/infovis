{
 "cells": [
  {
   "cell_type": "code",
   "execution_count": 2,
   "metadata": {},
   "outputs": [],
   "source": [
    "import pandas as pd\n",
    "import plotly.express as px\n",
    "import seaborn as sns\n",
    "import matplotlib.pyplot as plt\n",
    "import numpy as np\n",
    "import plotly.graph_objects as go"
   ]
  },
  {
   "cell_type": "code",
   "execution_count": 3,
   "metadata": {},
   "outputs": [
    {
     "data": {
      "application/vnd.plotly.v1+json": {
       "config": {
        "plotlyServerURL": "https://plot.ly"
       },
       "data": [
        {
         "alignmentgroup": "True",
         "bingroup": "x",
         "histfunc": "sum",
         "hovertemplate": "continent=Africa<br>Year=%{x}<br>sum of life_expectancy_index=%{y}<extra></extra>",
         "legendgroup": "Africa",
         "marker": {
          "color": "#636efa",
          "pattern": {
           "shape": ""
          }
         },
         "name": "Africa",
         "offsetgroup": "Africa",
         "orientation": "v",
         "showlegend": true,
         "type": "histogram",
         "x": [
          2015,
          2016,
          2017,
          2018
         ],
         "xaxis": "x",
         "y": [
          0.6746875,
          0.6803125,
          0.6865625,
          0.6915625
         ],
         "yaxis": "y"
        },
        {
         "alignmentgroup": "True",
         "bingroup": "x",
         "histfunc": "sum",
         "hovertemplate": "continent=Asia<br>Year=%{x}<br>sum of life_expectancy_index=%{y}<extra></extra>",
         "legendgroup": "Asia",
         "marker": {
          "color": "#EF553B",
          "pattern": {
           "shape": ""
          }
         },
         "name": "Asia",
         "offsetgroup": "Asia",
         "orientation": "v",
         "showlegend": true,
         "type": "histogram",
         "x": [
          2015,
          2016,
          2017,
          2018
         ],
         "xaxis": "x",
         "y": [
          0.8192105263157895,
          0.8231578947368421,
          0.8263157894736842,
          0.8323684210526315
         ],
         "yaxis": "y"
        },
        {
         "alignmentgroup": "True",
         "bingroup": "x",
         "histfunc": "sum",
         "hovertemplate": "continent=Australia<br>Year=%{x}<br>sum of life_expectancy_index=%{y}<extra></extra>",
         "legendgroup": "Australia",
         "marker": {
          "color": "#00cc96",
          "pattern": {
           "shape": ""
          }
         },
         "name": "Australia",
         "offsetgroup": "Australia",
         "orientation": "v",
         "showlegend": true,
         "type": "histogram",
         "x": [
          2015,
          2016,
          2017,
          2018
         ],
         "xaxis": "x",
         "y": [
          0.96,
          0.96,
          0.96,
          0.965
         ],
         "yaxis": "y"
        },
        {
         "alignmentgroup": "True",
         "bingroup": "x",
         "histfunc": "sum",
         "hovertemplate": "continent=Europe<br>Year=%{x}<br>sum of life_expectancy_index=%{y}<extra></extra>",
         "legendgroup": "Europe",
         "marker": {
          "color": "#ab63fa",
          "pattern": {
           "shape": ""
          }
         },
         "name": "Europe",
         "offsetgroup": "Europe",
         "orientation": "v",
         "showlegend": true,
         "type": "histogram",
         "x": [
          2015,
          2016,
          2017,
          2018
         ],
         "xaxis": "x",
         "y": [
          0.9032432432432433,
          0.9064864864864864,
          0.9097297297297297,
          0.9124324324324323
         ],
         "yaxis": "y"
        },
        {
         "alignmentgroup": "True",
         "bingroup": "x",
         "histfunc": "sum",
         "hovertemplate": "continent=North America<br>Year=%{x}<br>sum of life_expectancy_index=%{y}<extra></extra>",
         "legendgroup": "North America",
         "marker": {
          "color": "#FFA15A",
          "pattern": {
           "shape": ""
          }
         },
         "name": "North America",
         "offsetgroup": "North America",
         "orientation": "v",
         "showlegend": true,
         "type": "histogram",
         "x": [
          2015,
          2016,
          2017,
          2018
         ],
         "xaxis": "x",
         "y": [
          0.9,
          0.9033333333333333,
          0.9066666666666666,
          0.9066666666666666
         ],
         "yaxis": "y"
        },
        {
         "alignmentgroup": "True",
         "bingroup": "x",
         "histfunc": "sum",
         "hovertemplate": "continent=South America<br>Year=%{x}<br>sum of life_expectancy_index=%{y}<extra></extra>",
         "legendgroup": "South America",
         "marker": {
          "color": "#19d3f3",
          "pattern": {
           "shape": ""
          }
         },
         "name": "South America",
         "offsetgroup": "South America",
         "orientation": "v",
         "showlegend": true,
         "type": "histogram",
         "x": [
          2015,
          2016,
          2017,
          2018
         ],
         "xaxis": "x",
         "y": [
          0.8265,
          0.8285,
          0.8320000000000001,
          0.8355
         ],
         "yaxis": "y"
        }
       ],
       "layout": {
        "barmode": "group",
        "legend": {
         "title": {
          "text": "continent"
         },
         "tracegroupgap": 0
        },
        "margin": {
         "t": 60
        },
        "template": {
         "data": {
          "bar": [
           {
            "error_x": {
             "color": "#2a3f5f"
            },
            "error_y": {
             "color": "#2a3f5f"
            },
            "marker": {
             "line": {
              "color": "#E5ECF6",
              "width": 0.5
             },
             "pattern": {
              "fillmode": "overlay",
              "size": 10,
              "solidity": 0.2
             }
            },
            "type": "bar"
           }
          ],
          "barpolar": [
           {
            "marker": {
             "line": {
              "color": "#E5ECF6",
              "width": 0.5
             },
             "pattern": {
              "fillmode": "overlay",
              "size": 10,
              "solidity": 0.2
             }
            },
            "type": "barpolar"
           }
          ],
          "carpet": [
           {
            "aaxis": {
             "endlinecolor": "#2a3f5f",
             "gridcolor": "white",
             "linecolor": "white",
             "minorgridcolor": "white",
             "startlinecolor": "#2a3f5f"
            },
            "baxis": {
             "endlinecolor": "#2a3f5f",
             "gridcolor": "white",
             "linecolor": "white",
             "minorgridcolor": "white",
             "startlinecolor": "#2a3f5f"
            },
            "type": "carpet"
           }
          ],
          "choropleth": [
           {
            "colorbar": {
             "outlinewidth": 0,
             "ticks": ""
            },
            "type": "choropleth"
           }
          ],
          "contour": [
           {
            "colorbar": {
             "outlinewidth": 0,
             "ticks": ""
            },
            "colorscale": [
             [
              0,
              "#0d0887"
             ],
             [
              0.1111111111111111,
              "#46039f"
             ],
             [
              0.2222222222222222,
              "#7201a8"
             ],
             [
              0.3333333333333333,
              "#9c179e"
             ],
             [
              0.4444444444444444,
              "#bd3786"
             ],
             [
              0.5555555555555556,
              "#d8576b"
             ],
             [
              0.6666666666666666,
              "#ed7953"
             ],
             [
              0.7777777777777778,
              "#fb9f3a"
             ],
             [
              0.8888888888888888,
              "#fdca26"
             ],
             [
              1,
              "#f0f921"
             ]
            ],
            "type": "contour"
           }
          ],
          "contourcarpet": [
           {
            "colorbar": {
             "outlinewidth": 0,
             "ticks": ""
            },
            "type": "contourcarpet"
           }
          ],
          "heatmap": [
           {
            "colorbar": {
             "outlinewidth": 0,
             "ticks": ""
            },
            "colorscale": [
             [
              0,
              "#0d0887"
             ],
             [
              0.1111111111111111,
              "#46039f"
             ],
             [
              0.2222222222222222,
              "#7201a8"
             ],
             [
              0.3333333333333333,
              "#9c179e"
             ],
             [
              0.4444444444444444,
              "#bd3786"
             ],
             [
              0.5555555555555556,
              "#d8576b"
             ],
             [
              0.6666666666666666,
              "#ed7953"
             ],
             [
              0.7777777777777778,
              "#fb9f3a"
             ],
             [
              0.8888888888888888,
              "#fdca26"
             ],
             [
              1,
              "#f0f921"
             ]
            ],
            "type": "heatmap"
           }
          ],
          "heatmapgl": [
           {
            "colorbar": {
             "outlinewidth": 0,
             "ticks": ""
            },
            "colorscale": [
             [
              0,
              "#0d0887"
             ],
             [
              0.1111111111111111,
              "#46039f"
             ],
             [
              0.2222222222222222,
              "#7201a8"
             ],
             [
              0.3333333333333333,
              "#9c179e"
             ],
             [
              0.4444444444444444,
              "#bd3786"
             ],
             [
              0.5555555555555556,
              "#d8576b"
             ],
             [
              0.6666666666666666,
              "#ed7953"
             ],
             [
              0.7777777777777778,
              "#fb9f3a"
             ],
             [
              0.8888888888888888,
              "#fdca26"
             ],
             [
              1,
              "#f0f921"
             ]
            ],
            "type": "heatmapgl"
           }
          ],
          "histogram": [
           {
            "marker": {
             "pattern": {
              "fillmode": "overlay",
              "size": 10,
              "solidity": 0.2
             }
            },
            "type": "histogram"
           }
          ],
          "histogram2d": [
           {
            "colorbar": {
             "outlinewidth": 0,
             "ticks": ""
            },
            "colorscale": [
             [
              0,
              "#0d0887"
             ],
             [
              0.1111111111111111,
              "#46039f"
             ],
             [
              0.2222222222222222,
              "#7201a8"
             ],
             [
              0.3333333333333333,
              "#9c179e"
             ],
             [
              0.4444444444444444,
              "#bd3786"
             ],
             [
              0.5555555555555556,
              "#d8576b"
             ],
             [
              0.6666666666666666,
              "#ed7953"
             ],
             [
              0.7777777777777778,
              "#fb9f3a"
             ],
             [
              0.8888888888888888,
              "#fdca26"
             ],
             [
              1,
              "#f0f921"
             ]
            ],
            "type": "histogram2d"
           }
          ],
          "histogram2dcontour": [
           {
            "colorbar": {
             "outlinewidth": 0,
             "ticks": ""
            },
            "colorscale": [
             [
              0,
              "#0d0887"
             ],
             [
              0.1111111111111111,
              "#46039f"
             ],
             [
              0.2222222222222222,
              "#7201a8"
             ],
             [
              0.3333333333333333,
              "#9c179e"
             ],
             [
              0.4444444444444444,
              "#bd3786"
             ],
             [
              0.5555555555555556,
              "#d8576b"
             ],
             [
              0.6666666666666666,
              "#ed7953"
             ],
             [
              0.7777777777777778,
              "#fb9f3a"
             ],
             [
              0.8888888888888888,
              "#fdca26"
             ],
             [
              1,
              "#f0f921"
             ]
            ],
            "type": "histogram2dcontour"
           }
          ],
          "mesh3d": [
           {
            "colorbar": {
             "outlinewidth": 0,
             "ticks": ""
            },
            "type": "mesh3d"
           }
          ],
          "parcoords": [
           {
            "line": {
             "colorbar": {
              "outlinewidth": 0,
              "ticks": ""
             }
            },
            "type": "parcoords"
           }
          ],
          "pie": [
           {
            "automargin": true,
            "type": "pie"
           }
          ],
          "scatter": [
           {
            "fillpattern": {
             "fillmode": "overlay",
             "size": 10,
             "solidity": 0.2
            },
            "type": "scatter"
           }
          ],
          "scatter3d": [
           {
            "line": {
             "colorbar": {
              "outlinewidth": 0,
              "ticks": ""
             }
            },
            "marker": {
             "colorbar": {
              "outlinewidth": 0,
              "ticks": ""
             }
            },
            "type": "scatter3d"
           }
          ],
          "scattercarpet": [
           {
            "marker": {
             "colorbar": {
              "outlinewidth": 0,
              "ticks": ""
             }
            },
            "type": "scattercarpet"
           }
          ],
          "scattergeo": [
           {
            "marker": {
             "colorbar": {
              "outlinewidth": 0,
              "ticks": ""
             }
            },
            "type": "scattergeo"
           }
          ],
          "scattergl": [
           {
            "marker": {
             "colorbar": {
              "outlinewidth": 0,
              "ticks": ""
             }
            },
            "type": "scattergl"
           }
          ],
          "scattermapbox": [
           {
            "marker": {
             "colorbar": {
              "outlinewidth": 0,
              "ticks": ""
             }
            },
            "type": "scattermapbox"
           }
          ],
          "scatterpolar": [
           {
            "marker": {
             "colorbar": {
              "outlinewidth": 0,
              "ticks": ""
             }
            },
            "type": "scatterpolar"
           }
          ],
          "scatterpolargl": [
           {
            "marker": {
             "colorbar": {
              "outlinewidth": 0,
              "ticks": ""
             }
            },
            "type": "scatterpolargl"
           }
          ],
          "scatterternary": [
           {
            "marker": {
             "colorbar": {
              "outlinewidth": 0,
              "ticks": ""
             }
            },
            "type": "scatterternary"
           }
          ],
          "surface": [
           {
            "colorbar": {
             "outlinewidth": 0,
             "ticks": ""
            },
            "colorscale": [
             [
              0,
              "#0d0887"
             ],
             [
              0.1111111111111111,
              "#46039f"
             ],
             [
              0.2222222222222222,
              "#7201a8"
             ],
             [
              0.3333333333333333,
              "#9c179e"
             ],
             [
              0.4444444444444444,
              "#bd3786"
             ],
             [
              0.5555555555555556,
              "#d8576b"
             ],
             [
              0.6666666666666666,
              "#ed7953"
             ],
             [
              0.7777777777777778,
              "#fb9f3a"
             ],
             [
              0.8888888888888888,
              "#fdca26"
             ],
             [
              1,
              "#f0f921"
             ]
            ],
            "type": "surface"
           }
          ],
          "table": [
           {
            "cells": {
             "fill": {
              "color": "#EBF0F8"
             },
             "line": {
              "color": "white"
             }
            },
            "header": {
             "fill": {
              "color": "#C8D4E3"
             },
             "line": {
              "color": "white"
             }
            },
            "type": "table"
           }
          ]
         },
         "layout": {
          "annotationdefaults": {
           "arrowcolor": "#2a3f5f",
           "arrowhead": 0,
           "arrowwidth": 1
          },
          "autotypenumbers": "strict",
          "coloraxis": {
           "colorbar": {
            "outlinewidth": 0,
            "ticks": ""
           }
          },
          "colorscale": {
           "diverging": [
            [
             0,
             "#8e0152"
            ],
            [
             0.1,
             "#c51b7d"
            ],
            [
             0.2,
             "#de77ae"
            ],
            [
             0.3,
             "#f1b6da"
            ],
            [
             0.4,
             "#fde0ef"
            ],
            [
             0.5,
             "#f7f7f7"
            ],
            [
             0.6,
             "#e6f5d0"
            ],
            [
             0.7,
             "#b8e186"
            ],
            [
             0.8,
             "#7fbc41"
            ],
            [
             0.9,
             "#4d9221"
            ],
            [
             1,
             "#276419"
            ]
           ],
           "sequential": [
            [
             0,
             "#0d0887"
            ],
            [
             0.1111111111111111,
             "#46039f"
            ],
            [
             0.2222222222222222,
             "#7201a8"
            ],
            [
             0.3333333333333333,
             "#9c179e"
            ],
            [
             0.4444444444444444,
             "#bd3786"
            ],
            [
             0.5555555555555556,
             "#d8576b"
            ],
            [
             0.6666666666666666,
             "#ed7953"
            ],
            [
             0.7777777777777778,
             "#fb9f3a"
            ],
            [
             0.8888888888888888,
             "#fdca26"
            ],
            [
             1,
             "#f0f921"
            ]
           ],
           "sequentialminus": [
            [
             0,
             "#0d0887"
            ],
            [
             0.1111111111111111,
             "#46039f"
            ],
            [
             0.2222222222222222,
             "#7201a8"
            ],
            [
             0.3333333333333333,
             "#9c179e"
            ],
            [
             0.4444444444444444,
             "#bd3786"
            ],
            [
             0.5555555555555556,
             "#d8576b"
            ],
            [
             0.6666666666666666,
             "#ed7953"
            ],
            [
             0.7777777777777778,
             "#fb9f3a"
            ],
            [
             0.8888888888888888,
             "#fdca26"
            ],
            [
             1,
             "#f0f921"
            ]
           ]
          },
          "colorway": [
           "#636efa",
           "#EF553B",
           "#00cc96",
           "#ab63fa",
           "#FFA15A",
           "#19d3f3",
           "#FF6692",
           "#B6E880",
           "#FF97FF",
           "#FECB52"
          ],
          "font": {
           "color": "#2a3f5f"
          },
          "geo": {
           "bgcolor": "white",
           "lakecolor": "white",
           "landcolor": "#E5ECF6",
           "showlakes": true,
           "showland": true,
           "subunitcolor": "white"
          },
          "hoverlabel": {
           "align": "left"
          },
          "hovermode": "closest",
          "mapbox": {
           "style": "light"
          },
          "paper_bgcolor": "white",
          "plot_bgcolor": "#E5ECF6",
          "polar": {
           "angularaxis": {
            "gridcolor": "white",
            "linecolor": "white",
            "ticks": ""
           },
           "bgcolor": "#E5ECF6",
           "radialaxis": {
            "gridcolor": "white",
            "linecolor": "white",
            "ticks": ""
           }
          },
          "scene": {
           "xaxis": {
            "backgroundcolor": "#E5ECF6",
            "gridcolor": "white",
            "gridwidth": 2,
            "linecolor": "white",
            "showbackground": true,
            "ticks": "",
            "zerolinecolor": "white"
           },
           "yaxis": {
            "backgroundcolor": "#E5ECF6",
            "gridcolor": "white",
            "gridwidth": 2,
            "linecolor": "white",
            "showbackground": true,
            "ticks": "",
            "zerolinecolor": "white"
           },
           "zaxis": {
            "backgroundcolor": "#E5ECF6",
            "gridcolor": "white",
            "gridwidth": 2,
            "linecolor": "white",
            "showbackground": true,
            "ticks": "",
            "zerolinecolor": "white"
           }
          },
          "shapedefaults": {
           "line": {
            "color": "#2a3f5f"
           }
          },
          "ternary": {
           "aaxis": {
            "gridcolor": "white",
            "linecolor": "white",
            "ticks": ""
           },
           "baxis": {
            "gridcolor": "white",
            "linecolor": "white",
            "ticks": ""
           },
           "bgcolor": "#E5ECF6",
           "caxis": {
            "gridcolor": "white",
            "linecolor": "white",
            "ticks": ""
           }
          },
          "title": {
           "x": 0.05
          },
          "xaxis": {
           "automargin": true,
           "gridcolor": "white",
           "linecolor": "white",
           "ticks": "",
           "title": {
            "standoff": 15
           },
           "zerolinecolor": "white",
           "zerolinewidth": 2
          },
          "yaxis": {
           "automargin": true,
           "gridcolor": "white",
           "linecolor": "white",
           "ticks": "",
           "title": {
            "standoff": 15
           },
           "zerolinecolor": "white",
           "zerolinewidth": 2
          }
         }
        },
        "title": {
         "text": "Development of Average Life Expectancy by Continent"
        },
        "xaxis": {
         "anchor": "y",
         "domain": [
          0,
          1
         ],
         "title": {
          "text": "Year"
         }
        },
        "yaxis": {
         "anchor": "x",
         "domain": [
          0,
          1
         ],
         "title": {
          "text": "Average Life Expectancy"
         }
        }
       }
      }
     },
     "metadata": {},
     "output_type": "display_data"
    }
   ],
   "source": [
    "# Read the full_data.csv file\n",
    "data = pd.read_csv('full_data.csv')\n",
    "\n",
    "# Calculate average life expectancy by continent and year\n",
    "avg_life_expectancy = data.groupby(['continent', 'Year'])['life_expectancy_index'].mean().reset_index()\n",
    "\n",
    "# Create a grouped histogram using Plotly\n",
    "fig = px.histogram(avg_life_expectancy, x='Year', y='life_expectancy_index', color='continent', barmode='group')\n",
    "\n",
    "# Set the plot title and axis labels\n",
    "fig.update_layout(title='Development of Average Life Expectancy by Continent',\n",
    "                  xaxis_title='Year',\n",
    "                  yaxis_title='Average Life Expectancy')\n",
    "\n",
    "# Display the plot\n",
    "fig.show()"
   ]
  },
  {
   "cell_type": "code",
   "execution_count": 8,
   "metadata": {},
   "outputs": [
    {
     "data": {
      "application/vnd.plotly.v1+json": {
       "config": {
        "plotlyServerURL": "https://plot.ly"
       },
       "data": [
        {
         "alignmentgroup": "True",
         "bingroup": "x",
         "histfunc": "sum",
         "hovertemplate": "continent=Africa<br>Year=%{x}<br>sum of happiness_score=%{y}<extra></extra>",
         "legendgroup": "Africa",
         "marker": {
          "color": "#AEFD8E",
          "line": {
           "width": 0.5
          },
          "pattern": {
           "shape": ""
          }
         },
         "name": "Africa",
         "offsetgroup": "Africa",
         "orientation": "v",
         "showlegend": true,
         "type": "histogram",
         "x": [
          2015,
          2016,
          2017,
          2018
         ],
         "xaxis": "x",
         "y": [
          4.3118437603125,
          4.28815625,
          4.42665625,
          4.3554375
         ],
         "yaxis": "y"
        },
        {
         "alignmentgroup": "True",
         "bingroup": "x",
         "histfunc": "sum",
         "hovertemplate": "continent=Asia<br>Year=%{x}<br>sum of happiness_score=%{y}<extra></extra>",
         "legendgroup": "Asia",
         "marker": {
          "color": "#FAA598",
          "line": {
           "width": 0.5
          },
          "pattern": {
           "shape": ""
          }
         },
         "name": "Asia",
         "offsetgroup": "Asia",
         "orientation": "v",
         "showlegend": true,
         "type": "histogram",
         "x": [
          2015,
          2016,
          2017,
          2018
         ],
         "xaxis": "x",
         "y": [
          5.283736799842106,
          5.252868421052632,
          5.250421052631578,
          5.263631578947368
         ],
         "yaxis": "y"
        },
        {
         "alignmentgroup": "True",
         "bingroup": "x",
         "histfunc": "sum",
         "hovertemplate": "continent=Australia<br>Year=%{x}<br>sum of happiness_score=%{y}<extra></extra>",
         "legendgroup": "Australia",
         "marker": {
          "color": "#B2E4FA",
          "line": {
           "width": 0.5
          },
          "pattern": {
           "shape": ""
          }
         },
         "name": "Australia",
         "offsetgroup": "Australia",
         "orientation": "v",
         "showlegend": true,
         "type": "histogram",
         "x": [
          2015,
          2016,
          2017,
          2018
         ],
         "xaxis": "x",
         "y": [
          7.299000025,
          7.285,
          7.2675,
          7.298
         ],
         "yaxis": "y"
        },
        {
         "alignmentgroup": "True",
         "bingroup": "x",
         "histfunc": "sum",
         "hovertemplate": "continent=Europe<br>Year=%{x}<br>sum of happiness_score=%{y}<extra></extra>",
         "legendgroup": "Europe",
         "marker": {
          "color": "#E3C97F",
          "line": {
           "width": 0.5
          },
          "pattern": {
           "shape": ""
          }
         },
         "name": "Europe",
         "offsetgroup": "Europe",
         "orientation": "v",
         "showlegend": true,
         "type": "histogram",
         "x": [
          2015,
          2016,
          2017,
          2018
         ],
         "xaxis": "x",
         "y": [
          6.151864876675676,
          6.089594594594595,
          6.2901621621621615,
          6.216297297297297
         ],
         "yaxis": "y"
        },
        {
         "alignmentgroup": "True",
         "bingroup": "x",
         "histfunc": "sum",
         "hovertemplate": "continent=North America<br>Year=%{x}<br>sum of happiness_score=%{y}<extra></extra>",
         "legendgroup": "North America",
         "marker": {
          "color": "#B47FE3",
          "line": {
           "width": 0.5
          },
          "pattern": {
           "shape": ""
          }
         },
         "name": "North America",
         "offsetgroup": "North America",
         "orientation": "v",
         "showlegend": true,
         "type": "histogram",
         "x": [
          2015,
          2016,
          2017,
          2018
         ],
         "xaxis": "x",
         "y": [
          6.9623333616666665,
          7.2443333333333335,
          6.921666666666667,
          6.900666666666667
         ],
         "yaxis": "y"
        },
        {
         "alignmentgroup": "True",
         "bingroup": "x",
         "histfunc": "sum",
         "hovertemplate": "continent=South America<br>Year=%{x}<br>sum of happiness_score=%{y}<extra></extra>",
         "legendgroup": "South America",
         "marker": {
          "color": "#E8EAC8",
          "line": {
           "width": 0.5
          },
          "pattern": {
           "shape": ""
          }
         },
         "name": "South America",
         "offsetgroup": "South America",
         "orientation": "v",
         "showlegend": true,
         "type": "histogram",
         "x": [
          2015,
          2016,
          2017,
          2018
         ],
         "xaxis": "x",
         "y": [
          5.79385000465,
          5.96075,
          5.839499999999999,
          5.8115499999999995
         ],
         "yaxis": "y"
        }
       ],
       "layout": {
        "bargap": 0.2,
        "barmode": "group",
        "font": {
         "family": "Arial",
         "size": 14
        },
        "legend": {
         "font": {
          "family": "Arial",
          "size": 12
         },
         "title": {
          "text": "continent"
         },
         "tracegroupgap": 0
        },
        "margin": {
         "t": 60
        },
        "plot_bgcolor": "rgb(240, 240, 240)",
        "template": {
         "data": {
          "bar": [
           {
            "error_x": {
             "color": "#2a3f5f"
            },
            "error_y": {
             "color": "#2a3f5f"
            },
            "marker": {
             "line": {
              "color": "#E5ECF6",
              "width": 0.5
             },
             "pattern": {
              "fillmode": "overlay",
              "size": 10,
              "solidity": 0.2
             }
            },
            "type": "bar"
           }
          ],
          "barpolar": [
           {
            "marker": {
             "line": {
              "color": "#E5ECF6",
              "width": 0.5
             },
             "pattern": {
              "fillmode": "overlay",
              "size": 10,
              "solidity": 0.2
             }
            },
            "type": "barpolar"
           }
          ],
          "carpet": [
           {
            "aaxis": {
             "endlinecolor": "#2a3f5f",
             "gridcolor": "white",
             "linecolor": "white",
             "minorgridcolor": "white",
             "startlinecolor": "#2a3f5f"
            },
            "baxis": {
             "endlinecolor": "#2a3f5f",
             "gridcolor": "white",
             "linecolor": "white",
             "minorgridcolor": "white",
             "startlinecolor": "#2a3f5f"
            },
            "type": "carpet"
           }
          ],
          "choropleth": [
           {
            "colorbar": {
             "outlinewidth": 0,
             "ticks": ""
            },
            "type": "choropleth"
           }
          ],
          "contour": [
           {
            "colorbar": {
             "outlinewidth": 0,
             "ticks": ""
            },
            "colorscale": [
             [
              0,
              "#0d0887"
             ],
             [
              0.1111111111111111,
              "#46039f"
             ],
             [
              0.2222222222222222,
              "#7201a8"
             ],
             [
              0.3333333333333333,
              "#9c179e"
             ],
             [
              0.4444444444444444,
              "#bd3786"
             ],
             [
              0.5555555555555556,
              "#d8576b"
             ],
             [
              0.6666666666666666,
              "#ed7953"
             ],
             [
              0.7777777777777778,
              "#fb9f3a"
             ],
             [
              0.8888888888888888,
              "#fdca26"
             ],
             [
              1,
              "#f0f921"
             ]
            ],
            "type": "contour"
           }
          ],
          "contourcarpet": [
           {
            "colorbar": {
             "outlinewidth": 0,
             "ticks": ""
            },
            "type": "contourcarpet"
           }
          ],
          "heatmap": [
           {
            "colorbar": {
             "outlinewidth": 0,
             "ticks": ""
            },
            "colorscale": [
             [
              0,
              "#0d0887"
             ],
             [
              0.1111111111111111,
              "#46039f"
             ],
             [
              0.2222222222222222,
              "#7201a8"
             ],
             [
              0.3333333333333333,
              "#9c179e"
             ],
             [
              0.4444444444444444,
              "#bd3786"
             ],
             [
              0.5555555555555556,
              "#d8576b"
             ],
             [
              0.6666666666666666,
              "#ed7953"
             ],
             [
              0.7777777777777778,
              "#fb9f3a"
             ],
             [
              0.8888888888888888,
              "#fdca26"
             ],
             [
              1,
              "#f0f921"
             ]
            ],
            "type": "heatmap"
           }
          ],
          "heatmapgl": [
           {
            "colorbar": {
             "outlinewidth": 0,
             "ticks": ""
            },
            "colorscale": [
             [
              0,
              "#0d0887"
             ],
             [
              0.1111111111111111,
              "#46039f"
             ],
             [
              0.2222222222222222,
              "#7201a8"
             ],
             [
              0.3333333333333333,
              "#9c179e"
             ],
             [
              0.4444444444444444,
              "#bd3786"
             ],
             [
              0.5555555555555556,
              "#d8576b"
             ],
             [
              0.6666666666666666,
              "#ed7953"
             ],
             [
              0.7777777777777778,
              "#fb9f3a"
             ],
             [
              0.8888888888888888,
              "#fdca26"
             ],
             [
              1,
              "#f0f921"
             ]
            ],
            "type": "heatmapgl"
           }
          ],
          "histogram": [
           {
            "marker": {
             "pattern": {
              "fillmode": "overlay",
              "size": 10,
              "solidity": 0.2
             }
            },
            "type": "histogram"
           }
          ],
          "histogram2d": [
           {
            "colorbar": {
             "outlinewidth": 0,
             "ticks": ""
            },
            "colorscale": [
             [
              0,
              "#0d0887"
             ],
             [
              0.1111111111111111,
              "#46039f"
             ],
             [
              0.2222222222222222,
              "#7201a8"
             ],
             [
              0.3333333333333333,
              "#9c179e"
             ],
             [
              0.4444444444444444,
              "#bd3786"
             ],
             [
              0.5555555555555556,
              "#d8576b"
             ],
             [
              0.6666666666666666,
              "#ed7953"
             ],
             [
              0.7777777777777778,
              "#fb9f3a"
             ],
             [
              0.8888888888888888,
              "#fdca26"
             ],
             [
              1,
              "#f0f921"
             ]
            ],
            "type": "histogram2d"
           }
          ],
          "histogram2dcontour": [
           {
            "colorbar": {
             "outlinewidth": 0,
             "ticks": ""
            },
            "colorscale": [
             [
              0,
              "#0d0887"
             ],
             [
              0.1111111111111111,
              "#46039f"
             ],
             [
              0.2222222222222222,
              "#7201a8"
             ],
             [
              0.3333333333333333,
              "#9c179e"
             ],
             [
              0.4444444444444444,
              "#bd3786"
             ],
             [
              0.5555555555555556,
              "#d8576b"
             ],
             [
              0.6666666666666666,
              "#ed7953"
             ],
             [
              0.7777777777777778,
              "#fb9f3a"
             ],
             [
              0.8888888888888888,
              "#fdca26"
             ],
             [
              1,
              "#f0f921"
             ]
            ],
            "type": "histogram2dcontour"
           }
          ],
          "mesh3d": [
           {
            "colorbar": {
             "outlinewidth": 0,
             "ticks": ""
            },
            "type": "mesh3d"
           }
          ],
          "parcoords": [
           {
            "line": {
             "colorbar": {
              "outlinewidth": 0,
              "ticks": ""
             }
            },
            "type": "parcoords"
           }
          ],
          "pie": [
           {
            "automargin": true,
            "type": "pie"
           }
          ],
          "scatter": [
           {
            "fillpattern": {
             "fillmode": "overlay",
             "size": 10,
             "solidity": 0.2
            },
            "type": "scatter"
           }
          ],
          "scatter3d": [
           {
            "line": {
             "colorbar": {
              "outlinewidth": 0,
              "ticks": ""
             }
            },
            "marker": {
             "colorbar": {
              "outlinewidth": 0,
              "ticks": ""
             }
            },
            "type": "scatter3d"
           }
          ],
          "scattercarpet": [
           {
            "marker": {
             "colorbar": {
              "outlinewidth": 0,
              "ticks": ""
             }
            },
            "type": "scattercarpet"
           }
          ],
          "scattergeo": [
           {
            "marker": {
             "colorbar": {
              "outlinewidth": 0,
              "ticks": ""
             }
            },
            "type": "scattergeo"
           }
          ],
          "scattergl": [
           {
            "marker": {
             "colorbar": {
              "outlinewidth": 0,
              "ticks": ""
             }
            },
            "type": "scattergl"
           }
          ],
          "scattermapbox": [
           {
            "marker": {
             "colorbar": {
              "outlinewidth": 0,
              "ticks": ""
             }
            },
            "type": "scattermapbox"
           }
          ],
          "scatterpolar": [
           {
            "marker": {
             "colorbar": {
              "outlinewidth": 0,
              "ticks": ""
             }
            },
            "type": "scatterpolar"
           }
          ],
          "scatterpolargl": [
           {
            "marker": {
             "colorbar": {
              "outlinewidth": 0,
              "ticks": ""
             }
            },
            "type": "scatterpolargl"
           }
          ],
          "scatterternary": [
           {
            "marker": {
             "colorbar": {
              "outlinewidth": 0,
              "ticks": ""
             }
            },
            "type": "scatterternary"
           }
          ],
          "surface": [
           {
            "colorbar": {
             "outlinewidth": 0,
             "ticks": ""
            },
            "colorscale": [
             [
              0,
              "#0d0887"
             ],
             [
              0.1111111111111111,
              "#46039f"
             ],
             [
              0.2222222222222222,
              "#7201a8"
             ],
             [
              0.3333333333333333,
              "#9c179e"
             ],
             [
              0.4444444444444444,
              "#bd3786"
             ],
             [
              0.5555555555555556,
              "#d8576b"
             ],
             [
              0.6666666666666666,
              "#ed7953"
             ],
             [
              0.7777777777777778,
              "#fb9f3a"
             ],
             [
              0.8888888888888888,
              "#fdca26"
             ],
             [
              1,
              "#f0f921"
             ]
            ],
            "type": "surface"
           }
          ],
          "table": [
           {
            "cells": {
             "fill": {
              "color": "#EBF0F8"
             },
             "line": {
              "color": "white"
             }
            },
            "header": {
             "fill": {
              "color": "#C8D4E3"
             },
             "line": {
              "color": "white"
             }
            },
            "type": "table"
           }
          ]
         },
         "layout": {
          "annotationdefaults": {
           "arrowcolor": "#2a3f5f",
           "arrowhead": 0,
           "arrowwidth": 1
          },
          "autotypenumbers": "strict",
          "coloraxis": {
           "colorbar": {
            "outlinewidth": 0,
            "ticks": ""
           }
          },
          "colorscale": {
           "diverging": [
            [
             0,
             "#8e0152"
            ],
            [
             0.1,
             "#c51b7d"
            ],
            [
             0.2,
             "#de77ae"
            ],
            [
             0.3,
             "#f1b6da"
            ],
            [
             0.4,
             "#fde0ef"
            ],
            [
             0.5,
             "#f7f7f7"
            ],
            [
             0.6,
             "#e6f5d0"
            ],
            [
             0.7,
             "#b8e186"
            ],
            [
             0.8,
             "#7fbc41"
            ],
            [
             0.9,
             "#4d9221"
            ],
            [
             1,
             "#276419"
            ]
           ],
           "sequential": [
            [
             0,
             "#0d0887"
            ],
            [
             0.1111111111111111,
             "#46039f"
            ],
            [
             0.2222222222222222,
             "#7201a8"
            ],
            [
             0.3333333333333333,
             "#9c179e"
            ],
            [
             0.4444444444444444,
             "#bd3786"
            ],
            [
             0.5555555555555556,
             "#d8576b"
            ],
            [
             0.6666666666666666,
             "#ed7953"
            ],
            [
             0.7777777777777778,
             "#fb9f3a"
            ],
            [
             0.8888888888888888,
             "#fdca26"
            ],
            [
             1,
             "#f0f921"
            ]
           ],
           "sequentialminus": [
            [
             0,
             "#0d0887"
            ],
            [
             0.1111111111111111,
             "#46039f"
            ],
            [
             0.2222222222222222,
             "#7201a8"
            ],
            [
             0.3333333333333333,
             "#9c179e"
            ],
            [
             0.4444444444444444,
             "#bd3786"
            ],
            [
             0.5555555555555556,
             "#d8576b"
            ],
            [
             0.6666666666666666,
             "#ed7953"
            ],
            [
             0.7777777777777778,
             "#fb9f3a"
            ],
            [
             0.8888888888888888,
             "#fdca26"
            ],
            [
             1,
             "#f0f921"
            ]
           ]
          },
          "colorway": [
           "#636efa",
           "#EF553B",
           "#00cc96",
           "#ab63fa",
           "#FFA15A",
           "#19d3f3",
           "#FF6692",
           "#B6E880",
           "#FF97FF",
           "#FECB52"
          ],
          "font": {
           "color": "#2a3f5f"
          },
          "geo": {
           "bgcolor": "white",
           "lakecolor": "white",
           "landcolor": "#E5ECF6",
           "showlakes": true,
           "showland": true,
           "subunitcolor": "white"
          },
          "hoverlabel": {
           "align": "left"
          },
          "hovermode": "closest",
          "mapbox": {
           "style": "light"
          },
          "paper_bgcolor": "white",
          "plot_bgcolor": "#E5ECF6",
          "polar": {
           "angularaxis": {
            "gridcolor": "white",
            "linecolor": "white",
            "ticks": ""
           },
           "bgcolor": "#E5ECF6",
           "radialaxis": {
            "gridcolor": "white",
            "linecolor": "white",
            "ticks": ""
           }
          },
          "scene": {
           "xaxis": {
            "backgroundcolor": "#E5ECF6",
            "gridcolor": "white",
            "gridwidth": 2,
            "linecolor": "white",
            "showbackground": true,
            "ticks": "",
            "zerolinecolor": "white"
           },
           "yaxis": {
            "backgroundcolor": "#E5ECF6",
            "gridcolor": "white",
            "gridwidth": 2,
            "linecolor": "white",
            "showbackground": true,
            "ticks": "",
            "zerolinecolor": "white"
           },
           "zaxis": {
            "backgroundcolor": "#E5ECF6",
            "gridcolor": "white",
            "gridwidth": 2,
            "linecolor": "white",
            "showbackground": true,
            "ticks": "",
            "zerolinecolor": "white"
           }
          },
          "shapedefaults": {
           "line": {
            "color": "#2a3f5f"
           }
          },
          "ternary": {
           "aaxis": {
            "gridcolor": "white",
            "linecolor": "white",
            "ticks": ""
           },
           "baxis": {
            "gridcolor": "white",
            "linecolor": "white",
            "ticks": ""
           },
           "bgcolor": "#E5ECF6",
           "caxis": {
            "gridcolor": "white",
            "linecolor": "white",
            "ticks": ""
           }
          },
          "title": {
           "x": 0.05
          },
          "xaxis": {
           "automargin": true,
           "gridcolor": "white",
           "linecolor": "white",
           "ticks": "",
           "title": {
            "standoff": 15
           },
           "zerolinecolor": "white",
           "zerolinewidth": 2
          },
          "yaxis": {
           "automargin": true,
           "gridcolor": "white",
           "linecolor": "white",
           "ticks": "",
           "title": {
            "standoff": 15
           },
           "zerolinecolor": "white",
           "zerolinewidth": 2
          }
         }
        },
        "title": {
         "text": "Development of Average Happiness Score by Continent"
        },
        "xaxis": {
         "anchor": "y",
         "domain": [
          0,
          1
         ],
         "gridcolor": "lightgray",
         "gridwidth": 0.5,
         "showgrid": true,
         "title": {
          "text": "Year"
         }
        },
        "yaxis": {
         "anchor": "x",
         "domain": [
          0,
          1
         ],
         "gridcolor": "lightgray",
         "gridwidth": 0.5,
         "showgrid": true,
         "title": {
          "text": "Average Happiness"
         }
        }
       }
      }
     },
     "metadata": {},
     "output_type": "display_data"
    },
    {
     "data": {
      "application/vnd.plotly.v1+json": {
       "config": {
        "plotlyServerURL": "https://plot.ly"
       },
       "data": [
        {
         "alignmentgroup": "True",
         "bingroup": "x",
         "histfunc": "sum",
         "hovertemplate": "continent=Africa<br>Year=%{x}<br>sum of GNI_per_capita_PPP=%{y}<extra></extra>",
         "legendgroup": "Africa",
         "marker": {
          "color": "#AEFD8E",
          "line": {
           "width": 0.5
          },
          "pattern": {
           "shape": ""
          }
         },
         "name": "Africa",
         "offsetgroup": "Africa",
         "orientation": "v",
         "showlegend": true,
         "type": "histogram",
         "x": [
          2015,
          2016,
          2017,
          2018
         ],
         "xaxis": "x",
         "y": [
          5251.5625,
          5312.1875,
          5530.9375,
          5412.1934375
         ],
         "yaxis": "y"
        },
        {
         "alignmentgroup": "True",
         "bingroup": "x",
         "histfunc": "sum",
         "hovertemplate": "continent=Asia<br>Year=%{x}<br>sum of GNI_per_capita_PPP=%{y}<extra></extra>",
         "legendgroup": "Asia",
         "marker": {
          "color": "#FAA598",
          "line": {
           "width": 0.5
          },
          "pattern": {
           "shape": ""
          }
         },
         "name": "Asia",
         "offsetgroup": "Asia",
         "orientation": "v",
         "showlegend": true,
         "type": "histogram",
         "x": [
          2015,
          2016,
          2017,
          2018
         ],
         "xaxis": "x",
         "y": [
          20082.972972972973,
          20315.135135135137,
          21290.81081081081,
          20615.69605263158
         ],
         "yaxis": "y"
        },
        {
         "alignmentgroup": "True",
         "bingroup": "x",
         "histfunc": "sum",
         "hovertemplate": "continent=Australia<br>Year=%{x}<br>sum of GNI_per_capita_PPP=%{y}<extra></extra>",
         "legendgroup": "Australia",
         "marker": {
          "color": "#B2E4FA",
          "line": {
           "width": 0.5
          },
          "pattern": {
           "shape": ""
          }
         },
         "name": "Australia",
         "offsetgroup": "Australia",
         "orientation": "v",
         "showlegend": true,
         "type": "histogram",
         "x": [
          2015,
          2016,
          2017,
          2018
         ],
         "xaxis": "x",
         "y": [
          40770,
          42430,
          43455,
          39602.259999999995
         ],
         "yaxis": "y"
        },
        {
         "alignmentgroup": "True",
         "bingroup": "x",
         "histfunc": "sum",
         "hovertemplate": "continent=Europe<br>Year=%{x}<br>sum of GNI_per_capita_PPP=%{y}<extra></extra>",
         "legendgroup": "Europe",
         "marker": {
          "color": "#E3C97F",
          "line": {
           "width": 0.5
          },
          "pattern": {
           "shape": ""
          }
         },
         "name": "Europe",
         "offsetgroup": "Europe",
         "orientation": "v",
         "showlegend": true,
         "type": "histogram",
         "x": [
          2015,
          2016,
          2017,
          2018
         ],
         "xaxis": "x",
         "y": [
          33763.78378378379,
          35528.64864864865,
          37462.97297297297,
          33672.8645945946
         ],
         "yaxis": "y"
        },
        {
         "alignmentgroup": "True",
         "bingroup": "x",
         "histfunc": "sum",
         "hovertemplate": "continent=North America<br>Year=%{x}<br>sum of GNI_per_capita_PPP=%{y}<extra></extra>",
         "legendgroup": "North America",
         "marker": {
          "color": "#B47FE3",
          "line": {
           "width": 0.5
          },
          "pattern": {
           "shape": ""
          }
         },
         "name": "North America",
         "offsetgroup": "North America",
         "orientation": "v",
         "showlegend": true,
         "type": "histogram",
         "x": [
          2015,
          2016,
          2017,
          2018
         ],
         "xaxis": "x",
         "y": [
          40053.333333333336,
          41230,
          42796.666666666664,
          39123.53333333333
         ],
         "yaxis": "y"
        },
        {
         "alignmentgroup": "True",
         "bingroup": "x",
         "histfunc": "sum",
         "hovertemplate": "continent=South America<br>Year=%{x}<br>sum of GNI_per_capita_PPP=%{y}<extra></extra>",
         "legendgroup": "South America",
         "marker": {
          "color": "#E8EAC8",
          "line": {
           "width": 0.5
          },
          "pattern": {
           "shape": ""
          }
         },
         "name": "South America",
         "offsetgroup": "South America",
         "orientation": "v",
         "showlegend": true,
         "type": "histogram",
         "x": [
          2015,
          2016,
          2017,
          2018
         ],
         "xaxis": "x",
         "y": [
          11531.578947368422,
          11928.421052631578,
          12637.368421052632,
          11080.535
         ],
         "yaxis": "y"
        }
       ],
       "layout": {
        "bargap": 0.2,
        "barmode": "group",
        "font": {
         "family": "Arial",
         "size": 14
        },
        "legend": {
         "font": {
          "family": "Arial",
          "size": 12
         },
         "title": {
          "text": "continent"
         },
         "tracegroupgap": 0
        },
        "margin": {
         "t": 60
        },
        "plot_bgcolor": "rgb(240, 240, 240)",
        "template": {
         "data": {
          "bar": [
           {
            "error_x": {
             "color": "#2a3f5f"
            },
            "error_y": {
             "color": "#2a3f5f"
            },
            "marker": {
             "line": {
              "color": "#E5ECF6",
              "width": 0.5
             },
             "pattern": {
              "fillmode": "overlay",
              "size": 10,
              "solidity": 0.2
             }
            },
            "type": "bar"
           }
          ],
          "barpolar": [
           {
            "marker": {
             "line": {
              "color": "#E5ECF6",
              "width": 0.5
             },
             "pattern": {
              "fillmode": "overlay",
              "size": 10,
              "solidity": 0.2
             }
            },
            "type": "barpolar"
           }
          ],
          "carpet": [
           {
            "aaxis": {
             "endlinecolor": "#2a3f5f",
             "gridcolor": "white",
             "linecolor": "white",
             "minorgridcolor": "white",
             "startlinecolor": "#2a3f5f"
            },
            "baxis": {
             "endlinecolor": "#2a3f5f",
             "gridcolor": "white",
             "linecolor": "white",
             "minorgridcolor": "white",
             "startlinecolor": "#2a3f5f"
            },
            "type": "carpet"
           }
          ],
          "choropleth": [
           {
            "colorbar": {
             "outlinewidth": 0,
             "ticks": ""
            },
            "type": "choropleth"
           }
          ],
          "contour": [
           {
            "colorbar": {
             "outlinewidth": 0,
             "ticks": ""
            },
            "colorscale": [
             [
              0,
              "#0d0887"
             ],
             [
              0.1111111111111111,
              "#46039f"
             ],
             [
              0.2222222222222222,
              "#7201a8"
             ],
             [
              0.3333333333333333,
              "#9c179e"
             ],
             [
              0.4444444444444444,
              "#bd3786"
             ],
             [
              0.5555555555555556,
              "#d8576b"
             ],
             [
              0.6666666666666666,
              "#ed7953"
             ],
             [
              0.7777777777777778,
              "#fb9f3a"
             ],
             [
              0.8888888888888888,
              "#fdca26"
             ],
             [
              1,
              "#f0f921"
             ]
            ],
            "type": "contour"
           }
          ],
          "contourcarpet": [
           {
            "colorbar": {
             "outlinewidth": 0,
             "ticks": ""
            },
            "type": "contourcarpet"
           }
          ],
          "heatmap": [
           {
            "colorbar": {
             "outlinewidth": 0,
             "ticks": ""
            },
            "colorscale": [
             [
              0,
              "#0d0887"
             ],
             [
              0.1111111111111111,
              "#46039f"
             ],
             [
              0.2222222222222222,
              "#7201a8"
             ],
             [
              0.3333333333333333,
              "#9c179e"
             ],
             [
              0.4444444444444444,
              "#bd3786"
             ],
             [
              0.5555555555555556,
              "#d8576b"
             ],
             [
              0.6666666666666666,
              "#ed7953"
             ],
             [
              0.7777777777777778,
              "#fb9f3a"
             ],
             [
              0.8888888888888888,
              "#fdca26"
             ],
             [
              1,
              "#f0f921"
             ]
            ],
            "type": "heatmap"
           }
          ],
          "heatmapgl": [
           {
            "colorbar": {
             "outlinewidth": 0,
             "ticks": ""
            },
            "colorscale": [
             [
              0,
              "#0d0887"
             ],
             [
              0.1111111111111111,
              "#46039f"
             ],
             [
              0.2222222222222222,
              "#7201a8"
             ],
             [
              0.3333333333333333,
              "#9c179e"
             ],
             [
              0.4444444444444444,
              "#bd3786"
             ],
             [
              0.5555555555555556,
              "#d8576b"
             ],
             [
              0.6666666666666666,
              "#ed7953"
             ],
             [
              0.7777777777777778,
              "#fb9f3a"
             ],
             [
              0.8888888888888888,
              "#fdca26"
             ],
             [
              1,
              "#f0f921"
             ]
            ],
            "type": "heatmapgl"
           }
          ],
          "histogram": [
           {
            "marker": {
             "pattern": {
              "fillmode": "overlay",
              "size": 10,
              "solidity": 0.2
             }
            },
            "type": "histogram"
           }
          ],
          "histogram2d": [
           {
            "colorbar": {
             "outlinewidth": 0,
             "ticks": ""
            },
            "colorscale": [
             [
              0,
              "#0d0887"
             ],
             [
              0.1111111111111111,
              "#46039f"
             ],
             [
              0.2222222222222222,
              "#7201a8"
             ],
             [
              0.3333333333333333,
              "#9c179e"
             ],
             [
              0.4444444444444444,
              "#bd3786"
             ],
             [
              0.5555555555555556,
              "#d8576b"
             ],
             [
              0.6666666666666666,
              "#ed7953"
             ],
             [
              0.7777777777777778,
              "#fb9f3a"
             ],
             [
              0.8888888888888888,
              "#fdca26"
             ],
             [
              1,
              "#f0f921"
             ]
            ],
            "type": "histogram2d"
           }
          ],
          "histogram2dcontour": [
           {
            "colorbar": {
             "outlinewidth": 0,
             "ticks": ""
            },
            "colorscale": [
             [
              0,
              "#0d0887"
             ],
             [
              0.1111111111111111,
              "#46039f"
             ],
             [
              0.2222222222222222,
              "#7201a8"
             ],
             [
              0.3333333333333333,
              "#9c179e"
             ],
             [
              0.4444444444444444,
              "#bd3786"
             ],
             [
              0.5555555555555556,
              "#d8576b"
             ],
             [
              0.6666666666666666,
              "#ed7953"
             ],
             [
              0.7777777777777778,
              "#fb9f3a"
             ],
             [
              0.8888888888888888,
              "#fdca26"
             ],
             [
              1,
              "#f0f921"
             ]
            ],
            "type": "histogram2dcontour"
           }
          ],
          "mesh3d": [
           {
            "colorbar": {
             "outlinewidth": 0,
             "ticks": ""
            },
            "type": "mesh3d"
           }
          ],
          "parcoords": [
           {
            "line": {
             "colorbar": {
              "outlinewidth": 0,
              "ticks": ""
             }
            },
            "type": "parcoords"
           }
          ],
          "pie": [
           {
            "automargin": true,
            "type": "pie"
           }
          ],
          "scatter": [
           {
            "fillpattern": {
             "fillmode": "overlay",
             "size": 10,
             "solidity": 0.2
            },
            "type": "scatter"
           }
          ],
          "scatter3d": [
           {
            "line": {
             "colorbar": {
              "outlinewidth": 0,
              "ticks": ""
             }
            },
            "marker": {
             "colorbar": {
              "outlinewidth": 0,
              "ticks": ""
             }
            },
            "type": "scatter3d"
           }
          ],
          "scattercarpet": [
           {
            "marker": {
             "colorbar": {
              "outlinewidth": 0,
              "ticks": ""
             }
            },
            "type": "scattercarpet"
           }
          ],
          "scattergeo": [
           {
            "marker": {
             "colorbar": {
              "outlinewidth": 0,
              "ticks": ""
             }
            },
            "type": "scattergeo"
           }
          ],
          "scattergl": [
           {
            "marker": {
             "colorbar": {
              "outlinewidth": 0,
              "ticks": ""
             }
            },
            "type": "scattergl"
           }
          ],
          "scattermapbox": [
           {
            "marker": {
             "colorbar": {
              "outlinewidth": 0,
              "ticks": ""
             }
            },
            "type": "scattermapbox"
           }
          ],
          "scatterpolar": [
           {
            "marker": {
             "colorbar": {
              "outlinewidth": 0,
              "ticks": ""
             }
            },
            "type": "scatterpolar"
           }
          ],
          "scatterpolargl": [
           {
            "marker": {
             "colorbar": {
              "outlinewidth": 0,
              "ticks": ""
             }
            },
            "type": "scatterpolargl"
           }
          ],
          "scatterternary": [
           {
            "marker": {
             "colorbar": {
              "outlinewidth": 0,
              "ticks": ""
             }
            },
            "type": "scatterternary"
           }
          ],
          "surface": [
           {
            "colorbar": {
             "outlinewidth": 0,
             "ticks": ""
            },
            "colorscale": [
             [
              0,
              "#0d0887"
             ],
             [
              0.1111111111111111,
              "#46039f"
             ],
             [
              0.2222222222222222,
              "#7201a8"
             ],
             [
              0.3333333333333333,
              "#9c179e"
             ],
             [
              0.4444444444444444,
              "#bd3786"
             ],
             [
              0.5555555555555556,
              "#d8576b"
             ],
             [
              0.6666666666666666,
              "#ed7953"
             ],
             [
              0.7777777777777778,
              "#fb9f3a"
             ],
             [
              0.8888888888888888,
              "#fdca26"
             ],
             [
              1,
              "#f0f921"
             ]
            ],
            "type": "surface"
           }
          ],
          "table": [
           {
            "cells": {
             "fill": {
              "color": "#EBF0F8"
             },
             "line": {
              "color": "white"
             }
            },
            "header": {
             "fill": {
              "color": "#C8D4E3"
             },
             "line": {
              "color": "white"
             }
            },
            "type": "table"
           }
          ]
         },
         "layout": {
          "annotationdefaults": {
           "arrowcolor": "#2a3f5f",
           "arrowhead": 0,
           "arrowwidth": 1
          },
          "autotypenumbers": "strict",
          "coloraxis": {
           "colorbar": {
            "outlinewidth": 0,
            "ticks": ""
           }
          },
          "colorscale": {
           "diverging": [
            [
             0,
             "#8e0152"
            ],
            [
             0.1,
             "#c51b7d"
            ],
            [
             0.2,
             "#de77ae"
            ],
            [
             0.3,
             "#f1b6da"
            ],
            [
             0.4,
             "#fde0ef"
            ],
            [
             0.5,
             "#f7f7f7"
            ],
            [
             0.6,
             "#e6f5d0"
            ],
            [
             0.7,
             "#b8e186"
            ],
            [
             0.8,
             "#7fbc41"
            ],
            [
             0.9,
             "#4d9221"
            ],
            [
             1,
             "#276419"
            ]
           ],
           "sequential": [
            [
             0,
             "#0d0887"
            ],
            [
             0.1111111111111111,
             "#46039f"
            ],
            [
             0.2222222222222222,
             "#7201a8"
            ],
            [
             0.3333333333333333,
             "#9c179e"
            ],
            [
             0.4444444444444444,
             "#bd3786"
            ],
            [
             0.5555555555555556,
             "#d8576b"
            ],
            [
             0.6666666666666666,
             "#ed7953"
            ],
            [
             0.7777777777777778,
             "#fb9f3a"
            ],
            [
             0.8888888888888888,
             "#fdca26"
            ],
            [
             1,
             "#f0f921"
            ]
           ],
           "sequentialminus": [
            [
             0,
             "#0d0887"
            ],
            [
             0.1111111111111111,
             "#46039f"
            ],
            [
             0.2222222222222222,
             "#7201a8"
            ],
            [
             0.3333333333333333,
             "#9c179e"
            ],
            [
             0.4444444444444444,
             "#bd3786"
            ],
            [
             0.5555555555555556,
             "#d8576b"
            ],
            [
             0.6666666666666666,
             "#ed7953"
            ],
            [
             0.7777777777777778,
             "#fb9f3a"
            ],
            [
             0.8888888888888888,
             "#fdca26"
            ],
            [
             1,
             "#f0f921"
            ]
           ]
          },
          "colorway": [
           "#636efa",
           "#EF553B",
           "#00cc96",
           "#ab63fa",
           "#FFA15A",
           "#19d3f3",
           "#FF6692",
           "#B6E880",
           "#FF97FF",
           "#FECB52"
          ],
          "font": {
           "color": "#2a3f5f"
          },
          "geo": {
           "bgcolor": "white",
           "lakecolor": "white",
           "landcolor": "#E5ECF6",
           "showlakes": true,
           "showland": true,
           "subunitcolor": "white"
          },
          "hoverlabel": {
           "align": "left"
          },
          "hovermode": "closest",
          "mapbox": {
           "style": "light"
          },
          "paper_bgcolor": "white",
          "plot_bgcolor": "#E5ECF6",
          "polar": {
           "angularaxis": {
            "gridcolor": "white",
            "linecolor": "white",
            "ticks": ""
           },
           "bgcolor": "#E5ECF6",
           "radialaxis": {
            "gridcolor": "white",
            "linecolor": "white",
            "ticks": ""
           }
          },
          "scene": {
           "xaxis": {
            "backgroundcolor": "#E5ECF6",
            "gridcolor": "white",
            "gridwidth": 2,
            "linecolor": "white",
            "showbackground": true,
            "ticks": "",
            "zerolinecolor": "white"
           },
           "yaxis": {
            "backgroundcolor": "#E5ECF6",
            "gridcolor": "white",
            "gridwidth": 2,
            "linecolor": "white",
            "showbackground": true,
            "ticks": "",
            "zerolinecolor": "white"
           },
           "zaxis": {
            "backgroundcolor": "#E5ECF6",
            "gridcolor": "white",
            "gridwidth": 2,
            "linecolor": "white",
            "showbackground": true,
            "ticks": "",
            "zerolinecolor": "white"
           }
          },
          "shapedefaults": {
           "line": {
            "color": "#2a3f5f"
           }
          },
          "ternary": {
           "aaxis": {
            "gridcolor": "white",
            "linecolor": "white",
            "ticks": ""
           },
           "baxis": {
            "gridcolor": "white",
            "linecolor": "white",
            "ticks": ""
           },
           "bgcolor": "#E5ECF6",
           "caxis": {
            "gridcolor": "white",
            "linecolor": "white",
            "ticks": ""
           }
          },
          "title": {
           "x": 0.05
          },
          "xaxis": {
           "automargin": true,
           "gridcolor": "white",
           "linecolor": "white",
           "ticks": "",
           "title": {
            "standoff": 15
           },
           "zerolinecolor": "white",
           "zerolinewidth": 2
          },
          "yaxis": {
           "automargin": true,
           "gridcolor": "white",
           "linecolor": "white",
           "ticks": "",
           "title": {
            "standoff": 15
           },
           "zerolinecolor": "white",
           "zerolinewidth": 2
          }
         }
        },
        "title": {
         "text": "Development of GNI per capita (PPP) by Continent"
        },
        "xaxis": {
         "anchor": "y",
         "domain": [
          0,
          1
         ],
         "gridcolor": "lightgray",
         "gridwidth": 0.5,
         "showgrid": true,
         "title": {
          "text": "Year"
         }
        },
        "yaxis": {
         "anchor": "x",
         "domain": [
          0,
          1
         ],
         "gridcolor": "lightgray",
         "gridwidth": 0.5,
         "showgrid": true,
         "title": {
          "text": "Average contribution"
         }
        }
       }
      }
     },
     "metadata": {},
     "output_type": "display_data"
    }
   ],
   "source": [
    "\n",
    "continent_colors = {\n",
    "    'Africa': '#AEFD8E',\n",
    "    'Asia': '#FAA598',\n",
    "    'Europe': '#E3C97F',\n",
    "    'North America': '#B47FE3',\n",
    "    'Australia': '#B2E4FA',\n",
    "    'South America': '#E8EAC8'\n",
    "}\n",
    "\n",
    "avg_happiness = data.groupby(['continent', 'Year'])['happiness_score'].mean().reset_index()\n",
    "\n",
    "# Create a grouped histogram using Plotly\n",
    "fig = px.histogram(avg_happiness, x='Year', y='happiness_score', color='continent', barmode='group',\n",
    "                   color_discrete_map=continent_colors)\n",
    "\n",
    "\n",
    "fig.update_layout(\n",
    "    title='Development of Average Happiness Score by Continent',\n",
    "    xaxis_title='Year',\n",
    "    yaxis_title='Average Happiness',\n",
    "    font=dict(family='Arial', size=14),\n",
    "    legend=dict(font=dict(family='Arial', size=12)),\n",
    "    plot_bgcolor='rgb(240, 240, 240)',\n",
    "    bargap=0.2\n",
    ")\n",
    "\n",
    "\n",
    "fig.update_xaxes(showgrid=True, gridwidth=0.5, gridcolor='lightgray')\n",
    "fig.update_yaxes(showgrid=True, gridwidth=0.5, gridcolor='lightgray')\n",
    "\n",
    "\n",
    "fig.update_traces(marker=dict(line=dict(width=0.5)))\n",
    "\n",
    "\n",
    "fig.show()\n",
    "\n",
    "avg_gni = data.groupby(['continent', 'Year'])['GNI_per_capita_PPP'].mean().reset_index()\n",
    "\n",
    "# Create a grouped histogram using Plotly\n",
    "fig = px.histogram(avg_gni, x='Year', y='GNI_per_capita_PPP', color='continent', barmode='group',\n",
    "                   color_discrete_map=continent_colors)\n",
    "\n",
    "\n",
    "fig.update_layout(\n",
    "    title='Development of GNI per capita (PPP) by Continent',\n",
    "    xaxis_title='Year',\n",
    "    yaxis_title='Average contribution',\n",
    "    font=dict(family='Arial', size=14),\n",
    "    legend=dict(font=dict(family='Arial', size=12)),\n",
    "    plot_bgcolor='rgb(240, 240, 240)',\n",
    "    bargap=0.2\n",
    ")\n",
    "\n",
    "\n",
    "fig.update_xaxes(showgrid=True, gridwidth=0.5, gridcolor='lightgray')\n",
    "fig.update_yaxes(showgrid=True, gridwidth=0.5, gridcolor='lightgray')\n",
    "\n",
    "\n",
    "fig.update_traces(marker=dict(line=dict(width=0.5)))\n",
    "\n",
    "fig.show()"
   ]
  },
  {
   "cell_type": "markdown",
   "metadata": {},
   "source": [
    "### GDP contribution to happiness\n",
    "\n",
    "The above two histograms can support both sides of the argument. While it supports the claim that 'wealthier' countries are also happier countries for the top three richest and happiest continents (Oceania, Europe and North America), the histograms also show that the contribution of GDP per capita is not a definitive factor in happiness. This supported by the fact that South America is happier than Asia in every year while also coming close to Europe in happiness. On the contrary South America is, on average, poorer than Asia in every year and substantially poorer than Europe. Another observation that supportss the claim that happiness is not necessarily related with wealth is the fact that the average contribution of GDP to happiness of all continents shrank from 2015 to 2018, while the average happiness of every continent remained pretty much constant throughout the same years.\n"
   ]
  },
  {
   "cell_type": "code",
   "execution_count": null,
   "metadata": {},
   "outputs": [
    {
     "data": {
      "application/vnd.plotly.v1+json": {
       "config": {
        "plotlyServerURL": "https://plot.ly"
       },
       "data": [
        {
         "customdata": [
          [
           "Lebanon"
          ],
          [
           "Malaysia"
          ],
          [
           "Kuwait"
          ],
          [
           "Kazakhstan"
          ],
          [
           "Jordan"
          ],
          [
           "Japan"
          ],
          [
           "Israel"
          ],
          [
           "Iraq"
          ],
          [
           "Kyrgyzstan"
          ],
          [
           "Mongolia"
          ],
          [
           "Saudi Arabia"
          ],
          [
           "Philippines"
          ],
          [
           "Pakistan"
          ],
          [
           "Nepal"
          ],
          [
           "Myanmar"
          ],
          [
           "Iran"
          ],
          [
           "Indonesia"
          ],
          [
           "Cambodia"
          ],
          [
           "Bangladesh"
          ],
          [
           "Bahrain"
          ],
          [
           "Azerbaijan"
          ],
          [
           "Armenia"
          ],
          [
           "China"
          ],
          [
           "China"
          ],
          [
           "Georgia"
          ],
          [
           "Cyprus"
          ],
          [
           "India"
          ],
          [
           "Singapore"
          ],
          [
           "Afghanistan"
          ],
          [
           "Turkey"
          ],
          [
           "United Arab Emirates"
          ],
          [
           "Thailand"
          ],
          [
           "Vietnam"
          ],
          [
           "Sri Lanka"
          ],
          [
           "Turkmenistan"
          ],
          [
           "Uzbekistan"
          ],
          [
           "Tajikistan"
          ],
          [
           "Yemen"
          ]
         ],
         "hovertemplate": "Country: %{customdata[0]}<br>GNI per Capita (PPP): %{x}<br>HDI Calculated: %{y}",
         "legendgroup": "Asia",
         "marker": {
          "color": "#FAA598",
          "symbol": "circle"
         },
         "mode": "markers",
         "name": "Asia",
         "orientation": "v",
         "showlegend": true,
         "type": "scatter",
         "x": [
          14920,
          24120,
          52880,
          23860,
          9140,
          41950,
          35130,
          10220,
          4460,
          9880,
          49450,
          8310,
          4640,
          2680,
          4180,
          13300,
          9910,
          3180,
          3790,
          42760,
          15020,
          12490,
          57450,
          12880,
          11420,
          31510,
          5400,
          81040,
          2110,
          25340,
          64640,
          15010,
          5790,
          11270,
          12890,
          6460,
          3590,
          null
         ],
         "xaxis": "x4",
         "y": [
          0.76,
          0.8,
          0.81,
          0.81,
          0.74,
          0.91,
          0.91,
          0.65,
          0.69,
          0.74,
          0.87,
          0.71,
          0.56,
          0.59,
          0.57,
          0.79,
          0.7,
          0.59,
          0.61,
          0.84,
          0.76,
          0.77,
          0.82,
          0.75,
          0.79,
          0.87,
          0.64,
          0.94,
          0.52,
          0.81,
          0.87,
          0.76,
          0.69,
          0.78,
          0.7,
          0.7,
          0.65,
          null
         ],
         "yaxis": "y4"
        },
        {
         "customdata": [
          [
           "Vietnam"
          ],
          [
           "Kazakhstan"
          ],
          [
           "Jordan"
          ],
          [
           "Japan"
          ],
          [
           "Israel"
          ],
          [
           "Kuwait"
          ],
          [
           "Singapore"
          ],
          [
           "Kyrgyzstan"
          ],
          [
           "Tajikistan"
          ],
          [
           "Malaysia"
          ],
          [
           "Thailand"
          ],
          [
           "Lebanon"
          ],
          [
           "China"
          ],
          [
           "Afghanistan"
          ],
          [
           "Iraq"
          ],
          [
           "United Arab Emirates"
          ],
          [
           "Uzbekistan"
          ],
          [
           "Cyprus"
          ],
          [
           "China"
          ],
          [
           "Cambodia"
          ],
          [
           "Turkey"
          ],
          [
           "Iran"
          ],
          [
           "Indonesia"
          ],
          [
           "Bangladesh"
          ],
          [
           "India"
          ],
          [
           "Turkmenistan"
          ],
          [
           "Georgia"
          ],
          [
           "Yemen"
          ],
          [
           "Pakistan"
          ],
          [
           "Sri Lanka"
          ],
          [
           "Nepal"
          ],
          [
           "Azerbaijan"
          ],
          [
           "Armenia"
          ],
          [
           "Saudi Arabia"
          ],
          [
           "Myanmar"
          ],
          [
           "Philippines"
          ],
          [
           "Mongolia"
          ],
          [
           "Bahrain"
          ]
         ],
         "hovertemplate": "Country: %{customdata[0]}<br>GNI per Capita (PPP): %{x}<br>HDI Calculated: %{y}",
         "legendgroup": "Asia",
         "marker": {
          "color": "#FAA598",
          "symbol": "circle"
         },
         "mode": "markers",
         "name": "Asia",
         "orientation": "v",
         "showlegend": false,
         "type": "scatter",
         "x": [
          6300,
          24280,
          9120,
          41350,
          37500,
          51550,
          83020,
          5020,
          3900,
          24840,
          15800,
          15250,
          58670,
          2140,
          9720,
          63670,
          6530,
          33000,
          13400,
          3450,
          26050,
          13650,
          10160,
          4070,
          5760,
          13500,
          11760,
          null,
          4680,
          11900,
          2620,
          14920,
          13160,
          46110,
          4220,
          8870,
          9860,
          41860
         ],
         "xaxis": "x3",
         "y": [
          0.7,
          0.82,
          0.74,
          0.92,
          0.92,
          0.81,
          0.94,
          0.7,
          0.66,
          0.81,
          0.77,
          0.77,
          0.83,
          0.52,
          0.65,
          0.87,
          0.71,
          0.88,
          0.76,
          0.59,
          0.81,
          0.79,
          0.71,
          0.62,
          0.65,
          0.7,
          0.8,
          null,
          0.56,
          0.78,
          0.59,
          0.76,
          0.78,
          0.86,
          0.57,
          0.71,
          0.75,
          0.86
         ],
         "yaxis": "y3"
        },
        {
         "customdata": [
          [
           "Tajikistan"
          ],
          [
           "Georgia"
          ],
          [
           "Uzbekistan"
          ],
          [
           "Cambodia"
          ],
          [
           "Azerbaijan"
          ],
          [
           "Bahrain"
          ],
          [
           "Philippines"
          ],
          [
           "Malaysia"
          ],
          [
           "United Arab Emirates"
          ],
          [
           "Bangladesh"
          ],
          [
           "China"
          ],
          [
           "China"
          ],
          [
           "Afghanistan"
          ],
          [
           "Cyprus"
          ],
          [
           "Yemen"
          ],
          [
           "Saudi Arabia"
          ],
          [
           "Jordan"
          ],
          [
           "Japan"
          ],
          [
           "Israel"
          ],
          [
           "Kazakhstan"
          ],
          [
           "Sri Lanka"
          ],
          [
           "Lebanon"
          ],
          [
           "Myanmar"
          ],
          [
           "Thailand"
          ],
          [
           "Vietnam"
          ],
          [
           "Kyrgyzstan"
          ],
          [
           "Nepal"
          ],
          [
           "Kuwait"
          ],
          [
           "Turkmenistan"
          ],
          [
           "Armenia"
          ],
          [
           "Mongolia"
          ],
          [
           "India"
          ],
          [
           "Indonesia"
          ],
          [
           "Singapore"
          ],
          [
           "Turkey"
          ],
          [
           "Iran"
          ],
          [
           "Pakistan"
          ],
          [
           "Iraq"
          ]
         ],
         "hovertemplate": "Country: %{customdata[0]}<br>GNI per Capita (PPP): %{x}<br>HDI Calculated: %{y}",
         "legendgroup": "Asia",
         "marker": {
          "color": "#FAA598",
          "symbol": "circle"
         },
         "mode": "markers",
         "name": "Asia",
         "orientation": "v",
         "showlegend": false,
         "type": "scatter",
         "x": [
          3560,
          12910,
          6650,
          3680,
          13510,
          44980,
          9320,
          25900,
          66290,
          4340,
          14140,
          62530,
          2210,
          35750,
          null,
          48040,
          9790,
          42290,
          38570,
          22160,
          12340,
          16070,
          4480,
          16610,
          6620,
          4800,
          3140,
          59260,
          13620,
          12540,
          9720,
          6120,
          10580,
          87440,
          27570,
          14560,
          4820,
          10850
         ],
         "xaxis": "x2",
         "y": [
          0.65,
          0.8,
          0.71,
          0.6,
          0.76,
          0.86,
          0.71,
          0.81,
          0.87,
          0.63,
          0.76,
          0.83,
          0.52,
          0.88,
          null,
          0.87,
          0.75,
          0.92,
          0.92,
          0.82,
          0.79,
          0.77,
          0.58,
          0.78,
          0.71,
          0.7,
          0.6,
          0.81,
          0.7,
          0.78,
          0.75,
          0.65,
          0.71,
          0.95,
          0.82,
          0.79,
          0.57,
          0.67
         ],
         "yaxis": "y2"
        },
        {
         "customdata": [
          [
           "Vietnam"
          ],
          [
           "Cambodia"
          ],
          [
           "Afghanistan"
          ],
          [
           "Azerbaijan"
          ],
          [
           "Bahrain"
          ],
          [
           "Uzbekistan"
          ],
          [
           "Bangladesh"
          ],
          [
           "Yemen"
          ],
          [
           "Armenia"
          ],
          [
           "Indonesia"
          ],
          [
           "China"
          ],
          [
           "Sri Lanka"
          ],
          [
           "Nepal"
          ],
          [
           "Myanmar"
          ],
          [
           "Mongolia"
          ],
          [
           "Malaysia"
          ],
          [
           "Tajikistan"
          ],
          [
           "Singapore"
          ],
          [
           "Saudi Arabia"
          ],
          [
           "Philippines"
          ],
          [
           "Pakistan"
          ],
          [
           "Lebanon"
          ],
          [
           "Georgia"
          ],
          [
           "United Arab Emirates"
          ],
          [
           "Cyprus"
          ],
          [
           "Kyrgyzstan"
          ],
          [
           "Thailand"
          ],
          [
           "Kuwait"
          ],
          [
           "Kazakhstan"
          ],
          [
           "Jordan"
          ],
          [
           "Japan"
          ],
          [
           "China"
          ],
          [
           "Israel"
          ],
          [
           "Iraq"
          ],
          [
           "Iran"
          ],
          [
           "Turkey"
          ],
          [
           "India"
          ],
          [
           "Turkmenistan"
          ]
         ],
         "hovertemplate": "Country: %{customdata[0]}<br>GNI per Capita (PPP): %{x}<br>HDI Calculated: %{y}",
         "legendgroup": "Asia",
         "marker": {
          "color": "#FAA598",
          "symbol": "circle"
         },
         "mode": "markers",
         "name": "Asia",
         "orientation": "v",
         "showlegend": false,
         "type": "scatter",
         "x": [
          6220.27,
          3597.4,
          1745.67,
          15240.14,
          40399.12,
          6461.84,
          4057.25,
          1433.3,
          9277.23,
          11255.78,
          60220.8,
          11610.91,
          2748.2,
          5763.94,
          10783.71,
          27226.68,
          3482.38,
          83792.67,
          49338.41,
          9539.7,
          5190.08,
          11136.25,
          9569.52,
          66911.66,
          33100.32,
          3316.79,
          16128.55,
          71164.22,
          22167.7,
          8267.81,
          40799.01,
          16126.57,
          33649.69,
          15364.96,
          18166.47,
          24905.38,
          6828.6,
          16407.47
         ],
         "xaxis": "x",
         "y": [
          0.7,
          0.6,
          0.51,
          0.76,
          0.85,
          0.71,
          0.62,
          0.48,
          0.76,
          0.72,
          0.95,
          0.79,
          0.59,
          0.6,
          0.74,
          0.81,
          0.66,
          0.95,
          0.87,
          0.72,
          0.57,
          0.74,
          0.79,
          0.87,
          0.88,
          0.68,
          0.78,
          0.82,
          0.82,
          0.73,
          0.92,
          0.77,
          0.91,
          0.7,
          0.81,
          0.82,
          0.66,
          0.71
         ],
         "yaxis": "y"
        },
        {
         "customdata": [
          [
           "Mauritania"
          ],
          [
           "Mali"
          ],
          [
           "Malawi"
          ],
          [
           "Madagascar"
          ],
          [
           "Libya"
          ],
          [
           "Liberia"
          ],
          [
           "Mauritius"
          ],
          [
           "Kenya"
          ],
          [
           "Senegal"
          ],
          [
           "Rwanda"
          ],
          [
           "Nigeria"
          ],
          [
           "Niger"
          ],
          [
           "Morocco"
          ],
          [
           "Sierra Leone"
          ],
          [
           "Cameroon"
          ],
          [
           "Burundi"
          ],
          [
           "Burkina Faso"
          ],
          [
           "Botswana"
          ],
          [
           "Chad"
          ],
          [
           "Benin"
          ],
          [
           "Algeria"
          ],
          [
           "Ghana"
          ],
          [
           "Gabon"
          ],
          [
           "Ethiopia"
          ],
          [
           "Egypt"
          ],
          [
           "Zambia"
          ],
          [
           "Togo"
          ],
          [
           "Zimbabwe"
          ],
          [
           "Uganda"
          ],
          [
           "Tunisia"
          ],
          [
           "South Africa"
          ],
          [
           "Tanzania"
          ]
         ],
         "hovertemplate": "Country: %{customdata[0]}<br>GNI per Capita (PPP): %{x}<br>HDI Calculated: %{y}",
         "legendgroup": "Africa",
         "marker": {
          "color": "#AEFD8E",
          "symbol": "circle"
         },
         "mode": "markers",
         "name": "Africa",
         "orientation": "v",
         "showlegend": true,
         "type": "scatter",
         "x": [
          3160,
          1990,
          990,
          1500,
          12740,
          1180,
          20860,
          3330,
          2910,
          1710,
          5280,
          840,
          7670,
          1570,
          3210,
          840,
          1460,
          15310,
          1760,
          2860,
          11700,
          5050,
          13480,
          1650,
          11160,
          3370,
          1440,
          2410,
          1750,
          9890,
          12240,
          2740
         ],
         "xaxis": "x4",
         "y": [
          0.52,
          0.43,
          0.47,
          0.53,
          0.73,
          0.48,
          0.8,
          0.59,
          0.52,
          0.53,
          0.53,
          0.36,
          0.68,
          0.44,
          0.56,
          0.45,
          0.43,
          0.72,
          0.42,
          0.55,
          0.76,
          0.61,
          0.69,
          0.47,
          0.71,
          0.59,
          0.51,
          0.55,
          0.53,
          0.74,
          0.7,
          0.53
         ],
         "yaxis": "y4"
        },
        {
         "customdata": [
          [
           "Kenya"
          ],
          [
           "Togo"
          ],
          [
           "Botswana"
          ],
          [
           "Tunisia"
          ],
          [
           "Mauritania"
          ],
          [
           "Mali"
          ],
          [
           "Malawi"
          ],
          [
           "Madagascar"
          ],
          [
           "Tanzania"
          ],
          [
           "Libya"
          ],
          [
           "Benin"
          ],
          [
           "Liberia"
          ],
          [
           "Cameroon"
          ],
          [
           "Ethiopia"
          ],
          [
           "Egypt"
          ],
          [
           "Chad"
          ],
          [
           "Gabon"
          ],
          [
           "Burkina Faso"
          ],
          [
           "Uganda"
          ],
          [
           "Burundi"
          ],
          [
           "Ghana"
          ],
          [
           "Mauritius"
          ],
          [
           "Nigeria"
          ],
          [
           "Niger"
          ],
          [
           "Zambia"
          ],
          [
           "South Africa"
          ],
          [
           "Sierra Leone"
          ],
          [
           "Senegal"
          ],
          [
           "Zimbabwe"
          ],
          [
           "Rwanda"
          ],
          [
           "Algeria"
          ],
          [
           "Morocco"
          ]
         ],
         "hovertemplate": "Country: %{customdata[0]}<br>GNI per Capita (PPP): %{x}<br>HDI Calculated: %{y}",
         "legendgroup": "Africa",
         "marker": {
          "color": "#AEFD8E",
          "symbol": "circle"
         },
         "mode": "markers",
         "name": "Africa",
         "orientation": "v",
         "showlegend": false,
         "type": "scatter",
         "x": [
          3620,
          1470,
          16600,
          10070,
          3350,
          2130,
          1020,
          1550,
          2860,
          11430,
          2980,
          1260,
          3350,
          1870,
          10850,
          1630,
          13180,
          1550,
          1690,
          800,
          4800,
          22390,
          5120,
          820,
          3330,
          12240,
          1420,
          3000,
          2570,
          1790,
          11520,
          7730
         ],
         "xaxis": "x3",
         "y": [
          0.6,
          0.52,
          0.73,
          0.75,
          0.53,
          0.44,
          0.48,
          0.53,
          0.54,
          0.72,
          0.55,
          0.49,
          0.57,
          0.48,
          0.71,
          0.42,
          0.69,
          0.44,
          0.53,
          0.45,
          0.61,
          0.81,
          0.54,
          0.36,
          0.6,
          0.7,
          0.44,
          0.53,
          0.56,
          0.54,
          0.76,
          0.68
         ],
         "yaxis": "y3"
        },
        {
         "customdata": [
          [
           "Liberia"
          ],
          [
           "Gabon"
          ],
          [
           "Algeria"
          ],
          [
           "Mali"
          ],
          [
           "South Africa"
          ],
          [
           "Burkina Faso"
          ],
          [
           "Uganda"
          ],
          [
           "Burundi"
          ],
          [
           "Ghana"
          ],
          [
           "Ethiopia"
          ],
          [
           "Mauritania"
          ],
          [
           "Zimbabwe"
          ],
          [
           "Sierra Leone"
          ],
          [
           "Chad"
          ],
          [
           "Cameroon"
          ],
          [
           "Rwanda"
          ],
          [
           "Egypt"
          ],
          [
           "Senegal"
          ],
          [
           "Togo"
          ],
          [
           "Tanzania"
          ],
          [
           "Niger"
          ],
          [
           "Tunisia"
          ],
          [
           "Botswana"
          ],
          [
           "Morocco"
          ],
          [
           "Benin"
          ],
          [
           "Libya"
          ],
          [
           "Kenya"
          ],
          [
           "Nigeria"
          ],
          [
           "Malawi"
          ],
          [
           "Mauritius"
          ],
          [
           "Madagascar"
          ],
          [
           "Zambia"
          ]
         ],
         "hovertemplate": "Country: %{customdata[0]}<br>GNI per Capita (PPP): %{x}<br>HDI Calculated: %{y}",
         "legendgroup": "Africa",
         "marker": {
          "color": "#AEFD8E",
          "symbol": "circle"
         },
         "mode": "markers",
         "name": "Africa",
         "orientation": "v",
         "showlegend": false,
         "type": "scatter",
         "x": [
          1380,
          14060,
          11370,
          2180,
          12320,
          1730,
          1710,
          770,
          4860,
          2010,
          3610,
          2860,
          1590,
          1570,
          3490,
          1910,
          10800,
          3140,
          1520,
          3020,
          830,
          10280,
          16680,
          8110,
          3010,
          13690,
          4000,
          5030,
          1030,
          23560,
          1540,
          3330
         ],
         "xaxis": "x2",
         "y": [
          0.5,
          0.7,
          0.76,
          0.45,
          0.71,
          0.44,
          0.54,
          0.45,
          0.61,
          0.49,
          0.53,
          0.57,
          0.45,
          0.41,
          0.57,
          0.54,
          0.71,
          0.54,
          0.52,
          0.54,
          0.36,
          0.75,
          0.73,
          0.69,
          0.55,
          0.73,
          0.61,
          0.54,
          0.48,
          0.81,
          0.54,
          0.6
         ],
         "yaxis": "y2"
        },
        {
         "customdata": [
          [
           "Burkina Faso"
          ],
          [
           "Algeria"
          ],
          [
           "Zambia"
          ],
          [
           "Benin"
          ],
          [
           "Chad"
          ],
          [
           "Cameroon"
          ],
          [
           "Botswana"
          ],
          [
           "Burundi"
          ],
          [
           "Morocco"
          ],
          [
           "Mauritius"
          ],
          [
           "Mauritania"
          ],
          [
           "Mali"
          ],
          [
           "Malawi"
          ],
          [
           "Madagascar"
          ],
          [
           "Tanzania"
          ],
          [
           "Libya"
          ],
          [
           "Niger"
          ],
          [
           "Sierra Leone"
          ],
          [
           "Senegal"
          ],
          [
           "Rwanda"
          ],
          [
           "South Africa"
          ],
          [
           "Nigeria"
          ],
          [
           "Liberia"
          ],
          [
           "Ghana"
          ],
          [
           "Gabon"
          ],
          [
           "Ethiopia"
          ],
          [
           "Egypt"
          ],
          [
           "Uganda"
          ],
          [
           "Kenya"
          ],
          [
           "Togo"
          ],
          [
           "Tunisia"
          ],
          [
           "Zimbabwe"
          ]
         ],
         "hovertemplate": "Country: %{customdata[0]}<br>GNI per Capita (PPP): %{x}<br>HDI Calculated: %{y}",
         "legendgroup": "Africa",
         "marker": {
          "color": "#AEFD8E",
          "symbol": "circle"
         },
         "mode": "markers",
         "name": "Africa",
         "orientation": "v",
         "showlegend": false,
         "type": "scatter",
         "x": [
          1705.49,
          13639.43,
          3581.89,
          2134.59,
          1715.57,
          3291.13,
          15951.33,
          659.73,
          7479.59,
          22724.23,
          3746.08,
          1965.39,
          1159.12,
          1403.92,
          2805.12,
          11684.73,
          912.04,
          1381.3,
          3255.99,
          1958.61,
          11756.3,
          5085.54,
          1040.09,
          4098.86,
          15794.08,
          1781.76,
          10743.81,
          1752.21,
          3051.69,
          1592.54,
          10676.96,
          2661.07
         ],
         "xaxis": "x",
         "y": [
          0.45,
          0.77,
          0.6,
          0.54,
          0.41,
          0.57,
          0.73,
          0.44,
          0.69,
          0.81,
          0.54,
          0.44,
          0.5,
          0.53,
          0.53,
          0.72,
          0.39,
          0.45,
          0.53,
          0.55,
          0.71,
          0.54,
          0.47,
          0.6,
          0.71,
          0.48,
          0.71,
          0.54,
          0.59,
          0.53,
          0.76,
          0.57
         ],
         "yaxis": "y"
        },
        {
         "customdata": [
          [
           "Malta"
          ],
          [
           "Luxembourg"
          ],
          [
           "Lithuania"
          ],
          [
           "Latvia"
          ],
          [
           "Italy"
          ],
          [
           "Ireland"
          ],
          [
           "Moldova"
          ],
          [
           "Serbia"
          ],
          [
           "Russia"
          ],
          [
           "Romania"
          ],
          [
           "Portugal"
          ],
          [
           "Poland"
          ],
          [
           "Norway"
          ],
          [
           "Netherlands"
          ],
          [
           "Montenegro"
          ],
          [
           "Iceland"
          ],
          [
           "Bulgaria"
          ],
          [
           "Bosnia and Herzegovina"
          ],
          [
           "Belarus"
          ],
          [
           "Austria"
          ],
          [
           "Albania"
          ],
          [
           "Belgium"
          ],
          [
           "Hungary"
          ],
          [
           "Greece"
          ],
          [
           "Germany"
          ],
          [
           "France"
          ],
          [
           "Finland"
          ],
          [
           "Estonia"
          ],
          [
           "Denmark"
          ],
          [
           "Croatia"
          ],
          [
           "Ukraine"
          ],
          [
           "Sweden"
          ],
          [
           "Slovenia"
          ],
          [
           "United Kingdom"
          ],
          [
           "Spain"
          ],
          [
           "Switzerland"
          ],
          [
           "Slovakia"
          ]
         ],
         "hovertemplate": "Country: %{customdata[0]}<br>GNI per Capita (PPP): %{x}<br>HDI Calculated: %{y}",
         "legendgroup": "Europe",
         "marker": {
          "color": "#E3C97F",
          "symbol": "circle"
         },
         "mode": "markers",
         "name": "Europe",
         "orientation": "v",
         "showlegend": true,
         "type": "scatter",
         "x": [
          34280,
          67590,
          27780,
          24690,
          36650,
          52990,
          11290,
          14230,
          23420,
          21130,
          28870,
          25880,
          63030,
          50340,
          16700,
          46480,
          17820,
          12100,
          19260,
          49390,
          11800,
          46870,
          25460,
          26940,
          48770,
          41740,
          42950,
          28570,
          50560,
          22870,
          7880,
          49420,
          30660,
          41550,
          34900,
          65450,
          28950
         ],
         "xaxis": "x4",
         "y": [
          0.89,
          0.91,
          0.86,
          0.85,
          0.89,
          0.96,
          0.74,
          0.79,
          0.82,
          0.82,
          0.86,
          0.87,
          0.95,
          0.94,
          0.82,
          0.96,
          0.82,
          0.77,
          0.82,
          0.91,
          0.79,
          0.95,
          0.84,
          0.89,
          0.94,
          0.91,
          0.93,
          0.88,
          0.95,
          0.84,
          0.75,
          0.94,
          0.9,
          0.93,
          0.9,
          0.95,
          0.86
         ],
         "yaxis": "y4"
        },
        {
         "customdata": [
          [
           "Italy"
          ],
          [
           "Bosnia and Herzegovina"
          ],
          [
           "Malta"
          ],
          [
           "Belarus"
          ],
          [
           "Belgium"
          ],
          [
           "Luxembourg"
          ],
          [
           "Lithuania"
          ],
          [
           "Ireland"
          ],
          [
           "Estonia"
          ],
          [
           "United Kingdom"
          ],
          [
           "Finland"
          ],
          [
           "Denmark"
          ],
          [
           "Croatia"
          ],
          [
           "France"
          ],
          [
           "Bulgaria"
          ],
          [
           "Iceland"
          ],
          [
           "Hungary"
          ],
          [
           "Greece"
          ],
          [
           "Germany"
          ],
          [
           "Ukraine"
          ],
          [
           "Latvia"
          ],
          [
           "Spain"
          ],
          [
           "Norway"
          ],
          [
           "Austria"
          ],
          [
           "Netherlands"
          ],
          [
           "Serbia"
          ],
          [
           "Slovakia"
          ],
          [
           "Albania"
          ],
          [
           "Russia"
          ],
          [
           "Slovenia"
          ],
          [
           "Romania"
          ],
          [
           "Portugal"
          ],
          [
           "Poland"
          ],
          [
           "Sweden"
          ],
          [
           "Switzerland"
          ],
          [
           "Moldova"
          ],
          [
           "Montenegro"
          ]
         ],
         "hovertemplate": "Country: %{customdata[0]}<br>GNI per Capita (PPP): %{x}<br>HDI Calculated: %{y}",
         "legendgroup": "Europe",
         "marker": {
          "color": "#E3C97F",
          "symbol": "circle"
         },
         "mode": "markers",
         "name": "Europe",
         "orientation": "v",
         "showlegend": false,
         "type": "scatter",
         "x": [
          40030,
          13090,
          35720,
          19280,
          49090,
          70450,
          29790,
          59070,
          30510,
          43100,
          45150,
          53110,
          24130,
          43830,
          19760,
          50990,
          26990,
          27820,
          51810,
          8210,
          26340,
          37370,
          61840,
          52630,
          51510,
          14960,
          29160,
          12270,
          23570,
          33010,
          23680,
          30840,
          27170,
          50780,
          66080,
          13060,
          18360
         ],
         "xaxis": "x3",
         "y": [
          0.9,
          0.78,
          0.89,
          0.83,
          0.95,
          0.91,
          0.87,
          0.97,
          0.88,
          0.93,
          0.93,
          0.96,
          0.84,
          0.91,
          0.82,
          0.96,
          0.85,
          0.89,
          0.95,
          0.76,
          0.86,
          0.91,
          0.96,
          0.92,
          0.94,
          0.8,
          0.86,
          0.79,
          0.82,
          0.91,
          0.82,
          0.87,
          0.88,
          0.94,
          0.96,
          0.75,
          0.82
         ],
         "yaxis": "y3"
        },
        {
         "customdata": [
          [
           "Ukraine"
          ],
          [
           "Portugal"
          ],
          [
           "France"
          ],
          [
           "Slovenia"
          ],
          [
           "Finland"
          ],
          [
           "Romania"
          ],
          [
           "Moldova"
          ],
          [
           "Germany"
          ],
          [
           "Belarus"
          ],
          [
           "Poland"
          ],
          [
           "Greece"
          ],
          [
           "Croatia"
          ],
          [
           "Serbia"
          ],
          [
           "Switzerland"
          ],
          [
           "Denmark"
          ],
          [
           "Estonia"
          ],
          [
           "Russia"
          ],
          [
           "Malta"
          ],
          [
           "United Kingdom"
          ],
          [
           "Albania"
          ],
          [
           "Slovakia"
          ],
          [
           "Lithuania"
          ],
          [
           "Belgium"
          ],
          [
           "Bosnia and Herzegovina"
          ],
          [
           "Italy"
          ],
          [
           "Latvia"
          ],
          [
           "Netherlands"
          ],
          [
           "Austria"
          ],
          [
           "Sweden"
          ],
          [
           "Montenegro"
          ],
          [
           "Luxembourg"
          ],
          [
           "Hungary"
          ],
          [
           "Bulgaria"
          ],
          [
           "Iceland"
          ],
          [
           "Ireland"
          ],
          [
           "Norway"
          ],
          [
           "Spain"
          ]
         ],
         "hovertemplate": "Country: %{customdata[0]}<br>GNI per Capita (PPP): %{x}<br>HDI Calculated: %{y}",
         "legendgroup": "Europe",
         "marker": {
          "color": "#E3C97F",
          "symbol": "circle"
         },
         "mode": "markers",
         "name": "Europe",
         "orientation": "v",
         "showlegend": false,
         "type": "scatter",
         "x": [
          8460,
          32310,
          45850,
          35990,
          47480,
          26620,
          12320,
          54370,
          17580,
          28900,
          29150,
          26310,
          15510,
          67890,
          56360,
          32930,
          25380,
          38370,
          45430,
          13130,
          30410,
          32560,
          51320,
          13790,
          42010,
          28360,
          55770,
          54150,
          53490,
          20110,
          72750,
          28340,
          21460,
          54380,
          61590,
          65730,
          39570
         ],
         "xaxis": "x2",
         "y": [
          0.76,
          0.87,
          0.92,
          0.91,
          0.94,
          0.83,
          0.74,
          0.95,
          0.82,
          0.88,
          0.89,
          0.85,
          0.8,
          0.96,
          0.96,
          0.89,
          0.83,
          0.9,
          0.93,
          0.8,
          0.86,
          0.88,
          0.96,
          0.79,
          0.9,
          0.86,
          0.95,
          0.92,
          0.95,
          0.83,
          0.91,
          0.85,
          0.83,
          0.97,
          0.97,
          0.96,
          0.91
         ],
         "yaxis": "y2"
        },
        {
         "customdata": [
          [
           "Albania"
          ],
          [
           "Belarus"
          ],
          [
           "Bulgaria"
          ],
          [
           "Austria"
          ],
          [
           "Bosnia and Herzegovina"
          ],
          [
           "Belgium"
          ],
          [
           "Montenegro"
          ],
          [
           "Sweden"
          ],
          [
           "Moldova"
          ],
          [
           "Switzerland"
          ],
          [
           "Malta"
          ],
          [
           "Luxembourg"
          ],
          [
           "Lithuania"
          ],
          [
           "Netherlands"
          ],
          [
           "Serbia"
          ],
          [
           "Slovakia"
          ],
          [
           "Russia"
          ],
          [
           "Romania"
          ],
          [
           "Portugal"
          ],
          [
           "Slovenia"
          ],
          [
           "Poland"
          ],
          [
           "Norway"
          ],
          [
           "Spain"
          ],
          [
           "Latvia"
          ],
          [
           "Germany"
          ],
          [
           "Ukraine"
          ],
          [
           "France"
          ],
          [
           "Finland"
          ],
          [
           "Estonia"
          ],
          [
           "United Kingdom"
          ],
          [
           "Denmark"
          ],
          [
           "Croatia"
          ],
          [
           "Greece"
          ],
          [
           "Italy"
          ],
          [
           "Ireland"
          ],
          [
           "Iceland"
          ],
          [
           "Hungary"
          ]
         ],
         "hovertemplate": "Country: %{customdata[0]}<br>GNI per Capita (PPP): %{x}<br>HDI Calculated: %{y}",
         "legendgroup": "Europe",
         "marker": {
          "color": "#E3C97F",
          "symbol": "circle"
         },
         "mode": "markers",
         "name": "Europe",
         "orientation": "v",
         "showlegend": false,
         "type": "scatter",
         "x": [
          12299.8,
          17038.53,
          19645.94,
          46230.57,
          12689.68,
          43820.84,
          17510.71,
          47955.45,
          6833.11,
          59374.73,
          34795.18,
          65543.05,
          29775.26,
          50012.59,
          15217.7,
          30671.87,
          25036.02,
          23905.77,
          27935.38,
          32143.04,
          27625.8,
          68058.62,
          35041.3,
          26300.77,
          46945.95,
          7994.21,
          40510.78,
          41779.26,
          30378.63,
          39507.29,
          48836.09,
          23060.96,
          24909.34,
          36141.43,
          55659.68,
          47566.45,
          27144.21
         ],
         "xaxis": "x",
         "y": [
          0.8,
          0.82,
          0.82,
          0.92,
          0.78,
          0.95,
          0.82,
          0.96,
          0.71,
          0.95,
          0.89,
          0.91,
          0.88,
          0.94,
          0.81,
          0.86,
          0.83,
          0.82,
          0.86,
          0.91,
          0.88,
          0.96,
          0.91,
          0.86,
          0.94,
          0.76,
          0.9,
          0.95,
          0.89,
          0.93,
          0.95,
          0.84,
          0.88,
          0.89,
          0.96,
          0.96,
          0.85
         ],
         "yaxis": "y"
        },
        {
         "customdata": [
          [
           "Jamaica"
          ],
          [
           "Peru"
          ],
          [
           "Paraguay"
          ],
          [
           "Panama"
          ],
          [
           "Nicaragua"
          ],
          [
           "Brazil"
          ],
          [
           "Bolivia"
          ],
          [
           "Argentina"
          ],
          [
           "Chile"
          ],
          [
           "Honduras"
          ],
          [
           "Haiti"
          ],
          [
           "Guinea"
          ],
          [
           "Guatemala"
          ],
          [
           "El Salvador"
          ],
          [
           "Ecuador"
          ],
          [
           "Dominican Republic"
          ],
          [
           "Costa Rica"
          ],
          [
           "Colombia"
          ],
          [
           "Venezuela"
          ],
          [
           "Uruguay"
          ]
         ],
         "hovertemplate": "Country: %{customdata[0]}<br>GNI per Capita (PPP): %{x}<br>HDI Calculated: %{y}",
         "legendgroup": "South America",
         "marker": {
          "color": "#E8EAC8",
          "symbol": "circle"
         },
         "mode": "markers",
         "name": "South America",
         "orientation": "v",
         "showlegend": true,
         "type": "scatter",
         "x": [
          8520,
          11180,
          11040,
          22810,
          5150,
          14470,
          6890,
          19650,
          22010,
          4490,
          1710,
          1790,
          7830,
          7240,
          10870,
          14130,
          16310,
          13700,
          null,
          19310
         ],
         "xaxis": "x4",
         "y": [
          0.73,
          0.76,
          0.73,
          0.8,
          0.66,
          0.77,
          0.7,
          0.84,
          0.85,
          0.63,
          0.5,
          0.46,
          0.66,
          0.68,
          0.76,
          0.75,
          0.81,
          0.77,
          null,
          0.82
         ],
         "yaxis": "y4"
        },
        {
         "customdata": [
          [
           "Jamaica"
          ],
          [
           "Bolivia"
          ],
          [
           "Venezuela"
          ],
          [
           "El Salvador"
          ],
          [
           "Ecuador"
          ],
          [
           "Chile"
          ],
          [
           "Costa Rica"
          ],
          [
           "Colombia"
          ],
          [
           "Dominican Republic"
          ],
          [
           "Honduras"
          ],
          [
           "Haiti"
          ],
          [
           "Guinea"
          ],
          [
           "Guatemala"
          ],
          [
           "Brazil"
          ],
          [
           "Panama"
          ],
          [
           "Nicaragua"
          ],
          [
           "Paraguay"
          ],
          [
           "Peru"
          ],
          [
           "Argentina"
          ],
          [
           "Uruguay"
          ]
         ],
         "hovertemplate": "Country: %{customdata[0]}<br>GNI per Capita (PPP): %{x}<br>HDI Calculated: %{y}",
         "legendgroup": "South America",
         "marker": {
          "color": "#E8EAC8",
          "symbol": "circle"
         },
         "mode": "markers",
         "name": "South America",
         "orientation": "v",
         "showlegend": false,
         "type": "scatter",
         "x": [
          8800,
          7360,
          null,
          7620,
          10830,
          22080,
          17230,
          13800,
          15420,
          4790,
          1770,
          2050,
          7910,
          13950,
          25080,
          5540,
          11540,
          11510,
          19710,
          19650
         ],
         "xaxis": "x3",
         "y": [
          0.74,
          0.71,
          null,
          0.69,
          0.76,
          0.85,
          0.81,
          0.77,
          0.75,
          0.63,
          0.51,
          0.47,
          0.66,
          0.77,
          0.81,
          0.67,
          0.73,
          0.76,
          0.84,
          0.82
         ],
         "yaxis": "y3"
        },
        {
         "customdata": [
          [
           "Peru"
          ],
          [
           "Guatemala"
          ],
          [
           "Argentina"
          ],
          [
           "Haiti"
          ],
          [
           "Costa Rica"
          ],
          [
           "Chile"
          ],
          [
           "Colombia"
          ],
          [
           "Uruguay"
          ],
          [
           "El Salvador"
          ],
          [
           "Ecuador"
          ],
          [
           "Dominican Republic"
          ],
          [
           "Venezuela"
          ],
          [
           "Guinea"
          ],
          [
           "Honduras"
          ],
          [
           "Nicaragua"
          ],
          [
           "Jamaica"
          ],
          [
           "Paraguay"
          ],
          [
           "Bolivia"
          ],
          [
           "Panama"
          ],
          [
           "Brazil"
          ]
         ],
         "hovertemplate": "Country: %{customdata[0]}<br>GNI per Capita (PPP): %{x}<br>HDI Calculated: %{y}",
         "legendgroup": "South America",
         "marker": {
          "color": "#E8EAC8",
          "symbol": "circle"
         },
         "mode": "markers",
         "name": "South America",
         "orientation": "v",
         "showlegend": false,
         "type": "scatter",
         "x": [
          11930,
          8200,
          22960,
          1770,
          18040,
          22750,
          14050,
          20060,
          7970,
          11350,
          15940,
          null,
          2410,
          5220,
          5850,
          9320,
          12210,
          8190,
          27640,
          14250
         ],
         "xaxis": "x2",
         "y": [
          0.76,
          0.67,
          0.85,
          0.51,
          0.82,
          0.86,
          0.77,
          0.82,
          0.69,
          0.77,
          0.75,
          null,
          0.48,
          0.64,
          0.67,
          0.74,
          0.73,
          0.72,
          0.81,
          0.78
         ],
         "yaxis": "y2"
        },
        {
         "customdata": [
          [
           "Argentina"
          ],
          [
           "Chile"
          ],
          [
           "Uruguay"
          ],
          [
           "Venezuela"
          ],
          [
           "Bolivia"
          ],
          [
           "Brazil"
          ],
          [
           "Peru"
          ],
          [
           "Paraguay"
          ],
          [
           "Panama"
          ],
          [
           "Nicaragua"
          ],
          [
           "El Salvador"
          ],
          [
           "Ecuador"
          ],
          [
           "Dominican Republic"
          ],
          [
           "Costa Rica"
          ],
          [
           "Colombia"
          ],
          [
           "Guatemala"
          ],
          [
           "Guinea"
          ],
          [
           "Jamaica"
          ],
          [
           "Honduras"
          ],
          [
           "Haiti"
          ]
         ],
         "hovertemplate": "Country: %{customdata[0]}<br>GNI per Capita (PPP): %{x}<br>HDI Calculated: %{y}",
         "legendgroup": "South America",
         "marker": {
          "color": "#E8EAC8",
          "symbol": "circle"
         },
         "mode": "markers",
         "name": "South America",
         "orientation": "v",
         "showlegend": false,
         "type": "scatter",
         "x": [
          17611.22,
          21972.28,
          19434.85,
          9069.7,
          6849.2,
          14068.05,
          12322.66,
          11719.96,
          20454.87,
          4789.84,
          6973.46,
          10141.15,
          15074.26,
          14789.93,
          12895.59,
          7377.92,
          2211,
          7931.52,
          4258.35,
          1664.89
         ],
         "xaxis": "x",
         "y": [
          0.84,
          0.86,
          0.82,
          0.73,
          0.71,
          0.78,
          0.77,
          0.73,
          0.8,
          0.66,
          0.68,
          0.77,
          0.76,
          0.81,
          0.77,
          0.66,
          0.48,
          0.73,
          0.63,
          0.51
         ],
         "yaxis": "y"
        },
        {
         "customdata": [
          [
           "Mexico"
          ],
          [
           "Canada"
          ],
          [
           "United States"
          ]
         ],
         "hovertemplate": "Country: %{customdata[0]}<br>GNI per Capita (PPP): %{x}<br>HDI Calculated: %{y}",
         "legendgroup": "North America",
         "marker": {
          "color": "#B47FE3",
          "symbol": "circle"
         },
         "mode": "markers",
         "name": "North America",
         "orientation": "v",
         "showlegend": true,
         "type": "scatter",
         "x": [
          17830,
          43990,
          58340
         ],
         "xaxis": "x4",
         "y": [
          0.77,
          0.93,
          0.93
         ],
         "yaxis": "y4"
        },
        {
         "customdata": [
          [
           "Canada"
          ],
          [
           "United States"
          ],
          [
           "Mexico"
          ]
         ],
         "hovertemplate": "Country: %{customdata[0]}<br>GNI per Capita (PPP): %{x}<br>HDI Calculated: %{y}",
         "legendgroup": "North America",
         "marker": {
          "color": "#B47FE3",
          "symbol": "circle"
         },
         "mode": "markers",
         "name": "North America",
         "orientation": "v",
         "showlegend": false,
         "type": "scatter",
         "x": [
          45910,
          58970,
          18810
         ],
         "xaxis": "x3",
         "y": [
          0.93,
          0.93,
          0.78
         ],
         "yaxis": "y3"
        },
        {
         "customdata": [
          [
           "United States"
          ],
          [
           "Canada"
          ],
          [
           "Mexico"
          ]
         ],
         "hovertemplate": "Country: %{customdata[0]}<br>GNI per Capita (PPP): %{x}<br>HDI Calculated: %{y}",
         "legendgroup": "North America",
         "marker": {
          "color": "#B47FE3",
          "symbol": "circle"
         },
         "mode": "markers",
         "name": "North America",
         "orientation": "v",
         "showlegend": false,
         "type": "scatter",
         "x": [
          61020,
          48070,
          19300
         ],
         "xaxis": "x2",
         "y": [
          0.93,
          0.94,
          0.78
         ],
         "yaxis": "y2"
        },
        {
         "customdata": [
          [
           "Canada"
          ],
          [
           "Mexico"
          ],
          [
           "United States"
          ]
         ],
         "hovertemplate": "Country: %{customdata[0]}<br>GNI per Capita (PPP): %{x}<br>HDI Calculated: %{y}",
         "legendgroup": "North America",
         "marker": {
          "color": "#B47FE3",
          "symbol": "circle"
         },
         "mode": "markers",
         "name": "North America",
         "orientation": "v",
         "showlegend": false,
         "type": "scatter",
         "x": [
          43602.25,
          17628.12,
          56140.23
         ],
         "xaxis": "x",
         "y": [
          0.93,
          0.78,
          0.93
         ],
         "yaxis": "y"
        },
        {
         "customdata": [
          [
           "New Zealand"
          ],
          [
           "Australia"
          ]
         ],
         "hovertemplate": "Country: %{customdata[0]}<br>GNI per Capita (PPP): %{x}<br>HDI Calculated: %{y}",
         "legendgroup": "Australia",
         "marker": {
          "color": "#B2E4FA",
          "symbol": "circle"
         },
         "mode": "markers",
         "name": "Australia",
         "orientation": "v",
         "showlegend": true,
         "type": "scatter",
         "x": [
          36210,
          45330
         ],
         "xaxis": "x4",
         "y": [
          0.94,
          0.96
         ],
         "yaxis": "y4"
        },
        {
         "customdata": [
          [
           "Australia"
          ],
          [
           "New Zealand"
          ]
         ],
         "hovertemplate": "Country: %{customdata[0]}<br>GNI per Capita (PPP): %{x}<br>HDI Calculated: %{y}",
         "legendgroup": "Australia",
         "marker": {
          "color": "#B2E4FA",
          "symbol": "circle"
         },
         "mode": "markers",
         "name": "Australia",
         "orientation": "v",
         "showlegend": false,
         "type": "scatter",
         "x": [
          46230,
          38630
         ],
         "xaxis": "x3",
         "y": [
          0.96,
          0.94
         ],
         "yaxis": "y3"
        },
        {
         "customdata": [
          [
           "Australia"
          ],
          [
           "New Zealand"
          ]
         ],
         "hovertemplate": "Country: %{customdata[0]}<br>GNI per Capita (PPP): %{x}<br>HDI Calculated: %{y}",
         "legendgroup": "Australia",
         "marker": {
          "color": "#B2E4FA",
          "symbol": "circle"
         },
         "mode": "markers",
         "name": "Australia",
         "orientation": "v",
         "showlegend": false,
         "type": "scatter",
         "x": [
          47580,
          39330
         ],
         "xaxis": "x2",
         "y": [
          0.97,
          0.94
         ],
         "yaxis": "y2"
        },
        {
         "customdata": [
          [
           "Australia"
          ],
          [
           "New Zealand"
          ]
         ],
         "hovertemplate": "Country: %{customdata[0]}<br>GNI per Capita (PPP): %{x}<br>HDI Calculated: %{y}",
         "legendgroup": "Australia",
         "marker": {
          "color": "#B2E4FA",
          "symbol": "circle"
         },
         "mode": "markers",
         "name": "Australia",
         "orientation": "v",
         "showlegend": false,
         "type": "scatter",
         "x": [
          44097.02,
          35107.5
         ],
         "xaxis": "x",
         "y": [
          0.99,
          0.94
         ],
         "yaxis": "y"
        }
       ],
       "layout": {
        "annotations": [
         {
          "font": {},
          "showarrow": false,
          "text": "Year=2018",
          "textangle": 90,
          "x": 0.98,
          "xanchor": "left",
          "xref": "paper",
          "y": 0.11375,
          "yanchor": "middle",
          "yref": "paper"
         },
         {
          "font": {},
          "showarrow": false,
          "text": "Year=2017",
          "textangle": 90,
          "x": 0.98,
          "xanchor": "left",
          "xref": "paper",
          "y": 0.37124999999999997,
          "yanchor": "middle",
          "yref": "paper"
         },
         {
          "font": {},
          "showarrow": false,
          "text": "Year=2016",
          "textangle": 90,
          "x": 0.98,
          "xanchor": "left",
          "xref": "paper",
          "y": 0.62875,
          "yanchor": "middle",
          "yref": "paper"
         },
         {
          "font": {},
          "showarrow": false,
          "text": "Year=2015",
          "textangle": 90,
          "x": 0.98,
          "xanchor": "left",
          "xref": "paper",
          "y": 0.88625,
          "yanchor": "middle",
          "yref": "paper"
         }
        ],
        "height": 1000,
        "legend": {
         "title": {
          "text": "continent"
         },
         "tracegroupgap": 0
        },
        "margin": {
         "t": 60
        },
        "template": {
         "data": {
          "bar": [
           {
            "error_x": {
             "color": "#2a3f5f"
            },
            "error_y": {
             "color": "#2a3f5f"
            },
            "marker": {
             "line": {
              "color": "#E5ECF6",
              "width": 0.5
             },
             "pattern": {
              "fillmode": "overlay",
              "size": 10,
              "solidity": 0.2
             }
            },
            "type": "bar"
           }
          ],
          "barpolar": [
           {
            "marker": {
             "line": {
              "color": "#E5ECF6",
              "width": 0.5
             },
             "pattern": {
              "fillmode": "overlay",
              "size": 10,
              "solidity": 0.2
             }
            },
            "type": "barpolar"
           }
          ],
          "carpet": [
           {
            "aaxis": {
             "endlinecolor": "#2a3f5f",
             "gridcolor": "white",
             "linecolor": "white",
             "minorgridcolor": "white",
             "startlinecolor": "#2a3f5f"
            },
            "baxis": {
             "endlinecolor": "#2a3f5f",
             "gridcolor": "white",
             "linecolor": "white",
             "minorgridcolor": "white",
             "startlinecolor": "#2a3f5f"
            },
            "type": "carpet"
           }
          ],
          "choropleth": [
           {
            "colorbar": {
             "outlinewidth": 0,
             "ticks": ""
            },
            "type": "choropleth"
           }
          ],
          "contour": [
           {
            "colorbar": {
             "outlinewidth": 0,
             "ticks": ""
            },
            "colorscale": [
             [
              0,
              "#0d0887"
             ],
             [
              0.1111111111111111,
              "#46039f"
             ],
             [
              0.2222222222222222,
              "#7201a8"
             ],
             [
              0.3333333333333333,
              "#9c179e"
             ],
             [
              0.4444444444444444,
              "#bd3786"
             ],
             [
              0.5555555555555556,
              "#d8576b"
             ],
             [
              0.6666666666666666,
              "#ed7953"
             ],
             [
              0.7777777777777778,
              "#fb9f3a"
             ],
             [
              0.8888888888888888,
              "#fdca26"
             ],
             [
              1,
              "#f0f921"
             ]
            ],
            "type": "contour"
           }
          ],
          "contourcarpet": [
           {
            "colorbar": {
             "outlinewidth": 0,
             "ticks": ""
            },
            "type": "contourcarpet"
           }
          ],
          "heatmap": [
           {
            "colorbar": {
             "outlinewidth": 0,
             "ticks": ""
            },
            "colorscale": [
             [
              0,
              "#0d0887"
             ],
             [
              0.1111111111111111,
              "#46039f"
             ],
             [
              0.2222222222222222,
              "#7201a8"
             ],
             [
              0.3333333333333333,
              "#9c179e"
             ],
             [
              0.4444444444444444,
              "#bd3786"
             ],
             [
              0.5555555555555556,
              "#d8576b"
             ],
             [
              0.6666666666666666,
              "#ed7953"
             ],
             [
              0.7777777777777778,
              "#fb9f3a"
             ],
             [
              0.8888888888888888,
              "#fdca26"
             ],
             [
              1,
              "#f0f921"
             ]
            ],
            "type": "heatmap"
           }
          ],
          "heatmapgl": [
           {
            "colorbar": {
             "outlinewidth": 0,
             "ticks": ""
            },
            "colorscale": [
             [
              0,
              "#0d0887"
             ],
             [
              0.1111111111111111,
              "#46039f"
             ],
             [
              0.2222222222222222,
              "#7201a8"
             ],
             [
              0.3333333333333333,
              "#9c179e"
             ],
             [
              0.4444444444444444,
              "#bd3786"
             ],
             [
              0.5555555555555556,
              "#d8576b"
             ],
             [
              0.6666666666666666,
              "#ed7953"
             ],
             [
              0.7777777777777778,
              "#fb9f3a"
             ],
             [
              0.8888888888888888,
              "#fdca26"
             ],
             [
              1,
              "#f0f921"
             ]
            ],
            "type": "heatmapgl"
           }
          ],
          "histogram": [
           {
            "marker": {
             "pattern": {
              "fillmode": "overlay",
              "size": 10,
              "solidity": 0.2
             }
            },
            "type": "histogram"
           }
          ],
          "histogram2d": [
           {
            "colorbar": {
             "outlinewidth": 0,
             "ticks": ""
            },
            "colorscale": [
             [
              0,
              "#0d0887"
             ],
             [
              0.1111111111111111,
              "#46039f"
             ],
             [
              0.2222222222222222,
              "#7201a8"
             ],
             [
              0.3333333333333333,
              "#9c179e"
             ],
             [
              0.4444444444444444,
              "#bd3786"
             ],
             [
              0.5555555555555556,
              "#d8576b"
             ],
             [
              0.6666666666666666,
              "#ed7953"
             ],
             [
              0.7777777777777778,
              "#fb9f3a"
             ],
             [
              0.8888888888888888,
              "#fdca26"
             ],
             [
              1,
              "#f0f921"
             ]
            ],
            "type": "histogram2d"
           }
          ],
          "histogram2dcontour": [
           {
            "colorbar": {
             "outlinewidth": 0,
             "ticks": ""
            },
            "colorscale": [
             [
              0,
              "#0d0887"
             ],
             [
              0.1111111111111111,
              "#46039f"
             ],
             [
              0.2222222222222222,
              "#7201a8"
             ],
             [
              0.3333333333333333,
              "#9c179e"
             ],
             [
              0.4444444444444444,
              "#bd3786"
             ],
             [
              0.5555555555555556,
              "#d8576b"
             ],
             [
              0.6666666666666666,
              "#ed7953"
             ],
             [
              0.7777777777777778,
              "#fb9f3a"
             ],
             [
              0.8888888888888888,
              "#fdca26"
             ],
             [
              1,
              "#f0f921"
             ]
            ],
            "type": "histogram2dcontour"
           }
          ],
          "mesh3d": [
           {
            "colorbar": {
             "outlinewidth": 0,
             "ticks": ""
            },
            "type": "mesh3d"
           }
          ],
          "parcoords": [
           {
            "line": {
             "colorbar": {
              "outlinewidth": 0,
              "ticks": ""
             }
            },
            "type": "parcoords"
           }
          ],
          "pie": [
           {
            "automargin": true,
            "type": "pie"
           }
          ],
          "scatter": [
           {
            "fillpattern": {
             "fillmode": "overlay",
             "size": 10,
             "solidity": 0.2
            },
            "type": "scatter"
           }
          ],
          "scatter3d": [
           {
            "line": {
             "colorbar": {
              "outlinewidth": 0,
              "ticks": ""
             }
            },
            "marker": {
             "colorbar": {
              "outlinewidth": 0,
              "ticks": ""
             }
            },
            "type": "scatter3d"
           }
          ],
          "scattercarpet": [
           {
            "marker": {
             "colorbar": {
              "outlinewidth": 0,
              "ticks": ""
             }
            },
            "type": "scattercarpet"
           }
          ],
          "scattergeo": [
           {
            "marker": {
             "colorbar": {
              "outlinewidth": 0,
              "ticks": ""
             }
            },
            "type": "scattergeo"
           }
          ],
          "scattergl": [
           {
            "marker": {
             "colorbar": {
              "outlinewidth": 0,
              "ticks": ""
             }
            },
            "type": "scattergl"
           }
          ],
          "scattermapbox": [
           {
            "marker": {
             "colorbar": {
              "outlinewidth": 0,
              "ticks": ""
             }
            },
            "type": "scattermapbox"
           }
          ],
          "scatterpolar": [
           {
            "marker": {
             "colorbar": {
              "outlinewidth": 0,
              "ticks": ""
             }
            },
            "type": "scatterpolar"
           }
          ],
          "scatterpolargl": [
           {
            "marker": {
             "colorbar": {
              "outlinewidth": 0,
              "ticks": ""
             }
            },
            "type": "scatterpolargl"
           }
          ],
          "scatterternary": [
           {
            "marker": {
             "colorbar": {
              "outlinewidth": 0,
              "ticks": ""
             }
            },
            "type": "scatterternary"
           }
          ],
          "surface": [
           {
            "colorbar": {
             "outlinewidth": 0,
             "ticks": ""
            },
            "colorscale": [
             [
              0,
              "#0d0887"
             ],
             [
              0.1111111111111111,
              "#46039f"
             ],
             [
              0.2222222222222222,
              "#7201a8"
             ],
             [
              0.3333333333333333,
              "#9c179e"
             ],
             [
              0.4444444444444444,
              "#bd3786"
             ],
             [
              0.5555555555555556,
              "#d8576b"
             ],
             [
              0.6666666666666666,
              "#ed7953"
             ],
             [
              0.7777777777777778,
              "#fb9f3a"
             ],
             [
              0.8888888888888888,
              "#fdca26"
             ],
             [
              1,
              "#f0f921"
             ]
            ],
            "type": "surface"
           }
          ],
          "table": [
           {
            "cells": {
             "fill": {
              "color": "#EBF0F8"
             },
             "line": {
              "color": "white"
             }
            },
            "header": {
             "fill": {
              "color": "#C8D4E3"
             },
             "line": {
              "color": "white"
             }
            },
            "type": "table"
           }
          ]
         },
         "layout": {
          "annotationdefaults": {
           "arrowcolor": "#2a3f5f",
           "arrowhead": 0,
           "arrowwidth": 1
          },
          "autotypenumbers": "strict",
          "coloraxis": {
           "colorbar": {
            "outlinewidth": 0,
            "ticks": ""
           }
          },
          "colorscale": {
           "diverging": [
            [
             0,
             "#8e0152"
            ],
            [
             0.1,
             "#c51b7d"
            ],
            [
             0.2,
             "#de77ae"
            ],
            [
             0.3,
             "#f1b6da"
            ],
            [
             0.4,
             "#fde0ef"
            ],
            [
             0.5,
             "#f7f7f7"
            ],
            [
             0.6,
             "#e6f5d0"
            ],
            [
             0.7,
             "#b8e186"
            ],
            [
             0.8,
             "#7fbc41"
            ],
            [
             0.9,
             "#4d9221"
            ],
            [
             1,
             "#276419"
            ]
           ],
           "sequential": [
            [
             0,
             "#0d0887"
            ],
            [
             0.1111111111111111,
             "#46039f"
            ],
            [
             0.2222222222222222,
             "#7201a8"
            ],
            [
             0.3333333333333333,
             "#9c179e"
            ],
            [
             0.4444444444444444,
             "#bd3786"
            ],
            [
             0.5555555555555556,
             "#d8576b"
            ],
            [
             0.6666666666666666,
             "#ed7953"
            ],
            [
             0.7777777777777778,
             "#fb9f3a"
            ],
            [
             0.8888888888888888,
             "#fdca26"
            ],
            [
             1,
             "#f0f921"
            ]
           ],
           "sequentialminus": [
            [
             0,
             "#0d0887"
            ],
            [
             0.1111111111111111,
             "#46039f"
            ],
            [
             0.2222222222222222,
             "#7201a8"
            ],
            [
             0.3333333333333333,
             "#9c179e"
            ],
            [
             0.4444444444444444,
             "#bd3786"
            ],
            [
             0.5555555555555556,
             "#d8576b"
            ],
            [
             0.6666666666666666,
             "#ed7953"
            ],
            [
             0.7777777777777778,
             "#fb9f3a"
            ],
            [
             0.8888888888888888,
             "#fdca26"
            ],
            [
             1,
             "#f0f921"
            ]
           ]
          },
          "colorway": [
           "#636efa",
           "#EF553B",
           "#00cc96",
           "#ab63fa",
           "#FFA15A",
           "#19d3f3",
           "#FF6692",
           "#B6E880",
           "#FF97FF",
           "#FECB52"
          ],
          "font": {
           "color": "#2a3f5f"
          },
          "geo": {
           "bgcolor": "white",
           "lakecolor": "white",
           "landcolor": "#E5ECF6",
           "showlakes": true,
           "showland": true,
           "subunitcolor": "white"
          },
          "hoverlabel": {
           "align": "left"
          },
          "hovermode": "closest",
          "mapbox": {
           "style": "light"
          },
          "paper_bgcolor": "white",
          "plot_bgcolor": "#E5ECF6",
          "polar": {
           "angularaxis": {
            "gridcolor": "white",
            "linecolor": "white",
            "ticks": ""
           },
           "bgcolor": "#E5ECF6",
           "radialaxis": {
            "gridcolor": "white",
            "linecolor": "white",
            "ticks": ""
           }
          },
          "scene": {
           "xaxis": {
            "backgroundcolor": "#E5ECF6",
            "gridcolor": "white",
            "gridwidth": 2,
            "linecolor": "white",
            "showbackground": true,
            "ticks": "",
            "zerolinecolor": "white"
           },
           "yaxis": {
            "backgroundcolor": "#E5ECF6",
            "gridcolor": "white",
            "gridwidth": 2,
            "linecolor": "white",
            "showbackground": true,
            "ticks": "",
            "zerolinecolor": "white"
           },
           "zaxis": {
            "backgroundcolor": "#E5ECF6",
            "gridcolor": "white",
            "gridwidth": 2,
            "linecolor": "white",
            "showbackground": true,
            "ticks": "",
            "zerolinecolor": "white"
           }
          },
          "shapedefaults": {
           "line": {
            "color": "#2a3f5f"
           }
          },
          "ternary": {
           "aaxis": {
            "gridcolor": "white",
            "linecolor": "white",
            "ticks": ""
           },
           "baxis": {
            "gridcolor": "white",
            "linecolor": "white",
            "ticks": ""
           },
           "bgcolor": "#E5ECF6",
           "caxis": {
            "gridcolor": "white",
            "linecolor": "white",
            "ticks": ""
           }
          },
          "title": {
           "x": 0.05
          },
          "xaxis": {
           "automargin": true,
           "gridcolor": "white",
           "linecolor": "white",
           "ticks": "",
           "title": {
            "standoff": 15
           },
           "zerolinecolor": "white",
           "zerolinewidth": 2
          },
          "yaxis": {
           "automargin": true,
           "gridcolor": "white",
           "linecolor": "white",
           "ticks": "",
           "title": {
            "standoff": 15
           },
           "zerolinecolor": "white",
           "zerolinewidth": 2
          }
         }
        },
        "title": {
         "text": "Scatter Plot of HDI Calculated vs GNI per Capita (PPP) by Year"
        },
        "width": 800,
        "xaxis": {
         "anchor": "y",
         "domain": [
          0,
          0.98
         ],
         "title": {
          "text": "GNI per Capita (PPP)"
         }
        },
        "xaxis2": {
         "anchor": "y2",
         "domain": [
          0,
          0.98
         ],
         "matches": "x",
         "showticklabels": false
        },
        "xaxis3": {
         "anchor": "y3",
         "domain": [
          0,
          0.98
         ],
         "matches": "x",
         "showticklabels": false
        },
        "xaxis4": {
         "anchor": "y4",
         "domain": [
          0,
          0.98
         ],
         "matches": "x",
         "showticklabels": false
        },
        "yaxis": {
         "anchor": "x",
         "domain": [
          0,
          0.2275
         ],
         "title": {
          "text": "HDI Calculated"
         }
        },
        "yaxis2": {
         "anchor": "x2",
         "domain": [
          0.2575,
          0.485
         ],
         "matches": "y",
         "title": {
          "text": "HDI_calculated"
         }
        },
        "yaxis3": {
         "anchor": "x3",
         "domain": [
          0.515,
          0.7425
         ],
         "matches": "y",
         "title": {
          "text": "HDI_calculated"
         }
        },
        "yaxis4": {
         "anchor": "x4",
         "domain": [
          0.7725,
          1
         ],
         "matches": "y",
         "title": {
          "text": "HDI_calculated"
         }
        }
       }
      },
      "text/html": [
       "<div>                            <div id=\"74f2be63-1a4b-4d80-9597-8880763885bd\" class=\"plotly-graph-div\" style=\"height:1000px; width:800px;\"></div>            <script type=\"text/javascript\">                require([\"plotly\"], function(Plotly) {                    window.PLOTLYENV=window.PLOTLYENV || {};                                    if (document.getElementById(\"74f2be63-1a4b-4d80-9597-8880763885bd\")) {                    Plotly.newPlot(                        \"74f2be63-1a4b-4d80-9597-8880763885bd\",                        [{\"customdata\":[[\"Lebanon\"],[\"Malaysia\"],[\"Kuwait\"],[\"Kazakhstan\"],[\"Jordan\"],[\"Japan\"],[\"Israel\"],[\"Iraq\"],[\"Kyrgyzstan\"],[\"Mongolia\"],[\"Saudi Arabia\"],[\"Philippines\"],[\"Pakistan\"],[\"Nepal\"],[\"Myanmar\"],[\"Iran\"],[\"Indonesia\"],[\"Cambodia\"],[\"Bangladesh\"],[\"Bahrain\"],[\"Azerbaijan\"],[\"Armenia\"],[\"China\"],[\"China\"],[\"Georgia\"],[\"Cyprus\"],[\"India\"],[\"Singapore\"],[\"Afghanistan\"],[\"Turkey\"],[\"United Arab Emirates\"],[\"Thailand\"],[\"Vietnam\"],[\"Sri Lanka\"],[\"Turkmenistan\"],[\"Uzbekistan\"],[\"Tajikistan\"],[\"Yemen\"]],\"hovertemplate\":\"Country: %{customdata[0]}\\u003cbr\\u003eGNI per Capita (PPP): %{x}\\u003cbr\\u003eHDI Calculated: %{y}\",\"legendgroup\":\"Asia\",\"marker\":{\"color\":\"#FAA598\",\"symbol\":\"circle\"},\"mode\":\"markers\",\"name\":\"Asia\",\"orientation\":\"v\",\"showlegend\":true,\"x\":[14920.0,24120.0,52880.0,23860.0,9140.0,41950.0,35130.0,10220.0,4460.0,9880.0,49450.0,8310.0,4640.0,2680.0,4180.0,13300.0,9910.0,3180.0,3790.0,42760.0,15020.0,12490.0,57450.0,12880.0,11420.0,31510.0,5400.0,81040.0,2110.0,25340.0,64640.0,15010.0,5790.0,11270.0,12890.0,6460.0,3590.0,null],\"xaxis\":\"x4\",\"y\":[0.76,0.8,0.81,0.81,0.74,0.91,0.91,0.65,0.69,0.74,0.87,0.71,0.56,0.59,0.57,0.79,0.7,0.59,0.61,0.84,0.76,0.77,0.82,0.75,0.79,0.87,0.64,0.94,0.52,0.81,0.87,0.76,0.69,0.78,0.7,0.7,0.65,null],\"yaxis\":\"y4\",\"type\":\"scatter\"},{\"customdata\":[[\"Vietnam\"],[\"Kazakhstan\"],[\"Jordan\"],[\"Japan\"],[\"Israel\"],[\"Kuwait\"],[\"Singapore\"],[\"Kyrgyzstan\"],[\"Tajikistan\"],[\"Malaysia\"],[\"Thailand\"],[\"Lebanon\"],[\"China\"],[\"Afghanistan\"],[\"Iraq\"],[\"United Arab Emirates\"],[\"Uzbekistan\"],[\"Cyprus\"],[\"China\"],[\"Cambodia\"],[\"Turkey\"],[\"Iran\"],[\"Indonesia\"],[\"Bangladesh\"],[\"India\"],[\"Turkmenistan\"],[\"Georgia\"],[\"Yemen\"],[\"Pakistan\"],[\"Sri Lanka\"],[\"Nepal\"],[\"Azerbaijan\"],[\"Armenia\"],[\"Saudi Arabia\"],[\"Myanmar\"],[\"Philippines\"],[\"Mongolia\"],[\"Bahrain\"]],\"hovertemplate\":\"Country: %{customdata[0]}\\u003cbr\\u003eGNI per Capita (PPP): %{x}\\u003cbr\\u003eHDI Calculated: %{y}\",\"legendgroup\":\"Asia\",\"marker\":{\"color\":\"#FAA598\",\"symbol\":\"circle\"},\"mode\":\"markers\",\"name\":\"Asia\",\"orientation\":\"v\",\"showlegend\":false,\"x\":[6300.0,24280.0,9120.0,41350.0,37500.0,51550.0,83020.0,5020.0,3900.0,24840.0,15800.0,15250.0,58670.0,2140.0,9720.0,63670.0,6530.0,33000.0,13400.0,3450.0,26050.0,13650.0,10160.0,4070.0,5760.0,13500.0,11760.0,null,4680.0,11900.0,2620.0,14920.0,13160.0,46110.0,4220.0,8870.0,9860.0,41860.0],\"xaxis\":\"x3\",\"y\":[0.7,0.82,0.74,0.92,0.92,0.81,0.94,0.7,0.66,0.81,0.77,0.77,0.83,0.52,0.65,0.87,0.71,0.88,0.76,0.59,0.81,0.79,0.71,0.62,0.65,0.7,0.8,null,0.56,0.78,0.59,0.76,0.78,0.86,0.57,0.71,0.75,0.86],\"yaxis\":\"y3\",\"type\":\"scatter\"},{\"customdata\":[[\"Tajikistan\"],[\"Georgia\"],[\"Uzbekistan\"],[\"Cambodia\"],[\"Azerbaijan\"],[\"Bahrain\"],[\"Philippines\"],[\"Malaysia\"],[\"United Arab Emirates\"],[\"Bangladesh\"],[\"China\"],[\"China\"],[\"Afghanistan\"],[\"Cyprus\"],[\"Yemen\"],[\"Saudi Arabia\"],[\"Jordan\"],[\"Japan\"],[\"Israel\"],[\"Kazakhstan\"],[\"Sri Lanka\"],[\"Lebanon\"],[\"Myanmar\"],[\"Thailand\"],[\"Vietnam\"],[\"Kyrgyzstan\"],[\"Nepal\"],[\"Kuwait\"],[\"Turkmenistan\"],[\"Armenia\"],[\"Mongolia\"],[\"India\"],[\"Indonesia\"],[\"Singapore\"],[\"Turkey\"],[\"Iran\"],[\"Pakistan\"],[\"Iraq\"]],\"hovertemplate\":\"Country: %{customdata[0]}\\u003cbr\\u003eGNI per Capita (PPP): %{x}\\u003cbr\\u003eHDI Calculated: %{y}\",\"legendgroup\":\"Asia\",\"marker\":{\"color\":\"#FAA598\",\"symbol\":\"circle\"},\"mode\":\"markers\",\"name\":\"Asia\",\"orientation\":\"v\",\"showlegend\":false,\"x\":[3560.0,12910.0,6650.0,3680.0,13510.0,44980.0,9320.0,25900.0,66290.0,4340.0,14140.0,62530.0,2210.0,35750.0,null,48040.0,9790.0,42290.0,38570.0,22160.0,12340.0,16070.0,4480.0,16610.0,6620.0,4800.0,3140.0,59260.0,13620.0,12540.0,9720.0,6120.0,10580.0,87440.0,27570.0,14560.0,4820.0,10850.0],\"xaxis\":\"x2\",\"y\":[0.65,0.8,0.71,0.6,0.76,0.86,0.71,0.81,0.87,0.63,0.76,0.83,0.52,0.88,null,0.87,0.75,0.92,0.92,0.82,0.79,0.77,0.58,0.78,0.71,0.7,0.6,0.81,0.7,0.78,0.75,0.65,0.71,0.95,0.82,0.79,0.57,0.67],\"yaxis\":\"y2\",\"type\":\"scatter\"},{\"customdata\":[[\"Vietnam\"],[\"Cambodia\"],[\"Afghanistan\"],[\"Azerbaijan\"],[\"Bahrain\"],[\"Uzbekistan\"],[\"Bangladesh\"],[\"Yemen\"],[\"Armenia\"],[\"Indonesia\"],[\"China\"],[\"Sri Lanka\"],[\"Nepal\"],[\"Myanmar\"],[\"Mongolia\"],[\"Malaysia\"],[\"Tajikistan\"],[\"Singapore\"],[\"Saudi Arabia\"],[\"Philippines\"],[\"Pakistan\"],[\"Lebanon\"],[\"Georgia\"],[\"United Arab Emirates\"],[\"Cyprus\"],[\"Kyrgyzstan\"],[\"Thailand\"],[\"Kuwait\"],[\"Kazakhstan\"],[\"Jordan\"],[\"Japan\"],[\"China\"],[\"Israel\"],[\"Iraq\"],[\"Iran\"],[\"Turkey\"],[\"India\"],[\"Turkmenistan\"]],\"hovertemplate\":\"Country: %{customdata[0]}\\u003cbr\\u003eGNI per Capita (PPP): %{x}\\u003cbr\\u003eHDI Calculated: %{y}\",\"legendgroup\":\"Asia\",\"marker\":{\"color\":\"#FAA598\",\"symbol\":\"circle\"},\"mode\":\"markers\",\"name\":\"Asia\",\"orientation\":\"v\",\"showlegend\":false,\"x\":[6220.27,3597.4,1745.67,15240.14,40399.12,6461.84,4057.25,1433.3,9277.23,11255.78,60220.8,11610.91,2748.2,5763.94,10783.71,27226.68,3482.38,83792.67,49338.41,9539.7,5190.08,11136.25,9569.52,66911.66,33100.32,3316.79,16128.55,71164.22,22167.7,8267.81,40799.01,16126.57,33649.69,15364.96,18166.47,24905.38,6828.6,16407.47],\"xaxis\":\"x\",\"y\":[0.7,0.6,0.51,0.76,0.85,0.71,0.62,0.48,0.76,0.72,0.95,0.79,0.59,0.6,0.74,0.81,0.66,0.95,0.87,0.72,0.57,0.74,0.79,0.87,0.88,0.68,0.78,0.82,0.82,0.73,0.92,0.77,0.91,0.7,0.81,0.82,0.66,0.71],\"yaxis\":\"y\",\"type\":\"scatter\"},{\"customdata\":[[\"Mauritania\"],[\"Mali\"],[\"Malawi\"],[\"Madagascar\"],[\"Libya\"],[\"Liberia\"],[\"Mauritius\"],[\"Kenya\"],[\"Senegal\"],[\"Rwanda\"],[\"Nigeria\"],[\"Niger\"],[\"Morocco\"],[\"Sierra Leone\"],[\"Cameroon\"],[\"Burundi\"],[\"Burkina Faso\"],[\"Botswana\"],[\"Chad\"],[\"Benin\"],[\"Algeria\"],[\"Ghana\"],[\"Gabon\"],[\"Ethiopia\"],[\"Egypt\"],[\"Zambia\"],[\"Togo\"],[\"Zimbabwe\"],[\"Uganda\"],[\"Tunisia\"],[\"South Africa\"],[\"Tanzania\"]],\"hovertemplate\":\"Country: %{customdata[0]}\\u003cbr\\u003eGNI per Capita (PPP): %{x}\\u003cbr\\u003eHDI Calculated: %{y}\",\"legendgroup\":\"Africa\",\"marker\":{\"color\":\"#AEFD8E\",\"symbol\":\"circle\"},\"mode\":\"markers\",\"name\":\"Africa\",\"orientation\":\"v\",\"showlegend\":true,\"x\":[3160.0,1990.0,990.0,1500.0,12740.0,1180.0,20860.0,3330.0,2910.0,1710.0,5280.0,840.0,7670.0,1570.0,3210.0,840.0,1460.0,15310.0,1760.0,2860.0,11700.0,5050.0,13480.0,1650.0,11160.0,3370.0,1440.0,2410.0,1750.0,9890.0,12240.0,2740.0],\"xaxis\":\"x4\",\"y\":[0.52,0.43,0.47,0.53,0.73,0.48,0.8,0.59,0.52,0.53,0.53,0.36,0.68,0.44,0.56,0.45,0.43,0.72,0.42,0.55,0.76,0.61,0.69,0.47,0.71,0.59,0.51,0.55,0.53,0.74,0.7,0.53],\"yaxis\":\"y4\",\"type\":\"scatter\"},{\"customdata\":[[\"Kenya\"],[\"Togo\"],[\"Botswana\"],[\"Tunisia\"],[\"Mauritania\"],[\"Mali\"],[\"Malawi\"],[\"Madagascar\"],[\"Tanzania\"],[\"Libya\"],[\"Benin\"],[\"Liberia\"],[\"Cameroon\"],[\"Ethiopia\"],[\"Egypt\"],[\"Chad\"],[\"Gabon\"],[\"Burkina Faso\"],[\"Uganda\"],[\"Burundi\"],[\"Ghana\"],[\"Mauritius\"],[\"Nigeria\"],[\"Niger\"],[\"Zambia\"],[\"South Africa\"],[\"Sierra Leone\"],[\"Senegal\"],[\"Zimbabwe\"],[\"Rwanda\"],[\"Algeria\"],[\"Morocco\"]],\"hovertemplate\":\"Country: %{customdata[0]}\\u003cbr\\u003eGNI per Capita (PPP): %{x}\\u003cbr\\u003eHDI Calculated: %{y}\",\"legendgroup\":\"Africa\",\"marker\":{\"color\":\"#AEFD8E\",\"symbol\":\"circle\"},\"mode\":\"markers\",\"name\":\"Africa\",\"orientation\":\"v\",\"showlegend\":false,\"x\":[3620.0,1470.0,16600.0,10070.0,3350.0,2130.0,1020.0,1550.0,2860.0,11430.0,2980.0,1260.0,3350.0,1870.0,10850.0,1630.0,13180.0,1550.0,1690.0,800.0,4800.0,22390.0,5120.0,820.0,3330.0,12240.0,1420.0,3000.0,2570.0,1790.0,11520.0,7730.0],\"xaxis\":\"x3\",\"y\":[0.6,0.52,0.73,0.75,0.53,0.44,0.48,0.53,0.54,0.72,0.55,0.49,0.57,0.48,0.71,0.42,0.69,0.44,0.53,0.45,0.61,0.81,0.54,0.36,0.6,0.7,0.44,0.53,0.56,0.54,0.76,0.68],\"yaxis\":\"y3\",\"type\":\"scatter\"},{\"customdata\":[[\"Liberia\"],[\"Gabon\"],[\"Algeria\"],[\"Mali\"],[\"South Africa\"],[\"Burkina Faso\"],[\"Uganda\"],[\"Burundi\"],[\"Ghana\"],[\"Ethiopia\"],[\"Mauritania\"],[\"Zimbabwe\"],[\"Sierra Leone\"],[\"Chad\"],[\"Cameroon\"],[\"Rwanda\"],[\"Egypt\"],[\"Senegal\"],[\"Togo\"],[\"Tanzania\"],[\"Niger\"],[\"Tunisia\"],[\"Botswana\"],[\"Morocco\"],[\"Benin\"],[\"Libya\"],[\"Kenya\"],[\"Nigeria\"],[\"Malawi\"],[\"Mauritius\"],[\"Madagascar\"],[\"Zambia\"]],\"hovertemplate\":\"Country: %{customdata[0]}\\u003cbr\\u003eGNI per Capita (PPP): %{x}\\u003cbr\\u003eHDI Calculated: %{y}\",\"legendgroup\":\"Africa\",\"marker\":{\"color\":\"#AEFD8E\",\"symbol\":\"circle\"},\"mode\":\"markers\",\"name\":\"Africa\",\"orientation\":\"v\",\"showlegend\":false,\"x\":[1380.0,14060.0,11370.0,2180.0,12320.0,1730.0,1710.0,770.0,4860.0,2010.0,3610.0,2860.0,1590.0,1570.0,3490.0,1910.0,10800.0,3140.0,1520.0,3020.0,830.0,10280.0,16680.0,8110.0,3010.0,13690.0,4000.0,5030.0,1030.0,23560.0,1540.0,3330.0],\"xaxis\":\"x2\",\"y\":[0.5,0.7,0.76,0.45,0.71,0.44,0.54,0.45,0.61,0.49,0.53,0.57,0.45,0.41,0.57,0.54,0.71,0.54,0.52,0.54,0.36,0.75,0.73,0.69,0.55,0.73,0.61,0.54,0.48,0.81,0.54,0.6],\"yaxis\":\"y2\",\"type\":\"scatter\"},{\"customdata\":[[\"Burkina Faso\"],[\"Algeria\"],[\"Zambia\"],[\"Benin\"],[\"Chad\"],[\"Cameroon\"],[\"Botswana\"],[\"Burundi\"],[\"Morocco\"],[\"Mauritius\"],[\"Mauritania\"],[\"Mali\"],[\"Malawi\"],[\"Madagascar\"],[\"Tanzania\"],[\"Libya\"],[\"Niger\"],[\"Sierra Leone\"],[\"Senegal\"],[\"Rwanda\"],[\"South Africa\"],[\"Nigeria\"],[\"Liberia\"],[\"Ghana\"],[\"Gabon\"],[\"Ethiopia\"],[\"Egypt\"],[\"Uganda\"],[\"Kenya\"],[\"Togo\"],[\"Tunisia\"],[\"Zimbabwe\"]],\"hovertemplate\":\"Country: %{customdata[0]}\\u003cbr\\u003eGNI per Capita (PPP): %{x}\\u003cbr\\u003eHDI Calculated: %{y}\",\"legendgroup\":\"Africa\",\"marker\":{\"color\":\"#AEFD8E\",\"symbol\":\"circle\"},\"mode\":\"markers\",\"name\":\"Africa\",\"orientation\":\"v\",\"showlegend\":false,\"x\":[1705.49,13639.43,3581.89,2134.59,1715.57,3291.13,15951.33,659.73,7479.59,22724.23,3746.08,1965.39,1159.12,1403.92,2805.12,11684.73,912.04,1381.3,3255.99,1958.61,11756.3,5085.54,1040.09,4098.86,15794.08,1781.76,10743.81,1752.21,3051.69,1592.54,10676.96,2661.07],\"xaxis\":\"x\",\"y\":[0.45,0.77,0.6,0.54,0.41,0.57,0.73,0.44,0.69,0.81,0.54,0.44,0.5,0.53,0.53,0.72,0.39,0.45,0.53,0.55,0.71,0.54,0.47,0.6,0.71,0.48,0.71,0.54,0.59,0.53,0.76,0.57],\"yaxis\":\"y\",\"type\":\"scatter\"},{\"customdata\":[[\"Malta\"],[\"Luxembourg\"],[\"Lithuania\"],[\"Latvia\"],[\"Italy\"],[\"Ireland\"],[\"Moldova\"],[\"Serbia\"],[\"Russia\"],[\"Romania\"],[\"Portugal\"],[\"Poland\"],[\"Norway\"],[\"Netherlands\"],[\"Montenegro\"],[\"Iceland\"],[\"Bulgaria\"],[\"Bosnia and Herzegovina\"],[\"Belarus\"],[\"Austria\"],[\"Albania\"],[\"Belgium\"],[\"Hungary\"],[\"Greece\"],[\"Germany\"],[\"France\"],[\"Finland\"],[\"Estonia\"],[\"Denmark\"],[\"Croatia\"],[\"Ukraine\"],[\"Sweden\"],[\"Slovenia\"],[\"United Kingdom\"],[\"Spain\"],[\"Switzerland\"],[\"Slovakia\"]],\"hovertemplate\":\"Country: %{customdata[0]}\\u003cbr\\u003eGNI per Capita (PPP): %{x}\\u003cbr\\u003eHDI Calculated: %{y}\",\"legendgroup\":\"Europe\",\"marker\":{\"color\":\"#E3C97F\",\"symbol\":\"circle\"},\"mode\":\"markers\",\"name\":\"Europe\",\"orientation\":\"v\",\"showlegend\":true,\"x\":[34280.0,67590.0,27780.0,24690.0,36650.0,52990.0,11290.0,14230.0,23420.0,21130.0,28870.0,25880.0,63030.0,50340.0,16700.0,46480.0,17820.0,12100.0,19260.0,49390.0,11800.0,46870.0,25460.0,26940.0,48770.0,41740.0,42950.0,28570.0,50560.0,22870.0,7880.0,49420.0,30660.0,41550.0,34900.0,65450.0,28950.0],\"xaxis\":\"x4\",\"y\":[0.89,0.91,0.86,0.85,0.89,0.96,0.74,0.79,0.82,0.82,0.86,0.87,0.95,0.94,0.82,0.96,0.82,0.77,0.82,0.91,0.79,0.95,0.84,0.89,0.94,0.91,0.93,0.88,0.95,0.84,0.75,0.94,0.9,0.93,0.9,0.95,0.86],\"yaxis\":\"y4\",\"type\":\"scatter\"},{\"customdata\":[[\"Italy\"],[\"Bosnia and Herzegovina\"],[\"Malta\"],[\"Belarus\"],[\"Belgium\"],[\"Luxembourg\"],[\"Lithuania\"],[\"Ireland\"],[\"Estonia\"],[\"United Kingdom\"],[\"Finland\"],[\"Denmark\"],[\"Croatia\"],[\"France\"],[\"Bulgaria\"],[\"Iceland\"],[\"Hungary\"],[\"Greece\"],[\"Germany\"],[\"Ukraine\"],[\"Latvia\"],[\"Spain\"],[\"Norway\"],[\"Austria\"],[\"Netherlands\"],[\"Serbia\"],[\"Slovakia\"],[\"Albania\"],[\"Russia\"],[\"Slovenia\"],[\"Romania\"],[\"Portugal\"],[\"Poland\"],[\"Sweden\"],[\"Switzerland\"],[\"Moldova\"],[\"Montenegro\"]],\"hovertemplate\":\"Country: %{customdata[0]}\\u003cbr\\u003eGNI per Capita (PPP): %{x}\\u003cbr\\u003eHDI Calculated: %{y}\",\"legendgroup\":\"Europe\",\"marker\":{\"color\":\"#E3C97F\",\"symbol\":\"circle\"},\"mode\":\"markers\",\"name\":\"Europe\",\"orientation\":\"v\",\"showlegend\":false,\"x\":[40030.0,13090.0,35720.0,19280.0,49090.0,70450.0,29790.0,59070.0,30510.0,43100.0,45150.0,53110.0,24130.0,43830.0,19760.0,50990.0,26990.0,27820.0,51810.0,8210.0,26340.0,37370.0,61840.0,52630.0,51510.0,14960.0,29160.0,12270.0,23570.0,33010.0,23680.0,30840.0,27170.0,50780.0,66080.0,13060.0,18360.0],\"xaxis\":\"x3\",\"y\":[0.9,0.78,0.89,0.83,0.95,0.91,0.87,0.97,0.88,0.93,0.93,0.96,0.84,0.91,0.82,0.96,0.85,0.89,0.95,0.76,0.86,0.91,0.96,0.92,0.94,0.8,0.86,0.79,0.82,0.91,0.82,0.87,0.88,0.94,0.96,0.75,0.82],\"yaxis\":\"y3\",\"type\":\"scatter\"},{\"customdata\":[[\"Ukraine\"],[\"Portugal\"],[\"France\"],[\"Slovenia\"],[\"Finland\"],[\"Romania\"],[\"Moldova\"],[\"Germany\"],[\"Belarus\"],[\"Poland\"],[\"Greece\"],[\"Croatia\"],[\"Serbia\"],[\"Switzerland\"],[\"Denmark\"],[\"Estonia\"],[\"Russia\"],[\"Malta\"],[\"United Kingdom\"],[\"Albania\"],[\"Slovakia\"],[\"Lithuania\"],[\"Belgium\"],[\"Bosnia and Herzegovina\"],[\"Italy\"],[\"Latvia\"],[\"Netherlands\"],[\"Austria\"],[\"Sweden\"],[\"Montenegro\"],[\"Luxembourg\"],[\"Hungary\"],[\"Bulgaria\"],[\"Iceland\"],[\"Ireland\"],[\"Norway\"],[\"Spain\"]],\"hovertemplate\":\"Country: %{customdata[0]}\\u003cbr\\u003eGNI per Capita (PPP): %{x}\\u003cbr\\u003eHDI Calculated: %{y}\",\"legendgroup\":\"Europe\",\"marker\":{\"color\":\"#E3C97F\",\"symbol\":\"circle\"},\"mode\":\"markers\",\"name\":\"Europe\",\"orientation\":\"v\",\"showlegend\":false,\"x\":[8460.0,32310.0,45850.0,35990.0,47480.0,26620.0,12320.0,54370.0,17580.0,28900.0,29150.0,26310.0,15510.0,67890.0,56360.0,32930.0,25380.0,38370.0,45430.0,13130.0,30410.0,32560.0,51320.0,13790.0,42010.0,28360.0,55770.0,54150.0,53490.0,20110.0,72750.0,28340.0,21460.0,54380.0,61590.0,65730.0,39570.0],\"xaxis\":\"x2\",\"y\":[0.76,0.87,0.92,0.91,0.94,0.83,0.74,0.95,0.82,0.88,0.89,0.85,0.8,0.96,0.96,0.89,0.83,0.9,0.93,0.8,0.86,0.88,0.96,0.79,0.9,0.86,0.95,0.92,0.95,0.83,0.91,0.85,0.83,0.97,0.97,0.96,0.91],\"yaxis\":\"y2\",\"type\":\"scatter\"},{\"customdata\":[[\"Albania\"],[\"Belarus\"],[\"Bulgaria\"],[\"Austria\"],[\"Bosnia and Herzegovina\"],[\"Belgium\"],[\"Montenegro\"],[\"Sweden\"],[\"Moldova\"],[\"Switzerland\"],[\"Malta\"],[\"Luxembourg\"],[\"Lithuania\"],[\"Netherlands\"],[\"Serbia\"],[\"Slovakia\"],[\"Russia\"],[\"Romania\"],[\"Portugal\"],[\"Slovenia\"],[\"Poland\"],[\"Norway\"],[\"Spain\"],[\"Latvia\"],[\"Germany\"],[\"Ukraine\"],[\"France\"],[\"Finland\"],[\"Estonia\"],[\"United Kingdom\"],[\"Denmark\"],[\"Croatia\"],[\"Greece\"],[\"Italy\"],[\"Ireland\"],[\"Iceland\"],[\"Hungary\"]],\"hovertemplate\":\"Country: %{customdata[0]}\\u003cbr\\u003eGNI per Capita (PPP): %{x}\\u003cbr\\u003eHDI Calculated: %{y}\",\"legendgroup\":\"Europe\",\"marker\":{\"color\":\"#E3C97F\",\"symbol\":\"circle\"},\"mode\":\"markers\",\"name\":\"Europe\",\"orientation\":\"v\",\"showlegend\":false,\"x\":[12299.8,17038.53,19645.94,46230.57,12689.68,43820.84,17510.71,47955.45,6833.11,59374.73,34795.18,65543.05,29775.26,50012.59,15217.7,30671.87,25036.02,23905.77,27935.38,32143.04,27625.8,68058.62,35041.3,26300.77,46945.95,7994.21,40510.78,41779.26,30378.63,39507.29,48836.09,23060.96,24909.34,36141.43,55659.68,47566.45,27144.21],\"xaxis\":\"x\",\"y\":[0.8,0.82,0.82,0.92,0.78,0.95,0.82,0.96,0.71,0.95,0.89,0.91,0.88,0.94,0.81,0.86,0.83,0.82,0.86,0.91,0.88,0.96,0.91,0.86,0.94,0.76,0.9,0.95,0.89,0.93,0.95,0.84,0.88,0.89,0.96,0.96,0.85],\"yaxis\":\"y\",\"type\":\"scatter\"},{\"customdata\":[[\"Jamaica\"],[\"Peru\"],[\"Paraguay\"],[\"Panama\"],[\"Nicaragua\"],[\"Brazil\"],[\"Bolivia\"],[\"Argentina\"],[\"Chile\"],[\"Honduras\"],[\"Haiti\"],[\"Guinea\"],[\"Guatemala\"],[\"El Salvador\"],[\"Ecuador\"],[\"Dominican Republic\"],[\"Costa Rica\"],[\"Colombia\"],[\"Venezuela\"],[\"Uruguay\"]],\"hovertemplate\":\"Country: %{customdata[0]}\\u003cbr\\u003eGNI per Capita (PPP): %{x}\\u003cbr\\u003eHDI Calculated: %{y}\",\"legendgroup\":\"South America\",\"marker\":{\"color\":\"#E8EAC8\",\"symbol\":\"circle\"},\"mode\":\"markers\",\"name\":\"South America\",\"orientation\":\"v\",\"showlegend\":true,\"x\":[8520.0,11180.0,11040.0,22810.0,5150.0,14470.0,6890.0,19650.0,22010.0,4490.0,1710.0,1790.0,7830.0,7240.0,10870.0,14130.0,16310.0,13700.0,null,19310.0],\"xaxis\":\"x4\",\"y\":[0.73,0.76,0.73,0.8,0.66,0.77,0.7,0.84,0.85,0.63,0.5,0.46,0.66,0.68,0.76,0.75,0.81,0.77,null,0.82],\"yaxis\":\"y4\",\"type\":\"scatter\"},{\"customdata\":[[\"Jamaica\"],[\"Bolivia\"],[\"Venezuela\"],[\"El Salvador\"],[\"Ecuador\"],[\"Chile\"],[\"Costa Rica\"],[\"Colombia\"],[\"Dominican Republic\"],[\"Honduras\"],[\"Haiti\"],[\"Guinea\"],[\"Guatemala\"],[\"Brazil\"],[\"Panama\"],[\"Nicaragua\"],[\"Paraguay\"],[\"Peru\"],[\"Argentina\"],[\"Uruguay\"]],\"hovertemplate\":\"Country: %{customdata[0]}\\u003cbr\\u003eGNI per Capita (PPP): %{x}\\u003cbr\\u003eHDI Calculated: %{y}\",\"legendgroup\":\"South America\",\"marker\":{\"color\":\"#E8EAC8\",\"symbol\":\"circle\"},\"mode\":\"markers\",\"name\":\"South America\",\"orientation\":\"v\",\"showlegend\":false,\"x\":[8800.0,7360.0,null,7620.0,10830.0,22080.0,17230.0,13800.0,15420.0,4790.0,1770.0,2050.0,7910.0,13950.0,25080.0,5540.0,11540.0,11510.0,19710.0,19650.0],\"xaxis\":\"x3\",\"y\":[0.74,0.71,null,0.69,0.76,0.85,0.81,0.77,0.75,0.63,0.51,0.47,0.66,0.77,0.81,0.67,0.73,0.76,0.84,0.82],\"yaxis\":\"y3\",\"type\":\"scatter\"},{\"customdata\":[[\"Peru\"],[\"Guatemala\"],[\"Argentina\"],[\"Haiti\"],[\"Costa Rica\"],[\"Chile\"],[\"Colombia\"],[\"Uruguay\"],[\"El Salvador\"],[\"Ecuador\"],[\"Dominican Republic\"],[\"Venezuela\"],[\"Guinea\"],[\"Honduras\"],[\"Nicaragua\"],[\"Jamaica\"],[\"Paraguay\"],[\"Bolivia\"],[\"Panama\"],[\"Brazil\"]],\"hovertemplate\":\"Country: %{customdata[0]}\\u003cbr\\u003eGNI per Capita (PPP): %{x}\\u003cbr\\u003eHDI Calculated: %{y}\",\"legendgroup\":\"South America\",\"marker\":{\"color\":\"#E8EAC8\",\"symbol\":\"circle\"},\"mode\":\"markers\",\"name\":\"South America\",\"orientation\":\"v\",\"showlegend\":false,\"x\":[11930.0,8200.0,22960.0,1770.0,18040.0,22750.0,14050.0,20060.0,7970.0,11350.0,15940.0,null,2410.0,5220.0,5850.0,9320.0,12210.0,8190.0,27640.0,14250.0],\"xaxis\":\"x2\",\"y\":[0.76,0.67,0.85,0.51,0.82,0.86,0.77,0.82,0.69,0.77,0.75,null,0.48,0.64,0.67,0.74,0.73,0.72,0.81,0.78],\"yaxis\":\"y2\",\"type\":\"scatter\"},{\"customdata\":[[\"Argentina\"],[\"Chile\"],[\"Uruguay\"],[\"Venezuela\"],[\"Bolivia\"],[\"Brazil\"],[\"Peru\"],[\"Paraguay\"],[\"Panama\"],[\"Nicaragua\"],[\"El Salvador\"],[\"Ecuador\"],[\"Dominican Republic\"],[\"Costa Rica\"],[\"Colombia\"],[\"Guatemala\"],[\"Guinea\"],[\"Jamaica\"],[\"Honduras\"],[\"Haiti\"]],\"hovertemplate\":\"Country: %{customdata[0]}\\u003cbr\\u003eGNI per Capita (PPP): %{x}\\u003cbr\\u003eHDI Calculated: %{y}\",\"legendgroup\":\"South America\",\"marker\":{\"color\":\"#E8EAC8\",\"symbol\":\"circle\"},\"mode\":\"markers\",\"name\":\"South America\",\"orientation\":\"v\",\"showlegend\":false,\"x\":[17611.22,21972.28,19434.85,9069.7,6849.2,14068.05,12322.66,11719.96,20454.87,4789.84,6973.46,10141.15,15074.26,14789.93,12895.59,7377.92,2211.0,7931.52,4258.35,1664.89],\"xaxis\":\"x\",\"y\":[0.84,0.86,0.82,0.73,0.71,0.78,0.77,0.73,0.8,0.66,0.68,0.77,0.76,0.81,0.77,0.66,0.48,0.73,0.63,0.51],\"yaxis\":\"y\",\"type\":\"scatter\"},{\"customdata\":[[\"Mexico\"],[\"Canada\"],[\"United States\"]],\"hovertemplate\":\"Country: %{customdata[0]}\\u003cbr\\u003eGNI per Capita (PPP): %{x}\\u003cbr\\u003eHDI Calculated: %{y}\",\"legendgroup\":\"North America\",\"marker\":{\"color\":\"#B47FE3\",\"symbol\":\"circle\"},\"mode\":\"markers\",\"name\":\"North America\",\"orientation\":\"v\",\"showlegend\":true,\"x\":[17830.0,43990.0,58340.0],\"xaxis\":\"x4\",\"y\":[0.77,0.93,0.93],\"yaxis\":\"y4\",\"type\":\"scatter\"},{\"customdata\":[[\"Canada\"],[\"United States\"],[\"Mexico\"]],\"hovertemplate\":\"Country: %{customdata[0]}\\u003cbr\\u003eGNI per Capita (PPP): %{x}\\u003cbr\\u003eHDI Calculated: %{y}\",\"legendgroup\":\"North America\",\"marker\":{\"color\":\"#B47FE3\",\"symbol\":\"circle\"},\"mode\":\"markers\",\"name\":\"North America\",\"orientation\":\"v\",\"showlegend\":false,\"x\":[45910.0,58970.0,18810.0],\"xaxis\":\"x3\",\"y\":[0.93,0.93,0.78],\"yaxis\":\"y3\",\"type\":\"scatter\"},{\"customdata\":[[\"United States\"],[\"Canada\"],[\"Mexico\"]],\"hovertemplate\":\"Country: %{customdata[0]}\\u003cbr\\u003eGNI per Capita (PPP): %{x}\\u003cbr\\u003eHDI Calculated: %{y}\",\"legendgroup\":\"North America\",\"marker\":{\"color\":\"#B47FE3\",\"symbol\":\"circle\"},\"mode\":\"markers\",\"name\":\"North America\",\"orientation\":\"v\",\"showlegend\":false,\"x\":[61020.0,48070.0,19300.0],\"xaxis\":\"x2\",\"y\":[0.93,0.94,0.78],\"yaxis\":\"y2\",\"type\":\"scatter\"},{\"customdata\":[[\"Canada\"],[\"Mexico\"],[\"United States\"]],\"hovertemplate\":\"Country: %{customdata[0]}\\u003cbr\\u003eGNI per Capita (PPP): %{x}\\u003cbr\\u003eHDI Calculated: %{y}\",\"legendgroup\":\"North America\",\"marker\":{\"color\":\"#B47FE3\",\"symbol\":\"circle\"},\"mode\":\"markers\",\"name\":\"North America\",\"orientation\":\"v\",\"showlegend\":false,\"x\":[43602.25,17628.12,56140.23],\"xaxis\":\"x\",\"y\":[0.93,0.78,0.93],\"yaxis\":\"y\",\"type\":\"scatter\"},{\"customdata\":[[\"New Zealand\"],[\"Australia\"]],\"hovertemplate\":\"Country: %{customdata[0]}\\u003cbr\\u003eGNI per Capita (PPP): %{x}\\u003cbr\\u003eHDI Calculated: %{y}\",\"legendgroup\":\"Australia\",\"marker\":{\"color\":\"#B2E4FA\",\"symbol\":\"circle\"},\"mode\":\"markers\",\"name\":\"Australia\",\"orientation\":\"v\",\"showlegend\":true,\"x\":[36210.0,45330.0],\"xaxis\":\"x4\",\"y\":[0.94,0.96],\"yaxis\":\"y4\",\"type\":\"scatter\"},{\"customdata\":[[\"Australia\"],[\"New Zealand\"]],\"hovertemplate\":\"Country: %{customdata[0]}\\u003cbr\\u003eGNI per Capita (PPP): %{x}\\u003cbr\\u003eHDI Calculated: %{y}\",\"legendgroup\":\"Australia\",\"marker\":{\"color\":\"#B2E4FA\",\"symbol\":\"circle\"},\"mode\":\"markers\",\"name\":\"Australia\",\"orientation\":\"v\",\"showlegend\":false,\"x\":[46230.0,38630.0],\"xaxis\":\"x3\",\"y\":[0.96,0.94],\"yaxis\":\"y3\",\"type\":\"scatter\"},{\"customdata\":[[\"Australia\"],[\"New Zealand\"]],\"hovertemplate\":\"Country: %{customdata[0]}\\u003cbr\\u003eGNI per Capita (PPP): %{x}\\u003cbr\\u003eHDI Calculated: %{y}\",\"legendgroup\":\"Australia\",\"marker\":{\"color\":\"#B2E4FA\",\"symbol\":\"circle\"},\"mode\":\"markers\",\"name\":\"Australia\",\"orientation\":\"v\",\"showlegend\":false,\"x\":[47580.0,39330.0],\"xaxis\":\"x2\",\"y\":[0.97,0.94],\"yaxis\":\"y2\",\"type\":\"scatter\"},{\"customdata\":[[\"Australia\"],[\"New Zealand\"]],\"hovertemplate\":\"Country: %{customdata[0]}\\u003cbr\\u003eGNI per Capita (PPP): %{x}\\u003cbr\\u003eHDI Calculated: %{y}\",\"legendgroup\":\"Australia\",\"marker\":{\"color\":\"#B2E4FA\",\"symbol\":\"circle\"},\"mode\":\"markers\",\"name\":\"Australia\",\"orientation\":\"v\",\"showlegend\":false,\"x\":[44097.02,35107.5],\"xaxis\":\"x\",\"y\":[0.99,0.94],\"yaxis\":\"y\",\"type\":\"scatter\"}],                        {\"template\":{\"data\":{\"histogram2dcontour\":[{\"type\":\"histogram2dcontour\",\"colorbar\":{\"outlinewidth\":0,\"ticks\":\"\"},\"colorscale\":[[0.0,\"#0d0887\"],[0.1111111111111111,\"#46039f\"],[0.2222222222222222,\"#7201a8\"],[0.3333333333333333,\"#9c179e\"],[0.4444444444444444,\"#bd3786\"],[0.5555555555555556,\"#d8576b\"],[0.6666666666666666,\"#ed7953\"],[0.7777777777777778,\"#fb9f3a\"],[0.8888888888888888,\"#fdca26\"],[1.0,\"#f0f921\"]]}],\"choropleth\":[{\"type\":\"choropleth\",\"colorbar\":{\"outlinewidth\":0,\"ticks\":\"\"}}],\"histogram2d\":[{\"type\":\"histogram2d\",\"colorbar\":{\"outlinewidth\":0,\"ticks\":\"\"},\"colorscale\":[[0.0,\"#0d0887\"],[0.1111111111111111,\"#46039f\"],[0.2222222222222222,\"#7201a8\"],[0.3333333333333333,\"#9c179e\"],[0.4444444444444444,\"#bd3786\"],[0.5555555555555556,\"#d8576b\"],[0.6666666666666666,\"#ed7953\"],[0.7777777777777778,\"#fb9f3a\"],[0.8888888888888888,\"#fdca26\"],[1.0,\"#f0f921\"]]}],\"heatmap\":[{\"type\":\"heatmap\",\"colorbar\":{\"outlinewidth\":0,\"ticks\":\"\"},\"colorscale\":[[0.0,\"#0d0887\"],[0.1111111111111111,\"#46039f\"],[0.2222222222222222,\"#7201a8\"],[0.3333333333333333,\"#9c179e\"],[0.4444444444444444,\"#bd3786\"],[0.5555555555555556,\"#d8576b\"],[0.6666666666666666,\"#ed7953\"],[0.7777777777777778,\"#fb9f3a\"],[0.8888888888888888,\"#fdca26\"],[1.0,\"#f0f921\"]]}],\"heatmapgl\":[{\"type\":\"heatmapgl\",\"colorbar\":{\"outlinewidth\":0,\"ticks\":\"\"},\"colorscale\":[[0.0,\"#0d0887\"],[0.1111111111111111,\"#46039f\"],[0.2222222222222222,\"#7201a8\"],[0.3333333333333333,\"#9c179e\"],[0.4444444444444444,\"#bd3786\"],[0.5555555555555556,\"#d8576b\"],[0.6666666666666666,\"#ed7953\"],[0.7777777777777778,\"#fb9f3a\"],[0.8888888888888888,\"#fdca26\"],[1.0,\"#f0f921\"]]}],\"contourcarpet\":[{\"type\":\"contourcarpet\",\"colorbar\":{\"outlinewidth\":0,\"ticks\":\"\"}}],\"contour\":[{\"type\":\"contour\",\"colorbar\":{\"outlinewidth\":0,\"ticks\":\"\"},\"colorscale\":[[0.0,\"#0d0887\"],[0.1111111111111111,\"#46039f\"],[0.2222222222222222,\"#7201a8\"],[0.3333333333333333,\"#9c179e\"],[0.4444444444444444,\"#bd3786\"],[0.5555555555555556,\"#d8576b\"],[0.6666666666666666,\"#ed7953\"],[0.7777777777777778,\"#fb9f3a\"],[0.8888888888888888,\"#fdca26\"],[1.0,\"#f0f921\"]]}],\"surface\":[{\"type\":\"surface\",\"colorbar\":{\"outlinewidth\":0,\"ticks\":\"\"},\"colorscale\":[[0.0,\"#0d0887\"],[0.1111111111111111,\"#46039f\"],[0.2222222222222222,\"#7201a8\"],[0.3333333333333333,\"#9c179e\"],[0.4444444444444444,\"#bd3786\"],[0.5555555555555556,\"#d8576b\"],[0.6666666666666666,\"#ed7953\"],[0.7777777777777778,\"#fb9f3a\"],[0.8888888888888888,\"#fdca26\"],[1.0,\"#f0f921\"]]}],\"mesh3d\":[{\"type\":\"mesh3d\",\"colorbar\":{\"outlinewidth\":0,\"ticks\":\"\"}}],\"scatter\":[{\"fillpattern\":{\"fillmode\":\"overlay\",\"size\":10,\"solidity\":0.2},\"type\":\"scatter\"}],\"parcoords\":[{\"type\":\"parcoords\",\"line\":{\"colorbar\":{\"outlinewidth\":0,\"ticks\":\"\"}}}],\"scatterpolargl\":[{\"type\":\"scatterpolargl\",\"marker\":{\"colorbar\":{\"outlinewidth\":0,\"ticks\":\"\"}}}],\"bar\":[{\"error_x\":{\"color\":\"#2a3f5f\"},\"error_y\":{\"color\":\"#2a3f5f\"},\"marker\":{\"line\":{\"color\":\"#E5ECF6\",\"width\":0.5},\"pattern\":{\"fillmode\":\"overlay\",\"size\":10,\"solidity\":0.2}},\"type\":\"bar\"}],\"scattergeo\":[{\"type\":\"scattergeo\",\"marker\":{\"colorbar\":{\"outlinewidth\":0,\"ticks\":\"\"}}}],\"scatterpolar\":[{\"type\":\"scatterpolar\",\"marker\":{\"colorbar\":{\"outlinewidth\":0,\"ticks\":\"\"}}}],\"histogram\":[{\"marker\":{\"pattern\":{\"fillmode\":\"overlay\",\"size\":10,\"solidity\":0.2}},\"type\":\"histogram\"}],\"scattergl\":[{\"type\":\"scattergl\",\"marker\":{\"colorbar\":{\"outlinewidth\":0,\"ticks\":\"\"}}}],\"scatter3d\":[{\"type\":\"scatter3d\",\"line\":{\"colorbar\":{\"outlinewidth\":0,\"ticks\":\"\"}},\"marker\":{\"colorbar\":{\"outlinewidth\":0,\"ticks\":\"\"}}}],\"scattermapbox\":[{\"type\":\"scattermapbox\",\"marker\":{\"colorbar\":{\"outlinewidth\":0,\"ticks\":\"\"}}}],\"scatterternary\":[{\"type\":\"scatterternary\",\"marker\":{\"colorbar\":{\"outlinewidth\":0,\"ticks\":\"\"}}}],\"scattercarpet\":[{\"type\":\"scattercarpet\",\"marker\":{\"colorbar\":{\"outlinewidth\":0,\"ticks\":\"\"}}}],\"carpet\":[{\"aaxis\":{\"endlinecolor\":\"#2a3f5f\",\"gridcolor\":\"white\",\"linecolor\":\"white\",\"minorgridcolor\":\"white\",\"startlinecolor\":\"#2a3f5f\"},\"baxis\":{\"endlinecolor\":\"#2a3f5f\",\"gridcolor\":\"white\",\"linecolor\":\"white\",\"minorgridcolor\":\"white\",\"startlinecolor\":\"#2a3f5f\"},\"type\":\"carpet\"}],\"table\":[{\"cells\":{\"fill\":{\"color\":\"#EBF0F8\"},\"line\":{\"color\":\"white\"}},\"header\":{\"fill\":{\"color\":\"#C8D4E3\"},\"line\":{\"color\":\"white\"}},\"type\":\"table\"}],\"barpolar\":[{\"marker\":{\"line\":{\"color\":\"#E5ECF6\",\"width\":0.5},\"pattern\":{\"fillmode\":\"overlay\",\"size\":10,\"solidity\":0.2}},\"type\":\"barpolar\"}],\"pie\":[{\"automargin\":true,\"type\":\"pie\"}]},\"layout\":{\"autotypenumbers\":\"strict\",\"colorway\":[\"#636efa\",\"#EF553B\",\"#00cc96\",\"#ab63fa\",\"#FFA15A\",\"#19d3f3\",\"#FF6692\",\"#B6E880\",\"#FF97FF\",\"#FECB52\"],\"font\":{\"color\":\"#2a3f5f\"},\"hovermode\":\"closest\",\"hoverlabel\":{\"align\":\"left\"},\"paper_bgcolor\":\"white\",\"plot_bgcolor\":\"#E5ECF6\",\"polar\":{\"bgcolor\":\"#E5ECF6\",\"angularaxis\":{\"gridcolor\":\"white\",\"linecolor\":\"white\",\"ticks\":\"\"},\"radialaxis\":{\"gridcolor\":\"white\",\"linecolor\":\"white\",\"ticks\":\"\"}},\"ternary\":{\"bgcolor\":\"#E5ECF6\",\"aaxis\":{\"gridcolor\":\"white\",\"linecolor\":\"white\",\"ticks\":\"\"},\"baxis\":{\"gridcolor\":\"white\",\"linecolor\":\"white\",\"ticks\":\"\"},\"caxis\":{\"gridcolor\":\"white\",\"linecolor\":\"white\",\"ticks\":\"\"}},\"coloraxis\":{\"colorbar\":{\"outlinewidth\":0,\"ticks\":\"\"}},\"colorscale\":{\"sequential\":[[0.0,\"#0d0887\"],[0.1111111111111111,\"#46039f\"],[0.2222222222222222,\"#7201a8\"],[0.3333333333333333,\"#9c179e\"],[0.4444444444444444,\"#bd3786\"],[0.5555555555555556,\"#d8576b\"],[0.6666666666666666,\"#ed7953\"],[0.7777777777777778,\"#fb9f3a\"],[0.8888888888888888,\"#fdca26\"],[1.0,\"#f0f921\"]],\"sequentialminus\":[[0.0,\"#0d0887\"],[0.1111111111111111,\"#46039f\"],[0.2222222222222222,\"#7201a8\"],[0.3333333333333333,\"#9c179e\"],[0.4444444444444444,\"#bd3786\"],[0.5555555555555556,\"#d8576b\"],[0.6666666666666666,\"#ed7953\"],[0.7777777777777778,\"#fb9f3a\"],[0.8888888888888888,\"#fdca26\"],[1.0,\"#f0f921\"]],\"diverging\":[[0,\"#8e0152\"],[0.1,\"#c51b7d\"],[0.2,\"#de77ae\"],[0.3,\"#f1b6da\"],[0.4,\"#fde0ef\"],[0.5,\"#f7f7f7\"],[0.6,\"#e6f5d0\"],[0.7,\"#b8e186\"],[0.8,\"#7fbc41\"],[0.9,\"#4d9221\"],[1,\"#276419\"]]},\"xaxis\":{\"gridcolor\":\"white\",\"linecolor\":\"white\",\"ticks\":\"\",\"title\":{\"standoff\":15},\"zerolinecolor\":\"white\",\"automargin\":true,\"zerolinewidth\":2},\"yaxis\":{\"gridcolor\":\"white\",\"linecolor\":\"white\",\"ticks\":\"\",\"title\":{\"standoff\":15},\"zerolinecolor\":\"white\",\"automargin\":true,\"zerolinewidth\":2},\"scene\":{\"xaxis\":{\"backgroundcolor\":\"#E5ECF6\",\"gridcolor\":\"white\",\"linecolor\":\"white\",\"showbackground\":true,\"ticks\":\"\",\"zerolinecolor\":\"white\",\"gridwidth\":2},\"yaxis\":{\"backgroundcolor\":\"#E5ECF6\",\"gridcolor\":\"white\",\"linecolor\":\"white\",\"showbackground\":true,\"ticks\":\"\",\"zerolinecolor\":\"white\",\"gridwidth\":2},\"zaxis\":{\"backgroundcolor\":\"#E5ECF6\",\"gridcolor\":\"white\",\"linecolor\":\"white\",\"showbackground\":true,\"ticks\":\"\",\"zerolinecolor\":\"white\",\"gridwidth\":2}},\"shapedefaults\":{\"line\":{\"color\":\"#2a3f5f\"}},\"annotationdefaults\":{\"arrowcolor\":\"#2a3f5f\",\"arrowhead\":0,\"arrowwidth\":1},\"geo\":{\"bgcolor\":\"white\",\"landcolor\":\"#E5ECF6\",\"subunitcolor\":\"white\",\"showland\":true,\"showlakes\":true,\"lakecolor\":\"white\"},\"title\":{\"x\":0.05},\"mapbox\":{\"style\":\"light\"}}},\"xaxis\":{\"anchor\":\"y\",\"domain\":[0.0,0.98],\"title\":{\"text\":\"GNI per Capita (PPP)\"}},\"yaxis\":{\"anchor\":\"x\",\"domain\":[0.0,0.2275],\"title\":{\"text\":\"HDI Calculated\"}},\"xaxis2\":{\"anchor\":\"y2\",\"domain\":[0.0,0.98],\"matches\":\"x\",\"showticklabels\":false},\"yaxis2\":{\"anchor\":\"x2\",\"domain\":[0.2575,0.485],\"matches\":\"y\",\"title\":{\"text\":\"HDI_calculated\"}},\"xaxis3\":{\"anchor\":\"y3\",\"domain\":[0.0,0.98],\"matches\":\"x\",\"showticklabels\":false},\"yaxis3\":{\"anchor\":\"x3\",\"domain\":[0.515,0.7425],\"matches\":\"y\",\"title\":{\"text\":\"HDI_calculated\"}},\"xaxis4\":{\"anchor\":\"y4\",\"domain\":[0.0,0.98],\"matches\":\"x\",\"showticklabels\":false},\"yaxis4\":{\"anchor\":\"x4\",\"domain\":[0.7725,1.0],\"matches\":\"y\",\"title\":{\"text\":\"HDI_calculated\"}},\"annotations\":[{\"font\":{},\"showarrow\":false,\"text\":\"Year=2018\",\"textangle\":90,\"x\":0.98,\"xanchor\":\"left\",\"xref\":\"paper\",\"y\":0.11375,\"yanchor\":\"middle\",\"yref\":\"paper\"},{\"font\":{},\"showarrow\":false,\"text\":\"Year=2017\",\"textangle\":90,\"x\":0.98,\"xanchor\":\"left\",\"xref\":\"paper\",\"y\":0.37124999999999997,\"yanchor\":\"middle\",\"yref\":\"paper\"},{\"font\":{},\"showarrow\":false,\"text\":\"Year=2016\",\"textangle\":90,\"x\":0.98,\"xanchor\":\"left\",\"xref\":\"paper\",\"y\":0.62875,\"yanchor\":\"middle\",\"yref\":\"paper\"},{\"font\":{},\"showarrow\":false,\"text\":\"Year=2015\",\"textangle\":90,\"x\":0.98,\"xanchor\":\"left\",\"xref\":\"paper\",\"y\":0.88625,\"yanchor\":\"middle\",\"yref\":\"paper\"}],\"legend\":{\"title\":{\"text\":\"continent\"},\"tracegroupgap\":0},\"margin\":{\"t\":60},\"title\":{\"text\":\"Scatter Plot of HDI Calculated vs GNI per Capita (PPP) by Year\"},\"height\":1000,\"width\":800},                        {\"responsive\": true}                    ).then(function(){\n",
       "                            \n",
       "var gd = document.getElementById('74f2be63-1a4b-4d80-9597-8880763885bd');\n",
       "var x = new MutationObserver(function (mutations, observer) {{\n",
       "        var display = window.getComputedStyle(gd).display;\n",
       "        if (!display || display === 'none') {{\n",
       "            console.log([gd, 'removed!']);\n",
       "            Plotly.purge(gd);\n",
       "            observer.disconnect();\n",
       "        }}\n",
       "}});\n",
       "\n",
       "// Listen for the removal of the full notebook cells\n",
       "var notebookContainer = gd.closest('#notebook-container');\n",
       "if (notebookContainer) {{\n",
       "    x.observe(notebookContainer, {childList: true});\n",
       "}}\n",
       "\n",
       "// Listen for the clearing of the current output cell\n",
       "var outputEl = gd.closest('.output');\n",
       "if (outputEl) {{\n",
       "    x.observe(outputEl, {childList: true});\n",
       "}}\n",
       "\n",
       "                        })                };                });            </script>        </div>"
      ]
     },
     "metadata": {},
     "output_type": "display_data"
    }
   ],
   "source": [
    "# Sort the data by 'Year' column in descending order\n",
    "data = data.sort_values('Year', ascending=True)\n",
    "\n",
    "# Create a scatter plot for all available years using Plotly, with two plots per row\n",
    "fig = px.scatter(data, x='GNI_per_capita_PPP', y='HDI_calculated', color='continent',\n",
    "                 color_discrete_map=continent_colors, hover_data=['Country'], facet_row='Year')\n",
    "\n",
    "# Set the plot title and axis labels\n",
    "fig.update_layout(\n",
    "    title='Scatter Plot of HDI Calculated vs GNI per Capita (PPP) by Year',\n",
    "    xaxis_title='GNI per Capita (PPP)',\n",
    "    yaxis_title='HDI Calculated',\n",
    "    height=1000,  \n",
    "    width = 800\n",
    ")\n",
    "\n",
    "# Set the hover label format\n",
    "fig.update_traces(hovertemplate='Country: %{customdata[0]}<br>GNI per Capita (PPP): %{x}<br>HDI Calculated: %{y}')\n",
    "\n",
    "# Show the plot\n",
    "fig.show()\n",
    "\n"
   ]
  },
  {
   "cell_type": "code",
   "execution_count": null,
   "metadata": {},
   "outputs": [
    {
     "data": {
      "image/png": "[encoded data removed]",
      "text/plain": [
       "<Figure size 864x576 with 2 Axes>"
      ]
     },
     "metadata": {
      "needs_background": "light"
     },
     "output_type": "display_data"
    }
   ],
   "source": [
    "# Select the variables of interest for the heatmap\n",
    "variables = ['Life_expectancy_at_birth', 'Expected_years_of_schooling', 'Average_of_years_of_schooling',\n",
    "             'GNI_per_capita_PPP', 'life_expectancy_index', 'Education_Index', 'GNI_Index', 'HDI_calculated',\n",
    "             'happiness_score', 'gdp_per_capita', 'family', 'health', 'freedom', 'generosity',\n",
    "             'government_trust', 'dystopia_residual', 'social_support', 'cpi_score']\n",
    "\n",
    "# Create a correlation matrix\n",
    "correlation_matrix = data[variables].corr()\n",
    "\n",
    "# Create the heatmap\n",
    "plt.figure(figsize=(12, 8))\n",
    "sns.heatmap(correlation_matrix, annot=True, cmap='coolwarm', fmt=\".2f\", square=True)\n",
    "\n",
    "# Set the title of the plot\n",
    "plt.title('Correlation Heatmap')\n",
    "\n",
    "# Display the heatmap\n",
    "plt.show()"
   ]
  },
  {
   "cell_type": "code",
   "execution_count": null,
   "metadata": {},
   "outputs": [
    {
     "ename": "ValueError",
     "evalue": "Multi-dimensional indexing (e.g. `obj[:, None]`) is no longer supported. Convert to a numpy array before indexing instead.",
     "output_type": "error",
     "traceback": [
      "\u001b[0;31m---------------------------------------------------------------------------\u001b[0m",
      "\u001b[0;31mValueError\u001b[0m                                Traceback (most recent call last)",
      "\u001b[0;32m/tmp/ipykernel_92438/960861708.py\u001b[0m in \u001b[0;36m<module>\u001b[0;34m\u001b[0m\n\u001b[1;32m      1\u001b[0m \u001b[0;31m# Create a histogram\u001b[0m\u001b[0;34m\u001b[0m\u001b[0;34m\u001b[0m\u001b[0m\n\u001b[1;32m      2\u001b[0m \u001b[0mplt\u001b[0m\u001b[0;34m.\u001b[0m\u001b[0mfigure\u001b[0m\u001b[0;34m(\u001b[0m\u001b[0mfigsize\u001b[0m\u001b[0;34m=\u001b[0m\u001b[0;34m(\u001b[0m\u001b[0;36m10\u001b[0m\u001b[0;34m,\u001b[0m \u001b[0;36m6\u001b[0m\u001b[0;34m)\u001b[0m\u001b[0;34m)\u001b[0m\u001b[0;34m\u001b[0m\u001b[0;34m\u001b[0m\u001b[0m\n\u001b[0;32m----> 3\u001b[0;31m \u001b[0msns\u001b[0m\u001b[0;34m.\u001b[0m\u001b[0mhistplot\u001b[0m\u001b[0;34m(\u001b[0m\u001b[0mdata\u001b[0m\u001b[0;34m=\u001b[0m\u001b[0mdata\u001b[0m\u001b[0;34m,\u001b[0m \u001b[0mx\u001b[0m\u001b[0;34m=\u001b[0m\u001b[0;34m'Expected_years_of_schooling'\u001b[0m\u001b[0;34m,\u001b[0m \u001b[0mkde\u001b[0m\u001b[0;34m=\u001b[0m\u001b[0;32mTrue\u001b[0m\u001b[0;34m)\u001b[0m\u001b[0;34m\u001b[0m\u001b[0;34m\u001b[0m\u001b[0m\n\u001b[0m\u001b[1;32m      4\u001b[0m \u001b[0;34m\u001b[0m\u001b[0m\n\u001b[1;32m      5\u001b[0m \u001b[0;31m# Set the title and labels\u001b[0m\u001b[0;34m\u001b[0m\u001b[0;34m\u001b[0m\u001b[0m\n",
      "\u001b[0;32m~/.local/lib/python3.10/site-packages/seaborn/distributions.py\u001b[0m in \u001b[0;36mhistplot\u001b[0;34m(data, x, y, hue, weights, stat, bins, binwidth, binrange, discrete, cumulative, common_bins, common_norm, multiple, element, fill, shrink, kde, kde_kws, line_kws, thresh, pthresh, pmax, cbar, cbar_ax, cbar_kws, palette, hue_order, hue_norm, color, log_scale, legend, ax, **kwargs)\u001b[0m\n\u001b[1;32m   1430\u001b[0m     \u001b[0;32mif\u001b[0m \u001b[0mp\u001b[0m\u001b[0;34m.\u001b[0m\u001b[0munivariate\u001b[0m\u001b[0;34m:\u001b[0m\u001b[0;34m\u001b[0m\u001b[0;34m\u001b[0m\u001b[0m\n\u001b[1;32m   1431\u001b[0m \u001b[0;34m\u001b[0m\u001b[0m\n\u001b[0;32m-> 1432\u001b[0;31m         p.plot_univariate_histogram(\n\u001b[0m\u001b[1;32m   1433\u001b[0m             \u001b[0mmultiple\u001b[0m\u001b[0;34m=\u001b[0m\u001b[0mmultiple\u001b[0m\u001b[0;34m,\u001b[0m\u001b[0;34m\u001b[0m\u001b[0;34m\u001b[0m\u001b[0m\n\u001b[1;32m   1434\u001b[0m             \u001b[0melement\u001b[0m\u001b[0;34m=\u001b[0m\u001b[0melement\u001b[0m\u001b[0;34m,\u001b[0m\u001b[0;34m\u001b[0m\u001b[0;34m\u001b[0m\u001b[0m\n",
      "\u001b[0;32m~/.local/lib/python3.10/site-packages/seaborn/distributions.py\u001b[0m in \u001b[0;36mplot_univariate_histogram\u001b[0;34m(self, multiple, element, fill, common_norm, common_bins, shrink, kde, kde_kws, color, legend, line_kws, estimate_kws, **plot_kws)\u001b[0m\n\u001b[1;32m    653\u001b[0m \u001b[0;34m\u001b[0m\u001b[0m\n\u001b[1;32m    654\u001b[0m                 \u001b[0mline_kws\u001b[0m\u001b[0;34m[\u001b[0m\u001b[0;34m\"color\"\u001b[0m\u001b[0;34m]\u001b[0m \u001b[0;34m=\u001b[0m \u001b[0mto_rgba\u001b[0m\u001b[0;34m(\u001b[0m\u001b[0msub_color\u001b[0m\u001b[0;34m,\u001b[0m \u001b[0;36m1\u001b[0m\u001b[0;34m)\u001b[0m\u001b[0;34m\u001b[0m\u001b[0;34m\u001b[0m\u001b[0m\n\u001b[0;32m--> 655\u001b[0;31m                 line, = ax.plot(\n\u001b[0m\u001b[1;32m    656\u001b[0m                     \u001b[0;34m*\u001b[0m\u001b[0mline_args\u001b[0m\u001b[0;34m,\u001b[0m \u001b[0;34m**\u001b[0m\u001b[0mline_kws\u001b[0m\u001b[0;34m,\u001b[0m\u001b[0;34m\u001b[0m\u001b[0;34m\u001b[0m\u001b[0m\n\u001b[1;32m    657\u001b[0m                 )\n",
      "\u001b[0;32m/usr/lib/python3/dist-packages/matplotlib/axes/_axes.py\u001b[0m in \u001b[0;36mplot\u001b[0;34m(self, scalex, scaley, data, *args, **kwargs)\u001b[0m\n\u001b[1;32m   1630\u001b[0m         \"\"\"\n\u001b[1;32m   1631\u001b[0m         \u001b[0mkwargs\u001b[0m \u001b[0;34m=\u001b[0m \u001b[0mcbook\u001b[0m\u001b[0;34m.\u001b[0m\u001b[0mnormalize_kwargs\u001b[0m\u001b[0;34m(\u001b[0m\u001b[0mkwargs\u001b[0m\u001b[0;34m,\u001b[0m \u001b[0mmlines\u001b[0m\u001b[0;34m.\u001b[0m\u001b[0mLine2D\u001b[0m\u001b[0;34m)\u001b[0m\u001b[0;34m\u001b[0m\u001b[0;34m\u001b[0m\u001b[0m\n\u001b[0;32m-> 1632\u001b[0;31m         \u001b[0mlines\u001b[0m \u001b[0;34m=\u001b[0m \u001b[0;34m[\u001b[0m\u001b[0;34m*\u001b[0m\u001b[0mself\u001b[0m\u001b[0;34m.\u001b[0m\u001b[0m_get_lines\u001b[0m\u001b[0;34m(\u001b[0m\u001b[0;34m*\u001b[0m\u001b[0margs\u001b[0m\u001b[0;34m,\u001b[0m \u001b[0mdata\u001b[0m\u001b[0;34m=\u001b[0m\u001b[0mdata\u001b[0m\u001b[0;34m,\u001b[0m \u001b[0;34m**\u001b[0m\u001b[0mkwargs\u001b[0m\u001b[0;34m)\u001b[0m\u001b[0;34m]\u001b[0m\u001b[0;34m\u001b[0m\u001b[0;34m\u001b[0m\u001b[0m\n\u001b[0m\u001b[1;32m   1633\u001b[0m         \u001b[0;32mfor\u001b[0m \u001b[0mline\u001b[0m \u001b[0;32min\u001b[0m \u001b[0mlines\u001b[0m\u001b[0;34m:\u001b[0m\u001b[0;34m\u001b[0m\u001b[0;34m\u001b[0m\u001b[0m\n\u001b[1;32m   1634\u001b[0m             \u001b[0mself\u001b[0m\u001b[0;34m.\u001b[0m\u001b[0madd_line\u001b[0m\u001b[0;34m(\u001b[0m\u001b[0mline\u001b[0m\u001b[0;34m)\u001b[0m\u001b[0;34m\u001b[0m\u001b[0;34m\u001b[0m\u001b[0m\n",
      "\u001b[0;32m/usr/lib/python3/dist-packages/matplotlib/axes/_base.py\u001b[0m in \u001b[0;36m__call__\u001b[0;34m(self, data, *args, **kwargs)\u001b[0m\n\u001b[1;32m    310\u001b[0m                 \u001b[0mthis\u001b[0m \u001b[0;34m+=\u001b[0m \u001b[0margs\u001b[0m\u001b[0;34m[\u001b[0m\u001b[0;36m0\u001b[0m\u001b[0;34m]\u001b[0m\u001b[0;34m,\u001b[0m\u001b[0;34m\u001b[0m\u001b[0;34m\u001b[0m\u001b[0m\n\u001b[1;32m    311\u001b[0m                 \u001b[0margs\u001b[0m \u001b[0;34m=\u001b[0m \u001b[0margs\u001b[0m\u001b[0;34m[\u001b[0m\u001b[0;36m1\u001b[0m\u001b[0;34m:\u001b[0m\u001b[0;34m]\u001b[0m\u001b[0;34m\u001b[0m\u001b[0;34m\u001b[0m\u001b[0m\n\u001b[0;32m--> 312\u001b[0;31m             \u001b[0;32myield\u001b[0m \u001b[0;32mfrom\u001b[0m \u001b[0mself\u001b[0m\u001b[0;34m.\u001b[0m\u001b[0m_plot_args\u001b[0m\u001b[0;34m(\u001b[0m\u001b[0mthis\u001b[0m\u001b[0;34m,\u001b[0m \u001b[0mkwargs\u001b[0m\u001b[0;34m)\u001b[0m\u001b[0;34m\u001b[0m\u001b[0;34m\u001b[0m\u001b[0m\n\u001b[0m\u001b[1;32m    313\u001b[0m \u001b[0;34m\u001b[0m\u001b[0m\n\u001b[1;32m    314\u001b[0m     \u001b[0;32mdef\u001b[0m \u001b[0mget_next_color\u001b[0m\u001b[0;34m(\u001b[0m\u001b[0mself\u001b[0m\u001b[0;34m)\u001b[0m\u001b[0;34m:\u001b[0m\u001b[0;34m\u001b[0m\u001b[0;34m\u001b[0m\u001b[0m\n",
      "\u001b[0;32m/usr/lib/python3/dist-packages/matplotlib/axes/_base.py\u001b[0m in \u001b[0;36m_plot_args\u001b[0;34m(self, tup, kwargs, return_kwargs)\u001b[0m\n\u001b[1;32m    485\u001b[0m \u001b[0;34m\u001b[0m\u001b[0m\n\u001b[1;32m    486\u001b[0m         \u001b[0;32mif\u001b[0m \u001b[0mlen\u001b[0m\u001b[0;34m(\u001b[0m\u001b[0mxy\u001b[0m\u001b[0;34m)\u001b[0m \u001b[0;34m==\u001b[0m \u001b[0;36m2\u001b[0m\u001b[0;34m:\u001b[0m\u001b[0;34m\u001b[0m\u001b[0;34m\u001b[0m\u001b[0m\n\u001b[0;32m--> 487\u001b[0;31m             \u001b[0mx\u001b[0m \u001b[0;34m=\u001b[0m \u001b[0m_check_1d\u001b[0m\u001b[0;34m(\u001b[0m\u001b[0mxy\u001b[0m\u001b[0;34m[\u001b[0m\u001b[0;36m0\u001b[0m\u001b[0;34m]\u001b[0m\u001b[0;34m)\u001b[0m\u001b[0;34m\u001b[0m\u001b[0;34m\u001b[0m\u001b[0m\n\u001b[0m\u001b[1;32m    488\u001b[0m             \u001b[0my\u001b[0m \u001b[0;34m=\u001b[0m \u001b[0m_check_1d\u001b[0m\u001b[0;34m(\u001b[0m\u001b[0mxy\u001b[0m\u001b[0;34m[\u001b[0m\u001b[0;36m1\u001b[0m\u001b[0;34m]\u001b[0m\u001b[0;34m)\u001b[0m\u001b[0;34m\u001b[0m\u001b[0;34m\u001b[0m\u001b[0m\n\u001b[1;32m    489\u001b[0m         \u001b[0;32melse\u001b[0m\u001b[0;34m:\u001b[0m\u001b[0;34m\u001b[0m\u001b[0;34m\u001b[0m\u001b[0m\n",
      "\u001b[0;32m/usr/lib/python3/dist-packages/matplotlib/cbook/__init__.py\u001b[0m in \u001b[0;36m_check_1d\u001b[0;34m(x)\u001b[0m\n\u001b[1;32m   1325\u001b[0m                     message='Support for multi-dimensional indexing')\n\u001b[1;32m   1326\u001b[0m \u001b[0;34m\u001b[0m\u001b[0m\n\u001b[0;32m-> 1327\u001b[0;31m                 \u001b[0mndim\u001b[0m \u001b[0;34m=\u001b[0m \u001b[0mx\u001b[0m\u001b[0;34m[\u001b[0m\u001b[0;34m:\u001b[0m\u001b[0;34m,\u001b[0m \u001b[0;32mNone\u001b[0m\u001b[0;34m]\u001b[0m\u001b[0;34m.\u001b[0m\u001b[0mndim\u001b[0m\u001b[0;34m\u001b[0m\u001b[0;34m\u001b[0m\u001b[0m\n\u001b[0m\u001b[1;32m   1328\u001b[0m                 \u001b[0;31m# we have definitely hit a pandas index or series object\u001b[0m\u001b[0;34m\u001b[0m\u001b[0;34m\u001b[0m\u001b[0m\n\u001b[1;32m   1329\u001b[0m                 \u001b[0;31m# cast to a numpy array.\u001b[0m\u001b[0;34m\u001b[0m\u001b[0;34m\u001b[0m\u001b[0m\n",
      "\u001b[0;32m~/.local/lib/python3.10/site-packages/pandas/core/indexes/base.py\u001b[0m in \u001b[0;36m__getitem__\u001b[0;34m(self, key)\u001b[0m\n\u001b[1;32m   5196\u001b[0m         \u001b[0;31m# Because we ruled out integer above, we always get an arraylike here\u001b[0m\u001b[0;34m\u001b[0m\u001b[0;34m\u001b[0m\u001b[0m\n\u001b[1;32m   5197\u001b[0m         \u001b[0;32mif\u001b[0m \u001b[0mresult\u001b[0m\u001b[0;34m.\u001b[0m\u001b[0mndim\u001b[0m \u001b[0;34m>\u001b[0m \u001b[0;36m1\u001b[0m\u001b[0;34m:\u001b[0m\u001b[0;34m\u001b[0m\u001b[0;34m\u001b[0m\u001b[0m\n\u001b[0;32m-> 5198\u001b[0;31m             \u001b[0mdisallow_ndim_indexing\u001b[0m\u001b[0;34m(\u001b[0m\u001b[0mresult\u001b[0m\u001b[0;34m)\u001b[0m\u001b[0;34m\u001b[0m\u001b[0;34m\u001b[0m\u001b[0m\n\u001b[0m\u001b[1;32m   5199\u001b[0m \u001b[0;34m\u001b[0m\u001b[0m\n\u001b[1;32m   5200\u001b[0m         \u001b[0;31m# NB: Using _constructor._simple_new would break if MultiIndex\u001b[0m\u001b[0;34m\u001b[0m\u001b[0;34m\u001b[0m\u001b[0m\n",
      "\u001b[0;32m~/.local/lib/python3.10/site-packages/pandas/core/indexers/utils.py\u001b[0m in \u001b[0;36mdisallow_ndim_indexing\u001b[0;34m(result)\u001b[0m\n\u001b[1;32m    341\u001b[0m     \"\"\"\n\u001b[1;32m    342\u001b[0m     \u001b[0;32mif\u001b[0m \u001b[0mnp\u001b[0m\u001b[0;34m.\u001b[0m\u001b[0mndim\u001b[0m\u001b[0;34m(\u001b[0m\u001b[0mresult\u001b[0m\u001b[0;34m)\u001b[0m \u001b[0;34m>\u001b[0m \u001b[0;36m1\u001b[0m\u001b[0;34m:\u001b[0m\u001b[0;34m\u001b[0m\u001b[0;34m\u001b[0m\u001b[0m\n\u001b[0;32m--> 343\u001b[0;31m         raise ValueError(\n\u001b[0m\u001b[1;32m    344\u001b[0m             \u001b[0;34m\"Multi-dimensional indexing (e.g. `obj[:, None]`) is no longer \"\u001b[0m\u001b[0;34m\u001b[0m\u001b[0;34m\u001b[0m\u001b[0m\n\u001b[1;32m    345\u001b[0m             \u001b[0;34m\"supported. Convert to a numpy array before indexing instead.\"\u001b[0m\u001b[0;34m\u001b[0m\u001b[0;34m\u001b[0m\u001b[0m\n",
      "\u001b[0;31mValueError\u001b[0m: Multi-dimensional indexing (e.g. `obj[:, None]`) is no longer supported. Convert to a numpy array before indexing instead."
     ]
    },
    {
     "data": {
      "image/png": "[encoded data removed]",
      "text/plain": [
       "<Figure size 720x432 with 1 Axes>"
      ]
     },
     "metadata": {
      "needs_background": "light"
     },
     "output_type": "display_data"
    }
   ],
   "source": [
    "# Create a histogram\n",
    "plt.figure(figsize=(10, 6))\n",
    "sns.histplot(data=data, x='Expected_years_of_schooling', kde=True)\n",
    "\n",
    "# Set the title and labels\n",
    "plt.title(f'Distribution of expected_years_of_schooling')\n",
    "plt.xlabel('expected_years_of_schooling')\n",
    "plt.ylabel('Count')\n",
    "\n",
    "# Display the histogram\n",
    "plt.show()"
   ]
  },
  {
   "cell_type": "code",
   "execution_count": null,
   "metadata": {},
   "outputs": [
    {
     "data": {
      "application/vnd.plotly.v1+json": {
       "config": {
        "plotlyServerURL": "https://plot.ly"
       },
       "data": [
        {
         "customdata": [
          [
           "Lebanon"
          ],
          [
           "Georgia"
          ],
          [
           "Cyprus"
          ],
          [
           "China"
          ],
          [
           "China"
          ],
          [
           "Armenia"
          ],
          [
           "Azerbaijan"
          ],
          [
           "Bahrain"
          ],
          [
           "Sri Lanka"
          ],
          [
           "Turkmenistan"
          ],
          [
           "Uzbekistan"
          ],
          [
           "Bangladesh"
          ],
          [
           "Tajikistan"
          ],
          [
           "Yemen"
          ],
          [
           "Vietnam"
          ],
          [
           "United Arab Emirates"
          ],
          [
           "Turkey"
          ],
          [
           "Afghanistan"
          ],
          [
           "Singapore"
          ],
          [
           "India"
          ],
          [
           "Thailand"
          ],
          [
           "Kazakhstan"
          ],
          [
           "Saudi Arabia"
          ],
          [
           "Mongolia"
          ],
          [
           "Kyrgyzstan"
          ],
          [
           "Iraq"
          ],
          [
           "Israel"
          ],
          [
           "Japan"
          ],
          [
           "Jordan"
          ],
          [
           "Kuwait"
          ],
          [
           "Malaysia"
          ],
          [
           "Cambodia"
          ],
          [
           "Indonesia"
          ],
          [
           "Myanmar"
          ],
          [
           "Iran"
          ],
          [
           "Nepal"
          ],
          [
           "Pakistan"
          ],
          [
           "Philippines"
          ]
         ],
         "hovertemplate": "Country: %{customdata[0]}<br>Happines: %{x}<br>GNI per Capita (PPP): %{y}",
         "legendgroup": "Asia",
         "marker": {
          "color": "#FAA598",
          "symbol": "circle"
         },
         "mode": "markers",
         "name": "Asia",
         "orientation": "v",
         "showlegend": true,
         "type": "scatter",
         "x": [
          5.224999905,
          4.285999775,
          5.620999813,
          5.272999763,
          5.272999763,
          4.375999928,
          5.234000206,
          6.086999893,
          4.440000057,
          5.822000027,
          5.971000195,
          4.607999802,
          5.040999889,
          3.592999935,
          5.073999882,
          6.647999763,
          5.5,
          3.79399991,
          6.572000027,
          4.315000057,
          6.423999786,
          5.818999767,
          6.343999863,
          4.954999924,
          5.004000187,
          4.497000217,
          7.212999821,
          5.920000076,
          5.335999966,
          6.105000019,
          6.084000111,
          4.168000221,
          5.262000084,
          4.545000076,
          4.691999912,
          4.961999893,
          5.269000053,
          5.429999828
         ],
         "xaxis": "x4",
         "y": [
          14920,
          11420,
          31510,
          12880,
          57450,
          12490,
          15020,
          42760,
          11270,
          12890,
          6460,
          3790,
          3590,
          null,
          5790,
          64640,
          25340,
          2110,
          81040,
          5400,
          15010,
          23860,
          49450,
          9880,
          4460,
          10220,
          35130,
          41950,
          9140,
          52880,
          24120,
          3180,
          9910,
          4180,
          13300,
          2680,
          4640,
          8310
         ],
         "yaxis": "y4"
        },
        {
         "customdata": [
          [
           "Sri Lanka"
          ],
          [
           "Yemen"
          ],
          [
           "Pakistan"
          ],
          [
           "Turkmenistan"
          ],
          [
           "Georgia"
          ],
          [
           "Myanmar"
          ],
          [
           "Nepal"
          ],
          [
           "Philippines"
          ],
          [
           "Mongolia"
          ],
          [
           "Bahrain"
          ],
          [
           "Saudi Arabia"
          ],
          [
           "Armenia"
          ],
          [
           "Azerbaijan"
          ],
          [
           "India"
          ],
          [
           "Indonesia"
          ],
          [
           "Kyrgyzstan"
          ],
          [
           "Malaysia"
          ],
          [
           "Tajikistan"
          ],
          [
           "Bangladesh"
          ],
          [
           "Vietnam"
          ],
          [
           "Kazakhstan"
          ],
          [
           "Jordan"
          ],
          [
           "Israel"
          ],
          [
           "Kuwait"
          ],
          [
           "Japan"
          ],
          [
           "Singapore"
          ],
          [
           "Lebanon"
          ],
          [
           "Thailand"
          ],
          [
           "China"
          ],
          [
           "Iran"
          ],
          [
           "Turkey"
          ],
          [
           "Cambodia"
          ],
          [
           "Cyprus"
          ],
          [
           "China"
          ],
          [
           "Uzbekistan"
          ],
          [
           "United Arab Emirates"
          ],
          [
           "Iraq"
          ],
          [
           "Afghanistan"
          ]
         ],
         "hovertemplate": "Country: %{customdata[0]}<br>Happines: %{x}<br>GNI per Capita (PPP): %{y}",
         "legendgroup": "Asia",
         "marker": {
          "color": "#FAA598",
          "symbol": "circle"
         },
         "mode": "markers",
         "name": "Asia",
         "orientation": "v",
         "showlegend": false,
         "type": "scatter",
         "x": [
          4.271,
          4.077,
          5.194,
          5.548,
          4.297,
          4.307,
          4.514,
          5.073,
          4.874,
          5.96,
          6.411,
          4.35,
          5.212,
          4.565,
          5.399,
          5.286,
          5.77,
          4.786,
          4.694,
          5.36,
          5.855,
          5.192,
          7.278,
          6.295,
          5.987,
          6.798,
          4.839,
          6.455,
          5.14,
          4.686,
          5.332,
          3.819,
          5.689,
          5.14,
          6.003,
          6.901,
          4.677,
          3.575
         ],
         "xaxis": "x3",
         "y": [
          11900,
          null,
          4680,
          13500,
          11760,
          4220,
          2620,
          8870,
          9860,
          41860,
          46110,
          13160,
          14920,
          5760,
          10160,
          5020,
          24840,
          3900,
          4070,
          6300,
          24280,
          9120,
          37500,
          51550,
          41350,
          83020,
          15250,
          15800,
          58670,
          13650,
          26050,
          3450,
          33000,
          13400,
          6530,
          63670,
          9720,
          2140
         ],
         "yaxis": "y3"
        },
        {
         "customdata": [
          [
           "Thailand"
          ],
          [
           "Lebanon"
          ],
          [
           "Myanmar"
          ],
          [
           "Israel"
          ],
          [
           "Kazakhstan"
          ],
          [
           "Sri Lanka"
          ],
          [
           "Kyrgyzstan"
          ],
          [
           "Vietnam"
          ],
          [
           "Japan"
          ],
          [
           "Jordan"
          ],
          [
           "India"
          ],
          [
           "Indonesia"
          ],
          [
           "Singapore"
          ],
          [
           "Turkey"
          ],
          [
           "Iran"
          ],
          [
           "Pakistan"
          ],
          [
           "Iraq"
          ],
          [
           "Mongolia"
          ],
          [
           "Nepal"
          ],
          [
           "Armenia"
          ],
          [
           "Turkmenistan"
          ],
          [
           "Kuwait"
          ],
          [
           "Philippines"
          ],
          [
           "Bahrain"
          ],
          [
           "Azerbaijan"
          ],
          [
           "Cambodia"
          ],
          [
           "Tajikistan"
          ],
          [
           "Georgia"
          ],
          [
           "Uzbekistan"
          ],
          [
           "Malaysia"
          ],
          [
           "United Arab Emirates"
          ],
          [
           "Saudi Arabia"
          ],
          [
           "Yemen"
          ],
          [
           "Cyprus"
          ],
          [
           "China"
          ],
          [
           "China"
          ],
          [
           "Bangladesh"
          ],
          [
           "Afghanistan"
          ]
         ],
         "hovertemplate": "Country: %{customdata[0]}<br>Happines: %{x}<br>GNI per Capita (PPP): %{y}",
         "legendgroup": "Asia",
         "marker": {
          "color": "#FAA598",
          "symbol": "circle"
         },
         "mode": "markers",
         "name": "Asia",
         "orientation": "v",
         "showlegend": false,
         "type": "scatter",
         "x": [
          6.008,
          5.197,
          4.36,
          7.139,
          5.809,
          4.366,
          5.261,
          5.175,
          5.886,
          4.906,
          4.015,
          5.192,
          6.262,
          5.373,
          4.548,
          5.653,
          4.437,
          5.285,
          4.913,
          4.559,
          5.247,
          6.021,
          5.631,
          6.199,
          5.208,
          4.7,
          5.467,
          4.519,
          6.174,
          5.339,
          6.825,
          6.375,
          3.38,
          6.046,
          5.191,
          5.191,
          4.456,
          3.203
         ],
         "xaxis": "x2",
         "y": [
          16610,
          16070,
          4480,
          38570,
          22160,
          12340,
          4800,
          6620,
          42290,
          9790,
          6120,
          10580,
          87440,
          27570,
          14560,
          4820,
          10850,
          9720,
          3140,
          12540,
          13620,
          59260,
          9320,
          44980,
          13510,
          3680,
          3560,
          12910,
          6650,
          25900,
          66290,
          48040,
          null,
          35750,
          62530,
          14140,
          4340,
          2210
         ],
         "yaxis": "y2"
        },
        {
         "customdata": [
          [
           "United Arab Emirates"
          ],
          [
           "Georgia"
          ],
          [
           "Malaysia"
          ],
          [
           "Lebanon"
          ],
          [
           "Pakistan"
          ],
          [
           "Philippines"
          ],
          [
           "Turkmenistan"
          ],
          [
           "India"
          ],
          [
           "Turkey"
          ],
          [
           "Iran"
          ],
          [
           "Iraq"
          ],
          [
           "Israel"
          ],
          [
           "China"
          ],
          [
           "Japan"
          ],
          [
           "Jordan"
          ],
          [
           "Kazakhstan"
          ],
          [
           "Kuwait"
          ],
          [
           "Thailand"
          ],
          [
           "Kyrgyzstan"
          ],
          [
           "Cyprus"
          ],
          [
           "Indonesia"
          ],
          [
           "Azerbaijan"
          ],
          [
           "Uzbekistan"
          ],
          [
           "Bangladesh"
          ],
          [
           "Vietnam"
          ],
          [
           "Cambodia"
          ],
          [
           "Afghanistan"
          ],
          [
           "Bahrain"
          ],
          [
           "Yemen"
          ],
          [
           "Sri Lanka"
          ],
          [
           "Saudi Arabia"
          ],
          [
           "Singapore"
          ],
          [
           "China"
          ],
          [
           "Tajikistan"
          ],
          [
           "Mongolia"
          ],
          [
           "Myanmar"
          ],
          [
           "Nepal"
          ],
          [
           "Armenia"
          ]
         ],
         "hovertemplate": "Country: %{customdata[0]}<br>Happines: %{x}<br>GNI per Capita (PPP): %{y}",
         "legendgroup": "Asia",
         "marker": {
          "color": "#FAA598",
          "symbol": "circle"
         },
         "mode": "markers",
         "name": "Asia",
         "orientation": "v",
         "showlegend": false,
         "type": "scatter",
         "x": [
          6.774,
          4.34,
          6.322,
          5.358,
          5.472,
          5.524,
          5.636,
          4.19,
          5.483,
          4.707,
          4.456,
          6.814,
          5.246,
          5.915,
          5.161,
          5.79,
          6.083,
          6.072,
          5.131,
          5.762,
          5.093,
          5.201,
          6.096,
          4.5,
          5.103,
          4.433,
          3.632,
          6.105,
          3.355,
          4.471,
          6.371,
          6.343,
          5.246,
          5.199,
          5.125,
          4.308,
          4.88,
          4.321
         ],
         "xaxis": "x",
         "y": [
          66911.66,
          9569.52,
          27226.68,
          11136.25,
          5190.08,
          9539.7,
          16407.47,
          6828.6,
          24905.38,
          18166.47,
          15364.96,
          33649.69,
          16126.57,
          40799.01,
          8267.81,
          22167.7,
          71164.22,
          16128.55,
          3316.79,
          33100.32,
          11255.78,
          15240.14,
          6461.84,
          4057.25,
          6220.27,
          3597.4,
          1745.67,
          40399.12,
          1433.3,
          11610.91,
          49338.41,
          83792.67,
          60220.8,
          3482.38,
          10783.71,
          5763.94,
          2748.2,
          9277.23
         ],
         "yaxis": "y"
        },
        {
         "customdata": [
          [
           "Egypt"
          ],
          [
           "Ethiopia"
          ],
          [
           "Gabon"
          ],
          [
           "Ghana"
          ],
          [
           "Algeria"
          ],
          [
           "Zimbabwe"
          ],
          [
           "Tanzania"
          ],
          [
           "Tunisia"
          ],
          [
           "South Africa"
          ],
          [
           "Uganda"
          ],
          [
           "Togo"
          ],
          [
           "Zambia"
          ],
          [
           "Sierra Leone"
          ],
          [
           "Benin"
          ],
          [
           "Rwanda"
          ],
          [
           "Senegal"
          ],
          [
           "Kenya"
          ],
          [
           "Mauritius"
          ],
          [
           "Liberia"
          ],
          [
           "Libya"
          ],
          [
           "Madagascar"
          ],
          [
           "Malawi"
          ],
          [
           "Mali"
          ],
          [
           "Mauritania"
          ],
          [
           "Botswana"
          ],
          [
           "Burkina Faso"
          ],
          [
           "Burundi"
          ],
          [
           "Cameroon"
          ],
          [
           "Nigeria"
          ],
          [
           "Chad"
          ],
          [
           "Niger"
          ],
          [
           "Morocco"
          ]
         ],
         "hovertemplate": "Country: %{customdata[0]}<br>Happines: %{x}<br>GNI per Capita (PPP): %{y}",
         "legendgroup": "Africa",
         "marker": {
          "color": "#AEFD8E",
          "symbol": "circle"
         },
         "mode": "markers",
         "name": "Africa",
         "orientation": "v",
         "showlegend": true,
         "type": "scatter",
         "x": [
          4.735000134,
          4.460000038,
          4.465000153,
          4.119999886,
          5.872000217,
          3.875,
          3.348999977,
          4.804999828,
          4.828999996,
          4.080999851,
          3.494999886,
          4.513999939,
          4.709000111,
          3.657000065,
          3.470999956,
          4.534999847,
          4.552999973,
          5.629000187,
          3.532999992,
          5.525000095,
          3.644000053,
          3.970000029,
          4.190000057,
          4.291999817,
          3.766000032,
          4.032000065,
          2.904999971,
          4.695000172,
          5.073999882,
          3.936000109,
          4.027999878,
          5.235000134
         ],
         "xaxis": "x4",
         "y": [
          11160,
          1650,
          13480,
          5050,
          11700,
          2410,
          2740,
          9890,
          12240,
          1750,
          1440,
          3370,
          1570,
          2860,
          1710,
          2910,
          3330,
          20860,
          1180,
          12740,
          1500,
          990,
          1990,
          3160,
          15310,
          1460,
          840,
          3210,
          5280,
          1760,
          840,
          7670
         ],
         "yaxis": "y4"
        },
        {
         "customdata": [
          [
           "Nigeria"
          ],
          [
           "Zambia"
          ],
          [
           "Niger"
          ],
          [
           "Mauritius"
          ],
          [
           "Ghana"
          ],
          [
           "Burundi"
          ],
          [
           "Uganda"
          ],
          [
           "Burkina Faso"
          ],
          [
           "Algeria"
          ],
          [
           "Morocco"
          ],
          [
           "Zimbabwe"
          ],
          [
           "Senegal"
          ],
          [
           "Sierra Leone"
          ],
          [
           "South Africa"
          ],
          [
           "Rwanda"
          ],
          [
           "Libya"
          ],
          [
           "Tanzania"
          ],
          [
           "Madagascar"
          ],
          [
           "Malawi"
          ],
          [
           "Mali"
          ],
          [
           "Mauritania"
          ],
          [
           "Benin"
          ],
          [
           "Botswana"
          ],
          [
           "Kenya"
          ],
          [
           "Togo"
          ],
          [
           "Liberia"
          ],
          [
           "Tunisia"
          ],
          [
           "Gabon"
          ],
          [
           "Chad"
          ],
          [
           "Egypt"
          ],
          [
           "Ethiopia"
          ],
          [
           "Cameroon"
          ]
         ],
         "hovertemplate": "Country: %{customdata[0]}<br>Happines: %{x}<br>GNI per Capita (PPP): %{y}",
         "legendgroup": "Africa",
         "marker": {
          "color": "#AEFD8E",
          "symbol": "circle"
         },
         "mode": "markers",
         "name": "Africa",
         "orientation": "v",
         "showlegend": false,
         "type": "scatter",
         "x": [
          5.268,
          5.129,
          3.845,
          5.477,
          4.633,
          2.905,
          3.931,
          3.587,
          5.605,
          5.013,
          4.61,
          3.904,
          4.507,
          4.642,
          3.465,
          5.754,
          3.781,
          3.681,
          4.292,
          3.995,
          4.436,
          3.34,
          4.332,
          4.419,
          2.839,
          4.571,
          4.739,
          3.896,
          3.667,
          4.194,
          4.512,
          4.252
         ],
         "xaxis": "x3",
         "y": [
          5120,
          3330,
          820,
          22390,
          4800,
          800,
          1690,
          1550,
          11520,
          7730,
          2570,
          3000,
          1420,
          12240,
          1790,
          11430,
          2860,
          1550,
          1020,
          2130,
          3350,
          2980,
          16600,
          3620,
          1470,
          1260,
          10070,
          13180,
          1630,
          10850,
          1870,
          3350
         ],
         "yaxis": "y3"
        },
        {
         "customdata": [
          [
           "Libya"
          ],
          [
           "Morocco"
          ],
          [
           "Botswana"
          ],
          [
           "Senegal"
          ],
          [
           "Tunisia"
          ],
          [
           "Benin"
          ],
          [
           "Niger"
          ],
          [
           "Tanzania"
          ],
          [
           "Togo"
          ],
          [
           "Madagascar"
          ],
          [
           "Mauritius"
          ],
          [
           "Zambia"
          ],
          [
           "Malawi"
          ],
          [
           "Kenya"
          ],
          [
           "Nigeria"
          ],
          [
           "Ghana"
          ],
          [
           "Burundi"
          ],
          [
           "Uganda"
          ],
          [
           "Burkina Faso"
          ],
          [
           "Ethiopia"
          ],
          [
           "South Africa"
          ],
          [
           "Mali"
          ],
          [
           "Gabon"
          ],
          [
           "Algeria"
          ],
          [
           "Liberia"
          ],
          [
           "Egypt"
          ],
          [
           "Rwanda"
          ],
          [
           "Cameroon"
          ],
          [
           "Chad"
          ],
          [
           "Sierra Leone"
          ],
          [
           "Zimbabwe"
          ],
          [
           "Mauritania"
          ]
         ],
         "hovertemplate": "Country: %{customdata[0]}<br>Happines: %{x}<br>GNI per Capita (PPP): %{y}",
         "legendgroup": "Africa",
         "marker": {
          "color": "#AEFD8E",
          "symbol": "circle"
         },
         "mode": "markers",
         "name": "Africa",
         "orientation": "v",
         "showlegend": false,
         "type": "scatter",
         "x": [
          5.525,
          5.208,
          3.488,
          4.681,
          4.461,
          4.883,
          4.628,
          3.231,
          4.085,
          3.933,
          5.888,
          4.107,
          3.41,
          4.509,
          5.265,
          4.996,
          3.775,
          4.189,
          4.587,
          4.286,
          4.722,
          4.39,
          4.799,
          5.211,
          3.975,
          4.166,
          3.334,
          5.044,
          4.35,
          4.374,
          3.663,
          4.49
         ],
         "xaxis": "x2",
         "y": [
          13690,
          8110,
          16680,
          3140,
          10280,
          3010,
          830,
          3020,
          1520,
          1540,
          23560,
          3330,
          1030,
          4000,
          5030,
          4860,
          770,
          1710,
          1730,
          2010,
          12320,
          2180,
          14060,
          11370,
          1380,
          10800,
          1910,
          3490,
          1570,
          1590,
          2860,
          3610
         ],
         "yaxis": "y2"
        },
        {
         "customdata": [
          [
           "Egypt"
          ],
          [
           "Ethiopia"
          ],
          [
           "Gabon"
          ],
          [
           "Ghana"
          ],
          [
           "Liberia"
          ],
          [
           "Nigeria"
          ],
          [
           "South Africa"
          ],
          [
           "Togo"
          ],
          [
           "Kenya"
          ],
          [
           "Uganda"
          ],
          [
           "Rwanda"
          ],
          [
           "Burundi"
          ],
          [
           "Botswana"
          ],
          [
           "Cameroon"
          ],
          [
           "Chad"
          ],
          [
           "Zambia"
          ],
          [
           "Algeria"
          ],
          [
           "Tunisia"
          ],
          [
           "Burkina Faso"
          ],
          [
           "Benin"
          ],
          [
           "Senegal"
          ],
          [
           "Sierra Leone"
          ],
          [
           "Niger"
          ],
          [
           "Libya"
          ],
          [
           "Tanzania"
          ],
          [
           "Madagascar"
          ],
          [
           "Malawi"
          ],
          [
           "Mali"
          ],
          [
           "Mauritania"
          ],
          [
           "Mauritius"
          ],
          [
           "Morocco"
          ],
          [
           "Zimbabwe"
          ]
         ],
         "hovertemplate": "Country: %{customdata[0]}<br>Happines: %{x}<br>GNI per Capita (PPP): %{y}",
         "legendgroup": "Africa",
         "marker": {
          "color": "#AEFD8E",
          "symbol": "circle"
         },
         "mode": "markers",
         "name": "Africa",
         "orientation": "v",
         "showlegend": false,
         "type": "scatter",
         "x": [
          4.419,
          4.35,
          4.758,
          4.657,
          3.495,
          5.155,
          4.724,
          3.999,
          4.41,
          4.161,
          3.408,
          2.905,
          3.59,
          4.975,
          4.301,
          4.377,
          5.295,
          4.592,
          4.424,
          4.141,
          4.631,
          4.571,
          4.166,
          5.566,
          3.303,
          3.774,
          3.587,
          4.447,
          4.356,
          5.891,
          5.254,
          3.692
         ],
         "xaxis": "x",
         "y": [
          10743.81,
          1781.76,
          15794.08,
          4098.86,
          1040.09,
          5085.54,
          11756.3,
          1592.54,
          3051.69,
          1752.21,
          1958.61,
          659.73,
          15951.33,
          3291.13,
          1715.57,
          3581.89,
          13639.43,
          10676.96,
          1705.49,
          2134.59,
          3255.99,
          1381.3,
          912.04,
          11684.73,
          2805.12,
          1403.92,
          1159.12,
          1965.39,
          3746.08,
          22724.23,
          7479.59,
          2661.07
         ],
         "yaxis": "y"
        },
        {
         "customdata": [
          [
           "El Salvador"
          ],
          [
           "Guatemala"
          ],
          [
           "Guinea"
          ],
          [
           "Honduras"
          ],
          [
           "Chile"
          ],
          [
           "Argentina"
          ],
          [
           "Dominican Republic"
          ],
          [
           "Ecuador"
          ],
          [
           "Uruguay"
          ],
          [
           "Venezuela"
          ],
          [
           "Costa Rica"
          ],
          [
           "Colombia"
          ],
          [
           "Haiti"
          ],
          [
           "Jamaica"
          ],
          [
           "Bolivia"
          ],
          [
           "Brazil"
          ],
          [
           "Panama"
          ],
          [
           "Nicaragua"
          ],
          [
           "Paraguay"
          ],
          [
           "Peru"
          ]
         ],
         "hovertemplate": "Country: %{customdata[0]}<br>Happines: %{x}<br>GNI per Capita (PPP): %{y}",
         "legendgroup": "South America",
         "marker": {
          "color": "#E8EAC8",
          "symbol": "circle"
         },
         "mode": "markers",
         "name": "South America",
         "orientation": "v",
         "showlegend": true,
         "type": "scatter",
         "x": [
          6.002999783,
          6.453999996,
          3.506999969,
          5.181000233,
          6.65199995,
          6.598999977,
          5.230000019,
          6.007999897,
          6.453999996,
          5.25,
          7.078999996,
          6.356999874,
          3.602999926,
          5.31099987,
          5.822999954,
          6.635000229,
          6.452000141,
          6.071000099,
          5.493000031,
          5.715000153
         ],
         "xaxis": "x4",
         "y": [
          7240,
          7830,
          1790,
          4490,
          22010,
          19650,
          14130,
          10870,
          19310,
          null,
          16310,
          13700,
          1710,
          8520,
          6890,
          14470,
          22810,
          5150,
          11040,
          11180
         ],
         "yaxis": "y4"
        },
        {
         "customdata": [
          [
           "Nicaragua"
          ],
          [
           "Panama"
          ],
          [
           "Guatemala"
          ],
          [
           "Guinea"
          ],
          [
           "Haiti"
          ],
          [
           "Honduras"
          ],
          [
           "Brazil"
          ],
          [
           "Argentina"
          ],
          [
           "Uruguay"
          ],
          [
           "Peru"
          ],
          [
           "Paraguay"
          ],
          [
           "Jamaica"
          ],
          [
           "Dominican Republic"
          ],
          [
           "Colombia"
          ],
          [
           "Chile"
          ],
          [
           "Costa Rica"
          ],
          [
           "El Salvador"
          ],
          [
           "Bolivia"
          ],
          [
           "Venezuela"
          ],
          [
           "Ecuador"
          ]
         ],
         "hovertemplate": "Country: %{customdata[0]}<br>Happines: %{x}<br>GNI per Capita (PPP): %{y}",
         "legendgroup": "South America",
         "marker": {
          "color": "#E8EAC8",
          "symbol": "circle"
         },
         "mode": "markers",
         "name": "South America",
         "orientation": "v",
         "showlegend": false,
         "type": "scatter",
         "x": [
          5.828,
          6.786,
          6.123,
          3.656,
          4.518,
          4.788,
          6.983,
          6.574,
          6.485,
          5.824,
          5.878,
          5.709,
          4.885,
          6.477,
          6.67,
          7.226,
          6.13,
          5.89,
          6.81,
          5.975
         ],
         "xaxis": "x3",
         "y": [
          5540,
          25080,
          7910,
          2050,
          1770,
          4790,
          13950,
          19710,
          19650,
          11510,
          11540,
          8800,
          15420,
          13800,
          22080,
          17230,
          7620,
          7360,
          null,
          10830
         ],
         "yaxis": "y3"
        },
        {
         "customdata": [
          [
           "Venezuela"
          ],
          [
           "Jamaica"
          ],
          [
           "Nicaragua"
          ],
          [
           "Honduras"
          ],
          [
           "Guinea"
          ],
          [
           "Paraguay"
          ],
          [
           "Bolivia"
          ],
          [
           "Brazil"
          ],
          [
           "Panama"
          ],
          [
           "Dominican Republic"
          ],
          [
           "Guatemala"
          ],
          [
           "Peru"
          ],
          [
           "Argentina"
          ],
          [
           "Ecuador"
          ],
          [
           "El Salvador"
          ],
          [
           "Haiti"
          ],
          [
           "Uruguay"
          ],
          [
           "Colombia"
          ],
          [
           "Chile"
          ],
          [
           "Costa Rica"
          ]
         ],
         "hovertemplate": "Country: %{customdata[0]}<br>Happines: %{x}<br>GNI per Capita (PPP): %{y}",
         "legendgroup": "South America",
         "marker": {
          "color": "#E8EAC8",
          "symbol": "circle"
         },
         "mode": "markers",
         "name": "South America",
         "orientation": "v",
         "showlegend": false,
         "type": "scatter",
         "x": [
          4.707,
          5.89,
          6.105,
          5.86,
          4.534,
          5.743,
          5.779,
          6.3,
          6.321,
          5.425,
          6.436,
          5.697,
          6.086,
          6.028,
          6.253,
          3.597,
          6.293,
          6.125,
          6.444,
          7.167
         ],
         "xaxis": "x2",
         "y": [
          null,
          9320,
          5850,
          5220,
          2410,
          12210,
          8190,
          14250,
          27640,
          15940,
          8200,
          11930,
          22960,
          11350,
          7970,
          1770,
          20060,
          14050,
          22750,
          18040
         ],
         "yaxis": "y2"
        },
        {
         "customdata": [
          [
           "Ecuador"
          ],
          [
           "El Salvador"
          ],
          [
           "Dominican Republic"
          ],
          [
           "Nicaragua"
          ],
          [
           "Panama"
          ],
          [
           "Paraguay"
          ],
          [
           "Peru"
          ],
          [
           "Haiti"
          ],
          [
           "Honduras"
          ],
          [
           "Jamaica"
          ],
          [
           "Guinea"
          ],
          [
           "Guatemala"
          ],
          [
           "Colombia"
          ],
          [
           "Costa Rica"
          ],
          [
           "Brazil"
          ],
          [
           "Bolivia"
          ],
          [
           "Venezuela"
          ],
          [
           "Uruguay"
          ],
          [
           "Argentina"
          ],
          [
           "Chile"
          ]
         ],
         "hovertemplate": "Country: %{customdata[0]}<br>Happines: %{x}<br>GNI per Capita (PPP): %{y}",
         "legendgroup": "South America",
         "marker": {
          "color": "#E8EAC8",
          "symbol": "circle"
         },
         "mode": "markers",
         "name": "South America",
         "orientation": "v",
         "showlegend": false,
         "type": "scatter",
         "x": [
          5.973,
          6.167,
          5.302,
          6.141,
          6.43,
          5.681,
          5.663,
          3.582,
          5.504,
          5.89,
          3.964,
          6.382,
          6.26,
          7.072,
          6.419,
          5.752,
          4.806,
          6.379,
          6.388,
          6.476
         ],
         "xaxis": "x",
         "y": [
          10141.15,
          6973.46,
          15074.26,
          4789.84,
          20454.87,
          11719.96,
          12322.66,
          1664.89,
          4258.35,
          7931.52,
          2211,
          7377.92,
          12895.59,
          14789.93,
          14068.05,
          6849.2,
          9069.7,
          19434.85,
          17611.22,
          21972.28
         ],
         "yaxis": "y"
        },
        {
         "customdata": [
          [
           "Estonia"
          ],
          [
           "Finland"
          ],
          [
           "France"
          ],
          [
           "Germany"
          ],
          [
           "Greece"
          ],
          [
           "Hungary"
          ],
          [
           "Belgium"
          ],
          [
           "Albania"
          ],
          [
           "Austria"
          ],
          [
           "Belarus"
          ],
          [
           "Croatia"
          ],
          [
           "Spain"
          ],
          [
           "United Kingdom"
          ],
          [
           "Switzerland"
          ],
          [
           "Slovakia"
          ],
          [
           "Slovenia"
          ],
          [
           "Sweden"
          ],
          [
           "Ukraine"
          ],
          [
           "Serbia"
          ],
          [
           "Moldova"
          ],
          [
           "Ireland"
          ],
          [
           "Italy"
          ],
          [
           "Romania"
          ],
          [
           "Latvia"
          ],
          [
           "Lithuania"
          ],
          [
           "Luxembourg"
          ],
          [
           "Denmark"
          ],
          [
           "Russia"
          ],
          [
           "Malta"
          ],
          [
           "Portugal"
          ],
          [
           "Bosnia and Herzegovina"
          ],
          [
           "Bulgaria"
          ],
          [
           "Iceland"
          ],
          [
           "Montenegro"
          ],
          [
           "Poland"
          ],
          [
           "Netherlands"
          ],
          [
           "Norway"
          ]
         ],
         "hovertemplate": "Country: %{customdata[0]}<br>Happines: %{x}<br>GNI per Capita (PPP): %{y}",
         "legendgroup": "Europe",
         "marker": {
          "color": "#E3C97F",
          "symbol": "circle"
         },
         "mode": "markers",
         "name": "Europe",
         "orientation": "v",
         "showlegend": true,
         "type": "scatter",
         "x": [
          5.611000061,
          7.468999863,
          6.441999912,
          6.951000214,
          5.227000237,
          5.323999882,
          6.890999794,
          4.644000053,
          7.006000042,
          5.568999767,
          5.293000221,
          6.402999878,
          6.714000225,
          7.493999958,
          6.09800005,
          5.757999897,
          7.28399992,
          4.096000195,
          5.394999981,
          5.837999821,
          6.977000237,
          5.964000225,
          5.824999809,
          5.849999905,
          5.90199995,
          6.862999916,
          7.521999836,
          5.962999821,
          6.52699995,
          5.195000172,
          5.18200016,
          4.714000225,
          7.504000187,
          5.236999989,
          5.97300005,
          7.376999855,
          7.537000179
         ],
         "xaxis": "x4",
         "y": [
          28570,
          42950,
          41740,
          48770,
          26940,
          25460,
          46870,
          11800,
          49390,
          19260,
          22870,
          34900,
          41550,
          65450,
          28950,
          30660,
          49420,
          7880,
          14230,
          11290,
          52990,
          36650,
          21130,
          24690,
          27780,
          67590,
          50560,
          23420,
          34280,
          28870,
          12100,
          17820,
          46480,
          16700,
          25880,
          50340,
          63030
         ],
         "yaxis": "y4"
        },
        {
         "customdata": [
          [
           "Austria"
          ],
          [
           "Spain"
          ],
          [
           "Latvia"
          ],
          [
           "Bulgaria"
          ],
          [
           "Norway"
          ],
          [
           "Montenegro"
          ],
          [
           "Germany"
          ],
          [
           "Greece"
          ],
          [
           "Hungary"
          ],
          [
           "Iceland"
          ],
          [
           "Portugal"
          ],
          [
           "Poland"
          ],
          [
           "Moldova"
          ],
          [
           "Switzerland"
          ],
          [
           "Slovenia"
          ],
          [
           "Romania"
          ],
          [
           "Slovakia"
          ],
          [
           "Russia"
          ],
          [
           "Albania"
          ],
          [
           "Serbia"
          ],
          [
           "Netherlands"
          ],
          [
           "Ukraine"
          ],
          [
           "Sweden"
          ],
          [
           "Lithuania"
          ],
          [
           "Luxembourg"
          ],
          [
           "Belgium"
          ],
          [
           "Belarus"
          ],
          [
           "Estonia"
          ],
          [
           "Italy"
          ],
          [
           "Bosnia and Herzegovina"
          ],
          [
           "Denmark"
          ],
          [
           "Malta"
          ],
          [
           "Ireland"
          ],
          [
           "France"
          ],
          [
           "Croatia"
          ],
          [
           "Finland"
          ],
          [
           "United Kingdom"
          ]
         ],
         "hovertemplate": "Country: %{customdata[0]}<br>Happines: %{x}<br>GNI per Capita (PPP): %{y}",
         "legendgroup": "Europe",
         "marker": {
          "color": "#E3C97F",
          "symbol": "circle"
         },
         "mode": "markers",
         "name": "Europe",
         "orientation": "v",
         "showlegend": false,
         "type": "scatter",
         "x": [
          7.2,
          6.329,
          5.098,
          4.218,
          7.522,
          5.192,
          6.75,
          4.857,
          4.8,
          7.561,
          5.102,
          5.791,
          5.889,
          7.587,
          5.848,
          5.124,
          5.995,
          5.716,
          4.959,
          5.123,
          7.378,
          4.681,
          7.364,
          5.833,
          6.946,
          6.937,
          5.813,
          5.429,
          5.948,
          4.949,
          7.527,
          6.302,
          6.94,
          6.575,
          5.759,
          7.406,
          6.867
         ],
         "xaxis": "x3",
         "y": [
          52630,
          37370,
          26340,
          19760,
          61840,
          18360,
          51810,
          27820,
          26990,
          50990,
          30840,
          27170,
          13060,
          66080,
          33010,
          23680,
          29160,
          23570,
          12270,
          14960,
          51510,
          8210,
          50780,
          29790,
          70450,
          49090,
          19280,
          30510,
          40030,
          13090,
          53110,
          35720,
          59070,
          43830,
          24130,
          45150,
          43100
         ],
         "yaxis": "y3"
        },
        {
         "customdata": [
          [
           "Latvia"
          ],
          [
           "Bosnia and Herzegovina"
          ],
          [
           "Belgium"
          ],
          [
           "Lithuania"
          ],
          [
           "Italy"
          ],
          [
           "Norway"
          ],
          [
           "Ireland"
          ],
          [
           "Iceland"
          ],
          [
           "Bulgaria"
          ],
          [
           "Hungary"
          ],
          [
           "Luxembourg"
          ],
          [
           "Montenegro"
          ],
          [
           "Sweden"
          ],
          [
           "Austria"
          ],
          [
           "Netherlands"
          ],
          [
           "Slovakia"
          ],
          [
           "Spain"
          ],
          [
           "Moldova"
          ],
          [
           "Poland"
          ],
          [
           "Belarus"
          ],
          [
           "Albania"
          ],
          [
           "Germany"
          ],
          [
           "Portugal"
          ],
          [
           "Ukraine"
          ],
          [
           "France"
          ],
          [
           "Slovenia"
          ],
          [
           "Finland"
          ],
          [
           "Romania"
          ],
          [
           "Switzerland"
          ],
          [
           "Greece"
          ],
          [
           "Russia"
          ],
          [
           "United Kingdom"
          ],
          [
           "Malta"
          ],
          [
           "Estonia"
          ],
          [
           "Denmark"
          ],
          [
           "Serbia"
          ],
          [
           "Croatia"
          ]
         ],
         "hovertemplate": "Country: %{customdata[0]}<br>Happines: %{x}<br>GNI per Capita (PPP): %{y}",
         "legendgroup": "Europe",
         "marker": {
          "color": "#E3C97F",
          "symbol": "circle"
         },
         "mode": "markers",
         "name": "Europe",
         "orientation": "v",
         "showlegend": false,
         "type": "scatter",
         "x": [
          5.94,
          5.386,
          6.923,
          6.149,
          6.223,
          7.554,
          7.021,
          7.494,
          5.011,
          5.758,
          7.09,
          5.523,
          7.343,
          7.246,
          7.488,
          6.198,
          6.354,
          5.529,
          6.182,
          5.323,
          4.719,
          6.985,
          5.693,
          4.332,
          6.592,
          6.118,
          7.769,
          6.07,
          7.48,
          5.287,
          5.648,
          7.054,
          6.726,
          5.893,
          7.6,
          5.603,
          5.432
         ],
         "xaxis": "x2",
         "y": [
          28360,
          13790,
          51320,
          32560,
          42010,
          65730,
          61590,
          54380,
          21460,
          28340,
          72750,
          20110,
          53490,
          54150,
          55770,
          30410,
          39570,
          12320,
          28900,
          17580,
          13130,
          54370,
          32310,
          8460,
          45850,
          35990,
          47480,
          26620,
          67890,
          29150,
          25380,
          45430,
          38370,
          32930,
          56360,
          15510,
          26310
         ],
         "yaxis": "y2"
        },
        {
         "customdata": [
          [
           "Finland"
          ],
          [
           "Ukraine"
          ],
          [
           "Slovenia"
          ],
          [
           "France"
          ],
          [
           "Germany"
          ],
          [
           "Poland"
          ],
          [
           "Portugal"
          ],
          [
           "Spain"
          ],
          [
           "Norway"
          ],
          [
           "Estonia"
          ],
          [
           "Latvia"
          ],
          [
           "Romania"
          ],
          [
           "Hungary"
          ],
          [
           "Iceland"
          ],
          [
           "Ireland"
          ],
          [
           "Italy"
          ],
          [
           "United Kingdom"
          ],
          [
           "Greece"
          ],
          [
           "Croatia"
          ],
          [
           "Russia"
          ],
          [
           "Belgium"
          ],
          [
           "Bosnia and Herzegovina"
          ],
          [
           "Austria"
          ],
          [
           "Bulgaria"
          ],
          [
           "Albania"
          ],
          [
           "Belarus"
          ],
          [
           "Denmark"
          ],
          [
           "Serbia"
          ],
          [
           "Netherlands"
          ],
          [
           "Lithuania"
          ],
          [
           "Luxembourg"
          ],
          [
           "Malta"
          ],
          [
           "Switzerland"
          ],
          [
           "Moldova"
          ],
          [
           "Sweden"
          ],
          [
           "Montenegro"
          ],
          [
           "Slovakia"
          ]
         ],
         "hovertemplate": "Country: %{customdata[0]}<br>Happines: %{x}<br>GNI per Capita (PPP): %{y}",
         "legendgroup": "Europe",
         "marker": {
          "color": "#E3C97F",
          "symbol": "circle"
         },
         "mode": "markers",
         "name": "Europe",
         "orientation": "v",
         "showlegend": false,
         "type": "scatter",
         "x": [
          7.632,
          4.103,
          5.948,
          6.489,
          6.965,
          6.123,
          5.41,
          6.31,
          7.594,
          5.739,
          5.933,
          5.945,
          5.62,
          7.495,
          6.977,
          6,
          7.19,
          5.358,
          5.321,
          5.81,
          6.927,
          5.129,
          7.139,
          4.933,
          4.586,
          5.483,
          7.555,
          5.398,
          7.441,
          5.952,
          6.91,
          6.627,
          7.487,
          5.64,
          7.314,
          5.347,
          6.173
         ],
         "xaxis": "x",
         "y": [
          41779.26,
          7994.21,
          32143.04,
          40510.78,
          46945.95,
          27625.8,
          27935.38,
          35041.3,
          68058.62,
          30378.63,
          26300.77,
          23905.77,
          27144.21,
          47566.45,
          55659.68,
          36141.43,
          39507.29,
          24909.34,
          23060.96,
          25036.02,
          43820.84,
          12689.68,
          46230.57,
          19645.94,
          12299.8,
          17038.53,
          48836.09,
          15217.7,
          50012.59,
          29775.26,
          65543.05,
          34795.18,
          59374.73,
          6833.11,
          47955.45,
          17510.71,
          30671.87
         ],
         "yaxis": "y"
        },
        {
         "customdata": [
          [
           "Australia"
          ],
          [
           "New Zealand"
          ]
         ],
         "hovertemplate": "Country: %{customdata[0]}<br>Happines: %{x}<br>GNI per Capita (PPP): %{y}",
         "legendgroup": "Australia",
         "marker": {
          "color": "#B2E4FA",
          "symbol": "circle"
         },
         "mode": "markers",
         "name": "Australia",
         "orientation": "v",
         "showlegend": true,
         "type": "scatter",
         "x": [
          7.28399992,
          7.31400013
         ],
         "xaxis": "x4",
         "y": [
          45330,
          36210
         ],
         "yaxis": "y4"
        },
        {
         "customdata": [
          [
           "Australia"
          ],
          [
           "New Zealand"
          ]
         ],
         "hovertemplate": "Country: %{customdata[0]}<br>Happines: %{x}<br>GNI per Capita (PPP): %{y}",
         "legendgroup": "Australia",
         "marker": {
          "color": "#B2E4FA",
          "symbol": "circle"
         },
         "mode": "markers",
         "name": "Australia",
         "orientation": "v",
         "showlegend": false,
         "type": "scatter",
         "x": [
          7.284,
          7.286
         ],
         "xaxis": "x3",
         "y": [
          46230,
          38630
         ],
         "yaxis": "y3"
        },
        {
         "customdata": [
          [
           "New Zealand"
          ],
          [
           "Australia"
          ]
         ],
         "hovertemplate": "Country: %{customdata[0]}<br>Happines: %{x}<br>GNI per Capita (PPP): %{y}",
         "legendgroup": "Australia",
         "marker": {
          "color": "#B2E4FA",
          "symbol": "circle"
         },
         "mode": "markers",
         "name": "Australia",
         "orientation": "v",
         "showlegend": false,
         "type": "scatter",
         "x": [
          7.307,
          7.228
         ],
         "xaxis": "x2",
         "y": [
          39330,
          47580
         ],
         "yaxis": "y2"
        },
        {
         "customdata": [
          [
           "Australia"
          ],
          [
           "New Zealand"
          ]
         ],
         "hovertemplate": "Country: %{customdata[0]}<br>Happines: %{x}<br>GNI per Capita (PPP): %{y}",
         "legendgroup": "Australia",
         "marker": {
          "color": "#B2E4FA",
          "symbol": "circle"
         },
         "mode": "markers",
         "name": "Australia",
         "orientation": "v",
         "showlegend": false,
         "type": "scatter",
         "x": [
          7.272,
          7.324
         ],
         "xaxis": "x",
         "y": [
          44097.02,
          35107.5
         ],
         "yaxis": "y"
        },
        {
         "customdata": [
          [
           "United States"
          ],
          [
           "Mexico"
          ],
          [
           "Canada"
          ]
         ],
         "hovertemplate": "Country: %{customdata[0]}<br>Happines: %{x}<br>GNI per Capita (PPP): %{y}",
         "legendgroup": "North America",
         "marker": {
          "color": "#B47FE3",
          "symbol": "circle"
         },
         "mode": "markers",
         "name": "North America",
         "orientation": "v",
         "showlegend": true,
         "type": "scatter",
         "x": [
          6.993000031,
          6.578000069,
          7.315999985
         ],
         "xaxis": "x4",
         "y": [
          58340,
          17830,
          43990
         ],
         "yaxis": "y4"
        },
        {
         "customdata": [
          [
           "Mexico"
          ],
          [
           "United States"
          ],
          [
           "Canada"
          ]
         ],
         "hovertemplate": "Country: %{customdata[0]}<br>Happines: %{x}<br>GNI per Capita (PPP): %{y}",
         "legendgroup": "North America",
         "marker": {
          "color": "#B47FE3",
          "symbol": "circle"
         },
         "mode": "markers",
         "name": "North America",
         "orientation": "v",
         "showlegend": false,
         "type": "scatter",
         "x": [
          7.187,
          7.119,
          7.427
         ],
         "xaxis": "x3",
         "y": [
          18810,
          58970,
          45910
         ],
         "yaxis": "y3"
        },
        {
         "customdata": [
          [
           "Mexico"
          ],
          [
           "Canada"
          ],
          [
           "United States"
          ]
         ],
         "hovertemplate": "Country: %{customdata[0]}<br>Happines: %{x}<br>GNI per Capita (PPP): %{y}",
         "legendgroup": "North America",
         "marker": {
          "color": "#B47FE3",
          "symbol": "circle"
         },
         "mode": "markers",
         "name": "North America",
         "orientation": "v",
         "showlegend": false,
         "type": "scatter",
         "x": [
          6.595,
          7.278,
          6.892
         ],
         "xaxis": "x2",
         "y": [
          19300,
          48070,
          61020
         ],
         "yaxis": "y2"
        },
        {
         "customdata": [
          [
           "United States"
          ],
          [
           "Canada"
          ],
          [
           "Mexico"
          ]
         ],
         "hovertemplate": "Country: %{customdata[0]}<br>Happines: %{x}<br>GNI per Capita (PPP): %{y}",
         "legendgroup": "North America",
         "marker": {
          "color": "#B47FE3",
          "symbol": "circle"
         },
         "mode": "markers",
         "name": "North America",
         "orientation": "v",
         "showlegend": false,
         "type": "scatter",
         "x": [
          6.886,
          7.328,
          6.488
         ],
         "xaxis": "x",
         "y": [
          56140.23,
          43602.25,
          17628.12
         ],
         "yaxis": "y"
        }
       ],
       "layout": {
        "annotations": [
         {
          "font": {},
          "showarrow": false,
          "text": "Year=2018",
          "textangle": 90,
          "x": 0.98,
          "xanchor": "left",
          "xref": "paper",
          "y": 0.11375,
          "yanchor": "middle",
          "yref": "paper"
         },
         {
          "font": {},
          "showarrow": false,
          "text": "Year=2017",
          "textangle": 90,
          "x": 0.98,
          "xanchor": "left",
          "xref": "paper",
          "y": 0.37124999999999997,
          "yanchor": "middle",
          "yref": "paper"
         },
         {
          "font": {},
          "showarrow": false,
          "text": "Year=2016",
          "textangle": 90,
          "x": 0.98,
          "xanchor": "left",
          "xref": "paper",
          "y": 0.62875,
          "yanchor": "middle",
          "yref": "paper"
         },
         {
          "font": {},
          "showarrow": false,
          "text": "Year=2015",
          "textangle": 90,
          "x": 0.98,
          "xanchor": "left",
          "xref": "paper",
          "y": 0.88625,
          "yanchor": "middle",
          "yref": "paper"
         }
        ],
        "height": 1000,
        "legend": {
         "title": {
          "text": "continent"
         },
         "tracegroupgap": 0
        },
        "margin": {
         "t": 60
        },
        "plot_bgcolor": "rgb(240, 240, 240, 240)",
        "template": {
         "data": {
          "bar": [
           {
            "error_x": {
             "color": "#2a3f5f"
            },
            "error_y": {
             "color": "#2a3f5f"
            },
            "marker": {
             "line": {
              "color": "#E5ECF6",
              "width": 0.5
             },
             "pattern": {
              "fillmode": "overlay",
              "size": 10,
              "solidity": 0.2
             }
            },
            "type": "bar"
           }
          ],
          "barpolar": [
           {
            "marker": {
             "line": {
              "color": "#E5ECF6",
              "width": 0.5
             },
             "pattern": {
              "fillmode": "overlay",
              "size": 10,
              "solidity": 0.2
             }
            },
            "type": "barpolar"
           }
          ],
          "carpet": [
           {
            "aaxis": {
             "endlinecolor": "#2a3f5f",
             "gridcolor": "white",
             "linecolor": "white",
             "minorgridcolor": "white",
             "startlinecolor": "#2a3f5f"
            },
            "baxis": {
             "endlinecolor": "#2a3f5f",
             "gridcolor": "white",
             "linecolor": "white",
             "minorgridcolor": "white",
             "startlinecolor": "#2a3f5f"
            },
            "type": "carpet"
           }
          ],
          "choropleth": [
           {
            "colorbar": {
             "outlinewidth": 0,
             "ticks": ""
            },
            "type": "choropleth"
           }
          ],
          "contour": [
           {
            "colorbar": {
             "outlinewidth": 0,
             "ticks": ""
            },
            "colorscale": [
             [
              0,
              "#0d0887"
             ],
             [
              0.1111111111111111,
              "#46039f"
             ],
             [
              0.2222222222222222,
              "#7201a8"
             ],
             [
              0.3333333333333333,
              "#9c179e"
             ],
             [
              0.4444444444444444,
              "#bd3786"
             ],
             [
              0.5555555555555556,
              "#d8576b"
             ],
             [
              0.6666666666666666,
              "#ed7953"
             ],
             [
              0.7777777777777778,
              "#fb9f3a"
             ],
             [
              0.8888888888888888,
              "#fdca26"
             ],
             [
              1,
              "#f0f921"
             ]
            ],
            "type": "contour"
           }
          ],
          "contourcarpet": [
           {
            "colorbar": {
             "outlinewidth": 0,
             "ticks": ""
            },
            "type": "contourcarpet"
           }
          ],
          "heatmap": [
           {
            "colorbar": {
             "outlinewidth": 0,
             "ticks": ""
            },
            "colorscale": [
             [
              0,
              "#0d0887"
             ],
             [
              0.1111111111111111,
              "#46039f"
             ],
             [
              0.2222222222222222,
              "#7201a8"
             ],
             [
              0.3333333333333333,
              "#9c179e"
             ],
             [
              0.4444444444444444,
              "#bd3786"
             ],
             [
              0.5555555555555556,
              "#d8576b"
             ],
             [
              0.6666666666666666,
              "#ed7953"
             ],
             [
              0.7777777777777778,
              "#fb9f3a"
             ],
             [
              0.8888888888888888,
              "#fdca26"
             ],
             [
              1,
              "#f0f921"
             ]
            ],
            "type": "heatmap"
           }
          ],
          "heatmapgl": [
           {
            "colorbar": {
             "outlinewidth": 0,
             "ticks": ""
            },
            "colorscale": [
             [
              0,
              "#0d0887"
             ],
             [
              0.1111111111111111,
              "#46039f"
             ],
             [
              0.2222222222222222,
              "#7201a8"
             ],
             [
              0.3333333333333333,
              "#9c179e"
             ],
             [
              0.4444444444444444,
              "#bd3786"
             ],
             [
              0.5555555555555556,
              "#d8576b"
             ],
             [
              0.6666666666666666,
              "#ed7953"
             ],
             [
              0.7777777777777778,
              "#fb9f3a"
             ],
             [
              0.8888888888888888,
              "#fdca26"
             ],
             [
              1,
              "#f0f921"
             ]
            ],
            "type": "heatmapgl"
           }
          ],
          "histogram": [
           {
            "marker": {
             "pattern": {
              "fillmode": "overlay",
              "size": 10,
              "solidity": 0.2
             }
            },
            "type": "histogram"
           }
          ],
          "histogram2d": [
           {
            "colorbar": {
             "outlinewidth": 0,
             "ticks": ""
            },
            "colorscale": [
             [
              0,
              "#0d0887"
             ],
             [
              0.1111111111111111,
              "#46039f"
             ],
             [
              0.2222222222222222,
              "#7201a8"
             ],
             [
              0.3333333333333333,
              "#9c179e"
             ],
             [
              0.4444444444444444,
              "#bd3786"
             ],
             [
              0.5555555555555556,
              "#d8576b"
             ],
             [
              0.6666666666666666,
              "#ed7953"
             ],
             [
              0.7777777777777778,
              "#fb9f3a"
             ],
             [
              0.8888888888888888,
              "#fdca26"
             ],
             [
              1,
              "#f0f921"
             ]
            ],
            "type": "histogram2d"
           }
          ],
          "histogram2dcontour": [
           {
            "colorbar": {
             "outlinewidth": 0,
             "ticks": ""
            },
            "colorscale": [
             [
              0,
              "#0d0887"
             ],
             [
              0.1111111111111111,
              "#46039f"
             ],
             [
              0.2222222222222222,
              "#7201a8"
             ],
             [
              0.3333333333333333,
              "#9c179e"
             ],
             [
              0.4444444444444444,
              "#bd3786"
             ],
             [
              0.5555555555555556,
              "#d8576b"
             ],
             [
              0.6666666666666666,
              "#ed7953"
             ],
             [
              0.7777777777777778,
              "#fb9f3a"
             ],
             [
              0.8888888888888888,
              "#fdca26"
             ],
             [
              1,
              "#f0f921"
             ]
            ],
            "type": "histogram2dcontour"
           }
          ],
          "mesh3d": [
           {
            "colorbar": {
             "outlinewidth": 0,
             "ticks": ""
            },
            "type": "mesh3d"
           }
          ],
          "parcoords": [
           {
            "line": {
             "colorbar": {
              "outlinewidth": 0,
              "ticks": ""
             }
            },
            "type": "parcoords"
           }
          ],
          "pie": [
           {
            "automargin": true,
            "type": "pie"
           }
          ],
          "scatter": [
           {
            "fillpattern": {
             "fillmode": "overlay",
             "size": 10,
             "solidity": 0.2
            },
            "type": "scatter"
           }
          ],
          "scatter3d": [
           {
            "line": {
             "colorbar": {
              "outlinewidth": 0,
              "ticks": ""
             }
            },
            "marker": {
             "colorbar": {
              "outlinewidth": 0,
              "ticks": ""
             }
            },
            "type": "scatter3d"
           }
          ],
          "scattercarpet": [
           {
            "marker": {
             "colorbar": {
              "outlinewidth": 0,
              "ticks": ""
             }
            },
            "type": "scattercarpet"
           }
          ],
          "scattergeo": [
           {
            "marker": {
             "colorbar": {
              "outlinewidth": 0,
              "ticks": ""
             }
            },
            "type": "scattergeo"
           }
          ],
          "scattergl": [
           {
            "marker": {
             "colorbar": {
              "outlinewidth": 0,
              "ticks": ""
             }
            },
            "type": "scattergl"
           }
          ],
          "scattermapbox": [
           {
            "marker": {
             "colorbar": {
              "outlinewidth": 0,
              "ticks": ""
             }
            },
            "type": "scattermapbox"
           }
          ],
          "scatterpolar": [
           {
            "marker": {
             "colorbar": {
              "outlinewidth": 0,
              "ticks": ""
             }
            },
            "type": "scatterpolar"
           }
          ],
          "scatterpolargl": [
           {
            "marker": {
             "colorbar": {
              "outlinewidth": 0,
              "ticks": ""
             }
            },
            "type": "scatterpolargl"
           }
          ],
          "scatterternary": [
           {
            "marker": {
             "colorbar": {
              "outlinewidth": 0,
              "ticks": ""
             }
            },
            "type": "scatterternary"
           }
          ],
          "surface": [
           {
            "colorbar": {
             "outlinewidth": 0,
             "ticks": ""
            },
            "colorscale": [
             [
              0,
              "#0d0887"
             ],
             [
              0.1111111111111111,
              "#46039f"
             ],
             [
              0.2222222222222222,
              "#7201a8"
             ],
             [
              0.3333333333333333,
              "#9c179e"
             ],
             [
              0.4444444444444444,
              "#bd3786"
             ],
             [
              0.5555555555555556,
              "#d8576b"
             ],
             [
              0.6666666666666666,
              "#ed7953"
             ],
             [
              0.7777777777777778,
              "#fb9f3a"
             ],
             [
              0.8888888888888888,
              "#fdca26"
             ],
             [
              1,
              "#f0f921"
             ]
            ],
            "type": "surface"
           }
          ],
          "table": [
           {
            "cells": {
             "fill": {
              "color": "#EBF0F8"
             },
             "line": {
              "color": "white"
             }
            },
            "header": {
             "fill": {
              "color": "#C8D4E3"
             },
             "line": {
              "color": "white"
             }
            },
            "type": "table"
           }
          ]
         },
         "layout": {
          "annotationdefaults": {
           "arrowcolor": "#2a3f5f",
           "arrowhead": 0,
           "arrowwidth": 1
          },
          "autotypenumbers": "strict",
          "coloraxis": {
           "colorbar": {
            "outlinewidth": 0,
            "ticks": ""
           }
          },
          "colorscale": {
           "diverging": [
            [
             0,
             "#8e0152"
            ],
            [
             0.1,
             "#c51b7d"
            ],
            [
             0.2,
             "#de77ae"
            ],
            [
             0.3,
             "#f1b6da"
            ],
            [
             0.4,
             "#fde0ef"
            ],
            [
             0.5,
             "#f7f7f7"
            ],
            [
             0.6,
             "#e6f5d0"
            ],
            [
             0.7,
             "#b8e186"
            ],
            [
             0.8,
             "#7fbc41"
            ],
            [
             0.9,
             "#4d9221"
            ],
            [
             1,
             "#276419"
            ]
           ],
           "sequential": [
            [
             0,
             "#0d0887"
            ],
            [
             0.1111111111111111,
             "#46039f"
            ],
            [
             0.2222222222222222,
             "#7201a8"
            ],
            [
             0.3333333333333333,
             "#9c179e"
            ],
            [
             0.4444444444444444,
             "#bd3786"
            ],
            [
             0.5555555555555556,
             "#d8576b"
            ],
            [
             0.6666666666666666,
             "#ed7953"
            ],
            [
             0.7777777777777778,
             "#fb9f3a"
            ],
            [
             0.8888888888888888,
             "#fdca26"
            ],
            [
             1,
             "#f0f921"
            ]
           ],
           "sequentialminus": [
            [
             0,
             "#0d0887"
            ],
            [
             0.1111111111111111,
             "#46039f"
            ],
            [
             0.2222222222222222,
             "#7201a8"
            ],
            [
             0.3333333333333333,
             "#9c179e"
            ],
            [
             0.4444444444444444,
             "#bd3786"
            ],
            [
             0.5555555555555556,
             "#d8576b"
            ],
            [
             0.6666666666666666,
             "#ed7953"
            ],
            [
             0.7777777777777778,
             "#fb9f3a"
            ],
            [
             0.8888888888888888,
             "#fdca26"
            ],
            [
             1,
             "#f0f921"
            ]
           ]
          },
          "colorway": [
           "#636efa",
           "#EF553B",
           "#00cc96",
           "#ab63fa",
           "#FFA15A",
           "#19d3f3",
           "#FF6692",
           "#B6E880",
           "#FF97FF",
           "#FECB52"
          ],
          "font": {
           "color": "#2a3f5f"
          },
          "geo": {
           "bgcolor": "white",
           "lakecolor": "white",
           "landcolor": "#E5ECF6",
           "showlakes": true,
           "showland": true,
           "subunitcolor": "white"
          },
          "hoverlabel": {
           "align": "left"
          },
          "hovermode": "closest",
          "mapbox": {
           "style": "light"
          },
          "paper_bgcolor": "white",
          "plot_bgcolor": "#E5ECF6",
          "polar": {
           "angularaxis": {
            "gridcolor": "white",
            "linecolor": "white",
            "ticks": ""
           },
           "bgcolor": "#E5ECF6",
           "radialaxis": {
            "gridcolor": "white",
            "linecolor": "white",
            "ticks": ""
           }
          },
          "scene": {
           "xaxis": {
            "backgroundcolor": "#E5ECF6",
            "gridcolor": "white",
            "gridwidth": 2,
            "linecolor": "white",
            "showbackground": true,
            "ticks": "",
            "zerolinecolor": "white"
           },
           "yaxis": {
            "backgroundcolor": "#E5ECF6",
            "gridcolor": "white",
            "gridwidth": 2,
            "linecolor": "white",
            "showbackground": true,
            "ticks": "",
            "zerolinecolor": "white"
           },
           "zaxis": {
            "backgroundcolor": "#E5ECF6",
            "gridcolor": "white",
            "gridwidth": 2,
            "linecolor": "white",
            "showbackground": true,
            "ticks": "",
            "zerolinecolor": "white"
           }
          },
          "shapedefaults": {
           "line": {
            "color": "#2a3f5f"
           }
          },
          "ternary": {
           "aaxis": {
            "gridcolor": "white",
            "linecolor": "white",
            "ticks": ""
           },
           "baxis": {
            "gridcolor": "white",
            "linecolor": "white",
            "ticks": ""
           },
           "bgcolor": "#E5ECF6",
           "caxis": {
            "gridcolor": "white",
            "linecolor": "white",
            "ticks": ""
           }
          },
          "title": {
           "x": 0.05
          },
          "xaxis": {
           "automargin": true,
           "gridcolor": "white",
           "linecolor": "white",
           "ticks": "",
           "title": {
            "standoff": 15
           },
           "zerolinecolor": "white",
           "zerolinewidth": 2
          },
          "yaxis": {
           "automargin": true,
           "gridcolor": "white",
           "linecolor": "white",
           "ticks": "",
           "title": {
            "standoff": 15
           },
           "zerolinecolor": "white",
           "zerolinewidth": 2
          }
         }
        },
        "title": {
         "text": "Scatter Plot of GNI per Capita (PPP) vs Happiness by Year"
        },
        "width": 800,
        "xaxis": {
         "anchor": "y",
         "domain": [
          0,
          0.98
         ],
         "title": {
          "text": "Happiness score"
         }
        },
        "xaxis2": {
         "anchor": "y2",
         "domain": [
          0,
          0.98
         ],
         "matches": "x",
         "showticklabels": false
        },
        "xaxis3": {
         "anchor": "y3",
         "domain": [
          0,
          0.98
         ],
         "matches": "x",
         "showticklabels": false
        },
        "xaxis4": {
         "anchor": "y4",
         "domain": [
          0,
          0.98
         ],
         "matches": "x",
         "showticklabels": false
        },
        "yaxis": {
         "anchor": "x",
         "domain": [
          0,
          0.2275
         ],
         "title": {
          "text": "GNI per Capita (PPP)"
         }
        },
        "yaxis2": {
         "anchor": "x2",
         "domain": [
          0.2575,
          0.485
         ],
         "matches": "y",
         "title": {
          "text": "GNI_per_capita_PPP"
         }
        },
        "yaxis3": {
         "anchor": "x3",
         "domain": [
          0.515,
          0.7425
         ],
         "matches": "y",
         "title": {
          "text": "GNI_per_capita_PPP"
         }
        },
        "yaxis4": {
         "anchor": "x4",
         "domain": [
          0.7725,
          1
         ],
         "matches": "y",
         "title": {
          "text": "GNI_per_capita_PPP"
         }
        }
       }
      },
      "text/html": [
       "<div>                            <div id=\"730e890a-f96d-40bf-9953-3407af1e2651\" class=\"plotly-graph-div\" style=\"height:1000px; width:800px;\"></div>            <script type=\"text/javascript\">                require([\"plotly\"], function(Plotly) {                    window.PLOTLYENV=window.PLOTLYENV || {};                                    if (document.getElementById(\"730e890a-f96d-40bf-9953-3407af1e2651\")) {                    Plotly.newPlot(                        \"730e890a-f96d-40bf-9953-3407af1e2651\",                        [{\"customdata\":[[\"Lebanon\"],[\"Georgia\"],[\"Cyprus\"],[\"China\"],[\"China\"],[\"Armenia\"],[\"Azerbaijan\"],[\"Bahrain\"],[\"Sri Lanka\"],[\"Turkmenistan\"],[\"Uzbekistan\"],[\"Bangladesh\"],[\"Tajikistan\"],[\"Yemen\"],[\"Vietnam\"],[\"United Arab Emirates\"],[\"Turkey\"],[\"Afghanistan\"],[\"Singapore\"],[\"India\"],[\"Thailand\"],[\"Kazakhstan\"],[\"Saudi Arabia\"],[\"Mongolia\"],[\"Kyrgyzstan\"],[\"Iraq\"],[\"Israel\"],[\"Japan\"],[\"Jordan\"],[\"Kuwait\"],[\"Malaysia\"],[\"Cambodia\"],[\"Indonesia\"],[\"Myanmar\"],[\"Iran\"],[\"Nepal\"],[\"Pakistan\"],[\"Philippines\"]],\"hovertemplate\":\"Country: %{customdata[0]}\\u003cbr\\u003eHappines: %{x}\\u003cbr\\u003eGNI per Capita (PPP): %{y}\",\"legendgroup\":\"Asia\",\"marker\":{\"color\":\"#FAA598\",\"symbol\":\"circle\"},\"mode\":\"markers\",\"name\":\"Asia\",\"orientation\":\"v\",\"showlegend\":true,\"x\":[5.224999905,4.285999775,5.620999813,5.272999763,5.272999763,4.375999928,5.234000206,6.086999893,4.440000057,5.822000027,5.971000195,4.607999802,5.040999889,3.592999935,5.073999882,6.647999763,5.5,3.79399991,6.572000027,4.315000057,6.423999786,5.818999767,6.343999863,4.954999924,5.004000187,4.497000217,7.212999821,5.920000076,5.335999966,6.105000019,6.084000111,4.168000221,5.262000084,4.545000076,4.691999912,4.961999893,5.269000053,5.429999828],\"xaxis\":\"x4\",\"y\":[14920.0,11420.0,31510.0,12880.0,57450.0,12490.0,15020.0,42760.0,11270.0,12890.0,6460.0,3790.0,3590.0,null,5790.0,64640.0,25340.0,2110.0,81040.0,5400.0,15010.0,23860.0,49450.0,9880.0,4460.0,10220.0,35130.0,41950.0,9140.0,52880.0,24120.0,3180.0,9910.0,4180.0,13300.0,2680.0,4640.0,8310.0],\"yaxis\":\"y4\",\"type\":\"scatter\"},{\"customdata\":[[\"Sri Lanka\"],[\"Yemen\"],[\"Pakistan\"],[\"Turkmenistan\"],[\"Georgia\"],[\"Myanmar\"],[\"Nepal\"],[\"Philippines\"],[\"Mongolia\"],[\"Bahrain\"],[\"Saudi Arabia\"],[\"Armenia\"],[\"Azerbaijan\"],[\"India\"],[\"Indonesia\"],[\"Kyrgyzstan\"],[\"Malaysia\"],[\"Tajikistan\"],[\"Bangladesh\"],[\"Vietnam\"],[\"Kazakhstan\"],[\"Jordan\"],[\"Israel\"],[\"Kuwait\"],[\"Japan\"],[\"Singapore\"],[\"Lebanon\"],[\"Thailand\"],[\"China\"],[\"Iran\"],[\"Turkey\"],[\"Cambodia\"],[\"Cyprus\"],[\"China\"],[\"Uzbekistan\"],[\"United Arab Emirates\"],[\"Iraq\"],[\"Afghanistan\"]],\"hovertemplate\":\"Country: %{customdata[0]}\\u003cbr\\u003eHappines: %{x}\\u003cbr\\u003eGNI per Capita (PPP): %{y}\",\"legendgroup\":\"Asia\",\"marker\":{\"color\":\"#FAA598\",\"symbol\":\"circle\"},\"mode\":\"markers\",\"name\":\"Asia\",\"orientation\":\"v\",\"showlegend\":false,\"x\":[4.271,4.077,5.194,5.548,4.297,4.307,4.514,5.073,4.874,5.96,6.411,4.35,5.212,4.565,5.399,5.286,5.77,4.786,4.694,5.36,5.855,5.192,7.278,6.295,5.987,6.798,4.839,6.455,5.14,4.686,5.332,3.819,5.689,5.14,6.003,6.901,4.677,3.575],\"xaxis\":\"x3\",\"y\":[11900.0,null,4680.0,13500.0,11760.0,4220.0,2620.0,8870.0,9860.0,41860.0,46110.0,13160.0,14920.0,5760.0,10160.0,5020.0,24840.0,3900.0,4070.0,6300.0,24280.0,9120.0,37500.0,51550.0,41350.0,83020.0,15250.0,15800.0,58670.0,13650.0,26050.0,3450.0,33000.0,13400.0,6530.0,63670.0,9720.0,2140.0],\"yaxis\":\"y3\",\"type\":\"scatter\"},{\"customdata\":[[\"Thailand\"],[\"Lebanon\"],[\"Myanmar\"],[\"Israel\"],[\"Kazakhstan\"],[\"Sri Lanka\"],[\"Kyrgyzstan\"],[\"Vietnam\"],[\"Japan\"],[\"Jordan\"],[\"India\"],[\"Indonesia\"],[\"Singapore\"],[\"Turkey\"],[\"Iran\"],[\"Pakistan\"],[\"Iraq\"],[\"Mongolia\"],[\"Nepal\"],[\"Armenia\"],[\"Turkmenistan\"],[\"Kuwait\"],[\"Philippines\"],[\"Bahrain\"],[\"Azerbaijan\"],[\"Cambodia\"],[\"Tajikistan\"],[\"Georgia\"],[\"Uzbekistan\"],[\"Malaysia\"],[\"United Arab Emirates\"],[\"Saudi Arabia\"],[\"Yemen\"],[\"Cyprus\"],[\"China\"],[\"China\"],[\"Bangladesh\"],[\"Afghanistan\"]],\"hovertemplate\":\"Country: %{customdata[0]}\\u003cbr\\u003eHappines: %{x}\\u003cbr\\u003eGNI per Capita (PPP): %{y}\",\"legendgroup\":\"Asia\",\"marker\":{\"color\":\"#FAA598\",\"symbol\":\"circle\"},\"mode\":\"markers\",\"name\":\"Asia\",\"orientation\":\"v\",\"showlegend\":false,\"x\":[6.008,5.197,4.36,7.139,5.809,4.366,5.261,5.175,5.886,4.906,4.015,5.192,6.262,5.373,4.548,5.653,4.437,5.285,4.913,4.559,5.247,6.021,5.631,6.199,5.208,4.7,5.467,4.519,6.174,5.339,6.825,6.375,3.38,6.046,5.191,5.191,4.456,3.203],\"xaxis\":\"x2\",\"y\":[16610.0,16070.0,4480.0,38570.0,22160.0,12340.0,4800.0,6620.0,42290.0,9790.0,6120.0,10580.0,87440.0,27570.0,14560.0,4820.0,10850.0,9720.0,3140.0,12540.0,13620.0,59260.0,9320.0,44980.0,13510.0,3680.0,3560.0,12910.0,6650.0,25900.0,66290.0,48040.0,null,35750.0,62530.0,14140.0,4340.0,2210.0],\"yaxis\":\"y2\",\"type\":\"scatter\"},{\"customdata\":[[\"United Arab Emirates\"],[\"Georgia\"],[\"Malaysia\"],[\"Lebanon\"],[\"Pakistan\"],[\"Philippines\"],[\"Turkmenistan\"],[\"India\"],[\"Turkey\"],[\"Iran\"],[\"Iraq\"],[\"Israel\"],[\"China\"],[\"Japan\"],[\"Jordan\"],[\"Kazakhstan\"],[\"Kuwait\"],[\"Thailand\"],[\"Kyrgyzstan\"],[\"Cyprus\"],[\"Indonesia\"],[\"Azerbaijan\"],[\"Uzbekistan\"],[\"Bangladesh\"],[\"Vietnam\"],[\"Cambodia\"],[\"Afghanistan\"],[\"Bahrain\"],[\"Yemen\"],[\"Sri Lanka\"],[\"Saudi Arabia\"],[\"Singapore\"],[\"China\"],[\"Tajikistan\"],[\"Mongolia\"],[\"Myanmar\"],[\"Nepal\"],[\"Armenia\"]],\"hovertemplate\":\"Country: %{customdata[0]}\\u003cbr\\u003eHappines: %{x}\\u003cbr\\u003eGNI per Capita (PPP): %{y}\",\"legendgroup\":\"Asia\",\"marker\":{\"color\":\"#FAA598\",\"symbol\":\"circle\"},\"mode\":\"markers\",\"name\":\"Asia\",\"orientation\":\"v\",\"showlegend\":false,\"x\":[6.774,4.34,6.322,5.358,5.472,5.524,5.636,4.19,5.483,4.707,4.456,6.814,5.246,5.915,5.161,5.79,6.083,6.072,5.131,5.762,5.093,5.201,6.096,4.5,5.103,4.433,3.632,6.105,3.355,4.471,6.371,6.343,5.246,5.199,5.125,4.308,4.88,4.321],\"xaxis\":\"x\",\"y\":[66911.66,9569.52,27226.68,11136.25,5190.08,9539.7,16407.47,6828.6,24905.38,18166.47,15364.96,33649.69,16126.57,40799.01,8267.81,22167.7,71164.22,16128.55,3316.79,33100.32,11255.78,15240.14,6461.84,4057.25,6220.27,3597.4,1745.67,40399.12,1433.3,11610.91,49338.41,83792.67,60220.8,3482.38,10783.71,5763.94,2748.2,9277.23],\"yaxis\":\"y\",\"type\":\"scatter\"},{\"customdata\":[[\"Egypt\"],[\"Ethiopia\"],[\"Gabon\"],[\"Ghana\"],[\"Algeria\"],[\"Zimbabwe\"],[\"Tanzania\"],[\"Tunisia\"],[\"South Africa\"],[\"Uganda\"],[\"Togo\"],[\"Zambia\"],[\"Sierra Leone\"],[\"Benin\"],[\"Rwanda\"],[\"Senegal\"],[\"Kenya\"],[\"Mauritius\"],[\"Liberia\"],[\"Libya\"],[\"Madagascar\"],[\"Malawi\"],[\"Mali\"],[\"Mauritania\"],[\"Botswana\"],[\"Burkina Faso\"],[\"Burundi\"],[\"Cameroon\"],[\"Nigeria\"],[\"Chad\"],[\"Niger\"],[\"Morocco\"]],\"hovertemplate\":\"Country: %{customdata[0]}\\u003cbr\\u003eHappines: %{x}\\u003cbr\\u003eGNI per Capita (PPP): %{y}\",\"legendgroup\":\"Africa\",\"marker\":{\"color\":\"#AEFD8E\",\"symbol\":\"circle\"},\"mode\":\"markers\",\"name\":\"Africa\",\"orientation\":\"v\",\"showlegend\":true,\"x\":[4.735000134,4.460000038,4.465000153,4.119999886,5.872000217,3.875,3.348999977,4.804999828,4.828999996,4.080999851,3.494999886,4.513999939,4.709000111,3.657000065,3.470999956,4.534999847,4.552999973,5.629000187,3.532999992,5.525000095,3.644000053,3.970000029,4.190000057,4.291999817,3.766000032,4.032000065,2.904999971,4.695000172,5.073999882,3.936000109,4.027999878,5.235000134],\"xaxis\":\"x4\",\"y\":[11160.0,1650.0,13480.0,5050.0,11700.0,2410.0,2740.0,9890.0,12240.0,1750.0,1440.0,3370.0,1570.0,2860.0,1710.0,2910.0,3330.0,20860.0,1180.0,12740.0,1500.0,990.0,1990.0,3160.0,15310.0,1460.0,840.0,3210.0,5280.0,1760.0,840.0,7670.0],\"yaxis\":\"y4\",\"type\":\"scatter\"},{\"customdata\":[[\"Nigeria\"],[\"Zambia\"],[\"Niger\"],[\"Mauritius\"],[\"Ghana\"],[\"Burundi\"],[\"Uganda\"],[\"Burkina Faso\"],[\"Algeria\"],[\"Morocco\"],[\"Zimbabwe\"],[\"Senegal\"],[\"Sierra Leone\"],[\"South Africa\"],[\"Rwanda\"],[\"Libya\"],[\"Tanzania\"],[\"Madagascar\"],[\"Malawi\"],[\"Mali\"],[\"Mauritania\"],[\"Benin\"],[\"Botswana\"],[\"Kenya\"],[\"Togo\"],[\"Liberia\"],[\"Tunisia\"],[\"Gabon\"],[\"Chad\"],[\"Egypt\"],[\"Ethiopia\"],[\"Cameroon\"]],\"hovertemplate\":\"Country: %{customdata[0]}\\u003cbr\\u003eHappines: %{x}\\u003cbr\\u003eGNI per Capita (PPP): %{y}\",\"legendgroup\":\"Africa\",\"marker\":{\"color\":\"#AEFD8E\",\"symbol\":\"circle\"},\"mode\":\"markers\",\"name\":\"Africa\",\"orientation\":\"v\",\"showlegend\":false,\"x\":[5.268,5.129,3.845,5.477,4.633,2.905,3.931,3.587,5.605,5.013,4.61,3.904,4.507,4.642,3.465,5.754,3.781,3.681,4.292,3.995,4.436,3.34,4.332,4.419,2.839,4.571,4.739,3.896,3.667,4.194,4.512,4.252],\"xaxis\":\"x3\",\"y\":[5120.0,3330.0,820.0,22390.0,4800.0,800.0,1690.0,1550.0,11520.0,7730.0,2570.0,3000.0,1420.0,12240.0,1790.0,11430.0,2860.0,1550.0,1020.0,2130.0,3350.0,2980.0,16600.0,3620.0,1470.0,1260.0,10070.0,13180.0,1630.0,10850.0,1870.0,3350.0],\"yaxis\":\"y3\",\"type\":\"scatter\"},{\"customdata\":[[\"Libya\"],[\"Morocco\"],[\"Botswana\"],[\"Senegal\"],[\"Tunisia\"],[\"Benin\"],[\"Niger\"],[\"Tanzania\"],[\"Togo\"],[\"Madagascar\"],[\"Mauritius\"],[\"Zambia\"],[\"Malawi\"],[\"Kenya\"],[\"Nigeria\"],[\"Ghana\"],[\"Burundi\"],[\"Uganda\"],[\"Burkina Faso\"],[\"Ethiopia\"],[\"South Africa\"],[\"Mali\"],[\"Gabon\"],[\"Algeria\"],[\"Liberia\"],[\"Egypt\"],[\"Rwanda\"],[\"Cameroon\"],[\"Chad\"],[\"Sierra Leone\"],[\"Zimbabwe\"],[\"Mauritania\"]],\"hovertemplate\":\"Country: %{customdata[0]}\\u003cbr\\u003eHappines: %{x}\\u003cbr\\u003eGNI per Capita (PPP): %{y}\",\"legendgroup\":\"Africa\",\"marker\":{\"color\":\"#AEFD8E\",\"symbol\":\"circle\"},\"mode\":\"markers\",\"name\":\"Africa\",\"orientation\":\"v\",\"showlegend\":false,\"x\":[5.525,5.208,3.488,4.681,4.461,4.883,4.628,3.231,4.085,3.933,5.888,4.107,3.41,4.509,5.265,4.996,3.775,4.189,4.587,4.286,4.722,4.39,4.799,5.211,3.975,4.166,3.334,5.044,4.35,4.374,3.663,4.49],\"xaxis\":\"x2\",\"y\":[13690.0,8110.0,16680.0,3140.0,10280.0,3010.0,830.0,3020.0,1520.0,1540.0,23560.0,3330.0,1030.0,4000.0,5030.0,4860.0,770.0,1710.0,1730.0,2010.0,12320.0,2180.0,14060.0,11370.0,1380.0,10800.0,1910.0,3490.0,1570.0,1590.0,2860.0,3610.0],\"yaxis\":\"y2\",\"type\":\"scatter\"},{\"customdata\":[[\"Egypt\"],[\"Ethiopia\"],[\"Gabon\"],[\"Ghana\"],[\"Liberia\"],[\"Nigeria\"],[\"South Africa\"],[\"Togo\"],[\"Kenya\"],[\"Uganda\"],[\"Rwanda\"],[\"Burundi\"],[\"Botswana\"],[\"Cameroon\"],[\"Chad\"],[\"Zambia\"],[\"Algeria\"],[\"Tunisia\"],[\"Burkina Faso\"],[\"Benin\"],[\"Senegal\"],[\"Sierra Leone\"],[\"Niger\"],[\"Libya\"],[\"Tanzania\"],[\"Madagascar\"],[\"Malawi\"],[\"Mali\"],[\"Mauritania\"],[\"Mauritius\"],[\"Morocco\"],[\"Zimbabwe\"]],\"hovertemplate\":\"Country: %{customdata[0]}\\u003cbr\\u003eHappines: %{x}\\u003cbr\\u003eGNI per Capita (PPP): %{y}\",\"legendgroup\":\"Africa\",\"marker\":{\"color\":\"#AEFD8E\",\"symbol\":\"circle\"},\"mode\":\"markers\",\"name\":\"Africa\",\"orientation\":\"v\",\"showlegend\":false,\"x\":[4.419,4.35,4.758,4.657,3.495,5.155,4.724,3.999,4.41,4.161,3.408,2.905,3.59,4.975,4.301,4.377,5.295,4.592,4.424,4.141,4.631,4.571,4.166,5.566,3.303,3.774,3.587,4.447,4.356,5.891,5.254,3.692],\"xaxis\":\"x\",\"y\":[10743.81,1781.76,15794.08,4098.86,1040.09,5085.54,11756.3,1592.54,3051.69,1752.21,1958.61,659.73,15951.33,3291.13,1715.57,3581.89,13639.43,10676.96,1705.49,2134.59,3255.99,1381.3,912.04,11684.73,2805.12,1403.92,1159.12,1965.39,3746.08,22724.23,7479.59,2661.07],\"yaxis\":\"y\",\"type\":\"scatter\"},{\"customdata\":[[\"El Salvador\"],[\"Guatemala\"],[\"Guinea\"],[\"Honduras\"],[\"Chile\"],[\"Argentina\"],[\"Dominican Republic\"],[\"Ecuador\"],[\"Uruguay\"],[\"Venezuela\"],[\"Costa Rica\"],[\"Colombia\"],[\"Haiti\"],[\"Jamaica\"],[\"Bolivia\"],[\"Brazil\"],[\"Panama\"],[\"Nicaragua\"],[\"Paraguay\"],[\"Peru\"]],\"hovertemplate\":\"Country: %{customdata[0]}\\u003cbr\\u003eHappines: %{x}\\u003cbr\\u003eGNI per Capita (PPP): %{y}\",\"legendgroup\":\"South America\",\"marker\":{\"color\":\"#E8EAC8\",\"symbol\":\"circle\"},\"mode\":\"markers\",\"name\":\"South America\",\"orientation\":\"v\",\"showlegend\":true,\"x\":[6.002999783,6.453999996,3.506999969,5.181000233,6.65199995,6.598999977,5.230000019,6.007999897,6.453999996,5.25,7.078999996,6.356999874,3.602999926,5.31099987,5.822999954,6.635000229,6.452000141,6.071000099,5.493000031,5.715000153],\"xaxis\":\"x4\",\"y\":[7240.0,7830.0,1790.0,4490.0,22010.0,19650.0,14130.0,10870.0,19310.0,null,16310.0,13700.0,1710.0,8520.0,6890.0,14470.0,22810.0,5150.0,11040.0,11180.0],\"yaxis\":\"y4\",\"type\":\"scatter\"},{\"customdata\":[[\"Nicaragua\"],[\"Panama\"],[\"Guatemala\"],[\"Guinea\"],[\"Haiti\"],[\"Honduras\"],[\"Brazil\"],[\"Argentina\"],[\"Uruguay\"],[\"Peru\"],[\"Paraguay\"],[\"Jamaica\"],[\"Dominican Republic\"],[\"Colombia\"],[\"Chile\"],[\"Costa Rica\"],[\"El Salvador\"],[\"Bolivia\"],[\"Venezuela\"],[\"Ecuador\"]],\"hovertemplate\":\"Country: %{customdata[0]}\\u003cbr\\u003eHappines: %{x}\\u003cbr\\u003eGNI per Capita (PPP): %{y}\",\"legendgroup\":\"South America\",\"marker\":{\"color\":\"#E8EAC8\",\"symbol\":\"circle\"},\"mode\":\"markers\",\"name\":\"South America\",\"orientation\":\"v\",\"showlegend\":false,\"x\":[5.828,6.786,6.123,3.656,4.518,4.788,6.983,6.574,6.485,5.824,5.878,5.709,4.885,6.477,6.67,7.226,6.13,5.89,6.81,5.975],\"xaxis\":\"x3\",\"y\":[5540.0,25080.0,7910.0,2050.0,1770.0,4790.0,13950.0,19710.0,19650.0,11510.0,11540.0,8800.0,15420.0,13800.0,22080.0,17230.0,7620.0,7360.0,null,10830.0],\"yaxis\":\"y3\",\"type\":\"scatter\"},{\"customdata\":[[\"Venezuela\"],[\"Jamaica\"],[\"Nicaragua\"],[\"Honduras\"],[\"Guinea\"],[\"Paraguay\"],[\"Bolivia\"],[\"Brazil\"],[\"Panama\"],[\"Dominican Republic\"],[\"Guatemala\"],[\"Peru\"],[\"Argentina\"],[\"Ecuador\"],[\"El Salvador\"],[\"Haiti\"],[\"Uruguay\"],[\"Colombia\"],[\"Chile\"],[\"Costa Rica\"]],\"hovertemplate\":\"Country: %{customdata[0]}\\u003cbr\\u003eHappines: %{x}\\u003cbr\\u003eGNI per Capita (PPP): %{y}\",\"legendgroup\":\"South America\",\"marker\":{\"color\":\"#E8EAC8\",\"symbol\":\"circle\"},\"mode\":\"markers\",\"name\":\"South America\",\"orientation\":\"v\",\"showlegend\":false,\"x\":[4.707,5.89,6.105,5.86,4.534,5.743,5.779,6.3,6.321,5.425,6.436,5.697,6.086,6.028,6.253,3.597,6.293,6.125,6.444,7.167],\"xaxis\":\"x2\",\"y\":[null,9320.0,5850.0,5220.0,2410.0,12210.0,8190.0,14250.0,27640.0,15940.0,8200.0,11930.0,22960.0,11350.0,7970.0,1770.0,20060.0,14050.0,22750.0,18040.0],\"yaxis\":\"y2\",\"type\":\"scatter\"},{\"customdata\":[[\"Ecuador\"],[\"El Salvador\"],[\"Dominican Republic\"],[\"Nicaragua\"],[\"Panama\"],[\"Paraguay\"],[\"Peru\"],[\"Haiti\"],[\"Honduras\"],[\"Jamaica\"],[\"Guinea\"],[\"Guatemala\"],[\"Colombia\"],[\"Costa Rica\"],[\"Brazil\"],[\"Bolivia\"],[\"Venezuela\"],[\"Uruguay\"],[\"Argentina\"],[\"Chile\"]],\"hovertemplate\":\"Country: %{customdata[0]}\\u003cbr\\u003eHappines: %{x}\\u003cbr\\u003eGNI per Capita (PPP): %{y}\",\"legendgroup\":\"South America\",\"marker\":{\"color\":\"#E8EAC8\",\"symbol\":\"circle\"},\"mode\":\"markers\",\"name\":\"South America\",\"orientation\":\"v\",\"showlegend\":false,\"x\":[5.973,6.167,5.302,6.141,6.43,5.681,5.663,3.582,5.504,5.89,3.964,6.382,6.26,7.072,6.419,5.752,4.806,6.379,6.388,6.476],\"xaxis\":\"x\",\"y\":[10141.15,6973.46,15074.26,4789.84,20454.87,11719.96,12322.66,1664.89,4258.35,7931.52,2211.0,7377.92,12895.59,14789.93,14068.05,6849.2,9069.7,19434.85,17611.22,21972.28],\"yaxis\":\"y\",\"type\":\"scatter\"},{\"customdata\":[[\"Estonia\"],[\"Finland\"],[\"France\"],[\"Germany\"],[\"Greece\"],[\"Hungary\"],[\"Belgium\"],[\"Albania\"],[\"Austria\"],[\"Belarus\"],[\"Croatia\"],[\"Spain\"],[\"United Kingdom\"],[\"Switzerland\"],[\"Slovakia\"],[\"Slovenia\"],[\"Sweden\"],[\"Ukraine\"],[\"Serbia\"],[\"Moldova\"],[\"Ireland\"],[\"Italy\"],[\"Romania\"],[\"Latvia\"],[\"Lithuania\"],[\"Luxembourg\"],[\"Denmark\"],[\"Russia\"],[\"Malta\"],[\"Portugal\"],[\"Bosnia and Herzegovina\"],[\"Bulgaria\"],[\"Iceland\"],[\"Montenegro\"],[\"Poland\"],[\"Netherlands\"],[\"Norway\"]],\"hovertemplate\":\"Country: %{customdata[0]}\\u003cbr\\u003eHappines: %{x}\\u003cbr\\u003eGNI per Capita (PPP): %{y}\",\"legendgroup\":\"Europe\",\"marker\":{\"color\":\"#E3C97F\",\"symbol\":\"circle\"},\"mode\":\"markers\",\"name\":\"Europe\",\"orientation\":\"v\",\"showlegend\":true,\"x\":[5.611000061,7.468999863,6.441999912,6.951000214,5.227000237,5.323999882,6.890999794,4.644000053,7.006000042,5.568999767,5.293000221,6.402999878,6.714000225,7.493999958,6.09800005,5.757999897,7.28399992,4.096000195,5.394999981,5.837999821,6.977000237,5.964000225,5.824999809,5.849999905,5.90199995,6.862999916,7.521999836,5.962999821,6.52699995,5.195000172,5.18200016,4.714000225,7.504000187,5.236999989,5.97300005,7.376999855,7.537000179],\"xaxis\":\"x4\",\"y\":[28570.0,42950.0,41740.0,48770.0,26940.0,25460.0,46870.0,11800.0,49390.0,19260.0,22870.0,34900.0,41550.0,65450.0,28950.0,30660.0,49420.0,7880.0,14230.0,11290.0,52990.0,36650.0,21130.0,24690.0,27780.0,67590.0,50560.0,23420.0,34280.0,28870.0,12100.0,17820.0,46480.0,16700.0,25880.0,50340.0,63030.0],\"yaxis\":\"y4\",\"type\":\"scatter\"},{\"customdata\":[[\"Austria\"],[\"Spain\"],[\"Latvia\"],[\"Bulgaria\"],[\"Norway\"],[\"Montenegro\"],[\"Germany\"],[\"Greece\"],[\"Hungary\"],[\"Iceland\"],[\"Portugal\"],[\"Poland\"],[\"Moldova\"],[\"Switzerland\"],[\"Slovenia\"],[\"Romania\"],[\"Slovakia\"],[\"Russia\"],[\"Albania\"],[\"Serbia\"],[\"Netherlands\"],[\"Ukraine\"],[\"Sweden\"],[\"Lithuania\"],[\"Luxembourg\"],[\"Belgium\"],[\"Belarus\"],[\"Estonia\"],[\"Italy\"],[\"Bosnia and Herzegovina\"],[\"Denmark\"],[\"Malta\"],[\"Ireland\"],[\"France\"],[\"Croatia\"],[\"Finland\"],[\"United Kingdom\"]],\"hovertemplate\":\"Country: %{customdata[0]}\\u003cbr\\u003eHappines: %{x}\\u003cbr\\u003eGNI per Capita (PPP): %{y}\",\"legendgroup\":\"Europe\",\"marker\":{\"color\":\"#E3C97F\",\"symbol\":\"circle\"},\"mode\":\"markers\",\"name\":\"Europe\",\"orientation\":\"v\",\"showlegend\":false,\"x\":[7.2,6.329,5.098,4.218,7.522,5.192,6.75,4.857,4.8,7.561,5.102,5.791,5.889,7.587,5.848,5.124,5.995,5.716,4.959,5.123,7.378,4.681,7.364,5.833,6.946,6.937,5.813,5.429,5.948,4.949,7.527,6.302,6.94,6.575,5.759,7.406,6.867],\"xaxis\":\"x3\",\"y\":[52630.0,37370.0,26340.0,19760.0,61840.0,18360.0,51810.0,27820.0,26990.0,50990.0,30840.0,27170.0,13060.0,66080.0,33010.0,23680.0,29160.0,23570.0,12270.0,14960.0,51510.0,8210.0,50780.0,29790.0,70450.0,49090.0,19280.0,30510.0,40030.0,13090.0,53110.0,35720.0,59070.0,43830.0,24130.0,45150.0,43100.0],\"yaxis\":\"y3\",\"type\":\"scatter\"},{\"customdata\":[[\"Latvia\"],[\"Bosnia and Herzegovina\"],[\"Belgium\"],[\"Lithuania\"],[\"Italy\"],[\"Norway\"],[\"Ireland\"],[\"Iceland\"],[\"Bulgaria\"],[\"Hungary\"],[\"Luxembourg\"],[\"Montenegro\"],[\"Sweden\"],[\"Austria\"],[\"Netherlands\"],[\"Slovakia\"],[\"Spain\"],[\"Moldova\"],[\"Poland\"],[\"Belarus\"],[\"Albania\"],[\"Germany\"],[\"Portugal\"],[\"Ukraine\"],[\"France\"],[\"Slovenia\"],[\"Finland\"],[\"Romania\"],[\"Switzerland\"],[\"Greece\"],[\"Russia\"],[\"United Kingdom\"],[\"Malta\"],[\"Estonia\"],[\"Denmark\"],[\"Serbia\"],[\"Croatia\"]],\"hovertemplate\":\"Country: %{customdata[0]}\\u003cbr\\u003eHappines: %{x}\\u003cbr\\u003eGNI per Capita (PPP): %{y}\",\"legendgroup\":\"Europe\",\"marker\":{\"color\":\"#E3C97F\",\"symbol\":\"circle\"},\"mode\":\"markers\",\"name\":\"Europe\",\"orientation\":\"v\",\"showlegend\":false,\"x\":[5.94,5.386,6.923,6.149,6.223,7.554,7.021,7.494,5.011,5.758,7.09,5.523,7.343,7.246,7.488,6.198,6.354,5.529,6.182,5.323,4.719,6.985,5.693,4.332,6.592,6.118,7.769,6.07,7.48,5.287,5.648,7.054,6.726,5.893,7.6,5.603,5.432],\"xaxis\":\"x2\",\"y\":[28360.0,13790.0,51320.0,32560.0,42010.0,65730.0,61590.0,54380.0,21460.0,28340.0,72750.0,20110.0,53490.0,54150.0,55770.0,30410.0,39570.0,12320.0,28900.0,17580.0,13130.0,54370.0,32310.0,8460.0,45850.0,35990.0,47480.0,26620.0,67890.0,29150.0,25380.0,45430.0,38370.0,32930.0,56360.0,15510.0,26310.0],\"yaxis\":\"y2\",\"type\":\"scatter\"},{\"customdata\":[[\"Finland\"],[\"Ukraine\"],[\"Slovenia\"],[\"France\"],[\"Germany\"],[\"Poland\"],[\"Portugal\"],[\"Spain\"],[\"Norway\"],[\"Estonia\"],[\"Latvia\"],[\"Romania\"],[\"Hungary\"],[\"Iceland\"],[\"Ireland\"],[\"Italy\"],[\"United Kingdom\"],[\"Greece\"],[\"Croatia\"],[\"Russia\"],[\"Belgium\"],[\"Bosnia and Herzegovina\"],[\"Austria\"],[\"Bulgaria\"],[\"Albania\"],[\"Belarus\"],[\"Denmark\"],[\"Serbia\"],[\"Netherlands\"],[\"Lithuania\"],[\"Luxembourg\"],[\"Malta\"],[\"Switzerland\"],[\"Moldova\"],[\"Sweden\"],[\"Montenegro\"],[\"Slovakia\"]],\"hovertemplate\":\"Country: %{customdata[0]}\\u003cbr\\u003eHappines: %{x}\\u003cbr\\u003eGNI per Capita (PPP): %{y}\",\"legendgroup\":\"Europe\",\"marker\":{\"color\":\"#E3C97F\",\"symbol\":\"circle\"},\"mode\":\"markers\",\"name\":\"Europe\",\"orientation\":\"v\",\"showlegend\":false,\"x\":[7.632,4.103,5.948,6.489,6.965,6.123,5.41,6.31,7.594,5.739,5.933,5.945,5.62,7.495,6.977,6.0,7.19,5.358,5.321,5.81,6.927,5.129,7.139,4.933,4.586,5.483,7.555,5.398,7.441,5.952,6.91,6.627,7.487,5.64,7.314,5.347,6.173],\"xaxis\":\"x\",\"y\":[41779.26,7994.21,32143.04,40510.78,46945.95,27625.8,27935.38,35041.3,68058.62,30378.63,26300.77,23905.77,27144.21,47566.45,55659.68,36141.43,39507.29,24909.34,23060.96,25036.02,43820.84,12689.68,46230.57,19645.94,12299.8,17038.53,48836.09,15217.7,50012.59,29775.26,65543.05,34795.18,59374.73,6833.11,47955.45,17510.71,30671.87],\"yaxis\":\"y\",\"type\":\"scatter\"},{\"customdata\":[[\"Australia\"],[\"New Zealand\"]],\"hovertemplate\":\"Country: %{customdata[0]}\\u003cbr\\u003eHappines: %{x}\\u003cbr\\u003eGNI per Capita (PPP): %{y}\",\"legendgroup\":\"Australia\",\"marker\":{\"color\":\"#B2E4FA\",\"symbol\":\"circle\"},\"mode\":\"markers\",\"name\":\"Australia\",\"orientation\":\"v\",\"showlegend\":true,\"x\":[7.28399992,7.31400013],\"xaxis\":\"x4\",\"y\":[45330.0,36210.0],\"yaxis\":\"y4\",\"type\":\"scatter\"},{\"customdata\":[[\"Australia\"],[\"New Zealand\"]],\"hovertemplate\":\"Country: %{customdata[0]}\\u003cbr\\u003eHappines: %{x}\\u003cbr\\u003eGNI per Capita (PPP): %{y}\",\"legendgroup\":\"Australia\",\"marker\":{\"color\":\"#B2E4FA\",\"symbol\":\"circle\"},\"mode\":\"markers\",\"name\":\"Australia\",\"orientation\":\"v\",\"showlegend\":false,\"x\":[7.284,7.286],\"xaxis\":\"x3\",\"y\":[46230.0,38630.0],\"yaxis\":\"y3\",\"type\":\"scatter\"},{\"customdata\":[[\"New Zealand\"],[\"Australia\"]],\"hovertemplate\":\"Country: %{customdata[0]}\\u003cbr\\u003eHappines: %{x}\\u003cbr\\u003eGNI per Capita (PPP): %{y}\",\"legendgroup\":\"Australia\",\"marker\":{\"color\":\"#B2E4FA\",\"symbol\":\"circle\"},\"mode\":\"markers\",\"name\":\"Australia\",\"orientation\":\"v\",\"showlegend\":false,\"x\":[7.307,7.228],\"xaxis\":\"x2\",\"y\":[39330.0,47580.0],\"yaxis\":\"y2\",\"type\":\"scatter\"},{\"customdata\":[[\"Australia\"],[\"New Zealand\"]],\"hovertemplate\":\"Country: %{customdata[0]}\\u003cbr\\u003eHappines: %{x}\\u003cbr\\u003eGNI per Capita (PPP): %{y}\",\"legendgroup\":\"Australia\",\"marker\":{\"color\":\"#B2E4FA\",\"symbol\":\"circle\"},\"mode\":\"markers\",\"name\":\"Australia\",\"orientation\":\"v\",\"showlegend\":false,\"x\":[7.272,7.324],\"xaxis\":\"x\",\"y\":[44097.02,35107.5],\"yaxis\":\"y\",\"type\":\"scatter\"},{\"customdata\":[[\"United States\"],[\"Mexico\"],[\"Canada\"]],\"hovertemplate\":\"Country: %{customdata[0]}\\u003cbr\\u003eHappines: %{x}\\u003cbr\\u003eGNI per Capita (PPP): %{y}\",\"legendgroup\":\"North America\",\"marker\":{\"color\":\"#B47FE3\",\"symbol\":\"circle\"},\"mode\":\"markers\",\"name\":\"North America\",\"orientation\":\"v\",\"showlegend\":true,\"x\":[6.993000031,6.578000069,7.315999985],\"xaxis\":\"x4\",\"y\":[58340.0,17830.0,43990.0],\"yaxis\":\"y4\",\"type\":\"scatter\"},{\"customdata\":[[\"Mexico\"],[\"United States\"],[\"Canada\"]],\"hovertemplate\":\"Country: %{customdata[0]}\\u003cbr\\u003eHappines: %{x}\\u003cbr\\u003eGNI per Capita (PPP): %{y}\",\"legendgroup\":\"North America\",\"marker\":{\"color\":\"#B47FE3\",\"symbol\":\"circle\"},\"mode\":\"markers\",\"name\":\"North America\",\"orientation\":\"v\",\"showlegend\":false,\"x\":[7.187,7.119,7.427],\"xaxis\":\"x3\",\"y\":[18810.0,58970.0,45910.0],\"yaxis\":\"y3\",\"type\":\"scatter\"},{\"customdata\":[[\"Mexico\"],[\"Canada\"],[\"United States\"]],\"hovertemplate\":\"Country: %{customdata[0]}\\u003cbr\\u003eHappines: %{x}\\u003cbr\\u003eGNI per Capita (PPP): %{y}\",\"legendgroup\":\"North America\",\"marker\":{\"color\":\"#B47FE3\",\"symbol\":\"circle\"},\"mode\":\"markers\",\"name\":\"North America\",\"orientation\":\"v\",\"showlegend\":false,\"x\":[6.595,7.278,6.892],\"xaxis\":\"x2\",\"y\":[19300.0,48070.0,61020.0],\"yaxis\":\"y2\",\"type\":\"scatter\"},{\"customdata\":[[\"United States\"],[\"Canada\"],[\"Mexico\"]],\"hovertemplate\":\"Country: %{customdata[0]}\\u003cbr\\u003eHappines: %{x}\\u003cbr\\u003eGNI per Capita (PPP): %{y}\",\"legendgroup\":\"North America\",\"marker\":{\"color\":\"#B47FE3\",\"symbol\":\"circle\"},\"mode\":\"markers\",\"name\":\"North America\",\"orientation\":\"v\",\"showlegend\":false,\"x\":[6.886,7.328,6.488],\"xaxis\":\"x\",\"y\":[56140.23,43602.25,17628.12],\"yaxis\":\"y\",\"type\":\"scatter\"}],                        {\"template\":{\"data\":{\"histogram2dcontour\":[{\"type\":\"histogram2dcontour\",\"colorbar\":{\"outlinewidth\":0,\"ticks\":\"\"},\"colorscale\":[[0.0,\"#0d0887\"],[0.1111111111111111,\"#46039f\"],[0.2222222222222222,\"#7201a8\"],[0.3333333333333333,\"#9c179e\"],[0.4444444444444444,\"#bd3786\"],[0.5555555555555556,\"#d8576b\"],[0.6666666666666666,\"#ed7953\"],[0.7777777777777778,\"#fb9f3a\"],[0.8888888888888888,\"#fdca26\"],[1.0,\"#f0f921\"]]}],\"choropleth\":[{\"type\":\"choropleth\",\"colorbar\":{\"outlinewidth\":0,\"ticks\":\"\"}}],\"histogram2d\":[{\"type\":\"histogram2d\",\"colorbar\":{\"outlinewidth\":0,\"ticks\":\"\"},\"colorscale\":[[0.0,\"#0d0887\"],[0.1111111111111111,\"#46039f\"],[0.2222222222222222,\"#7201a8\"],[0.3333333333333333,\"#9c179e\"],[0.4444444444444444,\"#bd3786\"],[0.5555555555555556,\"#d8576b\"],[0.6666666666666666,\"#ed7953\"],[0.7777777777777778,\"#fb9f3a\"],[0.8888888888888888,\"#fdca26\"],[1.0,\"#f0f921\"]]}],\"heatmap\":[{\"type\":\"heatmap\",\"colorbar\":{\"outlinewidth\":0,\"ticks\":\"\"},\"colorscale\":[[0.0,\"#0d0887\"],[0.1111111111111111,\"#46039f\"],[0.2222222222222222,\"#7201a8\"],[0.3333333333333333,\"#9c179e\"],[0.4444444444444444,\"#bd3786\"],[0.5555555555555556,\"#d8576b\"],[0.6666666666666666,\"#ed7953\"],[0.7777777777777778,\"#fb9f3a\"],[0.8888888888888888,\"#fdca26\"],[1.0,\"#f0f921\"]]}],\"heatmapgl\":[{\"type\":\"heatmapgl\",\"colorbar\":{\"outlinewidth\":0,\"ticks\":\"\"},\"colorscale\":[[0.0,\"#0d0887\"],[0.1111111111111111,\"#46039f\"],[0.2222222222222222,\"#7201a8\"],[0.3333333333333333,\"#9c179e\"],[0.4444444444444444,\"#bd3786\"],[0.5555555555555556,\"#d8576b\"],[0.6666666666666666,\"#ed7953\"],[0.7777777777777778,\"#fb9f3a\"],[0.8888888888888888,\"#fdca26\"],[1.0,\"#f0f921\"]]}],\"contourcarpet\":[{\"type\":\"contourcarpet\",\"colorbar\":{\"outlinewidth\":0,\"ticks\":\"\"}}],\"contour\":[{\"type\":\"contour\",\"colorbar\":{\"outlinewidth\":0,\"ticks\":\"\"},\"colorscale\":[[0.0,\"#0d0887\"],[0.1111111111111111,\"#46039f\"],[0.2222222222222222,\"#7201a8\"],[0.3333333333333333,\"#9c179e\"],[0.4444444444444444,\"#bd3786\"],[0.5555555555555556,\"#d8576b\"],[0.6666666666666666,\"#ed7953\"],[0.7777777777777778,\"#fb9f3a\"],[0.8888888888888888,\"#fdca26\"],[1.0,\"#f0f921\"]]}],\"surface\":[{\"type\":\"surface\",\"colorbar\":{\"outlinewidth\":0,\"ticks\":\"\"},\"colorscale\":[[0.0,\"#0d0887\"],[0.1111111111111111,\"#46039f\"],[0.2222222222222222,\"#7201a8\"],[0.3333333333333333,\"#9c179e\"],[0.4444444444444444,\"#bd3786\"],[0.5555555555555556,\"#d8576b\"],[0.6666666666666666,\"#ed7953\"],[0.7777777777777778,\"#fb9f3a\"],[0.8888888888888888,\"#fdca26\"],[1.0,\"#f0f921\"]]}],\"mesh3d\":[{\"type\":\"mesh3d\",\"colorbar\":{\"outlinewidth\":0,\"ticks\":\"\"}}],\"scatter\":[{\"fillpattern\":{\"fillmode\":\"overlay\",\"size\":10,\"solidity\":0.2},\"type\":\"scatter\"}],\"parcoords\":[{\"type\":\"parcoords\",\"line\":{\"colorbar\":{\"outlinewidth\":0,\"ticks\":\"\"}}}],\"scatterpolargl\":[{\"type\":\"scatterpolargl\",\"marker\":{\"colorbar\":{\"outlinewidth\":0,\"ticks\":\"\"}}}],\"bar\":[{\"error_x\":{\"color\":\"#2a3f5f\"},\"error_y\":{\"color\":\"#2a3f5f\"},\"marker\":{\"line\":{\"color\":\"#E5ECF6\",\"width\":0.5},\"pattern\":{\"fillmode\":\"overlay\",\"size\":10,\"solidity\":0.2}},\"type\":\"bar\"}],\"scattergeo\":[{\"type\":\"scattergeo\",\"marker\":{\"colorbar\":{\"outlinewidth\":0,\"ticks\":\"\"}}}],\"scatterpolar\":[{\"type\":\"scatterpolar\",\"marker\":{\"colorbar\":{\"outlinewidth\":0,\"ticks\":\"\"}}}],\"histogram\":[{\"marker\":{\"pattern\":{\"fillmode\":\"overlay\",\"size\":10,\"solidity\":0.2}},\"type\":\"histogram\"}],\"scattergl\":[{\"type\":\"scattergl\",\"marker\":{\"colorbar\":{\"outlinewidth\":0,\"ticks\":\"\"}}}],\"scatter3d\":[{\"type\":\"scatter3d\",\"line\":{\"colorbar\":{\"outlinewidth\":0,\"ticks\":\"\"}},\"marker\":{\"colorbar\":{\"outlinewidth\":0,\"ticks\":\"\"}}}],\"scattermapbox\":[{\"type\":\"scattermapbox\",\"marker\":{\"colorbar\":{\"outlinewidth\":0,\"ticks\":\"\"}}}],\"scatterternary\":[{\"type\":\"scatterternary\",\"marker\":{\"colorbar\":{\"outlinewidth\":0,\"ticks\":\"\"}}}],\"scattercarpet\":[{\"type\":\"scattercarpet\",\"marker\":{\"colorbar\":{\"outlinewidth\":0,\"ticks\":\"\"}}}],\"carpet\":[{\"aaxis\":{\"endlinecolor\":\"#2a3f5f\",\"gridcolor\":\"white\",\"linecolor\":\"white\",\"minorgridcolor\":\"white\",\"startlinecolor\":\"#2a3f5f\"},\"baxis\":{\"endlinecolor\":\"#2a3f5f\",\"gridcolor\":\"white\",\"linecolor\":\"white\",\"minorgridcolor\":\"white\",\"startlinecolor\":\"#2a3f5f\"},\"type\":\"carpet\"}],\"table\":[{\"cells\":{\"fill\":{\"color\":\"#EBF0F8\"},\"line\":{\"color\":\"white\"}},\"header\":{\"fill\":{\"color\":\"#C8D4E3\"},\"line\":{\"color\":\"white\"}},\"type\":\"table\"}],\"barpolar\":[{\"marker\":{\"line\":{\"color\":\"#E5ECF6\",\"width\":0.5},\"pattern\":{\"fillmode\":\"overlay\",\"size\":10,\"solidity\":0.2}},\"type\":\"barpolar\"}],\"pie\":[{\"automargin\":true,\"type\":\"pie\"}]},\"layout\":{\"autotypenumbers\":\"strict\",\"colorway\":[\"#636efa\",\"#EF553B\",\"#00cc96\",\"#ab63fa\",\"#FFA15A\",\"#19d3f3\",\"#FF6692\",\"#B6E880\",\"#FF97FF\",\"#FECB52\"],\"font\":{\"color\":\"#2a3f5f\"},\"hovermode\":\"closest\",\"hoverlabel\":{\"align\":\"left\"},\"paper_bgcolor\":\"white\",\"plot_bgcolor\":\"#E5ECF6\",\"polar\":{\"bgcolor\":\"#E5ECF6\",\"angularaxis\":{\"gridcolor\":\"white\",\"linecolor\":\"white\",\"ticks\":\"\"},\"radialaxis\":{\"gridcolor\":\"white\",\"linecolor\":\"white\",\"ticks\":\"\"}},\"ternary\":{\"bgcolor\":\"#E5ECF6\",\"aaxis\":{\"gridcolor\":\"white\",\"linecolor\":\"white\",\"ticks\":\"\"},\"baxis\":{\"gridcolor\":\"white\",\"linecolor\":\"white\",\"ticks\":\"\"},\"caxis\":{\"gridcolor\":\"white\",\"linecolor\":\"white\",\"ticks\":\"\"}},\"coloraxis\":{\"colorbar\":{\"outlinewidth\":0,\"ticks\":\"\"}},\"colorscale\":{\"sequential\":[[0.0,\"#0d0887\"],[0.1111111111111111,\"#46039f\"],[0.2222222222222222,\"#7201a8\"],[0.3333333333333333,\"#9c179e\"],[0.4444444444444444,\"#bd3786\"],[0.5555555555555556,\"#d8576b\"],[0.6666666666666666,\"#ed7953\"],[0.7777777777777778,\"#fb9f3a\"],[0.8888888888888888,\"#fdca26\"],[1.0,\"#f0f921\"]],\"sequentialminus\":[[0.0,\"#0d0887\"],[0.1111111111111111,\"#46039f\"],[0.2222222222222222,\"#7201a8\"],[0.3333333333333333,\"#9c179e\"],[0.4444444444444444,\"#bd3786\"],[0.5555555555555556,\"#d8576b\"],[0.6666666666666666,\"#ed7953\"],[0.7777777777777778,\"#fb9f3a\"],[0.8888888888888888,\"#fdca26\"],[1.0,\"#f0f921\"]],\"diverging\":[[0,\"#8e0152\"],[0.1,\"#c51b7d\"],[0.2,\"#de77ae\"],[0.3,\"#f1b6da\"],[0.4,\"#fde0ef\"],[0.5,\"#f7f7f7\"],[0.6,\"#e6f5d0\"],[0.7,\"#b8e186\"],[0.8,\"#7fbc41\"],[0.9,\"#4d9221\"],[1,\"#276419\"]]},\"xaxis\":{\"gridcolor\":\"white\",\"linecolor\":\"white\",\"ticks\":\"\",\"title\":{\"standoff\":15},\"zerolinecolor\":\"white\",\"automargin\":true,\"zerolinewidth\":2},\"yaxis\":{\"gridcolor\":\"white\",\"linecolor\":\"white\",\"ticks\":\"\",\"title\":{\"standoff\":15},\"zerolinecolor\":\"white\",\"automargin\":true,\"zerolinewidth\":2},\"scene\":{\"xaxis\":{\"backgroundcolor\":\"#E5ECF6\",\"gridcolor\":\"white\",\"linecolor\":\"white\",\"showbackground\":true,\"ticks\":\"\",\"zerolinecolor\":\"white\",\"gridwidth\":2},\"yaxis\":{\"backgroundcolor\":\"#E5ECF6\",\"gridcolor\":\"white\",\"linecolor\":\"white\",\"showbackground\":true,\"ticks\":\"\",\"zerolinecolor\":\"white\",\"gridwidth\":2},\"zaxis\":{\"backgroundcolor\":\"#E5ECF6\",\"gridcolor\":\"white\",\"linecolor\":\"white\",\"showbackground\":true,\"ticks\":\"\",\"zerolinecolor\":\"white\",\"gridwidth\":2}},\"shapedefaults\":{\"line\":{\"color\":\"#2a3f5f\"}},\"annotationdefaults\":{\"arrowcolor\":\"#2a3f5f\",\"arrowhead\":0,\"arrowwidth\":1},\"geo\":{\"bgcolor\":\"white\",\"landcolor\":\"#E5ECF6\",\"subunitcolor\":\"white\",\"showland\":true,\"showlakes\":true,\"lakecolor\":\"white\"},\"title\":{\"x\":0.05},\"mapbox\":{\"style\":\"light\"}}},\"xaxis\":{\"anchor\":\"y\",\"domain\":[0.0,0.98],\"title\":{\"text\":\"Happiness score\"}},\"yaxis\":{\"anchor\":\"x\",\"domain\":[0.0,0.2275],\"title\":{\"text\":\"GNI per Capita (PPP)\"}},\"xaxis2\":{\"anchor\":\"y2\",\"domain\":[0.0,0.98],\"matches\":\"x\",\"showticklabels\":false},\"yaxis2\":{\"anchor\":\"x2\",\"domain\":[0.2575,0.485],\"matches\":\"y\",\"title\":{\"text\":\"GNI_per_capita_PPP\"}},\"xaxis3\":{\"anchor\":\"y3\",\"domain\":[0.0,0.98],\"matches\":\"x\",\"showticklabels\":false},\"yaxis3\":{\"anchor\":\"x3\",\"domain\":[0.515,0.7425],\"matches\":\"y\",\"title\":{\"text\":\"GNI_per_capita_PPP\"}},\"xaxis4\":{\"anchor\":\"y4\",\"domain\":[0.0,0.98],\"matches\":\"x\",\"showticklabels\":false},\"yaxis4\":{\"anchor\":\"x4\",\"domain\":[0.7725,1.0],\"matches\":\"y\",\"title\":{\"text\":\"GNI_per_capita_PPP\"}},\"annotations\":[{\"font\":{},\"showarrow\":false,\"text\":\"Year=2018\",\"textangle\":90,\"x\":0.98,\"xanchor\":\"left\",\"xref\":\"paper\",\"y\":0.11375,\"yanchor\":\"middle\",\"yref\":\"paper\"},{\"font\":{},\"showarrow\":false,\"text\":\"Year=2017\",\"textangle\":90,\"x\":0.98,\"xanchor\":\"left\",\"xref\":\"paper\",\"y\":0.37124999999999997,\"yanchor\":\"middle\",\"yref\":\"paper\"},{\"font\":{},\"showarrow\":false,\"text\":\"Year=2016\",\"textangle\":90,\"x\":0.98,\"xanchor\":\"left\",\"xref\":\"paper\",\"y\":0.62875,\"yanchor\":\"middle\",\"yref\":\"paper\"},{\"font\":{},\"showarrow\":false,\"text\":\"Year=2015\",\"textangle\":90,\"x\":0.98,\"xanchor\":\"left\",\"xref\":\"paper\",\"y\":0.88625,\"yanchor\":\"middle\",\"yref\":\"paper\"}],\"legend\":{\"title\":{\"text\":\"continent\"},\"tracegroupgap\":0},\"margin\":{\"t\":60},\"title\":{\"text\":\"Scatter Plot of GNI per Capita (PPP) vs Happiness by Year\"},\"height\":1000,\"width\":800,\"plot_bgcolor\":\"rgb(240, 240, 240, 240)\"},                        {\"responsive\": true}                    ).then(function(){\n",
       "                            \n",
       "var gd = document.getElementById('730e890a-f96d-40bf-9953-3407af1e2651');\n",
       "var x = new MutationObserver(function (mutations, observer) {{\n",
       "        var display = window.getComputedStyle(gd).display;\n",
       "        if (!display || display === 'none') {{\n",
       "            console.log([gd, 'removed!']);\n",
       "            Plotly.purge(gd);\n",
       "            observer.disconnect();\n",
       "        }}\n",
       "}});\n",
       "\n",
       "// Listen for the removal of the full notebook cells\n",
       "var notebookContainer = gd.closest('#notebook-container');\n",
       "if (notebookContainer) {{\n",
       "    x.observe(notebookContainer, {childList: true});\n",
       "}}\n",
       "\n",
       "// Listen for the clearing of the current output cell\n",
       "var outputEl = gd.closest('.output');\n",
       "if (outputEl) {{\n",
       "    x.observe(outputEl, {childList: true});\n",
       "}}\n",
       "\n",
       "                        })                };                });            </script>        </div>"
      ]
     },
     "metadata": {},
     "output_type": "display_data"
    }
   ],
   "source": [
    "### Does a good education give government trust?\n",
    "\n",
    "# This 3d Scatter Plot is multivariate and shows on the x-axis the 'Education Index', on the y-axis the 'Government Trust' and on the z-axis the 'CPI Score'. CPI stands for 'Corruption Perception Index', the lower the CPI index, the more the people believe there is corruption in their country. The size of the plot-points shows the GDP per capita. \n",
    "\n",
    "# The 3D scatter plot reveals interesting insights about the correlation between the Corruption Perception Index (CPI) score and other variables across countries. A positive correlation between the CPI score and variables such as Education Index and Government trust suggests that countries with higher levels of corruption tend to exhibit lower values in education, government trust, and economic prosperity. Conversely, a negative correlation indicates that countries with lower corruption levels tend to have higher education indices and greater levels of government trust. This visualization highlights the importance of addressing corruption to foster positive development in education and trust within countries. \n",
    "\n",
    "# The Education Index plays a significant role in shaping the relationships between various variables across countries and continents. A positive correlation between the Education Index and variables such as Government trust, GDP per capita, and possibly the Corruption Perception Index suggests that countries with higher education indices tend to exhibit greater levels of government trust and economic prosperity while combating corruption. Furthermore, the Education Index may influence the disparities observed between countries and continents. Nations with higher education indices are more likely to invest in quality education, leading to better governance, higher economic output, and potentially lower corruption levels. Thus, enhancing education systems becomes vital for promoting positive development and reducing inequality among countries and continents.\n",
    "\n",
    "# Overall it gives the visualisation that countries with a higher inducation index tend to have more goverment trust and a higher CPI score. This is probaply because people that live in a country that is able to give a good education tend to trust the goverment more than people that don't recieved good education. # Sort the data by 'Year' column in descending order\n",
    "data = data.sort_values('Year', ascending=True)\n",
    "\n",
    "# Create a scatter plot for all available years using Plotly, with two plots per row\n",
    "fig = px.scatter(data, x='happiness_score', y='GNI_per_capita_PPP', color='continent',\n",
    "                 color_discrete_map=continent_colors, hover_data=['Country'], facet_row='Year')\n",
    "\n",
    "# Set the plot title and axis labels\n",
    "fig.update_layout(\n",
    "    title='Scatter Plot of GNI per Capita (PPP) vs Happiness by Year',\n",
    "    xaxis_title='Happiness score',\n",
    "    yaxis_title='GNI per Capita (PPP)',\n",
    "    height=1000,  \n",
    "    width = 800,\n",
    "    plot_bgcolor='rgb(240, 240, 240, 240)'\n",
    ")\n",
    "\n",
    "# Set the hover label format\n",
    "fig.update_traces(hovertemplate='Country: %{customdata[0]}<br>Happines: %{x}<br>GNI per Capita (PPP): %{y}')\n",
    "\n",
    "# Show the plot\n",
    "fig.show()\n"
   ]
  },
  {
   "cell_type": "markdown",
   "metadata": {},
   "source": [
    "\n",
    "While these scatterplots show that having a 'richer' population (measured with GNI_per_capita adjusted for PPP) is generally related with having a happier population. These scatterplots also show that countries with a poorer population can still have happier population. This is exemplified by the fact that a country like Mexico has a much poorer population than a country like Singapore (which has by far the richest population) while their happiness scores are pretty much equal to each other. Furthermore, these scatterplots show that most countries move stronger along the x-axis than along the y-axis, this means that countries can become happier or unhappier regardless of the economic wealth of their citizens. Kuwait, however shows the exact opposite side of this phenomenon, they show great growth in their GNI per capita while their happiness scores do not increase or decrease drastically. "
   ]
  },
  {
   "cell_type": "code",
   "execution_count": null,
   "metadata": {},
   "outputs": [
    {
     "data": {
      "application/vnd.plotly.v1+json": {
       "config": {
        "plotlyServerURL": "https://plot.ly"
       },
       "data": [
        {
         "hovertemplate": "<b>%{hovertext}</b><br><br>continent=Asia<br>gdp_per_capita=%{x}<br>GNI_per_capita_PPP=%{y}<extra></extra>",
         "hovertext": [
          "Lebanon",
          "Georgia",
          "Cyprus",
          "China",
          "China",
          "Armenia",
          "Azerbaijan",
          "Bahrain",
          "Sri Lanka",
          "Turkmenistan",
          "Uzbekistan",
          "Bangladesh",
          "Tajikistan",
          "Yemen",
          "Vietnam",
          "United Arab Emirates",
          "Turkey",
          "Afghanistan",
          "Singapore",
          "India",
          "Thailand",
          "Kazakhstan",
          "Saudi Arabia",
          "Mongolia",
          "Kyrgyzstan",
          "Iraq",
          "Israel",
          "Japan",
          "Jordan",
          "Kuwait",
          "Malaysia",
          "Cambodia",
          "Indonesia",
          "Myanmar",
          "Iran",
          "Nepal",
          "Pakistan",
          "Philippines",
          "Sri Lanka",
          "Yemen",
          "Pakistan",
          "Turkmenistan",
          "Georgia",
          "Myanmar",
          "Nepal",
          "Philippines",
          "Mongolia",
          "Bahrain",
          "Saudi Arabia",
          "Armenia",
          "Azerbaijan",
          "India",
          "Indonesia",
          "Kyrgyzstan",
          "Malaysia",
          "Tajikistan",
          "Bangladesh",
          "Vietnam",
          "Kazakhstan",
          "Jordan",
          "Israel",
          "Kuwait",
          "Japan",
          "Singapore",
          "Lebanon",
          "Thailand",
          "China",
          "Iran",
          "Turkey",
          "Cambodia",
          "Cyprus",
          "China",
          "Uzbekistan",
          "United Arab Emirates",
          "Iraq",
          "Afghanistan",
          "Thailand",
          "Lebanon",
          "Myanmar",
          "Israel",
          "Kazakhstan",
          "Sri Lanka",
          "Kyrgyzstan",
          "Vietnam",
          "Japan",
          "Jordan",
          "India",
          "Indonesia",
          "Singapore",
          "Turkey",
          "Iran",
          "Pakistan",
          "Iraq",
          "Mongolia",
          "Nepal",
          "Armenia",
          "Turkmenistan",
          "Kuwait",
          "Philippines",
          "Bahrain",
          "Azerbaijan",
          "Cambodia",
          "Tajikistan",
          "Georgia",
          "Uzbekistan",
          "Malaysia",
          "United Arab Emirates",
          "Saudi Arabia",
          "Yemen",
          "Cyprus",
          "China",
          "China",
          "Bangladesh",
          "Afghanistan",
          "United Arab Emirates",
          "Georgia",
          "Malaysia",
          "Lebanon",
          "Pakistan",
          "Philippines",
          "Turkmenistan",
          "India",
          "Turkey",
          "Iran",
          "Iraq",
          "Israel",
          "China",
          "Japan",
          "Jordan",
          "Kazakhstan",
          "Kuwait",
          "Thailand",
          "Kyrgyzstan",
          "Cyprus",
          "Indonesia",
          "Azerbaijan",
          "Uzbekistan",
          "Bangladesh",
          "Vietnam",
          "Cambodia",
          "Afghanistan",
          "Bahrain",
          "Yemen",
          "Sri Lanka",
          "Saudi Arabia",
          "Singapore",
          "China",
          "Tajikistan",
          "Mongolia",
          "Myanmar",
          "Nepal",
          "Armenia"
         ],
         "legendgroup": "Asia",
         "marker": {
          "color": "#FAA598",
          "symbol": "circle"
         },
         "mode": "markers",
         "name": "Asia",
         "orientation": "v",
         "showlegend": true,
         "type": "scatter",
         "x": [
          1.074987531,
          0.950612664,
          1.355938077,
          1.081165791,
          1.081165791,
          0.900596738,
          1.153601766,
          1.488412261,
          1.009850144,
          1.130776763,
          0.786441088,
          0.586682975,
          0.524713635,
          0.591683447,
          0.788547575,
          1.626343369,
          1.198274374,
          0.401477218,
          1.69227767,
          0.792221248,
          1.127868772,
          1.28455627,
          1.530623555,
          1.027235866,
          0.596220076,
          1.102710485,
          1.375382423,
          1.416915178,
          0.991012394,
          1.632952452,
          1.29121542,
          0.601765096,
          0.995538592,
          0.36711055,
          1.156873107,
          0.479820192,
          0.726883531,
          0.857699215,
          0.83524,
          0.54649,
          0.59543,
          0.95847,
          0.7419,
          0.27108,
          0.35997,
          0.70532,
          0.82819,
          1.32376,
          1.39541,
          0.76821,
          1.02389,
          0.64499,
          0.82827,
          0.47428,
          1.12486,
          0.39047,
          0.39753,
          0.63216,
          1.12254,
          0.90198,
          1.22857,
          1.55422,
          1.27074,
          1.52186,
          1.02564,
          0.9669,
          0.89012,
          1.0088,
          1.06098,
          0.46038,
          1.20813,
          0.89012,
          0.63244,
          1.42727,
          0.98549,
          0.31982,
          1.05,
          0.987,
          0.71,
          1.276,
          1.173,
          0.949,
          0.551,
          0.741,
          1.327,
          0.837,
          0.755,
          0.931,
          1.572,
          1.183,
          1.1,
          0.677,
          1.043,
          0.948,
          0.446,
          0.85,
          1.052,
          1.5,
          0.807,
          1.362,
          1.043,
          0.574,
          0.493,
          0.886,
          0.745,
          1.221,
          1.503,
          1.403,
          0.287,
          1.263,
          1.029,
          1.029,
          0.562,
          0.35,
          2.096,
          0.853,
          1.161,
          0.965,
          0.652,
          0.775,
          1.016,
          0.721,
          1.148,
          1.059,
          1.01,
          1.301,
          0.989,
          1.294,
          0.822,
          1.143,
          1.474,
          1.016,
          0.53,
          1.229,
          0.899,
          1.024,
          0.719,
          0.532,
          0.715,
          0.549,
          0.332,
          1.338,
          0.442,
          0.918,
          1.379,
          1.529,
          0.989,
          0.474,
          0.914,
          0.682,
          0.425,
          0.816
         ],
         "xaxis": "x",
         "y": [
          14920,
          11420,
          31510,
          12880,
          57450,
          12490,
          15020,
          42760,
          11270,
          12890,
          6460,
          3790,
          3590,
          null,
          5790,
          64640,
          25340,
          2110,
          81040,
          5400,
          15010,
          23860,
          49450,
          9880,
          4460,
          10220,
          35130,
          41950,
          9140,
          52880,
          24120,
          3180,
          9910,
          4180,
          13300,
          2680,
          4640,
          8310,
          11900,
          null,
          4680,
          13500,
          11760,
          4220,
          2620,
          8870,
          9860,
          41860,
          46110,
          13160,
          14920,
          5760,
          10160,
          5020,
          24840,
          3900,
          4070,
          6300,
          24280,
          9120,
          37500,
          51550,
          41350,
          83020,
          15250,
          15800,
          58670,
          13650,
          26050,
          3450,
          33000,
          13400,
          6530,
          63670,
          9720,
          2140,
          16610,
          16070,
          4480,
          38570,
          22160,
          12340,
          4800,
          6620,
          42290,
          9790,
          6120,
          10580,
          87440,
          27570,
          14560,
          4820,
          10850,
          9720,
          3140,
          12540,
          13620,
          59260,
          9320,
          44980,
          13510,
          3680,
          3560,
          12910,
          6650,
          25900,
          66290,
          48040,
          null,
          35750,
          62530,
          14140,
          4340,
          2210,
          66911.66,
          9569.52,
          27226.68,
          11136.25,
          5190.08,
          9539.7,
          16407.47,
          6828.6,
          24905.38,
          18166.47,
          15364.96,
          33649.69,
          16126.57,
          40799.01,
          8267.81,
          22167.7,
          71164.22,
          16128.55,
          3316.79,
          33100.32,
          11255.78,
          15240.14,
          6461.84,
          4057.25,
          6220.27,
          3597.4,
          1745.67,
          40399.12,
          1433.3,
          11610.91,
          49338.41,
          83792.67,
          60220.8,
          3482.38,
          10783.71,
          5763.94,
          2748.2,
          9277.23
         ],
         "yaxis": "y"
        },
        {
         "hovertemplate": "<b>%{hovertext}</b><br><br>continent=Africa<br>gdp_per_capita=%{x}<br>GNI_per_capita_PPP=%{y}<extra></extra>",
         "hovertext": [
          "Egypt",
          "Ethiopia",
          "Gabon",
          "Ghana",
          "Algeria",
          "Zimbabwe",
          "Tanzania",
          "Tunisia",
          "South Africa",
          "Uganda",
          "Togo",
          "Zambia",
          "Sierra Leone",
          "Benin",
          "Rwanda",
          "Senegal",
          "Kenya",
          "Mauritius",
          "Liberia",
          "Libya",
          "Madagascar",
          "Malawi",
          "Mali",
          "Mauritania",
          "Botswana",
          "Burkina Faso",
          "Burundi",
          "Cameroon",
          "Nigeria",
          "Chad",
          "Niger",
          "Morocco",
          "Nigeria",
          "Zambia",
          "Niger",
          "Mauritius",
          "Ghana",
          "Burundi",
          "Uganda",
          "Burkina Faso",
          "Algeria",
          "Morocco",
          "Zimbabwe",
          "Senegal",
          "Sierra Leone",
          "South Africa",
          "Rwanda",
          "Libya",
          "Tanzania",
          "Madagascar",
          "Malawi",
          "Mali",
          "Mauritania",
          "Benin",
          "Botswana",
          "Kenya",
          "Togo",
          "Liberia",
          "Tunisia",
          "Gabon",
          "Chad",
          "Egypt",
          "Ethiopia",
          "Cameroon",
          "Libya",
          "Morocco",
          "Botswana",
          "Senegal",
          "Tunisia",
          "Benin",
          "Niger",
          "Tanzania",
          "Togo",
          "Madagascar",
          "Mauritius",
          "Zambia",
          "Malawi",
          "Kenya",
          "Nigeria",
          "Ghana",
          "Burundi",
          "Uganda",
          "Burkina Faso",
          "Ethiopia",
          "South Africa",
          "Mali",
          "Gabon",
          "Algeria",
          "Liberia",
          "Egypt",
          "Rwanda",
          "Cameroon",
          "Chad",
          "Sierra Leone",
          "Zimbabwe",
          "Mauritania",
          "Egypt",
          "Ethiopia",
          "Gabon",
          "Ghana",
          "Liberia",
          "Nigeria",
          "South Africa",
          "Togo",
          "Kenya",
          "Uganda",
          "Rwanda",
          "Burundi",
          "Botswana",
          "Cameroon",
          "Chad",
          "Zambia",
          "Algeria",
          "Tunisia",
          "Burkina Faso",
          "Benin",
          "Senegal",
          "Sierra Leone",
          "Niger",
          "Libya",
          "Tanzania",
          "Madagascar",
          "Malawi",
          "Mali",
          "Mauritania",
          "Mauritius",
          "Morocco",
          "Zimbabwe"
         ],
         "legendgroup": "Africa",
         "marker": {
          "color": "#AEFD8E",
          "symbol": "circle"
         },
         "mode": "markers",
         "name": "Africa",
         "orientation": "v",
         "showlegend": true,
         "type": "scatter",
         "x": [
          0.989701807,
          0.339233845,
          1.198210239,
          0.667224824,
          1.091864467,
          0.375846535,
          0.511135876,
          1.007265806,
          1.054698706,
          0.381430715,
          0.305444717,
          0.636406779,
          0.368420929,
          0.431085408,
          0.368745893,
          0.479309022,
          0.560479462,
          1.189395547,
          0.119041793,
          1.101803064,
          0.305808693,
          0.233442038,
          0.476180494,
          0.648457289,
          1.122094154,
          0.350227714,
          0.091622569,
          0.564305365,
          0.783756256,
          0.438012987,
          0.161925331,
          0.878114581,
          0.65435,
          0.47038,
          0.0694,
          1.00761,
          0.54558,
          0.0153,
          0.21102,
          0.25812,
          0.93929,
          0.73479,
          0.271,
          0.36498,
          0.33024,
          0.92049,
          0.22208,
          1.13145,
          0.2852,
          0.20824,
          0.01604,
          0.26074,
          0.45407,
          0.28665,
          0.99355,
          0.36471,
          0.20868,
          0.0712,
          0.88113,
          1.06024,
          0.34193,
          0.8818,
          0.19073,
          0.4225,
          1.044,
          0.801,
          1.041,
          0.45,
          0.921,
          0.393,
          0.138,
          0.476,
          0.275,
          0.274,
          1.12,
          0.578,
          0.191,
          0.512,
          0.696,
          0.611,
          0.046,
          0.332,
          0.331,
          0.336,
          0.96,
          0.385,
          1.057,
          1.002,
          0.073,
          0.913,
          0.359,
          0.549,
          0.35,
          0.268,
          0.366,
          0.57,
          0.885,
          0.308,
          1.036,
          0.592,
          0.076,
          0.689,
          0.94,
          0.259,
          0.493,
          0.322,
          0.332,
          0.091,
          1.017,
          0.535,
          0.358,
          0.562,
          0.979,
          0.9,
          0.314,
          0.378,
          0.429,
          0.256,
          0.131,
          0.985,
          0.455,
          0.262,
          0.186,
          0.37,
          0.557,
          1.09,
          0.779,
          0.357
         ],
         "xaxis": "x",
         "y": [
          11160,
          1650,
          13480,
          5050,
          11700,
          2410,
          2740,
          9890,
          12240,
          1750,
          1440,
          3370,
          1570,
          2860,
          1710,
          2910,
          3330,
          20860,
          1180,
          12740,
          1500,
          990,
          1990,
          3160,
          15310,
          1460,
          840,
          3210,
          5280,
          1760,
          840,
          7670,
          5120,
          3330,
          820,
          22390,
          4800,
          800,
          1690,
          1550,
          11520,
          7730,
          2570,
          3000,
          1420,
          12240,
          1790,
          11430,
          2860,
          1550,
          1020,
          2130,
          3350,
          2980,
          16600,
          3620,
          1470,
          1260,
          10070,
          13180,
          1630,
          10850,
          1870,
          3350,
          13690,
          8110,
          16680,
          3140,
          10280,
          3010,
          830,
          3020,
          1520,
          1540,
          23560,
          3330,
          1030,
          4000,
          5030,
          4860,
          770,
          1710,
          1730,
          2010,
          12320,
          2180,
          14060,
          11370,
          1380,
          10800,
          1910,
          3490,
          1570,
          1590,
          2860,
          3610,
          10743.81,
          1781.76,
          15794.08,
          4098.86,
          1040.09,
          5085.54,
          11756.3,
          1592.54,
          3051.69,
          1752.21,
          1958.61,
          659.73,
          15951.33,
          3291.13,
          1715.57,
          3581.89,
          13639.43,
          10676.96,
          1705.49,
          2134.59,
          3255.99,
          1381.3,
          912.04,
          11684.73,
          2805.12,
          1403.92,
          1159.12,
          1965.39,
          3746.08,
          22724.23,
          7479.59,
          2661.07
         ],
         "yaxis": "y"
        },
        {
         "hovertemplate": "<b>%{hovertext}</b><br><br>continent=South America<br>gdp_per_capita=%{x}<br>GNI_per_capita_PPP=%{y}<extra></extra>",
         "hovertext": [
          "El Salvador",
          "Guatemala",
          "Guinea",
          "Honduras",
          "Chile",
          "Argentina",
          "Dominican Republic",
          "Ecuador",
          "Uruguay",
          "Venezuela",
          "Costa Rica",
          "Colombia",
          "Haiti",
          "Jamaica",
          "Bolivia",
          "Brazil",
          "Panama",
          "Nicaragua",
          "Paraguay",
          "Peru",
          "Nicaragua",
          "Panama",
          "Guatemala",
          "Guinea",
          "Haiti",
          "Honduras",
          "Brazil",
          "Argentina",
          "Uruguay",
          "Peru",
          "Paraguay",
          "Jamaica",
          "Dominican Republic",
          "Colombia",
          "Chile",
          "Costa Rica",
          "El Salvador",
          "Bolivia",
          "Venezuela",
          "Ecuador",
          "Venezuela",
          "Jamaica",
          "Nicaragua",
          "Honduras",
          "Guinea",
          "Paraguay",
          "Bolivia",
          "Brazil",
          "Panama",
          "Dominican Republic",
          "Guatemala",
          "Peru",
          "Argentina",
          "Ecuador",
          "El Salvador",
          "Haiti",
          "Uruguay",
          "Colombia",
          "Chile",
          "Costa Rica",
          "Ecuador",
          "El Salvador",
          "Dominican Republic",
          "Nicaragua",
          "Panama",
          "Paraguay",
          "Peru",
          "Haiti",
          "Honduras",
          "Jamaica",
          "Guinea",
          "Guatemala",
          "Colombia",
          "Costa Rica",
          "Brazil",
          "Bolivia",
          "Venezuela",
          "Uruguay",
          "Argentina",
          "Chile"
         ],
         "legendgroup": "South America",
         "marker": {
          "color": "#E8EAC8",
          "symbol": "circle"
         },
         "mode": "markers",
         "name": "South America",
         "orientation": "v",
         "showlegend": true,
         "type": "scatter",
         "x": [
          0.909784496,
          0.872001946,
          0.24454993,
          0.730573118,
          1.25278461,
          1.185295463,
          1.079373837,
          1.000820398,
          1.217559695,
          1.128431201,
          1.109706283,
          1.070622325,
          0.368610263,
          0.925579309,
          0.833756566,
          1.10735321,
          1.233748436,
          0.737299204,
          0.932537317,
          1.035225272,
          0.59325,
          1.06353,
          0.74553,
          0.17417,
          0.26673,
          0.59532,
          0.98124,
          1.05351,
          1.06166,
          0.90019,
          0.75985,
          0.81038,
          0.89537,
          0.91861,
          1.10715,
          0.95578,
          0.76454,
          0.68133,
          1.04424,
          0.86402,
          0.96,
          0.831,
          0.694,
          0.642,
          0.38,
          0.855,
          0.776,
          1.004,
          1.149,
          1.015,
          0.8,
          0.96,
          1.092,
          0.912,
          0.794,
          0.323,
          1.124,
          0.985,
          1.159,
          1.034,
          0.889,
          0.806,
          0.982,
          0.668,
          1.112,
          0.835,
          0.934,
          0.315,
          0.62,
          0.819,
          0.344,
          0.781,
          0.96,
          1.01,
          0.986,
          0.751,
          0.996,
          1.093,
          1.073,
          1.131
         ],
         "xaxis": "x",
         "y": [
          7240,
          7830,
          1790,
          4490,
          22010,
          19650,
          14130,
          10870,
          19310,
          null,
          16310,
          13700,
          1710,
          8520,
          6890,
          14470,
          22810,
          5150,
          11040,
          11180,
          5540,
          25080,
          7910,
          2050,
          1770,
          4790,
          13950,
          19710,
          19650,
          11510,
          11540,
          8800,
          15420,
          13800,
          22080,
          17230,
          7620,
          7360,
          null,
          10830,
          null,
          9320,
          5850,
          5220,
          2410,
          12210,
          8190,
          14250,
          27640,
          15940,
          8200,
          11930,
          22960,
          11350,
          7970,
          1770,
          20060,
          14050,
          22750,
          18040,
          10141.15,
          6973.46,
          15074.26,
          4789.84,
          20454.87,
          11719.96,
          12322.66,
          1664.89,
          4258.35,
          7931.52,
          2211,
          7377.92,
          12895.59,
          14789.93,
          14068.05,
          6849.2,
          9069.7,
          19434.85,
          17611.22,
          21972.28
         ],
         "yaxis": "y"
        },
        {
         "hovertemplate": "<b>%{hovertext}</b><br><br>continent=Europe<br>gdp_per_capita=%{x}<br>GNI_per_capita_PPP=%{y}<extra></extra>",
         "hovertext": [
          "Estonia",
          "Finland",
          "France",
          "Germany",
          "Greece",
          "Hungary",
          "Belgium",
          "Albania",
          "Austria",
          "Belarus",
          "Croatia",
          "Spain",
          "United Kingdom",
          "Switzerland",
          "Slovakia",
          "Slovenia",
          "Sweden",
          "Ukraine",
          "Serbia",
          "Moldova",
          "Ireland",
          "Italy",
          "Romania",
          "Latvia",
          "Lithuania",
          "Luxembourg",
          "Denmark",
          "Russia",
          "Malta",
          "Portugal",
          "Bosnia and Herzegovina",
          "Bulgaria",
          "Iceland",
          "Montenegro",
          "Poland",
          "Netherlands",
          "Norway",
          "Austria",
          "Spain",
          "Latvia",
          "Bulgaria",
          "Norway",
          "Montenegro",
          "Germany",
          "Greece",
          "Hungary",
          "Iceland",
          "Portugal",
          "Poland",
          "Moldova",
          "Switzerland",
          "Slovenia",
          "Romania",
          "Slovakia",
          "Russia",
          "Albania",
          "Serbia",
          "Netherlands",
          "Ukraine",
          "Sweden",
          "Lithuania",
          "Luxembourg",
          "Belgium",
          "Belarus",
          "Estonia",
          "Italy",
          "Bosnia and Herzegovina",
          "Denmark",
          "Malta",
          "Ireland",
          "France",
          "Croatia",
          "Finland",
          "United Kingdom",
          "Latvia",
          "Bosnia and Herzegovina",
          "Belgium",
          "Lithuania",
          "Italy",
          "Norway",
          "Ireland",
          "Iceland",
          "Bulgaria",
          "Hungary",
          "Luxembourg",
          "Montenegro",
          "Sweden",
          "Austria",
          "Netherlands",
          "Slovakia",
          "Spain",
          "Moldova",
          "Poland",
          "Belarus",
          "Albania",
          "Germany",
          "Portugal",
          "Ukraine",
          "France",
          "Slovenia",
          "Finland",
          "Romania",
          "Switzerland",
          "Greece",
          "Russia",
          "United Kingdom",
          "Malta",
          "Estonia",
          "Denmark",
          "Serbia",
          "Croatia",
          "Finland",
          "Ukraine",
          "Slovenia",
          "France",
          "Germany",
          "Poland",
          "Portugal",
          "Spain",
          "Norway",
          "Estonia",
          "Latvia",
          "Romania",
          "Hungary",
          "Iceland",
          "Ireland",
          "Italy",
          "United Kingdom",
          "Greece",
          "Croatia",
          "Russia",
          "Belgium",
          "Bosnia and Herzegovina",
          "Austria",
          "Bulgaria",
          "Albania",
          "Belarus",
          "Denmark",
          "Serbia",
          "Netherlands",
          "Lithuania",
          "Luxembourg",
          "Malta",
          "Switzerland",
          "Moldova",
          "Sweden",
          "Montenegro",
          "Slovakia"
         ],
         "legendgroup": "Europe",
         "marker": {
          "color": "#E3C97F",
          "symbol": "circle"
         },
         "mode": "markers",
         "name": "Europe",
         "orientation": "v",
         "showlegend": true,
         "type": "scatter",
         "x": [
          1.32087934,
          1.443571925,
          1.430923462,
          1.487923384,
          1.289487481,
          1.286011934,
          1.463780761,
          0.996192753,
          1.487097263,
          1.15655756,
          1.222556233,
          1.384397864,
          1.44163394,
          1.564979553,
          1.325393558,
          1.341205955,
          1.494387269,
          0.894651949,
          1.069317579,
          0.72887063,
          1.535706639,
          1.395066619,
          1.217683911,
          1.260748625,
          1.314582348,
          1.741943598,
          1.482383013,
          1.281778097,
          1.343279839,
          1.315175295,
          0.982409418,
          1.161459088,
          1.48063302,
          1.121129036,
          1.291787863,
          1.503944635,
          1.616463184,
          1.33723,
          1.23011,
          1.11312,
          1.01216,
          1.459,
          0.97438,
          1.32792,
          1.15406,
          1.12094,
          1.30232,
          1.15991,
          1.12555,
          0.59448,
          1.39651,
          1.18498,
          1.04345,
          1.16891,
          1.13764,
          0.87867,
          0.92053,
          1.32944,
          0.79907,
          1.33171,
          1.14723,
          1.56391,
          1.30782,
          1.03192,
          1.15174,
          1.25114,
          0.83223,
          1.32548,
          1.2074,
          1.33596,
          1.27778,
          1.08254,
          1.29025,
          1.26637,
          1.187,
          0.945,
          1.356,
          1.238,
          1.294,
          1.488,
          1.499,
          1.38,
          1.092,
          1.201,
          1.609,
          1.051,
          1.387,
          1.376,
          1.396,
          1.246,
          1.286,
          0.685,
          1.206,
          1.067,
          0.947,
          1.373,
          1.221,
          0.82,
          1.324,
          1.258,
          1.34,
          1.162,
          1.452,
          1.181,
          1.183,
          1.333,
          1.3,
          1.237,
          1.383,
          1.004,
          1.155,
          1.305,
          0.793,
          1.219,
          1.293,
          1.34,
          1.176,
          1.188,
          1.251,
          1.456,
          1.2,
          1.148,
          1.116,
          1.171,
          1.343,
          1.448,
          1.264,
          1.244,
          1.154,
          1.115,
          1.151,
          1.324,
          0.915,
          1.341,
          1.054,
          0.916,
          1.039,
          1.351,
          0.975,
          1.361,
          1.197,
          1.576,
          1.27,
          1.42,
          0.657,
          1.355,
          1.017,
          1.21
         ],
         "xaxis": "x",
         "y": [
          28570,
          42950,
          41740,
          48770,
          26940,
          25460,
          46870,
          11800,
          49390,
          19260,
          22870,
          34900,
          41550,
          65450,
          28950,
          30660,
          49420,
          7880,
          14230,
          11290,
          52990,
          36650,
          21130,
          24690,
          27780,
          67590,
          50560,
          23420,
          34280,
          28870,
          12100,
          17820,
          46480,
          16700,
          25880,
          50340,
          63030,
          52630,
          37370,
          26340,
          19760,
          61840,
          18360,
          51810,
          27820,
          26990,
          50990,
          30840,
          27170,
          13060,
          66080,
          33010,
          23680,
          29160,
          23570,
          12270,
          14960,
          51510,
          8210,
          50780,
          29790,
          70450,
          49090,
          19280,
          30510,
          40030,
          13090,
          53110,
          35720,
          59070,
          43830,
          24130,
          45150,
          43100,
          28360,
          13790,
          51320,
          32560,
          42010,
          65730,
          61590,
          54380,
          21460,
          28340,
          72750,
          20110,
          53490,
          54150,
          55770,
          30410,
          39570,
          12320,
          28900,
          17580,
          13130,
          54370,
          32310,
          8460,
          45850,
          35990,
          47480,
          26620,
          67890,
          29150,
          25380,
          45430,
          38370,
          32930,
          56360,
          15510,
          26310,
          41779.26,
          7994.21,
          32143.04,
          40510.78,
          46945.95,
          27625.8,
          27935.38,
          35041.3,
          68058.62,
          30378.63,
          26300.77,
          23905.77,
          27144.21,
          47566.45,
          55659.68,
          36141.43,
          39507.29,
          24909.34,
          23060.96,
          25036.02,
          43820.84,
          12689.68,
          46230.57,
          19645.94,
          12299.8,
          17038.53,
          48836.09,
          15217.7,
          50012.59,
          29775.26,
          65543.05,
          34795.18,
          59374.73,
          6833.11,
          47955.45,
          17510.71,
          30671.87
         ],
         "yaxis": "y"
        },
        {
         "hovertemplate": "<b>%{hovertext}</b><br><br>continent=Australia<br>gdp_per_capita=%{x}<br>GNI_per_capita_PPP=%{y}<extra></extra>",
         "hovertext": [
          "Australia",
          "New Zealand",
          "Australia",
          "New Zealand",
          "New Zealand",
          "Australia",
          "Australia",
          "New Zealand"
         ],
         "legendgroup": "Australia",
         "marker": {
          "color": "#B2E4FA",
          "symbol": "circle"
         },
         "mode": "markers",
         "name": "Australia",
         "orientation": "v",
         "showlegend": true,
         "type": "scatter",
         "x": [
          1.484414935,
          1.405706048,
          1.33358,
          1.25018,
          1.303,
          1.372,
          1.34,
          1.268
         ],
         "xaxis": "x",
         "y": [
          45330,
          36210,
          46230,
          38630,
          39330,
          47580,
          44097.02,
          35107.5
         ],
         "yaxis": "y"
        },
        {
         "hovertemplate": "<b>%{hovertext}</b><br><br>continent=North America<br>gdp_per_capita=%{x}<br>GNI_per_capita_PPP=%{y}<extra></extra>",
         "hovertext": [
          "United States",
          "Mexico",
          "Canada",
          "Mexico",
          "United States",
          "Canada",
          "Mexico",
          "Canada",
          "United States",
          "United States",
          "Canada",
          "Mexico"
         ],
         "legendgroup": "North America",
         "marker": {
          "color": "#B47FE3",
          "symbol": "circle"
         },
         "mode": "markers",
         "name": "North America",
         "orientation": "v",
         "showlegend": true,
         "type": "scatter",
         "x": [
          1.546259284,
          1.153183818,
          1.479204416,
          1.02054,
          1.39451,
          1.32629,
          1.07,
          1.365,
          1.433,
          1.398,
          1.33,
          1.038
         ],
         "xaxis": "x",
         "y": [
          58340,
          17830,
          43990,
          18810,
          58970,
          45910,
          19300,
          48070,
          61020,
          56140.23,
          43602.25,
          17628.12
         ],
         "yaxis": "y"
        }
       ],
       "layout": {
        "legend": {
         "title": {
          "text": "continent"
         },
         "tracegroupgap": 0
        },
        "margin": {
         "t": 60
        },
        "template": {
         "data": {
          "bar": [
           {
            "error_x": {
             "color": "#2a3f5f"
            },
            "error_y": {
             "color": "#2a3f5f"
            },
            "marker": {
             "line": {
              "color": "#E5ECF6",
              "width": 0.5
             },
             "pattern": {
              "fillmode": "overlay",
              "size": 10,
              "solidity": 0.2
             }
            },
            "type": "bar"
           }
          ],
          "barpolar": [
           {
            "marker": {
             "line": {
              "color": "#E5ECF6",
              "width": 0.5
             },
             "pattern": {
              "fillmode": "overlay",
              "size": 10,
              "solidity": 0.2
             }
            },
            "type": "barpolar"
           }
          ],
          "carpet": [
           {
            "aaxis": {
             "endlinecolor": "#2a3f5f",
             "gridcolor": "white",
             "linecolor": "white",
             "minorgridcolor": "white",
             "startlinecolor": "#2a3f5f"
            },
            "baxis": {
             "endlinecolor": "#2a3f5f",
             "gridcolor": "white",
             "linecolor": "white",
             "minorgridcolor": "white",
             "startlinecolor": "#2a3f5f"
            },
            "type": "carpet"
           }
          ],
          "choropleth": [
           {
            "colorbar": {
             "outlinewidth": 0,
             "ticks": ""
            },
            "type": "choropleth"
           }
          ],
          "contour": [
           {
            "colorbar": {
             "outlinewidth": 0,
             "ticks": ""
            },
            "colorscale": [
             [
              0,
              "#0d0887"
             ],
             [
              0.1111111111111111,
              "#46039f"
             ],
             [
              0.2222222222222222,
              "#7201a8"
             ],
             [
              0.3333333333333333,
              "#9c179e"
             ],
             [
              0.4444444444444444,
              "#bd3786"
             ],
             [
              0.5555555555555556,
              "#d8576b"
             ],
             [
              0.6666666666666666,
              "#ed7953"
             ],
             [
              0.7777777777777778,
              "#fb9f3a"
             ],
             [
              0.8888888888888888,
              "#fdca26"
             ],
             [
              1,
              "#f0f921"
             ]
            ],
            "type": "contour"
           }
          ],
          "contourcarpet": [
           {
            "colorbar": {
             "outlinewidth": 0,
             "ticks": ""
            },
            "type": "contourcarpet"
           }
          ],
          "heatmap": [
           {
            "colorbar": {
             "outlinewidth": 0,
             "ticks": ""
            },
            "colorscale": [
             [
              0,
              "#0d0887"
             ],
             [
              0.1111111111111111,
              "#46039f"
             ],
             [
              0.2222222222222222,
              "#7201a8"
             ],
             [
              0.3333333333333333,
              "#9c179e"
             ],
             [
              0.4444444444444444,
              "#bd3786"
             ],
             [
              0.5555555555555556,
              "#d8576b"
             ],
             [
              0.6666666666666666,
              "#ed7953"
             ],
             [
              0.7777777777777778,
              "#fb9f3a"
             ],
             [
              0.8888888888888888,
              "#fdca26"
             ],
             [
              1,
              "#f0f921"
             ]
            ],
            "type": "heatmap"
           }
          ],
          "heatmapgl": [
           {
            "colorbar": {
             "outlinewidth": 0,
             "ticks": ""
            },
            "colorscale": [
             [
              0,
              "#0d0887"
             ],
             [
              0.1111111111111111,
              "#46039f"
             ],
             [
              0.2222222222222222,
              "#7201a8"
             ],
             [
              0.3333333333333333,
              "#9c179e"
             ],
             [
              0.4444444444444444,
              "#bd3786"
             ],
             [
              0.5555555555555556,
              "#d8576b"
             ],
             [
              0.6666666666666666,
              "#ed7953"
             ],
             [
              0.7777777777777778,
              "#fb9f3a"
             ],
             [
              0.8888888888888888,
              "#fdca26"
             ],
             [
              1,
              "#f0f921"
             ]
            ],
            "type": "heatmapgl"
           }
          ],
          "histogram": [
           {
            "marker": {
             "pattern": {
              "fillmode": "overlay",
              "size": 10,
              "solidity": 0.2
             }
            },
            "type": "histogram"
           }
          ],
          "histogram2d": [
           {
            "colorbar": {
             "outlinewidth": 0,
             "ticks": ""
            },
            "colorscale": [
             [
              0,
              "#0d0887"
             ],
             [
              0.1111111111111111,
              "#46039f"
             ],
             [
              0.2222222222222222,
              "#7201a8"
             ],
             [
              0.3333333333333333,
              "#9c179e"
             ],
             [
              0.4444444444444444,
              "#bd3786"
             ],
             [
              0.5555555555555556,
              "#d8576b"
             ],
             [
              0.6666666666666666,
              "#ed7953"
             ],
             [
              0.7777777777777778,
              "#fb9f3a"
             ],
             [
              0.8888888888888888,
              "#fdca26"
             ],
             [
              1,
              "#f0f921"
             ]
            ],
            "type": "histogram2d"
           }
          ],
          "histogram2dcontour": [
           {
            "colorbar": {
             "outlinewidth": 0,
             "ticks": ""
            },
            "colorscale": [
             [
              0,
              "#0d0887"
             ],
             [
              0.1111111111111111,
              "#46039f"
             ],
             [
              0.2222222222222222,
              "#7201a8"
             ],
             [
              0.3333333333333333,
              "#9c179e"
             ],
             [
              0.4444444444444444,
              "#bd3786"
             ],
             [
              0.5555555555555556,
              "#d8576b"
             ],
             [
              0.6666666666666666,
              "#ed7953"
             ],
             [
              0.7777777777777778,
              "#fb9f3a"
             ],
             [
              0.8888888888888888,
              "#fdca26"
             ],
             [
              1,
              "#f0f921"
             ]
            ],
            "type": "histogram2dcontour"
           }
          ],
          "mesh3d": [
           {
            "colorbar": {
             "outlinewidth": 0,
             "ticks": ""
            },
            "type": "mesh3d"
           }
          ],
          "parcoords": [
           {
            "line": {
             "colorbar": {
              "outlinewidth": 0,
              "ticks": ""
             }
            },
            "type": "parcoords"
           }
          ],
          "pie": [
           {
            "automargin": true,
            "type": "pie"
           }
          ],
          "scatter": [
           {
            "fillpattern": {
             "fillmode": "overlay",
             "size": 10,
             "solidity": 0.2
            },
            "type": "scatter"
           }
          ],
          "scatter3d": [
           {
            "line": {
             "colorbar": {
              "outlinewidth": 0,
              "ticks": ""
             }
            },
            "marker": {
             "colorbar": {
              "outlinewidth": 0,
              "ticks": ""
             }
            },
            "type": "scatter3d"
           }
          ],
          "scattercarpet": [
           {
            "marker": {
             "colorbar": {
              "outlinewidth": 0,
              "ticks": ""
             }
            },
            "type": "scattercarpet"
           }
          ],
          "scattergeo": [
           {
            "marker": {
             "colorbar": {
              "outlinewidth": 0,
              "ticks": ""
             }
            },
            "type": "scattergeo"
           }
          ],
          "scattergl": [
           {
            "marker": {
             "colorbar": {
              "outlinewidth": 0,
              "ticks": ""
             }
            },
            "type": "scattergl"
           }
          ],
          "scattermapbox": [
           {
            "marker": {
             "colorbar": {
              "outlinewidth": 0,
              "ticks": ""
             }
            },
            "type": "scattermapbox"
           }
          ],
          "scatterpolar": [
           {
            "marker": {
             "colorbar": {
              "outlinewidth": 0,
              "ticks": ""
             }
            },
            "type": "scatterpolar"
           }
          ],
          "scatterpolargl": [
           {
            "marker": {
             "colorbar": {
              "outlinewidth": 0,
              "ticks": ""
             }
            },
            "type": "scatterpolargl"
           }
          ],
          "scatterternary": [
           {
            "marker": {
             "colorbar": {
              "outlinewidth": 0,
              "ticks": ""
             }
            },
            "type": "scatterternary"
           }
          ],
          "surface": [
           {
            "colorbar": {
             "outlinewidth": 0,
             "ticks": ""
            },
            "colorscale": [
             [
              0,
              "#0d0887"
             ],
             [
              0.1111111111111111,
              "#46039f"
             ],
             [
              0.2222222222222222,
              "#7201a8"
             ],
             [
              0.3333333333333333,
              "#9c179e"
             ],
             [
              0.4444444444444444,
              "#bd3786"
             ],
             [
              0.5555555555555556,
              "#d8576b"
             ],
             [
              0.6666666666666666,
              "#ed7953"
             ],
             [
              0.7777777777777778,
              "#fb9f3a"
             ],
             [
              0.8888888888888888,
              "#fdca26"
             ],
             [
              1,
              "#f0f921"
             ]
            ],
            "type": "surface"
           }
          ],
          "table": [
           {
            "cells": {
             "fill": {
              "color": "#EBF0F8"
             },
             "line": {
              "color": "white"
             }
            },
            "header": {
             "fill": {
              "color": "#C8D4E3"
             },
             "line": {
              "color": "white"
             }
            },
            "type": "table"
           }
          ]
         },
         "layout": {
          "annotationdefaults": {
           "arrowcolor": "#2a3f5f",
           "arrowhead": 0,
           "arrowwidth": 1
          },
          "autotypenumbers": "strict",
          "coloraxis": {
           "colorbar": {
            "outlinewidth": 0,
            "ticks": ""
           }
          },
          "colorscale": {
           "diverging": [
            [
             0,
             "#8e0152"
            ],
            [
             0.1,
             "#c51b7d"
            ],
            [
             0.2,
             "#de77ae"
            ],
            [
             0.3,
             "#f1b6da"
            ],
            [
             0.4,
             "#fde0ef"
            ],
            [
             0.5,
             "#f7f7f7"
            ],
            [
             0.6,
             "#e6f5d0"
            ],
            [
             0.7,
             "#b8e186"
            ],
            [
             0.8,
             "#7fbc41"
            ],
            [
             0.9,
             "#4d9221"
            ],
            [
             1,
             "#276419"
            ]
           ],
           "sequential": [
            [
             0,
             "#0d0887"
            ],
            [
             0.1111111111111111,
             "#46039f"
            ],
            [
             0.2222222222222222,
             "#7201a8"
            ],
            [
             0.3333333333333333,
             "#9c179e"
            ],
            [
             0.4444444444444444,
             "#bd3786"
            ],
            [
             0.5555555555555556,
             "#d8576b"
            ],
            [
             0.6666666666666666,
             "#ed7953"
            ],
            [
             0.7777777777777778,
             "#fb9f3a"
            ],
            [
             0.8888888888888888,
             "#fdca26"
            ],
            [
             1,
             "#f0f921"
            ]
           ],
           "sequentialminus": [
            [
             0,
             "#0d0887"
            ],
            [
             0.1111111111111111,
             "#46039f"
            ],
            [
             0.2222222222222222,
             "#7201a8"
            ],
            [
             0.3333333333333333,
             "#9c179e"
            ],
            [
             0.4444444444444444,
             "#bd3786"
            ],
            [
             0.5555555555555556,
             "#d8576b"
            ],
            [
             0.6666666666666666,
             "#ed7953"
            ],
            [
             0.7777777777777778,
             "#fb9f3a"
            ],
            [
             0.8888888888888888,
             "#fdca26"
            ],
            [
             1,
             "#f0f921"
            ]
           ]
          },
          "colorway": [
           "#636efa",
           "#EF553B",
           "#00cc96",
           "#ab63fa",
           "#FFA15A",
           "#19d3f3",
           "#FF6692",
           "#B6E880",
           "#FF97FF",
           "#FECB52"
          ],
          "font": {
           "color": "#2a3f5f"
          },
          "geo": {
           "bgcolor": "white",
           "lakecolor": "white",
           "landcolor": "#E5ECF6",
           "showlakes": true,
           "showland": true,
           "subunitcolor": "white"
          },
          "hoverlabel": {
           "align": "left"
          },
          "hovermode": "closest",
          "mapbox": {
           "style": "light"
          },
          "paper_bgcolor": "white",
          "plot_bgcolor": "#E5ECF6",
          "polar": {
           "angularaxis": {
            "gridcolor": "white",
            "linecolor": "white",
            "ticks": ""
           },
           "bgcolor": "#E5ECF6",
           "radialaxis": {
            "gridcolor": "white",
            "linecolor": "white",
            "ticks": ""
           }
          },
          "scene": {
           "xaxis": {
            "backgroundcolor": "#E5ECF6",
            "gridcolor": "white",
            "gridwidth": 2,
            "linecolor": "white",
            "showbackground": true,
            "ticks": "",
            "zerolinecolor": "white"
           },
           "yaxis": {
            "backgroundcolor": "#E5ECF6",
            "gridcolor": "white",
            "gridwidth": 2,
            "linecolor": "white",
            "showbackground": true,
            "ticks": "",
            "zerolinecolor": "white"
           },
           "zaxis": {
            "backgroundcolor": "#E5ECF6",
            "gridcolor": "white",
            "gridwidth": 2,
            "linecolor": "white",
            "showbackground": true,
            "ticks": "",
            "zerolinecolor": "white"
           }
          },
          "shapedefaults": {
           "line": {
            "color": "#2a3f5f"
           }
          },
          "ternary": {
           "aaxis": {
            "gridcolor": "white",
            "linecolor": "white",
            "ticks": ""
           },
           "baxis": {
            "gridcolor": "white",
            "linecolor": "white",
            "ticks": ""
           },
           "bgcolor": "#E5ECF6",
           "caxis": {
            "gridcolor": "white",
            "linecolor": "white",
            "ticks": ""
           }
          },
          "title": {
           "x": 0.05
          },
          "xaxis": {
           "automargin": true,
           "gridcolor": "white",
           "linecolor": "white",
           "ticks": "",
           "title": {
            "standoff": 15
           },
           "zerolinecolor": "white",
           "zerolinewidth": 2
          },
          "yaxis": {
           "automargin": true,
           "gridcolor": "white",
           "linecolor": "white",
           "ticks": "",
           "title": {
            "standoff": 15
           },
           "zerolinecolor": "white",
           "zerolinewidth": 2
          }
         }
        },
        "title": {
         "text": "Relationship between GDP per Capita and GNI per Capita (PPP)"
        },
        "xaxis": {
         "anchor": "y",
         "domain": [
          0,
          1
         ],
         "title": {
          "text": "GDP per Capita"
         }
        },
        "yaxis": {
         "anchor": "x",
         "domain": [
          0,
          1
         ],
         "title": {
          "text": "GNI per Capita (PPP)"
         }
        }
       }
      },
      "text/html": [
       "<div>                            <div id=\"d1298529-bf68-4ca7-a92f-b21fd25d14f3\" class=\"plotly-graph-div\" style=\"height:525px; width:100%;\"></div>            <script type=\"text/javascript\">                require([\"plotly\"], function(Plotly) {                    window.PLOTLYENV=window.PLOTLYENV || {};                                    if (document.getElementById(\"d1298529-bf68-4ca7-a92f-b21fd25d14f3\")) {                    Plotly.newPlot(                        \"d1298529-bf68-4ca7-a92f-b21fd25d14f3\",                        [{\"hovertemplate\":\"\\u003cb\\u003e%{hovertext}\\u003c\\u002fb\\u003e\\u003cbr\\u003e\\u003cbr\\u003econtinent=Asia\\u003cbr\\u003egdp_per_capita=%{x}\\u003cbr\\u003eGNI_per_capita_PPP=%{y}\\u003cextra\\u003e\\u003c\\u002fextra\\u003e\",\"hovertext\":[\"Lebanon\",\"Georgia\",\"Cyprus\",\"China\",\"China\",\"Armenia\",\"Azerbaijan\",\"Bahrain\",\"Sri Lanka\",\"Turkmenistan\",\"Uzbekistan\",\"Bangladesh\",\"Tajikistan\",\"Yemen\",\"Vietnam\",\"United Arab Emirates\",\"Turkey\",\"Afghanistan\",\"Singapore\",\"India\",\"Thailand\",\"Kazakhstan\",\"Saudi Arabia\",\"Mongolia\",\"Kyrgyzstan\",\"Iraq\",\"Israel\",\"Japan\",\"Jordan\",\"Kuwait\",\"Malaysia\",\"Cambodia\",\"Indonesia\",\"Myanmar\",\"Iran\",\"Nepal\",\"Pakistan\",\"Philippines\",\"Sri Lanka\",\"Yemen\",\"Pakistan\",\"Turkmenistan\",\"Georgia\",\"Myanmar\",\"Nepal\",\"Philippines\",\"Mongolia\",\"Bahrain\",\"Saudi Arabia\",\"Armenia\",\"Azerbaijan\",\"India\",\"Indonesia\",\"Kyrgyzstan\",\"Malaysia\",\"Tajikistan\",\"Bangladesh\",\"Vietnam\",\"Kazakhstan\",\"Jordan\",\"Israel\",\"Kuwait\",\"Japan\",\"Singapore\",\"Lebanon\",\"Thailand\",\"China\",\"Iran\",\"Turkey\",\"Cambodia\",\"Cyprus\",\"China\",\"Uzbekistan\",\"United Arab Emirates\",\"Iraq\",\"Afghanistan\",\"Thailand\",\"Lebanon\",\"Myanmar\",\"Israel\",\"Kazakhstan\",\"Sri Lanka\",\"Kyrgyzstan\",\"Vietnam\",\"Japan\",\"Jordan\",\"India\",\"Indonesia\",\"Singapore\",\"Turkey\",\"Iran\",\"Pakistan\",\"Iraq\",\"Mongolia\",\"Nepal\",\"Armenia\",\"Turkmenistan\",\"Kuwait\",\"Philippines\",\"Bahrain\",\"Azerbaijan\",\"Cambodia\",\"Tajikistan\",\"Georgia\",\"Uzbekistan\",\"Malaysia\",\"United Arab Emirates\",\"Saudi Arabia\",\"Yemen\",\"Cyprus\",\"China\",\"China\",\"Bangladesh\",\"Afghanistan\",\"United Arab Emirates\",\"Georgia\",\"Malaysia\",\"Lebanon\",\"Pakistan\",\"Philippines\",\"Turkmenistan\",\"India\",\"Turkey\",\"Iran\",\"Iraq\",\"Israel\",\"China\",\"Japan\",\"Jordan\",\"Kazakhstan\",\"Kuwait\",\"Thailand\",\"Kyrgyzstan\",\"Cyprus\",\"Indonesia\",\"Azerbaijan\",\"Uzbekistan\",\"Bangladesh\",\"Vietnam\",\"Cambodia\",\"Afghanistan\",\"Bahrain\",\"Yemen\",\"Sri Lanka\",\"Saudi Arabia\",\"Singapore\",\"China\",\"Tajikistan\",\"Mongolia\",\"Myanmar\",\"Nepal\",\"Armenia\"],\"legendgroup\":\"Asia\",\"marker\":{\"color\":\"#FAA598\",\"symbol\":\"circle\"},\"mode\":\"markers\",\"name\":\"Asia\",\"orientation\":\"v\",\"showlegend\":true,\"x\":[1.074987531,0.950612664,1.355938077,1.081165791,1.081165791,0.900596738,1.153601766,1.488412261,1.009850144,1.130776763,0.786441088,0.586682975,0.524713635,0.591683447,0.788547575,1.626343369,1.198274374,0.401477218,1.69227767,0.792221248,1.127868772,1.28455627,1.530623555,1.027235866,0.596220076,1.102710485,1.375382423,1.416915178,0.991012394,1.632952452,1.29121542,0.601765096,0.995538592,0.36711055,1.156873107,0.479820192,0.726883531,0.857699215,0.83524,0.54649,0.59543,0.95847,0.7419,0.27108,0.35997,0.70532,0.82819,1.32376,1.39541,0.76821,1.02389,0.64499,0.82827,0.47428,1.12486,0.39047,0.39753,0.63216,1.12254,0.90198,1.22857,1.55422,1.27074,1.52186,1.02564,0.9669,0.89012,1.0088,1.06098,0.46038,1.20813,0.89012,0.63244,1.42727,0.98549,0.31982,1.05,0.987,0.71,1.276,1.173,0.949,0.551,0.741,1.327,0.837,0.755,0.931,1.572,1.183,1.1,0.677,1.043,0.948,0.446,0.85,1.052,1.5,0.807,1.362,1.043,0.574,0.493,0.886,0.745,1.221,1.503,1.403,0.287,1.263,1.029,1.029,0.562,0.35,2.096,0.853,1.161,0.965,0.652,0.775,1.016,0.721,1.148,1.059,1.01,1.301,0.989,1.294,0.822,1.143,1.474,1.016,0.53,1.229,0.899,1.024,0.719,0.532,0.715,0.549,0.332,1.338,0.442,0.918,1.379,1.529,0.989,0.474,0.914,0.682,0.425,0.816],\"xaxis\":\"x\",\"y\":[14920.0,11420.0,31510.0,12880.0,57450.0,12490.0,15020.0,42760.0,11270.0,12890.0,6460.0,3790.0,3590.0,null,5790.0,64640.0,25340.0,2110.0,81040.0,5400.0,15010.0,23860.0,49450.0,9880.0,4460.0,10220.0,35130.0,41950.0,9140.0,52880.0,24120.0,3180.0,9910.0,4180.0,13300.0,2680.0,4640.0,8310.0,11900.0,null,4680.0,13500.0,11760.0,4220.0,2620.0,8870.0,9860.0,41860.0,46110.0,13160.0,14920.0,5760.0,10160.0,5020.0,24840.0,3900.0,4070.0,6300.0,24280.0,9120.0,37500.0,51550.0,41350.0,83020.0,15250.0,15800.0,58670.0,13650.0,26050.0,3450.0,33000.0,13400.0,6530.0,63670.0,9720.0,2140.0,16610.0,16070.0,4480.0,38570.0,22160.0,12340.0,4800.0,6620.0,42290.0,9790.0,6120.0,10580.0,87440.0,27570.0,14560.0,4820.0,10850.0,9720.0,3140.0,12540.0,13620.0,59260.0,9320.0,44980.0,13510.0,3680.0,3560.0,12910.0,6650.0,25900.0,66290.0,48040.0,null,35750.0,62530.0,14140.0,4340.0,2210.0,66911.66,9569.52,27226.68,11136.25,5190.08,9539.7,16407.47,6828.6,24905.38,18166.47,15364.96,33649.69,16126.57,40799.01,8267.81,22167.7,71164.22,16128.55,3316.79,33100.32,11255.78,15240.14,6461.84,4057.25,6220.27,3597.4,1745.67,40399.12,1433.3,11610.91,49338.41,83792.67,60220.8,3482.38,10783.71,5763.94,2748.2,9277.23],\"yaxis\":\"y\",\"type\":\"scatter\"},{\"hovertemplate\":\"\\u003cb\\u003e%{hovertext}\\u003c\\u002fb\\u003e\\u003cbr\\u003e\\u003cbr\\u003econtinent=Africa\\u003cbr\\u003egdp_per_capita=%{x}\\u003cbr\\u003eGNI_per_capita_PPP=%{y}\\u003cextra\\u003e\\u003c\\u002fextra\\u003e\",\"hovertext\":[\"Egypt\",\"Ethiopia\",\"Gabon\",\"Ghana\",\"Algeria\",\"Zimbabwe\",\"Tanzania\",\"Tunisia\",\"South Africa\",\"Uganda\",\"Togo\",\"Zambia\",\"Sierra Leone\",\"Benin\",\"Rwanda\",\"Senegal\",\"Kenya\",\"Mauritius\",\"Liberia\",\"Libya\",\"Madagascar\",\"Malawi\",\"Mali\",\"Mauritania\",\"Botswana\",\"Burkina Faso\",\"Burundi\",\"Cameroon\",\"Nigeria\",\"Chad\",\"Niger\",\"Morocco\",\"Nigeria\",\"Zambia\",\"Niger\",\"Mauritius\",\"Ghana\",\"Burundi\",\"Uganda\",\"Burkina Faso\",\"Algeria\",\"Morocco\",\"Zimbabwe\",\"Senegal\",\"Sierra Leone\",\"South Africa\",\"Rwanda\",\"Libya\",\"Tanzania\",\"Madagascar\",\"Malawi\",\"Mali\",\"Mauritania\",\"Benin\",\"Botswana\",\"Kenya\",\"Togo\",\"Liberia\",\"Tunisia\",\"Gabon\",\"Chad\",\"Egypt\",\"Ethiopia\",\"Cameroon\",\"Libya\",\"Morocco\",\"Botswana\",\"Senegal\",\"Tunisia\",\"Benin\",\"Niger\",\"Tanzania\",\"Togo\",\"Madagascar\",\"Mauritius\",\"Zambia\",\"Malawi\",\"Kenya\",\"Nigeria\",\"Ghana\",\"Burundi\",\"Uganda\",\"Burkina Faso\",\"Ethiopia\",\"South Africa\",\"Mali\",\"Gabon\",\"Algeria\",\"Liberia\",\"Egypt\",\"Rwanda\",\"Cameroon\",\"Chad\",\"Sierra Leone\",\"Zimbabwe\",\"Mauritania\",\"Egypt\",\"Ethiopia\",\"Gabon\",\"Ghana\",\"Liberia\",\"Nigeria\",\"South Africa\",\"Togo\",\"Kenya\",\"Uganda\",\"Rwanda\",\"Burundi\",\"Botswana\",\"Cameroon\",\"Chad\",\"Zambia\",\"Algeria\",\"Tunisia\",\"Burkina Faso\",\"Benin\",\"Senegal\",\"Sierra Leone\",\"Niger\",\"Libya\",\"Tanzania\",\"Madagascar\",\"Malawi\",\"Mali\",\"Mauritania\",\"Mauritius\",\"Morocco\",\"Zimbabwe\"],\"legendgroup\":\"Africa\",\"marker\":{\"color\":\"#AEFD8E\",\"symbol\":\"circle\"},\"mode\":\"markers\",\"name\":\"Africa\",\"orientation\":\"v\",\"showlegend\":true,\"x\":[0.989701807,0.339233845,1.198210239,0.667224824,1.091864467,0.375846535,0.511135876,1.007265806,1.054698706,0.381430715,0.305444717,0.636406779,0.368420929,0.431085408,0.368745893,0.479309022,0.560479462,1.189395547,0.119041793,1.101803064,0.305808693,0.233442038,0.476180494,0.648457289,1.122094154,0.350227714,0.091622569,0.564305365,0.783756256,0.438012987,0.161925331,0.878114581,0.65435,0.47038,0.0694,1.00761,0.54558,0.0153,0.21102,0.25812,0.93929,0.73479,0.271,0.36498,0.33024,0.92049,0.22208,1.13145,0.2852,0.20824,0.01604,0.26074,0.45407,0.28665,0.99355,0.36471,0.20868,0.0712,0.88113,1.06024,0.34193,0.8818,0.19073,0.4225,1.044,0.801,1.041,0.45,0.921,0.393,0.138,0.476,0.275,0.274,1.12,0.578,0.191,0.512,0.696,0.611,0.046,0.332,0.331,0.336,0.96,0.385,1.057,1.002,0.073,0.913,0.359,0.549,0.35,0.268,0.366,0.57,0.885,0.308,1.036,0.592,0.076,0.689,0.94,0.259,0.493,0.322,0.332,0.091,1.017,0.535,0.358,0.562,0.979,0.9,0.314,0.378,0.429,0.256,0.131,0.985,0.455,0.262,0.186,0.37,0.557,1.09,0.779,0.357],\"xaxis\":\"x\",\"y\":[11160.0,1650.0,13480.0,5050.0,11700.0,2410.0,2740.0,9890.0,12240.0,1750.0,1440.0,3370.0,1570.0,2860.0,1710.0,2910.0,3330.0,20860.0,1180.0,12740.0,1500.0,990.0,1990.0,3160.0,15310.0,1460.0,840.0,3210.0,5280.0,1760.0,840.0,7670.0,5120.0,3330.0,820.0,22390.0,4800.0,800.0,1690.0,1550.0,11520.0,7730.0,2570.0,3000.0,1420.0,12240.0,1790.0,11430.0,2860.0,1550.0,1020.0,2130.0,3350.0,2980.0,16600.0,3620.0,1470.0,1260.0,10070.0,13180.0,1630.0,10850.0,1870.0,3350.0,13690.0,8110.0,16680.0,3140.0,10280.0,3010.0,830.0,3020.0,1520.0,1540.0,23560.0,3330.0,1030.0,4000.0,5030.0,4860.0,770.0,1710.0,1730.0,2010.0,12320.0,2180.0,14060.0,11370.0,1380.0,10800.0,1910.0,3490.0,1570.0,1590.0,2860.0,3610.0,10743.81,1781.76,15794.08,4098.86,1040.09,5085.54,11756.3,1592.54,3051.69,1752.21,1958.61,659.73,15951.33,3291.13,1715.57,3581.89,13639.43,10676.96,1705.49,2134.59,3255.99,1381.3,912.04,11684.73,2805.12,1403.92,1159.12,1965.39,3746.08,22724.23,7479.59,2661.07],\"yaxis\":\"y\",\"type\":\"scatter\"},{\"hovertemplate\":\"\\u003cb\\u003e%{hovertext}\\u003c\\u002fb\\u003e\\u003cbr\\u003e\\u003cbr\\u003econtinent=South America\\u003cbr\\u003egdp_per_capita=%{x}\\u003cbr\\u003eGNI_per_capita_PPP=%{y}\\u003cextra\\u003e\\u003c\\u002fextra\\u003e\",\"hovertext\":[\"El Salvador\",\"Guatemala\",\"Guinea\",\"Honduras\",\"Chile\",\"Argentina\",\"Dominican Republic\",\"Ecuador\",\"Uruguay\",\"Venezuela\",\"Costa Rica\",\"Colombia\",\"Haiti\",\"Jamaica\",\"Bolivia\",\"Brazil\",\"Panama\",\"Nicaragua\",\"Paraguay\",\"Peru\",\"Nicaragua\",\"Panama\",\"Guatemala\",\"Guinea\",\"Haiti\",\"Honduras\",\"Brazil\",\"Argentina\",\"Uruguay\",\"Peru\",\"Paraguay\",\"Jamaica\",\"Dominican Republic\",\"Colombia\",\"Chile\",\"Costa Rica\",\"El Salvador\",\"Bolivia\",\"Venezuela\",\"Ecuador\",\"Venezuela\",\"Jamaica\",\"Nicaragua\",\"Honduras\",\"Guinea\",\"Paraguay\",\"Bolivia\",\"Brazil\",\"Panama\",\"Dominican Republic\",\"Guatemala\",\"Peru\",\"Argentina\",\"Ecuador\",\"El Salvador\",\"Haiti\",\"Uruguay\",\"Colombia\",\"Chile\",\"Costa Rica\",\"Ecuador\",\"El Salvador\",\"Dominican Republic\",\"Nicaragua\",\"Panama\",\"Paraguay\",\"Peru\",\"Haiti\",\"Honduras\",\"Jamaica\",\"Guinea\",\"Guatemala\",\"Colombia\",\"Costa Rica\",\"Brazil\",\"Bolivia\",\"Venezuela\",\"Uruguay\",\"Argentina\",\"Chile\"],\"legendgroup\":\"South America\",\"marker\":{\"color\":\"#E8EAC8\",\"symbol\":\"circle\"},\"mode\":\"markers\",\"name\":\"South America\",\"orientation\":\"v\",\"showlegend\":true,\"x\":[0.909784496,0.872001946,0.24454993,0.730573118,1.25278461,1.185295463,1.079373837,1.000820398,1.217559695,1.128431201,1.109706283,1.070622325,0.368610263,0.925579309,0.833756566,1.10735321,1.233748436,0.737299204,0.932537317,1.035225272,0.59325,1.06353,0.74553,0.17417,0.26673,0.59532,0.98124,1.05351,1.06166,0.90019,0.75985,0.81038,0.89537,0.91861,1.10715,0.95578,0.76454,0.68133,1.04424,0.86402,0.96,0.831,0.694,0.642,0.38,0.855,0.776,1.004,1.149,1.015,0.8,0.96,1.092,0.912,0.794,0.323,1.124,0.985,1.159,1.034,0.889,0.806,0.982,0.668,1.112,0.835,0.934,0.315,0.62,0.819,0.344,0.781,0.96,1.01,0.986,0.751,0.996,1.093,1.073,1.131],\"xaxis\":\"x\",\"y\":[7240.0,7830.0,1790.0,4490.0,22010.0,19650.0,14130.0,10870.0,19310.0,null,16310.0,13700.0,1710.0,8520.0,6890.0,14470.0,22810.0,5150.0,11040.0,11180.0,5540.0,25080.0,7910.0,2050.0,1770.0,4790.0,13950.0,19710.0,19650.0,11510.0,11540.0,8800.0,15420.0,13800.0,22080.0,17230.0,7620.0,7360.0,null,10830.0,null,9320.0,5850.0,5220.0,2410.0,12210.0,8190.0,14250.0,27640.0,15940.0,8200.0,11930.0,22960.0,11350.0,7970.0,1770.0,20060.0,14050.0,22750.0,18040.0,10141.15,6973.46,15074.26,4789.84,20454.87,11719.96,12322.66,1664.89,4258.35,7931.52,2211.0,7377.92,12895.59,14789.93,14068.05,6849.2,9069.7,19434.85,17611.22,21972.28],\"yaxis\":\"y\",\"type\":\"scatter\"},{\"hovertemplate\":\"\\u003cb\\u003e%{hovertext}\\u003c\\u002fb\\u003e\\u003cbr\\u003e\\u003cbr\\u003econtinent=Europe\\u003cbr\\u003egdp_per_capita=%{x}\\u003cbr\\u003eGNI_per_capita_PPP=%{y}\\u003cextra\\u003e\\u003c\\u002fextra\\u003e\",\"hovertext\":[\"Estonia\",\"Finland\",\"France\",\"Germany\",\"Greece\",\"Hungary\",\"Belgium\",\"Albania\",\"Austria\",\"Belarus\",\"Croatia\",\"Spain\",\"United Kingdom\",\"Switzerland\",\"Slovakia\",\"Slovenia\",\"Sweden\",\"Ukraine\",\"Serbia\",\"Moldova\",\"Ireland\",\"Italy\",\"Romania\",\"Latvia\",\"Lithuania\",\"Luxembourg\",\"Denmark\",\"Russia\",\"Malta\",\"Portugal\",\"Bosnia and Herzegovina\",\"Bulgaria\",\"Iceland\",\"Montenegro\",\"Poland\",\"Netherlands\",\"Norway\",\"Austria\",\"Spain\",\"Latvia\",\"Bulgaria\",\"Norway\",\"Montenegro\",\"Germany\",\"Greece\",\"Hungary\",\"Iceland\",\"Portugal\",\"Poland\",\"Moldova\",\"Switzerland\",\"Slovenia\",\"Romania\",\"Slovakia\",\"Russia\",\"Albania\",\"Serbia\",\"Netherlands\",\"Ukraine\",\"Sweden\",\"Lithuania\",\"Luxembourg\",\"Belgium\",\"Belarus\",\"Estonia\",\"Italy\",\"Bosnia and Herzegovina\",\"Denmark\",\"Malta\",\"Ireland\",\"France\",\"Croatia\",\"Finland\",\"United Kingdom\",\"Latvia\",\"Bosnia and Herzegovina\",\"Belgium\",\"Lithuania\",\"Italy\",\"Norway\",\"Ireland\",\"Iceland\",\"Bulgaria\",\"Hungary\",\"Luxembourg\",\"Montenegro\",\"Sweden\",\"Austria\",\"Netherlands\",\"Slovakia\",\"Spain\",\"Moldova\",\"Poland\",\"Belarus\",\"Albania\",\"Germany\",\"Portugal\",\"Ukraine\",\"France\",\"Slovenia\",\"Finland\",\"Romania\",\"Switzerland\",\"Greece\",\"Russia\",\"United Kingdom\",\"Malta\",\"Estonia\",\"Denmark\",\"Serbia\",\"Croatia\",\"Finland\",\"Ukraine\",\"Slovenia\",\"France\",\"Germany\",\"Poland\",\"Portugal\",\"Spain\",\"Norway\",\"Estonia\",\"Latvia\",\"Romania\",\"Hungary\",\"Iceland\",\"Ireland\",\"Italy\",\"United Kingdom\",\"Greece\",\"Croatia\",\"Russia\",\"Belgium\",\"Bosnia and Herzegovina\",\"Austria\",\"Bulgaria\",\"Albania\",\"Belarus\",\"Denmark\",\"Serbia\",\"Netherlands\",\"Lithuania\",\"Luxembourg\",\"Malta\",\"Switzerland\",\"Moldova\",\"Sweden\",\"Montenegro\",\"Slovakia\"],\"legendgroup\":\"Europe\",\"marker\":{\"color\":\"#E3C97F\",\"symbol\":\"circle\"},\"mode\":\"markers\",\"name\":\"Europe\",\"orientation\":\"v\",\"showlegend\":true,\"x\":[1.32087934,1.443571925,1.430923462,1.487923384,1.289487481,1.286011934,1.463780761,0.996192753,1.487097263,1.15655756,1.222556233,1.384397864,1.44163394,1.564979553,1.325393558,1.341205955,1.494387269,0.894651949,1.069317579,0.72887063,1.535706639,1.395066619,1.217683911,1.260748625,1.314582348,1.741943598,1.482383013,1.281778097,1.343279839,1.315175295,0.982409418,1.161459088,1.48063302,1.121129036,1.291787863,1.503944635,1.616463184,1.33723,1.23011,1.11312,1.01216,1.459,0.97438,1.32792,1.15406,1.12094,1.30232,1.15991,1.12555,0.59448,1.39651,1.18498,1.04345,1.16891,1.13764,0.87867,0.92053,1.32944,0.79907,1.33171,1.14723,1.56391,1.30782,1.03192,1.15174,1.25114,0.83223,1.32548,1.2074,1.33596,1.27778,1.08254,1.29025,1.26637,1.187,0.945,1.356,1.238,1.294,1.488,1.499,1.38,1.092,1.201,1.609,1.051,1.387,1.376,1.396,1.246,1.286,0.685,1.206,1.067,0.947,1.373,1.221,0.82,1.324,1.258,1.34,1.162,1.452,1.181,1.183,1.333,1.3,1.237,1.383,1.004,1.155,1.305,0.793,1.219,1.293,1.34,1.176,1.188,1.251,1.456,1.2,1.148,1.116,1.171,1.343,1.448,1.264,1.244,1.154,1.115,1.151,1.324,0.915,1.341,1.054,0.916,1.039,1.351,0.975,1.361,1.197,1.576,1.27,1.42,0.657,1.355,1.017,1.21],\"xaxis\":\"x\",\"y\":[28570.0,42950.0,41740.0,48770.0,26940.0,25460.0,46870.0,11800.0,49390.0,19260.0,22870.0,34900.0,41550.0,65450.0,28950.0,30660.0,49420.0,7880.0,14230.0,11290.0,52990.0,36650.0,21130.0,24690.0,27780.0,67590.0,50560.0,23420.0,34280.0,28870.0,12100.0,17820.0,46480.0,16700.0,25880.0,50340.0,63030.0,52630.0,37370.0,26340.0,19760.0,61840.0,18360.0,51810.0,27820.0,26990.0,50990.0,30840.0,27170.0,13060.0,66080.0,33010.0,23680.0,29160.0,23570.0,12270.0,14960.0,51510.0,8210.0,50780.0,29790.0,70450.0,49090.0,19280.0,30510.0,40030.0,13090.0,53110.0,35720.0,59070.0,43830.0,24130.0,45150.0,43100.0,28360.0,13790.0,51320.0,32560.0,42010.0,65730.0,61590.0,54380.0,21460.0,28340.0,72750.0,20110.0,53490.0,54150.0,55770.0,30410.0,39570.0,12320.0,28900.0,17580.0,13130.0,54370.0,32310.0,8460.0,45850.0,35990.0,47480.0,26620.0,67890.0,29150.0,25380.0,45430.0,38370.0,32930.0,56360.0,15510.0,26310.0,41779.26,7994.21,32143.04,40510.78,46945.95,27625.8,27935.38,35041.3,68058.62,30378.63,26300.77,23905.77,27144.21,47566.45,55659.68,36141.43,39507.29,24909.34,23060.96,25036.02,43820.84,12689.68,46230.57,19645.94,12299.8,17038.53,48836.09,15217.7,50012.59,29775.26,65543.05,34795.18,59374.73,6833.11,47955.45,17510.71,30671.87],\"yaxis\":\"y\",\"type\":\"scatter\"},{\"hovertemplate\":\"\\u003cb\\u003e%{hovertext}\\u003c\\u002fb\\u003e\\u003cbr\\u003e\\u003cbr\\u003econtinent=Australia\\u003cbr\\u003egdp_per_capita=%{x}\\u003cbr\\u003eGNI_per_capita_PPP=%{y}\\u003cextra\\u003e\\u003c\\u002fextra\\u003e\",\"hovertext\":[\"Australia\",\"New Zealand\",\"Australia\",\"New Zealand\",\"New Zealand\",\"Australia\",\"Australia\",\"New Zealand\"],\"legendgroup\":\"Australia\",\"marker\":{\"color\":\"#B2E4FA\",\"symbol\":\"circle\"},\"mode\":\"markers\",\"name\":\"Australia\",\"orientation\":\"v\",\"showlegend\":true,\"x\":[1.484414935,1.405706048,1.33358,1.25018,1.303,1.372,1.34,1.268],\"xaxis\":\"x\",\"y\":[45330.0,36210.0,46230.0,38630.0,39330.0,47580.0,44097.02,35107.5],\"yaxis\":\"y\",\"type\":\"scatter\"},{\"hovertemplate\":\"\\u003cb\\u003e%{hovertext}\\u003c\\u002fb\\u003e\\u003cbr\\u003e\\u003cbr\\u003econtinent=North America\\u003cbr\\u003egdp_per_capita=%{x}\\u003cbr\\u003eGNI_per_capita_PPP=%{y}\\u003cextra\\u003e\\u003c\\u002fextra\\u003e\",\"hovertext\":[\"United States\",\"Mexico\",\"Canada\",\"Mexico\",\"United States\",\"Canada\",\"Mexico\",\"Canada\",\"United States\",\"United States\",\"Canada\",\"Mexico\"],\"legendgroup\":\"North America\",\"marker\":{\"color\":\"#B47FE3\",\"symbol\":\"circle\"},\"mode\":\"markers\",\"name\":\"North America\",\"orientation\":\"v\",\"showlegend\":true,\"x\":[1.546259284,1.153183818,1.479204416,1.02054,1.39451,1.32629,1.07,1.365,1.433,1.398,1.33,1.038],\"xaxis\":\"x\",\"y\":[58340.0,17830.0,43990.0,18810.0,58970.0,45910.0,19300.0,48070.0,61020.0,56140.23,43602.25,17628.12],\"yaxis\":\"y\",\"type\":\"scatter\"}],                        {\"template\":{\"data\":{\"histogram2dcontour\":[{\"type\":\"histogram2dcontour\",\"colorbar\":{\"outlinewidth\":0,\"ticks\":\"\"},\"colorscale\":[[0.0,\"#0d0887\"],[0.1111111111111111,\"#46039f\"],[0.2222222222222222,\"#7201a8\"],[0.3333333333333333,\"#9c179e\"],[0.4444444444444444,\"#bd3786\"],[0.5555555555555556,\"#d8576b\"],[0.6666666666666666,\"#ed7953\"],[0.7777777777777778,\"#fb9f3a\"],[0.8888888888888888,\"#fdca26\"],[1.0,\"#f0f921\"]]}],\"choropleth\":[{\"type\":\"choropleth\",\"colorbar\":{\"outlinewidth\":0,\"ticks\":\"\"}}],\"histogram2d\":[{\"type\":\"histogram2d\",\"colorbar\":{\"outlinewidth\":0,\"ticks\":\"\"},\"colorscale\":[[0.0,\"#0d0887\"],[0.1111111111111111,\"#46039f\"],[0.2222222222222222,\"#7201a8\"],[0.3333333333333333,\"#9c179e\"],[0.4444444444444444,\"#bd3786\"],[0.5555555555555556,\"#d8576b\"],[0.6666666666666666,\"#ed7953\"],[0.7777777777777778,\"#fb9f3a\"],[0.8888888888888888,\"#fdca26\"],[1.0,\"#f0f921\"]]}],\"heatmap\":[{\"type\":\"heatmap\",\"colorbar\":{\"outlinewidth\":0,\"ticks\":\"\"},\"colorscale\":[[0.0,\"#0d0887\"],[0.1111111111111111,\"#46039f\"],[0.2222222222222222,\"#7201a8\"],[0.3333333333333333,\"#9c179e\"],[0.4444444444444444,\"#bd3786\"],[0.5555555555555556,\"#d8576b\"],[0.6666666666666666,\"#ed7953\"],[0.7777777777777778,\"#fb9f3a\"],[0.8888888888888888,\"#fdca26\"],[1.0,\"#f0f921\"]]}],\"heatmapgl\":[{\"type\":\"heatmapgl\",\"colorbar\":{\"outlinewidth\":0,\"ticks\":\"\"},\"colorscale\":[[0.0,\"#0d0887\"],[0.1111111111111111,\"#46039f\"],[0.2222222222222222,\"#7201a8\"],[0.3333333333333333,\"#9c179e\"],[0.4444444444444444,\"#bd3786\"],[0.5555555555555556,\"#d8576b\"],[0.6666666666666666,\"#ed7953\"],[0.7777777777777778,\"#fb9f3a\"],[0.8888888888888888,\"#fdca26\"],[1.0,\"#f0f921\"]]}],\"contourcarpet\":[{\"type\":\"contourcarpet\",\"colorbar\":{\"outlinewidth\":0,\"ticks\":\"\"}}],\"contour\":[{\"type\":\"contour\",\"colorbar\":{\"outlinewidth\":0,\"ticks\":\"\"},\"colorscale\":[[0.0,\"#0d0887\"],[0.1111111111111111,\"#46039f\"],[0.2222222222222222,\"#7201a8\"],[0.3333333333333333,\"#9c179e\"],[0.4444444444444444,\"#bd3786\"],[0.5555555555555556,\"#d8576b\"],[0.6666666666666666,\"#ed7953\"],[0.7777777777777778,\"#fb9f3a\"],[0.8888888888888888,\"#fdca26\"],[1.0,\"#f0f921\"]]}],\"surface\":[{\"type\":\"surface\",\"colorbar\":{\"outlinewidth\":0,\"ticks\":\"\"},\"colorscale\":[[0.0,\"#0d0887\"],[0.1111111111111111,\"#46039f\"],[0.2222222222222222,\"#7201a8\"],[0.3333333333333333,\"#9c179e\"],[0.4444444444444444,\"#bd3786\"],[0.5555555555555556,\"#d8576b\"],[0.6666666666666666,\"#ed7953\"],[0.7777777777777778,\"#fb9f3a\"],[0.8888888888888888,\"#fdca26\"],[1.0,\"#f0f921\"]]}],\"mesh3d\":[{\"type\":\"mesh3d\",\"colorbar\":{\"outlinewidth\":0,\"ticks\":\"\"}}],\"scatter\":[{\"fillpattern\":{\"fillmode\":\"overlay\",\"size\":10,\"solidity\":0.2},\"type\":\"scatter\"}],\"parcoords\":[{\"type\":\"parcoords\",\"line\":{\"colorbar\":{\"outlinewidth\":0,\"ticks\":\"\"}}}],\"scatterpolargl\":[{\"type\":\"scatterpolargl\",\"marker\":{\"colorbar\":{\"outlinewidth\":0,\"ticks\":\"\"}}}],\"bar\":[{\"error_x\":{\"color\":\"#2a3f5f\"},\"error_y\":{\"color\":\"#2a3f5f\"},\"marker\":{\"line\":{\"color\":\"#E5ECF6\",\"width\":0.5},\"pattern\":{\"fillmode\":\"overlay\",\"size\":10,\"solidity\":0.2}},\"type\":\"bar\"}],\"scattergeo\":[{\"type\":\"scattergeo\",\"marker\":{\"colorbar\":{\"outlinewidth\":0,\"ticks\":\"\"}}}],\"scatterpolar\":[{\"type\":\"scatterpolar\",\"marker\":{\"colorbar\":{\"outlinewidth\":0,\"ticks\":\"\"}}}],\"histogram\":[{\"marker\":{\"pattern\":{\"fillmode\":\"overlay\",\"size\":10,\"solidity\":0.2}},\"type\":\"histogram\"}],\"scattergl\":[{\"type\":\"scattergl\",\"marker\":{\"colorbar\":{\"outlinewidth\":0,\"ticks\":\"\"}}}],\"scatter3d\":[{\"type\":\"scatter3d\",\"line\":{\"colorbar\":{\"outlinewidth\":0,\"ticks\":\"\"}},\"marker\":{\"colorbar\":{\"outlinewidth\":0,\"ticks\":\"\"}}}],\"scattermapbox\":[{\"type\":\"scattermapbox\",\"marker\":{\"colorbar\":{\"outlinewidth\":0,\"ticks\":\"\"}}}],\"scatterternary\":[{\"type\":\"scatterternary\",\"marker\":{\"colorbar\":{\"outlinewidth\":0,\"ticks\":\"\"}}}],\"scattercarpet\":[{\"type\":\"scattercarpet\",\"marker\":{\"colorbar\":{\"outlinewidth\":0,\"ticks\":\"\"}}}],\"carpet\":[{\"aaxis\":{\"endlinecolor\":\"#2a3f5f\",\"gridcolor\":\"white\",\"linecolor\":\"white\",\"minorgridcolor\":\"white\",\"startlinecolor\":\"#2a3f5f\"},\"baxis\":{\"endlinecolor\":\"#2a3f5f\",\"gridcolor\":\"white\",\"linecolor\":\"white\",\"minorgridcolor\":\"white\",\"startlinecolor\":\"#2a3f5f\"},\"type\":\"carpet\"}],\"table\":[{\"cells\":{\"fill\":{\"color\":\"#EBF0F8\"},\"line\":{\"color\":\"white\"}},\"header\":{\"fill\":{\"color\":\"#C8D4E3\"},\"line\":{\"color\":\"white\"}},\"type\":\"table\"}],\"barpolar\":[{\"marker\":{\"line\":{\"color\":\"#E5ECF6\",\"width\":0.5},\"pattern\":{\"fillmode\":\"overlay\",\"size\":10,\"solidity\":0.2}},\"type\":\"barpolar\"}],\"pie\":[{\"automargin\":true,\"type\":\"pie\"}]},\"layout\":{\"autotypenumbers\":\"strict\",\"colorway\":[\"#636efa\",\"#EF553B\",\"#00cc96\",\"#ab63fa\",\"#FFA15A\",\"#19d3f3\",\"#FF6692\",\"#B6E880\",\"#FF97FF\",\"#FECB52\"],\"font\":{\"color\":\"#2a3f5f\"},\"hovermode\":\"closest\",\"hoverlabel\":{\"align\":\"left\"},\"paper_bgcolor\":\"white\",\"plot_bgcolor\":\"#E5ECF6\",\"polar\":{\"bgcolor\":\"#E5ECF6\",\"angularaxis\":{\"gridcolor\":\"white\",\"linecolor\":\"white\",\"ticks\":\"\"},\"radialaxis\":{\"gridcolor\":\"white\",\"linecolor\":\"white\",\"ticks\":\"\"}},\"ternary\":{\"bgcolor\":\"#E5ECF6\",\"aaxis\":{\"gridcolor\":\"white\",\"linecolor\":\"white\",\"ticks\":\"\"},\"baxis\":{\"gridcolor\":\"white\",\"linecolor\":\"white\",\"ticks\":\"\"},\"caxis\":{\"gridcolor\":\"white\",\"linecolor\":\"white\",\"ticks\":\"\"}},\"coloraxis\":{\"colorbar\":{\"outlinewidth\":0,\"ticks\":\"\"}},\"colorscale\":{\"sequential\":[[0.0,\"#0d0887\"],[0.1111111111111111,\"#46039f\"],[0.2222222222222222,\"#7201a8\"],[0.3333333333333333,\"#9c179e\"],[0.4444444444444444,\"#bd3786\"],[0.5555555555555556,\"#d8576b\"],[0.6666666666666666,\"#ed7953\"],[0.7777777777777778,\"#fb9f3a\"],[0.8888888888888888,\"#fdca26\"],[1.0,\"#f0f921\"]],\"sequentialminus\":[[0.0,\"#0d0887\"],[0.1111111111111111,\"#46039f\"],[0.2222222222222222,\"#7201a8\"],[0.3333333333333333,\"#9c179e\"],[0.4444444444444444,\"#bd3786\"],[0.5555555555555556,\"#d8576b\"],[0.6666666666666666,\"#ed7953\"],[0.7777777777777778,\"#fb9f3a\"],[0.8888888888888888,\"#fdca26\"],[1.0,\"#f0f921\"]],\"diverging\":[[0,\"#8e0152\"],[0.1,\"#c51b7d\"],[0.2,\"#de77ae\"],[0.3,\"#f1b6da\"],[0.4,\"#fde0ef\"],[0.5,\"#f7f7f7\"],[0.6,\"#e6f5d0\"],[0.7,\"#b8e186\"],[0.8,\"#7fbc41\"],[0.9,\"#4d9221\"],[1,\"#276419\"]]},\"xaxis\":{\"gridcolor\":\"white\",\"linecolor\":\"white\",\"ticks\":\"\",\"title\":{\"standoff\":15},\"zerolinecolor\":\"white\",\"automargin\":true,\"zerolinewidth\":2},\"yaxis\":{\"gridcolor\":\"white\",\"linecolor\":\"white\",\"ticks\":\"\",\"title\":{\"standoff\":15},\"zerolinecolor\":\"white\",\"automargin\":true,\"zerolinewidth\":2},\"scene\":{\"xaxis\":{\"backgroundcolor\":\"#E5ECF6\",\"gridcolor\":\"white\",\"linecolor\":\"white\",\"showbackground\":true,\"ticks\":\"\",\"zerolinecolor\":\"white\",\"gridwidth\":2},\"yaxis\":{\"backgroundcolor\":\"#E5ECF6\",\"gridcolor\":\"white\",\"linecolor\":\"white\",\"showbackground\":true,\"ticks\":\"\",\"zerolinecolor\":\"white\",\"gridwidth\":2},\"zaxis\":{\"backgroundcolor\":\"#E5ECF6\",\"gridcolor\":\"white\",\"linecolor\":\"white\",\"showbackground\":true,\"ticks\":\"\",\"zerolinecolor\":\"white\",\"gridwidth\":2}},\"shapedefaults\":{\"line\":{\"color\":\"#2a3f5f\"}},\"annotationdefaults\":{\"arrowcolor\":\"#2a3f5f\",\"arrowhead\":0,\"arrowwidth\":1},\"geo\":{\"bgcolor\":\"white\",\"landcolor\":\"#E5ECF6\",\"subunitcolor\":\"white\",\"showland\":true,\"showlakes\":true,\"lakecolor\":\"white\"},\"title\":{\"x\":0.05},\"mapbox\":{\"style\":\"light\"}}},\"xaxis\":{\"anchor\":\"y\",\"domain\":[0.0,1.0],\"title\":{\"text\":\"GDP per Capita\"}},\"yaxis\":{\"anchor\":\"x\",\"domain\":[0.0,1.0],\"title\":{\"text\":\"GNI per Capita (PPP)\"}},\"legend\":{\"title\":{\"text\":\"continent\"},\"tracegroupgap\":0},\"margin\":{\"t\":60},\"title\":{\"text\":\"Relationship between GDP per Capita and GNI per Capita (PPP)\"}},                        {\"responsive\": true}                    ).then(function(){\n",
       "                            \n",
       "var gd = document.getElementById('d1298529-bf68-4ca7-a92f-b21fd25d14f3');\n",
       "var x = new MutationObserver(function (mutations, observer) {{\n",
       "        var display = window.getComputedStyle(gd).display;\n",
       "        if (!display || display === 'none') {{\n",
       "            console.log([gd, 'removed!']);\n",
       "            Plotly.purge(gd);\n",
       "            observer.disconnect();\n",
       "        }}\n",
       "}});\n",
       "\n",
       "// Listen for the removal of the full notebook cells\n",
       "var notebookContainer = gd.closest('#notebook-container');\n",
       "if (notebookContainer) {{\n",
       "    x.observe(notebookContainer, {childList: true});\n",
       "}}\n",
       "\n",
       "// Listen for the clearing of the current output cell\n",
       "var outputEl = gd.closest('.output');\n",
       "if (outputEl) {{\n",
       "    x.observe(outputEl, {childList: true});\n",
       "}}\n",
       "\n",
       "                        })                };                });            </script>        </div>"
      ]
     },
     "metadata": {},
     "output_type": "display_data"
    }
   ],
   "source": [
    "# ### Does a good education give government trust?\n",
    "\n",
    "# This 3d Scatter Plot is multivariate and shows on the x-axis the 'Education Index', on the y-axis the 'Government Trust' and on the z-axis the 'CPI Score'. CPI stands for 'Corruption Perception Index', the lower the CPI index, the more the people believe there is corruption in their country. The size of the plot-points shows the GDP per capita. \n",
    "\n",
    "# The 3D scatter plot reveals interesting insights about the correlation between the Corruption Perception Index (CPI) score and other variables across countries. A positive correlation between the CPI score and variables such as Education Index and Government trust suggests that countries with higher levels of corruption tend to exhibit lower values in education, government trust, and economic prosperity. Conversely, a negative correlation indicates that countries with lower corruption levels tend to have higher education indices and greater levels of government trust. This visualization highlights the importance of addressing corruption to foster positive development in education and trust within countries. \n",
    "\n",
    "# The Education Index plays a significant role in shaping the relationships between various variables across countries and continents. A positive correlation between the Education Index and variables such as Government trust, GDP per capita, and possibly the Corruption Perception Index suggests that countries with higher education indices tend to exhibit greater levels of government trust and economic prosperity while combating corruption. Furthermore, the Education Index may influence the disparities observed between countries and continents. Nations with higher education indices are more likely to invest in quality education, leading to better governance, higher economic output, and potentially lower corruption levels. Thus, enhancing education systems becomes vital for promoting positive development and reducing inequality among countries and continents.\n",
    "\n",
    "# Overall it gives the visualisation that countries with a higher inducation index tend to have more goverment trust and a higher CPI score. This is probaply because people that live in a country that is able to give a good education tend to trust the goverment more than people that don't recieved good education. \n",
    "# Create a scatter plot using Plotly with colors based on continent\n",
    "fig = px.scatter(data_frame=data, x='gdp_per_capita', y='GNI_per_capita_PPP', color='continent',\n",
    "                 color_discrete_map=continent_colors, hover_name='Country')\n",
    "\n",
    "fig.update_layout(\n",
    "    xaxis_title='GDP per Capita',\n",
    "    yaxis_title='GNI per Capita (PPP)',\n",
    "    title='Relationship between GDP per Capita and GNI per Capita (PPP)'\n",
    ")\n",
    "\n",
    "# Show the plot\n",
    "fig.show()"
   ]
  },
  {
   "cell_type": "code",
   "execution_count": 27,
   "metadata": {},
   "outputs": [
    {
     "data": {
      "application/vnd.plotly.v1+json": {
       "config": {
        "plotlyServerURL": "https://plot.ly"
       },
       "data": [
        {
         "colorbar": {
          "title": {
           "text": "GNI per capita (PPP)"
          }
         },
         "colorscale": [
          [
           0,
           "rgb(253, 253, 204)"
          ],
          [
           0.09090909090909091,
           "rgb(206, 236, 179)"
          ],
          [
           0.18181818181818182,
           "rgb(156, 219, 165)"
          ],
          [
           0.2727272727272727,
           "rgb(111, 201, 163)"
          ],
          [
           0.36363636363636365,
           "rgb(86, 177, 163)"
          ],
          [
           0.45454545454545453,
           "rgb(76, 153, 160)"
          ],
          [
           0.5454545454545454,
           "rgb(68, 130, 155)"
          ],
          [
           0.6363636363636364,
           "rgb(62, 108, 150)"
          ],
          [
           0.7272727272727273,
           "rgb(62, 82, 143)"
          ],
          [
           0.8181818181818182,
           "rgb(64, 60, 115)"
          ],
          [
           0.9090909090909091,
           "rgb(54, 43, 77)"
          ],
          [
           1,
           "rgb(39, 26, 44)"
          ]
         ],
         "locationmode": "country names",
         "locations": [
          "Zimbabwe",
          "Zambia",
          "Yemen",
          "Vietnam",
          "Venezuela",
          "Uzbekistan",
          "Uruguay",
          "United States",
          "United Kingdom",
          "United Arab Emirates",
          "Ukraine",
          "Uganda",
          "Turkmenistan",
          "Turkey",
          "Tunisia",
          "Togo",
          "Thailand",
          "Tanzania",
          "Tajikistan",
          "Switzerland",
          "Sweden",
          "Sri Lanka",
          "Spain",
          "South Africa",
          "Slovenia",
          "Slovakia",
          "Singapore",
          "Sierra Leone",
          "Serbia",
          "Senegal",
          "Saudi Arabia",
          "Rwanda",
          "Russia",
          "Romania",
          "Portugal",
          "Poland",
          "Philippines",
          "Peru",
          "Paraguay",
          "Panama",
          "Pakistan",
          "Norway",
          "Nigeria",
          "Niger",
          "Nicaragua",
          "New Zealand",
          "Netherlands",
          "Nepal",
          "Myanmar",
          "Morocco",
          "Montenegro",
          "Mongolia",
          "Moldova",
          "Mexico",
          "Mauritius",
          "Mauritania",
          "Malta",
          "Mali",
          "Malaysia",
          "Malawi",
          "Madagascar",
          "Luxembourg",
          "Lithuania",
          "Libya",
          "Liberia",
          "Lebanon",
          "Latvia",
          "Kyrgyzstan",
          "Kuwait",
          "Kenya",
          "Kazakhstan",
          "Jordan",
          "Japan",
          "Jamaica",
          "Italy",
          "Israel",
          "Ireland",
          "Iraq",
          "Iran",
          "Indonesia",
          "India",
          "Iceland",
          "Hungary",
          "Honduras",
          "Haiti",
          "Guinea",
          "Guatemala",
          "Greece",
          "Ghana",
          "Germany",
          "Georgia",
          "Gabon",
          "France",
          "Finland",
          "Ethiopia",
          "Estonia",
          "El Salvador",
          "Egypt",
          "Ecuador",
          "Dominican Republic",
          "Denmark",
          "Cyprus",
          "Croatia",
          "Costa Rica",
          "Colombia",
          "China",
          "China",
          "Chile",
          "Chad",
          "Canada",
          "Cameroon",
          "Cambodia",
          "Burundi",
          "Burkina Faso",
          "Bulgaria",
          "Brazil",
          "Botswana",
          "Bosnia and Herzegovina",
          "Bolivia",
          "Benin",
          "Belgium",
          "Belarus",
          "Bangladesh",
          "Bahrain",
          "Azerbaijan",
          "Austria",
          "Australia",
          "Armenia",
          "Argentina",
          "Algeria",
          "Albania",
          "Afghanistan"
         ],
         "type": "choropleth",
         "z": [
          2661.07,
          3581.89,
          1433.3,
          6220.27,
          9069.7,
          6461.84,
          19434.85,
          56140.23,
          39507.29,
          66911.66,
          7994.21,
          1752.21,
          16407.47,
          24905.38,
          10676.96,
          1592.54,
          16128.55,
          2805.12,
          3482.38,
          59374.73,
          47955.45,
          11610.91,
          35041.3,
          11756.3,
          32143.04,
          30671.87,
          83792.67,
          1381.3,
          15217.7,
          3255.99,
          49338.41,
          1958.61,
          25036.02,
          23905.77,
          27935.38,
          27625.8,
          9539.7,
          12322.66,
          11719.96,
          20454.87,
          5190.08,
          68058.62,
          5085.54,
          912.04,
          4789.84,
          35107.5,
          50012.59,
          2748.2,
          5763.94,
          7479.59,
          17510.71,
          10783.71,
          6833.11,
          17628.12,
          22724.23,
          3746.08,
          34795.18,
          1965.39,
          27226.68,
          1159.12,
          1403.92,
          65543.05,
          29775.26,
          11684.73,
          1040.09,
          11136.25,
          26300.77,
          3316.79,
          71164.22,
          3051.69,
          22167.7,
          8267.81,
          40799.01,
          7931.52,
          36141.43,
          33649.69,
          55659.68,
          15364.96,
          18166.47,
          11255.78,
          6828.6,
          47566.45,
          27144.21,
          4258.35,
          1664.89,
          2211,
          7377.92,
          24909.34,
          4098.86,
          46945.95,
          9569.52,
          15794.08,
          40510.78,
          41779.26,
          1781.76,
          30378.63,
          6973.46,
          10743.81,
          10141.15,
          15074.26,
          48836.09,
          33100.32,
          23060.96,
          14789.93,
          12895.59,
          60220.8,
          16126.57,
          21972.28,
          1715.57,
          43602.25,
          3291.13,
          3597.4,
          659.73,
          1705.49,
          19645.94,
          14068.05,
          15951.33,
          12689.68,
          6849.2,
          2134.59,
          43820.84,
          17038.53,
          4057.25,
          40399.12,
          15240.14,
          46230.57,
          44097.02,
          9277.23,
          17611.22,
          13639.43,
          12299.8,
          1745.67
         ]
        }
       ],
       "layout": {
        "geo": {
         "projection": {
          "type": "natural earth"
         },
         "showcountries": true
        },
        "height": 300,
        "margin": {
         "b": 0,
         "l": 0,
         "r": 0,
         "t": 0
        },
        "template": {
         "data": {
          "bar": [
           {
            "error_x": {
             "color": "#2a3f5f"
            },
            "error_y": {
             "color": "#2a3f5f"
            },
            "marker": {
             "line": {
              "color": "#E5ECF6",
              "width": 0.5
             },
             "pattern": {
              "fillmode": "overlay",
              "size": 10,
              "solidity": 0.2
             }
            },
            "type": "bar"
           }
          ],
          "barpolar": [
           {
            "marker": {
             "line": {
              "color": "#E5ECF6",
              "width": 0.5
             },
             "pattern": {
              "fillmode": "overlay",
              "size": 10,
              "solidity": 0.2
             }
            },
            "type": "barpolar"
           }
          ],
          "carpet": [
           {
            "aaxis": {
             "endlinecolor": "#2a3f5f",
             "gridcolor": "white",
             "linecolor": "white",
             "minorgridcolor": "white",
             "startlinecolor": "#2a3f5f"
            },
            "baxis": {
             "endlinecolor": "#2a3f5f",
             "gridcolor": "white",
             "linecolor": "white",
             "minorgridcolor": "white",
             "startlinecolor": "#2a3f5f"
            },
            "type": "carpet"
           }
          ],
          "choropleth": [
           {
            "colorbar": {
             "outlinewidth": 0,
             "ticks": ""
            },
            "type": "choropleth"
           }
          ],
          "contour": [
           {
            "colorbar": {
             "outlinewidth": 0,
             "ticks": ""
            },
            "colorscale": [
             [
              0,
              "#0d0887"
             ],
             [
              0.1111111111111111,
              "#46039f"
             ],
             [
              0.2222222222222222,
              "#7201a8"
             ],
             [
              0.3333333333333333,
              "#9c179e"
             ],
             [
              0.4444444444444444,
              "#bd3786"
             ],
             [
              0.5555555555555556,
              "#d8576b"
             ],
             [
              0.6666666666666666,
              "#ed7953"
             ],
             [
              0.7777777777777778,
              "#fb9f3a"
             ],
             [
              0.8888888888888888,
              "#fdca26"
             ],
             [
              1,
              "#f0f921"
             ]
            ],
            "type": "contour"
           }
          ],
          "contourcarpet": [
           {
            "colorbar": {
             "outlinewidth": 0,
             "ticks": ""
            },
            "type": "contourcarpet"
           }
          ],
          "heatmap": [
           {
            "colorbar": {
             "outlinewidth": 0,
             "ticks": ""
            },
            "colorscale": [
             [
              0,
              "#0d0887"
             ],
             [
              0.1111111111111111,
              "#46039f"
             ],
             [
              0.2222222222222222,
              "#7201a8"
             ],
             [
              0.3333333333333333,
              "#9c179e"
             ],
             [
              0.4444444444444444,
              "#bd3786"
             ],
             [
              0.5555555555555556,
              "#d8576b"
             ],
             [
              0.6666666666666666,
              "#ed7953"
             ],
             [
              0.7777777777777778,
              "#fb9f3a"
             ],
             [
              0.8888888888888888,
              "#fdca26"
             ],
             [
              1,
              "#f0f921"
             ]
            ],
            "type": "heatmap"
           }
          ],
          "heatmapgl": [
           {
            "colorbar": {
             "outlinewidth": 0,
             "ticks": ""
            },
            "colorscale": [
             [
              0,
              "#0d0887"
             ],
             [
              0.1111111111111111,
              "#46039f"
             ],
             [
              0.2222222222222222,
              "#7201a8"
             ],
             [
              0.3333333333333333,
              "#9c179e"
             ],
             [
              0.4444444444444444,
              "#bd3786"
             ],
             [
              0.5555555555555556,
              "#d8576b"
             ],
             [
              0.6666666666666666,
              "#ed7953"
             ],
             [
              0.7777777777777778,
              "#fb9f3a"
             ],
             [
              0.8888888888888888,
              "#fdca26"
             ],
             [
              1,
              "#f0f921"
             ]
            ],
            "type": "heatmapgl"
           }
          ],
          "histogram": [
           {
            "marker": {
             "pattern": {
              "fillmode": "overlay",
              "size": 10,
              "solidity": 0.2
             }
            },
            "type": "histogram"
           }
          ],
          "histogram2d": [
           {
            "colorbar": {
             "outlinewidth": 0,
             "ticks": ""
            },
            "colorscale": [
             [
              0,
              "#0d0887"
             ],
             [
              0.1111111111111111,
              "#46039f"
             ],
             [
              0.2222222222222222,
              "#7201a8"
             ],
             [
              0.3333333333333333,
              "#9c179e"
             ],
             [
              0.4444444444444444,
              "#bd3786"
             ],
             [
              0.5555555555555556,
              "#d8576b"
             ],
             [
              0.6666666666666666,
              "#ed7953"
             ],
             [
              0.7777777777777778,
              "#fb9f3a"
             ],
             [
              0.8888888888888888,
              "#fdca26"
             ],
             [
              1,
              "#f0f921"
             ]
            ],
            "type": "histogram2d"
           }
          ],
          "histogram2dcontour": [
           {
            "colorbar": {
             "outlinewidth": 0,
             "ticks": ""
            },
            "colorscale": [
             [
              0,
              "#0d0887"
             ],
             [
              0.1111111111111111,
              "#46039f"
             ],
             [
              0.2222222222222222,
              "#7201a8"
             ],
             [
              0.3333333333333333,
              "#9c179e"
             ],
             [
              0.4444444444444444,
              "#bd3786"
             ],
             [
              0.5555555555555556,
              "#d8576b"
             ],
             [
              0.6666666666666666,
              "#ed7953"
             ],
             [
              0.7777777777777778,
              "#fb9f3a"
             ],
             [
              0.8888888888888888,
              "#fdca26"
             ],
             [
              1,
              "#f0f921"
             ]
            ],
            "type": "histogram2dcontour"
           }
          ],
          "mesh3d": [
           {
            "colorbar": {
             "outlinewidth": 0,
             "ticks": ""
            },
            "type": "mesh3d"
           }
          ],
          "parcoords": [
           {
            "line": {
             "colorbar": {
              "outlinewidth": 0,
              "ticks": ""
             }
            },
            "type": "parcoords"
           }
          ],
          "pie": [
           {
            "automargin": true,
            "type": "pie"
           }
          ],
          "scatter": [
           {
            "fillpattern": {
             "fillmode": "overlay",
             "size": 10,
             "solidity": 0.2
            },
            "type": "scatter"
           }
          ],
          "scatter3d": [
           {
            "line": {
             "colorbar": {
              "outlinewidth": 0,
              "ticks": ""
             }
            },
            "marker": {
             "colorbar": {
              "outlinewidth": 0,
              "ticks": ""
             }
            },
            "type": "scatter3d"
           }
          ],
          "scattercarpet": [
           {
            "marker": {
             "colorbar": {
              "outlinewidth": 0,
              "ticks": ""
             }
            },
            "type": "scattercarpet"
           }
          ],
          "scattergeo": [
           {
            "marker": {
             "colorbar": {
              "outlinewidth": 0,
              "ticks": ""
             }
            },
            "type": "scattergeo"
           }
          ],
          "scattergl": [
           {
            "marker": {
             "colorbar": {
              "outlinewidth": 0,
              "ticks": ""
             }
            },
            "type": "scattergl"
           }
          ],
          "scattermapbox": [
           {
            "marker": {
             "colorbar": {
              "outlinewidth": 0,
              "ticks": ""
             }
            },
            "type": "scattermapbox"
           }
          ],
          "scatterpolar": [
           {
            "marker": {
             "colorbar": {
              "outlinewidth": 0,
              "ticks": ""
             }
            },
            "type": "scatterpolar"
           }
          ],
          "scatterpolargl": [
           {
            "marker": {
             "colorbar": {
              "outlinewidth": 0,
              "ticks": ""
             }
            },
            "type": "scatterpolargl"
           }
          ],
          "scatterternary": [
           {
            "marker": {
             "colorbar": {
              "outlinewidth": 0,
              "ticks": ""
             }
            },
            "type": "scatterternary"
           }
          ],
          "surface": [
           {
            "colorbar": {
             "outlinewidth": 0,
             "ticks": ""
            },
            "colorscale": [
             [
              0,
              "#0d0887"
             ],
             [
              0.1111111111111111,
              "#46039f"
             ],
             [
              0.2222222222222222,
              "#7201a8"
             ],
             [
              0.3333333333333333,
              "#9c179e"
             ],
             [
              0.4444444444444444,
              "#bd3786"
             ],
             [
              0.5555555555555556,
              "#d8576b"
             ],
             [
              0.6666666666666666,
              "#ed7953"
             ],
             [
              0.7777777777777778,
              "#fb9f3a"
             ],
             [
              0.8888888888888888,
              "#fdca26"
             ],
             [
              1,
              "#f0f921"
             ]
            ],
            "type": "surface"
           }
          ],
          "table": [
           {
            "cells": {
             "fill": {
              "color": "#EBF0F8"
             },
             "line": {
              "color": "white"
             }
            },
            "header": {
             "fill": {
              "color": "#C8D4E3"
             },
             "line": {
              "color": "white"
             }
            },
            "type": "table"
           }
          ]
         },
         "layout": {
          "annotationdefaults": {
           "arrowcolor": "#2a3f5f",
           "arrowhead": 0,
           "arrowwidth": 1
          },
          "autotypenumbers": "strict",
          "coloraxis": {
           "colorbar": {
            "outlinewidth": 0,
            "ticks": ""
           }
          },
          "colorscale": {
           "diverging": [
            [
             0,
             "#8e0152"
            ],
            [
             0.1,
             "#c51b7d"
            ],
            [
             0.2,
             "#de77ae"
            ],
            [
             0.3,
             "#f1b6da"
            ],
            [
             0.4,
             "#fde0ef"
            ],
            [
             0.5,
             "#f7f7f7"
            ],
            [
             0.6,
             "#e6f5d0"
            ],
            [
             0.7,
             "#b8e186"
            ],
            [
             0.8,
             "#7fbc41"
            ],
            [
             0.9,
             "#4d9221"
            ],
            [
             1,
             "#276419"
            ]
           ],
           "sequential": [
            [
             0,
             "#0d0887"
            ],
            [
             0.1111111111111111,
             "#46039f"
            ],
            [
             0.2222222222222222,
             "#7201a8"
            ],
            [
             0.3333333333333333,
             "#9c179e"
            ],
            [
             0.4444444444444444,
             "#bd3786"
            ],
            [
             0.5555555555555556,
             "#d8576b"
            ],
            [
             0.6666666666666666,
             "#ed7953"
            ],
            [
             0.7777777777777778,
             "#fb9f3a"
            ],
            [
             0.8888888888888888,
             "#fdca26"
            ],
            [
             1,
             "#f0f921"
            ]
           ],
           "sequentialminus": [
            [
             0,
             "#0d0887"
            ],
            [
             0.1111111111111111,
             "#46039f"
            ],
            [
             0.2222222222222222,
             "#7201a8"
            ],
            [
             0.3333333333333333,
             "#9c179e"
            ],
            [
             0.4444444444444444,
             "#bd3786"
            ],
            [
             0.5555555555555556,
             "#d8576b"
            ],
            [
             0.6666666666666666,
             "#ed7953"
            ],
            [
             0.7777777777777778,
             "#fb9f3a"
            ],
            [
             0.8888888888888888,
             "#fdca26"
            ],
            [
             1,
             "#f0f921"
            ]
           ]
          },
          "colorway": [
           "#636efa",
           "#EF553B",
           "#00cc96",
           "#ab63fa",
           "#FFA15A",
           "#19d3f3",
           "#FF6692",
           "#B6E880",
           "#FF97FF",
           "#FECB52"
          ],
          "font": {
           "color": "#2a3f5f"
          },
          "geo": {
           "bgcolor": "white",
           "lakecolor": "white",
           "landcolor": "#E5ECF6",
           "showlakes": true,
           "showland": true,
           "subunitcolor": "white"
          },
          "hoverlabel": {
           "align": "left"
          },
          "hovermode": "closest",
          "mapbox": {
           "style": "light"
          },
          "paper_bgcolor": "white",
          "plot_bgcolor": "#E5ECF6",
          "polar": {
           "angularaxis": {
            "gridcolor": "white",
            "linecolor": "white",
            "ticks": ""
           },
           "bgcolor": "#E5ECF6",
           "radialaxis": {
            "gridcolor": "white",
            "linecolor": "white",
            "ticks": ""
           }
          },
          "scene": {
           "xaxis": {
            "backgroundcolor": "#E5ECF6",
            "gridcolor": "white",
            "gridwidth": 2,
            "linecolor": "white",
            "showbackground": true,
            "ticks": "",
            "zerolinecolor": "white"
           },
           "yaxis": {
            "backgroundcolor": "#E5ECF6",
            "gridcolor": "white",
            "gridwidth": 2,
            "linecolor": "white",
            "showbackground": true,
            "ticks": "",
            "zerolinecolor": "white"
           },
           "zaxis": {
            "backgroundcolor": "#E5ECF6",
            "gridcolor": "white",
            "gridwidth": 2,
            "linecolor": "white",
            "showbackground": true,
            "ticks": "",
            "zerolinecolor": "white"
           }
          },
          "shapedefaults": {
           "line": {
            "color": "#2a3f5f"
           }
          },
          "ternary": {
           "aaxis": {
            "gridcolor": "white",
            "linecolor": "white",
            "ticks": ""
           },
           "baxis": {
            "gridcolor": "white",
            "linecolor": "white",
            "ticks": ""
           },
           "bgcolor": "#E5ECF6",
           "caxis": {
            "gridcolor": "white",
            "linecolor": "white",
            "ticks": ""
           }
          },
          "title": {
           "x": 0.05
          },
          "xaxis": {
           "automargin": true,
           "gridcolor": "white",
           "linecolor": "white",
           "ticks": "",
           "title": {
            "standoff": 15
           },
           "zerolinecolor": "white",
           "zerolinewidth": 2
          },
          "yaxis": {
           "automargin": true,
           "gridcolor": "white",
           "linecolor": "white",
           "ticks": "",
           "title": {
            "standoff": 15
           },
           "zerolinecolor": "white",
           "zerolinewidth": 2
          }
         }
        },
        "title": {
         "text": "Globe Visualization for Year 2018"
        }
       }
      }
     },
     "metadata": {},
     "output_type": "display_data"
    },
    {
     "data": {
      "application/vnd.plotly.v1+json": {
       "config": {
        "plotlyServerURL": "https://plot.ly"
       },
       "data": [
        {
         "colorbar": {
          "title": {
           "text": "GNI per capita (PPP)"
          }
         },
         "colorscale": [
          [
           0,
           "rgb(253, 253, 204)"
          ],
          [
           0.09090909090909091,
           "rgb(206, 236, 179)"
          ],
          [
           0.18181818181818182,
           "rgb(156, 219, 165)"
          ],
          [
           0.2727272727272727,
           "rgb(111, 201, 163)"
          ],
          [
           0.36363636363636365,
           "rgb(86, 177, 163)"
          ],
          [
           0.45454545454545453,
           "rgb(76, 153, 160)"
          ],
          [
           0.5454545454545454,
           "rgb(68, 130, 155)"
          ],
          [
           0.6363636363636364,
           "rgb(62, 108, 150)"
          ],
          [
           0.7272727272727273,
           "rgb(62, 82, 143)"
          ],
          [
           0.8181818181818182,
           "rgb(64, 60, 115)"
          ],
          [
           0.9090909090909091,
           "rgb(54, 43, 77)"
          ],
          [
           1,
           "rgb(39, 26, 44)"
          ]
         ],
         "locationmode": "country names",
         "locations": [
          "Zimbabwe",
          "Zambia",
          "Yemen",
          "Vietnam",
          "Venezuela",
          "Uzbekistan",
          "Uruguay",
          "United States",
          "United Kingdom",
          "United Arab Emirates",
          "Ukraine",
          "Uganda",
          "Turkmenistan",
          "Turkey",
          "Tunisia",
          "Togo",
          "Thailand",
          "Tanzania",
          "Tajikistan",
          "Switzerland",
          "Sweden",
          "Sri Lanka",
          "Spain",
          "South Africa",
          "Slovenia",
          "Slovakia",
          "Singapore",
          "Sierra Leone",
          "Serbia",
          "Senegal",
          "Saudi Arabia",
          "Rwanda",
          "Russia",
          "Romania",
          "Portugal",
          "Poland",
          "Philippines",
          "Peru",
          "Paraguay",
          "Panama",
          "Pakistan",
          "Norway",
          "Nigeria",
          "Niger",
          "Nicaragua",
          "New Zealand",
          "Netherlands",
          "Nepal",
          "Myanmar",
          "Morocco",
          "Montenegro",
          "Mongolia",
          "Moldova",
          "Mexico",
          "Mauritius",
          "Mauritania",
          "Malta",
          "Mali",
          "Malaysia",
          "Malawi",
          "Madagascar",
          "Luxembourg",
          "Lithuania",
          "Libya",
          "Liberia",
          "Lebanon",
          "Latvia",
          "Kyrgyzstan",
          "Kuwait",
          "Kenya",
          "Kazakhstan",
          "Jordan",
          "Japan",
          "Jamaica",
          "Italy",
          "Israel",
          "Ireland",
          "Iraq",
          "Iran",
          "Indonesia",
          "India",
          "Iceland",
          "Hungary",
          "Honduras",
          "Haiti",
          "Guinea",
          "Guatemala",
          "Greece",
          "Ghana",
          "Germany",
          "Georgia",
          "Gabon",
          "France",
          "Finland",
          "Ethiopia",
          "Estonia",
          "El Salvador",
          "Egypt",
          "Ecuador",
          "Dominican Republic",
          "Denmark",
          "Cyprus",
          "Croatia",
          "Costa Rica",
          "Colombia",
          "China",
          "China",
          "Chile",
          "Chad",
          "Canada",
          "Cameroon",
          "Cambodia",
          "Burundi",
          "Burkina Faso",
          "Bulgaria",
          "Brazil",
          "Botswana",
          "Bosnia and Herzegovina",
          "Bolivia",
          "Benin",
          "Belgium",
          "Belarus",
          "Bangladesh",
          "Bahrain",
          "Azerbaijan",
          "Austria",
          "Australia",
          "Armenia",
          "Argentina",
          "Algeria",
          "Albania",
          "Afghanistan"
         ],
         "type": "choropleth",
         "z": [
          2860,
          3330,
          null,
          6620,
          null,
          6650,
          20060,
          61020,
          45430,
          66290,
          8460,
          1710,
          13620,
          27570,
          10280,
          1520,
          16610,
          3020,
          3560,
          67890,
          53490,
          12340,
          39570,
          12320,
          35990,
          30410,
          87440,
          1590,
          15510,
          3140,
          48040,
          1910,
          25380,
          26620,
          32310,
          28900,
          9320,
          11930,
          12210,
          27640,
          4820,
          65730,
          5030,
          830,
          5850,
          39330,
          55770,
          3140,
          4480,
          8110,
          20110,
          9720,
          12320,
          19300,
          23560,
          3610,
          38370,
          2180,
          25900,
          1030,
          1540,
          72750,
          32560,
          13690,
          1380,
          16070,
          28360,
          4800,
          59260,
          4000,
          22160,
          9790,
          42290,
          9320,
          42010,
          38570,
          61590,
          10850,
          14560,
          10580,
          6120,
          54380,
          28340,
          5220,
          1770,
          2410,
          8200,
          29150,
          4860,
          54370,
          12910,
          14060,
          45850,
          47480,
          2010,
          32930,
          7970,
          10800,
          11350,
          15940,
          56360,
          35750,
          26310,
          18040,
          14050,
          14140,
          62530,
          22750,
          1570,
          48070,
          3490,
          3680,
          770,
          1730,
          21460,
          14250,
          16680,
          13790,
          8190,
          3010,
          51320,
          17580,
          4340,
          44980,
          13510,
          54150,
          47580,
          12540,
          22960,
          11370,
          13130,
          2210
         ]
        }
       ],
       "layout": {
        "geo": {
         "projection": {
          "type": "natural earth"
         },
         "showcountries": true
        },
        "height": 300,
        "margin": {
         "b": 0,
         "l": 0,
         "r": 0,
         "t": 0
        },
        "template": {
         "data": {
          "bar": [
           {
            "error_x": {
             "color": "#2a3f5f"
            },
            "error_y": {
             "color": "#2a3f5f"
            },
            "marker": {
             "line": {
              "color": "#E5ECF6",
              "width": 0.5
             },
             "pattern": {
              "fillmode": "overlay",
              "size": 10,
              "solidity": 0.2
             }
            },
            "type": "bar"
           }
          ],
          "barpolar": [
           {
            "marker": {
             "line": {
              "color": "#E5ECF6",
              "width": 0.5
             },
             "pattern": {
              "fillmode": "overlay",
              "size": 10,
              "solidity": 0.2
             }
            },
            "type": "barpolar"
           }
          ],
          "carpet": [
           {
            "aaxis": {
             "endlinecolor": "#2a3f5f",
             "gridcolor": "white",
             "linecolor": "white",
             "minorgridcolor": "white",
             "startlinecolor": "#2a3f5f"
            },
            "baxis": {
             "endlinecolor": "#2a3f5f",
             "gridcolor": "white",
             "linecolor": "white",
             "minorgridcolor": "white",
             "startlinecolor": "#2a3f5f"
            },
            "type": "carpet"
           }
          ],
          "choropleth": [
           {
            "colorbar": {
             "outlinewidth": 0,
             "ticks": ""
            },
            "type": "choropleth"
           }
          ],
          "contour": [
           {
            "colorbar": {
             "outlinewidth": 0,
             "ticks": ""
            },
            "colorscale": [
             [
              0,
              "#0d0887"
             ],
             [
              0.1111111111111111,
              "#46039f"
             ],
             [
              0.2222222222222222,
              "#7201a8"
             ],
             [
              0.3333333333333333,
              "#9c179e"
             ],
             [
              0.4444444444444444,
              "#bd3786"
             ],
             [
              0.5555555555555556,
              "#d8576b"
             ],
             [
              0.6666666666666666,
              "#ed7953"
             ],
             [
              0.7777777777777778,
              "#fb9f3a"
             ],
             [
              0.8888888888888888,
              "#fdca26"
             ],
             [
              1,
              "#f0f921"
             ]
            ],
            "type": "contour"
           }
          ],
          "contourcarpet": [
           {
            "colorbar": {
             "outlinewidth": 0,
             "ticks": ""
            },
            "type": "contourcarpet"
           }
          ],
          "heatmap": [
           {
            "colorbar": {
             "outlinewidth": 0,
             "ticks": ""
            },
            "colorscale": [
             [
              0,
              "#0d0887"
             ],
             [
              0.1111111111111111,
              "#46039f"
             ],
             [
              0.2222222222222222,
              "#7201a8"
             ],
             [
              0.3333333333333333,
              "#9c179e"
             ],
             [
              0.4444444444444444,
              "#bd3786"
             ],
             [
              0.5555555555555556,
              "#d8576b"
             ],
             [
              0.6666666666666666,
              "#ed7953"
             ],
             [
              0.7777777777777778,
              "#fb9f3a"
             ],
             [
              0.8888888888888888,
              "#fdca26"
             ],
             [
              1,
              "#f0f921"
             ]
            ],
            "type": "heatmap"
           }
          ],
          "heatmapgl": [
           {
            "colorbar": {
             "outlinewidth": 0,
             "ticks": ""
            },
            "colorscale": [
             [
              0,
              "#0d0887"
             ],
             [
              0.1111111111111111,
              "#46039f"
             ],
             [
              0.2222222222222222,
              "#7201a8"
             ],
             [
              0.3333333333333333,
              "#9c179e"
             ],
             [
              0.4444444444444444,
              "#bd3786"
             ],
             [
              0.5555555555555556,
              "#d8576b"
             ],
             [
              0.6666666666666666,
              "#ed7953"
             ],
             [
              0.7777777777777778,
              "#fb9f3a"
             ],
             [
              0.8888888888888888,
              "#fdca26"
             ],
             [
              1,
              "#f0f921"
             ]
            ],
            "type": "heatmapgl"
           }
          ],
          "histogram": [
           {
            "marker": {
             "pattern": {
              "fillmode": "overlay",
              "size": 10,
              "solidity": 0.2
             }
            },
            "type": "histogram"
           }
          ],
          "histogram2d": [
           {
            "colorbar": {
             "outlinewidth": 0,
             "ticks": ""
            },
            "colorscale": [
             [
              0,
              "#0d0887"
             ],
             [
              0.1111111111111111,
              "#46039f"
             ],
             [
              0.2222222222222222,
              "#7201a8"
             ],
             [
              0.3333333333333333,
              "#9c179e"
             ],
             [
              0.4444444444444444,
              "#bd3786"
             ],
             [
              0.5555555555555556,
              "#d8576b"
             ],
             [
              0.6666666666666666,
              "#ed7953"
             ],
             [
              0.7777777777777778,
              "#fb9f3a"
             ],
             [
              0.8888888888888888,
              "#fdca26"
             ],
             [
              1,
              "#f0f921"
             ]
            ],
            "type": "histogram2d"
           }
          ],
          "histogram2dcontour": [
           {
            "colorbar": {
             "outlinewidth": 0,
             "ticks": ""
            },
            "colorscale": [
             [
              0,
              "#0d0887"
             ],
             [
              0.1111111111111111,
              "#46039f"
             ],
             [
              0.2222222222222222,
              "#7201a8"
             ],
             [
              0.3333333333333333,
              "#9c179e"
             ],
             [
              0.4444444444444444,
              "#bd3786"
             ],
             [
              0.5555555555555556,
              "#d8576b"
             ],
             [
              0.6666666666666666,
              "#ed7953"
             ],
             [
              0.7777777777777778,
              "#fb9f3a"
             ],
             [
              0.8888888888888888,
              "#fdca26"
             ],
             [
              1,
              "#f0f921"
             ]
            ],
            "type": "histogram2dcontour"
           }
          ],
          "mesh3d": [
           {
            "colorbar": {
             "outlinewidth": 0,
             "ticks": ""
            },
            "type": "mesh3d"
           }
          ],
          "parcoords": [
           {
            "line": {
             "colorbar": {
              "outlinewidth": 0,
              "ticks": ""
             }
            },
            "type": "parcoords"
           }
          ],
          "pie": [
           {
            "automargin": true,
            "type": "pie"
           }
          ],
          "scatter": [
           {
            "fillpattern": {
             "fillmode": "overlay",
             "size": 10,
             "solidity": 0.2
            },
            "type": "scatter"
           }
          ],
          "scatter3d": [
           {
            "line": {
             "colorbar": {
              "outlinewidth": 0,
              "ticks": ""
             }
            },
            "marker": {
             "colorbar": {
              "outlinewidth": 0,
              "ticks": ""
             }
            },
            "type": "scatter3d"
           }
          ],
          "scattercarpet": [
           {
            "marker": {
             "colorbar": {
              "outlinewidth": 0,
              "ticks": ""
             }
            },
            "type": "scattercarpet"
           }
          ],
          "scattergeo": [
           {
            "marker": {
             "colorbar": {
              "outlinewidth": 0,
              "ticks": ""
             }
            },
            "type": "scattergeo"
           }
          ],
          "scattergl": [
           {
            "marker": {
             "colorbar": {
              "outlinewidth": 0,
              "ticks": ""
             }
            },
            "type": "scattergl"
           }
          ],
          "scattermapbox": [
           {
            "marker": {
             "colorbar": {
              "outlinewidth": 0,
              "ticks": ""
             }
            },
            "type": "scattermapbox"
           }
          ],
          "scatterpolar": [
           {
            "marker": {
             "colorbar": {
              "outlinewidth": 0,
              "ticks": ""
             }
            },
            "type": "scatterpolar"
           }
          ],
          "scatterpolargl": [
           {
            "marker": {
             "colorbar": {
              "outlinewidth": 0,
              "ticks": ""
             }
            },
            "type": "scatterpolargl"
           }
          ],
          "scatterternary": [
           {
            "marker": {
             "colorbar": {
              "outlinewidth": 0,
              "ticks": ""
             }
            },
            "type": "scatterternary"
           }
          ],
          "surface": [
           {
            "colorbar": {
             "outlinewidth": 0,
             "ticks": ""
            },
            "colorscale": [
             [
              0,
              "#0d0887"
             ],
             [
              0.1111111111111111,
              "#46039f"
             ],
             [
              0.2222222222222222,
              "#7201a8"
             ],
             [
              0.3333333333333333,
              "#9c179e"
             ],
             [
              0.4444444444444444,
              "#bd3786"
             ],
             [
              0.5555555555555556,
              "#d8576b"
             ],
             [
              0.6666666666666666,
              "#ed7953"
             ],
             [
              0.7777777777777778,
              "#fb9f3a"
             ],
             [
              0.8888888888888888,
              "#fdca26"
             ],
             [
              1,
              "#f0f921"
             ]
            ],
            "type": "surface"
           }
          ],
          "table": [
           {
            "cells": {
             "fill": {
              "color": "#EBF0F8"
             },
             "line": {
              "color": "white"
             }
            },
            "header": {
             "fill": {
              "color": "#C8D4E3"
             },
             "line": {
              "color": "white"
             }
            },
            "type": "table"
           }
          ]
         },
         "layout": {
          "annotationdefaults": {
           "arrowcolor": "#2a3f5f",
           "arrowhead": 0,
           "arrowwidth": 1
          },
          "autotypenumbers": "strict",
          "coloraxis": {
           "colorbar": {
            "outlinewidth": 0,
            "ticks": ""
           }
          },
          "colorscale": {
           "diverging": [
            [
             0,
             "#8e0152"
            ],
            [
             0.1,
             "#c51b7d"
            ],
            [
             0.2,
             "#de77ae"
            ],
            [
             0.3,
             "#f1b6da"
            ],
            [
             0.4,
             "#fde0ef"
            ],
            [
             0.5,
             "#f7f7f7"
            ],
            [
             0.6,
             "#e6f5d0"
            ],
            [
             0.7,
             "#b8e186"
            ],
            [
             0.8,
             "#7fbc41"
            ],
            [
             0.9,
             "#4d9221"
            ],
            [
             1,
             "#276419"
            ]
           ],
           "sequential": [
            [
             0,
             "#0d0887"
            ],
            [
             0.1111111111111111,
             "#46039f"
            ],
            [
             0.2222222222222222,
             "#7201a8"
            ],
            [
             0.3333333333333333,
             "#9c179e"
            ],
            [
             0.4444444444444444,
             "#bd3786"
            ],
            [
             0.5555555555555556,
             "#d8576b"
            ],
            [
             0.6666666666666666,
             "#ed7953"
            ],
            [
             0.7777777777777778,
             "#fb9f3a"
            ],
            [
             0.8888888888888888,
             "#fdca26"
            ],
            [
             1,
             "#f0f921"
            ]
           ],
           "sequentialminus": [
            [
             0,
             "#0d0887"
            ],
            [
             0.1111111111111111,
             "#46039f"
            ],
            [
             0.2222222222222222,
             "#7201a8"
            ],
            [
             0.3333333333333333,
             "#9c179e"
            ],
            [
             0.4444444444444444,
             "#bd3786"
            ],
            [
             0.5555555555555556,
             "#d8576b"
            ],
            [
             0.6666666666666666,
             "#ed7953"
            ],
            [
             0.7777777777777778,
             "#fb9f3a"
            ],
            [
             0.8888888888888888,
             "#fdca26"
            ],
            [
             1,
             "#f0f921"
            ]
           ]
          },
          "colorway": [
           "#636efa",
           "#EF553B",
           "#00cc96",
           "#ab63fa",
           "#FFA15A",
           "#19d3f3",
           "#FF6692",
           "#B6E880",
           "#FF97FF",
           "#FECB52"
          ],
          "font": {
           "color": "#2a3f5f"
          },
          "geo": {
           "bgcolor": "white",
           "lakecolor": "white",
           "landcolor": "#E5ECF6",
           "showlakes": true,
           "showland": true,
           "subunitcolor": "white"
          },
          "hoverlabel": {
           "align": "left"
          },
          "hovermode": "closest",
          "mapbox": {
           "style": "light"
          },
          "paper_bgcolor": "white",
          "plot_bgcolor": "#E5ECF6",
          "polar": {
           "angularaxis": {
            "gridcolor": "white",
            "linecolor": "white",
            "ticks": ""
           },
           "bgcolor": "#E5ECF6",
           "radialaxis": {
            "gridcolor": "white",
            "linecolor": "white",
            "ticks": ""
           }
          },
          "scene": {
           "xaxis": {
            "backgroundcolor": "#E5ECF6",
            "gridcolor": "white",
            "gridwidth": 2,
            "linecolor": "white",
            "showbackground": true,
            "ticks": "",
            "zerolinecolor": "white"
           },
           "yaxis": {
            "backgroundcolor": "#E5ECF6",
            "gridcolor": "white",
            "gridwidth": 2,
            "linecolor": "white",
            "showbackground": true,
            "ticks": "",
            "zerolinecolor": "white"
           },
           "zaxis": {
            "backgroundcolor": "#E5ECF6",
            "gridcolor": "white",
            "gridwidth": 2,
            "linecolor": "white",
            "showbackground": true,
            "ticks": "",
            "zerolinecolor": "white"
           }
          },
          "shapedefaults": {
           "line": {
            "color": "#2a3f5f"
           }
          },
          "ternary": {
           "aaxis": {
            "gridcolor": "white",
            "linecolor": "white",
            "ticks": ""
           },
           "baxis": {
            "gridcolor": "white",
            "linecolor": "white",
            "ticks": ""
           },
           "bgcolor": "#E5ECF6",
           "caxis": {
            "gridcolor": "white",
            "linecolor": "white",
            "ticks": ""
           }
          },
          "title": {
           "x": 0.05
          },
          "xaxis": {
           "automargin": true,
           "gridcolor": "white",
           "linecolor": "white",
           "ticks": "",
           "title": {
            "standoff": 15
           },
           "zerolinecolor": "white",
           "zerolinewidth": 2
          },
          "yaxis": {
           "automargin": true,
           "gridcolor": "white",
           "linecolor": "white",
           "ticks": "",
           "title": {
            "standoff": 15
           },
           "zerolinecolor": "white",
           "zerolinewidth": 2
          }
         }
        },
        "title": {
         "text": "Globe Visualization for Year 2017"
        }
       }
      }
     },
     "metadata": {},
     "output_type": "display_data"
    },
    {
     "data": {
      "application/vnd.plotly.v1+json": {
       "config": {
        "plotlyServerURL": "https://plot.ly"
       },
       "data": [
        {
         "colorbar": {
          "title": {
           "text": "GNI per capita (PPP)"
          }
         },
         "colorscale": [
          [
           0,
           "rgb(253, 253, 204)"
          ],
          [
           0.09090909090909091,
           "rgb(206, 236, 179)"
          ],
          [
           0.18181818181818182,
           "rgb(156, 219, 165)"
          ],
          [
           0.2727272727272727,
           "rgb(111, 201, 163)"
          ],
          [
           0.36363636363636365,
           "rgb(86, 177, 163)"
          ],
          [
           0.45454545454545453,
           "rgb(76, 153, 160)"
          ],
          [
           0.5454545454545454,
           "rgb(68, 130, 155)"
          ],
          [
           0.6363636363636364,
           "rgb(62, 108, 150)"
          ],
          [
           0.7272727272727273,
           "rgb(62, 82, 143)"
          ],
          [
           0.8181818181818182,
           "rgb(64, 60, 115)"
          ],
          [
           0.9090909090909091,
           "rgb(54, 43, 77)"
          ],
          [
           1,
           "rgb(39, 26, 44)"
          ]
         ],
         "locationmode": "country names",
         "locations": [
          "Zimbabwe",
          "Zambia",
          "Yemen",
          "Vietnam",
          "Venezuela",
          "Uzbekistan",
          "Uruguay",
          "United States",
          "United Kingdom",
          "United Arab Emirates",
          "Ukraine",
          "Uganda",
          "Turkmenistan",
          "Turkey",
          "Tunisia",
          "Togo",
          "Thailand",
          "Tanzania",
          "Tajikistan",
          "Switzerland",
          "Sweden",
          "Sri Lanka",
          "Spain",
          "South Africa",
          "Slovenia",
          "Slovakia",
          "Singapore",
          "Sierra Leone",
          "Serbia",
          "Senegal",
          "Saudi Arabia",
          "Rwanda",
          "Russia",
          "Romania",
          "Portugal",
          "Poland",
          "Philippines",
          "Peru",
          "Paraguay",
          "Panama",
          "Pakistan",
          "Norway",
          "Nigeria",
          "Niger",
          "Nicaragua",
          "New Zealand",
          "Netherlands",
          "Nepal",
          "Myanmar",
          "Morocco",
          "Montenegro",
          "Mongolia",
          "Moldova",
          "Mexico",
          "Mauritius",
          "Mauritania",
          "Malta",
          "Mali",
          "Malaysia",
          "Malawi",
          "Madagascar",
          "Luxembourg",
          "Lithuania",
          "Libya",
          "Liberia",
          "Lebanon",
          "Latvia",
          "Kyrgyzstan",
          "Kuwait",
          "Kenya",
          "Kazakhstan",
          "Jordan",
          "Japan",
          "Jamaica",
          "Italy",
          "Israel",
          "Ireland",
          "Iraq",
          "Iran",
          "Indonesia",
          "India",
          "Iceland",
          "Hungary",
          "Honduras",
          "Haiti",
          "Guinea",
          "Guatemala",
          "Greece",
          "Ghana",
          "Germany",
          "Georgia",
          "Gabon",
          "France",
          "Finland",
          "Ethiopia",
          "Estonia",
          "El Salvador",
          "Egypt",
          "Ecuador",
          "Dominican Republic",
          "Denmark",
          "Cyprus",
          "Croatia",
          "Costa Rica",
          "Colombia",
          "China",
          "China",
          "Chile",
          "Chad",
          "Canada",
          "Cameroon",
          "Cambodia",
          "Burundi",
          "Burkina Faso",
          "Bulgaria",
          "Brazil",
          "Botswana",
          "Bosnia and Herzegovina",
          "Bolivia",
          "Benin",
          "Belgium",
          "Belarus",
          "Bangladesh",
          "Bahrain",
          "Azerbaijan",
          "Austria",
          "Australia",
          "Armenia",
          "Argentina",
          "Algeria",
          "Albania",
          "Afghanistan"
         ],
         "type": "choropleth",
         "z": [
          2570,
          3330,
          null,
          6300,
          null,
          6530,
          19650,
          58970,
          43100,
          63670,
          8210,
          1690,
          13500,
          26050,
          10070,
          1470,
          15800,
          2860,
          3900,
          66080,
          50780,
          11900,
          37370,
          12240,
          33010,
          29160,
          83020,
          1420,
          14960,
          3000,
          46110,
          1790,
          23570,
          23680,
          30840,
          27170,
          8870,
          11510,
          11540,
          25080,
          4680,
          61840,
          5120,
          820,
          5540,
          38630,
          51510,
          2620,
          4220,
          7730,
          18360,
          9860,
          13060,
          18810,
          22390,
          3350,
          35720,
          2130,
          24840,
          1020,
          1550,
          70450,
          29790,
          11430,
          1260,
          15250,
          26340,
          5020,
          51550,
          3620,
          24280,
          9120,
          41350,
          8800,
          40030,
          37500,
          59070,
          9720,
          13650,
          10160,
          5760,
          50990,
          26990,
          4790,
          1770,
          2050,
          7910,
          27820,
          4800,
          51810,
          11760,
          13180,
          43830,
          45150,
          1870,
          30510,
          7620,
          10850,
          10830,
          15420,
          53110,
          33000,
          24130,
          17230,
          13800,
          13400,
          58670,
          22080,
          1630,
          45910,
          3350,
          3450,
          800,
          1550,
          19760,
          13950,
          16600,
          13090,
          7360,
          2980,
          49090,
          19280,
          4070,
          41860,
          14920,
          52630,
          46230,
          13160,
          19710,
          11520,
          12270,
          2140
         ]
        }
       ],
       "layout": {
        "geo": {
         "projection": {
          "type": "natural earth"
         },
         "showcountries": true
        },
        "height": 300,
        "margin": {
         "b": 0,
         "l": 0,
         "r": 0,
         "t": 0
        },
        "template": {
         "data": {
          "bar": [
           {
            "error_x": {
             "color": "#2a3f5f"
            },
            "error_y": {
             "color": "#2a3f5f"
            },
            "marker": {
             "line": {
              "color": "#E5ECF6",
              "width": 0.5
             },
             "pattern": {
              "fillmode": "overlay",
              "size": 10,
              "solidity": 0.2
             }
            },
            "type": "bar"
           }
          ],
          "barpolar": [
           {
            "marker": {
             "line": {
              "color": "#E5ECF6",
              "width": 0.5
             },
             "pattern": {
              "fillmode": "overlay",
              "size": 10,
              "solidity": 0.2
             }
            },
            "type": "barpolar"
           }
          ],
          "carpet": [
           {
            "aaxis": {
             "endlinecolor": "#2a3f5f",
             "gridcolor": "white",
             "linecolor": "white",
             "minorgridcolor": "white",
             "startlinecolor": "#2a3f5f"
            },
            "baxis": {
             "endlinecolor": "#2a3f5f",
             "gridcolor": "white",
             "linecolor": "white",
             "minorgridcolor": "white",
             "startlinecolor": "#2a3f5f"
            },
            "type": "carpet"
           }
          ],
          "choropleth": [
           {
            "colorbar": {
             "outlinewidth": 0,
             "ticks": ""
            },
            "type": "choropleth"
           }
          ],
          "contour": [
           {
            "colorbar": {
             "outlinewidth": 0,
             "ticks": ""
            },
            "colorscale": [
             [
              0,
              "#0d0887"
             ],
             [
              0.1111111111111111,
              "#46039f"
             ],
             [
              0.2222222222222222,
              "#7201a8"
             ],
             [
              0.3333333333333333,
              "#9c179e"
             ],
             [
              0.4444444444444444,
              "#bd3786"
             ],
             [
              0.5555555555555556,
              "#d8576b"
             ],
             [
              0.6666666666666666,
              "#ed7953"
             ],
             [
              0.7777777777777778,
              "#fb9f3a"
             ],
             [
              0.8888888888888888,
              "#fdca26"
             ],
             [
              1,
              "#f0f921"
             ]
            ],
            "type": "contour"
           }
          ],
          "contourcarpet": [
           {
            "colorbar": {
             "outlinewidth": 0,
             "ticks": ""
            },
            "type": "contourcarpet"
           }
          ],
          "heatmap": [
           {
            "colorbar": {
             "outlinewidth": 0,
             "ticks": ""
            },
            "colorscale": [
             [
              0,
              "#0d0887"
             ],
             [
              0.1111111111111111,
              "#46039f"
             ],
             [
              0.2222222222222222,
              "#7201a8"
             ],
             [
              0.3333333333333333,
              "#9c179e"
             ],
             [
              0.4444444444444444,
              "#bd3786"
             ],
             [
              0.5555555555555556,
              "#d8576b"
             ],
             [
              0.6666666666666666,
              "#ed7953"
             ],
             [
              0.7777777777777778,
              "#fb9f3a"
             ],
             [
              0.8888888888888888,
              "#fdca26"
             ],
             [
              1,
              "#f0f921"
             ]
            ],
            "type": "heatmap"
           }
          ],
          "heatmapgl": [
           {
            "colorbar": {
             "outlinewidth": 0,
             "ticks": ""
            },
            "colorscale": [
             [
              0,
              "#0d0887"
             ],
             [
              0.1111111111111111,
              "#46039f"
             ],
             [
              0.2222222222222222,
              "#7201a8"
             ],
             [
              0.3333333333333333,
              "#9c179e"
             ],
             [
              0.4444444444444444,
              "#bd3786"
             ],
             [
              0.5555555555555556,
              "#d8576b"
             ],
             [
              0.6666666666666666,
              "#ed7953"
             ],
             [
              0.7777777777777778,
              "#fb9f3a"
             ],
             [
              0.8888888888888888,
              "#fdca26"
             ],
             [
              1,
              "#f0f921"
             ]
            ],
            "type": "heatmapgl"
           }
          ],
          "histogram": [
           {
            "marker": {
             "pattern": {
              "fillmode": "overlay",
              "size": 10,
              "solidity": 0.2
             }
            },
            "type": "histogram"
           }
          ],
          "histogram2d": [
           {
            "colorbar": {
             "outlinewidth": 0,
             "ticks": ""
            },
            "colorscale": [
             [
              0,
              "#0d0887"
             ],
             [
              0.1111111111111111,
              "#46039f"
             ],
             [
              0.2222222222222222,
              "#7201a8"
             ],
             [
              0.3333333333333333,
              "#9c179e"
             ],
             [
              0.4444444444444444,
              "#bd3786"
             ],
             [
              0.5555555555555556,
              "#d8576b"
             ],
             [
              0.6666666666666666,
              "#ed7953"
             ],
             [
              0.7777777777777778,
              "#fb9f3a"
             ],
             [
              0.8888888888888888,
              "#fdca26"
             ],
             [
              1,
              "#f0f921"
             ]
            ],
            "type": "histogram2d"
           }
          ],
          "histogram2dcontour": [
           {
            "colorbar": {
             "outlinewidth": 0,
             "ticks": ""
            },
            "colorscale": [
             [
              0,
              "#0d0887"
             ],
             [
              0.1111111111111111,
              "#46039f"
             ],
             [
              0.2222222222222222,
              "#7201a8"
             ],
             [
              0.3333333333333333,
              "#9c179e"
             ],
             [
              0.4444444444444444,
              "#bd3786"
             ],
             [
              0.5555555555555556,
              "#d8576b"
             ],
             [
              0.6666666666666666,
              "#ed7953"
             ],
             [
              0.7777777777777778,
              "#fb9f3a"
             ],
             [
              0.8888888888888888,
              "#fdca26"
             ],
             [
              1,
              "#f0f921"
             ]
            ],
            "type": "histogram2dcontour"
           }
          ],
          "mesh3d": [
           {
            "colorbar": {
             "outlinewidth": 0,
             "ticks": ""
            },
            "type": "mesh3d"
           }
          ],
          "parcoords": [
           {
            "line": {
             "colorbar": {
              "outlinewidth": 0,
              "ticks": ""
             }
            },
            "type": "parcoords"
           }
          ],
          "pie": [
           {
            "automargin": true,
            "type": "pie"
           }
          ],
          "scatter": [
           {
            "fillpattern": {
             "fillmode": "overlay",
             "size": 10,
             "solidity": 0.2
            },
            "type": "scatter"
           }
          ],
          "scatter3d": [
           {
            "line": {
             "colorbar": {
              "outlinewidth": 0,
              "ticks": ""
             }
            },
            "marker": {
             "colorbar": {
              "outlinewidth": 0,
              "ticks": ""
             }
            },
            "type": "scatter3d"
           }
          ],
          "scattercarpet": [
           {
            "marker": {
             "colorbar": {
              "outlinewidth": 0,
              "ticks": ""
             }
            },
            "type": "scattercarpet"
           }
          ],
          "scattergeo": [
           {
            "marker": {
             "colorbar": {
              "outlinewidth": 0,
              "ticks": ""
             }
            },
            "type": "scattergeo"
           }
          ],
          "scattergl": [
           {
            "marker": {
             "colorbar": {
              "outlinewidth": 0,
              "ticks": ""
             }
            },
            "type": "scattergl"
           }
          ],
          "scattermapbox": [
           {
            "marker": {
             "colorbar": {
              "outlinewidth": 0,
              "ticks": ""
             }
            },
            "type": "scattermapbox"
           }
          ],
          "scatterpolar": [
           {
            "marker": {
             "colorbar": {
              "outlinewidth": 0,
              "ticks": ""
             }
            },
            "type": "scatterpolar"
           }
          ],
          "scatterpolargl": [
           {
            "marker": {
             "colorbar": {
              "outlinewidth": 0,
              "ticks": ""
             }
            },
            "type": "scatterpolargl"
           }
          ],
          "scatterternary": [
           {
            "marker": {
             "colorbar": {
              "outlinewidth": 0,
              "ticks": ""
             }
            },
            "type": "scatterternary"
           }
          ],
          "surface": [
           {
            "colorbar": {
             "outlinewidth": 0,
             "ticks": ""
            },
            "colorscale": [
             [
              0,
              "#0d0887"
             ],
             [
              0.1111111111111111,
              "#46039f"
             ],
             [
              0.2222222222222222,
              "#7201a8"
             ],
             [
              0.3333333333333333,
              "#9c179e"
             ],
             [
              0.4444444444444444,
              "#bd3786"
             ],
             [
              0.5555555555555556,
              "#d8576b"
             ],
             [
              0.6666666666666666,
              "#ed7953"
             ],
             [
              0.7777777777777778,
              "#fb9f3a"
             ],
             [
              0.8888888888888888,
              "#fdca26"
             ],
             [
              1,
              "#f0f921"
             ]
            ],
            "type": "surface"
           }
          ],
          "table": [
           {
            "cells": {
             "fill": {
              "color": "#EBF0F8"
             },
             "line": {
              "color": "white"
             }
            },
            "header": {
             "fill": {
              "color": "#C8D4E3"
             },
             "line": {
              "color": "white"
             }
            },
            "type": "table"
           }
          ]
         },
         "layout": {
          "annotationdefaults": {
           "arrowcolor": "#2a3f5f",
           "arrowhead": 0,
           "arrowwidth": 1
          },
          "autotypenumbers": "strict",
          "coloraxis": {
           "colorbar": {
            "outlinewidth": 0,
            "ticks": ""
           }
          },
          "colorscale": {
           "diverging": [
            [
             0,
             "#8e0152"
            ],
            [
             0.1,
             "#c51b7d"
            ],
            [
             0.2,
             "#de77ae"
            ],
            [
             0.3,
             "#f1b6da"
            ],
            [
             0.4,
             "#fde0ef"
            ],
            [
             0.5,
             "#f7f7f7"
            ],
            [
             0.6,
             "#e6f5d0"
            ],
            [
             0.7,
             "#b8e186"
            ],
            [
             0.8,
             "#7fbc41"
            ],
            [
             0.9,
             "#4d9221"
            ],
            [
             1,
             "#276419"
            ]
           ],
           "sequential": [
            [
             0,
             "#0d0887"
            ],
            [
             0.1111111111111111,
             "#46039f"
            ],
            [
             0.2222222222222222,
             "#7201a8"
            ],
            [
             0.3333333333333333,
             "#9c179e"
            ],
            [
             0.4444444444444444,
             "#bd3786"
            ],
            [
             0.5555555555555556,
             "#d8576b"
            ],
            [
             0.6666666666666666,
             "#ed7953"
            ],
            [
             0.7777777777777778,
             "#fb9f3a"
            ],
            [
             0.8888888888888888,
             "#fdca26"
            ],
            [
             1,
             "#f0f921"
            ]
           ],
           "sequentialminus": [
            [
             0,
             "#0d0887"
            ],
            [
             0.1111111111111111,
             "#46039f"
            ],
            [
             0.2222222222222222,
             "#7201a8"
            ],
            [
             0.3333333333333333,
             "#9c179e"
            ],
            [
             0.4444444444444444,
             "#bd3786"
            ],
            [
             0.5555555555555556,
             "#d8576b"
            ],
            [
             0.6666666666666666,
             "#ed7953"
            ],
            [
             0.7777777777777778,
             "#fb9f3a"
            ],
            [
             0.8888888888888888,
             "#fdca26"
            ],
            [
             1,
             "#f0f921"
            ]
           ]
          },
          "colorway": [
           "#636efa",
           "#EF553B",
           "#00cc96",
           "#ab63fa",
           "#FFA15A",
           "#19d3f3",
           "#FF6692",
           "#B6E880",
           "#FF97FF",
           "#FECB52"
          ],
          "font": {
           "color": "#2a3f5f"
          },
          "geo": {
           "bgcolor": "white",
           "lakecolor": "white",
           "landcolor": "#E5ECF6",
           "showlakes": true,
           "showland": true,
           "subunitcolor": "white"
          },
          "hoverlabel": {
           "align": "left"
          },
          "hovermode": "closest",
          "mapbox": {
           "style": "light"
          },
          "paper_bgcolor": "white",
          "plot_bgcolor": "#E5ECF6",
          "polar": {
           "angularaxis": {
            "gridcolor": "white",
            "linecolor": "white",
            "ticks": ""
           },
           "bgcolor": "#E5ECF6",
           "radialaxis": {
            "gridcolor": "white",
            "linecolor": "white",
            "ticks": ""
           }
          },
          "scene": {
           "xaxis": {
            "backgroundcolor": "#E5ECF6",
            "gridcolor": "white",
            "gridwidth": 2,
            "linecolor": "white",
            "showbackground": true,
            "ticks": "",
            "zerolinecolor": "white"
           },
           "yaxis": {
            "backgroundcolor": "#E5ECF6",
            "gridcolor": "white",
            "gridwidth": 2,
            "linecolor": "white",
            "showbackground": true,
            "ticks": "",
            "zerolinecolor": "white"
           },
           "zaxis": {
            "backgroundcolor": "#E5ECF6",
            "gridcolor": "white",
            "gridwidth": 2,
            "linecolor": "white",
            "showbackground": true,
            "ticks": "",
            "zerolinecolor": "white"
           }
          },
          "shapedefaults": {
           "line": {
            "color": "#2a3f5f"
           }
          },
          "ternary": {
           "aaxis": {
            "gridcolor": "white",
            "linecolor": "white",
            "ticks": ""
           },
           "baxis": {
            "gridcolor": "white",
            "linecolor": "white",
            "ticks": ""
           },
           "bgcolor": "#E5ECF6",
           "caxis": {
            "gridcolor": "white",
            "linecolor": "white",
            "ticks": ""
           }
          },
          "title": {
           "x": 0.05
          },
          "xaxis": {
           "automargin": true,
           "gridcolor": "white",
           "linecolor": "white",
           "ticks": "",
           "title": {
            "standoff": 15
           },
           "zerolinecolor": "white",
           "zerolinewidth": 2
          },
          "yaxis": {
           "automargin": true,
           "gridcolor": "white",
           "linecolor": "white",
           "ticks": "",
           "title": {
            "standoff": 15
           },
           "zerolinecolor": "white",
           "zerolinewidth": 2
          }
         }
        },
        "title": {
         "text": "Globe Visualization for Year 2016"
        }
       }
      }
     },
     "metadata": {},
     "output_type": "display_data"
    },
    {
     "data": {
      "application/vnd.plotly.v1+json": {
       "config": {
        "plotlyServerURL": "https://plot.ly"
       },
       "data": [
        {
         "colorbar": {
          "title": {
           "text": "GNI per capita (PPP)"
          }
         },
         "colorscale": [
          [
           0,
           "rgb(253, 253, 204)"
          ],
          [
           0.09090909090909091,
           "rgb(206, 236, 179)"
          ],
          [
           0.18181818181818182,
           "rgb(156, 219, 165)"
          ],
          [
           0.2727272727272727,
           "rgb(111, 201, 163)"
          ],
          [
           0.36363636363636365,
           "rgb(86, 177, 163)"
          ],
          [
           0.45454545454545453,
           "rgb(76, 153, 160)"
          ],
          [
           0.5454545454545454,
           "rgb(68, 130, 155)"
          ],
          [
           0.6363636363636364,
           "rgb(62, 108, 150)"
          ],
          [
           0.7272727272727273,
           "rgb(62, 82, 143)"
          ],
          [
           0.8181818181818182,
           "rgb(64, 60, 115)"
          ],
          [
           0.9090909090909091,
           "rgb(54, 43, 77)"
          ],
          [
           1,
           "rgb(39, 26, 44)"
          ]
         ],
         "locationmode": "country names",
         "locations": [
          "Zimbabwe",
          "Zambia",
          "Yemen",
          "Vietnam",
          "Venezuela",
          "Uzbekistan",
          "Uruguay",
          "United States",
          "United Kingdom",
          "United Arab Emirates",
          "Ukraine",
          "Uganda",
          "Turkmenistan",
          "Turkey",
          "Tunisia",
          "Togo",
          "Thailand",
          "Tanzania",
          "Tajikistan",
          "Switzerland",
          "Sweden",
          "Sri Lanka",
          "Spain",
          "South Africa",
          "Slovenia",
          "Slovakia",
          "Singapore",
          "Sierra Leone",
          "Serbia",
          "Senegal",
          "Saudi Arabia",
          "Rwanda",
          "Russia",
          "Romania",
          "Portugal",
          "Poland",
          "Philippines",
          "Peru",
          "Paraguay",
          "Panama",
          "Pakistan",
          "Norway",
          "Nigeria",
          "Niger",
          "Nicaragua",
          "New Zealand",
          "Netherlands",
          "Nepal",
          "Myanmar",
          "Morocco",
          "Montenegro",
          "Mongolia",
          "Moldova",
          "Mexico",
          "Mauritius",
          "Mauritania",
          "Malta",
          "Mali",
          "Malaysia",
          "Malawi",
          "Madagascar",
          "Luxembourg",
          "Lithuania",
          "Libya",
          "Liberia",
          "Lebanon",
          "Latvia",
          "Kyrgyzstan",
          "Kuwait",
          "Kenya",
          "Kazakhstan",
          "Jordan",
          "Japan",
          "Jamaica",
          "Italy",
          "Israel",
          "Ireland",
          "Iraq",
          "Iran",
          "Indonesia",
          "India",
          "Iceland",
          "Hungary",
          "Honduras",
          "Haiti",
          "Guinea",
          "Guatemala",
          "Greece",
          "Ghana",
          "Germany",
          "Georgia",
          "Gabon",
          "France",
          "Finland",
          "Ethiopia",
          "Estonia",
          "El Salvador",
          "Egypt",
          "Ecuador",
          "Dominican Republic",
          "Denmark",
          "Cyprus",
          "Croatia",
          "Costa Rica",
          "Colombia",
          "China",
          "China",
          "Chile",
          "Chad",
          "Canada",
          "Cameroon",
          "Cambodia",
          "Burundi",
          "Burkina Faso",
          "Bulgaria",
          "Brazil",
          "Botswana",
          "Bosnia and Herzegovina",
          "Bolivia",
          "Benin",
          "Belgium",
          "Belarus",
          "Bangladesh",
          "Bahrain",
          "Azerbaijan",
          "Austria",
          "Australia",
          "Armenia",
          "Argentina",
          "Algeria",
          "Albania",
          "Afghanistan"
         ],
         "type": "choropleth",
         "z": [
          2410,
          3370,
          null,
          5790,
          null,
          6460,
          19310,
          58340,
          41550,
          64640,
          7880,
          1750,
          12890,
          25340,
          9890,
          1440,
          15010,
          2740,
          3590,
          65450,
          49420,
          11270,
          34900,
          12240,
          30660,
          28950,
          81040,
          1570,
          14230,
          2910,
          49450,
          1710,
          23420,
          21130,
          28870,
          25880,
          8310,
          11180,
          11040,
          22810,
          4640,
          63030,
          5280,
          840,
          5150,
          36210,
          50340,
          2680,
          4180,
          7670,
          16700,
          9880,
          11290,
          17830,
          20860,
          3160,
          34280,
          1990,
          24120,
          990,
          1500,
          67590,
          27780,
          12740,
          1180,
          14920,
          24690,
          4460,
          52880,
          3330,
          23860,
          9140,
          41950,
          8520,
          36650,
          35130,
          52990,
          10220,
          13300,
          9910,
          5400,
          46480,
          25460,
          4490,
          1710,
          1790,
          7830,
          26940,
          5050,
          48770,
          11420,
          13480,
          41740,
          42950,
          1650,
          28570,
          7240,
          11160,
          10870,
          14130,
          50560,
          31510,
          22870,
          16310,
          13700,
          12880,
          57450,
          22010,
          1760,
          43990,
          3210,
          3180,
          840,
          1460,
          17820,
          14470,
          15310,
          12100,
          6890,
          2860,
          46870,
          19260,
          3790,
          42760,
          15020,
          49390,
          45330,
          12490,
          19650,
          11700,
          11800,
          2110
         ]
        }
       ],
       "layout": {
        "geo": {
         "projection": {
          "type": "natural earth"
         },
         "showcountries": true
        },
        "height": 300,
        "margin": {
         "b": 0,
         "l": 0,
         "r": 0,
         "t": 0
        },
        "template": {
         "data": {
          "bar": [
           {
            "error_x": {
             "color": "#2a3f5f"
            },
            "error_y": {
             "color": "#2a3f5f"
            },
            "marker": {
             "line": {
              "color": "#E5ECF6",
              "width": 0.5
             },
             "pattern": {
              "fillmode": "overlay",
              "size": 10,
              "solidity": 0.2
             }
            },
            "type": "bar"
           }
          ],
          "barpolar": [
           {
            "marker": {
             "line": {
              "color": "#E5ECF6",
              "width": 0.5
             },
             "pattern": {
              "fillmode": "overlay",
              "size": 10,
              "solidity": 0.2
             }
            },
            "type": "barpolar"
           }
          ],
          "carpet": [
           {
            "aaxis": {
             "endlinecolor": "#2a3f5f",
             "gridcolor": "white",
             "linecolor": "white",
             "minorgridcolor": "white",
             "startlinecolor": "#2a3f5f"
            },
            "baxis": {
             "endlinecolor": "#2a3f5f",
             "gridcolor": "white",
             "linecolor": "white",
             "minorgridcolor": "white",
             "startlinecolor": "#2a3f5f"
            },
            "type": "carpet"
           }
          ],
          "choropleth": [
           {
            "colorbar": {
             "outlinewidth": 0,
             "ticks": ""
            },
            "type": "choropleth"
           }
          ],
          "contour": [
           {
            "colorbar": {
             "outlinewidth": 0,
             "ticks": ""
            },
            "colorscale": [
             [
              0,
              "#0d0887"
             ],
             [
              0.1111111111111111,
              "#46039f"
             ],
             [
              0.2222222222222222,
              "#7201a8"
             ],
             [
              0.3333333333333333,
              "#9c179e"
             ],
             [
              0.4444444444444444,
              "#bd3786"
             ],
             [
              0.5555555555555556,
              "#d8576b"
             ],
             [
              0.6666666666666666,
              "#ed7953"
             ],
             [
              0.7777777777777778,
              "#fb9f3a"
             ],
             [
              0.8888888888888888,
              "#fdca26"
             ],
             [
              1,
              "#f0f921"
             ]
            ],
            "type": "contour"
           }
          ],
          "contourcarpet": [
           {
            "colorbar": {
             "outlinewidth": 0,
             "ticks": ""
            },
            "type": "contourcarpet"
           }
          ],
          "heatmap": [
           {
            "colorbar": {
             "outlinewidth": 0,
             "ticks": ""
            },
            "colorscale": [
             [
              0,
              "#0d0887"
             ],
             [
              0.1111111111111111,
              "#46039f"
             ],
             [
              0.2222222222222222,
              "#7201a8"
             ],
             [
              0.3333333333333333,
              "#9c179e"
             ],
             [
              0.4444444444444444,
              "#bd3786"
             ],
             [
              0.5555555555555556,
              "#d8576b"
             ],
             [
              0.6666666666666666,
              "#ed7953"
             ],
             [
              0.7777777777777778,
              "#fb9f3a"
             ],
             [
              0.8888888888888888,
              "#fdca26"
             ],
             [
              1,
              "#f0f921"
             ]
            ],
            "type": "heatmap"
           }
          ],
          "heatmapgl": [
           {
            "colorbar": {
             "outlinewidth": 0,
             "ticks": ""
            },
            "colorscale": [
             [
              0,
              "#0d0887"
             ],
             [
              0.1111111111111111,
              "#46039f"
             ],
             [
              0.2222222222222222,
              "#7201a8"
             ],
             [
              0.3333333333333333,
              "#9c179e"
             ],
             [
              0.4444444444444444,
              "#bd3786"
             ],
             [
              0.5555555555555556,
              "#d8576b"
             ],
             [
              0.6666666666666666,
              "#ed7953"
             ],
             [
              0.7777777777777778,
              "#fb9f3a"
             ],
             [
              0.8888888888888888,
              "#fdca26"
             ],
             [
              1,
              "#f0f921"
             ]
            ],
            "type": "heatmapgl"
           }
          ],
          "histogram": [
           {
            "marker": {
             "pattern": {
              "fillmode": "overlay",
              "size": 10,
              "solidity": 0.2
             }
            },
            "type": "histogram"
           }
          ],
          "histogram2d": [
           {
            "colorbar": {
             "outlinewidth": 0,
             "ticks": ""
            },
            "colorscale": [
             [
              0,
              "#0d0887"
             ],
             [
              0.1111111111111111,
              "#46039f"
             ],
             [
              0.2222222222222222,
              "#7201a8"
             ],
             [
              0.3333333333333333,
              "#9c179e"
             ],
             [
              0.4444444444444444,
              "#bd3786"
             ],
             [
              0.5555555555555556,
              "#d8576b"
             ],
             [
              0.6666666666666666,
              "#ed7953"
             ],
             [
              0.7777777777777778,
              "#fb9f3a"
             ],
             [
              0.8888888888888888,
              "#fdca26"
             ],
             [
              1,
              "#f0f921"
             ]
            ],
            "type": "histogram2d"
           }
          ],
          "histogram2dcontour": [
           {
            "colorbar": {
             "outlinewidth": 0,
             "ticks": ""
            },
            "colorscale": [
             [
              0,
              "#0d0887"
             ],
             [
              0.1111111111111111,
              "#46039f"
             ],
             [
              0.2222222222222222,
              "#7201a8"
             ],
             [
              0.3333333333333333,
              "#9c179e"
             ],
             [
              0.4444444444444444,
              "#bd3786"
             ],
             [
              0.5555555555555556,
              "#d8576b"
             ],
             [
              0.6666666666666666,
              "#ed7953"
             ],
             [
              0.7777777777777778,
              "#fb9f3a"
             ],
             [
              0.8888888888888888,
              "#fdca26"
             ],
             [
              1,
              "#f0f921"
             ]
            ],
            "type": "histogram2dcontour"
           }
          ],
          "mesh3d": [
           {
            "colorbar": {
             "outlinewidth": 0,
             "ticks": ""
            },
            "type": "mesh3d"
           }
          ],
          "parcoords": [
           {
            "line": {
             "colorbar": {
              "outlinewidth": 0,
              "ticks": ""
             }
            },
            "type": "parcoords"
           }
          ],
          "pie": [
           {
            "automargin": true,
            "type": "pie"
           }
          ],
          "scatter": [
           {
            "fillpattern": {
             "fillmode": "overlay",
             "size": 10,
             "solidity": 0.2
            },
            "type": "scatter"
           }
          ],
          "scatter3d": [
           {
            "line": {
             "colorbar": {
              "outlinewidth": 0,
              "ticks": ""
             }
            },
            "marker": {
             "colorbar": {
              "outlinewidth": 0,
              "ticks": ""
             }
            },
            "type": "scatter3d"
           }
          ],
          "scattercarpet": [
           {
            "marker": {
             "colorbar": {
              "outlinewidth": 0,
              "ticks": ""
             }
            },
            "type": "scattercarpet"
           }
          ],
          "scattergeo": [
           {
            "marker": {
             "colorbar": {
              "outlinewidth": 0,
              "ticks": ""
             }
            },
            "type": "scattergeo"
           }
          ],
          "scattergl": [
           {
            "marker": {
             "colorbar": {
              "outlinewidth": 0,
              "ticks": ""
             }
            },
            "type": "scattergl"
           }
          ],
          "scattermapbox": [
           {
            "marker": {
             "colorbar": {
              "outlinewidth": 0,
              "ticks": ""
             }
            },
            "type": "scattermapbox"
           }
          ],
          "scatterpolar": [
           {
            "marker": {
             "colorbar": {
              "outlinewidth": 0,
              "ticks": ""
             }
            },
            "type": "scatterpolar"
           }
          ],
          "scatterpolargl": [
           {
            "marker": {
             "colorbar": {
              "outlinewidth": 0,
              "ticks": ""
             }
            },
            "type": "scatterpolargl"
           }
          ],
          "scatterternary": [
           {
            "marker": {
             "colorbar": {
              "outlinewidth": 0,
              "ticks": ""
             }
            },
            "type": "scatterternary"
           }
          ],
          "surface": [
           {
            "colorbar": {
             "outlinewidth": 0,
             "ticks": ""
            },
            "colorscale": [
             [
              0,
              "#0d0887"
             ],
             [
              0.1111111111111111,
              "#46039f"
             ],
             [
              0.2222222222222222,
              "#7201a8"
             ],
             [
              0.3333333333333333,
              "#9c179e"
             ],
             [
              0.4444444444444444,
              "#bd3786"
             ],
             [
              0.5555555555555556,
              "#d8576b"
             ],
             [
              0.6666666666666666,
              "#ed7953"
             ],
             [
              0.7777777777777778,
              "#fb9f3a"
             ],
             [
              0.8888888888888888,
              "#fdca26"
             ],
             [
              1,
              "#f0f921"
             ]
            ],
            "type": "surface"
           }
          ],
          "table": [
           {
            "cells": {
             "fill": {
              "color": "#EBF0F8"
             },
             "line": {
              "color": "white"
             }
            },
            "header": {
             "fill": {
              "color": "#C8D4E3"
             },
             "line": {
              "color": "white"
             }
            },
            "type": "table"
           }
          ]
         },
         "layout": {
          "annotationdefaults": {
           "arrowcolor": "#2a3f5f",
           "arrowhead": 0,
           "arrowwidth": 1
          },
          "autotypenumbers": "strict",
          "coloraxis": {
           "colorbar": {
            "outlinewidth": 0,
            "ticks": ""
           }
          },
          "colorscale": {
           "diverging": [
            [
             0,
             "#8e0152"
            ],
            [
             0.1,
             "#c51b7d"
            ],
            [
             0.2,
             "#de77ae"
            ],
            [
             0.3,
             "#f1b6da"
            ],
            [
             0.4,
             "#fde0ef"
            ],
            [
             0.5,
             "#f7f7f7"
            ],
            [
             0.6,
             "#e6f5d0"
            ],
            [
             0.7,
             "#b8e186"
            ],
            [
             0.8,
             "#7fbc41"
            ],
            [
             0.9,
             "#4d9221"
            ],
            [
             1,
             "#276419"
            ]
           ],
           "sequential": [
            [
             0,
             "#0d0887"
            ],
            [
             0.1111111111111111,
             "#46039f"
            ],
            [
             0.2222222222222222,
             "#7201a8"
            ],
            [
             0.3333333333333333,
             "#9c179e"
            ],
            [
             0.4444444444444444,
             "#bd3786"
            ],
            [
             0.5555555555555556,
             "#d8576b"
            ],
            [
             0.6666666666666666,
             "#ed7953"
            ],
            [
             0.7777777777777778,
             "#fb9f3a"
            ],
            [
             0.8888888888888888,
             "#fdca26"
            ],
            [
             1,
             "#f0f921"
            ]
           ],
           "sequentialminus": [
            [
             0,
             "#0d0887"
            ],
            [
             0.1111111111111111,
             "#46039f"
            ],
            [
             0.2222222222222222,
             "#7201a8"
            ],
            [
             0.3333333333333333,
             "#9c179e"
            ],
            [
             0.4444444444444444,
             "#bd3786"
            ],
            [
             0.5555555555555556,
             "#d8576b"
            ],
            [
             0.6666666666666666,
             "#ed7953"
            ],
            [
             0.7777777777777778,
             "#fb9f3a"
            ],
            [
             0.8888888888888888,
             "#fdca26"
            ],
            [
             1,
             "#f0f921"
            ]
           ]
          },
          "colorway": [
           "#636efa",
           "#EF553B",
           "#00cc96",
           "#ab63fa",
           "#FFA15A",
           "#19d3f3",
           "#FF6692",
           "#B6E880",
           "#FF97FF",
           "#FECB52"
          ],
          "font": {
           "color": "#2a3f5f"
          },
          "geo": {
           "bgcolor": "white",
           "lakecolor": "white",
           "landcolor": "#E5ECF6",
           "showlakes": true,
           "showland": true,
           "subunitcolor": "white"
          },
          "hoverlabel": {
           "align": "left"
          },
          "hovermode": "closest",
          "mapbox": {
           "style": "light"
          },
          "paper_bgcolor": "white",
          "plot_bgcolor": "#E5ECF6",
          "polar": {
           "angularaxis": {
            "gridcolor": "white",
            "linecolor": "white",
            "ticks": ""
           },
           "bgcolor": "#E5ECF6",
           "radialaxis": {
            "gridcolor": "white",
            "linecolor": "white",
            "ticks": ""
           }
          },
          "scene": {
           "xaxis": {
            "backgroundcolor": "#E5ECF6",
            "gridcolor": "white",
            "gridwidth": 2,
            "linecolor": "white",
            "showbackground": true,
            "ticks": "",
            "zerolinecolor": "white"
           },
           "yaxis": {
            "backgroundcolor": "#E5ECF6",
            "gridcolor": "white",
            "gridwidth": 2,
            "linecolor": "white",
            "showbackground": true,
            "ticks": "",
            "zerolinecolor": "white"
           },
           "zaxis": {
            "backgroundcolor": "#E5ECF6",
            "gridcolor": "white",
            "gridwidth": 2,
            "linecolor": "white",
            "showbackground": true,
            "ticks": "",
            "zerolinecolor": "white"
           }
          },
          "shapedefaults": {
           "line": {
            "color": "#2a3f5f"
           }
          },
          "ternary": {
           "aaxis": {
            "gridcolor": "white",
            "linecolor": "white",
            "ticks": ""
           },
           "baxis": {
            "gridcolor": "white",
            "linecolor": "white",
            "ticks": ""
           },
           "bgcolor": "#E5ECF6",
           "caxis": {
            "gridcolor": "white",
            "linecolor": "white",
            "ticks": ""
           }
          },
          "title": {
           "x": 0.05
          },
          "xaxis": {
           "automargin": true,
           "gridcolor": "white",
           "linecolor": "white",
           "ticks": "",
           "title": {
            "standoff": 15
           },
           "zerolinecolor": "white",
           "zerolinewidth": 2
          },
          "yaxis": {
           "automargin": true,
           "gridcolor": "white",
           "linecolor": "white",
           "ticks": "",
           "title": {
            "standoff": 15
           },
           "zerolinecolor": "white",
           "zerolinewidth": 2
          }
         }
        },
        "title": {
         "text": "Globe Visualization for Year 2015"
        }
       }
      }
     },
     "metadata": {},
     "output_type": "display_data"
    }
   ],
   "source": [
    "import plotly.graph_objects as go\n",
    "\n",
    "# Iterate over the years in your dataset\n",
    "for year in data['Year'].unique():\n",
    "    # Filter the data for the current year\n",
    "    year_data = data[data['Year'] == year]\n",
    "\n",
    "    # Create a new figure for the current year\n",
    "    fig = go.Figure(go.Choropleth(\n",
    "        locations = year_data['Country'],\n",
    "        z = year_data['GNI_per_capita_PPP'],\n",
    "        locationmode = 'country names',\n",
    "        colorscale = 'deep',\n",
    "        colorbar = dict(title = 'GNI per capita (PPP)')\n",
    "    ))\n",
    "\n",
    "    # Set the layout properties for the current year\n",
    "    fig.update_layout(\n",
    "        title_text = f'Globe Visualization for Year {year}',\n",
    "        geo = dict(\n",
    "            projection_type = \"natural earth\",\n",
    "            showcountries = True\n",
    "        ),\n",
    "        height = 300,\n",
    "        margin = dict(r=0, t=0, l=0, b=0)\n",
    "    )\n",
    "\n",
    "    # Show the plot for the current year\n",
    "    fig.show()\n"
   ]
  },
  {
   "cell_type": "code",
   "execution_count": null,
   "metadata": {},
   "outputs": [],
   "source": []
  }
 ],
 "metadata": {
  "kernelspec": {
   "display_name": "Python 3 (ipykernel)",
   "language": "python",
   "name": "python3"
  },
  "language_info": {
   "codemirror_mode": {
    "name": "ipython",
    "version": 3
   },
   "file_extension": ".py",
   "mimetype": "text/x-python",
   "name": "python",
   "nbconvert_exporter": "python",
   "pygments_lexer": "ipython3",
   "version": "3.10.6"
  },
  "vscode": {
   "interpreter": {
    "hash": "916dbcbb3f70747c44a77c7bcd40155683ae19c65e1c03b4aa3499c5328201f1"
   }
  }
 },
 "nbformat": 4,
 "nbformat_minor": 2
}
