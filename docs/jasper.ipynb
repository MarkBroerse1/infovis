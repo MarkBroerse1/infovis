{
 "cells": [
  {
   "cell_type": "code",
   "execution_count": 1,
   "metadata": {},
   "outputs": [],
   "source": [
    "import pandas as pd\n",
    "import numpy as np\n",
    "import matplotlib.pyplot as plt\n",
    "import seaborn as sns\n",
    "import plotly.express as px\n",
    "import plotly.graph_objects as go"
   ]
  },
  {
   "cell_type": "code",
   "execution_count": 2,
   "metadata": {},
   "outputs": [
    {
     "name": "stdout",
     "output_type": "stream",
     "text": [
      "    Country  Year  Life_expectancy_at_birth  Expected_years_of_schooling   \n",
      "0  Zimbabwe  2018                    61.200                        10.45  \\\n",
      "1  Zimbabwe  2017                    60.812                        10.30   \n",
      "2  Zimbabwe  2016                    60.294                        10.30   \n",
      "3  Zimbabwe  2015                    59.534                        10.30   \n",
      "4    Zambia  2018                    63.510                        12.06   \n",
      "\n",
      "   Average_of_years_of_schooling  GNI_per_capita_PPP  life_expectancy_index   \n",
      "0                           8.34             2661.07                   0.63  \\\n",
      "1                           8.20             2860.00                   0.63   \n",
      "2                           8.20             2570.00                   0.62   \n",
      "3                           8.20             2410.00                   0.61   \n",
      "4                           7.10             3581.89                   0.67   \n",
      "\n",
      "   Education_Index  GNI_Index  HDI_1  ...  gdp_per_capita    family    health   \n",
      "0             0.58       0.50   0.56  ...        0.357000  0.000000  0.248000  \\\n",
      "1             0.57       0.51   0.55  ...        0.366000  0.000000  0.433000   \n",
      "2             0.57       0.49   0.55  ...        0.271000  1.032760  0.334750   \n",
      "3             0.57       0.48   0.54  ...        0.375847  1.083096  0.196764   \n",
      "4             0.60       0.54   0.59  ...        0.562000  0.000000  0.295000   \n",
      "\n",
      "    freedom  generosity  government_trust  dystopia_residual  continent   \n",
      "0  0.406000    0.132000          0.099000            0.00000     Africa  \\\n",
      "1  0.361000    0.151000          0.089000            0.00000     Africa   \n",
      "2  0.258610    0.189870          0.080790            2.44191     Africa   \n",
      "3  0.336384    0.189143          0.095375            1.59797     Africa   \n",
      "4  0.503000    0.221000          0.082000            0.00000     Africa   \n",
      "\n",
      "   social_support  cpi_score  \n",
      "0           1.094         22  \n",
      "1           1.114         22  \n",
      "2           0.000         22  \n",
      "3           0.000         21  \n",
      "4           1.047         35  \n",
      "\n",
      "[5 rows x 23 columns]\n"
     ]
    }
   ],
   "source": [
    "df = pd.read_csv('full_data.csv')\n",
    "\n",
    "print(df.head(n=5)) # Print the first 5 rows of the dataframe"
   ]
  }
 ],
 "metadata": {
  "kernelspec": {
   "display_name": "Python 3",
   "language": "python",
   "name": "python3"
  },
  "language_info": {
   "codemirror_mode": {
    "name": "ipython",
    "version": 3
   },
   "file_extension": ".py",
   "mimetype": "text/x-python",
   "name": "python",
   "nbconvert_exporter": "python",
   "pygments_lexer": "ipython3",
   "version": "3.11.0"
  },
  "orig_nbformat": 4
 },
 "nbformat": 4,
 "nbformat_minor": 2
}
