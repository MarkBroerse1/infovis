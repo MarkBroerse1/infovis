{
 "cells": [
  {
   "cell_type": "code",
   "execution_count": 50,
   "metadata": {},
   "outputs": [],
   "source": [
    "import pandas as pd\n",
    "import numpy as np\n",
    "import matplotlib.pyplot as plt\n",
    "import seaborn as sns\n",
    "import plotly.express as px\n",
    "import plotly.graph_objects as go"
   ]
  },
  {
   "cell_type": "code",
   "execution_count": 53,
   "metadata": {},
   "outputs": [
    {
     "name": "stdout",
     "output_type": "stream",
     "text": [
      "    Country  Year  Life_expectancy_at_birth  Expected_years_of_schooling   \n",
      "0  Zimbabwe  2018                    61.200                        10.45  \\\n",
      "1  Zimbabwe  2017                    60.812                        10.30   \n",
      "2  Zimbabwe  2016                    60.294                        10.30   \n",
      "3  Zimbabwe  2015                    59.534                        10.30   \n",
      "4    Zambia  2018                    63.510                        12.06   \n",
      "\n",
      "   Average_of_years_of_schooling  GNI_per_capita_PPP  life_expectancy_index   \n",
      "0                           8.34             2661.07                   0.63  \\\n",
      "1                           8.20             2860.00                   0.63   \n",
      "2                           8.20             2570.00                   0.62   \n",
      "3                           8.20             2410.00                   0.61   \n",
      "4                           7.10             3581.89                   0.67   \n",
      "\n",
      "   Education_Index  GNI_Index  HDI_1  ...  gdp_per_capita    family    health   \n",
      "0             0.58       0.50   0.56  ...        0.357000  0.000000  0.248000  \\\n",
      "1             0.57       0.51   0.55  ...        0.366000  0.000000  0.433000   \n",
      "2             0.57       0.49   0.55  ...        0.271000  1.032760  0.334750   \n",
      "3             0.57       0.48   0.54  ...        0.375847  1.083096  0.196764   \n",
      "4             0.60       0.54   0.59  ...        0.562000  0.000000  0.295000   \n",
      "\n",
      "    freedom  generosity  government_trust  dystopia_residual  continent   \n",
      "0  0.406000    0.132000          0.099000            0.00000     Africa  \\\n",
      "1  0.361000    0.151000          0.089000            0.00000     Africa   \n",
      "2  0.258610    0.189870          0.080790            2.44191     Africa   \n",
      "3  0.336384    0.189143          0.095375            1.59797     Africa   \n",
      "4  0.503000    0.221000          0.082000            0.00000     Africa   \n",
      "\n",
      "   social_support  cpi_score  \n",
      "0           1.094         22  \n",
      "1           1.114         22  \n",
      "2           0.000         22  \n",
      "3           0.000         21  \n",
      "4           1.047         35  \n",
      "\n",
      "[5 rows x 23 columns]\n"
     ]
    }
   ],
   "source": [
    "df = pd.read_csv('full_data.csv')\n",
    "\n",
    "print(df.head(n=5)) # Print the first 5 rows of the dataframe\n",
    "\n",
    "df_1 = pd.read_csv('full_data.csv')\n",
    "\n",
    "# selects the columns to get the mean\n",
    "columns_to_mean = ['Education_Index', 'government_trust', 'cpi_score', 'gdp_per_capita', 'freedom']\n",
    "\n",
    "df_mean = df_1.groupby('Country')[columns_to_mean].mean()\n",
    "\n",
    "# Reset the index to convert 'country' from the index to a regular column\n",
    "df_mean.reset_index(inplace=True)\n",
    "df_mean = df_mean.round(4)\n",
    "\n",
    "df_mean = pd.merge(df_mean, df_1[['Country', 'continent']], on='Country')\n",
    "\n",
    "# Display the mean DataFrame\n",
    "print(df_mean)\n",
    "\n",
    "df_mean.to_csv('mean_data.csv', index=False)\n",
    "\n",
    "\n",
    "\n",
    "\n",
    "\n"
   ]
  },
  {
   "attachments": {},
   "cell_type": "markdown",
   "metadata": {},
   "source": [
    "education and goverment trust:\n"
   ]
  },
  {
   "cell_type": "code",
   "execution_count": 52,
   "metadata": {},
   "outputs": [
    {
     "ename": "ValueError",
     "evalue": "Mime type rendering requires nbformat>=4.2.0 but it is not installed",
     "output_type": "error",
     "traceback": [
      "\u001b[0;31m---------------------------------------------------------------------------\u001b[0m",
      "\u001b[0;31mValueError\u001b[0m                                Traceback (most recent call last)",
      "\u001b[1;32m/Users/jaspervalk/Documents/datastories/infovis/infovis-1/docs/jasper.ipynb Cell 4\u001b[0m in \u001b[0;36m3\n\u001b[1;32m     <a href='vscode-notebook-cell:/Users/jaspervalk/Documents/datastories/infovis/infovis-1/docs/jasper.ipynb#W3sZmlsZQ%3D%3D?line=20'>21</a>\u001b[0m fig\u001b[39m.\u001b[39mupdate_layout(\n\u001b[1;32m     <a href='vscode-notebook-cell:/Users/jaspervalk/Documents/datastories/infovis/infovis-1/docs/jasper.ipynb#W3sZmlsZQ%3D%3D?line=21'>22</a>\u001b[0m     title\u001b[39m=\u001b[39m{\n\u001b[1;32m     <a href='vscode-notebook-cell:/Users/jaspervalk/Documents/datastories/infovis/infovis-1/docs/jasper.ipynb#W3sZmlsZQ%3D%3D?line=22'>23</a>\u001b[0m         \u001b[39m'\u001b[39m\u001b[39mtext\u001b[39m\u001b[39m'\u001b[39m: \u001b[39m'\u001b[39m\u001b[39mMultivariate 3D Scatter Plot\u001b[39m\u001b[39m'\u001b[39m,\n\u001b[0;32m   (...)\u001b[0m\n\u001b[1;32m     <a href='vscode-notebook-cell:/Users/jaspervalk/Documents/datastories/infovis/infovis-1/docs/jasper.ipynb#W3sZmlsZQ%3D%3D?line=28'>29</a>\u001b[0m     title_font_size\u001b[39m=\u001b[39m\u001b[39m20\u001b[39m\n\u001b[1;32m     <a href='vscode-notebook-cell:/Users/jaspervalk/Documents/datastories/infovis/infovis-1/docs/jasper.ipynb#W3sZmlsZQ%3D%3D?line=29'>30</a>\u001b[0m )\n\u001b[1;32m     <a href='vscode-notebook-cell:/Users/jaspervalk/Documents/datastories/infovis/infovis-1/docs/jasper.ipynb#W3sZmlsZQ%3D%3D?line=30'>31</a>\u001b[0m \u001b[39m# Show the plot\u001b[39;00m\n\u001b[0;32m---> <a href='vscode-notebook-cell:/Users/jaspervalk/Documents/datastories/infovis/infovis-1/docs/jasper.ipynb#W3sZmlsZQ%3D%3D?line=31'>32</a>\u001b[0m fig\u001b[39m.\u001b[39;49mshow()\n",
      "File \u001b[0;32m/Library/Frameworks/Python.framework/Versions/3.11/lib/python3.11/site-packages/plotly/basedatatypes.py:3409\u001b[0m, in \u001b[0;36mBaseFigure.show\u001b[0;34m(self, *args, **kwargs)\u001b[0m\n\u001b[1;32m   3376\u001b[0m \u001b[39m\"\"\"\u001b[39;00m\n\u001b[1;32m   3377\u001b[0m \u001b[39mShow a figure using either the default renderer(s) or the renderer(s)\u001b[39;00m\n\u001b[1;32m   3378\u001b[0m \u001b[39mspecified by the renderer argument\u001b[39;00m\n\u001b[0;32m   (...)\u001b[0m\n\u001b[1;32m   3405\u001b[0m \u001b[39mNone\u001b[39;00m\n\u001b[1;32m   3406\u001b[0m \u001b[39m\"\"\"\u001b[39;00m\n\u001b[1;32m   3407\u001b[0m \u001b[39mimport\u001b[39;00m \u001b[39mplotly\u001b[39;00m\u001b[39m.\u001b[39;00m\u001b[39mio\u001b[39;00m \u001b[39mas\u001b[39;00m \u001b[39mpio\u001b[39;00m\n\u001b[0;32m-> 3409\u001b[0m \u001b[39mreturn\u001b[39;00m pio\u001b[39m.\u001b[39;49mshow(\u001b[39mself\u001b[39;49m, \u001b[39m*\u001b[39;49margs, \u001b[39m*\u001b[39;49m\u001b[39m*\u001b[39;49mkwargs)\n",
      "File \u001b[0;32m/Library/Frameworks/Python.framework/Versions/3.11/lib/python3.11/site-packages/plotly/io/_renderers.py:396\u001b[0m, in \u001b[0;36mshow\u001b[0;34m(fig, renderer, validate, **kwargs)\u001b[0m\n\u001b[1;32m    391\u001b[0m         \u001b[39mraise\u001b[39;00m \u001b[39mValueError\u001b[39;00m(\n\u001b[1;32m    392\u001b[0m             \u001b[39m\"\u001b[39m\u001b[39mMime type rendering requires ipython but it is not installed\u001b[39m\u001b[39m\"\u001b[39m\n\u001b[1;32m    393\u001b[0m         )\n\u001b[1;32m    395\u001b[0m     \u001b[39mif\u001b[39;00m \u001b[39mnot\u001b[39;00m nbformat \u001b[39mor\u001b[39;00m Version(nbformat\u001b[39m.\u001b[39m__version__) \u001b[39m<\u001b[39m Version(\u001b[39m\"\u001b[39m\u001b[39m4.2.0\u001b[39m\u001b[39m\"\u001b[39m):\n\u001b[0;32m--> 396\u001b[0m         \u001b[39mraise\u001b[39;00m \u001b[39mValueError\u001b[39;00m(\n\u001b[1;32m    397\u001b[0m             \u001b[39m\"\u001b[39m\u001b[39mMime type rendering requires nbformat>=4.2.0 but it is not installed\u001b[39m\u001b[39m\"\u001b[39m\n\u001b[1;32m    398\u001b[0m         )\n\u001b[1;32m    400\u001b[0m     ipython_display\u001b[39m.\u001b[39mdisplay(bundle, raw\u001b[39m=\u001b[39m\u001b[39mTrue\u001b[39;00m)\n\u001b[1;32m    402\u001b[0m \u001b[39m# external renderers\u001b[39;00m\n",
      "\u001b[0;31mValueError\u001b[0m: Mime type rendering requires nbformat>=4.2.0 but it is not installed"
     ]
    }
   ],
   "source": [
    "\n",
    "# Scatterplot using plotly Express\n",
    "fig = px.scatter_3d(df_mean,\n",
    "                    x='Education_Index',\n",
    "                    y='government_trust',\n",
    "                    z='cpi_score',\n",
    "                    color='continent',\n",
    "                    size='gdp_per_capita',\n",
    "                    opacity=0.5,\n",
    "                    size_max=45,\n",
    "                    height=700,\n",
    "                    hover_data=['Country'])\n",
    "\n",
    "# Customize the layout\n",
    "fig.update_layout(scene=dict(\n",
    "    xaxis_title='Education Index',\n",
    "    yaxis_title='Government Trust',\n",
    "    zaxis_title='CPI Score'\n",
    "))\n",
    "\n",
    "# Makes Title \n",
    "fig.update_layout(\n",
    "    title={\n",
    "        'text': 'Multivariate 3D Scatter Plot',\n",
    "        'x': 0.45,\n",
    "        'y': 0.95,\n",
    "        'xanchor': 'center',\n",
    "        'yanchor': 'top'\n",
    "    },\n",
    "    title_font_size=20\n",
    ")\n",
    "# Show the plot\n",
    "fig.show()\n",
    "\n"
   ]
  },
  {
   "attachments": {},
   "cell_type": "markdown",
   "metadata": {},
   "source": [
    "### Does a good education give government trust?\n",
    "\n",
    "This 3d Scatter Plot is multivariate and shows on the x-axis the 'Education Index', on the y-axis the 'Government Trust' and on the z-axis the 'CPI Score'. CPI stands for 'Corruption Perception Index', how lower the CPI index, how more the people believe there is coruption in their country. The size of the plot-points shows the GDP per capita. \n",
    "\n",
    "The 3D scatter plot reveals interesting insights about the correlation between the Corruption Perception Index (CPI) score and other variables across countries. A positive correlation between the CPI score and variables such as Education Index and Government trust suggests that countries with higher levels of corruption tend to exhibit lower values in education, government trust, and economic prosperity. Conversely, a negative correlation indicates that countries with lower corruption levels tend to have higher education indices and greater levels of government trust. This visualization highlights the importance of addressing corruption to foster positive development in education amd trust within countries. \n",
    "\n",
    "The Education Index plays a significant role in shaping the relationships between various variables across countries and continents. A positive correlation between the Education Index and variables such as Government trust, GDP per capita, and possibly the Corruption Perception Index suggests that countries with higher education indices tend to exhibit greater levels of government trust and economic prosperity while combating corruption. Furthermore, the Education Index may influence the disparities observed between countries and continents. Nations with higher education indices are more likely to invest in quality education, leading to better governance, higher economic output, and potentially lower corruption levels. Thus, enhancing education systems becomes vital for promoting positive development and reducing inequality among countries and continents.\n",
    "\n",
    "Overall it gives the visualisation that countries with a higher inducation index tend to have more goverment trust and a higher CPI score. This is probaply because people that live in a country that is abled to give a good education tend to trust the goverment more than people that don't recieved good education. "
   ]
  }
 ],
 "metadata": {
  "kernelspec": {
   "display_name": "Python 3",
   "language": "python",
   "name": "python3"
  },
  "language_info": {
   "codemirror_mode": {
    "name": "ipython",
    "version": 3
   },
   "file_extension": ".py",
   "mimetype": "text/x-python",
   "name": "python",
   "nbconvert_exporter": "python",
   "pygments_lexer": "ipython3",
   "version": "3.11.0"
  },
  "orig_nbformat": 4
 },
 "nbformat": 4,
 "nbformat_minor": 2
}
